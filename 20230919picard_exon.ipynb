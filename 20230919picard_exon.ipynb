{
 "cells": [
  {
   "cell_type": "code",
   "execution_count": 1,
   "id": "refined-protest",
   "metadata": {},
   "outputs": [],
   "source": [
    "import pandas as pd \n",
    "import os"
   ]
  },
  {
   "cell_type": "code",
   "execution_count": 2,
   "id": "growing-machinery",
   "metadata": {},
   "outputs": [],
   "source": [
    "files = (os.listdir(\"/SGRNJ06/randd/USER/cjj/celedev/rna/20230919picard\"))"
   ]
  },
  {
   "cell_type": "code",
   "execution_count": 3,
   "id": "continental-residence",
   "metadata": {},
   "outputs": [],
   "source": [
    "files = [f\"/SGRNJ06/randd/USER/cjj/celedev/rna/20230919picard/{i}\" for i in files]"
   ]
  },
  {
   "cell_type": "code",
   "execution_count": 4,
   "id": "charged-finder",
   "metadata": {},
   "outputs": [],
   "source": [
    "files = sorted(files)"
   ]
  },
  {
   "cell_type": "code",
   "execution_count": 5,
   "id": "northern-edgar",
   "metadata": {},
   "outputs": [],
   "source": [
    "del files[-1]"
   ]
  },
  {
   "cell_type": "code",
   "execution_count": 6,
   "id": "exceptional-genre",
   "metadata": {},
   "outputs": [
    {
     "data": {
      "text/plain": [
       "['/SGRNJ06/randd/USER/cjj/celedev/rna/20230919picard/20231106.mapfile',\n",
       " '/SGRNJ06/randd/USER/cjj/celedev/rna/20230919picard/K562_18TL_bulk_NL',\n",
       " '/SGRNJ06/randd/USER/cjj/celedev/rna/20230919picard/K562_18TL_bulk_NL_picard',\n",
       " '/SGRNJ06/randd/USER/cjj/celedev/rna/20230919picard/K562_18TL_bulk_NL_top1000.tsv',\n",
       " '/SGRNJ06/randd/USER/cjj/celedev/rna/20230919picard/K562_18T_bulk_NL',\n",
       " '/SGRNJ06/randd/USER/cjj/celedev/rna/20230919picard/K562_18T_bulk_NL_picard',\n",
       " '/SGRNJ06/randd/USER/cjj/celedev/rna/20230919picard/K562_18T_bulk_NL_top1000.tsv',\n",
       " '/SGRNJ06/randd/USER/cjj/celedev/rna/20230919picard/gene_count.tsv',\n",
       " '/SGRNJ06/randd/USER/cjj/celedev/rna/20230919picard/gene_read_count.txt',\n",
       " '/SGRNJ06/randd/USER/cjj/celedev/rna/20230919picard/log',\n",
       " '/SGRNJ06/randd/USER/cjj/celedev/rna/20230919picard/merge.xls',\n",
       " '/SGRNJ06/randd/USER/cjj/celedev/rna/20230919picard/run.sh',\n",
       " '/SGRNJ06/randd/USER/cjj/celedev/rna/20230919picard/run_picard.sh',\n",
       " '/SGRNJ06/randd/USER/cjj/celedev/rna/20230919picard/sjm']"
      ]
     },
     "execution_count": 6,
     "metadata": {},
     "output_type": "execute_result"
    }
   ],
   "source": [
    "files"
   ]
  },
  {
   "cell_type": "code",
   "execution_count": 20,
   "id": "strong-precipitation",
   "metadata": {},
   "outputs": [],
   "source": [
    "samples = [i.split('/')[-1] for i in files]"
   ]
  },
  {
   "cell_type": "code",
   "execution_count": 21,
   "id": "proof-resistance",
   "metadata": {},
   "outputs": [
    {
     "data": {
      "text/plain": [
       "['1_Nacl',\n",
       " '3_Nacl_pk',\n",
       " '4_W',\n",
       " '5_YS',\n",
       " '6_W_pk',\n",
       " 'CCRF_NaCl_3',\n",
       " 'CCRF_NaCl_PK_5',\n",
       " 'CCRF_YNaCl_6']"
      ]
     },
     "execution_count": 21,
     "metadata": {},
     "output_type": "execute_result"
    }
   ],
   "source": [
    "samples"
   ]
  },
  {
   "cell_type": "code",
   "execution_count": 22,
   "id": "capable-death",
   "metadata": {},
   "outputs": [],
   "source": [
    "target_metrics = [\"PCT_CODING_BASES\", \"PCT_UTR_BASES\", \"PCT_INTRONIC_BASES\", \"PCT_INTERGENIC_BASES\"]"
   ]
  },
  {
   "cell_type": "code",
   "execution_count": 26,
   "id": "damaged-headline",
   "metadata": {},
   "outputs": [],
   "source": [
    "out_file = open(\"/SGRNJ06/randd/USER/cjj/celedev/rna/20230919picard/result.txt\", 'w')\n",
    "for i in range(len(files)):\n",
    "    with open(files[i]) as fh:\n",
    "        for line in fh:\n",
    "            if not line:\n",
    "                break\n",
    "            if line.startswith('## METRICS CLASS'):\n",
    "                header = fh.readline().strip().split('\\t')\n",
    "                data = fh.readline().strip().split('\\t')\n",
    "                dict_log = dict(zip(header, data))\n",
    "                out_file.write(f\"Sample : {samples[i]}\\n\")\n",
    "                for metric in target_metrics:\n",
    "                    out_file.write(f\"{metric} : {dict_log[metric]}\\n\")\n",
    "        out_file.write('\\n')\n"
   ]
  },
  {
   "cell_type": "code",
   "execution_count": 27,
   "id": "streaming-journalism",
   "metadata": {},
   "outputs": [],
   "source": [
    "out_file.close()"
   ]
  },
  {
   "cell_type": "code",
   "execution_count": null,
   "id": "improved-warner",
   "metadata": {},
   "outputs": [],
   "source": []
  },
  {
   "cell_type": "code",
   "execution_count": 2,
   "id": "reasonable-adventure",
   "metadata": {},
   "outputs": [],
   "source": []
  },
  {
   "cell_type": "code",
   "execution_count": 45,
   "id": "possible-warehouse",
   "metadata": {},
   "outputs": [],
   "source": [
    "# picard markduplicates\n",
    "files = (os.listdir(\"/SGRNJ06/randd/USER/cjj/celedev/rna/picard_markduplicates/20230922\"))"
   ]
  },
  {
   "cell_type": "code",
   "execution_count": 46,
   "id": "casual-rehabilitation",
   "metadata": {},
   "outputs": [],
   "source": [
    "files = [f\"/SGRNJ06/randd/USER/cjj/celedev/rna/picard_markduplicates/20230922/{i}\" for i in files]"
   ]
  },
  {
   "cell_type": "code",
   "execution_count": 47,
   "id": "residential-protein",
   "metadata": {},
   "outputs": [],
   "source": [
    "files = [i for i in files if i.endswith(\"txt\")]"
   ]
  },
  {
   "cell_type": "code",
   "execution_count": 48,
   "id": "cultural-reach",
   "metadata": {},
   "outputs": [],
   "source": [
    "files = sorted(files)"
   ]
  },
  {
   "cell_type": "code",
   "execution_count": 49,
   "id": "requested-heater",
   "metadata": {},
   "outputs": [
    {
     "data": {
      "text/plain": [
       "['/SGRNJ06/randd/USER/cjj/celedev/rna/picard_markduplicates/20230922/1_Nacl_marked_dup_metrics.txt',\n",
       " '/SGRNJ06/randd/USER/cjj/celedev/rna/picard_markduplicates/20230922/3_Nacl_pk_marked_dup_metrics.txt',\n",
       " '/SGRNJ06/randd/USER/cjj/celedev/rna/picard_markduplicates/20230922/4_W_marked_dup_metrics.txt',\n",
       " '/SGRNJ06/randd/USER/cjj/celedev/rna/picard_markduplicates/20230922/5_YS_marked_dup_metrics.txt',\n",
       " '/SGRNJ06/randd/USER/cjj/celedev/rna/picard_markduplicates/20230922/6_W_pk_marked_dup_metrics.txt',\n",
       " '/SGRNJ06/randd/USER/cjj/celedev/rna/picard_markduplicates/20230922/CCRF_NaCl_3_marked_dup_metrics.txt',\n",
       " '/SGRNJ06/randd/USER/cjj/celedev/rna/picard_markduplicates/20230922/CCRF_NaCl_PK_5_marked_dup_metrics.txt',\n",
       " '/SGRNJ06/randd/USER/cjj/celedev/rna/picard_markduplicates/20230922/CCRF_YNaCl_6_marked_dup_metrics.txt']"
      ]
     },
     "execution_count": 49,
     "metadata": {},
     "output_type": "execute_result"
    }
   ],
   "source": [
    "files"
   ]
  },
  {
   "cell_type": "code",
   "execution_count": 50,
   "id": "complicated-simon",
   "metadata": {},
   "outputs": [],
   "source": [
    "samples = [i.split('/')[-1].replace('_marked_dup_metrics.txt', '') for i in files]"
   ]
  },
  {
   "cell_type": "code",
   "execution_count": 51,
   "id": "possible-antarctica",
   "metadata": {},
   "outputs": [
    {
     "data": {
      "text/plain": [
       "['1_Nacl',\n",
       " '3_Nacl_pk',\n",
       " '4_W',\n",
       " '5_YS',\n",
       " '6_W_pk',\n",
       " 'CCRF_NaCl_3',\n",
       " 'CCRF_NaCl_PK_5',\n",
       " 'CCRF_YNaCl_6']"
      ]
     },
     "execution_count": 51,
     "metadata": {},
     "output_type": "execute_result"
    }
   ],
   "source": [
    "samples"
   ]
  },
  {
   "cell_type": "code",
   "execution_count": 52,
   "id": "through-workstation",
   "metadata": {},
   "outputs": [],
   "source": [
    "target_metrics = [\"PERCENT_DUPLICATION\"]"
   ]
  },
  {
   "cell_type": "code",
   "execution_count": 53,
   "id": "suspended-paragraph",
   "metadata": {},
   "outputs": [],
   "source": [
    "out_file = open(\"/SGRNJ06/randd/USER/cjj/celedev/rna/picard_markduplicates/20230922/result.txt\", 'w')\n",
    "for i in range(len(files)):\n",
    "    with open(files[i]) as fh:\n",
    "        for line in fh:\n",
    "            if not line:\n",
    "                break\n",
    "            if line.startswith('## METRICS CLASS'):\n",
    "                header = fh.readline().strip().split('\\t')\n",
    "                data = fh.readline().strip().split('\\t')\n",
    "                dict_log = dict(zip(header, data))\n",
    "                out_file.write(f\"Sample : {samples[i]}\\n\")\n",
    "                for metric in target_metrics:\n",
    "                    out_file.write(f\"{metric} : {dict_log[metric]}\\n\")\n",
    "        out_file.write('\\n')"
   ]
  },
  {
   "cell_type": "code",
   "execution_count": 54,
   "id": "second-vitamin",
   "metadata": {},
   "outputs": [],
   "source": [
    "out_file.close()"
   ]
  },
  {
   "cell_type": "code",
   "execution_count": null,
   "id": "thrown-treasury",
   "metadata": {},
   "outputs": [],
   "source": []
  }
 ],
 "metadata": {
  "kernelspec": {
   "display_name": "trust4_1.7",
   "language": "python",
   "name": "trust4_1.7"
  },
  "language_info": {
   "codemirror_mode": {
    "name": "ipython",
    "version": 3
   },
   "file_extension": ".py",
   "mimetype": "text/x-python",
   "name": "python",
   "nbconvert_exporter": "python",
   "pygments_lexer": "ipython3",
   "version": "3.7.10"
  }
 },
 "nbformat": 4,
 "nbformat_minor": 5
}
