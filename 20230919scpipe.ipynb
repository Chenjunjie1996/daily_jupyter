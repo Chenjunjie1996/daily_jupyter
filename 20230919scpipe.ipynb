{
 "cells": [
  {
   "cell_type": "code",
   "execution_count": 7,
   "id": "accepted-method",
   "metadata": {},
   "outputs": [],
   "source": [
    "library(\"scPipe\")"
   ]
  },
  {
   "cell_type": "code",
   "execution_count": null,
   "id": "fixed-constant",
   "metadata": {},
   "outputs": [],
   "source": [
    "output_folder = \"/SGRNJ06/randd/USER/cjj/celedev/atac/celescope_atac/20230918/human/A0824_5_3K_yisheng_wenxian_rapid_T7_6515TESDSTween_TD612_C16/02.atac\"\n",
    "organism = \"hg38\""
   ]
  },
  {
   "cell_type": "code",
   "execution_count": null,
   "id": "common-buffalo",
   "metadata": {},
   "outputs": [],
   "source": [
    "library(unix)\n",
    "#unix::rlimit_as(1e500, 1e500)"
   ]
  },
  {
   "cell_type": "code",
   "execution_count": null,
   "id": "helpful-deputy",
   "metadata": {},
   "outputs": [],
   "source": [
    "# Assigning reads to features and feature counting\n",
    "features          <- file.path(output_folder, \"NA_peaks.narrowPeak\")\n",
    "sc_atac_feature_counting (fragment_file = file.path(output_folder, \"fragments.bed\"),\n",
    "                          feature_input = features,\n",
    "                          bam_tags      = list(bc=\"CB\", mb=\"OX\"),\n",
    "                          feature_type  = \"peak\",\n",
    "                          organism      = organism,\n",
    "                          cell_calling  = FALSE,\n",
    "                          min_uniq_frags = 0,\n",
    "                          min_frac_peak = 0,\n",
    "                          min_frac_promoter = 0,\n",
    "                          yieldsize     = 888888,\n",
    "                          exclude_regions = TRUE,\n",
    "                          output_folder = output_folder,\n",
    "                          fix_chr       = \"none\",\n",
    "                          create_report = FALSE\n",
    "                          )"
   ]
  },
  {
   "cell_type": "code",
   "execution_count": null,
   "id": "religious-steps",
   "metadata": {},
   "outputs": [],
   "source": []
  },
  {
   "cell_type": "code",
   "execution_count": null,
   "id": "executive-remainder",
   "metadata": {},
   "outputs": [],
   "source": []
  },
  {
   "cell_type": "code",
   "execution_count": 10,
   "id": "geological-medication",
   "metadata": {},
   "outputs": [],
   "source": [
    "output_folder = \"/SGRNJ06/randd/USER/cjj/celedev/atac/celescope_atac/20230928/A0920_2_ME_1stYSVB_WX_D_T7_EDTA5030/02.atac/\"\n",
    "organism = \"mm10\""
   ]
  },
  {
   "cell_type": "code",
   "execution_count": 13,
   "id": "simplified-sewing",
   "metadata": {},
   "outputs": [
    {
     "name": "stderr",
     "output_type": "stream",
     "text": [
      "`peak`, `tss` or `gene` feature_type is selected for feature input\n",
      "\n",
      "Creating Galignment object for the feature input ...\n",
      "\n",
      "mm10is a recognized organism. Using annotation files in repository.\n",
      "\n",
      "Warning message in .merge_two_Seqinfo_objects(x, y):\n",
      "“Each of the 2 combined objects has sequence levels not in the other:\n",
      "  - in 'x': chr1_GL456210_random, chr1_GL456211_random, chr1_GL456221_random, chr3_KQ030484_fix, chr3_KZ289065_fix, chr4_GL456064_alt, chr4_GL456077_alt, chr4_JH584292_random, chr5_GL456354_random, chr5_JH584296_random, chr5_JH584297_random, chr5_JH584299_random, chr5_JH792827_fix, chr12_GL456068_alt, chrX_JH792831_fix, chrX_KZ289095_fix, chrUn_GL456239, chrUn_GL456367, chrUn_GL456372, chrUn_GL456379, chrUn_GL456381, chrUn_GL456382, chrUn_GL456383, chrUn_GL456385, chrUn_GL456387, chrUn_GL456389, chrUn_GL456390, chrUn_GL456392, chrUn_GL456393, chrna_GL456050_alt\n",
      "  - in 'y': chr1_GL456213_random, chr1_JH584320_alt, chr1_JH584322_alt, chr1_KK082441_alt, chr2_GL456024_alt, chr2_KV575235_fix, chr3_GL456006_alt, chr3_GL456007_alt, chr3_GL456042_alt, chr3_GL456044_alt, chr3_GL456045_alt, chr3_GL456048_alt, chr3_GL456049_alt, chr3_JH584323_alt, chr3_KZ289066_fix, chr4_GL456010_alt, chr4_GL456075_alt, chr4_GL456350_random, chr4_JH584269_alt, chr4_JH584293_random, chr4_JH584294_random, chr4_JH584325_alt, chr4_JH792826_fix, chr5_GL455995_alt, chr7_GL455989_alt, chr7_GL456014_alt, chr8_GL455996_alt, chr10_KZ289071_fix, chr11_GL455998_alt, chr11_KZ289073_alt, chr11_KZ289074_alt, chr11_KZ289075_alt, chr11_KZ289076_fix, chr11_KZ289078_alt, chr11_KZ289079_alt, chr12_GL456017_alt, chr12_KZ289082_fix, chr13_GL455990_alt, chr13_GL455999_alt, chr13_JH584305_alt, chr14_GL456019_alt, chr14_GL456020_alt, chr15_GL456000_alt, chr15_JH584270_alt, chr15_KV575241_fix, chr16_JH584307_alt, chr16_JH584311_alt, chr16_JH584312_alt, chr16_JH584313_alt, chr16_JH584314_alt, chr16_KB469741_fix, chr17_JH584308_alt, chr17_JH590470_alt, chr17_KZ289087_fix, chr17_KZ289088_fix, chr19_GL456079_alt, chr19_JH792830_fix, chrX_GL456004_alt, chrX_GL456032_alt, chrX_GL456033_alt\n",
      "  Make sure to always combine/compare objects based on the same reference\n",
      "  genome (use suppressWarnings() to suppress this warning).”\n",
      "Generating TSS plot data\n",
      "\n",
      "Generating feature-barcode fragment count matrix\n",
      "\n",
      "Average no. of fragments per barcode: 10.6164446118448\n",
      "\n",
      "\n",
      "Raw feature matrix generated: /SGRNJ06/randd/USER/cjj/celedev/atac/celescope_atac/20230928/A0920_2_ME_1stYSVB_WX_D_T7_EDTA5030/02.atac//unfiltered_feature_matrix.rds\n",
      "\n",
      "Calculating TSS enrichment scores\n",
      "\n",
      "Generating QC metrics for cells\n",
      "\n",
      "\n",
      "Warning message in .merge_two_Seqinfo_objects(x, y):\n",
      "“Each of the 2 combined objects has sequence levels not in the other:\n",
      "  - in 'x': chr1_GL456210_random, chr1_GL456211_random, chr1_GL456221_random, chr3_KQ030484_fix, chr3_KZ289065_fix, chr4_GL456064_alt, chr4_GL456077_alt, chr4_JH584292_random, chr5_GL456354_random, chr5_JH584296_random, chr5_JH584297_random, chr5_JH584299_random, chr5_JH792827_fix, chr12_GL456068_alt, chrX_JH792831_fix, chrX_KZ289095_fix, chrUn_GL456239, chrUn_GL456367, chrUn_GL456372, chrUn_GL456379, chrUn_GL456381, chrUn_GL456382, chrUn_GL456383, chrUn_GL456385, chrUn_GL456387, chrUn_GL456389, chrUn_GL456390, chrUn_GL456392, chrUn_GL456393, chrna_GL456050_alt\n",
      "  - in 'y': chr1_GL456213_random, chr1_JH584320_alt, chr1_JH584322_alt, chr1_KK082441_alt, chr2_GL456024_alt, chr2_KV575235_fix, chr3_GL456006_alt, chr3_GL456007_alt, chr3_GL456042_alt, chr3_GL456044_alt, chr3_GL456045_alt, chr3_GL456048_alt, chr3_GL456049_alt, chr3_JH584323_alt, chr3_KZ289066_fix, chr4_GL456010_alt, chr4_GL456075_alt, chr4_GL456350_random, chr4_JH584269_alt, chr4_JH584293_random, chr4_JH584294_random, chr4_JH584325_alt, chr4_JH792826_fix, chr5_GL455995_alt, chr7_GL455989_alt, chr7_GL456014_alt, chr8_GL455996_alt, chr10_KZ289071_fix, chr11_GL455998_alt, chr11_KZ289073_alt, chr11_KZ289074_alt, chr11_KZ289075_alt, chr11_KZ289076_fix, chr11_KZ289078_alt, chr11_KZ289079_alt, chr12_GL456017_alt, chr12_KZ289082_fix, chr13_GL455990_alt, chr13_GL455999_alt, chr13_JH584305_alt, chr14_GL456019_alt, chr14_GL456020_alt, chr15_GL456000_alt, chr15_JH584270_alt, chr15_KV575241_fix, chr16_JH584307_alt, chr16_JH584311_alt, chr16_JH584312_alt, chr16_JH584313_alt, chr16_JH584314_alt, chr16_KB469741_fix, chr17_JH584308_alt, chr17_JH590470_alt, chr17_KZ289087_fix, chr17_KZ289088_fix, chr19_GL456079_alt, chr19_JH792830_fix, chrX_GL456004_alt, chrX_GL456032_alt, chrX_GL456033_alt\n",
      "  Make sure to always combine/compare objects based on the same reference\n",
      "  genome (use suppressWarnings() to suppress this warning).”\n",
      "`FALSE` function is used for cell calling ... \n",
      "\n",
      "No cell calling method was selected.\n",
      "\n",
      "cell called and stored in /SGRNJ06/randd/USER/cjj/celedev/atac/celescope_atac/20230928/A0920_2_ME_1stYSVB_WX_D_T7_EDTA5030/02.atac/\n",
      "\n",
      "Cells with less than 200 counts are filtered out.\n",
      "\n",
      "Warning message in asMethod(object):\n",
      "“sparse->dense coercion: allocating vector of size 307.6 GiB”\n"
     ]
    },
    {
     "ename": "ERROR",
     "evalue": "Error: cannot allocate vector of size 307.6 Gb\n",
     "output_type": "error",
     "traceback": [
      "Error: cannot allocate vector of size 307.6 Gb\nTraceback:\n",
      "1. sc_atac_feature_counting(fragment_file = file.path(output_folder, \n .     \"fragments.bed\"), feature_input = features, bam_tags = list(bc = \"CB\", \n .     mb = \"OX\"), feature_type = \"peak\", organism = organism, cell_calling = FALSE, \n .     min_uniq_frags = 0, min_frac_peak = 0, min_frac_promoter = 0, \n .     yieldsize = 666666, exclude_regions = TRUE, output_folder = output_folder, \n .     fix_chr = \"none\", create_report = FALSE)",
      "2. base::colSums(Matrix::as.matrix(matrixData), na.rm = TRUE)",
      "3. is.data.frame(x)",
      "4. Matrix::as.matrix(matrixData)",
      "5. Matrix::as.matrix(matrixData)",
      "6. as(x, \"matrix\")",
      "7. asMethod(object)"
     ]
    }
   ],
   "source": [
    "# Assigning reads to features and feature counting\n",
    "features          <- file.path(output_folder, \"NA_peaks.narrowPeak\")\n",
    "sc_atac_feature_counting (fragment_file = file.path(output_folder, \"fragments.bed\"),\n",
    "                          feature_input = features,\n",
    "                          bam_tags      = list(bc=\"CB\", mb=\"OX\"),\n",
    "                          feature_type  = \"peak\",\n",
    "                          organism      = organism,\n",
    "                          cell_calling  = FALSE,\n",
    "                          min_uniq_frags = 0,\n",
    "                          min_frac_peak = 0,\n",
    "                          min_frac_promoter = 0,\n",
    "                          yieldsize     = 666666,\n",
    "                          exclude_regions = TRUE,\n",
    "                          output_folder = output_folder,\n",
    "                          fix_chr       = \"none\",\n",
    "                          create_report = FALSE\n",
    "                          )"
   ]
  },
  {
   "cell_type": "code",
   "execution_count": null,
   "id": "liable-combine",
   "metadata": {},
   "outputs": [],
   "source": []
  }
 ],
 "metadata": {
  "kernelspec": {
   "display_name": "scpipe",
   "language": "R",
   "name": "scpipe"
  },
  "language_info": {
   "codemirror_mode": "r",
   "file_extension": ".r",
   "mimetype": "text/x-r-source",
   "name": "R",
   "pygments_lexer": "r",
   "version": "4.3.1"
  }
 },
 "nbformat": 4,
 "nbformat_minor": 5
}
