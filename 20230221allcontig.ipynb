{
 "cells": [
  {
   "cell_type": "code",
   "execution_count": null,
   "id": "quality-appliance",
   "metadata": {},
   "outputs": [],
   "source": [
    "import pandas as pd \n",
    "import os \n",
    "import json\n",
    "import glob\n",
    "from celescope.tools import utils"
   ]
  },
  {
   "cell_type": "code",
   "execution_count": null,
   "id": "reported-commonwealth",
   "metadata": {},
   "outputs": [],
   "source": [
    "match_cell_barcodes, _ = utils.get_barcode_from_match_dir(\"/SGRNJ06/randd/USER/cjj/celedev/vdj10x/20230220beida/match_dir/WLR-K-CK\")"
   ]
  },
  {
   "cell_type": "code",
   "execution_count": null,
   "id": "asian-disease",
   "metadata": {},
   "outputs": [],
   "source": [
    "df = pd.read_csv(\"/SGRNJ06/randd/USER/cjj/celedev/vdj10x/20230220beida/cr4/WLR-K-T-CK-T/03.assemble/WLR-K-T-CK-T/outs/all_contig_annotations.csv\")"
   ]
  },
  {
   "cell_type": "code",
   "execution_count": null,
   "id": "incident-patrol",
   "metadata": {},
   "outputs": [],
   "source": [
    "df = df[df[\"productive\"]==True]"
   ]
  },
  {
   "cell_type": "code",
   "execution_count": null,
   "id": "smart-extreme",
   "metadata": {},
   "outputs": [],
   "source": [
    "df = df[df[\"high_confidence\"]==True]"
   ]
  },
  {
   "cell_type": "code",
   "execution_count": null,
   "id": "designing-blowing",
   "metadata": {},
   "outputs": [],
   "source": [
    "df.barcode = df.barcode.apply(lambda x: x.split('-')[0])"
   ]
  },
  {
   "cell_type": "code",
   "execution_count": null,
   "id": "legal-johnson",
   "metadata": {},
   "outputs": [],
   "source": [
    "with open(\"/SGRNJ06/randd/USER/cjj/celedev/vdj10x/20230220beida/cr4/WLR-K-T-CK-T/02.convert/barcode_convert.json\", 'r') as f:\n",
    "    load_dict = json.load(f)"
   ]
  },
  {
   "cell_type": "code",
   "execution_count": null,
   "id": "common-channels",
   "metadata": {},
   "outputs": [],
   "source": [
    "df.barcode = df.barcode.apply(lambda x: load_dict[x])"
   ]
  },
  {
   "cell_type": "code",
   "execution_count": null,
   "id": "attended-milan",
   "metadata": {},
   "outputs": [],
   "source": [
    "len(set(df.barcode))"
   ]
  },
  {
   "cell_type": "code",
   "execution_count": null,
   "id": "compact-xerox",
   "metadata": {},
   "outputs": [],
   "source": [
    "len(set(match_cell_barcodes))"
   ]
  },
  {
   "cell_type": "code",
   "execution_count": null,
   "id": "talented-albert",
   "metadata": {},
   "outputs": [],
   "source": [
    "len(set(df.barcode).intersection(match_cell_barcodes))"
   ]
  },
  {
   "cell_type": "code",
   "execution_count": null,
   "id": "interracial-block",
   "metadata": {},
   "outputs": [],
   "source": []
  },
  {
   "cell_type": "code",
   "execution_count": null,
   "id": "sunrise-tenant",
   "metadata": {},
   "outputs": [],
   "source": []
  },
  {
   "cell_type": "code",
   "execution_count": null,
   "id": "gross-accuracy",
   "metadata": {},
   "outputs": [],
   "source": [
    "df = pd.read_csv(\"/SGRNJ06/randd/USER/cjj/celedev/vdj10x/20230220beida/cr4/YSR-K-T-T/04.summarize/clonotypes.csv\")"
   ]
  },
  {
   "cell_type": "code",
   "execution_count": null,
   "id": "excessive-abuse",
   "metadata": {},
   "outputs": [],
   "source": [
    "df.shape[0]"
   ]
  },
  {
   "cell_type": "code",
   "execution_count": 16,
   "id": "separated-madison",
   "metadata": {},
   "outputs": [],
   "source": [
    "#path = \"/SGRNJ06/randd/USER/cjj/celedev/vdj10x/20230220beida/cr7/\"\n",
    "path = \"/SGRNJ06/randd/PROJECT/RD20073101_VDJ/SWB_2022/202203010_H_PBMC_10/\"\n",
    "#path = \"/SGRNJ06/randd/USER/cjj/celedev/vdj10x/20230131TCR\""
   ]
  },
  {
   "cell_type": "code",
   "execution_count": 17,
   "id": "tested-charge",
   "metadata": {},
   "outputs": [],
   "source": [
    "#clonotypes_list = glob.glob(f\"{path}/*/04.summarize/clonotypes.csv\")\n",
    "clonotypes_list = glob.glob(f\"{path}/*/05.match/matched_clonotypes.csv\")"
   ]
  },
  {
   "cell_type": "code",
   "execution_count": 18,
   "id": "small-saskatchewan",
   "metadata": {},
   "outputs": [],
   "source": [
    "sample_list = [i.split('/')[-3] for i in clonotypes_list]"
   ]
  },
  {
   "cell_type": "code",
   "execution_count": null,
   "id": "adjacent-thesaurus",
   "metadata": {},
   "outputs": [],
   "source": [
    "for i in range(len(clonotypes_list)):\n",
    "    df = pd.read_csv(clonotypes_list[i])\n",
    "    clonotypes_num = df.shape[0]\n",
    "    df.cdr3s_aa = df.cdr3s_aa.apply(lambda x: x.split(';'))\n",
    "    clonotypes_num_greater_two = df[df[\"cdr3s_aa\"].str.len()>2].shape[0]\n",
    "    clonotypes_num_greater_signle = df[df[\"cdr3s_aa\"].str.len()==1].shape[0]\n",
    "    df_pair = df[df[\"cdr3s_aa\"].str.len()==2]\n",
    "    df_pair.cdr3s_aa = df_pair.cdr3s_aa.apply(lambda x: ';'.join(x))\n",
    "    clonotypes_num_greater_pair = df_pair[(df_pair[\"cdr3s_aa\"].str.contains(\"TRA\")) & (df_pair[\"cdr3s_aa\"].str.contains(\"TRB\"))].shape[0]\n",
    "    \n",
    "    print(sample_list[i])\n",
    "    print(\"clonotypes_num_greater_two : \" , clonotypes_num_greater_two)\n",
    "    print(\"clonotypes_num_signle: \" , clonotypes_num_greater_signle)\n",
    "    print(\"clonotypes_num_TRA_TRB_pair : \" , clonotypes_num_greater_pair)\n",
    "    print('\\n')"
   ]
  },
  {
   "cell_type": "code",
   "execution_count": 21,
   "id": "postal-bracelet",
   "metadata": {},
   "outputs": [
    {
     "name": "stdout",
     "output_type": "stream",
     "text": [
      "Hum_0301PBMC2_10_B3lib\n",
      "clonotypes_num_greater_two :  17\n",
      "clonotypes_num_signle:  46\n",
      "clonotypes_num_IGH_IGK/L_pair :  431\n",
      "\n",
      "\n",
      "Hum_0301PBMC1_10_B3lib\n",
      "clonotypes_num_greater_two :  12\n",
      "clonotypes_num_signle:  61\n",
      "clonotypes_num_IGH_IGK/L_pair :  394\n",
      "\n",
      "\n"
     ]
    },
    {
     "name": "stderr",
     "output_type": "stream",
     "text": [
      "/Personal/chenjunjie/.local/lib/python3.7/site-packages/pandas/core/generic.py:5491: SettingWithCopyWarning: \n",
      "A value is trying to be set on a copy of a slice from a DataFrame.\n",
      "Try using .loc[row_indexer,col_indexer] = value instead\n",
      "\n",
      "See the caveats in the documentation: https://pandas.pydata.org/pandas-docs/stable/user_guide/indexing.html#returning-a-view-versus-a-copy\n",
      "  self[name] = value\n",
      "/Personal/chenjunjie/.local/lib/python3.7/site-packages/pandas/core/generic.py:5491: SettingWithCopyWarning: \n",
      "A value is trying to be set on a copy of a slice from a DataFrame.\n",
      "Try using .loc[row_indexer,col_indexer] = value instead\n",
      "\n",
      "See the caveats in the documentation: https://pandas.pydata.org/pandas-docs/stable/user_guide/indexing.html#returning-a-view-versus-a-copy\n",
      "  self[name] = value\n"
     ]
    }
   ],
   "source": [
    "for i in range(len(clonotypes_list)):\n",
    "    df = pd.read_csv(clonotypes_list[i])\n",
    "    clonotypes_num = df.shape[0]\n",
    "    df.cdr3s_aa = df.cdr3s_aa.apply(lambda x: x.split(';'))\n",
    "    clonotypes_num_greater_two = df[df[\"cdr3s_aa\"].str.len()>2].shape[0]\n",
    "    clonotypes_num_greater_signle = df[df[\"cdr3s_aa\"].str.len()==1].shape[0]\n",
    "    df_pair = df[df[\"cdr3s_aa\"].str.len()==2]\n",
    "    df_pair.cdr3s_aa = df_pair.cdr3s_aa.apply(lambda x: ';'.join(x))\n",
    "    df_pair = df_pair[df_pair[\"cdr3s_aa\"].str.contains(\"IGH\")]\n",
    "    clonotypes_num_greater_pair = df_pair[(df_pair[\"cdr3s_aa\"].str.contains(\"IGL\")) | (df_pair[\"cdr3s_aa\"].str.contains(\"IGK\"))].shape[0] \n",
    "    print(sample_list[i])\n",
    "    print(\"clonotypes_num_greater_two : \" , clonotypes_num_greater_two)\n",
    "    print(\"clonotypes_num_signle: \" , clonotypes_num_greater_signle)\n",
    "    print(\"clonotypes_num_IGH_IGK/L_pair : \" , clonotypes_num_greater_pair)\n",
    "    print('\\n')"
   ]
  },
  {
   "cell_type": "code",
   "execution_count": null,
   "id": "steady-moderator",
   "metadata": {},
   "outputs": [],
   "source": [
    "df_pair"
   ]
  },
  {
   "cell_type": "code",
   "execution_count": null,
   "id": "southwest-myanmar",
   "metadata": {},
   "outputs": [],
   "source": [
    "dff = pd.read_csv(\"/SGRNJ06/randd/USER/cjj/celedev/vdj10x/20230220beida/cr3/WLR-T-T-T/04.summarize/clonotypes.csv\")"
   ]
  },
  {
   "cell_type": "code",
   "execution_count": null,
   "id": "honey-influence",
   "metadata": {},
   "outputs": [],
   "source": [
    "dff"
   ]
  },
  {
   "cell_type": "code",
   "execution_count": null,
   "id": "metropolitan-hunger",
   "metadata": {},
   "outputs": [],
   "source": [
    "dff.cdr3s_aa = dff.cdr3s_aa.apply(lambda x: x.split(';'))"
   ]
  },
  {
   "cell_type": "code",
   "execution_count": null,
   "id": "outdoor-bailey",
   "metadata": {},
   "outputs": [],
   "source": [
    "dff.cdr3s_aa.str.len()"
   ]
  },
  {
   "cell_type": "code",
   "execution_count": null,
   "id": "mighty-republic",
   "metadata": {},
   "outputs": [],
   "source": [
    "dff[dff[\"cdr3s_aa\"].contains(\"TRA\")]"
   ]
  },
  {
   "cell_type": "code",
   "execution_count": null,
   "id": "initial-quantum",
   "metadata": {},
   "outputs": [],
   "source": [
    "dff.cdr3s_aa = dff.cdr3s_aa.apply(lambda x: ';'.join(x))"
   ]
  },
  {
   "cell_type": "code",
   "execution_count": null,
   "id": "located-precipitation",
   "metadata": {},
   "outputs": [],
   "source": [
    "dff"
   ]
  },
  {
   "cell_type": "code",
   "execution_count": null,
   "id": "latest-airfare",
   "metadata": {},
   "outputs": [],
   "source": []
  },
  {
   "cell_type": "code",
   "execution_count": null,
   "id": "convinced-interview",
   "metadata": {},
   "outputs": [],
   "source": [
    "    # tcr\n",
    "    df = pd.read_csv(\"/SGRNJ06/randd/USER/cjj/celedev/vdj10x/20230228circos/BP3_T_VDJ_10X/03.assemble/BP3_T_VDJ_10X/outs/clonotypes.csv\")\n",
    "    clonotypes_num = df.shape[0]\n",
    "    df.cdr3s_aa = df.cdr3s_aa.apply(lambda x: x.split(';'))\n",
    "    clonotypes_num_greater_two = df[df[\"cdr3s_aa\"].str.len()>2].shape[0]\n",
    "    clonotypes_num_greater_signle = df[df[\"cdr3s_aa\"].str.len()==1].shape[0]\n",
    "    df_pair = df[df[\"cdr3s_aa\"].str.len()==2]\n",
    "    df_pair.cdr3s_aa = df_pair.cdr3s_aa.apply(lambda x: ';'.join(x))\n",
    "    clonotypes_num_greater_pair = df_pair[(df_pair[\"cdr3s_aa\"].str.contains(\"TRA\")) & (df_pair[\"cdr3s_aa\"].str.contains(\"TRB\"))].shape[0]\n",
    "    \n",
    "    print(\"BP3_T_VDJ_10X\")\n",
    "    print(\"clonotypes_num_greater_two : \" , clonotypes_num_greater_two)\n",
    "    print(\"clonotypes_num_signle: \" , clonotypes_num_greater_signle)\n",
    "    print(\"clonotypes_num_TRA_TRB_pair : \" , clonotypes_num_greater_pair)\n",
    "    print('\\n')"
   ]
  },
  {
   "cell_type": "code",
   "execution_count": 20,
   "id": "disciplinary-mediterranean",
   "metadata": {},
   "outputs": [
    {
     "name": "stdout",
     "output_type": "stream",
     "text": [
      "ZXM0223-B-B_BCR\n",
      "clonotypes_num_greater_two :  9\n",
      "clonotypes_num_signle:  24\n",
      "clonotypes_num_IGH_IGK/L_pair :  380\n",
      "\n",
      "\n"
     ]
    },
    {
     "name": "stderr",
     "output_type": "stream",
     "text": [
      "/Personal/chenjunjie/.local/lib/python3.7/site-packages/pandas/core/generic.py:5491: SettingWithCopyWarning: \n",
      "A value is trying to be set on a copy of a slice from a DataFrame.\n",
      "Try using .loc[row_indexer,col_indexer] = value instead\n",
      "\n",
      "See the caveats in the documentation: https://pandas.pydata.org/pandas-docs/stable/user_guide/indexing.html#returning-a-view-versus-a-copy\n",
      "  self[name] = value\n"
     ]
    }
   ],
   "source": [
    "    # bcr\n",
    "    df = pd.read_csv(\"/SGRNJ06/bioinfo/PROJ04/PROJ_22.10X/P22102807_VDJ/20230309/ZXM0223-B-B_BCR/ZXM0223-B-B_VDJ_10X/outs/clonotypes.csv\")\n",
    "    clonotypes_num = df.shape[0]\n",
    "    df.cdr3s_aa = df.cdr3s_aa.apply(lambda x: x.split(';'))\n",
    "    clonotypes_num_greater_two = df[df[\"cdr3s_aa\"].str.len()>2].shape[0]\n",
    "    clonotypes_num_greater_signle = df[df[\"cdr3s_aa\"].str.len()==1].shape[0]\n",
    "    df_pair = df[df[\"cdr3s_aa\"].str.len()==2]\n",
    "    df_pair.cdr3s_aa = df_pair.cdr3s_aa.apply(lambda x: ';'.join(x))\n",
    "    df_pair = df_pair[df_pair[\"cdr3s_aa\"].str.contains(\"IGH\")]\n",
    "    clonotypes_num_greater_pair = df_pair[(df_pair[\"cdr3s_aa\"].str.contains(\"IGL\")) | (df_pair[\"cdr3s_aa\"].str.contains(\"IGK\"))].shape[0]\n",
    "    print(\"ZXM0223-B-B_BCR\")\n",
    "    print(\"clonotypes_num_greater_two : \" , clonotypes_num_greater_two)\n",
    "    print(\"clonotypes_num_signle: \" , clonotypes_num_greater_signle)\n",
    "    print(\"clonotypes_num_IGH_IGK/L_pair : \" , clonotypes_num_greater_pair)\n",
    "    print('\\n')"
   ]
  },
  {
   "cell_type": "code",
   "execution_count": null,
   "id": "requested-reply",
   "metadata": {},
   "outputs": [],
   "source": []
  },
  {
   "cell_type": "code",
   "execution_count": null,
   "id": "negative-tuition",
   "metadata": {},
   "outputs": [],
   "source": []
  },
  {
   "cell_type": "code",
   "execution_count": null,
   "id": "optimum-emission",
   "metadata": {},
   "outputs": [],
   "source": []
  },
  {
   "cell_type": "code",
   "execution_count": null,
   "id": "laden-eagle",
   "metadata": {},
   "outputs": [],
   "source": []
  },
  {
   "cell_type": "code",
   "execution_count": null,
   "id": "normal-classroom",
   "metadata": {},
   "outputs": [],
   "source": []
  },
  {
   "cell_type": "code",
   "execution_count": null,
   "id": "hazardous-house",
   "metadata": {},
   "outputs": [],
   "source": []
  },
  {
   "cell_type": "code",
   "execution_count": null,
   "id": "jewish-closing",
   "metadata": {},
   "outputs": [],
   "source": []
  }
 ],
 "metadata": {
  "kernelspec": {
   "display_name": "trust4_1.7",
   "language": "python",
   "name": "trust4_1.7"
  },
  "language_info": {
   "codemirror_mode": {
    "name": "ipython",
    "version": 3
   },
   "file_extension": ".py",
   "mimetype": "text/x-python",
   "name": "python",
   "nbconvert_exporter": "python",
   "pygments_lexer": "ipython3",
   "version": "3.7.10"
  }
 },
 "nbformat": 4,
 "nbformat_minor": 5
}
