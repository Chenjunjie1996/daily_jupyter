{
 "cells": [
  {
   "cell_type": "code",
   "execution_count": 20,
   "id": "eleven-celebration",
   "metadata": {},
   "outputs": [],
   "source": [
    "import pandas as pd \n",
    "import os\n",
    "import glob\n",
    "import pysam\n",
    "import numpy as np\n",
    "import json\n",
    "from celescope.tools import utils"
   ]
  },
  {
   "cell_type": "code",
   "execution_count": 70,
   "id": "apart-rouge",
   "metadata": {},
   "outputs": [],
   "source": [
    "path = \"/SGRNJ06/randd/USER/cjj/celedev/vdj10x/20230321beida_cellcall\""
   ]
  },
  {
   "cell_type": "code",
   "execution_count": 71,
   "id": "technical-handbook",
   "metadata": {},
   "outputs": [
    {
     "data": {
      "text/plain": [
       "['/SGRNJ06/randd/USER/cjj/celedev/vdj10x/20230321beida_cellcall/WLR-T-T-T/05.match/matched_contig_annotations.csv',\n",
       " '/SGRNJ06/randd/USER/cjj/celedev/vdj10x/20230321beida_cellcall/WLR-NC-T-CK-T/05.match/matched_contig_annotations.csv',\n",
       " '/SGRNJ06/randd/USER/cjj/celedev/vdj10x/20230321beida_cellcall/YSR-K-T-T/05.match/matched_contig_annotations.csv',\n",
       " '/SGRNJ06/randd/USER/cjj/celedev/vdj10x/20230321beida_cellcall/WLR-K-T-CK-T/05.match/matched_contig_annotations.csv']"
      ]
     },
     "execution_count": 71,
     "metadata": {},
     "output_type": "execute_result"
    }
   ],
   "source": [
    "glob.glob(f\"{path}/*/05.match/matched_contig_annotations.csv\")"
   ]
  },
  {
   "cell_type": "code",
   "execution_count": 87,
   "id": "innovative-salon",
   "metadata": {},
   "outputs": [],
   "source": [
    "df_match = pd.read_csv(\"/SGRNJ06/randd/USER/cjj/celedev/vdj10x/20230321beida_cellcall/WLR-NC-T-CK-T/05.match/matched_contig_annotations.csv\")"
   ]
  },
  {
   "cell_type": "code",
   "execution_count": 88,
   "id": "centered-transformation",
   "metadata": {},
   "outputs": [
    {
     "data": {
      "text/plain": [
       "86.4087646392142"
      ]
     },
     "execution_count": 88,
     "metadata": {},
     "output_type": "execute_result"
    }
   ],
   "source": [
    "np.mean(df_match.umis)"
   ]
  },
  {
   "cell_type": "code",
   "execution_count": 89,
   "id": "immune-bracket",
   "metadata": {},
   "outputs": [
    {
     "data": {
      "text/plain": [
       "41.0"
      ]
     },
     "execution_count": 89,
     "metadata": {},
     "output_type": "execute_result"
    }
   ],
   "source": [
    "np.median(df_match.umis)"
   ]
  },
  {
   "cell_type": "code",
   "execution_count": 90,
   "id": "loving-music",
   "metadata": {},
   "outputs": [
    {
     "data": {
      "text/plain": [
       "1096.883264072535"
      ]
     },
     "execution_count": 90,
     "metadata": {},
     "output_type": "execute_result"
    }
   ],
   "source": [
    "np.mean(df_match.reads)"
   ]
  },
  {
   "cell_type": "code",
   "execution_count": 91,
   "id": "failing-dining",
   "metadata": {},
   "outputs": [
    {
     "data": {
      "text/plain": [
       "574.0"
      ]
     },
     "execution_count": 91,
     "metadata": {},
     "output_type": "execute_result"
    }
   ],
   "source": [
    "np.median(df_match.reads)"
   ]
  },
  {
   "cell_type": "code",
   "execution_count": 77,
   "id": "desperate-brick",
   "metadata": {},
   "outputs": [
    {
     "name": "stderr",
     "output_type": "stream",
     "text": [
      "2023-03-28 18:02:36,812 - celescope.tools.utils.get_barcode_from_match_dir - INFO - start...\n",
      "2023-03-28 18:02:36,909 - celescope.tools.utils.get_barcode_from_match_dir - INFO - Barcode file:/SGRNJ06/randd/USER/cjj/celedev/vdj10x/20230220beida/match_dir/WLR-NC-CK/05.count/WLR-NC_matrix_10X/barcodes.tsv\n",
      "2023-03-28 18:02:36,960 - celescope.tools.utils.get_barcode_from_match_dir - INFO - done. time used: 0:00:00.145324\n"
     ]
    }
   ],
   "source": [
    "match_cell_barcodes, _ = utils.get_barcode_from_match_dir(\"/SGRNJ06/randd/USER/cjj/celedev/vdj10x/20230220beida/match_dir/WLR-NC-CK/\")"
   ]
  },
  {
   "cell_type": "code",
   "execution_count": 78,
   "id": "hydraulic-module",
   "metadata": {},
   "outputs": [],
   "source": [
    "df_all = pd.read_csv(\"/SGRNJ06/randd/USER/cjj/celedev/vdj10x/20230321beida_cellcall/WLR-NC-T-CK-T/03.assemble/WLR-NC-T-CK-T/outs/all_contig_annotations.csv\")"
   ]
  },
  {
   "cell_type": "code",
   "execution_count": 79,
   "id": "legal-firmware",
   "metadata": {},
   "outputs": [],
   "source": [
    "with open(\"/SGRNJ06/randd/USER/cjj/celedev/vdj10x/20230321beida_cellcall/WLR-NC-T-CK-T/02.convert/barcode_convert.json\", 'r') as f:\n",
    "    tenX_sgr = json.load(f)"
   ]
  },
  {
   "cell_type": "code",
   "execution_count": 80,
   "id": "random-leader",
   "metadata": {},
   "outputs": [],
   "source": [
    "df_all = df_all[df_all[\"productive\"]==True]\n",
    "df_all = df_all[df_all[\"high_confidence\"]==True]\n",
    "df_all = df_all[df_all[\"is_cell\"]==True]"
   ]
  },
  {
   "cell_type": "code",
   "execution_count": 81,
   "id": "secret-trance",
   "metadata": {},
   "outputs": [],
   "source": [
    "df_all['barcode'] = df_all['barcode'].apply(lambda x: tenX_sgr[x.split('-')[0]])"
   ]
  },
  {
   "cell_type": "code",
   "execution_count": 82,
   "id": "alternate-innocent",
   "metadata": {},
   "outputs": [],
   "source": [
    "df_not_match = df_all[~df_all[\"barcode\"].isin(match_cell_barcodes)]"
   ]
  },
  {
   "cell_type": "code",
   "execution_count": 83,
   "id": "thrown-federal",
   "metadata": {},
   "outputs": [
    {
     "data": {
      "text/plain": [
       "21.62957746478873"
      ]
     },
     "execution_count": 83,
     "metadata": {},
     "output_type": "execute_result"
    }
   ],
   "source": [
    "np.mean(df_not_match.umis)"
   ]
  },
  {
   "cell_type": "code",
   "execution_count": 84,
   "id": "jewish-sally",
   "metadata": {},
   "outputs": [
    {
     "data": {
      "text/plain": [
       "8.0"
      ]
     },
     "execution_count": 84,
     "metadata": {},
     "output_type": "execute_result"
    }
   ],
   "source": [
    "np.median(df_not_match.umis)"
   ]
  },
  {
   "cell_type": "code",
   "execution_count": 85,
   "id": "nonprofit-farming",
   "metadata": {},
   "outputs": [
    {
     "data": {
      "text/plain": [
       "235.3774647887324"
      ]
     },
     "execution_count": 85,
     "metadata": {},
     "output_type": "execute_result"
    }
   ],
   "source": [
    "np.mean(df_not_match.reads)"
   ]
  },
  {
   "cell_type": "code",
   "execution_count": 86,
   "id": "military-personality",
   "metadata": {},
   "outputs": [
    {
     "data": {
      "text/plain": [
       "88.5"
      ]
     },
     "execution_count": 86,
     "metadata": {},
     "output_type": "execute_result"
    }
   ],
   "source": [
    "np.median(df_not_match.reads)"
   ]
  },
  {
   "cell_type": "code",
   "execution_count": null,
   "id": "suffering-paintball",
   "metadata": {},
   "outputs": [],
   "source": []
  },
  {
   "cell_type": "code",
   "execution_count": null,
   "id": "personalized-playing",
   "metadata": {},
   "outputs": [],
   "source": []
  }
 ],
 "metadata": {
  "kernelspec": {
   "display_name": "trust4_1.7",
   "language": "python",
   "name": "trust4_1.7"
  },
  "language_info": {
   "codemirror_mode": {
    "name": "ipython",
    "version": 3
   },
   "file_extension": ".py",
   "mimetype": "text/x-python",
   "name": "python",
   "nbconvert_exporter": "python",
   "pygments_lexer": "ipython3",
   "version": "3.7.10"
  }
 },
 "nbformat": 4,
 "nbformat_minor": 5
}
