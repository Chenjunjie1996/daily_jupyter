{
 "cells": [
  {
   "cell_type": "code",
   "execution_count": 1,
   "id": "fixed-delivery",
   "metadata": {},
   "outputs": [],
   "source": [
    "import pysam\n",
    "from xopen import xopen\n",
    "import pandas as pd"
   ]
  },
  {
   "cell_type": "code",
   "execution_count": 15,
   "id": "biblical-watson",
   "metadata": {},
   "outputs": [],
   "source": [
    "in_fq1 = \"/SGRNJ07/Standard_Analysis/DATA05/limsdownload/23_08/2023_08_25/RD23020901/Hum_0630PBMC_1w_T3lib_JC/2023-08-25-8/R230816001_R1.fastq.gz\"\n",
    "in_fq2 = \"/SGRNJ07/Standard_Analysis/DATA05/limsdownload/23_08/2023_08_25/RD23020901/Hum_0630PBMC_1w_T3lib_JC/2023-08-25-8/R230816001_R2.fastq.gz\""
   ]
  },
  {
   "cell_type": "code",
   "execution_count": 16,
   "id": "differential-federal",
   "metadata": {},
   "outputs": [],
   "source": [
    "outfq1 = \"/SGRNJ06/randd/USER/cjj/celedev/vdj_bulk/20230830downsample/10g/rawdata/R230816001_2g_R1.fastq.gz\"\n",
    "outfq2 = \"/SGRNJ06/randd/USER/cjj/celedev/vdj_bulk/20230830downsample/10g/rawdata/R230816001_2g_R2.fastq.gz\""
   ]
  },
  {
   "cell_type": "code",
   "execution_count": 17,
   "id": "foreign-blood",
   "metadata": {},
   "outputs": [],
   "source": [
    "wl = \"/SGRNJ06/randd/PROJECT/RD20073101_ScRNA_VDJ/bulk_TCR/lzl_bulk/96_whitelist\""
   ]
  },
  {
   "cell_type": "code",
   "execution_count": null,
   "id": "allied-synthesis",
   "metadata": {},
   "outputs": [],
   "source": []
  },
  {
   "cell_type": "code",
   "execution_count": 18,
   "id": "challenging-hierarchy",
   "metadata": {},
   "outputs": [],
   "source": [
    "fh_fq1 = xopen(outfq1, 'w')\n",
    "fh_fq2 = xopen(outfq2, 'w')"
   ]
  },
  {
   "cell_type": "code",
   "execution_count": 21,
   "id": "metropolitan-pendant",
   "metadata": {},
   "outputs": [],
   "source": [
    "count = 0"
   ]
  },
  {
   "cell_type": "code",
   "execution_count": 22,
   "id": "immune-steal",
   "metadata": {},
   "outputs": [],
   "source": [
    "with pysam.FastxFile(in_fq1, persist=False) as fq1, pysam.FastxFile(in_fq2, persist=False) as fq2:\n",
    "    for entry1, entry2 in zip(fq1, fq2):\n",
    "        count += 1\n",
    "        if count > 30000000:\n",
    "            break\n",
    "        fh_fq1.write(f\"@{entry1.name}\\n{entry1.sequence}\\n+\\n{entry1.quality}\\n\")\n",
    "        fh_fq2.write(f\"@{entry2.name}\\n{entry2.sequence}\\n+\\n{entry2.quality}\\n\")"
   ]
  },
  {
   "cell_type": "code",
   "execution_count": 23,
   "id": "entire-registration",
   "metadata": {},
   "outputs": [],
   "source": [
    "fh_fq1.close()\n",
    "fh_fq2.close()"
   ]
  },
  {
   "cell_type": "code",
   "execution_count": 24,
   "id": "swedish-angola",
   "metadata": {},
   "outputs": [
    {
     "data": {
      "text/plain": [
       "30000001"
      ]
     },
     "execution_count": 24,
     "metadata": {},
     "output_type": "execute_result"
    }
   ],
   "source": [
    "count"
   ]
  },
  {
   "cell_type": "code",
   "execution_count": null,
   "id": "preceding-pulse",
   "metadata": {},
   "outputs": [],
   "source": []
  },
  {
   "cell_type": "code",
   "execution_count": null,
   "id": "assisted-commission",
   "metadata": {},
   "outputs": [],
   "source": [
    "# test_data"
   ]
  },
  {
   "cell_type": "code",
   "execution_count": null,
   "id": "together-publisher",
   "metadata": {},
   "outputs": [],
   "source": [
    "import pysam\n",
    "from xopen import xopen\n",
    "import pandas as pd\n",
    "from collections import Counter"
   ]
  },
  {
   "cell_type": "code",
   "execution_count": null,
   "id": "strange-prospect",
   "metadata": {},
   "outputs": [],
   "source": [
    "wl = pd.read_csv(\"/SGRNJ06/randd/PROJECT/RD20073101_ScRNA_VDJ/bulk_TCR/lzl_bulk/96_whitelist\", header=None)"
   ]
  },
  {
   "cell_type": "code",
   "execution_count": null,
   "id": "developing-melissa",
   "metadata": {},
   "outputs": [],
   "source": [
    "wl = wl.rename(columns={0:\"bc\"})"
   ]
  },
  {
   "cell_type": "code",
   "execution_count": null,
   "id": "blessed-neighborhood",
   "metadata": {},
   "outputs": [],
   "source": [
    "bcs = (list(wl.bc))"
   ]
  },
  {
   "cell_type": "code",
   "execution_count": null,
   "id": "general-domain",
   "metadata": {},
   "outputs": [],
   "source": [
    "res = Counter(bcs)"
   ]
  },
  {
   "cell_type": "code",
   "execution_count": null,
   "id": "relevant-lying",
   "metadata": {},
   "outputs": [],
   "source": [
    "res"
   ]
  },
  {
   "cell_type": "code",
   "execution_count": null,
   "id": "scenic-hybrid",
   "metadata": {},
   "outputs": [],
   "source": [
    "in_fq1 = \"/SGRNJ03/DATA04/23_07/2023_07_23/RD23020901/Hum_0711PBMC_96_T3lib/2023-07-23-15/R230712001_R1.fastq.gz\"\n",
    "in_fq2 = \"/SGRNJ03/DATA04/23_07/2023_07_23/RD23020901/Hum_0711PBMC_96_T3lib/2023-07-23-15/R230712001_R2.fastq.gz\""
   ]
  },
  {
   "cell_type": "code",
   "execution_count": null,
   "id": "laden-loading",
   "metadata": {},
   "outputs": [],
   "source": [
    "outfq1 = \"/SGRNJ06/randd/USER/cjj/celedev/vdj_bulk/20230811_96/test_data/test_1.fq.gz\"\n",
    "outfq2 = \"/SGRNJ06/randd/USER/cjj/celedev/vdj_bulk/20230811_96/test_data/test_2.fq.gz\""
   ]
  },
  {
   "cell_type": "code",
   "execution_count": null,
   "id": "rural-belize",
   "metadata": {},
   "outputs": [],
   "source": [
    "fh_fq1 = xopen(outfq1, 'w')\n",
    "fh_fq2 = xopen(outfq2, 'w')"
   ]
  },
  {
   "cell_type": "code",
   "execution_count": null,
   "id": "verbal-failure",
   "metadata": {},
   "outputs": [],
   "source": [
    "with pysam.FastxFile(in_fq1, persist=False) as fq1, pysam.FastxFile(in_fq2, persist=False) as fq2:\n",
    "    for entry1, entry2 in zip(fq1, fq2):\n",
    "        bc = entry1.sequence[18:24]\n",
    "        if bc in res:\n",
    "            res[bc] += 1\n",
    "            if res[bc] <= 2000:\n",
    "                fh_fq1.write(f\"@{entry1.name}\\n{entry1.sequence}\\n+\\n{entry1.quality}\\n\")\n",
    "                fh_fq2.write(f\"@{entry2.name}\\n{entry2.sequence}\\n+\\n{entry2.quality}\\n\")"
   ]
  },
  {
   "cell_type": "code",
   "execution_count": null,
   "id": "demographic-diversity",
   "metadata": {},
   "outputs": [],
   "source": [
    "fh_fq1.close()\n",
    "fh_fq2.close()"
   ]
  },
  {
   "cell_type": "code",
   "execution_count": null,
   "id": "guided-terrace",
   "metadata": {},
   "outputs": [],
   "source": []
  },
  {
   "cell_type": "code",
   "execution_count": null,
   "id": "tender-typing",
   "metadata": {},
   "outputs": [],
   "source": []
  },
  {
   "cell_type": "code",
   "execution_count": null,
   "id": "turkish-thunder",
   "metadata": {},
   "outputs": [],
   "source": []
  },
  {
   "cell_type": "code",
   "execution_count": null,
   "id": "lonely-contest",
   "metadata": {},
   "outputs": [],
   "source": []
  },
  {
   "cell_type": "code",
   "execution_count": 20,
   "id": "demographic-indiana",
   "metadata": {},
   "outputs": [],
   "source": [
    "import pysam\n",
    "from xopen import xopen\n",
    "import pandas as pd"
   ]
  },
  {
   "cell_type": "code",
   "execution_count": 22,
   "id": "together-explorer",
   "metadata": {},
   "outputs": [],
   "source": [
    "in_fq1 = \"/SGRNJ06/randd/USER/cjj/celedev/vdj_bulk/20231208downsample/rawdata/raw_R1.fastq.gz\"\n",
    "in_fq2 = \"/SGRNJ06/randd/USER/cjj/celedev/vdj_bulk/20231208downsample/rawdata/raw_R2.fastq.gz\""
   ]
  },
  {
   "cell_type": "code",
   "execution_count": 23,
   "id": "defined-chorus",
   "metadata": {},
   "outputs": [],
   "source": [
    "outfq1 = \"/SGRNJ06/randd/USER/cjj/celedev/vdj_bulk/20231208downsample/rawdata/downsample6g_1.fq.gz\"\n",
    "outfq2 = \"/SGRNJ06/randd/USER/cjj/celedev/vdj_bulk/20231208downsample/rawdata/downsample6g_2.fq.gz\""
   ]
  },
  {
   "cell_type": "code",
   "execution_count": 24,
   "id": "respected-departure",
   "metadata": {},
   "outputs": [],
   "source": [
    "fh_fq1 = xopen(outfq1, 'w')\n",
    "fh_fq2 = xopen(outfq2, 'w')"
   ]
  },
  {
   "cell_type": "code",
   "execution_count": 25,
   "id": "norwegian-auckland",
   "metadata": {},
   "outputs": [],
   "source": [
    "count = 0"
   ]
  },
  {
   "cell_type": "code",
   "execution_count": 26,
   "id": "stuffed-expert",
   "metadata": {},
   "outputs": [],
   "source": [
    "with pysam.FastxFile(in_fq1, persist=False) as fq1, pysam.FastxFile(in_fq2, persist=False) as fq2:\n",
    "    for entry1, entry2 in zip(fq1, fq2):\n",
    "        count += 1\n",
    "        if count > 18000000:\n",
    "            break\n",
    "        fh_fq1.write(f\"@{entry1.name}\\n{entry1.sequence}\\n+\\n{entry1.quality}\\n\")\n",
    "        fh_fq2.write(f\"@{entry2.name}\\n{entry2.sequence}\\n+\\n{entry2.quality}\\n\")"
   ]
  },
  {
   "cell_type": "code",
   "execution_count": 27,
   "id": "productive-folder",
   "metadata": {},
   "outputs": [],
   "source": [
    "fh_fq1.close()\n",
    "fh_fq2.close()"
   ]
  },
  {
   "cell_type": "code",
   "execution_count": null,
   "id": "indie-eligibility",
   "metadata": {},
   "outputs": [],
   "source": []
  }
 ],
 "metadata": {
  "kernelspec": {
   "display_name": "trust4_1.7",
   "language": "python",
   "name": "trust4_1.7"
  },
  "language_info": {
   "codemirror_mode": {
    "name": "ipython",
    "version": 3
   },
   "file_extension": ".py",
   "mimetype": "text/x-python",
   "name": "python",
   "nbconvert_exporter": "python",
   "pygments_lexer": "ipython3",
   "version": "3.7.10"
  }
 },
 "nbformat": 4,
 "nbformat_minor": 5
}
