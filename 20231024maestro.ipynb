{
 "cells": [
  {
   "cell_type": "code",
   "execution_count": 1,
   "id": "bright-trade",
   "metadata": {},
   "outputs": [],
   "source": [
    "import pandas as pd "
   ]
  },
  {
   "cell_type": "code",
   "execution_count": 2,
   "id": "corporate-hunger",
   "metadata": {
    "tags": []
   },
   "outputs": [],
   "source": [
    "def read_one_col(file):\n",
    "    \"\"\"\n",
    "    Read file with one column. Strip each line.\n",
    "    Returns col_list, line number\n",
    "    \"\"\"\n",
    "    df = pd.read_csv(file, header=None)\n",
    "    col1 = list(df.iloc[:, 0])\n",
    "    col1 = [item.strip() for item in col1]\n",
    "    num = len(col1)\n",
    "    return col1, num"
   ]
  },
  {
   "cell_type": "code",
   "execution_count": null,
   "id": "cleared-press",
   "metadata": {},
   "outputs": [],
   "source": [
    "\"/SGRNJ06/randd/USER/cjj/celedev/atac/MAESTRO/test/20231020_10x/downsample_R230621016/02.atac/Result/Analysis/downsample_R230621016\""
   ]
  },
  {
   "cell_type": "code",
   "execution_count": null,
   "id": "suitable-billy",
   "metadata": {},
   "outputs": [],
   "source": [
    "df_barcode = pd.read_csv(\"/SGRNJ06/randd/USER/cjj/celedev/atac/MAESTRO/test/20231020_10x/downsample_R230621016/02.atac/Result/QC/downsample_R230621016/singlecell.txt\", header=None, sep='\\t', names=[\"barcode\", \"fragments\", \"fragments_overlapping_promoter\"])"
   ]
  },
  {
   "cell_type": "code",
   "execution_count": null,
   "id": "beginning-delta",
   "metadata": {},
   "outputs": [],
   "source": [
    "df_barcode"
   ]
  },
  {
   "cell_type": "code",
   "execution_count": null,
   "id": "prime-warren",
   "metadata": {},
   "outputs": [],
   "source": [
    "cell_barcode = read_one_col(f\"/SGRNJ06/randd/USER/cjj/celedev/atac/MAESTRO/test/20231020_10x/downsample_R230621016/02.atac/Result/QC/downsample_R230621016/downsample_R230621016_scATAC_validcells.txt\")[0]"
   ]
  },
  {
   "cell_type": "code",
   "execution_count": null,
   "id": "wicked-simon",
   "metadata": {},
   "outputs": [],
   "source": [
    "df_cell_barcode = df_barcode[df_barcode[\"barcode\"].isin(cell_barcode)]"
   ]
  },
  {
   "cell_type": "code",
   "execution_count": null,
   "id": "recreational-evolution",
   "metadata": {},
   "outputs": [],
   "source": [
    "df_cell_barcode"
   ]
  },
  {
   "cell_type": "code",
   "execution_count": null,
   "id": "tired-singing",
   "metadata": {},
   "outputs": [],
   "source": [
    "peak_count_df = f\"/SGRNJ06/randd/USER/cjj/celedev/atac/MAESTRO/test/20231020_10x/downsample_R230621016/02.atac/Result/Analysis/downsample_R230621016/downsample_R230621016_peak_count.txt\""
   ]
  },
  {
   "cell_type": "code",
   "execution_count": null,
   "id": "public-pantyhose",
   "metadata": {},
   "outputs": [],
   "source": [
    "peak_count_df = pd.read_csv(peak_count_df)"
   ]
  },
  {
   "cell_type": "code",
   "execution_count": null,
   "id": "listed-accordance",
   "metadata": {},
   "outputs": [],
   "source": [
    "peak_count_df"
   ]
  },
  {
   "cell_type": "code",
   "execution_count": null,
   "id": "worse-preview",
   "metadata": {},
   "outputs": [],
   "source": [
    "pd.merge(df_cell_barcode, peak_count_df).sort_values('peak_count')"
   ]
  },
  {
   "cell_type": "code",
   "execution_count": null,
   "id": "legendary-stationery",
   "metadata": {},
   "outputs": [],
   "source": [
    "df_barcode"
   ]
  },
  {
   "cell_type": "code",
   "execution_count": null,
   "id": "according-member",
   "metadata": {},
   "outputs": [],
   "source": []
  },
  {
   "cell_type": "code",
   "execution_count": null,
   "id": "acoustic-barrier",
   "metadata": {},
   "outputs": [],
   "source": [
    "peak = pd.read_csv(\"/SGRNJ06/randd/USER/cjj/celedev/atac/MAESTRO/test/20231020_10x/downsample_R230621016/02.atac/Result/Analysis/downsample_R230621016/downsample_R230621016_final_peaks.bed\", header=None, sep='\\t', names=[\"chr\", \"start\", \"end\"])"
   ]
  },
  {
   "cell_type": "code",
   "execution_count": null,
   "id": "fixed-neutral",
   "metadata": {},
   "outputs": [],
   "source": [
    "frag = pd.read_csv(\"/SGRNJ06/randd/USER/cjj/celedev/atac/MAESTRO/test/20231020_10x/downsample_R230621016/02.atac/Result/Mapping/downsample_R230621016/fragments_corrected_count_sortedbybarcode.tsv\", header=None, sep='\\t', names=[\"chr\", \"start\", \"end\", \"barcode\", \"count\"])"
   ]
  },
  {
   "cell_type": "code",
   "execution_count": null,
   "id": "broken-tobacco",
   "metadata": {},
   "outputs": [],
   "source": [
    "peak['start'] = peak['start'].astype(str)\n",
    "peak['end'] = peak['end'].astype(str)\n",
    "\n",
    "frag['start'] = frag['start'].astype(str)\n",
    "frag['end'] = frag['end'].astype(str)"
   ]
  },
  {
   "cell_type": "code",
   "execution_count": null,
   "id": "super-contrast",
   "metadata": {},
   "outputs": [],
   "source": [
    "frag = frag.sort_values(['chr','start','end'])"
   ]
  },
  {
   "cell_type": "code",
   "execution_count": null,
   "id": "traditional-nitrogen",
   "metadata": {},
   "outputs": [],
   "source": [
    "peak = peak.sort_values(['chr','start','end'])"
   ]
  },
  {
   "cell_type": "code",
   "execution_count": null,
   "id": "abandoned-helmet",
   "metadata": {},
   "outputs": [],
   "source": [
    "frag"
   ]
  },
  {
   "cell_type": "code",
   "execution_count": null,
   "id": "healthy-inside",
   "metadata": {},
   "outputs": [],
   "source": [
    "peak"
   ]
  },
  {
   "cell_type": "code",
   "execution_count": null,
   "id": "ideal-immigration",
   "metadata": {},
   "outputs": [],
   "source": [
    "peak1 = peak[peak['chr'] == 'chr1']"
   ]
  },
  {
   "cell_type": "code",
   "execution_count": null,
   "id": "secret-honor",
   "metadata": {},
   "outputs": [],
   "source": [
    "final_df = pd.DataFrame()"
   ]
  },
  {
   "cell_type": "code",
   "execution_count": null,
   "id": "mechanical-romania",
   "metadata": {},
   "outputs": [],
   "source": [
    "for index_peak, data_peak in peak.iterrows():\n",
    "    peak_info = dict(data_peak)\n",
    "    # print(peak_info)\n",
    "    frag_chr = frag[frag['chr'] == peak_info['chr']]\n",
    "    # print(frag_chr)\n",
    "    frag_overlap_peak = frag_chr[ (frag_chr['start'] >= peak_info['start']) & (frag_chr['end'] <= peak_info['end'])] \n",
    "    # print(frag_overlap_peak)\n",
    "    final_df = pd.concat([final_df, frag_overlap_peak])\n",
    "    "
   ]
  },
  {
   "cell_type": "code",
   "execution_count": null,
   "id": "frozen-universal",
   "metadata": {},
   "outputs": [],
   "source": [
    "final_df_count = final_df.groupby('barcode', as_index=False).agg({'count': 'sum'}).sort_values('count')"
   ]
  },
  {
   "cell_type": "code",
   "execution_count": null,
   "id": "compact-worth",
   "metadata": {},
   "outputs": [],
   "source": [
    "final_df_count[final_df_count['barcode'] == 'ACACATCGATGCGGCT']"
   ]
  },
  {
   "cell_type": "code",
   "execution_count": null,
   "id": "closed-plasma",
   "metadata": {},
   "outputs": [],
   "source": [
    "final_df_count"
   ]
  },
  {
   "cell_type": "code",
   "execution_count": null,
   "id": "typical-leisure",
   "metadata": {},
   "outputs": [],
   "source": [
    "df_barcode = pd.merge(df_barcode, final_df_count, on='barcode', how='outer').fillna(0)"
   ]
  },
  {
   "cell_type": "code",
   "execution_count": null,
   "id": "stock-storage",
   "metadata": {},
   "outputs": [],
   "source": [
    "df_barcode = df_barcode.rename(columns={'count': 'overlap_peaks'})"
   ]
  },
  {
   "cell_type": "code",
   "execution_count": null,
   "id": "adjustable-cooling",
   "metadata": {},
   "outputs": [],
   "source": [
    "df_barcode['frac_peak'] = round(df_barcode['overlap_peaks'] / df_barcode['fragments'], 4)"
   ]
  },
  {
   "cell_type": "code",
   "execution_count": null,
   "id": "sexual-candy",
   "metadata": {},
   "outputs": [],
   "source": [
    "df_barcode['cell_called'] = df_barcode['barcode'].apply(lambda x: True if x in cell_barcode else False)"
   ]
  },
  {
   "cell_type": "code",
   "execution_count": null,
   "id": "affecting-personality",
   "metadata": {},
   "outputs": [],
   "source": [
    "df_barcode.to_csv(\"/SGRNJ06/randd/USER/cjj/celedev/atac/MAESTRO/test/20231020_10x/downsample_R230621016/02.atac/Result/Analysis/downsample_R230621016/cell_qc_metrics.tsv\", sep='\\t', index=False)"
   ]
  },
  {
   "cell_type": "code",
   "execution_count": null,
   "id": "verbal-strategy",
   "metadata": {},
   "outputs": [],
   "source": []
  },
  {
   "cell_type": "code",
   "execution_count": null,
   "id": "oriental-swift",
   "metadata": {},
   "outputs": [],
   "source": [
    "test = pd.read_csv(\"/SGRNJ06/randd/USER/cjj/celedev/atac/MAESTRO/test/20231020_10x/downsample_R230621016/02.atac/Result/Analysis/downsample_R230621016/cell_qc_metrics.tsv\", sep='\\t')"
   ]
  },
  {
   "cell_type": "code",
   "execution_count": null,
   "id": "thousand-tucson",
   "metadata": {},
   "outputs": [],
   "source": [
    "test"
   ]
  },
  {
   "cell_type": "code",
   "execution_count": null,
   "id": "acute-mauritius",
   "metadata": {},
   "outputs": [],
   "source": [
    "frac_peak = test[test['cell_called']==True]['frac_peak'].mean()"
   ]
  },
  {
   "cell_type": "code",
   "execution_count": null,
   "id": "peaceful-alliance",
   "metadata": {},
   "outputs": [],
   "source": [
    "frac_peak"
   ]
  },
  {
   "cell_type": "code",
   "execution_count": null,
   "id": "korean-retention",
   "metadata": {},
   "outputs": [],
   "source": [
    "f'{round(frac_peak * 100, 2)}%'"
   ]
  },
  {
   "cell_type": "code",
   "execution_count": null,
   "id": "royal-genre",
   "metadata": {},
   "outputs": [],
   "source": [
    "test[test['cell_called']==True].sort_values('overlap_peaks')"
   ]
  },
  {
   "cell_type": "code",
   "execution_count": null,
   "id": "abstract-semiconductor",
   "metadata": {},
   "outputs": [],
   "source": []
  },
  {
   "cell_type": "code",
   "execution_count": null,
   "id": "confused-actress",
   "metadata": {},
   "outputs": [],
   "source": []
  },
  {
   "cell_type": "code",
   "execution_count": null,
   "id": "forbidden-street",
   "metadata": {},
   "outputs": [],
   "source": [
    "df = pd.read_csv(\"/SGRNJ06/randd/USER/cjj/celedev/atac/MAESTRO/test/20231020_10x/downsample_R230621016/02.atac/Result/Analysis/downsample_R230621016/cell_qc_metrics.tsv\", sep='\\t')"
   ]
  },
  {
   "cell_type": "code",
   "execution_count": null,
   "id": "italian-victoria",
   "metadata": {},
   "outputs": [],
   "source": [
    "peak_res = pd.read_csv(\"/SGRNJ06/randd/USER/cjj/celedev/atac/MAESTRO/test/20231020_10x/downsample_R230621016/02.atac/Result/Analysis/downsample_R230621016/downsample_R230621016_final_peaks.bed\", sep='\\t', header=None)"
   ]
  },
  {
   "cell_type": "code",
   "execution_count": null,
   "id": "colored-crystal",
   "metadata": {},
   "outputs": [],
   "source": [
    "peak_res"
   ]
  },
  {
   "cell_type": "code",
   "execution_count": null,
   "id": "arabic-wheat",
   "metadata": {},
   "outputs": [],
   "source": [
    "peak_res.shape[0]"
   ]
  },
  {
   "cell_type": "code",
   "execution_count": null,
   "id": "presidential-attendance",
   "metadata": {},
   "outputs": [],
   "source": [
    "cell_qc_metrics"
   ]
  },
  {
   "cell_type": "code",
   "execution_count": null,
   "id": "fleet-concentration",
   "metadata": {},
   "outputs": [],
   "source": [
    "meta = pd.read_csv(\"/SGRNJ06/randd/USER/cjj/celedev/atac/MAESTRO/test/20231020_10x/downsample_R230621016/03.analysis/meta.csv\")"
   ]
  },
  {
   "cell_type": "code",
   "execution_count": null,
   "id": "opening-wages",
   "metadata": {},
   "outputs": [],
   "source": [
    "meta"
   ]
  },
  {
   "cell_type": "code",
   "execution_count": null,
   "id": "third-capability",
   "metadata": {},
   "outputs": [],
   "source": [
    "meta = meta.rename(columns={\"Row.names\": \"barcode\"})"
   ]
  },
  {
   "cell_type": "code",
   "execution_count": null,
   "id": "czech-arcade",
   "metadata": {},
   "outputs": [],
   "source": [
    "meta"
   ]
  },
  {
   "cell_type": "code",
   "execution_count": null,
   "id": "caroline-summer",
   "metadata": {},
   "outputs": [],
   "source": [
    "df"
   ]
  },
  {
   "cell_type": "code",
   "execution_count": null,
   "id": "instant-image",
   "metadata": {},
   "outputs": [],
   "source": [
    "pd.merge(meta, df)"
   ]
  },
  {
   "cell_type": "code",
   "execution_count": null,
   "id": "charitable-black",
   "metadata": {},
   "outputs": [],
   "source": []
  },
  {
   "cell_type": "code",
   "execution_count": null,
   "id": "earlier-crash",
   "metadata": {},
   "outputs": [],
   "source": []
  },
  {
   "cell_type": "code",
   "execution_count": null,
   "id": "searching-benjamin",
   "metadata": {},
   "outputs": [],
   "source": []
  },
  {
   "cell_type": "code",
   "execution_count": 16,
   "id": "first-sterling",
   "metadata": {},
   "outputs": [],
   "source": [
    "import pandas as pd \n",
    "import sys\n",
    "import numpy as np "
   ]
  },
  {
   "cell_type": "code",
   "execution_count": 2,
   "id": "known-thermal",
   "metadata": {},
   "outputs": [],
   "source": [
    "df_peaks=pd.read_csv(\"/SGRNJ06/randd/USER/cjj/celedev/atac/MAESTRO/test/20231031sgr/A1017_3_ML_YSPB_WX_R_T7_EDTA5030/02.atac/Result/Analysis/A1017_3_ML_YSPB_WX_R_T7_EDTA5030/A1017_3_ML_YSPB_WX_R_T7_EDTA5030_final_peaks.bed\",header=None, sep='\\t', names=[\"chr\", \"start\", \"end\"])"
   ]
  },
  {
   "cell_type": "code",
   "execution_count": 3,
   "id": "sacred-burke",
   "metadata": {},
   "outputs": [],
   "source": [
    "df_fragments = pd.read_csv(\"/SGRNJ06/randd/USER/cjj/celedev/atac/MAESTRO/test/20231031sgr/A1017_3_ML_YSPB_WX_R_T7_EDTA5030/02.atac/Result/Mapping/A1017_3_ML_YSPB_WX_R_T7_EDTA5030/fragments_corrected_count_sortedbybarcode.tsv\",header=None, sep='\\t', names=[\"chr\", \"start\", \"end\", \"barcode\", \"count\"])"
   ]
  },
  {
   "cell_type": "code",
   "execution_count": 4,
   "id": "interim-communist",
   "metadata": {},
   "outputs": [
    {
     "data": {
      "text/html": [
       "<div>\n",
       "<style scoped>\n",
       "    .dataframe tbody tr th:only-of-type {\n",
       "        vertical-align: middle;\n",
       "    }\n",
       "\n",
       "    .dataframe tbody tr th {\n",
       "        vertical-align: top;\n",
       "    }\n",
       "\n",
       "    .dataframe thead th {\n",
       "        text-align: right;\n",
       "    }\n",
       "</style>\n",
       "<table border=\"1\" class=\"dataframe\">\n",
       "  <thead>\n",
       "    <tr style=\"text-align: right;\">\n",
       "      <th></th>\n",
       "      <th>chr</th>\n",
       "      <th>start</th>\n",
       "      <th>end</th>\n",
       "      <th>barcode</th>\n",
       "      <th>count</th>\n",
       "    </tr>\n",
       "  </thead>\n",
       "  <tbody>\n",
       "    <tr>\n",
       "      <th>0</th>\n",
       "      <td>chr2</td>\n",
       "      <td>93428094</td>\n",
       "      <td>93428159</td>\n",
       "      <td>AACAATAACGTCTCAACAAT</td>\n",
       "      <td>2</td>\n",
       "    </tr>\n",
       "    <tr>\n",
       "      <th>1</th>\n",
       "      <td>chr3</td>\n",
       "      <td>68786956</td>\n",
       "      <td>68787033</td>\n",
       "      <td>AACAATAACGTCTCAACAAT</td>\n",
       "      <td>1</td>\n",
       "    </tr>\n",
       "    <tr>\n",
       "      <th>2</th>\n",
       "      <td>chr10</td>\n",
       "      <td>86043406</td>\n",
       "      <td>86043558</td>\n",
       "      <td>AACAATAACGTCTCAACGCG</td>\n",
       "      <td>1</td>\n",
       "    </tr>\n",
       "    <tr>\n",
       "      <th>3</th>\n",
       "      <td>chr11</td>\n",
       "      <td>79710911</td>\n",
       "      <td>79710960</td>\n",
       "      <td>AACAATAACGTCTCACACAC</td>\n",
       "      <td>1</td>\n",
       "    </tr>\n",
       "    <tr>\n",
       "      <th>4</th>\n",
       "      <td>chr10</td>\n",
       "      <td>124814740</td>\n",
       "      <td>124815078</td>\n",
       "      <td>AACAATAACGTCTCACAGTG</td>\n",
       "      <td>1</td>\n",
       "    </tr>\n",
       "    <tr>\n",
       "      <th>...</th>\n",
       "      <td>...</td>\n",
       "      <td>...</td>\n",
       "      <td>...</td>\n",
       "      <td>...</td>\n",
       "      <td>...</td>\n",
       "    </tr>\n",
       "    <tr>\n",
       "      <th>19469891</th>\n",
       "      <td>chr16</td>\n",
       "      <td>62368656</td>\n",
       "      <td>62368704</td>\n",
       "      <td>TTTTTGTTGTCCGATTTGAC</td>\n",
       "      <td>1</td>\n",
       "    </tr>\n",
       "    <tr>\n",
       "      <th>19469892</th>\n",
       "      <td>chr19</td>\n",
       "      <td>21860387</td>\n",
       "      <td>21860415</td>\n",
       "      <td>TTTTTGTTGTCCGATTTGAC</td>\n",
       "      <td>2</td>\n",
       "    </tr>\n",
       "    <tr>\n",
       "      <th>19469893</th>\n",
       "      <td>chr3</td>\n",
       "      <td>105895222</td>\n",
       "      <td>105895250</td>\n",
       "      <td>TTTTTGTTGTCCGATTTGAC</td>\n",
       "      <td>1</td>\n",
       "    </tr>\n",
       "    <tr>\n",
       "      <th>19469894</th>\n",
       "      <td>chr3</td>\n",
       "      <td>62632471</td>\n",
       "      <td>62632522</td>\n",
       "      <td>TTTTTGTTGTCCGATTTGAC</td>\n",
       "      <td>1</td>\n",
       "    </tr>\n",
       "    <tr>\n",
       "      <th>19469895</th>\n",
       "      <td>chr9</td>\n",
       "      <td>104002372</td>\n",
       "      <td>104002604</td>\n",
       "      <td>TTTTTGTTGTCCGATTTGAC</td>\n",
       "      <td>1</td>\n",
       "    </tr>\n",
       "  </tbody>\n",
       "</table>\n",
       "<p>19469896 rows × 5 columns</p>\n",
       "</div>"
      ],
      "text/plain": [
       "            chr      start        end               barcode  count\n",
       "0          chr2   93428094   93428159  AACAATAACGTCTCAACAAT      2\n",
       "1          chr3   68786956   68787033  AACAATAACGTCTCAACAAT      1\n",
       "2         chr10   86043406   86043558  AACAATAACGTCTCAACGCG      1\n",
       "3         chr11   79710911   79710960  AACAATAACGTCTCACACAC      1\n",
       "4         chr10  124814740  124815078  AACAATAACGTCTCACAGTG      1\n",
       "...         ...        ...        ...                   ...    ...\n",
       "19469891  chr16   62368656   62368704  TTTTTGTTGTCCGATTTGAC      1\n",
       "19469892  chr19   21860387   21860415  TTTTTGTTGTCCGATTTGAC      2\n",
       "19469893   chr3  105895222  105895250  TTTTTGTTGTCCGATTTGAC      1\n",
       "19469894   chr3   62632471   62632522  TTTTTGTTGTCCGATTTGAC      1\n",
       "19469895   chr9  104002372  104002604  TTTTTGTTGTCCGATTTGAC      1\n",
       "\n",
       "[19469896 rows x 5 columns]"
      ]
     },
     "execution_count": 4,
     "metadata": {},
     "output_type": "execute_result"
    }
   ],
   "source": [
    "df_fragments"
   ]
  },
  {
   "cell_type": "code",
   "execution_count": 13,
   "id": "solid-basics",
   "metadata": {},
   "outputs": [
    {
     "name": "stdout",
     "output_type": "stream",
     "text": [
      "3016.240354537964 MB\n"
     ]
    }
   ],
   "source": [
    "print(str(sys.getsizeof(df_fragments)/1024/1024)+' MB')"
   ]
  },
  {
   "cell_type": "code",
   "execution_count": 14,
   "id": "advised-rebel",
   "metadata": {},
   "outputs": [],
   "source": [
    "df = df_fragments"
   ]
  },
  {
   "cell_type": "code",
   "execution_count": null,
   "id": "numeric-colonial",
   "metadata": {},
   "outputs": [],
   "source": [
    "    numerics = ['int16', 'int32', 'int64', 'float16', 'float32', 'float64']\n",
    "    # 计算当前占用的内存 \n",
    "    start_mem = df.memory_usage(deep=True).sum() / 1024**2\n",
    "    # 循环每一列\n",
    "    for col in df.columns:\n",
    "        # 获取每一列的数据类型\n",
    "        col_type = df[col].dtypes\n",
    "        # 如果数据类型属于上面定义的类型之\n",
    "        if col_type in numerics:\n",
    "            # 计算该列数据的最小值和最大值 用于我们指定相应的数据类型 \n",
    "            c_min = df[col].min()\n",
    "            c_max = df[col].max()\n",
    "\n",
    "            # 如果 该列的数据类型属于 int 类型，然后进行判断\n",
    "            if str(col_type)[:3] == 'int':\n",
    "                # 如果 该列最小的值 大于int8类型的最小值，并且最大值小于int8类型的最大值，则采用int8类型 \n",
    "                if c_min > np.iinfo(np.int8).min and c_max < np.iinfo(np.int8).max:\n",
    "                    df[col] = df[col].astype(np.int8)\n",
    "\n",
    "                # 同上\n",
    "                elif c_min > np.iinfo(np.int16).min and c_max < np.iinfo(np.int16).max:\n",
    "                    df[col] = df[col].astype(np.int16)\n",
    "\n",
    "                # 同上\n",
    "                elif c_min > np.iinfo(np.int32).min and c_max < np.iinfo(np.int32).max:\n",
    "                    df[col] = df[col].astype(np.int32)\n",
    "\n",
    "                # 同上\n",
    "                elif c_min > np.iinfo(np.int64).min and c_max < np.iinfo(np.int64).max:\n",
    "                    df[col] = df[col].astype(np.int64)\n",
    "\n",
    "            # 否则 则采用 float 的处理方法       \n",
    "            else:\n",
    "\n",
    "                if c_min > np.finfo(np.float32).min and c_max < np.finfo(np.float32).max:\n",
    "                    df[col] = df[col].astype(np.float32)\n",
    "\n",
    "                else:\n",
    "                    df[col] = df[col].astype(np.float64)"
   ]
  },
  {
   "cell_type": "code",
   "execution_count": 18,
   "id": "willing-access",
   "metadata": {},
   "outputs": [
    {
     "name": "stdout",
     "output_type": "stream",
     "text": [
      "2737.721258163452 MB\n"
     ]
    }
   ],
   "source": [
    "print(str(sys.getsizeof(df)/1024/1024)+' MB')"
   ]
  },
  {
   "cell_type": "code",
   "execution_count": null,
   "id": "another-tuner",
   "metadata": {},
   "outputs": [],
   "source": [
    "final_df = pd.DataFrame()\n",
    "for _, data_peak in df_peaks.iterrows():\n",
    "    peak_info = dict(data_peak)\n",
    "    print(peak_info)\n",
    "    frag_chr = df_fragments[df_fragments[\"chr\"] == peak_info[\"chr\"]]\n",
    "    frag_overlap_peak = frag_chr[ (frag_chr[\"start\"] >= peak_info[\"start\"]) & (frag_chr[\"end\"] <= peak_info[\"end\"])] \n",
    "    final_df = pd.concat([final_df, frag_overlap_peak])\n",
    "    final_df_count = final_df.groupby('barcode', as_index=False).agg({'count': 'sum'})\n",
    "    break"
   ]
  },
  {
   "cell_type": "code",
   "execution_count": null,
   "id": "veterinary-zimbabwe",
   "metadata": {},
   "outputs": [],
   "source": [
    "final_df"
   ]
  },
  {
   "cell_type": "code",
   "execution_count": null,
   "id": "established-preliminary",
   "metadata": {},
   "outputs": [],
   "source": []
  },
  {
   "cell_type": "code",
   "execution_count": 32,
   "id": "homeless-folder",
   "metadata": {},
   "outputs": [],
   "source": [
    "from multiprocessing import Pool\n",
    "import pandas as pd "
   ]
  },
  {
   "cell_type": "code",
   "execution_count": 33,
   "id": "final-fishing",
   "metadata": {},
   "outputs": [],
   "source": [
    "df_peaks=pd.read_csv(\"/SGRNJ06/randd/USER/cjj/celedev/atac/MAESTRO/test/20231031sgr/A1017_3_ML_YSPB_WX_R_T7_EDTA5030/02.atac/Result/Analysis/A1017_3_ML_YSPB_WX_R_T7_EDTA5030/A1017_3_ML_YSPB_WX_R_T7_EDTA5030_final_peaks.bed\",header=None, sep='\\t', names=[\"chr\", \"start\", \"end\"])\n",
    "df_fragments = pd.read_csv(\"/SGRNJ06/randd/USER/cjj/celedev/atac/MAESTRO/test/20231031sgr/A1017_3_ML_YSPB_WX_R_T7_EDTA5030/02.atac/Result/Mapping/A1017_3_ML_YSPB_WX_R_T7_EDTA5030/fragments_corrected_count_sortedbybarcode.tsv\",header=None, sep='\\t', names=[\"chr\", \"start\", \"end\", \"barcode\", \"count\"])"
   ]
  },
  {
   "cell_type": "code",
   "execution_count": 34,
   "id": "boring-vietnamese",
   "metadata": {},
   "outputs": [],
   "source": [
    "df_peaks = df_peaks.sort_values(['chr','start','end'])\n",
    "df_fragments = df_fragments.sort_values(['chr','start','end'])"
   ]
  },
  {
   "cell_type": "code",
   "execution_count": 6,
   "id": "sensitive-basket",
   "metadata": {},
   "outputs": [
    {
     "data": {
      "text/html": [
       "<div>\n",
       "<style scoped>\n",
       "    .dataframe tbody tr th:only-of-type {\n",
       "        vertical-align: middle;\n",
       "    }\n",
       "\n",
       "    .dataframe tbody tr th {\n",
       "        vertical-align: top;\n",
       "    }\n",
       "\n",
       "    .dataframe thead th {\n",
       "        text-align: right;\n",
       "    }\n",
       "</style>\n",
       "<table border=\"1\" class=\"dataframe\">\n",
       "  <thead>\n",
       "    <tr style=\"text-align: right;\">\n",
       "      <th></th>\n",
       "      <th>chr</th>\n",
       "      <th>start</th>\n",
       "      <th>end</th>\n",
       "    </tr>\n",
       "  </thead>\n",
       "  <tbody>\n",
       "    <tr>\n",
       "      <th>0</th>\n",
       "      <td>chr1</td>\n",
       "      <td>4768517</td>\n",
       "      <td>4768778</td>\n",
       "    </tr>\n",
       "    <tr>\n",
       "      <th>1</th>\n",
       "      <td>chr1</td>\n",
       "      <td>4785335</td>\n",
       "      <td>4786194</td>\n",
       "    </tr>\n",
       "    <tr>\n",
       "      <th>2</th>\n",
       "      <td>chr1</td>\n",
       "      <td>4807373</td>\n",
       "      <td>4808300</td>\n",
       "    </tr>\n",
       "    <tr>\n",
       "      <th>3</th>\n",
       "      <td>chr1</td>\n",
       "      <td>4857419</td>\n",
       "      <td>4858586</td>\n",
       "    </tr>\n",
       "    <tr>\n",
       "      <th>4</th>\n",
       "      <td>chr1</td>\n",
       "      <td>5082842</td>\n",
       "      <td>5083595</td>\n",
       "    </tr>\n",
       "    <tr>\n",
       "      <th>...</th>\n",
       "      <td>...</td>\n",
       "      <td>...</td>\n",
       "      <td>...</td>\n",
       "    </tr>\n",
       "    <tr>\n",
       "      <th>51862</th>\n",
       "      <td>chrY</td>\n",
       "      <td>90761198</td>\n",
       "      <td>90761746</td>\n",
       "    </tr>\n",
       "    <tr>\n",
       "      <th>51863</th>\n",
       "      <td>chrY</td>\n",
       "      <td>90798987</td>\n",
       "      <td>90799576</td>\n",
       "    </tr>\n",
       "    <tr>\n",
       "      <th>51864</th>\n",
       "      <td>chrY</td>\n",
       "      <td>90800522</td>\n",
       "      <td>90800811</td>\n",
       "    </tr>\n",
       "    <tr>\n",
       "      <th>51865</th>\n",
       "      <td>chrY</td>\n",
       "      <td>90805049</td>\n",
       "      <td>90805601</td>\n",
       "    </tr>\n",
       "    <tr>\n",
       "      <th>51866</th>\n",
       "      <td>chrY</td>\n",
       "      <td>90807656</td>\n",
       "      <td>90808917</td>\n",
       "    </tr>\n",
       "  </tbody>\n",
       "</table>\n",
       "<p>51867 rows × 3 columns</p>\n",
       "</div>"
      ],
      "text/plain": [
       "        chr     start       end\n",
       "0      chr1   4768517   4768778\n",
       "1      chr1   4785335   4786194\n",
       "2      chr1   4807373   4808300\n",
       "3      chr1   4857419   4858586\n",
       "4      chr1   5082842   5083595\n",
       "...     ...       ...       ...\n",
       "51862  chrY  90761198  90761746\n",
       "51863  chrY  90798987  90799576\n",
       "51864  chrY  90800522  90800811\n",
       "51865  chrY  90805049  90805601\n",
       "51866  chrY  90807656  90808917\n",
       "\n",
       "[51867 rows x 3 columns]"
      ]
     },
     "execution_count": 6,
     "metadata": {},
     "output_type": "execute_result"
    }
   ],
   "source": [
    "df_peaks"
   ]
  },
  {
   "cell_type": "code",
   "execution_count": 7,
   "id": "illegal-plasma",
   "metadata": {},
   "outputs": [],
   "source": [
    "df_peak1 = df_peaks.iloc[:100,:]\n",
    "df_peak2 = df_peaks.iloc[100:200,:]\n",
    "df_peak3 = df_peaks.iloc[200:300,:]\n",
    "df_peak4 = df_peaks.iloc[300:400,:]\n",
    "df_peak5 = df_peaks.iloc[400:500,:]"
   ]
  },
  {
   "cell_type": "code",
   "execution_count": 8,
   "id": "responsible-palmer",
   "metadata": {},
   "outputs": [
    {
     "data": {
      "text/html": [
       "<div>\n",
       "<style scoped>\n",
       "    .dataframe tbody tr th:only-of-type {\n",
       "        vertical-align: middle;\n",
       "    }\n",
       "\n",
       "    .dataframe tbody tr th {\n",
       "        vertical-align: top;\n",
       "    }\n",
       "\n",
       "    .dataframe thead th {\n",
       "        text-align: right;\n",
       "    }\n",
       "</style>\n",
       "<table border=\"1\" class=\"dataframe\">\n",
       "  <thead>\n",
       "    <tr style=\"text-align: right;\">\n",
       "      <th></th>\n",
       "      <th>chr</th>\n",
       "      <th>start</th>\n",
       "      <th>end</th>\n",
       "    </tr>\n",
       "  </thead>\n",
       "  <tbody>\n",
       "    <tr>\n",
       "      <th>400</th>\n",
       "      <td>chr1</td>\n",
       "      <td>39530310</td>\n",
       "      <td>39530538</td>\n",
       "    </tr>\n",
       "    <tr>\n",
       "      <th>401</th>\n",
       "      <td>chr1</td>\n",
       "      <td>39535408</td>\n",
       "      <td>39536281</td>\n",
       "    </tr>\n",
       "    <tr>\n",
       "      <th>402</th>\n",
       "      <td>chr1</td>\n",
       "      <td>39545755</td>\n",
       "      <td>39546359</td>\n",
       "    </tr>\n",
       "    <tr>\n",
       "      <th>403</th>\n",
       "      <td>chr1</td>\n",
       "      <td>39555672</td>\n",
       "      <td>39556320</td>\n",
       "    </tr>\n",
       "    <tr>\n",
       "      <th>404</th>\n",
       "      <td>chr1</td>\n",
       "      <td>39568722</td>\n",
       "      <td>39569170</td>\n",
       "    </tr>\n",
       "    <tr>\n",
       "      <th>...</th>\n",
       "      <td>...</td>\n",
       "      <td>...</td>\n",
       "      <td>...</td>\n",
       "    </tr>\n",
       "    <tr>\n",
       "      <th>495</th>\n",
       "      <td>chr1</td>\n",
       "      <td>43500133</td>\n",
       "      <td>43500382</td>\n",
       "    </tr>\n",
       "    <tr>\n",
       "      <th>496</th>\n",
       "      <td>chr1</td>\n",
       "      <td>43501233</td>\n",
       "      <td>43501475</td>\n",
       "    </tr>\n",
       "    <tr>\n",
       "      <th>497</th>\n",
       "      <td>chr1</td>\n",
       "      <td>43520319</td>\n",
       "      <td>43520843</td>\n",
       "    </tr>\n",
       "    <tr>\n",
       "      <th>498</th>\n",
       "      <td>chr1</td>\n",
       "      <td>43521051</td>\n",
       "      <td>43521363</td>\n",
       "    </tr>\n",
       "    <tr>\n",
       "      <th>499</th>\n",
       "      <td>chr1</td>\n",
       "      <td>43542103</td>\n",
       "      <td>43543047</td>\n",
       "    </tr>\n",
       "  </tbody>\n",
       "</table>\n",
       "<p>100 rows × 3 columns</p>\n",
       "</div>"
      ],
      "text/plain": [
       "      chr     start       end\n",
       "400  chr1  39530310  39530538\n",
       "401  chr1  39535408  39536281\n",
       "402  chr1  39545755  39546359\n",
       "403  chr1  39555672  39556320\n",
       "404  chr1  39568722  39569170\n",
       "..    ...       ...       ...\n",
       "495  chr1  43500133  43500382\n",
       "496  chr1  43501233  43501475\n",
       "497  chr1  43520319  43520843\n",
       "498  chr1  43521051  43521363\n",
       "499  chr1  43542103  43543047\n",
       "\n",
       "[100 rows x 3 columns]"
      ]
     },
     "execution_count": 8,
     "metadata": {},
     "output_type": "execute_result"
    }
   ],
   "source": [
    "df_peak5"
   ]
  },
  {
   "cell_type": "code",
   "execution_count": 35,
   "id": "opponent-frank",
   "metadata": {},
   "outputs": [],
   "source": [
    "threads = 8\n",
    "length = df_peaks.shape[0]"
   ]
  },
  {
   "cell_type": "code",
   "execution_count": 36,
   "id": "reduced-miami",
   "metadata": {},
   "outputs": [],
   "source": [
    "chunk_size = length // threads + 1"
   ]
  },
  {
   "cell_type": "code",
   "execution_count": 37,
   "id": "commercial-space",
   "metadata": {},
   "outputs": [],
   "source": [
    "#chunk_size\n",
    "chunk_size = 20"
   ]
  },
  {
   "cell_type": "code",
   "execution_count": 38,
   "id": "brave-ready",
   "metadata": {},
   "outputs": [],
   "source": [
    "df_peak_list = [df_peaks.iloc[ chunk_size*i: chunk_size*(i+1) ,:] for i in range(threads)]"
   ]
  },
  {
   "cell_type": "code",
   "execution_count": null,
   "id": "continued-parade",
   "metadata": {},
   "outputs": [],
   "source": [
    "df_peak_list"
   ]
  },
  {
   "cell_type": "code",
   "execution_count": 39,
   "id": "artificial-making",
   "metadata": {},
   "outputs": [],
   "source": [
    "# multiprocessing\n",
    "def get_df(df_peak):\n",
    "    final_df = pd.DataFrame()\n",
    "    for _, data_peak in df_peak.iterrows():\n",
    "        peak_info = dict(data_peak)\n",
    "        frag_chr = df_fragments[df_fragments[\"chr\"] == peak_info[\"chr\"]]\n",
    "        frag_overlap_peak = frag_chr[ (frag_chr[\"start\"] >= peak_info[\"start\"]) & (frag_chr[\"end\"] <= peak_info[\"end\"])] \n",
    "        final_df = pd.concat([final_df, frag_overlap_peak])\n",
    "    return final_df"
   ]
  },
  {
   "cell_type": "code",
   "execution_count": null,
   "id": "precious-phrase",
   "metadata": {},
   "outputs": [],
   "source": [
    "with Pool(threads) as p:\n",
    "    results = p.map(get_df, df_peak_list)"
   ]
  },
  {
   "cell_type": "code",
   "execution_count": 40,
   "id": "hungarian-pipeline",
   "metadata": {},
   "outputs": [],
   "source": [
    "with Pool(threads) as p:\n",
    "    results = p.starmap(get_df, zip(df_peak_list))"
   ]
  },
  {
   "cell_type": "code",
   "execution_count": null,
   "id": "instrumental-finder",
   "metadata": {},
   "outputs": [],
   "source": [
    "results"
   ]
  },
  {
   "cell_type": "code",
   "execution_count": 41,
   "id": "technical-teach",
   "metadata": {},
   "outputs": [
    {
     "data": {
      "text/plain": [
       "8"
      ]
     },
     "execution_count": 41,
     "metadata": {},
     "output_type": "execute_result"
    }
   ],
   "source": [
    "len(results)"
   ]
  },
  {
   "cell_type": "code",
   "execution_count": 42,
   "id": "incomplete-tampa",
   "metadata": {},
   "outputs": [],
   "source": [
    "final_df = pd.DataFrame()\n",
    "for result in results:\n",
    "    final_df = pd.concat([final_df, result], ignore_index=False)"
   ]
  },
  {
   "cell_type": "code",
   "execution_count": 26,
   "id": "distributed-basket",
   "metadata": {},
   "outputs": [
    {
     "data": {
      "text/html": [
       "<div>\n",
       "<style scoped>\n",
       "    .dataframe tbody tr th:only-of-type {\n",
       "        vertical-align: middle;\n",
       "    }\n",
       "\n",
       "    .dataframe tbody tr th {\n",
       "        vertical-align: top;\n",
       "    }\n",
       "\n",
       "    .dataframe thead th {\n",
       "        text-align: right;\n",
       "    }\n",
       "</style>\n",
       "<table border=\"1\" class=\"dataframe\">\n",
       "  <thead>\n",
       "    <tr style=\"text-align: right;\">\n",
       "      <th></th>\n",
       "      <th>chr</th>\n",
       "      <th>start</th>\n",
       "      <th>end</th>\n",
       "      <th>barcode</th>\n",
       "      <th>count</th>\n",
       "    </tr>\n",
       "  </thead>\n",
       "  <tbody>\n",
       "    <tr>\n",
       "      <th>0</th>\n",
       "      <td>chr1</td>\n",
       "      <td>4768517</td>\n",
       "      <td>4768564</td>\n",
       "      <td>GTAGTTCGTGTCAAATATCG</td>\n",
       "      <td>1</td>\n",
       "    </tr>\n",
       "    <tr>\n",
       "      <th>1</th>\n",
       "      <td>chr1</td>\n",
       "      <td>4768517</td>\n",
       "      <td>4768576</td>\n",
       "      <td>GCCAACGATCTTCCGGGGGT</td>\n",
       "      <td>2</td>\n",
       "    </tr>\n",
       "    <tr>\n",
       "      <th>2</th>\n",
       "      <td>chr1</td>\n",
       "      <td>4768519</td>\n",
       "      <td>4768566</td>\n",
       "      <td>TTGCGAGCATCAAGCCTATC</td>\n",
       "      <td>1</td>\n",
       "    </tr>\n",
       "    <tr>\n",
       "      <th>3</th>\n",
       "      <td>chr1</td>\n",
       "      <td>4768548</td>\n",
       "      <td>4768778</td>\n",
       "      <td>GCTTAGTATCCGGAATTACA</td>\n",
       "      <td>1</td>\n",
       "    </tr>\n",
       "    <tr>\n",
       "      <th>4</th>\n",
       "      <td>chr1</td>\n",
       "      <td>4768550</td>\n",
       "      <td>4768613</td>\n",
       "      <td>CAAGGATCGCTATCACGTCC</td>\n",
       "      <td>3</td>\n",
       "    </tr>\n",
       "    <tr>\n",
       "      <th>...</th>\n",
       "      <td>...</td>\n",
       "      <td>...</td>\n",
       "      <td>...</td>\n",
       "      <td>...</td>\n",
       "      <td>...</td>\n",
       "    </tr>\n",
       "    <tr>\n",
       "      <th>28103</th>\n",
       "      <td>chr1</td>\n",
       "      <td>21963758</td>\n",
       "      <td>21963790</td>\n",
       "      <td>CAGACTTGGATTGGACCCTT</td>\n",
       "      <td>1</td>\n",
       "    </tr>\n",
       "    <tr>\n",
       "      <th>28104</th>\n",
       "      <td>chr1</td>\n",
       "      <td>21963758</td>\n",
       "      <td>21963803</td>\n",
       "      <td>GATCTTTCCAATCGCAATTT</td>\n",
       "      <td>2</td>\n",
       "    </tr>\n",
       "    <tr>\n",
       "      <th>28105</th>\n",
       "      <td>chr1</td>\n",
       "      <td>21963768</td>\n",
       "      <td>21963808</td>\n",
       "      <td>CAGTACATACGTCGCGGCTT</td>\n",
       "      <td>1</td>\n",
       "    </tr>\n",
       "    <tr>\n",
       "      <th>28106</th>\n",
       "      <td>chr1</td>\n",
       "      <td>21963777</td>\n",
       "      <td>21963814</td>\n",
       "      <td>ATTACAAGACGATGTAACTA</td>\n",
       "      <td>1</td>\n",
       "    </tr>\n",
       "    <tr>\n",
       "      <th>28107</th>\n",
       "      <td>chr1</td>\n",
       "      <td>21963786</td>\n",
       "      <td>21963843</td>\n",
       "      <td>ATGGGGTAGCATGGTAGCAT</td>\n",
       "      <td>1</td>\n",
       "    </tr>\n",
       "  </tbody>\n",
       "</table>\n",
       "<p>28108 rows × 5 columns</p>\n",
       "</div>"
      ],
      "text/plain": [
       "        chr     start       end               barcode  count\n",
       "0      chr1   4768517   4768564  GTAGTTCGTGTCAAATATCG      1\n",
       "1      chr1   4768517   4768576  GCCAACGATCTTCCGGGGGT      2\n",
       "2      chr1   4768519   4768566  TTGCGAGCATCAAGCCTATC      1\n",
       "3      chr1   4768548   4768778  GCTTAGTATCCGGAATTACA      1\n",
       "4      chr1   4768550   4768613  CAAGGATCGCTATCACGTCC      3\n",
       "...     ...       ...       ...                   ...    ...\n",
       "28103  chr1  21963758  21963790  CAGACTTGGATTGGACCCTT      1\n",
       "28104  chr1  21963758  21963803  GATCTTTCCAATCGCAATTT      2\n",
       "28105  chr1  21963768  21963808  CAGTACATACGTCGCGGCTT      1\n",
       "28106  chr1  21963777  21963814  ATTACAAGACGATGTAACTA      1\n",
       "28107  chr1  21963786  21963843  ATGGGGTAGCATGGTAGCAT      1\n",
       "\n",
       "[28108 rows x 5 columns]"
      ]
     },
     "execution_count": 26,
     "metadata": {},
     "output_type": "execute_result"
    }
   ],
   "source": [
    "final_df"
   ]
  },
  {
   "cell_type": "code",
   "execution_count": null,
   "id": "twelve-majority",
   "metadata": {},
   "outputs": [],
   "source": [
    "final_df.groupby('barcode', as_index=False).agg({'count': 'sum'})"
   ]
  },
  {
   "cell_type": "code",
   "execution_count": null,
   "id": "buried-galaxy",
   "metadata": {},
   "outputs": [],
   "source": [
    "a = [df_fragments]*8"
   ]
  },
  {
   "cell_type": "code",
   "execution_count": null,
   "id": "pressing-literature",
   "metadata": {},
   "outputs": [],
   "source": [
    "a"
   ]
  },
  {
   "cell_type": "code",
   "execution_count": null,
   "id": "strange-wagon",
   "metadata": {},
   "outputs": [],
   "source": []
  },
  {
   "cell_type": "code",
   "execution_count": null,
   "id": "included-ensemble",
   "metadata": {},
   "outputs": [],
   "source": []
  },
  {
   "cell_type": "code",
   "execution_count": 28,
   "id": "tender-extraction",
   "metadata": {},
   "outputs": [],
   "source": [
    "df_peaks=pd.read_csv(\"/SGRNJ06/randd/USER/cjj/celedev/atac/MAESTRO/test/20231031sgr/A1017_3_ML_YSPB_WX_R_T7_EDTA5030/02.atac/Result/Analysis/A1017_3_ML_YSPB_WX_R_T7_EDTA5030/A1017_3_ML_YSPB_WX_R_T7_EDTA5030_final_peaks.bed\",header=None, sep='\\t', names=[\"chr\", \"start\", \"end\"])\n",
    "df_fragments = pd.read_csv(\"/SGRNJ06/randd/USER/cjj/celedev/atac/MAESTRO/test/20231031sgr/A1017_3_ML_YSPB_WX_R_T7_EDTA5030/02.atac/Result/Mapping/A1017_3_ML_YSPB_WX_R_T7_EDTA5030/fragments_corrected_count_sortedbybarcode.tsv\",header=None, sep='\\t', names=[\"chr\", \"start\", \"end\", \"barcode\", \"count\"])"
   ]
  },
  {
   "cell_type": "code",
   "execution_count": 91,
   "id": "related-dispute",
   "metadata": {},
   "outputs": [],
   "source": [
    "df_barcode = pd.read_csv(f\"/SGRNJ06/randd/USER/cjj/celedev/atac/MAESTRO/test/20231031sgr/A1017_3_ML_YSPB_WX_R_T7_EDTA5030/02.atac/Result/QC/A1017_3_ML_YSPB_WX_R_T7_EDTA5030/singlecell.txt\",\n",
    "                                      header=None, sep='\\t', names=[\"barcode\", \"fragments\", \"fragments_overlapping_promoter\"])"
   ]
  },
  {
   "cell_type": "code",
   "execution_count": null,
   "id": "circular-france",
   "metadata": {},
   "outputs": [],
   "source": [
    "df_barcode"
   ]
  },
  {
   "cell_type": "code",
   "execution_count": 43,
   "id": "further-modeling",
   "metadata": {},
   "outputs": [],
   "source": [
    "df_fragments.sort_values(['chr','start','end'], inplace=True)\n",
    "df_peaks.sort_values(['chr','start','end'], inplace=True)"
   ]
  },
  {
   "cell_type": "code",
   "execution_count": null,
   "id": "cleared-aspect",
   "metadata": {},
   "outputs": [],
   "source": [
    "df_fragments"
   ]
  },
  {
   "cell_type": "code",
   "execution_count": null,
   "id": "exposed-guest",
   "metadata": {},
   "outputs": [],
   "source": [
    "df_peaks"
   ]
  },
  {
   "cell_type": "code",
   "execution_count": null,
   "id": "portuguese-miami",
   "metadata": {},
   "outputs": [],
   "source": [
    "df_peaks = df_peaks.iloc[ :20, :]"
   ]
  },
  {
   "cell_type": "code",
   "execution_count": null,
   "id": "asian-magic",
   "metadata": {},
   "outputs": [],
   "source": [
    "df_peaks"
   ]
  },
  {
   "cell_type": "code",
   "execution_count": null,
   "id": "banned-panic",
   "metadata": {},
   "outputs": [],
   "source": [
    "final_df = pd.DataFrame()"
   ]
  },
  {
   "cell_type": "code",
   "execution_count": null,
   "id": "skilled-egyptian",
   "metadata": {},
   "outputs": [],
   "source": [
    "        for _, data_peak in df_peaks.iterrows():\n",
    "            peak_info = dict(data_peak)\n",
    "            frag_chr = df_fragments[df_fragments[\"chr\"] == peak_info[\"chr\"]]\n",
    "            frag_overlap_peak = frag_chr[ (frag_chr[\"start\"] >= peak_info[\"start\"]) & (frag_chr[\"end\"] <= peak_info[\"end\"])] \n",
    "            final_df = pd.concat([final_df, frag_overlap_peak])"
   ]
  },
  {
   "cell_type": "code",
   "execution_count": null,
   "id": "global-mongolia",
   "metadata": {},
   "outputs": [],
   "source": [
    "final_df"
   ]
  },
  {
   "cell_type": "code",
   "execution_count": null,
   "id": "south-agent",
   "metadata": {},
   "outputs": [],
   "source": [
    "final_df_count = final_df.groupby('barcode', as_index=False).agg({'count': 'sum'})"
   ]
  },
  {
   "cell_type": "code",
   "execution_count": null,
   "id": "interpreted-factory",
   "metadata": {},
   "outputs": [],
   "source": [
    "final_df_count"
   ]
  },
  {
   "cell_type": "code",
   "execution_count": null,
   "id": "lyric-worse",
   "metadata": {},
   "outputs": [],
   "source": [
    "df_barcode = pd.merge(df_barcode, final_df_count, on='barcode', how='outer').fillna(0)\n",
    "df_barcode = df_barcode.rename(columns={'count': 'overlap_peaks'})\n",
    "df_barcode['frac_peak'] = round(df_barcode['overlap_peaks'] / df_barcode['fragments'], 4)"
   ]
  },
  {
   "cell_type": "code",
   "execution_count": null,
   "id": "massive-magic",
   "metadata": {},
   "outputs": [],
   "source": [
    "df_barcode[df_barcode[\"barcode\"]==\"AACAATACTGTGGTAAGTGT\"]"
   ]
  },
  {
   "cell_type": "code",
   "execution_count": null,
   "id": "subsequent-operations",
   "metadata": {},
   "outputs": [],
   "source": []
  },
  {
   "cell_type": "code",
   "execution_count": null,
   "id": "surrounded-directive",
   "metadata": {},
   "outputs": [],
   "source": []
  },
  {
   "cell_type": "code",
   "execution_count": null,
   "id": "balanced-elizabeth",
   "metadata": {},
   "outputs": [],
   "source": [
    "# index"
   ]
  },
  {
   "cell_type": "code",
   "execution_count": 66,
   "id": "atlantic-university",
   "metadata": {},
   "outputs": [
    {
     "data": {
      "text/html": [
       "<div>\n",
       "<style scoped>\n",
       "    .dataframe tbody tr th:only-of-type {\n",
       "        vertical-align: middle;\n",
       "    }\n",
       "\n",
       "    .dataframe tbody tr th {\n",
       "        vertical-align: top;\n",
       "    }\n",
       "\n",
       "    .dataframe thead th {\n",
       "        text-align: right;\n",
       "    }\n",
       "</style>\n",
       "<table border=\"1\" class=\"dataframe\">\n",
       "  <thead>\n",
       "    <tr style=\"text-align: right;\">\n",
       "      <th></th>\n",
       "      <th>chr</th>\n",
       "      <th>start</th>\n",
       "      <th>end</th>\n",
       "      <th>barcode</th>\n",
       "      <th>count</th>\n",
       "    </tr>\n",
       "  </thead>\n",
       "  <tbody>\n",
       "    <tr>\n",
       "      <th>165035</th>\n",
       "      <td>chr1</td>\n",
       "      <td>3003786</td>\n",
       "      <td>3003903</td>\n",
       "      <td>AACAATTGGCTTCTTTTGAC</td>\n",
       "      <td>1</td>\n",
       "    </tr>\n",
       "    <tr>\n",
       "      <th>1633690</th>\n",
       "      <td>chr1</td>\n",
       "      <td>3003975</td>\n",
       "      <td>3004005</td>\n",
       "      <td>ACCCTTCAGGATCATGACCC</td>\n",
       "      <td>1</td>\n",
       "    </tr>\n",
       "    <tr>\n",
       "      <th>10348822</th>\n",
       "      <td>chr1</td>\n",
       "      <td>3004652</td>\n",
       "      <td>3004699</td>\n",
       "      <td>GAAAAGTGTGCGTACCCGCC</td>\n",
       "      <td>1</td>\n",
       "    </tr>\n",
       "    <tr>\n",
       "      <th>2386893</th>\n",
       "      <td>chr1</td>\n",
       "      <td>3004791</td>\n",
       "      <td>3004834</td>\n",
       "      <td>ACTGGTTGCATCCTAGCCCA</td>\n",
       "      <td>2</td>\n",
       "    </tr>\n",
       "    <tr>\n",
       "      <th>15793733</th>\n",
       "      <td>chr1</td>\n",
       "      <td>3005277</td>\n",
       "      <td>3005613</td>\n",
       "      <td>TCAACTTAGTGAGCACGTCC</td>\n",
       "      <td>3</td>\n",
       "    </tr>\n",
       "    <tr>\n",
       "      <th>...</th>\n",
       "      <td>...</td>\n",
       "      <td>...</td>\n",
       "      <td>...</td>\n",
       "      <td>...</td>\n",
       "      <td>...</td>\n",
       "    </tr>\n",
       "    <tr>\n",
       "      <th>9833889</th>\n",
       "      <td>chrY</td>\n",
       "      <td>90828968</td>\n",
       "      <td>90829015</td>\n",
       "      <td>CTTCAGGCGATGTTTCATTC</td>\n",
       "      <td>1</td>\n",
       "    </tr>\n",
       "    <tr>\n",
       "      <th>3749131</th>\n",
       "      <td>chrY</td>\n",
       "      <td>90828971</td>\n",
       "      <td>90829014</td>\n",
       "      <td>AGTCTGTTCTAGGCCAGTAC</td>\n",
       "      <td>3</td>\n",
       "    </tr>\n",
       "    <tr>\n",
       "      <th>502508</th>\n",
       "      <td>chrY</td>\n",
       "      <td>90828984</td>\n",
       "      <td>90829202</td>\n",
       "      <td>AAGTGTACGTTGCAAGGGTC</td>\n",
       "      <td>2</td>\n",
       "    </tr>\n",
       "    <tr>\n",
       "      <th>15917205</th>\n",
       "      <td>chrY</td>\n",
       "      <td>90829080</td>\n",
       "      <td>90829202</td>\n",
       "      <td>TCATTCATGGTGGAACACAC</td>\n",
       "      <td>1</td>\n",
       "    </tr>\n",
       "    <tr>\n",
       "      <th>17509055</th>\n",
       "      <td>chrY</td>\n",
       "      <td>90829176</td>\n",
       "      <td>90829544</td>\n",
       "      <td>TGCGGGGATCGCATCGAGAC</td>\n",
       "      <td>1</td>\n",
       "    </tr>\n",
       "  </tbody>\n",
       "</table>\n",
       "<p>19469896 rows × 5 columns</p>\n",
       "</div>"
      ],
      "text/plain": [
       "           chr     start       end               barcode  count\n",
       "165035    chr1   3003786   3003903  AACAATTGGCTTCTTTTGAC      1\n",
       "1633690   chr1   3003975   3004005  ACCCTTCAGGATCATGACCC      1\n",
       "10348822  chr1   3004652   3004699  GAAAAGTGTGCGTACCCGCC      1\n",
       "2386893   chr1   3004791   3004834  ACTGGTTGCATCCTAGCCCA      2\n",
       "15793733  chr1   3005277   3005613  TCAACTTAGTGAGCACGTCC      3\n",
       "...        ...       ...       ...                   ...    ...\n",
       "9833889   chrY  90828968  90829015  CTTCAGGCGATGTTTCATTC      1\n",
       "3749131   chrY  90828971  90829014  AGTCTGTTCTAGGCCAGTAC      3\n",
       "502508    chrY  90828984  90829202  AAGTGTACGTTGCAAGGGTC      2\n",
       "15917205  chrY  90829080  90829202  TCATTCATGGTGGAACACAC      1\n",
       "17509055  chrY  90829176  90829544  TGCGGGGATCGCATCGAGAC      1\n",
       "\n",
       "[19469896 rows x 5 columns]"
      ]
     },
     "execution_count": 66,
     "metadata": {},
     "output_type": "execute_result"
    }
   ],
   "source": [
    "df_fragments"
   ]
  },
  {
   "cell_type": "code",
   "execution_count": 67,
   "id": "historical-workshop",
   "metadata": {},
   "outputs": [
    {
     "data": {
      "text/html": [
       "<div>\n",
       "<style scoped>\n",
       "    .dataframe tbody tr th:only-of-type {\n",
       "        vertical-align: middle;\n",
       "    }\n",
       "\n",
       "    .dataframe tbody tr th {\n",
       "        vertical-align: top;\n",
       "    }\n",
       "\n",
       "    .dataframe thead th {\n",
       "        text-align: right;\n",
       "    }\n",
       "</style>\n",
       "<table border=\"1\" class=\"dataframe\">\n",
       "  <thead>\n",
       "    <tr style=\"text-align: right;\">\n",
       "      <th></th>\n",
       "      <th>chr</th>\n",
       "      <th>start</th>\n",
       "      <th>end</th>\n",
       "    </tr>\n",
       "  </thead>\n",
       "  <tbody>\n",
       "    <tr>\n",
       "      <th>0</th>\n",
       "      <td>chr1</td>\n",
       "      <td>4768517</td>\n",
       "      <td>4768778</td>\n",
       "    </tr>\n",
       "    <tr>\n",
       "      <th>1</th>\n",
       "      <td>chr1</td>\n",
       "      <td>4785335</td>\n",
       "      <td>4786194</td>\n",
       "    </tr>\n",
       "    <tr>\n",
       "      <th>2</th>\n",
       "      <td>chr1</td>\n",
       "      <td>4807373</td>\n",
       "      <td>4808300</td>\n",
       "    </tr>\n",
       "    <tr>\n",
       "      <th>3</th>\n",
       "      <td>chr1</td>\n",
       "      <td>4857419</td>\n",
       "      <td>4858586</td>\n",
       "    </tr>\n",
       "    <tr>\n",
       "      <th>4</th>\n",
       "      <td>chr1</td>\n",
       "      <td>5082842</td>\n",
       "      <td>5083595</td>\n",
       "    </tr>\n",
       "    <tr>\n",
       "      <th>...</th>\n",
       "      <td>...</td>\n",
       "      <td>...</td>\n",
       "      <td>...</td>\n",
       "    </tr>\n",
       "    <tr>\n",
       "      <th>51862</th>\n",
       "      <td>chrY</td>\n",
       "      <td>90761198</td>\n",
       "      <td>90761746</td>\n",
       "    </tr>\n",
       "    <tr>\n",
       "      <th>51863</th>\n",
       "      <td>chrY</td>\n",
       "      <td>90798987</td>\n",
       "      <td>90799576</td>\n",
       "    </tr>\n",
       "    <tr>\n",
       "      <th>51864</th>\n",
       "      <td>chrY</td>\n",
       "      <td>90800522</td>\n",
       "      <td>90800811</td>\n",
       "    </tr>\n",
       "    <tr>\n",
       "      <th>51865</th>\n",
       "      <td>chrY</td>\n",
       "      <td>90805049</td>\n",
       "      <td>90805601</td>\n",
       "    </tr>\n",
       "    <tr>\n",
       "      <th>51866</th>\n",
       "      <td>chrY</td>\n",
       "      <td>90807656</td>\n",
       "      <td>90808917</td>\n",
       "    </tr>\n",
       "  </tbody>\n",
       "</table>\n",
       "<p>51867 rows × 3 columns</p>\n",
       "</div>"
      ],
      "text/plain": [
       "        chr     start       end\n",
       "0      chr1   4768517   4768778\n",
       "1      chr1   4785335   4786194\n",
       "2      chr1   4807373   4808300\n",
       "3      chr1   4857419   4858586\n",
       "4      chr1   5082842   5083595\n",
       "...     ...       ...       ...\n",
       "51862  chrY  90761198  90761746\n",
       "51863  chrY  90798987  90799576\n",
       "51864  chrY  90800522  90800811\n",
       "51865  chrY  90805049  90805601\n",
       "51866  chrY  90807656  90808917\n",
       "\n",
       "[51867 rows x 3 columns]"
      ]
     },
     "execution_count": 67,
     "metadata": {},
     "output_type": "execute_result"
    }
   ],
   "source": [
    "df_peaks"
   ]
  },
  {
   "cell_type": "code",
   "execution_count": 68,
   "id": "considerable-grocery",
   "metadata": {},
   "outputs": [],
   "source": [
    "threads = 8\n",
    "length = df_peaks.shape[0]"
   ]
  },
  {
   "cell_type": "code",
   "execution_count": 69,
   "id": "ongoing-friend",
   "metadata": {},
   "outputs": [],
   "source": [
    "chunk_size = length // threads + 1"
   ]
  },
  {
   "cell_type": "code",
   "execution_count": 70,
   "id": "everyday-tract",
   "metadata": {},
   "outputs": [
    {
     "data": {
      "text/plain": [
       "6484"
      ]
     },
     "execution_count": 70,
     "metadata": {},
     "output_type": "execute_result"
    }
   ],
   "source": [
    "chunk_size\n",
    "#chunk_size = 20"
   ]
  },
  {
   "cell_type": "code",
   "execution_count": 71,
   "id": "assisted-debut",
   "metadata": {},
   "outputs": [],
   "source": [
    "df_peak_list = [df_peaks.iloc[ chunk_size*i: chunk_size*(i+1) ,:] for i in range(threads)]"
   ]
  },
  {
   "cell_type": "code",
   "execution_count": 72,
   "id": "quiet-reservation",
   "metadata": {},
   "outputs": [],
   "source": [
    "# multiprocessing\n",
    "def get_df(df_peak):\n",
    "    index_res = set()\n",
    "    for _, data_peak in df_peak.iterrows():\n",
    "        peak_info = dict(data_peak)\n",
    "        frag_chr = df_fragments[df_fragments[\"chr\"] == peak_info[\"chr\"]]\n",
    "        frag_overlap_peak = frag_chr[ (frag_chr[\"start\"] >= peak_info[\"start\"]) & (frag_chr[\"end\"] <= peak_info[\"end\"])] \n",
    "        index_res.update(set(frag_overlap_peak.index))\n",
    "    return index_res"
   ]
  },
  {
   "cell_type": "code",
   "execution_count": 73,
   "id": "excited-cuisine",
   "metadata": {},
   "outputs": [],
   "source": [
    "with Pool(threads) as p:\n",
    "    results = p.starmap(get_df, zip(df_peak_list))"
   ]
  },
  {
   "cell_type": "code",
   "execution_count": 74,
   "id": "overall-diamond",
   "metadata": {},
   "outputs": [
    {
     "data": {
      "text/plain": [
       "1239490"
      ]
     },
     "execution_count": 74,
     "metadata": {},
     "output_type": "execute_result"
    }
   ],
   "source": [
    "results[0]"
   ]
  },
  {
   "cell_type": "code",
   "execution_count": 75,
   "id": "systematic-revision",
   "metadata": {},
   "outputs": [],
   "source": [
    "import itertools\n",
    "\n",
    "# 通过chain方法从可迭代对象中生成；最后展开成列表\n",
    "\n",
    "sum_data = set(itertools.chain.from_iterable(results))\n",
    "sum_data\n",
    "final_df1 = df_fragments[df_fragments.index.isin(sum_data)]"
   ]
  },
  {
   "cell_type": "code",
   "execution_count": 51,
   "id": "instant-snapshot",
   "metadata": {},
   "outputs": [
    {
     "data": {
      "text/html": [
       "<div>\n",
       "<style scoped>\n",
       "    .dataframe tbody tr th:only-of-type {\n",
       "        vertical-align: middle;\n",
       "    }\n",
       "\n",
       "    .dataframe tbody tr th {\n",
       "        vertical-align: top;\n",
       "    }\n",
       "\n",
       "    .dataframe thead th {\n",
       "        text-align: right;\n",
       "    }\n",
       "</style>\n",
       "<table border=\"1\" class=\"dataframe\">\n",
       "  <thead>\n",
       "    <tr style=\"text-align: right;\">\n",
       "      <th></th>\n",
       "      <th>chr</th>\n",
       "      <th>start</th>\n",
       "      <th>end</th>\n",
       "      <th>barcode</th>\n",
       "      <th>count</th>\n",
       "    </tr>\n",
       "  </thead>\n",
       "  <tbody>\n",
       "    <tr>\n",
       "      <th>13907500</th>\n",
       "      <td>chr1</td>\n",
       "      <td>4768517</td>\n",
       "      <td>4768564</td>\n",
       "      <td>GTAGTTCGTGTCAAATATCG</td>\n",
       "      <td>1</td>\n",
       "    </tr>\n",
       "    <tr>\n",
       "      <th>11413863</th>\n",
       "      <td>chr1</td>\n",
       "      <td>4768517</td>\n",
       "      <td>4768576</td>\n",
       "      <td>GCCAACGATCTTCCGGGGGT</td>\n",
       "      <td>2</td>\n",
       "    </tr>\n",
       "    <tr>\n",
       "      <th>18842260</th>\n",
       "      <td>chr1</td>\n",
       "      <td>4768519</td>\n",
       "      <td>4768566</td>\n",
       "      <td>TTGCGAGCATCAAGCCTATC</td>\n",
       "      <td>1</td>\n",
       "    </tr>\n",
       "    <tr>\n",
       "      <th>12372524</th>\n",
       "      <td>chr1</td>\n",
       "      <td>4768548</td>\n",
       "      <td>4768778</td>\n",
       "      <td>GCTTAGTATCCGGAATTACA</td>\n",
       "      <td>1</td>\n",
       "    </tr>\n",
       "    <tr>\n",
       "      <th>5208374</th>\n",
       "      <td>chr1</td>\n",
       "      <td>4768550</td>\n",
       "      <td>4768613</td>\n",
       "      <td>CAAGGATCGCTATCACGTCC</td>\n",
       "      <td>3</td>\n",
       "    </tr>\n",
       "    <tr>\n",
       "      <th>...</th>\n",
       "      <td>...</td>\n",
       "      <td>...</td>\n",
       "      <td>...</td>\n",
       "      <td>...</td>\n",
       "      <td>...</td>\n",
       "    </tr>\n",
       "    <tr>\n",
       "      <th>5602607</th>\n",
       "      <td>chr1</td>\n",
       "      <td>21963758</td>\n",
       "      <td>21963790</td>\n",
       "      <td>CAGACTTGGATTGGACCCTT</td>\n",
       "      <td>1</td>\n",
       "    </tr>\n",
       "    <tr>\n",
       "      <th>11017400</th>\n",
       "      <td>chr1</td>\n",
       "      <td>21963758</td>\n",
       "      <td>21963803</td>\n",
       "      <td>GATCTTTCCAATCGCAATTT</td>\n",
       "      <td>2</td>\n",
       "    </tr>\n",
       "    <tr>\n",
       "      <th>5905439</th>\n",
       "      <td>chr1</td>\n",
       "      <td>21963768</td>\n",
       "      <td>21963808</td>\n",
       "      <td>CAGTACATACGTCGCGGCTT</td>\n",
       "      <td>1</td>\n",
       "    </tr>\n",
       "    <tr>\n",
       "      <th>4861369</th>\n",
       "      <td>chr1</td>\n",
       "      <td>21963777</td>\n",
       "      <td>21963814</td>\n",
       "      <td>ATTACAAGACGATGTAACTA</td>\n",
       "      <td>1</td>\n",
       "    </tr>\n",
       "    <tr>\n",
       "      <th>4792543</th>\n",
       "      <td>chr1</td>\n",
       "      <td>21963786</td>\n",
       "      <td>21963843</td>\n",
       "      <td>ATGGGGTAGCATGGTAGCAT</td>\n",
       "      <td>1</td>\n",
       "    </tr>\n",
       "  </tbody>\n",
       "</table>\n",
       "<p>28108 rows × 5 columns</p>\n",
       "</div>"
      ],
      "text/plain": [
       "           chr     start       end               barcode  count\n",
       "13907500  chr1   4768517   4768564  GTAGTTCGTGTCAAATATCG      1\n",
       "11413863  chr1   4768517   4768576  GCCAACGATCTTCCGGGGGT      2\n",
       "18842260  chr1   4768519   4768566  TTGCGAGCATCAAGCCTATC      1\n",
       "12372524  chr1   4768548   4768778  GCTTAGTATCCGGAATTACA      1\n",
       "5208374   chr1   4768550   4768613  CAAGGATCGCTATCACGTCC      3\n",
       "...        ...       ...       ...                   ...    ...\n",
       "5602607   chr1  21963758  21963790  CAGACTTGGATTGGACCCTT      1\n",
       "11017400  chr1  21963758  21963803  GATCTTTCCAATCGCAATTT      2\n",
       "5905439   chr1  21963768  21963808  CAGTACATACGTCGCGGCTT      1\n",
       "4861369   chr1  21963777  21963814  ATTACAAGACGATGTAACTA      1\n",
       "4792543   chr1  21963786  21963843  ATGGGGTAGCATGGTAGCAT      1\n",
       "\n",
       "[28108 rows x 5 columns]"
      ]
     },
     "execution_count": 51,
     "metadata": {},
     "output_type": "execute_result"
    }
   ],
   "source": [
    "final_df"
   ]
  },
  {
   "cell_type": "code",
   "execution_count": 76,
   "id": "continued-bumper",
   "metadata": {},
   "outputs": [
    {
     "data": {
      "text/html": [
       "<div>\n",
       "<style scoped>\n",
       "    .dataframe tbody tr th:only-of-type {\n",
       "        vertical-align: middle;\n",
       "    }\n",
       "\n",
       "    .dataframe tbody tr th {\n",
       "        vertical-align: top;\n",
       "    }\n",
       "\n",
       "    .dataframe thead th {\n",
       "        text-align: right;\n",
       "    }\n",
       "</style>\n",
       "<table border=\"1\" class=\"dataframe\">\n",
       "  <thead>\n",
       "    <tr style=\"text-align: right;\">\n",
       "      <th></th>\n",
       "      <th>chr</th>\n",
       "      <th>start</th>\n",
       "      <th>end</th>\n",
       "      <th>barcode</th>\n",
       "      <th>count</th>\n",
       "    </tr>\n",
       "  </thead>\n",
       "  <tbody>\n",
       "    <tr>\n",
       "      <th>13907500</th>\n",
       "      <td>chr1</td>\n",
       "      <td>4768517</td>\n",
       "      <td>4768564</td>\n",
       "      <td>GTAGTTCGTGTCAAATATCG</td>\n",
       "      <td>1</td>\n",
       "    </tr>\n",
       "    <tr>\n",
       "      <th>11413863</th>\n",
       "      <td>chr1</td>\n",
       "      <td>4768517</td>\n",
       "      <td>4768576</td>\n",
       "      <td>GCCAACGATCTTCCGGGGGT</td>\n",
       "      <td>2</td>\n",
       "    </tr>\n",
       "    <tr>\n",
       "      <th>18842260</th>\n",
       "      <td>chr1</td>\n",
       "      <td>4768519</td>\n",
       "      <td>4768566</td>\n",
       "      <td>TTGCGAGCATCAAGCCTATC</td>\n",
       "      <td>1</td>\n",
       "    </tr>\n",
       "    <tr>\n",
       "      <th>12372524</th>\n",
       "      <td>chr1</td>\n",
       "      <td>4768548</td>\n",
       "      <td>4768778</td>\n",
       "      <td>GCTTAGTATCCGGAATTACA</td>\n",
       "      <td>1</td>\n",
       "    </tr>\n",
       "    <tr>\n",
       "      <th>5208374</th>\n",
       "      <td>chr1</td>\n",
       "      <td>4768550</td>\n",
       "      <td>4768613</td>\n",
       "      <td>CAAGGATCGCTATCACGTCC</td>\n",
       "      <td>3</td>\n",
       "    </tr>\n",
       "    <tr>\n",
       "      <th>...</th>\n",
       "      <td>...</td>\n",
       "      <td>...</td>\n",
       "      <td>...</td>\n",
       "      <td>...</td>\n",
       "      <td>...</td>\n",
       "    </tr>\n",
       "    <tr>\n",
       "      <th>16669</th>\n",
       "      <td>chrY</td>\n",
       "      <td>90808875</td>\n",
       "      <td>90808917</td>\n",
       "      <td>AACAATATGAGCAGGCTGCA</td>\n",
       "      <td>1</td>\n",
       "    </tr>\n",
       "    <tr>\n",
       "      <th>12776628</th>\n",
       "      <td>chrY</td>\n",
       "      <td>90808877</td>\n",
       "      <td>90808912</td>\n",
       "      <td>GGCATTGCAAGTGTTGGTCT</td>\n",
       "      <td>1</td>\n",
       "    </tr>\n",
       "    <tr>\n",
       "      <th>247127</th>\n",
       "      <td>chrY</td>\n",
       "      <td>90808877</td>\n",
       "      <td>90808917</td>\n",
       "      <td>AACGCGAGACTGACGGATAA</td>\n",
       "      <td>1</td>\n",
       "    </tr>\n",
       "    <tr>\n",
       "      <th>7950134</th>\n",
       "      <td>chrY</td>\n",
       "      <td>90808878</td>\n",
       "      <td>90808917</td>\n",
       "      <td>CGATGGGCGGAATTAGGGTC</td>\n",
       "      <td>1</td>\n",
       "    </tr>\n",
       "    <tr>\n",
       "      <th>2030570</th>\n",
       "      <td>chrY</td>\n",
       "      <td>90808883</td>\n",
       "      <td>90808917</td>\n",
       "      <td>ACGTCCATTCGGCAGATGGG</td>\n",
       "      <td>1</td>\n",
       "    </tr>\n",
       "  </tbody>\n",
       "</table>\n",
       "<p>10455721 rows × 5 columns</p>\n",
       "</div>"
      ],
      "text/plain": [
       "           chr     start       end               barcode  count\n",
       "13907500  chr1   4768517   4768564  GTAGTTCGTGTCAAATATCG      1\n",
       "11413863  chr1   4768517   4768576  GCCAACGATCTTCCGGGGGT      2\n",
       "18842260  chr1   4768519   4768566  TTGCGAGCATCAAGCCTATC      1\n",
       "12372524  chr1   4768548   4768778  GCTTAGTATCCGGAATTACA      1\n",
       "5208374   chr1   4768550   4768613  CAAGGATCGCTATCACGTCC      3\n",
       "...        ...       ...       ...                   ...    ...\n",
       "16669     chrY  90808875  90808917  AACAATATGAGCAGGCTGCA      1\n",
       "12776628  chrY  90808877  90808912  GGCATTGCAAGTGTTGGTCT      1\n",
       "247127    chrY  90808877  90808917  AACGCGAGACTGACGGATAA      1\n",
       "7950134   chrY  90808878  90808917  CGATGGGCGGAATTAGGGTC      1\n",
       "2030570   chrY  90808883  90808917  ACGTCCATTCGGCAGATGGG      1\n",
       "\n",
       "[10455721 rows x 5 columns]"
      ]
     },
     "execution_count": 76,
     "metadata": {},
     "output_type": "execute_result"
    }
   ],
   "source": [
    "final_df1"
   ]
  },
  {
   "cell_type": "code",
   "execution_count": null,
   "id": "israeli-communist",
   "metadata": {},
   "outputs": [],
   "source": [
    "list(final_df['count']) == list(final_df1['count'])"
   ]
  },
  {
   "cell_type": "code",
   "execution_count": 54,
   "id": "domestic-adapter",
   "metadata": {},
   "outputs": [],
   "source": [
    "ad = final_df == final_df1"
   ]
  },
  {
   "cell_type": "code",
   "execution_count": 65,
   "id": "young-french",
   "metadata": {},
   "outputs": [],
   "source": [
    "ad['count'].value_counts()"
   ]
  },
  {
   "cell_type": "code",
   "execution_count": 89,
   "id": "narrow-speaker",
   "metadata": {},
   "outputs": [],
   "source": [
    "final_df_count = final_df1.groupby('barcode', as_index=False).agg({'count': 'sum'})"
   ]
  },
  {
   "cell_type": "code",
   "execution_count": 92,
   "id": "hispanic-india",
   "metadata": {},
   "outputs": [
    {
     "data": {
      "text/html": [
       "<div>\n",
       "<style scoped>\n",
       "    .dataframe tbody tr th:only-of-type {\n",
       "        vertical-align: middle;\n",
       "    }\n",
       "\n",
       "    .dataframe tbody tr th {\n",
       "        vertical-align: top;\n",
       "    }\n",
       "\n",
       "    .dataframe thead th {\n",
       "        text-align: right;\n",
       "    }\n",
       "</style>\n",
       "<table border=\"1\" class=\"dataframe\">\n",
       "  <thead>\n",
       "    <tr style=\"text-align: right;\">\n",
       "      <th></th>\n",
       "      <th>barcode</th>\n",
       "      <th>count</th>\n",
       "    </tr>\n",
       "  </thead>\n",
       "  <tbody>\n",
       "    <tr>\n",
       "      <th>0</th>\n",
       "      <td>AACAATAACGTCTCAACAAT</td>\n",
       "      <td>2</td>\n",
       "    </tr>\n",
       "    <tr>\n",
       "      <th>1</th>\n",
       "      <td>AACAATAACGTCTCACACAC</td>\n",
       "      <td>1</td>\n",
       "    </tr>\n",
       "    <tr>\n",
       "      <th>2</th>\n",
       "      <td>AACAATAACGTCTCAGCCCA</td>\n",
       "      <td>2</td>\n",
       "    </tr>\n",
       "    <tr>\n",
       "      <th>3</th>\n",
       "      <td>AACAATAACGTCTCAGGAAA</td>\n",
       "      <td>1</td>\n",
       "    </tr>\n",
       "    <tr>\n",
       "      <th>4</th>\n",
       "      <td>AACAATAACGTCTCAGGGTC</td>\n",
       "      <td>8</td>\n",
       "    </tr>\n",
       "    <tr>\n",
       "      <th>...</th>\n",
       "      <td>...</td>\n",
       "      <td>...</td>\n",
       "    </tr>\n",
       "    <tr>\n",
       "      <th>566282</th>\n",
       "      <td>TTTTTGTTGTCCGATGCGGG</td>\n",
       "      <td>6</td>\n",
       "    </tr>\n",
       "    <tr>\n",
       "      <th>566283</th>\n",
       "      <td>TTTTTGTTGTCCGATTCCCT</td>\n",
       "      <td>1</td>\n",
       "    </tr>\n",
       "    <tr>\n",
       "      <th>566284</th>\n",
       "      <td>TTTTTGTTGTCCGATTGACC</td>\n",
       "      <td>38</td>\n",
       "    </tr>\n",
       "    <tr>\n",
       "      <th>566285</th>\n",
       "      <td>TTTTTGTTGTCCGATTGCGA</td>\n",
       "      <td>2</td>\n",
       "    </tr>\n",
       "    <tr>\n",
       "      <th>566286</th>\n",
       "      <td>TTTTTGTTGTCCGATTTGAC</td>\n",
       "      <td>6</td>\n",
       "    </tr>\n",
       "  </tbody>\n",
       "</table>\n",
       "<p>566287 rows × 2 columns</p>\n",
       "</div>"
      ],
      "text/plain": [
       "                     barcode  count\n",
       "0       AACAATAACGTCTCAACAAT      2\n",
       "1       AACAATAACGTCTCACACAC      1\n",
       "2       AACAATAACGTCTCAGCCCA      2\n",
       "3       AACAATAACGTCTCAGGAAA      1\n",
       "4       AACAATAACGTCTCAGGGTC      8\n",
       "...                      ...    ...\n",
       "566282  TTTTTGTTGTCCGATGCGGG      6\n",
       "566283  TTTTTGTTGTCCGATTCCCT      1\n",
       "566284  TTTTTGTTGTCCGATTGACC     38\n",
       "566285  TTTTTGTTGTCCGATTGCGA      2\n",
       "566286  TTTTTGTTGTCCGATTTGAC      6\n",
       "\n",
       "[566287 rows x 2 columns]"
      ]
     },
     "execution_count": 92,
     "metadata": {},
     "output_type": "execute_result"
    }
   ],
   "source": [
    "final_df_count"
   ]
  },
  {
   "cell_type": "code",
   "execution_count": 93,
   "id": "impossible-bahrain",
   "metadata": {},
   "outputs": [],
   "source": [
    "df_barcode = pd.merge(df_barcode, final_df_count, on='barcode', how='outer').fillna(0)"
   ]
  },
  {
   "cell_type": "code",
   "execution_count": 94,
   "id": "passive-crazy",
   "metadata": {},
   "outputs": [
    {
     "data": {
      "text/html": [
       "<div>\n",
       "<style scoped>\n",
       "    .dataframe tbody tr th:only-of-type {\n",
       "        vertical-align: middle;\n",
       "    }\n",
       "\n",
       "    .dataframe tbody tr th {\n",
       "        vertical-align: top;\n",
       "    }\n",
       "\n",
       "    .dataframe thead th {\n",
       "        text-align: right;\n",
       "    }\n",
       "</style>\n",
       "<table border=\"1\" class=\"dataframe\">\n",
       "  <thead>\n",
       "    <tr style=\"text-align: right;\">\n",
       "      <th></th>\n",
       "      <th>barcode</th>\n",
       "      <th>fragments</th>\n",
       "      <th>fragments_overlapping_promoter</th>\n",
       "      <th>count</th>\n",
       "    </tr>\n",
       "  </thead>\n",
       "  <tbody>\n",
       "    <tr>\n",
       "      <th>0</th>\n",
       "      <td>AACAATAACGTCTCAACAAT</td>\n",
       "      <td>3</td>\n",
       "      <td>0</td>\n",
       "      <td>2.0</td>\n",
       "    </tr>\n",
       "    <tr>\n",
       "      <th>1</th>\n",
       "      <td>AACAATAACGTCTCAACGCG</td>\n",
       "      <td>1</td>\n",
       "      <td>1</td>\n",
       "      <td>0.0</td>\n",
       "    </tr>\n",
       "    <tr>\n",
       "      <th>2</th>\n",
       "      <td>AACAATAACGTCTCACACAC</td>\n",
       "      <td>1</td>\n",
       "      <td>1</td>\n",
       "      <td>1.0</td>\n",
       "    </tr>\n",
       "    <tr>\n",
       "      <th>3</th>\n",
       "      <td>AACAATAACGTCTCACAGTG</td>\n",
       "      <td>1</td>\n",
       "      <td>0</td>\n",
       "      <td>0.0</td>\n",
       "    </tr>\n",
       "    <tr>\n",
       "      <th>4</th>\n",
       "      <td>AACAATAACGTCTCACGTCC</td>\n",
       "      <td>1</td>\n",
       "      <td>0</td>\n",
       "      <td>0.0</td>\n",
       "    </tr>\n",
       "    <tr>\n",
       "      <th>...</th>\n",
       "      <td>...</td>\n",
       "      <td>...</td>\n",
       "      <td>...</td>\n",
       "      <td>...</td>\n",
       "    </tr>\n",
       "    <tr>\n",
       "      <th>668319</th>\n",
       "      <td>TTTTTGTTGTCCGATGCGGG</td>\n",
       "      <td>6</td>\n",
       "      <td>6</td>\n",
       "      <td>6.0</td>\n",
       "    </tr>\n",
       "    <tr>\n",
       "      <th>668320</th>\n",
       "      <td>TTTTTGTTGTCCGATTCCCT</td>\n",
       "      <td>3</td>\n",
       "      <td>2</td>\n",
       "      <td>1.0</td>\n",
       "    </tr>\n",
       "    <tr>\n",
       "      <th>668321</th>\n",
       "      <td>TTTTTGTTGTCCGATTGACC</td>\n",
       "      <td>67</td>\n",
       "      <td>31</td>\n",
       "      <td>38.0</td>\n",
       "    </tr>\n",
       "    <tr>\n",
       "      <th>668322</th>\n",
       "      <td>TTTTTGTTGTCCGATTGCGA</td>\n",
       "      <td>9</td>\n",
       "      <td>4</td>\n",
       "      <td>2.0</td>\n",
       "    </tr>\n",
       "    <tr>\n",
       "      <th>668323</th>\n",
       "      <td>TTTTTGTTGTCCGATTTGAC</td>\n",
       "      <td>10</td>\n",
       "      <td>3</td>\n",
       "      <td>6.0</td>\n",
       "    </tr>\n",
       "  </tbody>\n",
       "</table>\n",
       "<p>668324 rows × 4 columns</p>\n",
       "</div>"
      ],
      "text/plain": [
       "                     barcode  fragments  fragments_overlapping_promoter  count\n",
       "0       AACAATAACGTCTCAACAAT          3                               0    2.0\n",
       "1       AACAATAACGTCTCAACGCG          1                               1    0.0\n",
       "2       AACAATAACGTCTCACACAC          1                               1    1.0\n",
       "3       AACAATAACGTCTCACAGTG          1                               0    0.0\n",
       "4       AACAATAACGTCTCACGTCC          1                               0    0.0\n",
       "...                      ...        ...                             ...    ...\n",
       "668319  TTTTTGTTGTCCGATGCGGG          6                               6    6.0\n",
       "668320  TTTTTGTTGTCCGATTCCCT          3                               2    1.0\n",
       "668321  TTTTTGTTGTCCGATTGACC         67                              31   38.0\n",
       "668322  TTTTTGTTGTCCGATTGCGA          9                               4    2.0\n",
       "668323  TTTTTGTTGTCCGATTTGAC         10                               3    6.0\n",
       "\n",
       "[668324 rows x 4 columns]"
      ]
     },
     "execution_count": 94,
     "metadata": {},
     "output_type": "execute_result"
    }
   ],
   "source": [
    "df_barcode"
   ]
  },
  {
   "cell_type": "code",
   "execution_count": 95,
   "id": "valid-penguin",
   "metadata": {},
   "outputs": [],
   "source": [
    "df_barcode = df_barcode.rename(columns={'count': 'overlap_peaks'})"
   ]
  },
  {
   "cell_type": "code",
   "execution_count": 96,
   "id": "biological-narrative",
   "metadata": {},
   "outputs": [],
   "source": [
    "df_barcode['frac_peak'] = round(df_barcode['overlap_peaks'] / df_barcode['fragments'], 4)"
   ]
  },
  {
   "cell_type": "code",
   "execution_count": 97,
   "id": "palestinian-judges",
   "metadata": {},
   "outputs": [
    {
     "data": {
      "text/html": [
       "<div>\n",
       "<style scoped>\n",
       "    .dataframe tbody tr th:only-of-type {\n",
       "        vertical-align: middle;\n",
       "    }\n",
       "\n",
       "    .dataframe tbody tr th {\n",
       "        vertical-align: top;\n",
       "    }\n",
       "\n",
       "    .dataframe thead th {\n",
       "        text-align: right;\n",
       "    }\n",
       "</style>\n",
       "<table border=\"1\" class=\"dataframe\">\n",
       "  <thead>\n",
       "    <tr style=\"text-align: right;\">\n",
       "      <th></th>\n",
       "      <th>barcode</th>\n",
       "      <th>fragments</th>\n",
       "      <th>fragments_overlapping_promoter</th>\n",
       "      <th>overlap_peaks</th>\n",
       "      <th>frac_peak</th>\n",
       "    </tr>\n",
       "  </thead>\n",
       "  <tbody>\n",
       "    <tr>\n",
       "      <th>0</th>\n",
       "      <td>AACAATAACGTCTCAACAAT</td>\n",
       "      <td>3</td>\n",
       "      <td>0</td>\n",
       "      <td>2.0</td>\n",
       "      <td>0.6667</td>\n",
       "    </tr>\n",
       "    <tr>\n",
       "      <th>1</th>\n",
       "      <td>AACAATAACGTCTCAACGCG</td>\n",
       "      <td>1</td>\n",
       "      <td>1</td>\n",
       "      <td>0.0</td>\n",
       "      <td>0.0000</td>\n",
       "    </tr>\n",
       "    <tr>\n",
       "      <th>2</th>\n",
       "      <td>AACAATAACGTCTCACACAC</td>\n",
       "      <td>1</td>\n",
       "      <td>1</td>\n",
       "      <td>1.0</td>\n",
       "      <td>1.0000</td>\n",
       "    </tr>\n",
       "    <tr>\n",
       "      <th>3</th>\n",
       "      <td>AACAATAACGTCTCACAGTG</td>\n",
       "      <td>1</td>\n",
       "      <td>0</td>\n",
       "      <td>0.0</td>\n",
       "      <td>0.0000</td>\n",
       "    </tr>\n",
       "    <tr>\n",
       "      <th>4</th>\n",
       "      <td>AACAATAACGTCTCACGTCC</td>\n",
       "      <td>1</td>\n",
       "      <td>0</td>\n",
       "      <td>0.0</td>\n",
       "      <td>0.0000</td>\n",
       "    </tr>\n",
       "    <tr>\n",
       "      <th>...</th>\n",
       "      <td>...</td>\n",
       "      <td>...</td>\n",
       "      <td>...</td>\n",
       "      <td>...</td>\n",
       "      <td>...</td>\n",
       "    </tr>\n",
       "    <tr>\n",
       "      <th>668319</th>\n",
       "      <td>TTTTTGTTGTCCGATGCGGG</td>\n",
       "      <td>6</td>\n",
       "      <td>6</td>\n",
       "      <td>6.0</td>\n",
       "      <td>1.0000</td>\n",
       "    </tr>\n",
       "    <tr>\n",
       "      <th>668320</th>\n",
       "      <td>TTTTTGTTGTCCGATTCCCT</td>\n",
       "      <td>3</td>\n",
       "      <td>2</td>\n",
       "      <td>1.0</td>\n",
       "      <td>0.3333</td>\n",
       "    </tr>\n",
       "    <tr>\n",
       "      <th>668321</th>\n",
       "      <td>TTTTTGTTGTCCGATTGACC</td>\n",
       "      <td>67</td>\n",
       "      <td>31</td>\n",
       "      <td>38.0</td>\n",
       "      <td>0.5672</td>\n",
       "    </tr>\n",
       "    <tr>\n",
       "      <th>668322</th>\n",
       "      <td>TTTTTGTTGTCCGATTGCGA</td>\n",
       "      <td>9</td>\n",
       "      <td>4</td>\n",
       "      <td>2.0</td>\n",
       "      <td>0.2222</td>\n",
       "    </tr>\n",
       "    <tr>\n",
       "      <th>668323</th>\n",
       "      <td>TTTTTGTTGTCCGATTTGAC</td>\n",
       "      <td>10</td>\n",
       "      <td>3</td>\n",
       "      <td>6.0</td>\n",
       "      <td>0.6000</td>\n",
       "    </tr>\n",
       "  </tbody>\n",
       "</table>\n",
       "<p>668324 rows × 5 columns</p>\n",
       "</div>"
      ],
      "text/plain": [
       "                     barcode  fragments  fragments_overlapping_promoter  \\\n",
       "0       AACAATAACGTCTCAACAAT          3                               0   \n",
       "1       AACAATAACGTCTCAACGCG          1                               1   \n",
       "2       AACAATAACGTCTCACACAC          1                               1   \n",
       "3       AACAATAACGTCTCACAGTG          1                               0   \n",
       "4       AACAATAACGTCTCACGTCC          1                               0   \n",
       "...                      ...        ...                             ...   \n",
       "668319  TTTTTGTTGTCCGATGCGGG          6                               6   \n",
       "668320  TTTTTGTTGTCCGATTCCCT          3                               2   \n",
       "668321  TTTTTGTTGTCCGATTGACC         67                              31   \n",
       "668322  TTTTTGTTGTCCGATTGCGA          9                               4   \n",
       "668323  TTTTTGTTGTCCGATTTGAC         10                               3   \n",
       "\n",
       "        overlap_peaks  frac_peak  \n",
       "0                 2.0     0.6667  \n",
       "1                 0.0     0.0000  \n",
       "2                 1.0     1.0000  \n",
       "3                 0.0     0.0000  \n",
       "4                 0.0     0.0000  \n",
       "...               ...        ...  \n",
       "668319            6.0     1.0000  \n",
       "668320            1.0     0.3333  \n",
       "668321           38.0     0.5672  \n",
       "668322            2.0     0.2222  \n",
       "668323            6.0     0.6000  \n",
       "\n",
       "[668324 rows x 5 columns]"
      ]
     },
     "execution_count": 97,
     "metadata": {},
     "output_type": "execute_result"
    }
   ],
   "source": [
    "df_barcode"
   ]
  },
  {
   "cell_type": "code",
   "execution_count": null,
   "id": "purple-twins",
   "metadata": {},
   "outputs": [],
   "source": [
    "df_barcode['cell_called'] = df_barcode['barcode'].apply(lambda x: True if x in cell_barcode else False)"
   ]
  },
  {
   "cell_type": "code",
   "execution_count": null,
   "id": "biblical-argument",
   "metadata": {},
   "outputs": [],
   "source": []
  },
  {
   "cell_type": "code",
   "execution_count": 98,
   "id": "molecular-profile",
   "metadata": {},
   "outputs": [
    {
     "data": {
      "text/html": [
       "<div>\n",
       "<style scoped>\n",
       "    .dataframe tbody tr th:only-of-type {\n",
       "        vertical-align: middle;\n",
       "    }\n",
       "\n",
       "    .dataframe tbody tr th {\n",
       "        vertical-align: top;\n",
       "    }\n",
       "\n",
       "    .dataframe thead th {\n",
       "        text-align: right;\n",
       "    }\n",
       "</style>\n",
       "<table border=\"1\" class=\"dataframe\">\n",
       "  <thead>\n",
       "    <tr style=\"text-align: right;\">\n",
       "      <th></th>\n",
       "      <th>chr</th>\n",
       "      <th>start</th>\n",
       "      <th>end</th>\n",
       "      <th>barcode</th>\n",
       "      <th>count</th>\n",
       "    </tr>\n",
       "  </thead>\n",
       "  <tbody>\n",
       "    <tr>\n",
       "      <th>165035</th>\n",
       "      <td>chr1</td>\n",
       "      <td>3003786</td>\n",
       "      <td>3003903</td>\n",
       "      <td>AACAATTGGCTTCTTTTGAC</td>\n",
       "      <td>1</td>\n",
       "    </tr>\n",
       "    <tr>\n",
       "      <th>1633690</th>\n",
       "      <td>chr1</td>\n",
       "      <td>3003975</td>\n",
       "      <td>3004005</td>\n",
       "      <td>ACCCTTCAGGATCATGACCC</td>\n",
       "      <td>1</td>\n",
       "    </tr>\n",
       "    <tr>\n",
       "      <th>10348822</th>\n",
       "      <td>chr1</td>\n",
       "      <td>3004652</td>\n",
       "      <td>3004699</td>\n",
       "      <td>GAAAAGTGTGCGTACCCGCC</td>\n",
       "      <td>1</td>\n",
       "    </tr>\n",
       "    <tr>\n",
       "      <th>2386893</th>\n",
       "      <td>chr1</td>\n",
       "      <td>3004791</td>\n",
       "      <td>3004834</td>\n",
       "      <td>ACTGGTTGCATCCTAGCCCA</td>\n",
       "      <td>2</td>\n",
       "    </tr>\n",
       "    <tr>\n",
       "      <th>15793733</th>\n",
       "      <td>chr1</td>\n",
       "      <td>3005277</td>\n",
       "      <td>3005613</td>\n",
       "      <td>TCAACTTAGTGAGCACGTCC</td>\n",
       "      <td>3</td>\n",
       "    </tr>\n",
       "    <tr>\n",
       "      <th>...</th>\n",
       "      <td>...</td>\n",
       "      <td>...</td>\n",
       "      <td>...</td>\n",
       "      <td>...</td>\n",
       "      <td>...</td>\n",
       "    </tr>\n",
       "    <tr>\n",
       "      <th>9833889</th>\n",
       "      <td>chrY</td>\n",
       "      <td>90828968</td>\n",
       "      <td>90829015</td>\n",
       "      <td>CTTCAGGCGATGTTTCATTC</td>\n",
       "      <td>1</td>\n",
       "    </tr>\n",
       "    <tr>\n",
       "      <th>3749131</th>\n",
       "      <td>chrY</td>\n",
       "      <td>90828971</td>\n",
       "      <td>90829014</td>\n",
       "      <td>AGTCTGTTCTAGGCCAGTAC</td>\n",
       "      <td>3</td>\n",
       "    </tr>\n",
       "    <tr>\n",
       "      <th>502508</th>\n",
       "      <td>chrY</td>\n",
       "      <td>90828984</td>\n",
       "      <td>90829202</td>\n",
       "      <td>AAGTGTACGTTGCAAGGGTC</td>\n",
       "      <td>2</td>\n",
       "    </tr>\n",
       "    <tr>\n",
       "      <th>15917205</th>\n",
       "      <td>chrY</td>\n",
       "      <td>90829080</td>\n",
       "      <td>90829202</td>\n",
       "      <td>TCATTCATGGTGGAACACAC</td>\n",
       "      <td>1</td>\n",
       "    </tr>\n",
       "    <tr>\n",
       "      <th>17509055</th>\n",
       "      <td>chrY</td>\n",
       "      <td>90829176</td>\n",
       "      <td>90829544</td>\n",
       "      <td>TGCGGGGATCGCATCGAGAC</td>\n",
       "      <td>1</td>\n",
       "    </tr>\n",
       "  </tbody>\n",
       "</table>\n",
       "<p>19469896 rows × 5 columns</p>\n",
       "</div>"
      ],
      "text/plain": [
       "           chr     start       end               barcode  count\n",
       "165035    chr1   3003786   3003903  AACAATTGGCTTCTTTTGAC      1\n",
       "1633690   chr1   3003975   3004005  ACCCTTCAGGATCATGACCC      1\n",
       "10348822  chr1   3004652   3004699  GAAAAGTGTGCGTACCCGCC      1\n",
       "2386893   chr1   3004791   3004834  ACTGGTTGCATCCTAGCCCA      2\n",
       "15793733  chr1   3005277   3005613  TCAACTTAGTGAGCACGTCC      3\n",
       "...        ...       ...       ...                   ...    ...\n",
       "9833889   chrY  90828968  90829015  CTTCAGGCGATGTTTCATTC      1\n",
       "3749131   chrY  90828971  90829014  AGTCTGTTCTAGGCCAGTAC      3\n",
       "502508    chrY  90828984  90829202  AAGTGTACGTTGCAAGGGTC      2\n",
       "15917205  chrY  90829080  90829202  TCATTCATGGTGGAACACAC      1\n",
       "17509055  chrY  90829176  90829544  TGCGGGGATCGCATCGAGAC      1\n",
       "\n",
       "[19469896 rows x 5 columns]"
      ]
     },
     "execution_count": 98,
     "metadata": {},
     "output_type": "execute_result"
    }
   ],
   "source": [
    "df_fragments"
   ]
  },
  {
   "cell_type": "code",
   "execution_count": 99,
   "id": "lined-pointer",
   "metadata": {},
   "outputs": [],
   "source": [
    "frag_chr = df_fragments[df_fragments[\"chr\"] == \"chr1\"]"
   ]
  },
  {
   "cell_type": "code",
   "execution_count": 101,
   "id": "iraqi-lincoln",
   "metadata": {},
   "outputs": [],
   "source": [
    "frag_overlap_peak = frag_chr[ (frag_chr[\"start\"] >= 4768517) & (frag_chr[\"end\"] <= 4768564)]"
   ]
  },
  {
   "cell_type": "code",
   "execution_count": 102,
   "id": "premier-thong",
   "metadata": {},
   "outputs": [
    {
     "data": {
      "text/html": [
       "<div>\n",
       "<style scoped>\n",
       "    .dataframe tbody tr th:only-of-type {\n",
       "        vertical-align: middle;\n",
       "    }\n",
       "\n",
       "    .dataframe tbody tr th {\n",
       "        vertical-align: top;\n",
       "    }\n",
       "\n",
       "    .dataframe thead th {\n",
       "        text-align: right;\n",
       "    }\n",
       "</style>\n",
       "<table border=\"1\" class=\"dataframe\">\n",
       "  <thead>\n",
       "    <tr style=\"text-align: right;\">\n",
       "      <th></th>\n",
       "      <th>chr</th>\n",
       "      <th>start</th>\n",
       "      <th>end</th>\n",
       "      <th>barcode</th>\n",
       "      <th>count</th>\n",
       "    </tr>\n",
       "  </thead>\n",
       "  <tbody>\n",
       "    <tr>\n",
       "      <th>13907500</th>\n",
       "      <td>chr1</td>\n",
       "      <td>4768517</td>\n",
       "      <td>4768564</td>\n",
       "      <td>GTAGTTCGTGTCAAATATCG</td>\n",
       "      <td>1</td>\n",
       "    </tr>\n",
       "  </tbody>\n",
       "</table>\n",
       "</div>"
      ],
      "text/plain": [
       "           chr    start      end               barcode  count\n",
       "13907500  chr1  4768517  4768564  GTAGTTCGTGTCAAATATCG      1"
      ]
     },
     "execution_count": 102,
     "metadata": {},
     "output_type": "execute_result"
    }
   ],
   "source": [
    "frag_overlap_peak"
   ]
  },
  {
   "cell_type": "code",
   "execution_count": 104,
   "id": "searching-custom",
   "metadata": {},
   "outputs": [
    {
     "data": {
      "text/plain": [
       "{'chr1',\n",
       " 'chr10',\n",
       " 'chr11',\n",
       " 'chr12',\n",
       " 'chr13',\n",
       " 'chr14',\n",
       " 'chr15',\n",
       " 'chr16',\n",
       " 'chr17',\n",
       " 'chr18',\n",
       " 'chr19',\n",
       " 'chr2',\n",
       " 'chr3',\n",
       " 'chr4',\n",
       " 'chr5',\n",
       " 'chr6',\n",
       " 'chr7',\n",
       " 'chr8',\n",
       " 'chr9',\n",
       " 'chrX',\n",
       " 'chrY'}"
      ]
     },
     "execution_count": 104,
     "metadata": {},
     "output_type": "execute_result"
    }
   ],
   "source": [
    "set(df_peaks.chr)"
   ]
  },
  {
   "cell_type": "code",
   "execution_count": 105,
   "id": "comparable-indianapolis",
   "metadata": {},
   "outputs": [],
   "source": [
    "df_peaks1=pd.read_csv(\"/SGRNJ06/randd/PROJECT/scATAC/20231006_ME_sc/A0920_3_ME_YSPB_WX_D_T7_EDTA5030/03.atac/A0920_3_ME_YSPB_WX_D_T7_EDTA5030/outs/filtered_peak_bc_matrix/peaks.bed\",header=None, sep='\\t', names=[\"chr\", \"start\", \"end\"])"
   ]
  },
  {
   "cell_type": "code",
   "execution_count": 106,
   "id": "absolute-worker",
   "metadata": {},
   "outputs": [
    {
     "data": {
      "text/html": [
       "<div>\n",
       "<style scoped>\n",
       "    .dataframe tbody tr th:only-of-type {\n",
       "        vertical-align: middle;\n",
       "    }\n",
       "\n",
       "    .dataframe tbody tr th {\n",
       "        vertical-align: top;\n",
       "    }\n",
       "\n",
       "    .dataframe thead th {\n",
       "        text-align: right;\n",
       "    }\n",
       "</style>\n",
       "<table border=\"1\" class=\"dataframe\">\n",
       "  <thead>\n",
       "    <tr style=\"text-align: right;\">\n",
       "      <th></th>\n",
       "      <th>chr</th>\n",
       "      <th>start</th>\n",
       "      <th>end</th>\n",
       "    </tr>\n",
       "  </thead>\n",
       "  <tbody>\n",
       "    <tr>\n",
       "      <th>0</th>\n",
       "      <td>chr1</td>\n",
       "      <td>3094558</td>\n",
       "      <td>3095456</td>\n",
       "    </tr>\n",
       "    <tr>\n",
       "      <th>1</th>\n",
       "      <td>chr1</td>\n",
       "      <td>3119609</td>\n",
       "      <td>3120531</td>\n",
       "    </tr>\n",
       "    <tr>\n",
       "      <th>2</th>\n",
       "      <td>chr1</td>\n",
       "      <td>3121272</td>\n",
       "      <td>3121966</td>\n",
       "    </tr>\n",
       "    <tr>\n",
       "      <th>3</th>\n",
       "      <td>chr1</td>\n",
       "      <td>3297177</td>\n",
       "      <td>3298080</td>\n",
       "    </tr>\n",
       "    <tr>\n",
       "      <th>4</th>\n",
       "      <td>chr1</td>\n",
       "      <td>3395281</td>\n",
       "      <td>3396216</td>\n",
       "    </tr>\n",
       "    <tr>\n",
       "      <th>...</th>\n",
       "      <td>...</td>\n",
       "      <td>...</td>\n",
       "      <td>...</td>\n",
       "    </tr>\n",
       "    <tr>\n",
       "      <th>181725</th>\n",
       "      <td>GL456216.1</td>\n",
       "      <td>40484</td>\n",
       "      <td>41157</td>\n",
       "    </tr>\n",
       "    <tr>\n",
       "      <th>181726</th>\n",
       "      <td>GL456216.1</td>\n",
       "      <td>43802</td>\n",
       "      <td>44679</td>\n",
       "    </tr>\n",
       "    <tr>\n",
       "      <th>181727</th>\n",
       "      <td>GL456216.1</td>\n",
       "      <td>48811</td>\n",
       "      <td>49704</td>\n",
       "    </tr>\n",
       "    <tr>\n",
       "      <th>181728</th>\n",
       "      <td>JH584292.1</td>\n",
       "      <td>12577</td>\n",
       "      <td>13540</td>\n",
       "    </tr>\n",
       "    <tr>\n",
       "      <th>181729</th>\n",
       "      <td>JH584295.1</td>\n",
       "      <td>1540</td>\n",
       "      <td>1976</td>\n",
       "    </tr>\n",
       "  </tbody>\n",
       "</table>\n",
       "<p>181730 rows × 3 columns</p>\n",
       "</div>"
      ],
      "text/plain": [
       "               chr    start      end\n",
       "0             chr1  3094558  3095456\n",
       "1             chr1  3119609  3120531\n",
       "2             chr1  3121272  3121966\n",
       "3             chr1  3297177  3298080\n",
       "4             chr1  3395281  3396216\n",
       "...            ...      ...      ...\n",
       "181725  GL456216.1    40484    41157\n",
       "181726  GL456216.1    43802    44679\n",
       "181727  GL456216.1    48811    49704\n",
       "181728  JH584292.1    12577    13540\n",
       "181729  JH584295.1     1540     1976\n",
       "\n",
       "[181730 rows x 3 columns]"
      ]
     },
     "execution_count": 106,
     "metadata": {},
     "output_type": "execute_result"
    }
   ],
   "source": [
    "df_peaks1"
   ]
  },
  {
   "cell_type": "code",
   "execution_count": 107,
   "id": "level-mentor",
   "metadata": {},
   "outputs": [
    {
     "data": {
      "text/plain": [
       "{'GL456216.1',\n",
       " 'GL456233.1',\n",
       " 'JH584292.1',\n",
       " 'JH584295.1',\n",
       " 'JH584304.1',\n",
       " 'chr1',\n",
       " 'chr10',\n",
       " 'chr11',\n",
       " 'chr12',\n",
       " 'chr13',\n",
       " 'chr14',\n",
       " 'chr15',\n",
       " 'chr16',\n",
       " 'chr17',\n",
       " 'chr18',\n",
       " 'chr19',\n",
       " 'chr2',\n",
       " 'chr3',\n",
       " 'chr4',\n",
       " 'chr5',\n",
       " 'chr6',\n",
       " 'chr7',\n",
       " 'chr8',\n",
       " 'chr9',\n",
       " 'chrX',\n",
       " 'chrY'}"
      ]
     },
     "execution_count": 107,
     "metadata": {},
     "output_type": "execute_result"
    }
   ],
   "source": [
    "set(df_peaks1.chr)"
   ]
  },
  {
   "cell_type": "code",
   "execution_count": null,
   "id": "quality-shirt",
   "metadata": {},
   "outputs": [],
   "source": []
  }
 ],
 "metadata": {
  "kernelspec": {
   "display_name": "trust4_1.7",
   "language": "python",
   "name": "trust4_1.7"
  },
  "language_info": {
   "codemirror_mode": {
    "name": "ipython",
    "version": 3
   },
   "file_extension": ".py",
   "mimetype": "text/x-python",
   "name": "python",
   "nbconvert_exporter": "python",
   "pygments_lexer": "ipython3",
   "version": "3.7.10"
  }
 },
 "nbformat": 4,
 "nbformat_minor": 5
}
