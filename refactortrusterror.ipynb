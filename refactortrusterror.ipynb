{
 "cells": [
  {
   "cell_type": "code",
   "execution_count": null,
   "id": "improving-approach",
   "metadata": {},
   "outputs": [],
   "source": [
    "from collections import defaultdict\n",
    "\n",
    "import pandas as pd\n",
    "import numpy as np\n",
    "import pysam\n",
    "import copy"
   ]
  },
  {
   "cell_type": "code",
   "execution_count": null,
   "id": "universal-whole",
   "metadata": {},
   "outputs": [],
   "source": [
    "class Auto():\n",
    "    \"\"\"\n",
    "    threshold = top {percentile}% cell count / coef\n",
    "    count is usually UMI count.\n",
    "    >>> array = [50] * 100 + [30] * 100 + [10] * 100 + [4] * 100\n",
    "    >>> Auto(array, coef=10).run()\n",
    "    5\n",
    "    >>> Auto(array, percentile=70, coef=3).run()\n",
    "    10\n",
    "    >>> Auto(array, percentile=50, coef=10, expected_cell_num=100).run()\n",
    "    5\n",
    "    >>> Auto([1, 2, 20, 30, 40], expected_cell_num=4, percentile=50, coef=10).run()\n",
    "    2\n",
    "    \"\"\"\n",
    "    def __init__(self, array, percentile=99, coef=3, expected_cell_num=None, **kwargs):\n",
    "        self.array = [x for x in array if x > 0 ]\n",
    "        self.percentile = percentile\n",
    "        self.coef = int(coef)\n",
    "        self.expected_cell_num = expected_cell_num\n",
    "        self.kwargs = kwargs\n",
    "    \n",
    "    def run(self):\n",
    "        array = self.array\n",
    "        if not array:\n",
    "            return 1\n",
    "\n",
    "        if not self.expected_cell_num:\n",
    "            expected_cell_num = len(array)\n",
    "        else:\n",
    "            expected_cell_num = self.expected_cell_num\n",
    "            if expected_cell_num > len(array):\n",
    "                print('Warning: expected_cell_num > len(array)')\n",
    "                expected_cell_num = len(array)\n",
    "                      \n",
    "        sorted_counts = sorted(array, reverse=True)\n",
    "        count_cell_percentile = np.percentile(sorted_counts[:expected_cell_num], self.percentile)\n",
    "        threshold = int(count_cell_percentile / self.coef)\n",
    "\n",
    "        return threshold\n",
    "def target_cell_calling(df_UMI_sum, expected_target_cell_num=3000, target_barcodes=None, weight=6, coef=5, \n",
    "    percentile=85, umi_col='umis'):\n",
    "    \"\"\"\n",
    "    Args:\n",
    "        df_UMI_sum: A dataframe with columns highest umi's contig and UMI.\n",
    "    \n",
    "    Returns:\n",
    "        target_contigs_id: list\n",
    "    >>> df_UMI_sum = pd.DataFrame({\"contig_id\": [\"A\", \"B\", \"C\", \"D\", \"E\"], \"UMI\": [1, 2, 1, 30, 40]})\n",
    "    >>> target_contigs_id = target_cell_calling(df_UMI_sum, expected_target_cell_num=5, percentile=80, coef=5, target_barcodes=[\"A\", \"C\"])\n",
    "    >>> target_contigs_id == {'A_1', 'C_1', 'D_1', 'E_1'}\n",
    "    True\n",
    "    \"\"\"\n",
    "    if target_barcodes != None:\n",
    "        target_barcodes = {i for i in target_barcodes}\n",
    "    umi_threshold = Auto(list(df_UMI_sum[umi_col]), expected_cell_num=expected_target_cell_num, coef=coef, percentile=percentile).run()\n",
    "\n",
    "    # avoid change the original dataframe\n",
    "    df_temp = df_UMI_sum.copy()\n",
    "    if target_barcodes:\n",
    "        df_temp[umi_col] = df_temp.apply(\n",
    "            lambda row:  row[umi_col] * weight if row['barcode'] in target_barcodes else row[umi_col], axis=1)\n",
    "             \n",
    "    target_contigs = set(df_temp.loc[df_temp[umi_col] >= umi_threshold].contig_id)\n",
    "\n",
    "    return target_contigs\n",
    "def get_vj_annot(df, chains, pairs):\n",
    "    fl_pro_pair_df = pd.DataFrame(df[df['productive']==True].barcode.value_counts())\n",
    "    fl_pro_pair_df = fl_pro_pair_df[fl_pro_pair_df['barcode']>=2]\n",
    "    Result = []\n",
    "    cell_nums = len(set(df['barcode'].tolist()))\n",
    "    Result.append({\n",
    "        'name': 'Cells With Productive V-J Spanning Pair',\n",
    "        'value': fl_pro_pair_df.shape[0],\n",
    "        'total': cell_nums,\n",
    "    })\n",
    "    for p in pairs:\n",
    "        chain1 = p.split('_')[0]\n",
    "        chain2 = p.split('_')[1]\n",
    "        cbs1 = set(df[(df['full_length']==True)&(df['productive']==True)&(df['chain']==chain1)].barcode.tolist())\n",
    "        cbs2 = set(df[(df['full_length']==True)&(df['productive']==True)&(df['chain']==chain2)].barcode.tolist())\n",
    "        paired_cbs = len(cbs1.intersection(cbs2))\n",
    "        Result.append({\n",
    "            'name': f'Cells With Productive V-J Spanning ({chain1}, {chain2}) Pair',\n",
    "            'value': paired_cbs,\n",
    "            'total': cell_nums,\n",
    "            'help_info': \"Fraction of cell-associated barcodes with one productive contig for each chain of the receptor pair.A productive contig satisfies the following conditions: the contig annotations span the 5' end of the V region to the 3' end of the J region of the chain, a start codon was found in the expected part of the V sequence, an in-frame CDR3 amino acid motif was found, and no stop codons were found in the aligned V-J region\"\n",
    "        })\n",
    "    for c in chains:\n",
    "        Result.append({\n",
    "            'name': f'Cells With {c} Contig',\n",
    "            'value': len(set(df[df['chain']==c].barcode.tolist())),\n",
    "            'total': cell_nums,\n",
    "            'help_info': f'Fraction of cell-associated barcodes with at least one {c} contig annotated as a full or partial V(D)J gene'\n",
    "        })\n",
    "        Result.append({\n",
    "            'name': f'Cells With CDR3-annotated {c} Contig',\n",
    "            'value': len(set(df[(df['chain']==c)&(df['cdr3']!=None)].barcode.tolist())),\n",
    "            'total': cell_nums,\n",
    "        })\n",
    "        Result.append({\n",
    "            'name': f'Cells With V-J Spanning {c} Contig',\n",
    "            'value': len(set(df[(df['full_length']==True)&(df['chain']==c)].barcode.tolist())),\n",
    "            'total': cell_nums,\n",
    "            'help_info': f\"Fraction of cell-associated barcodes with at least one contig spanning the 5' end of the V region to the 3' end of the J region for {c}\"\n",
    "        })\n",
    "        Result.append({\n",
    "            'name': f'Cells With Productive {c} Contig',\n",
    "            'value': len(set(df[(df['full_length']==True)&(df['productive']==True)&(df['chain']==c)].barcode.tolist())),\n",
    "            'total': cell_nums,\n",
    "            'help_info': \"Fraction of cell-associated barcodes with productive IGL chain. A productive contig satisfies the following conditions: the contig annotations span the 5' end of the V region to the 3' end of the J region of the chain, a start codon was found in the expected part of the V sequence, an in-frame CDR3 amino acid motif was found, and no stop codons were found in the aligned V-J region\"\n",
    "        })\n",
    "\n",
    "    return Result"
   ]
  },
  {
   "cell_type": "code",
   "execution_count": null,
   "id": "other-entrepreneur",
   "metadata": {},
   "outputs": [],
   "source": [
    "df = pd.read_csv('/SGRNJ06/randd/USER/cjj/celedev/kemai/20220609cs_vdj/Test-6-VDJ-2/04.summarize/Test-6-VDJ-2_b.csv')"
   ]
  },
  {
   "cell_type": "code",
   "execution_count": null,
   "id": "awful-mitchell",
   "metadata": {},
   "outputs": [],
   "source": [
    "        df['productive'] = df['full_length']\n",
    "        contig_set = set(df.contig_id)"
   ]
  },
  {
   "cell_type": "code",
   "execution_count": null,
   "id": "smooth-isaac",
   "metadata": {},
   "outputs": [],
   "source": [
    "        len_dict = dict()\n",
    "\n",
    "        with pysam.FastxFile('/SGRNJ06/randd/USER/cjj/celedev/kemai/20220609cs_vdj/Test-6-VDJ-2/03.assemble/assemble/Test-6-VDJ-2_annotate.fa') as fa:\n",
    "            for read in fa:\n",
    "                len_dict[read.name] = read.comment.split(' ')[0] "
   ]
  },
  {
   "cell_type": "code",
   "execution_count": null,
   "id": "institutional-house",
   "metadata": {},
   "outputs": [],
   "source": [
    "df['length'] = df['contig_id'].apply(lambda x: len_dict.get(x))"
   ]
  },
  {
   "cell_type": "code",
   "execution_count": null,
   "id": "criminal-stylus",
   "metadata": {},
   "outputs": [],
   "source": [
    "df['length'] = df['contig_id'].apply(len_dict.get)"
   ]
  },
  {
   "cell_type": "code",
   "execution_count": null,
   "id": "norman-webcam",
   "metadata": {},
   "outputs": [],
   "source": [
    "df"
   ]
  },
  {
   "cell_type": "code",
   "execution_count": null,
   "id": "acoustic-florida",
   "metadata": {},
   "outputs": [],
   "source": [
    "l1 = df.length.tolist()"
   ]
  },
  {
   "cell_type": "code",
   "execution_count": null,
   "id": "strategic-flood",
   "metadata": {},
   "outputs": [],
   "source": [
    "df['length'] = df['contig_id'].map(len_dict, na_action='ignore')"
   ]
  },
  {
   "cell_type": "code",
   "execution_count": null,
   "id": "rural-syndication",
   "metadata": {},
   "outputs": [],
   "source": [
    "l2 = df.length.tolist()"
   ]
  },
  {
   "cell_type": "code",
   "execution_count": null,
   "id": "prerequisite-sitting",
   "metadata": {},
   "outputs": [],
   "source": [
    "for i in range(len(l1)):\n",
    "    if l1[i] != l2[i]:\n",
    "        print(l1[i])\n",
    "        print(l2[i])"
   ]
  },
  {
   "cell_type": "code",
   "execution_count": null,
   "id": "qualified-formula",
   "metadata": {},
   "outputs": [],
   "source": [
    "df[df['length']]"
   ]
  },
  {
   "cell_type": "code",
   "execution_count": null,
   "id": "cutting-wonder",
   "metadata": {},
   "outputs": [],
   "source": [
    "            df_chain_heavy = df[df['chain']=='IGH']\n",
    "            df_chain_light = df[(df['chain']=='IGK') | (df['chain']=='IGL')]\n",
    "            df_chain_heavy = df_chain_heavy.drop_duplicates(['barcode'])\n",
    "            df_chain_light = df_chain_light.drop_duplicates(['barcode'])\n",
    "            df_for_clono = pd.concat([df_chain_heavy, df_chain_light], ignore_index=True)"
   ]
  },
  {
   "cell_type": "code",
   "execution_count": null,
   "id": "packed-permit",
   "metadata": {},
   "outputs": [],
   "source": [
    "        trust_report = pd.read_csv('/SGRNJ06/randd/USER/cjj/celedev/kemai/20220609cs_vdj/Test-6-VDJ-2/03.assemble/assemble/Test-6-VDJ-2_filter_report.tsv', sep='\\t')\n",
    "        correct_cdr3 = set(df_for_clono.cdr3).intersection(set(trust_report.CDR3aa))\n",
    "        correct_cdr3 = [i for i in correct_cdr3 if i.startswith('C')]\n",
    "        correct_cdr3 = [i for i in correct_cdr3 if len(i)>=5]\n",
    "        correct_cdr3 = [i for i in correct_cdr3 if 'UAG' or 'UAA' or 'UGA' not in i]\n",
    "        df_for_clono = df_for_clono[df_for_clono['cdr3'].isin(correct_cdr3)]"
   ]
  },
  {
   "cell_type": "code",
   "execution_count": null,
   "id": "republican-university",
   "metadata": {},
   "outputs": [],
   "source": [
    "df_for_clono"
   ]
  },
  {
   "cell_type": "code",
   "execution_count": null,
   "id": "wooden-target",
   "metadata": {},
   "outputs": [],
   "source": [
    "        # 分开过滤\n",
    "        df_chain_heavy = df_for_clono[df_for_clono['chain']=='IGH']\n",
    "        df_chain_light = df_for_clono[(df_for_clono['chain']=='IGK') | (df_for_clono['chain']=='IGL')]"
   ]
  },
  {
   "cell_type": "code",
   "execution_count": null,
   "id": "clear-boulder",
   "metadata": {},
   "outputs": [],
   "source": [
    "        filtered_congtigs_id = set()\n",
    "        for _df in [df_chain_heavy, df_chain_light]:\n",
    "            target_contigs = target_cell_calling(\n",
    "            _df, \n",
    "            expected_target_cell_num=15000, \n",
    "            target_barcodes=None,\n",
    "            weight = 6.0,\n",
    "            coef = 5\n",
    "            )\n",
    "            filtered_congtigs_id = filtered_congtigs_id | target_contigs       \n",
    "        \n",
    "        df_for_clono = df_for_clono[df_for_clono.contig_id.isin(filtered_congtigs_id)]"
   ]
  },
  {
   "cell_type": "code",
   "execution_count": null,
   "id": "proper-parade",
   "metadata": {},
   "outputs": [],
   "source": [
    "df_for_clono"
   ]
  },
  {
   "cell_type": "code",
   "execution_count": null,
   "id": "intended-quantity",
   "metadata": {},
   "outputs": [],
   "source": [
    "get_vj_annot(df_for_clono, ['IGH', 'IGK','IGL'], ['IGH_IGK, IGH_IGL'])"
   ]
  },
  {
   "cell_type": "code",
   "execution_count": null,
   "id": "female-copyright",
   "metadata": {},
   "outputs": [],
   "source": [
    "df_UMI_sum = df_for_clono.groupby(['barcode'], as_index=False).agg({\"umis\": \"sum\"})"
   ]
  },
  {
   "cell_type": "code",
   "execution_count": null,
   "id": "sharing-homeless",
   "metadata": {},
   "outputs": [],
   "source": [
    "df_UMI_sum"
   ]
  },
  {
   "cell_type": "code",
   "execution_count": null,
   "id": "proof-justice",
   "metadata": {},
   "outputs": [],
   "source": [
    "            target_barcodes = target_cell_calling(\n",
    "            df_UMI_sum, \n",
    "            expected_target_cell_num=3000, \n",
    "            target_barcodes=None,\n",
    "            weight = 6.0,\n",
    "            coef = 5\n",
    "            )   "
   ]
  },
  {
   "cell_type": "code",
   "execution_count": null,
   "id": "banner-reply",
   "metadata": {},
   "outputs": [],
   "source": [
    "        \n",
    "        df_for_clono = df_for_clono[df_for_clono.barcode.isin(target_barcodes)]"
   ]
  },
  {
   "cell_type": "code",
   "execution_count": null,
   "id": "hungarian-resource",
   "metadata": {},
   "outputs": [],
   "source": [
    "df_for_clono"
   ]
  },
  {
   "cell_type": "code",
   "execution_count": null,
   "id": "laughing-things",
   "metadata": {},
   "outputs": [],
   "source": []
  },
  {
   "cell_type": "code",
   "execution_count": null,
   "id": "given-large",
   "metadata": {},
   "outputs": [],
   "source": []
  },
  {
   "cell_type": "code",
   "execution_count": null,
   "id": "excited-amplifier",
   "metadata": {},
   "outputs": [],
   "source": [
    "df_for_clono"
   ]
  },
  {
   "cell_type": "code",
   "execution_count": null,
   "id": "loose-ozone",
   "metadata": {},
   "outputs": [],
   "source": [
    "        df_for_clono_pro = df_for_clono[df_for_clono['productive']==True]\n",
    "        cell_barcodes = set(df_for_clono_pro['barcode'])"
   ]
  },
  {
   "cell_type": "code",
   "execution_count": null,
   "id": "applied-australian",
   "metadata": {},
   "outputs": [],
   "source": [
    "        df_filter = df[df.barcode.isin(cell_barcodes)]"
   ]
  },
  {
   "cell_type": "code",
   "execution_count": null,
   "id": "ranging-discharge",
   "metadata": {},
   "outputs": [],
   "source": [
    "get_vj_annot(df_filter, ['TRA', 'TRB'], ['TRA_TRB'])"
   ]
  },
  {
   "cell_type": "code",
   "execution_count": null,
   "id": "excess-think",
   "metadata": {},
   "outputs": [],
   "source": []
  },
  {
   "cell_type": "code",
   "execution_count": null,
   "id": "armed-resistance",
   "metadata": {},
   "outputs": [],
   "source": [
    "def get_vj_annot(df, chains, pairs):\n",
    "    fl_pro_pair_df = pd.DataFrame(df[df['productive']==True].barcode.value_counts())\n",
    "    fl_pro_pair_df = fl_pro_pair_df[fl_pro_pair_df['barcode']>=2]\n",
    "    Result = []\n",
    "    cell_nums = len(set(df['barcode'].tolist()))\n",
    "    Result.append({\n",
    "        'name': 'Cells With Productive V-J Spanning Pair',\n",
    "        'value': fl_pro_pair_df.shape[0],\n",
    "        'total': cell_nums,\n",
    "    })\n",
    "    for p in pairs:\n",
    "        chain1 = p.split('_')[0]\n",
    "        chain2 = p.split('_')[1]\n",
    "        cbs1 = set(df[(df['full_length']==True)&(df['productive']==True)&(df['chain']==chain1)].barcode.tolist())\n",
    "        cbs2 = set(df[(df['full_length']==True)&(df['productive']==True)&(df['chain']==chain2)].barcode.tolist())\n",
    "        paired_cbs = len(cbs1.intersection(cbs2))\n",
    "        Result.append({\n",
    "            'name': f'Cells With Productive V-J Spanning ({chain1}, {chain2}) Pair',\n",
    "            'value': paired_cbs,\n",
    "            'total': cell_nums,\n",
    "            'help_info': \"Fraction of cell-associated barcodes with one productive contig for each chain of the receptor pair.A productive contig satisfies the following conditions: the contig annotations span the 5' end of the V region to the 3' end of the J region of the chain, a start codon was found in the expected part of the V sequence, an in-frame CDR3 amino acid motif was found, and no stop codons were found in the aligned V-J region\"\n",
    "        })\n",
    "    for c in chains:\n",
    "        Result.append({\n",
    "            'name': f'Cells With {c} Contig',\n",
    "            'value': len(set(df[df['chain']==c].barcode.tolist())),\n",
    "            'total': cell_nums,\n",
    "            'help_info': f'Fraction of cell-associated barcodes with at least one {c} contig annotated as a full or partial V(D)J gene'\n",
    "        })\n",
    "        Result.append({\n",
    "            'name': f'Cells With CDR3-annotated {c} Contig',\n",
    "            'value': len(set(df[(df['chain']==c)&(df['cdr3']!=None)].barcode.tolist())),\n",
    "            'total': cell_nums,\n",
    "        })\n",
    "        Result.append({\n",
    "            'name': f'Cells With V-J Spanning {c} Contig',\n",
    "            'value': len(set(df[(df['full_length']==True)&(df['chain']==c)].barcode.tolist())),\n",
    "            'total': cell_nums,\n",
    "            'help_info': f\"Fraction of cell-associated barcodes with at least one contig spanning the 5' end of the V region to the 3' end of the J region for {c}\"\n",
    "        })\n",
    "        Result.append({\n",
    "            'name': f'Cells With Productive {c} Contig',\n",
    "            'value': len(set(df[(df['full_length']==True)&(df['productive']==True)&(df['chain']==c)].barcode.tolist())),\n",
    "            'total': cell_nums,\n",
    "            'help_info': \"Fraction of cell-associated barcodes with productive IGL chain. A productive contig satisfies the following conditions: the contig annotations span the 5' end of the V region to the 3' end of the J region of the chain, a start codon was found in the expected part of the V sequence, an in-frame CDR3 amino acid motif was found, and no stop codons were found in the aligned V-J region\"\n",
    "        })\n",
    "\n",
    "    return Result"
   ]
  },
  {
   "cell_type": "code",
   "execution_count": null,
   "id": "quiet-perception",
   "metadata": {},
   "outputs": [],
   "source": [
    "def get_vj_annot(df, chains, pairs):\n",
    "    fl_pro_pair_df = pd.DataFrame(df.barcode.value_counts())\n",
    "    fl_pro_pair_df_one_chain_bc = set(fl_pro_pair_df[fl_pro_pair_df.barcode==1].index)\n",
    "    fl_pro_pair_df = df[df.barcode.isin(fl_pro_pair_df_one_chain_bc)]\n",
    "    count = fl_pro_pair_df[fl_pro_pair_df['productive']==True].shape[0]\n",
    "    \n",
    "    fl_pro_pair_df = pd.DataFrame(df[df['productive']==True].barcode.value_counts())\n",
    "    count += fl_pro_pair_df[fl_pro_pair_df['barcode']>=2].shape[0]\n",
    "    \n",
    "    Result = []\n",
    "    cell_nums = len(set(df['barcode'].tolist()))\n",
    "    Result.append({\n",
    "        'name': 'Cells With Productive V-J Spanning Pair',\n",
    "        'value': count,\n",
    "        'total': cell_nums,\n",
    "    })\n",
    "    for p in pairs:\n",
    "        chain1 = p.split('_')[0]\n",
    "        chain2 = p.split('_')[1]\n",
    "        cbs1 = set(df[(df['full_length']==True)&(df['productive']==True)&(df['chain']==chain1)].barcode.tolist())\n",
    "        cbs2 = set(df[(df['full_length']==True)&(df['productive']==True)&(df['chain']==chain2)].barcode.tolist())\n",
    "        paired_cbs = len(cbs1.intersection(cbs2))\n",
    "        Result.append({\n",
    "            'name': f'Cells With Productive V-J Spanning ({chain1}, {chain2}) Pair',\n",
    "            'value': paired_cbs,\n",
    "            'total': cell_nums,\n",
    "            'help_info': \"Fraction of cell-associated barcodes with one productive contig for each chain of the receptor pair.A productive contig satisfies the following conditions: the contig annotations span the 5' end of the V region to the 3' end of the J region of the chain, a start codon was found in the expected part of the V sequence, an in-frame CDR3 amino acid motif was found, and no stop codons were found in the aligned V-J region\"\n",
    "        })\n",
    "    for c in chains:\n",
    "        Result.append({\n",
    "            'name': f'Cells With {c} Contig',\n",
    "            'value': len(set(df[df['chain']==c].barcode.tolist())),\n",
    "            'total': cell_nums,\n",
    "            'help_info': f'Fraction of cell-associated barcodes with at least one {c} contig annotated as a full or partial V(D)J gene'\n",
    "        })\n",
    "        Result.append({\n",
    "            'name': f'Cells With CDR3-annotated {c} Contig',\n",
    "            'value': len(set(df[(df['chain']==c)&(df['cdr3']!=None)].barcode.tolist())),\n",
    "            'total': cell_nums,\n",
    "        })\n",
    "        Result.append({\n",
    "            'name': f'Cells With V-J Spanning {c} Contig',\n",
    "            'value': len(set(df[(df['full_length']==True)&(df['chain']==c)].barcode.tolist())),\n",
    "            'total': cell_nums,\n",
    "            'help_info': f\"Fraction of cell-associated barcodes with at least one contig spanning the 5' end of the V region to the 3' end of the J region for {c}\"\n",
    "        })\n",
    "        Result.append({\n",
    "            'name': f'Cells With Productive {c} Contig',\n",
    "            'value': len(set(df[(df['full_length']==True)&(df['productive']==True)&(df['chain']==c)].barcode.tolist())),\n",
    "            'total': cell_nums,\n",
    "            'help_info': \"Fraction of cell-associated barcodes with productive IGL chain. A productive contig satisfies the following conditions: the contig annotations span the 5' end of the V region to the 3' end of the J region of the chain, a start codon was found in the expected part of the V sequence, an in-frame CDR3 amino acid motif was found, and no stop codons were found in the aligned V-J region\"\n",
    "        })\n",
    "\n",
    "    return Result"
   ]
  },
  {
   "cell_type": "code",
   "execution_count": null,
   "id": "oriented-phrase",
   "metadata": {},
   "outputs": [],
   "source": [
    "        bc_count = pd.DataFrame(df[df['productive']==True].barcode.value_counts())\n",
    "        bc_count_one_chain = set(bc_count[bc_count.barcode==1].index)\n",
    "        vdj_spanning_pair = df[df.barcode.isin(bc_count_one_chain)]\n",
    "        count = vdj_spanning_pair[vdj_spanning_pair['productive']==True].shape[0]\n",
    "    \n",
    "        vdj_spanning_pair = pd.DataFrame(df[df['productive']==True].barcode.value_counts())\n",
    "        count += vdj_spanning_pair[vdj_spanning_pair['barcode']>=2].shape[0]"
   ]
  },
  {
   "cell_type": "code",
   "execution_count": null,
   "id": "conceptual-worth",
   "metadata": {},
   "outputs": [],
   "source": [
    "df_filter= pd.read_csv('/SGRNJ06/randd/USER/cjj/celedev/kemai/20220609cs_vdj/Test-6-VDJ-2/04.summarize/Test-6-VDJ-2_filtered_contig.csv')"
   ]
  },
  {
   "cell_type": "code",
   "execution_count": null,
   "id": "earned-storm",
   "metadata": {},
   "outputs": [],
   "source": [
    "get_vj_annot(df_filter, ['IGH','IGK','IGL'], ['IGH_IGK', 'IGH_IGL'])"
   ]
  },
  {
   "cell_type": "code",
   "execution_count": null,
   "id": "bibliographic-single",
   "metadata": {},
   "outputs": [],
   "source": [
    "df_filter_filter = pd.DataFrame(df_filter.barcode.value_counts())"
   ]
  },
  {
   "cell_type": "code",
   "execution_count": null,
   "id": "addressed-burden",
   "metadata": {},
   "outputs": [],
   "source": [
    "df_filter_filter[df_filter_filter.barcode==1]"
   ]
  },
  {
   "cell_type": "code",
   "execution_count": null,
   "id": "hydraulic-modification",
   "metadata": {},
   "outputs": [],
   "source": [
    "df_filter[df_filter['barcode']=='CCGTGAGACCATCCTCCGCTGATC']"
   ]
  },
  {
   "cell_type": "code",
   "execution_count": null,
   "id": "wooden-dispatch",
   "metadata": {},
   "outputs": [],
   "source": []
  },
  {
   "cell_type": "code",
   "execution_count": null,
   "id": "bright-button",
   "metadata": {},
   "outputs": [],
   "source": []
  },
  {
   "cell_type": "code",
   "execution_count": null,
   "id": "flush-diabetes",
   "metadata": {},
   "outputs": [],
   "source": [
    "ten = pd.read_csv('/SGRNJ06/randd/USER/cjj/celedev/kemai/20220609cr_vdj/7VDJ2/Test-7-VDJ-2/outs/filtered_contig_annotations.csv')"
   ]
  },
  {
   "cell_type": "code",
   "execution_count": null,
   "id": "following-thompson",
   "metadata": {},
   "outputs": [],
   "source": [
    "ten"
   ]
  },
  {
   "cell_type": "code",
   "execution_count": null,
   "id": "limited-administrator",
   "metadata": {},
   "outputs": [],
   "source": [
    "len(set(ten.barcode))"
   ]
  },
  {
   "cell_type": "code",
   "execution_count": null,
   "id": "shared-rebel",
   "metadata": {},
   "outputs": [],
   "source": [
    "flten = pd.DataFrame(ten[ten['productive']==True].barcode.value_counts())\n"
   ]
  },
  {
   "cell_type": "code",
   "execution_count": null,
   "id": "modern-modem",
   "metadata": {},
   "outputs": [],
   "source": [
    "flten"
   ]
  },
  {
   "cell_type": "code",
   "execution_count": null,
   "id": "proud-hypothetical",
   "metadata": {},
   "outputs": [],
   "source": [
    "flten[flten['barcode']>=2].shape[0]"
   ]
  },
  {
   "cell_type": "code",
   "execution_count": null,
   "id": "declared-router",
   "metadata": {},
   "outputs": [],
   "source": [
    "ten[ten['barcode']=='ACGAGGAGTGCACTTA-1']"
   ]
  },
  {
   "cell_type": "code",
   "execution_count": null,
   "id": "worse-middle",
   "metadata": {},
   "outputs": [],
   "source": []
  }
 ],
 "metadata": {
  "kernelspec": {
   "display_name": "Python 3",
   "language": "python",
   "name": "python3"
  },
  "language_info": {
   "codemirror_mode": {
    "name": "ipython",
    "version": 3
   },
   "file_extension": ".py",
   "mimetype": "text/x-python",
   "name": "python",
   "nbconvert_exporter": "python",
   "pygments_lexer": "ipython3",
   "version": "3.7.10"
  }
 },
 "nbformat": 4,
 "nbformat_minor": 5
}
