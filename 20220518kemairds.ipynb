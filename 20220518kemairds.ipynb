{
 "cells": [
  {
   "cell_type": "code",
   "execution_count": 1,
   "id": "laden-candy",
   "metadata": {},
   "outputs": [
    {
     "name": "stderr",
     "output_type": "stream",
     "text": [
      "Warning message:\n",
      "“package ‘Seurat’ was built under R version 4.0.5”\n",
      "Attaching SeuratObject\n",
      "\n"
     ]
    }
   ],
   "source": [
    "library(Seurat)"
   ]
  },
  {
   "cell_type": "code",
   "execution_count": 19,
   "id": "sapphire-football",
   "metadata": {},
   "outputs": [],
   "source": [
    "rds = readRDS('/SGRNJ06/randd/USER/cjj/celedev/runsingleR/20220510massign/15/amulit/220417015.diff_PRO.rds')"
   ]
  },
  {
   "cell_type": "code",
   "execution_count": 18,
   "id": "lesser-lease",
   "metadata": {},
   "outputs": [
    {
     "data": {
      "text/plain": [
       "\n",
       "220417016 \n",
       "    16355 "
      ]
     },
     "metadata": {},
     "output_type": "display_data"
    }
   ],
   "source": [
    "table(rds@meta.data$seurat_clusters)"
   ]
  },
  {
   "cell_type": "code",
   "execution_count": 16,
   "id": "lucky-brook",
   "metadata": {},
   "outputs": [
    {
     "name": "stderr",
     "output_type": "stream",
     "text": [
      "With Seurat 3.X, stashing identity classes can be accomplished with the following:\n",
      "rds[[\"celltype\"]] <- Idents(object = rds)\n",
      "\n"
     ]
    }
   ],
   "source": [
    "#new.cluster.ids <- c('ProliferatingBcells','NaiveB','GCB','GCB','GCB','Plasmacells','Plasmacells',\n",
    "#                    'GCB','GCB','GCB','ProliferatingBcells','Plasmacells','TCells','Plasmacells','TCells',\n",
    "#                    'TCells','ProliferatingBcells')\n",
    "#new.cluster.ids <- c('TCells','BCells','NK','BCells','TCells','Monocytes','BCells','Monocytes','BCells',\n",
    "#                    'cDCs','BCells','Eosinophils','ProliferatingCells','Neutrophils','Macrophages','pDCs','ProEryth',\n",
    "#                     'MatureDCs','ProEryth','Neutrophils','Doublet','Macrophages','Doublet','Doublet')\n",
    "new.cluster.ids <- c('ProliferatingBCells','GCB','NaiveB','GCB','PlasmaCells','GCB','GCB',\n",
    "                    'GCB','ProliferatingBCells','ProliferatingBCells','PlasmaCells','PlasmaCells','TCells','TCells',\n",
    "                    'TCells','PlasmaCells','NaiveB','TCells')\n",
    "names(new.cluster.ids) <- levels(rds)\n",
    "rds <- RenameIdents(rds, new.cluster.ids)\n",
    "rds <- StashIdent(object = rds, save.name = \"celltype\")"
   ]
  },
  {
   "cell_type": "code",
   "execution_count": 11,
   "id": "controlled-kentucky",
   "metadata": {},
   "outputs": [],
   "source": [
    "Idents(rds) <- 'celltype'\n",
    "rds <- subset(rds,idents = c('TCells','BCells','NK','Neutrophils','Eosinophils','Macrophages','Monocytes',\n",
    "                            'cDCs','pDCs','MatureDCs','ProEryth','ProliferatingCells'))"
   ]
  },
  {
   "cell_type": "code",
   "execution_count": 17,
   "id": "liked-creator",
   "metadata": {},
   "outputs": [],
   "source": [
    "saveRDS(object = rds, file = \"/SGRNJ06/randd/USER/cjj/celedev/kemai/20220517merTRflilter/mappingmanual/sc3/sc3.rds\")"
   ]
  },
  {
   "cell_type": "code",
   "execution_count": null,
   "id": "level-draft",
   "metadata": {},
   "outputs": [],
   "source": []
  },
  {
   "cell_type": "code",
   "execution_count": null,
   "id": "center-classics",
   "metadata": {},
   "outputs": [],
   "source": []
  },
  {
   "cell_type": "code",
   "execution_count": null,
   "id": "global-sessions",
   "metadata": {},
   "outputs": [],
   "source": []
  },
  {
   "cell_type": "code",
   "execution_count": null,
   "id": "structured-emergency",
   "metadata": {},
   "outputs": [],
   "source": []
  },
  {
   "cell_type": "code",
   "execution_count": null,
   "id": "numerous-romania",
   "metadata": {},
   "outputs": [],
   "source": []
  }
 ],
 "metadata": {
  "kernelspec": {
   "display_name": "CJJcele",
   "language": "R",
   "name": "cjjcele"
  },
  "language_info": {
   "codemirror_mode": "r",
   "file_extension": ".r",
   "mimetype": "text/x-r-source",
   "name": "R",
   "pygments_lexer": "r",
   "version": "4.0.3"
  }
 },
 "nbformat": 4,
 "nbformat_minor": 5
}
