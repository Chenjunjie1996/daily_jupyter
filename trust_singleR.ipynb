{
 "cells": [
  {
   "cell_type": "code",
   "execution_count": null,
   "id": "global-ethnic",
   "metadata": {},
   "outputs": [],
   "source": [
    "library(Seurat) # v4.0\n",
    "library(tidyverse)\n",
    "library(argparser)\n",
    "library(SingleR)\n",
    "#library(celldex)\n",
    "library(stringr)"
   ]
  },
  {
   "cell_type": "code",
   "execution_count": 14,
   "id": "legendary-burlington",
   "metadata": {},
   "outputs": [],
   "source": [
    "matrix_file = '/SGRNJ06/randd/PROJECT/RD20073101_ScRNA_VDJ/20220425_kmc3/sc-1/05.count/220417014_matrix_10X/'"
   ]
  },
  {
   "cell_type": "code",
   "execution_count": 15,
   "id": "dependent-amplifier",
   "metadata": {},
   "outputs": [
    {
     "data": {
      "text/html": [
       "'/SGRNJ06/randd/PROJECT/RD20073101_ScRNA_VDJ/20220425_kmc3/sc-1/05.count/220417014_matrix_10X/'"
      ],
      "text/latex": [
       "'/SGRNJ06/randd/PROJECT/RD20073101\\_ScRNA\\_VDJ/20220425\\_kmc3/sc-1/05.count/220417014\\_matrix\\_10X/'"
      ],
      "text/markdown": [
       "'/SGRNJ06/randd/PROJECT/RD20073101_ScRNA_VDJ/20220425_kmc3/sc-1/05.count/220417014_matrix_10X/'"
      ],
      "text/plain": [
       "[1] \"/SGRNJ06/randd/PROJECT/RD20073101_ScRNA_VDJ/20220425_kmc3/sc-1/05.count/220417014_matrix_10X/\""
      ]
     },
     "metadata": {},
     "output_type": "display_data"
    }
   ],
   "source": [
    "matrix_file"
   ]
  },
  {
   "cell_type": "code",
   "execution_count": 16,
   "id": "rough-noise",
   "metadata": {},
   "outputs": [],
   "source": [
    "color1 <- c(\"OrangeRed\",\"SlateBlue3\",\"DarkOrange\",\"GreenYellow\",\"Purple\",\"DarkSlateGray\",\"Gold\",\n",
    "  \"DeepPink2\",\"Red4\",\"#4682B4\",\"#FFDAB9\",\"#708090\",\"#836FFF\",\"#CDC673\",\"#CD9B1D\",\"#FF6EB4\",\n",
    "  \"#CDB5CD\",\"DarkGreen\",\"#008B8B\",\"#43CD80\",\"#483D8B\",\"#66CD00\",\"#CDC673\",\"#CDAD00\",\"#CD9B9B\",\n",
    "  \"#FF8247\",\"#8B7355\",\"#8B3A62\",\"#68228B\",\"#CDB7B5\",\"#CD853F\",\"#6B8E23\",\"#696969\",\"#7B68EE\",\n",
    "  \"#9F79EE\",\"#B0C4DE\",\"#7A378B\",\"#66CDAA\",\"#EEE8AA\",\"#00FF00\",\"#EEA2AD\",\"#A0522D\",\"#000080\",\n",
    "  \"#E9967A\",\"#00CDCD\",\"#8B4500\",\"#DDA0DD\",\"#EE9572\",\"#EEE9E9\",\"#8B1A1A\",\"#8B8378\",\"#EE9A49\",\n",
    "  \"#EECFA1\",\"#8B4726\",\"#8B8878\",\"#EEB4B4\",\"#C1CDCD\",\"#8B7500\",\"#0000FF\",\"#EEEED1\",\"#4F94CD\",\n",
    "  \"#6E8B3D\",\"#B0E2FF\",\"#76EE00\",\"#A2B5CD\",\"#548B54\",\"#BBFFFF\",\"#B4EEB4\",\"#00C5CD\",\"#008B8B\",\n",
    "  \"#7FFFD4\",\"#8EE5EE\",\"#43CD80\",\"#68838B\",\"#00FF00\",\"#B9D3EE\",\"#9ACD32\",\"#00688B\",\"#FFEC8B\",\n",
    "  \"#1C86EE\",\"#CDCD00\",\"#473C8B\",\"#FFB90F\",\"#EED5D2\",\"#CD5555\",\"#CDC9A5\",\"#FFE7BA\",\"#FFDAB9\",\n",
    "  \"#CD661D\",\"#CDC5BF\",\"#FF8C69\",\"#8A2BE2\",\"#CD8500\",\"#B03060\",\"#FF6347\",\"#FF7F50\",\"#CD0000\",\n",
    "  \"#F4A460\",\"#FFB5C5\",\"#DAA520\",\"#CD6889\",\"#32CD32\",\"#FF00FF\",\"#2E8B57\",\"#CD96CD\",\"#48D1CC\",\n",
    "  \"#9B30FF\",\"#1E90FF\",\"#CDB5CD\",\"#191970\",\"#E8E8E8\",\"#FFDAB9\")"
   ]
  },
  {
   "cell_type": "code",
   "execution_count": 17,
   "id": "vulnerable-baking",
   "metadata": {},
   "outputs": [],
   "source": [
    "DIMS = 20"
   ]
  },
  {
   "cell_type": "code",
   "execution_count": 18,
   "id": "living-information",
   "metadata": {},
   "outputs": [],
   "source": [
    "resolution = 0.6"
   ]
  },
  {
   "cell_type": "code",
   "execution_count": 19,
   "id": "exterior-booking",
   "metadata": {},
   "outputs": [],
   "source": [
    "matrix_name = Seurat::Read10X(matrix_file, gene.column=2)\n",
    "# create seurat obj"
   ]
  },
  {
   "cell_type": "code",
   "execution_count": 20,
   "id": "attempted-mistake",
   "metadata": {},
   "outputs": [
    {
     "name": "stderr",
     "output_type": "stream",
     "text": [
      "Warning message:\n",
      "“Feature names cannot have underscores ('_'), replacing with dashes ('-')”\n"
     ]
    }
   ],
   "source": [
    "rds = CreateSeuratObject(matrix_name)"
   ]
  },
  {
   "cell_type": "code",
   "execution_count": 17,
   "id": "israeli-prior",
   "metadata": {},
   "outputs": [],
   "source": [
    "# mito\n",
    "all_genes = rownames(rds@assays$RNA@data)\n",
    "mito.genes <- grep(pattern = \"^MT-\", x = all_genes, value = TRUE, ignore.case=TRUE)"
   ]
  },
  {
   "cell_type": "code",
   "execution_count": 18,
   "id": "anonymous-lincoln",
   "metadata": {},
   "outputs": [],
   "source": [
    "percent.mito <- Matrix::colSums(rds@assays$RNA@counts[mito.genes,,drop=FALSE])/Matrix::colSums(rds@assays$RNA@counts)"
   ]
  },
  {
   "cell_type": "code",
   "execution_count": 19,
   "id": "proved-transfer",
   "metadata": {},
   "outputs": [],
   "source": [
    "rds <- AddMetaData(object = rds, metadata = percent.mito, col.name = \"percent.mito\")"
   ]
  },
  {
   "cell_type": "code",
   "execution_count": 20,
   "id": "adolescent-doctrine",
   "metadata": {},
   "outputs": [],
   "source": [
    "rds <- NormalizeData(rds, normalization.method = \"LogNormalize\",scale.factor = 10000)\n",
    "nfeatures = 20000"
   ]
  },
  {
   "cell_type": "code",
   "execution_count": 21,
   "id": "acquired-document",
   "metadata": {},
   "outputs": [],
   "source": [
    "rds <- FindVariableFeatures(rds, selection.method = \"vst\", nfeatures = nfeatures, mean.cutoff = c(0.1, 8), dispersion.cutoff = c(1, Inf),\n",
    "                            mean.function = ExpMean, dispersion.function = LogVMR)"
   ]
  },
  {
   "cell_type": "code",
   "execution_count": null,
   "id": "independent-azerbaijan",
   "metadata": {},
   "outputs": [
    {
     "name": "stderr",
     "output_type": "stream",
     "text": [
      "Regressing out nCount_RNA, percent.mito\n",
      "\n"
     ]
    }
   ],
   "source": [
    "use.genes <- rds@assays$RNA@var.features\n",
    "rds <- ScaleData(rds, vars.to.regress = c(\"nCount_RNA\", \"percent.mito\"), features = use.genes)"
   ]
  },
  {
   "cell_type": "code",
   "execution_count": null,
   "id": "tamil-elizabeth",
   "metadata": {},
   "outputs": [],
   "source": [
    "rds <- RunPCA(object = rds, features = use.genes, do.print = FALSE)"
   ]
  },
  {
   "cell_type": "code",
   "execution_count": null,
   "id": "related-confidentiality",
   "metadata": {},
   "outputs": [],
   "source": [
    "rds <- FindNeighbors(rds, dims = 1:DIMS, force.recalc = TRUE, reduction = \"pca\")"
   ]
  },
  {
   "cell_type": "code",
   "execution_count": null,
   "id": "going-advertiser",
   "metadata": {},
   "outputs": [],
   "source": [
    "rds <- FindClusters(rds, resolution = resolution)"
   ]
  },
  {
   "cell_type": "code",
   "execution_count": null,
   "id": "fuzzy-glass",
   "metadata": {},
   "outputs": [],
   "source": [
    "# tsne and umap\n",
    "rds <- RunTSNE(rds, dims = 1:DIMS, do.fast = TRUE, check_duplicates = FALSE)"
   ]
  },
  {
   "cell_type": "code",
   "execution_count": null,
   "id": "greatest-insider",
   "metadata": {},
   "outputs": [],
   "source": [
    "rds = RunUMAP(rds, dims=1:DIMS)"
   ]
  },
  {
   "cell_type": "code",
   "execution_count": null,
   "id": "medium-nebraska",
   "metadata": {},
   "outputs": [],
   "source": []
  },
  {
   "cell_type": "code",
   "execution_count": 3,
   "id": "liberal-masters",
   "metadata": {},
   "outputs": [],
   "source": [
    "ref = '/SGRNJ03/randd/cjj/Script/singleR/MouseRNAseqData.rds'"
   ]
  },
  {
   "cell_type": "code",
   "execution_count": 22,
   "id": "floating-dressing",
   "metadata": {},
   "outputs": [],
   "source": [
    "# SingleR\n",
    "ref = readRDS(ref)\n",
    "df.data = GetAssayData(rds)\n",
    "pred.cluster = SingleR(test = df.data, ref = ref, clusters=Idents(rds),\n",
    "    labels = ref$label.main)\n",
    "celltype <-data.frame(ClusterID=rownames(pred.cluster),celltype=pred.cluster$labels,stringsAsFactors = F)\n",
    "rds[['celltype']]<- celltype$celltype[match(Idents(rds), celltype$ClusterID)]\n",
    "\n",
    "meta = rds@meta.data\n",
    "assign = meta %>% select(celltype)"
   ]
  },
  {
   "cell_type": "code",
   "execution_count": 23,
   "id": "future-recycling",
   "metadata": {},
   "outputs": [
    {
     "data": {
      "text/plain": [
       "\n",
       "B cells \n",
       "   6219 "
      ]
     },
     "metadata": {},
     "output_type": "display_data"
    }
   ],
   "source": [
    "table(meta$celltype)"
   ]
  },
  {
   "cell_type": "code",
   "execution_count": 3,
   "id": "inside-conservation",
   "metadata": {},
   "outputs": [],
   "source": [
    "rds = readRDS('/SGRNJ06/randd/USER/cjj/celedev/runsingleR/20220429c3/singleR_annotation/220417014/rename.rds')"
   ]
  },
  {
   "cell_type": "code",
   "execution_count": 4,
   "id": "damaged-lunch",
   "metadata": {},
   "outputs": [],
   "source": [
    "ref = readRDS(ref)"
   ]
  },
  {
   "cell_type": "code",
   "execution_count": 5,
   "id": "hawaiian-fault",
   "metadata": {},
   "outputs": [],
   "source": [
    "df.data = GetAssayData(rds)\n",
    "pred.cluster = SingleR(test = df.data, ref = ref, clusters=Idents(rds),\n",
    "    labels = ref$label.main)\n",
    "celltype <-data.frame(ClusterID=rownames(pred.cluster),celltype=pred.cluster$labels,stringsAsFactors = F)\n",
    "rds[['celltype']]<- celltype$celltype[match(Idents(rds), celltype$ClusterID)]\n"
   ]
  },
  {
   "cell_type": "code",
   "execution_count": null,
   "id": "standing-essay",
   "metadata": {},
   "outputs": [],
   "source": []
  },
  {
   "cell_type": "code",
   "execution_count": null,
   "id": "developmental-astrology",
   "metadata": {},
   "outputs": [],
   "source": []
  },
  {
   "cell_type": "code",
   "execution_count": null,
   "id": "twelve-richards",
   "metadata": {},
   "outputs": [],
   "source": []
  },
  {
   "cell_type": "code",
   "execution_count": null,
   "id": "friendly-frame",
   "metadata": {},
   "outputs": [],
   "source": []
  },
  {
   "cell_type": "code",
   "execution_count": null,
   "id": "sharing-header",
   "metadata": {},
   "outputs": [],
   "source": []
  },
  {
   "cell_type": "code",
   "execution_count": 25,
   "id": "spectacular-testimony",
   "metadata": {},
   "outputs": [],
   "source": [
    "ref = '/SGRNJ03/randd/cjj/Script/singleR/MouseRNAseqData.rds'"
   ]
  },
  {
   "cell_type": "code",
   "execution_count": 26,
   "id": "august-protein",
   "metadata": {},
   "outputs": [],
   "source": [
    "ref = readRDS(ref)"
   ]
  },
  {
   "cell_type": "code",
   "execution_count": 27,
   "id": "entitled-watch",
   "metadata": {},
   "outputs": [
    {
     "data": {
      "text/plain": [
       "class: SummarizedExperiment \n",
       "dim: 21214 358 \n",
       "metadata(0):\n",
       "assays(1): logcounts\n",
       "rownames(21214): Xkr4 Rp1 ... LOC100039574 LOC100039753\n",
       "rowData names(0):\n",
       "colnames(358): ERR525589Aligned ERR525592Aligned ... SRR1044043Aligned\n",
       "  SRR1044044Aligned\n",
       "colData names(3): label.main label.fine label.ont"
      ]
     },
     "metadata": {},
     "output_type": "display_data"
    }
   ],
   "source": [
    "ref"
   ]
  },
  {
   "cell_type": "code",
   "execution_count": null,
   "id": "equal-advocate",
   "metadata": {},
   "outputs": [],
   "source": [
    "ref$label.main"
   ]
  },
  {
   "cell_type": "code",
   "execution_count": null,
   "id": "upper-looking",
   "metadata": {},
   "outputs": [],
   "source": [
    "ref$label.fine"
   ]
  },
  {
   "cell_type": "code",
   "execution_count": 28,
   "id": "polish-retirement",
   "metadata": {},
   "outputs": [
    {
     "data": {
      "text/plain": [
       "\n",
       "       Adipocytes        Astrocytes           B cells    Cardiomyocytes \n",
       "               13                27                 5                 8 \n",
       "  Dendritic cells Endothelial cells  Epithelial cells      Erythrocytes \n",
       "                2                12                 2                 3 \n",
       "      Fibroblasts      Granulocytes       Hepatocytes       Macrophages \n",
       "               45                15                 4                32 \n",
       "        Microglia         Monocytes           Neurons          NK cells \n",
       "               72                 6                64                18 \n",
       " Oligodendrocytes           T cells \n",
       "               12                18 "
      ]
     },
     "metadata": {},
     "output_type": "display_data"
    }
   ],
   "source": [
    "table(ref$label.main)"
   ]
  },
  {
   "cell_type": "code",
   "execution_count": null,
   "id": "violent-accountability",
   "metadata": {},
   "outputs": [],
   "source": [
    "B_cell Pre-B_cell_CD34- Pro-B_cell_CD34+ B cells"
   ]
  },
  {
   "cell_type": "code",
   "execution_count": null,
   "id": "satisfied-maria",
   "metadata": {},
   "outputs": [],
   "source": [
    "T_cells T cells"
   ]
  }
 ],
 "metadata": {
  "kernelspec": {
   "display_name": "CJJcele",
   "language": "R",
   "name": "cjjcele"
  },
  "language_info": {
   "codemirror_mode": "r",
   "file_extension": ".r",
   "mimetype": "text/x-r-source",
   "name": "R",
   "pygments_lexer": "r",
   "version": "4.0.3"
  }
 },
 "nbformat": 4,
 "nbformat_minor": 5
}
