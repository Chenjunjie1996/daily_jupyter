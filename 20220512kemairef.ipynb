{
 "cells": [
  {
   "cell_type": "code",
   "execution_count": null,
   "id": "later-tumor",
   "metadata": {},
   "outputs": [],
   "source": [
    "import pysam "
   ]
  },
  {
   "cell_type": "code",
   "execution_count": null,
   "id": "photographic-framework",
   "metadata": {},
   "outputs": [],
   "source": [
    "hs =  '/SGRNJ06/randd/USER/cjj/celedev/kemai/ref/hs/vdj_IMGT_human-mkvdjref-input.fasta'\n",
    "mmu = '/SGRNJ06/randd/USER/cjj/celedev/kemai/ref/mus/vdj_IMGT_mouse-mkvdjref-input.fasta'"
   ]
  },
  {
   "cell_type": "code",
   "execution_count": null,
   "id": "statewide-percentage",
   "metadata": {},
   "outputs": [],
   "source": [
    "with pysam.FastxFile(hs) as f:\n",
    "    for read in f:\n",
    "        name = read.name.split('|')[1]\n",
    "        print(name)\n"
   ]
  },
  {
   "cell_type": "code",
   "execution_count": null,
   "id": "shaped-brooklyn",
   "metadata": {},
   "outputs": [],
   "source": [
    "with pysam.FastxFile(mmu) as f:\n",
    "    for read in f:\n",
    "        name = read.name.split('|')[1]\n",
    "        print(name)\n"
   ]
  },
  {
   "cell_type": "code",
   "execution_count": null,
   "id": "chinese-warning",
   "metadata": {},
   "outputs": [],
   "source": [
    "with pysam.FastxFile('/SGRNJ06/randd/USER/cjj/celedev/kemai/ref/other/vdj_IMGT_other-mkvdjref-input.fasta') as f:\n",
    "    for read in f:\n",
    "        name = read.name.split('|')[1]\n",
    "        print(name)\n"
   ]
  },
  {
   "cell_type": "code",
   "execution_count": null,
   "id": "violent-nightmare",
   "metadata": {},
   "outputs": [],
   "source": []
  }
 ],
 "metadata": {
  "kernelspec": {
   "display_name": "Python 3",
   "language": "python",
   "name": "python3"
  },
  "language_info": {
   "codemirror_mode": {
    "name": "ipython",
    "version": 3
   },
   "file_extension": ".py",
   "mimetype": "text/x-python",
   "name": "python",
   "nbconvert_exporter": "python",
   "pygments_lexer": "ipython3",
   "version": "3.7.10"
  }
 },
 "nbformat": 4,
 "nbformat_minor": 5
}
