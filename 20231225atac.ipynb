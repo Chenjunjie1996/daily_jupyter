{
 "cells": [
  {
   "cell_type": "code",
   "execution_count": null,
   "id": "going-ethernet",
   "metadata": {},
   "outputs": [],
   "source": [
    "suppressWarnings(suppressMessages({\n",
    "    library(Signac)\n",
    "    library(Seurat)\n",
    "    library(EnsDb.Mmusculus.v79)\n",
    "    library(tidyverse)\n",
    "    library(SingleR)\n",
    "    library(EnsDb.Hsapiens.v75)\n",
    "}))"
   ]
  },
  {
   "cell_type": "code",
   "execution_count": null,
   "id": "controlled-settle",
   "metadata": {},
   "outputs": [],
   "source": [
    "rds = Read10X_h5(\"/SGRNJ06/randd/PROJECT/scATAC/project/self_pipe/P23121502_zhongshan/20240102/KP_TAMK_X/02.atac/Result/QC/KP_TAMK_X//KP_TAMK_X_filtered_peak_count.h5\")"
   ]
  },
  {
   "cell_type": "code",
   "execution_count": null,
   "id": "invalid-federal",
   "metadata": {},
   "outputs": [],
   "source": [
    "rds"
   ]
  },
  {
   "cell_type": "code",
   "execution_count": null,
   "id": "quiet-democracy",
   "metadata": {},
   "outputs": [],
   "source": [
    "rds = readRDS(\"/SGRNJ06/randd/PROJECT/scATAC/project/self_pipe/P23121502_zhongshan/20240102/KP_TAMK_X/02.atac/Result/Analysis/KP_TAMK_X//KP_TAMK_X_scATAC_Object.rds\")"
   ]
  },
  {
   "cell_type": "code",
   "execution_count": null,
   "id": "asian-authentication",
   "metadata": {},
   "outputs": [],
   "source": [
    "rds$ATAC@meta.data"
   ]
  },
  {
   "cell_type": "code",
   "execution_count": null,
   "id": "blond-square",
   "metadata": {},
   "outputs": [],
   "source": []
  },
  {
   "cell_type": "code",
   "execution_count": null,
   "id": "arranged-staff",
   "metadata": {},
   "outputs": [],
   "source": [
    "# merge human mouse "
   ]
  },
  {
   "cell_type": "code",
   "execution_count": null,
   "id": "international-devil",
   "metadata": {},
   "outputs": [],
   "source": [
    "# 1. cat合并cell_metrics.tsv, fragments文件\n",
    "# 2. python处理doublet（重复barcode）"
   ]
  },
  {
   "cell_type": "code",
   "execution_count": 2,
   "id": "decreased-granny",
   "metadata": {},
   "outputs": [],
   "source": [
    "import pandas as pd "
   ]
  },
  {
   "cell_type": "code",
   "execution_count": 3,
   "id": "valid-irrigation",
   "metadata": {},
   "outputs": [],
   "source": [
    "df1 = pd.read_csv(\"/SGRNJ06/randd/USER/cjj/celedev/atac/MAESTRO/test/20240111renshu/hs/A0824_5_3K_yisheng_wenxian_rapid_T7_6515TESDSTween_TD612_C16/outs/cell_qc_metrics.tsv\", sep='\\t')\n",
    "df2 = pd.read_csv(\"/SGRNJ06/randd/USER/cjj/celedev/atac/MAESTRO/test/20240111renshu/mu/A0824_5_3K_yisheng_wenxian_rapid_T7_6515TESDSTween_TD612_C16/outs/cell_qc_metrics.tsv\", sep='\\t')"
   ]
  },
  {
   "cell_type": "code",
   "execution_count": null,
   "id": "dirty-shock",
   "metadata": {},
   "outputs": [],
   "source": [
    "df = df.drop_duplicates('barcode', keep=False)"
   ]
  },
  {
   "cell_type": "code",
   "execution_count": null,
   "id": "detected-portable",
   "metadata": {},
   "outputs": [],
   "source": [
    "df"
   ]
  },
  {
   "cell_type": "code",
   "execution_count": null,
   "id": "advanced-german",
   "metadata": {},
   "outputs": [],
   "source": [
    "df.to_csv(\"/SGRNJ06/randd/USER/cjj/celedev/atac/MAESTRO/test/20240111renshu/merge/cell_qc_metrics1.tsv\", sep='\\t', index=False)"
   ]
  },
  {
   "cell_type": "code",
   "execution_count": null,
   "id": "blocked-nicholas",
   "metadata": {},
   "outputs": [],
   "source": [
    "df = pd.read_csv(\"/SGRNJ06/randd/USER/cjj/celedev/atac/MAESTRO/test/20240111renshu/merge/fragments_corrected_dedup_count.tsv.gz\",\n",
    "                                      header=None, sep='\\t', names=[\"chrom\", \"chromStart\", \"chromEnd\", \"barcode\", \"count\"])"
   ]
  },
  {
   "cell_type": "code",
   "execution_count": null,
   "id": "disabled-cholesterol",
   "metadata": {},
   "outputs": [],
   "source": [
    "df"
   ]
  },
  {
   "cell_type": "code",
   "execution_count": null,
   "id": "editorial-vienna",
   "metadata": {},
   "outputs": [],
   "source": [
    "df1 = df.sort_values(['chrom', 'chromStart', 'chromEnd'])"
   ]
  },
  {
   "cell_type": "code",
   "execution_count": null,
   "id": "blind-friday",
   "metadata": {},
   "outputs": [],
   "source": [
    "df1"
   ]
  },
  {
   "cell_type": "code",
   "execution_count": null,
   "id": "blond-budget",
   "metadata": {},
   "outputs": [],
   "source": [
    "df1.to_csv(\"/SGRNJ06/randd/USER/cjj/celedev/atac/MAESTRO/test/20240111renshu/merge/fragments_corrected_dedup_count1.tsv.gz\", sep='\\t', index=0, header=0)"
   ]
  },
  {
   "cell_type": "code",
   "execution_count": null,
   "id": "ecological-postcard",
   "metadata": {},
   "outputs": [],
   "source": []
  },
  {
   "cell_type": "code",
   "execution_count": null,
   "id": "destroyed-conflict",
   "metadata": {},
   "outputs": [],
   "source": [
    "library(hdf5r)\n",
    "library(Seurat)\n",
    "library(tidyverse)\n",
    "library(stringr)\n",
    "library(dplyr)"
   ]
  },
  {
   "cell_type": "code",
   "execution_count": 2,
   "id": "integral-camera",
   "metadata": {},
   "outputs": [
    {
     "name": "stderr",
     "output_type": "stream",
     "text": [
      "Warning message in sparseMatrix(i = indices[] + 1, p = indptr[], x = as.numeric(x = counts[]), :\n",
      "“'giveCsparse' is deprecated; setting repr=\"T\" for you”\n",
      "as(<dgTMatrix>, \"dgCMatrix\") is deprecated since Matrix 1.5-0; do as(., \"CsparseMatrix\") instead\n",
      "\n",
      "Warning message in sparseMatrix(i = indices[] + 1, p = indptr[], x = as.numeric(x = counts[]), :\n",
      "“'giveCsparse' is deprecated; setting repr=\"T\" for you”\n"
     ]
    }
   ],
   "source": [
    "rds1 = Read10X_h5(\"/SGRNJ06/randd/USER/cjj/celedev/atac/MAESTRO/test/20240111renshu/hs/A0824_5_3K_yisheng_wenxian_rapid_T7_6515TESDSTween_TD612_C16/outs/A0824_5_3K_yisheng_wenxian_rapid_T7_6515TESDSTween_TD612_C16_filtered_peak_count.h5\")\n",
    "rds2 = Read10X_h5(\"/SGRNJ06/randd/USER/cjj/celedev/atac/MAESTRO/test/20240111renshu/mu/A0824_5_3K_yisheng_wenxian_rapid_T7_6515TESDSTween_TD612_C16/outs/A0824_5_3K_yisheng_wenxian_rapid_T7_6515TESDSTween_TD612_C16_filtered_peak_count.h5\")"
   ]
  },
  {
   "cell_type": "code",
   "execution_count": 3,
   "id": "protective-welcome",
   "metadata": {},
   "outputs": [
    {
     "data": {
      "text/html": [
       "<style>\n",
       ".list-inline {list-style: none; margin:0; padding: 0}\n",
       ".list-inline>li {display: inline-block}\n",
       ".list-inline>li:not(:last-child)::after {content: \"\\00b7\"; padding: 0 .5ex}\n",
       "</style>\n",
       "<ol class=list-inline><li>135978</li><li>3987</li></ol>\n"
      ],
      "text/latex": [
       "\\begin{enumerate*}\n",
       "\\item 135978\n",
       "\\item 3987\n",
       "\\end{enumerate*}\n"
      ],
      "text/markdown": [
       "1. 135978\n",
       "2. 3987\n",
       "\n",
       "\n"
      ],
      "text/plain": [
       "[1] 135978   3987"
      ]
     },
     "metadata": {},
     "output_type": "display_data"
    }
   ],
   "source": [
    "dim(rds1)"
   ]
  },
  {
   "cell_type": "code",
   "execution_count": 27,
   "id": "twenty-malta",
   "metadata": {},
   "outputs": [
    {
     "data": {
      "text/html": [
       "<style>\n",
       ".list-inline {list-style: none; margin:0; padding: 0}\n",
       ".list-inline>li {display: inline-block}\n",
       ".list-inline>li:not(:last-child)::after {content: \"\\00b7\"; padding: 0 .5ex}\n",
       "</style>\n",
       "<ol class=list-inline><li>123736</li><li>6097</li></ol>\n"
      ],
      "text/latex": [
       "\\begin{enumerate*}\n",
       "\\item 123736\n",
       "\\item 6097\n",
       "\\end{enumerate*}\n"
      ],
      "text/markdown": [
       "1. 123736\n",
       "2. 6097\n",
       "\n",
       "\n"
      ],
      "text/plain": [
       "[1] 123736   6097"
      ]
     },
     "metadata": {},
     "output_type": "display_data"
    }
   ],
   "source": [
    "dim(rds2)"
   ]
  },
  {
   "cell_type": "code",
   "execution_count": 19,
   "id": "federal-costume",
   "metadata": {},
   "outputs": [
    {
     "name": "stderr",
     "output_type": "stream",
     "text": [
      "Warning message in asMethod(object):\n",
      "“sparse->dense coercion: allocating vector of size 4.0 GiB”\n",
      "Warning message in asMethod(object):\n",
      "“sparse->dense coercion: allocating vector of size 5.6 GiB”\n"
     ]
    }
   ],
   "source": [
    "df1 = as.data.frame(rds1)\n",
    "df2 = as.data.frame(rds2)"
   ]
  },
  {
   "cell_type": "code",
   "execution_count": 22,
   "id": "colored-playing",
   "metadata": {},
   "outputs": [],
   "source": [
    "df1$shi<-paste(\"GRCh38\",\"-\",sep=\"\")\n",
    "rownames(df1)<-str_c(df1$shi,rownames(df1))\n",
    "\n",
    "df2$shi<-paste(\"GRCm38\",\"-\",sep=\"\")\n",
    "rownames(df2)<-str_c(df2$shi,rownames(df2))"
   ]
  },
  {
   "cell_type": "code",
   "execution_count": 25,
   "id": "tutorial-essence",
   "metadata": {},
   "outputs": [],
   "source": [
    "df1 <- select(df1,-shi)\n",
    "df2 <- select(df2,-shi)"
   ]
  },
  {
   "cell_type": "code",
   "execution_count": 30,
   "id": "fitted-ticket",
   "metadata": {},
   "outputs": [],
   "source": [
    "rds1 = as.matrix(df1)\n",
    "rds2 = as.matrix(df2)"
   ]
  },
  {
   "cell_type": "code",
   "execution_count": null,
   "id": "higher-fourth",
   "metadata": {},
   "outputs": [],
   "source": [
    "rds1"
   ]
  },
  {
   "cell_type": "code",
   "execution_count": null,
   "id": "touched-domain",
   "metadata": {},
   "outputs": [],
   "source": []
  },
  {
   "cell_type": "code",
   "execution_count": 32,
   "id": "graduate-trailer",
   "metadata": {},
   "outputs": [
    {
     "name": "stderr",
     "output_type": "stream",
     "text": [
      "Warning message:\n",
      "“Feature names cannot have underscores ('_'), replacing with dashes ('-')”\n"
     ]
    }
   ],
   "source": [
    "c1 <- CreateSeuratObject(counts = rds1, project = \"1\")"
   ]
  },
  {
   "cell_type": "code",
   "execution_count": 33,
   "id": "general-luxembourg",
   "metadata": {},
   "outputs": [
    {
     "name": "stderr",
     "output_type": "stream",
     "text": [
      "Warning message:\n",
      "“Feature names cannot have underscores ('_'), replacing with dashes ('-')”\n"
     ]
    }
   ],
   "source": [
    "c2 <- CreateSeuratObject(counts = rds2, project = \"2\")"
   ]
  },
  {
   "cell_type": "code",
   "execution_count": 34,
   "id": "related-hayes",
   "metadata": {},
   "outputs": [
    {
     "data": {
      "text/html": [
       "3523"
      ],
      "text/latex": [
       "3523"
      ],
      "text/markdown": [
       "3523"
      ],
      "text/plain": [
       "[1] 3523"
      ]
     },
     "metadata": {},
     "output_type": "display_data"
    }
   ],
   "source": [
    "length(setdiff(c(rownames(c1@meta.data)), c(rownames(c2@meta.data))))"
   ]
  },
  {
   "cell_type": "code",
   "execution_count": 35,
   "id": "billion-cartoon",
   "metadata": {},
   "outputs": [
    {
     "data": {
      "text/html": [
       "5633"
      ],
      "text/latex": [
       "5633"
      ],
      "text/markdown": [
       "5633"
      ],
      "text/plain": [
       "[1] 5633"
      ]
     },
     "metadata": {},
     "output_type": "display_data"
    }
   ],
   "source": [
    "length(setdiff(c(rownames(c2@meta.data)), c(rownames(c1@meta.data))))"
   ]
  },
  {
   "cell_type": "code",
   "execution_count": 36,
   "id": "second-management",
   "metadata": {},
   "outputs": [],
   "source": [
    "c3 = (setdiff(c(rownames(c1@meta.data)), c(rownames(c2@meta.data))))\n",
    "c4 = (setdiff(c(rownames(c2@meta.data)), c(rownames(c1@meta.data))))"
   ]
  },
  {
   "cell_type": "code",
   "execution_count": 37,
   "id": "noble-white",
   "metadata": {},
   "outputs": [],
   "source": [
    "c3 = subset(c1, cells=c3)\n",
    "c4 = subset(c2, cells=c4)"
   ]
  },
  {
   "cell_type": "code",
   "execution_count": 38,
   "id": "square-thermal",
   "metadata": {},
   "outputs": [
    {
     "data": {
      "text/plain": [
       "An object of class Seurat \n",
       "135978 features across 3523 samples within 1 assay \n",
       "Active assay: RNA (135978 features, 0 variable features)"
      ]
     },
     "metadata": {},
     "output_type": "display_data"
    }
   ],
   "source": [
    "c3"
   ]
  },
  {
   "cell_type": "code",
   "execution_count": 39,
   "id": "amber-malta",
   "metadata": {},
   "outputs": [
    {
     "data": {
      "text/plain": [
       "An object of class Seurat \n",
       "123736 features across 5633 samples within 1 assay \n",
       "Active assay: RNA (123736 features, 0 variable features)"
      ]
     },
     "metadata": {},
     "output_type": "display_data"
    }
   ],
   "source": [
    "c4"
   ]
  },
  {
   "cell_type": "code",
   "execution_count": 40,
   "id": "liable-diagram",
   "metadata": {},
   "outputs": [],
   "source": [
    "combined <- merge(c3, y = c4,  project = \"c\")"
   ]
  },
  {
   "cell_type": "code",
   "execution_count": 42,
   "id": "verbal-disposition",
   "metadata": {},
   "outputs": [],
   "source": [
    "combined_count = combined@assays$RNA@counts"
   ]
  },
  {
   "cell_type": "code",
   "execution_count": 44,
   "id": "meaningful-asbestos",
   "metadata": {},
   "outputs": [
    {
     "data": {
      "text/html": [
       "<style>\n",
       ".list-inline {list-style: none; margin:0; padding: 0}\n",
       ".list-inline>li {display: inline-block}\n",
       ".list-inline>li:not(:last-child)::after {content: \"\\00b7\"; padding: 0 .5ex}\n",
       "</style>\n",
       "<ol class=list-inline><li>259714</li><li>9156</li></ol>\n"
      ],
      "text/latex": [
       "\\begin{enumerate*}\n",
       "\\item 259714\n",
       "\\item 9156\n",
       "\\end{enumerate*}\n"
      ],
      "text/markdown": [
       "1. 259714\n",
       "2. 9156\n",
       "\n",
       "\n"
      ],
      "text/plain": [
       "[1] 259714   9156"
      ]
     },
     "metadata": {},
     "output_type": "display_data"
    }
   ],
   "source": [
    "dim(combined_count)"
   ]
  },
  {
   "cell_type": "code",
   "execution_count": 43,
   "id": "palestinian-fight",
   "metadata": {},
   "outputs": [
    {
     "data": {
      "text/html": [
       "<style>\n",
       ".list-inline {list-style: none; margin:0; padding: 0}\n",
       ".list-inline>li {display: inline-block}\n",
       ".list-inline>li:not(:last-child)::after {content: \"\\00b7\"; padding: 0 .5ex}\n",
       "</style>\n",
       "<ol class=list-inline><li>259714</li><li>9156</li></ol>\n"
      ],
      "text/latex": [
       "\\begin{enumerate*}\n",
       "\\item 259714\n",
       "\\item 9156\n",
       "\\end{enumerate*}\n"
      ],
      "text/markdown": [
       "1. 259714\n",
       "2. 9156\n",
       "\n",
       "\n"
      ],
      "text/plain": [
       "[1] 259714   9156"
      ]
     },
     "metadata": {},
     "output_type": "display_data"
    }
   ],
   "source": []
  },
  {
   "cell_type": "code",
   "execution_count": 45,
   "id": "basic-dominican",
   "metadata": {},
   "outputs": [],
   "source": [
    "suppressWarnings(suppressMessages({\n",
    "    library(Signac)\n",
    "    library(Seurat)\n",
    "    library(EnsDb.Mmusculus.v79)\n",
    "    library(tidyverse)\n",
    "    library(SingleR)\n",
    "    library(Signac)\n",
    "    library(Seurat)\n",
    "    library(GenomicRanges)\n",
    "    library(future)\n",
    "}))"
   ]
  },
  {
   "cell_type": "code",
   "execution_count": 46,
   "id": "impossible-withdrawal",
   "metadata": {},
   "outputs": [],
   "source": [
    "counts <- combined_count"
   ]
  },
  {
   "cell_type": "code",
   "execution_count": null,
   "id": "rocky-liquid",
   "metadata": {},
   "outputs": [],
   "source": [
    "# counts <- Read10X_h5(\"/SGRNJ06/randd/USER/cjj/celedev/atac/MAESTRO/test/20240111renshu/hs/A0824_5_3K_yisheng_wenxian_rapid_T7_6515TESDSTween_TD612_C16/outs/A0824_5_3K_yisheng_wenxian_rapid_T7_6515TESDSTween_TD612_C16_filtered_peak_count.h5\")"
   ]
  },
  {
   "cell_type": "code",
   "execution_count": null,
   "id": "numeric-receipt",
   "metadata": {},
   "outputs": [],
   "source": [
    "metadata <- read.csv(\n",
    "  file = \"/SGRNJ06/randd/USER/cjj/celedev/atac/MAESTRO/test/20240111renshu/merge/cell_qc_metrics1.tsv\",\n",
    "  header = TRUE,\n",
    "  row.names = 1,\n",
    "  sep='\\t'\n",
    ")"
   ]
  },
  {
   "cell_type": "code",
   "execution_count": null,
   "id": "appropriate-tsunami",
   "metadata": {},
   "outputs": [],
   "source": [
    "counts"
   ]
  },
  {
   "cell_type": "code",
   "execution_count": null,
   "id": "centered-approach",
   "metadata": {},
   "outputs": [],
   "source": [
    "brain_assay <- CreateChromatinAssay(\n",
    "  counts = counts,\n",
    "  sep = c(\"-\", \"-\"),\n",
    "  genome = \"mm10\",\n",
    "  fragments = '/SGRNJ06/randd/USER/cjj/celedev/atac/MAESTRO/test/20240111renshu/merge/fragments_corrected_dedup_count1.tsv.gz',\n",
    ")"
   ]
  },
  {
   "cell_type": "code",
   "execution_count": null,
   "id": "indian-armstrong",
   "metadata": {},
   "outputs": [],
   "source": [
    "brain <- CreateSeuratObject(\n",
    "  counts = brain_assay,\n",
    "  assay = 'peaks',\n",
    "  project = 'ATAC',\n",
    "  meta.data = metadata\n",
    ")"
   ]
  },
  {
   "cell_type": "code",
   "execution_count": null,
   "id": "complimentary-shopper",
   "metadata": {},
   "outputs": [],
   "source": [
    "brain@assays$peaks"
   ]
  },
  {
   "cell_type": "code",
   "execution_count": null,
   "id": "expired-smell",
   "metadata": {},
   "outputs": [],
   "source": []
  }
 ],
 "metadata": {
  "kernelspec": {
   "display_name": "trust4_1.7",
   "language": "python",
   "name": "trust4_1.7"
  },
  "language_info": {
   "codemirror_mode": {
    "name": "ipython",
    "version": 3
   },
   "file_extension": ".py",
   "mimetype": "text/x-python",
   "name": "python",
   "nbconvert_exporter": "python",
   "pygments_lexer": "ipython3",
   "version": "3.7.10"
  }
 },
 "nbformat": 4,
 "nbformat_minor": 5
}
