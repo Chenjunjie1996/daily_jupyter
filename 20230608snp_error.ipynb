{
 "cells": [
  {
   "cell_type": "code",
   "execution_count": null,
   "id": "mature-trustee",
   "metadata": {},
   "outputs": [],
   "source": [
    "import pandas as pd "
   ]
  },
  {
   "cell_type": "code",
   "execution_count": null,
   "id": "rapid-canal",
   "metadata": {},
   "outputs": [],
   "source": [
    "AA_DICT = {\n",
    "    'Gly' : 'G',\n",
    "    'Ala' : 'A',\n",
    "    'Val' : 'V',\n",
    "    'Leu' : 'L',\n",
    "    'Ile' : 'I',\n",
    "    'Phe' : 'F',\n",
    "    'Trp' : 'W',\n",
    "    'Tyr' : 'Y',\n",
    "    'Asp' : 'D',\n",
    "    'Asn' : 'N',\n",
    "    'Glu' : 'E',\n",
    "    'Lys' : 'K',\n",
    "    'Gln' : 'Q',\n",
    "    'Met' : 'M',\n",
    "    'Ser' : 'S',\n",
    "    'Thr' : 'T',\n",
    "    'Cys' : 'C',\n",
    "    'Pro' : 'P',\n",
    "    'His' : 'H',\n",
    "    'Arg' : 'R',\n",
    "}"
   ]
  },
  {
   "cell_type": "code",
   "execution_count": null,
   "id": "special-pasta",
   "metadata": {},
   "outputs": [],
   "source": [
    "def parse_variant_ann(variant_ann_file):\n",
    "    \"\"\"\n",
    "    Args:\n",
    "        variant_ann_file: variant annotation file from snpEff.\n",
    "    \n",
    "    Returns:\n",
    "        gene_list, mRNA_list, protein_list\n",
    "    \"\"\"\n",
    "    gene_list, mRNA_list, protein_list = [], [], []\n",
    "\n",
    "    with open(variant_ann_file) as f:\n",
    "        for line in f.readlines():\n",
    "            if not line.startswith(\"#\"):\n",
    "                info = line.split('\\t')[7]\n",
    "                anns = info.split(\"|\")\n",
    "                gene = anns[3]\n",
    "                gene_list.append(gene)\n",
    "            \n",
    "                tmp1, tmp2 = [], []\n",
    "                for ann in anns:\n",
    "                    if ann.startswith(\"c.\"):\n",
    "                        exon_loc = anns[anns.index(ann) - 1].split('/')[0]\n",
    "                        # WARNING_TRANSCRIPT_INCOMPLETE\n",
    "                        if not exon_loc:\n",
    "                            continue\n",
    "                        \n",
    "                        exon = ann.strip(\"c.\")\n",
    "                        exon = f\"exon{exon_loc}:{exon}\"\n",
    "                        if exon not in tmp1:\n",
    "                            tmp1.append(exon)\n",
    "\n",
    "                    if ann.startswith(\"p.\"):\n",
    "                        protein = ann[2:]\n",
    "                        for i in AA_DICT:\n",
    "                            protein = protein.replace(i, AA_DICT[i])\n",
    "                        if protein not in tmp2:\n",
    "                            tmp2.append(protein)\n",
    "                        \n",
    "                mRNA_list.append(','.join(tmp1))\n",
    "                protein_list.append(','.join(tmp2))\n",
    "\n",
    "    return (gene_list, mRNA_list, protein_list)"
   ]
  },
  {
   "cell_type": "code",
   "execution_count": null,
   "id": "minor-summer",
   "metadata": {},
   "outputs": [],
   "source": [
    "df_gt = pd.read_csv(\"/SGRNJ06/randd/USER/cjj/snpeff/20230608error/A124_FJ/09.analysis_snp/A124_FJ_gt.csv\", keep_default_na=False, index_col=0)\n",
    "df_ncell = pd.read_csv(\"/SGRNJ06/randd/USER/cjj/snpeff/20230608error/A124_FJ/09.analysis_snp/A124_FJ_variant_ncell.csv\", index_col=0)"
   ]
  },
  {
   "cell_type": "code",
   "execution_count": null,
   "id": "dimensional-judges",
   "metadata": {},
   "outputs": [],
   "source": [
    "df_gt"
   ]
  },
  {
   "cell_type": "code",
   "execution_count": null,
   "id": "surprising-packet",
   "metadata": {},
   "outputs": [],
   "source": [
    "df_ncell"
   ]
  },
  {
   "cell_type": "code",
   "execution_count": null,
   "id": "healthy-belief",
   "metadata": {},
   "outputs": [],
   "source": [
    "df_ncell['n_variants'] = df_ncell['0/1'] + df_ncell['1/1']"
   ]
  },
  {
   "cell_type": "code",
   "execution_count": null,
   "id": "civic-butler",
   "metadata": {},
   "outputs": [],
   "source": [
    "df_ncell"
   ]
  },
  {
   "cell_type": "code",
   "execution_count": null,
   "id": "prepared-artwork",
   "metadata": {},
   "outputs": [],
   "source": [
    "df_top = df_gt.loc[df_ncell.nlargest(20, 'n_variants').index,]"
   ]
  },
  {
   "cell_type": "code",
   "execution_count": null,
   "id": "embedded-brief",
   "metadata": {},
   "outputs": [],
   "source": [
    "df_ncell.nlargest(20, 'n_variants')"
   ]
  },
  {
   "cell_type": "code",
   "execution_count": null,
   "id": "western-listening",
   "metadata": {},
   "outputs": [],
   "source": [
    "df_top"
   ]
  },
  {
   "cell_type": "code",
   "execution_count": null,
   "id": "numerous-mountain",
   "metadata": {},
   "outputs": [],
   "source": [
    "df_top = df_top.transpose()"
   ]
  },
  {
   "cell_type": "code",
   "execution_count": null,
   "id": "enhanced-concentration",
   "metadata": {},
   "outputs": [],
   "source": [
    "variants = df_top.columns"
   ]
  },
  {
   "cell_type": "code",
   "execution_count": null,
   "id": "buried-chinese",
   "metadata": {},
   "outputs": [],
   "source": [
    "variants"
   ]
  },
  {
   "cell_type": "code",
   "execution_count": null,
   "id": "treated-melissa",
   "metadata": {},
   "outputs": [],
   "source": [
    "for c in variants:\n",
    "    df_top[c] = df_top[c].astype('category')"
   ]
  },
  {
   "cell_type": "code",
   "execution_count": null,
   "id": "covered-medicine",
   "metadata": {},
   "outputs": [],
   "source": [
    "df_top"
   ]
  },
  {
   "cell_type": "code",
   "execution_count": null,
   "id": "pleased-spare",
   "metadata": {},
   "outputs": [],
   "source": [
    "gene_list, _mRNA_list, protein_list = parse_variant_ann(\"/SGRNJ06/randd/USER/cjj/snpeff/20230608error/A124_FJ/09.analysis_snp/A124_FJ_final.vcf\")"
   ]
  },
  {
   "cell_type": "code",
   "execution_count": null,
   "id": "certain-ground",
   "metadata": {},
   "outputs": [],
   "source": [
    "variants"
   ]
  },
  {
   "cell_type": "code",
   "execution_count": null,
   "id": "handy-athens",
   "metadata": {},
   "outputs": [],
   "source": [
    "variant_table = pd.read_csv(\"/SGRNJ06/randd/USER/cjj/snpeff/20230608error/A124_FJ/09.analysis_snp/A124_FJ_variant_table.csv\")"
   ]
  },
  {
   "cell_type": "code",
   "execution_count": null,
   "id": "approximate-longitude",
   "metadata": {},
   "outputs": [],
   "source": [
    "variant_table"
   ]
  },
  {
   "cell_type": "code",
   "execution_count": null,
   "id": "efficient-discovery",
   "metadata": {},
   "outputs": [],
   "source": [
    "variant_table['Chrom'] = variant_table['Chrom'].astype(str)\n",
    "variant_table['Pos'] = variant_table['Pos'].astype(str)\n",
    "variant_table['Chrom_Pos'] = variant_table[['Chrom', 'Pos']].apply('_'.join, axis=1)"
   ]
  },
  {
   "cell_type": "code",
   "execution_count": null,
   "id": "personalized-calculator",
   "metadata": {},
   "outputs": [],
   "source": [
    "variant_table"
   ]
  },
  {
   "cell_type": "code",
   "execution_count": null,
   "id": "divided-strength",
   "metadata": {},
   "outputs": [],
   "source": [
    "variant_table = variant_table.fillna('None')\n",
    "gene_dict = variant_table.set_index(\"Chrom_Pos\").to_dict(orient=\"dict\")[\"Gene\"]\n",
    "protein_dict = variant_table.set_index(\"Chrom_Pos\").to_dict(orient=\"dict\")[\"Protein\"]"
   ]
  },
  {
   "cell_type": "code",
   "execution_count": null,
   "id": "collect-february",
   "metadata": {},
   "outputs": [],
   "source": [
    "len(protein_dict)"
   ]
  },
  {
   "cell_type": "code",
   "execution_count": null,
   "id": "under-hazard",
   "metadata": {},
   "outputs": [],
   "source": [
    "        for i, v in enumerate(variants):\n",
    "            title = f'top{i+1}_{variants[i]}_{gene_dict[variants[i]]}_{protein_dict[variants[i]]}'\n",
    "            print(title)"
   ]
  },
  {
   "cell_type": "code",
   "execution_count": null,
   "id": "broad-assist",
   "metadata": {},
   "outputs": [],
   "source": [
    "df_top"
   ]
  },
  {
   "cell_type": "code",
   "execution_count": null,
   "id": "contained-status",
   "metadata": {},
   "outputs": [],
   "source": [
    "len(gene_list)"
   ]
  },
  {
   "cell_type": "code",
   "execution_count": null,
   "id": "geological-breach",
   "metadata": {},
   "outputs": [],
   "source": [
    "len(protein_list)"
   ]
  },
  {
   "cell_type": "code",
   "execution_count": null,
   "id": "floppy-project",
   "metadata": {},
   "outputs": [],
   "source": []
  }
 ],
 "metadata": {
  "kernelspec": {
   "display_name": "cjj_singularity",
   "language": "python",
   "name": "cjj_singularity"
  },
  "language_info": {
   "codemirror_mode": {
    "name": "ipython",
    "version": 3
   },
   "file_extension": ".py",
   "mimetype": "text/x-python",
   "name": "python",
   "nbconvert_exporter": "python",
   "pygments_lexer": "ipython3",
   "version": "3.9.0"
  }
 },
 "nbformat": 4,
 "nbformat_minor": 5
}
