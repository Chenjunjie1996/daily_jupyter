{
 "cells": [
  {
   "cell_type": "code",
   "execution_count": 1,
   "metadata": {},
   "outputs": [],
   "source": [
    "# Singularity pre-process and Loading data for analysis\n",
    "# 1. conda activate cjj_singularity\n",
    "# 2. cd /SGRNJ06/randd/USER/cjj/celedev/dandelion/singularity/dandelion_tutorial\n",
    "# 3. sh wget.sh\n",
    "# 4. /usr/local/bin/singularity pull library://kt16/default/sc-dandelion:latest\n",
    "# 5. /usr/local/bin/singularity run -B $PWD ../sc-dandelion_latest.sif dandelion-preprocess --meta meta.csv --file_prefix filtered"
   ]
  },
  {
   "cell_type": "code",
   "execution_count": 1,
   "metadata": {},
   "outputs": [],
   "source": [
    "import dandelion as ddl\n",
    "import scanpy as sc\n",
    "import warnings\n",
    "import os\n",
    "warnings.filterwarnings('ignore')"
   ]
  },
  {
   "cell_type": "code",
   "execution_count": 4,
   "metadata": {},
   "outputs": [
    {
     "name": "stderr",
     "output_type": "stream",
     "text": [
      "Variable names are not unique. To make them unique, call `.var_names_make_unique`.\n",
      "Variable names are not unique. To make them unique, call `.var_names_make_unique`.\n",
      "Variable names are not unique. To make them unique, call `.var_names_make_unique`.\n",
      "Variable names are not unique. To make them unique, call `.var_names_make_unique`.\n",
      "Variable names are not unique. To make them unique, call `.var_names_make_unique`.\n",
      "Variable names are not unique. To make them unique, call `.var_names_make_unique`.\n",
      "Variable names are not unique. To make them unique, call `.var_names_make_unique`.\n",
      "Variable names are not unique. To make them unique, call `.var_names_make_unique`.\n"
     ]
    }
   ],
   "source": [
    "samples = ['sc5p_v2_hs_PBMC_1k', 'sc5p_v2_hs_PBMC_10k', 'vdj_v1_hs_pbmc3', 'vdj_nextgem_hs_pbmc3']\n",
    "adata_list = []\n",
    "for sample in samples:\n",
    "    adata = sc.read_10x_h5('/SGRNJ06/randd/USER/cjj/celedev/dandelion/singularity/dandelion_tutorial/' + sample +'/filtered_feature_bc_matrix.h5', gex_only=True)\n",
    "    adata.obs['sampleid'] = sample\n",
    "    # rename cells to sample id + barcode, and cleave the trailing -#\n",
    "    adata.obs_names = [str(sample)+'_'+str(j).split('-')[0] for j in adata.obs_names]\n",
    "    adata.var_names_make_unique()\n",
    "    adata_list.append(adata)\n",
    "#no need for index_unique as we already made barcodes unique by prepending the sample ID\n",
    "adata = adata_list[0].concatenate(adata_list[1:], index_unique=None)"
   ]
  },
  {
   "cell_type": "code",
   "execution_count": 5,
   "metadata": {},
   "outputs": [],
   "source": [
    "vdj_list = []\n",
    "for sample in samples:\n",
    "    vdj = ddl.read_10x_airr('/SGRNJ06/randd/USER/cjj/celedev/dandelion/singularity/dandelion_tutorial/'+sample+'/dandelion/filtered_contig_dandelion.tsv')\n",
    "    #the dandelion output already has the sample ID prepended at the start of each contig\n",
    "    vdj_list.append(vdj)\n",
    "vdj = ddl.concat(vdj_list)"
   ]
  },
  {
   "cell_type": "code",
   "execution_count": 6,
   "metadata": {},
   "outputs": [],
   "source": [
    "sc.pp.filter_genes(adata, min_cells=3)\n",
    "sc.pp.normalize_total(adata, target_sum=1e4)\n",
    "sc.pp.log1p(adata)\n",
    "adata.raw = adata\n",
    "sc.pp.highly_variable_genes(adata, min_mean=0.0125, max_mean=3, min_disp=0.5)\n",
    "adata = adata[:, adata.var.highly_variable]\n",
    "sc.pp.scale(adata, max_value=10)\n",
    "sc.tl.pca(adata, svd_solver='arpack')\n",
    "sc.pp.neighbors(adata, n_pcs=20)\n",
    "sc.tl.umap(adata)\n",
    "sc.tl.leiden(adata, resolution=0.5)"
   ]
  },
  {
   "cell_type": "code",
   "execution_count": 7,
   "metadata": {},
   "outputs": [
    {
     "name": "stderr",
     "output_type": "stream",
     "text": [
      "... storing 'sampleid' as categorical\n",
      "... storing 'feature_types' as categorical\n",
      "... storing 'genome' as categorical\n",
      "... storing 'feature_types' as categorical\n",
      "... storing 'genome' as categorical\n"
     ]
    }
   ],
   "source": [
    "adata.write(\"/SGRNJ06/randd/USER/cjj/celedev/dandelion/singularity/dandelion_tutorial/demo-gex.h5ad\")\n",
    "vdj.write('/SGRNJ06/randd/USER/cjj/celedev/dandelion/singularity/dandelion_tutorial/demo-vdj.h5ddl')"
   ]
  },
  {
   "cell_type": "code",
   "execution_count": null,
   "metadata": {},
   "outputs": [],
   "source": []
  }
 ],
 "metadata": {
  "kernelspec": {
   "display_name": "cjj_singularity",
   "language": "python",
   "name": "cjj_singularity"
  },
  "language_info": {
   "codemirror_mode": {
    "name": "ipython",
    "version": 3
   },
   "file_extension": ".py",
   "mimetype": "text/x-python",
   "name": "python",
   "nbconvert_exporter": "python",
   "pygments_lexer": "ipython3",
   "version": "3.9.0"
  }
 },
 "nbformat": 4,
 "nbformat_minor": 5
}
