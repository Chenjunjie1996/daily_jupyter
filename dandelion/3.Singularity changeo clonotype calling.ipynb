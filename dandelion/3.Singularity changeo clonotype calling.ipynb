{
 "cells": [
  {
   "cell_type": "code",
   "execution_count": null,
   "id": "reflected-metallic",
   "metadata": {},
   "outputs": [],
   "source": [
    "# 1. cd /SGRNJ06/randd/USER/cjj/celedev/dandelion/singularity/dandelion_tutorial\n",
    "# 2./usr/local/bin/singularity run -B $PWD ../sc-dandelion_latest.sif changeo-clonotypes --h5ddl demo-vdj.h5ddl"
   ]
  }
 ],
 "metadata": {
  "kernelspec": {
   "display_name": "cjj_singularity",
   "language": "python",
   "name": "cjj_singularity"
  },
  "language_info": {
   "codemirror_mode": {
    "name": "ipython",
    "version": 3
   },
   "file_extension": ".py",
   "mimetype": "text/x-python",
   "name": "python",
   "nbconvert_exporter": "python",
   "pygments_lexer": "ipython3",
   "version": "3.9.0"
  }
 },
 "nbformat": 4,
 "nbformat_minor": 5
}
