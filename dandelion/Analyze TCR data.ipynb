{
 "cells": [
  {
   "cell_type": "code",
   "execution_count": 11,
   "id": "confirmed-antique",
   "metadata": {},
   "outputs": [
    {
     "name": "stdout",
     "output_type": "stream",
     "text": [
      "dandelion==0.3.1 pandas==1.4.2 numpy==1.23.1 matplotlib==3.5.3 networkx==3.1 scipy==1.9.1\n"
     ]
    }
   ],
   "source": [
    "import os\n",
    "import dandelion as ddl\n",
    "# change directory to somewhere more workable\n",
    "os.chdir(os.path.expanduser('/SGRNJ06/randd/USER/cjj/celedev/dandelion/test/analyze_tcr_data/dandelion_tutorial'))\n",
    "ddl.logging.print_versions()"
   ]
  },
  {
   "cell_type": "code",
   "execution_count": 3,
   "id": "neural-regard",
   "metadata": {},
   "outputs": [],
   "source": [
    "# read in the airr_rearrangement.tsv file\n",
    "file1 = 'sc5p_v2_hs_PBMC_10k/sc5p_v2_hs_PBMC_10k_t_airr_rearrangement.tsv'\n",
    "file2 = 'sc5p_v1p1_hs_melanoma_10k/sc5p_v1p1_hs_melanoma_10k_t_airr_rearrangement.tsv'"
   ]
  },
  {
   "cell_type": "code",
   "execution_count": 4,
   "id": "effective-throat",
   "metadata": {},
   "outputs": [
    {
     "data": {
      "text/plain": [
       "Dandelion class object with n_obs = 5351 and n_contigs = 10860\n",
       "    data: 'cell_id', 'sequence_id', 'sequence', 'sequence_aa', 'productive', 'rev_comp', 'v_call', 'v_cigar', 'd_call', 'd_cigar', 'j_call', 'j_cigar', 'c_call', 'c_cigar', 'sequence_alignment', 'germline_alignment', 'junction', 'junction_aa', 'junction_length', 'junction_aa_length', 'v_sequence_start', 'v_sequence_end', 'd_sequence_start', 'd_sequence_end', 'j_sequence_start', 'j_sequence_end', 'c_sequence_start', 'c_sequence_end', 'consensus_count', 'duplicate_count', 'is_cell', 'locus', 'rearrangement_status'\n",
       "    metadata: 'locus_VDJ', 'locus_VJ', 'productive_VDJ', 'productive_VJ', 'v_call_VDJ', 'd_call_VDJ', 'j_call_VDJ', 'v_call_VJ', 'j_call_VJ', 'c_call_VDJ', 'c_call_VJ', 'junction_VDJ', 'junction_VJ', 'junction_aa_VDJ', 'junction_aa_VJ', 'v_call_abT_VDJ', 'd_call_abT_VDJ', 'j_call_abT_VDJ', 'v_call_abT_VJ', 'j_call_abT_VJ', 'c_call_abT_VDJ', 'c_call_abT_VJ', 'productive_abT_VDJ', 'productive_abT_VJ', 'duplicate_count_abT_VDJ', 'duplicate_count_abT_VJ', 'v_call_VDJ_main', 'v_call_VJ_main', 'd_call_VDJ_main', 'j_call_VDJ_main', 'j_call_VJ_main', 'c_call_VDJ_main', 'c_call_VJ_main', 'v_call_abT_VDJ_main', 'd_call_abT_VDJ_main', 'j_call_abT_VDJ_main', 'v_call_abT_VJ_main', 'j_call_abT_VJ_main', 'isotype', 'isotype_status', 'locus_status', 'chain_status', 'rearrangement_status_VDJ', 'rearrangement_status_VJ'"
      ]
     },
     "execution_count": 4,
     "metadata": {},
     "output_type": "execute_result"
    }
   ],
   "source": [
    "vdj1 = ddl.read_10x_airr(file1)\n",
    "vdj1"
   ]
  },
  {
   "cell_type": "code",
   "execution_count": 5,
   "id": "electrical-criticism",
   "metadata": {},
   "outputs": [
    {
     "data": {
      "text/plain": [
       "Dandelion class object with n_obs = 1560 and n_contigs = 2755\n",
       "    data: 'cell_id', 'sequence_id', 'sequence', 'sequence_aa', 'productive', 'rev_comp', 'v_call', 'v_cigar', 'd_call', 'd_cigar', 'j_call', 'j_cigar', 'c_call', 'c_cigar', 'sequence_alignment', 'germline_alignment', 'junction', 'junction_aa', 'junction_length', 'junction_aa_length', 'v_sequence_start', 'v_sequence_end', 'd_sequence_start', 'd_sequence_end', 'j_sequence_start', 'j_sequence_end', 'c_sequence_start', 'c_sequence_end', 'consensus_count', 'duplicate_count', 'is_cell', 'locus', 'rearrangement_status'\n",
       "    metadata: 'locus_VDJ', 'locus_VJ', 'productive_VDJ', 'productive_VJ', 'v_call_VDJ', 'd_call_VDJ', 'j_call_VDJ', 'v_call_VJ', 'j_call_VJ', 'c_call_VDJ', 'c_call_VJ', 'junction_VDJ', 'junction_VJ', 'junction_aa_VDJ', 'junction_aa_VJ', 'v_call_abT_VDJ', 'd_call_abT_VDJ', 'j_call_abT_VDJ', 'v_call_abT_VJ', 'j_call_abT_VJ', 'c_call_abT_VDJ', 'c_call_abT_VJ', 'productive_abT_VDJ', 'productive_abT_VJ', 'duplicate_count_abT_VDJ', 'duplicate_count_abT_VJ', 'v_call_VDJ_main', 'v_call_VJ_main', 'd_call_VDJ_main', 'j_call_VDJ_main', 'j_call_VJ_main', 'c_call_VDJ_main', 'c_call_VJ_main', 'v_call_abT_VDJ_main', 'd_call_abT_VDJ_main', 'j_call_abT_VDJ_main', 'v_call_abT_VJ_main', 'j_call_abT_VJ_main', 'isotype', 'isotype_status', 'locus_status', 'chain_status', 'rearrangement_status_VDJ', 'rearrangement_status_VJ'"
      ]
     },
     "execution_count": 5,
     "metadata": {},
     "output_type": "execute_result"
    }
   ],
   "source": [
    "vdj2 = ddl.read_10x_airr(file2)\n",
    "vdj2"
   ]
  },
  {
   "cell_type": "code",
   "execution_count": 6,
   "id": "scientific-walter",
   "metadata": {},
   "outputs": [
    {
     "data": {
      "text/plain": [
       "Dandelion class object with n_obs = 6911 and n_contigs = 13615\n",
       "    data: 'cell_id', 'sequence_id', 'sequence', 'sequence_aa', 'productive', 'rev_comp', 'v_call', 'v_cigar', 'd_call', 'd_cigar', 'j_call', 'j_cigar', 'c_call', 'c_cigar', 'sequence_alignment', 'germline_alignment', 'junction', 'junction_aa', 'junction_length', 'junction_aa_length', 'v_sequence_start', 'v_sequence_end', 'd_sequence_start', 'd_sequence_end', 'j_sequence_start', 'j_sequence_end', 'c_sequence_start', 'c_sequence_end', 'consensus_count', 'duplicate_count', 'is_cell', 'locus', 'rearrangement_status', 'sample_id'\n",
       "    metadata: 'sample_id', 'locus_VDJ', 'locus_VJ', 'productive_VDJ', 'productive_VJ', 'v_call_VDJ', 'd_call_VDJ', 'j_call_VDJ', 'v_call_VJ', 'j_call_VJ', 'c_call_VDJ', 'c_call_VJ', 'junction_VDJ', 'junction_VJ', 'junction_aa_VDJ', 'junction_aa_VJ', 'v_call_abT_VDJ', 'd_call_abT_VDJ', 'j_call_abT_VDJ', 'v_call_abT_VJ', 'j_call_abT_VJ', 'c_call_abT_VDJ', 'c_call_abT_VJ', 'productive_abT_VDJ', 'productive_abT_VJ', 'duplicate_count_abT_VDJ', 'duplicate_count_abT_VJ', 'v_call_VDJ_main', 'v_call_VJ_main', 'd_call_VDJ_main', 'j_call_VDJ_main', 'j_call_VJ_main', 'c_call_VDJ_main', 'c_call_VJ_main', 'v_call_abT_VDJ_main', 'd_call_abT_VDJ_main', 'j_call_abT_VDJ_main', 'v_call_abT_VJ_main', 'j_call_abT_VJ_main', 'isotype', 'isotype_status', 'locus_status', 'chain_status', 'rearrangement_status_VDJ', 'rearrangement_status_VJ'"
      ]
     },
     "execution_count": 6,
     "metadata": {},
     "output_type": "execute_result"
    }
   ],
   "source": [
    "# combine into a singular object\n",
    "# let's add the sample_id to each cell barcode so that we don't end up overlapping later on\n",
    "sample_id = 'sc5p_v2_hs_PBMC_10k'\n",
    "vdj1.data['sample_id'] = sample_id\n",
    "vdj1.data['cell_id'] = [sample_id + '_' + c for c in vdj1.data['cell_id']]\n",
    "vdj1.data['sequence_id'] = [sample_id + '_' + s for s in vdj1.data['sequence_id']]\n",
    "\n",
    "sample_id = 'sc5p_v1p1_hs_melanoma_10k'\n",
    "vdj2.data['sample_id'] = sample_id\n",
    "vdj2.data['cell_id'] = [sample_id + '_' + c for c in vdj2.data['cell_id']]\n",
    "vdj2.data['sequence_id'] = [sample_id + '_' + s for s in vdj2.data['sequence_id']]\n",
    "\n",
    "# combine into a singular object\n",
    "vdj = ddl.concat([vdj1, vdj2])\n",
    "vdj"
   ]
  },
  {
   "cell_type": "code",
   "execution_count": 7,
   "id": "polish-treasury",
   "metadata": {},
   "outputs": [
    {
     "name": "stderr",
     "output_type": "stream",
     "text": [
      "Formating fasta(s) : 100%|██████████| 2/2 [04:29<00:00, 134.75s/it]                                                                                    \n"
     ]
    }
   ],
   "source": [
    "samples = ['sc5p_v2_hs_PBMC_10k', 'sc5p_v1p1_hs_melanoma_10k']\n",
    "filename_prefixes = ['sc5p_v2_hs_PBMC_10k_t_filtered', 'sc5p_v1p1_hs_melanoma_10k_t_filtered']\n",
    "ddl.pp.format_fastas(samples, prefix = samples, filename_prefix = filename_prefixes)"
   ]
  },
  {
   "cell_type": "code",
   "execution_count": 10,
   "id": "human-movement",
   "metadata": {},
   "outputs": [
    {
     "name": "stderr",
     "output_type": "stream",
     "text": [
      "Assigning genes :   0%|          | 0/2 [00:00<?, ?it/s]                                                                                                \n"
     ]
    },
    {
     "ename": "KeyError",
     "evalue": "'Environmental variable IGDATA must be set. Otherwise, please provide path to igblast database'",
     "output_type": "error",
     "traceback": [
      "\u001b[0;31m---------------------------------------------------------------------------\u001b[0m",
      "\u001b[0;31mKeyError\u001b[0m                                  Traceback (most recent call last)",
      "File \u001b[0;32m/SGRNJ/Public/Software/conda_env/cjj_singularity/lib/python3.9/site-packages/dandelion/preprocessing/_preprocessing.py:4500\u001b[0m, in \u001b[0;36mrun_igblastn\u001b[0;34m(fasta, igblast_db, org, loci, evalue, min_d_match, verbose)\u001b[0m\n\u001b[1;32m   4499\u001b[0m \u001b[38;5;28;01mtry\u001b[39;00m:\n\u001b[0;32m-> 4500\u001b[0m     igdb \u001b[38;5;241m=\u001b[39m \u001b[43menv\u001b[49m\u001b[43m[\u001b[49m\u001b[38;5;124;43m\"\u001b[39;49m\u001b[38;5;124;43mIGDATA\u001b[39;49m\u001b[38;5;124;43m\"\u001b[39;49m\u001b[43m]\u001b[49m\n\u001b[1;32m   4501\u001b[0m \u001b[38;5;28;01mexcept\u001b[39;00m \u001b[38;5;167;01mKeyError\u001b[39;00m:\n",
      "\u001b[0;31mKeyError\u001b[0m: 'IGDATA'",
      "\nDuring handling of the above exception, another exception occurred:\n",
      "\u001b[0;31mKeyError\u001b[0m                                  Traceback (most recent call last)",
      "Input \u001b[0;32mIn [10]\u001b[0m, in \u001b[0;36m<cell line: 1>\u001b[0;34m()\u001b[0m\n\u001b[0;32m----> 1\u001b[0m \u001b[43mddl\u001b[49m\u001b[38;5;241;43m.\u001b[39;49m\u001b[43mpp\u001b[49m\u001b[38;5;241;43m.\u001b[39;49m\u001b[43mreannotate_genes\u001b[49m\u001b[43m(\u001b[49m\u001b[43msamples\u001b[49m\u001b[43m,\u001b[49m\u001b[43m \u001b[49m\u001b[43mloci\u001b[49m\u001b[43m \u001b[49m\u001b[38;5;241;43m=\u001b[39;49m\u001b[43m \u001b[49m\u001b[38;5;124;43m'\u001b[39;49m\u001b[38;5;124;43mtr\u001b[39;49m\u001b[38;5;124;43m'\u001b[39;49m\u001b[43m,\u001b[49m\u001b[43m \u001b[49m\u001b[43mreassign_dj\u001b[49m\u001b[43m \u001b[49m\u001b[38;5;241;43m=\u001b[39;49m\u001b[43m \u001b[49m\u001b[38;5;28;43;01mTrue\u001b[39;49;00m\u001b[43m,\u001b[49m\u001b[43m \u001b[49m\u001b[43mfilename_prefix\u001b[49m\u001b[43m \u001b[49m\u001b[38;5;241;43m=\u001b[39;49m\u001b[43m \u001b[49m\u001b[43mfilename_prefixes\u001b[49m\u001b[43m)\u001b[49m\n",
      "File \u001b[0;32m/SGRNJ/Public/Software/conda_env/cjj_singularity/lib/python3.9/site-packages/dandelion/preprocessing/_preprocessing.py:1078\u001b[0m, in \u001b[0;36mreannotate_genes\u001b[0;34m(data, igblast_db, germline, org, loci, extended, filename_prefix, flavour, min_j_match, min_d_match, v_evalue, d_evalue, j_evalue, reassign_dj, overwrite, dust, verbose)\u001b[0m\n\u001b[1;32m   1070\u001b[0m     assigngenes_igblast(\n\u001b[1;32m   1071\u001b[0m         filePath,\n\u001b[1;32m   1072\u001b[0m         igblast_db\u001b[38;5;241m=\u001b[39migblast_db,\n\u001b[0;32m   (...)\u001b[0m\n\u001b[1;32m   1075\u001b[0m         verbose\u001b[38;5;241m=\u001b[39mverbose,\n\u001b[1;32m   1076\u001b[0m     )\n\u001b[1;32m   1077\u001b[0m \u001b[38;5;28;01melif\u001b[39;00m flavour \u001b[38;5;241m==\u001b[39m \u001b[38;5;124m\"\u001b[39m\u001b[38;5;124mstrict\u001b[39m\u001b[38;5;124m\"\u001b[39m:\n\u001b[0;32m-> 1078\u001b[0m     \u001b[43mrun_igblastn\u001b[49m\u001b[43m(\u001b[49m\n\u001b[1;32m   1079\u001b[0m \u001b[43m        \u001b[49m\u001b[43mfilePath\u001b[49m\u001b[43m,\u001b[49m\n\u001b[1;32m   1080\u001b[0m \u001b[43m        \u001b[49m\u001b[43migblast_db\u001b[49m\u001b[38;5;241;43m=\u001b[39;49m\u001b[43migblast_db\u001b[49m\u001b[43m,\u001b[49m\n\u001b[1;32m   1081\u001b[0m \u001b[43m        \u001b[49m\u001b[43morg\u001b[49m\u001b[38;5;241;43m=\u001b[39;49m\u001b[43morg\u001b[49m\u001b[43m,\u001b[49m\n\u001b[1;32m   1082\u001b[0m \u001b[43m        \u001b[49m\u001b[43mloci\u001b[49m\u001b[38;5;241;43m=\u001b[39;49m\u001b[43mloci\u001b[49m\u001b[43m,\u001b[49m\n\u001b[1;32m   1083\u001b[0m \u001b[43m        \u001b[49m\u001b[43mevalue\u001b[49m\u001b[38;5;241;43m=\u001b[39;49m\u001b[43mv_evalue\u001b[49m\u001b[43m,\u001b[49m\n\u001b[1;32m   1084\u001b[0m \u001b[43m        \u001b[49m\u001b[43mmin_d_match\u001b[49m\u001b[38;5;241;43m=\u001b[39;49m\u001b[43mmin_d_match\u001b[49m\u001b[43m,\u001b[49m\n\u001b[1;32m   1085\u001b[0m \u001b[43m        \u001b[49m\u001b[43mverbose\u001b[49m\u001b[38;5;241;43m=\u001b[39;49m\u001b[43mverbose\u001b[49m\u001b[43m,\u001b[49m\n\u001b[1;32m   1086\u001b[0m \u001b[43m    \u001b[49m\u001b[43m)\u001b[49m\n\u001b[1;32m   1087\u001b[0m makedb_igblast(\n\u001b[1;32m   1088\u001b[0m     filePath,\n\u001b[1;32m   1089\u001b[0m     org\u001b[38;5;241m=\u001b[39morg,\n\u001b[0;32m   (...)\u001b[0m\n\u001b[1;32m   1092\u001b[0m     verbose\u001b[38;5;241m=\u001b[39mverbose,\n\u001b[1;32m   1093\u001b[0m )\n\u001b[1;32m   1094\u001b[0m \u001b[38;5;66;03m# block this for now, until I figure out if it's\u001b[39;00m\n\u001b[1;32m   1095\u001b[0m \u001b[38;5;66;03m# worth it\u001b[39;00m\n",
      "File \u001b[0;32m/SGRNJ/Public/Software/conda_env/cjj_singularity/lib/python3.9/site-packages/dandelion/preprocessing/_preprocessing.py:4502\u001b[0m, in \u001b[0;36mrun_igblastn\u001b[0;34m(fasta, igblast_db, org, loci, evalue, min_d_match, verbose)\u001b[0m\n\u001b[1;32m   4500\u001b[0m         igdb \u001b[38;5;241m=\u001b[39m env[\u001b[38;5;124m\"\u001b[39m\u001b[38;5;124mIGDATA\u001b[39m\u001b[38;5;124m\"\u001b[39m]\n\u001b[1;32m   4501\u001b[0m     \u001b[38;5;28;01mexcept\u001b[39;00m \u001b[38;5;167;01mKeyError\u001b[39;00m:\n\u001b[0;32m-> 4502\u001b[0m         \u001b[38;5;28;01mraise\u001b[39;00m \u001b[38;5;167;01mKeyError\u001b[39;00m(\n\u001b[1;32m   4503\u001b[0m             (\n\u001b[1;32m   4504\u001b[0m                 \u001b[38;5;124m\"\u001b[39m\u001b[38;5;124mEnvironmental variable IGDATA must be set. Otherwise,\u001b[39m\u001b[38;5;124m\"\u001b[39m\n\u001b[1;32m   4505\u001b[0m                 \u001b[38;5;241m+\u001b[39m \u001b[38;5;124m\"\u001b[39m\u001b[38;5;124m please provide path to igblast database\u001b[39m\u001b[38;5;124m\"\u001b[39m\n\u001b[1;32m   4506\u001b[0m             )\n\u001b[1;32m   4507\u001b[0m         )\n\u001b[1;32m   4508\u001b[0m \u001b[38;5;28;01melse\u001b[39;00m:\n\u001b[1;32m   4509\u001b[0m     env[\u001b[38;5;124m\"\u001b[39m\u001b[38;5;124mIGDATA\u001b[39m\u001b[38;5;124m\"\u001b[39m] \u001b[38;5;241m=\u001b[39m igblast_db\n",
      "\u001b[0;31mKeyError\u001b[0m: 'Environmental variable IGDATA must be set. Otherwise, please provide path to igblast database'"
     ]
    }
   ],
   "source": [
    "ddl.pp.reannotate_genes(samples, loci = 'tr', reassign_dj = True, filename_prefix = filename_prefixes)"
   ]
  },
  {
   "cell_type": "code",
   "execution_count": null,
   "id": "labeled-metro",
   "metadata": {},
   "outputs": [],
   "source": []
  }
 ],
 "metadata": {
  "kernelspec": {
   "display_name": "cjj_singularity",
   "language": "python",
   "name": "cjj_singularity"
  },
  "language_info": {
   "codemirror_mode": {
    "name": "ipython",
    "version": 3
   },
   "file_extension": ".py",
   "mimetype": "text/x-python",
   "name": "python",
   "nbconvert_exporter": "python",
   "pygments_lexer": "ipython3",
   "version": "3.9.0"
  }
 },
 "nbformat": 4,
 "nbformat_minor": 5
}
