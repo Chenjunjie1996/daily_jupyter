{
 "cells": [
  {
   "cell_type": "code",
   "execution_count": 91,
   "id": "proof-horizontal",
   "metadata": {},
   "outputs": [],
   "source": [
    "import pysam\n",
    "import pandas as pd \n",
    "import json\n",
    "import operator\n",
    "from xopen import xopen\n",
    "import random\n",
    "from collections import defaultdict, OrderedDict"
   ]
  },
  {
   "cell_type": "code",
   "execution_count": 92,
   "id": "clear-argentina",
   "metadata": {},
   "outputs": [],
   "source": [
    "sgr_tenX = {}"
   ]
  },
  {
   "cell_type": "code",
   "execution_count": 93,
   "id": "shaped-chassis",
   "metadata": {},
   "outputs": [],
   "source": [
    "count_dict = defaultdict(int)"
   ]
  },
  {
   "cell_type": "code",
   "execution_count": 94,
   "id": "clear-brief",
   "metadata": {},
   "outputs": [],
   "source": [
    "# /SGRNJ06/randd/USER/cjj/celedev/vdj10x/20230428shanghai/HJG-C-T-T/01.barcode/HJG-C-T-T_2.fq\n",
    "# /SGRNJ06/randd/PROJECT/scATAC/20230426_H_959595_sc_jiace/A0329_4_CCRFK562_less3bpTN5_959595_D30_T7_8Amp_C15/01.barcode/A0329_4_CCRFK562_less3bpTN5_959595_D30_T7_8Amp_C15_2.fq\n",
    "with pysam.FastxFile(\"/SGRNJ06/randd/PROJECT/scATAC/20230426_H_959595_sc_jiace/A0329_4_CCRFK562_less3bpTN5_959595_D30_T7_8Amp_C15/01.barcode/A0329_4_CCRFK562_less3bpTN5_959595_D30_T7_8Amp_C15_2.fq\") as fq2_fh:\n",
    "    for entry in fq2_fh:\n",
    "        sgr_barcode = entry.name.split('_')[0]\n",
    "        count_dict[sgr_barcode] += 1"
   ]
  },
  {
   "cell_type": "code",
   "execution_count": null,
   "id": "correct-attack",
   "metadata": {},
   "outputs": [],
   "source": [
    "count_dict"
   ]
  },
  {
   "cell_type": "code",
   "execution_count": null,
   "id": "weird-argument",
   "metadata": {},
   "outputs": [],
   "source": [
    "dict(sorted(count_dict.items(), key=operator.itemgetter(1), reverse=True))"
   ]
  },
  {
   "cell_type": "code",
   "execution_count": null,
   "id": "joint-element",
   "metadata": {},
   "outputs": [],
   "source": [
    "count_dict = dict(sorted(count_dict.items(), key=operator.itemgetter(1), reverse=True))"
   ]
  },
  {
   "cell_type": "code",
   "execution_count": null,
   "id": "yellow-moral",
   "metadata": {},
   "outputs": [],
   "source": [
    "count_dict"
   ]
  },
  {
   "cell_type": "code",
   "execution_count": null,
   "id": "burning-concentrate",
   "metadata": {},
   "outputs": [],
   "source": [
    "sgr_barcode_count = len(count_dict)\n",
    "tenX_barcode_count = 0"
   ]
  },
  {
   "cell_type": "code",
   "execution_count": 98,
   "id": "applied-edition",
   "metadata": {},
   "outputs": [],
   "source": [
    "whitelist_10X_fh = xopen(\"/SGRNJ06/randd/USER/cjj/soft/cellranger-7.1.0/lib/python/cellranger/barcodes/737K-august-2016.txt\", 'r')"
   ]
  },
  {
   "cell_type": "code",
   "execution_count": null,
   "id": "gentle-butterfly",
   "metadata": {},
   "outputs": [],
   "source": [
    "for _ in xopen(\"/SGRNJ06/randd/USER/cjj/soft/cellranger-7.1.0/lib/python/cellranger/barcodes/737K-august-2016.txt\", 'r'):\n",
    "    tenX_barcode_count += 1"
   ]
  },
  {
   "cell_type": "code",
   "execution_count": null,
   "id": "necessary-board",
   "metadata": {},
   "outputs": [],
   "source": [
    "diff = sgr_barcode_count - tenX_barcode_count"
   ]
  },
  {
   "cell_type": "code",
   "execution_count": 86,
   "id": "passing-ghana",
   "metadata": {},
   "outputs": [
    {
     "data": {
      "text/plain": [
       "32680"
      ]
     },
     "execution_count": 86,
     "metadata": {},
     "output_type": "execute_result"
    }
   ],
   "source": [
    "diff"
   ]
  },
  {
   "cell_type": "code",
   "execution_count": null,
   "id": "united-drove",
   "metadata": {},
   "outputs": [],
   "source": [
    "for sgr_barcode in count_dict:\n",
    "    if sgr_barcode not in sgr_tenX:\n",
    "        sgr_tenX[key] = whitelist_10X_fh.readline().strip()"
   ]
  },
  {
   "cell_type": "code",
   "execution_count": null,
   "id": "exciting-kernel",
   "metadata": {},
   "outputs": [],
   "source": [
    "sgr_tenX"
   ]
  },
  {
   "cell_type": "code",
   "execution_count": null,
   "id": "patient-glance",
   "metadata": {},
   "outputs": [],
   "source": [
    "for key, value in sgr_tenX.items():\n",
    "    if value == '':\n",
    "        sgr_tenX[key] = \"AAAA\" + ''.join(random.choice('ATCG') for _ in range(12))"
   ]
  },
  {
   "cell_type": "code",
   "execution_count": 85,
   "id": "affected-leave",
   "metadata": {},
   "outputs": [],
   "source": []
  },
  {
   "cell_type": "code",
   "execution_count": 87,
   "id": "explicit-detective",
   "metadata": {},
   "outputs": [
    {
     "data": {
      "text/plain": [
       "32680"
      ]
     },
     "execution_count": 87,
     "metadata": {},
     "output_type": "execute_result"
    }
   ],
   "source": []
  },
  {
   "cell_type": "code",
   "execution_count": 104,
   "id": "explicit-transition",
   "metadata": {},
   "outputs": [
    {
     "data": {
      "text/plain": [
       "'AAACCTGAGAAAGTGG'"
      ]
     },
     "execution_count": 104,
     "metadata": {},
     "output_type": "execute_result"
    }
   ],
   "source": [
    "whitelist_10X_fh.readline().strip()"
   ]
  },
  {
   "cell_type": "code",
   "execution_count": null,
   "id": "loaded-architecture",
   "metadata": {},
   "outputs": [],
   "source": [
    "for i in range(99):\n",
    "    print(whitelist_10X_fh.readline().strip())"
   ]
  },
  {
   "cell_type": "code",
   "execution_count": null,
   "id": "polar-halifax",
   "metadata": {},
   "outputs": [],
   "source": []
  }
 ],
 "metadata": {
  "kernelspec": {
   "display_name": "trust4_1.7",
   "language": "python",
   "name": "trust4_1.7"
  },
  "language_info": {
   "codemirror_mode": {
    "name": "ipython",
    "version": 3
   },
   "file_extension": ".py",
   "mimetype": "text/x-python",
   "name": "python",
   "nbconvert_exporter": "python",
   "pygments_lexer": "ipython3",
   "version": "3.7.10"
  }
 },
 "nbformat": 4,
 "nbformat_minor": 5
}
