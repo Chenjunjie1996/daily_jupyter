{
 "cells": [
  {
   "cell_type": "code",
   "execution_count": null,
   "id": "earlier-chemical",
   "metadata": {},
   "outputs": [],
   "source": [
    "import pandas as pd\n",
    "import json"
   ]
  },
  {
   "cell_type": "code",
   "execution_count": 128,
   "id": "precious-valuation",
   "metadata": {},
   "outputs": [],
   "source": [
    "ten = pd.read_csv('/SGRNJ06/randd/USER/cjj/celedev/wanheyuan/20220901cr6_v3/DC0004CA/03.cellranger/DC0004CA/outs/filtered_feature_bc_matrix/barcodes.tsv.gz',header=None)"
   ]
  },
  {
   "cell_type": "code",
   "execution_count": 129,
   "id": "according-water",
   "metadata": {},
   "outputs": [],
   "source": [
    "ten.rename(columns={0:'barcode'},inplace=True)"
   ]
  },
  {
   "cell_type": "code",
   "execution_count": 130,
   "id": "cutting-imagination",
   "metadata": {},
   "outputs": [],
   "source": [
    "ten_list = list(ten.barcode)"
   ]
  },
  {
   "cell_type": "code",
   "execution_count": 131,
   "id": "russian-louisville",
   "metadata": {},
   "outputs": [],
   "source": [
    "ten_list = [i.split('-')[0] for i in ten_list]"
   ]
  },
  {
   "cell_type": "code",
   "execution_count": 132,
   "id": "external-nevada",
   "metadata": {},
   "outputs": [],
   "source": [
    "ten_dict = pd.read_csv('/SGRNJ06/randd/USER/cjj/celedev/wanheyuan/20220901cr7_v3/DC0004CA/02.convert/barcode_correspond.txt',sep='\\t')"
   ]
  },
  {
   "cell_type": "code",
   "execution_count": 133,
   "id": "detailed-holiday",
   "metadata": {},
   "outputs": [],
   "source": [
    "ten_dict = dict(zip(list(ten_dict['10X']), list(ten_dict['sgr'])))"
   ]
  },
  {
   "cell_type": "code",
   "execution_count": 134,
   "id": "enhanced-testimony",
   "metadata": {},
   "outputs": [
    {
     "data": {
      "text/plain": [
       "'AAACCCAAGAAACACT'"
      ]
     },
     "execution_count": 134,
     "metadata": {},
     "output_type": "execute_result"
    }
   ],
   "source": [
    "ten_list[0]"
   ]
  },
  {
   "cell_type": "code",
   "execution_count": null,
   "id": "interim-career",
   "metadata": {},
   "outputs": [],
   "source": [
    "ten_dict"
   ]
  },
  {
   "cell_type": "code",
   "execution_count": 136,
   "id": "painted-cyprus",
   "metadata": {},
   "outputs": [],
   "source": [
    "sgr_list = [ten_dict[i] for i in ten_list]"
   ]
  },
  {
   "cell_type": "code",
   "execution_count": null,
   "id": "demographic-moisture",
   "metadata": {},
   "outputs": [],
   "source": [
    "sgr_list"
   ]
  },
  {
   "cell_type": "code",
   "execution_count": 138,
   "id": "gothic-province",
   "metadata": {},
   "outputs": [],
   "source": [
    "cele_sgr = pd.read_csv('/SGRNJ06/randd/USER/cjj/celedev/wanheyuan/c3rna/chang/DC0004CA/05.count/filtered_feature_bc_matrix/barcodes.tsv',sep='\\t',header=None)"
   ]
  },
  {
   "cell_type": "code",
   "execution_count": 139,
   "id": "competitive-freight",
   "metadata": {},
   "outputs": [],
   "source": [
    "cele_sgr.rename(columns={0:'barcode'},inplace=True)"
   ]
  },
  {
   "cell_type": "code",
   "execution_count": 140,
   "id": "ignored-editing",
   "metadata": {},
   "outputs": [],
   "source": [
    "cele_sgr_list = cele_sgr.barcode.tolist()"
   ]
  },
  {
   "cell_type": "code",
   "execution_count": 141,
   "id": "precise-holmes",
   "metadata": {},
   "outputs": [
    {
     "data": {
      "text/plain": [
       "18710"
      ]
     },
     "execution_count": 141,
     "metadata": {},
     "output_type": "execute_result"
    }
   ],
   "source": [
    "len(cele_sgr_list)"
   ]
  },
  {
   "cell_type": "code",
   "execution_count": 146,
   "id": "israeli-discretion",
   "metadata": {},
   "outputs": [
    {
     "data": {
      "text/plain": [
       "15301"
      ]
     },
     "execution_count": 146,
     "metadata": {},
     "output_type": "execute_result"
    }
   ],
   "source": [
    "len(s_list)"
   ]
  },
  {
   "cell_type": "code",
   "execution_count": 147,
   "id": "focused-toddler",
   "metadata": {},
   "outputs": [
    {
     "data": {
      "text/plain": [
       "15113"
      ]
     },
     "execution_count": 147,
     "metadata": {},
     "output_type": "execute_result"
    }
   ],
   "source": [
    "len(set(cele_sgr_list).intersection(set(sgr_list)))"
   ]
  },
  {
   "cell_type": "code",
   "execution_count": 143,
   "id": "charming-affairs",
   "metadata": {},
   "outputs": [],
   "source": [
    "intersec = set(cele_sgr_list).intersection(set(sgr_list))"
   ]
  },
  {
   "cell_type": "code",
   "execution_count": null,
   "id": "operating-basement",
   "metadata": {},
   "outputs": [],
   "source": [
    "intersec"
   ]
  },
  {
   "cell_type": "code",
   "execution_count": null,
   "id": "certified-incentive",
   "metadata": {},
   "outputs": [],
   "source": []
  },
  {
   "cell_type": "code",
   "execution_count": null,
   "id": "reduced-industry",
   "metadata": {},
   "outputs": [],
   "source": []
  },
  {
   "cell_type": "code",
   "execution_count": null,
   "id": "ultimate-kentucky",
   "metadata": {},
   "outputs": [],
   "source": [
    "sgr = pd.read_csv('/SGRNJ06/randd/USER/cjj/celedev/wanheyuan/abnormal/DC0004CA_CS_meta.tsv',sep='\\t')\n",
    "cr = pd.read_csv('/SGRNJ06/randd/USER/cjj/celedev/wanheyuan/abnormal/DC0004CA_CR_meta.tsv',sep='\\t')"
   ]
  },
  {
   "cell_type": "code",
   "execution_count": null,
   "id": "reduced-violin",
   "metadata": {},
   "outputs": [],
   "source": [
    "sgr = sgr.rename_axis('barcode').reset_index()\n",
    "cr = cr.rename_axis('barcode').reset_index()"
   ]
  },
  {
   "cell_type": "code",
   "execution_count": null,
   "id": "hired-apartment",
   "metadata": {},
   "outputs": [],
   "source": [
    "cr['barcode'] = cr['barcode'].apply(lambda x: ten_dict[x.split('-')[0]])"
   ]
  },
  {
   "cell_type": "code",
   "execution_count": null,
   "id": "sexual-modeling",
   "metadata": {},
   "outputs": [],
   "source": [
    "sgr"
   ]
  },
  {
   "cell_type": "code",
   "execution_count": null,
   "id": "material-birth",
   "metadata": {},
   "outputs": [],
   "source": [
    "cr"
   ]
  },
  {
   "cell_type": "code",
   "execution_count": null,
   "id": "first-mathematics",
   "metadata": {},
   "outputs": [],
   "source": [
    "cr = cr[cr['barcode'].isin(intersec)]\n",
    "sgr = sgr[sgr['barcode'].isin(intersec)]"
   ]
  },
  {
   "cell_type": "code",
   "execution_count": null,
   "id": "otherwise-tuning",
   "metadata": {},
   "outputs": [],
   "source": [
    "cr"
   ]
  },
  {
   "cell_type": "code",
   "execution_count": null,
   "id": "stunning-crisis",
   "metadata": {},
   "outputs": [],
   "source": [
    "sgr"
   ]
  },
  {
   "cell_type": "code",
   "execution_count": null,
   "id": "resident-boost",
   "metadata": {},
   "outputs": [],
   "source": [
    "cr[['nCount_RNA','nFeature_RNA','percent.mt']].describe()"
   ]
  },
  {
   "cell_type": "code",
   "execution_count": null,
   "id": "lovely-input",
   "metadata": {},
   "outputs": [],
   "source": [
    "sgr[['nCount_RNA','nFeature_RNA','percent.mt']].describe()"
   ]
  },
  {
   "cell_type": "code",
   "execution_count": null,
   "id": "taken-kennedy",
   "metadata": {},
   "outputs": [],
   "source": [
    "top10 = cr[cr['percent.mt']>20].sort_values('percent.mt',ascending=False).head(10).barcode.tolist()"
   ]
  },
  {
   "cell_type": "code",
   "execution_count": null,
   "id": "outdoor-essay",
   "metadata": {},
   "outputs": [],
   "source": [
    "sgr[sgr.barcode.isin(top10)].sort_values('barcode')"
   ]
  },
  {
   "cell_type": "code",
   "execution_count": null,
   "id": "continuous-kitty",
   "metadata": {},
   "outputs": [],
   "source": [
    "cr[cr.barcode.isin(top10)].sort_values('barcode')"
   ]
  },
  {
   "cell_type": "code",
   "execution_count": null,
   "id": "faced-elements",
   "metadata": {},
   "outputs": [],
   "source": [
    "# BOXPLOT\n",
    "import numpy as np\n",
    "import pandas as pd\n",
    "import matplotlib.pyplot as plt"
   ]
  },
  {
   "cell_type": "code",
   "execution_count": null,
   "id": "exciting-native",
   "metadata": {},
   "outputs": [],
   "source": [
    "labels = ['SGR', 'CR']\n",
    "A = sgr['percent.mt'].tolist()\n",
    "B = cr['percent.mt'].tolist()"
   ]
  },
  {
   "cell_type": "code",
   "execution_count": null,
   "id": "sapphire-brother",
   "metadata": {},
   "outputs": [],
   "source": [
    "plt.grid(True)\n",
    "plt.boxplot([A,B],\n",
    "           medianprops={'color': 'red', 'linewidth': '1.5'},\n",
    "           meanline=True,\n",
    "           showmeans=True,\n",
    "           meanprops={'color': 'blue', 'linewidth': '1.5'},\n",
    "           flierprops={'marker':'o', 'markerfacecolor': 'red', 'markersize':'10'},\n",
    "           labels=labels)\n",
    "plt.yticks(np.arange(10,101,20))\n",
    "plt.title('mito_Ratio ')\n",
    "plt.savefig('./mito.png', dpi=280)"
   ]
  },
  {
   "cell_type": "code",
   "execution_count": null,
   "id": "controlled-grant",
   "metadata": {},
   "outputs": [],
   "source": [
    "len(B)"
   ]
  },
  {
   "cell_type": "code",
   "execution_count": null,
   "id": "narrative-immune",
   "metadata": {},
   "outputs": [],
   "source": []
  },
  {
   "cell_type": "code",
   "execution_count": null,
   "id": "operational-bubble",
   "metadata": {},
   "outputs": [],
   "source": []
  },
  {
   "cell_type": "code",
   "execution_count": null,
   "id": "certified-leone",
   "metadata": {},
   "outputs": [],
   "source": []
  },
  {
   "cell_type": "code",
   "execution_count": 148,
   "id": "usual-harbor",
   "metadata": {},
   "outputs": [],
   "source": [
    "sgr = '/SGRNJ/Public/Database/genome/homo_sapiens/ensembl_92/Homo_sapiens.GRCh38.92.chr.gtf'\n",
    "cr = '/SGRNJ03/randd/cjj/soft/cellranger/refdata-gex-GRCh38-2020-A/genes/genes.gtf'"
   ]
  },
  {
   "cell_type": "code",
   "execution_count": 177,
   "id": "russian-restriction",
   "metadata": {},
   "outputs": [],
   "source": [
    "with open(cr,'r') as f:\n",
    "    lines = [line.strip('\\t') for line in f.readlines()]"
   ]
  },
  {
   "cell_type": "code",
   "execution_count": 178,
   "id": "compact-composite",
   "metadata": {},
   "outputs": [],
   "source": [
    "lines = [line.strip('\\t') for line in lines]"
   ]
  },
  {
   "cell_type": "code",
   "execution_count": 1,
   "id": "parallel-franklin",
   "metadata": {},
   "outputs": [],
   "source": [
    "import re"
   ]
  },
  {
   "cell_type": "code",
   "execution_count": 180,
   "id": "orange-officer",
   "metadata": {},
   "outputs": [
    {
     "data": {
      "text/plain": [
       "['##description: evidence-based annotation of the human genome (GRCh38), version 32 (Ensembl 98)\\n',\n",
       " '##provider: GENCODE\\n',\n",
       " '##contact: gencode-help@ebi.ac.uk\\n',\n",
       " '##format: gtf\\n',\n",
       " '##date: 2019-09-05\\n',\n",
       " 'chr1\\tHAVANA\\tgene\\t29554\\t31109\\t.\\t+\\t.\\tgene_id \"ENSG00000243485\"; gene_version \"5\"; gene_type \"lncRNA\"; gene_name \"MIR1302-2HG\"; level 2; hgnc_id \"HGNC:52482\"; tag \"ncRNA_host\"; havana_gene \"OTTHUMG00000000959.2\";\\n',\n",
       " 'chr1\\tHAVANA\\ttranscript\\t29554\\t31097\\t.\\t+\\t.\\tgene_id \"ENSG00000243485\"; gene_version \"5\"; transcript_id \"ENST00000473358\"; transcript_version \"1\"; gene_type \"lncRNA\"; gene_name \"MIR1302-2HG\"; transcript_type \"lncRNA\"; transcript_name \"MIR1302-2HG-202\"; level 2; transcript_support_level \"5\"; hgnc_id \"HGNC:52482\"; tag \"not_best_in_genome_evidence\"; tag \"dotter_confirmed\"; tag \"basic\"; havana_gene \"OTTHUMG00000000959.2\"; havana_transcript \"OTTHUMT00000002840.1\";\\n']"
      ]
     },
     "execution_count": 180,
     "metadata": {},
     "output_type": "execute_result"
    }
   ],
   "source": [
    "lines[:7]"
   ]
  },
  {
   "cell_type": "code",
   "execution_count": 175,
   "id": "athletic-hygiene",
   "metadata": {},
   "outputs": [],
   "source": [
    "count_set_sgr=set()\n",
    "for line in lines:\n",
    "    pattern = r'gene_name \"(.*?)\"'\n",
    "    gene_name = re.findall(pattern, line)[0]\n",
    "    if gene_name.startswith('MT-'):\n",
    "        count_set_sgr.add(gene_name)"
   ]
  },
  {
   "cell_type": "code",
   "execution_count": null,
   "id": "artificial-hotel",
   "metadata": {},
   "outputs": [],
   "source": [
    "(count_set_sgr)"
   ]
  },
  {
   "cell_type": "code",
   "execution_count": 181,
   "id": "crude-making",
   "metadata": {},
   "outputs": [],
   "source": [
    "count_set_cr=set()\n",
    "lines = lines[5:]\n",
    "for line in lines:\n",
    "    pattern = r'gene_name \"(.*?)\"'\n",
    "    gene_name = re.findall(pattern, line)[0]\n",
    "    if gene_name.startswith('MT-'):\n",
    "        count_set_cr.add(gene_name)"
   ]
  },
  {
   "cell_type": "code",
   "execution_count": null,
   "id": "permanent-vanilla",
   "metadata": {},
   "outputs": [],
   "source": [
    "(count_set_cr)"
   ]
  },
  {
   "cell_type": "code",
   "execution_count": null,
   "id": "graduate-quest",
   "metadata": {},
   "outputs": [],
   "source": [
    "count_set_sgr -count_set_cr"
   ]
  },
  {
   "cell_type": "code",
   "execution_count": null,
   "id": "typical-porter",
   "metadata": {},
   "outputs": [],
   "source": []
  },
  {
   "cell_type": "code",
   "execution_count": 4,
   "id": "powerful-objective",
   "metadata": {},
   "outputs": [],
   "source": [
    "test = '/SGRNJ06/randd/USER/cjj/celedev/mkgtf/c3/c3out.gtf'\n",
    "with open(test,'r') as f:\n",
    "    lines = [line.strip('\\t') for line in f.readlines()]\n",
    "lines = [line.strip('\\t') for line in lines]\n",
    "count_set_sgr=set()\n",
    "for line in lines:\n",
    "    pattern = r'gene_name \"(.*?)\"'\n",
    "    gene_name = re.findall(pattern, line)[0]\n",
    "    if gene_name.startswith('MT-'):\n",
    "        count_set_sgr.add(gene_name)"
   ]
  },
  {
   "cell_type": "code",
   "execution_count": 5,
   "id": "packed-canberra",
   "metadata": {},
   "outputs": [
    {
     "data": {
      "text/plain": [
       "13"
      ]
     },
     "execution_count": 5,
     "metadata": {},
     "output_type": "execute_result"
    }
   ],
   "source": [
    "len(count_set_sgr)"
   ]
  },
  {
   "cell_type": "code",
   "execution_count": null,
   "id": "dedicated-somalia",
   "metadata": {},
   "outputs": [],
   "source": []
  }
 ],
 "metadata": {
  "kernelspec": {
   "display_name": "Python 3 (ipykernel)",
   "language": "python",
   "name": "python3"
  },
  "language_info": {
   "codemirror_mode": {
    "name": "ipython",
    "version": 3
   },
   "file_extension": ".py",
   "mimetype": "text/x-python",
   "name": "python",
   "nbconvert_exporter": "python",
   "pygments_lexer": "ipython3",
   "version": "3.7.10"
  }
 },
 "nbformat": 4,
 "nbformat_minor": 5
}
