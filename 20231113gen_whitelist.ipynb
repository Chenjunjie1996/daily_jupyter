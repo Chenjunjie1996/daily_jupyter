{
 "cells": [
  {
   "cell_type": "code",
   "execution_count": 1,
   "id": "white-panic",
   "metadata": {},
   "outputs": [],
   "source": [
    "import pysam"
   ]
  },
  {
   "cell_type": "code",
   "execution_count": 2,
   "id": "neither-interference",
   "metadata": {},
   "outputs": [],
   "source": [
    "res = set()"
   ]
  },
  {
   "cell_type": "code",
   "execution_count": 6,
   "id": "known-principal",
   "metadata": {},
   "outputs": [],
   "source": [
    "with pysam.FastxFile(\"/SGRNJ07/Standard_Analysis/DATA05/limsdownload/23_11/2023_11_11/RD21010602/kid_onestep_18T_bulk_NL/2023-11-11-1/R231107009_R1.fastq.gz\") as f :\n",
    "    for read in f:\n",
    "        res.add(read.sequence[:9])"
   ]
  },
  {
   "cell_type": "code",
   "execution_count": 7,
   "id": "universal-survivor",
   "metadata": {},
   "outputs": [],
   "source": [
    "with pysam.FastxFile(\"/SGRNJ07/Standard_Analysis/DATA05/limsdownload/23_11/2023_11_11/RD21010602/kid_onestep_18TL_bulk_NL/2023-11-11-2/R231107010_R1.fastq.gz\") as f :\n",
    "    for read in f:\n",
    "        res.add(read.sequence[:9])"
   ]
  },
  {
   "cell_type": "code",
   "execution_count": 8,
   "id": "modified-housing",
   "metadata": {},
   "outputs": [
    {
     "data": {
      "text/plain": [
       "63196"
      ]
     },
     "execution_count": 8,
     "metadata": {},
     "output_type": "execute_result"
    }
   ],
   "source": [
    "len(res)"
   ]
  },
  {
   "cell_type": "code",
   "execution_count": 9,
   "id": "polar-pocket",
   "metadata": {},
   "outputs": [],
   "source": [
    "out = open(\"/SGRNJ06/randd/USER/cjj/celedev/rna/20231113/whitelist\", 'w')"
   ]
  },
  {
   "cell_type": "code",
   "execution_count": 10,
   "id": "chinese-peeing",
   "metadata": {},
   "outputs": [],
   "source": [
    "for i in res:\n",
    "    out.write(f'{i}\\n')"
   ]
  },
  {
   "cell_type": "code",
   "execution_count": 11,
   "id": "acquired-flesh",
   "metadata": {},
   "outputs": [],
   "source": [
    "out.close()"
   ]
  },
  {
   "cell_type": "code",
   "execution_count": null,
   "id": "found-handling",
   "metadata": {},
   "outputs": [],
   "source": []
  }
 ],
 "metadata": {
  "kernelspec": {
   "display_name": "trust4_1.7",
   "language": "python",
   "name": "trust4_1.7"
  },
  "language_info": {
   "codemirror_mode": {
    "name": "ipython",
    "version": 3
   },
   "file_extension": ".py",
   "mimetype": "text/x-python",
   "name": "python",
   "nbconvert_exporter": "python",
   "pygments_lexer": "ipython3",
   "version": "3.7.10"
  }
 },
 "nbformat": 4,
 "nbformat_minor": 5
}
