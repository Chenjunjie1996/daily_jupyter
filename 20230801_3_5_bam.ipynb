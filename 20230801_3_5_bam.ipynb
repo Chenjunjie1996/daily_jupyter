{
 "cells": [
  {
   "cell_type": "code",
   "execution_count": 4,
   "id": "amended-television",
   "metadata": {},
   "outputs": [],
   "source": [
    "import pysam\n",
    "from Bio.Seq import Seq"
   ]
  },
  {
   "cell_type": "code",
   "execution_count": 5,
   "id": "personalized-dairy",
   "metadata": {},
   "outputs": [],
   "source": [
    "def reverse_complement(seq):\n",
    "    \"\"\"Reverse complementary sequence\n",
    "\n",
    "    :param original seq\n",
    "    :return Reverse complementary sequence\n",
    "    \"\"\"\n",
    "    return str(Seq(seq).reverse_complement())"
   ]
  },
  {
   "cell_type": "code",
   "execution_count": 40,
   "id": "removable-serial",
   "metadata": {},
   "outputs": [],
   "source": [
    "inputFile3 = pysam.AlignmentFile(\"/SGRNJ06/randd/USER/cjj/celedev/rna/20230726/3/0717_CCRF_1_N3lib/02.featureCounts/0717_CCRF_1_N3lib_aligned_posSorted_addTag.bam\", \"rb\")"
   ]
  },
  {
   "cell_type": "code",
   "execution_count": 41,
   "id": "happy-stranger",
   "metadata": {},
   "outputs": [],
   "source": [
    "result = set()"
   ]
  },
  {
   "cell_type": "code",
   "execution_count": 47,
   "id": "forbidden-uruguay",
   "metadata": {},
   "outputs": [],
   "source": [
    "for read in inputFile3:\n",
    "    cb = read.get_tag(\"CB\")\n",
    "    umi = read.get_tag(\"UB\")\n",
    "    try:\n",
    "        gene_id = read.get_tag(\"XT\")\n",
    "    except KeyError:\n",
    "        gene_id = None\n",
    "    result.add( (cb, umi, gene_id) )"
   ]
  },
  {
   "cell_type": "code",
   "execution_count": null,
   "id": "informal-scoop",
   "metadata": {},
   "outputs": [],
   "source": []
  },
  {
   "cell_type": "code",
   "execution_count": 62,
   "id": "alien-appreciation",
   "metadata": {},
   "outputs": [],
   "source": [
    "inputFile5 = pysam.AlignmentFile(\"/SGRNJ06/randd/USER/cjj/celedev/rna/20230731/5/0717_CCRF_1_N5lib/02.featureCounts/0717_CCRF_1_N5lib_aligned_posSorted_addTag.bam\", \"rb\")"
   ]
  },
  {
   "cell_type": "code",
   "execution_count": 63,
   "id": "exempt-glucose",
   "metadata": {},
   "outputs": [],
   "source": [
    "out_file = pysam.AlignmentFile(\"/SGRNJ06/randd/USER/cjj/celedev/rna/filter_bam/20230801/0717_CCRF_1_N5lib_aligned_posSorted_addTag_filtered.bam\", \"wb\", header=inputFile5.header)"
   ]
  },
  {
   "cell_type": "code",
   "execution_count": null,
   "id": "herbal-element",
   "metadata": {},
   "outputs": [],
   "source": [
    "count = 0\n",
    "for read in inputFile5:\n",
    "    cb = read.get_tag(\"CB\")\n",
    "    umi = read.get_tag(\"UB\")\n",
    "    try:\n",
    "        gene_id = read.get_tag(\"XT\")\n",
    "    except KeyError:\n",
    "        gene_id = None\n",
    "    if (reverse_complement(cb), reverse_complement(umi), gene_id) not in result:\n",
    "        count += 1\n",
    "        out_file.write(read)"
   ]
  },
  {
   "cell_type": "code",
   "execution_count": null,
   "id": "passive-reggae",
   "metadata": {},
   "outputs": [],
   "source": [
    "out_file.close()"
   ]
  },
  {
   "cell_type": "code",
   "execution_count": null,
   "id": "tropical-amount",
   "metadata": {},
   "outputs": [],
   "source": [
    "count"
   ]
  },
  {
   "cell_type": "code",
   "execution_count": null,
   "id": "several-memorial",
   "metadata": {},
   "outputs": [],
   "source": []
  },
  {
   "cell_type": "code",
   "execution_count": null,
   "id": "educated-shade",
   "metadata": {},
   "outputs": [],
   "source": []
  },
  {
   "cell_type": "code",
   "execution_count": 1,
   "id": "prescription-proportion",
   "metadata": {},
   "outputs": [],
   "source": [
    "from celescope.tools import utils\n",
    "from Bio.Seq import Seq"
   ]
  },
  {
   "cell_type": "code",
   "execution_count": 63,
   "id": "prescription-democracy",
   "metadata": {},
   "outputs": [],
   "source": [
    "\n",
    "def reverse_complement(seq):\n",
    "    \"\"\"Reverse complementary sequence\n",
    "\n",
    "    :param original seq\n",
    "    :return Reverse complementary sequence\n",
    "    \"\"\"\n",
    "    return str(Seq(seq).reverse_complement())"
   ]
  },
  {
   "cell_type": "code",
   "execution_count": 64,
   "id": "warming-lafayette",
   "metadata": {},
   "outputs": [
    {
     "name": "stderr",
     "output_type": "stream",
     "text": [
      "2023-08-02 11:36:02,382 - celescope.tools.utils.get_barcode_from_match_dir - INFO - start...\n",
      "2023-08-02 11:36:02,395 - celescope.tools.utils.get_barcode_from_match_dir - INFO - Barcode file:/SGRNJ06/randd/USER/cjj/celedev/rna/20230731/5/0717_CCRF_1_N5lib/03.count/0717_CCRF_1_N5lib_filtered_feature_bc_matrix/barcodes.tsv\n",
      "2023-08-02 11:36:02,416 - celescope.tools.utils.get_barcode_from_match_dir - INFO - done. time used: 0:00:00.031986\n",
      "2023-08-02 11:36:02,418 - celescope.tools.utils.get_barcode_from_match_dir - INFO - start...\n",
      "2023-08-02 11:36:02,424 - celescope.tools.utils.get_barcode_from_match_dir - INFO - Barcode file:/SGRNJ06/randd/USER/cjj/celedev/rna/20230726/3/0717_CCRF_2_N3lib/03.count/0717_CCRF_2_N3lib_filtered_feature_bc_matrix/barcodes.tsv\n",
      "2023-08-02 11:36:02,436 - celescope.tools.utils.get_barcode_from_match_dir - INFO - done. time used: 0:00:00.016964\n"
     ]
    }
   ],
   "source": [
    "match_barcodes5 = set(utils.get_barcode_from_match_dir(\"/SGRNJ06/randd/USER/cjj/celedev/rna/20230731/5/0717_CCRF_1_N5lib/\")[0])\n",
    "match_barcodes3 = utils.get_barcode_from_match_dir(\"/SGRNJ06/randd/USER/cjj/celedev/rna/20230726/3/0717_CCRF_2_N3lib/\")[0]"
   ]
  },
  {
   "cell_type": "code",
   "execution_count": 65,
   "id": "criminal-captain",
   "metadata": {},
   "outputs": [],
   "source": [
    "match_barcodes3 = set([reverse_complement(i) for i in match_barcodes3])"
   ]
  },
  {
   "cell_type": "code",
   "execution_count": 66,
   "id": "extended-librarian",
   "metadata": {},
   "outputs": [
    {
     "data": {
      "text/plain": [
       "7640"
      ]
     },
     "execution_count": 66,
     "metadata": {},
     "output_type": "execute_result"
    }
   ],
   "source": [
    "len(match_barcodes5&match_barcodes3)"
   ]
  },
  {
   "cell_type": "code",
   "execution_count": 67,
   "id": "pleasant-warrant",
   "metadata": {},
   "outputs": [
    {
     "name": "stderr",
     "output_type": "stream",
     "text": [
      "2023-08-02 11:36:06,250 - celescope.tools.utils.get_barcode_from_match_dir - INFO - start...\n",
      "2023-08-02 11:36:06,263 - celescope.tools.utils.get_barcode_from_match_dir - INFO - Barcode file:/SGRNJ06/randd/USER/cjj/celedev/rna/20230731/5/0717_CCRF_2_N5lib/03.count/0717_CCRF_2_N5lib_filtered_feature_bc_matrix/barcodes.tsv\n",
      "2023-08-02 11:36:06,284 - celescope.tools.utils.get_barcode_from_match_dir - INFO - done. time used: 0:00:00.031741\n",
      "2023-08-02 11:36:06,287 - celescope.tools.utils.get_barcode_from_match_dir - INFO - start...\n",
      "2023-08-02 11:36:06,296 - celescope.tools.utils.get_barcode_from_match_dir - INFO - Barcode file:/SGRNJ06/randd/USER/cjj/celedev/rna/20230726/3/0717_CCRF_1_N3lib/03.count/0717_CCRF_1_N3lib_filtered_feature_bc_matrix/barcodes.tsv\n",
      "2023-08-02 11:36:06,318 - celescope.tools.utils.get_barcode_from_match_dir - INFO - done. time used: 0:00:00.030469\n"
     ]
    }
   ],
   "source": [
    "match_barcodes5 = set(utils.get_barcode_from_match_dir(\"/SGRNJ06/randd/USER/cjj/celedev/rna/20230731/5/0717_CCRF_2_N5lib/\")[0])\n",
    "match_barcodes3 = utils.get_barcode_from_match_dir(\"/SGRNJ06/randd/USER/cjj/celedev/rna/20230726/3/0717_CCRF_1_N3lib/\")[0]"
   ]
  },
  {
   "cell_type": "code",
   "execution_count": 68,
   "id": "distinguished-boxing",
   "metadata": {},
   "outputs": [],
   "source": [
    "match_barcodes3 = set([reverse_complement(i) for i in match_barcodes3])"
   ]
  },
  {
   "cell_type": "code",
   "execution_count": 69,
   "id": "fleet-survivor",
   "metadata": {},
   "outputs": [
    {
     "data": {
      "text/plain": [
       "8722"
      ]
     },
     "execution_count": 69,
     "metadata": {},
     "output_type": "execute_result"
    }
   ],
   "source": [
    "len(match_barcodes5&match_barcodes3)"
   ]
  },
  {
   "cell_type": "code",
   "execution_count": null,
   "id": "nervous-dress",
   "metadata": {},
   "outputs": [],
   "source": []
  },
  {
   "cell_type": "code",
   "execution_count": null,
   "id": "dense-pierce",
   "metadata": {},
   "outputs": [],
   "source": []
  },
  {
   "cell_type": "code",
   "execution_count": null,
   "id": "absent-force",
   "metadata": {},
   "outputs": [],
   "source": []
  },
  {
   "cell_type": "code",
   "execution_count": null,
   "id": "partial-auction",
   "metadata": {},
   "outputs": [],
   "source": []
  },
  {
   "cell_type": "code",
   "execution_count": null,
   "id": "straight-niger",
   "metadata": {},
   "outputs": [],
   "source": [
    "match_barcodes5 = set(utils.get_barcode_from_match_dir(\"/SGRNJ06/randd/USER/cjj/celedev/rna/20230731/5/0717_CCRF_2_N5lib_mu/\")[0])\n",
    "match_barcodes3 = utils.get_barcode_from_match_dir(\"/SGRNJ06/randd/USER/cjj/celedev/rna/20230726/3/0717_CCRF_1_N3lib_mu/\")[0]"
   ]
  },
  {
   "cell_type": "code",
   "execution_count": 22,
   "id": "unexpected-linux",
   "metadata": {},
   "outputs": [
    {
     "data": {
      "text/plain": [
       "4829"
      ]
     },
     "execution_count": 22,
     "metadata": {},
     "output_type": "execute_result"
    }
   ],
   "source": [
    "len(match_barcodes5)"
   ]
  },
  {
   "cell_type": "code",
   "execution_count": 23,
   "id": "undefined-gossip",
   "metadata": {},
   "outputs": [
    {
     "data": {
      "text/plain": [
       "4815"
      ]
     },
     "execution_count": 23,
     "metadata": {},
     "output_type": "execute_result"
    }
   ],
   "source": [
    "len(match_barcodes3)"
   ]
  },
  {
   "cell_type": "code",
   "execution_count": 24,
   "id": "received-columbia",
   "metadata": {},
   "outputs": [],
   "source": [
    "match_barcodes3 = set([reverse_complement(i) for i in match_barcodes3])"
   ]
  },
  {
   "cell_type": "code",
   "execution_count": 25,
   "id": "narrative-palestine",
   "metadata": {},
   "outputs": [
    {
     "data": {
      "text/plain": [
       "4780"
      ]
     },
     "execution_count": 25,
     "metadata": {},
     "output_type": "execute_result"
    }
   ],
   "source": [
    "len(match_barcodes5&match_barcodes3)"
   ]
  },
  {
   "cell_type": "code",
   "execution_count": null,
   "id": "phantom-field",
   "metadata": {},
   "outputs": [],
   "source": []
  },
  {
   "cell_type": "code",
   "execution_count": null,
   "id": "aware-praise",
   "metadata": {},
   "outputs": [],
   "source": []
  }
 ],
 "metadata": {
  "kernelspec": {
   "display_name": "trust4_1.7",
   "language": "python",
   "name": "trust4_1.7"
  },
  "language_info": {
   "codemirror_mode": {
    "name": "ipython",
    "version": 3
   },
   "file_extension": ".py",
   "mimetype": "text/x-python",
   "name": "python",
   "nbconvert_exporter": "python",
   "pygments_lexer": "ipython3",
   "version": "3.7.10"
  }
 },
 "nbformat": 4,
 "nbformat_minor": 5
}
