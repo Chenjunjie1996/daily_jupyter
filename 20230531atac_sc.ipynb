{
 "cells": [
  {
   "cell_type": "code",
   "execution_count": 1,
   "id": "fitting-impact",
   "metadata": {},
   "outputs": [],
   "source": [
    "import scanpy as sc\n",
    "import pandas as pd\n",
    "from xopen import xopen\n",
    "import pysam"
   ]
  },
  {
   "cell_type": "code",
   "execution_count": 43,
   "id": "fiscal-basement",
   "metadata": {},
   "outputs": [],
   "source": [
    "df = pd.read_csv(\"/SGRNJ06/randd/PROJECT/scATAC/20230529_3bp_959595_H_M_jiace_sc/A0508_4_mixCCRFtesticles_3rd959595_D15_T7100_612/03.atac/A0508_4_mixCCRFtesticles_3rd959595_D15_T7100_612/outs/singlecell.csv\")"
   ]
  },
  {
   "cell_type": "code",
   "execution_count": 44,
   "id": "lesser-liberal",
   "metadata": {},
   "outputs": [],
   "source": [
    "df[\"barcode\"] = df[\"barcode\"].apply(lambda x: x.split('-')[0])"
   ]
  },
  {
   "cell_type": "code",
   "execution_count": 45,
   "id": "agricultural-market",
   "metadata": {},
   "outputs": [],
   "source": [
    "df_h = df[df[\"is_GRCh38_cell_barcode\"]==1]\n",
    "df_m = df[df[\"is_mm10_cell_barcode\"]==1]"
   ]
  },
  {
   "cell_type": "code",
   "execution_count": 46,
   "id": "prepared-parent",
   "metadata": {},
   "outputs": [],
   "source": [
    "h_bc = set(df_h.barcode)\n",
    "m_bc = set(df_m.barcode)\n",
    "doublet_bc = h_bc & m_bc"
   ]
  },
  {
   "cell_type": "code",
   "execution_count": 60,
   "id": "jewish-excitement",
   "metadata": {},
   "outputs": [
    {
     "data": {
      "text/plain": [
       "False"
      ]
     },
     "execution_count": 60,
     "metadata": {},
     "output_type": "execute_result"
    }
   ],
   "source": [
    "\"AAATGAGAGCAACTGG\" in h_bc"
   ]
  },
  {
   "cell_type": "code",
   "execution_count": null,
   "id": "western-payroll",
   "metadata": {},
   "outputs": [],
   "source": [
    "doublet_bc"
   ]
  },
  {
   "cell_type": "code",
   "execution_count": 48,
   "id": "paperback-alpha",
   "metadata": {},
   "outputs": [],
   "source": [
    "out_fq1 = xopen(\"/SGRNJ06/randd/USER/cjj/celedev/atac/20230531del_doublet/A0508_4_mixCCRFtesticles_3rd959595_D15_T7100_612/deldoublets_S1_L001_R1_001.fastq.gz\", 'w')\n",
    "out_fq2 = xopen(\"/SGRNJ06/randd/USER/cjj/celedev/atac/20230531del_doublet/A0508_4_mixCCRFtesticles_3rd959595_D15_T7100_612/deldoublets_S1_L001_R2_001.fastq.gz\", 'w')\n",
    "out_fq3 = xopen(\"/SGRNJ06/randd/USER/cjj/celedev/atac/20230531del_doublet/A0508_4_mixCCRFtesticles_3rd959595_D15_T7100_612/deldoublets_S1_L001_R3_001.fastq.gz\", 'w')"
   ]
  },
  {
   "cell_type": "code",
   "execution_count": 49,
   "id": "silver-burning",
   "metadata": {},
   "outputs": [],
   "source": [
    "with pysam.FastxFile(\"/SGRNJ06/randd/USER/cjj/celedev/atac/20230531del_doublet/A0508_4_mixCCRFtesticles_3rd959595_D15_T7100_612/A0508_4_mixCCRFtesticles_3rd959595_D15_T7100_612_S1_L001_R1_001.fastq.gz\", persist=False) as fq1, \\\n",
    "        pysam.FastxFile(\"/SGRNJ06/randd/USER/cjj/celedev/atac/20230531del_doublet/A0508_4_mixCCRFtesticles_3rd959595_D15_T7100_612/A0508_4_mixCCRFtesticles_3rd959595_D15_T7100_612_S1_L001_R2_001.fastq.gz\", persist=False) as fq2, \\\n",
    "            pysam.FastxFile(\"/SGRNJ06/randd/USER/cjj/celedev/atac/20230531del_doublet/A0508_4_mixCCRFtesticles_3rd959595_D15_T7100_612/A0508_4_mixCCRFtesticles_3rd959595_D15_T7100_612_S1_L001_R3_001.fastq.gz\", persist=False) as fq3:\n",
    "    for entry1, entry2, entry3 in zip(fq1, fq2, fq3):\n",
    "        header1, seq1, qual1 = entry1.name, entry1.sequence, entry1.quality\n",
    "        header2, seq2, qual2 = entry2.name, entry2.sequence, entry2.quality\n",
    "        header3, seq3, qual3 = entry3.name, entry3.sequence, entry3.quality\n",
    "        \n",
    "        if seq2 not in doublet_bc:\n",
    "            out_fq1.write(f'@{header1}\\n{seq1}\\n+\\n{qual1}\\n')\n",
    "            out_fq2.write(f'@{header2}\\n{seq2}\\n+\\n{qual2}\\n')\n",
    "            out_fq3.write(f'@{header3}\\n{seq3}\\n+\\n{qual3}\\n')\n",
    "        "
   ]
  },
  {
   "cell_type": "code",
   "execution_count": 50,
   "id": "changed-institution",
   "metadata": {},
   "outputs": [],
   "source": [
    "out_fq1.close()\n",
    "out_fq2.close()\n",
    "out_fq3.close()"
   ]
  },
  {
   "cell_type": "code",
   "execution_count": null,
   "id": "failing-binary",
   "metadata": {},
   "outputs": [],
   "source": []
  }
 ],
 "metadata": {
  "kernelspec": {
   "display_name": "trust4_1.7",
   "language": "python",
   "name": "trust4_1.7"
  },
  "language_info": {
   "codemirror_mode": {
    "name": "ipython",
    "version": 3
   },
   "file_extension": ".py",
   "mimetype": "text/x-python",
   "name": "python",
   "nbconvert_exporter": "python",
   "pygments_lexer": "ipython3",
   "version": "3.7.10"
  }
 },
 "nbformat": 4,
 "nbformat_minor": 5
}
