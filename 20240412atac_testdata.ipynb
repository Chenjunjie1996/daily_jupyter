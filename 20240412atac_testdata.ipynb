{
 "cells": [
  {
   "cell_type": "code",
   "execution_count": 38,
   "id": "distinct-virus",
   "metadata": {},
   "outputs": [],
   "source": [
    "import pandas as pd\n",
    "import pysam\n",
    "from xopen import xopen"
   ]
  },
  {
   "cell_type": "code",
   "execution_count": 55,
   "id": "valued-restaurant",
   "metadata": {},
   "outputs": [],
   "source": [
    "df = pd.read_csv('/SGRNJ06/randd/USER/cjj/celedev/atac/MAESTRO/test/20240227_1/A0204_7_MM_WXvazymeTN5_7th_D02SDS_T7_EDTA5030/outs/cell_qc_metrics.tsv',sep='\\t')"
   ]
  },
  {
   "cell_type": "code",
   "execution_count": 56,
   "id": "wireless-maria",
   "metadata": {},
   "outputs": [],
   "source": [
    "df = df[df['cell_called']==True]"
   ]
  },
  {
   "cell_type": "code",
   "execution_count": 57,
   "id": "british-arthritis",
   "metadata": {},
   "outputs": [],
   "source": [
    "df = df.sort_values('fragments', ascending=False)"
   ]
  },
  {
   "cell_type": "code",
   "execution_count": 58,
   "id": "rocky-illness",
   "metadata": {},
   "outputs": [],
   "source": [
    "df = df.head(100)"
   ]
  },
  {
   "cell_type": "code",
   "execution_count": 59,
   "id": "creative-moral",
   "metadata": {},
   "outputs": [],
   "source": [
    "target_bc = set(df.barcode)"
   ]
  },
  {
   "cell_type": "code",
   "execution_count": 60,
   "id": "improving-swing",
   "metadata": {},
   "outputs": [],
   "source": [
    "index_res = set()"
   ]
  },
  {
   "cell_type": "code",
   "execution_count": 61,
   "id": "aggressive-conditioning",
   "metadata": {},
   "outputs": [],
   "source": [
    "index = 0\n",
    "with pysam.FastxFile('/SGRNJ07/Standard_Analysis/DATA05/limsdownload/24_02/2024_02_22/RD22110301/A0204_7_MM_WXvazymeTN5_7th_D02SDS_T7_EDTA5030/2024-02-22-14/R240206043_R2.fastq.gz') as f:\n",
    "    for read in f:\n",
    "        index+=1\n",
    "        bc = read.sequence[:6] + read.sequence[10:18] + read.sequence[22:28]\n",
    "        if bc in target_bc:\n",
    "            index_res.add(index)"
   ]
  },
  {
   "cell_type": "code",
   "execution_count": 62,
   "id": "advanced-pickup",
   "metadata": {},
   "outputs": [],
   "source": [
    "fh_fq1 = xopen(\"/SGRNJ06/randd/USER/cjj/celedev/atac/MAESTRO/test/20240412testdata/rawdata/test_R1.fastq.gz\", 'w')\n",
    "fh_fq2 = xopen(\"/SGRNJ06/randd/USER/cjj/celedev/atac/MAESTRO/test/20240412testdata/rawdata/test_R2.fastq.gz\", 'w')\n",
    "fh_fq3 = xopen(\"/SGRNJ06/randd/USER/cjj/celedev/atac/MAESTRO/test/20240412testdata/rawdata/test_R3.fastq.gz\", 'w')\n",
    "fh_index1 = xopen(\"/SGRNJ06/randd/USER/cjj/celedev/atac/MAESTRO/test/20240412testdata/rawdata/test_I1.fastq.gz\", 'w')"
   ]
  },
  {
   "cell_type": "code",
   "execution_count": 63,
   "id": "sweet-billion",
   "metadata": {},
   "outputs": [],
   "source": [
    "fq1 = \"/SGRNJ07/Standard_Analysis/DATA05/limsdownload/24_02/2024_02_22/RD22110301/A0204_7_MM_WXvazymeTN5_7th_D02SDS_T7_EDTA5030/2024-02-22-14/R240206043_R1.fastq.gz\"\n",
    "fq2 = \"/SGRNJ07/Standard_Analysis/DATA05/limsdownload/24_02/2024_02_22/RD22110301/A0204_7_MM_WXvazymeTN5_7th_D02SDS_T7_EDTA5030/2024-02-22-14/R240206043_R2.fastq.gz\"\n",
    "fq3 = \"/SGRNJ07/Standard_Analysis/DATA05/limsdownload/24_02/2024_02_22/RD22110301/A0204_7_MM_WXvazymeTN5_7th_D02SDS_T7_EDTA5030/2024-02-22-14/R240206043_R3.fastq.gz\"\n",
    "index_fq = \"/SGRNJ07/Standard_Analysis/DATA05/limsdownload/24_02/2024_02_22/RD22110301/A0204_7_MM_WXvazymeTN5_7th_D02SDS_T7_EDTA5030/2024-02-22-14/R240206043_I1.fastq.gz\""
   ]
  },
  {
   "cell_type": "code",
   "execution_count": 64,
   "id": "multiple-helen",
   "metadata": {},
   "outputs": [],
   "source": [
    "count = 0\n",
    "with pysam.FastxFile(fq1, persist=False) as fq1, \\\n",
    "        pysam.FastxFile(fq2, persist=False) as fq2, \\\n",
    "            pysam.FastxFile(fq3, persist=False) as fq3, \\\n",
    "                pysam.FastxFile(index_fq, persist=False) as index1:\n",
    "    for entry1, entry2, entry3, entry4 in zip(fq1, fq2, fq3, index1):\n",
    "        count += 1\n",
    "        if count in index_res:\n",
    "            fh_fq1.write(f\"@{entry1.name}\\n{entry1.sequence}\\n+\\n{entry1.quality}\\n\")\n",
    "            fh_fq2.write(f\"@{entry2.name}\\n{entry2.sequence}\\n+\\n{entry2.quality}\\n\")\n",
    "            fh_fq3.write(f\"@{entry3.name}\\n{entry3.sequence}\\n+\\n{entry3.quality}\\n\")\n",
    "            fh_index1.write(f\"@{entry4.name}\\n{entry4.sequence}\\n+\\n{entry4.quality}\\n\")\n",
    "fh_fq1.close()\n",
    "fh_fq2.close()\n",
    "fh_fq3.close()\n",
    "fh_index1.close()"
   ]
  },
  {
   "cell_type": "code",
   "execution_count": null,
   "id": "primary-architecture",
   "metadata": {},
   "outputs": [],
   "source": []
  }
 ],
 "metadata": {
  "kernelspec": {
   "display_name": "trust4_1.7",
   "language": "python",
   "name": "trust4_1.7"
  },
  "language_info": {
   "codemirror_mode": {
    "name": "ipython",
    "version": 3
   },
   "file_extension": ".py",
   "mimetype": "text/x-python",
   "name": "python",
   "nbconvert_exporter": "python",
   "pygments_lexer": "ipython3",
   "version": "3.7.10"
  }
 },
 "nbformat": 4,
 "nbformat_minor": 5
}
