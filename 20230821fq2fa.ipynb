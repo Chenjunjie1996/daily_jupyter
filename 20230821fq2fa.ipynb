{
 "cells": [
  {
   "cell_type": "code",
   "execution_count": 61,
   "id": "absolute-material",
   "metadata": {},
   "outputs": [],
   "source": [
    "import pysam\n",
    "import string\n",
    "import itertools"
   ]
  },
  {
   "cell_type": "code",
   "execution_count": 60,
   "id": "apparent-preview",
   "metadata": {},
   "outputs": [],
   "source": [
    "umi_iters = itertools.product(string.ascii_uppercase,repeat=6)"
   ]
  },
  {
   "cell_type": "code",
   "execution_count": 54,
   "id": "precious-popularity",
   "metadata": {},
   "outputs": [],
   "source": [
    "sample = \"PCRD-230726-005index4K\""
   ]
  },
  {
   "cell_type": "code",
   "execution_count": 55,
   "id": "heated-midwest",
   "metadata": {},
   "outputs": [],
   "source": [
    "in_fq = f\"/SGRNJ06/randd/USER/cjj/celedev/vdj_bulk/20230821no_umi/{sample}/02.cutadapt/{sample}_clean_2.fq\"\n",
    "out_fa = f\"/SGRNJ06/randd/USER/cjj/celedev/vdj_bulk/20230821no_umi/{sample}/03.consensus/{sample}_filtered_consensus.fasta\""
   ]
  },
  {
   "cell_type": "code",
   "execution_count": 56,
   "id": "brief-carol",
   "metadata": {},
   "outputs": [],
   "source": [
    "out_fa = open(out_fa, 'w')"
   ]
  },
  {
   "cell_type": "code",
   "execution_count": 57,
   "id": "brave-scanner",
   "metadata": {},
   "outputs": [],
   "source": [
    "with pysam.FastxFile(in_fq) as f:\n",
    "    for read in f:\n",
    "        attrs = read.name.split('_')\n",
    "        seq = read.sequence\n",
    "        new_umi = ''.join(next(umi_iters))\n",
    "        new_name = f\"{attrs[0]}_{new_umi}_{attrs[2]}\"\n",
    "        out_fa.write(f\">{new_name}\\n{seq}\\n\")"
   ]
  },
  {
   "cell_type": "code",
   "execution_count": 58,
   "id": "smoking-deficit",
   "metadata": {},
   "outputs": [],
   "source": [
    "out_fa.close()"
   ]
  },
  {
   "cell_type": "code",
   "execution_count": null,
   "id": "proved-republican",
   "metadata": {},
   "outputs": [],
   "source": []
  },
  {
   "cell_type": "code",
   "execution_count": 69,
   "id": "cubic-essex",
   "metadata": {},
   "outputs": [],
   "source": [
    "umi_iters = itertools.product(string.ascii_uppercase,repeat=6)"
   ]
  },
  {
   "cell_type": "code",
   "execution_count": 70,
   "id": "urban-attraction",
   "metadata": {},
   "outputs": [],
   "source": [
    "in_fq = \"/SGRNJ06/randd/USER/zhouyiqi/issues/IR/IR_bulk/02.cutadapt/origin_2.fq\"\n",
    "out_fa = \"/SGRNJ06/randd/USER/cjj/celedev/vdj_bulk/20230821no_umi/total/IR_bulk/03.consensus/IR_bulk_filtered_consensus.fasta\""
   ]
  },
  {
   "cell_type": "code",
   "execution_count": 71,
   "id": "noble-bennett",
   "metadata": {},
   "outputs": [],
   "source": [
    "out_fa = open(out_fa, 'w')"
   ]
  },
  {
   "cell_type": "code",
   "execution_count": 72,
   "id": "returning-assets",
   "metadata": {},
   "outputs": [],
   "source": [
    "with pysam.FastxFile(in_fq) as f:\n",
    "    for read in f:\n",
    "        attrs = read.name.split('_')\n",
    "        seq = read.sequence\n",
    "        new_umi = ''.join(next(umi_iters))\n",
    "        new_name = f\"{attrs[0]}_{new_umi}_{attrs[2]}\"\n",
    "        out_fa.write(f\">{new_name}\\n{seq}\\n\")"
   ]
  },
  {
   "cell_type": "code",
   "execution_count": 73,
   "id": "lucky-cambridge",
   "metadata": {},
   "outputs": [],
   "source": [
    "out_fa.close()"
   ]
  },
  {
   "cell_type": "code",
   "execution_count": null,
   "id": "technical-norway",
   "metadata": {},
   "outputs": [],
   "source": []
  }
 ],
 "metadata": {
  "kernelspec": {
   "display_name": "trust4_1.7",
   "language": "python",
   "name": "trust4_1.7"
  },
  "language_info": {
   "codemirror_mode": {
    "name": "ipython",
    "version": 3
   },
   "file_extension": ".py",
   "mimetype": "text/x-python",
   "name": "python",
   "nbconvert_exporter": "python",
   "pygments_lexer": "ipython3",
   "version": "3.7.10"
  }
 },
 "nbformat": 4,
 "nbformat_minor": 5
}
