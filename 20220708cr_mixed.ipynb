{
 "cells": [
  {
   "cell_type": "code",
   "execution_count": 1,
   "id": "timely-civilian",
   "metadata": {},
   "outputs": [],
   "source": [
    "import pandas as pd \n",
    "import celescope\n",
    "import time\n",
    "import bisect\n",
    "from celescope.tools.emptydrop_cr.cell_calling_3 import cell_calling_3\n",
    "from celescope.tools.count import Count"
   ]
  },
  {
   "cell_type": "code",
   "execution_count": 2,
   "id": "specific-control",
   "metadata": {},
   "outputs": [
    {
     "data": {
      "text/plain": [
       "['/SGRNJ06/randd/USER/cjj/Celescope/refactor_trust/CeleScope/celescope']"
      ]
     },
     "execution_count": 2,
     "metadata": {},
     "output_type": "execute_result"
    }
   ],
   "source": [
    "celescope.__path__"
   ]
  },
  {
   "cell_type": "code",
   "execution_count": 3,
   "id": "moral-heading",
   "metadata": {},
   "outputs": [],
   "source": [
    "# cr\n",
    "df = pd.read_table('/SGRNJ06/randd/PROJECT/RD20073101_ScRNA_VDJ/20220425_kmc3/sc-1/05.count/220417014_count_detail.txt', header=0)"
   ]
  },
  {
   "cell_type": "code",
   "execution_count": 4,
   "id": "becoming-albany",
   "metadata": {},
   "outputs": [
    {
     "name": "stdout",
     "output_type": "stream",
     "text": [
      "cost 317.9189121723175\n"
     ]
    }
   ],
   "source": [
    "start_time = time.time()\n",
    "df_sum = Count.get_df_sum(df)\n",
    "end_time = time.time()\n",
    "print(f'cost {end_time - start_time}')"
   ]
  },
  {
   "cell_type": "code",
   "execution_count": 5,
   "id": "departmental-basis",
   "metadata": {},
   "outputs": [
    {
     "data": {
      "text/html": [
       "<div>\n",
       "<style scoped>\n",
       "    .dataframe tbody tr th:only-of-type {\n",
       "        vertical-align: middle;\n",
       "    }\n",
       "\n",
       "    .dataframe tbody tr th {\n",
       "        vertical-align: top;\n",
       "    }\n",
       "\n",
       "    .dataframe thead th {\n",
       "        text-align: right;\n",
       "    }\n",
       "</style>\n",
       "<table border=\"1\" class=\"dataframe\">\n",
       "  <thead>\n",
       "    <tr style=\"text-align: right;\">\n",
       "      <th></th>\n",
       "      <th>readcount</th>\n",
       "      <th>UMI2</th>\n",
       "      <th>UMI</th>\n",
       "      <th>geneID</th>\n",
       "    </tr>\n",
       "    <tr>\n",
       "      <th>Barcode</th>\n",
       "      <th></th>\n",
       "      <th></th>\n",
       "      <th></th>\n",
       "      <th></th>\n",
       "    </tr>\n",
       "  </thead>\n",
       "  <tbody>\n",
       "    <tr>\n",
       "      <th>AACAACCAGTCGTAGACACCTTAC</th>\n",
       "      <td>210001</td>\n",
       "      <td>181881</td>\n",
       "      <td>76645</td>\n",
       "      <td>6778</td>\n",
       "    </tr>\n",
       "    <tr>\n",
       "      <th>GTACGCAAGCCAAGACCGAACTTA</th>\n",
       "      <td>189400</td>\n",
       "      <td>176090</td>\n",
       "      <td>52942</td>\n",
       "      <td>2487</td>\n",
       "    </tr>\n",
       "    <tr>\n",
       "      <th>ACTATGCAAACCGAGACCGACAAC</th>\n",
       "      <td>163141</td>\n",
       "      <td>146897</td>\n",
       "      <td>52730</td>\n",
       "      <td>3240</td>\n",
       "    </tr>\n",
       "    <tr>\n",
       "      <th>CCTCTATCCAATGGAAGACAGTGC</th>\n",
       "      <td>167824</td>\n",
       "      <td>153922</td>\n",
       "      <td>50412</td>\n",
       "      <td>2548</td>\n",
       "    </tr>\n",
       "    <tr>\n",
       "      <th>TGGAACAACCTCCTGAACGTATCA</th>\n",
       "      <td>162767</td>\n",
       "      <td>148077</td>\n",
       "      <td>50098</td>\n",
       "      <td>2794</td>\n",
       "    </tr>\n",
       "    <tr>\n",
       "      <th>...</th>\n",
       "      <td>...</td>\n",
       "      <td>...</td>\n",
       "      <td>...</td>\n",
       "      <td>...</td>\n",
       "    </tr>\n",
       "    <tr>\n",
       "      <th>TAGGATGAACTATGCAAACCGAGA</th>\n",
       "      <td>1</td>\n",
       "      <td>0</td>\n",
       "      <td>1</td>\n",
       "      <td>1</td>\n",
       "    </tr>\n",
       "    <tr>\n",
       "      <th>AGTCACTAGAATCTGACGACACAC</th>\n",
       "      <td>1</td>\n",
       "      <td>0</td>\n",
       "      <td>1</td>\n",
       "      <td>1</td>\n",
       "    </tr>\n",
       "    <tr>\n",
       "      <th>ACATTGGCCTCAATGATTCACGCA</th>\n",
       "      <td>1</td>\n",
       "      <td>0</td>\n",
       "      <td>1</td>\n",
       "      <td>1</td>\n",
       "    </tr>\n",
       "    <tr>\n",
       "      <th>CTCAATGAAACTCACCAATGTTGC</th>\n",
       "      <td>1</td>\n",
       "      <td>0</td>\n",
       "      <td>1</td>\n",
       "      <td>1</td>\n",
       "    </tr>\n",
       "    <tr>\n",
       "      <th>CACCTTACCATACCAAGAGTTAGC</th>\n",
       "      <td>2</td>\n",
       "      <td>2</td>\n",
       "      <td>1</td>\n",
       "      <td>1</td>\n",
       "    </tr>\n",
       "  </tbody>\n",
       "</table>\n",
       "<p>849285 rows × 4 columns</p>\n",
       "</div>"
      ],
      "text/plain": [
       "                          readcount    UMI2    UMI  geneID\n",
       "Barcode                                                   \n",
       "AACAACCAGTCGTAGACACCTTAC     210001  181881  76645    6778\n",
       "GTACGCAAGCCAAGACCGAACTTA     189400  176090  52942    2487\n",
       "ACTATGCAAACCGAGACCGACAAC     163141  146897  52730    3240\n",
       "CCTCTATCCAATGGAAGACAGTGC     167824  153922  50412    2548\n",
       "TGGAACAACCTCCTGAACGTATCA     162767  148077  50098    2794\n",
       "...                             ...     ...    ...     ...\n",
       "TAGGATGAACTATGCAAACCGAGA          1       0      1       1\n",
       "AGTCACTAGAATCTGACGACACAC          1       0      1       1\n",
       "ACATTGGCCTCAATGATTCACGCA          1       0      1       1\n",
       "CTCAATGAAACTCACCAATGTTGC          1       0      1       1\n",
       "CACCTTACCATACCAAGAGTTAGC          2       2      1       1\n",
       "\n",
       "[849285 rows x 4 columns]"
      ]
     },
     "execution_count": 5,
     "metadata": {},
     "output_type": "execute_result"
    }
   ],
   "source": [
    "df_sum"
   ]
  },
  {
   "cell_type": "code",
   "execution_count": 12,
   "id": "interracial-match",
   "metadata": {},
   "outputs": [],
   "source": [
    "    def auto_cell(df_sum):\n",
    "        idx = int(3000 * 0.01)\n",
    "        barcode_number = df_sum.shape[0]\n",
    "        idx = int(min(barcode_number, idx))\n",
    "        if idx == 0:\n",
    "            sys.exit(\"cell number equals zero!\")\n",
    "        # calculate read counts threshold\n",
    "        threshold = int(Count.find_threshold(df_sum, idx) * 0.1)\n",
    "        threshold = max(1, threshold)\n",
    "        cell_bc = Count.get_cell_bc(df_sum, threshold)\n",
    "\n",
    "        return cell_bc, threshold\n",
    "\n",
    "    def emptydrop_cr_cell(df_sum):\n",
    "        cell_bc, initial_cell_num = cell_calling_3('/SGRNJ06/randd/PROJECT/RD20073101_ScRNA_VDJ/20220425_kmc3/sc-1/05.count/220417014_all_matrix', 3000)\n",
    "        threshold = Count.find_threshold(df_sum, initial_cell_num)\n",
    "        return cell_bc, threshold\n",
    "    \n",
    "    "
   ]
  },
  {
   "cell_type": "code",
   "execution_count": 13,
   "id": "modern-agenda",
   "metadata": {},
   "outputs": [
    {
     "name": "stdout",
     "output_type": "stream",
     "text": [
      "2022-07-11 10:10:56,918 - celescope.tools.matrix.from_matrix_dir - INFO - start...\n",
      "2022-07-11 10:11:44,006 - celescope.tools.matrix.from_matrix_dir - INFO - done. time used: 0:00:47.086092\n",
      "Cell-called barcodes metrics:\n",
      "filtered_bcs: 3154\n",
      "filtered_bcs_var: 5262.525899999999\n",
      "max_filtered_bcs: 18000.0\n",
      "==============================\n",
      "Median UMIs of initial cell calls: 9439.0\n",
      "Min UMIs: 500\n",
      "Number of candidate bcs: 5389\n",
      "Range candidate bc umis: 500, 4093\n",
      "Number of distinct N supplied: 1665\n",
      "Range of N: 3593\n",
      "Number of features: 23891\n",
      "....................................................................................................\n",
      "Number of non-ambient barcodes from SGT: 3065\n",
      "Identify 6219 cell-associated barcodes\n"
     ]
    }
   ],
   "source": [
    "df_sum_auto, df_sum_emptydrops = df_sum.copy(), df_sum.copy()\n",
    "cell_bc_auto, threshold_auto = auto_cell(df_sum_auto)\n",
    "cell_bc_emptydrops, threshold_emptydrops = emptydrop_cr_cell(df_sum_emptydrops)"
   ]
  },
  {
   "cell_type": "code",
   "execution_count": 24,
   "id": "enormous-johns",
   "metadata": {},
   "outputs": [],
   "source": [
    "    def get_cell_stats(df_sum, cell_bc):\n",
    "        df_sum.loc[:, 'mark'] = 'UB'\n",
    "        df_sum.loc[df_sum.index.isin(cell_bc), 'mark'] = 'CB'\n",
    "        CB_describe = df_sum.loc[df_sum['mark'] == 'CB', :].describe()\n",
    "        return CB_describe"
   ]
  },
  {
   "cell_type": "code",
   "execution_count": 57,
   "id": "opposed-satin",
   "metadata": {},
   "outputs": [],
   "source": [
    "            CB_describe_auto = get_cell_stats(df_sum_auto, cell_bc_auto)\n",
    "            median_genes_per_cell_auto = int(CB_describe_auto.loc['50%', 'geneID'])"
   ]
  },
  {
   "cell_type": "code",
   "execution_count": 58,
   "id": "juvenile-brush",
   "metadata": {},
   "outputs": [],
   "source": [
    "            CB_describe_emptydrops = get_cell_stats(df_sum_emptydrops, cell_bc_emptydrops)\n",
    "            median_genes_per_cell_emptydrops = int(CB_describe_emptydrops.loc['50%', 'geneID'])"
   ]
  },
  {
   "cell_type": "code",
   "execution_count": 103,
   "id": "electric-stretch",
   "metadata": {},
   "outputs": [
    {
     "name": "stdout",
     "output_type": "stream",
     "text": [
      "4686\n",
      "2000.5\n",
      "5453\n",
      "1792.0\n",
      "5069\n",
      "1901.0\n",
      "4877\n",
      "1949.0\n",
      "4781\n",
      "1973.0\n",
      "4733\n",
      "1987.0\n",
      "4709\n",
      "1995.0\n",
      "4721\n",
      "1990.0\n",
      "4715\n",
      "1991.0\n",
      "4712\n",
      "1992.0\n"
     ]
    }
   ],
   "source": [
    "            target_median_gene = median_genes_per_cell_auto * 0.8\n",
    "            low = len(cell_bc_auto)\n",
    "            high = len(cell_bc_emptydrops)\n",
    "            while low <= high:\n",
    "                mid = (low + high) // 2\n",
    "                current_median_gene = df_sum_mixed.loc[df_sum_mixed['mark'] == 'CB', :][:mid].describe().loc['50%', 'geneID']\n",
    "                print(mid)\n",
    "                print(current_median_gene)\n",
    "                if current_median_gene == target_median_gene:\n",
    "                    break\n",
    "                elif current_median_gene > target_median_gene:\n",
    "                    low = mid + 1\n",
    "                else:\n",
    "                    high = mid - 1"
   ]
  },
  {
   "cell_type": "code",
   "execution_count": 114,
   "id": "excess-commons",
   "metadata": {},
   "outputs": [],
   "source": [
    "            cell_bc = df_sum_mixed.loc[df_sum_mixed['mark'] == 'CB', :][:mid].reset_index().Barcode.tolist()\n",
    "            threshold = Count.find_threshold(df_sum, len(cell_bc))"
   ]
  },
  {
   "cell_type": "code",
   "execution_count": 110,
   "id": "quantitative-medium",
   "metadata": {},
   "outputs": [],
   "source": [
    "current_median_gene = df_sum_mixed.loc[df_sum_mixed['mark'] == 'CB', :][:mid].describe().loc['50%', 'geneID']"
   ]
  },
  {
   "cell_type": "code",
   "execution_count": 111,
   "id": "medieval-estonia",
   "metadata": {},
   "outputs": [
    {
     "data": {
      "text/plain": [
       "1992.0"
      ]
     },
     "execution_count": 111,
     "metadata": {},
     "output_type": "execute_result"
    }
   ],
   "source": [
    "current_median_gene"
   ]
  },
  {
   "cell_type": "code",
   "execution_count": 117,
   "id": "external-sigma",
   "metadata": {},
   "outputs": [
    {
     "data": {
      "text/plain": [
       "996"
      ]
     },
     "execution_count": 117,
     "metadata": {},
     "output_type": "execute_result"
    }
   ],
   "source": [
    "threshold"
   ]
  },
  {
   "cell_type": "code",
   "execution_count": 106,
   "id": "tribal-reserve",
   "metadata": {},
   "outputs": [
    {
     "data": {
      "text/plain": [
       "4098"
      ]
     },
     "execution_count": 106,
     "metadata": {},
     "output_type": "execute_result"
    }
   ],
   "source": [
    "threshold_emptydrops"
   ]
  },
  {
   "cell_type": "code",
   "execution_count": 107,
   "id": "duplicate-europe",
   "metadata": {},
   "outputs": [],
   "source": [
    "threshold_auto"
   ]
  },
  {
   "cell_type": "code",
   "execution_count": 118,
   "id": "pointed-contributor",
   "metadata": {},
   "outputs": [
    {
     "data": {
      "text/plain": [
       "4712"
      ]
     },
     "execution_count": 118,
     "metadata": {},
     "output_type": "execute_result"
    }
   ],
   "source": [
    "len(cell_bc)"
   ]
  },
  {
   "cell_type": "code",
   "execution_count": 122,
   "id": "suburban-gazette",
   "metadata": {},
   "outputs": [
    {
     "data": {
      "text/plain": [
       "653"
      ]
     },
     "execution_count": 122,
     "metadata": {},
     "output_type": "execute_result"
    }
   ],
   "source": [
    "Count.find_threshold(df_sum, len(cell_bc_emptydrops))"
   ]
  },
  {
   "cell_type": "code",
   "execution_count": null,
   "id": "elect-russell",
   "metadata": {},
   "outputs": [],
   "source": [
    "df_sum.loc[:, 'mark'] = 'UB'\n",
    "df_sum.loc[df_sum.index.isin(cell_bc), 'mark'] = 'CB'\n",
    "CB_describe = df_sum.loc[df_sum['mark'] == 'CB', :].describe()"
   ]
  },
  {
   "cell_type": "code",
   "execution_count": null,
   "id": "historical-relations",
   "metadata": {},
   "outputs": [],
   "source": [
    "df_sum.loc[df_sum['mark'] == 'CB', :][:4000]\n",
    "CB_describe = df_sum.loc[df_sum['mark'] == 'CB', :][:4000].describe()"
   ]
  },
  {
   "cell_type": "code",
   "execution_count": null,
   "id": "biological-giving",
   "metadata": {},
   "outputs": [],
   "source": [
    "CB_describe"
   ]
  },
  {
   "cell_type": "code",
   "execution_count": null,
   "id": "critical-ottawa",
   "metadata": {},
   "outputs": [],
   "source": [
    "df_sum[df_sum['mark']=='CB']"
   ]
  },
  {
   "cell_type": "code",
   "execution_count": null,
   "id": "parental-convert",
   "metadata": {},
   "outputs": [],
   "source": [
    "df_auto = df_sum.copy()"
   ]
  },
  {
   "cell_type": "code",
   "execution_count": null,
   "id": "toxic-claim",
   "metadata": {},
   "outputs": [],
   "source": [
    "cell_bc_auto, _threshold_auto = auto_cell(df_auto)"
   ]
  },
  {
   "cell_type": "code",
   "execution_count": null,
   "id": "other-protest",
   "metadata": {},
   "outputs": [],
   "source": [
    "df_auto.loc[:, 'mark'] = 'UB'\n",
    "df_auto.loc[df_sum.index.isin(cell_bc_auto), 'mark'] = 'CB'\n",
    "CB_describe_auto = df_auto.loc[df_auto['mark'] == 'CB', :].describe()"
   ]
  },
  {
   "cell_type": "code",
   "execution_count": null,
   "id": "olive-burns",
   "metadata": {},
   "outputs": [],
   "source": [
    "CB_describe_auto"
   ]
  },
  {
   "cell_type": "code",
   "execution_count": null,
   "id": "specific-mining",
   "metadata": {},
   "outputs": [],
   "source": [
    "len(set(cell_bc_auto).intersection(set(cell_bc)))"
   ]
  },
  {
   "cell_type": "code",
   "execution_count": null,
   "id": "fatal-moral",
   "metadata": {},
   "outputs": [],
   "source": [
    "_threshold_auto"
   ]
  },
  {
   "cell_type": "code",
   "execution_count": null,
   "id": "brave-private",
   "metadata": {},
   "outputs": [],
   "source": [
    "df_auto[df_auto['mark']=='CB']"
   ]
  },
  {
   "cell_type": "code",
   "execution_count": null,
   "id": "precise-return",
   "metadata": {},
   "outputs": [],
   "source": [
    "df_sum[df_sum['mark']=='CB']"
   ]
  },
  {
   "cell_type": "code",
   "execution_count": null,
   "id": "dangerous-projection",
   "metadata": {},
   "outputs": [],
   "source": [
    "_threshold"
   ]
  },
  {
   "cell_type": "code",
   "execution_count": null,
   "id": "dietary-driving",
   "metadata": {},
   "outputs": [],
   "source": [
    "target_median_gene = int(CB_describe_auto.loc['50%', 'geneID']) * 0.8"
   ]
  },
  {
   "cell_type": "code",
   "execution_count": null,
   "id": "graphic-baptist",
   "metadata": {},
   "outputs": [],
   "source": [
    "target_median_gene"
   ]
  },
  {
   "cell_type": "code",
   "execution_count": null,
   "id": "inner-trout",
   "metadata": {},
   "outputs": [],
   "source": [
    "df_sum"
   ]
  },
  {
   "cell_type": "code",
   "execution_count": null,
   "id": "dimensional-manual",
   "metadata": {},
   "outputs": [],
   "source": [
    "df_sum.loc[df_sum['mark'] == 'CB', :][:4712].describe().loc['50%', 'geneID']"
   ]
  },
  {
   "cell_type": "code",
   "execution_count": null,
   "id": "upper-office",
   "metadata": {},
   "outputs": [],
   "source": [
    "def search_target_gene_bc():\n",
    "    target_median_gene = auto_CB_describe(df_sum)[-1] * 0.8\n",
    "    low = len(cell_bc_auto)\n",
    "    high = len(cell_bc)\n",
    "    while low <= high:\n",
    "        mid = (low + high) // 2\n",
    "        current_median_gene = df_sum.loc[df_sum['mark'] == 'CB', :][:mid].describe().loc['50%', 'geneID']\n",
    "        if current_median_gene == target_median_gene:\n",
    "            return current_median_gene\n",
    "        elif current_median_gene > target_median_gene:\n",
    "            high = mid - 1\n",
    "        else:\n",
    "            low = mid + 1\n",
    "    return current_median_gene"
   ]
  },
  {
   "cell_type": "code",
   "execution_count": null,
   "id": "formal-watts",
   "metadata": {},
   "outputs": [],
   "source": [
    "df_sum.loc[df_sum['mark'] == 'CB', :][:4712].reset_index().Barcode"
   ]
  },
  {
   "cell_type": "code",
   "execution_count": null,
   "id": "related-poster",
   "metadata": {},
   "outputs": [],
   "source": [
    "df_sum.iloc[:4712].reset_index().Barcode.tolist()"
   ]
  },
  {
   "cell_type": "code",
   "execution_count": 130,
   "id": "purple-yemen",
   "metadata": {},
   "outputs": [
    {
     "data": {
      "text/html": [
       "<div>\n",
       "<style scoped>\n",
       "    .dataframe tbody tr th:only-of-type {\n",
       "        vertical-align: middle;\n",
       "    }\n",
       "\n",
       "    .dataframe tbody tr th {\n",
       "        vertical-align: top;\n",
       "    }\n",
       "\n",
       "    .dataframe thead th {\n",
       "        text-align: right;\n",
       "    }\n",
       "</style>\n",
       "<table border=\"1\" class=\"dataframe\">\n",
       "  <thead>\n",
       "    <tr style=\"text-align: right;\">\n",
       "      <th></th>\n",
       "      <th>readcount</th>\n",
       "      <th>UMI2</th>\n",
       "      <th>UMI</th>\n",
       "      <th>geneID</th>\n",
       "      <th>mark</th>\n",
       "    </tr>\n",
       "    <tr>\n",
       "      <th>Barcode</th>\n",
       "      <th></th>\n",
       "      <th></th>\n",
       "      <th></th>\n",
       "      <th></th>\n",
       "      <th></th>\n",
       "    </tr>\n",
       "  </thead>\n",
       "  <tbody>\n",
       "    <tr>\n",
       "      <th>AACAACCAGTCGTAGACACCTTAC</th>\n",
       "      <td>210001</td>\n",
       "      <td>181881</td>\n",
       "      <td>76645</td>\n",
       "      <td>6778</td>\n",
       "      <td>CB</td>\n",
       "    </tr>\n",
       "    <tr>\n",
       "      <th>GTACGCAAGCCAAGACCGAACTTA</th>\n",
       "      <td>189400</td>\n",
       "      <td>176090</td>\n",
       "      <td>52942</td>\n",
       "      <td>2487</td>\n",
       "      <td>CB</td>\n",
       "    </tr>\n",
       "    <tr>\n",
       "      <th>ACTATGCAAACCGAGACCGACAAC</th>\n",
       "      <td>163141</td>\n",
       "      <td>146897</td>\n",
       "      <td>52730</td>\n",
       "      <td>3240</td>\n",
       "      <td>CB</td>\n",
       "    </tr>\n",
       "    <tr>\n",
       "      <th>CCTCTATCCAATGGAAGACAGTGC</th>\n",
       "      <td>167824</td>\n",
       "      <td>153922</td>\n",
       "      <td>50412</td>\n",
       "      <td>2548</td>\n",
       "      <td>CB</td>\n",
       "    </tr>\n",
       "    <tr>\n",
       "      <th>TGGAACAACCTCCTGAACGTATCA</th>\n",
       "      <td>162767</td>\n",
       "      <td>148077</td>\n",
       "      <td>50098</td>\n",
       "      <td>2794</td>\n",
       "      <td>CB</td>\n",
       "    </tr>\n",
       "    <tr>\n",
       "      <th>...</th>\n",
       "      <td>...</td>\n",
       "      <td>...</td>\n",
       "      <td>...</td>\n",
       "      <td>...</td>\n",
       "      <td>...</td>\n",
       "    </tr>\n",
       "    <tr>\n",
       "      <th>TAGGATGAACTATGCAAACCGAGA</th>\n",
       "      <td>1</td>\n",
       "      <td>0</td>\n",
       "      <td>1</td>\n",
       "      <td>1</td>\n",
       "      <td>UB</td>\n",
       "    </tr>\n",
       "    <tr>\n",
       "      <th>AGTCACTAGAATCTGACGACACAC</th>\n",
       "      <td>1</td>\n",
       "      <td>0</td>\n",
       "      <td>1</td>\n",
       "      <td>1</td>\n",
       "      <td>UB</td>\n",
       "    </tr>\n",
       "    <tr>\n",
       "      <th>ACATTGGCCTCAATGATTCACGCA</th>\n",
       "      <td>1</td>\n",
       "      <td>0</td>\n",
       "      <td>1</td>\n",
       "      <td>1</td>\n",
       "      <td>UB</td>\n",
       "    </tr>\n",
       "    <tr>\n",
       "      <th>CTCAATGAAACTCACCAATGTTGC</th>\n",
       "      <td>1</td>\n",
       "      <td>0</td>\n",
       "      <td>1</td>\n",
       "      <td>1</td>\n",
       "      <td>UB</td>\n",
       "    </tr>\n",
       "    <tr>\n",
       "      <th>CACCTTACCATACCAAGAGTTAGC</th>\n",
       "      <td>2</td>\n",
       "      <td>2</td>\n",
       "      <td>1</td>\n",
       "      <td>1</td>\n",
       "      <td>UB</td>\n",
       "    </tr>\n",
       "  </tbody>\n",
       "</table>\n",
       "<p>849285 rows × 5 columns</p>\n",
       "</div>"
      ],
      "text/plain": [
       "                          readcount    UMI2    UMI  geneID mark\n",
       "Barcode                                                        \n",
       "AACAACCAGTCGTAGACACCTTAC     210001  181881  76645    6778   CB\n",
       "GTACGCAAGCCAAGACCGAACTTA     189400  176090  52942    2487   CB\n",
       "ACTATGCAAACCGAGACCGACAAC     163141  146897  52730    3240   CB\n",
       "CCTCTATCCAATGGAAGACAGTGC     167824  153922  50412    2548   CB\n",
       "TGGAACAACCTCCTGAACGTATCA     162767  148077  50098    2794   CB\n",
       "...                             ...     ...    ...     ...  ...\n",
       "TAGGATGAACTATGCAAACCGAGA          1       0      1       1   UB\n",
       "AGTCACTAGAATCTGACGACACAC          1       0      1       1   UB\n",
       "ACATTGGCCTCAATGATTCACGCA          1       0      1       1   UB\n",
       "CTCAATGAAACTCACCAATGTTGC          1       0      1       1   UB\n",
       "CACCTTACCATACCAAGAGTTAGC          2       2      1       1   UB\n",
       "\n",
       "[849285 rows x 5 columns]"
      ]
     },
     "execution_count": 130,
     "metadata": {},
     "output_type": "execute_result"
    }
   ],
   "source": [
    "df_sum"
   ]
  },
  {
   "cell_type": "code",
   "execution_count": null,
   "id": "coordinated-anthony",
   "metadata": {},
   "outputs": [],
   "source": []
  },
  {
   "cell_type": "code",
   "execution_count": 132,
   "id": "musical-module",
   "metadata": {},
   "outputs": [
    {
     "data": {
      "text/html": [
       "<div>\n",
       "<style scoped>\n",
       "    .dataframe tbody tr th:only-of-type {\n",
       "        vertical-align: middle;\n",
       "    }\n",
       "\n",
       "    .dataframe tbody tr th {\n",
       "        vertical-align: top;\n",
       "    }\n",
       "\n",
       "    .dataframe thead th {\n",
       "        text-align: right;\n",
       "    }\n",
       "</style>\n",
       "<table border=\"1\" class=\"dataframe\">\n",
       "  <thead>\n",
       "    <tr style=\"text-align: right;\">\n",
       "      <th></th>\n",
       "      <th>readcount</th>\n",
       "      <th>UMI2</th>\n",
       "      <th>UMI</th>\n",
       "      <th>geneID</th>\n",
       "      <th>mark</th>\n",
       "    </tr>\n",
       "    <tr>\n",
       "      <th>Barcode</th>\n",
       "      <th></th>\n",
       "      <th></th>\n",
       "      <th></th>\n",
       "      <th></th>\n",
       "      <th></th>\n",
       "    </tr>\n",
       "  </thead>\n",
       "  <tbody>\n",
       "    <tr>\n",
       "      <th>AACAACCAGTCGTAGACACCTTAC</th>\n",
       "      <td>210001</td>\n",
       "      <td>181881</td>\n",
       "      <td>76645</td>\n",
       "      <td>6778</td>\n",
       "      <td>CB</td>\n",
       "    </tr>\n",
       "    <tr>\n",
       "      <th>GTACGCAAGCCAAGACCGAACTTA</th>\n",
       "      <td>189400</td>\n",
       "      <td>176090</td>\n",
       "      <td>52942</td>\n",
       "      <td>2487</td>\n",
       "      <td>CB</td>\n",
       "    </tr>\n",
       "    <tr>\n",
       "      <th>ACTATGCAAACCGAGACCGACAAC</th>\n",
       "      <td>163141</td>\n",
       "      <td>146897</td>\n",
       "      <td>52730</td>\n",
       "      <td>3240</td>\n",
       "      <td>CB</td>\n",
       "    </tr>\n",
       "    <tr>\n",
       "      <th>CCTCTATCCAATGGAAGACAGTGC</th>\n",
       "      <td>167824</td>\n",
       "      <td>153922</td>\n",
       "      <td>50412</td>\n",
       "      <td>2548</td>\n",
       "      <td>CB</td>\n",
       "    </tr>\n",
       "    <tr>\n",
       "      <th>TGGAACAACCTCCTGAACGTATCA</th>\n",
       "      <td>162767</td>\n",
       "      <td>148077</td>\n",
       "      <td>50098</td>\n",
       "      <td>2794</td>\n",
       "      <td>CB</td>\n",
       "    </tr>\n",
       "    <tr>\n",
       "      <th>...</th>\n",
       "      <td>...</td>\n",
       "      <td>...</td>\n",
       "      <td>...</td>\n",
       "      <td>...</td>\n",
       "      <td>...</td>\n",
       "    </tr>\n",
       "    <tr>\n",
       "      <th>TAGGATGAACTATGCAAACCGAGA</th>\n",
       "      <td>1</td>\n",
       "      <td>0</td>\n",
       "      <td>1</td>\n",
       "      <td>1</td>\n",
       "      <td>UB</td>\n",
       "    </tr>\n",
       "    <tr>\n",
       "      <th>AGTCACTAGAATCTGACGACACAC</th>\n",
       "      <td>1</td>\n",
       "      <td>0</td>\n",
       "      <td>1</td>\n",
       "      <td>1</td>\n",
       "      <td>UB</td>\n",
       "    </tr>\n",
       "    <tr>\n",
       "      <th>ACATTGGCCTCAATGATTCACGCA</th>\n",
       "      <td>1</td>\n",
       "      <td>0</td>\n",
       "      <td>1</td>\n",
       "      <td>1</td>\n",
       "      <td>UB</td>\n",
       "    </tr>\n",
       "    <tr>\n",
       "      <th>CTCAATGAAACTCACCAATGTTGC</th>\n",
       "      <td>1</td>\n",
       "      <td>0</td>\n",
       "      <td>1</td>\n",
       "      <td>1</td>\n",
       "      <td>UB</td>\n",
       "    </tr>\n",
       "    <tr>\n",
       "      <th>CACCTTACCATACCAAGAGTTAGC</th>\n",
       "      <td>2</td>\n",
       "      <td>2</td>\n",
       "      <td>1</td>\n",
       "      <td>1</td>\n",
       "      <td>UB</td>\n",
       "    </tr>\n",
       "  </tbody>\n",
       "</table>\n",
       "<p>849285 rows × 5 columns</p>\n",
       "</div>"
      ],
      "text/plain": [
       "                          readcount    UMI2    UMI  geneID mark\n",
       "Barcode                                                        \n",
       "AACAACCAGTCGTAGACACCTTAC     210001  181881  76645    6778   CB\n",
       "GTACGCAAGCCAAGACCGAACTTA     189400  176090  52942    2487   CB\n",
       "ACTATGCAAACCGAGACCGACAAC     163141  146897  52730    3240   CB\n",
       "CCTCTATCCAATGGAAGACAGTGC     167824  153922  50412    2548   CB\n",
       "TGGAACAACCTCCTGAACGTATCA     162767  148077  50098    2794   CB\n",
       "...                             ...     ...    ...     ...  ...\n",
       "TAGGATGAACTATGCAAACCGAGA          1       0      1       1   UB\n",
       "AGTCACTAGAATCTGACGACACAC          1       0      1       1   UB\n",
       "ACATTGGCCTCAATGATTCACGCA          1       0      1       1   UB\n",
       "CTCAATGAAACTCACCAATGTTGC          1       0      1       1   UB\n",
       "CACCTTACCATACCAAGAGTTAGC          2       2      1       1   UB\n",
       "\n",
       "[849285 rows x 5 columns]"
      ]
     },
     "execution_count": 132,
     "metadata": {},
     "output_type": "execute_result"
    }
   ],
   "source": [
    "df_sum"
   ]
  },
  {
   "cell_type": "code",
   "execution_count": null,
   "id": "indie-boston",
   "metadata": {},
   "outputs": [],
   "source": [
    "idx=6000\n",
    "int(df_sum.iloc[idx - 1, df_sum.columns == 'UMI'])"
   ]
  },
  {
   "cell_type": "code",
   "execution_count": null,
   "id": "internal-mainstream",
   "metadata": {},
   "outputs": [],
   "source": [
    "        df_sum.loc[:, 'mark'] = 'UB'\n",
    "        df_sum.loc[df_sum.index.isin(cell_bc), 'mark'] = 'CB'\n",
    "        df_sum.to_csv('/SGRNJ06/randd/USER/cjj/TESTDATA/git/celescope_test_script/rna/test1/05.count/test.txt', sep='\\t')"
   ]
  },
  {
   "cell_type": "code",
   "execution_count": null,
   "id": "jewish-bargain",
   "metadata": {},
   "outputs": [],
   "source": []
  }
 ],
 "metadata": {
  "kernelspec": {
   "display_name": "cele1.11",
   "language": "python",
   "name": "refactor_trust"
  },
  "language_info": {
   "codemirror_mode": {
    "name": "ipython",
    "version": 3
   },
   "file_extension": ".py",
   "mimetype": "text/x-python",
   "name": "python",
   "nbconvert_exporter": "python",
   "pygments_lexer": "ipython3",
   "version": "3.9.0"
  }
 },
 "nbformat": 4,
 "nbformat_minor": 5
}
