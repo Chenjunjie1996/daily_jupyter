{
 "cells": [
  {
   "cell_type": "code",
   "execution_count": 21,
   "id": "subjective-integrity",
   "metadata": {},
   "outputs": [],
   "source": [
    "import os\n",
    "import glob\n",
    "import pandas as pd "
   ]
  },
  {
   "cell_type": "code",
   "execution_count": 22,
   "id": "systematic-league",
   "metadata": {},
   "outputs": [],
   "source": [
    "path = \"/SGRNJ06/randd/USER/cjj/celedev/vdj10x/20230717mathc_cl/\""
   ]
  },
  {
   "cell_type": "code",
   "execution_count": 23,
   "id": "chubby-investigator",
   "metadata": {},
   "outputs": [],
   "source": [
    "file_list = glob.glob(f\"{path}/*/*/05.match/matched_contig_annotations.csv\")"
   ]
  },
  {
   "cell_type": "code",
   "execution_count": 24,
   "id": "republican-bouquet",
   "metadata": {},
   "outputs": [
    {
     "data": {
      "text/plain": [
       "['/SGRNJ06/randd/USER/cjj/celedev/vdj10x/20230717mathc_cl/tcr/LGF-pbmc-20230506-T-T/05.match/matched_contig_annotations.csv',\n",
       " '/SGRNJ06/randd/USER/cjj/celedev/vdj10x/20230717mathc_cl/tcr/LGF-LN-20230506-T-T/05.match/matched_contig_annotations.csv',\n",
       " '/SGRNJ06/randd/USER/cjj/celedev/vdj10x/20230717mathc_cl/tcr/LGF-normal-20230506-T-T/05.match/matched_contig_annotations.csv',\n",
       " '/SGRNJ06/randd/USER/cjj/celedev/vdj10x/20230717mathc_cl/tcr/LGF-tumor-20230506-T-T/05.match/matched_contig_annotations.csv',\n",
       " '/SGRNJ06/randd/USER/cjj/celedev/vdj10x/20230717mathc_cl/bcr/LGF-pbmc-20230506-B-B/05.match/matched_contig_annotations.csv',\n",
       " '/SGRNJ06/randd/USER/cjj/celedev/vdj10x/20230717mathc_cl/bcr/LGF-LN-20230506-B-B/05.match/matched_contig_annotations.csv',\n",
       " '/SGRNJ06/randd/USER/cjj/celedev/vdj10x/20230717mathc_cl/bcr/LGF-tumor-20230506-B-B/05.match/matched_contig_annotations.csv',\n",
       " '/SGRNJ06/randd/USER/cjj/celedev/vdj10x/20230717mathc_cl/bcr/LGF-normal-20230506-B-B/05.match/matched_contig_annotations.csv']"
      ]
     },
     "execution_count": 24,
     "metadata": {},
     "output_type": "execute_result"
    }
   ],
   "source": [
    "file_list"
   ]
  },
  {
   "cell_type": "code",
   "execution_count": 25,
   "id": "pleased-africa",
   "metadata": {},
   "outputs": [],
   "source": [
    "sample_list = [i.split('/')[-3] for i in file_list]"
   ]
  },
  {
   "cell_type": "code",
   "execution_count": 26,
   "id": "proud-comparative",
   "metadata": {},
   "outputs": [
    {
     "data": {
      "text/plain": [
       "['LGF-pbmc-20230506-T-T',\n",
       " 'LGF-LN-20230506-T-T',\n",
       " 'LGF-normal-20230506-T-T',\n",
       " 'LGF-tumor-20230506-T-T',\n",
       " 'LGF-pbmc-20230506-B-B',\n",
       " 'LGF-LN-20230506-B-B',\n",
       " 'LGF-tumor-20230506-B-B',\n",
       " 'LGF-normal-20230506-B-B']"
      ]
     },
     "execution_count": 26,
     "metadata": {},
     "output_type": "execute_result"
    }
   ],
   "source": [
    "sample_list"
   ]
  },
  {
   "cell_type": "code",
   "execution_count": 27,
   "id": "forced-potato",
   "metadata": {},
   "outputs": [],
   "source": [
    "for i in range(len(file_list)):\n",
    "    df = pd.read_csv(file_list[i])\n",
    "    df['high_confidence'] = 'true'\n",
    "    df.to_csv(f\"/SGRNJ06/randd/USER/cjj/celedev/vdj10x/20230717mathc_cl/result/{sample_list[i]}/filtered_contig_annotations.csv\", sep=',', index=False)"
   ]
  },
  {
   "cell_type": "code",
   "execution_count": 7,
   "id": "assisted-madonna",
   "metadata": {},
   "outputs": [],
   "source": []
  },
  {
   "cell_type": "code",
   "execution_count": 28,
   "id": "retired-saver",
   "metadata": {},
   "outputs": [],
   "source": [
    "# fasta\n",
    "file_list = glob.glob(f\"{path}/*/*/05.match/matched_contig.fasta\")"
   ]
  },
  {
   "cell_type": "code",
   "execution_count": 29,
   "id": "wrong-shame",
   "metadata": {},
   "outputs": [
    {
     "data": {
      "text/plain": [
       "['/SGRNJ06/randd/USER/cjj/celedev/vdj10x/20230717mathc_cl/tcr/LGF-pbmc-20230506-T-T/05.match/matched_contig.fasta',\n",
       " '/SGRNJ06/randd/USER/cjj/celedev/vdj10x/20230717mathc_cl/tcr/LGF-LN-20230506-T-T/05.match/matched_contig.fasta',\n",
       " '/SGRNJ06/randd/USER/cjj/celedev/vdj10x/20230717mathc_cl/tcr/LGF-normal-20230506-T-T/05.match/matched_contig.fasta',\n",
       " '/SGRNJ06/randd/USER/cjj/celedev/vdj10x/20230717mathc_cl/tcr/LGF-tumor-20230506-T-T/05.match/matched_contig.fasta',\n",
       " '/SGRNJ06/randd/USER/cjj/celedev/vdj10x/20230717mathc_cl/bcr/LGF-pbmc-20230506-B-B/05.match/matched_contig.fasta',\n",
       " '/SGRNJ06/randd/USER/cjj/celedev/vdj10x/20230717mathc_cl/bcr/LGF-LN-20230506-B-B/05.match/matched_contig.fasta',\n",
       " '/SGRNJ06/randd/USER/cjj/celedev/vdj10x/20230717mathc_cl/bcr/LGF-tumor-20230506-B-B/05.match/matched_contig.fasta',\n",
       " '/SGRNJ06/randd/USER/cjj/celedev/vdj10x/20230717mathc_cl/bcr/LGF-normal-20230506-B-B/05.match/matched_contig.fasta']"
      ]
     },
     "execution_count": 29,
     "metadata": {},
     "output_type": "execute_result"
    }
   ],
   "source": [
    "file_list"
   ]
  },
  {
   "cell_type": "code",
   "execution_count": 30,
   "id": "organic-placement",
   "metadata": {},
   "outputs": [],
   "source": [
    "for i in range(len(file_list)):\n",
    "    os.system(f\"cp {file_list[i]} /SGRNJ06/randd/USER/cjj/celedev/vdj10x/20230717mathc_cl/result/{sample_list[i]}/filtered_contig.fasta\")"
   ]
  },
  {
   "cell_type": "code",
   "execution_count": null,
   "id": "bronze-absolute",
   "metadata": {},
   "outputs": [],
   "source": []
  },
  {
   "cell_type": "code",
   "execution_count": 35,
   "id": "adapted-storage",
   "metadata": {},
   "outputs": [],
   "source": [
    "file_list = glob.glob(f\"{path}/*/*/05.match/matched_clonotypes.csv\")"
   ]
  },
  {
   "cell_type": "code",
   "execution_count": 36,
   "id": "consecutive-australian",
   "metadata": {},
   "outputs": [
    {
     "data": {
      "text/plain": [
       "['/SGRNJ06/randd/USER/cjj/celedev/vdj10x/20230717mathc_cl/tcr/LGF-pbmc-20230506-T-T/05.match/matched_clonotypes.csv',\n",
       " '/SGRNJ06/randd/USER/cjj/celedev/vdj10x/20230717mathc_cl/tcr/LGF-LN-20230506-T-T/05.match/matched_clonotypes.csv',\n",
       " '/SGRNJ06/randd/USER/cjj/celedev/vdj10x/20230717mathc_cl/tcr/LGF-normal-20230506-T-T/05.match/matched_clonotypes.csv',\n",
       " '/SGRNJ06/randd/USER/cjj/celedev/vdj10x/20230717mathc_cl/tcr/LGF-tumor-20230506-T-T/05.match/matched_clonotypes.csv',\n",
       " '/SGRNJ06/randd/USER/cjj/celedev/vdj10x/20230717mathc_cl/bcr/LGF-pbmc-20230506-B-B/05.match/matched_clonotypes.csv',\n",
       " '/SGRNJ06/randd/USER/cjj/celedev/vdj10x/20230717mathc_cl/bcr/LGF-LN-20230506-B-B/05.match/matched_clonotypes.csv',\n",
       " '/SGRNJ06/randd/USER/cjj/celedev/vdj10x/20230717mathc_cl/bcr/LGF-tumor-20230506-B-B/05.match/matched_clonotypes.csv',\n",
       " '/SGRNJ06/randd/USER/cjj/celedev/vdj10x/20230717mathc_cl/bcr/LGF-normal-20230506-B-B/05.match/matched_clonotypes.csv']"
      ]
     },
     "execution_count": 36,
     "metadata": {},
     "output_type": "execute_result"
    }
   ],
   "source": [
    "file_list"
   ]
  },
  {
   "cell_type": "code",
   "execution_count": 37,
   "id": "dedicated-blake",
   "metadata": {},
   "outputs": [],
   "source": [
    "for i in range(len(file_list)):\n",
    "    os.system(f\"cp {file_list[i]} /SGRNJ06/randd/USER/cjj/celedev/vdj10x/20230717mathc_cl/result/{sample_list[i]}/clonotypes.csv\")"
   ]
  },
  {
   "cell_type": "code",
   "execution_count": null,
   "id": "wrong-baltimore",
   "metadata": {},
   "outputs": [],
   "source": []
  },
  {
   "cell_type": "code",
   "execution_count": 38,
   "id": "stainless-runner",
   "metadata": {},
   "outputs": [],
   "source": [
    "# report\n",
    "file_list = glob.glob(f\"{path}/*/*/*.html\")"
   ]
  },
  {
   "cell_type": "code",
   "execution_count": 39,
   "id": "advisory-kidney",
   "metadata": {},
   "outputs": [
    {
     "data": {
      "text/plain": [
       "['/SGRNJ06/randd/USER/cjj/celedev/vdj10x/20230717mathc_cl/tcr/LGF-pbmc-20230506-T-T/LGF-pbmc-20230506-T-T_report.html',\n",
       " '/SGRNJ06/randd/USER/cjj/celedev/vdj10x/20230717mathc_cl/tcr/LGF-LN-20230506-T-T/LGF-LN-20230506-T-T_report.html',\n",
       " '/SGRNJ06/randd/USER/cjj/celedev/vdj10x/20230717mathc_cl/tcr/LGF-normal-20230506-T-T/LGF-normal-20230506-T-T_report.html',\n",
       " '/SGRNJ06/randd/USER/cjj/celedev/vdj10x/20230717mathc_cl/tcr/LGF-tumor-20230506-T-T/LGF-tumor-20230506-T-T_report.html',\n",
       " '/SGRNJ06/randd/USER/cjj/celedev/vdj10x/20230717mathc_cl/bcr/LGF-pbmc-20230506-B-B/LGF-pbmc-20230506-B-B_report.html',\n",
       " '/SGRNJ06/randd/USER/cjj/celedev/vdj10x/20230717mathc_cl/bcr/LGF-LN-20230506-B-B/LGF-LN-20230506-B-B_report.html',\n",
       " '/SGRNJ06/randd/USER/cjj/celedev/vdj10x/20230717mathc_cl/bcr/LGF-tumor-20230506-B-B/LGF-tumor-20230506-B-B_report.html',\n",
       " '/SGRNJ06/randd/USER/cjj/celedev/vdj10x/20230717mathc_cl/bcr/LGF-normal-20230506-B-B/LGF-normal-20230506-B-B_report.html']"
      ]
     },
     "execution_count": 39,
     "metadata": {},
     "output_type": "execute_result"
    }
   ],
   "source": [
    "file_list"
   ]
  },
  {
   "cell_type": "code",
   "execution_count": 41,
   "id": "better-indian",
   "metadata": {},
   "outputs": [],
   "source": [
    "for i in range(len(file_list)):\n",
    "    os.system(f\"cp {file_list[i]} /SGRNJ06/randd/USER/cjj/celedev/vdj10x/20230717mathc_cl/result/{sample_list[i]}/\")"
   ]
  },
  {
   "cell_type": "code",
   "execution_count": null,
   "id": "lyric-blair",
   "metadata": {},
   "outputs": [],
   "source": []
  }
 ],
 "metadata": {
  "kernelspec": {
   "display_name": "trust4_1.7",
   "language": "python",
   "name": "trust4_1.7"
  },
  "language_info": {
   "codemirror_mode": {
    "name": "ipython",
    "version": 3
   },
   "file_extension": ".py",
   "mimetype": "text/x-python",
   "name": "python",
   "nbconvert_exporter": "python",
   "pygments_lexer": "ipython3",
   "version": "3.7.10"
  }
 },
 "nbformat": 4,
 "nbformat_minor": 5
}
