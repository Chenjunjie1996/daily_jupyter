{
 "cells": [
  {
   "cell_type": "code",
   "execution_count": null,
   "id": "experienced-transparency",
   "metadata": {},
   "outputs": [],
   "source": [
    "import pandas as pd\n",
    "import pysam"
   ]
  },
  {
   "cell_type": "code",
   "execution_count": null,
   "id": "seeing-effort",
   "metadata": {},
   "outputs": [],
   "source": [
    "contig = pd.read_csv('/SGRNJ06/randd/USER/cjj/celedev/vdj10x/20220629no_match/BCRLFBVC220616037X1CK/03.assemble/BCRLFBVC220616037X1CK/outs/consensus_annotations.csv')"
   ]
  },
  {
   "cell_type": "code",
   "execution_count": null,
   "id": "continuing-berkeley",
   "metadata": {},
   "outputs": [],
   "source": [
    "contig['id_num'] = contig['clonotype_id'].apply(lambda x: int(x[9:]))"
   ]
  },
  {
   "cell_type": "code",
   "execution_count": null,
   "id": "entertaining-tattoo",
   "metadata": {},
   "outputs": [],
   "source": [
    "contig.sort_values('id_num',inplace=True)"
   ]
  },
  {
   "cell_type": "code",
   "execution_count": null,
   "id": "julian-holder",
   "metadata": {},
   "outputs": [],
   "source": [
    "del contig['id_num']"
   ]
  },
  {
   "cell_type": "code",
   "execution_count": null,
   "id": "pregnant-worth",
   "metadata": {},
   "outputs": [],
   "source": [
    "contig"
   ]
  },
  {
   "cell_type": "code",
   "execution_count": null,
   "id": "confused-lancaster",
   "metadata": {},
   "outputs": [],
   "source": [
    "seq_dict =  dict()"
   ]
  },
  {
   "cell_type": "code",
   "execution_count": null,
   "id": "recovered-hartford",
   "metadata": {},
   "outputs": [],
   "source": [
    "with pysam.FastxFile('/SGRNJ06/randd/USER/cjj/celedev/vdj10x/20220629no_match/BCRLFBVC220616037X1CK/03.assemble/BCRLFBVC220616037X1CK/outs/consensus.fasta') as f:\n",
    "    for read in f:\n",
    "        seq_dict[read.name] = read.sequence"
   ]
  },
  {
   "cell_type": "code",
   "execution_count": null,
   "id": "unlimited-chess",
   "metadata": {},
   "outputs": [],
   "source": [
    "df_seq = pd.DataFrame.from_dict(seq_dict, orient='index', columns=['seq'])"
   ]
  },
  {
   "cell_type": "code",
   "execution_count": null,
   "id": "charming-registrar",
   "metadata": {},
   "outputs": [],
   "source": [
    "df_seq"
   ]
  },
  {
   "cell_type": "code",
   "execution_count": null,
   "id": "proper-membrane",
   "metadata": {},
   "outputs": [],
   "source": [
    "df_seq = df_seq.rename_axis('consensus_id').reset_index()"
   ]
  },
  {
   "cell_type": "code",
   "execution_count": null,
   "id": "parliamentary-finance",
   "metadata": {},
   "outputs": [],
   "source": [
    "df_seq"
   ]
  },
  {
   "cell_type": "code",
   "execution_count": null,
   "id": "terminal-replication",
   "metadata": {},
   "outputs": [],
   "source": [
    "df_merge = pd.merge(contig,df_seq,on='consensus_id')"
   ]
  },
  {
   "cell_type": "code",
   "execution_count": null,
   "id": "verified-blind",
   "metadata": {},
   "outputs": [],
   "source": [
    "df_merge"
   ]
  },
  {
   "cell_type": "code",
   "execution_count": null,
   "id": "aggressive-better",
   "metadata": {},
   "outputs": [],
   "source": [
    "clonotype_count = pd.read_csv('/SGRNJ06/randd/USER/cjj/celedev/vdj10x/20220629no_match/BCRLFBVC220616037X1CK/03.assemble/BCRLFBVC220616037X1CK/outs/clonotypes.csv')"
   ]
  },
  {
   "cell_type": "code",
   "execution_count": null,
   "id": "spectacular-criticism",
   "metadata": {},
   "outputs": [],
   "source": [
    "clonotype_count = clonotype_count[['clonotype_id','frequency']]"
   ]
  },
  {
   "cell_type": "code",
   "execution_count": null,
   "id": "absolute-suicide",
   "metadata": {},
   "outputs": [],
   "source": [
    "df_merge = pd.merge(df_merge,clonotype_count,on='clonotype_id')"
   ]
  },
  {
   "cell_type": "code",
   "execution_count": null,
   "id": "dried-algeria",
   "metadata": {},
   "outputs": [],
   "source": [
    "df_merge['id_num'] = df_merge['clonotype_id'].apply(lambda x: int(x[9:]))\n",
    "\n",
    "df_merge.sort_values(['id_num','chain'],inplace=True)"
   ]
  },
  {
   "cell_type": "code",
   "execution_count": null,
   "id": "painful-product",
   "metadata": {},
   "outputs": [],
   "source": [
    "del df_merge['id_num']"
   ]
  },
  {
   "cell_type": "code",
   "execution_count": null,
   "id": "color-peter",
   "metadata": {},
   "outputs": [],
   "source": [
    "df_merge"
   ]
  },
  {
   "cell_type": "code",
   "execution_count": null,
   "id": "ecological-cigarette",
   "metadata": {},
   "outputs": [],
   "source": [
    "clonotype_id_list = list(df_merge.clonotype_id.unique())"
   ]
  },
  {
   "cell_type": "code",
   "execution_count": null,
   "id": "crude-pillow",
   "metadata": {},
   "outputs": [],
   "source": [
    "clonotype_id_list"
   ]
  },
  {
   "cell_type": "code",
   "execution_count": null,
   "id": "sensitive-supervisor",
   "metadata": {},
   "outputs": [],
   "source": [
    "outfile = open('/SGRNJ06/randd/USER/cjj/celedev/vdj10x/20220704anno_seq/anno_seq_aa.fasta','w')"
   ]
  },
  {
   "cell_type": "code",
   "execution_count": null,
   "id": "alleged-accent",
   "metadata": {},
   "outputs": [],
   "source": [
    "outfile.write(\"Clonotype(clonotype_id|V-gene|D-gene|J-gene|CDR3|C-gene|)\\tCell_Number\\tCgene\\tSequence\\n\")\n",
    "for i in clonotype_id_list:\n",
    "    df_tmp = df_merge[df_merge['clonotype_id']==i]\n",
    "    outfile.write(f'{list(df_tmp.clonotype_id)[0]}|')\n",
    "    for i in range(df_tmp.shape[0]):\n",
    "        outfile.write(f'{list(df_tmp.v_gene)[i]}|{list(df_tmp.d_gene)[i]}|{list(df_tmp.j_gene)[i]}|{list(df_tmp.cdr3)[i]}|{list(df_tmp.c_gene)[i]}|')\n",
    "    outfile.write(f'\\t{list(df_tmp.frequency)[0]}\\t')\n",
    "    outfile.write('|'.join(list(df_tmp.c_gene)))\n",
    "    outfile.write('\\n')\n",
    "    for i in range(df_tmp.shape[0]):\n",
    "        outfile.write(f'ChianType:{list(df_tmp.chain)[i]}\\n{list(df_tmp.seq)[i]}\\n')\n",
    "        #outfile.write('\\n'.join(list(df_tmp.seq)))\n",
    "    # outfile.write('\\n')"
   ]
  },
  {
   "cell_type": "code",
   "execution_count": null,
   "id": "competent-original",
   "metadata": {},
   "outputs": [],
   "source": [
    "outfile.close()"
   ]
  },
  {
   "cell_type": "code",
   "execution_count": null,
   "id": "cordless-intermediate",
   "metadata": {},
   "outputs": [],
   "source": [
    "# aa \n",
    "from Bio.Seq import Seq"
   ]
  },
  {
   "cell_type": "code",
   "execution_count": null,
   "id": "focused-tribe",
   "metadata": {},
   "outputs": [],
   "source": [
    "df_merge['seq_aa'] = df_merge['seq'].apply(lambda x: str(Seq(x).translate()))"
   ]
  },
  {
   "cell_type": "code",
   "execution_count": null,
   "id": "muslim-cinema",
   "metadata": {},
   "outputs": [],
   "source": [
    "df_merge"
   ]
  },
  {
   "cell_type": "code",
   "execution_count": null,
   "id": "delayed-drilling",
   "metadata": {},
   "outputs": [],
   "source": [
    "df_tmp = df_merge[df_merge['clonotype_id']=='clonotype2310']"
   ]
  },
  {
   "cell_type": "code",
   "execution_count": null,
   "id": "grateful-account",
   "metadata": {},
   "outputs": [],
   "source": [
    "list(df_tmp.chain)"
   ]
  },
  {
   "cell_type": "code",
   "execution_count": null,
   "id": "appropriate-willow",
   "metadata": {},
   "outputs": [],
   "source": [
    "df_tmp.sort_values('chain')"
   ]
  },
  {
   "cell_type": "code",
   "execution_count": null,
   "id": "modern-literature",
   "metadata": {},
   "outputs": [],
   "source": []
  },
  {
   "cell_type": "code",
   "execution_count": null,
   "id": "verbal-liberia",
   "metadata": {},
   "outputs": [],
   "source": [
    "# pieplot\n",
    "import matplotlib.pyplot as plt\n",
    "import pandas as pd"
   ]
  },
  {
   "cell_type": "code",
   "execution_count": null,
   "id": "checked-studio",
   "metadata": {},
   "outputs": [],
   "source": [
    "contig = pd.read_csv('/SGRNJ06/randd/USER/cjj/celedev/vdj10x/20220629no_match/BCRLFBVC220616037X1CK/04.summarize/productive_contig_annotations.csv')"
   ]
  },
  {
   "cell_type": "code",
   "execution_count": null,
   "id": "constitutional-interaction",
   "metadata": {},
   "outputs": [],
   "source": [
    "contig"
   ]
  },
  {
   "cell_type": "code",
   "execution_count": null,
   "id": "classical-devices",
   "metadata": {},
   "outputs": [],
   "source": [
    "with pysam.FastxFile('/SGRNJ06/randd/USER/cjj/celedev/vdj10x/20220629no_match/BCRLFBVC220616037X1CK/04.summarize/productive_contig.fasta') as f:\n",
    "    for read in f:\n",
    "        print(str(Seq(read.sequence).translate()))"
   ]
  },
  {
   "cell_type": "code",
   "execution_count": null,
   "id": "swedish-blank",
   "metadata": {},
   "outputs": [],
   "source": [
    "contig['seq_aa'] = contig['seq'].apply(lambda x: str(Seq(x).translate()))"
   ]
  },
  {
   "cell_type": "code",
   "execution_count": null,
   "id": "robust-decision",
   "metadata": {},
   "outputs": [],
   "source": [
    "contig"
   ]
  },
  {
   "cell_type": "code",
   "execution_count": null,
   "id": "premier-doubt",
   "metadata": {},
   "outputs": [],
   "source": [
    "df_h = contig[contig['chain']=='IGH']\n",
    "df_l = contig[contig['chain']!='IGH']"
   ]
  },
  {
   "cell_type": "code",
   "execution_count": null,
   "id": "native-russian",
   "metadata": {},
   "outputs": [],
   "source": [
    "df_h.sort_values('c_gene', ascending=False,inplace=True)"
   ]
  },
  {
   "cell_type": "code",
   "execution_count": null,
   "id": "experimental-contamination",
   "metadata": {},
   "outputs": [],
   "source": [
    "df_h"
   ]
  },
  {
   "cell_type": "code",
   "execution_count": null,
   "id": "wound-essence",
   "metadata": {},
   "outputs": [],
   "source": [
    "df_h.groupby('c_gene')['raw_clonotype_id'].count().to_dict()"
   ]
  },
  {
   "cell_type": "code",
   "execution_count": null,
   "id": "alpine-factor",
   "metadata": {},
   "outputs": [],
   "source": [
    "tmp_dict = df_h.groupby('c_gene')['raw_clonotype_id'].count().to_dict()"
   ]
  },
  {
   "cell_type": "code",
   "execution_count": null,
   "id": "spoken-senegal",
   "metadata": {},
   "outputs": [],
   "source": [
    "del(tmp_dict['None'])"
   ]
  },
  {
   "cell_type": "code",
   "execution_count": null,
   "id": "friendly-stable",
   "metadata": {},
   "outputs": [],
   "source": [
    "tmp_dict"
   ]
  },
  {
   "cell_type": "code",
   "execution_count": null,
   "id": "individual-ceremony",
   "metadata": {},
   "outputs": [],
   "source": [
    "tmp_dict,reverse_tmp_dict = sorted(tmp_dict.items(),key=lambda x:x[1]), sorted(tmp_dict.items(),key=lambda x:x[1], reverse=True)"
   ]
  },
  {
   "cell_type": "code",
   "execution_count": null,
   "id": "digital-capital",
   "metadata": {},
   "outputs": [],
   "source": [
    "reverse_tmp_dict"
   ]
  },
  {
   "cell_type": "code",
   "execution_count": null,
   "id": "patient-italian",
   "metadata": {},
   "outputs": [],
   "source": [
    "label, value = [], []\n",
    "if len(tmp_dict) % 2 == 0:\n",
    "    for i in range(len(tmp_dict)//2):\n",
    "        label.append(tmp_dict[i][0])\n",
    "        label.append(reverse_tmp_dict[i][0])\n",
    "        value.append(tmp_dict[i][1])\n",
    "        value.append(reverse_tmp_dict[i][1])\n",
    "else:\n",
    "    for i in range(len(tmp_dict)//2):\n",
    "        label.append(tmp_dict[i][0])\n",
    "        label.append(reverse_tmp_dict[i][0])\n",
    "        value.append(tmp_dict[i][1])\n",
    "        value.append(reverse_tmp_dict[i][1])\n",
    "    label.append(tmp_dict[len(tmp_dict)//2][0])\n",
    "    value.append(tmp_dict[len(tmp_dict)//2][1])"
   ]
  },
  {
   "cell_type": "code",
   "execution_count": null,
   "id": "union-being",
   "metadata": {},
   "outputs": [],
   "source": [
    "label"
   ]
  },
  {
   "cell_type": "code",
   "execution_count": null,
   "id": "official-narrative",
   "metadata": {},
   "outputs": [],
   "source": [
    "value"
   ]
  },
  {
   "cell_type": "code",
   "execution_count": null,
   "id": "smooth-cancellation",
   "metadata": {},
   "outputs": [],
   "source": [
    "value = list(tmp_dict.values())\n",
    "label = list(tmp_dict.keys())"
   ]
  },
  {
   "cell_type": "code",
   "execution_count": null,
   "id": "decimal-curtis",
   "metadata": {},
   "outputs": [],
   "source": [
    "value.sort()"
   ]
  },
  {
   "cell_type": "code",
   "execution_count": null,
   "id": "stuck-theta",
   "metadata": {},
   "outputs": [],
   "source": [
    "value"
   ]
  },
  {
   "cell_type": "code",
   "execution_count": null,
   "id": "stone-midnight",
   "metadata": {},
   "outputs": [],
   "source": [
    "label"
   ]
  },
  {
   "cell_type": "code",
   "execution_count": null,
   "id": "pressing-result",
   "metadata": {},
   "outputs": [],
   "source": [
    "value = [value[1],value[0],value[2],value[3]]\n",
    "label = [label[1],label[0],label[2],label[3]]"
   ]
  },
  {
   "cell_type": "code",
   "execution_count": null,
   "id": "speaking-expansion",
   "metadata": {},
   "outputs": [],
   "source": [
    "plt.pie(value, labels=label,autopct='%.2f%%',pctdistance=0.8,explode=(0.1,0.1,0.1,0.1))\n",
    "plt.title('IG types')\n",
    "plt.savefig('/SGRNJ06/randd/USER/cjj/celedev/vdj10x/20220713anno_seq/igl.png', dpi=280)"
   ]
  },
  {
   "cell_type": "code",
   "execution_count": null,
   "id": "colonial-crime",
   "metadata": {},
   "outputs": [],
   "source": []
  },
  {
   "cell_type": "code",
   "execution_count": null,
   "id": "collaborative-extra",
   "metadata": {},
   "outputs": [],
   "source": [
    "df_h[df_h['c_gene']=='None']"
   ]
  },
  {
   "cell_type": "code",
   "execution_count": null,
   "id": "southeast-louis",
   "metadata": {},
   "outputs": [],
   "source": [
    "test = df_merge.groupby('clonotype_id')['chain'].count().to_dict()"
   ]
  },
  {
   "cell_type": "code",
   "execution_count": null,
   "id": "lasting-pendant",
   "metadata": {},
   "outputs": [],
   "source": [
    "count_1=0\n",
    "count_3=0\n",
    "for k,v in test.items():\n",
    "    if v==1:\n",
    "        count_1 +=1\n",
    "    if v>=3:\n",
    "        count_3 +=1"
   ]
  },
  {
   "cell_type": "code",
   "execution_count": null,
   "id": "upper-printing",
   "metadata": {},
   "outputs": [],
   "source": []
  },
  {
   "cell_type": "code",
   "execution_count": null,
   "id": "premier-scene",
   "metadata": {},
   "outputs": [],
   "source": []
  },
  {
   "cell_type": "code",
   "execution_count": null,
   "id": "broken-honduras",
   "metadata": {},
   "outputs": [],
   "source": []
  },
  {
   "cell_type": "code",
   "execution_count": null,
   "id": "exact-dictionary",
   "metadata": {},
   "outputs": [],
   "source": []
  },
  {
   "cell_type": "code",
   "execution_count": null,
   "id": "nasty-portal",
   "metadata": {},
   "outputs": [],
   "source": [
    "# 7.13 "
   ]
  },
  {
   "cell_type": "code",
   "execution_count": null,
   "id": "dietary-passenger",
   "metadata": {},
   "outputs": [],
   "source": [
    "import pandas as pd\n",
    "import pysam\n",
    "import matplotlib.pyplot as plt\n",
    "import pandas as pd"
   ]
  },
  {
   "cell_type": "code",
   "execution_count": null,
   "id": "willing-forum",
   "metadata": {},
   "outputs": [],
   "source": [
    "airr = pd.read_csv('/SGRNJ06/randd/USER/cjj/celedev/vdj10x/20220629no_match/BCRLFBVC220616037X1CK/03.assemble/BCRLFBVC220616037X1CK/outs/airr_rearrangement.tsv',sep='\\t')"
   ]
  },
  {
   "cell_type": "code",
   "execution_count": null,
   "id": "fleet-october",
   "metadata": {},
   "outputs": [],
   "source": [
    "airr"
   ]
  },
  {
   "cell_type": "code",
   "execution_count": null,
   "id": "complete-desert",
   "metadata": {},
   "outputs": [],
   "source": [
    "contig = pd.read_csv('/SGRNJ06/randd/USER/cjj/celedev/vdj10x/20220629no_match/BCRLFBVC220616037X1CK/03.assemble/BCRLFBVC220616037X1CK/outs/filtered_contig_annotations.csv')"
   ]
  },
  {
   "cell_type": "code",
   "execution_count": null,
   "id": "convertible-singing",
   "metadata": {},
   "outputs": [],
   "source": [
    "contig = contig[contig['productive']==True]"
   ]
  },
  {
   "cell_type": "code",
   "execution_count": null,
   "id": "characteristic-upper",
   "metadata": {},
   "outputs": [],
   "source": [
    "contig"
   ]
  },
  {
   "cell_type": "code",
   "execution_count": null,
   "id": "received-right",
   "metadata": {},
   "outputs": [],
   "source": [
    "contig = contig[['contig_id','raw_clonotype_id','cdr3']]"
   ]
  },
  {
   "cell_type": "code",
   "execution_count": null,
   "id": "greek-batch",
   "metadata": {},
   "outputs": [],
   "source": [
    "contig.rename(columns={'contig_id':'sequence_id'},inplace=True)"
   ]
  },
  {
   "cell_type": "code",
   "execution_count": null,
   "id": "regulated-cloud",
   "metadata": {},
   "outputs": [],
   "source": [
    "df_merge = pd.merge(airr,contig,on='sequence_id',how='inner')\n",
    "del df_merge['clone_id']"
   ]
  },
  {
   "cell_type": "code",
   "execution_count": null,
   "id": "handled-friendship",
   "metadata": {},
   "outputs": [],
   "source": [
    "df_merge.rename(columns={'raw_clonotype_id':'clonotype_id'},inplace=True)"
   ]
  },
  {
   "cell_type": "code",
   "execution_count": null,
   "id": "lesbian-newark",
   "metadata": {},
   "outputs": [],
   "source": [
    "df_merge"
   ]
  },
  {
   "cell_type": "code",
   "execution_count": null,
   "id": "burning-indicator",
   "metadata": {},
   "outputs": [],
   "source": [
    "clonotype = pd.read_csv('/SGRNJ06/randd/USER/cjj/celedev/vdj10x/20220629no_match/BCRLFBVC220616037X1CK/03.assemble/BCRLFBVC220616037X1CK/outs/clonotypes.csv')"
   ]
  },
  {
   "cell_type": "code",
   "execution_count": null,
   "id": "latter-forty",
   "metadata": {},
   "outputs": [],
   "source": [
    "clonotype = clonotype[['clonotype_id','frequency']]"
   ]
  },
  {
   "cell_type": "code",
   "execution_count": null,
   "id": "square-indication",
   "metadata": {},
   "outputs": [],
   "source": [
    "clonotype"
   ]
  },
  {
   "cell_type": "code",
   "execution_count": null,
   "id": "moving-raise",
   "metadata": {},
   "outputs": [],
   "source": [
    "df_merge_f = pd.merge(df_merge,clonotype,on='clonotype_id')"
   ]
  },
  {
   "cell_type": "code",
   "execution_count": null,
   "id": "intensive-resort",
   "metadata": {},
   "outputs": [],
   "source": [
    "df_merge_f['chain'] = df_merge_f['v_call'].apply(lambda x:x[:3])"
   ]
  },
  {
   "cell_type": "code",
   "execution_count": null,
   "id": "cubic-overhead",
   "metadata": {},
   "outputs": [],
   "source": [
    "df_merge_f"
   ]
  },
  {
   "cell_type": "code",
   "execution_count": null,
   "id": "paperback-spanish",
   "metadata": {},
   "outputs": [],
   "source": [
    "df_merge_f['id_num'] = df_merge_f['clonotype_id'].apply(lambda x: int(x[9:]))\n",
    "df_merge_f.sort_values(['id_num','chain'],inplace=True)"
   ]
  },
  {
   "cell_type": "code",
   "execution_count": null,
   "id": "quantitative-filing",
   "metadata": {},
   "outputs": [],
   "source": [
    "del df_merge_f['id_num']\n",
    "del df_merge_f['sequence']\n",
    "del df_merge_f['productive']\n",
    "del df_merge_f['rev_comp']\n",
    "del df_merge_f['v_cigar']\n",
    "del df_merge_f['d_cigar']\n",
    "del df_merge_f['j_cigar']\n",
    "del df_merge_f['c_cigar']\n",
    "del df_merge_f['sequence_alignment']\n",
    "del df_merge_f['germline_alignment']\n",
    "del df_merge_f['junction']\n",
    "del df_merge_f['junction_aa']\n",
    "del df_merge_f['junction_length']\n",
    "del df_merge_f['junction_aa_length']\n",
    "del df_merge_f['v_sequence_start']\n",
    "del df_merge_f['v_sequence_end']\n",
    "del df_merge_f['d_sequence_start']\n",
    "del df_merge_f['d_sequence_end']\n",
    "del df_merge_f['j_sequence_start']\n",
    "del df_merge_f['j_sequence_end']\n",
    "del df_merge_f['c_sequence_start']\n",
    "del df_merge_f['c_sequence_end']\n",
    "del df_merge_f['consensus_count']\n",
    "del df_merge_f['duplicate_count']\n",
    "del df_merge_f['is_cell']"
   ]
  },
  {
   "cell_type": "code",
   "execution_count": null,
   "id": "measured-medicaid",
   "metadata": {},
   "outputs": [],
   "source": [
    "df_merge_f"
   ]
  },
  {
   "cell_type": "code",
   "execution_count": null,
   "id": "greatest-exploration",
   "metadata": {},
   "outputs": [],
   "source": [
    "df_merge_f.drop_duplicates(['clonotype_id','chain'],inplace=True)"
   ]
  },
  {
   "cell_type": "code",
   "execution_count": null,
   "id": "disciplinary-receipt",
   "metadata": {},
   "outputs": [],
   "source": [
    "df_merge_f = df_merge_f.where(df_merge_f.notnull(),'None')"
   ]
  },
  {
   "cell_type": "code",
   "execution_count": null,
   "id": "skilled-closer",
   "metadata": {},
   "outputs": [],
   "source": [
    "clonotype_id_list = list(df_merge_f.clonotype_id.unique())"
   ]
  },
  {
   "cell_type": "code",
   "execution_count": null,
   "id": "increased-subsection",
   "metadata": {},
   "outputs": [],
   "source": [
    "clonotype_id_list"
   ]
  },
  {
   "cell_type": "code",
   "execution_count": null,
   "id": "alternative-dodge",
   "metadata": {},
   "outputs": [],
   "source": [
    "df_merge_f"
   ]
  },
  {
   "cell_type": "code",
   "execution_count": null,
   "id": "chronic-ethernet",
   "metadata": {},
   "outputs": [],
   "source": [
    "outfile = open('/SGRNJ06/randd/USER/cjj/celedev/vdj10x/20220713anno_seq/test.fasta','w')"
   ]
  },
  {
   "cell_type": "code",
   "execution_count": null,
   "id": "compatible-boring",
   "metadata": {},
   "outputs": [],
   "source": [
    "outfile.write(\"Clonotype(clonotype_id|V-gene|D-gene|J-gene|CDR3|C-gene|)\\tCell_Number\\tCgene\\tSequence\\n\")\n",
    "for i in clonotype_id_list:\n",
    "    df_tmp = df_merge_f[df_merge_f['clonotype_id']==i]\n",
    "    outfile.write(f'{list(df_tmp.clonotype_id)[0]}|')\n",
    "    for i in range(df_tmp.shape[0]):\n",
    "        outfile.write(f'{list(df_tmp.v_call)[i]}|{list(df_tmp.d_call)[i]}|{list(df_tmp.j_call)[i]}|{list(df_tmp.cdr3)[i]}|{list(df_tmp.c_call)[i]}|')\n",
    "    outfile.write(f'\\t{list(df_tmp.frequency)[0]}\\t')\n",
    "    outfile.write('|'.join(list(df_tmp.c_call)))\n",
    "    outfile.write('\\n')\n",
    "    for i in range(df_tmp.shape[0]):\n",
    "        outfile.write(f'ChianType:{list(df_tmp.chain)[i]}\\n{list(df_tmp.sequence_aa)[i]}\\n')\n",
    "        #outfile.write('\\n'.join(list(df_tmp.seq)))\n",
    "    # outfile.write('\\n')"
   ]
  },
  {
   "cell_type": "code",
   "execution_count": null,
   "id": "charitable-interaction",
   "metadata": {},
   "outputs": [],
   "source": [
    "outfile.close()"
   ]
  },
  {
   "cell_type": "code",
   "execution_count": null,
   "id": "original-miami",
   "metadata": {},
   "outputs": [],
   "source": [
    "df_merge_f"
   ]
  },
  {
   "cell_type": "code",
   "execution_count": null,
   "id": "living-canadian",
   "metadata": {},
   "outputs": [],
   "source": [
    "tmp_dict"
   ]
  },
  {
   "cell_type": "code",
   "execution_count": null,
   "id": "quiet-document",
   "metadata": {},
   "outputs": [],
   "source": [
    "df_h = df_merge_f[df_merge_f['chain']=='IGH']\n",
    "df_h.sort_values('c_call', ascending=False,inplace=True)"
   ]
  },
  {
   "cell_type": "code",
   "execution_count": null,
   "id": "ordinary-prime",
   "metadata": {},
   "outputs": [],
   "source": [
    "tmp_dict = df_h.groupby('c_call')['clonotype_id'].count().to_dict()\n",
    "value = list(tmp_dict.values())\n",
    "label = list(tmp_dict.keys())"
   ]
  },
  {
   "cell_type": "code",
   "execution_count": null,
   "id": "mighty-comparative",
   "metadata": {},
   "outputs": [],
   "source": [
    "value = [value[1],value[0],value[2],value[3]]\n",
    "label = [label[1],label[0],label[2],label[3]]\n",
    "\n",
    "plt.pie(value, labels=label,autopct='%.2f%%',pctdistance=0.8,explode=(0.1,0.1,0.1,0.1))\n",
    "plt.title('IG types')\n",
    "plt.savefig('/SGRNJ06/randd/USER/cjj/celedev/vdj10x/20220704anno_seq/igl.png', dpi=280)"
   ]
  },
  {
   "cell_type": "code",
   "execution_count": null,
   "id": "meaningful-roman",
   "metadata": {},
   "outputs": [],
   "source": []
  },
  {
   "cell_type": "code",
   "execution_count": null,
   "id": "complex-senegal",
   "metadata": {},
   "outputs": [],
   "source": []
  },
  {
   "cell_type": "code",
   "execution_count": null,
   "id": "aboriginal-marking",
   "metadata": {},
   "outputs": [],
   "source": []
  },
  {
   "cell_type": "code",
   "execution_count": null,
   "id": "italic-respect",
   "metadata": {},
   "outputs": [],
   "source": []
  },
  {
   "cell_type": "code",
   "execution_count": 1,
   "id": "laden-context",
   "metadata": {},
   "outputs": [],
   "source": [
    "# 20220714\n",
    "import pandas as pd\n",
    "import pysam\n",
    "import matplotlib.pyplot as plt\n",
    "import pandas as pd\n",
    "from Bio.Seq import Seq"
   ]
  },
  {
   "cell_type": "code",
   "execution_count": 2,
   "id": "champion-practitioner",
   "metadata": {},
   "outputs": [],
   "source": [
    "airr = pd.read_csv('/SGRNJ06/randd/USER/cjj/celedev/vdj10x/20220629no_match/BCRLFBVC220616037X1CK/03.assemble/BCRLFBVC220616037X1CK/outs/airr_rearrangement.tsv',sep='\\t')\n",
    "contig = pd.read_csv('/SGRNJ06/randd/USER/cjj/celedev/vdj10x/20220629no_match/BCRLFBVC220616037X1CK/03.assemble/BCRLFBVC220616037X1CK/outs/filtered_contig_annotations.csv')\n",
    "clonotype = pd.read_csv('/SGRNJ06/randd/USER/cjj/celedev/vdj10x/20220629no_match/BCRLFBVC220616037X1CK/03.assemble/BCRLFBVC220616037X1CK/outs/clonotypes.csv')"
   ]
  },
  {
   "cell_type": "code",
   "execution_count": 3,
   "id": "earned-honor",
   "metadata": {},
   "outputs": [],
   "source": [
    "contig = contig[contig['productive']==True]\n",
    "contig = contig[['contig_id','raw_clonotype_id','cdr3']]\n",
    "contig.rename(columns={'contig_id':'sequence_id'},inplace=True)\n",
    "df_merge = pd.merge(airr,contig,on='sequence_id',how='inner')\n",
    "del df_merge['clone_id']\n",
    "df_merge.rename(columns={'raw_clonotype_id':'clonotype_id'},inplace=True)\n",
    "clonotype = clonotype[['clonotype_id','frequency']]\n",
    "df_merge_f = pd.merge(df_merge,clonotype,on='clonotype_id')\n",
    "df_merge_f['chain'] = df_merge_f['v_call'].apply(lambda x:x[:3])\n",
    "df_merge_f['id_num'] = df_merge_f['clonotype_id'].apply(lambda x: int(x[9:]))\n",
    "df_merge_f.sort_values(['id_num','chain'],inplace=True)"
   ]
  },
  {
   "cell_type": "code",
   "execution_count": 4,
   "id": "primary-shame",
   "metadata": {},
   "outputs": [],
   "source": [
    "del df_merge_f['id_num']\n",
    "del df_merge_f['productive']\n",
    "del df_merge_f['rev_comp']\n",
    "del df_merge_f['v_cigar']\n",
    "del df_merge_f['d_cigar']\n",
    "del df_merge_f['j_cigar']\n",
    "del df_merge_f['c_cigar']\n",
    "del df_merge_f['sequence_alignment']\n",
    "del df_merge_f['germline_alignment']\n",
    "del df_merge_f['junction']\n",
    "del df_merge_f['junction_aa']\n",
    "del df_merge_f['junction_length']\n",
    "del df_merge_f['junction_aa_length']\n",
    "del df_merge_f['v_sequence_start']\n",
    "del df_merge_f['v_sequence_end']\n",
    "del df_merge_f['d_sequence_start']\n",
    "del df_merge_f['d_sequence_end']\n",
    "del df_merge_f['j_sequence_start']\n",
    "del df_merge_f['j_sequence_end']\n",
    "del df_merge_f['c_sequence_start']\n",
    "del df_merge_f['c_sequence_end']\n",
    "del df_merge_f['consensus_count']\n",
    "del df_merge_f['duplicate_count']\n",
    "del df_merge_f['is_cell']"
   ]
  },
  {
   "cell_type": "code",
   "execution_count": 5,
   "id": "significant-integrity",
   "metadata": {},
   "outputs": [],
   "source": [
    "df_merge_f.drop_duplicates(['clonotype_id','chain'],inplace=True)\n",
    "df_merge_f = df_merge_f.where(df_merge_f.notnull(),'None')\n",
    "clonotype_id_list = list(df_merge_f.clonotype_id.unique())"
   ]
  },
  {
   "cell_type": "code",
   "execution_count": 6,
   "id": "monetary-genetics",
   "metadata": {},
   "outputs": [
    {
     "data": {
      "text/html": [
       "<div>\n",
       "<style scoped>\n",
       "    .dataframe tbody tr th:only-of-type {\n",
       "        vertical-align: middle;\n",
       "    }\n",
       "\n",
       "    .dataframe tbody tr th {\n",
       "        vertical-align: top;\n",
       "    }\n",
       "\n",
       "    .dataframe thead th {\n",
       "        text-align: right;\n",
       "    }\n",
       "</style>\n",
       "<table border=\"1\" class=\"dataframe\">\n",
       "  <thead>\n",
       "    <tr style=\"text-align: right;\">\n",
       "      <th></th>\n",
       "      <th>cell_id</th>\n",
       "      <th>sequence_id</th>\n",
       "      <th>sequence</th>\n",
       "      <th>sequence_aa</th>\n",
       "      <th>v_call</th>\n",
       "      <th>d_call</th>\n",
       "      <th>j_call</th>\n",
       "      <th>c_call</th>\n",
       "      <th>clonotype_id</th>\n",
       "      <th>cdr3</th>\n",
       "      <th>frequency</th>\n",
       "      <th>chain</th>\n",
       "    </tr>\n",
       "  </thead>\n",
       "  <tbody>\n",
       "    <tr>\n",
       "      <th>901</th>\n",
       "      <td>AAACCTGAGTATCTCG-1</td>\n",
       "      <td>AAACCTGAGTATCTCG-1_contig_1</td>\n",
       "      <td>AATACCACCAATGCTAATACGTAGTCATCACGTTGAGACCTACATG...</td>\n",
       "      <td>MMSSAQFLGLLLLCFQGTRCDIQMTQTTSSLSASLGDRVTISCRAS...</td>\n",
       "      <td>IGKV10-96</td>\n",
       "      <td>None</td>\n",
       "      <td>IGKJ1</td>\n",
       "      <td>IGKC</td>\n",
       "      <td>clonotype1</td>\n",
       "      <td>CQQGNTLPWTF</td>\n",
       "      <td>89</td>\n",
       "      <td>IGK</td>\n",
       "    </tr>\n",
       "    <tr>\n",
       "      <th>2414</th>\n",
       "      <td>AAACCTGGTACTCTCC-1</td>\n",
       "      <td>AAACCTGGTACTCTCC-1_contig_1</td>\n",
       "      <td>TACCGAGCTCAGCTTCTGACTACGTTAGGCATATATGGCTGTCACC...</td>\n",
       "      <td>MAWTSLILSLLALCSGASSQAVVTQESALTTSPGGTVILTCRSSTG...</td>\n",
       "      <td>IGLV2</td>\n",
       "      <td>None</td>\n",
       "      <td>IGLJ2</td>\n",
       "      <td>IGLC2</td>\n",
       "      <td>clonotype2</td>\n",
       "      <td>CALWYSTHYVF</td>\n",
       "      <td>82</td>\n",
       "      <td>IGL</td>\n",
       "    </tr>\n",
       "    <tr>\n",
       "      <th>1809</th>\n",
       "      <td>AAACCTGCAGACGCTC-1</td>\n",
       "      <td>AAACCTGCAGACGCTC-1_contig_1</td>\n",
       "      <td>GGGGACCAATATTGAAAAGAATAGACCTGGTTTGTGAATTATGGCC...</td>\n",
       "      <td>MAWISLILSLLALSSGAISQAVVTQESALTTSPGETVTLTCRSSTG...</td>\n",
       "      <td>IGLV1</td>\n",
       "      <td>None</td>\n",
       "      <td>IGLJ1</td>\n",
       "      <td>IGLC1</td>\n",
       "      <td>clonotype3</td>\n",
       "      <td>CALWYSNHWVF</td>\n",
       "      <td>71</td>\n",
       "      <td>IGL</td>\n",
       "    </tr>\n",
       "    <tr>\n",
       "      <th>242</th>\n",
       "      <td>AAACCTGAGATGCCAG-1</td>\n",
       "      <td>AAACCTGAGATGCCAG-1_contig_1</td>\n",
       "      <td>ATCACACTGAAAACACACAGACATGAGTGTGCCCACTCAGGTCCTG...</td>\n",
       "      <td>MSVPTQVLGLLLLWLTGARCDIQMTQSPASLSASVGETVTITCRAS...</td>\n",
       "      <td>IGKV12-44</td>\n",
       "      <td>None</td>\n",
       "      <td>IGKJ2</td>\n",
       "      <td>IGKC</td>\n",
       "      <td>clonotype4</td>\n",
       "      <td>CQHHYGTPYTF</td>\n",
       "      <td>62</td>\n",
       "      <td>IGK</td>\n",
       "    </tr>\n",
       "    <tr>\n",
       "      <th>1278</th>\n",
       "      <td>AAACCTGCAAAGGAAG-1</td>\n",
       "      <td>AAACCTGCAAAGGAAG-1_contig_1</td>\n",
       "      <td>CCCCACCACCCACCCCAGGTTTTAATGCTACGGCTACGACCGAGTT...</td>\n",
       "      <td>MESQTQVFVYMLLWLSGVDGDIVMTQSQKFMSTSVGDRVSVTCKAS...</td>\n",
       "      <td>IGKV6-15</td>\n",
       "      <td>None</td>\n",
       "      <td>IGKJ5</td>\n",
       "      <td>IGKC</td>\n",
       "      <td>clonotype5</td>\n",
       "      <td>CQQYNSYPLTF</td>\n",
       "      <td>62</td>\n",
       "      <td>IGK</td>\n",
       "    </tr>\n",
       "    <tr>\n",
       "      <th>...</th>\n",
       "      <td>...</td>\n",
       "      <td>...</td>\n",
       "      <td>...</td>\n",
       "      <td>...</td>\n",
       "      <td>...</td>\n",
       "      <td>...</td>\n",
       "      <td>...</td>\n",
       "      <td>...</td>\n",
       "      <td>...</td>\n",
       "      <td>...</td>\n",
       "      <td>...</td>\n",
       "      <td>...</td>\n",
       "    </tr>\n",
       "    <tr>\n",
       "      <th>23255</th>\n",
       "      <td>AGGGATGTCCTATTCA-1</td>\n",
       "      <td>AGGGATGTCCTATTCA-1_contig_1</td>\n",
       "      <td>TAATAGACTTGGTTTGTGAATTATGGCCTGGACTTCACTTATACTC...</td>\n",
       "      <td>MAWTSLILSLLALCSGASSQAVVTQESALTTSPGGTVILTCRSSTG...</td>\n",
       "      <td>IGLV2</td>\n",
       "      <td>None</td>\n",
       "      <td>IGLJ2</td>\n",
       "      <td>IGLC2</td>\n",
       "      <td>clonotype9620</td>\n",
       "      <td>CALWYSTHFVF</td>\n",
       "      <td>1</td>\n",
       "      <td>IGL</td>\n",
       "    </tr>\n",
       "    <tr>\n",
       "      <th>23257</th>\n",
       "      <td>AGGTCCGCACCTTGTC-1</td>\n",
       "      <td>AGGTCCGCACCTTGTC-1_contig_1</td>\n",
       "      <td>TGGATGAGGATGGAGATCGGAAGAGCGTCGTGTAGGAGCAAGTATG...</td>\n",
       "      <td>MGWSCIILFLVATATGVHSQVQLQQPGSELVRPGASVKLSCKASGY...</td>\n",
       "      <td>IGHV1-55</td>\n",
       "      <td>None</td>\n",
       "      <td>IGHJ3</td>\n",
       "      <td>IGHM</td>\n",
       "      <td>clonotype9621</td>\n",
       "      <td>CTRGGLRRGFAYW</td>\n",
       "      <td>1</td>\n",
       "      <td>IGH</td>\n",
       "    </tr>\n",
       "    <tr>\n",
       "      <th>23258</th>\n",
       "      <td>AGGTCCGCACCTTGTC-1</td>\n",
       "      <td>AGGTCCGCACCTTGTC-1_contig_2</td>\n",
       "      <td>GATCAGCATGGGCATCAAGATGGAGTCACAGACTCAGGTCTTTGTA...</td>\n",
       "      <td>MESQTQVFVYMLLWLSGVDGDIVMTQSQKFMSTSVGDRVSVTCKAS...</td>\n",
       "      <td>IGKV6-15</td>\n",
       "      <td>None</td>\n",
       "      <td>IGKJ2</td>\n",
       "      <td>IGKC</td>\n",
       "      <td>clonotype9621</td>\n",
       "      <td>CQQYNSYPYTF</td>\n",
       "      <td>1</td>\n",
       "      <td>IGK</td>\n",
       "    </tr>\n",
       "    <tr>\n",
       "      <th>23259</th>\n",
       "      <td>ATCACGACAAGCCGCT-1</td>\n",
       "      <td>ATCACGACAAGCCGCT-1_contig_1</td>\n",
       "      <td>GGACTCTCAGTGAGGATACACCATCAGCATGAGGGTCCTTGCTGAG...</td>\n",
       "      <td>MRVLAELLGLLLFCFLGVRCDIQMNQSPSSLSASLGDTITITCHAS...</td>\n",
       "      <td>IGKV15-103</td>\n",
       "      <td>None</td>\n",
       "      <td>IGKJ2</td>\n",
       "      <td>IGKC</td>\n",
       "      <td>clonotype9622</td>\n",
       "      <td>CQQGQSYPYTF</td>\n",
       "      <td>1</td>\n",
       "      <td>IGK</td>\n",
       "    </tr>\n",
       "    <tr>\n",
       "      <th>23260</th>\n",
       "      <td>ATCACGACAAGCCGCT-1</td>\n",
       "      <td>ATCACGACAAGCCGCT-1_contig_2</td>\n",
       "      <td>GGGGACCAATATTGAGAAGAATAGACCTGGTTTGTGAATTATGGCC...</td>\n",
       "      <td>MAWISLILSLLALSSGAISQAVVTQESALTTSPGETVTLTCRSSTG...</td>\n",
       "      <td>IGLV1</td>\n",
       "      <td>None</td>\n",
       "      <td>IGLJ1</td>\n",
       "      <td>None</td>\n",
       "      <td>clonotype9622</td>\n",
       "      <td>CALWYSNHWVF</td>\n",
       "      <td>1</td>\n",
       "      <td>IGL</td>\n",
       "    </tr>\n",
       "  </tbody>\n",
       "</table>\n",
       "<p>17683 rows × 12 columns</p>\n",
       "</div>"
      ],
      "text/plain": [
       "                  cell_id                  sequence_id  \\\n",
       "901    AAACCTGAGTATCTCG-1  AAACCTGAGTATCTCG-1_contig_1   \n",
       "2414   AAACCTGGTACTCTCC-1  AAACCTGGTACTCTCC-1_contig_1   \n",
       "1809   AAACCTGCAGACGCTC-1  AAACCTGCAGACGCTC-1_contig_1   \n",
       "242    AAACCTGAGATGCCAG-1  AAACCTGAGATGCCAG-1_contig_1   \n",
       "1278   AAACCTGCAAAGGAAG-1  AAACCTGCAAAGGAAG-1_contig_1   \n",
       "...                   ...                          ...   \n",
       "23255  AGGGATGTCCTATTCA-1  AGGGATGTCCTATTCA-1_contig_1   \n",
       "23257  AGGTCCGCACCTTGTC-1  AGGTCCGCACCTTGTC-1_contig_1   \n",
       "23258  AGGTCCGCACCTTGTC-1  AGGTCCGCACCTTGTC-1_contig_2   \n",
       "23259  ATCACGACAAGCCGCT-1  ATCACGACAAGCCGCT-1_contig_1   \n",
       "23260  ATCACGACAAGCCGCT-1  ATCACGACAAGCCGCT-1_contig_2   \n",
       "\n",
       "                                                sequence  \\\n",
       "901    AATACCACCAATGCTAATACGTAGTCATCACGTTGAGACCTACATG...   \n",
       "2414   TACCGAGCTCAGCTTCTGACTACGTTAGGCATATATGGCTGTCACC...   \n",
       "1809   GGGGACCAATATTGAAAAGAATAGACCTGGTTTGTGAATTATGGCC...   \n",
       "242    ATCACACTGAAAACACACAGACATGAGTGTGCCCACTCAGGTCCTG...   \n",
       "1278   CCCCACCACCCACCCCAGGTTTTAATGCTACGGCTACGACCGAGTT...   \n",
       "...                                                  ...   \n",
       "23255  TAATAGACTTGGTTTGTGAATTATGGCCTGGACTTCACTTATACTC...   \n",
       "23257  TGGATGAGGATGGAGATCGGAAGAGCGTCGTGTAGGAGCAAGTATG...   \n",
       "23258  GATCAGCATGGGCATCAAGATGGAGTCACAGACTCAGGTCTTTGTA...   \n",
       "23259  GGACTCTCAGTGAGGATACACCATCAGCATGAGGGTCCTTGCTGAG...   \n",
       "23260  GGGGACCAATATTGAGAAGAATAGACCTGGTTTGTGAATTATGGCC...   \n",
       "\n",
       "                                             sequence_aa      v_call d_call  \\\n",
       "901    MMSSAQFLGLLLLCFQGTRCDIQMTQTTSSLSASLGDRVTISCRAS...   IGKV10-96   None   \n",
       "2414   MAWTSLILSLLALCSGASSQAVVTQESALTTSPGGTVILTCRSSTG...       IGLV2   None   \n",
       "1809   MAWISLILSLLALSSGAISQAVVTQESALTTSPGETVTLTCRSSTG...       IGLV1   None   \n",
       "242    MSVPTQVLGLLLLWLTGARCDIQMTQSPASLSASVGETVTITCRAS...   IGKV12-44   None   \n",
       "1278   MESQTQVFVYMLLWLSGVDGDIVMTQSQKFMSTSVGDRVSVTCKAS...    IGKV6-15   None   \n",
       "...                                                  ...         ...    ...   \n",
       "23255  MAWTSLILSLLALCSGASSQAVVTQESALTTSPGGTVILTCRSSTG...       IGLV2   None   \n",
       "23257  MGWSCIILFLVATATGVHSQVQLQQPGSELVRPGASVKLSCKASGY...    IGHV1-55   None   \n",
       "23258  MESQTQVFVYMLLWLSGVDGDIVMTQSQKFMSTSVGDRVSVTCKAS...    IGKV6-15   None   \n",
       "23259  MRVLAELLGLLLFCFLGVRCDIQMNQSPSSLSASLGDTITITCHAS...  IGKV15-103   None   \n",
       "23260  MAWISLILSLLALSSGAISQAVVTQESALTTSPGETVTLTCRSSTG...       IGLV1   None   \n",
       "\n",
       "      j_call c_call   clonotype_id           cdr3  frequency chain  \n",
       "901    IGKJ1   IGKC     clonotype1    CQQGNTLPWTF         89   IGK  \n",
       "2414   IGLJ2  IGLC2     clonotype2    CALWYSTHYVF         82   IGL  \n",
       "1809   IGLJ1  IGLC1     clonotype3    CALWYSNHWVF         71   IGL  \n",
       "242    IGKJ2   IGKC     clonotype4    CQHHYGTPYTF         62   IGK  \n",
       "1278   IGKJ5   IGKC     clonotype5    CQQYNSYPLTF         62   IGK  \n",
       "...      ...    ...            ...            ...        ...   ...  \n",
       "23255  IGLJ2  IGLC2  clonotype9620    CALWYSTHFVF          1   IGL  \n",
       "23257  IGHJ3   IGHM  clonotype9621  CTRGGLRRGFAYW          1   IGH  \n",
       "23258  IGKJ2   IGKC  clonotype9621    CQQYNSYPYTF          1   IGK  \n",
       "23259  IGKJ2   IGKC  clonotype9622    CQQGQSYPYTF          1   IGK  \n",
       "23260  IGLJ1   None  clonotype9622    CALWYSNHWVF          1   IGL  \n",
       "\n",
       "[17683 rows x 12 columns]"
      ]
     },
     "execution_count": 6,
     "metadata": {},
     "output_type": "execute_result"
    }
   ],
   "source": [
    "df_merge_f"
   ]
  },
  {
   "cell_type": "code",
   "execution_count": null,
   "id": "intense-karma",
   "metadata": {},
   "outputs": [],
   "source": [
    "xing_list = list(df_merge_f['sequence_aa'])\n"
   ]
  },
  {
   "cell_type": "code",
   "execution_count": null,
   "id": "breathing-profession",
   "metadata": {},
   "outputs": [],
   "source": [
    "index_list = []\n",
    "for i in xing_list:\n",
    "    if '*' in i:\n",
    "        index_list.append(xing_list.index(i))"
   ]
  },
  {
   "cell_type": "code",
   "execution_count": null,
   "id": "pediatric-determination",
   "metadata": {},
   "outputs": [],
   "source": [
    "df_merge_f_new = df_merge_f.reset_index()\n",
    "del df_merge_f_new['index']"
   ]
  },
  {
   "cell_type": "code",
   "execution_count": null,
   "id": "million-maria",
   "metadata": {},
   "outputs": [],
   "source": [
    "df_merge_f_new"
   ]
  },
  {
   "cell_type": "code",
   "execution_count": null,
   "id": "labeled-adult",
   "metadata": {},
   "outputs": [],
   "source": [
    "df_merge_f_new"
   ]
  },
  {
   "cell_type": "code",
   "execution_count": null,
   "id": "spiritual-contents",
   "metadata": {},
   "outputs": [],
   "source": [
    "str(Seq('ATGAGAGTGCTGATTCTTTTGTGGCTGTTCACAGCCTTTCCTGGTATCCTGTCTGATGTGCAGCTTCAGGAGTCGGGACCTGGCCTGGTGAAACCTTCTCAGTCTCTGTCCCTCACCTGCACTGTCACTGGCTACTCAATCACCAGTGATTATGCCTGGAACTGGATCCGGCAGTTTCCAGGAAACAAACTGGAGTGGATGGGCTACATAAGCTACAGTGGTAGCACTAGCTACAACCCATCTCTCAAAAGTCGAATCTCTATCACTCGAGACACATCCAAGAACCAGTTCTTCCTGCAGTTGAATTCTGTGACTACTGAGGACACAGCCACATATTACTGTGCAAAATATGACTACGGCTGTGCTATGGACTACTGGGGTCAAGGAACCTCAGTCACCGTCTCCTCAGGTGATAAAAAGGAACCTGACATGTTCCTCCTCTCAGAGTGCAAAGCCCGTGAGGAAAATTAATAGATATACCTGGGCTGTTTAGTAATTGGAAGTCAG').translate())"
   ]
  },
  {
   "cell_type": "code",
   "execution_count": null,
   "id": "latest-lightning",
   "metadata": {},
   "outputs": [],
   "source": []
  },
  {
   "cell_type": "code",
   "execution_count": null,
   "id": "becoming-logistics",
   "metadata": {},
   "outputs": [],
   "source": []
  },
  {
   "cell_type": "code",
   "execution_count": null,
   "id": "prepared-delicious",
   "metadata": {},
   "outputs": [],
   "source": [
    "outfile = open('/SGRNJ06/randd/USER/cjj/celedev/vdj10x/20220714anno_seq/anno_seq_aa.fasta','w')"
   ]
  },
  {
   "cell_type": "code",
   "execution_count": null,
   "id": "incomplete-chrome",
   "metadata": {},
   "outputs": [],
   "source": [
    "outfile.write(\"Clonotype(clonotype_id|V-gene|D-gene|J-gene|CDR3|C-gene|)\\tCell_Number\\tCgene\\tSequence\\n\")\n",
    "for i in clonotype_id_list:\n",
    "    df_tmp = df_merge_f[df_merge_f['clonotype_id']==i]\n",
    "    outfile.write(f'{list(df_tmp.clonotype_id)[0]}|')\n",
    "    for i in range(df_tmp.shape[0]):\n",
    "        outfile.write(f'{list(df_tmp.v_call)[i]}|{list(df_tmp.d_call)[i]}|{list(df_tmp.j_call)[i]}|{list(df_tmp.cdr3)[i]}|{list(df_tmp.c_call)[i]}|')\n",
    "    outfile.write(f'\\t{list(df_tmp.frequency)[0]}\\t')\n",
    "    outfile.write('|'.join(list(df_tmp.c_call)))\n",
    "    outfile.write('\\n')\n",
    "    for i in range(df_tmp.shape[0]):\n",
    "        outfile.write(f'ChianType:{list(df_tmp.chain)[i]}\\n{list(df_tmp.sequence_aa)[i]}\\n')\n",
    "        #outfile.write('\\n'.join(list(df_tmp.seq)))\n",
    "    # outfile.write('\\n')"
   ]
  },
  {
   "cell_type": "code",
   "execution_count": null,
   "id": "twelve-elements",
   "metadata": {},
   "outputs": [],
   "source": [
    "outfile.close()"
   ]
  },
  {
   "cell_type": "code",
   "execution_count": null,
   "id": "obvious-parts",
   "metadata": {},
   "outputs": [],
   "source": [
    "outfile = open('/SGRNJ06/randd/USER/cjj/celedev/vdj10x/20220714anno_seq/anno_seq_nt.fasta','w')"
   ]
  },
  {
   "cell_type": "code",
   "execution_count": null,
   "id": "compatible-robertson",
   "metadata": {},
   "outputs": [],
   "source": [
    "outfile.write(\"Clonotype(clonotype_id|V-gene|D-gene|J-gene|CDR3|C-gene|)\\tCell_Number\\tCgene\\tSequence\\n\")\n",
    "for i in clonotype_id_list:\n",
    "    df_tmp = df_merge_f[df_merge_f['clonotype_id']==i]\n",
    "    outfile.write(f'{list(df_tmp.clonotype_id)[0]}|')\n",
    "    for i in range(df_tmp.shape[0]):\n",
    "        outfile.write(f'{list(df_tmp.v_call)[i]}|{list(df_tmp.d_call)[i]}|{list(df_tmp.j_call)[i]}|{list(df_tmp.cdr3)[i]}|{list(df_tmp.c_call)[i]}|')\n",
    "    outfile.write(f'\\t{list(df_tmp.frequency)[0]}\\t')\n",
    "    outfile.write('|'.join(list(df_tmp.c_call)))\n",
    "    outfile.write('\\n')\n",
    "    for i in range(df_tmp.shape[0]):\n",
    "        seq_nt = list(df_tmp.sequence)[i]\n",
    "        seq_aa = list(df_tmp.sequence_aa)[i]\n",
    "        for j in range(len(seq_nt)):\n",
    "            if str(Seq(seq_nt[j:]).translate()) == seq_aa:\n",
    "                seq_nt_write = seq_nt[j:]\n",
    "                if len(seq_nt_write) % 3 == 1:\n",
    "                    seq_nt_write = seq_nt[j:-1]\n",
    "                elif len(seq_nt_write) % 3 == 2:\n",
    "                    seq_nt_write = seq_nt[j:-2]\n",
    "                outfile.write(f'ChianType:{list(df_tmp.chain)[i]}\\n{seq_nt_write}\\n')\n",
    "                break"
   ]
  },
  {
   "cell_type": "code",
   "execution_count": null,
   "id": "known-stupid",
   "metadata": {},
   "outputs": [],
   "source": [
    "outfile.close()"
   ]
  },
  {
   "cell_type": "code",
   "execution_count": null,
   "id": "several-intensity",
   "metadata": {},
   "outputs": [],
   "source": []
  },
  {
   "cell_type": "code",
   "execution_count": null,
   "id": "accessory-essex",
   "metadata": {},
   "outputs": [],
   "source": [
    "from Bio.Seq import Seq"
   ]
  },
  {
   "cell_type": "code",
   "execution_count": null,
   "id": "great-outline",
   "metadata": {},
   "outputs": [],
   "source": [
    "with open('/SGRNJ06/randd/USER/cjj/celedev/vdj10x/20220714anno_seq/anno_seq_nt.fasta') as f:\n",
    "        lines_nt = f.readlines()\n",
    "        lines_nt = [line.strip('\\n') for line in lines_nt]\n",
    "with open('/SGRNJ06/randd/USER/cjj/celedev/vdj10x/20220714anno_seq/anno_seq_aa.fasta') as f:\n",
    "        lines_aa = f.readlines()\n",
    "        lines_aa = [line.strip('\\n') for line in lines_aa]"
   ]
  },
  {
   "cell_type": "code",
   "execution_count": null,
   "id": "surprised-report",
   "metadata": {},
   "outputs": [],
   "source": [
    "for i in range(3,150,3):\n",
    "    print(len(lines_nt[i]))"
   ]
  },
  {
   "cell_type": "code",
   "execution_count": null,
   "id": "early-panel",
   "metadata": {},
   "outputs": [],
   "source": []
  },
  {
   "cell_type": "code",
   "execution_count": null,
   "id": "improving-multimedia",
   "metadata": {},
   "outputs": [],
   "source": []
  },
  {
   "cell_type": "code",
   "execution_count": null,
   "id": "opponent-parliament",
   "metadata": {},
   "outputs": [],
   "source": []
  },
  {
   "cell_type": "code",
   "execution_count": null,
   "id": "second-repair",
   "metadata": {},
   "outputs": [],
   "source": [
    "a = 'ATGGGATGGAGCTGTATCATCCTCTTCTTGGTAGCAACAGCTACAGGTGTCCACTCCCAGGTCCAACTGCAGCAACCTGGGTCTGAGCTGGTGAGGCCTGGAGCTTCAGTGAAGCTGTCCTGCAAGGCTTCTGGCTACACATTCACCAGCTACTGGATGCACTGGGTGAAGCAGAGGCATGGACAAGGCCTTGAGTGGATTGGAAATATTTATCCTGGTAGTGGTAGTACTAACTACGATGAGAAGTTCAAGAGCAAGGGCACACTGACTGTAGACACATCCTCCAGCACAGCCTACATGCACCTCAGCAGCCTGACATCTGAGGACTCTGCGGTCTATTACTGTACAAGGGGAGGATTACGGAGGGGGTTTGCTTACTGGGGCCAAGGGACTCTGGTCACTGTCTCTGCAGAGAGTCAGTCCTTCCCAAATGTC'"
   ]
  },
  {
   "cell_type": "code",
   "execution_count": null,
   "id": "quantitative-massachusetts",
   "metadata": {},
   "outputs": [],
   "source": [
    "len(a)"
   ]
  },
  {
   "cell_type": "code",
   "execution_count": null,
   "id": "executed-welding",
   "metadata": {},
   "outputs": [],
   "source": [
    "str(Seq(a).translate()) == 'MGWSCIILFLVATATGVHSQVQLQQPGSELVRPGASVKLSCKASGYTFTSYWMHWVKQRHGQGLEWIGNIYPGSGSTNYDEKFKSKGTLTVDTSSSTAYMHLSSLTSEDSAVYYCTRGGLRRGFAYWGQGTLVTVSAESQSFPNV'"
   ]
  },
  {
   "cell_type": "code",
   "execution_count": null,
   "id": "younger-retention",
   "metadata": {},
   "outputs": [],
   "source": []
  },
  {
   "cell_type": "code",
   "execution_count": null,
   "id": "floating-oklahoma",
   "metadata": {},
   "outputs": [],
   "source": [
    "for line in lines_aa:\n",
    "    if len(line)>=200:\n",
    "        if len(line) % 3 != 0:\n",
    "            print(line)"
   ]
  },
  {
   "cell_type": "code",
   "execution_count": null,
   "id": "nuclear-opinion",
   "metadata": {},
   "outputs": [],
   "source": [
    "for line in lines_aa:\n",
    "    if '*' in line:\n",
    "        print(line)"
   ]
  },
  {
   "cell_type": "code",
   "execution_count": null,
   "id": "express-saturn",
   "metadata": {},
   "outputs": [],
   "source": [
    "df_aa = list(df_merge_f.sequence_aa)\n",
    "df_nt = list(df_merge_f.sequence)"
   ]
  },
  {
   "cell_type": "code",
   "execution_count": null,
   "id": "careful-saturday",
   "metadata": {},
   "outputs": [],
   "source": [
    "count = 0\n",
    "for i in df_list:\n",
    "    if '*' in i:\n",
    "        print(df_list.index(i))\n",
    "        count+=1\n",
    "        "
   ]
  },
  {
   "cell_type": "code",
   "execution_count": null,
   "id": "interesting-depression",
   "metadata": {},
   "outputs": [],
   "source": [
    "df_aa[512]"
   ]
  },
  {
   "cell_type": "code",
   "execution_count": null,
   "id": "economic-honor",
   "metadata": {},
   "outputs": [],
   "source": [
    "df_nt[512]"
   ]
  },
  {
   "cell_type": "code",
   "execution_count": null,
   "id": "objective-scanning",
   "metadata": {},
   "outputs": [],
   "source": [
    "for i in range(len(df_nt[512])):\n",
    "    if str(Seq(df_nt[512][i:]).translate()) == 'MVFTPQILGLMLFWISASRGDIVLTQSPATLSVTPGDSVSLSCRASQSISNNLHWYQQKSHESPRLLIKYASQSISGIPSRFSGSGSGTDFTLSINSVETEDFGMYFCQQSNSWPLTFGAGTKLELKLSS*HLEVPQ':\n",
    "        print(df_nt[512][i:])"
   ]
  },
  {
   "cell_type": "code",
   "execution_count": null,
   "id": "harmful-range",
   "metadata": {},
   "outputs": [],
   "source": [
    "count"
   ]
  },
  {
   "cell_type": "code",
   "execution_count": null,
   "id": "missing-pennsylvania",
   "metadata": {},
   "outputs": [],
   "source": []
  }
 ],
 "metadata": {
  "kernelspec": {
   "display_name": "cele1.11",
   "language": "python",
   "name": "refactor_trust"
  },
  "language_info": {
   "codemirror_mode": {
    "name": "ipython",
    "version": 3
   },
   "file_extension": ".py",
   "mimetype": "text/x-python",
   "name": "python",
   "nbconvert_exporter": "python",
   "pygments_lexer": "ipython3",
   "version": "3.9.0"
  }
 },
 "nbformat": 4,
 "nbformat_minor": 5
}
