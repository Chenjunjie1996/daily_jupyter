{
 "cells": [
  {
   "cell_type": "code",
   "execution_count": 1,
   "id": "theoretical-colon",
   "metadata": {},
   "outputs": [],
   "source": [
    "import pysam\n",
    "from collections import defaultdict\n",
    "import pandas as pd\n",
    "from Bio.Seq import Seq\n",
    "\n",
    "def reverse_complement(seq):\n",
    "    \"\"\"Reverse complementary sequence\n",
    "\n",
    "    :param original seq\n",
    "    :return Reverse complementary sequence\n",
    "    \"\"\"\n",
    "    return str(Seq(seq).reverse_complement())"
   ]
  },
  {
   "cell_type": "code",
   "execution_count": 60,
   "id": "round-merit",
   "metadata": {},
   "outputs": [],
   "source": [
    "fq1 = '/SGRNJ06/randd/USER/cjj/celedev/BD_flvdj/Project_luhaisong_220919N/0916TM-L_220919N_S92_R1.fastq.gz'"
   ]
  },
  {
   "cell_type": "code",
   "execution_count": 32,
   "id": "special-passion",
   "metadata": {},
   "outputs": [],
   "source": [
    "from collections import defaultdict"
   ]
  },
  {
   "cell_type": "code",
   "execution_count": 87,
   "id": "acting-asthma",
   "metadata": {},
   "outputs": [],
   "source": [
    "count_dict = defaultdict(int)"
   ]
  },
  {
   "cell_type": "code",
   "execution_count": 88,
   "id": "digital-hamilton",
   "metadata": {},
   "outputs": [],
   "source": [
    "with pysam.FastxFile(fq1) as f:\n",
    "    for read in f:\n",
    "        # bc = read.sequence[:9] + read.sequence[21:30] + read.sequence[43:52]\n",
    "        count_dict[read.sequence[:9]] += 1\n",
    "        count_dict[read.sequence[21:30]] += 1\n",
    "        count_dict[read.sequence[43:52]] += 1"
   ]
  },
  {
   "cell_type": "code",
   "execution_count": 90,
   "id": "funded-platform",
   "metadata": {},
   "outputs": [
    {
     "data": {
      "text/plain": [
       "63813"
      ]
     },
     "execution_count": 90,
     "metadata": {},
     "output_type": "execute_result"
    }
   ],
   "source": [
    "len(count_dict)"
   ]
  },
  {
   "cell_type": "code",
   "execution_count": null,
   "id": "lyric-category",
   "metadata": {},
   "outputs": [],
   "source": [
    "sorted(count_dict.values(),reverse=True)"
   ]
  },
  {
   "cell_type": "code",
   "execution_count": 26,
   "id": "streaming-identification",
   "metadata": {},
   "outputs": [],
   "source": [
    "count_dict['CTCACTGGAGGATACAGTGCCCGTTTG']"
   ]
  },
  {
   "cell_type": "code",
   "execution_count": 69,
   "id": "decimal-experience",
   "metadata": {},
   "outputs": [],
   "source": [
    "count_list = sorted(list(count_dict.values()),reverse=True)"
   ]
  },
  {
   "cell_type": "code",
   "execution_count": null,
   "id": "great-mileage",
   "metadata": {},
   "outputs": [],
   "source": [
    "count_list[:10000]"
   ]
  },
  {
   "cell_type": "code",
   "execution_count": 79,
   "id": "optical-focus",
   "metadata": {},
   "outputs": [
    {
     "data": {
      "text/plain": [
       "False"
      ]
     },
     "execution_count": 79,
     "metadata": {},
     "output_type": "execute_result"
    }
   ],
   "source": [
    "'ACGCAGAGT' in whitelist"
   ]
  },
  {
   "cell_type": "code",
   "execution_count": 28,
   "id": "stupid-cooler",
   "metadata": {},
   "outputs": [],
   "source": [
    "import pandas as pd "
   ]
  },
  {
   "cell_type": "code",
   "execution_count": 36,
   "id": "pediatric-valentine",
   "metadata": {},
   "outputs": [],
   "source": [
    "whitelist = pd.read_csv('/SGRNJ06/randd/USER/cjj/celedev/BD_flvdj/BD_whitelist', header=None)"
   ]
  },
  {
   "cell_type": "code",
   "execution_count": 39,
   "id": "favorite-simpson",
   "metadata": {},
   "outputs": [],
   "source": [
    "whitelist.rename(columns={0:'bc'},inplace=True)"
   ]
  },
  {
   "cell_type": "code",
   "execution_count": 40,
   "id": "taken-participation",
   "metadata": {},
   "outputs": [],
   "source": [
    "whitelist = set(whitelist.bc)"
   ]
  },
  {
   "cell_type": "code",
   "execution_count": 46,
   "id": "outer-daughter",
   "metadata": {},
   "outputs": [
    {
     "data": {
      "text/plain": [
       "False"
      ]
     },
     "execution_count": 46,
     "metadata": {},
     "output_type": "execute_result"
    }
   ],
   "source": [
    "'GCCCGTTTG' in whitelist"
   ]
  },
  {
   "cell_type": "code",
   "execution_count": 61,
   "id": "balanced-infrared",
   "metadata": {},
   "outputs": [],
   "source": [
    "total_bc = set()\n",
    "with pysam.FastxFile(fq1) as f:\n",
    "    for read in f:\n",
    "        total_bc.add(read.sequence[:9])\n",
    "        total_bc.add(read.sequence[21:30])\n",
    "        total_bc.add(read.sequence[43:52])"
   ]
  },
  {
   "cell_type": "code",
   "execution_count": 62,
   "id": "nearby-parks",
   "metadata": {},
   "outputs": [
    {
     "data": {
      "text/plain": [
       "261209"
      ]
     },
     "execution_count": 62,
     "metadata": {},
     "output_type": "execute_result"
    }
   ],
   "source": [
    "len(total_bc)"
   ]
  },
  {
   "cell_type": "code",
   "execution_count": 63,
   "id": "sealed-intersection",
   "metadata": {},
   "outputs": [],
   "source": [
    "with pysam.FastxFile('/SGRNJ06/randd/USER/cjj/celedev/BD_flvdj/Project_luhaisong_220919N/0916TAA-H_220919N_S91_R1.fastq.gz') as f:\n",
    "    for read in f:\n",
    "        total_bc.add(read.sequence[:9])\n",
    "        total_bc.add(read.sequence[21:30])\n",
    "        total_bc.add(read.sequence[43:52])"
   ]
  },
  {
   "cell_type": "code",
   "execution_count": 80,
   "id": "moderate-mount",
   "metadata": {},
   "outputs": [
    {
     "data": {
      "text/plain": [
       "272259"
      ]
     },
     "execution_count": 80,
     "metadata": {},
     "output_type": "execute_result"
    }
   ],
   "source": [
    "len(total_bc)"
   ]
  },
  {
   "cell_type": "code",
   "execution_count": 81,
   "id": "corresponding-reggae",
   "metadata": {},
   "outputs": [],
   "source": [
    "out_file = open('/SGRNJ06/randd/USER/cjj/celedev/BD_flvdj/total_bc.txt', 'w')\n",
    "for i in total_bc:\n",
    "    out_file.write(i +'\\n')\n",
    "out_file.close()"
   ]
  },
  {
   "cell_type": "code",
   "execution_count": 57,
   "id": "generic-guidance",
   "metadata": {},
   "outputs": [],
   "source": []
  },
  {
   "cell_type": "code",
   "execution_count": 59,
   "id": "extraordinary-consent",
   "metadata": {},
   "outputs": [],
   "source": [
    "total_bc = set()\n",
    "with pysam.FastxFile('/SGRNJ06/randd/USER/cjj/celedev/BD_flvdj/Project_luhaisong_220919N/0916TAA-H_220919N_S91_R1.fastq.gz') as f:\n",
    "    for read in f:\n",
    "        total_bc.add(read.sequence[:9])\n",
    "        total_bc.add(read.sequence[21:30])\n",
    "        total_bc.add(read.sequence[43:52])"
   ]
  },
  {
   "cell_type": "code",
   "execution_count": null,
   "id": "czech-booth",
   "metadata": {},
   "outputs": [],
   "source": [
    "out_file = open('/SGRNJ06/randd/USER/cjj/celedev/BD_flvdj/S91_total_bc.txt', 'w')\n",
    "for i in total_bc:\n",
    "    out_file.write(i +'\\n')\n",
    "out_file.close()"
   ]
  },
  {
   "cell_type": "code",
   "execution_count": null,
   "id": "attended-folder",
   "metadata": {},
   "outputs": [],
   "source": []
  },
  {
   "cell_type": "code",
   "execution_count": null,
   "id": "signed-worcester",
   "metadata": {},
   "outputs": [],
   "source": [
    "count_dict = defaultdict(int)\n",
    "with pysam.FastxFile('/SGRNJ06/DATA04/22_08/2022_08_19/P21093001/DC0004CA-B-X4CJ-B/BCRLFTVC211117016X4CJ_R1.fastq.gz') as f:\n",
    "    for read in f:\n",
    "        # bc = read.sequence[:9] + read.sequence[21:30] + read.sequence[43:52]\n",
    "        count_dict[read.sequence[9:17]] += 1\n",
    "        count_dict[read.sequence[33:41]] += 1\n",
    "        count_dict[read.sequence[57:65]] += 1\n",
    "        "
   ]
  },
  {
   "cell_type": "code",
   "execution_count": null,
   "id": "existing-percentage",
   "metadata": {},
   "outputs": [],
   "source": []
  },
  {
   "cell_type": "code",
   "execution_count": 2,
   "id": "ordered-sport",
   "metadata": {},
   "outputs": [],
   "source": [
    "BD = '/SGRNJ06/randd/USER/cjj/celedev/BD_flvdj/Project_luhaisong_220919N/0916TM-L_220919N_S92_R1.fastq.gz'\n",
    "SGR = '/SGRNJ06/DATA04/22_08/2022_08_19/P21093001/DC0004CA-B-X4CJ-B/BCRLFTVC211117016X4CJ_R1.fastq.gz'"
   ]
  },
  {
   "cell_type": "code",
   "execution_count": 3,
   "id": "latin-instrumentation",
   "metadata": {},
   "outputs": [],
   "source": [
    "BD_dict1 = defaultdict(int)\n",
    "SGR_dict1 = defaultdict(int)\n",
    "BD_dict2 = defaultdict(int)\n",
    "SGR_dict2 = defaultdict(int)\n",
    "BD_dict3 = defaultdict(int)\n",
    "SGR_dict3 = defaultdict(int)\n",
    "BD_bc_dict = defaultdict(int)\n",
    "SGR_bc_dict = defaultdict(int)"
   ]
  },
  {
   "cell_type": "code",
   "execution_count": 4,
   "id": "forbidden-concentrate",
   "metadata": {},
   "outputs": [
    {
     "name": "stderr",
     "output_type": "stream",
     "text": [
      "[W::bgzf_read_block] EOF marker is absent. The input may be truncated\n",
      "[W::bgzf_read_block] EOF marker is absent. The input may be truncated\n"
     ]
    }
   ],
   "source": [
    "with pysam.FastxFile(BD) as f:\n",
    "    for read in f:\n",
    "        bc = read.sequence[:9] + read.sequence[21:30] + read.sequence[43:52]\n",
    "        BD_dict1[read.sequence[:9]] += 1\n",
    "        BD_dict2[read.sequence[21:30]] += 1\n",
    "        BD_dict3[read.sequence[43:52]] += 1\n",
    "        BD_bc_dict[bc] += 1\n",
    "with pysam.FastxFile(SGR) as f:\n",
    "    for read in f:\n",
    "        bc = read.sequence[9:17] + read.sequence[33:41] + read.sequence[57:65]\n",
    "        SGR_dict1[read.sequence[9:17]] += 1\n",
    "        SGR_dict2[read.sequence[33:41]] += 1\n",
    "        SGR_dict3[read.sequence[57:65]] += 1\n",
    "        SGR_bc_dict[bc] += 1"
   ]
  },
  {
   "cell_type": "code",
   "execution_count": 8,
   "id": "comfortable-forth",
   "metadata": {},
   "outputs": [
    {
     "data": {
      "text/plain": [
       "214504"
      ]
     },
     "execution_count": 8,
     "metadata": {},
     "output_type": "execute_result"
    }
   ],
   "source": [
    "len(BD_dict1)"
   ]
  },
  {
   "cell_type": "code",
   "execution_count": 9,
   "id": "spectacular-blade",
   "metadata": {},
   "outputs": [
    {
     "data": {
      "text/plain": [
       "210862"
      ]
     },
     "execution_count": 9,
     "metadata": {},
     "output_type": "execute_result"
    }
   ],
   "source": [
    "len(BD_dict2)"
   ]
  },
  {
   "cell_type": "code",
   "execution_count": 10,
   "id": "requested-novel",
   "metadata": {},
   "outputs": [
    {
     "data": {
      "text/plain": [
       "221649"
      ]
     },
     "execution_count": 10,
     "metadata": {},
     "output_type": "execute_result"
    }
   ],
   "source": [
    "len(BD_dict3)"
   ]
  },
  {
   "cell_type": "code",
   "execution_count": 11,
   "id": "documentary-clerk",
   "metadata": {},
   "outputs": [
    {
     "data": {
      "text/plain": [
       "30085"
      ]
     },
     "execution_count": 11,
     "metadata": {},
     "output_type": "execute_result"
    }
   ],
   "source": [
    "len(SGR_dict1)"
   ]
  },
  {
   "cell_type": "code",
   "execution_count": 12,
   "id": "considered-tower",
   "metadata": {},
   "outputs": [
    {
     "data": {
      "text/plain": [
       "41102"
      ]
     },
     "execution_count": 12,
     "metadata": {},
     "output_type": "execute_result"
    }
   ],
   "source": [
    "len(SGR_dict2)"
   ]
  },
  {
   "cell_type": "code",
   "execution_count": 13,
   "id": "assisted-supply",
   "metadata": {},
   "outputs": [
    {
     "data": {
      "text/plain": [
       "56108"
      ]
     },
     "execution_count": 13,
     "metadata": {},
     "output_type": "execute_result"
    }
   ],
   "source": [
    "len(SGR_dict3)"
   ]
  },
  {
   "cell_type": "code",
   "execution_count": 14,
   "id": "textile-discipline",
   "metadata": {},
   "outputs": [
    {
     "data": {
      "text/plain": [
       "3259614"
      ]
     },
     "execution_count": 14,
     "metadata": {},
     "output_type": "execute_result"
    }
   ],
   "source": [
    "len(BD_bc_dict)"
   ]
  },
  {
   "cell_type": "code",
   "execution_count": 12,
   "id": "proper-fifty",
   "metadata": {},
   "outputs": [
    {
     "data": {
      "text/plain": [
       "1866478"
      ]
     },
     "execution_count": 12,
     "metadata": {},
     "output_type": "execute_result"
    }
   ],
   "source": [
    "len(SGR_bc_dict)"
   ]
  },
  {
   "cell_type": "code",
   "execution_count": 21,
   "id": "cleared-sampling",
   "metadata": {},
   "outputs": [],
   "source": [
    "BDwhitelist = pd.read_csv('/SGRNJ06/randd/USER/cjj/celedev/BD_flvdj/BD_whitelist', header=None)\n",
    "SGRwhitelist= pd.read_csv('/SGRNJ06/randd/USER/cjj/Celescope/refactor_trust/CeleScope/celescope/data/chemistry/flv/bclist', header=None)"
   ]
  },
  {
   "cell_type": "code",
   "execution_count": 22,
   "id": "convinced-elite",
   "metadata": {},
   "outputs": [],
   "source": [
    "BDwhitelist.rename(columns={0:'bc'},inplace=True)\n",
    "SGRwhitelist.rename(columns={0:'bc'},inplace=True)"
   ]
  },
  {
   "cell_type": "code",
   "execution_count": 4,
   "id": "decent-martin",
   "metadata": {},
   "outputs": [],
   "source": [
    "SGRwhitelist = SGRwhitelist.bc.tolist()\n",
    "SGRwhitelist = [i.strip(' ') for i in SGRwhitelist]\n",
    "SGRwhitelist = [reverse_complement(seq) for seq in SGRwhitelist[::-1]]\n",
    "SGRwhitelist = set(SGRwhitelist)"
   ]
  },
  {
   "cell_type": "code",
   "execution_count": 5,
   "id": "sustainable-animal",
   "metadata": {},
   "outputs": [],
   "source": [
    "BDwhitelist = set(BDwhitelist.bc)"
   ]
  },
  {
   "cell_type": "code",
   "execution_count": null,
   "id": "southeast-title",
   "metadata": {},
   "outputs": [],
   "source": [
    "BDwhitelist"
   ]
  },
  {
   "cell_type": "code",
   "execution_count": 65,
   "id": "surprising-converter",
   "metadata": {},
   "outputs": [
    {
     "data": {
      "text/plain": [
       "False"
      ]
     },
     "execution_count": 65,
     "metadata": {},
     "output_type": "execute_result"
    }
   ],
   "source": [
    "'TCCAGTCG' in  SGRwhitelist"
   ]
  },
  {
   "cell_type": "code",
   "execution_count": 18,
   "id": "separate-diana",
   "metadata": {},
   "outputs": [
    {
     "data": {
      "text/plain": [
       "True"
      ]
     },
     "execution_count": 18,
     "metadata": {},
     "output_type": "execute_result"
    }
   ],
   "source": [
    "'TATGTGGCA' in BDwhitelist"
   ]
  },
  {
   "cell_type": "code",
   "execution_count": 26,
   "id": "silver-springer",
   "metadata": {},
   "outputs": [],
   "source": [
    "SGR_dict1_top100 = sorted(SGR_dict1.items(), key=lambda x:x[1], reverse=True)[:100]\n",
    "SGR_dict2_top100 = sorted(SGR_dict2.items(), key=lambda x:x[1], reverse=True)[:100]\n",
    "SGR_dict3_top100 = sorted(SGR_dict3.items(), key=lambda x:x[1], reverse=True)[:100]\n",
    "\n",
    "BD_dict1_top100 = sorted(BD_dict1.items(), key=lambda x:x[1], reverse=True)[:100]\n",
    "BD_dict2_top100 = sorted(BD_dict2.items(), key=lambda x:x[1], reverse=True)[:100]\n",
    "BD_dict3_top100 = sorted(BD_dict3.items(), key=lambda x:x[1], reverse=True)[:100]\n",
    "\n",
    "BD_dict1_top200 = sorted(BD_dict1.items(), key=lambda x:x[1], reverse=True)[:200]\n",
    "BD_dict2_top200 = sorted(BD_dict2.items(), key=lambda x:x[1], reverse=True)[:200]\n",
    "BD_dict3_top200 = sorted(BD_dict3.items(), key=lambda x:x[1], reverse=True)[:200]\n",
    "\n",
    "BD_dict1_top300 = sorted(BD_dict1.items(), key=lambda x:x[1], reverse=True)[:300]\n",
    "BD_dict2_top300 = sorted(BD_dict2.items(), key=lambda x:x[1], reverse=True)[:300]\n",
    "BD_dict3_top300 = sorted(BD_dict3.items(), key=lambda x:x[1], reverse=True)[:300]"
   ]
  },
  {
   "cell_type": "code",
   "execution_count": 39,
   "id": "competent-experiment",
   "metadata": {},
   "outputs": [
    {
     "data": {
      "text/plain": [
       "96"
      ]
     },
     "execution_count": 39,
     "metadata": {},
     "output_type": "execute_result"
    }
   ],
   "source": [
    "count = 0 \n",
    "for i in SGR_dict1_top100:\n",
    "    if i[0] in SGRwhitelist:\n",
    "        count += 1\n",
    "count"
   ]
  },
  {
   "cell_type": "code",
   "execution_count": 40,
   "id": "opposite-bibliography",
   "metadata": {},
   "outputs": [
    {
     "data": {
      "text/plain": [
       "96"
      ]
     },
     "execution_count": 40,
     "metadata": {},
     "output_type": "execute_result"
    }
   ],
   "source": [
    "count = 0 \n",
    "for i in SGR_dict2_top100:\n",
    "    if i[0] in SGRwhitelist:\n",
    "        count += 1\n",
    "count"
   ]
  },
  {
   "cell_type": "code",
   "execution_count": 65,
   "id": "documented-structure",
   "metadata": {},
   "outputs": [
    {
     "data": {
      "text/plain": [
       "96"
      ]
     },
     "execution_count": 65,
     "metadata": {},
     "output_type": "execute_result"
    }
   ],
   "source": [
    "count = 0 \n",
    "for i in SGR_dict3_top100:\n",
    "    if i[0] in SGRwhitelist:\n",
    "        count += 1\n",
    "count"
   ]
  },
  {
   "cell_type": "code",
   "execution_count": 66,
   "id": "painted-minneapolis",
   "metadata": {},
   "outputs": [
    {
     "data": {
      "text/plain": [
       "76"
      ]
     },
     "execution_count": 66,
     "metadata": {},
     "output_type": "execute_result"
    }
   ],
   "source": [
    "count = 0 \n",
    "for i in BD_dict1_top100:\n",
    "    if i[0] in BDwhitelist[:97]:\n",
    "        count += 1\n",
    "count"
   ]
  },
  {
   "cell_type": "code",
   "execution_count": 67,
   "id": "referenced-chassis",
   "metadata": {},
   "outputs": [
    {
     "data": {
      "text/plain": [
       "65"
      ]
     },
     "execution_count": 67,
     "metadata": {},
     "output_type": "execute_result"
    }
   ],
   "source": [
    "count = 0 \n",
    "for i in BD_dict2_top100:\n",
    "    if i[0] in BDwhitelist[97:194]:\n",
    "        count += 1\n",
    "count"
   ]
  },
  {
   "cell_type": "code",
   "execution_count": 68,
   "id": "significant-neighbor",
   "metadata": {},
   "outputs": [
    {
     "data": {
      "text/plain": [
       "46"
      ]
     },
     "execution_count": 68,
     "metadata": {},
     "output_type": "execute_result"
    }
   ],
   "source": [
    "count = 0 \n",
    "for i in BD_dict3_top100:\n",
    "    if i[0] in BDwhitelist[194:291]:\n",
    "        count += 1\n",
    "count"
   ]
  },
  {
   "cell_type": "code",
   "execution_count": 69,
   "id": "constitutional-atlas",
   "metadata": {},
   "outputs": [
    {
     "data": {
      "text/plain": [
       "92"
      ]
     },
     "execution_count": 69,
     "metadata": {},
     "output_type": "execute_result"
    }
   ],
   "source": [
    "count = 0 \n",
    "for i in BD_dict1_top100:\n",
    "    if i[0] in BDwhitelist:\n",
    "        count += 1\n",
    "count"
   ]
  },
  {
   "cell_type": "code",
   "execution_count": 70,
   "id": "fitting-count",
   "metadata": {},
   "outputs": [
    {
     "data": {
      "text/plain": [
       "79"
      ]
     },
     "execution_count": 70,
     "metadata": {},
     "output_type": "execute_result"
    }
   ],
   "source": [
    "count = 0 \n",
    "for i in BD_dict2_top100:\n",
    "    if i[0] in BDwhitelist:\n",
    "        count += 1\n",
    "count"
   ]
  },
  {
   "cell_type": "code",
   "execution_count": 71,
   "id": "visible-boulder",
   "metadata": {},
   "outputs": [
    {
     "data": {
      "text/plain": [
       "59"
      ]
     },
     "execution_count": 71,
     "metadata": {},
     "output_type": "execute_result"
    }
   ],
   "source": [
    "count = 0 \n",
    "for i in BD_dict3_top100:\n",
    "    if i[0] in BDwhitelist:\n",
    "        count += 1\n",
    "count"
   ]
  },
  {
   "cell_type": "code",
   "execution_count": 42,
   "id": "awful-qualification",
   "metadata": {},
   "outputs": [
    {
     "data": {
      "text/plain": [
       "96"
      ]
     },
     "execution_count": 42,
     "metadata": {},
     "output_type": "execute_result"
    }
   ],
   "source": [
    "count = 0 \n",
    "for i in BD_dict1_top200:\n",
    "    if i[0] in BDwhitelist:\n",
    "        count += 1\n",
    "count"
   ]
  },
  {
   "cell_type": "code",
   "execution_count": 43,
   "id": "steady-production",
   "metadata": {},
   "outputs": [
    {
     "data": {
      "text/plain": [
       "94"
      ]
     },
     "execution_count": 43,
     "metadata": {},
     "output_type": "execute_result"
    }
   ],
   "source": [
    "count = 0 \n",
    "for i in BD_dict2_top200:\n",
    "    if i[0] in BDwhitelist:\n",
    "        count += 1\n",
    "count"
   ]
  },
  {
   "cell_type": "code",
   "execution_count": 44,
   "id": "tamil-newspaper",
   "metadata": {},
   "outputs": [
    {
     "data": {
      "text/plain": [
       "90"
      ]
     },
     "execution_count": 44,
     "metadata": {},
     "output_type": "execute_result"
    }
   ],
   "source": [
    "count = 0 \n",
    "for i in BD_dict3_top200:\n",
    "    if i[0] in BDwhitelist:\n",
    "        count += 1\n",
    "count"
   ]
  },
  {
   "cell_type": "code",
   "execution_count": 36,
   "id": "global-supply",
   "metadata": {},
   "outputs": [
    {
     "data": {
      "text/plain": [
       "96"
      ]
     },
     "execution_count": 36,
     "metadata": {},
     "output_type": "execute_result"
    }
   ],
   "source": [
    "count = 0 \n",
    "for i in BD_dict1_top300:\n",
    "    if i[0] in BDwhitelist:\n",
    "        count += 1\n",
    "count"
   ]
  },
  {
   "cell_type": "code",
   "execution_count": 37,
   "id": "latin-mixture",
   "metadata": {},
   "outputs": [
    {
     "data": {
      "text/plain": [
       "95"
      ]
     },
     "execution_count": 37,
     "metadata": {},
     "output_type": "execute_result"
    }
   ],
   "source": [
    "count = 0 \n",
    "for i in BD_dict2_top300:\n",
    "    if i[0] in BDwhitelist:\n",
    "        count += 1\n",
    "count"
   ]
  },
  {
   "cell_type": "code",
   "execution_count": 38,
   "id": "considerable-rally",
   "metadata": {},
   "outputs": [
    {
     "data": {
      "text/plain": [
       "95"
      ]
     },
     "execution_count": 38,
     "metadata": {},
     "output_type": "execute_result"
    }
   ],
   "source": [
    "count = 0 \n",
    "for i in BD_dict3_top300:\n",
    "    if i[0] in BDwhitelist:\n",
    "        count += 1\n",
    "count"
   ]
  },
  {
   "cell_type": "code",
   "execution_count": 27,
   "id": "direct-collect",
   "metadata": {},
   "outputs": [
    {
     "data": {
      "text/plain": [
       "('TCGAAGTG', 698568)"
      ]
     },
     "execution_count": 27,
     "metadata": {},
     "output_type": "execute_result"
    }
   ],
   "source": [
    "SGR_dict1_top100[0]"
   ]
  },
  {
   "cell_type": "code",
   "execution_count": 28,
   "id": "crucial-arbor",
   "metadata": {},
   "outputs": [
    {
     "data": {
      "text/plain": [
       "('AAAAAAAA', 24831)"
      ]
     },
     "execution_count": 28,
     "metadata": {},
     "output_type": "execute_result"
    }
   ],
   "source": [
    "SGR_dict1_top100[96]"
   ]
  },
  {
   "cell_type": "code",
   "execution_count": 29,
   "id": "burning-lafayette",
   "metadata": {},
   "outputs": [
    {
     "data": {
      "text/plain": [
       "('ACACACAAA', 661623)"
      ]
     },
     "execution_count": 29,
     "metadata": {},
     "output_type": "execute_result"
    }
   ],
   "source": [
    "BD_dict1_top300[2]"
   ]
  },
  {
   "cell_type": "code",
   "execution_count": 30,
   "id": "maritime-dividend",
   "metadata": {},
   "outputs": [
    {
     "data": {
      "text/plain": [
       "('TGGGGTCCC', 3602)"
      ]
     },
     "execution_count": 30,
     "metadata": {},
     "output_type": "execute_result"
    }
   ],
   "source": [
    "BD_dict1_top300[299]"
   ]
  },
  {
   "cell_type": "code",
   "execution_count": 31,
   "id": "spectacular-annotation",
   "metadata": {},
   "outputs": [
    {
     "data": {
      "text/plain": [
       "True"
      ]
     },
     "execution_count": 31,
     "metadata": {},
     "output_type": "execute_result"
    }
   ],
   "source": [
    "'ACACACAAA' in BDwhitelist"
   ]
  },
  {
   "cell_type": "code",
   "execution_count": null,
   "id": "boring-convertible",
   "metadata": {},
   "outputs": [],
   "source": [
    "BD_dict3_top300"
   ]
  },
  {
   "cell_type": "code",
   "execution_count": null,
   "id": "announced-jungle",
   "metadata": {},
   "outputs": [],
   "source": []
  },
  {
   "cell_type": "code",
   "execution_count": null,
   "id": "polished-lindsay",
   "metadata": {},
   "outputs": [],
   "source": [
    "# VB\n",
    "count = 0\n",
    "sum_count = 0\n",
    "with pysam.FastxFile(BD) as f:\n",
    "    for read in f:\n",
    "        sum_count += 1\n",
    "        if 'ACACGACGCTCTTCCGATCT' in read.sequence:\n",
    "            count += 1"
   ]
  },
  {
   "cell_type": "code",
   "execution_count": 71,
   "id": "unlimited-education",
   "metadata": {},
   "outputs": [
    {
     "data": {
      "text/plain": [
       "0.008177348593076885"
      ]
     },
     "execution_count": 71,
     "metadata": {},
     "output_type": "execute_result"
    }
   ],
   "source": [
    "count/ sum_count"
   ]
  },
  {
   "cell_type": "code",
   "execution_count": 70,
   "id": "downtown-anthony",
   "metadata": {},
   "outputs": [
    {
     "data": {
      "text/plain": [
       "19825497"
      ]
     },
     "execution_count": 70,
     "metadata": {},
     "output_type": "execute_result"
    }
   ],
   "source": [
    "sum_count"
   ]
  },
  {
   "cell_type": "code",
   "execution_count": 19,
   "id": "constitutional-shower",
   "metadata": {},
   "outputs": [],
   "source": [
    "sample1_dict1 = defaultdict(int)\n",
    "sample1_dict2 = defaultdict(int)\n",
    "sample1_dict3 = defaultdict(int)\n",
    "sample2_dict1 = defaultdict(int)\n",
    "sample2_dict2 = defaultdict(int)\n",
    "sample2_dict3 = defaultdict(int)\n"
   ]
  },
  {
   "cell_type": "code",
   "execution_count": 20,
   "id": "violent-stable",
   "metadata": {},
   "outputs": [
    {
     "name": "stderr",
     "output_type": "stream",
     "text": [
      "[W::bgzf_read_block] EOF marker is absent. The input may be truncated\n",
      "[W::bgzf_read_block] EOF marker is absent. The input may be truncated\n"
     ]
    }
   ],
   "source": [
    "with pysam.FastxFile('/SGRNJ06/randd/USER/cjj/celedev/BD_flvdj/Project_luhaisong_220919N/0916TM-L_220919N_S92_R1.fastq.gz') as f:\n",
    "    for read in f:\n",
    "        sample1_dict1[read.sequence[:9]] += 1\n",
    "        sample1_dict2[read.sequence[21:30]] += 1\n",
    "        sample1_dict3[read.sequence[43:52]] += 1\n",
    "with pysam.FastxFile('/SGRNJ06/randd/USER/cjj/celedev/BD_flvdj/Project_luhaisong_220919N/0916TAA-H_220919N_S91_R1.fastq.gz') as f:\n",
    "    for read in f:\n",
    "        sample2_dict1[read.sequence[:9]] += 1\n",
    "        sample2_dict2[read.sequence[21:30]] += 1\n",
    "        sample2_dict3[read.sequence[43:52]] += 1"
   ]
  },
  {
   "cell_type": "code",
   "execution_count": null,
   "id": "final-buffer",
   "metadata": {},
   "outputs": [],
   "source": [
    "sample1_dict1"
   ]
  },
  {
   "cell_type": "code",
   "execution_count": 25,
   "id": "periodic-machinery",
   "metadata": {},
   "outputs": [],
   "source": [
    "sample1_dict1_list = sorted(sample1_dict1.items(), key=lambda x:x[1], reverse=True)[:97]\n",
    "sample2_dict1_list = sorted(sample2_dict1.items(), key=lambda x:x[1], reverse=True)[:97]\n",
    "\n",
    "sample1_dict2_list = sorted(sample1_dict2.items(), key=lambda x:x[1], reverse=True)[:97]\n",
    "sample2_dict2_list = sorted(sample2_dict2.items(), key=lambda x:x[1], reverse=True)[:97]\n",
    "\n",
    "sample1_dict3_list = sorted(sample1_dict3.items(), key=lambda x:x[1], reverse=True)[:97]\n",
    "sample2_dict3_list = sorted(sample2_dict3.items(), key=lambda x:x[1], reverse=True)[:97]"
   ]
  },
  {
   "cell_type": "code",
   "execution_count": 29,
   "id": "close-metropolitan",
   "metadata": {},
   "outputs": [
    {
     "data": {
      "text/plain": [
       "109"
      ]
     },
     "execution_count": 29,
     "metadata": {},
     "output_type": "execute_result"
    }
   ],
   "source": [
    "len(set([i[0] for i in sample1_dict1_list]).intersection(set([i[0] for i in sample2_dict1_list])))"
   ]
  },
  {
   "cell_type": "code",
   "execution_count": 30,
   "id": "lyric-index",
   "metadata": {},
   "outputs": [
    {
     "data": {
      "text/plain": [
       "116"
      ]
     },
     "execution_count": 30,
     "metadata": {},
     "output_type": "execute_result"
    }
   ],
   "source": [
    "len(set([i[0] for i in sample1_dict2_list]).intersection(set([i[0] for i in sample2_dict2_list])))"
   ]
  },
  {
   "cell_type": "code",
   "execution_count": 31,
   "id": "wrong-talent",
   "metadata": {},
   "outputs": [
    {
     "data": {
      "text/plain": [
       "103"
      ]
     },
     "execution_count": 31,
     "metadata": {},
     "output_type": "execute_result"
    }
   ],
   "source": [
    "len(set([i[0] for i in sample1_dict3_list]).intersection(set([i[0] for i in sample2_dict3_list])))"
   ]
  },
  {
   "cell_type": "code",
   "execution_count": 32,
   "id": "guided-walnut",
   "metadata": {},
   "outputs": [],
   "source": [
    "sample92_whitelist = set([i[0] for i in sample1_dict1_list] + [i[0] for i in sample1_dict2_list] + [i[0] for i in sample1_dict3_list])"
   ]
  },
  {
   "cell_type": "code",
   "execution_count": 33,
   "id": "raising-victoria",
   "metadata": {},
   "outputs": [],
   "source": [
    "sample91_whitelist = set([i[0] for i in sample2_dict1_list] + [i[0] for i in sample2_dict2_list] + [i[0] for i in sample2_dict3_list])"
   ]
  },
  {
   "cell_type": "code",
   "execution_count": 36,
   "id": "hundred-termination",
   "metadata": {},
   "outputs": [],
   "source": [
    "with open('/SGRNJ06/randd/USER/cjj/celedev/BD_flvdj/20220929top200/whitelist91_top200.txt', 'w') as f:\n",
    "    for i in sample91_whitelist:\n",
    "        f.write(i +'\\n')"
   ]
  },
  {
   "cell_type": "code",
   "execution_count": 37,
   "id": "sorted-trauma",
   "metadata": {},
   "outputs": [],
   "source": [
    "with open('/SGRNJ06/randd/USER/cjj/celedev/BD_flvdj/20220929top200/whitelist92_top200.txt', 'w') as f:\n",
    "    for i in sample92_whitelist:\n",
    "        f.write(i +'\\n')"
   ]
  },
  {
   "cell_type": "code",
   "execution_count": null,
   "id": "quantitative-internship",
   "metadata": {},
   "outputs": [],
   "source": [
    "sample1_dict1_list"
   ]
  },
  {
   "cell_type": "code",
   "execution_count": 43,
   "id": "phantom-gateway",
   "metadata": {},
   "outputs": [
    {
     "data": {
      "text/plain": [
       "False"
      ]
     },
     "execution_count": 43,
     "metadata": {},
     "output_type": "execute_result"
    }
   ],
   "source": [
    "'ATCGAGTCT' in BDwhitelist"
   ]
  },
  {
   "cell_type": "code",
   "execution_count": null,
   "id": "thousand-egypt",
   "metadata": {},
   "outputs": [],
   "source": [
    "sample1_dict3_list"
   ]
  },
  {
   "cell_type": "code",
   "execution_count": 23,
   "id": "continent-module",
   "metadata": {},
   "outputs": [],
   "source": [
    "BDwhitelist = BDwhitelist.bc.tolist()\n",
    "BDwhitelist = [i.strip(' ') for i in BDwhitelist]\n",
    "BDwhitelist = [reverse_complement(seq) for seq in BDwhitelist[::-1]]\n",
    "BDwhitelist = set(BDwhitelist)"
   ]
  },
  {
   "cell_type": "code",
   "execution_count": null,
   "id": "binding-railway",
   "metadata": {},
   "outputs": [],
   "source": [
    "BDwhitelist"
   ]
  },
  {
   "cell_type": "code",
   "execution_count": null,
   "id": "human-yesterday",
   "metadata": {},
   "outputs": [],
   "source": []
  }
 ],
 "metadata": {
  "kernelspec": {
   "display_name": "cele1.11",
   "language": "python",
   "name": "refactor_trust"
  },
  "language_info": {
   "codemirror_mode": {
    "name": "ipython",
    "version": 3
   },
   "file_extension": ".py",
   "mimetype": "text/x-python",
   "name": "python",
   "nbconvert_exporter": "python",
   "pygments_lexer": "ipython3",
   "version": "3.9.0"
  }
 },
 "nbformat": 4,
 "nbformat_minor": 5
}
