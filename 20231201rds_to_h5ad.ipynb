{
 "cells": [
  {
   "cell_type": "code",
   "execution_count": 1,
   "id": "directed-attack",
   "metadata": {},
   "outputs": [
    {
     "name": "stderr",
     "output_type": "stream",
     "text": [
      "Warning message:\n",
      "“package ‘argparser’ was built under R version 4.1.3”\n",
      "Warning message:\n",
      "“package ‘reticulate’ was built under R version 4.1.3”\n",
      "Warning message:\n",
      "“package ‘matrixStats’ was built under R version 4.1.3”\n",
      "Warning message:\n",
      "“package ‘GenomicRanges’ was built under R version 4.1.3”\n",
      "Warning message:\n",
      "“package ‘S4Vectors’ was built under R version 4.1.3”\n",
      "Warning message:\n",
      "“package ‘IRanges’ was built under R version 4.1.3”\n",
      "Warning message:\n",
      "“package ‘GenomeInfoDb’ was built under R version 4.1.3”\n",
      "Warning message:\n",
      "“package ‘Biobase’ was built under R version 4.1.3”\n",
      "Warning message:\n",
      "“package ‘Seurat’ was built under R version 4.1.2”\n"
     ]
    }
   ],
   "source": [
    "suppressPackageStartupMessages({\n",
    "library(\"argparser\")\n",
    "library(\"reticulate\")\n",
    "library(\"SingleCellExperiment\")\n",
    "library(\"Seurat\")\n",
    "})"
   ]
  },
  {
   "cell_type": "code",
   "execution_count": 2,
   "id": "offensive-shipping",
   "metadata": {},
   "outputs": [],
   "source": [
    "indat <- \"/SGRNJ06/randd/PROJECT/RD20102301_DZH/P21090901_Drug_CART/20230714_zl/singleR_annotation/ZD025_S2_M3_ZL/ZD025_S2_M3_ZL.rds\"\n",
    "outdat <- \"/SGRNJ06/randd/PROJECT/RD20102301_DZH/P21090901_Drug_CART/20230714_zl/singleR_annotation/ZD025_S2_M3_ZL/ZD025_S2_M3_ZL.h5ad\"\n",
    "seurat <- readRDS(indat)\n",
    "seurat@meta.data$cluster <- Idents(seurat)"
   ]
  },
  {
   "cell_type": "code",
   "execution_count": 4,
   "id": "norwegian-array",
   "metadata": {},
   "outputs": [
    {
     "ename": "ERROR",
     "evalue": "Error in parse(text = x, srcfile = src): <text>:1:8: unexpected symbol\n1: import scanpy\n           ^\n",
     "output_type": "error",
     "traceback": [
      "Error in parse(text = x, srcfile = src): <text>:1:8: unexpected symbol\n1: import scanpy\n           ^\nTraceback:\n"
     ]
    }
   ],
   "source": [
    "sc <- import(\"scanpy\")"
   ]
  },
  {
   "cell_type": "code",
   "execution_count": 3,
   "id": "absent-shield",
   "metadata": {},
   "outputs": [
    {
     "ename": "ERROR",
     "evalue": "Error in eval(expr, envir, enclos): ModuleNotFoundError: No module named 'scanpy'\n\n",
     "output_type": "error",
     "traceback": [
      "Error in eval(expr, envir, enclos): ModuleNotFoundError: No module named 'scanpy'\n\nTraceback:\n",
      "1. import(\"scanpy\")",
      "2. py_module_import(module, convert = convert)"
     ]
    }
   ],
   "source": [
    "adata_seurat <- sc$AnnData(\n",
    "X = t(GetAssayData(seurat)),\n",
    "obs = seurat[[]],\n",
    "var = GetAssay(seurat)[[]]\n",
    ")\n",
    "\n",
    "if (!\"gname\" %in% colnames(seurat@meta.data)){\n",
    "if (\"group\" %in% colnames(seurat@meta.data)){\n",
    "adata_seurat$obs$gname = adata_seurat$obs$group\n",
    "}else{\n",
    "adata_seurat$obs$gname = adata_seurat$obs$sample\n",
    "}}\n",
    "\n",
    "if (!\"percent_mt\" %in% colnames(seurat@meta.data)){\n",
    "if (\"percent.mt\" %in% colnames(seurat@meta.data)){\n",
    "adata_seurat$obs$percent_mt = adata_seurat$obs$percent.mt\n",
    "}}\n",
    "\n",
    "if (!\"total_counts\" %in% colnames(seurat@meta.data)){\n",
    "if (\"nCount_RNA\" %in% colnames(seurat@meta.data)){\n",
    "adata_seurat$obs$total_counts = adata_seurat$obs$nCount_RNA\n",
    "}}\n",
    "\n",
    "\n",
    "if (!\"n_genes_by_counts\" %in% colnames(seurat@meta.data)){\n",
    "if (\"nFeature_RNA\" %in% colnames(seurat@meta.data)){\n",
    "adata_seurat$obs$n_genes_by_counts = adata_seurat$obs$nFeature_RNA\n",
    "}}\n",
    "\n",
    "\n",
    "tryCatch({adata_seurat$obsm$update(X_umap = Embeddings(seurat, \"umap\"))}\n",
    ",error=function(e){print(\"NO UMAP EMBEDDINGS\")})\n",
    "\n",
    "tryCatch({adata_seurat$obsm$update(X_tsne = Embeddings(seurat, \"tsne\"))}\n",
    ",error=function(e){print(\"NO TSNE EMBEDDINGS\")})\n",
    "\n",
    "tryCatch({adata_seurat$obsm$update(X_pca = Embeddings(seurat, \"pca\"))}\n",
    ",error=function(e){print(\"NO PCA EMBEDDINGS\")})\n",
    "\n",
    "tryCatch({adata_seurat$obsm$update(X_pca_harmony = Embeddings(seurat, \"harmony\"))}\n",
    ",error=function(e){print(\"NO HARMONY EMBEDDINGS\")})\n",
    "\n",
    "tryCatch({adata_seurat$obsm$update(X_scanorama = Embeddings(seurat, \"scanorama\"))}\n",
    ",error=function(e){print(\"NO SCANORAMA EMBEDDINGS\")})\n",
    "\n",
    "adata_seurat$layers$update(normalised = t(GetAssayData(seurat)))\n",
    "adata_seurat$layers$update(raw = t(GetAssayData(seurat, slot=\"counts\")))\n",
    "\n",
    "adata_seurat$write(outdat)"
   ]
  },
  {
   "cell_type": "code",
   "execution_count": null,
   "id": "copyrighted-summary",
   "metadata": {},
   "outputs": [],
   "source": []
  }
 ],
 "metadata": {
  "kernelspec": {
   "display_name": "r4.1_env",
   "language": "R",
   "name": "r4.1_env"
  },
  "language_info": {
   "codemirror_mode": "r",
   "file_extension": ".r",
   "mimetype": "text/x-r-source",
   "name": "R",
   "pygments_lexer": "r",
   "version": "4.1.1"
  }
 },
 "nbformat": 4,
 "nbformat_minor": 5
}
