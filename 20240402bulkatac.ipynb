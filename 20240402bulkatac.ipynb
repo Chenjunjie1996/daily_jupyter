{
 "cells": [
  {
   "cell_type": "code",
   "execution_count": 3,
   "id": "standing-contamination",
   "metadata": {},
   "outputs": [],
   "source": [
    "from xopen import xopen\n",
    "import pysam"
   ]
  },
  {
   "cell_type": "code",
   "execution_count": 5,
   "id": "after-absence",
   "metadata": {},
   "outputs": [],
   "source": [
    "out = xopen('/SGRNJ06/randd/USER/cjj/celedev/atac/MAESTRO/test/20240402bulk/rawdata/R240301006_R2.fastq.gz', 'w')"
   ]
  },
  {
   "cell_type": "code",
   "execution_count": 7,
   "id": "angry-recall",
   "metadata": {},
   "outputs": [],
   "source": [
    "count = 0 \n",
    "with pysam.FastxFile('/SGRNJ06/randd/USER/cjj/celedev/atac/MAESTRO/test/20240402bulk/rawdata/R240301006_R4.fastq.gz', persist=False) as f:\n",
    "    for read in f:\n",
    "        count += 1\n",
    "        if count % 2 == 0:\n",
    "            out.write(f\"@{read.name}\\nAACAATAGTCAACGTCTCGAGGCAAGGA\\n+\\n{read.quality}\\n\")\n",
    "        else:\n",
    "            out.write(f\"@{read.name}\\nCACACAAGTCATTCCTGCGAGGATCATC\\n+\\n{read.quality}\\n\")"
   ]
  },
  {
   "cell_type": "code",
   "execution_count": 8,
   "id": "demographic-zambia",
   "metadata": {},
   "outputs": [],
   "source": [
    "out.close()"
   ]
  },
  {
   "cell_type": "code",
   "execution_count": null,
   "id": "alien-collaboration",
   "metadata": {},
   "outputs": [],
   "source": []
  }
 ],
 "metadata": {
  "kernelspec": {
   "display_name": "trust4_1.7",
   "language": "python",
   "name": "trust4_1.7"
  },
  "language_info": {
   "codemirror_mode": {
    "name": "ipython",
    "version": 3
   },
   "file_extension": ".py",
   "mimetype": "text/x-python",
   "name": "python",
   "nbconvert_exporter": "python",
   "pygments_lexer": "ipython3",
   "version": "3.7.10"
  }
 },
 "nbformat": 4,
 "nbformat_minor": 5
}
