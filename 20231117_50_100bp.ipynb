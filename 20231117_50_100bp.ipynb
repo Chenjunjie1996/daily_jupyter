{
 "cells": [
  {
   "cell_type": "code",
   "execution_count": 12,
   "id": "posted-integral",
   "metadata": {},
   "outputs": [],
   "source": [
    "import pysam\n",
    "from xopen import xopen"
   ]
  },
  {
   "cell_type": "code",
   "execution_count": 2,
   "id": "improved-devon",
   "metadata": {},
   "outputs": [],
   "source": [
    "r1 = \"/SGRNJ06/randd/PROJECT/scATAC/20231115_mouse_lung/A1031_4_lungs_YSPB_WX_D_SDS_T7_EDTA5030/02.convert/A1031_4_lungs_YSPB_WX_D_SDS_T7_EDTA5030_S1_L001_R1_001.fastq.gz\"\n",
    "r2 = \"/SGRNJ06/randd/PROJECT/scATAC/20231115_mouse_lung/A1031_4_lungs_YSPB_WX_D_SDS_T7_EDTA5030/02.convert/A1031_4_lungs_YSPB_WX_D_SDS_T7_EDTA5030_S1_L001_R3_001.fastq.gz\""
   ]
  },
  {
   "cell_type": "code",
   "execution_count": 3,
   "id": "unnecessary-matthew",
   "metadata": {},
   "outputs": [],
   "source": [
    "fh_fq1 = xopen(\"/SGRNJ06/randd/USER/cjj/celedev/atac/20231117/50bp/rawdata/A1031_4_lungs_YSPB_WX_D_SDS_T7_EDTA5030_S1_L001_R1_001.fastq.gz\", 'w')\n",
    "fh_fq2 = xopen(\"/SGRNJ06/randd/USER/cjj/celedev/atac/20231117/50bp/rawdata/A1031_4_lungs_YSPB_WX_D_SDS_T7_EDTA5030_S1_L001_R3_001.fastq.gz\", 'w')"
   ]
  },
  {
   "cell_type": "code",
   "execution_count": 4,
   "id": "academic-ethics",
   "metadata": {},
   "outputs": [],
   "source": [
    "with pysam.FastxFile(r1, persist=False) as fq1, \\\n",
    "        pysam.FastxFile(r2, persist=False) as fq2:\n",
    "    for entry1, entry2 in zip(fq1, fq2):\n",
    "        fh_fq1.write(f\"@{entry1.name}\\n{entry1.sequence[:50]}\\n+\\n{entry1.quality[:50]}\\n\")\n",
    "        fh_fq2.write(f\"@{entry2.name}\\n{entry2.sequence[:50]}\\n+\\n{entry2.quality[:50]}\\n\")\n",
    "    "
   ]
  },
  {
   "cell_type": "code",
   "execution_count": 5,
   "id": "funded-mandate",
   "metadata": {},
   "outputs": [],
   "source": [
    "fh_fq1.close()\n",
    "fh_fq2.close()"
   ]
  },
  {
   "cell_type": "code",
   "execution_count": null,
   "id": "enclosed-chester",
   "metadata": {},
   "outputs": [],
   "source": []
  },
  {
   "cell_type": "code",
   "execution_count": 6,
   "id": "widespread-ordinary",
   "metadata": {},
   "outputs": [],
   "source": [
    "r1 = \"/SGRNJ06/randd/PROJECT/scATAC/20231115_mouse_lung/A1031_4_lungs_YSPB_WX_D_SDS_T7_EDTA5030/02.convert/A1031_4_lungs_YSPB_WX_D_SDS_T7_EDTA5030_S1_L001_R1_001.fastq.gz\"\n",
    "r2 = \"/SGRNJ06/randd/PROJECT/scATAC/20231115_mouse_lung/A1031_4_lungs_YSPB_WX_D_SDS_T7_EDTA5030/02.convert/A1031_4_lungs_YSPB_WX_D_SDS_T7_EDTA5030_S1_L001_R3_001.fastq.gz\""
   ]
  },
  {
   "cell_type": "code",
   "execution_count": 7,
   "id": "instant-administrator",
   "metadata": {},
   "outputs": [],
   "source": [
    "fh_fq1 = xopen(\"/SGRNJ06/randd/USER/cjj/celedev/atac/20231117/100bp/rawdata/A1031_4_lungs_YSPB_WX_D_SDS_T7_EDTA5030_S1_L001_R1_001.fastq.gz\", 'w')\n",
    "fh_fq2 = xopen(\"/SGRNJ06/randd/USER/cjj/celedev/atac/20231117/100bp/rawdata/A1031_4_lungs_YSPB_WX_D_SDS_T7_EDTA5030_S1_L001_R3_001.fastq.gz\", 'w')"
   ]
  },
  {
   "cell_type": "code",
   "execution_count": 8,
   "id": "noticed-documentation",
   "metadata": {},
   "outputs": [],
   "source": [
    "with pysam.FastxFile(r1, persist=False) as fq1, \\\n",
    "        pysam.FastxFile(r2, persist=False) as fq2:\n",
    "    for entry1, entry2 in zip(fq1, fq2):\n",
    "        fh_fq1.write(f\"@{entry1.name}\\n{entry1.sequence[:100]}\\n+\\n{entry1.quality[:100]}\\n\")\n",
    "        fh_fq2.write(f\"@{entry2.name}\\n{entry2.sequence[:100]}\\n+\\n{entry2.quality[:100]}\\n\")"
   ]
  },
  {
   "cell_type": "code",
   "execution_count": 11,
   "id": "naked-partner",
   "metadata": {},
   "outputs": [],
   "source": [
    "fh_fq1.close()\n",
    "fh_fq2.close()"
   ]
  },
  {
   "cell_type": "code",
   "execution_count": null,
   "id": "pressing-hospital",
   "metadata": {},
   "outputs": [],
   "source": []
  },
  {
   "cell_type": "code",
   "execution_count": null,
   "id": "cross-walker",
   "metadata": {},
   "outputs": [],
   "source": []
  },
  {
   "cell_type": "code",
   "execution_count": 13,
   "id": "alleged-musician",
   "metadata": {},
   "outputs": [],
   "source": [
    "r1 = \"/SGRNJ06/randd/USER/cjj/celedev/atac/MAESTRO/test/20231117_50bp/rawdata/R231102080_R1.fastq.gz\"\n",
    "r2 = \"/SGRNJ06/randd/USER/cjj/celedev/atac/MAESTRO/test/20231117_50bp/rawdata/R231102080_R3.fastq.gz\""
   ]
  },
  {
   "cell_type": "code",
   "execution_count": 14,
   "id": "environmental-founder",
   "metadata": {},
   "outputs": [],
   "source": [
    "fh_fq1 = xopen(\"/SGRNJ06/randd/USER/cjj/celedev/atac/MAESTRO/test/20231117_50bp/rawdata/50/R231102080_R1.fastq.gz\", 'w')\n",
    "fh_fq2 = xopen(\"/SGRNJ06/randd/USER/cjj/celedev/atac/MAESTRO/test/20231117_50bp/rawdata/50/R231102080_R3.fastq.gz\", 'w')"
   ]
  },
  {
   "cell_type": "code",
   "execution_count": 15,
   "id": "fifth-front",
   "metadata": {},
   "outputs": [],
   "source": [
    "with pysam.FastxFile(r1, persist=False) as fq1, \\\n",
    "        pysam.FastxFile(r2, persist=False) as fq2:\n",
    "    for entry1, entry2 in zip(fq1, fq2):\n",
    "        fh_fq1.write(f\"@{entry1.name}\\n{entry1.sequence[:50]}\\n+\\n{entry1.quality[:50]}\\n\")\n",
    "        fh_fq2.write(f\"@{entry2.name}\\n{entry2.sequence[:50]}\\n+\\n{entry2.quality[:50]}\\n\")"
   ]
  },
  {
   "cell_type": "code",
   "execution_count": 16,
   "id": "widespread-forestry",
   "metadata": {},
   "outputs": [],
   "source": [
    "fh_fq1.close()\n",
    "fh_fq2.close()"
   ]
  },
  {
   "cell_type": "code",
   "execution_count": null,
   "id": "raised-affairs",
   "metadata": {},
   "outputs": [],
   "source": []
  },
  {
   "cell_type": "code",
   "execution_count": 18,
   "id": "common-wesley",
   "metadata": {},
   "outputs": [],
   "source": [
    "r1 = \"/SGRNJ06/randd/USER/cjj/celedev/atac/MAESTRO/test/20231117_50bp/rawdata/R231102080_R1.fastq.gz\"\n",
    "r2 = \"/SGRNJ06/randd/USER/cjj/celedev/atac/MAESTRO/test/20231117_50bp/rawdata/R231102080_R3.fastq.gz\""
   ]
  },
  {
   "cell_type": "code",
   "execution_count": 19,
   "id": "viral-october",
   "metadata": {},
   "outputs": [],
   "source": [
    "fh_fq1 = xopen(\"/SGRNJ06/randd/USER/cjj/celedev/atac/MAESTRO/test/20231117_50bp/rawdata/100/R231102080_R1.fastq.gz\", 'w')\n",
    "fh_fq2 = xopen(\"/SGRNJ06/randd/USER/cjj/celedev/atac/MAESTRO/test/20231117_50bp/rawdata/100/R231102080_R3.fastq.gz\", 'w')"
   ]
  },
  {
   "cell_type": "code",
   "execution_count": 20,
   "id": "correct-savings",
   "metadata": {},
   "outputs": [
    {
     "ename": "KeyboardInterrupt",
     "evalue": "",
     "output_type": "error",
     "traceback": [
      "\u001b[0;31m---------------------------------------------------------------------------\u001b[0m",
      "\u001b[0;31mKeyboardInterrupt\u001b[0m                         Traceback (most recent call last)",
      "\u001b[0;32m<ipython-input-20-e36aadf6d2e2>\u001b[0m in \u001b[0;36m<module>\u001b[0;34m\u001b[0m\n\u001b[1;32m      3\u001b[0m     \u001b[0;32mfor\u001b[0m \u001b[0mentry1\u001b[0m\u001b[0;34m,\u001b[0m \u001b[0mentry2\u001b[0m \u001b[0;32min\u001b[0m \u001b[0mzip\u001b[0m\u001b[0;34m(\u001b[0m\u001b[0mfq1\u001b[0m\u001b[0;34m,\u001b[0m \u001b[0mfq2\u001b[0m\u001b[0;34m)\u001b[0m\u001b[0;34m:\u001b[0m\u001b[0;34m\u001b[0m\u001b[0;34m\u001b[0m\u001b[0m\n\u001b[1;32m      4\u001b[0m         \u001b[0mfh_fq1\u001b[0m\u001b[0;34m.\u001b[0m\u001b[0mwrite\u001b[0m\u001b[0;34m(\u001b[0m\u001b[0;34mf\"@{entry1.name}\\n{entry1.sequence[:100]}\\n+\\n{entry1.quality[:100]}\\n\"\u001b[0m\u001b[0;34m)\u001b[0m\u001b[0;34m\u001b[0m\u001b[0;34m\u001b[0m\u001b[0m\n\u001b[0;32m----> 5\u001b[0;31m         \u001b[0mfh_fq2\u001b[0m\u001b[0;34m.\u001b[0m\u001b[0mwrite\u001b[0m\u001b[0;34m(\u001b[0m\u001b[0;34mf\"@{entry2.name}\\n{entry2.sequence[:100]}\\n+\\n{entry2.quality[:100]}\\n\"\u001b[0m\u001b[0;34m)\u001b[0m\u001b[0;34m\u001b[0m\u001b[0;34m\u001b[0m\u001b[0m\n\u001b[0m",
      "\u001b[0;32m/SGRNJ/Public/Software/conda_env/chenjunjie/lib/python3.7/site-packages/xopen/__init__.py\u001b[0m in \u001b[0;36mwrite\u001b[0;34m(self, arg)\u001b[0m\n\u001b[1;32m    160\u001b[0m \u001b[0;34m\u001b[0m\u001b[0m\n\u001b[1;32m    161\u001b[0m     \u001b[0;32mdef\u001b[0m \u001b[0mwrite\u001b[0m\u001b[0;34m(\u001b[0m\u001b[0mself\u001b[0m\u001b[0;34m,\u001b[0m \u001b[0marg\u001b[0m\u001b[0;34m)\u001b[0m\u001b[0;34m:\u001b[0m\u001b[0;34m\u001b[0m\u001b[0;34m\u001b[0m\u001b[0m\n\u001b[0;32m--> 162\u001b[0;31m         \u001b[0mself\u001b[0m\u001b[0;34m.\u001b[0m\u001b[0m_file\u001b[0m\u001b[0;34m.\u001b[0m\u001b[0mwrite\u001b[0m\u001b[0;34m(\u001b[0m\u001b[0marg\u001b[0m\u001b[0;34m)\u001b[0m\u001b[0;34m\u001b[0m\u001b[0;34m\u001b[0m\u001b[0m\n\u001b[0m\u001b[1;32m    163\u001b[0m \u001b[0;34m\u001b[0m\u001b[0m\n\u001b[1;32m    164\u001b[0m     \u001b[0;32mdef\u001b[0m \u001b[0mclose\u001b[0m\u001b[0;34m(\u001b[0m\u001b[0mself\u001b[0m\u001b[0;34m)\u001b[0m\u001b[0;34m:\u001b[0m\u001b[0;34m\u001b[0m\u001b[0;34m\u001b[0m\u001b[0m\n",
      "\u001b[0;31mKeyboardInterrupt\u001b[0m: "
     ]
    }
   ],
   "source": [
    "with pysam.FastxFile(r1, persist=False) as fq1, \\\n",
    "        pysam.FastxFile(r2, persist=False) as fq2:\n",
    "    for entry1, entry2 in zip(fq1, fq2):\n",
    "        fh_fq1.write(f\"@{entry1.name}\\n{entry1.sequence[:100]}\\n+\\n{entry1.quality[:100]}\\n\")\n",
    "        fh_fq2.write(f\"@{entry2.name}\\n{entry2.sequence[:100]}\\n+\\n{entry2.quality[:100]}\\n\")"
   ]
  },
  {
   "cell_type": "code",
   "execution_count": 21,
   "id": "spatial-raleigh",
   "metadata": {},
   "outputs": [
    {
     "ename": "OSError",
     "evalue": "Output gzip process terminated with exit code -2",
     "output_type": "error",
     "traceback": [
      "\u001b[0;31m---------------------------------------------------------------------------\u001b[0m",
      "\u001b[0;31mOSError\u001b[0m                                   Traceback (most recent call last)",
      "\u001b[0;32m<ipython-input-21-104ca2933624>\u001b[0m in \u001b[0;36m<module>\u001b[0;34m\u001b[0m\n\u001b[0;32m----> 1\u001b[0;31m \u001b[0mfh_fq1\u001b[0m\u001b[0;34m.\u001b[0m\u001b[0mclose\u001b[0m\u001b[0;34m(\u001b[0m\u001b[0;34m)\u001b[0m\u001b[0;34m\u001b[0m\u001b[0;34m\u001b[0m\u001b[0m\n\u001b[0m\u001b[1;32m      2\u001b[0m \u001b[0mfh_fq2\u001b[0m\u001b[0;34m.\u001b[0m\u001b[0mclose\u001b[0m\u001b[0;34m(\u001b[0m\u001b[0;34m)\u001b[0m\u001b[0;34m\u001b[0m\u001b[0;34m\u001b[0m\u001b[0m\n",
      "\u001b[0;32m/SGRNJ/Public/Software/conda_env/chenjunjie/lib/python3.7/site-packages/xopen/__init__.py\u001b[0m in \u001b[0;36mclose\u001b[0;34m(self)\u001b[0m\n\u001b[1;32m    169\u001b[0m         \u001b[0mself\u001b[0m\u001b[0;34m.\u001b[0m\u001b[0mdevnull\u001b[0m\u001b[0;34m.\u001b[0m\u001b[0mclose\u001b[0m\u001b[0;34m(\u001b[0m\u001b[0;34m)\u001b[0m\u001b[0;34m\u001b[0m\u001b[0;34m\u001b[0m\u001b[0m\n\u001b[1;32m    170\u001b[0m         \u001b[0;32mif\u001b[0m \u001b[0mretcode\u001b[0m \u001b[0;34m!=\u001b[0m \u001b[0;36m0\u001b[0m\u001b[0;34m:\u001b[0m\u001b[0;34m\u001b[0m\u001b[0;34m\u001b[0m\u001b[0m\n\u001b[0;32m--> 171\u001b[0;31m             \u001b[0;32mraise\u001b[0m \u001b[0mIOError\u001b[0m\u001b[0;34m(\u001b[0m\u001b[0;34m\"Output {0} process terminated with exit code {1}\"\u001b[0m\u001b[0;34m.\u001b[0m\u001b[0mformat\u001b[0m\u001b[0;34m(\u001b[0m\u001b[0mself\u001b[0m\u001b[0;34m.\u001b[0m\u001b[0mprogram\u001b[0m\u001b[0;34m,\u001b[0m \u001b[0mretcode\u001b[0m\u001b[0;34m)\u001b[0m\u001b[0;34m)\u001b[0m\u001b[0;34m\u001b[0m\u001b[0;34m\u001b[0m\u001b[0m\n\u001b[0m\u001b[1;32m    172\u001b[0m \u001b[0;34m\u001b[0m\u001b[0m\n\u001b[1;32m    173\u001b[0m     \u001b[0;32mdef\u001b[0m \u001b[0m__iter__\u001b[0m\u001b[0;34m(\u001b[0m\u001b[0mself\u001b[0m\u001b[0;34m)\u001b[0m\u001b[0;34m:\u001b[0m\u001b[0;34m\u001b[0m\u001b[0;34m\u001b[0m\u001b[0m\n",
      "\u001b[0;31mOSError\u001b[0m: Output gzip process terminated with exit code -2"
     ]
    }
   ],
   "source": [
    "fh_fq1.close()\n",
    "fh_fq2.close()"
   ]
  },
  {
   "cell_type": "code",
   "execution_count": null,
   "id": "chemical-andrews",
   "metadata": {},
   "outputs": [],
   "source": []
  }
 ],
 "metadata": {
  "kernelspec": {
   "display_name": "trust4_1.7",
   "language": "python",
   "name": "trust4_1.7"
  },
  "language_info": {
   "codemirror_mode": {
    "name": "ipython",
    "version": 3
   },
   "file_extension": ".py",
   "mimetype": "text/x-python",
   "name": "python",
   "nbconvert_exporter": "python",
   "pygments_lexer": "ipython3",
   "version": "3.7.10"
  }
 },
 "nbformat": 4,
 "nbformat_minor": 5
}
