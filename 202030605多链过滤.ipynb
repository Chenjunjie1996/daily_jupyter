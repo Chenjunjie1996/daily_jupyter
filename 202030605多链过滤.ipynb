{
 "cells": [
  {
   "cell_type": "code",
   "execution_count": 1,
   "id": "grave-tower",
   "metadata": {},
   "outputs": [],
   "source": [
    "import pandas as pd \n",
    "import glob"
   ]
  },
  {
   "cell_type": "code",
   "execution_count": 2,
   "id": "automotive-liechtenstein",
   "metadata": {},
   "outputs": [],
   "source": [
    "df_list = glob.glob(\"/SGRNJ06/randd/USER/cjj/celedev/vdj10x/20230614/*/03.assemble/*/outs/all_contig_annotations.csv\")"
   ]
  },
  {
   "cell_type": "code",
   "execution_count": 3,
   "id": "sharp-brief",
   "metadata": {},
   "outputs": [
    {
     "data": {
      "text/plain": [
       "['/SGRNJ06/randd/USER/cjj/celedev/vdj10x/20230614/Mus_0516pz_B_3_15_2B3lib/03.assemble/Mus_0516pz_B_3_15_2B3lib/outs/all_contig_annotations.csv',\n",
       " '/SGRNJ06/randd/USER/cjj/celedev/vdj10x/20230614/Mus_0516pz_B_3_5_2B3lib/03.assemble/Mus_0516pz_B_3_5_2B3lib/outs/all_contig_annotations.csv',\n",
       " '/SGRNJ06/randd/USER/cjj/celedev/vdj10x/20230614/Mus_0516pz_B_2_5_1B3lib/03.assemble/Mus_0516pz_B_2_5_1B3lib/outs/all_contig_annotations.csv',\n",
       " '/SGRNJ06/randd/USER/cjj/celedev/vdj10x/20230614/Mus_0516pz_B_3_15_1B3lib/03.assemble/Mus_0516pz_B_3_15_1B3lib/outs/all_contig_annotations.csv',\n",
       " '/SGRNJ06/randd/USER/cjj/celedev/vdj10x/20230614/Mus_0516pz_B_3_5_1B3lib/03.assemble/Mus_0516pz_B_3_5_1B3lib/outs/all_contig_annotations.csv',\n",
       " '/SGRNJ06/randd/USER/cjj/celedev/vdj10x/20230614/Mus_0516pz_B_2_5_2B3lib/03.assemble/Mus_0516pz_B_2_5_2B3lib/outs/all_contig_annotations.csv',\n",
       " '/SGRNJ06/randd/USER/cjj/celedev/vdj10x/20230614/Mus_0516pz_B_15_15_2B3lib/03.assemble/Mus_0516pz_B_15_15_2B3lib/outs/all_contig_annotations.csv',\n",
       " '/SGRNJ06/randd/USER/cjj/celedev/vdj10x/20230614/Mus_0516pz_B_2_15_1B3lib/03.assemble/Mus_0516pz_B_2_15_1B3lib/outs/all_contig_annotations.csv',\n",
       " '/SGRNJ06/randd/USER/cjj/celedev/vdj10x/20230614/Mus_0516pz_B_2_15_2B3lib/03.assemble/Mus_0516pz_B_2_15_2B3lib/outs/all_contig_annotations.csv',\n",
       " '/SGRNJ06/randd/USER/cjj/celedev/vdj10x/20230614/Mus_0516pz_B_15_15_1B3lib/03.assemble/Mus_0516pz_B_15_15_1B3lib/outs/all_contig_annotations.csv',\n",
       " '/SGRNJ06/randd/USER/cjj/celedev/vdj10x/20230614/Mus_0516pz_B_15_5_2B3lib/03.assemble/Mus_0516pz_B_15_5_2B3lib/outs/all_contig_annotations.csv',\n",
       " '/SGRNJ06/randd/USER/cjj/celedev/vdj10x/20230614/Mus_0516pz_B_15_5_1B3lib/03.assemble/Mus_0516pz_B_15_5_1B3lib/outs/all_contig_annotations.csv']"
      ]
     },
     "execution_count": 3,
     "metadata": {},
     "output_type": "execute_result"
    }
   ],
   "source": [
    "df_list"
   ]
  },
  {
   "cell_type": "code",
   "execution_count": 4,
   "id": "classical-salad",
   "metadata": {},
   "outputs": [],
   "source": [
    "sample_list = [i.split('/')[-3] for i in df_list]"
   ]
  },
  {
   "cell_type": "code",
   "execution_count": 5,
   "id": "former-lodge",
   "metadata": {},
   "outputs": [
    {
     "data": {
      "text/plain": [
       "['Mus_0516pz_B_3_15_2B3lib',\n",
       " 'Mus_0516pz_B_3_5_2B3lib',\n",
       " 'Mus_0516pz_B_2_5_1B3lib',\n",
       " 'Mus_0516pz_B_3_15_1B3lib',\n",
       " 'Mus_0516pz_B_3_5_1B3lib',\n",
       " 'Mus_0516pz_B_2_5_2B3lib',\n",
       " 'Mus_0516pz_B_15_15_2B3lib',\n",
       " 'Mus_0516pz_B_2_15_1B3lib',\n",
       " 'Mus_0516pz_B_2_15_2B3lib',\n",
       " 'Mus_0516pz_B_15_15_1B3lib',\n",
       " 'Mus_0516pz_B_15_5_2B3lib',\n",
       " 'Mus_0516pz_B_15_5_1B3lib']"
      ]
     },
     "execution_count": 5,
     "metadata": {},
     "output_type": "execute_result"
    }
   ],
   "source": [
    "sample_list"
   ]
  },
  {
   "cell_type": "code",
   "execution_count": 6,
   "id": "psychological-valentine",
   "metadata": {},
   "outputs": [
    {
     "name": "stdout",
     "output_type": "stream",
     "text": [
      "Mus_0516pz_B_3_15_2B3lib\n",
      "assembled cells : 8450\n",
      "multi productive chains: 4\n",
      "\n",
      "\n",
      "Mus_0516pz_B_3_5_2B3lib\n",
      "assembled cells : 7972\n",
      "multi productive chains: 1\n",
      "\n",
      "\n",
      "Mus_0516pz_B_2_5_1B3lib\n",
      "assembled cells : 6527\n",
      "multi productive chains: 4\n",
      "\n",
      "\n",
      "Mus_0516pz_B_3_15_1B3lib\n",
      "assembled cells : 12126\n",
      "multi productive chains: 48\n",
      "\n",
      "\n",
      "Mus_0516pz_B_3_5_1B3lib\n",
      "assembled cells : 7094\n",
      "multi productive chains: 1\n",
      "\n",
      "\n",
      "Mus_0516pz_B_2_5_2B3lib\n",
      "assembled cells : 6118\n",
      "multi productive chains: 3\n",
      "\n",
      "\n",
      "Mus_0516pz_B_15_15_2B3lib\n",
      "assembled cells : 8854\n",
      "multi productive chains: 66\n",
      "\n",
      "\n",
      "Mus_0516pz_B_2_15_1B3lib\n",
      "assembled cells : 7643\n",
      "multi productive chains: 45\n",
      "\n",
      "\n",
      "Mus_0516pz_B_2_15_2B3lib\n",
      "assembled cells : 8221\n",
      "multi productive chains: 83\n",
      "\n",
      "\n",
      "Mus_0516pz_B_15_15_1B3lib\n",
      "assembled cells : 7676\n",
      "multi productive chains: 32\n",
      "\n",
      "\n",
      "Mus_0516pz_B_15_5_2B3lib\n",
      "assembled cells : 7821\n",
      "multi productive chains: 50\n",
      "\n",
      "\n",
      "Mus_0516pz_B_15_5_1B3lib\n",
      "assembled cells : 6343\n",
      "multi productive chains: 22\n",
      "\n",
      "\n"
     ]
    }
   ],
   "source": [
    "out_file = open(\"/SGRNJ06/randd/USER/cjj/celedev/vdj10x/20230614/multi_chains_cells.txt\", 'w')\n",
    "for i in range(len(df_list)):\n",
    "    df_tmp = pd.read_csv(df_list[i])\n",
    "    df_productive = df_tmp[df_tmp[\"productive\"]==True]\n",
    "    df_cell = df_productive[df_productive[\"is_cell\"]==True]\n",
    "    total_cells = len(set(df_cell.barcode))\n",
    "    print(sample_list[i])\n",
    "    print(f\"assembled cells : {total_cells}\")\n",
    "\n",
    "    \n",
    "    df_not_cell = df_productive[df_productive[\"is_cell\"]==False]\n",
    "    df_not_cell = df_not_cell.groupby(\"barcode\").filter(lambda x: (len(x) > 4))\n",
    "    multi_chains = len(set(df_not_cell.barcode))\n",
    "    print(f\"multi productive chains: {multi_chains}\")\n",
    "    print(\"\\n\")\n",
    "    \n",
    "    out_file.write(f\"{sample_list[i]}\\nassembled cells : {total_cells}\\nmulti productive chains: {multi_chains}\\n\\n\")\n",
    "out_file.close()"
   ]
  },
  {
   "cell_type": "code",
   "execution_count": 25,
   "id": "clean-dispute",
   "metadata": {},
   "outputs": [],
   "source": []
  },
  {
   "cell_type": "code",
   "execution_count": null,
   "id": "comprehensive-investigator",
   "metadata": {},
   "outputs": [],
   "source": []
  },
  {
   "cell_type": "code",
   "execution_count": null,
   "id": "effective-sessions",
   "metadata": {},
   "outputs": [],
   "source": []
  },
  {
   "cell_type": "code",
   "execution_count": 12,
   "id": "spiritual-blocking",
   "metadata": {},
   "outputs": [],
   "source": []
  },
  {
   "cell_type": "code",
   "execution_count": 12,
   "id": "removed-principle",
   "metadata": {},
   "outputs": [],
   "source": []
  },
  {
   "cell_type": "code",
   "execution_count": 13,
   "id": "wicked-bedroom",
   "metadata": {},
   "outputs": [
    {
     "data": {
      "text/plain": [
       "5122"
      ]
     },
     "execution_count": 13,
     "metadata": {},
     "output_type": "execute_result"
    }
   ],
   "source": []
  },
  {
   "cell_type": "code",
   "execution_count": null,
   "id": "sacred-massachusetts",
   "metadata": {},
   "outputs": [],
   "source": []
  }
 ],
 "metadata": {
  "kernelspec": {
   "display_name": "cjj_singularity",
   "language": "python",
   "name": "cjj_singularity"
  },
  "language_info": {
   "codemirror_mode": {
    "name": "ipython",
    "version": 3
   },
   "file_extension": ".py",
   "mimetype": "text/x-python",
   "name": "python",
   "nbconvert_exporter": "python",
   "pygments_lexer": "ipython3",
   "version": "3.9.0"
  }
 },
 "nbformat": 4,
 "nbformat_minor": 5
}
