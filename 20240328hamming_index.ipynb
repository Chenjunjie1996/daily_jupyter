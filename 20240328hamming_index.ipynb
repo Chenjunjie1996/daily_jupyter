{
 "cells": [
  {
   "cell_type": "code",
   "execution_count": 11,
   "id": "important-neighborhood",
   "metadata": {},
   "outputs": [],
   "source": [
    "import itertools"
   ]
  },
  {
   "cell_type": "code",
   "execution_count": 12,
   "id": "dangerous-preference",
   "metadata": {},
   "outputs": [],
   "source": [
    "def hamming_distance(string1, string2):\n",
    "    distance = 0\n",
    "    length = len(string1)\n",
    "    length2 = len(string2)\n",
    "    if (length != length2):\n",
    "        raise Exception(f\"string1({length}) and string2({length2}) do not have same length\")\n",
    "    for i in range(length):\n",
    "        if string1[i] != string2[i]:\n",
    "            distance += 1\n",
    "    return distance"
   ]
  },
  {
   "cell_type": "code",
   "execution_count": 69,
   "id": "organic-beast",
   "metadata": {},
   "outputs": [],
   "source": [
    "a = \"\"\"TTACTCGC\n",
    "TCGTTAGC\n",
    "TACCGAGC\n",
    "TGTTCTCC\n",
    "TTCGCACC\n",
    "TTGCGTAC\n",
    "TCTACGAC\n",
    "TGACAGAC\n",
    "TAGAACAC\n",
    "TCATCCTA\n",
    "TGCTGATA\n",
    "TAGACGGA\n",
    "TGTGAAGA\n",
    "TCTCTTCA\n",
    "TTGTTCCA\n",
    "TGAAGCCA\n",
    "TACCACCA\n",
    "TGCGTGAA\n",
    "GGTGAGTT\n",
    "GATCTCTT\n",
    "GTGTCCTT\n",
    "GACGGATT\n",
    "GCAACATT\n",
    "GGTCGTGT\n",
    "GAATCTGT\n",
    "GTACATCT\n",
    "GAGGTGCT\n",
    "GCATGGCT\n",
    "GTTAGCCT\n",
    "GTCGCTAT\n",
    "GGAATGAT\n",
    "GAGCCAAT\n",
    "GCTCCTTG\n",
    "GTAAGGTG\n",
    "GAGGATGG\n",
    "GTTGTCGG\n",
    "GGATTAGG\n",
    "GATAGAGG\n",
    "GTGTGTCG\n",
    "GCAATCCG\n",
    "GACCTTAG\n",
    "GCCTGTTC\n",
    "GCACTGTC\n",
    "GCTAACTC\n",
    "GATTCATC\n",
    "GTCTTGGC\"\"\""
   ]
  },
  {
   "cell_type": "code",
   "execution_count": 70,
   "id": "twelve-puppy",
   "metadata": {},
   "outputs": [],
   "source": [
    "a = a.split('\\n')"
   ]
  },
  {
   "cell_type": "code",
   "execution_count": 15,
   "id": "decent-computer",
   "metadata": {},
   "outputs": [],
   "source": [
    "b = a.copy()"
   ]
  },
  {
   "cell_type": "code",
   "execution_count": 16,
   "id": "convinced-expense",
   "metadata": {},
   "outputs": [],
   "source": [
    "nums = a"
   ]
  },
  {
   "cell_type": "code",
   "execution_count": null,
   "id": "joined-consciousness",
   "metadata": {},
   "outputs": [],
   "source": [
    "        nums.sort()\n",
    "        n = len(nums)\n",
    "        f, g = [0] * n, [0] * n\n",
    "        for i in range(n):\n",
    "            # 至少包含自身一个数，因此起始长度为 1，由自身转移而来\n",
    "            length, prev = 1, i\n",
    "            for j in range(i):\n",
    "                if hamming_distance(nums[i], nums[j])>=5:\n",
    "                    # 如果能接在更长的序列后面，则更新「最大长度」&「从何转移而来」\n",
    "                    if f[j] + 1 > length:\n",
    "                        length = f[j] + 1\n",
    "                        prev = j\n",
    "            # 记录「最终长度」&「从何转移而来」\n",
    "            f[i] = length\n",
    "            g[i] = prev\n",
    "\n",
    "        # 遍历所有的 f[i]，取得「最大长度」和「对应下标」\n",
    "        max_len = idx = -1\n",
    "        for i in range(n):\n",
    "            if f[i] > max_len:\n",
    "                idx = i\n",
    "                max_len = f[i]\n",
    "        \n",
    "        # 使用 g[] 数组回溯出具体方案\n",
    "        ans = []\n",
    "        while len(ans) < max_len:\n",
    "            ans.append(nums[idx])\n",
    "            idx = g[idx]\n",
    "        ans.reverse()"
   ]
  },
  {
   "cell_type": "code",
   "execution_count": null,
   "id": "moderate-electronics",
   "metadata": {},
   "outputs": [],
   "source": [
    "ans"
   ]
  },
  {
   "cell_type": "code",
   "execution_count": null,
   "id": "knowing-buyer",
   "metadata": {},
   "outputs": [],
   "source": [
    "res = ['GAATCTGT']"
   ]
  },
  {
   "cell_type": "code",
   "execution_count": null,
   "id": "appropriate-reaction",
   "metadata": {},
   "outputs": [],
   "source": [
    "for i in ans:\n",
    "    if hamming_distance(i, res[0]) >=5:\n",
    "        res.append(i)"
   ]
  },
  {
   "cell_type": "code",
   "execution_count": 95,
   "id": "labeled-clarity",
   "metadata": {},
   "outputs": [
    {
     "data": {
      "text/plain": [
       "['GAATCTGT', 'GACCTTAG', 'GACGGATT']"
      ]
     },
     "execution_count": 95,
     "metadata": {},
     "output_type": "execute_result"
    }
   ],
   "source": [
    "a[:3]"
   ]
  },
  {
   "cell_type": "code",
   "execution_count": 17,
   "id": "aware-quilt",
   "metadata": {},
   "outputs": [],
   "source": [
    "c = set(itertools.combinations(a, 8))"
   ]
  },
  {
   "cell_type": "code",
   "execution_count": null,
   "id": "sunset-superintendent",
   "metadata": {},
   "outputs": [],
   "source": [
    "c"
   ]
  },
  {
   "cell_type": "code",
   "execution_count": 20,
   "id": "threatened-secondary",
   "metadata": {},
   "outputs": [],
   "source": [
    "res = []"
   ]
  },
  {
   "cell_type": "code",
   "execution_count": 21,
   "id": "increased-courtesy",
   "metadata": {},
   "outputs": [],
   "source": [
    "for i in c:\n",
    "    keep=True\n",
    "    tmp = set(itertools.combinations(i, 2))\n",
    "    for j in tmp:\n",
    "        if hamming_distance(j[0], j[1])<5:\n",
    "            keep=False\n",
    "            break\n",
    "    if keep:\n",
    "        res.append(i)"
   ]
  },
  {
   "cell_type": "code",
   "execution_count": null,
   "id": "spare-clark",
   "metadata": {},
   "outputs": [],
   "source": [
    "list(itertools.combinations(('GATTCATC',\n",
    "  'GCAATCCG',\n",
    "  'GCTAACTC',\n",
    "  'GTCTTGGC',\n",
    "  'GTGTGTCG',\n",
    "  'TAGAACAC',\n",
    "  'TGCTGATA',\n",
    "  'TTACTCGC'), 2))"
   ]
  },
  {
   "cell_type": "code",
   "execution_count": 35,
   "id": "complete-monthly",
   "metadata": {},
   "outputs": [],
   "source": [
    "out = open('/SGRNJ06/randd/USER/cjj/celedev/atac/20240328hammingindex/index.txt', 'w')"
   ]
  },
  {
   "cell_type": "code",
   "execution_count": 36,
   "id": "lasting-arena",
   "metadata": {},
   "outputs": [],
   "source": [
    "for i in res:\n",
    "    out.write(f'{i}\\n')\n",
    "out.close()"
   ]
  },
  {
   "cell_type": "code",
   "execution_count": 38,
   "id": "brilliant-colon",
   "metadata": {},
   "outputs": [],
   "source": [
    "res = set(res)"
   ]
  },
  {
   "cell_type": "code",
   "execution_count": 42,
   "id": "associate-binding",
   "metadata": {},
   "outputs": [],
   "source": [
    "for i in res:\n",
    "    print(type(i))\n",
    "    break"
   ]
  },
  {
   "cell_type": "code",
   "execution_count": 170,
   "id": "cognitive-anime",
   "metadata": {},
   "outputs": [],
   "source": [
    "res = []"
   ]
  },
  {
   "cell_type": "code",
   "execution_count": 171,
   "id": "intermediate-buddy",
   "metadata": {},
   "outputs": [],
   "source": [
    "with open('/SGRNJ06/randd/USER/cjj/celedev/atac/20240328hammingindex/index.txt', 'r') as f:\n",
    "    for line in f.readlines():\n",
    "        res.append(line.strip('\\n').strip('(').strip(')'))"
   ]
  },
  {
   "cell_type": "code",
   "execution_count": null,
   "id": "compressed-spirituality",
   "metadata": {},
   "outputs": [],
   "source": [
    "res"
   ]
  },
  {
   "cell_type": "code",
   "execution_count": null,
   "id": "suited-postcard",
   "metadata": {},
   "outputs": [],
   "source": [
    "res = [i.replace(\"'\", '').replace(' ','').split(',') for i in res]"
   ]
  },
  {
   "cell_type": "code",
   "execution_count": 175,
   "id": "recent-general",
   "metadata": {},
   "outputs": [
    {
     "data": {
      "text/plain": [
       "939844"
      ]
     },
     "execution_count": 175,
     "metadata": {},
     "output_type": "execute_result"
    }
   ],
   "source": [
    "len(res)"
   ]
  },
  {
   "cell_type": "code",
   "execution_count": 176,
   "id": "executed-people",
   "metadata": {},
   "outputs": [
    {
     "data": {
      "text/plain": [
       "[['TGTTCTCC',\n",
       "  'TAGACGGA',\n",
       "  'TGCGTGAA',\n",
       "  'GTACATCT',\n",
       "  'GCTCCTTG',\n",
       "  'GATAGAGG',\n",
       "  'GCAATCCG',\n",
       "  'GTCTTGGC'],\n",
       " ['TTCGCACC',\n",
       "  'TTGCGTAC',\n",
       "  'TCTACGAC',\n",
       "  'TGCGTGAA',\n",
       "  'GGTGAGTT',\n",
       "  'GCATGGCT',\n",
       "  'GAGGATGG',\n",
       "  'GTCTTGGC'],\n",
       " ['TCGTTAGC',\n",
       "  'TGTTCTCC',\n",
       "  'TGAAGCCA',\n",
       "  'TGCGTGAA',\n",
       "  'GACGGATT',\n",
       "  'GAATCTGT',\n",
       "  'GTAAGGTG',\n",
       "  'GCTAACTC']]"
      ]
     },
     "execution_count": 176,
     "metadata": {},
     "output_type": "execute_result"
    }
   ],
   "source": [
    "res[:3]"
   ]
  },
  {
   "cell_type": "code",
   "execution_count": 178,
   "id": "premier-basics",
   "metadata": {},
   "outputs": [
    {
     "data": {
      "text/plain": [
       "['TTACTCGC', 'TCGTTAGC', 'TACCGAGC']"
      ]
     },
     "execution_count": 178,
     "metadata": {},
     "output_type": "execute_result"
    }
   ],
   "source": [
    "a[:3]"
   ]
  },
  {
   "cell_type": "code",
   "execution_count": 179,
   "id": "settled-picnic",
   "metadata": {},
   "outputs": [],
   "source": [
    "for i in a:\n",
    "    for j in res:\n",
    "        keep=True\n",
    "        for z in j:\n",
    "            if hamming_distance(i, z) < 5:\n",
    "                keep=False\n",
    "                break\n",
    "        if keep:\n",
    "            j.append(i)\n",
    "        "
   ]
  },
  {
   "cell_type": "code",
   "execution_count": null,
   "id": "august-stylus",
   "metadata": {},
   "outputs": [],
   "source": [
    "res"
   ]
  },
  {
   "cell_type": "code",
   "execution_count": 181,
   "id": "adverse-cyprus",
   "metadata": {},
   "outputs": [],
   "source": [
    "res1 = [len(i) for i in res]"
   ]
  },
  {
   "cell_type": "code",
   "execution_count": 185,
   "id": "strange-palestinian",
   "metadata": {},
   "outputs": [
    {
     "data": {
      "text/plain": [
       "['TCGTTAGC',\n",
       " 'TGACAGAC',\n",
       " 'TAGACGGA',\n",
       " 'TCTCTTCA',\n",
       " 'GTGTCCTT',\n",
       " 'GTTGTCGG',\n",
       " 'GACCTTAG',\n",
       " 'GCCTGTTC',\n",
       " 'TTCGCACC',\n",
       " 'TGTGAAGA',\n",
       " 'TGAAGCCA',\n",
       " 'GGTCGTGT',\n",
       " 'GAGGTGCT',\n",
       " 'GTAAGGTG']"
      ]
     },
     "execution_count": 185,
     "metadata": {},
     "output_type": "execute_result"
    }
   ],
   "source": [
    "res[6]"
   ]
  },
  {
   "cell_type": "code",
   "execution_count": 202,
   "id": "controlled-europe",
   "metadata": {},
   "outputs": [],
   "source": [
    "ad = []\n",
    "for i in range(len(res[6])):\n",
    "    for j in range(i+1, len(res[6])):\n",
    "        ad.append(hamming_distance(res[6][i],res[6][j]))"
   ]
  },
  {
   "cell_type": "code",
   "execution_count": 207,
   "id": "exotic-travel",
   "metadata": {},
   "outputs": [
    {
     "data": {
      "text/plain": [
       "91"
      ]
     },
     "execution_count": 207,
     "metadata": {},
     "output_type": "execute_result"
    }
   ],
   "source": [
    "len(ad)"
   ]
  },
  {
   "cell_type": "code",
   "execution_count": 208,
   "id": "graphic-psychology",
   "metadata": {},
   "outputs": [
    {
     "data": {
      "text/plain": [
       "91"
      ]
     },
     "execution_count": 208,
     "metadata": {},
     "output_type": "execute_result"
    }
   ],
   "source": []
  },
  {
   "cell_type": "code",
   "execution_count": null,
   "id": "adequate-somerset",
   "metadata": {},
   "outputs": [],
   "source": []
  }
 ],
 "metadata": {
  "kernelspec": {
   "display_name": "trust4_1.7",
   "language": "python",
   "name": "trust4_1.7"
  },
  "language_info": {
   "codemirror_mode": {
    "name": "ipython",
    "version": 3
   },
   "file_extension": ".py",
   "mimetype": "text/x-python",
   "name": "python",
   "nbconvert_exporter": "python",
   "pygments_lexer": "ipython3",
   "version": "3.7.10"
  }
 },
 "nbformat": 4,
 "nbformat_minor": 5
}
