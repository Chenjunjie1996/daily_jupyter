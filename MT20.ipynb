{
 "cells": [
  {
   "cell_type": "code",
   "execution_count": 1,
   "id": "checked-washington",
   "metadata": {},
   "outputs": [
    {
     "name": "stderr",
     "output_type": "stream",
     "text": [
      "Warning message:\n",
      "“package ‘argparser’ was built under R version 4.0.5”\n",
      "Warning message:\n",
      "“package ‘Seurat’ was built under R version 4.0.5”\n",
      "Attaching SeuratObject\n",
      "\n",
      "\n",
      "Attaching package: ‘dplyr’\n",
      "\n",
      "\n",
      "The following objects are masked from ‘package:stats’:\n",
      "\n",
      "    filter, lag\n",
      "\n",
      "\n",
      "The following objects are masked from ‘package:base’:\n",
      "\n",
      "    intersect, setdiff, setequal, union\n",
      "\n",
      "\n",
      "Registered S3 method overwritten by 'cli':\n",
      "  method     from         \n",
      "  print.boxx spatstat.geom\n",
      "\n",
      "── \u001b[1mAttaching packages\u001b[22m ──────────────────────────────────────────────────────────────────────────────────────────────────────────── tidyverse 1.3.1 ──\n",
      "\n",
      "\u001b[32m✔\u001b[39m \u001b[34mtibble \u001b[39m 3.1.0     \u001b[32m✔\u001b[39m \u001b[34mpurrr  \u001b[39m 0.3.4\n",
      "\u001b[32m✔\u001b[39m \u001b[34mtidyr  \u001b[39m 1.1.3     \u001b[32m✔\u001b[39m \u001b[34mstringr\u001b[39m 1.4.0\n",
      "\u001b[32m✔\u001b[39m \u001b[34mreadr  \u001b[39m 1.4.0     \u001b[32m✔\u001b[39m \u001b[34mforcats\u001b[39m 0.5.1\n",
      "\n",
      "── \u001b[1mConflicts\u001b[22m ─────────────────────────────────────────────────────────────────────────────────────────────────────────────── tidyverse_conflicts() ──\n",
      "\u001b[31m✖\u001b[39m \u001b[34mdplyr\u001b[39m::\u001b[32mfilter()\u001b[39m masks \u001b[34mstats\u001b[39m::filter()\n",
      "\u001b[31m✖\u001b[39m \u001b[34mdplyr\u001b[39m::\u001b[32mlag()\u001b[39m    masks \u001b[34mstats\u001b[39m::lag()\n",
      "\n"
     ]
    }
   ],
   "source": [
    "library(ggplot2)\n",
    "library(reshape2)\n",
    "library(argparser)\n",
    "library(Seurat)\n",
    "library(dplyr)\n",
    "library(grid)\n",
    "library(cowplot)\n",
    "library(dplyr)\n",
    "library(grid)\n",
    "library(tidyverse)"
   ]
  },
  {
   "cell_type": "code",
   "execution_count": 127,
   "id": "pending-police",
   "metadata": {},
   "outputs": [],
   "source": [
    "# RAW1 <- Read10X(data.dir = '/SGRNJ06/randd/USER/cjj/celedev/wanheyuan/20220901cr7_v3/QT-CA-T2202-040/03.cellranger/QT-CA-T2202-040/outs/filtered_feature_bc_matrix')\n",
    "RAW1 <- Read10X(data.dir = '/SGRNJ06/randd/USER/cjj/celedev/wanheyuan/c3rna/chang/DC0004CA')"
   ]
  },
  {
   "cell_type": "code",
   "execution_count": 128,
   "id": "developmental-round",
   "metadata": {},
   "outputs": [],
   "source": [
    "PRO1 <- CreateSeuratObject(counts = RAW1, project = 'test', min.cells = 5)"
   ]
  },
  {
   "cell_type": "code",
   "execution_count": 129,
   "id": "sound-variety",
   "metadata": {},
   "outputs": [
    {
     "data": {
      "text/plain": [
       "An object of class Seurat \n",
       "23823 features across 18710 samples within 1 assay \n",
       "Active assay: RNA (23823 features, 0 variable features)"
      ]
     },
     "metadata": {},
     "output_type": "display_data"
    }
   ],
   "source": [
    "PRO1"
   ]
  },
  {
   "cell_type": "code",
   "execution_count": 130,
   "id": "molecular-earth",
   "metadata": {},
   "outputs": [],
   "source": [
    "PRO1[[\"percent.mt\"]] <- PercentageFeatureSet(PRO1, pattern = \"^MT-\")"
   ]
  },
  {
   "cell_type": "code",
   "execution_count": 131,
   "id": "together-palace",
   "metadata": {},
   "outputs": [
    {
     "data": {
      "text/plain": [
       "\n",
       "FALSE  TRUE \n",
       " 3044 15666 "
      ]
     },
     "metadata": {},
     "output_type": "display_data"
    }
   ],
   "source": [
    "table(PRO1@meta.data$percent.mt > 20)"
   ]
  },
  {
   "cell_type": "code",
   "execution_count": null,
   "id": "maritime-arrow",
   "metadata": {},
   "outputs": [],
   "source": []
  },
  {
   "cell_type": "code",
   "execution_count": 137,
   "id": "alert-wallet",
   "metadata": {},
   "outputs": [
    {
     "name": "stdout",
     "output_type": "stream",
     "text": [
      "\n",
      "FALSE  TRUE \n",
      " 3044 15666 \n",
      "\n",
      "FALSE  TRUE \n",
      " 7522  7928 \n",
      "\n",
      "FALSE  TRUE \n",
      "20646  1097 \n"
     ]
    }
   ],
   "source": [
    "for (i in c('DC0004CA','DC0004CP','DC0005LI')){\n",
    "    RAW1 <- Read10X(data.dir = paste('/SGRNJ06/randd/USER/cjj/celedev/wanheyuan/c3rna/chang/',i,sep=''))\n",
    "    PRO1 <- CreateSeuratObject(counts = RAW1, project = 'test', min.cells = 5)\n",
    "    PRO1[[\"percent.mt\"]] <- PercentageFeatureSet(PRO1, pattern = \"^MT-\")\n",
    "    print(table(PRO1@meta.data$percent.mt > 20))\n",
    "}"
   ]
  },
  {
   "cell_type": "code",
   "execution_count": 139,
   "id": "lonely-still",
   "metadata": {},
   "outputs": [
    {
     "name": "stdout",
     "output_type": "stream",
     "text": [
      "\n",
      "FALSE  TRUE \n",
      "23020  2039 \n",
      "\n",
      "FALSE  TRUE \n",
      "22046   518 \n"
     ]
    }
   ],
   "source": [
    "for (i in c('LC38CA','LC39CA')){\n",
    "    RAW1 <- Read10X(data.dir = paste('/SGRNJ06/randd/USER/cjj/celedev/wanheyuan/c3rna/gan/',i,sep=''))\n",
    "    PRO1 <- CreateSeuratObject(counts = RAW1, project = 'test', min.cells = 5)\n",
    "    PRO1[[\"percent.mt\"]] <- PercentageFeatureSet(PRO1, pattern = \"^MT-\")\n",
    "    print(table(PRO1@meta.data$percent.mt > 20))\n",
    "}"
   ]
  },
  {
   "cell_type": "code",
   "execution_count": 141,
   "id": "romantic-mason",
   "metadata": {},
   "outputs": [
    {
     "name": "stdout",
     "output_type": "stream",
     "text": [
      "\n",
      "FALSE  TRUE \n",
      " 5434  4773 \n"
     ]
    }
   ],
   "source": [
    "for (i in c('QT-CA-T2202-040')){\n",
    "    RAW1 <- Read10X(data.dir = paste('/SGRNJ06/randd/USER/cjj/celedev/wanheyuan/c3rna/xueguan/',i,sep=''))\n",
    "    PRO1 <- CreateSeuratObject(counts = RAW1, project = 'test', min.cells = 5)\n",
    "    PRO1[[\"percent.mt\"]] <- PercentageFeatureSet(PRO1, pattern = \"^MT-\")\n",
    "    print(table(PRO1@meta.data$percent.mt > 20))\n",
    "}"
   ]
  },
  {
   "cell_type": "code",
   "execution_count": 143,
   "id": "identical-ambassador",
   "metadata": {},
   "outputs": [
    {
     "name": "stdout",
     "output_type": "stream",
     "text": [
      "\n",
      "FALSE  TRUE \n",
      "16454 10210 \n",
      "\n",
      "FALSE  TRUE \n",
      " 4288  8944 \n",
      "\n",
      "FALSE  TRUE \n",
      " 6870 14205 \n"
     ]
    },
    {
     "name": "stderr",
     "output_type": "stream",
     "text": [
      "Warning message:\n",
      "“Feature names cannot have underscores ('_'), replacing with dashes ('-')”\n"
     ]
    },
    {
     "name": "stdout",
     "output_type": "stream",
     "text": [
      "\n",
      "FALSE  TRUE \n",
      " 4501 11175 \n"
     ]
    }
   ],
   "source": [
    "for (i in c('GC-NA005','GC-NA006','GC-NA009CP','GC-NA014')){\n",
    "    RAW1 <- Read10X(data.dir = paste('/SGRNJ06/randd/USER/cjj/celedev/wanheyuan/c3rna/wei/',i,sep=''))\n",
    "    PRO1 <- CreateSeuratObject(counts = RAW1, project = 'test', min.cells = 5)\n",
    "    PRO1[[\"percent.mt\"]] <- PercentageFeatureSet(PRO1, pattern = \"^MT-\")\n",
    "    print(table(PRO1@meta.data$percent.mt > 20))\n",
    "}"
   ]
  },
  {
   "cell_type": "code",
   "execution_count": null,
   "id": "controversial-nicaragua",
   "metadata": {},
   "outputs": [],
   "source": []
  },
  {
   "cell_type": "code",
   "execution_count": null,
   "id": "ultimate-integration",
   "metadata": {},
   "outputs": [],
   "source": []
  },
  {
   "cell_type": "code",
   "execution_count": 4,
   "id": "abstract-proportion",
   "metadata": {},
   "outputs": [],
   "source": [
    "sgr = Read10X(data.dir = '/SGRNJ06/randd/USER/cjj/celedev/wanheyuan/c3rna/chang/DC0004CA/05.count/filtered_feature_bc_matrix/')\n",
    "cr = Read10X(data.dir = '/SGRNJ06/randd/USER/cjj/celedev/wanheyuan/20220901cr6_v3/DC0004CA/03.cellranger/DC0004CA/outs/filtered_feature_bc_matrix')"
   ]
  },
  {
   "cell_type": "code",
   "execution_count": 11,
   "id": "still-calculator",
   "metadata": {},
   "outputs": [
    {
     "name": "stdout",
     "output_type": "stream",
     "text": [
      "\n",
      "FALSE  TRUE \n",
      " 2742 15968 \n"
     ]
    }
   ],
   "source": [
    "    #sgr <- CreateSeuratObject(counts = sgr, project = 'test', min.cells = 5)\n",
    "    sgr[[\"percent.mt\"]] <- PercentageFeatureSet(sgr, pattern = \"^MT-\")\n",
    "    print(table(sgr@meta.data$percent.mt > 20))"
   ]
  },
  {
   "cell_type": "code",
   "execution_count": 10,
   "id": "olive-boards",
   "metadata": {},
   "outputs": [
    {
     "name": "stdout",
     "output_type": "stream",
     "text": [
      "\n",
      "FALSE  TRUE \n",
      " 6018  9283 \n"
     ]
    }
   ],
   "source": [
    "    #cr <- CreateSeuratObject(counts = cr, project = 'test', min.cells = 5)\n",
    "    cr[[\"percent.mt\"]] <- PercentageFeatureSet(cr, pattern = \"^MT-\")\n",
    "    print(table(cr@meta.data$percent.mt > 20))"
   ]
  },
  {
   "cell_type": "code",
   "execution_count": 149,
   "id": "alternate-porcelain",
   "metadata": {},
   "outputs": [],
   "source": [
    "write.table(cr@meta.data,file='/SGRNJ06/randd/USER/cjj/celedev/wanheyuan/abnormal/DC0004CA_CR_meta.tsv',sep='\\t', quote=F, row.names=T)\n",
    "write.table(sgr@meta.data,file='/SGRNJ06/randd/USER/cjj/celedev/wanheyuan/abnormal/DC0004CA_CS_meta.tsv',sep='\\t', quote=F, row.names=T)"
   ]
  },
  {
   "cell_type": "code",
   "execution_count": null,
   "id": "chemical-nowhere",
   "metadata": {},
   "outputs": [],
   "source": [
    "cr@meta.data"
   ]
  },
  {
   "cell_type": "code",
   "execution_count": 2,
   "id": "mounted-friendly",
   "metadata": {},
   "outputs": [
    {
     "name": "stdout",
     "output_type": "stream",
     "text": [
      "\n",
      "FALSE  TRUE \n",
      " 5434  4773 \n"
     ]
    }
   ],
   "source": [
    "for (i in c('QT-CA-T2202-040')){\n",
    "    RAW1 <- Read10X(data.dir = paste('/SGRNJ06/randd/USER/cjj/celedev/wanheyuan/c3rna/xueguan/',i,sep=''))\n",
    "    PRO1 <- CreateSeuratObject(counts = RAW1, project = 'test', min.cells = 5)\n",
    "    PRO1[[\"percent.mt\"]] <- PercentageFeatureSet(PRO1, pattern = \"^MT-\")\n",
    "    print(table(PRO1@meta.data$percent.mt > 20))\n",
    "}"
   ]
  },
  {
   "cell_type": "code",
   "execution_count": null,
   "id": "mediterranean-dover",
   "metadata": {},
   "outputs": [],
   "source": []
  },
  {
   "cell_type": "code",
   "execution_count": 2,
   "id": "residential-pursuit",
   "metadata": {},
   "outputs": [],
   "source": [
    "sgr = Read10X(data.dir = '/SGRNJ06/randd/USER/cjj/celedev/mkgtf/test/ensemble105/DC0004CA/05.count/DC0004CA_filtered_feature_bc_matrix')"
   ]
  },
  {
   "cell_type": "code",
   "execution_count": 3,
   "id": "recent-blast",
   "metadata": {},
   "outputs": [
    {
     "name": "stdout",
     "output_type": "stream",
     "text": [
      "\n",
      "FALSE  TRUE \n",
      " 5212  9424 \n"
     ]
    }
   ],
   "source": [
    "    sgr <- CreateSeuratObject(counts = sgr, project = 'test', min.cells = 5)\n",
    "    sgr[[\"percent.mt\"]] <- PercentageFeatureSet(sgr, pattern = \"^MT-\")\n",
    "    print(table(sgr@meta.data$percent.mt > 20))"
   ]
  },
  {
   "cell_type": "code",
   "execution_count": null,
   "id": "sought-press",
   "metadata": {},
   "outputs": [],
   "source": []
  }
 ],
 "metadata": {
  "kernelspec": {
   "display_name": "CJJcele",
   "language": "R",
   "name": "cjjcele"
  },
  "language_info": {
   "codemirror_mode": "r",
   "file_extension": ".r",
   "mimetype": "text/x-r-source",
   "name": "R",
   "pygments_lexer": "r",
   "version": "4.0.3"
  }
 },
 "nbformat": 4,
 "nbformat_minor": 5
}
