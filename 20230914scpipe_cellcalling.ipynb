{
 "cells": [
  {
   "cell_type": "code",
   "execution_count": null,
   "id": "improved-wealth",
   "metadata": {},
   "outputs": [],
   "source": [
    "library(\"scPipe\")"
   ]
  },
  {
   "cell_type": "code",
   "execution_count": null,
   "id": "greek-aging",
   "metadata": {},
   "outputs": [],
   "source": [
    "features          <- \"/SGRNJ06/randd/USER/cjj/celedev/atac/celescope_atac/20230913_pipeline/test/02.atac/NA_peaks.narrowPeak\"\n",
    "sc_atac_feature_counting (fragment_file = \"/SGRNJ06/randd/USER/cjj/celedev/atac/celescope_atac/20230913_pipeline/test/02.atac/fragments.bed\",\n",
    "                          feature_input = features,\n",
    "                          bam_tags      = list(bc=\"CB\", mb=\"OX\"),\n",
    "                          feature_type  = \"peak\",\n",
    "                          organism      = \"hg38\",\n",
    "                          cell_calling  = FALSE,\n",
    "                          min_uniq_frags = 0,\n",
    "                          min_frac_peak = 0,\n",
    "                          min_frac_promoter = 0,\n",
    "                          yieldsize     = 1000000,\n",
    "                          exclude_regions = TRUE,\n",
    "                          output_folder = \"/SGRNJ06/randd/USER/cjj/celedev/atac/celescope_atac/20230913_pipeline/cell_calling\",\n",
    "                          fix_chr       = \"none\",\n",
    "                          create_report = FALSE\n",
    "                          )"
   ]
  },
  {
   "cell_type": "code",
   "execution_count": null,
   "id": "charged-favorite",
   "metadata": {},
   "outputs": [],
   "source": []
  },
  {
   "cell_type": "code",
   "execution_count": 19,
   "id": "organizational-drawing",
   "metadata": {},
   "outputs": [
    {
     "name": "stderr",
     "output_type": "stream",
     "text": [
      "`genome bin` feature type is selected for feature input. reading the genome fasta file ...\n",
      "\n",
      "Default bin size of 2000 is selected\n",
      "\n"
     ]
    },
    {
     "name": "stdout",
     "output_type": "stream",
     "text": [
      "Number of read lines: 65985252\n",
      "Number of read sequences: 711\n",
      "Number of written lines: 1649963\n"
     ]
    },
    {
     "name": "stderr",
     "output_type": "stream",
     "text": [
      "Generated the genome bin file:\n",
      "/SGRNJ06/randd/USER/cjj/celedev/atac/celescope_atac/20230913_pipeline/cell_calling/hg38.bed\n",
      "\n",
      "Creating Galignment object for the feature input ...\n",
      "\n",
      "hg38is a recognized organism. Using annotation files in repository.\n",
      "\n",
      "Generating TSS plot data\n",
      "\n",
      "Generating feature-barcode fragment count matrix\n",
      "\n"
     ]
    },
    {
     "ename": "ERROR",
     "evalue": "Error in table(feature = features$feature[i:(i + chunk_size - 1)], barcode = barcodes[i:(i + : attempt to make a table with >= 2^31 elements\n",
     "output_type": "error",
     "traceback": [
      "Error in table(feature = features$feature[i:(i + chunk_size - 1)], barcode = barcodes[i:(i + : attempt to make a table with >= 2^31 elements\nTraceback:\n",
      "1. sc_atac_feature_counting(fragment_file = \"/SGRNJ06/randd/USER/cjj/celedev/atac/celescope_atac/20230913_pipeline/test/02.atac/fragments.bed\", \n .     feature_input = reference, bam_tags = list(bc = \"CB\", mb = \"OX\"), \n .     feature_type = \"genome_bin\", organism = \"hg38\", cell_calling = FALSE, \n .     yieldsize = 1e+06, exclude_regions = TRUE, output_folder = \"/SGRNJ06/randd/USER/cjj/celedev/atac/celescope_atac/20230913_pipeline/cell_calling\", \n .     fix_chr = \"none\")",
      "2. as.matrix(table(feature = features$feature[i:(i + chunk_size - \n .     1)], barcode = barcodes[i:(i + chunk_size - 1)]))",
      "3. table(feature = features$feature[i:(i + chunk_size - 1)], barcode = barcodes[i:(i + \n .     chunk_size - 1)])",
      "4. stop(\"attempt to make a table with >= 2^31 elements\")"
     ]
    }
   ],
   "source": [
    "reference       <- \"/SGRNJ06/randd/USER/cjj/soft/scpipe/ref/latest/hg38.fa\"\n",
    "sc_atac_feature_counting (fragment_file = \"/SGRNJ06/randd/USER/cjj/celedev/atac/celescope_atac/20230913_pipeline/test/02.atac/fragments.bed\",\n",
    "                          feature_input = reference,\n",
    "                          bam_tags      = list(bc=\"CB\", mb=\"OX\"),\n",
    "                          feature_type  = \"genome_bin\",\n",
    "                          organism      = \"hg38\",\n",
    "                          cell_calling  = FALSE,\n",
    "                          yieldsize     = 1000000,\n",
    "                          exclude_regions = TRUE,\n",
    "                          output_folder = \"/SGRNJ06/randd/USER/cjj/celedev/atac/celescope_atac/20230913_pipeline/cell_calling\",\n",
    "                          fix_chr       = \"none\"\n",
    "                          )"
   ]
  },
  {
   "cell_type": "code",
   "execution_count": null,
   "id": "least-import",
   "metadata": {},
   "outputs": [],
   "source": []
  },
  {
   "cell_type": "code",
   "execution_count": null,
   "id": "distinguished-trademark",
   "metadata": {},
   "outputs": [],
   "source": []
  },
  {
   "cell_type": "code",
   "execution_count": null,
   "id": "likely-scenario",
   "metadata": {},
   "outputs": [],
   "source": [
    "features          <- \"/SGRNJ06/randd/USER/cjj/celedev/atac/celescope_atac/20230913_pipeline/test/02.atac/NA_peaks.narrowPeak\"\n",
    "sc_atac_feature_counting (fragment_file = \"/SGRNJ06/randd/USER/cjj/celedev/atac/celescope_atac/20230913_pipeline/test/02.atac/fragments.bed\",\n",
    "                          feature_input = features,\n",
    "                          bam_tags      = list(bc=\"CB\", mb=\"OX\"),\n",
    "                          feature_type  = \"peak\",\n",
    "                          organism      = \"hg38\",\n",
    "                          cell_calling  = \"emptydrops\",\n",
    "                          yieldsize     = 1000000,\n",
    "                          exclude_regions = TRUE,\n",
    "                          output_folder = \"/SGRNJ06/randd/USER/cjj/celedev/atac/celescope_atac/20230913_pipeline/cell_calling\",\n",
    "                          fix_chr       = \"none\",\n",
    "                          create_report = FALSE\n",
    "                          )"
   ]
  },
  {
   "cell_type": "code",
   "execution_count": null,
   "id": "dense-heater",
   "metadata": {},
   "outputs": [],
   "source": []
  },
  {
   "cell_type": "code",
   "execution_count": null,
   "id": "fatal-bangkok",
   "metadata": {},
   "outputs": [],
   "source": [
    "# emptydrops\n",
    "features          <- \"/SGRNJ06/randd/USER/cjj/celedev/atac/celescope_atac/20230913_pipeline/test/02.atac/NA_peaks.narrowPeak\"\n",
    "sc_atac_feature_counting (fragment_file = \"/SGRNJ06/randd/USER/cjj/celedev/atac/celescope_atac/20230913_pipeline/test/02.atac/fragments.bed\",\n",
    "                          feature_input = features,\n",
    "                          bam_tags      = list(bc=\"CB\", mb=\"OX\"),\n",
    "                          feature_type  = \"peak\",\n",
    "                          organism      = \"hg38\",\n",
    "                          cell_calling  = \"emptydrops\",\n",
    "                          min_uniq_frags = 3000,\n",
    "                          min_frac_peak = 0.3,\n",
    "                          min_frac_promoter = 0.1,\n",
    "                          yieldsize     = 1000000,\n",
    "                          exclude_regions = TRUE,\n",
    "                          output_folder = \"/SGRNJ06/randd/USER/cjj/celedev/atac/celescope_atac/20230913_pipeline/cell_calling\",\n",
    "                          fix_chr       = \"none\",\n",
    "                          create_report = FALSE\n",
    "                          )"
   ]
  },
  {
   "cell_type": "code",
   "execution_count": null,
   "id": "disciplinary-retreat",
   "metadata": {},
   "outputs": [],
   "source": []
  },
  {
   "cell_type": "code",
   "execution_count": null,
   "id": "excess-marine",
   "metadata": {},
   "outputs": [],
   "source": []
  },
  {
   "cell_type": "code",
   "execution_count": null,
   "id": "proprietary-military",
   "metadata": {},
   "outputs": [],
   "source": []
  },
  {
   "cell_type": "code",
   "execution_count": null,
   "id": "weird-compromise",
   "metadata": {},
   "outputs": [],
   "source": []
  },
  {
   "cell_type": "code",
   "execution_count": null,
   "id": "approved-warehouse",
   "metadata": {},
   "outputs": [],
   "source": []
  },
  {
   "cell_type": "code",
   "execution_count": null,
   "id": "periodic-store",
   "metadata": {},
   "outputs": [],
   "source": []
  },
  {
   "cell_type": "code",
   "execution_count": null,
   "id": "nutritional-eugene",
   "metadata": {},
   "outputs": [],
   "source": []
  },
  {
   "cell_type": "code",
   "execution_count": null,
   "id": "inner-embassy",
   "metadata": {},
   "outputs": [],
   "source": []
  },
  {
   "cell_type": "code",
   "execution_count": null,
   "id": "utility-polls",
   "metadata": {},
   "outputs": [],
   "source": []
  },
  {
   "cell_type": "code",
   "execution_count": null,
   "id": "intermediate-behavior",
   "metadata": {},
   "outputs": [],
   "source": []
  },
  {
   "cell_type": "code",
   "execution_count": null,
   "id": "ultimate-orleans",
   "metadata": {},
   "outputs": [],
   "source": []
  }
 ],
 "metadata": {
  "kernelspec": {
   "display_name": "scpipe",
   "language": "R",
   "name": "scpipe"
  },
  "language_info": {
   "codemirror_mode": "r",
   "file_extension": ".r",
   "mimetype": "text/x-r-source",
   "name": "R",
   "pygments_lexer": "r",
   "version": "4.3.1"
  }
 },
 "nbformat": 4,
 "nbformat_minor": 5
}
