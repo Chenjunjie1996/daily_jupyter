{
 "cells": [
  {
   "cell_type": "code",
   "execution_count": 30,
   "id": "downtown-remark",
   "metadata": {},
   "outputs": [],
   "source": [
    "import pandas as pd \n",
    "import sys\n",
    "import numpy as np \n",
    "from multiprocessing import Pool\n",
    "import pandas as pd \n",
    "import itertools"
   ]
  },
  {
   "cell_type": "code",
   "execution_count": 2,
   "id": "rotary-reconstruction",
   "metadata": {},
   "outputs": [],
   "source": [
    "df_peaks=pd.read_csv(\"/SGRNJ06/randd/USER/cjj/celedev/atac/MAESTRO/test/20231031sgr/A1017_3_ML_YSPB_WX_R_T7_EDTA5030/02.atac/Result/Analysis/A1017_3_ML_YSPB_WX_R_T7_EDTA5030/A1017_3_ML_YSPB_WX_R_T7_EDTA5030_final_peaks.bed\",header=None, sep='\\t', names=[\"chr\", \"start\", \"end\"])\n",
    "df_fragments = pd.read_csv(\"/SGRNJ06/randd/USER/cjj/celedev/atac/MAESTRO/test/20231031sgr/A1017_3_ML_YSPB_WX_R_T7_EDTA5030/02.atac/Result/Mapping/A1017_3_ML_YSPB_WX_R_T7_EDTA5030/fragments_corrected_count_sortedbybarcode.tsv\",header=None, sep='\\t', names=[\"chr\", \"start\", \"end\", \"barcode\", \"count\"])"
   ]
  },
  {
   "cell_type": "code",
   "execution_count": null,
   "id": "later-drill",
   "metadata": {},
   "outputs": [],
   "source": [
    "print(str(sys.getsizeof(df_fragments)/1024/1024)+' MB')"
   ]
  },
  {
   "cell_type": "code",
   "execution_count": null,
   "id": "statutory-point",
   "metadata": {},
   "outputs": [],
   "source": [
    "df = df_fragments"
   ]
  },
  {
   "cell_type": "code",
   "execution_count": null,
   "id": "educational-section",
   "metadata": {},
   "outputs": [],
   "source": [
    "    numerics = ['int16', 'int32', 'int64', 'float16', 'float32', 'float64']\n",
    "    # 计算当前占用的内存 \n",
    "    start_mem = df.memory_usage(deep=True).sum() / 1024**2\n",
    "    # 循环每一列\n",
    "    for col in df.columns:\n",
    "        # 获取每一列的数据类型\n",
    "        col_type = df[col].dtypes\n",
    "        # 如果数据类型属于上面定义的类型之\n",
    "        if col_type in numerics:\n",
    "            # 计算该列数据的最小值和最大值 用于我们指定相应的数据类型 \n",
    "            c_min = df[col].min()\n",
    "            c_max = df[col].max()\n",
    "\n",
    "            # 如果 该列的数据类型属于 int 类型，然后进行判断\n",
    "            if str(col_type)[:3] == 'int':\n",
    "                # 如果 该列最小的值 大于int8类型的最小值，并且最大值小于int8类型的最大值，则采用int8类型 \n",
    "                if c_min > np.iinfo(np.int8).min and c_max < np.iinfo(np.int8).max:\n",
    "                    df[col] = df[col].astype(np.int8)\n",
    "\n",
    "                # 同上\n",
    "                elif c_min > np.iinfo(np.int16).min and c_max < np.iinfo(np.int16).max:\n",
    "                    df[col] = df[col].astype(np.int16)\n",
    "\n",
    "                # 同上\n",
    "                elif c_min > np.iinfo(np.int32).min and c_max < np.iinfo(np.int32).max:\n",
    "                    df[col] = df[col].astype(np.int32)\n",
    "\n",
    "                # 同上\n",
    "                elif c_min > np.iinfo(np.int64).min and c_max < np.iinfo(np.int64).max:\n",
    "                    df[col] = df[col].astype(np.int64)\n",
    "\n",
    "            # 否则 则采用 float 的处理方法       \n",
    "            else:\n",
    "\n",
    "                if c_min > np.finfo(np.float32).min and c_max < np.finfo(np.float32).max:\n",
    "                    df[col] = df[col].astype(np.float32)\n",
    "\n",
    "                else:\n",
    "                    df[col] = df[col].astype(np.float64)"
   ]
  },
  {
   "cell_type": "code",
   "execution_count": null,
   "id": "elect-communications",
   "metadata": {},
   "outputs": [],
   "source": [
    "print(str(sys.getsizeof(df)/1024/1024)+' MB')"
   ]
  },
  {
   "cell_type": "code",
   "execution_count": null,
   "id": "vanilla-diary",
   "metadata": {},
   "outputs": [],
   "source": []
  },
  {
   "cell_type": "code",
   "execution_count": null,
   "id": "abstract-thanks",
   "metadata": {},
   "outputs": [],
   "source": [
    "print(str(sys.getsizeof(df_fragments)/1024/1024)+' MB')"
   ]
  },
  {
   "cell_type": "code",
   "execution_count": null,
   "id": "exterior-hungary",
   "metadata": {},
   "outputs": [],
   "source": []
  },
  {
   "cell_type": "code",
   "execution_count": null,
   "id": "handed-reading",
   "metadata": {},
   "outputs": [],
   "source": [
    "gl_obj = df.copy()"
   ]
  },
  {
   "cell_type": "code",
   "execution_count": null,
   "id": "annual-drove",
   "metadata": {},
   "outputs": [],
   "source": [
    "print(str(sys.getsizeof(gl_obj)/1024/1024)+' MB')"
   ]
  },
  {
   "cell_type": "code",
   "execution_count": null,
   "id": "corresponding-protocol",
   "metadata": {},
   "outputs": [],
   "source": [
    "converted_obj = pd.DataFrame()\n",
    "for col in gl_obj.columns:\n",
    "    num_unique_values = len(gl_obj[col].unique())\n",
    "    num_total_values = len(gl_obj[col])\n",
    "    if num_unique_values / num_total_values < 0.5:\n",
    "        converted_obj.loc[:,col] = gl_obj[col].astype('category')\n",
    "    else:\n",
    "        converted_obj.loc[:,col] = gl_obj[col]"
   ]
  },
  {
   "cell_type": "code",
   "execution_count": null,
   "id": "romance-matter",
   "metadata": {},
   "outputs": [],
   "source": [
    "print(str(sys.getsizeof(converted_obj)/1024/1024)+' MB')"
   ]
  },
  {
   "cell_type": "code",
   "execution_count": null,
   "id": "noticed-boring",
   "metadata": {},
   "outputs": [],
   "source": [
    "converted_obj.sort_values('end')"
   ]
  },
  {
   "cell_type": "code",
   "execution_count": null,
   "id": "innovative-collins",
   "metadata": {},
   "outputs": [],
   "source": []
  },
  {
   "cell_type": "code",
   "execution_count": null,
   "id": "descending-lesson",
   "metadata": {},
   "outputs": [],
   "source": [
    "# test"
   ]
  },
  {
   "cell_type": "code",
   "execution_count": 31,
   "id": "sharing-purchase",
   "metadata": {},
   "outputs": [],
   "source": [
    "df_peaks=pd.read_csv(\"/SGRNJ06/randd/USER/cjj/celedev/atac/MAESTRO/test/20231031sgr/A1017_3_ML_YSPB_WX_R_T7_EDTA5030/02.atac/Result/Analysis/A1017_3_ML_YSPB_WX_R_T7_EDTA5030/A1017_3_ML_YSPB_WX_R_T7_EDTA5030_final_peaks.bed\",header=None, sep='\\t', names=[\"chr\", \"start\", \"end\"])\n",
    "df_fragments = pd.read_csv(\"/SGRNJ06/randd/USER/cjj/celedev/atac/MAESTRO/test/20231031sgr/A1017_3_ML_YSPB_WX_R_T7_EDTA5030/02.atac/Result/Mapping/A1017_3_ML_YSPB_WX_R_T7_EDTA5030/fragments_corrected_count_sortedbybarcode.tsv\",header=None, sep='\\t', names=[\"chr\", \"start\", \"end\", \"barcode\", \"count\"])"
   ]
  },
  {
   "cell_type": "code",
   "execution_count": null,
   "id": "parallel-franklin",
   "metadata": {},
   "outputs": [],
   "source": [
    "def reduce_mem_usage(df, verbose=True):\n",
    "    numerics = ['int16', 'int32', 'int64', 'float16', 'float32', 'float64']\n",
    "    # 计算当前占用的内存 \n",
    "    start_mem = df.memory_usage(deep=True).sum() / 1024**2\n",
    "    # 循环每一列\n",
    "    for col in df.columns:\n",
    "        # 获取每一列的数据类型\n",
    "        col_type = df[col].dtypes\n",
    "        # 如果数据类型属于上面定义的类型之\n",
    "        if col_type in numerics:\n",
    "            # 计算该列数据的最小值和最大值 用于我们指定相应的数据类型 \n",
    "            c_min = df[col].min()\n",
    "            c_max = df[col].max()\n",
    "\n",
    "            # 如果 该列的数据类型属于 int 类型，然后进行判断\n",
    "            if str(col_type)[:3] == 'int':\n",
    "                # 如果 该列最小的值 大于int8类型的最小值，并且最大值小于int8类型的最大值，则采用int8类型 \n",
    "                if c_min > np.iinfo(np.int8).min and c_max < np.iinfo(np.int8).max:\n",
    "                    df[col] = df[col].astype(np.int8)\n",
    "\n",
    "                # 同上\n",
    "                elif c_min > np.iinfo(np.int16).min and c_max < np.iinfo(np.int16).max:\n",
    "                    df[col] = df[col].astype(np.int16)\n",
    "\n",
    "                # 同上\n",
    "                elif c_min > np.iinfo(np.int32).min and c_max < np.iinfo(np.int32).max:\n",
    "                    df[col] = df[col].astype(np.int32)\n",
    "\n",
    "                # 同上\n",
    "                elif c_min > np.iinfo(np.int64).min and c_max < np.iinfo(np.int64).max:\n",
    "                    df[col] = df[col].astype(np.int64)\n",
    "\n",
    "            # 否则 则采用 float 的处理方法       \n",
    "            else:\n",
    "\n",
    "                if c_min > np.finfo(np.float32).min and c_max < np.finfo(np.float32).max:\n",
    "                    df[col] = df[col].astype(np.float32)\n",
    "\n",
    "                else:\n",
    "                    df[col] = df[col].astype(np.float64)\n",
    "\n",
    "    end_mem = df.memory_usage(deep=True).sum() / 1024**2\n",
    "\n",
    "    if verbose: print('Mem. usage decreased to {:5.2f} Mb ({:.1f}% reduction)'.format(end_mem, 100 * (start_mem - end_mem) / start_mem))\n",
    "    return df"
   ]
  },
  {
   "cell_type": "code",
   "execution_count": null,
   "id": "biological-display",
   "metadata": {},
   "outputs": [],
   "source": [
    "df_peaks1 = reduce_mem_usage(df_peaks, verbose=True)\n",
    "df_fragments1 = reduce_mem_usage(df_fragments, verbose=True)"
   ]
  },
  {
   "cell_type": "code",
   "execution_count": null,
   "id": "olympic-summary",
   "metadata": {},
   "outputs": [],
   "source": [
    "converted_peaks = pd.DataFrame()\n",
    "for col in df_peaks.columns:\n",
    "    num_unique_values = len(df_peaks[col].unique())\n",
    "    num_total_values = len(df_peaks[col])\n",
    "    if num_unique_values / num_total_values < 0.5:\n",
    "        converted_peaks.loc[:,col] = df_peaks[col].astype('category')\n",
    "    else:\n",
    "        converted_peaks.loc[:,col] = df_peaks[col]\n",
    "        \n",
    "converted_fragments = pd.DataFrame()\n",
    "for col in df_fragments.columns:\n",
    "    num_unique_values = len(df_fragments[col].unique())\n",
    "    num_total_values = len(df_fragments[col])\n",
    "    if num_unique_values / num_total_values < 0.5:\n",
    "        converted_fragments.loc[:,col] = df_fragments[col].astype('category')\n",
    "    else:\n",
    "        converted_fragments.loc[:,col] = df_fragments[col]"
   ]
  },
  {
   "cell_type": "code",
   "execution_count": 32,
   "id": "prime-alias",
   "metadata": {},
   "outputs": [],
   "source": [
    "df_peaks = df_peaks.sort_values(['chr','start','end'])\n",
    "df_fragments = df_fragments.sort_values(['chr','start','end'])"
   ]
  },
  {
   "cell_type": "code",
   "execution_count": null,
   "id": "nutritional-virgin",
   "metadata": {},
   "outputs": [],
   "source": [
    "df_peaks1 = df_peaks1.sort_values(['chr','start','end'])\n",
    "df_fragments1 = df_fragments1.sort_values(['chr','start','end'])"
   ]
  },
  {
   "cell_type": "code",
   "execution_count": null,
   "id": "unusual-danish",
   "metadata": {},
   "outputs": [],
   "source": [
    "converted_peaks = converted_peaks.sort_values(['chr','start','end'])\n",
    "converted_fragments = converted_fragments.sort_values(['chr','start','end'])"
   ]
  },
  {
   "cell_type": "code",
   "execution_count": null,
   "id": "greek-replica",
   "metadata": {},
   "outputs": [],
   "source": [
    "print(str(sys.getsizeof(df_fragments)/1024/1024)+' MB')"
   ]
  },
  {
   "cell_type": "code",
   "execution_count": null,
   "id": "employed-dylan",
   "metadata": {},
   "outputs": [],
   "source": [
    "print(str(sys.getsizeof(df_fragments1)/1024/1024)+' MB')"
   ]
  },
  {
   "cell_type": "code",
   "execution_count": null,
   "id": "turkish-litigation",
   "metadata": {},
   "outputs": [],
   "source": [
    "print(str(sys.getsizeof(converted_fragments)/1024/1024)+' MB')"
   ]
  },
  {
   "cell_type": "code",
   "execution_count": null,
   "id": "aggregate-danger",
   "metadata": {},
   "outputs": [],
   "source": [
    "print(str(sys.getsizeof(df_peaks)/1024/1024)+' MB')"
   ]
  },
  {
   "cell_type": "code",
   "execution_count": null,
   "id": "helpful-verification",
   "metadata": {},
   "outputs": [],
   "source": [
    "print(str(sys.getsizeof(df_peaks1)/1024/1024)+' MB')"
   ]
  },
  {
   "cell_type": "code",
   "execution_count": null,
   "id": "expressed-blair",
   "metadata": {},
   "outputs": [],
   "source": [
    "print(str(sys.getsizeof(converted_peaks)/1024/1024)+' MB')"
   ]
  },
  {
   "cell_type": "code",
   "execution_count": null,
   "id": "gorgeous-kelly",
   "metadata": {},
   "outputs": [],
   "source": [
    "threads = 8\n",
    "#chunk_size\n",
    "chunk_size = 100\n",
    "df_peak_list = [df_peaks.iloc[ chunk_size*i: chunk_size*(i+1) ,:] for i in range(threads)]"
   ]
  },
  {
   "cell_type": "code",
   "execution_count": null,
   "id": "blessed-mathematics",
   "metadata": {},
   "outputs": [],
   "source": [
    "# multiprocessing\n",
    "def get_df(df_peak):\n",
    "    index_res = set()\n",
    "    for _, data_peak in df_peak.iterrows():\n",
    "        peak_info = dict(data_peak)\n",
    "        frag_chr = df_fragments[df_fragments[\"chr\"] == peak_info[\"chr\"]]\n",
    "        frag_overlap_peak = frag_chr[ (frag_chr[\"start\"] >= peak_info[\"start\"]) & (frag_chr[\"end\"] <= peak_info[\"end\"])] \n",
    "        index_res.update(set(frag_overlap_peak.index))\n",
    "    return index_res"
   ]
  },
  {
   "cell_type": "code",
   "execution_count": null,
   "id": "advance-improvement",
   "metadata": {},
   "outputs": [],
   "source": [
    "with Pool(threads) as p:\n",
    "    results = p.starmap(get_df, zip(df_peak_list))"
   ]
  },
  {
   "cell_type": "code",
   "execution_count": null,
   "id": "presidential-productivity",
   "metadata": {},
   "outputs": [],
   "source": [
    "sum_data = set(itertools.chain.from_iterable(results))\n",
    "sum_data\n",
    "final_df = df_fragments[df_fragments.index.isin(sum_data)]"
   ]
  },
  {
   "cell_type": "code",
   "execution_count": null,
   "id": "dimensional-retail",
   "metadata": {},
   "outputs": [],
   "source": [
    "final_df"
   ]
  },
  {
   "cell_type": "code",
   "execution_count": null,
   "id": "declared-resource",
   "metadata": {},
   "outputs": [],
   "source": [
    "final_df.info(memory_usage='deep')"
   ]
  },
  {
   "cell_type": "code",
   "execution_count": null,
   "id": "integral-identification",
   "metadata": {},
   "outputs": [],
   "source": []
  },
  {
   "cell_type": "code",
   "execution_count": null,
   "id": "blocked-detection",
   "metadata": {},
   "outputs": [],
   "source": [
    "df_peak_list = [df_peaks1.iloc[ chunk_size*i: chunk_size*(i+1) ,:] for i in range(threads)]"
   ]
  },
  {
   "cell_type": "code",
   "execution_count": null,
   "id": "meaningful-snake",
   "metadata": {},
   "outputs": [],
   "source": [
    "# multiprocessing\n",
    "def get_df(df_peak):\n",
    "    index_res = set()\n",
    "    for _, data_peak in df_peak.iterrows():\n",
    "        peak_info = dict(data_peak)\n",
    "        frag_chr = df_fragments1[df_fragments1[\"chr\"] == peak_info[\"chr\"]]\n",
    "        frag_overlap_peak = frag_chr[ (frag_chr[\"start\"] >= peak_info[\"start\"]) & (frag_chr[\"end\"] <= peak_info[\"end\"])] \n",
    "        index_res.update(set(frag_overlap_peak.index))\n",
    "    return index_res"
   ]
  },
  {
   "cell_type": "code",
   "execution_count": null,
   "id": "widespread-format",
   "metadata": {},
   "outputs": [],
   "source": [
    "with Pool(threads) as p:\n",
    "    results = p.starmap(get_df, zip(df_peak_list))"
   ]
  },
  {
   "cell_type": "code",
   "execution_count": null,
   "id": "pressed-peter",
   "metadata": {},
   "outputs": [],
   "source": [
    "sum_data = set(itertools.chain.from_iterable(results))\n",
    "sum_data\n",
    "final_df1 = df_fragments1[df_fragments1.index.isin(sum_data)]"
   ]
  },
  {
   "cell_type": "code",
   "execution_count": null,
   "id": "selective-mexico",
   "metadata": {},
   "outputs": [],
   "source": [
    "final_df1"
   ]
  },
  {
   "cell_type": "code",
   "execution_count": null,
   "id": "proved-portland",
   "metadata": {},
   "outputs": [],
   "source": [
    "final_df1.info(memory_usage='deep')"
   ]
  },
  {
   "cell_type": "code",
   "execution_count": null,
   "id": "successful-toolbox",
   "metadata": {},
   "outputs": [],
   "source": []
  },
  {
   "cell_type": "code",
   "execution_count": null,
   "id": "returning-parade",
   "metadata": {},
   "outputs": [],
   "source": [
    "df_peak_list = [converted_peaks.iloc[ chunk_size*i: chunk_size*(i+1) ,:] for i in range(threads)]"
   ]
  },
  {
   "cell_type": "code",
   "execution_count": null,
   "id": "bound-bosnia",
   "metadata": {},
   "outputs": [],
   "source": [
    "# multiprocessing\n",
    "def get_df(df_peak):\n",
    "    index_res = set()\n",
    "    for _, data_peak in df_peak.iterrows():\n",
    "        peak_info = dict(data_peak)\n",
    "        frag_chr = converted_fragments[converted_fragments[\"chr\"] == peak_info[\"chr\"]]\n",
    "        frag_overlap_peak = frag_chr[ (frag_chr[\"start\"] >= peak_info[\"start\"]) & (frag_chr[\"end\"] <= peak_info[\"end\"])] \n",
    "        index_res.update(set(frag_overlap_peak.index))\n",
    "    return index_res"
   ]
  },
  {
   "cell_type": "code",
   "execution_count": null,
   "id": "starting-strap",
   "metadata": {},
   "outputs": [],
   "source": [
    "with Pool(threads) as p:\n",
    "    results = p.starmap(get_df, zip(df_peak_list))"
   ]
  },
  {
   "cell_type": "code",
   "execution_count": null,
   "id": "fiscal-death",
   "metadata": {},
   "outputs": [],
   "source": [
    "sum_data = set(itertools.chain.from_iterable(results))\n",
    "sum_data\n",
    "final_df2 = converted_fragments[converted_fragments.index.isin(sum_data)]"
   ]
  },
  {
   "cell_type": "code",
   "execution_count": null,
   "id": "spread-novelty",
   "metadata": {},
   "outputs": [],
   "source": [
    "final_df2"
   ]
  },
  {
   "cell_type": "code",
   "execution_count": null,
   "id": "liable-spank",
   "metadata": {},
   "outputs": [],
   "source": [
    "final_df2.info(memory_usage='deep')"
   ]
  },
  {
   "cell_type": "code",
   "execution_count": null,
   "id": "abandoned-cooler",
   "metadata": {},
   "outputs": [],
   "source": []
  },
  {
   "cell_type": "code",
   "execution_count": 19,
   "id": "identical-roads",
   "metadata": {},
   "outputs": [
    {
     "data": {
      "text/html": [
       "<div>\n",
       "<style scoped>\n",
       "    .dataframe tbody tr th:only-of-type {\n",
       "        vertical-align: middle;\n",
       "    }\n",
       "\n",
       "    .dataframe tbody tr th {\n",
       "        vertical-align: top;\n",
       "    }\n",
       "\n",
       "    .dataframe thead th {\n",
       "        text-align: right;\n",
       "    }\n",
       "</style>\n",
       "<table border=\"1\" class=\"dataframe\">\n",
       "  <thead>\n",
       "    <tr style=\"text-align: right;\">\n",
       "      <th></th>\n",
       "      <th>chr</th>\n",
       "      <th>start</th>\n",
       "      <th>end</th>\n",
       "    </tr>\n",
       "  </thead>\n",
       "  <tbody>\n",
       "    <tr>\n",
       "      <th>0</th>\n",
       "      <td>chr1</td>\n",
       "      <td>4768517</td>\n",
       "      <td>4768778</td>\n",
       "    </tr>\n",
       "    <tr>\n",
       "      <th>1</th>\n",
       "      <td>chr1</td>\n",
       "      <td>4785335</td>\n",
       "      <td>4786194</td>\n",
       "    </tr>\n",
       "    <tr>\n",
       "      <th>2</th>\n",
       "      <td>chr1</td>\n",
       "      <td>4807373</td>\n",
       "      <td>4808300</td>\n",
       "    </tr>\n",
       "    <tr>\n",
       "      <th>3</th>\n",
       "      <td>chr1</td>\n",
       "      <td>4857419</td>\n",
       "      <td>4858586</td>\n",
       "    </tr>\n",
       "    <tr>\n",
       "      <th>4</th>\n",
       "      <td>chr1</td>\n",
       "      <td>5082842</td>\n",
       "      <td>5083595</td>\n",
       "    </tr>\n",
       "    <tr>\n",
       "      <th>...</th>\n",
       "      <td>...</td>\n",
       "      <td>...</td>\n",
       "      <td>...</td>\n",
       "    </tr>\n",
       "    <tr>\n",
       "      <th>51862</th>\n",
       "      <td>chrY</td>\n",
       "      <td>90761198</td>\n",
       "      <td>90761746</td>\n",
       "    </tr>\n",
       "    <tr>\n",
       "      <th>51863</th>\n",
       "      <td>chrY</td>\n",
       "      <td>90798987</td>\n",
       "      <td>90799576</td>\n",
       "    </tr>\n",
       "    <tr>\n",
       "      <th>51864</th>\n",
       "      <td>chrY</td>\n",
       "      <td>90800522</td>\n",
       "      <td>90800811</td>\n",
       "    </tr>\n",
       "    <tr>\n",
       "      <th>51865</th>\n",
       "      <td>chrY</td>\n",
       "      <td>90805049</td>\n",
       "      <td>90805601</td>\n",
       "    </tr>\n",
       "    <tr>\n",
       "      <th>51866</th>\n",
       "      <td>chrY</td>\n",
       "      <td>90807656</td>\n",
       "      <td>90808917</td>\n",
       "    </tr>\n",
       "  </tbody>\n",
       "</table>\n",
       "<p>51867 rows × 3 columns</p>\n",
       "</div>"
      ],
      "text/plain": [
       "        chr     start       end\n",
       "0      chr1   4768517   4768778\n",
       "1      chr1   4785335   4786194\n",
       "2      chr1   4807373   4808300\n",
       "3      chr1   4857419   4858586\n",
       "4      chr1   5082842   5083595\n",
       "...     ...       ...       ...\n",
       "51862  chrY  90761198  90761746\n",
       "51863  chrY  90798987  90799576\n",
       "51864  chrY  90800522  90800811\n",
       "51865  chrY  90805049  90805601\n",
       "51866  chrY  90807656  90808917\n",
       "\n",
       "[51867 rows x 3 columns]"
      ]
     },
     "execution_count": 19,
     "metadata": {},
     "output_type": "execute_result"
    }
   ],
   "source": [
    "df_peaks"
   ]
  },
  {
   "cell_type": "code",
   "execution_count": 272,
   "id": "joint-representative",
   "metadata": {},
   "outputs": [
    {
     "data": {
      "text/html": [
       "<div>\n",
       "<style scoped>\n",
       "    .dataframe tbody tr th:only-of-type {\n",
       "        vertical-align: middle;\n",
       "    }\n",
       "\n",
       "    .dataframe tbody tr th {\n",
       "        vertical-align: top;\n",
       "    }\n",
       "\n",
       "    .dataframe thead th {\n",
       "        text-align: right;\n",
       "    }\n",
       "</style>\n",
       "<table border=\"1\" class=\"dataframe\">\n",
       "  <thead>\n",
       "    <tr style=\"text-align: right;\">\n",
       "      <th></th>\n",
       "      <th>chr</th>\n",
       "      <th>start</th>\n",
       "      <th>end</th>\n",
       "      <th>barcode</th>\n",
       "      <th>count</th>\n",
       "    </tr>\n",
       "  </thead>\n",
       "  <tbody>\n",
       "    <tr>\n",
       "      <th>165035</th>\n",
       "      <td>chr1</td>\n",
       "      <td>3003786</td>\n",
       "      <td>3003903</td>\n",
       "      <td>AACAATTGGCTTCTTTTGAC</td>\n",
       "      <td>1</td>\n",
       "    </tr>\n",
       "    <tr>\n",
       "      <th>1633690</th>\n",
       "      <td>chr1</td>\n",
       "      <td>3003975</td>\n",
       "      <td>3004005</td>\n",
       "      <td>ACCCTTCAGGATCATGACCC</td>\n",
       "      <td>1</td>\n",
       "    </tr>\n",
       "    <tr>\n",
       "      <th>10348822</th>\n",
       "      <td>chr1</td>\n",
       "      <td>3004652</td>\n",
       "      <td>3004699</td>\n",
       "      <td>GAAAAGTGTGCGTACCCGCC</td>\n",
       "      <td>1</td>\n",
       "    </tr>\n",
       "    <tr>\n",
       "      <th>2386893</th>\n",
       "      <td>chr1</td>\n",
       "      <td>3004791</td>\n",
       "      <td>3004834</td>\n",
       "      <td>ACTGGTTGCATCCTAGCCCA</td>\n",
       "      <td>2</td>\n",
       "    </tr>\n",
       "    <tr>\n",
       "      <th>15793733</th>\n",
       "      <td>chr1</td>\n",
       "      <td>3005277</td>\n",
       "      <td>3005613</td>\n",
       "      <td>TCAACTTAGTGAGCACGTCC</td>\n",
       "      <td>3</td>\n",
       "    </tr>\n",
       "    <tr>\n",
       "      <th>...</th>\n",
       "      <td>...</td>\n",
       "      <td>...</td>\n",
       "      <td>...</td>\n",
       "      <td>...</td>\n",
       "      <td>...</td>\n",
       "    </tr>\n",
       "    <tr>\n",
       "      <th>9833889</th>\n",
       "      <td>chrY</td>\n",
       "      <td>90828968</td>\n",
       "      <td>90829015</td>\n",
       "      <td>CTTCAGGCGATGTTTCATTC</td>\n",
       "      <td>1</td>\n",
       "    </tr>\n",
       "    <tr>\n",
       "      <th>3749131</th>\n",
       "      <td>chrY</td>\n",
       "      <td>90828971</td>\n",
       "      <td>90829014</td>\n",
       "      <td>AGTCTGTTCTAGGCCAGTAC</td>\n",
       "      <td>3</td>\n",
       "    </tr>\n",
       "    <tr>\n",
       "      <th>502508</th>\n",
       "      <td>chrY</td>\n",
       "      <td>90828984</td>\n",
       "      <td>90829202</td>\n",
       "      <td>AAGTGTACGTTGCAAGGGTC</td>\n",
       "      <td>2</td>\n",
       "    </tr>\n",
       "    <tr>\n",
       "      <th>15917205</th>\n",
       "      <td>chrY</td>\n",
       "      <td>90829080</td>\n",
       "      <td>90829202</td>\n",
       "      <td>TCATTCATGGTGGAACACAC</td>\n",
       "      <td>1</td>\n",
       "    </tr>\n",
       "    <tr>\n",
       "      <th>17509055</th>\n",
       "      <td>chrY</td>\n",
       "      <td>90829176</td>\n",
       "      <td>90829544</td>\n",
       "      <td>TGCGGGGATCGCATCGAGAC</td>\n",
       "      <td>1</td>\n",
       "    </tr>\n",
       "  </tbody>\n",
       "</table>\n",
       "<p>19469896 rows × 5 columns</p>\n",
       "</div>"
      ],
      "text/plain": [
       "           chr     start       end               barcode  count\n",
       "165035    chr1   3003786   3003903  AACAATTGGCTTCTTTTGAC      1\n",
       "1633690   chr1   3003975   3004005  ACCCTTCAGGATCATGACCC      1\n",
       "10348822  chr1   3004652   3004699  GAAAAGTGTGCGTACCCGCC      1\n",
       "2386893   chr1   3004791   3004834  ACTGGTTGCATCCTAGCCCA      2\n",
       "15793733  chr1   3005277   3005613  TCAACTTAGTGAGCACGTCC      3\n",
       "...        ...       ...       ...                   ...    ...\n",
       "9833889   chrY  90828968  90829015  CTTCAGGCGATGTTTCATTC      1\n",
       "3749131   chrY  90828971  90829014  AGTCTGTTCTAGGCCAGTAC      3\n",
       "502508    chrY  90828984  90829202  AAGTGTACGTTGCAAGGGTC      2\n",
       "15917205  chrY  90829080  90829202  TCATTCATGGTGGAACACAC      1\n",
       "17509055  chrY  90829176  90829544  TGCGGGGATCGCATCGAGAC      1\n",
       "\n",
       "[19469896 rows x 5 columns]"
      ]
     },
     "execution_count": 272,
     "metadata": {},
     "output_type": "execute_result"
    }
   ],
   "source": [
    "df_fragments[df_fragments['']]"
   ]
  },
  {
   "cell_type": "code",
   "execution_count": null,
   "id": "exact-willow",
   "metadata": {},
   "outputs": [],
   "source": [
    "len(set(df_fragments.end))"
   ]
  },
  {
   "cell_type": "code",
   "execution_count": null,
   "id": "first-manual",
   "metadata": {},
   "outputs": [],
   "source": [
    "threads = 4\n",
    "#chunk_size\n",
    "chunk_size = 100\n",
    "df_peak_list = [df_peaks.iloc[ chunk_size*i: chunk_size*(i+1) ,:] for i in range(threads)]"
   ]
  },
  {
   "cell_type": "code",
   "execution_count": null,
   "id": "modified-commercial",
   "metadata": {},
   "outputs": [],
   "source": [
    "# multiprocessing\n",
    "def get_df(df_peak, df_fragments_copy):\n",
    "    index_res = set()\n",
    "    df_fragments_copy = df_fragments_copy[df_fragments_copy['chr'].isin(set(df_peaks['chr']))]\n",
    "    for _, data_peak in df_peak.iterrows():\n",
    "        peak_info = dict(data_peak)\n",
    "        frag_chr = df_fragments_copy[df_fragments_copy[\"chr\"] == peak_info[\"chr\"]]\n",
    "        frag_overlap_peak = frag_chr[ (frag_chr[\"start\"] >= peak_info[\"start\"]) & (frag_chr[\"end\"] <= peak_info[\"end\"])] \n",
    "        frag_overlap_peak_index = set(frag_overlap_peak.index)\n",
    "        index_res.update(frag_overlap_peak_index)\n",
    "        df_fragments_copy = df_fragments_copy[~df_fragments_copy.index.isin(frag_overlap_peak_index)]\n",
    "    return index_res"
   ]
  },
  {
   "cell_type": "code",
   "execution_count": null,
   "id": "cooperative-fellow",
   "metadata": {},
   "outputs": [],
   "source": [
    "with Pool(threads) as p:\n",
    "    results = p.starmap(get_df, zip(df_peak_list, [df_fragments.copy()]*threads))"
   ]
  },
  {
   "cell_type": "code",
   "execution_count": null,
   "id": "animated-mother",
   "metadata": {},
   "outputs": [],
   "source": [
    "sum_data = set(itertools.chain.from_iterable(results))\n",
    "sum_data\n",
    "final_df = df_fragments[df_fragments.index.isin(sum_data)]"
   ]
  },
  {
   "cell_type": "code",
   "execution_count": null,
   "id": "middle-marsh",
   "metadata": {},
   "outputs": [],
   "source": [
    "final_df"
   ]
  },
  {
   "cell_type": "code",
   "execution_count": null,
   "id": "congressional-rolling",
   "metadata": {},
   "outputs": [],
   "source": [
    "final_df"
   ]
  },
  {
   "cell_type": "code",
   "execution_count": null,
   "id": "secure-japan",
   "metadata": {},
   "outputs": [],
   "source": []
  },
  {
   "cell_type": "code",
   "execution_count": null,
   "id": "electric-bangladesh",
   "metadata": {},
   "outputs": [],
   "source": [
    "df_peaks"
   ]
  },
  {
   "cell_type": "code",
   "execution_count": 277,
   "id": "perceived-zoning",
   "metadata": {},
   "outputs": [],
   "source": [
    "df_peaks_chr = df_peaks[df_peaks['chr']=='chr1']\n",
    "df_fragments_chr = df_fragments[df_fragments['chr']=='chr1']"
   ]
  },
  {
   "cell_type": "code",
   "execution_count": 278,
   "id": "signed-slope",
   "metadata": {},
   "outputs": [
    {
     "data": {
      "text/html": [
       "<div>\n",
       "<style scoped>\n",
       "    .dataframe tbody tr th:only-of-type {\n",
       "        vertical-align: middle;\n",
       "    }\n",
       "\n",
       "    .dataframe tbody tr th {\n",
       "        vertical-align: top;\n",
       "    }\n",
       "\n",
       "    .dataframe thead th {\n",
       "        text-align: right;\n",
       "    }\n",
       "</style>\n",
       "<table border=\"1\" class=\"dataframe\">\n",
       "  <thead>\n",
       "    <tr style=\"text-align: right;\">\n",
       "      <th></th>\n",
       "      <th>chr</th>\n",
       "      <th>start</th>\n",
       "      <th>end</th>\n",
       "    </tr>\n",
       "  </thead>\n",
       "  <tbody>\n",
       "    <tr>\n",
       "      <th>0</th>\n",
       "      <td>chr1</td>\n",
       "      <td>4768517</td>\n",
       "      <td>4768778</td>\n",
       "    </tr>\n",
       "    <tr>\n",
       "      <th>1</th>\n",
       "      <td>chr1</td>\n",
       "      <td>4785335</td>\n",
       "      <td>4786194</td>\n",
       "    </tr>\n",
       "    <tr>\n",
       "      <th>2</th>\n",
       "      <td>chr1</td>\n",
       "      <td>4807373</td>\n",
       "      <td>4808300</td>\n",
       "    </tr>\n",
       "    <tr>\n",
       "      <th>3</th>\n",
       "      <td>chr1</td>\n",
       "      <td>4857419</td>\n",
       "      <td>4858586</td>\n",
       "    </tr>\n",
       "    <tr>\n",
       "      <th>4</th>\n",
       "      <td>chr1</td>\n",
       "      <td>5082842</td>\n",
       "      <td>5083595</td>\n",
       "    </tr>\n",
       "    <tr>\n",
       "      <th>...</th>\n",
       "      <td>...</td>\n",
       "      <td>...</td>\n",
       "      <td>...</td>\n",
       "    </tr>\n",
       "    <tr>\n",
       "      <th>3546</th>\n",
       "      <td>chr1</td>\n",
       "      <td>195204846</td>\n",
       "      <td>195205011</td>\n",
       "    </tr>\n",
       "    <tr>\n",
       "      <th>3547</th>\n",
       "      <td>chr1</td>\n",
       "      <td>195211204</td>\n",
       "      <td>195211453</td>\n",
       "    </tr>\n",
       "    <tr>\n",
       "      <th>3548</th>\n",
       "      <td>chr1</td>\n",
       "      <td>195232585</td>\n",
       "      <td>195233063</td>\n",
       "    </tr>\n",
       "    <tr>\n",
       "      <th>3549</th>\n",
       "      <td>chr1</td>\n",
       "      <td>195241504</td>\n",
       "      <td>195242029</td>\n",
       "    </tr>\n",
       "    <tr>\n",
       "      <th>3550</th>\n",
       "      <td>chr1</td>\n",
       "      <td>195308846</td>\n",
       "      <td>195309482</td>\n",
       "    </tr>\n",
       "  </tbody>\n",
       "</table>\n",
       "<p>3551 rows × 3 columns</p>\n",
       "</div>"
      ],
      "text/plain": [
       "       chr      start        end\n",
       "0     chr1    4768517    4768778\n",
       "1     chr1    4785335    4786194\n",
       "2     chr1    4807373    4808300\n",
       "3     chr1    4857419    4858586\n",
       "4     chr1    5082842    5083595\n",
       "...    ...        ...        ...\n",
       "3546  chr1  195204846  195205011\n",
       "3547  chr1  195211204  195211453\n",
       "3548  chr1  195232585  195233063\n",
       "3549  chr1  195241504  195242029\n",
       "3550  chr1  195308846  195309482\n",
       "\n",
       "[3551 rows x 3 columns]"
      ]
     },
     "execution_count": 278,
     "metadata": {},
     "output_type": "execute_result"
    }
   ],
   "source": [
    "df_peaks_chr"
   ]
  },
  {
   "cell_type": "code",
   "execution_count": 285,
   "id": "satisfactory-intelligence",
   "metadata": {},
   "outputs": [],
   "source": [
    "ranges_peaks = list(zip(df_peaks_chr.start, df_peaks_chr.end))"
   ]
  },
  {
   "cell_type": "code",
   "execution_count": 286,
   "id": "modified-adolescent",
   "metadata": {},
   "outputs": [
    {
     "data": {
      "text/plain": [
       "(4768517, 4768778)"
      ]
     },
     "execution_count": 286,
     "metadata": {},
     "output_type": "execute_result"
    }
   ],
   "source": [
    "ranges_peaks[0]"
   ]
  },
  {
   "cell_type": "code",
   "execution_count": 287,
   "id": "hearing-field",
   "metadata": {},
   "outputs": [],
   "source": [
    "ranges_fragments = list(zip(df_fragments_chr.start, df_fragments_chr.end))"
   ]
  },
  {
   "cell_type": "code",
   "execution_count": 288,
   "id": "referenced-venice",
   "metadata": {},
   "outputs": [
    {
     "data": {
      "text/plain": [
       "(3003786, 3003903)"
      ]
     },
     "execution_count": 288,
     "metadata": {},
     "output_type": "execute_result"
    }
   ],
   "source": [
    "ranges_fragments[0]"
   ]
  },
  {
   "cell_type": "code",
   "execution_count": null,
   "id": "swiss-modeling",
   "metadata": {},
   "outputs": [],
   "source": [
    "for range_fragments in ranges_fragments:\n",
    "    if range_fragment in "
   ]
  },
  {
   "cell_type": "code",
   "execution_count": null,
   "id": "chicken-blogger",
   "metadata": {},
   "outputs": [],
   "source": []
  },
  {
   "cell_type": "code",
   "execution_count": null,
   "id": "horizontal-combination",
   "metadata": {},
   "outputs": [],
   "source": []
  },
  {
   "cell_type": "code",
   "execution_count": null,
   "id": "greek-founder",
   "metadata": {},
   "outputs": [],
   "source": []
  },
  {
   "cell_type": "code",
   "execution_count": 9,
   "id": "agreed-biodiversity",
   "metadata": {},
   "outputs": [
    {
     "name": "stdout",
     "output_type": "stream",
     "text": [
      "chr1\n",
      "4768517\n",
      "4768778\n"
     ]
    }
   ],
   "source": [
    "        for _, data_peak in df_peaks.iterrows():\n",
    "            print(data_peak[\"chr\"])\n",
    "            print(data_peak[\"start\"])\n",
    "            print(data_peak[\"end\"])\n",
    "            break\n",
    "#             peak_info = dict(data_peak)\n",
    "#             frag_chr = df_fragments[df_fragments[\"chr\"] == peak_info[\"chr\"]]\n",
    "#             frag_overlap_peak = frag_chr[ (frag_chr[\"start\"] >= peak_info[\"start\"]) & (frag_chr[\"end\"] <= peak_info[\"end\"])]\n",
    "#             index_res.update(set(frag_overlap_peak.index))"
   ]
  },
  {
   "cell_type": "code",
   "execution_count": null,
   "id": "apparent-account",
   "metadata": {},
   "outputs": [],
   "source": [
    "threads = 8\n",
    "#chunk_size\n",
    "chunk_size = 100"
   ]
  },
  {
   "cell_type": "code",
   "execution_count": 71,
   "id": "animal-sudan",
   "metadata": {},
   "outputs": [],
   "source": [
    "peaks_count = df_peaks.shape[0]\n",
    "chunk_size = peaks_count // 100\n",
    "df_peak_list = [df_peaks.iloc[ chunk_size*i: chunk_size*(i+1), :] for i in range(8)]"
   ]
  },
  {
   "cell_type": "code",
   "execution_count": 87,
   "id": "instant-facial",
   "metadata": {},
   "outputs": [
    {
     "data": {
      "text/plain": [
       "518"
      ]
     },
     "execution_count": 87,
     "metadata": {},
     "output_type": "execute_result"
    }
   ],
   "source": [
    "len(df_peak_list[-2])"
   ]
  },
  {
   "cell_type": "code",
   "execution_count": null,
   "id": "hourly-leave",
   "metadata": {},
   "outputs": [],
   "source": [
    "df_peak_list"
   ]
  },
  {
   "cell_type": "code",
   "execution_count": 74,
   "id": "future-vampire",
   "metadata": {},
   "outputs": [],
   "source": [
    "a = [set(i.chr) for i in df_peak_list]"
   ]
  },
  {
   "cell_type": "code",
   "execution_count": 75,
   "id": "loving-carpet",
   "metadata": {},
   "outputs": [
    {
     "data": {
      "text/plain": [
       "[{'chr1'},\n",
       " {'chr1'},\n",
       " {'chr1'},\n",
       " {'chr1'},\n",
       " {'chr1'},\n",
       " {'chr1'},\n",
       " {'chr1', 'chr10'},\n",
       " {'chr10'}]"
      ]
     },
     "execution_count": 75,
     "metadata": {},
     "output_type": "execute_result"
    }
   ],
   "source": [
    "a"
   ]
  },
  {
   "cell_type": "code",
   "execution_count": 76,
   "id": "incomplete-representative",
   "metadata": {},
   "outputs": [],
   "source": [
    "df_fragment_list = [df_fragments[df_fragments['chr'].isin(i)] for i in a]"
   ]
  },
  {
   "cell_type": "code",
   "execution_count": 77,
   "id": "tutorial-international",
   "metadata": {},
   "outputs": [
    {
     "data": {
      "text/plain": [
       "11049246"
      ]
     },
     "execution_count": 77,
     "metadata": {},
     "output_type": "execute_result"
    }
   ],
   "source": [
    "sum([i.shape[0] for i in df_fragment_list])"
   ]
  },
  {
   "cell_type": "code",
   "execution_count": 79,
   "id": "potential-treasure",
   "metadata": {},
   "outputs": [
    {
     "data": {
      "text/html": [
       "<div>\n",
       "<style scoped>\n",
       "    .dataframe tbody tr th:only-of-type {\n",
       "        vertical-align: middle;\n",
       "    }\n",
       "\n",
       "    .dataframe tbody tr th {\n",
       "        vertical-align: top;\n",
       "    }\n",
       "\n",
       "    .dataframe thead th {\n",
       "        text-align: right;\n",
       "    }\n",
       "</style>\n",
       "<table border=\"1\" class=\"dataframe\">\n",
       "  <thead>\n",
       "    <tr style=\"text-align: right;\">\n",
       "      <th></th>\n",
       "      <th>chr</th>\n",
       "      <th>start</th>\n",
       "      <th>end</th>\n",
       "      <th>barcode</th>\n",
       "      <th>count</th>\n",
       "    </tr>\n",
       "  </thead>\n",
       "  <tbody>\n",
       "    <tr>\n",
       "      <th>165035</th>\n",
       "      <td>chr1</td>\n",
       "      <td>3003786</td>\n",
       "      <td>3003903</td>\n",
       "      <td>AACAATTGGCTTCTTTTGAC</td>\n",
       "      <td>1</td>\n",
       "    </tr>\n",
       "    <tr>\n",
       "      <th>1633690</th>\n",
       "      <td>chr1</td>\n",
       "      <td>3003975</td>\n",
       "      <td>3004005</td>\n",
       "      <td>ACCCTTCAGGATCATGACCC</td>\n",
       "      <td>1</td>\n",
       "    </tr>\n",
       "    <tr>\n",
       "      <th>10348822</th>\n",
       "      <td>chr1</td>\n",
       "      <td>3004652</td>\n",
       "      <td>3004699</td>\n",
       "      <td>GAAAAGTGTGCGTACCCGCC</td>\n",
       "      <td>1</td>\n",
       "    </tr>\n",
       "    <tr>\n",
       "      <th>2386893</th>\n",
       "      <td>chr1</td>\n",
       "      <td>3004791</td>\n",
       "      <td>3004834</td>\n",
       "      <td>ACTGGTTGCATCCTAGCCCA</td>\n",
       "      <td>2</td>\n",
       "    </tr>\n",
       "    <tr>\n",
       "      <th>15793733</th>\n",
       "      <td>chr1</td>\n",
       "      <td>3005277</td>\n",
       "      <td>3005613</td>\n",
       "      <td>TCAACTTAGTGAGCACGTCC</td>\n",
       "      <td>3</td>\n",
       "    </tr>\n",
       "    <tr>\n",
       "      <th>...</th>\n",
       "      <td>...</td>\n",
       "      <td>...</td>\n",
       "      <td>...</td>\n",
       "      <td>...</td>\n",
       "      <td>...</td>\n",
       "    </tr>\n",
       "    <tr>\n",
       "      <th>273361</th>\n",
       "      <td>chr10</td>\n",
       "      <td>130594548</td>\n",
       "      <td>130594614</td>\n",
       "      <td>AACGCGATGGAGAGTTCCCT</td>\n",
       "      <td>1</td>\n",
       "    </tr>\n",
       "    <tr>\n",
       "      <th>1377346</th>\n",
       "      <td>chr10</td>\n",
       "      <td>130594554</td>\n",
       "      <td>130594614</td>\n",
       "      <td>ACATGAATCAGACGCGTGCG</td>\n",
       "      <td>1</td>\n",
       "    </tr>\n",
       "    <tr>\n",
       "      <th>17393048</th>\n",
       "      <td>chr10</td>\n",
       "      <td>130594556</td>\n",
       "      <td>130594658</td>\n",
       "      <td>TGCGGGAGTACGTGTGCGGG</td>\n",
       "      <td>1</td>\n",
       "    </tr>\n",
       "    <tr>\n",
       "      <th>3737216</th>\n",
       "      <td>chr10</td>\n",
       "      <td>130594596</td>\n",
       "      <td>130594624</td>\n",
       "      <td>AGTCTGTGGATTGGAGGGTC</td>\n",
       "      <td>1</td>\n",
       "    </tr>\n",
       "    <tr>\n",
       "      <th>2563323</th>\n",
       "      <td>chr10</td>\n",
       "      <td>130594624</td>\n",
       "      <td>130594831</td>\n",
       "      <td>AGAAGCGGAATTGCGGATAA</td>\n",
       "      <td>1</td>\n",
       "    </tr>\n",
       "  </tbody>\n",
       "</table>\n",
       "<p>2353078 rows × 5 columns</p>\n",
       "</div>"
      ],
      "text/plain": [
       "            chr      start        end               barcode  count\n",
       "165035     chr1    3003786    3003903  AACAATTGGCTTCTTTTGAC      1\n",
       "1633690    chr1    3003975    3004005  ACCCTTCAGGATCATGACCC      1\n",
       "10348822   chr1    3004652    3004699  GAAAAGTGTGCGTACCCGCC      1\n",
       "2386893    chr1    3004791    3004834  ACTGGTTGCATCCTAGCCCA      2\n",
       "15793733   chr1    3005277    3005613  TCAACTTAGTGAGCACGTCC      3\n",
       "...         ...        ...        ...                   ...    ...\n",
       "273361    chr10  130594548  130594614  AACGCGATGGAGAGTTCCCT      1\n",
       "1377346   chr10  130594554  130594614  ACATGAATCAGACGCGTGCG      1\n",
       "17393048  chr10  130594556  130594658  TGCGGGAGTACGTGTGCGGG      1\n",
       "3737216   chr10  130594596  130594624  AGTCTGTGGATTGGAGGGTC      1\n",
       "2563323   chr10  130594624  130594831  AGAAGCGGAATTGCGGATAA      1\n",
       "\n",
       "[2353078 rows x 5 columns]"
      ]
     },
     "execution_count": 79,
     "metadata": {},
     "output_type": "execute_result"
    }
   ],
   "source": [
    "df_fragment_list[-2]"
   ]
  },
  {
   "cell_type": "code",
   "execution_count": 80,
   "id": "requested-bulgaria",
   "metadata": {},
   "outputs": [],
   "source": [
    "df_fragment_list = [df_fragments[df_fragments['chr'].isin(set(df_peak.chr))] for df_peak in df_peak_list]"
   ]
  },
  {
   "cell_type": "code",
   "execution_count": 86,
   "id": "duplicate-allah",
   "metadata": {},
   "outputs": [
    {
     "data": {
      "text/html": [
       "<div>\n",
       "<style scoped>\n",
       "    .dataframe tbody tr th:only-of-type {\n",
       "        vertical-align: middle;\n",
       "    }\n",
       "\n",
       "    .dataframe tbody tr th {\n",
       "        vertical-align: top;\n",
       "    }\n",
       "\n",
       "    .dataframe thead th {\n",
       "        text-align: right;\n",
       "    }\n",
       "</style>\n",
       "<table border=\"1\" class=\"dataframe\">\n",
       "  <thead>\n",
       "    <tr style=\"text-align: right;\">\n",
       "      <th></th>\n",
       "      <th>chr</th>\n",
       "      <th>start</th>\n",
       "      <th>end</th>\n",
       "      <th>barcode</th>\n",
       "      <th>count</th>\n",
       "    </tr>\n",
       "  </thead>\n",
       "  <tbody>\n",
       "    <tr>\n",
       "      <th>165035</th>\n",
       "      <td>chr1</td>\n",
       "      <td>3003786</td>\n",
       "      <td>3003903</td>\n",
       "      <td>AACAATTGGCTTCTTTTGAC</td>\n",
       "      <td>1</td>\n",
       "    </tr>\n",
       "    <tr>\n",
       "      <th>1633690</th>\n",
       "      <td>chr1</td>\n",
       "      <td>3003975</td>\n",
       "      <td>3004005</td>\n",
       "      <td>ACCCTTCAGGATCATGACCC</td>\n",
       "      <td>1</td>\n",
       "    </tr>\n",
       "    <tr>\n",
       "      <th>10348822</th>\n",
       "      <td>chr1</td>\n",
       "      <td>3004652</td>\n",
       "      <td>3004699</td>\n",
       "      <td>GAAAAGTGTGCGTACCCGCC</td>\n",
       "      <td>1</td>\n",
       "    </tr>\n",
       "    <tr>\n",
       "      <th>2386893</th>\n",
       "      <td>chr1</td>\n",
       "      <td>3004791</td>\n",
       "      <td>3004834</td>\n",
       "      <td>ACTGGTTGCATCCTAGCCCA</td>\n",
       "      <td>2</td>\n",
       "    </tr>\n",
       "    <tr>\n",
       "      <th>15793733</th>\n",
       "      <td>chr1</td>\n",
       "      <td>3005277</td>\n",
       "      <td>3005613</td>\n",
       "      <td>TCAACTTAGTGAGCACGTCC</td>\n",
       "      <td>3</td>\n",
       "    </tr>\n",
       "    <tr>\n",
       "      <th>...</th>\n",
       "      <td>...</td>\n",
       "      <td>...</td>\n",
       "      <td>...</td>\n",
       "      <td>...</td>\n",
       "      <td>...</td>\n",
       "    </tr>\n",
       "    <tr>\n",
       "      <th>273361</th>\n",
       "      <td>chr10</td>\n",
       "      <td>130594548</td>\n",
       "      <td>130594614</td>\n",
       "      <td>AACGCGATGGAGAGTTCCCT</td>\n",
       "      <td>1</td>\n",
       "    </tr>\n",
       "    <tr>\n",
       "      <th>1377346</th>\n",
       "      <td>chr10</td>\n",
       "      <td>130594554</td>\n",
       "      <td>130594614</td>\n",
       "      <td>ACATGAATCAGACGCGTGCG</td>\n",
       "      <td>1</td>\n",
       "    </tr>\n",
       "    <tr>\n",
       "      <th>17393048</th>\n",
       "      <td>chr10</td>\n",
       "      <td>130594556</td>\n",
       "      <td>130594658</td>\n",
       "      <td>TGCGGGAGTACGTGTGCGGG</td>\n",
       "      <td>1</td>\n",
       "    </tr>\n",
       "    <tr>\n",
       "      <th>3737216</th>\n",
       "      <td>chr10</td>\n",
       "      <td>130594596</td>\n",
       "      <td>130594624</td>\n",
       "      <td>AGTCTGTGGATTGGAGGGTC</td>\n",
       "      <td>1</td>\n",
       "    </tr>\n",
       "    <tr>\n",
       "      <th>2563323</th>\n",
       "      <td>chr10</td>\n",
       "      <td>130594624</td>\n",
       "      <td>130594831</td>\n",
       "      <td>AGAAGCGGAATTGCGGATAA</td>\n",
       "      <td>1</td>\n",
       "    </tr>\n",
       "  </tbody>\n",
       "</table>\n",
       "<p>2353078 rows × 5 columns</p>\n",
       "</div>"
      ],
      "text/plain": [
       "            chr      start        end               barcode  count\n",
       "165035     chr1    3003786    3003903  AACAATTGGCTTCTTTTGAC      1\n",
       "1633690    chr1    3003975    3004005  ACCCTTCAGGATCATGACCC      1\n",
       "10348822   chr1    3004652    3004699  GAAAAGTGTGCGTACCCGCC      1\n",
       "2386893    chr1    3004791    3004834  ACTGGTTGCATCCTAGCCCA      2\n",
       "15793733   chr1    3005277    3005613  TCAACTTAGTGAGCACGTCC      3\n",
       "...         ...        ...        ...                   ...    ...\n",
       "273361    chr10  130594548  130594614  AACGCGATGGAGAGTTCCCT      1\n",
       "1377346   chr10  130594554  130594614  ACATGAATCAGACGCGTGCG      1\n",
       "17393048  chr10  130594556  130594658  TGCGGGAGTACGTGTGCGGG      1\n",
       "3737216   chr10  130594596  130594624  AGTCTGTGGATTGGAGGGTC      1\n",
       "2563323   chr10  130594624  130594831  AGAAGCGGAATTGCGGATAA      1\n",
       "\n",
       "[2353078 rows x 5 columns]"
      ]
     },
     "execution_count": 86,
     "metadata": {},
     "output_type": "execute_result"
    }
   ],
   "source": [
    "df_fragment_list[-2]"
   ]
  },
  {
   "cell_type": "code",
   "execution_count": 88,
   "id": "compact-suffering",
   "metadata": {},
   "outputs": [],
   "source": [
    "import time"
   ]
  },
  {
   "cell_type": "code",
   "execution_count": 45,
   "id": "passive-taylor",
   "metadata": {},
   "outputs": [
    {
     "name": "stdout",
     "output_type": "stream",
     "text": [
      "循环运行时间:485.30秒\n"
     ]
    }
   ],
   "source": [
    "start = time.time()\n",
    "index_res = set()\n",
    "for _, data_peak in df_peak_list[0].iterrows():\n",
    "    frag_chr = df_fragments[df_fragments[\"chr\"] == data_peak[\"chr\"]]\n",
    "    frag_overlap_peak = frag_chr[ (frag_chr[\"start\"] >= data_peak[\"start\"]) & (frag_chr[\"end\"] <= data_peak[\"end\"])]\n",
    "    index_res.update(set(frag_overlap_peak.index))\n",
    "end = time.time()\n",
    "print(\"循环运行时间:%.2f秒\"%(end-start))"
   ]
  },
  {
   "cell_type": "code",
   "execution_count": 89,
   "id": "coastal-monday",
   "metadata": {},
   "outputs": [
    {
     "name": "stdout",
     "output_type": "stream",
     "text": [
      "循环运行时间:204.46秒\n"
     ]
    }
   ],
   "source": [
    "start = time.time()\n",
    "index_res = set()\n",
    "for _, data_peak in df_peak_list[-2].iterrows():\n",
    "    frag_chr = df_fragment_list[-2][df_fragment_list[-2][\"chr\"] == data_peak[\"chr\"]]\n",
    "    frag_overlap_peak = frag_chr[ (frag_chr[\"start\"] >= data_peak[\"start\"]) & (frag_chr[\"end\"] <= data_peak[\"end\"])]\n",
    "    index_res.update(set(frag_overlap_peak.index))\n",
    "end = time.time()\n",
    "print(\"循环运行时间:%.2f秒\"%(end-start))"
   ]
  },
  {
   "cell_type": "code",
   "execution_count": 93,
   "id": "attended-north",
   "metadata": {},
   "outputs": [
    {
     "name": "stdout",
     "output_type": "stream",
     "text": [
      "循环运行时间:4.81秒\n"
     ]
    }
   ],
   "source": [
    "start = time.time()\n",
    "index_res1 = set()\n",
    "for ch in set(df_peak_list[-2].chr):\n",
    "    df_peak_chr = df_peak_list[-2][df_peak_list[-2]['chr'] == ch]\n",
    "    df_fragment_chr = df_fragment_list[-2][df_fragment_list[-2]['chr']== ch]\n",
    "    for _, data_peak in df_peak_chr.iterrows():\n",
    "        frag_overlap_peak = df_fragment_chr[ (df_fragment_chr[\"start\"] >= data_peak[\"start\"]) & (df_fragment_chr[\"end\"] <= data_peak[\"end\"])]\n",
    "        index_res1.update(set(frag_overlap_peak.index))\n",
    "end = time.time()\n",
    "print(\"循环运行时间:%.2f秒\"%(end-start))"
   ]
  },
  {
   "cell_type": "code",
   "execution_count": 95,
   "id": "radical-earthquake",
   "metadata": {},
   "outputs": [
    {
     "data": {
      "text/plain": [
       "True"
      ]
     },
     "execution_count": 95,
     "metadata": {},
     "output_type": "execute_result"
    }
   ],
   "source": [
    "index_res == index_res1"
   ]
  },
  {
   "cell_type": "code",
   "execution_count": null,
   "id": "economic-headquarters",
   "metadata": {},
   "outputs": [],
   "source": []
  }
 ],
 "metadata": {
  "kernelspec": {
   "display_name": "trust4_1.7",
   "language": "python",
   "name": "trust4_1.7"
  },
  "language_info": {
   "codemirror_mode": {
    "name": "ipython",
    "version": 3
   },
   "file_extension": ".py",
   "mimetype": "text/x-python",
   "name": "python",
   "nbconvert_exporter": "python",
   "pygments_lexer": "ipython3",
   "version": "3.7.10"
  }
 },
 "nbformat": 4,
 "nbformat_minor": 5
}
