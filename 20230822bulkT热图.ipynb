{
 "cells": [
  {
   "cell_type": "code",
   "execution_count": 1,
   "id": "comparative-twenty",
   "metadata": {},
   "outputs": [],
   "source": [
    "import pandas as pd\n",
    "import plotly.express as px\n",
    "import glob\n",
    "import os\n",
    "import plotly.graph_objects as go\n",
    "import numpy as np \n",
    "import matplotlib.pyplot as plt"
   ]
  },
  {
   "cell_type": "code",
   "execution_count": 2,
   "id": "upset-lawrence",
   "metadata": {},
   "outputs": [],
   "source": [
    "df = pd.read_csv(\"/SGRNJ06/randd/PROJECT/RD20073101_ScRNA_VDJ/bulk_TCR/20230810_Buffy_T3lib/Hum_0728Buffy_T3lib/05.count_vdj/Hum_0728Buffy_T3lib_clonetypes.csv\")"
   ]
  },
  {
   "cell_type": "code",
   "execution_count": 3,
   "id": "gorgeous-livestock",
   "metadata": {},
   "outputs": [
    {
     "data": {
      "text/html": [
       "<div>\n",
       "<style scoped>\n",
       "    .dataframe tbody tr th:only-of-type {\n",
       "        vertical-align: middle;\n",
       "    }\n",
       "\n",
       "    .dataframe tbody tr th {\n",
       "        vertical-align: top;\n",
       "    }\n",
       "\n",
       "    .dataframe thead th {\n",
       "        text-align: right;\n",
       "    }\n",
       "</style>\n",
       "<table border=\"1\" class=\"dataframe\">\n",
       "  <thead>\n",
       "    <tr style=\"text-align: right;\">\n",
       "      <th></th>\n",
       "      <th>ClonotypeID</th>\n",
       "      <th>aaSeqCDR3</th>\n",
       "      <th>Frequency</th>\n",
       "      <th>Proportion</th>\n",
       "      <th>Index</th>\n",
       "      <th>Diversity</th>\n",
       "    </tr>\n",
       "  </thead>\n",
       "  <tbody>\n",
       "    <tr>\n",
       "      <th>0</th>\n",
       "      <td>1</td>\n",
       "      <td>TRB:CASSLQGTSIDTQYF</td>\n",
       "      <td>281</td>\n",
       "      <td>2.14%</td>\n",
       "      <td>CAAGTT</td>\n",
       "      <td>315.76</td>\n",
       "    </tr>\n",
       "    <tr>\n",
       "      <th>1</th>\n",
       "      <td>2</td>\n",
       "      <td>TRB:CASSQNSNEQFF</td>\n",
       "      <td>264</td>\n",
       "      <td>2.02%</td>\n",
       "      <td>CAAGTT</td>\n",
       "      <td>315.76</td>\n",
       "    </tr>\n",
       "    <tr>\n",
       "      <th>2</th>\n",
       "      <td>3</td>\n",
       "      <td>TRB:CASSEGGPGLATYEQYF</td>\n",
       "      <td>178</td>\n",
       "      <td>1.36%</td>\n",
       "      <td>CAAGTT</td>\n",
       "      <td>315.76</td>\n",
       "    </tr>\n",
       "    <tr>\n",
       "      <th>3</th>\n",
       "      <td>4</td>\n",
       "      <td>TRB:CASSPTSNELVQFF</td>\n",
       "      <td>158</td>\n",
       "      <td>1.21%</td>\n",
       "      <td>CAAGTT</td>\n",
       "      <td>315.76</td>\n",
       "    </tr>\n",
       "    <tr>\n",
       "      <th>4</th>\n",
       "      <td>5</td>\n",
       "      <td>TRB:CASSLAGGEGNTIYF</td>\n",
       "      <td>144</td>\n",
       "      <td>1.1%</td>\n",
       "      <td>CAAGTT</td>\n",
       "      <td>315.76</td>\n",
       "    </tr>\n",
       "    <tr>\n",
       "      <th>...</th>\n",
       "      <td>...</td>\n",
       "      <td>...</td>\n",
       "      <td>...</td>\n",
       "      <td>...</td>\n",
       "      <td>...</td>\n",
       "      <td>...</td>\n",
       "    </tr>\n",
       "    <tr>\n",
       "      <th>10248</th>\n",
       "      <td>1425</td>\n",
       "      <td>TRB:CASSIESGGTYEQYF</td>\n",
       "      <td>1</td>\n",
       "      <td>0.01%</td>\n",
       "      <td>GAACCA</td>\n",
       "      <td>318.99</td>\n",
       "    </tr>\n",
       "    <tr>\n",
       "      <th>10249</th>\n",
       "      <td>1426</td>\n",
       "      <td>TRB:CASSIIGGGAGADTQYF</td>\n",
       "      <td>1</td>\n",
       "      <td>0.01%</td>\n",
       "      <td>GAACCA</td>\n",
       "      <td>318.99</td>\n",
       "    </tr>\n",
       "    <tr>\n",
       "      <th>10250</th>\n",
       "      <td>1427</td>\n",
       "      <td>TRB:CASSISKWQGAYEQYF</td>\n",
       "      <td>1</td>\n",
       "      <td>0.01%</td>\n",
       "      <td>GAACCA</td>\n",
       "      <td>318.99</td>\n",
       "    </tr>\n",
       "    <tr>\n",
       "      <th>10251</th>\n",
       "      <td>1428</td>\n",
       "      <td>TRB:CASSKLGRELFF</td>\n",
       "      <td>1</td>\n",
       "      <td>0.01%</td>\n",
       "      <td>GAACCA</td>\n",
       "      <td>318.99</td>\n",
       "    </tr>\n",
       "    <tr>\n",
       "      <th>10252</th>\n",
       "      <td>1429</td>\n",
       "      <td>TRB:CASSLDSTYEQYF</td>\n",
       "      <td>1</td>\n",
       "      <td>0.01%</td>\n",
       "      <td>GAACCA</td>\n",
       "      <td>318.99</td>\n",
       "    </tr>\n",
       "  </tbody>\n",
       "</table>\n",
       "<p>10253 rows × 6 columns</p>\n",
       "</div>"
      ],
      "text/plain": [
       "       ClonotypeID              aaSeqCDR3  Frequency Proportion   Index  \\\n",
       "0                1    TRB:CASSLQGTSIDTQYF        281      2.14%  CAAGTT   \n",
       "1                2       TRB:CASSQNSNEQFF        264      2.02%  CAAGTT   \n",
       "2                3  TRB:CASSEGGPGLATYEQYF        178      1.36%  CAAGTT   \n",
       "3                4     TRB:CASSPTSNELVQFF        158      1.21%  CAAGTT   \n",
       "4                5    TRB:CASSLAGGEGNTIYF        144       1.1%  CAAGTT   \n",
       "...            ...                    ...        ...        ...     ...   \n",
       "10248         1425    TRB:CASSIESGGTYEQYF          1      0.01%  GAACCA   \n",
       "10249         1426  TRB:CASSIIGGGAGADTQYF          1      0.01%  GAACCA   \n",
       "10250         1427   TRB:CASSISKWQGAYEQYF          1      0.01%  GAACCA   \n",
       "10251         1428       TRB:CASSKLGRELFF          1      0.01%  GAACCA   \n",
       "10252         1429      TRB:CASSLDSTYEQYF          1      0.01%  GAACCA   \n",
       "\n",
       "       Diversity  \n",
       "0         315.76  \n",
       "1         315.76  \n",
       "2         315.76  \n",
       "3         315.76  \n",
       "4         315.76  \n",
       "...          ...  \n",
       "10248     318.99  \n",
       "10249     318.99  \n",
       "10250     318.99  \n",
       "10251     318.99  \n",
       "10252     318.99  \n",
       "\n",
       "[10253 rows x 6 columns]"
      ]
     },
     "execution_count": 3,
     "metadata": {},
     "output_type": "execute_result"
    }
   ],
   "source": [
    "df"
   ]
  },
  {
   "cell_type": "code",
   "execution_count": 7,
   "id": "noble-spyware",
   "metadata": {},
   "outputs": [],
   "source": [
    "total = df.groupby(\"Index\").agg({\"Frequency\":\"sum\"})\n",
    "count = df.groupby(\"Index\").agg({\"Frequency\":\"count\"})\n",
    "diversity = df.groupby(\"Index\").agg({\"Diversity\":\"mean\"})"
   ]
  },
  {
   "cell_type": "code",
   "execution_count": 35,
   "id": "integral-engagement",
   "metadata": {},
   "outputs": [
    {
     "data": {
      "text/html": [
       "<div>\n",
       "<style scoped>\n",
       "    .dataframe tbody tr th:only-of-type {\n",
       "        vertical-align: middle;\n",
       "    }\n",
       "\n",
       "    .dataframe tbody tr th {\n",
       "        vertical-align: top;\n",
       "    }\n",
       "\n",
       "    .dataframe thead th {\n",
       "        text-align: right;\n",
       "    }\n",
       "</style>\n",
       "<table border=\"1\" class=\"dataframe\">\n",
       "  <thead>\n",
       "    <tr style=\"text-align: right;\">\n",
       "      <th></th>\n",
       "      <th>Diversity</th>\n",
       "    </tr>\n",
       "    <tr>\n",
       "      <th>Index</th>\n",
       "      <th></th>\n",
       "    </tr>\n",
       "  </thead>\n",
       "  <tbody>\n",
       "    <tr>\n",
       "      <th>AGGTTA</th>\n",
       "      <td>287.07</td>\n",
       "    </tr>\n",
       "    <tr>\n",
       "      <th>CAAGTT</th>\n",
       "      <td>315.76</td>\n",
       "    </tr>\n",
       "    <tr>\n",
       "      <th>CATTGG</th>\n",
       "      <td>293.64</td>\n",
       "    </tr>\n",
       "    <tr>\n",
       "      <th>GAACCA</th>\n",
       "      <td>318.99</td>\n",
       "    </tr>\n",
       "    <tr>\n",
       "      <th>TACACA</th>\n",
       "      <td>297.92</td>\n",
       "    </tr>\n",
       "    <tr>\n",
       "      <th>TCATGC</th>\n",
       "      <td>263.55</td>\n",
       "    </tr>\n",
       "    <tr>\n",
       "      <th>TCGAAT</th>\n",
       "      <td>248.30</td>\n",
       "    </tr>\n",
       "    <tr>\n",
       "      <th>TCTTGG</th>\n",
       "      <td>270.93</td>\n",
       "    </tr>\n",
       "  </tbody>\n",
       "</table>\n",
       "</div>"
      ],
      "text/plain": [
       "        Diversity\n",
       "Index            \n",
       "AGGTTA     287.07\n",
       "CAAGTT     315.76\n",
       "CATTGG     293.64\n",
       "GAACCA     318.99\n",
       "TACACA     297.92\n",
       "TCATGC     263.55\n",
       "TCGAAT     248.30\n",
       "TCTTGG     270.93"
      ]
     },
     "execution_count": 35,
     "metadata": {},
     "output_type": "execute_result"
    }
   ],
   "source": [
    "diversity"
   ]
  },
  {
   "cell_type": "code",
   "execution_count": 46,
   "id": "unnecessary-allen",
   "metadata": {},
   "outputs": [],
   "source": [
    "z = list(diversity.Diversity)"
   ]
  },
  {
   "cell_type": "code",
   "execution_count": 48,
   "id": "living-output",
   "metadata": {},
   "outputs": [],
   "source": [
    "z = [round(i, 2) for i in z]"
   ]
  },
  {
   "cell_type": "code",
   "execution_count": 49,
   "id": "spare-engagement",
   "metadata": {},
   "outputs": [
    {
     "data": {
      "text/plain": [
       "[287.07, 315.76, 293.64, 318.99, 297.92, 263.55, 248.3, 270.93]"
      ]
     },
     "execution_count": 49,
     "metadata": {},
     "output_type": "execute_result"
    }
   ],
   "source": [
    "z"
   ]
  },
  {
   "cell_type": "code",
   "execution_count": 50,
   "id": "coated-bread",
   "metadata": {},
   "outputs": [],
   "source": [
    "z = [z[:4],\n",
    "     z[4:8]]"
   ]
  },
  {
   "cell_type": "code",
   "execution_count": 40,
   "id": "terminal-stand",
   "metadata": {},
   "outputs": [],
   "source": []
  },
  {
   "cell_type": "code",
   "execution_count": 51,
   "id": "actual-planning",
   "metadata": {},
   "outputs": [],
   "source": [
    "fig = px.imshow(z, text_auto=True, aspect=\"equal\", title=\"8 Index\", labels=dict(color=\"Diversity\"),\n",
    "              )\n",
    "fig.update_xaxes(showticklabels=False)\n",
    "fig.update_yaxes(showticklabels=False)\n",
    "#fig.show()\n",
    "fig.write_image(\"/SGRNJ06/randd/PROJECT/RD20073101_ScRNA_VDJ/bulk_TCR/20230810_Buffy_T3lib/plot/Diversity.pdf\", scale=8)"
   ]
  },
  {
   "cell_type": "code",
   "execution_count": null,
   "id": "limiting-agenda",
   "metadata": {},
   "outputs": [],
   "source": []
  }
 ],
 "metadata": {
  "kernelspec": {
   "display_name": "trust4_1.7",
   "language": "python",
   "name": "trust4_1.7"
  },
  "language_info": {
   "codemirror_mode": {
    "name": "ipython",
    "version": 3
   },
   "file_extension": ".py",
   "mimetype": "text/x-python",
   "name": "python",
   "nbconvert_exporter": "python",
   "pygments_lexer": "ipython3",
   "version": "3.7.10"
  }
 },
 "nbformat": 4,
 "nbformat_minor": 5
}
