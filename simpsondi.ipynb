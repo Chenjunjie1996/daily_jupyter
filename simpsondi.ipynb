{
 "cells": [
  {
   "cell_type": "code",
   "execution_count": 1,
   "id": "freelance-median",
   "metadata": {},
   "outputs": [],
   "source": [
    "import pandas as pd"
   ]
  },
  {
   "cell_type": "code",
   "execution_count": 7,
   "id": "unknown-canberra",
   "metadata": {},
   "outputs": [],
   "source": [
    "def simpson_di(data):\n",
    "\n",
    "    \"\"\" Given a hash { 'species': count } , returns the Simpson Diversity Index\n",
    "    \n",
    "    >>> simpson_di({'a': 10, 'b': 20, 'c': 30,})\n",
    "    0.3888888888888889\n",
    "    \"\"\"\n",
    "\n",
    "    def p(n, N):\n",
    "        \"\"\" Relative abundance \"\"\"\n",
    "        if n is  0:\n",
    "            return 0\n",
    "        else:\n",
    "            return float(n)/N\n",
    "\n",
    "    N = sum(data.values())\n",
    "    \n",
    "    return sum(p(n, N)**2 for n in data.values() if n is not 0)\n",
    "\n",
    "\n",
    "def inverse_simpson_di(data):\n",
    "    \"\"\" Given a hash { 'species': count } , returns the inverse Simpson Diversity Index\n",
    "    \n",
    "    >>> inverse_simpson_di({'a': 10, 'b': 20, 'c': 30,})\n",
    "    2.571428571428571\n",
    "    \"\"\"\n",
    "    return float(1)/simpson_di(data)"
   ]
  },
  {
   "cell_type": "code",
   "execution_count": 20,
   "id": "southeast-skiing",
   "metadata": {},
   "outputs": [],
   "source": [
    "df_cr = pd.read_csv('/SGRNJ06/randd/USER/cjj/celedev/kemai/20220512mergeCR/sc-3/06.summarize/clonotypes.csv',sep=',')\n",
    "df_tr = pd.read_csv('/SGRNJ06/randd/USER/cjj/celedev/kemai/20220512mergeTR/sc-3/04.summarize/clonotypes.csv',sep=',')"
   ]
  },
  {
   "cell_type": "code",
   "execution_count": 14,
   "id": "brutal-cream",
   "metadata": {},
   "outputs": [
    {
     "data": {
      "text/html": [
       "<div>\n",
       "<style scoped>\n",
       "    .dataframe tbody tr th:only-of-type {\n",
       "        vertical-align: middle;\n",
       "    }\n",
       "\n",
       "    .dataframe tbody tr th {\n",
       "        vertical-align: top;\n",
       "    }\n",
       "\n",
       "    .dataframe thead th {\n",
       "        text-align: right;\n",
       "    }\n",
       "</style>\n",
       "<table border=\"1\" class=\"dataframe\">\n",
       "  <thead>\n",
       "    <tr style=\"text-align: right;\">\n",
       "      <th></th>\n",
       "      <th>clonotype_id</th>\n",
       "      <th>cdr3s_aa</th>\n",
       "      <th>frequency</th>\n",
       "      <th>proportion</th>\n",
       "    </tr>\n",
       "  </thead>\n",
       "  <tbody>\n",
       "    <tr>\n",
       "      <th>0</th>\n",
       "      <td>clonotype1</td>\n",
       "      <td>IGK:CQQRSNWPPTF</td>\n",
       "      <td>5381</td>\n",
       "      <td>0.612312</td>\n",
       "    </tr>\n",
       "    <tr>\n",
       "      <th>1</th>\n",
       "      <td>clonotype2</td>\n",
       "      <td>IGH:CARGITGNDYW;IGK:CQQRSNWPPTF</td>\n",
       "      <td>156</td>\n",
       "      <td>0.017751</td>\n",
       "    </tr>\n",
       "    <tr>\n",
       "      <th>2</th>\n",
       "      <td>clonotype3</td>\n",
       "      <td>IGH:CARGADYW;IGK:CQQRSNWPPTF</td>\n",
       "      <td>81</td>\n",
       "      <td>0.009217</td>\n",
       "    </tr>\n",
       "    <tr>\n",
       "      <th>3</th>\n",
       "      <td>clonotype4</td>\n",
       "      <td>IGH:CARDVGATIDYW;IGK:CQQRSNWPPTF</td>\n",
       "      <td>45</td>\n",
       "      <td>0.005121</td>\n",
       "    </tr>\n",
       "    <tr>\n",
       "      <th>4</th>\n",
       "      <td>clonotype5</td>\n",
       "      <td>IGH:CARHSSSWEGWFDPW;IGK:CQQRSNWPPTF</td>\n",
       "      <td>43</td>\n",
       "      <td>0.004893</td>\n",
       "    </tr>\n",
       "    <tr>\n",
       "      <th>...</th>\n",
       "      <td>...</td>\n",
       "      <td>...</td>\n",
       "      <td>...</td>\n",
       "      <td>...</td>\n",
       "    </tr>\n",
       "    <tr>\n",
       "      <th>1232</th>\n",
       "      <td>clonotype999</td>\n",
       "      <td>IGH:CAREDSNYLFDYW;IGK:CQQRSNWPPTF</td>\n",
       "      <td>1</td>\n",
       "      <td>0.000114</td>\n",
       "    </tr>\n",
       "    <tr>\n",
       "      <th>1233</th>\n",
       "      <td>clonotype998</td>\n",
       "      <td>IGH:CARDRGGIVGASLFDYW;IGK:CQQRSNWPPTF</td>\n",
       "      <td>1</td>\n",
       "      <td>0.000114</td>\n",
       "    </tr>\n",
       "    <tr>\n",
       "      <th>1234</th>\n",
       "      <td>clonotype1103</td>\n",
       "      <td>IGH:CAREVTHFDYW</td>\n",
       "      <td>1</td>\n",
       "      <td>0.000114</td>\n",
       "    </tr>\n",
       "    <tr>\n",
       "      <th>1235</th>\n",
       "      <td>clonotype1044</td>\n",
       "      <td>IGH:CARGGSNGWPNGFDIW;IGK:CQQLSNWTPTF</td>\n",
       "      <td>1</td>\n",
       "      <td>0.000114</td>\n",
       "    </tr>\n",
       "    <tr>\n",
       "      <th>1236</th>\n",
       "      <td>clonotype1105</td>\n",
       "      <td>IGH:CARVLVYINEYYFFYYGMDVC;IGK:CQHHSTWPPTF</td>\n",
       "      <td>1</td>\n",
       "      <td>0.000114</td>\n",
       "    </tr>\n",
       "  </tbody>\n",
       "</table>\n",
       "<p>1237 rows × 4 columns</p>\n",
       "</div>"
      ],
      "text/plain": [
       "       clonotype_id                                   cdr3s_aa  frequency  \\\n",
       "0        clonotype1                            IGK:CQQRSNWPPTF       5381   \n",
       "1        clonotype2            IGH:CARGITGNDYW;IGK:CQQRSNWPPTF        156   \n",
       "2        clonotype3               IGH:CARGADYW;IGK:CQQRSNWPPTF         81   \n",
       "3        clonotype4           IGH:CARDVGATIDYW;IGK:CQQRSNWPPTF         45   \n",
       "4        clonotype5        IGH:CARHSSSWEGWFDPW;IGK:CQQRSNWPPTF         43   \n",
       "...             ...                                        ...        ...   \n",
       "1232   clonotype999          IGH:CAREDSNYLFDYW;IGK:CQQRSNWPPTF          1   \n",
       "1233   clonotype998      IGH:CARDRGGIVGASLFDYW;IGK:CQQRSNWPPTF          1   \n",
       "1234  clonotype1103                            IGH:CAREVTHFDYW          1   \n",
       "1235  clonotype1044       IGH:CARGGSNGWPNGFDIW;IGK:CQQLSNWTPTF          1   \n",
       "1236  clonotype1105  IGH:CARVLVYINEYYFFYYGMDVC;IGK:CQHHSTWPPTF          1   \n",
       "\n",
       "      proportion  \n",
       "0       0.612312  \n",
       "1       0.017751  \n",
       "2       0.009217  \n",
       "3       0.005121  \n",
       "4       0.004893  \n",
       "...          ...  \n",
       "1232    0.000114  \n",
       "1233    0.000114  \n",
       "1234    0.000114  \n",
       "1235    0.000114  \n",
       "1236    0.000114  \n",
       "\n",
       "[1237 rows x 4 columns]"
      ]
     },
     "execution_count": 14,
     "metadata": {},
     "output_type": "execute_result"
    }
   ],
   "source": [
    "df"
   ]
  },
  {
   "cell_type": "code",
   "execution_count": 21,
   "id": "consecutive-dream",
   "metadata": {},
   "outputs": [],
   "source": [
    "data_cr = df_cr[['clonotype_id','frequency']].set_index('clonotype_id').to_dict(orient='dict')['frequency']\n",
    "data_tr = df_tr[['clonotype_id','frequency']].set_index('clonotype_id').to_dict(orient='dict')['frequency']"
   ]
  },
  {
   "cell_type": "code",
   "execution_count": 22,
   "id": "stuffed-acceptance",
   "metadata": {},
   "outputs": [
    {
     "data": {
      "text/plain": [
       "2.662259176525669"
      ]
     },
     "execution_count": 22,
     "metadata": {},
     "output_type": "execute_result"
    }
   ],
   "source": [
    "inverse_simpson_di(data_cr)"
   ]
  },
  {
   "cell_type": "code",
   "execution_count": 24,
   "id": "suspended-specific",
   "metadata": {},
   "outputs": [
    {
     "data": {
      "text/plain": [
       "30.911979304181713"
      ]
     },
     "execution_count": 24,
     "metadata": {},
     "output_type": "execute_result"
    }
   ],
   "source": [
    "inverse_simpson_di(data_tr)"
   ]
  },
  {
   "cell_type": "code",
   "execution_count": null,
   "id": "egyptian-shooting",
   "metadata": {},
   "outputs": [],
   "source": []
  }
 ],
 "metadata": {
  "kernelspec": {
   "display_name": "Python 3",
   "language": "python",
   "name": "python3"
  },
  "language_info": {
   "codemirror_mode": {
    "name": "ipython",
    "version": 3
   },
   "file_extension": ".py",
   "mimetype": "text/x-python",
   "name": "python",
   "nbconvert_exporter": "python",
   "pygments_lexer": "ipython3",
   "version": "3.7.10"
  }
 },
 "nbformat": 4,
 "nbformat_minor": 5
}
