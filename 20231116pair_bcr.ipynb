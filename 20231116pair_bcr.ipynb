{
 "cells": [
  {
   "cell_type": "code",
   "execution_count": 2,
   "id": "incorporate-expense",
   "metadata": {},
   "outputs": [],
   "source": [
    "import pandas as pd \n",
    "import os\n",
    "import glob"
   ]
  },
  {
   "cell_type": "code",
   "execution_count": 5,
   "id": "practical-mercury",
   "metadata": {},
   "outputs": [],
   "source": [
    "files = glob.glob(\"/SGRNJ06/randd/USER/cjj/celedev/vdj10x/20231120/*/04.summarize/clonotypes.csv\")"
   ]
  },
  {
   "cell_type": "code",
   "execution_count": 6,
   "id": "optimum-cassette",
   "metadata": {},
   "outputs": [
    {
     "data": {
      "text/plain": [
       "['/SGRNJ06/randd/USER/cjj/celedev/vdj10x/20231120/BT12K-B/04.summarize/clonotypes.csv',\n",
       " '/SGRNJ06/randd/USER/cjj/celedev/vdj10x/20231120/B6K-B/04.summarize/clonotypes.csv',\n",
       " '/SGRNJ06/randd/USER/cjj/celedev/vdj10x/20231120/B12K-B/04.summarize/clonotypes.csv',\n",
       " '/SGRNJ06/randd/USER/cjj/celedev/vdj10x/20231120/BT6K-B/04.summarize/clonotypes.csv',\n",
       " '/SGRNJ06/randd/USER/cjj/celedev/vdj10x/20231120/Group2-B/04.summarize/clonotypes.csv',\n",
       " '/SGRNJ06/randd/USER/cjj/celedev/vdj10x/20231120/Group1-B/04.summarize/clonotypes.csv']"
      ]
     },
     "execution_count": 6,
     "metadata": {},
     "output_type": "execute_result"
    }
   ],
   "source": [
    "files"
   ]
  },
  {
   "cell_type": "code",
   "execution_count": 34,
   "id": "promising-preservation",
   "metadata": {},
   "outputs": [],
   "source": [
    "for file in files:\n",
    "    sample = file.split('/')[-3]\n",
    "    out = f\"/SGRNJ06/randd/USER/cjj/celedev/vdj10x/20231116pair_cl/{sample}_match_pair_clonotypes.csv\"\n",
    "    \n",
    "    df = pd.read_csv(file)\n",
    "    df.cdr3s_aa = df.cdr3s_aa.apply(lambda x: x.split(';'))\n",
    "    df = df[df['cdr3s_aa'].apply(lambda x: len(x)) == 2]\n",
    "    df = df[df['cdr3s_aa'].apply(lambda x: x[0]).str.contains('IGH')]\n",
    "    df = df[~df['cdr3s_aa'].apply(lambda x: x[1]).str.contains('IGH')]\n",
    "    df['cdr3s_aa'] = df['cdr3s_aa'].apply(lambda x: ';'.join(x))\n",
    "    df.to_csv(out, sep=',', index=False)"
   ]
  },
  {
   "cell_type": "code",
   "execution_count": 7,
   "id": "under-honolulu",
   "metadata": {},
   "outputs": [],
   "source": [
    "df = pd.read_csv(files[0])"
   ]
  },
  {
   "cell_type": "code",
   "execution_count": 8,
   "id": "careful-depression",
   "metadata": {},
   "outputs": [],
   "source": [
    "df.cdr3s_aa = df.cdr3s_aa.apply(lambda x: x.split(';'))"
   ]
  },
  {
   "cell_type": "code",
   "execution_count": 9,
   "id": "eastern-loading",
   "metadata": {},
   "outputs": [],
   "source": [
    "df = df[df['cdr3s_aa'].apply(lambda x: len(x)) == 2]"
   ]
  },
  {
   "cell_type": "code",
   "execution_count": 10,
   "id": "thermal-parent",
   "metadata": {},
   "outputs": [],
   "source": [
    "df = df[df['cdr3s_aa'].apply(lambda x: x[0]).str.contains('IGH')]"
   ]
  },
  {
   "cell_type": "code",
   "execution_count": 11,
   "id": "planned-vault",
   "metadata": {},
   "outputs": [],
   "source": [
    "df = df[~df['cdr3s_aa'].apply(lambda x: x[1]).str.contains('IGH')]"
   ]
  },
  {
   "cell_type": "code",
   "execution_count": 12,
   "id": "coupled-equipment",
   "metadata": {},
   "outputs": [],
   "source": [
    "df['cdr3s_aa'] = df['cdr3s_aa'].apply(lambda x: ';'.join(x))"
   ]
  },
  {
   "cell_type": "code",
   "execution_count": 13,
   "id": "first-grounds",
   "metadata": {},
   "outputs": [
    {
     "data": {
      "text/html": [
       "<div>\n",
       "<style scoped>\n",
       "    .dataframe tbody tr th:only-of-type {\n",
       "        vertical-align: middle;\n",
       "    }\n",
       "\n",
       "    .dataframe tbody tr th {\n",
       "        vertical-align: top;\n",
       "    }\n",
       "\n",
       "    .dataframe thead th {\n",
       "        text-align: right;\n",
       "    }\n",
       "</style>\n",
       "<table border=\"1\" class=\"dataframe\">\n",
       "  <thead>\n",
       "    <tr style=\"text-align: right;\">\n",
       "      <th></th>\n",
       "      <th>clonotype_id</th>\n",
       "      <th>frequency</th>\n",
       "      <th>proportion</th>\n",
       "      <th>cdr3s_aa</th>\n",
       "      <th>cdr3s_nt</th>\n",
       "    </tr>\n",
       "  </thead>\n",
       "  <tbody>\n",
       "    <tr>\n",
       "      <th>1</th>\n",
       "      <td>clonotype2</td>\n",
       "      <td>5</td>\n",
       "      <td>0.000693</td>\n",
       "      <td>IGH:CARGAYW;IGK:CQQWSSYPPTF</td>\n",
       "      <td>IGH:TGTGCAAGAGGGGCTTACTGG;IGK:TGCCAGCAGTGGAGTA...</td>\n",
       "    </tr>\n",
       "    <tr>\n",
       "      <th>2</th>\n",
       "      <td>clonotype3</td>\n",
       "      <td>4</td>\n",
       "      <td>0.000555</td>\n",
       "      <td>IGH:CTRGLSDYW;IGK:CLQYASYPLTF</td>\n",
       "      <td>IGH:TGTACAAGGGGGCTGTCGGACTACTGG;IGK:TGTCTACAAT...</td>\n",
       "    </tr>\n",
       "    <tr>\n",
       "      <th>3</th>\n",
       "      <td>clonotype4</td>\n",
       "      <td>4</td>\n",
       "      <td>0.000555</td>\n",
       "      <td>IGH:CTNWVFAYW;IGK:CQQHYSTPYTF</td>\n",
       "      <td>IGH:TGCACGAACTGGGTGTTTGCTTACTGG;IGK:TGTCAGCAAC...</td>\n",
       "    </tr>\n",
       "    <tr>\n",
       "      <th>4</th>\n",
       "      <td>clonotype5</td>\n",
       "      <td>4</td>\n",
       "      <td>0.000555</td>\n",
       "      <td>IGH:CARFITTVGFDYW;IGK:CHQYLSSLTF</td>\n",
       "      <td>IGH:TGTGCAAGATTTATTACTACGGTGGGCTTTGACTACTGG;IG...</td>\n",
       "    </tr>\n",
       "    <tr>\n",
       "      <th>6</th>\n",
       "      <td>clonotype7</td>\n",
       "      <td>4</td>\n",
       "      <td>0.000555</td>\n",
       "      <td>IGH:CARGKYGNYEGFAYW;IGK:CLQYDNLTWTF</td>\n",
       "      <td>IGH:TGTGCTCGAGGGAAATATGGTAACTACGAAGGGTTTGCTTAC...</td>\n",
       "    </tr>\n",
       "    <tr>\n",
       "      <th>...</th>\n",
       "      <td>...</td>\n",
       "      <td>...</td>\n",
       "      <td>...</td>\n",
       "      <td>...</td>\n",
       "      <td>...</td>\n",
       "    </tr>\n",
       "    <tr>\n",
       "      <th>6652</th>\n",
       "      <td>clonotype6653</td>\n",
       "      <td>1</td>\n",
       "      <td>0.000139</td>\n",
       "      <td>IGH:CTRDEGIYYDYTWFAYW;IGK:CQQHYSTPLTF</td>\n",
       "      <td>IGH:TGTACAAGAGATGAGGGGATCTACTATGATTACACCTGGTTT...</td>\n",
       "    </tr>\n",
       "    <tr>\n",
       "      <th>6653</th>\n",
       "      <td>clonotype6654</td>\n",
       "      <td>1</td>\n",
       "      <td>0.000139</td>\n",
       "      <td>IGH:CTRDRIYYGYDVNAMDYW;IGK:CLQYASSPPTF</td>\n",
       "      <td>IGH:TGTACAAGAGATAGGATCTACTATGGTTACGACGTAAATGCT...</td>\n",
       "    </tr>\n",
       "    <tr>\n",
       "      <th>6654</th>\n",
       "      <td>clonotype6655</td>\n",
       "      <td>1</td>\n",
       "      <td>0.000139</td>\n",
       "      <td>IGH:CTRDLSYYGSSYGYFDVW;IGK:CLQYDEFPYTF</td>\n",
       "      <td>IGH:TGTACAAGAGATCTAAGTTACTACGGTAGTAGCTACGGGTAC...</td>\n",
       "    </tr>\n",
       "    <tr>\n",
       "      <th>6655</th>\n",
       "      <td>clonotype6656</td>\n",
       "      <td>1</td>\n",
       "      <td>0.000139</td>\n",
       "      <td>IGH:CTRDHPITTVVATGAMDYW;IGK:CWQGTHFPYTF</td>\n",
       "      <td>IGH:TGTACAAGAGATCACCCTATTACTACGGTAGTAGCTACGGGT...</td>\n",
       "    </tr>\n",
       "    <tr>\n",
       "      <th>6656</th>\n",
       "      <td>clonotype6657</td>\n",
       "      <td>1</td>\n",
       "      <td>0.000139</td>\n",
       "      <td>IGH:CTRDNPDPSLITTVVGRGSWFAYW;IGK:CQQYSKLPWTF</td>\n",
       "      <td>IGH:TGTACAAGAGATAACCCCGACCCGTCTCTTATTACTACGGTA...</td>\n",
       "    </tr>\n",
       "  </tbody>\n",
       "</table>\n",
       "<p>4588 rows × 5 columns</p>\n",
       "</div>"
      ],
      "text/plain": [
       "       clonotype_id  frequency  proportion  \\\n",
       "1        clonotype2          5    0.000693   \n",
       "2        clonotype3          4    0.000555   \n",
       "3        clonotype4          4    0.000555   \n",
       "4        clonotype5          4    0.000555   \n",
       "6        clonotype7          4    0.000555   \n",
       "...             ...        ...         ...   \n",
       "6652  clonotype6653          1    0.000139   \n",
       "6653  clonotype6654          1    0.000139   \n",
       "6654  clonotype6655          1    0.000139   \n",
       "6655  clonotype6656          1    0.000139   \n",
       "6656  clonotype6657          1    0.000139   \n",
       "\n",
       "                                          cdr3s_aa  \\\n",
       "1                      IGH:CARGAYW;IGK:CQQWSSYPPTF   \n",
       "2                    IGH:CTRGLSDYW;IGK:CLQYASYPLTF   \n",
       "3                    IGH:CTNWVFAYW;IGK:CQQHYSTPYTF   \n",
       "4                 IGH:CARFITTVGFDYW;IGK:CHQYLSSLTF   \n",
       "6              IGH:CARGKYGNYEGFAYW;IGK:CLQYDNLTWTF   \n",
       "...                                            ...   \n",
       "6652         IGH:CTRDEGIYYDYTWFAYW;IGK:CQQHYSTPLTF   \n",
       "6653        IGH:CTRDRIYYGYDVNAMDYW;IGK:CLQYASSPPTF   \n",
       "6654        IGH:CTRDLSYYGSSYGYFDVW;IGK:CLQYDEFPYTF   \n",
       "6655       IGH:CTRDHPITTVVATGAMDYW;IGK:CWQGTHFPYTF   \n",
       "6656  IGH:CTRDNPDPSLITTVVGRGSWFAYW;IGK:CQQYSKLPWTF   \n",
       "\n",
       "                                               cdr3s_nt  \n",
       "1     IGH:TGTGCAAGAGGGGCTTACTGG;IGK:TGCCAGCAGTGGAGTA...  \n",
       "2     IGH:TGTACAAGGGGGCTGTCGGACTACTGG;IGK:TGTCTACAAT...  \n",
       "3     IGH:TGCACGAACTGGGTGTTTGCTTACTGG;IGK:TGTCAGCAAC...  \n",
       "4     IGH:TGTGCAAGATTTATTACTACGGTGGGCTTTGACTACTGG;IG...  \n",
       "6     IGH:TGTGCTCGAGGGAAATATGGTAACTACGAAGGGTTTGCTTAC...  \n",
       "...                                                 ...  \n",
       "6652  IGH:TGTACAAGAGATGAGGGGATCTACTATGATTACACCTGGTTT...  \n",
       "6653  IGH:TGTACAAGAGATAGGATCTACTATGGTTACGACGTAAATGCT...  \n",
       "6654  IGH:TGTACAAGAGATCTAAGTTACTACGGTAGTAGCTACGGGTAC...  \n",
       "6655  IGH:TGTACAAGAGATCACCCTATTACTACGGTAGTAGCTACGGGT...  \n",
       "6656  IGH:TGTACAAGAGATAACCCCGACCCGTCTCTTATTACTACGGTA...  \n",
       "\n",
       "[4588 rows x 5 columns]"
      ]
     },
     "execution_count": 13,
     "metadata": {},
     "output_type": "execute_result"
    }
   ],
   "source": [
    "df"
   ]
  },
  {
   "cell_type": "code",
   "execution_count": null,
   "id": "superior-department",
   "metadata": {},
   "outputs": [],
   "source": [
    "df = pd.read_csv(annotation_file)\n",
    "df_productive = df[df['productive'] == True]\n",
    "\n",
    "df_heavy = df_productive[(df_productive['chain'] == \"IGH\")] \n",
    "df_light = df_productive[(df_productive['chain'] == \"IGL\") | (df_productive['chain'] == \"IGK\")]\n",
    "\n",
    "df_pair = pd.merge(df_heavy, df_light, on='barcode', how='inner')"
   ]
  }
 ],
 "metadata": {
  "kernelspec": {
   "display_name": "trust4_1.7",
   "language": "python",
   "name": "trust4_1.7"
  },
  "language_info": {
   "codemirror_mode": {
    "name": "ipython",
    "version": 3
   },
   "file_extension": ".py",
   "mimetype": "text/x-python",
   "name": "python",
   "nbconvert_exporter": "python",
   "pygments_lexer": "ipython3",
   "version": "3.7.10"
  }
 },
 "nbformat": 4,
 "nbformat_minor": 5
}
