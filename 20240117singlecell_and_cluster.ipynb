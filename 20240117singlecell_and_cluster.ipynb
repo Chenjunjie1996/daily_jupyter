{
 "cells": [
  {
   "cell_type": "code",
   "execution_count": null,
   "id": "active-broadcast",
   "metadata": {},
   "outputs": [],
   "source": [
    "library(MAESTRO)\n",
    "library(Seurat)"
   ]
  },
  {
   "cell_type": "code",
   "execution_count": null,
   "id": "finnish-spring",
   "metadata": {},
   "outputs": [],
   "source": [
    "rds = Read10X_h5(\"/SGRNJ06/randd/USER/cjj/celedev/atac/MAESTRO/test/20240117cus/downsample_R230921030/02.atac/test_filtered_peak_count.h5\")"
   ]
  },
  {
   "cell_type": "code",
   "execution_count": null,
   "id": "crucial-framework",
   "metadata": {},
   "outputs": [],
   "source": [
    "rds"
   ]
  },
  {
   "cell_type": "code",
   "execution_count": null,
   "id": "searching-advocate",
   "metadata": {},
   "outputs": [],
   "source": [
    "?ATACRunSeurat"
   ]
  },
  {
   "cell_type": "code",
   "execution_count": null,
   "id": "compact-arrow",
   "metadata": {},
   "outputs": [],
   "source": [
    "rds.res <- ATACRunSeurat(inputMat = rds,\n",
    "                                 project = \"test\",\n",
    "                                 min.c = 0,\n",
    "                                 min.p = 0,\n",
    "                                 method = \"LSI\",\n",
    "                                 dims.use = 1:30,\n",
    "                                 cluster.res = 0.6,\n",
    "                                 only.pos = TRUE,\n",
    "                                 peaks.cutoff = 0,\n",
    "                                 peaks.pct = 0,\n",
    "                                 peaks.logfc = 0,\n",
    "                                 outdir = \"/SGRNJ06/randd/USER/cjj/celedev/atac/MAESTRO/test/20240117cus/downsample_R230921030/02.atac\")"
   ]
  },
  {
   "cell_type": "code",
   "execution_count": null,
   "id": "unauthorized-graham",
   "metadata": {},
   "outputs": [],
   "source": [
    "head(rds.res$ATAC@reductions$umap@cell.embeddings)"
   ]
  },
  {
   "cell_type": "code",
   "execution_count": null,
   "id": "sapphire-olympus",
   "metadata": {},
   "outputs": [],
   "source": [
    "head(rds.res$ATAC@meta.data)"
   ]
  },
  {
   "cell_type": "code",
   "execution_count": null,
   "id": "enclosed-harvey",
   "metadata": {},
   "outputs": [],
   "source": [
    "rds"
   ]
  },
  {
   "cell_type": "code",
   "execution_count": 16,
   "id": "interested-facial",
   "metadata": {},
   "outputs": [],
   "source": [
    "saveRDS(rds.res, \"/SGRNJ06/randd/USER/cjj/celedev/atac/MAESTRO/test/20240117cus/downsample_R230921030/02.atac/test_scATAC_Object.rds\")"
   ]
  },
  {
   "cell_type": "code",
   "execution_count": null,
   "id": "active-probe",
   "metadata": {},
   "outputs": [],
   "source": []
  },
  {
   "cell_type": "code",
   "execution_count": null,
   "id": "eligible-technology",
   "metadata": {},
   "outputs": [],
   "source": []
  },
  {
   "cell_type": "code",
   "execution_count": 1,
   "id": "capital-reverse",
   "metadata": {},
   "outputs": [],
   "source": [
    "# singlecell ->validcells.txt : count-cutoff frip-cutfoff"
   ]
  },
  {
   "cell_type": "code",
   "execution_count": 1,
   "id": "vietnamese-sensitivity",
   "metadata": {},
   "outputs": [],
   "source": [
    "import pandas as pd "
   ]
  },
  {
   "cell_type": "code",
   "execution_count": 11,
   "id": "built-booking",
   "metadata": {},
   "outputs": [],
   "source": [
    "df = pd.read_csv(\"/SGRNJ06/randd/USER/cjj/celedev/atac/MAESTRO/test/20240118cus/A0824_5_3K_yisheng_wenxian_rapid_T7_6515TESDSTween_TD612_C16/02.atac/singlecell.txt\",\n",
    "                header=None, sep='\\t', names=[\"barcode\", \"fragments\", \"fragments_overlapping_promoter\"])"
   ]
  },
  {
   "cell_type": "code",
   "execution_count": 12,
   "id": "administrative-withdrawal",
   "metadata": {},
   "outputs": [],
   "source": [
    "df = df[df['fragments']>=1000]"
   ]
  },
  {
   "cell_type": "code",
   "execution_count": 13,
   "id": "demonstrated-latex",
   "metadata": {},
   "outputs": [],
   "source": [
    "df[\"fraction_in_promoter\"] = df[\"fragments_overlapping_promoter\"] / df[\"fragments\"]"
   ]
  },
  {
   "cell_type": "code",
   "execution_count": 14,
   "id": "recognized-fundamentals",
   "metadata": {},
   "outputs": [],
   "source": [
    "df = df[df[\"fraction_in_promoter\"] >= 0.2]"
   ]
  },
  {
   "cell_type": "code",
   "execution_count": 15,
   "id": "balanced-archive",
   "metadata": {},
   "outputs": [
    {
     "data": {
      "text/html": [
       "<div>\n",
       "<style scoped>\n",
       "    .dataframe tbody tr th:only-of-type {\n",
       "        vertical-align: middle;\n",
       "    }\n",
       "\n",
       "    .dataframe tbody tr th {\n",
       "        vertical-align: top;\n",
       "    }\n",
       "\n",
       "    .dataframe thead th {\n",
       "        text-align: right;\n",
       "    }\n",
       "</style>\n",
       "<table border=\"1\" class=\"dataframe\">\n",
       "  <thead>\n",
       "    <tr style=\"text-align: right;\">\n",
       "      <th></th>\n",
       "      <th>barcode</th>\n",
       "      <th>fragments</th>\n",
       "      <th>fragments_overlapping_promoter</th>\n",
       "      <th>fraction_in_promoter</th>\n",
       "    </tr>\n",
       "  </thead>\n",
       "  <tbody>\n",
       "    <tr>\n",
       "      <th>3</th>\n",
       "      <td>AACAATAACGTCTCAATCCC</td>\n",
       "      <td>1172</td>\n",
       "      <td>458</td>\n",
       "      <td>0.390785</td>\n",
       "    </tr>\n",
       "    <tr>\n",
       "      <th>125</th>\n",
       "      <td>AACAATACACAGTCCGTGCG</td>\n",
       "      <td>19258</td>\n",
       "      <td>7011</td>\n",
       "      <td>0.364056</td>\n",
       "    </tr>\n",
       "    <tr>\n",
       "      <th>321</th>\n",
       "      <td>AACAATACAGCTCAGATGGG</td>\n",
       "      <td>1579</td>\n",
       "      <td>584</td>\n",
       "      <td>0.369854</td>\n",
       "    </tr>\n",
       "    <tr>\n",
       "      <th>322</th>\n",
       "      <td>AACAATACAGCTCAGCCAAC</td>\n",
       "      <td>15845</td>\n",
       "      <td>5431</td>\n",
       "      <td>0.342758</td>\n",
       "    </tr>\n",
       "    <tr>\n",
       "      <th>395</th>\n",
       "      <td>AACAATACGTTGCACCGCGC</td>\n",
       "      <td>3978</td>\n",
       "      <td>1535</td>\n",
       "      <td>0.385872</td>\n",
       "    </tr>\n",
       "    <tr>\n",
       "      <th>...</th>\n",
       "      <td>...</td>\n",
       "      <td>...</td>\n",
       "      <td>...</td>\n",
       "      <td>...</td>\n",
       "    </tr>\n",
       "    <tr>\n",
       "      <th>830564</th>\n",
       "      <td>TTTTTGTGTTAGCCTTTGAC</td>\n",
       "      <td>1169</td>\n",
       "      <td>388</td>\n",
       "      <td>0.331908</td>\n",
       "    </tr>\n",
       "    <tr>\n",
       "      <th>830632</th>\n",
       "      <td>TTTTTGTTAGCGGTGGGGGT</td>\n",
       "      <td>1393</td>\n",
       "      <td>493</td>\n",
       "      <td>0.353912</td>\n",
       "    </tr>\n",
       "    <tr>\n",
       "      <th>830666</th>\n",
       "      <td>TTTTTGTTCTAGGCACACAC</td>\n",
       "      <td>1173</td>\n",
       "      <td>416</td>\n",
       "      <td>0.354646</td>\n",
       "    </tr>\n",
       "    <tr>\n",
       "      <th>830698</th>\n",
       "      <td>TTTTTGTTCTAGGCCGAGAC</td>\n",
       "      <td>1155</td>\n",
       "      <td>314</td>\n",
       "      <td>0.271861</td>\n",
       "    </tr>\n",
       "    <tr>\n",
       "      <th>830736</th>\n",
       "      <td>TTTTTGTTCTAGGCTAGCAT</td>\n",
       "      <td>1059</td>\n",
       "      <td>393</td>\n",
       "      <td>0.371105</td>\n",
       "    </tr>\n",
       "  </tbody>\n",
       "</table>\n",
       "<p>27276 rows × 4 columns</p>\n",
       "</div>"
      ],
      "text/plain": [
       "                     barcode  fragments  fragments_overlapping_promoter  \\\n",
       "3       AACAATAACGTCTCAATCCC       1172                             458   \n",
       "125     AACAATACACAGTCCGTGCG      19258                            7011   \n",
       "321     AACAATACAGCTCAGATGGG       1579                             584   \n",
       "322     AACAATACAGCTCAGCCAAC      15845                            5431   \n",
       "395     AACAATACGTTGCACCGCGC       3978                            1535   \n",
       "...                      ...        ...                             ...   \n",
       "830564  TTTTTGTGTTAGCCTTTGAC       1169                             388   \n",
       "830632  TTTTTGTTAGCGGTGGGGGT       1393                             493   \n",
       "830666  TTTTTGTTCTAGGCACACAC       1173                             416   \n",
       "830698  TTTTTGTTCTAGGCCGAGAC       1155                             314   \n",
       "830736  TTTTTGTTCTAGGCTAGCAT       1059                             393   \n",
       "\n",
       "        fraction_in_promoter  \n",
       "3                   0.390785  \n",
       "125                 0.364056  \n",
       "321                 0.369854  \n",
       "322                 0.342758  \n",
       "395                 0.385872  \n",
       "...                      ...  \n",
       "830564              0.331908  \n",
       "830632              0.353912  \n",
       "830666              0.354646  \n",
       "830698              0.271861  \n",
       "830736              0.371105  \n",
       "\n",
       "[27276 rows x 4 columns]"
      ]
     },
     "execution_count": 15,
     "metadata": {},
     "output_type": "execute_result"
    }
   ],
   "source": [
    "df"
   ]
  },
  {
   "cell_type": "code",
   "execution_count": 16,
   "id": "strong-fraction",
   "metadata": {},
   "outputs": [],
   "source": [
    "df[\"barcode\"].to_csv(\"/SGRNJ06/randd/USER/cjj/celedev/atac/MAESTRO/test/20240118cus/A0824_5_3K_yisheng_wenxian_rapid_T7_6515TESDSTween_TD612_C16/02.atac/validcells.txt\",\n",
    "         header=None, index=None)"
   ]
  },
  {
   "cell_type": "code",
   "execution_count": null,
   "id": "silver-sense",
   "metadata": {},
   "outputs": [],
   "source": []
  }
 ],
 "metadata": {
  "kernelspec": {
   "display_name": "trust4_1.7",
   "language": "python",
   "name": "trust4_1.7"
  },
  "language_info": {
   "codemirror_mode": {
    "name": "ipython",
    "version": 3
   },
   "file_extension": ".py",
   "mimetype": "text/x-python",
   "name": "python",
   "nbconvert_exporter": "python",
   "pygments_lexer": "ipython3",
   "version": "3.7.10"
  }
 },
 "nbformat": 4,
 "nbformat_minor": 5
}
