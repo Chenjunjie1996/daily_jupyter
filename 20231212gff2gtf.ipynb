{
 "cells": [
  {
   "cell_type": "code",
   "execution_count": 4,
   "id": "progressive-rochester",
   "metadata": {},
   "outputs": [],
   "source": [
    "gff = \"/SGRNJ06/randd/USER/cjj/ref/atac_choyanzun/Squaliobarbus_Curriculus.coding.gene.V1.20200416.gff\""
   ]
  },
  {
   "cell_type": "code",
   "execution_count": 5,
   "id": "fatty-siemens",
   "metadata": {},
   "outputs": [
    {
     "name": "stdout",
     "output_type": "stream",
     "text": [
      "['Superscaffold1', 'maker', 'mRNA', '16403', '19826', '.', '+', '.', 'ID=Scu000001;']\n"
     ]
    }
   ],
   "source": [
    "with open(gff) as f:\n",
    "    for line in f:\n",
    "        if line.startswith(\"#\") or line.strip() == \"\":\n",
    "            continue\n",
    "        parts = line.strip().split(\"\\t\")\n",
    "        if len(parts) < 9:\n",
    "            continue  # 确保数据完整\n",
    "        feature_type = parts[2]\n",
    "        print(parts)\n",
    "        break"
   ]
  },
  {
   "cell_type": "code",
   "execution_count": null,
   "id": "adequate-ecuador",
   "metadata": {},
   "outputs": [],
   "source": []
  }
 ],
 "metadata": {
  "kernelspec": {
   "display_name": "trust4_1.7",
   "language": "python",
   "name": "trust4_1.7"
  },
  "language_info": {
   "codemirror_mode": {
    "name": "ipython",
    "version": 3
   },
   "file_extension": ".py",
   "mimetype": "text/x-python",
   "name": "python",
   "nbconvert_exporter": "python",
   "pygments_lexer": "ipython3",
   "version": "3.7.10"
  }
 },
 "nbformat": 4,
 "nbformat_minor": 5
}
