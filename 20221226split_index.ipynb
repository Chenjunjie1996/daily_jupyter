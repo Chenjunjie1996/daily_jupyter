{
 "cells": [
  {
   "cell_type": "code",
   "execution_count": 10,
   "id": "incident-oregon",
   "metadata": {},
   "outputs": [],
   "source": [
    "import pysam\n",
    "from xopen import xopen"
   ]
  },
  {
   "cell_type": "code",
   "execution_count": 32,
   "id": "medical-dating",
   "metadata": {},
   "outputs": [],
   "source": [
    "fq1=\"/SGRNJ06/DATA04/23_02/2023_02_08/RD20073101/H_0201PBMC_Ts16_B3lib/2023-02-08-71/R230203026_R1.fastq.gz\"\n",
    "fq2=\"/SGRNJ06/DATA04/23_02/2023_02_08/RD20073101/H_0201PBMC_Ts16_B3lib/2023-02-08-71/R230203026_R2.fastq.gz\""
   ]
  },
  {
   "cell_type": "code",
   "execution_count": 33,
   "id": "basic-necklace",
   "metadata": {},
   "outputs": [],
   "source": [
    "e_fq1=xopen(\"/SGRNJ06/randd/USER/cjj/celedev/vdj_bulk/20230209bcr/ts16/rawdata/R230203026C_R1.fastq.gz\",'w')\n",
    "e_fq2=xopen(\"/SGRNJ06/randd/USER/cjj/celedev/vdj_bulk/20230209bcr/ts16/rawdata/R230203026C_R2.fastq.gz\",'w')\n",
    "f_fq1=xopen(\"/SGRNJ06/randd/USER/cjj/celedev/vdj_bulk/20230209bcr/ts16/rawdata/R230203026D_R1.fastq.gz\",'w')\n",
    "f_fq2=xopen(\"/SGRNJ06/randd/USER/cjj/celedev/vdj_bulk/20230209bcr/ts16/rawdata/R230203026D_R2.fastq.gz\",'w')\n",
    "#g_fq1=xopen(\"/SGRNJ06/randd/USER/cjj/celedev/vdj_bulk/20230207multi_index/test/R230201001G_R1.fastq.gz\",'w')\n",
    "#g_fq2=xopen(\"/SGRNJ06/randd/USER/cjj/celedev/vdj_bulk/20230207multi_index/test/R230201001G_R2.fastq.gz\",'w')\n",
    "#h_fq1=xopen(\"/SGRNJ06/randd/USER/cjj/celedev/vdj_bulk/20230207multi_index/test/R230201001H_R1.fastq.gz\",'w')\n",
    "#h_fq2=xopen(\"/SGRNJ06/randd/USER/cjj/celedev/vdj_bulk/20230207multi_index/test/R230201001H_R2.fastq.gz\",'w')"
   ]
  },
  {
   "cell_type": "code",
   "execution_count": 34,
   "id": "balanced-immune",
   "metadata": {},
   "outputs": [
    {
     "name": "stderr",
     "output_type": "stream",
     "text": [
      "[W::bgzf_read_block] EOF marker is absent. The input may be truncated\n",
      "[W::bgzf_read_block] EOF marker is absent. The input may be truncated\n"
     ]
    }
   ],
   "source": [
    "with pysam.FastxFile(fq1, persist=False) as fq1, \\\n",
    "        pysam.FastxFile(fq2, persist=False) as fq2:\n",
    "    for entry1, entry2 in zip(fq1, fq2):\n",
    "        header1, seq1, qual1, comment1 = entry1.name, entry1.sequence, entry1.quality, entry1.comment\n",
    "        header2, seq2, qual2, comment2 = entry2.name, entry2.sequence, entry2.quality, entry2.comment\n",
    "        \n",
    "        if seq1[18:24] == \"TCATGA\":\n",
    "            e_fq1.write(f\"@{header1} {comment1}\\n{seq1}\\n+\\n{qual1}\\n\")\n",
    "            e_fq2.write(f\"@{header2} {comment2}\\n{seq2}\\n+\\n{qual2}\\n\")\n",
    "        elif seq1[18:24] == \"AGCTAC\":\n",
    "            f_fq1.write(f\"@{header1} {comment1}\\n{seq1}\\n+\\n{qual1}\\n\")\n",
    "            f_fq2.write(f\"@{header2} {comment2}\\n{seq2}\\n+\\n{qual2}\\n\")\n",
    "#         elif seq1[18:24] == \"CTGAGC\":\n",
    "#             g_fq1.write(f\"@{header1} {comment1}\\n{seq1}\\n+\\n{qual1}\\n\")\n",
    "#             g_fq2.write(f\"@{header2} {comment2}\\n{seq2}\\n+\\n{qual2}\\n\")\n",
    "#         elif seq1[18:24] == \"AGTCTG\":\n",
    "#             h_fq1.write(f\"@{header1} {comment1}\\n{seq1}\\n+\\n{qual1}\\n\")\n",
    "#             h_fq2.write(f\"@{header2} {comment2}\\n{seq2}\\n+\\n{qual2}\\n\")\n",
    "        "
   ]
  },
  {
   "cell_type": "code",
   "execution_count": 35,
   "id": "automated-guatemala",
   "metadata": {},
   "outputs": [],
   "source": [
    "e_fq1.close()\n",
    "e_fq2.close()\n",
    "f_fq1.close()\n",
    "f_fq2.close()\n",
    "# g_fq1.close()\n",
    "# g_fq2.close()\n",
    "# h_fq1.close()\n",
    "# h_fq2.close()"
   ]
  },
  {
   "cell_type": "code",
   "execution_count": 9,
   "id": "hairy-scanner",
   "metadata": {},
   "outputs": [],
   "source": []
  },
  {
   "cell_type": "code",
   "execution_count": 7,
   "id": "handmade-angola",
   "metadata": {},
   "outputs": [],
   "source": []
  },
  {
   "cell_type": "code",
   "execution_count": null,
   "id": "opponent-myrtle",
   "metadata": {},
   "outputs": [],
   "source": []
  },
  {
   "cell_type": "code",
   "execution_count": null,
   "id": "turkish-damages",
   "metadata": {},
   "outputs": [],
   "source": []
  }
 ],
 "metadata": {
  "kernelspec": {
   "display_name": "cele1.11",
   "language": "python",
   "name": "refactor_trust"
  },
  "language_info": {
   "codemirror_mode": {
    "name": "ipython",
    "version": 3
   },
   "file_extension": ".py",
   "mimetype": "text/x-python",
   "name": "python",
   "nbconvert_exporter": "python",
   "pygments_lexer": "ipython3",
   "version": "3.9.0"
  }
 },
 "nbformat": 4,
 "nbformat_minor": 5
}
