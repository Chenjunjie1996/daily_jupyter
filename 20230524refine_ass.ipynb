{
 "cells": [
  {
   "cell_type": "code",
   "execution_count": 1,
   "id": "given-meditation",
   "metadata": {},
   "outputs": [],
   "source": [
    "import pysam"
   ]
  },
  {
   "cell_type": "code",
   "execution_count": 10,
   "id": "younger-driver",
   "metadata": {},
   "outputs": [],
   "source": [
    "res = set()\n",
    "count =  0\n",
    "with pysam.AlignmentFile(\"/SGRNJ06/randd/USER/cjj/TESTDATA/git/celescope_test_script/flv_CR/test1/03.assemble/test1/outs/all_contig.bam\") as f:\n",
    "    for read in f:\n",
    "        if read.reference_name in {'AAACCTGAGAAGAAGC-1_contig_2'}:\n",
    "            count += 1\n",
    "            #print(read)\n",
    "        #res.add(read.reference_name)"
   ]
  },
  {
   "cell_type": "code",
   "execution_count": 6,
   "id": "rocky-madrid",
   "metadata": {},
   "outputs": [
    {
     "data": {
      "text/plain": [
       "126"
      ]
     },
     "execution_count": 6,
     "metadata": {},
     "output_type": "execute_result"
    }
   ],
   "source": [
    "len(res)"
   ]
  },
  {
   "cell_type": "code",
   "execution_count": 11,
   "id": "postal-catholic",
   "metadata": {},
   "outputs": [],
   "source": [
    "count"
   ]
  },
  {
   "cell_type": "code",
   "execution_count": 23,
   "id": "comprehensive-terrain",
   "metadata": {},
   "outputs": [],
   "source": [
    "bc_set = set()\n",
    "with pysam.AlignmentFile(\"/SGRNJ06/randd/USER/cjj/TESTDATA/git/celescope_test_script/flv_CR/test1/03.assemble/test1/outs/all_contig.bam\") as f:\n",
    "    for read in f:\n",
    "        if read.reference_name == None:\n",
    "            bc_set.add(read.get_tag(\"CB\"))"
   ]
  },
  {
   "cell_type": "code",
   "execution_count": 24,
   "id": "forced-lebanon",
   "metadata": {},
   "outputs": [
    {
     "data": {
      "text/plain": [
       "{'AAACCTGAGAAACCAT-1',\n",
       " 'AAACCTGAGAAACCGC-1',\n",
       " 'AAACCTGAGAAACCTA-1',\n",
       " 'AAACCTGAGAAACGAG-1',\n",
       " 'AAACCTGAGAAACGCC-1',\n",
       " 'AAACCTGAGAAAGTGG-1',\n",
       " 'AAACCTGAGAACAACT-1',\n",
       " 'AAACCTGAGAACAATC-1',\n",
       " 'AAACCTGAGAACTCGG-1',\n",
       " 'AAACCTGAGAACTGTA-1',\n",
       " 'AAACCTGAGAAGAAGC-1',\n",
       " 'AAACCTGAGAAGATTC-1',\n",
       " 'AAACCTGAGAAGCCCA-1',\n",
       " 'AAACCTGAGAAGGACA-1',\n",
       " 'AAACCTGAGAAGGCCT-1',\n",
       " 'AAACCTGAGAAGGGTA-1',\n",
       " 'AAACCTGAGAAGGTGA-1',\n",
       " 'AAACCTGAGAAGGTTT-1',\n",
       " 'AAACCTGAGAATAGGG-1',\n",
       " 'AAACCTGAGAATCTCC-1',\n",
       " 'AAACCTGAGAATGTGT-1',\n",
       " 'AAACCTGAGAATGTTG-1',\n",
       " 'AAACCTGAGAATTCCC-1',\n",
       " 'AAACCTGAGAATTGTG-1',\n",
       " 'AAACCTGAGACAAAGG-1',\n",
       " 'AAACCTGAGACAAGCC-1',\n",
       " 'AAACCTGAGACAATAC-1',\n",
       " 'AAACCTGAGACACGAC-1',\n",
       " 'AAACCTGAGACACTAA-1',\n",
       " 'AAACCTGAGACAGACC-1'}"
      ]
     },
     "execution_count": 24,
     "metadata": {},
     "output_type": "execute_result"
    }
   ],
   "source": [
    "bc_set"
   ]
  },
  {
   "cell_type": "code",
   "execution_count": 25,
   "id": "electric-robert",
   "metadata": {},
   "outputs": [
    {
     "data": {
      "text/plain": [
       "30"
      ]
     },
     "execution_count": 25,
     "metadata": {},
     "output_type": "execute_result"
    }
   ],
   "source": [
    "len(bc_set)"
   ]
  },
  {
   "cell_type": "code",
   "execution_count": 12,
   "id": "engaging-municipality",
   "metadata": {},
   "outputs": [],
   "source": [
    "# 证明all_contig.bam 包含所有reads信息\n",
    "res = set()\n",
    "with pysam.AlignmentFile(\"/SGRNJ06/randd/USER/cjj/celedev/vdj10x/20230523bjnao/TBM5087-T/03.assemble/TBM5087-T/outs/all_contig.bam\") as f:\n",
    "    for read in f:\n",
    "        res.add(read.query_name)"
   ]
  },
  {
   "cell_type": "code",
   "execution_count": 13,
   "id": "separate-relevance",
   "metadata": {},
   "outputs": [
    {
     "data": {
      "text/plain": [
       "67822947"
      ]
     },
     "execution_count": 13,
     "metadata": {},
     "output_type": "execute_result"
    }
   ],
   "source": [
    "len(res)"
   ]
  },
  {
   "cell_type": "code",
   "execution_count": 14,
   "id": "further-least",
   "metadata": {},
   "outputs": [],
   "source": [
    "count = 0\n",
    "with pysam.AlignmentFile(\"/SGRNJ06/randd/USER/cjj/celedev/vdj10x/20230523bjnao/TBM5087-T/03.assemble/TBM5087-T/outs/all_contig.bam\") as f:\n",
    "    for read in f:\n",
    "        if read.reference_name == None:\n",
    "            count += 1"
   ]
  },
  {
   "cell_type": "code",
   "execution_count": 15,
   "id": "cleared-unemployment",
   "metadata": {},
   "outputs": [
    {
     "data": {
      "text/plain": [
       "23442250"
      ]
     },
     "execution_count": 15,
     "metadata": {},
     "output_type": "execute_result"
    }
   ],
   "source": [
    "count"
   ]
  },
  {
   "cell_type": "code",
   "execution_count": null,
   "id": "spread-couple",
   "metadata": {},
   "outputs": [],
   "source": []
  },
  {
   "cell_type": "code",
   "execution_count": null,
   "id": "damaged-brooklyn",
   "metadata": {},
   "outputs": [],
   "source": []
  },
  {
   "cell_type": "code",
   "execution_count": 26,
   "id": "fiscal-software",
   "metadata": {},
   "outputs": [],
   "source": [
    "def simpson_di(data):\n",
    "\n",
    "    \"\"\" Given a hash { 'species': count } , returns the Simpson Diversity Index\n",
    "    \n",
    "    >>> simpson_di({'a': 10, 'b': 20, 'c': 30,})\n",
    "    0.3888888888888889\n",
    "    \"\"\"\n",
    "\n",
    "    def p(n, N):\n",
    "        \"\"\" Relative abundance \"\"\"\n",
    "        if n is  0:\n",
    "            return 0\n",
    "        else:\n",
    "            return float(n)/N\n",
    "\n",
    "    N = sum(data.values())\n",
    "    \n",
    "    return sum(p(n, N)**2 for n in data.values() if n is not 0)"
   ]
  },
  {
   "cell_type": "code",
   "execution_count": 27,
   "id": "selective-joshua",
   "metadata": {},
   "outputs": [],
   "source": [
    "def inverse_simpson_di(data):\n",
    "    \"\"\" Given a hash { 'species': count } , returns the inverse Simpson Diversity Index\n",
    "    \n",
    "    >>> inverse_simpson_di({'a': 10, 'b': 20, 'c': 30,})\n",
    "    2.571428571428571\n",
    "    \"\"\"\n",
    "    return float(1)/simpson_di(data)"
   ]
  },
  {
   "cell_type": "code",
   "execution_count": 48,
   "id": "developmental-ukraine",
   "metadata": {},
   "outputs": [],
   "source": [
    "dic = dict(zip(list(range(1,16)), [1]*15))"
   ]
  },
  {
   "cell_type": "code",
   "execution_count": 52,
   "id": "underlying-morocco",
   "metadata": {},
   "outputs": [],
   "source": [
    "dic[1] = 2\n",
    "dic[2] = 2"
   ]
  },
  {
   "cell_type": "code",
   "execution_count": 53,
   "id": "fifth-wildlife",
   "metadata": {},
   "outputs": [
    {
     "data": {
      "text/plain": [
       "{1: 2,\n",
       " 2: 2,\n",
       " 3: 1,\n",
       " 4: 1,\n",
       " 5: 1,\n",
       " 6: 1,\n",
       " 7: 1,\n",
       " 8: 1,\n",
       " 9: 1,\n",
       " 10: 1,\n",
       " 11: 1,\n",
       " 12: 1,\n",
       " 13: 1,\n",
       " 14: 1,\n",
       " 15: 1}"
      ]
     },
     "execution_count": 53,
     "metadata": {},
     "output_type": "execute_result"
    }
   ],
   "source": [
    "dic"
   ]
  },
  {
   "cell_type": "code",
   "execution_count": 54,
   "id": "guided-parcel",
   "metadata": {},
   "outputs": [
    {
     "data": {
      "text/plain": [
       "13.761904761904766"
      ]
     },
     "execution_count": 54,
     "metadata": {},
     "output_type": "execute_result"
    }
   ],
   "source": [
    "inverse_simpson_di(dic)"
   ]
  },
  {
   "cell_type": "code",
   "execution_count": null,
   "id": "upset-essex",
   "metadata": {},
   "outputs": [],
   "source": []
  }
 ],
 "metadata": {
  "kernelspec": {
   "display_name": "trust4_1.7",
   "language": "python",
   "name": "trust4_1.7"
  },
  "language_info": {
   "codemirror_mode": {
    "name": "ipython",
    "version": 3
   },
   "file_extension": ".py",
   "mimetype": "text/x-python",
   "name": "python",
   "nbconvert_exporter": "python",
   "pygments_lexer": "ipython3",
   "version": "3.7.10"
  }
 },
 "nbformat": 4,
 "nbformat_minor": 5
}
