{
 "cells": [
  {
   "cell_type": "code",
   "execution_count": null,
   "id": "brief-sequence",
   "metadata": {},
   "outputs": [],
   "source": [
    "import pandas as pd\n",
    "from pandas import Series\n",
    "import glob\n",
    "import plotly\n",
    "import plotly.express as px  # import plotly.express as px\n",
    "import plotly.graph_objects as go\n",
    "import seaborn as sns\n",
    "import matplotlib.pyplot as plt\n",
    "\n",
    "import plotly.io as pio\n",
    "#pio.templates.default = 'plotly_white'"
   ]
  },
  {
   "cell_type": "code",
   "execution_count": null,
   "id": "higher-porter",
   "metadata": {},
   "outputs": [],
   "source": [
    "# human tcr\n",
    "df = pd.read_csv(\"/SGRNJ06/randd/USER/cjj/celedev/vdj_bulk/20240206plot/humpbmc.csv\")\n",
    "df = df.dropna(axis=0)\n",
    "df"
   ]
  },
  {
   "cell_type": "code",
   "execution_count": null,
   "id": "crude-carbon",
   "metadata": {},
   "outputs": [],
   "source": [
    "def calc_corr(a,b):\n",
    "    s1 = Series(a)\n",
    "    s2 = Series(b)\n",
    "    return round(s1.corr(s2), 3)"
   ]
  },
  {
   "cell_type": "code",
   "execution_count": null,
   "id": "undefined-pottery",
   "metadata": {},
   "outputs": [],
   "source": [
    "df[\"Raw_Reads\"] = df[\"Raw_Reads\"].str.replace(',','').astype(int)\n",
    "df[\"UMI_Counts\"] = df[\"UMI_Counts\"].str.replace(',','').astype(int)\n",
    "df[\"Clonotype_Diversity\"] = df[\"Clonotype_Diversity\"].astype(str).str.replace(',','').astype(float)\n",
    "df[\"UMIs_Mapped_Confidently_To_VJ_Gene\"] = df[\"UMIs_Mapped_Confidently_To_VJ_Gene\"].apply(lambda x: x.split('(')[-1]).str.replace(')','').str.replace(\"%\",'').astype(float)\n",
    "df[\"UMIs_Mapped_To_TRA\"] = df[\"UMIs_Mapped_To_TRA\"].apply(lambda x: x.split('(')[-1]).str.replace(')','').str.replace(\"%\",'').astype(float)\n",
    "df[\"UMIs_Mapped_To_TRB\"] = df[\"UMIs_Mapped_To_TRB\"].apply(lambda x: x.split('(')[-1]).str.replace(')','').str.replace(\"%\",'').astype(float)\n",
    "df[\"species\"] = \"TCR\"\n",
    "df[\"index\"] = df.index\n",
    "sample = \"Hum_PBMC\"\n",
    "OUT_PATH = \"/SGRNJ06/randd/USER/cjj/celedev/vdj_bulk/20240206plot/\""
   ]
  },
  {
   "cell_type": "code",
   "execution_count": null,
   "id": "sapphire-worth",
   "metadata": {},
   "outputs": [],
   "source": [
    "df"
   ]
  },
  {
   "cell_type": "code",
   "execution_count": null,
   "id": "owned-buddy",
   "metadata": {},
   "outputs": [],
   "source": [
    "fig = px.scatter(\n",
    "    df, # scatter绘制散点图\n",
    "    x='Raw_Reads',    #  x轴\n",
    "    y='UMI_Counts',  # y轴\n",
    "    color = 'Sample',\n",
    "    labels = calc_corr(df[\"Raw_Reads\"], df[\"UMI_Counts\"]),\n",
    "    width=1680, height=1024,\n",
    ")\n",
    "fig.update_traces(marker_size=40)\n",
    "fig.update_layout(title={\"text\":f'{sample} (Correlation={calc_corr(df[\"Raw_Reads\"], df[\"UMI_Counts\"])})',\n",
    "                         'y':0.98, 'x':0.5, 'xanchor': 'center', 'yanchor': 'top'},\n",
    "                  xaxis_title = \"Mean Raw_Reads\", yaxis_title = \"Mean UMI_Counts\", font=dict(size=18,color=\"Black\"))\n",
    "\n",
    "#fig.write_image(f\"{OUT_PATH}/scatter.png\", scale=4)\n",
    "fig.show()"
   ]
  },
  {
   "cell_type": "code",
   "execution_count": null,
   "id": "earned-freeze",
   "metadata": {},
   "outputs": [],
   "source": [
    "fig = go.Figure()\n",
    "fig.add_trace(go.Box(y=list(df.UMIs_Mapped_To_TRA),name=\"UMIs_Mapped_To_TRA\"))\n",
    "fig.add_trace(go.Box(y=list(df.UMIs_Mapped_To_TRB),name=\"UMIs_Mapped_To_TRB\"))\n",
    "fig.add_trace(go.Box(y=list(df.UMIs_Mapped_Confidently_To_VJ_Gene),name=\"UMIs_Mapped_Confidently_To_VJ_Gene\"))\n",
    "fig.update_layout(title={\"text\":f'{sample}',\n",
    "                         'y':0.98, 'x':0.40, 'xanchor': 'center', 'yanchor': 'top'},\n",
    "                          yaxis_title = \"Mapping Percent(%)\", font=dict(size=18,color=\"Black\"))\n",
    "\n",
    "fig.write_image(f\"{OUT_PATH}/boxplot.png\", scale=4, width=1680, height=1024)\n",
    "#fig.show()"
   ]
  },
  {
   "cell_type": "code",
   "execution_count": null,
   "id": "impossible-planet",
   "metadata": {},
   "outputs": [],
   "source": [
    "fig = px.scatter(\n",
    "    df, # scatter绘制散点图\n",
    "    x='Raw_Reads',    #  x轴\n",
    "    y='Clonotype_Diversity',  # y轴\n",
    "    #color = 'Clonotype_Diversity',\n",
    "    labels = calc_corr(df[\"Raw_Reads\"], df[\"Clonotype_Diversity\"]),\n",
    "    width=1680, height=1024,\n",
    "    color = 'Sample',\n",
    ")\n",
    "fig.update_traces(marker_size=40)\n",
    "fig.update_layout(title={\"text\":f'{sample} Diversity (Correlation={calc_corr(df[\"Raw_Reads\"], df[\"Clonotype_Diversity\"])})',\n",
    "                         'y':0.98, 'x':0.5, 'xanchor': 'center', 'yanchor': 'top'},\n",
    "                  xaxis_title = \"Mean Raw_Reads\", yaxis_title = \"Mean Clonotype_Diversity\", font=dict(size=18,color=\"Black\"))\n",
    "\n",
    "#fig.write_image(f\"{OUT_PATH}/diversity_read_scatter.png\", scale=4)\n",
    "fig.show()"
   ]
  },
  {
   "cell_type": "code",
   "execution_count": null,
   "id": "opening-analysis",
   "metadata": {},
   "outputs": [],
   "source": [
    "fig = px.scatter(\n",
    "    df, # scatter绘制散点图\n",
    "    x='UMI_Counts',    #  x轴\n",
    "    y='Clonotype_Diversity',  # y轴\n",
    "    color = 'Sample',\n",
    "    labels = calc_corr(df[\"UMI_Counts\"], df[\"Clonotype_Diversity\"]),\n",
    "    width=1680, height=1024\n",
    ")\n",
    "fig.update_traces(marker_size=40)\n",
    "fig.update_layout(title={\"text\":f'{sample} Diversity (Correlation={calc_corr(df[\"UMI_Counts\"], df[\"Clonotype_Diversity\"])})',\n",
    "                         'y':0.98, 'x':0.5, 'xanchor': 'center', 'yanchor': 'top'},\n",
    "                  xaxis_title = \"Mean UMI_Counts\", yaxis_title = \"Mean Clonotype_Diversity\", font=dict(size=18,color=\"Black\"))\n",
    "\n",
    "fig.write_image(f\"{OUT_PATH}/diversity_umi_scatter.png\", scale=4)\n",
    "#fig.show()"
   ]
  },
  {
   "cell_type": "code",
   "execution_count": null,
   "id": "veterinary-powell",
   "metadata": {},
   "outputs": [],
   "source": [
    "fig = px.bar(df, x=\"Sample\", y=\"Clonotype_Diversity\", color=\"Sample\")\n",
    "fig.update_layout(title={\"text\":f'{sample}',\n",
    "                         'y':0.98, 'x':0.45, 'xanchor': 'center', 'yanchor': 'top'},\n",
    "                          yaxis_title = \"Mean Clonotype_Diversity\", font=dict(size=18,color=\"Black\"))\n",
    "fig.write_image(f\"{OUT_PATH}/Diversity_barplot.png\", scale=4, width=1680, height=1024)\n",
    "#fig.show()"
   ]
  },
  {
   "cell_type": "code",
   "execution_count": null,
   "id": "distributed-general",
   "metadata": {},
   "outputs": [],
   "source": []
  },
  {
   "cell_type": "code",
   "execution_count": null,
   "id": "wound-removal",
   "metadata": {},
   "outputs": [],
   "source": []
  },
  {
   "cell_type": "code",
   "execution_count": null,
   "id": "concerned-miller",
   "metadata": {},
   "outputs": [],
   "source": [
    "# 96孔"
   ]
  },
  {
   "cell_type": "code",
   "execution_count": 22,
   "id": "english-mouse",
   "metadata": {},
   "outputs": [
    {
     "data": {
      "text/html": [
       "<div>\n",
       "<style scoped>\n",
       "    .dataframe tbody tr th:only-of-type {\n",
       "        vertical-align: middle;\n",
       "    }\n",
       "\n",
       "    .dataframe tbody tr th {\n",
       "        vertical-align: top;\n",
       "    }\n",
       "\n",
       "    .dataframe thead th {\n",
       "        text-align: right;\n",
       "    }\n",
       "</style>\n",
       "<table border=\"1\" class=\"dataframe\">\n",
       "  <thead>\n",
       "    <tr style=\"text-align: right;\">\n",
       "      <th></th>\n",
       "      <th>Read_Counts</th>\n",
       "      <th>UMI_Counts</th>\n",
       "      <th>Gene_Counts</th>\n",
       "      <th>Sample</th>\n",
       "    </tr>\n",
       "  </thead>\n",
       "  <tbody>\n",
       "    <tr>\n",
       "      <th>0</th>\n",
       "      <td>396,583</td>\n",
       "      <td>287,807</td>\n",
       "      <td>17,692</td>\n",
       "      <td>TAGCTG</td>\n",
       "    </tr>\n",
       "    <tr>\n",
       "      <th>1</th>\n",
       "      <td>391,023</td>\n",
       "      <td>284,696</td>\n",
       "      <td>18,104</td>\n",
       "      <td>GTTGAG</td>\n",
       "    </tr>\n",
       "    <tr>\n",
       "      <th>2</th>\n",
       "      <td>342,484</td>\n",
       "      <td>248,847</td>\n",
       "      <td>17,309</td>\n",
       "      <td>AAGGCA</td>\n",
       "    </tr>\n",
       "    <tr>\n",
       "      <th>3</th>\n",
       "      <td>313,123</td>\n",
       "      <td>228,696</td>\n",
       "      <td>17,113</td>\n",
       "      <td>TGGCAG</td>\n",
       "    </tr>\n",
       "    <tr>\n",
       "      <th>4</th>\n",
       "      <td>310,003</td>\n",
       "      <td>227,442</td>\n",
       "      <td>16,317</td>\n",
       "      <td>TCGCCA</td>\n",
       "    </tr>\n",
       "    <tr>\n",
       "      <th>...</th>\n",
       "      <td>...</td>\n",
       "      <td>...</td>\n",
       "      <td>...</td>\n",
       "      <td>...</td>\n",
       "    </tr>\n",
       "    <tr>\n",
       "      <th>91</th>\n",
       "      <td>109,136</td>\n",
       "      <td>79,323</td>\n",
       "      <td>11,809</td>\n",
       "      <td>CGTAAT</td>\n",
       "    </tr>\n",
       "    <tr>\n",
       "      <th>92</th>\n",
       "      <td>104,538</td>\n",
       "      <td>75,866</td>\n",
       "      <td>11,443</td>\n",
       "      <td>TTCTGA</td>\n",
       "    </tr>\n",
       "    <tr>\n",
       "      <th>93</th>\n",
       "      <td>62,547</td>\n",
       "      <td>59,967</td>\n",
       "      <td>9,852</td>\n",
       "      <td>CGCTTA</td>\n",
       "    </tr>\n",
       "    <tr>\n",
       "      <th>94</th>\n",
       "      <td>66,560</td>\n",
       "      <td>48,872</td>\n",
       "      <td>9,703</td>\n",
       "      <td>CCAATG</td>\n",
       "    </tr>\n",
       "    <tr>\n",
       "      <th>95</th>\n",
       "      <td>58,952</td>\n",
       "      <td>42,955</td>\n",
       "      <td>8,572</td>\n",
       "      <td>CGACTC</td>\n",
       "    </tr>\n",
       "  </tbody>\n",
       "</table>\n",
       "<p>96 rows × 4 columns</p>\n",
       "</div>"
      ],
      "text/plain": [
       "   Read_Counts UMI_Counts Gene_Counts  Sample\n",
       "0      396,583    287,807      17,692  TAGCTG\n",
       "1      391,023    284,696      18,104  GTTGAG\n",
       "2      342,484    248,847      17,309  AAGGCA\n",
       "3      313,123    228,696      17,113  TGGCAG\n",
       "4      310,003    227,442      16,317  TCGCCA\n",
       "..         ...        ...         ...     ...\n",
       "91     109,136     79,323      11,809  CGTAAT\n",
       "92     104,538     75,866      11,443  TTCTGA\n",
       "93      62,547     59,967       9,852  CGCTTA\n",
       "94      66,560     48,872       9,703  CCAATG\n",
       "95      58,952     42,955       8,572  CGACTC\n",
       "\n",
       "[96 rows x 4 columns]"
      ]
     },
     "execution_count": 22,
     "metadata": {},
     "output_type": "execute_result"
    }
   ],
   "source": [
    "# RNASeq\n",
    "df = pd.read_csv(\"/SGRNJ06/randd/USER/cjj/celedev/vdj_bulk/20240311plot/humpbmc1.csv\")\n",
    "df = df.dropna(axis=1)\n",
    "df"
   ]
  },
  {
   "cell_type": "code",
   "execution_count": 23,
   "id": "lyric-stylus",
   "metadata": {},
   "outputs": [],
   "source": [
    "df[\"Read_Counts\"] = df[\"Read_Counts\"].str.replace(',','').astype(int)\n",
    "df[\"UMI_Counts\"] = df[\"UMI_Counts\"].str.replace(',','').astype(int)\n",
    "df[\"Gene_Counts\"] = df[\"Gene_Counts\"].astype(str).str.replace(',','').astype(int)\n",
    "df[\"index\"] = df.index\n",
    "sample = \"Hum_PBMC\"\n",
    "OUT_PATH = \"/SGRNJ06/randd/USER/cjj/celedev/vdj_bulk/20240311plot/\""
   ]
  },
  {
   "cell_type": "code",
   "execution_count": 24,
   "id": "acquired-saturn",
   "metadata": {},
   "outputs": [
    {
     "data": {
      "text/html": [
       "<div>\n",
       "<style scoped>\n",
       "    .dataframe tbody tr th:only-of-type {\n",
       "        vertical-align: middle;\n",
       "    }\n",
       "\n",
       "    .dataframe tbody tr th {\n",
       "        vertical-align: top;\n",
       "    }\n",
       "\n",
       "    .dataframe thead th {\n",
       "        text-align: right;\n",
       "    }\n",
       "</style>\n",
       "<table border=\"1\" class=\"dataframe\">\n",
       "  <thead>\n",
       "    <tr style=\"text-align: right;\">\n",
       "      <th></th>\n",
       "      <th>Read_Counts</th>\n",
       "      <th>UMI_Counts</th>\n",
       "      <th>Gene_Counts</th>\n",
       "      <th>Sample</th>\n",
       "      <th>index</th>\n",
       "    </tr>\n",
       "  </thead>\n",
       "  <tbody>\n",
       "    <tr>\n",
       "      <th>0</th>\n",
       "      <td>396583</td>\n",
       "      <td>287807</td>\n",
       "      <td>17692</td>\n",
       "      <td>TAGCTG</td>\n",
       "      <td>0</td>\n",
       "    </tr>\n",
       "    <tr>\n",
       "      <th>1</th>\n",
       "      <td>391023</td>\n",
       "      <td>284696</td>\n",
       "      <td>18104</td>\n",
       "      <td>GTTGAG</td>\n",
       "      <td>1</td>\n",
       "    </tr>\n",
       "    <tr>\n",
       "      <th>2</th>\n",
       "      <td>342484</td>\n",
       "      <td>248847</td>\n",
       "      <td>17309</td>\n",
       "      <td>AAGGCA</td>\n",
       "      <td>2</td>\n",
       "    </tr>\n",
       "    <tr>\n",
       "      <th>3</th>\n",
       "      <td>313123</td>\n",
       "      <td>228696</td>\n",
       "      <td>17113</td>\n",
       "      <td>TGGCAG</td>\n",
       "      <td>3</td>\n",
       "    </tr>\n",
       "    <tr>\n",
       "      <th>4</th>\n",
       "      <td>310003</td>\n",
       "      <td>227442</td>\n",
       "      <td>16317</td>\n",
       "      <td>TCGCCA</td>\n",
       "      <td>4</td>\n",
       "    </tr>\n",
       "    <tr>\n",
       "      <th>...</th>\n",
       "      <td>...</td>\n",
       "      <td>...</td>\n",
       "      <td>...</td>\n",
       "      <td>...</td>\n",
       "      <td>...</td>\n",
       "    </tr>\n",
       "    <tr>\n",
       "      <th>91</th>\n",
       "      <td>109136</td>\n",
       "      <td>79323</td>\n",
       "      <td>11809</td>\n",
       "      <td>CGTAAT</td>\n",
       "      <td>91</td>\n",
       "    </tr>\n",
       "    <tr>\n",
       "      <th>92</th>\n",
       "      <td>104538</td>\n",
       "      <td>75866</td>\n",
       "      <td>11443</td>\n",
       "      <td>TTCTGA</td>\n",
       "      <td>92</td>\n",
       "    </tr>\n",
       "    <tr>\n",
       "      <th>93</th>\n",
       "      <td>62547</td>\n",
       "      <td>59967</td>\n",
       "      <td>9852</td>\n",
       "      <td>CGCTTA</td>\n",
       "      <td>93</td>\n",
       "    </tr>\n",
       "    <tr>\n",
       "      <th>94</th>\n",
       "      <td>66560</td>\n",
       "      <td>48872</td>\n",
       "      <td>9703</td>\n",
       "      <td>CCAATG</td>\n",
       "      <td>94</td>\n",
       "    </tr>\n",
       "    <tr>\n",
       "      <th>95</th>\n",
       "      <td>58952</td>\n",
       "      <td>42955</td>\n",
       "      <td>8572</td>\n",
       "      <td>CGACTC</td>\n",
       "      <td>95</td>\n",
       "    </tr>\n",
       "  </tbody>\n",
       "</table>\n",
       "<p>96 rows × 5 columns</p>\n",
       "</div>"
      ],
      "text/plain": [
       "    Read_Counts  UMI_Counts  Gene_Counts  Sample  index\n",
       "0        396583      287807        17692  TAGCTG      0\n",
       "1        391023      284696        18104  GTTGAG      1\n",
       "2        342484      248847        17309  AAGGCA      2\n",
       "3        313123      228696        17113  TGGCAG      3\n",
       "4        310003      227442        16317  TCGCCA      4\n",
       "..          ...         ...          ...     ...    ...\n",
       "91       109136       79323        11809  CGTAAT     91\n",
       "92       104538       75866        11443  TTCTGA     92\n",
       "93        62547       59967         9852  CGCTTA     93\n",
       "94        66560       48872         9703  CCAATG     94\n",
       "95        58952       42955         8572  CGACTC     95\n",
       "\n",
       "[96 rows x 5 columns]"
      ]
     },
     "execution_count": 24,
     "metadata": {},
     "output_type": "execute_result"
    }
   ],
   "source": [
    "df"
   ]
  },
  {
   "cell_type": "code",
   "execution_count": 27,
   "id": "illegal-julian",
   "metadata": {},
   "outputs": [
    {
     "data": {
      "application/vnd.plotly.v1+json": {
       "config": {
        "plotlyServerURL": "https://plot.ly"
       },
       "data": [
        {
         "hovertemplate": "Sample=TAGCTG<br>Read_Counts=%{x}<br>UMI_Counts=%{y}<extra></extra>",
         "legendgroup": "TAGCTG",
         "marker": {
          "color": "#636efa",
          "size": 14,
          "symbol": "circle"
         },
         "mode": "markers",
         "name": "TAGCTG",
         "orientation": "v",
         "showlegend": true,
         "type": "scatter",
         "x": [
          396583
         ],
         "xaxis": "x",
         "y": [
          287807
         ],
         "yaxis": "y"
        },
        {
         "hovertemplate": "Sample=GTTGAG<br>Read_Counts=%{x}<br>UMI_Counts=%{y}<extra></extra>",
         "legendgroup": "GTTGAG",
         "marker": {
          "color": "#EF553B",
          "size": 14,
          "symbol": "circle"
         },
         "mode": "markers",
         "name": "GTTGAG",
         "orientation": "v",
         "showlegend": true,
         "type": "scatter",
         "x": [
          391023
         ],
         "xaxis": "x",
         "y": [
          284696
         ],
         "yaxis": "y"
        },
        {
         "hovertemplate": "Sample=AAGGCA<br>Read_Counts=%{x}<br>UMI_Counts=%{y}<extra></extra>",
         "legendgroup": "AAGGCA",
         "marker": {
          "color": "#00cc96",
          "size": 14,
          "symbol": "circle"
         },
         "mode": "markers",
         "name": "AAGGCA",
         "orientation": "v",
         "showlegend": true,
         "type": "scatter",
         "x": [
          342484
         ],
         "xaxis": "x",
         "y": [
          248847
         ],
         "yaxis": "y"
        },
        {
         "hovertemplate": "Sample=TGGCAG<br>Read_Counts=%{x}<br>UMI_Counts=%{y}<extra></extra>",
         "legendgroup": "TGGCAG",
         "marker": {
          "color": "#ab63fa",
          "size": 14,
          "symbol": "circle"
         },
         "mode": "markers",
         "name": "TGGCAG",
         "orientation": "v",
         "showlegend": true,
         "type": "scatter",
         "x": [
          313123
         ],
         "xaxis": "x",
         "y": [
          228696
         ],
         "yaxis": "y"
        },
        {
         "hovertemplate": "Sample=TCGCCA<br>Read_Counts=%{x}<br>UMI_Counts=%{y}<extra></extra>",
         "legendgroup": "TCGCCA",
         "marker": {
          "color": "#FFA15A",
          "size": 14,
          "symbol": "circle"
         },
         "mode": "markers",
         "name": "TCGCCA",
         "orientation": "v",
         "showlegend": true,
         "type": "scatter",
         "x": [
          310003
         ],
         "xaxis": "x",
         "y": [
          227442
         ],
         "yaxis": "y"
        },
        {
         "hovertemplate": "Sample=ATAGGT<br>Read_Counts=%{x}<br>UMI_Counts=%{y}<extra></extra>",
         "legendgroup": "ATAGGT",
         "marker": {
          "color": "#19d3f3",
          "size": 14,
          "symbol": "circle"
         },
         "mode": "markers",
         "name": "ATAGGT",
         "orientation": "v",
         "showlegend": true,
         "type": "scatter",
         "x": [
          307139
         ],
         "xaxis": "x",
         "y": [
          223363
         ],
         "yaxis": "y"
        },
        {
         "hovertemplate": "Sample=GAACCA<br>Read_Counts=%{x}<br>UMI_Counts=%{y}<extra></extra>",
         "legendgroup": "GAACCA",
         "marker": {
          "color": "#FF6692",
          "size": 14,
          "symbol": "circle"
         },
         "mode": "markers",
         "name": "GAACCA",
         "orientation": "v",
         "showlegend": true,
         "type": "scatter",
         "x": [
          303968
         ],
         "xaxis": "x",
         "y": [
          222342
         ],
         "yaxis": "y"
        },
        {
         "hovertemplate": "Sample=TGCGAA<br>Read_Counts=%{x}<br>UMI_Counts=%{y}<extra></extra>",
         "legendgroup": "TGCGAA",
         "marker": {
          "color": "#B6E880",
          "size": 14,
          "symbol": "circle"
         },
         "mode": "markers",
         "name": "TGCGAA",
         "orientation": "v",
         "showlegend": true,
         "type": "scatter",
         "x": [
          299005
         ],
         "xaxis": "x",
         "y": [
          218800
         ],
         "yaxis": "y"
        },
        {
         "hovertemplate": "Sample=ATGGTG<br>Read_Counts=%{x}<br>UMI_Counts=%{y}<extra></extra>",
         "legendgroup": "ATGGTG",
         "marker": {
          "color": "#FF97FF",
          "size": 14,
          "symbol": "circle"
         },
         "mode": "markers",
         "name": "ATGGTG",
         "orientation": "v",
         "showlegend": true,
         "type": "scatter",
         "x": [
          299370
         ],
         "xaxis": "x",
         "y": [
          217292
         ],
         "yaxis": "y"
        },
        {
         "hovertemplate": "Sample=GTCGGA<br>Read_Counts=%{x}<br>UMI_Counts=%{y}<extra></extra>",
         "legendgroup": "GTCGGA",
         "marker": {
          "color": "#FECB52",
          "size": 14,
          "symbol": "circle"
         },
         "mode": "markers",
         "name": "GTCGGA",
         "orientation": "v",
         "showlegend": true,
         "type": "scatter",
         "x": [
          298093
         ],
         "xaxis": "x",
         "y": [
          216678
         ],
         "yaxis": "y"
        },
        {
         "hovertemplate": "Sample=GACCTG<br>Read_Counts=%{x}<br>UMI_Counts=%{y}<extra></extra>",
         "legendgroup": "GACCTG",
         "marker": {
          "color": "#636efa",
          "size": 14,
          "symbol": "circle"
         },
         "mode": "markers",
         "name": "GACCTG",
         "orientation": "v",
         "showlegend": true,
         "type": "scatter",
         "x": [
          291569
         ],
         "xaxis": "x",
         "y": [
          213436
         ],
         "yaxis": "y"
        },
        {
         "hovertemplate": "Sample=ATGCAT<br>Read_Counts=%{x}<br>UMI_Counts=%{y}<extra></extra>",
         "legendgroup": "ATGCAT",
         "marker": {
          "color": "#EF553B",
          "size": 14,
          "symbol": "circle"
         },
         "mode": "markers",
         "name": "ATGCAT",
         "orientation": "v",
         "showlegend": true,
         "type": "scatter",
         "x": [
          291062
         ],
         "xaxis": "x",
         "y": [
          212587
         ],
         "yaxis": "y"
        },
        {
         "hovertemplate": "Sample=TCTTGG<br>Read_Counts=%{x}<br>UMI_Counts=%{y}<extra></extra>",
         "legendgroup": "TCTTGG",
         "marker": {
          "color": "#00cc96",
          "size": 14,
          "symbol": "circle"
         },
         "mode": "markers",
         "name": "TCTTGG",
         "orientation": "v",
         "showlegend": true,
         "type": "scatter",
         "x": [
          290197
         ],
         "xaxis": "x",
         "y": [
          211515
         ],
         "yaxis": "y"
        },
        {
         "hovertemplate": "Sample=TAGGAT<br>Read_Counts=%{x}<br>UMI_Counts=%{y}<extra></extra>",
         "legendgroup": "TAGGAT",
         "marker": {
          "color": "#ab63fa",
          "size": 14,
          "symbol": "circle"
         },
         "mode": "markers",
         "name": "TAGGAT",
         "orientation": "v",
         "showlegend": true,
         "type": "scatter",
         "x": [
          288818
         ],
         "xaxis": "x",
         "y": [
          210201
         ],
         "yaxis": "y"
        },
        {
         "hovertemplate": "Sample=AGACGC<br>Read_Counts=%{x}<br>UMI_Counts=%{y}<extra></extra>",
         "legendgroup": "AGACGC",
         "marker": {
          "color": "#FFA15A",
          "size": 14,
          "symbol": "circle"
         },
         "mode": "markers",
         "name": "AGACGC",
         "orientation": "v",
         "showlegend": true,
         "type": "scatter",
         "x": [
          285534
         ],
         "xaxis": "x",
         "y": [
          205972
         ],
         "yaxis": "y"
        },
        {
         "hovertemplate": "Sample=GTTGGT<br>Read_Counts=%{x}<br>UMI_Counts=%{y}<extra></extra>",
         "legendgroup": "GTTGGT",
         "marker": {
          "color": "#19d3f3",
          "size": 14,
          "symbol": "circle"
         },
         "mode": "markers",
         "name": "GTTGGT",
         "orientation": "v",
         "showlegend": true,
         "type": "scatter",
         "x": [
          280794
         ],
         "xaxis": "x",
         "y": [
          204617
         ],
         "yaxis": "y"
        },
        {
         "hovertemplate": "Sample=CATGAT<br>Read_Counts=%{x}<br>UMI_Counts=%{y}<extra></extra>",
         "legendgroup": "CATGAT",
         "marker": {
          "color": "#FF6692",
          "size": 14,
          "symbol": "circle"
         },
         "mode": "markers",
         "name": "CATGAT",
         "orientation": "v",
         "showlegend": true,
         "type": "scatter",
         "x": [
          278859
         ],
         "xaxis": "x",
         "y": [
          202974
         ],
         "yaxis": "y"
        },
        {
         "hovertemplate": "Sample=GCGTCA<br>Read_Counts=%{x}<br>UMI_Counts=%{y}<extra></extra>",
         "legendgroup": "GCGTCA",
         "marker": {
          "color": "#B6E880",
          "size": 14,
          "symbol": "circle"
         },
         "mode": "markers",
         "name": "GCGTCA",
         "orientation": "v",
         "showlegend": true,
         "type": "scatter",
         "x": [
          276673
         ],
         "xaxis": "x",
         "y": [
          201281
         ],
         "yaxis": "y"
        },
        {
         "hovertemplate": "Sample=TCACAT<br>Read_Counts=%{x}<br>UMI_Counts=%{y}<extra></extra>",
         "legendgroup": "TCACAT",
         "marker": {
          "color": "#FF97FF",
          "size": 14,
          "symbol": "circle"
         },
         "mode": "markers",
         "name": "TCACAT",
         "orientation": "v",
         "showlegend": true,
         "type": "scatter",
         "x": [
          270622
         ],
         "xaxis": "x",
         "y": [
          197576
         ],
         "yaxis": "y"
        },
        {
         "hovertemplate": "Sample=AATCAG<br>Read_Counts=%{x}<br>UMI_Counts=%{y}<extra></extra>",
         "legendgroup": "AATCAG",
         "marker": {
          "color": "#FECB52",
          "size": 14,
          "symbol": "circle"
         },
         "mode": "markers",
         "name": "AATCAG",
         "orientation": "v",
         "showlegend": true,
         "type": "scatter",
         "x": [
          267926
         ],
         "xaxis": "x",
         "y": [
          194817
         ],
         "yaxis": "y"
        },
        {
         "hovertemplate": "Sample=TTCTCG<br>Read_Counts=%{x}<br>UMI_Counts=%{y}<extra></extra>",
         "legendgroup": "TTCTCG",
         "marker": {
          "color": "#636efa",
          "size": 14,
          "symbol": "circle"
         },
         "mode": "markers",
         "name": "TTCTCG",
         "orientation": "v",
         "showlegend": true,
         "type": "scatter",
         "x": [
          264633
         ],
         "xaxis": "x",
         "y": [
          194343
         ],
         "yaxis": "y"
        },
        {
         "hovertemplate": "Sample=ACTTGT<br>Read_Counts=%{x}<br>UMI_Counts=%{y}<extra></extra>",
         "legendgroup": "ACTTGT",
         "marker": {
          "color": "#EF553B",
          "size": 14,
          "symbol": "circle"
         },
         "mode": "markers",
         "name": "ACTTGT",
         "orientation": "v",
         "showlegend": true,
         "type": "scatter",
         "x": [
          261431
         ],
         "xaxis": "x",
         "y": [
          190692
         ],
         "yaxis": "y"
        },
        {
         "hovertemplate": "Sample=TATCCG<br>Read_Counts=%{x}<br>UMI_Counts=%{y}<extra></extra>",
         "legendgroup": "TATCCG",
         "marker": {
          "color": "#00cc96",
          "size": 14,
          "symbol": "circle"
         },
         "mode": "markers",
         "name": "TATCCG",
         "orientation": "v",
         "showlegend": true,
         "type": "scatter",
         "x": [
          257474
         ],
         "xaxis": "x",
         "y": [
          188961
         ],
         "yaxis": "y"
        },
        {
         "hovertemplate": "Sample=AACTGA<br>Read_Counts=%{x}<br>UMI_Counts=%{y}<extra></extra>",
         "legendgroup": "AACTGA",
         "marker": {
          "color": "#ab63fa",
          "size": 14,
          "symbol": "circle"
         },
         "mode": "markers",
         "name": "AACTGA",
         "orientation": "v",
         "showlegend": true,
         "type": "scatter",
         "x": [
          257242
         ],
         "xaxis": "x",
         "y": [
          187665
         ],
         "yaxis": "y"
        },
        {
         "hovertemplate": "Sample=CTGCTA<br>Read_Counts=%{x}<br>UMI_Counts=%{y}<extra></extra>",
         "legendgroup": "CTGCTA",
         "marker": {
          "color": "#FFA15A",
          "size": 14,
          "symbol": "circle"
         },
         "mode": "markers",
         "name": "CTGCTA",
         "orientation": "v",
         "showlegend": true,
         "type": "scatter",
         "x": [
          249256
         ],
         "xaxis": "x",
         "y": [
          182433
         ],
         "yaxis": "y"
        },
        {
         "hovertemplate": "Sample=TTAAGG<br>Read_Counts=%{x}<br>UMI_Counts=%{y}<extra></extra>",
         "legendgroup": "TTAAGG",
         "marker": {
          "color": "#19d3f3",
          "size": 14,
          "symbol": "circle"
         },
         "mode": "markers",
         "name": "TTAAGG",
         "orientation": "v",
         "showlegend": true,
         "type": "scatter",
         "x": [
          245367
         ],
         "xaxis": "x",
         "y": [
          177440
         ],
         "yaxis": "y"
        },
        {
         "hovertemplate": "Sample=TGTGGC<br>Read_Counts=%{x}<br>UMI_Counts=%{y}<extra></extra>",
         "legendgroup": "TGTGGC",
         "marker": {
          "color": "#FF6692",
          "size": 14,
          "symbol": "circle"
         },
         "mode": "markers",
         "name": "TGTGGC",
         "orientation": "v",
         "showlegend": true,
         "type": "scatter",
         "x": [
          241632
         ],
         "xaxis": "x",
         "y": [
          176039
         ],
         "yaxis": "y"
        },
        {
         "hovertemplate": "Sample=GCACAA<br>Read_Counts=%{x}<br>UMI_Counts=%{y}<extra></extra>",
         "legendgroup": "GCACAA",
         "marker": {
          "color": "#B6E880",
          "size": 14,
          "symbol": "circle"
         },
         "mode": "markers",
         "name": "GCACAA",
         "orientation": "v",
         "showlegend": true,
         "type": "scatter",
         "x": [
          239863
         ],
         "xaxis": "x",
         "y": [
          175344
         ],
         "yaxis": "y"
        },
        {
         "hovertemplate": "Sample=ATAGAC<br>Read_Counts=%{x}<br>UMI_Counts=%{y}<extra></extra>",
         "legendgroup": "ATAGAC",
         "marker": {
          "color": "#FF97FF",
          "size": 14,
          "symbol": "circle"
         },
         "mode": "markers",
         "name": "ATAGAC",
         "orientation": "v",
         "showlegend": true,
         "type": "scatter",
         "x": [
          241770
         ],
         "xaxis": "x",
         "y": [
          175136
         ],
         "yaxis": "y"
        },
        {
         "hovertemplate": "Sample=CTCTAC<br>Read_Counts=%{x}<br>UMI_Counts=%{y}<extra></extra>",
         "legendgroup": "CTCTAC",
         "marker": {
          "color": "#FECB52",
          "size": 14,
          "symbol": "circle"
         },
         "mode": "markers",
         "name": "CTCTAC",
         "orientation": "v",
         "showlegend": true,
         "type": "scatter",
         "x": [
          239499
         ],
         "xaxis": "x",
         "y": [
          174680
         ],
         "yaxis": "y"
        },
        {
         "hovertemplate": "Sample=AGTCCT<br>Read_Counts=%{x}<br>UMI_Counts=%{y}<extra></extra>",
         "legendgroup": "AGTCCT",
         "marker": {
          "color": "#636efa",
          "size": 14,
          "symbol": "circle"
         },
         "mode": "markers",
         "name": "AGTCCT",
         "orientation": "v",
         "showlegend": true,
         "type": "scatter",
         "x": [
          238467
         ],
         "xaxis": "x",
         "y": [
          174369
         ],
         "yaxis": "y"
        },
        {
         "hovertemplate": "Sample=AGGTTA<br>Read_Counts=%{x}<br>UMI_Counts=%{y}<extra></extra>",
         "legendgroup": "AGGTTA",
         "marker": {
          "color": "#EF553B",
          "size": 14,
          "symbol": "circle"
         },
         "mode": "markers",
         "name": "AGGTTA",
         "orientation": "v",
         "showlegend": true,
         "type": "scatter",
         "x": [
          238735
         ],
         "xaxis": "x",
         "y": [
          174185
         ],
         "yaxis": "y"
        },
        {
         "hovertemplate": "Sample=ACGGAG<br>Read_Counts=%{x}<br>UMI_Counts=%{y}<extra></extra>",
         "legendgroup": "ACGGAG",
         "marker": {
          "color": "#00cc96",
          "size": 14,
          "symbol": "circle"
         },
         "mode": "markers",
         "name": "ACGGAG",
         "orientation": "v",
         "showlegend": true,
         "type": "scatter",
         "x": [
          237848
         ],
         "xaxis": "x",
         "y": [
          173870
         ],
         "yaxis": "y"
        },
        {
         "hovertemplate": "Sample=TACACA<br>Read_Counts=%{x}<br>UMI_Counts=%{y}<extra></extra>",
         "legendgroup": "TACACA",
         "marker": {
          "color": "#ab63fa",
          "size": 14,
          "symbol": "circle"
         },
         "mode": "markers",
         "name": "TACACA",
         "orientation": "v",
         "showlegend": true,
         "type": "scatter",
         "x": [
          235814
         ],
         "xaxis": "x",
         "y": [
          171808
         ],
         "yaxis": "y"
        },
        {
         "hovertemplate": "Sample=GTCTGG<br>Read_Counts=%{x}<br>UMI_Counts=%{y}<extra></extra>",
         "legendgroup": "GTCTGG",
         "marker": {
          "color": "#FFA15A",
          "size": 14,
          "symbol": "circle"
         },
         "mode": "markers",
         "name": "GTCTGG",
         "orientation": "v",
         "showlegend": true,
         "type": "scatter",
         "x": [
          234849
         ],
         "xaxis": "x",
         "y": [
          171627
         ],
         "yaxis": "y"
        },
        {
         "hovertemplate": "Sample=ACGTCT<br>Read_Counts=%{x}<br>UMI_Counts=%{y}<extra></extra>",
         "legendgroup": "ACGTCT",
         "marker": {
          "color": "#19d3f3",
          "size": 14,
          "symbol": "circle"
         },
         "mode": "markers",
         "name": "ACGTCT",
         "orientation": "v",
         "showlegend": true,
         "type": "scatter",
         "x": [
          234620
         ],
         "xaxis": "x",
         "y": [
          171041
         ],
         "yaxis": "y"
        },
        {
         "hovertemplate": "Sample=GCCATC<br>Read_Counts=%{x}<br>UMI_Counts=%{y}<extra></extra>",
         "legendgroup": "GCCATC",
         "marker": {
          "color": "#FF6692",
          "size": 14,
          "symbol": "circle"
         },
         "mode": "markers",
         "name": "GCCATC",
         "orientation": "v",
         "showlegend": true,
         "type": "scatter",
         "x": [
          232756
         ],
         "xaxis": "x",
         "y": [
          170300
         ],
         "yaxis": "y"
        },
        {
         "hovertemplate": "Sample=CTCCAT<br>Read_Counts=%{x}<br>UMI_Counts=%{y}<extra></extra>",
         "legendgroup": "CTCCAT",
         "marker": {
          "color": "#B6E880",
          "size": 14,
          "symbol": "circle"
         },
         "mode": "markers",
         "name": "CTCCAT",
         "orientation": "v",
         "showlegend": true,
         "type": "scatter",
         "x": [
          233759
         ],
         "xaxis": "x",
         "y": [
          170154
         ],
         "yaxis": "y"
        },
        {
         "hovertemplate": "Sample=TATCGA<br>Read_Counts=%{x}<br>UMI_Counts=%{y}<extra></extra>",
         "legendgroup": "TATCGA",
         "marker": {
          "color": "#FF97FF",
          "size": 14,
          "symbol": "circle"
         },
         "mode": "markers",
         "name": "TATCGA",
         "orientation": "v",
         "showlegend": true,
         "type": "scatter",
         "x": [
          234558
         ],
         "xaxis": "x",
         "y": [
          170050
         ],
         "yaxis": "y"
        },
        {
         "hovertemplate": "Sample=GAGGTC<br>Read_Counts=%{x}<br>UMI_Counts=%{y}<extra></extra>",
         "legendgroup": "GAGGTC",
         "marker": {
          "color": "#FECB52",
          "size": 14,
          "symbol": "circle"
         },
         "mode": "markers",
         "name": "GAGGTC",
         "orientation": "v",
         "showlegend": true,
         "type": "scatter",
         "x": [
          232759
         ],
         "xaxis": "x",
         "y": [
          169872
         ],
         "yaxis": "y"
        },
        {
         "hovertemplate": "Sample=TCTAGT<br>Read_Counts=%{x}<br>UMI_Counts=%{y}<extra></extra>",
         "legendgroup": "TCTAGT",
         "marker": {
          "color": "#636efa",
          "size": 14,
          "symbol": "circle"
         },
         "mode": "markers",
         "name": "TCTAGT",
         "orientation": "v",
         "showlegend": true,
         "type": "scatter",
         "x": [
          231492
         ],
         "xaxis": "x",
         "y": [
          169059
         ],
         "yaxis": "y"
        },
        {
         "hovertemplate": "Sample=CGCAAC<br>Read_Counts=%{x}<br>UMI_Counts=%{y}<extra></extra>",
         "legendgroup": "CGCAAC",
         "marker": {
          "color": "#EF553B",
          "size": 14,
          "symbol": "circle"
         },
         "mode": "markers",
         "name": "CGCAAC",
         "orientation": "v",
         "showlegend": true,
         "type": "scatter",
         "x": [
          228900
         ],
         "xaxis": "x",
         "y": [
          167073
         ],
         "yaxis": "y"
        },
        {
         "hovertemplate": "Sample=CAACCG<br>Read_Counts=%{x}<br>UMI_Counts=%{y}<extra></extra>",
         "legendgroup": "CAACCG",
         "marker": {
          "color": "#00cc96",
          "size": 14,
          "symbol": "circle"
         },
         "mode": "markers",
         "name": "CAACCG",
         "orientation": "v",
         "showlegend": true,
         "type": "scatter",
         "x": [
          226732
         ],
         "xaxis": "x",
         "y": [
          165805
         ],
         "yaxis": "y"
        },
        {
         "hovertemplate": "Sample=TCTCTA<br>Read_Counts=%{x}<br>UMI_Counts=%{y}<extra></extra>",
         "legendgroup": "TCTCTA",
         "marker": {
          "color": "#ab63fa",
          "size": 14,
          "symbol": "circle"
         },
         "mode": "markers",
         "name": "TCTCTA",
         "orientation": "v",
         "showlegend": true,
         "type": "scatter",
         "x": [
          225675
         ],
         "xaxis": "x",
         "y": [
          164133
         ],
         "yaxis": "y"
        },
        {
         "hovertemplate": "Sample=CTAAGA<br>Read_Counts=%{x}<br>UMI_Counts=%{y}<extra></extra>",
         "legendgroup": "CTAAGA",
         "marker": {
          "color": "#FFA15A",
          "size": 14,
          "symbol": "circle"
         },
         "mode": "markers",
         "name": "CTAAGA",
         "orientation": "v",
         "showlegend": true,
         "type": "scatter",
         "x": [
          223012
         ],
         "xaxis": "x",
         "y": [
          162432
         ],
         "yaxis": "y"
        },
        {
         "hovertemplate": "Sample=TATGGT<br>Read_Counts=%{x}<br>UMI_Counts=%{y}<extra></extra>",
         "legendgroup": "TATGGT",
         "marker": {
          "color": "#19d3f3",
          "size": 14,
          "symbol": "circle"
         },
         "mode": "markers",
         "name": "TATGGT",
         "orientation": "v",
         "showlegend": true,
         "type": "scatter",
         "x": [
          221301
         ],
         "xaxis": "x",
         "y": [
          161452
         ],
         "yaxis": "y"
        },
        {
         "hovertemplate": "Sample=ACATGG<br>Read_Counts=%{x}<br>UMI_Counts=%{y}<extra></extra>",
         "legendgroup": "ACATGG",
         "marker": {
          "color": "#FF6692",
          "size": 14,
          "symbol": "circle"
         },
         "mode": "markers",
         "name": "ACATGG",
         "orientation": "v",
         "showlegend": true,
         "type": "scatter",
         "x": [
          219779
         ],
         "xaxis": "x",
         "y": [
          160683
         ],
         "yaxis": "y"
        },
        {
         "hovertemplate": "Sample=CATTGG<br>Read_Counts=%{x}<br>UMI_Counts=%{y}<extra></extra>",
         "legendgroup": "CATTGG",
         "marker": {
          "color": "#B6E880",
          "size": 14,
          "symbol": "circle"
         },
         "mode": "markers",
         "name": "CATTGG",
         "orientation": "v",
         "showlegend": true,
         "type": "scatter",
         "x": [
          222036
         ],
         "xaxis": "x",
         "y": [
          160574
         ],
         "yaxis": "y"
        },
        {
         "hovertemplate": "Sample=ACAACG<br>Read_Counts=%{x}<br>UMI_Counts=%{y}<extra></extra>",
         "legendgroup": "ACAACG",
         "marker": {
          "color": "#FF97FF",
          "size": 14,
          "symbol": "circle"
         },
         "mode": "markers",
         "name": "ACAACG",
         "orientation": "v",
         "showlegend": true,
         "type": "scatter",
         "x": [
          214625
         ],
         "xaxis": "x",
         "y": [
          156903
         ],
         "yaxis": "y"
        },
        {
         "hovertemplate": "Sample=CGTTGC<br>Read_Counts=%{x}<br>UMI_Counts=%{y}<extra></extra>",
         "legendgroup": "CGTTGC",
         "marker": {
          "color": "#FECB52",
          "size": 14,
          "symbol": "circle"
         },
         "mode": "markers",
         "name": "CGTTGC",
         "orientation": "v",
         "showlegend": true,
         "type": "scatter",
         "x": [
          188148
         ],
         "xaxis": "x",
         "y": [
          154680
         ],
         "yaxis": "y"
        },
        {
         "hovertemplate": "Sample=AAGCGT<br>Read_Counts=%{x}<br>UMI_Counts=%{y}<extra></extra>",
         "legendgroup": "AAGCGT",
         "marker": {
          "color": "#636efa",
          "size": 14,
          "symbol": "circle"
         },
         "mode": "markers",
         "name": "AAGCGT",
         "orientation": "v",
         "showlegend": true,
         "type": "scatter",
         "x": [
          211728
         ],
         "xaxis": "x",
         "y": [
          153997
         ],
         "yaxis": "y"
        },
        {
         "hovertemplate": "Sample=GAACTC<br>Read_Counts=%{x}<br>UMI_Counts=%{y}<extra></extra>",
         "legendgroup": "GAACTC",
         "marker": {
          "color": "#EF553B",
          "size": 14,
          "symbol": "circle"
         },
         "mode": "markers",
         "name": "GAACTC",
         "orientation": "v",
         "showlegend": true,
         "type": "scatter",
         "x": [
          208977
         ],
         "xaxis": "x",
         "y": [
          152708
         ],
         "yaxis": "y"
        },
        {
         "hovertemplate": "Sample=GACTAT<br>Read_Counts=%{x}<br>UMI_Counts=%{y}<extra></extra>",
         "legendgroup": "GACTAT",
         "marker": {
          "color": "#00cc96",
          "size": 14,
          "symbol": "circle"
         },
         "mode": "markers",
         "name": "GACTAT",
         "orientation": "v",
         "showlegend": true,
         "type": "scatter",
         "x": [
          209426
         ],
         "xaxis": "x",
         "y": [
          152098
         ],
         "yaxis": "y"
        },
        {
         "hovertemplate": "Sample=ACATCA<br>Read_Counts=%{x}<br>UMI_Counts=%{y}<extra></extra>",
         "legendgroup": "ACATCA",
         "marker": {
          "color": "#ab63fa",
          "size": 14,
          "symbol": "circle"
         },
         "mode": "markers",
         "name": "ACATCA",
         "orientation": "v",
         "showlegend": true,
         "type": "scatter",
         "x": [
          207653
         ],
         "xaxis": "x",
         "y": [
          151875
         ],
         "yaxis": "y"
        },
        {
         "hovertemplate": "Sample=TCTTAC<br>Read_Counts=%{x}<br>UMI_Counts=%{y}<extra></extra>",
         "legendgroup": "TCTTAC",
         "marker": {
          "color": "#FFA15A",
          "size": 14,
          "symbol": "circle"
         },
         "mode": "markers",
         "name": "TCTTAC",
         "orientation": "v",
         "showlegend": true,
         "type": "scatter",
         "x": [
          206335
         ],
         "xaxis": "x",
         "y": [
          150908
         ],
         "yaxis": "y"
        },
        {
         "hovertemplate": "Sample=GTGATT<br>Read_Counts=%{x}<br>UMI_Counts=%{y}<extra></extra>",
         "legendgroup": "GTGATT",
         "marker": {
          "color": "#19d3f3",
          "size": 14,
          "symbol": "circle"
         },
         "mode": "markers",
         "name": "GTGATT",
         "orientation": "v",
         "showlegend": true,
         "type": "scatter",
         "x": [
          207344
         ],
         "xaxis": "x",
         "y": [
          150794
         ],
         "yaxis": "y"
        },
        {
         "hovertemplate": "Sample=TCATGC<br>Read_Counts=%{x}<br>UMI_Counts=%{y}<extra></extra>",
         "legendgroup": "TCATGC",
         "marker": {
          "color": "#FF6692",
          "size": 14,
          "symbol": "circle"
         },
         "mode": "markers",
         "name": "TCATGC",
         "orientation": "v",
         "showlegend": true,
         "type": "scatter",
         "x": [
          206137
         ],
         "xaxis": "x",
         "y": [
          150306
         ],
         "yaxis": "y"
        },
        {
         "hovertemplate": "Sample=CTCTTG<br>Read_Counts=%{x}<br>UMI_Counts=%{y}<extra></extra>",
         "legendgroup": "CTCTTG",
         "marker": {
          "color": "#B6E880",
          "size": 14,
          "symbol": "circle"
         },
         "mode": "markers",
         "name": "CTCTTG",
         "orientation": "v",
         "showlegend": true,
         "type": "scatter",
         "x": [
          205340
         ],
         "xaxis": "x",
         "y": [
          149988
         ],
         "yaxis": "y"
        },
        {
         "hovertemplate": "Sample=CCTATA<br>Read_Counts=%{x}<br>UMI_Counts=%{y}<extra></extra>",
         "legendgroup": "CCTATA",
         "marker": {
          "color": "#FF97FF",
          "size": 14,
          "symbol": "circle"
         },
         "mode": "markers",
         "name": "CCTATA",
         "orientation": "v",
         "showlegend": true,
         "type": "scatter",
         "x": [
          205792
         ],
         "xaxis": "x",
         "y": [
          149030
         ],
         "yaxis": "y"
        },
        {
         "hovertemplate": "Sample=TCGAGC<br>Read_Counts=%{x}<br>UMI_Counts=%{y}<extra></extra>",
         "legendgroup": "TCGAGC",
         "marker": {
          "color": "#FECB52",
          "size": 14,
          "symbol": "circle"
         },
         "mode": "markers",
         "name": "TCGAGC",
         "orientation": "v",
         "showlegend": true,
         "type": "scatter",
         "x": [
          205005
         ],
         "xaxis": "x",
         "y": [
          149024
         ],
         "yaxis": "y"
        },
        {
         "hovertemplate": "Sample=CAGACC<br>Read_Counts=%{x}<br>UMI_Counts=%{y}<extra></extra>",
         "legendgroup": "CAGACC",
         "marker": {
          "color": "#636efa",
          "size": 14,
          "symbol": "circle"
         },
         "mode": "markers",
         "name": "CAGACC",
         "orientation": "v",
         "showlegend": true,
         "type": "scatter",
         "x": [
          201708
         ],
         "xaxis": "x",
         "y": [
          147068
         ],
         "yaxis": "y"
        },
        {
         "hovertemplate": "Sample=TATGTG<br>Read_Counts=%{x}<br>UMI_Counts=%{y}<extra></extra>",
         "legendgroup": "TATGTG",
         "marker": {
          "color": "#EF553B",
          "size": 14,
          "symbol": "circle"
         },
         "mode": "markers",
         "name": "TATGTG",
         "orientation": "v",
         "showlegend": true,
         "type": "scatter",
         "x": [
          201172
         ],
         "xaxis": "x",
         "y": [
          146138
         ],
         "yaxis": "y"
        },
        {
         "hovertemplate": "Sample=CGCACA<br>Read_Counts=%{x}<br>UMI_Counts=%{y}<extra></extra>",
         "legendgroup": "CGCACA",
         "marker": {
          "color": "#00cc96",
          "size": 14,
          "symbol": "circle"
         },
         "mode": "markers",
         "name": "CGCACA",
         "orientation": "v",
         "showlegend": true,
         "type": "scatter",
         "x": [
          199460
         ],
         "xaxis": "x",
         "y": [
          145540
         ],
         "yaxis": "y"
        },
        {
         "hovertemplate": "Sample=ATTGGC<br>Read_Counts=%{x}<br>UMI_Counts=%{y}<extra></extra>",
         "legendgroup": "ATTGGC",
         "marker": {
          "color": "#ab63fa",
          "size": 14,
          "symbol": "circle"
         },
         "mode": "markers",
         "name": "ATTGGC",
         "orientation": "v",
         "showlegend": true,
         "type": "scatter",
         "x": [
          199405
         ],
         "xaxis": "x",
         "y": [
          144521
         ],
         "yaxis": "y"
        },
        {
         "hovertemplate": "Sample=GTGACG<br>Read_Counts=%{x}<br>UMI_Counts=%{y}<extra></extra>",
         "legendgroup": "GTGACG",
         "marker": {
          "color": "#FFA15A",
          "size": 14,
          "symbol": "circle"
         },
         "mode": "markers",
         "name": "GTGACG",
         "orientation": "v",
         "showlegend": true,
         "type": "scatter",
         "x": [
          197462
         ],
         "xaxis": "x",
         "y": [
          144380
         ],
         "yaxis": "y"
        },
        {
         "hovertemplate": "Sample=TTCCGT<br>Read_Counts=%{x}<br>UMI_Counts=%{y}<extra></extra>",
         "legendgroup": "TTCCGT",
         "marker": {
          "color": "#19d3f3",
          "size": 14,
          "symbol": "circle"
         },
         "mode": "markers",
         "name": "TTCCGT",
         "orientation": "v",
         "showlegend": true,
         "type": "scatter",
         "x": [
          194505
         ],
         "xaxis": "x",
         "y": [
          142341
         ],
         "yaxis": "y"
        },
        {
         "hovertemplate": "Sample=AGCGCT<br>Read_Counts=%{x}<br>UMI_Counts=%{y}<extra></extra>",
         "legendgroup": "AGCGCT",
         "marker": {
          "color": "#FF6692",
          "size": 14,
          "symbol": "circle"
         },
         "mode": "markers",
         "name": "AGCGCT",
         "orientation": "v",
         "showlegend": true,
         "type": "scatter",
         "x": [
          193718
         ],
         "xaxis": "x",
         "y": [
          141091
         ],
         "yaxis": "y"
        },
        {
         "hovertemplate": "Sample=CATCTT<br>Read_Counts=%{x}<br>UMI_Counts=%{y}<extra></extra>",
         "legendgroup": "CATCTT",
         "marker": {
          "color": "#B6E880",
          "size": 14,
          "symbol": "circle"
         },
         "mode": "markers",
         "name": "CATCTT",
         "orientation": "v",
         "showlegend": true,
         "type": "scatter",
         "x": [
          192532
         ],
         "xaxis": "x",
         "y": [
          140669
         ],
         "yaxis": "y"
        },
        {
         "hovertemplate": "Sample=CCAACA<br>Read_Counts=%{x}<br>UMI_Counts=%{y}<extra></extra>",
         "legendgroup": "CCAACA",
         "marker": {
          "color": "#FF97FF",
          "size": 14,
          "symbol": "circle"
         },
         "mode": "markers",
         "name": "CCAACA",
         "orientation": "v",
         "showlegend": true,
         "type": "scatter",
         "x": [
          190546
         ],
         "xaxis": "x",
         "y": [
          139168
         ],
         "yaxis": "y"
        },
        {
         "hovertemplate": "Sample=TCGAAT<br>Read_Counts=%{x}<br>UMI_Counts=%{y}<extra></extra>",
         "legendgroup": "TCGAAT",
         "marker": {
          "color": "#FECB52",
          "size": 14,
          "symbol": "circle"
         },
         "mode": "markers",
         "name": "TCGAAT",
         "orientation": "v",
         "showlegend": true,
         "type": "scatter",
         "x": [
          189188
         ],
         "xaxis": "x",
         "y": [
          137773
         ],
         "yaxis": "y"
        },
        {
         "hovertemplate": "Sample=ATCCTC<br>Read_Counts=%{x}<br>UMI_Counts=%{y}<extra></extra>",
         "legendgroup": "ATCCTC",
         "marker": {
          "color": "#636efa",
          "size": 14,
          "symbol": "circle"
         },
         "mode": "markers",
         "name": "ATCCTC",
         "orientation": "v",
         "showlegend": true,
         "type": "scatter",
         "x": [
          186484
         ],
         "xaxis": "x",
         "y": [
          137034
         ],
         "yaxis": "y"
        },
        {
         "hovertemplate": "Sample=GTTCAT<br>Read_Counts=%{x}<br>UMI_Counts=%{y}<extra></extra>",
         "legendgroup": "GTTCAT",
         "marker": {
          "color": "#EF553B",
          "size": 14,
          "symbol": "circle"
         },
         "mode": "markers",
         "name": "GTTCAT",
         "orientation": "v",
         "showlegend": true,
         "type": "scatter",
         "x": [
          181530
         ],
         "xaxis": "x",
         "y": [
          131985
         ],
         "yaxis": "y"
        },
        {
         "hovertemplate": "Sample=ATCCAA<br>Read_Counts=%{x}<br>UMI_Counts=%{y}<extra></extra>",
         "legendgroup": "ATCCAA",
         "marker": {
          "color": "#00cc96",
          "size": 14,
          "symbol": "circle"
         },
         "mode": "markers",
         "name": "ATCCAA",
         "orientation": "v",
         "showlegend": true,
         "type": "scatter",
         "x": [
          172195
         ],
         "xaxis": "x",
         "y": [
          125180
         ],
         "yaxis": "y"
        },
        {
         "hovertemplate": "Sample=GATCAC<br>Read_Counts=%{x}<br>UMI_Counts=%{y}<extra></extra>",
         "legendgroup": "GATCAC",
         "marker": {
          "color": "#ab63fa",
          "size": 14,
          "symbol": "circle"
         },
         "mode": "markers",
         "name": "GATCAC",
         "orientation": "v",
         "showlegend": true,
         "type": "scatter",
         "x": [
          169970
         ],
         "xaxis": "x",
         "y": [
          123182
         ],
         "yaxis": "y"
        },
        {
         "hovertemplate": "Sample=CCTGTG<br>Read_Counts=%{x}<br>UMI_Counts=%{y}<extra></extra>",
         "legendgroup": "CCTGTG",
         "marker": {
          "color": "#FFA15A",
          "size": 14,
          "symbol": "circle"
         },
         "mode": "markers",
         "name": "CCTGTG",
         "orientation": "v",
         "showlegend": true,
         "type": "scatter",
         "x": [
          168539
         ],
         "xaxis": "x",
         "y": [
          122619
         ],
         "yaxis": "y"
        },
        {
         "hovertemplate": "Sample=TAGCCT<br>Read_Counts=%{x}<br>UMI_Counts=%{y}<extra></extra>",
         "legendgroup": "TAGCCT",
         "marker": {
          "color": "#19d3f3",
          "size": 14,
          "symbol": "circle"
         },
         "mode": "markers",
         "name": "TAGCCT",
         "orientation": "v",
         "showlegend": true,
         "type": "scatter",
         "x": [
          167543
         ],
         "xaxis": "x",
         "y": [
          122083
         ],
         "yaxis": "y"
        },
        {
         "hovertemplate": "Sample=CAGGTA<br>Read_Counts=%{x}<br>UMI_Counts=%{y}<extra></extra>",
         "legendgroup": "CAGGTA",
         "marker": {
          "color": "#FF6692",
          "size": 14,
          "symbol": "circle"
         },
         "mode": "markers",
         "name": "CAGGTA",
         "orientation": "v",
         "showlegend": true,
         "type": "scatter",
         "x": [
          165609
         ],
         "xaxis": "x",
         "y": [
          120064
         ],
         "yaxis": "y"
        },
        {
         "hovertemplate": "Sample=ACGATA<br>Read_Counts=%{x}<br>UMI_Counts=%{y}<extra></extra>",
         "legendgroup": "ACGATA",
         "marker": {
          "color": "#B6E880",
          "size": 14,
          "symbol": "circle"
         },
         "mode": "markers",
         "name": "ACGATA",
         "orientation": "v",
         "showlegend": true,
         "type": "scatter",
         "x": [
          164639
         ],
         "xaxis": "x",
         "y": [
          119765
         ],
         "yaxis": "y"
        },
        {
         "hovertemplate": "Sample=TCCATT<br>Read_Counts=%{x}<br>UMI_Counts=%{y}<extra></extra>",
         "legendgroup": "TCCATT",
         "marker": {
          "color": "#FF97FF",
          "size": 14,
          "symbol": "circle"
         },
         "mode": "markers",
         "name": "TCCATT",
         "orientation": "v",
         "showlegend": true,
         "type": "scatter",
         "x": [
          162814
         ],
         "xaxis": "x",
         "y": [
          118367
         ],
         "yaxis": "y"
        },
        {
         "hovertemplate": "Sample=CAAGTT<br>Read_Counts=%{x}<br>UMI_Counts=%{y}<extra></extra>",
         "legendgroup": "CAAGTT",
         "marker": {
          "color": "#FECB52",
          "size": 14,
          "symbol": "circle"
         },
         "mode": "markers",
         "name": "CAAGTT",
         "orientation": "v",
         "showlegend": true,
         "type": "scatter",
         "x": [
          162439
         ],
         "xaxis": "x",
         "y": [
          118093
         ],
         "yaxis": "y"
        },
        {
         "hovertemplate": "Sample=TGCCAT<br>Read_Counts=%{x}<br>UMI_Counts=%{y}<extra></extra>",
         "legendgroup": "TGCCAT",
         "marker": {
          "color": "#636efa",
          "size": 14,
          "symbol": "circle"
         },
         "mode": "markers",
         "name": "TGCCAT",
         "orientation": "v",
         "showlegend": true,
         "type": "scatter",
         "x": [
          159358
         ],
         "xaxis": "x",
         "y": [
          115914
         ],
         "yaxis": "y"
        },
        {
         "hovertemplate": "Sample=TCGATG<br>Read_Counts=%{x}<br>UMI_Counts=%{y}<extra></extra>",
         "legendgroup": "TCGATG",
         "marker": {
          "color": "#EF553B",
          "size": 14,
          "symbol": "circle"
         },
         "mode": "markers",
         "name": "TCGATG",
         "orientation": "v",
         "showlegend": true,
         "type": "scatter",
         "x": [
          158383
         ],
         "xaxis": "x",
         "y": [
          115241
         ],
         "yaxis": "y"
        },
        {
         "hovertemplate": "Sample=AACTCC<br>Read_Counts=%{x}<br>UMI_Counts=%{y}<extra></extra>",
         "legendgroup": "AACTCC",
         "marker": {
          "color": "#00cc96",
          "size": 14,
          "symbol": "circle"
         },
         "mode": "markers",
         "name": "AACTCC",
         "orientation": "v",
         "showlegend": true,
         "type": "scatter",
         "x": [
          149173
         ],
         "xaxis": "x",
         "y": [
          110042
         ],
         "yaxis": "y"
        },
        {
         "hovertemplate": "Sample=CGGTGT<br>Read_Counts=%{x}<br>UMI_Counts=%{y}<extra></extra>",
         "legendgroup": "CGGTGT",
         "marker": {
          "color": "#ab63fa",
          "size": 14,
          "symbol": "circle"
         },
         "mode": "markers",
         "name": "CGGTGT",
         "orientation": "v",
         "showlegend": true,
         "type": "scatter",
         "x": [
          144223
         ],
         "xaxis": "x",
         "y": [
          107161
         ],
         "yaxis": "y"
        },
        {
         "hovertemplate": "Sample=TCAACT<br>Read_Counts=%{x}<br>UMI_Counts=%{y}<extra></extra>",
         "legendgroup": "TCAACT",
         "marker": {
          "color": "#FFA15A",
          "size": 14,
          "symbol": "circle"
         },
         "mode": "markers",
         "name": "TCAACT",
         "orientation": "v",
         "showlegend": true,
         "type": "scatter",
         "x": [
          145931
         ],
         "xaxis": "x",
         "y": [
          106192
         ],
         "yaxis": "y"
        },
        {
         "hovertemplate": "Sample=TTGACT<br>Read_Counts=%{x}<br>UMI_Counts=%{y}<extra></extra>",
         "legendgroup": "TTGACT",
         "marker": {
          "color": "#19d3f3",
          "size": 14,
          "symbol": "circle"
         },
         "mode": "markers",
         "name": "TTGACT",
         "orientation": "v",
         "showlegend": true,
         "type": "scatter",
         "x": [
          138361
         ],
         "xaxis": "x",
         "y": [
          101004
         ],
         "yaxis": "y"
        },
        {
         "hovertemplate": "Sample=CTCACC<br>Read_Counts=%{x}<br>UMI_Counts=%{y}<extra></extra>",
         "legendgroup": "CTCACC",
         "marker": {
          "color": "#FF6692",
          "size": 14,
          "symbol": "circle"
         },
         "mode": "markers",
         "name": "CTCACC",
         "orientation": "v",
         "showlegend": true,
         "type": "scatter",
         "x": [
          132261
         ],
         "xaxis": "x",
         "y": [
          97386
         ],
         "yaxis": "y"
        },
        {
         "hovertemplate": "Sample=GGAGAG<br>Read_Counts=%{x}<br>UMI_Counts=%{y}<extra></extra>",
         "legendgroup": "GGAGAG",
         "marker": {
          "color": "#B6E880",
          "size": 14,
          "symbol": "circle"
         },
         "mode": "markers",
         "name": "GGAGAG",
         "orientation": "v",
         "showlegend": true,
         "type": "scatter",
         "x": [
          131863
         ],
         "xaxis": "x",
         "y": [
          95574
         ],
         "yaxis": "y"
        },
        {
         "hovertemplate": "Sample=CTGCGT<br>Read_Counts=%{x}<br>UMI_Counts=%{y}<extra></extra>",
         "legendgroup": "CTGCGT",
         "marker": {
          "color": "#FF97FF",
          "size": 14,
          "symbol": "circle"
         },
         "mode": "markers",
         "name": "CTGCGT",
         "orientation": "v",
         "showlegend": true,
         "type": "scatter",
         "x": [
          124805
         ],
         "xaxis": "x",
         "y": [
          90622
         ],
         "yaxis": "y"
        },
        {
         "hovertemplate": "Sample=GCCGTA<br>Read_Counts=%{x}<br>UMI_Counts=%{y}<extra></extra>",
         "legendgroup": "GCCGTA",
         "marker": {
          "color": "#FECB52",
          "size": 14,
          "symbol": "circle"
         },
         "mode": "markers",
         "name": "GCCGTA",
         "orientation": "v",
         "showlegend": true,
         "type": "scatter",
         "x": [
          123987
         ],
         "xaxis": "x",
         "y": [
          90271
         ],
         "yaxis": "y"
        },
        {
         "hovertemplate": "Sample=TCCGTC<br>Read_Counts=%{x}<br>UMI_Counts=%{y}<extra></extra>",
         "legendgroup": "TCCGTC",
         "marker": {
          "color": "#636efa",
          "size": 14,
          "symbol": "circle"
         },
         "mode": "markers",
         "name": "TCCGTC",
         "orientation": "v",
         "showlegend": true,
         "type": "scatter",
         "x": [
          113194
         ],
         "xaxis": "x",
         "y": [
          82622
         ],
         "yaxis": "y"
        },
        {
         "hovertemplate": "Sample=CGTAAT<br>Read_Counts=%{x}<br>UMI_Counts=%{y}<extra></extra>",
         "legendgroup": "CGTAAT",
         "marker": {
          "color": "#EF553B",
          "size": 14,
          "symbol": "circle"
         },
         "mode": "markers",
         "name": "CGTAAT",
         "orientation": "v",
         "showlegend": true,
         "type": "scatter",
         "x": [
          109136
         ],
         "xaxis": "x",
         "y": [
          79323
         ],
         "yaxis": "y"
        },
        {
         "hovertemplate": "Sample=TTCTGA<br>Read_Counts=%{x}<br>UMI_Counts=%{y}<extra></extra>",
         "legendgroup": "TTCTGA",
         "marker": {
          "color": "#00cc96",
          "size": 14,
          "symbol": "circle"
         },
         "mode": "markers",
         "name": "TTCTGA",
         "orientation": "v",
         "showlegend": true,
         "type": "scatter",
         "x": [
          104538
         ],
         "xaxis": "x",
         "y": [
          75866
         ],
         "yaxis": "y"
        },
        {
         "hovertemplate": "Sample=CGCTTA<br>Read_Counts=%{x}<br>UMI_Counts=%{y}<extra></extra>",
         "legendgroup": "CGCTTA",
         "marker": {
          "color": "#ab63fa",
          "size": 14,
          "symbol": "circle"
         },
         "mode": "markers",
         "name": "CGCTTA",
         "orientation": "v",
         "showlegend": true,
         "type": "scatter",
         "x": [
          62547
         ],
         "xaxis": "x",
         "y": [
          59967
         ],
         "yaxis": "y"
        },
        {
         "hovertemplate": "Sample=CCAATG<br>Read_Counts=%{x}<br>UMI_Counts=%{y}<extra></extra>",
         "legendgroup": "CCAATG",
         "marker": {
          "color": "#FFA15A",
          "size": 14,
          "symbol": "circle"
         },
         "mode": "markers",
         "name": "CCAATG",
         "orientation": "v",
         "showlegend": true,
         "type": "scatter",
         "x": [
          66560
         ],
         "xaxis": "x",
         "y": [
          48872
         ],
         "yaxis": "y"
        },
        {
         "hovertemplate": "Sample=CGACTC<br>Read_Counts=%{x}<br>UMI_Counts=%{y}<extra></extra>",
         "legendgroup": "CGACTC",
         "marker": {
          "color": "#19d3f3",
          "size": 14,
          "symbol": "circle"
         },
         "mode": "markers",
         "name": "CGACTC",
         "orientation": "v",
         "showlegend": true,
         "type": "scatter",
         "x": [
          58952
         ],
         "xaxis": "x",
         "y": [
          42955
         ],
         "yaxis": "y"
        }
       ],
       "layout": {
        "font": {
         "color": "Black",
         "size": 18
        },
        "height": 1024,
        "legend": {
         "title": {
          "text": "Sample"
         },
         "tracegroupgap": 0
        },
        "margin": {
         "t": 60
        },
        "template": {
         "data": {
          "bar": [
           {
            "error_x": {
             "color": "#2a3f5f"
            },
            "error_y": {
             "color": "#2a3f5f"
            },
            "marker": {
             "line": {
              "color": "#E5ECF6",
              "width": 0.5
             },
             "pattern": {
              "fillmode": "overlay",
              "size": 10,
              "solidity": 0.2
             }
            },
            "type": "bar"
           }
          ],
          "barpolar": [
           {
            "marker": {
             "line": {
              "color": "#E5ECF6",
              "width": 0.5
             },
             "pattern": {
              "fillmode": "overlay",
              "size": 10,
              "solidity": 0.2
             }
            },
            "type": "barpolar"
           }
          ],
          "carpet": [
           {
            "aaxis": {
             "endlinecolor": "#2a3f5f",
             "gridcolor": "white",
             "linecolor": "white",
             "minorgridcolor": "white",
             "startlinecolor": "#2a3f5f"
            },
            "baxis": {
             "endlinecolor": "#2a3f5f",
             "gridcolor": "white",
             "linecolor": "white",
             "minorgridcolor": "white",
             "startlinecolor": "#2a3f5f"
            },
            "type": "carpet"
           }
          ],
          "choropleth": [
           {
            "colorbar": {
             "outlinewidth": 0,
             "ticks": ""
            },
            "type": "choropleth"
           }
          ],
          "contour": [
           {
            "colorbar": {
             "outlinewidth": 0,
             "ticks": ""
            },
            "colorscale": [
             [
              0,
              "#0d0887"
             ],
             [
              0.1111111111111111,
              "#46039f"
             ],
             [
              0.2222222222222222,
              "#7201a8"
             ],
             [
              0.3333333333333333,
              "#9c179e"
             ],
             [
              0.4444444444444444,
              "#bd3786"
             ],
             [
              0.5555555555555556,
              "#d8576b"
             ],
             [
              0.6666666666666666,
              "#ed7953"
             ],
             [
              0.7777777777777778,
              "#fb9f3a"
             ],
             [
              0.8888888888888888,
              "#fdca26"
             ],
             [
              1,
              "#f0f921"
             ]
            ],
            "type": "contour"
           }
          ],
          "contourcarpet": [
           {
            "colorbar": {
             "outlinewidth": 0,
             "ticks": ""
            },
            "type": "contourcarpet"
           }
          ],
          "heatmap": [
           {
            "colorbar": {
             "outlinewidth": 0,
             "ticks": ""
            },
            "colorscale": [
             [
              0,
              "#0d0887"
             ],
             [
              0.1111111111111111,
              "#46039f"
             ],
             [
              0.2222222222222222,
              "#7201a8"
             ],
             [
              0.3333333333333333,
              "#9c179e"
             ],
             [
              0.4444444444444444,
              "#bd3786"
             ],
             [
              0.5555555555555556,
              "#d8576b"
             ],
             [
              0.6666666666666666,
              "#ed7953"
             ],
             [
              0.7777777777777778,
              "#fb9f3a"
             ],
             [
              0.8888888888888888,
              "#fdca26"
             ],
             [
              1,
              "#f0f921"
             ]
            ],
            "type": "heatmap"
           }
          ],
          "heatmapgl": [
           {
            "colorbar": {
             "outlinewidth": 0,
             "ticks": ""
            },
            "colorscale": [
             [
              0,
              "#0d0887"
             ],
             [
              0.1111111111111111,
              "#46039f"
             ],
             [
              0.2222222222222222,
              "#7201a8"
             ],
             [
              0.3333333333333333,
              "#9c179e"
             ],
             [
              0.4444444444444444,
              "#bd3786"
             ],
             [
              0.5555555555555556,
              "#d8576b"
             ],
             [
              0.6666666666666666,
              "#ed7953"
             ],
             [
              0.7777777777777778,
              "#fb9f3a"
             ],
             [
              0.8888888888888888,
              "#fdca26"
             ],
             [
              1,
              "#f0f921"
             ]
            ],
            "type": "heatmapgl"
           }
          ],
          "histogram": [
           {
            "marker": {
             "pattern": {
              "fillmode": "overlay",
              "size": 10,
              "solidity": 0.2
             }
            },
            "type": "histogram"
           }
          ],
          "histogram2d": [
           {
            "colorbar": {
             "outlinewidth": 0,
             "ticks": ""
            },
            "colorscale": [
             [
              0,
              "#0d0887"
             ],
             [
              0.1111111111111111,
              "#46039f"
             ],
             [
              0.2222222222222222,
              "#7201a8"
             ],
             [
              0.3333333333333333,
              "#9c179e"
             ],
             [
              0.4444444444444444,
              "#bd3786"
             ],
             [
              0.5555555555555556,
              "#d8576b"
             ],
             [
              0.6666666666666666,
              "#ed7953"
             ],
             [
              0.7777777777777778,
              "#fb9f3a"
             ],
             [
              0.8888888888888888,
              "#fdca26"
             ],
             [
              1,
              "#f0f921"
             ]
            ],
            "type": "histogram2d"
           }
          ],
          "histogram2dcontour": [
           {
            "colorbar": {
             "outlinewidth": 0,
             "ticks": ""
            },
            "colorscale": [
             [
              0,
              "#0d0887"
             ],
             [
              0.1111111111111111,
              "#46039f"
             ],
             [
              0.2222222222222222,
              "#7201a8"
             ],
             [
              0.3333333333333333,
              "#9c179e"
             ],
             [
              0.4444444444444444,
              "#bd3786"
             ],
             [
              0.5555555555555556,
              "#d8576b"
             ],
             [
              0.6666666666666666,
              "#ed7953"
             ],
             [
              0.7777777777777778,
              "#fb9f3a"
             ],
             [
              0.8888888888888888,
              "#fdca26"
             ],
             [
              1,
              "#f0f921"
             ]
            ],
            "type": "histogram2dcontour"
           }
          ],
          "mesh3d": [
           {
            "colorbar": {
             "outlinewidth": 0,
             "ticks": ""
            },
            "type": "mesh3d"
           }
          ],
          "parcoords": [
           {
            "line": {
             "colorbar": {
              "outlinewidth": 0,
              "ticks": ""
             }
            },
            "type": "parcoords"
           }
          ],
          "pie": [
           {
            "automargin": true,
            "type": "pie"
           }
          ],
          "scatter": [
           {
            "fillpattern": {
             "fillmode": "overlay",
             "size": 10,
             "solidity": 0.2
            },
            "type": "scatter"
           }
          ],
          "scatter3d": [
           {
            "line": {
             "colorbar": {
              "outlinewidth": 0,
              "ticks": ""
             }
            },
            "marker": {
             "colorbar": {
              "outlinewidth": 0,
              "ticks": ""
             }
            },
            "type": "scatter3d"
           }
          ],
          "scattercarpet": [
           {
            "marker": {
             "colorbar": {
              "outlinewidth": 0,
              "ticks": ""
             }
            },
            "type": "scattercarpet"
           }
          ],
          "scattergeo": [
           {
            "marker": {
             "colorbar": {
              "outlinewidth": 0,
              "ticks": ""
             }
            },
            "type": "scattergeo"
           }
          ],
          "scattergl": [
           {
            "marker": {
             "colorbar": {
              "outlinewidth": 0,
              "ticks": ""
             }
            },
            "type": "scattergl"
           }
          ],
          "scattermapbox": [
           {
            "marker": {
             "colorbar": {
              "outlinewidth": 0,
              "ticks": ""
             }
            },
            "type": "scattermapbox"
           }
          ],
          "scatterpolar": [
           {
            "marker": {
             "colorbar": {
              "outlinewidth": 0,
              "ticks": ""
             }
            },
            "type": "scatterpolar"
           }
          ],
          "scatterpolargl": [
           {
            "marker": {
             "colorbar": {
              "outlinewidth": 0,
              "ticks": ""
             }
            },
            "type": "scatterpolargl"
           }
          ],
          "scatterternary": [
           {
            "marker": {
             "colorbar": {
              "outlinewidth": 0,
              "ticks": ""
             }
            },
            "type": "scatterternary"
           }
          ],
          "surface": [
           {
            "colorbar": {
             "outlinewidth": 0,
             "ticks": ""
            },
            "colorscale": [
             [
              0,
              "#0d0887"
             ],
             [
              0.1111111111111111,
              "#46039f"
             ],
             [
              0.2222222222222222,
              "#7201a8"
             ],
             [
              0.3333333333333333,
              "#9c179e"
             ],
             [
              0.4444444444444444,
              "#bd3786"
             ],
             [
              0.5555555555555556,
              "#d8576b"
             ],
             [
              0.6666666666666666,
              "#ed7953"
             ],
             [
              0.7777777777777778,
              "#fb9f3a"
             ],
             [
              0.8888888888888888,
              "#fdca26"
             ],
             [
              1,
              "#f0f921"
             ]
            ],
            "type": "surface"
           }
          ],
          "table": [
           {
            "cells": {
             "fill": {
              "color": "#EBF0F8"
             },
             "line": {
              "color": "white"
             }
            },
            "header": {
             "fill": {
              "color": "#C8D4E3"
             },
             "line": {
              "color": "white"
             }
            },
            "type": "table"
           }
          ]
         },
         "layout": {
          "annotationdefaults": {
           "arrowcolor": "#2a3f5f",
           "arrowhead": 0,
           "arrowwidth": 1
          },
          "autotypenumbers": "strict",
          "coloraxis": {
           "colorbar": {
            "outlinewidth": 0,
            "ticks": ""
           }
          },
          "colorscale": {
           "diverging": [
            [
             0,
             "#8e0152"
            ],
            [
             0.1,
             "#c51b7d"
            ],
            [
             0.2,
             "#de77ae"
            ],
            [
             0.3,
             "#f1b6da"
            ],
            [
             0.4,
             "#fde0ef"
            ],
            [
             0.5,
             "#f7f7f7"
            ],
            [
             0.6,
             "#e6f5d0"
            ],
            [
             0.7,
             "#b8e186"
            ],
            [
             0.8,
             "#7fbc41"
            ],
            [
             0.9,
             "#4d9221"
            ],
            [
             1,
             "#276419"
            ]
           ],
           "sequential": [
            [
             0,
             "#0d0887"
            ],
            [
             0.1111111111111111,
             "#46039f"
            ],
            [
             0.2222222222222222,
             "#7201a8"
            ],
            [
             0.3333333333333333,
             "#9c179e"
            ],
            [
             0.4444444444444444,
             "#bd3786"
            ],
            [
             0.5555555555555556,
             "#d8576b"
            ],
            [
             0.6666666666666666,
             "#ed7953"
            ],
            [
             0.7777777777777778,
             "#fb9f3a"
            ],
            [
             0.8888888888888888,
             "#fdca26"
            ],
            [
             1,
             "#f0f921"
            ]
           ],
           "sequentialminus": [
            [
             0,
             "#0d0887"
            ],
            [
             0.1111111111111111,
             "#46039f"
            ],
            [
             0.2222222222222222,
             "#7201a8"
            ],
            [
             0.3333333333333333,
             "#9c179e"
            ],
            [
             0.4444444444444444,
             "#bd3786"
            ],
            [
             0.5555555555555556,
             "#d8576b"
            ],
            [
             0.6666666666666666,
             "#ed7953"
            ],
            [
             0.7777777777777778,
             "#fb9f3a"
            ],
            [
             0.8888888888888888,
             "#fdca26"
            ],
            [
             1,
             "#f0f921"
            ]
           ]
          },
          "colorway": [
           "#636efa",
           "#EF553B",
           "#00cc96",
           "#ab63fa",
           "#FFA15A",
           "#19d3f3",
           "#FF6692",
           "#B6E880",
           "#FF97FF",
           "#FECB52"
          ],
          "font": {
           "color": "#2a3f5f"
          },
          "geo": {
           "bgcolor": "white",
           "lakecolor": "white",
           "landcolor": "#E5ECF6",
           "showlakes": true,
           "showland": true,
           "subunitcolor": "white"
          },
          "hoverlabel": {
           "align": "left"
          },
          "hovermode": "closest",
          "mapbox": {
           "style": "light"
          },
          "paper_bgcolor": "white",
          "plot_bgcolor": "#E5ECF6",
          "polar": {
           "angularaxis": {
            "gridcolor": "white",
            "linecolor": "white",
            "ticks": ""
           },
           "bgcolor": "#E5ECF6",
           "radialaxis": {
            "gridcolor": "white",
            "linecolor": "white",
            "ticks": ""
           }
          },
          "scene": {
           "xaxis": {
            "backgroundcolor": "#E5ECF6",
            "gridcolor": "white",
            "gridwidth": 2,
            "linecolor": "white",
            "showbackground": true,
            "ticks": "",
            "zerolinecolor": "white"
           },
           "yaxis": {
            "backgroundcolor": "#E5ECF6",
            "gridcolor": "white",
            "gridwidth": 2,
            "linecolor": "white",
            "showbackground": true,
            "ticks": "",
            "zerolinecolor": "white"
           },
           "zaxis": {
            "backgroundcolor": "#E5ECF6",
            "gridcolor": "white",
            "gridwidth": 2,
            "linecolor": "white",
            "showbackground": true,
            "ticks": "",
            "zerolinecolor": "white"
           }
          },
          "shapedefaults": {
           "line": {
            "color": "#2a3f5f"
           }
          },
          "ternary": {
           "aaxis": {
            "gridcolor": "white",
            "linecolor": "white",
            "ticks": ""
           },
           "baxis": {
            "gridcolor": "white",
            "linecolor": "white",
            "ticks": ""
           },
           "bgcolor": "#E5ECF6",
           "caxis": {
            "gridcolor": "white",
            "linecolor": "white",
            "ticks": ""
           }
          },
          "title": {
           "x": 0.05
          },
          "xaxis": {
           "automargin": true,
           "gridcolor": "white",
           "linecolor": "white",
           "ticks": "",
           "title": {
            "standoff": 15
           },
           "zerolinecolor": "white",
           "zerolinewidth": 2
          },
          "yaxis": {
           "automargin": true,
           "gridcolor": "white",
           "linecolor": "white",
           "ticks": "",
           "title": {
            "standoff": 15
           },
           "zerolinecolor": "white",
           "zerolinewidth": 2
          }
         }
        },
        "title": {
         "text": "Hum_PBMC (Correlation=0.999)",
         "x": 0.5,
         "xanchor": "center",
         "y": 0.98,
         "yanchor": "top"
        },
        "width": 1680,
        "xaxis": {
         "anchor": "y",
         "autorange": true,
         "domain": [
          0,
          1
         ],
         "range": [
          37599.8418972332,
          417935.1581027668
         ],
         "title": {
          "text": "Mean Read_Counts"
         },
         "type": "linear"
        },
        "yaxis": {
         "anchor": "x",
         "autorange": true,
         "domain": [
          0,
          1
         ],
         "range": [
          26292.728569592593,
          304469.2714304074
         ],
         "title": {
          "text": "Mean UMI_Counts"
         },
         "type": "linear"
        }
       }
      },
      "image/png": "[encoded data removed]",
      "text/html": [
       "<div>                            <div id=\"467fa69b-264b-471f-b60e-4fe913595ae8\" class=\"plotly-graph-div\" style=\"height:1024px; width:1680px;\"></div>            <script type=\"text/javascript\">                require([\"plotly\"], function(Plotly) {                    window.PLOTLYENV=window.PLOTLYENV || {};                                    if (document.getElementById(\"467fa69b-264b-471f-b60e-4fe913595ae8\")) {                    Plotly.newPlot(                        \"467fa69b-264b-471f-b60e-4fe913595ae8\",                        [{\"hovertemplate\":\"Sample=TAGCTG<br>Read_Counts=%{x}<br>UMI_Counts=%{y}<extra></extra>\",\"legendgroup\":\"TAGCTG\",\"marker\":{\"color\":\"#636efa\",\"symbol\":\"circle\",\"size\":14},\"mode\":\"markers\",\"name\":\"TAGCTG\",\"orientation\":\"v\",\"showlegend\":true,\"x\":[396583],\"xaxis\":\"x\",\"y\":[287807],\"yaxis\":\"y\",\"type\":\"scatter\"},{\"hovertemplate\":\"Sample=GTTGAG<br>Read_Counts=%{x}<br>UMI_Counts=%{y}<extra></extra>\",\"legendgroup\":\"GTTGAG\",\"marker\":{\"color\":\"#EF553B\",\"symbol\":\"circle\",\"size\":14},\"mode\":\"markers\",\"name\":\"GTTGAG\",\"orientation\":\"v\",\"showlegend\":true,\"x\":[391023],\"xaxis\":\"x\",\"y\":[284696],\"yaxis\":\"y\",\"type\":\"scatter\"},{\"hovertemplate\":\"Sample=AAGGCA<br>Read_Counts=%{x}<br>UMI_Counts=%{y}<extra></extra>\",\"legendgroup\":\"AAGGCA\",\"marker\":{\"color\":\"#00cc96\",\"symbol\":\"circle\",\"size\":14},\"mode\":\"markers\",\"name\":\"AAGGCA\",\"orientation\":\"v\",\"showlegend\":true,\"x\":[342484],\"xaxis\":\"x\",\"y\":[248847],\"yaxis\":\"y\",\"type\":\"scatter\"},{\"hovertemplate\":\"Sample=TGGCAG<br>Read_Counts=%{x}<br>UMI_Counts=%{y}<extra></extra>\",\"legendgroup\":\"TGGCAG\",\"marker\":{\"color\":\"#ab63fa\",\"symbol\":\"circle\",\"size\":14},\"mode\":\"markers\",\"name\":\"TGGCAG\",\"orientation\":\"v\",\"showlegend\":true,\"x\":[313123],\"xaxis\":\"x\",\"y\":[228696],\"yaxis\":\"y\",\"type\":\"scatter\"},{\"hovertemplate\":\"Sample=TCGCCA<br>Read_Counts=%{x}<br>UMI_Counts=%{y}<extra></extra>\",\"legendgroup\":\"TCGCCA\",\"marker\":{\"color\":\"#FFA15A\",\"symbol\":\"circle\",\"size\":14},\"mode\":\"markers\",\"name\":\"TCGCCA\",\"orientation\":\"v\",\"showlegend\":true,\"x\":[310003],\"xaxis\":\"x\",\"y\":[227442],\"yaxis\":\"y\",\"type\":\"scatter\"},{\"hovertemplate\":\"Sample=ATAGGT<br>Read_Counts=%{x}<br>UMI_Counts=%{y}<extra></extra>\",\"legendgroup\":\"ATAGGT\",\"marker\":{\"color\":\"#19d3f3\",\"symbol\":\"circle\",\"size\":14},\"mode\":\"markers\",\"name\":\"ATAGGT\",\"orientation\":\"v\",\"showlegend\":true,\"x\":[307139],\"xaxis\":\"x\",\"y\":[223363],\"yaxis\":\"y\",\"type\":\"scatter\"},{\"hovertemplate\":\"Sample=GAACCA<br>Read_Counts=%{x}<br>UMI_Counts=%{y}<extra></extra>\",\"legendgroup\":\"GAACCA\",\"marker\":{\"color\":\"#FF6692\",\"symbol\":\"circle\",\"size\":14},\"mode\":\"markers\",\"name\":\"GAACCA\",\"orientation\":\"v\",\"showlegend\":true,\"x\":[303968],\"xaxis\":\"x\",\"y\":[222342],\"yaxis\":\"y\",\"type\":\"scatter\"},{\"hovertemplate\":\"Sample=TGCGAA<br>Read_Counts=%{x}<br>UMI_Counts=%{y}<extra></extra>\",\"legendgroup\":\"TGCGAA\",\"marker\":{\"color\":\"#B6E880\",\"symbol\":\"circle\",\"size\":14},\"mode\":\"markers\",\"name\":\"TGCGAA\",\"orientation\":\"v\",\"showlegend\":true,\"x\":[299005],\"xaxis\":\"x\",\"y\":[218800],\"yaxis\":\"y\",\"type\":\"scatter\"},{\"hovertemplate\":\"Sample=ATGGTG<br>Read_Counts=%{x}<br>UMI_Counts=%{y}<extra></extra>\",\"legendgroup\":\"ATGGTG\",\"marker\":{\"color\":\"#FF97FF\",\"symbol\":\"circle\",\"size\":14},\"mode\":\"markers\",\"name\":\"ATGGTG\",\"orientation\":\"v\",\"showlegend\":true,\"x\":[299370],\"xaxis\":\"x\",\"y\":[217292],\"yaxis\":\"y\",\"type\":\"scatter\"},{\"hovertemplate\":\"Sample=GTCGGA<br>Read_Counts=%{x}<br>UMI_Counts=%{y}<extra></extra>\",\"legendgroup\":\"GTCGGA\",\"marker\":{\"color\":\"#FECB52\",\"symbol\":\"circle\",\"size\":14},\"mode\":\"markers\",\"name\":\"GTCGGA\",\"orientation\":\"v\",\"showlegend\":true,\"x\":[298093],\"xaxis\":\"x\",\"y\":[216678],\"yaxis\":\"y\",\"type\":\"scatter\"},{\"hovertemplate\":\"Sample=GACCTG<br>Read_Counts=%{x}<br>UMI_Counts=%{y}<extra></extra>\",\"legendgroup\":\"GACCTG\",\"marker\":{\"color\":\"#636efa\",\"symbol\":\"circle\",\"size\":14},\"mode\":\"markers\",\"name\":\"GACCTG\",\"orientation\":\"v\",\"showlegend\":true,\"x\":[291569],\"xaxis\":\"x\",\"y\":[213436],\"yaxis\":\"y\",\"type\":\"scatter\"},{\"hovertemplate\":\"Sample=ATGCAT<br>Read_Counts=%{x}<br>UMI_Counts=%{y}<extra></extra>\",\"legendgroup\":\"ATGCAT\",\"marker\":{\"color\":\"#EF553B\",\"symbol\":\"circle\",\"size\":14},\"mode\":\"markers\",\"name\":\"ATGCAT\",\"orientation\":\"v\",\"showlegend\":true,\"x\":[291062],\"xaxis\":\"x\",\"y\":[212587],\"yaxis\":\"y\",\"type\":\"scatter\"},{\"hovertemplate\":\"Sample=TCTTGG<br>Read_Counts=%{x}<br>UMI_Counts=%{y}<extra></extra>\",\"legendgroup\":\"TCTTGG\",\"marker\":{\"color\":\"#00cc96\",\"symbol\":\"circle\",\"size\":14},\"mode\":\"markers\",\"name\":\"TCTTGG\",\"orientation\":\"v\",\"showlegend\":true,\"x\":[290197],\"xaxis\":\"x\",\"y\":[211515],\"yaxis\":\"y\",\"type\":\"scatter\"},{\"hovertemplate\":\"Sample=TAGGAT<br>Read_Counts=%{x}<br>UMI_Counts=%{y}<extra></extra>\",\"legendgroup\":\"TAGGAT\",\"marker\":{\"color\":\"#ab63fa\",\"symbol\":\"circle\",\"size\":14},\"mode\":\"markers\",\"name\":\"TAGGAT\",\"orientation\":\"v\",\"showlegend\":true,\"x\":[288818],\"xaxis\":\"x\",\"y\":[210201],\"yaxis\":\"y\",\"type\":\"scatter\"},{\"hovertemplate\":\"Sample=AGACGC<br>Read_Counts=%{x}<br>UMI_Counts=%{y}<extra></extra>\",\"legendgroup\":\"AGACGC\",\"marker\":{\"color\":\"#FFA15A\",\"symbol\":\"circle\",\"size\":14},\"mode\":\"markers\",\"name\":\"AGACGC\",\"orientation\":\"v\",\"showlegend\":true,\"x\":[285534],\"xaxis\":\"x\",\"y\":[205972],\"yaxis\":\"y\",\"type\":\"scatter\"},{\"hovertemplate\":\"Sample=GTTGGT<br>Read_Counts=%{x}<br>UMI_Counts=%{y}<extra></extra>\",\"legendgroup\":\"GTTGGT\",\"marker\":{\"color\":\"#19d3f3\",\"symbol\":\"circle\",\"size\":14},\"mode\":\"markers\",\"name\":\"GTTGGT\",\"orientation\":\"v\",\"showlegend\":true,\"x\":[280794],\"xaxis\":\"x\",\"y\":[204617],\"yaxis\":\"y\",\"type\":\"scatter\"},{\"hovertemplate\":\"Sample=CATGAT<br>Read_Counts=%{x}<br>UMI_Counts=%{y}<extra></extra>\",\"legendgroup\":\"CATGAT\",\"marker\":{\"color\":\"#FF6692\",\"symbol\":\"circle\",\"size\":14},\"mode\":\"markers\",\"name\":\"CATGAT\",\"orientation\":\"v\",\"showlegend\":true,\"x\":[278859],\"xaxis\":\"x\",\"y\":[202974],\"yaxis\":\"y\",\"type\":\"scatter\"},{\"hovertemplate\":\"Sample=GCGTCA<br>Read_Counts=%{x}<br>UMI_Counts=%{y}<extra></extra>\",\"legendgroup\":\"GCGTCA\",\"marker\":{\"color\":\"#B6E880\",\"symbol\":\"circle\",\"size\":14},\"mode\":\"markers\",\"name\":\"GCGTCA\",\"orientation\":\"v\",\"showlegend\":true,\"x\":[276673],\"xaxis\":\"x\",\"y\":[201281],\"yaxis\":\"y\",\"type\":\"scatter\"},{\"hovertemplate\":\"Sample=TCACAT<br>Read_Counts=%{x}<br>UMI_Counts=%{y}<extra></extra>\",\"legendgroup\":\"TCACAT\",\"marker\":{\"color\":\"#FF97FF\",\"symbol\":\"circle\",\"size\":14},\"mode\":\"markers\",\"name\":\"TCACAT\",\"orientation\":\"v\",\"showlegend\":true,\"x\":[270622],\"xaxis\":\"x\",\"y\":[197576],\"yaxis\":\"y\",\"type\":\"scatter\"},{\"hovertemplate\":\"Sample=AATCAG<br>Read_Counts=%{x}<br>UMI_Counts=%{y}<extra></extra>\",\"legendgroup\":\"AATCAG\",\"marker\":{\"color\":\"#FECB52\",\"symbol\":\"circle\",\"size\":14},\"mode\":\"markers\",\"name\":\"AATCAG\",\"orientation\":\"v\",\"showlegend\":true,\"x\":[267926],\"xaxis\":\"x\",\"y\":[194817],\"yaxis\":\"y\",\"type\":\"scatter\"},{\"hovertemplate\":\"Sample=TTCTCG<br>Read_Counts=%{x}<br>UMI_Counts=%{y}<extra></extra>\",\"legendgroup\":\"TTCTCG\",\"marker\":{\"color\":\"#636efa\",\"symbol\":\"circle\",\"size\":14},\"mode\":\"markers\",\"name\":\"TTCTCG\",\"orientation\":\"v\",\"showlegend\":true,\"x\":[264633],\"xaxis\":\"x\",\"y\":[194343],\"yaxis\":\"y\",\"type\":\"scatter\"},{\"hovertemplate\":\"Sample=ACTTGT<br>Read_Counts=%{x}<br>UMI_Counts=%{y}<extra></extra>\",\"legendgroup\":\"ACTTGT\",\"marker\":{\"color\":\"#EF553B\",\"symbol\":\"circle\",\"size\":14},\"mode\":\"markers\",\"name\":\"ACTTGT\",\"orientation\":\"v\",\"showlegend\":true,\"x\":[261431],\"xaxis\":\"x\",\"y\":[190692],\"yaxis\":\"y\",\"type\":\"scatter\"},{\"hovertemplate\":\"Sample=TATCCG<br>Read_Counts=%{x}<br>UMI_Counts=%{y}<extra></extra>\",\"legendgroup\":\"TATCCG\",\"marker\":{\"color\":\"#00cc96\",\"symbol\":\"circle\",\"size\":14},\"mode\":\"markers\",\"name\":\"TATCCG\",\"orientation\":\"v\",\"showlegend\":true,\"x\":[257474],\"xaxis\":\"x\",\"y\":[188961],\"yaxis\":\"y\",\"type\":\"scatter\"},{\"hovertemplate\":\"Sample=AACTGA<br>Read_Counts=%{x}<br>UMI_Counts=%{y}<extra></extra>\",\"legendgroup\":\"AACTGA\",\"marker\":{\"color\":\"#ab63fa\",\"symbol\":\"circle\",\"size\":14},\"mode\":\"markers\",\"name\":\"AACTGA\",\"orientation\":\"v\",\"showlegend\":true,\"x\":[257242],\"xaxis\":\"x\",\"y\":[187665],\"yaxis\":\"y\",\"type\":\"scatter\"},{\"hovertemplate\":\"Sample=CTGCTA<br>Read_Counts=%{x}<br>UMI_Counts=%{y}<extra></extra>\",\"legendgroup\":\"CTGCTA\",\"marker\":{\"color\":\"#FFA15A\",\"symbol\":\"circle\",\"size\":14},\"mode\":\"markers\",\"name\":\"CTGCTA\",\"orientation\":\"v\",\"showlegend\":true,\"x\":[249256],\"xaxis\":\"x\",\"y\":[182433],\"yaxis\":\"y\",\"type\":\"scatter\"},{\"hovertemplate\":\"Sample=TTAAGG<br>Read_Counts=%{x}<br>UMI_Counts=%{y}<extra></extra>\",\"legendgroup\":\"TTAAGG\",\"marker\":{\"color\":\"#19d3f3\",\"symbol\":\"circle\",\"size\":14},\"mode\":\"markers\",\"name\":\"TTAAGG\",\"orientation\":\"v\",\"showlegend\":true,\"x\":[245367],\"xaxis\":\"x\",\"y\":[177440],\"yaxis\":\"y\",\"type\":\"scatter\"},{\"hovertemplate\":\"Sample=TGTGGC<br>Read_Counts=%{x}<br>UMI_Counts=%{y}<extra></extra>\",\"legendgroup\":\"TGTGGC\",\"marker\":{\"color\":\"#FF6692\",\"symbol\":\"circle\",\"size\":14},\"mode\":\"markers\",\"name\":\"TGTGGC\",\"orientation\":\"v\",\"showlegend\":true,\"x\":[241632],\"xaxis\":\"x\",\"y\":[176039],\"yaxis\":\"y\",\"type\":\"scatter\"},{\"hovertemplate\":\"Sample=GCACAA<br>Read_Counts=%{x}<br>UMI_Counts=%{y}<extra></extra>\",\"legendgroup\":\"GCACAA\",\"marker\":{\"color\":\"#B6E880\",\"symbol\":\"circle\",\"size\":14},\"mode\":\"markers\",\"name\":\"GCACAA\",\"orientation\":\"v\",\"showlegend\":true,\"x\":[239863],\"xaxis\":\"x\",\"y\":[175344],\"yaxis\":\"y\",\"type\":\"scatter\"},{\"hovertemplate\":\"Sample=ATAGAC<br>Read_Counts=%{x}<br>UMI_Counts=%{y}<extra></extra>\",\"legendgroup\":\"ATAGAC\",\"marker\":{\"color\":\"#FF97FF\",\"symbol\":\"circle\",\"size\":14},\"mode\":\"markers\",\"name\":\"ATAGAC\",\"orientation\":\"v\",\"showlegend\":true,\"x\":[241770],\"xaxis\":\"x\",\"y\":[175136],\"yaxis\":\"y\",\"type\":\"scatter\"},{\"hovertemplate\":\"Sample=CTCTAC<br>Read_Counts=%{x}<br>UMI_Counts=%{y}<extra></extra>\",\"legendgroup\":\"CTCTAC\",\"marker\":{\"color\":\"#FECB52\",\"symbol\":\"circle\",\"size\":14},\"mode\":\"markers\",\"name\":\"CTCTAC\",\"orientation\":\"v\",\"showlegend\":true,\"x\":[239499],\"xaxis\":\"x\",\"y\":[174680],\"yaxis\":\"y\",\"type\":\"scatter\"},{\"hovertemplate\":\"Sample=AGTCCT<br>Read_Counts=%{x}<br>UMI_Counts=%{y}<extra></extra>\",\"legendgroup\":\"AGTCCT\",\"marker\":{\"color\":\"#636efa\",\"symbol\":\"circle\",\"size\":14},\"mode\":\"markers\",\"name\":\"AGTCCT\",\"orientation\":\"v\",\"showlegend\":true,\"x\":[238467],\"xaxis\":\"x\",\"y\":[174369],\"yaxis\":\"y\",\"type\":\"scatter\"},{\"hovertemplate\":\"Sample=AGGTTA<br>Read_Counts=%{x}<br>UMI_Counts=%{y}<extra></extra>\",\"legendgroup\":\"AGGTTA\",\"marker\":{\"color\":\"#EF553B\",\"symbol\":\"circle\",\"size\":14},\"mode\":\"markers\",\"name\":\"AGGTTA\",\"orientation\":\"v\",\"showlegend\":true,\"x\":[238735],\"xaxis\":\"x\",\"y\":[174185],\"yaxis\":\"y\",\"type\":\"scatter\"},{\"hovertemplate\":\"Sample=ACGGAG<br>Read_Counts=%{x}<br>UMI_Counts=%{y}<extra></extra>\",\"legendgroup\":\"ACGGAG\",\"marker\":{\"color\":\"#00cc96\",\"symbol\":\"circle\",\"size\":14},\"mode\":\"markers\",\"name\":\"ACGGAG\",\"orientation\":\"v\",\"showlegend\":true,\"x\":[237848],\"xaxis\":\"x\",\"y\":[173870],\"yaxis\":\"y\",\"type\":\"scatter\"},{\"hovertemplate\":\"Sample=TACACA<br>Read_Counts=%{x}<br>UMI_Counts=%{y}<extra></extra>\",\"legendgroup\":\"TACACA\",\"marker\":{\"color\":\"#ab63fa\",\"symbol\":\"circle\",\"size\":14},\"mode\":\"markers\",\"name\":\"TACACA\",\"orientation\":\"v\",\"showlegend\":true,\"x\":[235814],\"xaxis\":\"x\",\"y\":[171808],\"yaxis\":\"y\",\"type\":\"scatter\"},{\"hovertemplate\":\"Sample=GTCTGG<br>Read_Counts=%{x}<br>UMI_Counts=%{y}<extra></extra>\",\"legendgroup\":\"GTCTGG\",\"marker\":{\"color\":\"#FFA15A\",\"symbol\":\"circle\",\"size\":14},\"mode\":\"markers\",\"name\":\"GTCTGG\",\"orientation\":\"v\",\"showlegend\":true,\"x\":[234849],\"xaxis\":\"x\",\"y\":[171627],\"yaxis\":\"y\",\"type\":\"scatter\"},{\"hovertemplate\":\"Sample=ACGTCT<br>Read_Counts=%{x}<br>UMI_Counts=%{y}<extra></extra>\",\"legendgroup\":\"ACGTCT\",\"marker\":{\"color\":\"#19d3f3\",\"symbol\":\"circle\",\"size\":14},\"mode\":\"markers\",\"name\":\"ACGTCT\",\"orientation\":\"v\",\"showlegend\":true,\"x\":[234620],\"xaxis\":\"x\",\"y\":[171041],\"yaxis\":\"y\",\"type\":\"scatter\"},{\"hovertemplate\":\"Sample=GCCATC<br>Read_Counts=%{x}<br>UMI_Counts=%{y}<extra></extra>\",\"legendgroup\":\"GCCATC\",\"marker\":{\"color\":\"#FF6692\",\"symbol\":\"circle\",\"size\":14},\"mode\":\"markers\",\"name\":\"GCCATC\",\"orientation\":\"v\",\"showlegend\":true,\"x\":[232756],\"xaxis\":\"x\",\"y\":[170300],\"yaxis\":\"y\",\"type\":\"scatter\"},{\"hovertemplate\":\"Sample=CTCCAT<br>Read_Counts=%{x}<br>UMI_Counts=%{y}<extra></extra>\",\"legendgroup\":\"CTCCAT\",\"marker\":{\"color\":\"#B6E880\",\"symbol\":\"circle\",\"size\":14},\"mode\":\"markers\",\"name\":\"CTCCAT\",\"orientation\":\"v\",\"showlegend\":true,\"x\":[233759],\"xaxis\":\"x\",\"y\":[170154],\"yaxis\":\"y\",\"type\":\"scatter\"},{\"hovertemplate\":\"Sample=TATCGA<br>Read_Counts=%{x}<br>UMI_Counts=%{y}<extra></extra>\",\"legendgroup\":\"TATCGA\",\"marker\":{\"color\":\"#FF97FF\",\"symbol\":\"circle\",\"size\":14},\"mode\":\"markers\",\"name\":\"TATCGA\",\"orientation\":\"v\",\"showlegend\":true,\"x\":[234558],\"xaxis\":\"x\",\"y\":[170050],\"yaxis\":\"y\",\"type\":\"scatter\"},{\"hovertemplate\":\"Sample=GAGGTC<br>Read_Counts=%{x}<br>UMI_Counts=%{y}<extra></extra>\",\"legendgroup\":\"GAGGTC\",\"marker\":{\"color\":\"#FECB52\",\"symbol\":\"circle\",\"size\":14},\"mode\":\"markers\",\"name\":\"GAGGTC\",\"orientation\":\"v\",\"showlegend\":true,\"x\":[232759],\"xaxis\":\"x\",\"y\":[169872],\"yaxis\":\"y\",\"type\":\"scatter\"},{\"hovertemplate\":\"Sample=TCTAGT<br>Read_Counts=%{x}<br>UMI_Counts=%{y}<extra></extra>\",\"legendgroup\":\"TCTAGT\",\"marker\":{\"color\":\"#636efa\",\"symbol\":\"circle\",\"size\":14},\"mode\":\"markers\",\"name\":\"TCTAGT\",\"orientation\":\"v\",\"showlegend\":true,\"x\":[231492],\"xaxis\":\"x\",\"y\":[169059],\"yaxis\":\"y\",\"type\":\"scatter\"},{\"hovertemplate\":\"Sample=CGCAAC<br>Read_Counts=%{x}<br>UMI_Counts=%{y}<extra></extra>\",\"legendgroup\":\"CGCAAC\",\"marker\":{\"color\":\"#EF553B\",\"symbol\":\"circle\",\"size\":14},\"mode\":\"markers\",\"name\":\"CGCAAC\",\"orientation\":\"v\",\"showlegend\":true,\"x\":[228900],\"xaxis\":\"x\",\"y\":[167073],\"yaxis\":\"y\",\"type\":\"scatter\"},{\"hovertemplate\":\"Sample=CAACCG<br>Read_Counts=%{x}<br>UMI_Counts=%{y}<extra></extra>\",\"legendgroup\":\"CAACCG\",\"marker\":{\"color\":\"#00cc96\",\"symbol\":\"circle\",\"size\":14},\"mode\":\"markers\",\"name\":\"CAACCG\",\"orientation\":\"v\",\"showlegend\":true,\"x\":[226732],\"xaxis\":\"x\",\"y\":[165805],\"yaxis\":\"y\",\"type\":\"scatter\"},{\"hovertemplate\":\"Sample=TCTCTA<br>Read_Counts=%{x}<br>UMI_Counts=%{y}<extra></extra>\",\"legendgroup\":\"TCTCTA\",\"marker\":{\"color\":\"#ab63fa\",\"symbol\":\"circle\",\"size\":14},\"mode\":\"markers\",\"name\":\"TCTCTA\",\"orientation\":\"v\",\"showlegend\":true,\"x\":[225675],\"xaxis\":\"x\",\"y\":[164133],\"yaxis\":\"y\",\"type\":\"scatter\"},{\"hovertemplate\":\"Sample=CTAAGA<br>Read_Counts=%{x}<br>UMI_Counts=%{y}<extra></extra>\",\"legendgroup\":\"CTAAGA\",\"marker\":{\"color\":\"#FFA15A\",\"symbol\":\"circle\",\"size\":14},\"mode\":\"markers\",\"name\":\"CTAAGA\",\"orientation\":\"v\",\"showlegend\":true,\"x\":[223012],\"xaxis\":\"x\",\"y\":[162432],\"yaxis\":\"y\",\"type\":\"scatter\"},{\"hovertemplate\":\"Sample=TATGGT<br>Read_Counts=%{x}<br>UMI_Counts=%{y}<extra></extra>\",\"legendgroup\":\"TATGGT\",\"marker\":{\"color\":\"#19d3f3\",\"symbol\":\"circle\",\"size\":14},\"mode\":\"markers\",\"name\":\"TATGGT\",\"orientation\":\"v\",\"showlegend\":true,\"x\":[221301],\"xaxis\":\"x\",\"y\":[161452],\"yaxis\":\"y\",\"type\":\"scatter\"},{\"hovertemplate\":\"Sample=ACATGG<br>Read_Counts=%{x}<br>UMI_Counts=%{y}<extra></extra>\",\"legendgroup\":\"ACATGG\",\"marker\":{\"color\":\"#FF6692\",\"symbol\":\"circle\",\"size\":14},\"mode\":\"markers\",\"name\":\"ACATGG\",\"orientation\":\"v\",\"showlegend\":true,\"x\":[219779],\"xaxis\":\"x\",\"y\":[160683],\"yaxis\":\"y\",\"type\":\"scatter\"},{\"hovertemplate\":\"Sample=CATTGG<br>Read_Counts=%{x}<br>UMI_Counts=%{y}<extra></extra>\",\"legendgroup\":\"CATTGG\",\"marker\":{\"color\":\"#B6E880\",\"symbol\":\"circle\",\"size\":14},\"mode\":\"markers\",\"name\":\"CATTGG\",\"orientation\":\"v\",\"showlegend\":true,\"x\":[222036],\"xaxis\":\"x\",\"y\":[160574],\"yaxis\":\"y\",\"type\":\"scatter\"},{\"hovertemplate\":\"Sample=ACAACG<br>Read_Counts=%{x}<br>UMI_Counts=%{y}<extra></extra>\",\"legendgroup\":\"ACAACG\",\"marker\":{\"color\":\"#FF97FF\",\"symbol\":\"circle\",\"size\":14},\"mode\":\"markers\",\"name\":\"ACAACG\",\"orientation\":\"v\",\"showlegend\":true,\"x\":[214625],\"xaxis\":\"x\",\"y\":[156903],\"yaxis\":\"y\",\"type\":\"scatter\"},{\"hovertemplate\":\"Sample=CGTTGC<br>Read_Counts=%{x}<br>UMI_Counts=%{y}<extra></extra>\",\"legendgroup\":\"CGTTGC\",\"marker\":{\"color\":\"#FECB52\",\"symbol\":\"circle\",\"size\":14},\"mode\":\"markers\",\"name\":\"CGTTGC\",\"orientation\":\"v\",\"showlegend\":true,\"x\":[188148],\"xaxis\":\"x\",\"y\":[154680],\"yaxis\":\"y\",\"type\":\"scatter\"},{\"hovertemplate\":\"Sample=AAGCGT<br>Read_Counts=%{x}<br>UMI_Counts=%{y}<extra></extra>\",\"legendgroup\":\"AAGCGT\",\"marker\":{\"color\":\"#636efa\",\"symbol\":\"circle\",\"size\":14},\"mode\":\"markers\",\"name\":\"AAGCGT\",\"orientation\":\"v\",\"showlegend\":true,\"x\":[211728],\"xaxis\":\"x\",\"y\":[153997],\"yaxis\":\"y\",\"type\":\"scatter\"},{\"hovertemplate\":\"Sample=GAACTC<br>Read_Counts=%{x}<br>UMI_Counts=%{y}<extra></extra>\",\"legendgroup\":\"GAACTC\",\"marker\":{\"color\":\"#EF553B\",\"symbol\":\"circle\",\"size\":14},\"mode\":\"markers\",\"name\":\"GAACTC\",\"orientation\":\"v\",\"showlegend\":true,\"x\":[208977],\"xaxis\":\"x\",\"y\":[152708],\"yaxis\":\"y\",\"type\":\"scatter\"},{\"hovertemplate\":\"Sample=GACTAT<br>Read_Counts=%{x}<br>UMI_Counts=%{y}<extra></extra>\",\"legendgroup\":\"GACTAT\",\"marker\":{\"color\":\"#00cc96\",\"symbol\":\"circle\",\"size\":14},\"mode\":\"markers\",\"name\":\"GACTAT\",\"orientation\":\"v\",\"showlegend\":true,\"x\":[209426],\"xaxis\":\"x\",\"y\":[152098],\"yaxis\":\"y\",\"type\":\"scatter\"},{\"hovertemplate\":\"Sample=ACATCA<br>Read_Counts=%{x}<br>UMI_Counts=%{y}<extra></extra>\",\"legendgroup\":\"ACATCA\",\"marker\":{\"color\":\"#ab63fa\",\"symbol\":\"circle\",\"size\":14},\"mode\":\"markers\",\"name\":\"ACATCA\",\"orientation\":\"v\",\"showlegend\":true,\"x\":[207653],\"xaxis\":\"x\",\"y\":[151875],\"yaxis\":\"y\",\"type\":\"scatter\"},{\"hovertemplate\":\"Sample=TCTTAC<br>Read_Counts=%{x}<br>UMI_Counts=%{y}<extra></extra>\",\"legendgroup\":\"TCTTAC\",\"marker\":{\"color\":\"#FFA15A\",\"symbol\":\"circle\",\"size\":14},\"mode\":\"markers\",\"name\":\"TCTTAC\",\"orientation\":\"v\",\"showlegend\":true,\"x\":[206335],\"xaxis\":\"x\",\"y\":[150908],\"yaxis\":\"y\",\"type\":\"scatter\"},{\"hovertemplate\":\"Sample=GTGATT<br>Read_Counts=%{x}<br>UMI_Counts=%{y}<extra></extra>\",\"legendgroup\":\"GTGATT\",\"marker\":{\"color\":\"#19d3f3\",\"symbol\":\"circle\",\"size\":14},\"mode\":\"markers\",\"name\":\"GTGATT\",\"orientation\":\"v\",\"showlegend\":true,\"x\":[207344],\"xaxis\":\"x\",\"y\":[150794],\"yaxis\":\"y\",\"type\":\"scatter\"},{\"hovertemplate\":\"Sample=TCATGC<br>Read_Counts=%{x}<br>UMI_Counts=%{y}<extra></extra>\",\"legendgroup\":\"TCATGC\",\"marker\":{\"color\":\"#FF6692\",\"symbol\":\"circle\",\"size\":14},\"mode\":\"markers\",\"name\":\"TCATGC\",\"orientation\":\"v\",\"showlegend\":true,\"x\":[206137],\"xaxis\":\"x\",\"y\":[150306],\"yaxis\":\"y\",\"type\":\"scatter\"},{\"hovertemplate\":\"Sample=CTCTTG<br>Read_Counts=%{x}<br>UMI_Counts=%{y}<extra></extra>\",\"legendgroup\":\"CTCTTG\",\"marker\":{\"color\":\"#B6E880\",\"symbol\":\"circle\",\"size\":14},\"mode\":\"markers\",\"name\":\"CTCTTG\",\"orientation\":\"v\",\"showlegend\":true,\"x\":[205340],\"xaxis\":\"x\",\"y\":[149988],\"yaxis\":\"y\",\"type\":\"scatter\"},{\"hovertemplate\":\"Sample=CCTATA<br>Read_Counts=%{x}<br>UMI_Counts=%{y}<extra></extra>\",\"legendgroup\":\"CCTATA\",\"marker\":{\"color\":\"#FF97FF\",\"symbol\":\"circle\",\"size\":14},\"mode\":\"markers\",\"name\":\"CCTATA\",\"orientation\":\"v\",\"showlegend\":true,\"x\":[205792],\"xaxis\":\"x\",\"y\":[149030],\"yaxis\":\"y\",\"type\":\"scatter\"},{\"hovertemplate\":\"Sample=TCGAGC<br>Read_Counts=%{x}<br>UMI_Counts=%{y}<extra></extra>\",\"legendgroup\":\"TCGAGC\",\"marker\":{\"color\":\"#FECB52\",\"symbol\":\"circle\",\"size\":14},\"mode\":\"markers\",\"name\":\"TCGAGC\",\"orientation\":\"v\",\"showlegend\":true,\"x\":[205005],\"xaxis\":\"x\",\"y\":[149024],\"yaxis\":\"y\",\"type\":\"scatter\"},{\"hovertemplate\":\"Sample=CAGACC<br>Read_Counts=%{x}<br>UMI_Counts=%{y}<extra></extra>\",\"legendgroup\":\"CAGACC\",\"marker\":{\"color\":\"#636efa\",\"symbol\":\"circle\",\"size\":14},\"mode\":\"markers\",\"name\":\"CAGACC\",\"orientation\":\"v\",\"showlegend\":true,\"x\":[201708],\"xaxis\":\"x\",\"y\":[147068],\"yaxis\":\"y\",\"type\":\"scatter\"},{\"hovertemplate\":\"Sample=TATGTG<br>Read_Counts=%{x}<br>UMI_Counts=%{y}<extra></extra>\",\"legendgroup\":\"TATGTG\",\"marker\":{\"color\":\"#EF553B\",\"symbol\":\"circle\",\"size\":14},\"mode\":\"markers\",\"name\":\"TATGTG\",\"orientation\":\"v\",\"showlegend\":true,\"x\":[201172],\"xaxis\":\"x\",\"y\":[146138],\"yaxis\":\"y\",\"type\":\"scatter\"},{\"hovertemplate\":\"Sample=CGCACA<br>Read_Counts=%{x}<br>UMI_Counts=%{y}<extra></extra>\",\"legendgroup\":\"CGCACA\",\"marker\":{\"color\":\"#00cc96\",\"symbol\":\"circle\",\"size\":14},\"mode\":\"markers\",\"name\":\"CGCACA\",\"orientation\":\"v\",\"showlegend\":true,\"x\":[199460],\"xaxis\":\"x\",\"y\":[145540],\"yaxis\":\"y\",\"type\":\"scatter\"},{\"hovertemplate\":\"Sample=ATTGGC<br>Read_Counts=%{x}<br>UMI_Counts=%{y}<extra></extra>\",\"legendgroup\":\"ATTGGC\",\"marker\":{\"color\":\"#ab63fa\",\"symbol\":\"circle\",\"size\":14},\"mode\":\"markers\",\"name\":\"ATTGGC\",\"orientation\":\"v\",\"showlegend\":true,\"x\":[199405],\"xaxis\":\"x\",\"y\":[144521],\"yaxis\":\"y\",\"type\":\"scatter\"},{\"hovertemplate\":\"Sample=GTGACG<br>Read_Counts=%{x}<br>UMI_Counts=%{y}<extra></extra>\",\"legendgroup\":\"GTGACG\",\"marker\":{\"color\":\"#FFA15A\",\"symbol\":\"circle\",\"size\":14},\"mode\":\"markers\",\"name\":\"GTGACG\",\"orientation\":\"v\",\"showlegend\":true,\"x\":[197462],\"xaxis\":\"x\",\"y\":[144380],\"yaxis\":\"y\",\"type\":\"scatter\"},{\"hovertemplate\":\"Sample=TTCCGT<br>Read_Counts=%{x}<br>UMI_Counts=%{y}<extra></extra>\",\"legendgroup\":\"TTCCGT\",\"marker\":{\"color\":\"#19d3f3\",\"symbol\":\"circle\",\"size\":14},\"mode\":\"markers\",\"name\":\"TTCCGT\",\"orientation\":\"v\",\"showlegend\":true,\"x\":[194505],\"xaxis\":\"x\",\"y\":[142341],\"yaxis\":\"y\",\"type\":\"scatter\"},{\"hovertemplate\":\"Sample=AGCGCT<br>Read_Counts=%{x}<br>UMI_Counts=%{y}<extra></extra>\",\"legendgroup\":\"AGCGCT\",\"marker\":{\"color\":\"#FF6692\",\"symbol\":\"circle\",\"size\":14},\"mode\":\"markers\",\"name\":\"AGCGCT\",\"orientation\":\"v\",\"showlegend\":true,\"x\":[193718],\"xaxis\":\"x\",\"y\":[141091],\"yaxis\":\"y\",\"type\":\"scatter\"},{\"hovertemplate\":\"Sample=CATCTT<br>Read_Counts=%{x}<br>UMI_Counts=%{y}<extra></extra>\",\"legendgroup\":\"CATCTT\",\"marker\":{\"color\":\"#B6E880\",\"symbol\":\"circle\",\"size\":14},\"mode\":\"markers\",\"name\":\"CATCTT\",\"orientation\":\"v\",\"showlegend\":true,\"x\":[192532],\"xaxis\":\"x\",\"y\":[140669],\"yaxis\":\"y\",\"type\":\"scatter\"},{\"hovertemplate\":\"Sample=CCAACA<br>Read_Counts=%{x}<br>UMI_Counts=%{y}<extra></extra>\",\"legendgroup\":\"CCAACA\",\"marker\":{\"color\":\"#FF97FF\",\"symbol\":\"circle\",\"size\":14},\"mode\":\"markers\",\"name\":\"CCAACA\",\"orientation\":\"v\",\"showlegend\":true,\"x\":[190546],\"xaxis\":\"x\",\"y\":[139168],\"yaxis\":\"y\",\"type\":\"scatter\"},{\"hovertemplate\":\"Sample=TCGAAT<br>Read_Counts=%{x}<br>UMI_Counts=%{y}<extra></extra>\",\"legendgroup\":\"TCGAAT\",\"marker\":{\"color\":\"#FECB52\",\"symbol\":\"circle\",\"size\":14},\"mode\":\"markers\",\"name\":\"TCGAAT\",\"orientation\":\"v\",\"showlegend\":true,\"x\":[189188],\"xaxis\":\"x\",\"y\":[137773],\"yaxis\":\"y\",\"type\":\"scatter\"},{\"hovertemplate\":\"Sample=ATCCTC<br>Read_Counts=%{x}<br>UMI_Counts=%{y}<extra></extra>\",\"legendgroup\":\"ATCCTC\",\"marker\":{\"color\":\"#636efa\",\"symbol\":\"circle\",\"size\":14},\"mode\":\"markers\",\"name\":\"ATCCTC\",\"orientation\":\"v\",\"showlegend\":true,\"x\":[186484],\"xaxis\":\"x\",\"y\":[137034],\"yaxis\":\"y\",\"type\":\"scatter\"},{\"hovertemplate\":\"Sample=GTTCAT<br>Read_Counts=%{x}<br>UMI_Counts=%{y}<extra></extra>\",\"legendgroup\":\"GTTCAT\",\"marker\":{\"color\":\"#EF553B\",\"symbol\":\"circle\",\"size\":14},\"mode\":\"markers\",\"name\":\"GTTCAT\",\"orientation\":\"v\",\"showlegend\":true,\"x\":[181530],\"xaxis\":\"x\",\"y\":[131985],\"yaxis\":\"y\",\"type\":\"scatter\"},{\"hovertemplate\":\"Sample=ATCCAA<br>Read_Counts=%{x}<br>UMI_Counts=%{y}<extra></extra>\",\"legendgroup\":\"ATCCAA\",\"marker\":{\"color\":\"#00cc96\",\"symbol\":\"circle\",\"size\":14},\"mode\":\"markers\",\"name\":\"ATCCAA\",\"orientation\":\"v\",\"showlegend\":true,\"x\":[172195],\"xaxis\":\"x\",\"y\":[125180],\"yaxis\":\"y\",\"type\":\"scatter\"},{\"hovertemplate\":\"Sample=GATCAC<br>Read_Counts=%{x}<br>UMI_Counts=%{y}<extra></extra>\",\"legendgroup\":\"GATCAC\",\"marker\":{\"color\":\"#ab63fa\",\"symbol\":\"circle\",\"size\":14},\"mode\":\"markers\",\"name\":\"GATCAC\",\"orientation\":\"v\",\"showlegend\":true,\"x\":[169970],\"xaxis\":\"x\",\"y\":[123182],\"yaxis\":\"y\",\"type\":\"scatter\"},{\"hovertemplate\":\"Sample=CCTGTG<br>Read_Counts=%{x}<br>UMI_Counts=%{y}<extra></extra>\",\"legendgroup\":\"CCTGTG\",\"marker\":{\"color\":\"#FFA15A\",\"symbol\":\"circle\",\"size\":14},\"mode\":\"markers\",\"name\":\"CCTGTG\",\"orientation\":\"v\",\"showlegend\":true,\"x\":[168539],\"xaxis\":\"x\",\"y\":[122619],\"yaxis\":\"y\",\"type\":\"scatter\"},{\"hovertemplate\":\"Sample=TAGCCT<br>Read_Counts=%{x}<br>UMI_Counts=%{y}<extra></extra>\",\"legendgroup\":\"TAGCCT\",\"marker\":{\"color\":\"#19d3f3\",\"symbol\":\"circle\",\"size\":14},\"mode\":\"markers\",\"name\":\"TAGCCT\",\"orientation\":\"v\",\"showlegend\":true,\"x\":[167543],\"xaxis\":\"x\",\"y\":[122083],\"yaxis\":\"y\",\"type\":\"scatter\"},{\"hovertemplate\":\"Sample=CAGGTA<br>Read_Counts=%{x}<br>UMI_Counts=%{y}<extra></extra>\",\"legendgroup\":\"CAGGTA\",\"marker\":{\"color\":\"#FF6692\",\"symbol\":\"circle\",\"size\":14},\"mode\":\"markers\",\"name\":\"CAGGTA\",\"orientation\":\"v\",\"showlegend\":true,\"x\":[165609],\"xaxis\":\"x\",\"y\":[120064],\"yaxis\":\"y\",\"type\":\"scatter\"},{\"hovertemplate\":\"Sample=ACGATA<br>Read_Counts=%{x}<br>UMI_Counts=%{y}<extra></extra>\",\"legendgroup\":\"ACGATA\",\"marker\":{\"color\":\"#B6E880\",\"symbol\":\"circle\",\"size\":14},\"mode\":\"markers\",\"name\":\"ACGATA\",\"orientation\":\"v\",\"showlegend\":true,\"x\":[164639],\"xaxis\":\"x\",\"y\":[119765],\"yaxis\":\"y\",\"type\":\"scatter\"},{\"hovertemplate\":\"Sample=TCCATT<br>Read_Counts=%{x}<br>UMI_Counts=%{y}<extra></extra>\",\"legendgroup\":\"TCCATT\",\"marker\":{\"color\":\"#FF97FF\",\"symbol\":\"circle\",\"size\":14},\"mode\":\"markers\",\"name\":\"TCCATT\",\"orientation\":\"v\",\"showlegend\":true,\"x\":[162814],\"xaxis\":\"x\",\"y\":[118367],\"yaxis\":\"y\",\"type\":\"scatter\"},{\"hovertemplate\":\"Sample=CAAGTT<br>Read_Counts=%{x}<br>UMI_Counts=%{y}<extra></extra>\",\"legendgroup\":\"CAAGTT\",\"marker\":{\"color\":\"#FECB52\",\"symbol\":\"circle\",\"size\":14},\"mode\":\"markers\",\"name\":\"CAAGTT\",\"orientation\":\"v\",\"showlegend\":true,\"x\":[162439],\"xaxis\":\"x\",\"y\":[118093],\"yaxis\":\"y\",\"type\":\"scatter\"},{\"hovertemplate\":\"Sample=TGCCAT<br>Read_Counts=%{x}<br>UMI_Counts=%{y}<extra></extra>\",\"legendgroup\":\"TGCCAT\",\"marker\":{\"color\":\"#636efa\",\"symbol\":\"circle\",\"size\":14},\"mode\":\"markers\",\"name\":\"TGCCAT\",\"orientation\":\"v\",\"showlegend\":true,\"x\":[159358],\"xaxis\":\"x\",\"y\":[115914],\"yaxis\":\"y\",\"type\":\"scatter\"},{\"hovertemplate\":\"Sample=TCGATG<br>Read_Counts=%{x}<br>UMI_Counts=%{y}<extra></extra>\",\"legendgroup\":\"TCGATG\",\"marker\":{\"color\":\"#EF553B\",\"symbol\":\"circle\",\"size\":14},\"mode\":\"markers\",\"name\":\"TCGATG\",\"orientation\":\"v\",\"showlegend\":true,\"x\":[158383],\"xaxis\":\"x\",\"y\":[115241],\"yaxis\":\"y\",\"type\":\"scatter\"},{\"hovertemplate\":\"Sample=AACTCC<br>Read_Counts=%{x}<br>UMI_Counts=%{y}<extra></extra>\",\"legendgroup\":\"AACTCC\",\"marker\":{\"color\":\"#00cc96\",\"symbol\":\"circle\",\"size\":14},\"mode\":\"markers\",\"name\":\"AACTCC\",\"orientation\":\"v\",\"showlegend\":true,\"x\":[149173],\"xaxis\":\"x\",\"y\":[110042],\"yaxis\":\"y\",\"type\":\"scatter\"},{\"hovertemplate\":\"Sample=CGGTGT<br>Read_Counts=%{x}<br>UMI_Counts=%{y}<extra></extra>\",\"legendgroup\":\"CGGTGT\",\"marker\":{\"color\":\"#ab63fa\",\"symbol\":\"circle\",\"size\":14},\"mode\":\"markers\",\"name\":\"CGGTGT\",\"orientation\":\"v\",\"showlegend\":true,\"x\":[144223],\"xaxis\":\"x\",\"y\":[107161],\"yaxis\":\"y\",\"type\":\"scatter\"},{\"hovertemplate\":\"Sample=TCAACT<br>Read_Counts=%{x}<br>UMI_Counts=%{y}<extra></extra>\",\"legendgroup\":\"TCAACT\",\"marker\":{\"color\":\"#FFA15A\",\"symbol\":\"circle\",\"size\":14},\"mode\":\"markers\",\"name\":\"TCAACT\",\"orientation\":\"v\",\"showlegend\":true,\"x\":[145931],\"xaxis\":\"x\",\"y\":[106192],\"yaxis\":\"y\",\"type\":\"scatter\"},{\"hovertemplate\":\"Sample=TTGACT<br>Read_Counts=%{x}<br>UMI_Counts=%{y}<extra></extra>\",\"legendgroup\":\"TTGACT\",\"marker\":{\"color\":\"#19d3f3\",\"symbol\":\"circle\",\"size\":14},\"mode\":\"markers\",\"name\":\"TTGACT\",\"orientation\":\"v\",\"showlegend\":true,\"x\":[138361],\"xaxis\":\"x\",\"y\":[101004],\"yaxis\":\"y\",\"type\":\"scatter\"},{\"hovertemplate\":\"Sample=CTCACC<br>Read_Counts=%{x}<br>UMI_Counts=%{y}<extra></extra>\",\"legendgroup\":\"CTCACC\",\"marker\":{\"color\":\"#FF6692\",\"symbol\":\"circle\",\"size\":14},\"mode\":\"markers\",\"name\":\"CTCACC\",\"orientation\":\"v\",\"showlegend\":true,\"x\":[132261],\"xaxis\":\"x\",\"y\":[97386],\"yaxis\":\"y\",\"type\":\"scatter\"},{\"hovertemplate\":\"Sample=GGAGAG<br>Read_Counts=%{x}<br>UMI_Counts=%{y}<extra></extra>\",\"legendgroup\":\"GGAGAG\",\"marker\":{\"color\":\"#B6E880\",\"symbol\":\"circle\",\"size\":14},\"mode\":\"markers\",\"name\":\"GGAGAG\",\"orientation\":\"v\",\"showlegend\":true,\"x\":[131863],\"xaxis\":\"x\",\"y\":[95574],\"yaxis\":\"y\",\"type\":\"scatter\"},{\"hovertemplate\":\"Sample=CTGCGT<br>Read_Counts=%{x}<br>UMI_Counts=%{y}<extra></extra>\",\"legendgroup\":\"CTGCGT\",\"marker\":{\"color\":\"#FF97FF\",\"symbol\":\"circle\",\"size\":14},\"mode\":\"markers\",\"name\":\"CTGCGT\",\"orientation\":\"v\",\"showlegend\":true,\"x\":[124805],\"xaxis\":\"x\",\"y\":[90622],\"yaxis\":\"y\",\"type\":\"scatter\"},{\"hovertemplate\":\"Sample=GCCGTA<br>Read_Counts=%{x}<br>UMI_Counts=%{y}<extra></extra>\",\"legendgroup\":\"GCCGTA\",\"marker\":{\"color\":\"#FECB52\",\"symbol\":\"circle\",\"size\":14},\"mode\":\"markers\",\"name\":\"GCCGTA\",\"orientation\":\"v\",\"showlegend\":true,\"x\":[123987],\"xaxis\":\"x\",\"y\":[90271],\"yaxis\":\"y\",\"type\":\"scatter\"},{\"hovertemplate\":\"Sample=TCCGTC<br>Read_Counts=%{x}<br>UMI_Counts=%{y}<extra></extra>\",\"legendgroup\":\"TCCGTC\",\"marker\":{\"color\":\"#636efa\",\"symbol\":\"circle\",\"size\":14},\"mode\":\"markers\",\"name\":\"TCCGTC\",\"orientation\":\"v\",\"showlegend\":true,\"x\":[113194],\"xaxis\":\"x\",\"y\":[82622],\"yaxis\":\"y\",\"type\":\"scatter\"},{\"hovertemplate\":\"Sample=CGTAAT<br>Read_Counts=%{x}<br>UMI_Counts=%{y}<extra></extra>\",\"legendgroup\":\"CGTAAT\",\"marker\":{\"color\":\"#EF553B\",\"symbol\":\"circle\",\"size\":14},\"mode\":\"markers\",\"name\":\"CGTAAT\",\"orientation\":\"v\",\"showlegend\":true,\"x\":[109136],\"xaxis\":\"x\",\"y\":[79323],\"yaxis\":\"y\",\"type\":\"scatter\"},{\"hovertemplate\":\"Sample=TTCTGA<br>Read_Counts=%{x}<br>UMI_Counts=%{y}<extra></extra>\",\"legendgroup\":\"TTCTGA\",\"marker\":{\"color\":\"#00cc96\",\"symbol\":\"circle\",\"size\":14},\"mode\":\"markers\",\"name\":\"TTCTGA\",\"orientation\":\"v\",\"showlegend\":true,\"x\":[104538],\"xaxis\":\"x\",\"y\":[75866],\"yaxis\":\"y\",\"type\":\"scatter\"},{\"hovertemplate\":\"Sample=CGCTTA<br>Read_Counts=%{x}<br>UMI_Counts=%{y}<extra></extra>\",\"legendgroup\":\"CGCTTA\",\"marker\":{\"color\":\"#ab63fa\",\"symbol\":\"circle\",\"size\":14},\"mode\":\"markers\",\"name\":\"CGCTTA\",\"orientation\":\"v\",\"showlegend\":true,\"x\":[62547],\"xaxis\":\"x\",\"y\":[59967],\"yaxis\":\"y\",\"type\":\"scatter\"},{\"hovertemplate\":\"Sample=CCAATG<br>Read_Counts=%{x}<br>UMI_Counts=%{y}<extra></extra>\",\"legendgroup\":\"CCAATG\",\"marker\":{\"color\":\"#FFA15A\",\"symbol\":\"circle\",\"size\":14},\"mode\":\"markers\",\"name\":\"CCAATG\",\"orientation\":\"v\",\"showlegend\":true,\"x\":[66560],\"xaxis\":\"x\",\"y\":[48872],\"yaxis\":\"y\",\"type\":\"scatter\"},{\"hovertemplate\":\"Sample=CGACTC<br>Read_Counts=%{x}<br>UMI_Counts=%{y}<extra></extra>\",\"legendgroup\":\"CGACTC\",\"marker\":{\"color\":\"#19d3f3\",\"symbol\":\"circle\",\"size\":14},\"mode\":\"markers\",\"name\":\"CGACTC\",\"orientation\":\"v\",\"showlegend\":true,\"x\":[58952],\"xaxis\":\"x\",\"y\":[42955],\"yaxis\":\"y\",\"type\":\"scatter\"}],                        {\"template\":{\"data\":{\"histogram2dcontour\":[{\"type\":\"histogram2dcontour\",\"colorbar\":{\"outlinewidth\":0,\"ticks\":\"\"},\"colorscale\":[[0.0,\"#0d0887\"],[0.1111111111111111,\"#46039f\"],[0.2222222222222222,\"#7201a8\"],[0.3333333333333333,\"#9c179e\"],[0.4444444444444444,\"#bd3786\"],[0.5555555555555556,\"#d8576b\"],[0.6666666666666666,\"#ed7953\"],[0.7777777777777778,\"#fb9f3a\"],[0.8888888888888888,\"#fdca26\"],[1.0,\"#f0f921\"]]}],\"choropleth\":[{\"type\":\"choropleth\",\"colorbar\":{\"outlinewidth\":0,\"ticks\":\"\"}}],\"histogram2d\":[{\"type\":\"histogram2d\",\"colorbar\":{\"outlinewidth\":0,\"ticks\":\"\"},\"colorscale\":[[0.0,\"#0d0887\"],[0.1111111111111111,\"#46039f\"],[0.2222222222222222,\"#7201a8\"],[0.3333333333333333,\"#9c179e\"],[0.4444444444444444,\"#bd3786\"],[0.5555555555555556,\"#d8576b\"],[0.6666666666666666,\"#ed7953\"],[0.7777777777777778,\"#fb9f3a\"],[0.8888888888888888,\"#fdca26\"],[1.0,\"#f0f921\"]]}],\"heatmap\":[{\"type\":\"heatmap\",\"colorbar\":{\"outlinewidth\":0,\"ticks\":\"\"},\"colorscale\":[[0.0,\"#0d0887\"],[0.1111111111111111,\"#46039f\"],[0.2222222222222222,\"#7201a8\"],[0.3333333333333333,\"#9c179e\"],[0.4444444444444444,\"#bd3786\"],[0.5555555555555556,\"#d8576b\"],[0.6666666666666666,\"#ed7953\"],[0.7777777777777778,\"#fb9f3a\"],[0.8888888888888888,\"#fdca26\"],[1.0,\"#f0f921\"]]}],\"heatmapgl\":[{\"type\":\"heatmapgl\",\"colorbar\":{\"outlinewidth\":0,\"ticks\":\"\"},\"colorscale\":[[0.0,\"#0d0887\"],[0.1111111111111111,\"#46039f\"],[0.2222222222222222,\"#7201a8\"],[0.3333333333333333,\"#9c179e\"],[0.4444444444444444,\"#bd3786\"],[0.5555555555555556,\"#d8576b\"],[0.6666666666666666,\"#ed7953\"],[0.7777777777777778,\"#fb9f3a\"],[0.8888888888888888,\"#fdca26\"],[1.0,\"#f0f921\"]]}],\"contourcarpet\":[{\"type\":\"contourcarpet\",\"colorbar\":{\"outlinewidth\":0,\"ticks\":\"\"}}],\"contour\":[{\"type\":\"contour\",\"colorbar\":{\"outlinewidth\":0,\"ticks\":\"\"},\"colorscale\":[[0.0,\"#0d0887\"],[0.1111111111111111,\"#46039f\"],[0.2222222222222222,\"#7201a8\"],[0.3333333333333333,\"#9c179e\"],[0.4444444444444444,\"#bd3786\"],[0.5555555555555556,\"#d8576b\"],[0.6666666666666666,\"#ed7953\"],[0.7777777777777778,\"#fb9f3a\"],[0.8888888888888888,\"#fdca26\"],[1.0,\"#f0f921\"]]}],\"surface\":[{\"type\":\"surface\",\"colorbar\":{\"outlinewidth\":0,\"ticks\":\"\"},\"colorscale\":[[0.0,\"#0d0887\"],[0.1111111111111111,\"#46039f\"],[0.2222222222222222,\"#7201a8\"],[0.3333333333333333,\"#9c179e\"],[0.4444444444444444,\"#bd3786\"],[0.5555555555555556,\"#d8576b\"],[0.6666666666666666,\"#ed7953\"],[0.7777777777777778,\"#fb9f3a\"],[0.8888888888888888,\"#fdca26\"],[1.0,\"#f0f921\"]]}],\"mesh3d\":[{\"type\":\"mesh3d\",\"colorbar\":{\"outlinewidth\":0,\"ticks\":\"\"}}],\"scatter\":[{\"fillpattern\":{\"fillmode\":\"overlay\",\"size\":10,\"solidity\":0.2},\"type\":\"scatter\"}],\"parcoords\":[{\"type\":\"parcoords\",\"line\":{\"colorbar\":{\"outlinewidth\":0,\"ticks\":\"\"}}}],\"scatterpolargl\":[{\"type\":\"scatterpolargl\",\"marker\":{\"colorbar\":{\"outlinewidth\":0,\"ticks\":\"\"}}}],\"bar\":[{\"error_x\":{\"color\":\"#2a3f5f\"},\"error_y\":{\"color\":\"#2a3f5f\"},\"marker\":{\"line\":{\"color\":\"#E5ECF6\",\"width\":0.5},\"pattern\":{\"fillmode\":\"overlay\",\"size\":10,\"solidity\":0.2}},\"type\":\"bar\"}],\"scattergeo\":[{\"type\":\"scattergeo\",\"marker\":{\"colorbar\":{\"outlinewidth\":0,\"ticks\":\"\"}}}],\"scatterpolar\":[{\"type\":\"scatterpolar\",\"marker\":{\"colorbar\":{\"outlinewidth\":0,\"ticks\":\"\"}}}],\"histogram\":[{\"marker\":{\"pattern\":{\"fillmode\":\"overlay\",\"size\":10,\"solidity\":0.2}},\"type\":\"histogram\"}],\"scattergl\":[{\"type\":\"scattergl\",\"marker\":{\"colorbar\":{\"outlinewidth\":0,\"ticks\":\"\"}}}],\"scatter3d\":[{\"type\":\"scatter3d\",\"line\":{\"colorbar\":{\"outlinewidth\":0,\"ticks\":\"\"}},\"marker\":{\"colorbar\":{\"outlinewidth\":0,\"ticks\":\"\"}}}],\"scattermapbox\":[{\"type\":\"scattermapbox\",\"marker\":{\"colorbar\":{\"outlinewidth\":0,\"ticks\":\"\"}}}],\"scatterternary\":[{\"type\":\"scatterternary\",\"marker\":{\"colorbar\":{\"outlinewidth\":0,\"ticks\":\"\"}}}],\"scattercarpet\":[{\"type\":\"scattercarpet\",\"marker\":{\"colorbar\":{\"outlinewidth\":0,\"ticks\":\"\"}}}],\"carpet\":[{\"aaxis\":{\"endlinecolor\":\"#2a3f5f\",\"gridcolor\":\"white\",\"linecolor\":\"white\",\"minorgridcolor\":\"white\",\"startlinecolor\":\"#2a3f5f\"},\"baxis\":{\"endlinecolor\":\"#2a3f5f\",\"gridcolor\":\"white\",\"linecolor\":\"white\",\"minorgridcolor\":\"white\",\"startlinecolor\":\"#2a3f5f\"},\"type\":\"carpet\"}],\"table\":[{\"cells\":{\"fill\":{\"color\":\"#EBF0F8\"},\"line\":{\"color\":\"white\"}},\"header\":{\"fill\":{\"color\":\"#C8D4E3\"},\"line\":{\"color\":\"white\"}},\"type\":\"table\"}],\"barpolar\":[{\"marker\":{\"line\":{\"color\":\"#E5ECF6\",\"width\":0.5},\"pattern\":{\"fillmode\":\"overlay\",\"size\":10,\"solidity\":0.2}},\"type\":\"barpolar\"}],\"pie\":[{\"automargin\":true,\"type\":\"pie\"}]},\"layout\":{\"autotypenumbers\":\"strict\",\"colorway\":[\"#636efa\",\"#EF553B\",\"#00cc96\",\"#ab63fa\",\"#FFA15A\",\"#19d3f3\",\"#FF6692\",\"#B6E880\",\"#FF97FF\",\"#FECB52\"],\"font\":{\"color\":\"#2a3f5f\"},\"hovermode\":\"closest\",\"hoverlabel\":{\"align\":\"left\"},\"paper_bgcolor\":\"white\",\"plot_bgcolor\":\"#E5ECF6\",\"polar\":{\"bgcolor\":\"#E5ECF6\",\"angularaxis\":{\"gridcolor\":\"white\",\"linecolor\":\"white\",\"ticks\":\"\"},\"radialaxis\":{\"gridcolor\":\"white\",\"linecolor\":\"white\",\"ticks\":\"\"}},\"ternary\":{\"bgcolor\":\"#E5ECF6\",\"aaxis\":{\"gridcolor\":\"white\",\"linecolor\":\"white\",\"ticks\":\"\"},\"baxis\":{\"gridcolor\":\"white\",\"linecolor\":\"white\",\"ticks\":\"\"},\"caxis\":{\"gridcolor\":\"white\",\"linecolor\":\"white\",\"ticks\":\"\"}},\"coloraxis\":{\"colorbar\":{\"outlinewidth\":0,\"ticks\":\"\"}},\"colorscale\":{\"sequential\":[[0.0,\"#0d0887\"],[0.1111111111111111,\"#46039f\"],[0.2222222222222222,\"#7201a8\"],[0.3333333333333333,\"#9c179e\"],[0.4444444444444444,\"#bd3786\"],[0.5555555555555556,\"#d8576b\"],[0.6666666666666666,\"#ed7953\"],[0.7777777777777778,\"#fb9f3a\"],[0.8888888888888888,\"#fdca26\"],[1.0,\"#f0f921\"]],\"sequentialminus\":[[0.0,\"#0d0887\"],[0.1111111111111111,\"#46039f\"],[0.2222222222222222,\"#7201a8\"],[0.3333333333333333,\"#9c179e\"],[0.4444444444444444,\"#bd3786\"],[0.5555555555555556,\"#d8576b\"],[0.6666666666666666,\"#ed7953\"],[0.7777777777777778,\"#fb9f3a\"],[0.8888888888888888,\"#fdca26\"],[1.0,\"#f0f921\"]],\"diverging\":[[0,\"#8e0152\"],[0.1,\"#c51b7d\"],[0.2,\"#de77ae\"],[0.3,\"#f1b6da\"],[0.4,\"#fde0ef\"],[0.5,\"#f7f7f7\"],[0.6,\"#e6f5d0\"],[0.7,\"#b8e186\"],[0.8,\"#7fbc41\"],[0.9,\"#4d9221\"],[1,\"#276419\"]]},\"xaxis\":{\"gridcolor\":\"white\",\"linecolor\":\"white\",\"ticks\":\"\",\"title\":{\"standoff\":15},\"zerolinecolor\":\"white\",\"automargin\":true,\"zerolinewidth\":2},\"yaxis\":{\"gridcolor\":\"white\",\"linecolor\":\"white\",\"ticks\":\"\",\"title\":{\"standoff\":15},\"zerolinecolor\":\"white\",\"automargin\":true,\"zerolinewidth\":2},\"scene\":{\"xaxis\":{\"backgroundcolor\":\"#E5ECF6\",\"gridcolor\":\"white\",\"linecolor\":\"white\",\"showbackground\":true,\"ticks\":\"\",\"zerolinecolor\":\"white\",\"gridwidth\":2},\"yaxis\":{\"backgroundcolor\":\"#E5ECF6\",\"gridcolor\":\"white\",\"linecolor\":\"white\",\"showbackground\":true,\"ticks\":\"\",\"zerolinecolor\":\"white\",\"gridwidth\":2},\"zaxis\":{\"backgroundcolor\":\"#E5ECF6\",\"gridcolor\":\"white\",\"linecolor\":\"white\",\"showbackground\":true,\"ticks\":\"\",\"zerolinecolor\":\"white\",\"gridwidth\":2}},\"shapedefaults\":{\"line\":{\"color\":\"#2a3f5f\"}},\"annotationdefaults\":{\"arrowcolor\":\"#2a3f5f\",\"arrowhead\":0,\"arrowwidth\":1},\"geo\":{\"bgcolor\":\"white\",\"landcolor\":\"#E5ECF6\",\"subunitcolor\":\"white\",\"showland\":true,\"showlakes\":true,\"lakecolor\":\"white\"},\"title\":{\"x\":0.05},\"mapbox\":{\"style\":\"light\"}}},\"xaxis\":{\"anchor\":\"y\",\"domain\":[0.0,1.0],\"title\":{\"text\":\"Mean Read_Counts\"}},\"yaxis\":{\"anchor\":\"x\",\"domain\":[0.0,1.0],\"title\":{\"text\":\"Mean UMI_Counts\"}},\"legend\":{\"title\":{\"text\":\"Sample\"},\"tracegroupgap\":0},\"margin\":{\"t\":60},\"height\":1024,\"width\":1680,\"title\":{\"text\":\"Hum_PBMC (Correlation=0.999)\",\"y\":0.98,\"x\":0.5,\"xanchor\":\"center\",\"yanchor\":\"top\"},\"font\":{\"size\":18,\"color\":\"Black\"}},                        {\"responsive\": true}                    ).then(function(){\n",
       "                            \n",
       "var gd = document.getElementById('467fa69b-264b-471f-b60e-4fe913595ae8');\n",
       "var x = new MutationObserver(function (mutations, observer) {{\n",
       "        var display = window.getComputedStyle(gd).display;\n",
       "        if (!display || display === 'none') {{\n",
       "            console.log([gd, 'removed!']);\n",
       "            Plotly.purge(gd);\n",
       "            observer.disconnect();\n",
       "        }}\n",
       "}});\n",
       "\n",
       "// Listen for the removal of the full notebook cells\n",
       "var notebookContainer = gd.closest('#notebook-container');\n",
       "if (notebookContainer) {{\n",
       "    x.observe(notebookContainer, {childList: true});\n",
       "}}\n",
       "\n",
       "// Listen for the clearing of the current output cell\n",
       "var outputEl = gd.closest('.output');\n",
       "if (outputEl) {{\n",
       "    x.observe(outputEl, {childList: true});\n",
       "}}\n",
       "\n",
       "                        })                };                });            </script>        </div>"
      ]
     },
     "metadata": {},
     "output_type": "display_data"
    }
   ],
   "source": [
    "fig = px.scatter(\n",
    "    df, # scatter绘制散点图\n",
    "    x='Read_Counts',    #  x轴\n",
    "    y='UMI_Counts',  # y轴\n",
    "    color = 'Sample',\n",
    "    labels = calc_corr(df[\"Read_Counts\"], df[\"UMI_Counts\"]),\n",
    "    width=1680, height=1024,\n",
    ")\n",
    "fig.update_traces(marker_size=14)\n",
    "fig.update_layout(title={\"text\":f'{sample} (Correlation={calc_corr(df[\"Read_Counts\"], df[\"UMI_Counts\"])})',\n",
    "                         'y':0.98, 'x':0.5, 'xanchor': 'center', 'yanchor': 'top'},\n",
    "                  xaxis_title = \"Mean Read_Counts\", yaxis_title = \"Mean UMI_Counts\", font=dict(size=18,color=\"Black\"))\n",
    "\n",
    "#fig.write_image(f\"{OUT_PATH}/scatter.png\", scale=4)\n",
    "fig.show()"
   ]
  },
  {
   "cell_type": "code",
   "execution_count": null,
   "id": "removable-evans",
   "metadata": {},
   "outputs": [],
   "source": []
  }
 ],
 "metadata": {
  "kernelspec": {
   "display_name": "trust4_1.7",
   "language": "python",
   "name": "trust4_1.7"
  },
  "language_info": {
   "codemirror_mode": {
    "name": "ipython",
    "version": 3
   },
   "file_extension": ".py",
   "mimetype": "text/x-python",
   "name": "python",
   "nbconvert_exporter": "python",
   "pygments_lexer": "ipython3",
   "version": "3.7.10"
  }
 },
 "nbformat": 4,
 "nbformat_minor": 5
}
