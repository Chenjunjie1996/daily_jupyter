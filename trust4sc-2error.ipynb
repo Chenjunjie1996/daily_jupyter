{
 "cells": [
  {
   "cell_type": "code",
   "execution_count": 119,
   "id": "mathematical-scanner",
   "metadata": {},
   "outputs": [],
   "source": [
    "import pandas as pd \n",
    "import pysam"
   ]
  },
  {
   "cell_type": "code",
   "execution_count": 143,
   "id": "recognized-australian",
   "metadata": {},
   "outputs": [],
   "source": [
    "df_count = pd.read_csv('/SGRNJ06/randd/USER/cjj/celedev/kemai/20220512mergeTR/sc-2/03.assemble/assemble/count.txt', sep='\\t')"
   ]
  },
  {
   "cell_type": "code",
   "execution_count": 144,
   "id": "civic-velvet",
   "metadata": {},
   "outputs": [
    {
     "data": {
      "text/html": [
       "<div>\n",
       "<style scoped>\n",
       "    .dataframe tbody tr th:only-of-type {\n",
       "        vertical-align: middle;\n",
       "    }\n",
       "\n",
       "    .dataframe tbody tr th {\n",
       "        vertical-align: top;\n",
       "    }\n",
       "\n",
       "    .dataframe thead th {\n",
       "        text-align: right;\n",
       "    }\n",
       "</style>\n",
       "<table border=\"1\" class=\"dataframe\">\n",
       "  <thead>\n",
       "    <tr style=\"text-align: right;\">\n",
       "      <th></th>\n",
       "      <th>barcode</th>\n",
       "      <th>read_count</th>\n",
       "      <th>UMI</th>\n",
       "    </tr>\n",
       "  </thead>\n",
       "  <tbody>\n",
       "    <tr>\n",
       "      <th>0</th>\n",
       "      <td>TGTACCTTGGTGAGTTTCTCTTCA</td>\n",
       "      <td>977101</td>\n",
       "      <td>38859</td>\n",
       "    </tr>\n",
       "    <tr>\n",
       "      <th>1</th>\n",
       "      <td>TATGCCAGGCAATCCGCGATGTTT</td>\n",
       "      <td>315352</td>\n",
       "      <td>38569</td>\n",
       "    </tr>\n",
       "    <tr>\n",
       "      <th>2</th>\n",
       "      <td>TAAGCGTTGTGTGTCGCGATGTTT</td>\n",
       "      <td>158702</td>\n",
       "      <td>38483</td>\n",
       "    </tr>\n",
       "    <tr>\n",
       "      <th>3</th>\n",
       "      <td>GACCTTAGGACCTTAGTCCTCAAT</td>\n",
       "      <td>946120</td>\n",
       "      <td>37601</td>\n",
       "    </tr>\n",
       "    <tr>\n",
       "      <th>4</th>\n",
       "      <td>GTGTGTCGGATCAGCGGCTAACTC</td>\n",
       "      <td>724316</td>\n",
       "      <td>37109</td>\n",
       "    </tr>\n",
       "    <tr>\n",
       "      <th>...</th>\n",
       "      <td>...</td>\n",
       "      <td>...</td>\n",
       "      <td>...</td>\n",
       "    </tr>\n",
       "    <tr>\n",
       "      <th>23087</th>\n",
       "      <td>ACTTGATGACTTGATGTTAGGCAT</td>\n",
       "      <td>369</td>\n",
       "      <td>126</td>\n",
       "    </tr>\n",
       "    <tr>\n",
       "      <th>23088</th>\n",
       "      <td>GTAAGGTGTCTACGACTGGTTGTT</td>\n",
       "      <td>97</td>\n",
       "      <td>42</td>\n",
       "    </tr>\n",
       "    <tr>\n",
       "      <th>23089</th>\n",
       "      <td>CAGATCTGTAAGTTCGGCATGGCT</td>\n",
       "      <td>15</td>\n",
       "      <td>13</td>\n",
       "    </tr>\n",
       "    <tr>\n",
       "      <th>23090</th>\n",
       "      <td>GGCTACAGGTACATCTTGGCTCAG</td>\n",
       "      <td>10</td>\n",
       "      <td>5</td>\n",
       "    </tr>\n",
       "    <tr>\n",
       "      <th>23091</th>\n",
       "      <td>ATCACGTTGGTGAGTTTGGTTGTT</td>\n",
       "      <td>2</td>\n",
       "      <td>2</td>\n",
       "    </tr>\n",
       "  </tbody>\n",
       "</table>\n",
       "<p>23092 rows × 3 columns</p>\n",
       "</div>"
      ],
      "text/plain": [
       "                        barcode  read_count    UMI\n",
       "0      TGTACCTTGGTGAGTTTCTCTTCA      977101  38859\n",
       "1      TATGCCAGGCAATCCGCGATGTTT      315352  38569\n",
       "2      TAAGCGTTGTGTGTCGCGATGTTT      158702  38483\n",
       "3      GACCTTAGGACCTTAGTCCTCAAT      946120  37601\n",
       "4      GTGTGTCGGATCAGCGGCTAACTC      724316  37109\n",
       "...                         ...         ...    ...\n",
       "23087  ACTTGATGACTTGATGTTAGGCAT         369    126\n",
       "23088  GTAAGGTGTCTACGACTGGTTGTT          97     42\n",
       "23089  CAGATCTGTAAGTTCGGCATGGCT          15     13\n",
       "23090  GGCTACAGGTACATCTTGGCTCAG          10      5\n",
       "23091  ATCACGTTGGTGAGTTTGGTTGTT           2      2\n",
       "\n",
       "[23092 rows x 3 columns]"
      ]
     },
     "execution_count": 144,
     "metadata": {},
     "output_type": "execute_result"
    }
   ],
   "source": [
    "df_count"
   ]
  },
  {
   "cell_type": "code",
   "execution_count": 145,
   "id": "substantial-numbers",
   "metadata": {},
   "outputs": [],
   "source": [
    "barcode_list = list(df_count.barcode)\n",
    "barcode_num = len(barcode_list)"
   ]
  },
  {
   "cell_type": "code",
   "execution_count": 146,
   "id": "permanent-insulation",
   "metadata": {},
   "outputs": [],
   "source": [
    "chunk_size = barcode_num  // 4"
   ]
  },
  {
   "cell_type": "code",
   "execution_count": 147,
   "id": "revised-message",
   "metadata": {},
   "outputs": [],
   "source": [
    "split_barcodes = [barcode_list[i: i + chunk_size] for i in range(0, barcode_num, chunk_size)]"
   ]
  },
  {
   "cell_type": "code",
   "execution_count": 148,
   "id": "phantom-quantity",
   "metadata": {},
   "outputs": [],
   "source": [
    "split_barcodes_new = []"
   ]
  },
  {
   "cell_type": "code",
   "execution_count": 149,
   "id": "twenty-choir",
   "metadata": {},
   "outputs": [],
   "source": [
    "for i in range(len(split_barcodes)):\n",
    "    split_barcodes_new.append(split_barcodes[i][:len(split_barcodes[i])//2] + split_barcodes[3-i][len(split_barcodes[3-i])//2:])"
   ]
  },
  {
   "cell_type": "code",
   "execution_count": 156,
   "id": "studied-amendment",
   "metadata": {},
   "outputs": [
    {
     "data": {
      "text/plain": [
       "['ACTTGATGACTTGATGTTAGGCAT',\n",
       " 'GTAAGGTGTCTACGACTGGTTGTT',\n",
       " 'CAGATCTGTAAGTTCGGCATGGCT',\n",
       " 'GGCTACAGGTACATCTTGGCTCAG',\n",
       " 'ATCACGTTGGTGAGTTTGGTTGTT']"
      ]
     },
     "execution_count": 156,
     "metadata": {},
     "output_type": "execute_result"
    }
   ],
   "source": [
    "split_barcodes_new[0][-5:]"
   ]
  },
  {
   "cell_type": "code",
   "execution_count": 56,
   "id": "spare-lotus",
   "metadata": {},
   "outputs": [],
   "source": [
    "split_barcode_0, split_barcode_1, split_barcode_2, split_barcode_3, split_barcode_4 = list(split_barcodes[0])[:len(split_barcodes[0])//5],list(split_barcodes[0])[len(split_barcodes[0])//5:2* len(split_barcodes[0])//5],list(split_barcodes[0])[2*len(split_barcodes[0])//5:3*len(split_barcodes[0])//5],list(split_barcodes[0])[3*len(split_barcodes[0])//5:4*len(split_barcodes[0])//5],list(split_barcodes[0])[4*len(split_barcodes[0])//5:]"
   ]
  },
  {
   "cell_type": "code",
   "execution_count": 57,
   "id": "amateur-tuner",
   "metadata": {},
   "outputs": [],
   "source": [
    "split_barcode_0 = set(split_barcode_0)\n",
    "split_barcode_1 = set(split_barcode_1)\n",
    "split_barcode_2 = set(split_barcode_2)\n",
    "split_barcode_3 = set(split_barcode_3)\n",
    "split_barcode_4 = set(split_barcode_4)"
   ]
  },
  {
   "cell_type": "code",
   "execution_count": 58,
   "id": "similar-workplace",
   "metadata": {},
   "outputs": [
    {
     "data": {
      "text/plain": [
       "1154"
      ]
     },
     "execution_count": 58,
     "metadata": {},
     "output_type": "execute_result"
    }
   ],
   "source": [
    "len(split_barcode_0)"
   ]
  },
  {
   "cell_type": "code",
   "execution_count": 59,
   "id": "virtual-coffee",
   "metadata": {},
   "outputs": [
    {
     "data": {
      "text/plain": [
       "1155"
      ]
     },
     "execution_count": 59,
     "metadata": {},
     "output_type": "execute_result"
    }
   ],
   "source": [
    "len(split_barcode_1)"
   ]
  },
  {
   "cell_type": "code",
   "execution_count": 60,
   "id": "listed-liberal",
   "metadata": {},
   "outputs": [
    {
     "data": {
      "text/plain": [
       "1154"
      ]
     },
     "execution_count": 60,
     "metadata": {},
     "output_type": "execute_result"
    }
   ],
   "source": [
    "len(split_barcode_2)"
   ]
  },
  {
   "cell_type": "code",
   "execution_count": 61,
   "id": "quick-southwest",
   "metadata": {},
   "outputs": [
    {
     "data": {
      "text/plain": [
       "1155"
      ]
     },
     "execution_count": 61,
     "metadata": {},
     "output_type": "execute_result"
    }
   ],
   "source": [
    "len(split_barcode_3)"
   ]
  },
  {
   "cell_type": "code",
   "execution_count": 62,
   "id": "computational-cooling",
   "metadata": {},
   "outputs": [
    {
     "data": {
      "text/plain": [
       "1155"
      ]
     },
     "execution_count": 62,
     "metadata": {},
     "output_type": "execute_result"
    }
   ],
   "source": [
    "len(split_barcode_4)"
   ]
  },
  {
   "cell_type": "code",
   "execution_count": 63,
   "id": "social-notion",
   "metadata": {},
   "outputs": [
    {
     "data": {
      "text/plain": [
       "True"
      ]
     },
     "execution_count": 63,
     "metadata": {},
     "output_type": "execute_result"
    }
   ],
   "source": [
    "split_barcode_0|split_barcode_1|split_barcode_2|split_barcode_3|split_barcode_4 == split_barcodes[0]"
   ]
  },
  {
   "cell_type": "code",
   "execution_count": 64,
   "id": "identical-sunrise",
   "metadata": {},
   "outputs": [],
   "source": [
    "split_barcodes = [split_barcode_0, split_barcode_1, split_barcode_2,split_barcode_3,split_barcode_4]"
   ]
  },
  {
   "cell_type": "code",
   "execution_count": 65,
   "id": "violent-slide",
   "metadata": {},
   "outputs": [
    {
     "data": {
      "text/plain": [
       "5"
      ]
     },
     "execution_count": 65,
     "metadata": {},
     "output_type": "execute_result"
    }
   ],
   "source": [
    "len(split_barcodes)"
   ]
  },
  {
   "cell_type": "code",
   "execution_count": 66,
   "id": "prerequisite-eagle",
   "metadata": {},
   "outputs": [],
   "source": [
    "fq_list = [open(f'/SGRNJ06/randd/USER/cjj/celedev/kemai/20220512mergeTR/sc-2/03.assemble/assemble/signal9/20220526/temp_0_{i}.fq','w') for i in range(5)]\n",
    "bc_list = [open(f'/SGRNJ06/randd/USER/cjj/celedev/kemai/20220512mergeTR/sc-2/03.assemble/assemble/signal9/20220526/temp_0_{i}_bc.fa','w') for i in range(5)]\n",
    "umi_list = [open(f'/SGRNJ06/randd/USER/cjj/celedev/kemai/20220512mergeTR/sc-2/03.assemble/assemble/signal9/20220526/temp_0_{i}_umi.fa','w') for i in range(5)]"
   ]
  },
  {
   "cell_type": "code",
   "execution_count": 67,
   "id": "adverse-organ",
   "metadata": {},
   "outputs": [],
   "source": [
    "        with pysam.FastxFile('/SGRNJ06/randd/USER/cjj/celedev/kemai/20220512mergeTR/sc-2/03.assemble/assemble/temp/sc-2_bcrtcr.fq') as f:\n",
    "            for read in f:\n",
    "                name = read.name\n",
    "                bc, umi = name.split('_')[0], name.split('_')[1]\n",
    "                for i in range(5):\n",
    "                    if bc in split_barcodes[i]:\n",
    "                        fq_list[i].write(str(read) + '\\n')\n",
    "                        bc_list[i].write(f'>{name}\\n{bc}\\n')\n",
    "                        umi_list[i].write(f'>{name}\\n{umi}\\n')\n",
    "                        break\n",
    "\n",
    "        for i in range(3):\n",
    "            fq_list[i].close()\n",
    "            bc_list[i].close()\n",
    "            umi_list[i].close()"
   ]
  },
  {
   "cell_type": "code",
   "execution_count": 76,
   "id": "joint-geometry",
   "metadata": {},
   "outputs": [],
   "source": [
    "bc0,bc1,bc2,bc3,bc4 = set(), set(), set(), set(), set()"
   ]
  },
  {
   "cell_type": "code",
   "execution_count": 77,
   "id": "southern-passage",
   "metadata": {},
   "outputs": [],
   "source": [
    "with pysam.FastxFile('/SGRNJ06/randd/USER/cjj/celedev/kemai/20220512mergeTR/sc-2/03.assemble/assemble/signal9/20220526/temp_0_0_bc.fa') as f:\n",
    "    for read in f:\n",
    "        bc0.add(read.sequence)"
   ]
  },
  {
   "cell_type": "code",
   "execution_count": 78,
   "id": "thrown-india",
   "metadata": {},
   "outputs": [],
   "source": [
    "with pysam.FastxFile('/SGRNJ06/randd/USER/cjj/celedev/kemai/20220512mergeTR/sc-2/03.assemble/assemble/signal9/20220526/temp_0_1_bc.fa') as f:\n",
    "    for read in f:\n",
    "        bc1.add(read.sequence)\n",
    "with pysam.FastxFile('/SGRNJ06/randd/USER/cjj/celedev/kemai/20220512mergeTR/sc-2/03.assemble/assemble/signal9/20220526/temp_0_2_bc.fa') as f:\n",
    "    for read in f:\n",
    "        bc2.add(read.sequence)\n",
    "with pysam.FastxFile('/SGRNJ06/randd/USER/cjj/celedev/kemai/20220512mergeTR/sc-2/03.assemble/assemble/signal9/20220526/temp_0_3_bc.fa') as f:\n",
    "    for read in f:\n",
    "        bc3.add(read.sequence)\n",
    "with pysam.FastxFile('/SGRNJ06/randd/USER/cjj/celedev/kemai/20220512mergeTR/sc-2/03.assemble/assemble/signal9/20220526/temp_0_4_bc.fa') as f:\n",
    "    for read in f:\n",
    "        bc4.add(read.sequence)"
   ]
  },
  {
   "cell_type": "code",
   "execution_count": 85,
   "id": "certain-taste",
   "metadata": {},
   "outputs": [
    {
     "data": {
      "text/plain": [
       "1154"
      ]
     },
     "execution_count": 85,
     "metadata": {},
     "output_type": "execute_result"
    }
   ],
   "source": [
    "len(bc0)"
   ]
  },
  {
   "cell_type": "code",
   "execution_count": 86,
   "id": "boring-shark",
   "metadata": {},
   "outputs": [
    {
     "data": {
      "text/plain": [
       "1155"
      ]
     },
     "execution_count": 86,
     "metadata": {},
     "output_type": "execute_result"
    }
   ],
   "source": [
    "len(bc1)"
   ]
  },
  {
   "cell_type": "code",
   "execution_count": 87,
   "id": "impossible-insulation",
   "metadata": {},
   "outputs": [
    {
     "data": {
      "text/plain": [
       "1154"
      ]
     },
     "execution_count": 87,
     "metadata": {},
     "output_type": "execute_result"
    }
   ],
   "source": [
    "len(bc2)"
   ]
  },
  {
   "cell_type": "code",
   "execution_count": 88,
   "id": "devoted-fifty",
   "metadata": {},
   "outputs": [
    {
     "data": {
      "text/plain": [
       "1155"
      ]
     },
     "execution_count": 88,
     "metadata": {},
     "output_type": "execute_result"
    }
   ],
   "source": [
    "len(bc3)"
   ]
  },
  {
   "cell_type": "code",
   "execution_count": 89,
   "id": "least-springfield",
   "metadata": {},
   "outputs": [],
   "source": [
    "len(bc4)"
   ]
  },
  {
   "cell_type": "code",
   "execution_count": 106,
   "id": "wound-citizen",
   "metadata": {},
   "outputs": [
    {
     "data": {
      "text/plain": [
       "185750033"
      ]
     },
     "execution_count": 106,
     "metadata": {},
     "output_type": "execute_result"
    }
   ],
   "source": [
    "sum(df_count.read_count)"
   ]
  },
  {
   "cell_type": "code",
   "execution_count": 96,
   "id": "refined-longer",
   "metadata": {},
   "outputs": [],
   "source": [
    "df_count_0 = df_count[df_count['barcode'].isin(bc0)]"
   ]
  },
  {
   "cell_type": "code",
   "execution_count": 108,
   "id": "swiss-finance",
   "metadata": {},
   "outputs": [
    {
     "data": {
      "text/plain": [
       "27289920"
      ]
     },
     "execution_count": 108,
     "metadata": {},
     "output_type": "execute_result"
    }
   ],
   "source": [
    "sum(df_count_0.read_count)"
   ]
  },
  {
   "cell_type": "code",
   "execution_count": 109,
   "id": "speaking-sandwich",
   "metadata": {},
   "outputs": [],
   "source": [
    "df_count_1 = df_count[df_count['barcode'].isin(bc1)]"
   ]
  },
  {
   "cell_type": "code",
   "execution_count": 110,
   "id": "turkish-segment",
   "metadata": {},
   "outputs": [
    {
     "data": {
      "text/plain": [
       "24753862"
      ]
     },
     "execution_count": 110,
     "metadata": {},
     "output_type": "execute_result"
    }
   ],
   "source": [
    "sum(df_count_1.read_count)"
   ]
  },
  {
   "cell_type": "code",
   "execution_count": 100,
   "id": "downtown-aerospace",
   "metadata": {},
   "outputs": [],
   "source": [
    "df_count_2 = df_count[df_count['barcode'].isin(bc2)]"
   ]
  },
  {
   "cell_type": "code",
   "execution_count": 107,
   "id": "worse-dietary",
   "metadata": {},
   "outputs": [
    {
     "data": {
      "text/plain": [
       "27598897"
      ]
     },
     "execution_count": 107,
     "metadata": {},
     "output_type": "execute_result"
    }
   ],
   "source": [
    "sum(df_count_2.read_count)"
   ]
  },
  {
   "cell_type": "code",
   "execution_count": 102,
   "id": "ancient-doctrine",
   "metadata": {},
   "outputs": [],
   "source": [
    "df_count_3 = df_count[df_count['barcode'].isin(bc3)]"
   ]
  },
  {
   "cell_type": "code",
   "execution_count": 103,
   "id": "prescription-malawi",
   "metadata": {},
   "outputs": [
    {
     "data": {
      "text/plain": [
       "25557831"
      ]
     },
     "execution_count": 103,
     "metadata": {},
     "output_type": "execute_result"
    }
   ],
   "source": [
    "sum(df_count_3.read_count)"
   ]
  },
  {
   "cell_type": "code",
   "execution_count": 104,
   "id": "premium-implementation",
   "metadata": {},
   "outputs": [],
   "source": [
    "df_count_4 = df_count[df_count['barcode'].isin(bc3)]"
   ]
  },
  {
   "cell_type": "code",
   "execution_count": 105,
   "id": "rocky-region",
   "metadata": {},
   "outputs": [
    {
     "data": {
      "text/plain": [
       "25557831"
      ]
     },
     "execution_count": 105,
     "metadata": {},
     "output_type": "execute_result"
    }
   ],
   "source": [
    "sum(df_count_4.read_count)"
   ]
  },
  {
   "cell_type": "code",
   "execution_count": 116,
   "id": "extended-adolescent",
   "metadata": {},
   "outputs": [
    {
     "data": {
      "text/plain": [
       "True"
      ]
     },
     "execution_count": 116,
     "metadata": {},
     "output_type": "execute_result"
    }
   ],
   "source": [
    "bc0|bc1|bc2|bc3|bc4 == split_barcodes[0]"
   ]
  },
  {
   "cell_type": "code",
   "execution_count": 114,
   "id": "suburban-reward",
   "metadata": {},
   "outputs": [],
   "source": [
    "df_count_all = df_count[df_count['barcode'].isin(bc0|bc1|bc2|bc3|bc4)]"
   ]
  },
  {
   "cell_type": "code",
   "execution_count": 115,
   "id": "treated-blocking",
   "metadata": {},
   "outputs": [
    {
     "data": {
      "text/plain": [
       "131991021"
      ]
     },
     "execution_count": 115,
     "metadata": {},
     "output_type": "execute_result"
    }
   ],
   "source": [
    "sum(df_count_all.read_count)"
   ]
  },
  {
   "cell_type": "code",
   "execution_count": null,
   "id": "classical-doctor",
   "metadata": {},
   "outputs": [],
   "source": [
    "with pysam.FastxFile('/SGRNJ06/randd/USER/cjj/celedev/kemai/20220512mergeTR/sc-2/03.assemble/assemble/signal9/20220526/temp_0_0_bc.fa') as f:\n",
    "    for read in f:\n",
    "        print(read)\n"
   ]
  },
  {
   "cell_type": "code",
   "execution_count": null,
   "id": "literary-answer",
   "metadata": {},
   "outputs": [],
   "source": []
  }
 ],
 "metadata": {
  "kernelspec": {
   "display_name": "Python 3",
   "language": "python",
   "name": "python3"
  },
  "language_info": {
   "codemirror_mode": {
    "name": "ipython",
    "version": 3
   },
   "file_extension": ".py",
   "mimetype": "text/x-python",
   "name": "python",
   "nbconvert_exporter": "python",
   "pygments_lexer": "ipython3",
   "version": "3.7.10"
  }
 },
 "nbformat": 4,
 "nbformat_minor": 5
}
