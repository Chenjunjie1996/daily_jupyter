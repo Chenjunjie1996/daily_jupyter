{
 "cells": [
  {
   "cell_type": "code",
   "execution_count": 1,
   "id": "confused-manor",
   "metadata": {},
   "outputs": [
    {
     "name": "stderr",
     "output_type": "stream",
     "text": [
      "Warning message:\n",
      "“package ‘Seurat’ was built under R version 4.0.5”\n",
      "Attaching SeuratObject\n",
      "\n",
      "\n",
      "Attaching package: ‘dplyr’\n",
      "\n",
      "\n",
      "The following objects are masked from ‘package:stats’:\n",
      "\n",
      "    filter, lag\n",
      "\n",
      "\n",
      "The following objects are masked from ‘package:base’:\n",
      "\n",
      "    intersect, setdiff, setequal, union\n",
      "\n",
      "\n",
      "Registered S3 method overwritten by 'cli':\n",
      "  method     from         \n",
      "  print.boxx spatstat.geom\n",
      "\n",
      "── \u001b[1mAttaching packages\u001b[22m ───────────────────────────────────────────────────────────────────────────────────────────────────────── tidyverse 1.3.1 ──\n",
      "\n",
      "\u001b[32m✔\u001b[39m \u001b[34mggplot2\u001b[39m 3.3.3     \u001b[32m✔\u001b[39m \u001b[34mpurrr  \u001b[39m 0.3.4\n",
      "\u001b[32m✔\u001b[39m \u001b[34mtibble \u001b[39m 3.1.0     \u001b[32m✔\u001b[39m \u001b[34mstringr\u001b[39m 1.4.0\n",
      "\u001b[32m✔\u001b[39m \u001b[34mtidyr  \u001b[39m 1.1.3     \u001b[32m✔\u001b[39m \u001b[34mforcats\u001b[39m 0.5.1\n",
      "\u001b[32m✔\u001b[39m \u001b[34mreadr  \u001b[39m 1.4.0     \n",
      "\n",
      "── \u001b[1mConflicts\u001b[22m ──────────────────────────────────────────────────────────────────────────────────────────────────────────── tidyverse_conflicts() ──\n",
      "\u001b[31m✖\u001b[39m \u001b[34mdplyr\u001b[39m::\u001b[32mfilter()\u001b[39m masks \u001b[34mstats\u001b[39m::filter()\n",
      "\u001b[31m✖\u001b[39m \u001b[34mdplyr\u001b[39m::\u001b[32mlag()\u001b[39m    masks \u001b[34mstats\u001b[39m::lag()\n",
      "\n"
     ]
    }
   ],
   "source": [
    "library(Seurat)\n",
    "library(dplyr)\n",
    "library(tidyverse)\n",
    "library(stringr)\n",
    "library(ggplot2)\n",
    "library(\"ggsci\")"
   ]
  },
  {
   "cell_type": "code",
   "execution_count": 2,
   "id": "negative-sapphire",
   "metadata": {},
   "outputs": [],
   "source": [
    "rds = Read10X(\"/SGRNJ06/bioinfo/PROJ04/PROJ_22.Other/PK22110403_Dynaseq/DYN/L_c3_dyn/L/05.count/L_filtered_feature_bc_matrix\")"
   ]
  },
  {
   "cell_type": "code",
   "execution_count": 3,
   "id": "approved-afternoon",
   "metadata": {},
   "outputs": [
    {
     "name": "stderr",
     "output_type": "stream",
     "text": [
      "Warning message:\n",
      "“Feature names cannot have underscores ('_'), replacing with dashes ('-')”\n"
     ]
    }
   ],
   "source": [
    "rds <- CreateSeuratObject(counts = rds)"
   ]
  },
  {
   "cell_type": "code",
   "execution_count": 4,
   "id": "christian-accident",
   "metadata": {},
   "outputs": [
    {
     "data": {
      "text/html": [
       "<table class=\"dataframe\">\n",
       "<caption>A data.frame: 10 × 3</caption>\n",
       "<thead>\n",
       "\t<tr><th></th><th scope=col>orig.ident</th><th scope=col>nCount_RNA</th><th scope=col>nFeature_RNA</th></tr>\n",
       "\t<tr><th></th><th scope=col>&lt;fct&gt;</th><th scope=col>&lt;dbl&gt;</th><th scope=col>&lt;int&gt;</th></tr>\n",
       "</thead>\n",
       "<tbody>\n",
       "\t<tr><th scope=row>AACACACAGAACGTCCAAACCTGAAGG</th><td>SeuratProject</td><td> 1307</td><td> 482</td></tr>\n",
       "\t<tr><th scope=row>AACACACAGAACGTCCAAAGTGCTACA</th><td>SeuratProject</td><td> 3186</td><td>1024</td></tr>\n",
       "\t<tr><th scope=row>AACACACAGAATCCGGTGAAGATCTGC</th><td>SeuratProject</td><td> 4308</td><td> 932</td></tr>\n",
       "\t<tr><th scope=row>AACACACAGAATCCGGTGCCTCGATCA</th><td>SeuratProject</td><td> 5129</td><td> 970</td></tr>\n",
       "\t<tr><th scope=row>AACACACAGAATCCGGTGGAATCGCAA</th><td>SeuratProject</td><td> 2312</td><td>1075</td></tr>\n",
       "\t<tr><th scope=row>AACACACAGAATCCGGTGGGAGAGGAA</th><td>SeuratProject</td><td>15679</td><td>2566</td></tr>\n",
       "\t<tr><th scope=row>AACACACAGAATCCGGTGTGCTTATGG</th><td>SeuratProject</td><td> 3923</td><td>1244</td></tr>\n",
       "\t<tr><th scope=row>AACACACAGACAACAGGTCTTCAGTCT</th><td>SeuratProject</td><td> 2934</td><td> 775</td></tr>\n",
       "\t<tr><th scope=row>AACACACAGACAACAGGTGGCCATGTT</th><td>SeuratProject</td><td> 9338</td><td>1529</td></tr>\n",
       "\t<tr><th scope=row>AACACACAGACAACAGGTTATGACACC</th><td>SeuratProject</td><td> 2260</td><td> 712</td></tr>\n",
       "</tbody>\n",
       "</table>\n"
      ],
      "text/latex": [
       "A data.frame: 10 × 3\n",
       "\\begin{tabular}{r|lll}\n",
       "  & orig.ident & nCount\\_RNA & nFeature\\_RNA\\\\\n",
       "  & <fct> & <dbl> & <int>\\\\\n",
       "\\hline\n",
       "\tAACACACAGAACGTCCAAACCTGAAGG & SeuratProject &  1307 &  482\\\\\n",
       "\tAACACACAGAACGTCCAAAGTGCTACA & SeuratProject &  3186 & 1024\\\\\n",
       "\tAACACACAGAATCCGGTGAAGATCTGC & SeuratProject &  4308 &  932\\\\\n",
       "\tAACACACAGAATCCGGTGCCTCGATCA & SeuratProject &  5129 &  970\\\\\n",
       "\tAACACACAGAATCCGGTGGAATCGCAA & SeuratProject &  2312 & 1075\\\\\n",
       "\tAACACACAGAATCCGGTGGGAGAGGAA & SeuratProject & 15679 & 2566\\\\\n",
       "\tAACACACAGAATCCGGTGTGCTTATGG & SeuratProject &  3923 & 1244\\\\\n",
       "\tAACACACAGACAACAGGTCTTCAGTCT & SeuratProject &  2934 &  775\\\\\n",
       "\tAACACACAGACAACAGGTGGCCATGTT & SeuratProject &  9338 & 1529\\\\\n",
       "\tAACACACAGACAACAGGTTATGACACC & SeuratProject &  2260 &  712\\\\\n",
       "\\end{tabular}\n"
      ],
      "text/markdown": [
       "\n",
       "A data.frame: 10 × 3\n",
       "\n",
       "| <!--/--> | orig.ident &lt;fct&gt; | nCount_RNA &lt;dbl&gt; | nFeature_RNA &lt;int&gt; |\n",
       "|---|---|---|---|\n",
       "| AACACACAGAACGTCCAAACCTGAAGG | SeuratProject |  1307 |  482 |\n",
       "| AACACACAGAACGTCCAAAGTGCTACA | SeuratProject |  3186 | 1024 |\n",
       "| AACACACAGAATCCGGTGAAGATCTGC | SeuratProject |  4308 |  932 |\n",
       "| AACACACAGAATCCGGTGCCTCGATCA | SeuratProject |  5129 |  970 |\n",
       "| AACACACAGAATCCGGTGGAATCGCAA | SeuratProject |  2312 | 1075 |\n",
       "| AACACACAGAATCCGGTGGGAGAGGAA | SeuratProject | 15679 | 2566 |\n",
       "| AACACACAGAATCCGGTGTGCTTATGG | SeuratProject |  3923 | 1244 |\n",
       "| AACACACAGACAACAGGTCTTCAGTCT | SeuratProject |  2934 |  775 |\n",
       "| AACACACAGACAACAGGTGGCCATGTT | SeuratProject |  9338 | 1529 |\n",
       "| AACACACAGACAACAGGTTATGACACC | SeuratProject |  2260 |  712 |\n",
       "\n"
      ],
      "text/plain": [
       "                            orig.ident    nCount_RNA nFeature_RNA\n",
       "AACACACAGAACGTCCAAACCTGAAGG SeuratProject  1307       482        \n",
       "AACACACAGAACGTCCAAAGTGCTACA SeuratProject  3186      1024        \n",
       "AACACACAGAATCCGGTGAAGATCTGC SeuratProject  4308       932        \n",
       "AACACACAGAATCCGGTGCCTCGATCA SeuratProject  5129       970        \n",
       "AACACACAGAATCCGGTGGAATCGCAA SeuratProject  2312      1075        \n",
       "AACACACAGAATCCGGTGGGAGAGGAA SeuratProject 15679      2566        \n",
       "AACACACAGAATCCGGTGTGCTTATGG SeuratProject  3923      1244        \n",
       "AACACACAGACAACAGGTCTTCAGTCT SeuratProject  2934       775        \n",
       "AACACACAGACAACAGGTGGCCATGTT SeuratProject  9338      1529        \n",
       "AACACACAGACAACAGGTTATGACACC SeuratProject  2260       712        "
      ]
     },
     "metadata": {},
     "output_type": "display_data"
    }
   ],
   "source": [
    "head(rds)"
   ]
  },
  {
   "cell_type": "code",
   "execution_count": null,
   "id": "secondary-trainer",
   "metadata": {},
   "outputs": [],
   "source": [
    "exprMatrix <- as.matrix(GetAssayData(rds, slot='counts'))"
   ]
  },
  {
   "cell_type": "code",
   "execution_count": null,
   "id": "collectible-generator",
   "metadata": {},
   "outputs": [],
   "source": [
    "target_genes = c('atoh7', 'pou4f2', 'tfap2a', 'ptf1a', 'crx', 'vsx1', 'fezf2', 'elavl3') #'lhx3'"
   ]
  },
  {
   "cell_type": "code",
   "execution_count": null,
   "id": "processed-timeline",
   "metadata": {},
   "outputs": [],
   "source": [
    "for (j in target_genes){\n",
    "    \n",
    "    if (j == 'lhx3') {\n",
    "        percent = 0\n",
    "    } else {\n",
    "        percent = sum(GetAssayData(object = rds, slot = \"data\")[j,]>0)/nrow(rds@meta.data)\n",
    "        percent = round(percent, 4)\n",
    "        percent = scales::percent(percent, 0.01)  \n",
    "    }\n",
    "    print(c(j, percent))\n",
    "}"
   ]
  },
  {
   "cell_type": "code",
   "execution_count": null,
   "id": "dried-commitment",
   "metadata": {},
   "outputs": [],
   "source": []
  },
  {
   "cell_type": "code",
   "execution_count": 1,
   "id": "opponent-samoa",
   "metadata": {},
   "outputs": [],
   "source": [
    "# python\n",
    "import scanpy as sc\n",
    "import numpy as np\n",
    "import pandas as pd\n",
    "import matplotlib.pyplot as plt"
   ]
  },
  {
   "cell_type": "code",
   "execution_count": 6,
   "id": "built-summary",
   "metadata": {},
   "outputs": [],
   "source": [
    "h5ad = sc.read_h5ad(\"/SGRNJ06/bioinfo/PROJ04/PROJ_22.Other/PK22110403_Dynaseq/DYN/L_c3_dyn/L/06.analysis/L.h5ad\")"
   ]
  },
  {
   "cell_type": "code",
   "execution_count": 7,
   "id": "insured-validation",
   "metadata": {},
   "outputs": [
    {
     "data": {
      "text/plain": [
       "AnnData object with n_obs × n_vars = 16820 × 32057\n",
       "    obs: 'n_genes_by_counts', 'total_counts', 'total_counts_mito', 'pct_counts_mito', 'cluster'\n",
       "    var: 'gene_ids', 'mito', 'n_cells_by_counts', 'mean_counts', 'pct_dropout_by_counts', 'total_counts', 'highly_variable', 'means', 'dispersions', 'dispersions_norm', 'mean', 'std'\n",
       "    uns: 'hvg', 'leiden', 'neighbors', 'pca', 'rank_genes_groups', 'tsne', 'umap'\n",
       "    obsm: 'X_pca', 'X_tsne', 'X_umap'\n",
       "    varm: 'PCs'\n",
       "    layers: 'normalised'\n",
       "    obsp: 'connectivities', 'distances'"
      ]
     },
     "execution_count": 7,
     "metadata": {},
     "output_type": "execute_result"
    }
   ],
   "source": [
    "h5ad"
   ]
  },
  {
   "cell_type": "code",
   "execution_count": 14,
   "id": "handled-skirt",
   "metadata": {},
   "outputs": [
    {
     "data": {
      "text/plain": [
       "ptpn12               312\n",
       "phtf2                 59\n",
       "phtf2-1                0\n",
       "CU856344.1             4\n",
       "si:zfos-932h1.3      384\n",
       "                   ...  \n",
       "mt-nd6              2970\n",
       "NC_002333.21           4\n",
       "mt-cyb             15149\n",
       "NC_002333.22          13\n",
       "NC_002333.11         229\n",
       "Name: n_cells_by_counts, Length: 32057, dtype: int64"
      ]
     },
     "execution_count": 14,
     "metadata": {},
     "output_type": "execute_result"
    }
   ],
   "source": [
    "h5ad.var.n_cells_by_counts"
   ]
  },
  {
   "cell_type": "code",
   "execution_count": null,
   "id": "numerous-sitting",
   "metadata": {},
   "outputs": [],
   "source": []
  },
  {
   "cell_type": "code",
   "execution_count": null,
   "id": "chinese-israel",
   "metadata": {},
   "outputs": [],
   "source": [
    "sc.pl.violin(h5ad, ['atoh7', 'pou4f2', 'tfap2a', 'ptf1a'], groupby='cluster', rotation=90, show=False)\n",
    "plt.savefig(\"/SGRNJ06/randd/USER/cjj/celedev/banmayu/geneplot/marker_exp_vio1.pdf\", dpi=300)"
   ]
  },
  {
   "cell_type": "code",
   "execution_count": null,
   "id": "productive-helen",
   "metadata": {},
   "outputs": [],
   "source": [
    "sc.pl.violin(h5ad, ['crx', 'vsx1', 'fezf2', 'elavl3'], groupby='cluster',  rotation=90, show=False)\n",
    "plt.savefig(\"/SGRNJ06/randd/USER/cjj/celedev/banmayu/geneplot/marker_exp_vio2.pdf\", dpi=300)"
   ]
  },
  {
   "cell_type": "code",
   "execution_count": null,
   "id": "precise-trout",
   "metadata": {},
   "outputs": [],
   "source": [
    "sc.pl.tsne(h5ad, color=['atoh7', 'pou4f2', 'tfap2a', 'ptf1a', 'crx', 'vsx1', 'fezf2', 'elavl3'], frameon=False, ncols=4, show=False)\n",
    "plt.savefig(\"/SGRNJ06/randd/USER/cjj/celedev/banmayu/geneplot/marker_exp_tsne.pdf\", dpi=300)"
   ]
  },
  {
   "cell_type": "code",
   "execution_count": null,
   "id": "generic-dakota",
   "metadata": {},
   "outputs": [],
   "source": []
  },
  {
   "cell_type": "code",
   "execution_count": null,
   "id": "celtic-hollow",
   "metadata": {},
   "outputs": [],
   "source": [
    "['atoh7', 'pou4f2', 'tfap2a', 'ptf1a', 'crx', 'vsx1', 'fezf2', 'elavl3']"
   ]
  }
 ],
 "metadata": {
  "kernelspec": {
   "display_name": "trust4_1.7",
   "language": "python",
   "name": "trust4_1.7"
  },
  "language_info": {
   "codemirror_mode": {
    "name": "ipython",
    "version": 3
   },
   "file_extension": ".py",
   "mimetype": "text/x-python",
   "name": "python",
   "nbconvert_exporter": "python",
   "pygments_lexer": "ipython3",
   "version": "3.7.10"
  }
 },
 "nbformat": 4,
 "nbformat_minor": 5
}
