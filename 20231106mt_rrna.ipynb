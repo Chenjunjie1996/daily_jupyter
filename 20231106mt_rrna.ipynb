{
 "cells": [
  {
   "cell_type": "code",
   "execution_count": null,
   "id": "meaningful-smooth",
   "metadata": {},
   "outputs": [],
   "source": [
    "import pysam\n",
    "import pandas as pd \n",
    "import os \n",
    "import glob\n",
    "from collections import defaultdict"
   ]
  },
  {
   "cell_type": "code",
   "execution_count": null,
   "id": "superb-decrease",
   "metadata": {},
   "outputs": [],
   "source": [
    "files = glob.glob(\"/SGRNJ06/randd/USER/cjj/celedev/rna/20231106/*/05.count/*matrix/genes.tsv\")"
   ]
  },
  {
   "cell_type": "code",
   "execution_count": null,
   "id": "occasional-coffee",
   "metadata": {},
   "outputs": [],
   "source": [
    "files"
   ]
  },
  {
   "cell_type": "code",
   "execution_count": null,
   "id": "infrared-guinea",
   "metadata": {},
   "outputs": [],
   "source": [
    "df = pd.read_csv(\"/SGRNJ06/randd/USER/cjj/celedev/rna/20231106/K562_18TL_bulk_NL/05.count/K562_18TL_bulk_NL_raw_feature_bc_matrix/genes.tsv\", sep='\\t',header=None)"
   ]
  },
  {
   "cell_type": "code",
   "execution_count": null,
   "id": "particular-amendment",
   "metadata": {},
   "outputs": [],
   "source": [
    "df.rename(columns = {0: \"id\", 1: \"gene\"})"
   ]
  },
  {
   "cell_type": "code",
   "execution_count": null,
   "id": "dedicated-chocolate",
   "metadata": {},
   "outputs": [],
   "source": [
    "mt_set, rrna_set = set(), set()\n",
    "for file in files:\n",
    "    df = pd.read_csv(file, sep='\\t', header=None)\n",
    "    df = df.rename(columns = {0: \"id\", 1: \"gene\"})\n",
    "    for i in set(df.gene):\n",
    "        if i.startswith(\"MT-\"):\n",
    "            mt_set.add(i)\n",
    "        elif i.startswith(\"RPS\"):\n",
    "            rrna_set.add(i)\n",
    "        elif i.startswith(\"RPL\"):\n",
    "            rrna_set.add(i)"
   ]
  },
  {
   "cell_type": "code",
   "execution_count": null,
   "id": "accompanied-milton",
   "metadata": {},
   "outputs": [],
   "source": [
    "df_mt = df[df['gene'].isin(mt_set)]"
   ]
  },
  {
   "cell_type": "code",
   "execution_count": null,
   "id": "oriented-gathering",
   "metadata": {},
   "outputs": [],
   "source": [
    "df_rrna = df[df['gene'].isin(rrna_set)]"
   ]
  },
  {
   "cell_type": "code",
   "execution_count": null,
   "id": "blank-significance",
   "metadata": {},
   "outputs": [],
   "source": [
    "mt_id = set(df_mt['id'])\n",
    "rrna_id = set(df_rrna['id'])"
   ]
  },
  {
   "cell_type": "code",
   "execution_count": null,
   "id": "demonstrated-click",
   "metadata": {},
   "outputs": [],
   "source": [
    "file = \"/SGRNJ06/randd/USER/cjj/celedev/rna/20231106/K562_18T_bulk_NL/04.featureCounts/K562_18T_bulk_NL_aligned_posSorted_addTag.bam\""
   ]
  },
  {
   "cell_type": "code",
   "execution_count": null,
   "id": "recorded-pacific",
   "metadata": {},
   "outputs": [],
   "source": [
    "bam = pysam.AlignmentFile(file, \"rb\")"
   ]
  },
  {
   "cell_type": "code",
   "execution_count": null,
   "id": "heated-backup",
   "metadata": {},
   "outputs": [],
   "source": [
    "mt_read_count = 0\n",
    "rrna_read_count = 0\n",
    "total_read_count = 0\n",
    "for read in bam:\n",
    "    try:\n",
    "        gene_id = read.get_tag(\"XT\")\n",
    "    except KeyError:\n",
    "        gene_id = None\n",
    "    if gene_id in mt_id:\n",
    "        mt_read_count += 1\n",
    "    elif gene_id in rrna_id:\n",
    "        rrna_read_count += 1\n",
    "    total_read_count += 1"
   ]
  },
  {
   "cell_type": "code",
   "execution_count": null,
   "id": "minute-republican",
   "metadata": {},
   "outputs": [],
   "source": [
    "mt_read_count"
   ]
  },
  {
   "cell_type": "code",
   "execution_count": null,
   "id": "great-angola",
   "metadata": {},
   "outputs": [],
   "source": [
    "rrna_read_count"
   ]
  },
  {
   "cell_type": "code",
   "execution_count": null,
   "id": "helpful-bradley",
   "metadata": {},
   "outputs": [],
   "source": [
    "total_read_count"
   ]
  },
  {
   "cell_type": "code",
   "execution_count": null,
   "id": "living-housing",
   "metadata": {},
   "outputs": [],
   "source": [
    "file = \"/SGRNJ06/randd/USER/cjj/celedev/rna/20231106/K562_18TL_bulk_NL/04.featureCounts/K562_18TL_bulk_NL_aligned_posSorted_addTag.bam\""
   ]
  },
  {
   "cell_type": "code",
   "execution_count": null,
   "id": "rotary-switch",
   "metadata": {},
   "outputs": [],
   "source": [
    "bam = pysam.AlignmentFile(file, \"rb\")"
   ]
  },
  {
   "cell_type": "code",
   "execution_count": null,
   "id": "generic-network",
   "metadata": {},
   "outputs": [],
   "source": [
    "mt_read_count = 0\n",
    "rrna_read_count = 0\n",
    "total_read_count = 0\n",
    "for read in bam:\n",
    "    try:\n",
    "        gene_id = read.get_tag(\"XT\")\n",
    "    except KeyError:\n",
    "        gene_id = None\n",
    "    if gene_id in mt_id:\n",
    "        mt_read_count += 1\n",
    "    elif gene_id in rrna_id:\n",
    "        rrna_read_count += 1\n",
    "    total_read_count += 1"
   ]
  },
  {
   "cell_type": "code",
   "execution_count": null,
   "id": "velvet-borough",
   "metadata": {},
   "outputs": [],
   "source": [
    "mt_read_count"
   ]
  },
  {
   "cell_type": "code",
   "execution_count": null,
   "id": "developmental-community",
   "metadata": {},
   "outputs": [],
   "source": [
    "rrna_read_count"
   ]
  },
  {
   "cell_type": "code",
   "execution_count": null,
   "id": "patent-mortality",
   "metadata": {},
   "outputs": [],
   "source": [
    "total_read_count"
   ]
  },
  {
   "cell_type": "code",
   "execution_count": null,
   "id": "talented-thompson",
   "metadata": {},
   "outputs": [],
   "source": []
  },
  {
   "cell_type": "code",
   "execution_count": null,
   "id": "brave-identifier",
   "metadata": {},
   "outputs": [],
   "source": []
  },
  {
   "cell_type": "code",
   "execution_count": 158,
   "id": "saved-prison",
   "metadata": {},
   "outputs": [],
   "source": [
    "res = defaultdict(int)"
   ]
  },
  {
   "cell_type": "code",
   "execution_count": 159,
   "id": "improved-constraint",
   "metadata": {},
   "outputs": [],
   "source": [
    "# 占比前十的gene\n",
    "file = \"/SGRNJ06/randd/USER/cjj/celedev/rna/20231106/K562_18TL_bulk_NL/04.featureCounts/K562_18TL_bulk_NL_aligned_posSorted_addTag.bam\"\n",
    "bam = pysam.AlignmentFile(file, \"rb\")\n",
    "for read in bam:\n",
    "    try:\n",
    "        gene_id = read.get_tag(\"XT\")\n",
    "    except KeyError:\n",
    "        gene_id = None\n",
    "    res[gene_id] += 1"
   ]
  },
  {
   "cell_type": "code",
   "execution_count": 160,
   "id": "powered-posting",
   "metadata": {},
   "outputs": [],
   "source": [
    "res = sorted(res.items(),key=lambda x:x[1],reverse=True)"
   ]
  },
  {
   "cell_type": "code",
   "execution_count": 161,
   "id": "broadband-testimony",
   "metadata": {},
   "outputs": [],
   "source": [
    "top_gene_id = []\n",
    "top_gene_id_count = []\n",
    "for k in res:\n",
    "    top_gene_id.append(k[0])\n",
    "    top_gene_id_count.append(k[1])"
   ]
  },
  {
   "cell_type": "code",
   "execution_count": 162,
   "id": "employed-cassette",
   "metadata": {},
   "outputs": [],
   "source": [
    "top100_gene_id = top_gene_id[1:1001]\n",
    "top100_gene_id_count = top_gene_id_count[1:1001]"
   ]
  },
  {
   "cell_type": "code",
   "execution_count": 163,
   "id": "played-ontario",
   "metadata": {},
   "outputs": [],
   "source": [
    "df = pd.read_csv(\"/SGRNJ06/randd/USER/cjj/celedev/rna/20231106/K562_18TL_bulk_NL/05.count/K562_18TL_bulk_NL_raw_feature_bc_matrix/genes.tsv\", sep='\\t',header=None)\n",
    "df = df.rename(columns = {0: \"id\", 1: \"gene\"})"
   ]
  },
  {
   "cell_type": "code",
   "execution_count": 164,
   "id": "funky-stage",
   "metadata": {},
   "outputs": [],
   "source": [
    "id_gene_dict = dict(zip(list(df['id']), list(df['gene'])))"
   ]
  },
  {
   "cell_type": "code",
   "execution_count": 165,
   "id": "behavioral-helping",
   "metadata": {},
   "outputs": [],
   "source": [
    "c={\"id\":top100_gene_id,\n",
    "   'count':top100_gene_id_count}  #用列表a，b构造字典\n",
    " \n",
    "data=pd.DataFrame(c)"
   ]
  },
  {
   "cell_type": "code",
   "execution_count": 166,
   "id": "circular-nirvana",
   "metadata": {},
   "outputs": [],
   "source": [
    "data['id'] = data['id'].apply(lambda x: id_gene_dict[x])"
   ]
  },
  {
   "cell_type": "code",
   "execution_count": 167,
   "id": "original-browser",
   "metadata": {},
   "outputs": [
    {
     "data": {
      "text/html": [
       "<div>\n",
       "<style scoped>\n",
       "    .dataframe tbody tr th:only-of-type {\n",
       "        vertical-align: middle;\n",
       "    }\n",
       "\n",
       "    .dataframe tbody tr th {\n",
       "        vertical-align: top;\n",
       "    }\n",
       "\n",
       "    .dataframe thead th {\n",
       "        text-align: right;\n",
       "    }\n",
       "</style>\n",
       "<table border=\"1\" class=\"dataframe\">\n",
       "  <thead>\n",
       "    <tr style=\"text-align: right;\">\n",
       "      <th></th>\n",
       "      <th>id</th>\n",
       "      <th>count</th>\n",
       "    </tr>\n",
       "  </thead>\n",
       "  <tbody>\n",
       "    <tr>\n",
       "      <th>0</th>\n",
       "      <td>MT-RNR1</td>\n",
       "      <td>139975</td>\n",
       "    </tr>\n",
       "    <tr>\n",
       "      <th>1</th>\n",
       "      <td>MT-RNR2</td>\n",
       "      <td>63983</td>\n",
       "    </tr>\n",
       "    <tr>\n",
       "      <th>2</th>\n",
       "      <td>MT-CO3</td>\n",
       "      <td>38059</td>\n",
       "    </tr>\n",
       "    <tr>\n",
       "      <th>3</th>\n",
       "      <td>MT-CO1</td>\n",
       "      <td>36238</td>\n",
       "    </tr>\n",
       "    <tr>\n",
       "      <th>4</th>\n",
       "      <td>MALAT1</td>\n",
       "      <td>35973</td>\n",
       "    </tr>\n",
       "    <tr>\n",
       "      <th>...</th>\n",
       "      <td>...</td>\n",
       "      <td>...</td>\n",
       "    </tr>\n",
       "    <tr>\n",
       "      <th>995</th>\n",
       "      <td>MRPL18</td>\n",
       "      <td>824</td>\n",
       "    </tr>\n",
       "    <tr>\n",
       "      <th>996</th>\n",
       "      <td>ATXN7L3B</td>\n",
       "      <td>822</td>\n",
       "    </tr>\n",
       "    <tr>\n",
       "      <th>997</th>\n",
       "      <td>SELENOW</td>\n",
       "      <td>822</td>\n",
       "    </tr>\n",
       "    <tr>\n",
       "      <th>998</th>\n",
       "      <td>GYPC</td>\n",
       "      <td>822</td>\n",
       "    </tr>\n",
       "    <tr>\n",
       "      <th>999</th>\n",
       "      <td>PDCD10</td>\n",
       "      <td>821</td>\n",
       "    </tr>\n",
       "  </tbody>\n",
       "</table>\n",
       "<p>1000 rows × 2 columns</p>\n",
       "</div>"
      ],
      "text/plain": [
       "           id   count\n",
       "0     MT-RNR1  139975\n",
       "1     MT-RNR2   63983\n",
       "2      MT-CO3   38059\n",
       "3      MT-CO1   36238\n",
       "4      MALAT1   35973\n",
       "..        ...     ...\n",
       "995    MRPL18     824\n",
       "996  ATXN7L3B     822\n",
       "997   SELENOW     822\n",
       "998      GYPC     822\n",
       "999    PDCD10     821\n",
       "\n",
       "[1000 rows x 2 columns]"
      ]
     },
     "execution_count": 167,
     "metadata": {},
     "output_type": "execute_result"
    }
   ],
   "source": [
    "data"
   ]
  },
  {
   "cell_type": "code",
   "execution_count": 169,
   "id": "european-carolina",
   "metadata": {},
   "outputs": [],
   "source": [
    "data.to_csv(\"/SGRNJ06/randd/USER/cjj/celedev/rna/20231106/K562_18TL_bulk_NL_top1000.tsv\", sep='\\t')"
   ]
  },
  {
   "cell_type": "code",
   "execution_count": null,
   "id": "mathematical-central",
   "metadata": {},
   "outputs": [],
   "source": []
  },
  {
   "cell_type": "code",
   "execution_count": null,
   "id": "ceramic-oakland",
   "metadata": {},
   "outputs": [],
   "source": []
  },
  {
   "cell_type": "code",
   "execution_count": null,
   "id": "suitable-category",
   "metadata": {},
   "outputs": [],
   "source": []
  }
 ],
 "metadata": {
  "kernelspec": {
   "display_name": "trust4_1.7",
   "language": "python",
   "name": "trust4_1.7"
  },
  "language_info": {
   "codemirror_mode": {
    "name": "ipython",
    "version": 3
   },
   "file_extension": ".py",
   "mimetype": "text/x-python",
   "name": "python",
   "nbconvert_exporter": "python",
   "pygments_lexer": "ipython3",
   "version": "3.7.10"
  }
 },
 "nbformat": 4,
 "nbformat_minor": 5
}
