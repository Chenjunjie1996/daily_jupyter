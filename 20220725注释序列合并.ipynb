{
 "cells": [
  {
   "cell_type": "code",
   "execution_count": null,
   "id": "ranging-lighting",
   "metadata": {},
   "outputs": [],
   "source": [
    "import pandas as pd\n",
    "import pysam\n",
    "import matplotlib.pyplot as plt\n",
    "import pandas as pd\n",
    "from collections import defaultdict\n",
    "from Bio.Seq import Seq"
   ]
  },
  {
   "cell_type": "code",
   "execution_count": null,
   "id": "unavailable-massachusetts",
   "metadata": {},
   "outputs": [],
   "source": [
    "Clonotype\tFrequency\tIGH_cdr3\tIGH_cdr3_nt\tcontig_id_IGH\tIGH_aa\tIGH_nt\tIGLorK_cdr3\tIGLorK_cdr3_nt\tcontig_id_IGLorKs\tIGLorK_aa\tIGLorK_nt"
   ]
  },
  {
   "cell_type": "code",
   "execution_count": null,
   "id": "caroline-cartridge",
   "metadata": {},
   "outputs": [],
   "source": [
    "out_path = '/SGRNJ06/bioinfo/PROJ04/PROJ_22.10X/P22062202_VDJ/20220712/WCM-20220617-B_BCR/WCM-20220617-B_VDJ_10X/WCM-20220617-B_VDJ_10X/outs'"
   ]
  },
  {
   "cell_type": "code",
   "execution_count": null,
   "id": "visible-colorado",
   "metadata": {},
   "outputs": [],
   "source": [
    "airr = pd.read_csv(f'{out_path}/airr_rearrangement.tsv',sep='\\t')\n",
    "contig = pd.read_csv(f'{out_path}/filtered_contig_annotations.csv')\n",
    "clonotype = pd.read_csv(f'{out_path}/clonotypes.csv')"
   ]
  },
  {
   "cell_type": "code",
   "execution_count": null,
   "id": "dangerous-example",
   "metadata": {},
   "outputs": [],
   "source": [
    "del clonotype['proportion']\n",
    "clonotype"
   ]
  },
  {
   "cell_type": "code",
   "execution_count": null,
   "id": "promotional-spring",
   "metadata": {},
   "outputs": [],
   "source": [
    "clonotype['cdr3s_aa'] = clonotype['cdr3s_aa'].apply(lambda x:x.split(';'))\n",
    "clonotype['cdr3s_nt'] = clonotype['cdr3s_nt'].apply(lambda x:x.split(';'))"
   ]
  },
  {
   "cell_type": "code",
   "execution_count": null,
   "id": "behind-contributor",
   "metadata": {},
   "outputs": [],
   "source": [
    "clonotype"
   ]
  },
  {
   "cell_type": "code",
   "execution_count": null,
   "id": "answering-cleveland",
   "metadata": {},
   "outputs": [],
   "source": [
    "aa_list = clonotype['cdr3s_aa'].tolist()\n",
    "aa_dict = {}\n",
    "for i,j in enumerate(aa_list,1):\n",
    "    aa_dict[i] = j"
   ]
  },
  {
   "cell_type": "code",
   "execution_count": null,
   "id": "aggregate-frontier",
   "metadata": {},
   "outputs": [],
   "source": [
    "aa_dict[3444]"
   ]
  },
  {
   "cell_type": "code",
   "execution_count": null,
   "id": "experienced-consultancy",
   "metadata": {},
   "outputs": [],
   "source": [
    "IGH_cdr3 = dict()\n",
    "IGL_cdr3 = dict()"
   ]
  },
  {
   "cell_type": "code",
   "execution_count": null,
   "id": "scientific-cutting",
   "metadata": {},
   "outputs": [],
   "source": [
    "for key,value in aa_dict.items():\n",
    "    if len(value)==2: \n",
    "        for i in value:\n",
    "            if i.startswith('IGH'):\n",
    "                IGH_cdr3['clonotype'+str(key)]= (i.split(':')[-1])\n",
    "            else:\n",
    "                IGL_cdr3['clonotype'+str(key)]= (i.split(':')[-1])"
   ]
  },
  {
   "cell_type": "code",
   "execution_count": null,
   "id": "restricted-corner",
   "metadata": {},
   "outputs": [],
   "source": [
    "IGH_cdr3"
   ]
  },
  {
   "cell_type": "code",
   "execution_count": null,
   "id": "minor-conditions",
   "metadata": {},
   "outputs": [],
   "source": []
  },
  {
   "cell_type": "code",
   "execution_count": null,
   "id": "russian-growth",
   "metadata": {},
   "outputs": [],
   "source": [
    "df_IGH_cdr3 = pd.DataFrame(list(IGH_cdr3.items()),columns=['clonotype_id', 'IGH_cdr3'])\n",
    "df_IGL_cdr3 = pd.DataFrame(list(IGL_cdr3.items()),columns=['clonotype_id', 'IGLorK_cdr3'])"
   ]
  },
  {
   "cell_type": "code",
   "execution_count": null,
   "id": "dramatic-strain",
   "metadata": {},
   "outputs": [],
   "source": []
  },
  {
   "cell_type": "code",
   "execution_count": null,
   "id": "tracked-colonial",
   "metadata": {},
   "outputs": [],
   "source": [
    "df_merge = pd.merge(clonotype,df_IGH_cdr3,on='clonotype_id',how='inner')\n",
    "df_merge = pd.merge(df_merge, df_IGL_cdr3,on='clonotype_id',how='inner')"
   ]
  },
  {
   "cell_type": "code",
   "execution_count": null,
   "id": "improving-battery",
   "metadata": {},
   "outputs": [],
   "source": [
    "del df_merge['cdr3s_aa']"
   ]
  },
  {
   "cell_type": "code",
   "execution_count": null,
   "id": "previous-paraguay",
   "metadata": {},
   "outputs": [],
   "source": [
    "df_merge"
   ]
  },
  {
   "cell_type": "code",
   "execution_count": null,
   "id": "velvet-vehicle",
   "metadata": {},
   "outputs": [],
   "source": []
  },
  {
   "cell_type": "code",
   "execution_count": null,
   "id": "ancient-yukon",
   "metadata": {},
   "outputs": [],
   "source": [
    "nt_list = clonotype['cdr3s_nt'].tolist()\n",
    "nt_dict = {}\n",
    "for i,j in enumerate(nt_list,1):\n",
    "    nt_dict[i] = j"
   ]
  },
  {
   "cell_type": "code",
   "execution_count": null,
   "id": "collective-share",
   "metadata": {},
   "outputs": [],
   "source": [
    "IGH_cdr3_nt = dict()\n",
    "IGL_cdr3_nt = dict()"
   ]
  },
  {
   "cell_type": "code",
   "execution_count": null,
   "id": "processed-instrument",
   "metadata": {},
   "outputs": [],
   "source": [
    "for key,value in nt_dict.items():\n",
    "    for i in value:\n",
    "        if i.startswith('IGH'):\n",
    "            IGH_cdr3_nt['clonotype'+str(key)]=(i.split(':')[-1])\n",
    "        else:\n",
    "            IGL_cdr3_nt['clonotype'+str(key)]=(i.split(':')[-1])"
   ]
  },
  {
   "cell_type": "code",
   "execution_count": null,
   "id": "abstract-postage",
   "metadata": {},
   "outputs": [],
   "source": []
  },
  {
   "cell_type": "code",
   "execution_count": null,
   "id": "stopped-mandate",
   "metadata": {},
   "outputs": [],
   "source": [
    "df_IGH_cdr3_nt = pd.DataFrame(list(IGH_cdr3_nt.items()),columns=['clonotype_id', 'IGH_cdr3_nt'])\n",
    "df_IGL_cdr3_nt = pd.DataFrame(list(IGL_cdr3_nt.items()),columns=['clonotype_id', 'IGLorK_cdr3_nt'])"
   ]
  },
  {
   "cell_type": "code",
   "execution_count": null,
   "id": "official-plane",
   "metadata": {},
   "outputs": [],
   "source": [
    "df_merge = pd.merge(df_merge,df_IGH_cdr3_nt,on='clonotype_id',how='inner')\n",
    "df_merge = pd.merge(df_merge,df_IGL_cdr3_nt,on='clonotype_id',how='inner')"
   ]
  },
  {
   "cell_type": "code",
   "execution_count": null,
   "id": "hispanic-phrase",
   "metadata": {},
   "outputs": [],
   "source": [
    "del df_merge['cdr3s_nt']\n",
    "df_merge"
   ]
  },
  {
   "cell_type": "code",
   "execution_count": null,
   "id": "educational-insulin",
   "metadata": {},
   "outputs": [],
   "source": [
    "df_merge['Clonotype'] = df_merge['IGH_cdr3'] + '_' + df_merge['IGLorK_cdr3']"
   ]
  },
  {
   "cell_type": "code",
   "execution_count": null,
   "id": "partial-notice",
   "metadata": {},
   "outputs": [],
   "source": [
    "df_merge =df_merge[['clonotype_id','Clonotype','frequency','IGH_cdr3','IGH_cdr3_nt','IGLorK_cdr3','IGLorK_cdr3_nt']]"
   ]
  },
  {
   "cell_type": "code",
   "execution_count": null,
   "id": "exterior-astronomy",
   "metadata": {},
   "outputs": [],
   "source": [
    "df_merge"
   ]
  },
  {
   "cell_type": "code",
   "execution_count": null,
   "id": "bearing-fever",
   "metadata": {},
   "outputs": [],
   "source": []
  },
  {
   "cell_type": "code",
   "execution_count": null,
   "id": "ceramic-compensation",
   "metadata": {},
   "outputs": [],
   "source": [
    "airr"
   ]
  },
  {
   "cell_type": "code",
   "execution_count": null,
   "id": "manual-actor",
   "metadata": {},
   "outputs": [],
   "source": [
    "airr = airr[['clone_id','sequence_id','sequence','sequence_aa']]"
   ]
  },
  {
   "cell_type": "code",
   "execution_count": null,
   "id": "statistical-tunnel",
   "metadata": {},
   "outputs": [],
   "source": [
    "airr.rename(columns={'sequence_id':'contig_id'},inplace=True)"
   ]
  },
  {
   "cell_type": "code",
   "execution_count": null,
   "id": "boolean-serve",
   "metadata": {},
   "outputs": [],
   "source": [
    "contig.sort_values('reads',ascending=False,inplace=True)"
   ]
  },
  {
   "cell_type": "code",
   "execution_count": null,
   "id": "decent-modeling",
   "metadata": {},
   "outputs": [],
   "source": [
    "contig= contig[['contig_id','chain']]"
   ]
  },
  {
   "cell_type": "code",
   "execution_count": null,
   "id": "controlled-sphere",
   "metadata": {},
   "outputs": [],
   "source": [
    "df_merge1 = pd.merge(airr,contig,on='contig_id')"
   ]
  },
  {
   "cell_type": "code",
   "execution_count": null,
   "id": "liberal-institute",
   "metadata": {},
   "outputs": [],
   "source": [
    "df_merge1.rename(columns={'clone_id':'clonotype_id'},inplace=True)"
   ]
  },
  {
   "cell_type": "code",
   "execution_count": null,
   "id": "frank-armstrong",
   "metadata": {},
   "outputs": [],
   "source": [
    "df_merge1['idnum'] = df_merge1['clonotype_id'].apply(lambda x: int(x[9:]))"
   ]
  },
  {
   "cell_type": "code",
   "execution_count": null,
   "id": "liquid-evans",
   "metadata": {},
   "outputs": [],
   "source": [
    "df_merge1.sort_values(['idnum','chain'],inplace=True)"
   ]
  },
  {
   "cell_type": "code",
   "execution_count": null,
   "id": "nuclear-control",
   "metadata": {},
   "outputs": [],
   "source": [
    "del df_merge1['idnum']"
   ]
  },
  {
   "cell_type": "code",
   "execution_count": null,
   "id": "recent-people",
   "metadata": {},
   "outputs": [],
   "source": [
    "df_merge1"
   ]
  },
  {
   "cell_type": "code",
   "execution_count": null,
   "id": "structural-timber",
   "metadata": {},
   "outputs": [],
   "source": [
    "target_contigid = df_merge['clonotype_id'].tolist()"
   ]
  },
  {
   "cell_type": "code",
   "execution_count": null,
   "id": "allied-shelf",
   "metadata": {},
   "outputs": [],
   "source": [
    "df_merge1 = df_merge1[df_merge1['clonotype_id'].isin(target_contigid)]"
   ]
  },
  {
   "cell_type": "code",
   "execution_count": null,
   "id": "commercial-cattle",
   "metadata": {},
   "outputs": [],
   "source": [
    "df_merge1"
   ]
  },
  {
   "cell_type": "code",
   "execution_count": null,
   "id": "pretty-diabetes",
   "metadata": {},
   "outputs": [],
   "source": [
    "df_merge1.drop_duplicates(['clonotype_id','chain'],inplace=True)\n",
    "# df_merge1 = df_merge1.where(df_merge_f.notnull(),'None')"
   ]
  },
  {
   "cell_type": "code",
   "execution_count": null,
   "id": "naughty-handbook",
   "metadata": {},
   "outputs": [],
   "source": [
    "df_merge1"
   ]
  },
  {
   "cell_type": "code",
   "execution_count": null,
   "id": "terminal-senate",
   "metadata": {},
   "outputs": [],
   "source": []
  },
  {
   "cell_type": "code",
   "execution_count": null,
   "id": "thrown-spirituality",
   "metadata": {},
   "outputs": [],
   "source": [
    "df_merge"
   ]
  },
  {
   "cell_type": "code",
   "execution_count": null,
   "id": "executive-palestinian",
   "metadata": {},
   "outputs": [],
   "source": [
    "df_merge1_IGH = df_merge1[df_merge1['chain']=='IGH']\n",
    "df_merge1_IGL = df_merge1[df_merge1['chain']!='IGH']"
   ]
  },
  {
   "cell_type": "code",
   "execution_count": null,
   "id": "connected-antibody",
   "metadata": {},
   "outputs": [],
   "source": [
    "del df_merge1_IGH['chain']\n",
    "del df_merge1_IGL['chain']\n",
    "df_merge1_IGH.rename(columns={'contig_id':'contig_id_IGH'},inplace=True)\n",
    "df_merge1_IGL.rename(columns={'contig_id':'contig_id_IGLorKs'},inplace=True)"
   ]
  },
  {
   "cell_type": "code",
   "execution_count": null,
   "id": "original-appliance",
   "metadata": {},
   "outputs": [],
   "source": [
    "df_merge1_IGH.rename(columns={'sequence':'IGH_nt'},inplace=True)\n",
    "df_merge1_IGL.rename(columns={'sequence':'IGLorK_nt'},inplace=True)\n",
    "df_merge1_IGH.rename(columns={'sequence_aa':'IGH_aa'},inplace=True)\n",
    "df_merge1_IGL.rename(columns={'sequence_aa':'IGLorK_aa'},inplace=True)"
   ]
  },
  {
   "cell_type": "code",
   "execution_count": null,
   "id": "settled-douglas",
   "metadata": {},
   "outputs": [],
   "source": [
    "df_merge1_IGH"
   ]
  },
  {
   "cell_type": "code",
   "execution_count": null,
   "id": "outdoor-scope",
   "metadata": {},
   "outputs": [],
   "source": [
    "df_merge_f = pd.merge(df_merge,df_merge1_IGH,on='clonotype_id')"
   ]
  },
  {
   "cell_type": "code",
   "execution_count": null,
   "id": "living-writing",
   "metadata": {},
   "outputs": [],
   "source": [
    "df_merge_f = pd.merge(df_merge_f,df_merge1_IGL,on='clonotype_id')"
   ]
  },
  {
   "cell_type": "code",
   "execution_count": null,
   "id": "prime-transcription",
   "metadata": {},
   "outputs": [],
   "source": [
    "df_merge_f"
   ]
  },
  {
   "cell_type": "code",
   "execution_count": null,
   "id": "incomplete-setting",
   "metadata": {},
   "outputs": [],
   "source": [
    "df_merge_f.columns"
   ]
  },
  {
   "cell_type": "code",
   "execution_count": null,
   "id": "corresponding-thought",
   "metadata": {},
   "outputs": [],
   "source": [
    "df_merge_f.rename(columns={'frequency':'Frequency'},inplace=True)"
   ]
  },
  {
   "cell_type": "code",
   "execution_count": null,
   "id": "brazilian-database",
   "metadata": {},
   "outputs": [],
   "source": [
    "df_merge_f = df_merge_f[['clonotype_id','Clonotype','Frequency','IGH_cdr3','IGH_cdr3_nt','contig_id_IGH','IGH_aa','IGH_nt',\n",
    "                        'IGLorK_cdr3','IGLorK_cdr3_nt','contig_id_IGLorKs','IGLorK_aa','IGLorK_nt']]"
   ]
  },
  {
   "cell_type": "code",
   "execution_count": null,
   "id": "north-shopping",
   "metadata": {},
   "outputs": [],
   "source": [
    "df_merge_f"
   ]
  },
  {
   "cell_type": "code",
   "execution_count": null,
   "id": "subtle-deviation",
   "metadata": {},
   "outputs": [],
   "source": [
    "df_merge_f.to_csv('/SGRNJ06/randd/USER/cjj/celedev/vdj10x/20220725anno_seq_suzhou/filtered_contig_annotations_pair_productive_with_sequence.tsv',sep='\\t')"
   ]
  },
  {
   "cell_type": "code",
   "execution_count": null,
   "id": "intimate-shuttle",
   "metadata": {},
   "outputs": [],
   "source": []
  }
 ],
 "metadata": {
  "kernelspec": {
   "display_name": "Python 3 (ipykernel)",
   "language": "python",
   "name": "python3"
  },
  "language_info": {
   "codemirror_mode": {
    "name": "ipython",
    "version": 3
   },
   "file_extension": ".py",
   "mimetype": "text/x-python",
   "name": "python",
   "nbconvert_exporter": "python",
   "pygments_lexer": "ipython3",
   "version": "3.7.10"
  }
 },
 "nbformat": 4,
 "nbformat_minor": 5
}
