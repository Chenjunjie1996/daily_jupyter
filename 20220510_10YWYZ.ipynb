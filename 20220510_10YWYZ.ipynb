{
 "cells": [
  {
   "cell_type": "code",
   "execution_count": 1,
   "id": "vital-remark",
   "metadata": {},
   "outputs": [],
   "source": [
    "import pandas as pd\n",
    "import pysam"
   ]
  },
  {
   "cell_type": "code",
   "execution_count": null,
   "id": "engaged-combat",
   "metadata": {},
   "outputs": [],
   "source": [
    "L27C8U8\n",
    "AAGCAGTGGTATCAACGCAGAGTGAAT\n",
    "AACGTGAT\n",
    "NNNNNNNN\n",
    "/rG//rG//rG/"
   ]
  },
  {
   "cell_type": "code",
   "execution_count": 2,
   "id": "sixth-fishing",
   "metadata": {},
   "outputs": [],
   "source": [
    "handle_file = open('/SGRNJ06/randd/USER/cjj/celedev/vdj10x/20220510_BCR_primer/R220429126/whitelist', 'w')\n",
    "with pysam.FastxFile('/SGRNJ06/randd/USER/cjj/celedev/vdj10x/20220510_BCR_primer/R220429126/R220429126_R1.fastq.gz') as f:\n",
    "    for read in f:\n",
    "        handle_file.write(str(read.sequence[27:35]) + '\\n')\n",
    "handle_file.close()"
   ]
  },
  {
   "cell_type": "code",
   "execution_count": 3,
   "id": "psychological-dining",
   "metadata": {},
   "outputs": [],
   "source": [
    "handle_file = open('/SGRNJ06/randd/USER/cjj/celedev/vdj10x/20220510_BCR_primer/R220429127/whitelist', 'w')\n",
    "with pysam.FastxFile('/SGRNJ06/randd/USER/cjj/celedev/vdj10x/20220510_BCR_primer/R220429127/R220429127_R1.fastq.gz') as f:\n",
    "    for read in f:\n",
    "        handle_file.write(str(read.sequence[27:35]) + '\\n')\n",
    "handle_file.close()"
   ]
  },
  {
   "cell_type": "code",
   "execution_count": 4,
   "id": "liked-occurrence",
   "metadata": {},
   "outputs": [],
   "source": [
    "handle_file = open('/SGRNJ06/randd/USER/cjj/celedev/vdj10x/20220510_BCR_primer/R220429128/whitelist', 'w')\n",
    "with pysam.FastxFile('/SGRNJ06/randd/USER/cjj/celedev/vdj10x/20220510_BCR_primer/R220429128/R220429128_R1.fastq.gz') as f:\n",
    "    for read in f:\n",
    "        handle_file.write(str(read.sequence[27:35]) + '\\n')\n",
    "handle_file.close()"
   ]
  },
  {
   "cell_type": "code",
   "execution_count": 5,
   "id": "fresh-patrol",
   "metadata": {},
   "outputs": [],
   "source": [
    "handle_file = open('/SGRNJ06/randd/USER/cjj/celedev/vdj10x/20220510_BCR_primer/R220429129/whitelist', 'w')\n",
    "with pysam.FastxFile('/SGRNJ06/randd/USER/cjj/celedev/vdj10x/20220510_BCR_primer/R220429129/R220429129_R1.fastq.gz') as f:\n",
    "    for read in f:\n",
    "        handle_file.write(str(read.sequence[27:35]) + '\\n')\n",
    "handle_file.close()"
   ]
  },
  {
   "cell_type": "code",
   "execution_count": 6,
   "id": "copyrighted-undergraduate",
   "metadata": {},
   "outputs": [],
   "source": [
    "handle_file = open('/SGRNJ06/randd/USER/cjj/celedev/vdj10x/20220510_BCR_primer/R220429130/whitelist', 'w')\n",
    "with pysam.FastxFile('/SGRNJ06/randd/USER/cjj/celedev/vdj10x/20220510_BCR_primer/R220429130/R220429130_R1.fastq.gz') as f:\n",
    "    for read in f:\n",
    "        handle_file.write(str(read.sequence[27:35]) + '\\n')\n",
    "handle_file.close()"
   ]
  },
  {
   "cell_type": "code",
   "execution_count": 7,
   "id": "empty-posting",
   "metadata": {},
   "outputs": [],
   "source": [
    "handle_file = open('/SGRNJ06/randd/USER/cjj/celedev/vdj10x/20220510_BCR_primer/R220429131/whitelist', 'w')\n",
    "with pysam.FastxFile('/SGRNJ06/randd/USER/cjj/celedev/vdj10x/20220510_BCR_primer/R220429131/R220429131_R1.fastq.gz') as f:\n",
    "    for read in f:\n",
    "        handle_file.write(str(read.sequence[27:35]) + '\\n')\n",
    "handle_file.close()"
   ]
  },
  {
   "cell_type": "code",
   "execution_count": 8,
   "id": "distinguished-wireless",
   "metadata": {},
   "outputs": [],
   "source": [
    "handle_file = open('/SGRNJ06/randd/USER/cjj/celedev/vdj10x/20220510_BCR_primer/R220429133/whitelist', 'w')\n",
    "with pysam.FastxFile('/SGRNJ06/randd/USER/cjj/celedev/vdj10x/20220510_BCR_primer/R220429133/R220429133_R1.fastq.gz') as f:\n",
    "    for read in f:\n",
    "        handle_file.write(str(read.sequence[27:35]) + '\\n')\n",
    "handle_file.close()"
   ]
  },
  {
   "cell_type": "code",
   "execution_count": null,
   "id": "driving-therapy",
   "metadata": {},
   "outputs": [],
   "source": []
  }
 ],
 "metadata": {
  "kernelspec": {
   "display_name": "Python 3",
   "language": "python",
   "name": "python3"
  },
  "language_info": {
   "codemirror_mode": {
    "name": "ipython",
    "version": 3
   },
   "file_extension": ".py",
   "mimetype": "text/x-python",
   "name": "python",
   "nbconvert_exporter": "python",
   "pygments_lexer": "ipython3",
   "version": "3.7.10"
  }
 },
 "nbformat": 4,
 "nbformat_minor": 5
}
