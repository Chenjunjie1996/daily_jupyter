{
 "cells": [
  {
   "cell_type": "code",
   "execution_count": 5,
   "id": "cathedral-toilet",
   "metadata": {},
   "outputs": [],
   "source": [
    "import sys\n",
    "import csv\n",
    "import re\n",
    "import collections"
   ]
  },
  {
   "cell_type": "code",
   "execution_count": 2,
   "id": "parliamentary-conservation",
   "metadata": {},
   "outputs": [],
   "source": [
    "input_genes_file = '/SGRNJ06/randd/USER/cjj/celedev/mkgtf/c3/Homo_sapiens.GRCh38.92.chr.gtf'\n",
    "out_genes_file = '/SGRNJ06/randd/USER/cjj/celedev/mkgtf/c3/jupyter.gtf'"
   ]
  },
  {
   "cell_type": "code",
   "execution_count": 3,
   "id": "basic-associate",
   "metadata": {},
   "outputs": [],
   "source": [
    "attributes_str = \" --attribute=gene_biotype:protein_coding,\n",
    "                   --attribute=gene_biotype:lncRNA,\n",
    "                   --attribute=gene_biotype:antisense\n",
    "                   --attribute=gene_biotype:IG_LV_gene\n",
    "                   --attribute=gene_biotype:IG_V_gene\n",
    "                   --attribute=gene_biotype:IG_V_pseudogene\n",
    "                   --attribute=gene_biotype:IG_D_gene\n",
    "                   --attribute=gene_biotype:IG_J_gene\n",
    "                   --attribute=gene_biotype:IG_J_pseudogene\n",
    "                   --attribute=gene_biotype:IG_C_gene\n",
    "                   --attribute=gene_biotype:IG_C_pseudogene\n",
    "                   --attribute=gene_biotype:TR_V_gene\n",
    "                   --attribute=gene_biotype:TR_V_pseudogene\n",
    "                   --attribute=gene_biotype:TR_D_gene\n",
    "                   --attribute=gene_biotype:TR_J_gene\n",
    "                   --attribute=gene_biotype:TR_J_pseudogene\n",
    "                   --attribute=gene_biotype:TR_C_gene \""
   ]
  },
  {
   "cell_type": "code",
   "execution_count": 4,
   "id": "asian-cornell",
   "metadata": {},
   "outputs": [],
   "source": [
    "attributes = collections.defaultdict(set)"
   ]
  },
  {
   "cell_type": "code",
   "execution_count": 5,
   "id": "homeless-arabic",
   "metadata": {},
   "outputs": [
    {
     "ename": "SystemExit",
     "evalue": "Attribute option must have format <key;value>:  ",
     "output_type": "error",
     "traceback": [
      "An exception has occurred, use %tb to see the full traceback.\n",
      "\u001b[0;31mSystemExit\u001b[0m\u001b[0;31m:\u001b[0m Attribute option must have format <key;value>:  \n"
     ]
    },
    {
     "name": "stderr",
     "output_type": "stream",
     "text": [
      "/SGRNJ/Public/Software/conda_env/chenjunjie/lib/python3.7/site-packages/IPython/core/interactiveshell.py:3435: UserWarning: To exit: use 'exit', 'quit', or Ctrl-D.\n",
      "  warn(\"To exit: use 'exit', 'quit', or Ctrl-D.\", stacklevel=1)\n"
     ]
    }
   ],
   "source": [
    "    for attribute_str in attributes_str:\n",
    "        parts = attribute_str.split(':')\n",
    "        if len(parts) != 2:\n",
    "            sys.exit(\"Attribute option must have format <key;value>: %s\" % attribute_str)\n",
    "        key, value = parts\n",
    "        attributes[key].add(value)"
   ]
  },
  {
   "cell_type": "code",
   "execution_count": 6,
   "id": "european-daisy",
   "metadata": {},
   "outputs": [],
   "source": [
    "input_genes_file = '/SGRNJ06/randd/USER/cjj/celedev/mkgtf/c3/Homo_sapiens.GRCh38.92.chr.gtf'"
   ]
  },
  {
   "cell_type": "code",
   "execution_count": null,
   "id": "instructional-institution",
   "metadata": {},
   "outputs": [],
   "source": [
    "with open(input_genes_file, 'r') as f:\n",
    "    reader = csv.reader(f, delimiter='\\t')\n",
    "    for i, row in enumerate(reader):\n",
    "        print(row[-1])"
   ]
  },
  {
   "cell_type": "code",
   "execution_count": 7,
   "id": "blank-plane",
   "metadata": {},
   "outputs": [],
   "source": [
    "def get_properties_dict(properties_str):\n",
    "    if isinstance(properties_str, dict):\n",
    "        return properties_str\n",
    "\n",
    "    properties = collections.OrderedDict()\n",
    "    pattern = re.compile('(\\S+?)\\s*\"(.*?)\"')\n",
    "    for m in re.finditer(pattern, properties_str):\n",
    "        print(m)\n",
    "        key = m.group(1)\n",
    "        value = m.group(2)\n",
    "        properties[key] = value\n",
    "    return properties"
   ]
  },
  {
   "cell_type": "code",
   "execution_count": 8,
   "id": "advanced-burlington",
   "metadata": {},
   "outputs": [],
   "source": [
    "def gtf_reader_iter(in_gtf):\n",
    "    with open(in_gtf, 'r') as f:\n",
    "        reader = csv.reader(f, delimiter='\\t')\n",
    "        for i, row in enumerate(reader):\n",
    "            if len(row) == 0:\n",
    "                continue\n",
    "            if row[0].startswith('#'):\n",
    "                yield row, True, None\n",
    "                continue\n",
    "\n",
    "            if len(row) != 9:\n",
    "                sys.exit(\"Invalid number of columns in GTF line %d: %s\\n\\n%s\" % (i+1, '\\t'.join(row), 'Please check your GTF file'))\n",
    "\n",
    "            strand = row[6]\n",
    "            if strand not in ['+', '-']:\n",
    "                sys.exit('Invalid strand in GTF line %d: %s\\n\\n%s' % (i+1, '\\t'.join(row), 'Please check your GTF file'))\n",
    "\n",
    "            annotation = row[2]\n",
    "            properties = get_properties_dict(row[8])\n",
    "            if annotation == 'exon':\n",
    "                if 'transcript_id' not in properties:\n",
    "                    sys.exit(\"Property 'transcript_id' not found in GTF line %d: %s\\n\\n%s\" % (i+1, '\\t'.join(row), 'Please check your GTF file'))\n",
    "                if ';' in properties['transcript_id']:\n",
    "                    sys.exit(\"Property 'transcript_id' has invalid character ';' in GTF line %d: %s\\n\\n%s\" % (i+1, '\\t'.join(row), 'Please check your GTF file'))\n",
    "                if re.search(r'\\s', properties['transcript_id']) is not None:\n",
    "                    sys.exit(\"Property 'transcript_id' has invalid whitespace character in GTF line %d: %s\\n\\n%s\" % (i+1, '\\t'.join(row), 'Please check your GTF file'))\n",
    "                if 'gene_id' not in properties:\n",
    "                    sys.exit(\"Property 'gene_id' not found in GTF line %d: %s\\n\\n%s\" % (i+1, '\\t'.join(row), 'Please check your GTF file'))\n",
    "                if ';' in properties['gene_id']:\n",
    "                    sys.exit(\"Property 'gene_id' has invalid character ';' in GTF line %d: %s\\n\\n%s\" % (i+1, '\\t'.join(row), 'Please check your GTF file'))\n",
    "\n",
    "            yield row, False, properties"
   ]
  },
  {
   "cell_type": "code",
   "execution_count": 9,
   "id": "finite-cosmetic",
   "metadata": {},
   "outputs": [
    {
     "name": "stdout",
     "output_type": "stream",
     "text": [
      "<re.Match object; span=(0, 25), match='gene_id \"ENSG00000223972\"'>\n",
      "<re.Match object; span=(27, 43), match='gene_version \"5\"'>\n",
      "<re.Match object; span=(45, 64), match='gene_name \"DDX11L1\"'>\n",
      "<re.Match object; span=(66, 86), match='gene_source \"havana\"'>\n",
      "<re.Match object; span=(88, 137), match='gene_biotype \"transcribed_unprocessed_pseudogene\">\n",
      "OrderedDict([('gene_id', 'ENSG00000223972'), ('gene_version', '5'), ('gene_name', 'DDX11L1'), ('gene_source', 'havana'), ('gene_biotype', 'transcribed_unprocessed_pseudogene')])\n"
     ]
    }
   ],
   "source": [
    "        for row, is_comment, properties in gtf_reader_iter(input_genes_file):\n",
    "            print(properties)\n",
    "            break\n",
    "            remove = False\n",
    "            for key, value in properties.items():\n",
    "                if key in ATTRIBUTES and value not in ATTRIBUTES[key]:\n",
    "                    remove = True\n",
    "\n",
    "            if not remove:\n",
    "                print(row)\n"
   ]
  },
  {
   "cell_type": "code",
   "execution_count": 32,
   "id": "spoken-archives",
   "metadata": {},
   "outputs": [],
   "source": [
    "ATTRIBUTES = {\n",
    "    'gene_biotype':{\n",
    "        'lncRNA',\n",
    "        'antisense',\n",
    "        'IG_LV_gene',\n",
    "        'IG_V_gene',\n",
    "        'IG_V_pseudogene',\n",
    "        'IG_D_gene',\n",
    "        'IG_J_gene',\n",
    "        'IG_J_pseudogene',\n",
    "        'IG_C_gene',\n",
    "        'IG_C_pseudogene',\n",
    "        'TR_V_gene',\n",
    "        'TR_V_pseudogene',\n",
    "        'TR_D_gene',\n",
    "        'TR_J_gene',\n",
    "        'TR_J_pseudogene',\n",
    "        'TR_C_gene',\n",
    "    }\n",
    "}"
   ]
  },
  {
   "cell_type": "code",
   "execution_count": 42,
   "id": "structured-agency",
   "metadata": {},
   "outputs": [],
   "source": [
    "count_set_sgr = set()\n",
    "with open('/SGRNJ06/randd/USER/cjj/celedev/mkgtf/c3/cs.gtf', 'r') as f:\n",
    "    reader = csv.reader(f, delimiter='\\t')\n",
    "    pattern = r'gene_biotype \"(.*?)\"'\n",
    "    for i, row in enumerate(reader):\n",
    "        gene_name = re.findall(pattern, row[-1])[0]\n",
    "        count_set_sgr.add(gene_name)"
   ]
  },
  {
   "cell_type": "code",
   "execution_count": 43,
   "id": "virtual-midwest",
   "metadata": {},
   "outputs": [
    {
     "data": {
      "text/plain": [
       "{'IG_C_gene',\n",
       " 'IG_C_pseudogene',\n",
       " 'IG_D_gene',\n",
       " 'IG_J_gene',\n",
       " 'IG_J_pseudogene',\n",
       " 'IG_V_gene',\n",
       " 'IG_V_pseudogene',\n",
       " 'TR_C_gene',\n",
       " 'TR_D_gene',\n",
       " 'TR_J_gene',\n",
       " 'TR_J_pseudogene',\n",
       " 'TR_V_gene',\n",
       " 'TR_V_pseudogene',\n",
       " 'antisense'}"
      ]
     },
     "execution_count": 43,
     "metadata": {},
     "output_type": "execute_result"
    }
   ],
   "source": [
    "count_set_sgr"
   ]
  },
  {
   "cell_type": "code",
   "execution_count": 44,
   "id": "failing-indication",
   "metadata": {},
   "outputs": [],
   "source": [
    "count_set_sgr = set()\n",
    "with open('/SGRNJ06/randd/USER/cjj/celedev/mkgtf/c3/Homo_sapiens.GRCh38.92.chr.gtf', 'r') as f:\n",
    "    reader = csv.reader(f, delimiter='\\t')\n",
    "    pattern = r'gene_biotype \"(.*?)\"'\n",
    "    for i, row in enumerate(reader):\n",
    "        gene_name = re.findall(pattern, row[-1])[0]\n",
    "        count_set_sgr.add(gene_name)"
   ]
  },
  {
   "cell_type": "code",
   "execution_count": 45,
   "id": "happy-ballot",
   "metadata": {},
   "outputs": [
    {
     "data": {
      "text/plain": [
       "{'3prime_overlapping_ncRNA',\n",
       " 'IG_C_gene',\n",
       " 'IG_C_pseudogene',\n",
       " 'IG_D_gene',\n",
       " 'IG_J_gene',\n",
       " 'IG_J_pseudogene',\n",
       " 'IG_V_gene',\n",
       " 'IG_V_pseudogene',\n",
       " 'IG_pseudogene',\n",
       " 'Mt_rRNA',\n",
       " 'Mt_tRNA',\n",
       " 'TEC',\n",
       " 'TR_C_gene',\n",
       " 'TR_D_gene',\n",
       " 'TR_J_gene',\n",
       " 'TR_J_pseudogene',\n",
       " 'TR_V_gene',\n",
       " 'TR_V_pseudogene',\n",
       " 'antisense',\n",
       " 'bidirectional_promoter_lncRNA',\n",
       " 'lincRNA',\n",
       " 'macro_lncRNA',\n",
       " 'miRNA',\n",
       " 'misc_RNA',\n",
       " 'non_coding',\n",
       " 'polymorphic_pseudogene',\n",
       " 'processed_pseudogene',\n",
       " 'processed_transcript',\n",
       " 'protein_coding',\n",
       " 'pseudogene',\n",
       " 'rRNA',\n",
       " 'ribozyme',\n",
       " 'sRNA',\n",
       " 'scRNA',\n",
       " 'scaRNA',\n",
       " 'sense_intronic',\n",
       " 'sense_overlapping',\n",
       " 'snRNA',\n",
       " 'snoRNA',\n",
       " 'transcribed_processed_pseudogene',\n",
       " 'transcribed_unitary_pseudogene',\n",
       " 'transcribed_unprocessed_pseudogene',\n",
       " 'translated_processed_pseudogene',\n",
       " 'unitary_pseudogene',\n",
       " 'unprocessed_pseudogene',\n",
       " 'vaultRNA'}"
      ]
     },
     "execution_count": 45,
     "metadata": {},
     "output_type": "execute_result"
    }
   ],
   "source": [
    "count_set_sgr"
   ]
  },
  {
   "cell_type": "code",
   "execution_count": 46,
   "id": "opening-papua",
   "metadata": {},
   "outputs": [],
   "source": [
    "count_set_sgr = set()\n",
    "with open('/SGRNJ06/randd/USER/cjj/celedev/mkgtf/c3/c3out.gtf', 'r') as f:\n",
    "    reader = csv.reader(f, delimiter='\\t')\n",
    "    pattern = r'gene_biotype \"(.*?)\"'\n",
    "    for i, row in enumerate(reader):\n",
    "        gene_name = re.findall(pattern, row[-1])[0]\n",
    "        count_set_sgr.add(gene_name)"
   ]
  },
  {
   "cell_type": "code",
   "execution_count": 47,
   "id": "educational-lounge",
   "metadata": {},
   "outputs": [
    {
     "data": {
      "text/plain": [
       "{'IG_C_gene',\n",
       " 'IG_C_pseudogene',\n",
       " 'IG_D_gene',\n",
       " 'IG_J_gene',\n",
       " 'IG_J_pseudogene',\n",
       " 'IG_V_gene',\n",
       " 'IG_V_pseudogene',\n",
       " 'TR_C_gene',\n",
       " 'TR_D_gene',\n",
       " 'TR_J_gene',\n",
       " 'TR_J_pseudogene',\n",
       " 'TR_V_gene',\n",
       " 'TR_V_pseudogene',\n",
       " 'antisense',\n",
       " 'protein_coding'}"
      ]
     },
     "execution_count": 47,
     "metadata": {},
     "output_type": "execute_result"
    }
   ],
   "source": [
    "count_set_sgr"
   ]
  },
  {
   "cell_type": "code",
   "execution_count": 48,
   "id": "elect-gabriel",
   "metadata": {},
   "outputs": [],
   "source": [
    "count_set_sgr = set()\n",
    "with open('/SGRNJ06/randd/USER/cjj/celedev/mkgtf/c3/cs.gtf', 'r') as f:\n",
    "    reader = csv.reader(f, delimiter='\\t')\n",
    "    pattern = r'gene_biotype \"(.*?)\"'\n",
    "    for i, row in enumerate(reader):\n",
    "        gene_name = re.findall(pattern, row[-1])[0]\n",
    "        count_set_sgr.add(gene_name)"
   ]
  },
  {
   "cell_type": "code",
   "execution_count": 49,
   "id": "affected-isolation",
   "metadata": {},
   "outputs": [
    {
     "data": {
      "text/plain": [
       "{'IG_C_gene',\n",
       " 'IG_C_pseudogene',\n",
       " 'IG_D_gene',\n",
       " 'IG_J_gene',\n",
       " 'IG_J_pseudogene',\n",
       " 'IG_V_gene',\n",
       " 'IG_V_pseudogene',\n",
       " 'TR_C_gene',\n",
       " 'TR_D_gene',\n",
       " 'TR_J_gene',\n",
       " 'TR_J_pseudogene',\n",
       " 'TR_V_gene',\n",
       " 'TR_V_pseudogene',\n",
       " 'antisense',\n",
       " 'protein_coding'}"
      ]
     },
     "execution_count": 49,
     "metadata": {},
     "output_type": "execute_result"
    }
   ],
   "source": [
    "count_set_sgr"
   ]
  },
  {
   "cell_type": "code",
   "execution_count": 51,
   "id": "upset-sound",
   "metadata": {},
   "outputs": [],
   "source": [
    "count_set_sgr = set()\n",
    "with open('/SGRNJ06/randd/USER/cjj/celedev/mkgtf/c3/c7out.gtf', 'r') as f:\n",
    "    reader = csv.reader(f, delimiter='\\t')\n",
    "    pattern = r'gene_biotype \"(.*?)\"'\n",
    "    for i, row in enumerate(reader):\n",
    "        gene_name = re.findall(pattern, row[-1])[0]\n",
    "        count_set_sgr.add(gene_name)"
   ]
  },
  {
   "cell_type": "code",
   "execution_count": 52,
   "id": "usual-committee",
   "metadata": {},
   "outputs": [
    {
     "data": {
      "text/plain": [
       "{'IG_C_gene',\n",
       " 'IG_C_pseudogene',\n",
       " 'IG_D_gene',\n",
       " 'IG_J_gene',\n",
       " 'IG_J_pseudogene',\n",
       " 'IG_V_gene',\n",
       " 'IG_V_pseudogene',\n",
       " 'TR_C_gene',\n",
       " 'TR_D_gene',\n",
       " 'TR_J_gene',\n",
       " 'TR_J_pseudogene',\n",
       " 'TR_V_gene',\n",
       " 'TR_V_pseudogene',\n",
       " 'antisense',\n",
       " 'protein_coding'}"
      ]
     },
     "execution_count": 52,
     "metadata": {},
     "output_type": "execute_result"
    }
   ],
   "source": [
    "count_set_sgr"
   ]
  },
  {
   "cell_type": "code",
   "execution_count": 59,
   "id": "acquired-chambers",
   "metadata": {},
   "outputs": [],
   "source": [
    "c7 = open('/SGRNJ06/randd/USER/cjj/celedev/mkgtf/c3/c7out.gtf', 'r')\n",
    "c7reader = csv.reader(c7, delimiter='\\t')\n",
    "cs = open('/SGRNJ06/randd/USER/cjj/celedev/mkgtf/c3/cs.gtf', 'r')\n",
    "csreader = csv.reader(cs, delimiter='\\t')"
   ]
  },
  {
   "cell_type": "code",
   "execution_count": 62,
   "id": "adjacent-sense",
   "metadata": {},
   "outputs": [
    {
     "data": {
      "text/plain": [
       "['1',\n",
       " 'havana',\n",
       " 'transcript',\n",
       " '65419',\n",
       " '71585',\n",
       " '.',\n",
       " '+',\n",
       " '.',\n",
       " 'gene_id \"ENSG00000186092\"; gene_version \"6\"; transcript_id \"ENST00000641515\"; transcript_version \"2\"; gene_name \"OR4F5\"; gene_source \"ensembl_havana\"; gene_biotype \"protein_coding\"; transcript_name \"OR4F5-202\"; transcript_source \"havana\"; transcript_biotype \"protein_coding\"; tag \"basic\";']"
      ]
     },
     "execution_count": 62,
     "metadata": {},
     "output_type": "execute_result"
    }
   ],
   "source": [
    "next(c7reader)"
   ]
  },
  {
   "cell_type": "code",
   "execution_count": 63,
   "id": "stable-purse",
   "metadata": {},
   "outputs": [
    {
     "data": {
      "text/plain": [
       "['1',\n",
       " 'havana',\n",
       " 'transcript',\n",
       " '65419',\n",
       " '71585',\n",
       " '.',\n",
       " '+',\n",
       " '.',\n",
       " 'gene_id \"ENSG00000186092\"; gene_version \"6\"; transcript_id \"ENST00000641515\"; transcript_version \"2\"; gene_name \"OR4F5\"; gene_source \"ensembl_havana\"; gene_biotype \"protein_coding\"; transcript_name \"OR4F5-202\"; transcript_source \"havana\"; transcript_biotype \"protein_coding\"; tag \"basic\";']"
      ]
     },
     "execution_count": 63,
     "metadata": {},
     "output_type": "execute_result"
    }
   ],
   "source": [
    "next(csreader)"
   ]
  },
  {
   "cell_type": "code",
   "execution_count": 57,
   "id": "challenging-meter",
   "metadata": {},
   "outputs": [
    {
     "ename": "StopIteration",
     "evalue": "",
     "output_type": "error",
     "traceback": [
      "\u001b[0;31m---------------------------------------------------------------------------\u001b[0m",
      "\u001b[0;31mStopIteration\u001b[0m                             Traceback (most recent call last)",
      "\u001b[0;32m<ipython-input-57-ae99f58989e6>\u001b[0m in \u001b[0;36m<module>\u001b[0;34m\u001b[0m\n\u001b[1;32m      2\u001b[0m \u001b[0;32mfor\u001b[0m \u001b[0mi\u001b[0m \u001b[0;32min\u001b[0m \u001b[0mrange\u001b[0m\u001b[0;34m(\u001b[0m\u001b[0;36m2505922\u001b[0m\u001b[0;34m)\u001b[0m\u001b[0;34m:\u001b[0m\u001b[0;34m\u001b[0m\u001b[0;34m\u001b[0m\u001b[0m\n\u001b[1;32m      3\u001b[0m     \u001b[0mcount\u001b[0m\u001b[0;34m+=\u001b[0m\u001b[0;36m1\u001b[0m\u001b[0;34m\u001b[0m\u001b[0;34m\u001b[0m\u001b[0m\n\u001b[0;32m----> 4\u001b[0;31m     \u001b[0;32mif\u001b[0m \u001b[0mnext\u001b[0m\u001b[0;34m(\u001b[0m\u001b[0mc7reader\u001b[0m\u001b[0;34m)\u001b[0m \u001b[0;34m!=\u001b[0m \u001b[0mnext\u001b[0m\u001b[0;34m(\u001b[0m\u001b[0mcsreader\u001b[0m\u001b[0;34m)\u001b[0m\u001b[0;34m:\u001b[0m\u001b[0;34m\u001b[0m\u001b[0;34m\u001b[0m\u001b[0m\n\u001b[0m\u001b[1;32m      5\u001b[0m         \u001b[0mprint\u001b[0m\u001b[0;34m(\u001b[0m\u001b[0mcount\u001b[0m\u001b[0;34m)\u001b[0m\u001b[0;34m\u001b[0m\u001b[0;34m\u001b[0m\u001b[0m\n",
      "\u001b[0;31mStopIteration\u001b[0m: "
     ]
    }
   ],
   "source": [
    "count = 0\n",
    "for i in range(2505922):\n",
    "    count+=1 \n",
    "    if next(c7reader) != next(csreader):\n",
    "        print(count)"
   ]
  },
  {
   "cell_type": "code",
   "execution_count": 58,
   "id": "aquatic-julian",
   "metadata": {},
   "outputs": [
    {
     "ename": "StopIteration",
     "evalue": "",
     "output_type": "error",
     "traceback": [
      "\u001b[0;31m---------------------------------------------------------------------------\u001b[0m",
      "\u001b[0;31mStopIteration\u001b[0m                             Traceback (most recent call last)",
      "\u001b[0;32m<ipython-input-58-5c48175fe34f>\u001b[0m in \u001b[0;36m<module>\u001b[0;34m\u001b[0m\n\u001b[0;32m----> 1\u001b[0;31m \u001b[0mnext\u001b[0m\u001b[0;34m(\u001b[0m\u001b[0mc7reader\u001b[0m\u001b[0;34m)\u001b[0m\u001b[0;34m\u001b[0m\u001b[0;34m\u001b[0m\u001b[0m\n\u001b[0m",
      "\u001b[0;31mStopIteration\u001b[0m: "
     ]
    }
   ],
   "source": [
    "next(c7reader)"
   ]
  },
  {
   "cell_type": "code",
   "execution_count": 10,
   "id": "congressional-somewhere",
   "metadata": {},
   "outputs": [
    {
     "ename": "SyntaxError",
     "evalue": "invalid syntax (<ipython-input-10-38192711f8db>, line 1)",
     "output_type": "error",
     "traceback": [
      "\u001b[0;36m  File \u001b[0;32m\"<ipython-input-10-38192711f8db>\"\u001b[0;36m, line \u001b[0;32m1\u001b[0m\n\u001b[0;31m    a = \"'5       ensembl_havana  exon    73579317        73579375        .       +       .       gene_id \"ENSG00000164338\"; gene_version \"9\"; transcript_id \"ENST00000296792\"; transcript_version \"8\"; exon_number \"12\"; gene_name \"UTP15\"; gene_source \"ensembl_havana\"; gene_biotype \"protein_coding\"; transcript_name \"UTP15-201\"; transcript_source \"ensembl_havana\"; transcript_biotype \"protein_coding\"; tag \"CCDS\"; ccds_id \"CCDS34186\"; exon_id \"ENSE00001083657\"; exon_version \"1\"; tag \"basic\"; transcript_support_level \"1\";\u001b[0m\n\u001b[0m                                                                                                                         ^\u001b[0m\n\u001b[0;31mSyntaxError\u001b[0m\u001b[0;31m:\u001b[0m invalid syntax\n"
     ]
    }
   ],
   "source": [
    "a = \n",
    "5       ensembl_havana  exon    73579317        73579375        .       +       .       gene_id \"ENSG00000164338\"; gene_version \"9\"; transcript_id \"ENST00000296792\"; transcript_version \"8\"; exon_number \"12\"; gene_name \"UTP15\"; gene_source \"ensembl_havana\"; gene_biotype \"protein_coding\"; transcript_name \"UTP15-201\"; transcript_source \"ensembl_havana\"; transcript_biotype \"protein_coding\"; tag \"CCDS\"; ccds_id \"CCDS34186\"; exon_id \"ENSE00001083657\"; exon_version \"1\"; tag \"basic\"; transcript_support_level \"1\";\n",
    "5       ensembl_havana  CDS     73579317        73579375        .       +       1       gene_id \"ENSG00000164338\"; gene_version \"9\"; transcript_id \"ENST00000296792\"; transcript_version \"8\"; exon_number \"12\"; gene_name \"UTP15\"; gene_source \"ensembl_havana\"; gene_biotype \"protein_coding\"; transcript_name \"UTP15-201\"; transcript_source \"ensembl_havana\"; transcript_biotype \"protein_coding\"; tag \"CCDS\"; ccds_id \"CCDS34186\"; protein_id \"ENSP00000296792\"; protein_version \"4\"; tag \"basic\"; transcript_support_level \"1\";\n",
    "5       ensembl exon    73579317        73579375        .       +       .       gene_id \"ENSG00000164338\"; gene_version \"9\"; transcript_id \"ENST00000543251\"; transcript_version \"5\"; exon_number \"11\"; gene_name \"UTP15\"; gene_source \"ensembl_havana\"; gene_biotype \"protein_coding\"; transcript_name \"UTP15-208\"; transcript_source \"ensembl\"; transcript_biotype \"protein_coding\"; tag \"CCDS\"; ccds_id \"CCDS68894\"; exon_id \"ENSE00001083657\"; exon_version \"1\"; tag \"basic\"; transcript_support_level \"2\";\n",
    "5       ensembl CDS     73579317        73579375        .       +       1       gene_id \"ENSG00000164338\"; gene_version \"9\"; transcript_id \"ENST00000543251\"; transcript_version \"5\"; exon_number \"11\"; gene_name \"UTP15\"; gene_source \"ensembl_havana\"; gene_biotype \"protein_coding\"; transcript_name \"UTP15-208\"; transcript_source \"ensembl\"; transcript_biotype \"protein_coding\"; tag \"CCDS\"; ccds_id \"CCDS68894\"; protein_id \"ENSP00000440796\"; protein_version \"1\"; tag \"basic\"; transcript_support_level \"2\";\n",
    "5       havana  exon    73579317        73579375        .       +       .       gene_id \"ENSG00000164338\"; gene_version \"9\"; transcript_id \"ENST00000509005\"; transcript_version \"5\"; exon_number \"11\"; gene_name \"UTP15\"; gene_source \"ensembl_havana\"; gene_biotype \"protein_coding\"; transcript_name \"UTP15-204\"; transcript_source \"havana\"; transcript_biotype \"protein_coding\"; exon_id \"ENSE00001083657\"; exon_version \"1\"; tag \"cds_start_NF\"; tag \"mRNA_start_NF\"; transcript_support_level \"2\";\n",
    "5       havana  CDS     73579317        73579375        .       +       1       gene_id \"ENSG00000164338\"; gene_version \"9\"; transcript_id \"ENST00000509005\"; transcript_version \"5\"; exon_number \"11\"; gene_name \"UTP15\"; gene_source \"ensembl_havana\"; gene_biotype \"protein_coding\"; transcript_name \"UTP15-204\"; transcript_source \"havana\"; transcript_biotype \"protein_coding\"; protein_id \"ENSP00000421669\"; protein_version \"1\"; tag \"cds_start_NF\"; tag \"mRNA_start_NF\"; transcript_support_level \"2\";\n",
    "5       havana  exon    73579317        73579375        .       +       .       gene_id \"ENSG00000164338\"; gene_version \"9\"; transcript_id \"ENST00000508491\"; transcript_version \"1\"; exon_number \"12\"; gene_name \"UTP15\"; gene_source \"ensembl_havana\"; gene_biotype \"protein_coding\"; transcript_name \"UTP15-202\"; transcript_source \"havana\"; transcript_biotype \"protein_coding\"; tag \"CCDS\"; ccds_id \"CCDS68893\"; exon_id \"ENSE00001083657\"; exon_version \"1\"; tag \"basic\"; transcript_support_level \"2\";\n",
    "5       havana  CDS     73579317        73579375        .       +       1       gene_id \"ENSG00000164338\"; gene_version \"9\"; transcript_id \"ENST00000508491\"; transcript_version \"1\"; exon_number \"12\"; gene_name \"UTP15\"; gene_source \"ensembl_havana\"; gene_biotype \"protein_coding\"; transcript_name \"UTP15-202\"; transcript_source \"havana\"; transcript_biotype \"protein_coding\"; tag \"CCDS\"; ccds_id \"CCDS68893\"; protein_id \"ENSP00000424609\"; protein_version \"1\"; tag \"basic\"; transcript_support_level \"2\";"
   ]
  },
  {
   "cell_type": "code",
   "execution_count": null,
   "id": "compatible-bishop",
   "metadata": {},
   "outputs": [],
   "source": [
    "b = \n",
    "5       ensembl_havana  exon    73579317        73579375        .       +       .       gene_id \"ENSG00000164338\"; gene_version \"9\"; transcript_id \"ENST00000296792\"; transcript_version \"8\"; exon_number \"12\"; gene_name \"UTP15\"; gene_source \"ensembl_havana\"; gene_biotype \"protein_coding\"; transcript_name \"UTP15-201\"; transcript_source \"ensembl_havana\"; transcript_biotype \"protein_coding\"; tag \"CCDS\"; ccds_id \"CCDS34186\"; exon_id \"ENSE00001083657\"; exon_version \"1\"; tag \"basic\"; transcript_support_level \"1\";\n",
    "5       ensembl_havana  CDS     73579317        73579375        .       +       1       gene_id \"ENSG00000164338\"; gene_version \"9\"; transcript_id \"ENST00000296792\"; transcript_version \"8\"; exon_number \"12\"; gene_name \"UTP15\"; gene_source \"ensembl_havana\"; gene_biotype \"protein_coding\"; transcript_name \"UTP15-201\"; transcript_source \"ensembl_havana\"; transcript_biotype \"protein_coding\"; tag \"CCDS\"; ccds_id \"CCDS34186\"; protein_id \"ENSP00000296792\"; protein_version \"4\"; tag \"basic\"; transcript_support_level \"1\";\n",
    "5       ensembl exon    73579317        73579375        .       +       .       gene_id \"ENSG00000164338\"; gene_version \"9\"; transcript_id \"ENST00000543251\"; transcript_version \"5\"; exon_number \"11\"; gene_name \"UTP15\"; gene_source \"ensembl_havana\"; gene_biotype \"protein_coding\"; transcript_name \"UTP15-208\"; transcript_source \"ensembl\"; transcript_biotype \"protein_coding\"; tag \"CCDS\"; ccds_id \"CCDS68894\"; exon_id \"ENSE00001083657\"; exon_version \"1\"; tag \"basic\"; transcript_support_level \"2\";\n",
    "5       ensembl CDS     73579317        73579375        .       +       1       gene_id \"ENSG00000164338\"; gene_version \"9\"; transcript_id \"ENST00000543251\"; transcript_version \"5\"; exon_number \"11\"; gene_name \"UTP15\"; gene_source \"ensembl_havana\"; gene_biotype \"protein_coding\"; transcript_name \"UTP15-208\"; transcript_source \"ensembl\"; transcript_biotype \"protein_coding\"; tag \"CCDS\"; ccds_id \"CCDS68894\"; protein_id \"ENSP00000440796\"; protein_version \"1\"; tag \"basic\"; transcript_support_level \"2\";\n",
    "5       havana  exon    73579317        73579375        .       +       .       gene_id \"ENSG00000164338\"; gene_version \"9\"; transcript_id \"ENST00000509005\"; transcript_version \"5\"; exon_number \"11\"; gene_name \"UTP15\"; gene_source \"ensembl_havana\"; gene_biotype \"protein_coding\"; transcript_name \"UTP15-204\"; transcript_source \"havana\"; transcript_biotype \"protein_coding\"; exon_id \"ENSE00001083657\"; exon_version \"1\"; tag \"cds_start_NF\"; tag \"mRNA_start_NF\"; transcript_support_level \"2\";\n",
    "5       havana  CDS     73579317        73579375        .       +       1       gene_id \"ENSG00000164338\"; gene_version \"9\"; transcript_id \"ENST00000509005\"; transcript_version \"5\"; exon_number \"11\"; gene_name \"UTP15\"; gene_source \"ensembl_havana\"; gene_biotype \"protein_coding\"; transcript_name \"UTP15-204\"; transcript_source \"havana\"; transcript_biotype \"protein_coding\"; protein_id \"ENSP00000421669\"; protein_version \"1\"; tag \"cds_start_NF\"; tag \"mRNA_start_NF\"; transcript_support_level \"2\";\n",
    "5       havana  exon    73579317        73579375        .       +       .       gene_id \"ENSG00000164338\"; gene_version \"9\"; transcript_id \"ENST00000508491\"; transcript_version \"1\"; exon_number \"12\"; gene_name \"UTP15\"; gene_source \"ensembl_havana\"; gene_biotype \"protein_coding\"; transcript_name \"UTP15-202\"; transcript_source \"havana\"; transcript_biotype \"protein_coding\"; tag \"CCDS\"; ccds_id \"CCDS68893\"; exon_id \"ENSE00001083657\"; exon_version \"1\"; tag \"basic\"; transcript_support_level \"2\";\n",
    "5       havana  CDS     73579317        73579375        .       +       1       gene_id \"ENSG00000164338\"; gene_version \"9\"; transcript_id \"ENST00000508491\"; transcript_version \"1\"; exon_number \"12\"; gene_name \"UTP15\"; gene_source \"ensembl_havana\"; gene_biotype \"protein_coding\"; transcript_name \"UTP15-202\"; transcript_source \"havana\"; transcript_biotype \"protein_coding\"; tag \"CCDS\"; ccds_id \"CCDS68893\"; protein_id \"ENSP00000424609\"; protein_version \"1\"; tag \"basic\"; transcript_support_level \"2\";"
   ]
  }
 ],
 "metadata": {
  "kernelspec": {
   "display_name": "Python 3 (ipykernel)",
   "language": "python",
   "name": "python3"
  },
  "language_info": {
   "codemirror_mode": {
    "name": "ipython",
    "version": 3
   },
   "file_extension": ".py",
   "mimetype": "text/x-python",
   "name": "python",
   "nbconvert_exporter": "python",
   "pygments_lexer": "ipython3",
   "version": "3.7.10"
  }
 },
 "nbformat": 4,
 "nbformat_minor": 5
}
