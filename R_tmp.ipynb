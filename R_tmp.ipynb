{
 "cells": [
  {
   "cell_type": "code",
   "execution_count": 1,
   "id": "prerequisite-guard",
   "metadata": {},
   "outputs": [
    {
     "name": "stderr",
     "output_type": "stream",
     "text": [
      "Warning message:\n",
      "“package ‘Seurat’ was built under R version 4.0.5”\n",
      "Attaching SeuratObject\n",
      "\n",
      "Registered S3 method overwritten by 'cli':\n",
      "  method     from         \n",
      "  print.boxx spatstat.geom\n",
      "\n",
      "── \u001b[1mAttaching packages\u001b[22m ────────────────────────────────────────────────────────────────────────────────────────────── tidyverse 1.3.1 ──\n",
      "\n",
      "\u001b[32m✔\u001b[39m \u001b[34mggplot2\u001b[39m 3.3.3     \u001b[32m✔\u001b[39m \u001b[34mpurrr  \u001b[39m 0.3.4\n",
      "\u001b[32m✔\u001b[39m \u001b[34mtibble \u001b[39m 3.1.0     \u001b[32m✔\u001b[39m \u001b[34mdplyr  \u001b[39m 1.0.5\n",
      "\u001b[32m✔\u001b[39m \u001b[34mtidyr  \u001b[39m 1.1.3     \u001b[32m✔\u001b[39m \u001b[34mstringr\u001b[39m 1.4.0\n",
      "\u001b[32m✔\u001b[39m \u001b[34mreadr  \u001b[39m 1.4.0     \u001b[32m✔\u001b[39m \u001b[34mforcats\u001b[39m 0.5.1\n",
      "\n",
      "── \u001b[1mConflicts\u001b[22m ───────────────────────────────────────────────────────────────────────────────────────────────── tidyverse_conflicts() ──\n",
      "\u001b[31m✖\u001b[39m \u001b[34mdplyr\u001b[39m::\u001b[32mfilter()\u001b[39m masks \u001b[34mstats\u001b[39m::filter()\n",
      "\u001b[31m✖\u001b[39m \u001b[34mdplyr\u001b[39m::\u001b[32mlag()\u001b[39m    masks \u001b[34mstats\u001b[39m::lag()\n",
      "\n"
     ]
    }
   ],
   "source": [
    "library(Seurat)\n",
    "library(tidyverse)\n",
    "library(argparse)\n",
    "library(ggplot2)\n",
    "library(stringr)\n",
    "library(dplyr)"
   ]
  },
  {
   "cell_type": "code",
   "execution_count": 2,
   "id": "unsigned-wilderness",
   "metadata": {},
   "outputs": [],
   "source": [
    "rds = readRDS(\"/SGRNJ06/randd/PROJECT/RD20102301_DZH/P21090901_Drug_CART/20230714_zl/singleR_annotation/ZD025_S2_M3_ZL/ZD025_S2_M3_ZL.rds\")"
   ]
  },
  {
   "cell_type": "code",
   "execution_count": 4,
   "id": "seasonal-relevance",
   "metadata": {},
   "outputs": [
    {
     "data": {
      "text/html": [
       "<table class=\"dataframe\">\n",
       "<caption>A data.frame: 10 × 7</caption>\n",
       "<thead>\n",
       "\t<tr><th></th><th scope=col>orig.ident</th><th scope=col>nCount_RNA</th><th scope=col>nFeature_RNA</th><th scope=col>percent.mito</th><th scope=col>RNA_snn_res.0.6</th><th scope=col>seurat_clusters</th><th scope=col>celltype</th></tr>\n",
       "\t<tr><th></th><th scope=col>&lt;fct&gt;</th><th scope=col>&lt;dbl&gt;</th><th scope=col>&lt;int&gt;</th><th scope=col>&lt;dbl&gt;</th><th scope=col>&lt;fct&gt;</th><th scope=col>&lt;dbl&gt;</th><th scope=col>&lt;chr&gt;</th></tr>\n",
       "</thead>\n",
       "<tbody>\n",
       "\t<tr><th scope=row>AAACATCGAAGACGGACTAAGGTC</th><td>ZD025_S2_M3_ZL</td><td>1236</td><td> 690</td><td>0.09870550</td><td>3 </td><td> 4</td><td>T_cells          </td></tr>\n",
       "\t<tr><th scope=row>AAACATCGACAGCAGAGAACAGGC</th><td>ZD025_S2_M3_ZL</td><td>9664</td><td>2244</td><td>0.04045944</td><td>0 </td><td> 1</td><td>Macrophage       </td></tr>\n",
       "\t<tr><th scope=row>AAACATCGACATTGGCAACGCTTA</th><td>ZD025_S2_M3_ZL</td><td>1110</td><td> 651</td><td>0.05675676</td><td>1 </td><td> 2</td><td>T_cells          </td></tr>\n",
       "\t<tr><th scope=row>AAACATCGACATTGGCCTGAGCCA</th><td>ZD025_S2_M3_ZL</td><td> 771</td><td> 394</td><td>0.06225681</td><td>2 </td><td> 3</td><td>T_cells          </td></tr>\n",
       "\t<tr><th scope=row>AAACATCGACATTGGCGTCTGTCA</th><td>ZD025_S2_M3_ZL</td><td>2512</td><td>1118</td><td>0.10828025</td><td>8 </td><td> 9</td><td>Endothelial_cells</td></tr>\n",
       "\t<tr><th scope=row>AAACATCGACGCTCGACGACACAC</th><td>ZD025_S2_M3_ZL</td><td> 728</td><td> 467</td><td>0.06181319</td><td>1 </td><td> 2</td><td>T_cells          </td></tr>\n",
       "\t<tr><th scope=row>AAACATCGAGAGTCAACCGAAGTA</th><td>ZD025_S2_M3_ZL</td><td>9282</td><td>2225</td><td>0.07983193</td><td>0 </td><td> 1</td><td>Macrophage       </td></tr>\n",
       "\t<tr><th scope=row>AAACATCGAGGCTAACCTAAGGTC</th><td>ZD025_S2_M3_ZL</td><td>1389</td><td> 779</td><td>0.06407487</td><td>1 </td><td> 2</td><td>T_cells          </td></tr>\n",
       "\t<tr><th scope=row>AAACATCGATCCTGTAATGCCTAA</th><td>ZD025_S2_M3_ZL</td><td> 832</td><td> 532</td><td>0.11057692</td><td>1 </td><td> 2</td><td>T_cells          </td></tr>\n",
       "\t<tr><th scope=row>AAACATCGATGCCTAAGGTGCGAA</th><td>ZD025_S2_M3_ZL</td><td>4883</td><td>2151</td><td>0.06655744</td><td>10</td><td>11</td><td>Hepatocytes      </td></tr>\n",
       "</tbody>\n",
       "</table>\n"
      ],
      "text/latex": [
       "A data.frame: 10 × 7\n",
       "\\begin{tabular}{r|lllllll}\n",
       "  & orig.ident & nCount\\_RNA & nFeature\\_RNA & percent.mito & RNA\\_snn\\_res.0.6 & seurat\\_clusters & celltype\\\\\n",
       "  & <fct> & <dbl> & <int> & <dbl> & <fct> & <dbl> & <chr>\\\\\n",
       "\\hline\n",
       "\tAAACATCGAAGACGGACTAAGGTC & ZD025\\_S2\\_M3\\_ZL & 1236 &  690 & 0.09870550 & 3  &  4 & T\\_cells          \\\\\n",
       "\tAAACATCGACAGCAGAGAACAGGC & ZD025\\_S2\\_M3\\_ZL & 9664 & 2244 & 0.04045944 & 0  &  1 & Macrophage       \\\\\n",
       "\tAAACATCGACATTGGCAACGCTTA & ZD025\\_S2\\_M3\\_ZL & 1110 &  651 & 0.05675676 & 1  &  2 & T\\_cells          \\\\\n",
       "\tAAACATCGACATTGGCCTGAGCCA & ZD025\\_S2\\_M3\\_ZL &  771 &  394 & 0.06225681 & 2  &  3 & T\\_cells          \\\\\n",
       "\tAAACATCGACATTGGCGTCTGTCA & ZD025\\_S2\\_M3\\_ZL & 2512 & 1118 & 0.10828025 & 8  &  9 & Endothelial\\_cells\\\\\n",
       "\tAAACATCGACGCTCGACGACACAC & ZD025\\_S2\\_M3\\_ZL &  728 &  467 & 0.06181319 & 1  &  2 & T\\_cells          \\\\\n",
       "\tAAACATCGAGAGTCAACCGAAGTA & ZD025\\_S2\\_M3\\_ZL & 9282 & 2225 & 0.07983193 & 0  &  1 & Macrophage       \\\\\n",
       "\tAAACATCGAGGCTAACCTAAGGTC & ZD025\\_S2\\_M3\\_ZL & 1389 &  779 & 0.06407487 & 1  &  2 & T\\_cells          \\\\\n",
       "\tAAACATCGATCCTGTAATGCCTAA & ZD025\\_S2\\_M3\\_ZL &  832 &  532 & 0.11057692 & 1  &  2 & T\\_cells          \\\\\n",
       "\tAAACATCGATGCCTAAGGTGCGAA & ZD025\\_S2\\_M3\\_ZL & 4883 & 2151 & 0.06655744 & 10 & 11 & Hepatocytes      \\\\\n",
       "\\end{tabular}\n"
      ],
      "text/markdown": [
       "\n",
       "A data.frame: 10 × 7\n",
       "\n",
       "| <!--/--> | orig.ident &lt;fct&gt; | nCount_RNA &lt;dbl&gt; | nFeature_RNA &lt;int&gt; | percent.mito &lt;dbl&gt; | RNA_snn_res.0.6 &lt;fct&gt; | seurat_clusters &lt;dbl&gt; | celltype &lt;chr&gt; |\n",
       "|---|---|---|---|---|---|---|---|\n",
       "| AAACATCGAAGACGGACTAAGGTC | ZD025_S2_M3_ZL | 1236 |  690 | 0.09870550 | 3  |  4 | T_cells           |\n",
       "| AAACATCGACAGCAGAGAACAGGC | ZD025_S2_M3_ZL | 9664 | 2244 | 0.04045944 | 0  |  1 | Macrophage        |\n",
       "| AAACATCGACATTGGCAACGCTTA | ZD025_S2_M3_ZL | 1110 |  651 | 0.05675676 | 1  |  2 | T_cells           |\n",
       "| AAACATCGACATTGGCCTGAGCCA | ZD025_S2_M3_ZL |  771 |  394 | 0.06225681 | 2  |  3 | T_cells           |\n",
       "| AAACATCGACATTGGCGTCTGTCA | ZD025_S2_M3_ZL | 2512 | 1118 | 0.10828025 | 8  |  9 | Endothelial_cells |\n",
       "| AAACATCGACGCTCGACGACACAC | ZD025_S2_M3_ZL |  728 |  467 | 0.06181319 | 1  |  2 | T_cells           |\n",
       "| AAACATCGAGAGTCAACCGAAGTA | ZD025_S2_M3_ZL | 9282 | 2225 | 0.07983193 | 0  |  1 | Macrophage        |\n",
       "| AAACATCGAGGCTAACCTAAGGTC | ZD025_S2_M3_ZL | 1389 |  779 | 0.06407487 | 1  |  2 | T_cells           |\n",
       "| AAACATCGATCCTGTAATGCCTAA | ZD025_S2_M3_ZL |  832 |  532 | 0.11057692 | 1  |  2 | T_cells           |\n",
       "| AAACATCGATGCCTAAGGTGCGAA | ZD025_S2_M3_ZL | 4883 | 2151 | 0.06655744 | 10 | 11 | Hepatocytes       |\n",
       "\n"
      ],
      "text/plain": [
       "                         orig.ident     nCount_RNA nFeature_RNA percent.mito\n",
       "AAACATCGAAGACGGACTAAGGTC ZD025_S2_M3_ZL 1236        690         0.09870550  \n",
       "AAACATCGACAGCAGAGAACAGGC ZD025_S2_M3_ZL 9664       2244         0.04045944  \n",
       "AAACATCGACATTGGCAACGCTTA ZD025_S2_M3_ZL 1110        651         0.05675676  \n",
       "AAACATCGACATTGGCCTGAGCCA ZD025_S2_M3_ZL  771        394         0.06225681  \n",
       "AAACATCGACATTGGCGTCTGTCA ZD025_S2_M3_ZL 2512       1118         0.10828025  \n",
       "AAACATCGACGCTCGACGACACAC ZD025_S2_M3_ZL  728        467         0.06181319  \n",
       "AAACATCGAGAGTCAACCGAAGTA ZD025_S2_M3_ZL 9282       2225         0.07983193  \n",
       "AAACATCGAGGCTAACCTAAGGTC ZD025_S2_M3_ZL 1389        779         0.06407487  \n",
       "AAACATCGATCCTGTAATGCCTAA ZD025_S2_M3_ZL  832        532         0.11057692  \n",
       "AAACATCGATGCCTAAGGTGCGAA ZD025_S2_M3_ZL 4883       2151         0.06655744  \n",
       "                         RNA_snn_res.0.6 seurat_clusters celltype         \n",
       "AAACATCGAAGACGGACTAAGGTC 3                4              T_cells          \n",
       "AAACATCGACAGCAGAGAACAGGC 0                1              Macrophage       \n",
       "AAACATCGACATTGGCAACGCTTA 1                2              T_cells          \n",
       "AAACATCGACATTGGCCTGAGCCA 2                3              T_cells          \n",
       "AAACATCGACATTGGCGTCTGTCA 8                9              Endothelial_cells\n",
       "AAACATCGACGCTCGACGACACAC 1                2              T_cells          \n",
       "AAACATCGAGAGTCAACCGAAGTA 0                1              Macrophage       \n",
       "AAACATCGAGGCTAACCTAAGGTC 1                2              T_cells          \n",
       "AAACATCGATCCTGTAATGCCTAA 1                2              T_cells          \n",
       "AAACATCGATGCCTAAGGTGCGAA 10              11              Hepatocytes      "
      ]
     },
     "metadata": {},
     "output_type": "display_data"
    }
   ],
   "source": [
    "head(rds)"
   ]
  },
  {
   "cell_type": "code",
   "execution_count": 14,
   "id": "affecting-hungarian",
   "metadata": {},
   "outputs": [],
   "source": [
    "# p = UMAPPlot(rds,group.by='celltype',label=TRUE,label.box=TRUE)\n",
    "p = UMAPPlot(rds,group.by='celltype',label=TRUE)\n",
    "ggsave(\"/SGRNJ06/randd/PROJECT/RD20102301_DZH/P21090901_Drug_CART/20230714_zl/singleR_annotation/ZD025_S2_M3_ZL/celltype_umap.png\",p,width = 16, height=12)"
   ]
  },
  {
   "cell_type": "code",
   "execution_count": 10,
   "id": "employed-horizon",
   "metadata": {},
   "outputs": [
    {
     "data": {
      "text/html": [
       "<strong>png:</strong> 3"
      ],
      "text/latex": [
       "\\textbf{png:} 3"
      ],
      "text/markdown": [
       "**png:** 3"
      ],
      "text/plain": [
       "png \n",
       "  3 "
      ]
     },
     "metadata": {},
     "output_type": "display_data"
    }
   ],
   "source": [
    "dev.off()"
   ]
  },
  {
   "cell_type": "code",
   "execution_count": null,
   "id": "behind-briefing",
   "metadata": {},
   "outputs": [],
   "source": []
  }
 ],
 "metadata": {
  "kernelspec": {
   "display_name": "CJJcele",
   "language": "R",
   "name": "cjjcele"
  },
  "language_info": {
   "codemirror_mode": "r",
   "file_extension": ".r",
   "mimetype": "text/x-r-source",
   "name": "R",
   "pygments_lexer": "r",
   "version": "4.0.3"
  }
 },
 "nbformat": 4,
 "nbformat_minor": 5
}
