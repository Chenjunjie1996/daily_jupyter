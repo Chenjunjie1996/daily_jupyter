{
 "cells": [
  {
   "cell_type": "code",
   "execution_count": null,
   "id": "protective-revision",
   "metadata": {},
   "outputs": [],
   "source": [
    "import pandas as pd \n",
    "import json\n",
    "import pysam"
   ]
  },
  {
   "cell_type": "code",
   "execution_count": null,
   "id": "western-namibia",
   "metadata": {},
   "outputs": [],
   "source": [
    "df = pd.read_csv(\"/SGRNJ06/randd/USER/cjj/celedev/vdj10x/20230220beida/cr7/WLR-T-T-T/03.assemble/WLR-T-T-T/outs/all_contig_annotations.csv\")"
   ]
  },
  {
   "cell_type": "code",
   "execution_count": null,
   "id": "induced-ethics",
   "metadata": {},
   "outputs": [],
   "source": [
    "df_filter = pd.read_csv(\"/SGRNJ06/randd/USER/cjj/celedev/vdj10x/20230220beida/cr7/WLR-T-T-T/03.assemble/WLR-T-T-T/outs/filtered_contig_annotations.csv\")"
   ]
  },
  {
   "cell_type": "code",
   "execution_count": null,
   "id": "enabling-jordan",
   "metadata": {},
   "outputs": [],
   "source": [
    "df_productive = df[df[\"productive\"]==True]"
   ]
  },
  {
   "cell_type": "code",
   "execution_count": null,
   "id": "instructional-agent",
   "metadata": {},
   "outputs": [],
   "source": [
    "df_productive"
   ]
  },
  {
   "cell_type": "code",
   "execution_count": null,
   "id": "turkish-jefferson",
   "metadata": {},
   "outputs": [],
   "source": [
    "df_cell = df_productive[df_productive[\"is_cell\"]==True]"
   ]
  },
  {
   "cell_type": "code",
   "execution_count": null,
   "id": "forbidden-testing",
   "metadata": {},
   "outputs": [],
   "source": [
    "df_cell"
   ]
  },
  {
   "cell_type": "code",
   "execution_count": null,
   "id": "changed-nitrogen",
   "metadata": {},
   "outputs": [],
   "source": [
    "len(set(df_cell.barcode))"
   ]
  },
  {
   "cell_type": "code",
   "execution_count": null,
   "id": "hairy-quick",
   "metadata": {},
   "outputs": [],
   "source": [
    "df_call = df_productive[df_productive[\"is_cell\"]==False]"
   ]
  },
  {
   "cell_type": "code",
   "execution_count": null,
   "id": "graduate-spotlight",
   "metadata": {},
   "outputs": [],
   "source": [
    "df_call"
   ]
  },
  {
   "cell_type": "code",
   "execution_count": null,
   "id": "registered-sport",
   "metadata": {},
   "outputs": [],
   "source": [
    "# 方案一 calling is_cell=False的细胞 条件 \n",
    "# 1.满足productive=True \n",
    "# 2.high_confidence=True \n",
    "# 3.groupby barcode chain，取最高umi的链 \n",
    "# 4.作为calling回的细胞合并至filtered annotation文件\n",
    "df_call_1 = df_call[df_call[\"high_confidence\"]==True]"
   ]
  },
  {
   "cell_type": "code",
   "execution_count": null,
   "id": "otherwise-toyota",
   "metadata": {},
   "outputs": [],
   "source": [
    "df_call_1 = df_call_1.sort_values(\"umis\", ascending=False)"
   ]
  },
  {
   "cell_type": "code",
   "execution_count": null,
   "id": "stuck-dispute",
   "metadata": {},
   "outputs": [],
   "source": [
    "df_call_1 = df_call_1.groupby([\"barcode\", \"chain\"], as_index=False).head(1)"
   ]
  },
  {
   "cell_type": "code",
   "execution_count": null,
   "id": "referenced-catering",
   "metadata": {},
   "outputs": [],
   "source": [
    "len(set(df_call_1.barcode))"
   ]
  },
  {
   "cell_type": "code",
   "execution_count": null,
   "id": "heard-botswana",
   "metadata": {},
   "outputs": [],
   "source": [
    "df_call_1"
   ]
  },
  {
   "cell_type": "code",
   "execution_count": null,
   "id": "adaptive-angel",
   "metadata": {},
   "outputs": [],
   "source": [
    "df_call_1.sort_values(\"barcode\")"
   ]
  },
  {
   "cell_type": "code",
   "execution_count": null,
   "id": "curious-prophet",
   "metadata": {},
   "outputs": [],
   "source": [
    "df_call_1 = df_call_1.groupby(\"barcode\").filter(lambda x: (len(x) > 1))"
   ]
  },
  {
   "cell_type": "code",
   "execution_count": null,
   "id": "interior-burns",
   "metadata": {},
   "outputs": [],
   "source": [
    "df_filter"
   ]
  },
  {
   "cell_type": "code",
   "execution_count": null,
   "id": "purple-google",
   "metadata": {},
   "outputs": [],
   "source": [
    "df_merge = pd.concat([df_filter,df_call_1])"
   ]
  },
  {
   "cell_type": "code",
   "execution_count": null,
   "id": "normal-provincial",
   "metadata": {},
   "outputs": [],
   "source": [
    "with open(\"/SGRNJ06/randd/USER/cjj/celedev/vdj10x/20230220beida/cr7/WLR-T-T-T/02.convert/barcode_convert.json\", 'r') as f:\n",
    "    tenX_sgr = json.load(f)"
   ]
  },
  {
   "cell_type": "code",
   "execution_count": null,
   "id": "completed-sitting",
   "metadata": {},
   "outputs": [],
   "source": [
    "df_merge['barcode'] = df_merge['barcode'].apply(lambda x: tenX_sgr[x.split('-')[0]])\n",
    "df_merge['contig_id'] = df_merge['contig_id'].apply(lambda x: tenX_sgr[x.split('-')[0]]+'_'+x.split('_')[1]+'_'+x.split('_')[2])"
   ]
  },
  {
   "cell_type": "code",
   "execution_count": null,
   "id": "painted-capture",
   "metadata": {},
   "outputs": [],
   "source": [
    "df_merge.to_csv(\"/SGRNJ06/randd/USER/cjj/celedev/vdj10x/20230321beida_cellcall/test/WLR-T-T-T/04.summarize/filtered_contig_annotations.csv\", sep=',', index=False)"
   ]
  },
  {
   "cell_type": "code",
   "execution_count": null,
   "id": "indian-verification",
   "metadata": {},
   "outputs": [],
   "source": [
    "len(set(df_merge.barcode))"
   ]
  },
  {
   "cell_type": "code",
   "execution_count": null,
   "id": "tender-rescue",
   "metadata": {},
   "outputs": [],
   "source": []
  },
  {
   "cell_type": "code",
   "execution_count": null,
   "id": "awful-florence",
   "metadata": {},
   "outputs": [],
   "source": [
    "count = 0\n",
    "total_reads = 0\n",
    "target = set(df_filter.barcode)\n",
    "with pysam.AlignmentFile(\"/SGRNJ06/randd/USER/cjj/celedev/vdj10x/20230321beida_cellcall/WLR-T-T-T/03.assemble/WLR-T-T-T/outs/all_contig.bam\") as f:\n",
    "    for read in f:\n",
    "        total_reads+=1\n",
    "        cb = read.get_tag('CB')\n",
    "        if cb in target:\n",
    "            count += 1"
   ]
  },
  {
   "cell_type": "code",
   "execution_count": null,
   "id": "fancy-season",
   "metadata": {},
   "outputs": [],
   "source": [
    "count"
   ]
  },
  {
   "cell_type": "code",
   "execution_count": null,
   "id": "respective-adolescent",
   "metadata": {},
   "outputs": [],
   "source": [
    "total_reads"
   ]
  },
  {
   "cell_type": "code",
   "execution_count": null,
   "id": "regulation-mongolia",
   "metadata": {},
   "outputs": [],
   "source": []
  },
  {
   "cell_type": "code",
   "execution_count": null,
   "id": "broad-porter",
   "metadata": {},
   "outputs": [],
   "source": []
  },
  {
   "cell_type": "code",
   "execution_count": null,
   "id": "exterior-baseline",
   "metadata": {},
   "outputs": [],
   "source": [
    "# 方案二 is_cell=False的细胞 calling条件 1.满足productive=True 2.high_confidence=True 3.同时拥有ab链，取最高umi的链\n",
    "import pandas as pd \n",
    "import os\n",
    "import glob\n",
    "import pysam\n",
    "import numpy as np\n",
    "import json\n",
    "from celescope.tools import utils"
   ]
  },
  {
   "cell_type": "code",
   "execution_count": null,
   "id": "sweet-rachel",
   "metadata": {},
   "outputs": [],
   "source": [
    "df = pd.read_csv(\"/SGRNJ06/randd/USER/cjj/celedev/vdj10x/20230220beida/cr7/WLR-T-T-T/03.assemble/WLR-T-T-T/outs/all_contig_annotations.csv\")"
   ]
  },
  {
   "cell_type": "code",
   "execution_count": null,
   "id": "animal-parking",
   "metadata": {},
   "outputs": [],
   "source": [
    "with open(\"/SGRNJ06/randd/USER/cjj/celedev/vdj10x/20230321beida_cellcall/WLR-T-T-T/02.convert/barcode_convert.json\", 'r') as f:\n",
    "    tenX_sgr = json.load(f)"
   ]
  },
  {
   "cell_type": "code",
   "execution_count": null,
   "id": "annual-madonna",
   "metadata": {},
   "outputs": [],
   "source": [
    "match_cell_barcodes, _ = utils.get_barcode_from_match_dir(\"/SGRNJ06/randd/USER/cjj/celedev/vdj10x/20230220beida/match_dir/WLR-T/\")"
   ]
  },
  {
   "cell_type": "code",
   "execution_count": null,
   "id": "concrete-tower",
   "metadata": {},
   "outputs": [],
   "source": [
    "df['barcode'] = df['barcode'].apply(lambda x: tenX_sgr[x.split('-')[0]])"
   ]
  },
  {
   "cell_type": "code",
   "execution_count": null,
   "id": "printable-montana",
   "metadata": {},
   "outputs": [],
   "source": [
    "df_match = df[df[\"barcode\"].isin(match_cell_barcodes)]"
   ]
  },
  {
   "cell_type": "code",
   "execution_count": null,
   "id": "adaptive-korea",
   "metadata": {},
   "outputs": [],
   "source": [
    "df_match = df_match[df_match[\"is_cell\"]==True]"
   ]
  },
  {
   "cell_type": "code",
   "execution_count": null,
   "id": "honest-blast",
   "metadata": {},
   "outputs": [],
   "source": [
    "len(set(df_match.barcode))"
   ]
  },
  {
   "cell_type": "code",
   "execution_count": null,
   "id": "according-quest",
   "metadata": {},
   "outputs": [],
   "source": [
    "len(set(df_cell.barcode))"
   ]
  },
  {
   "cell_type": "code",
   "execution_count": null,
   "id": "hidden-indiana",
   "metadata": {},
   "outputs": [],
   "source": [
    "df = df[df[\"productive\"]==True]\n",
    "df_cell = df[df[\"is_cell\"]==True]\n",
    "df_not_cell = df[df[\"is_cell\"]==False]"
   ]
  },
  {
   "cell_type": "code",
   "execution_count": null,
   "id": "equal-store",
   "metadata": {},
   "outputs": [],
   "source": [
    "df_not_cell = df_not_cell.sort_values('umis',ascending=False)"
   ]
  },
  {
   "cell_type": "code",
   "execution_count": null,
   "id": "opened-nudist",
   "metadata": {},
   "outputs": [],
   "source": [
    "df_not_cell"
   ]
  },
  {
   "cell_type": "code",
   "execution_count": null,
   "id": "sudden-machine",
   "metadata": {},
   "outputs": [],
   "source": [
    "group_elements = ['barcode', 'chain']"
   ]
  },
  {
   "cell_type": "code",
   "execution_count": null,
   "id": "democratic-reaction",
   "metadata": {},
   "outputs": [],
   "source": [
    "df_not_cell = df_not_cell.drop_duplicates(group_elements)"
   ]
  },
  {
   "cell_type": "code",
   "execution_count": null,
   "id": "owned-tanzania",
   "metadata": {},
   "outputs": [],
   "source": [
    "len(set(df_not_cell.barcode))"
   ]
  },
  {
   "cell_type": "code",
   "execution_count": null,
   "id": "interior-rachel",
   "metadata": {},
   "outputs": [],
   "source": [
    "df_not_cell = df_not_cell.groupby(\"barcode\").filter(lambda x: (len(x) > 1))"
   ]
  },
  {
   "cell_type": "code",
   "execution_count": null,
   "id": "stuck-decline",
   "metadata": {},
   "outputs": [],
   "source": [
    "len(set(df_not_cell.barcode))"
   ]
  },
  {
   "cell_type": "code",
   "execution_count": null,
   "id": "color-favorite",
   "metadata": {},
   "outputs": [],
   "source": [
    "df_not_cell.sort_values(['barcode','umis'],ascending=[False,False])"
   ]
  },
  {
   "cell_type": "code",
   "execution_count": null,
   "id": "rubber-phone",
   "metadata": {},
   "outputs": [],
   "source": [
    "df_not_cell_match = df_not_cell[df_not_cell[\"barcode\"].isin(match_cell_barcodes)]"
   ]
  },
  {
   "cell_type": "code",
   "execution_count": null,
   "id": "portable-desktop",
   "metadata": {},
   "outputs": [],
   "source": [
    "len(set(df_not_cell_match.barcode))"
   ]
  },
  {
   "cell_type": "code",
   "execution_count": null,
   "id": "described-reading",
   "metadata": {},
   "outputs": [],
   "source": []
  },
  {
   "cell_type": "code",
   "execution_count": null,
   "id": "quality-delay",
   "metadata": {},
   "outputs": [],
   "source": []
  },
  {
   "cell_type": "code",
   "execution_count": null,
   "id": "convenient-basin",
   "metadata": {},
   "outputs": [],
   "source": []
  },
  {
   "cell_type": "code",
   "execution_count": null,
   "id": "figured-inventory",
   "metadata": {},
   "outputs": [],
   "source": [
    "# SNR\n",
    "df_not_cell"
   ]
  },
  {
   "cell_type": "code",
   "execution_count": null,
   "id": "arctic-capitol",
   "metadata": {},
   "outputs": [],
   "source": [
    "bc_chain_dict = df_not_cell.groupby(\"barcode\")[\"chain\"].apply(lambda x: set(x)).to_dict()"
   ]
  },
  {
   "cell_type": "code",
   "execution_count": null,
   "id": "mathematical-sierra",
   "metadata": {},
   "outputs": [],
   "source": [
    "pair_chain_dict = {key: value for key, value in bc_chain_dict.items() if len(value)==2}"
   ]
  },
  {
   "cell_type": "code",
   "execution_count": null,
   "id": "optional-vehicle",
   "metadata": {},
   "outputs": [],
   "source": [
    "pair_chain_dict # 同时含有TRA TRB的barcode"
   ]
  },
  {
   "cell_type": "code",
   "execution_count": null,
   "id": "warming-cursor",
   "metadata": {},
   "outputs": [],
   "source": [
    "df_not_cell = df_not_cell[df_not_cell[\"barcode\"].isin(pair_chain_dict)]"
   ]
  },
  {
   "cell_type": "code",
   "execution_count": null,
   "id": "persistent-mistress",
   "metadata": {},
   "outputs": [],
   "source": [
    "df_not_cell = df_not_cell.sort_values([\"barcode\",\"umis\"], ascending=[False, False])"
   ]
  },
  {
   "cell_type": "code",
   "execution_count": null,
   "id": "economic-tissue",
   "metadata": {},
   "outputs": [],
   "source": [
    "df_not_cell"
   ]
  },
  {
   "cell_type": "code",
   "execution_count": null,
   "id": "stupid-object",
   "metadata": {},
   "outputs": [],
   "source": [
    "df_not_cell_multi_chain = df_not_cell.groupby(\"barcode\").filter(lambda x: (len(x) > 2)) # 有多条TRA或TRB的barcode\n",
    "df_not_cell_pair_chain = df_not_cell.groupby(\"barcode\").filter(lambda x: (len(x) == 2))# 有两条TRA或TRB的barcode"
   ]
  },
  {
   "cell_type": "code",
   "execution_count": null,
   "id": "divided-resolution",
   "metadata": {},
   "outputs": [],
   "source": [
    "len(set(df_not_cell_pair_chain.barcode))"
   ]
  },
  {
   "cell_type": "code",
   "execution_count": null,
   "id": "subtle-absorption",
   "metadata": {},
   "outputs": [],
   "source": [
    "df_not_cell_multi_chain"
   ]
  },
  {
   "cell_type": "code",
   "execution_count": null,
   "id": "imposed-cigarette",
   "metadata": {},
   "outputs": [],
   "source": [
    "# 对多条TRA或TRB的barcode SNR\n",
    "df_tra = df_not_cell_multi_chain[df_not_cell_multi_chain['chain'] == 'TRA']\n",
    "df_trb = df_not_cell_multi_chain[df_not_cell_multi_chain['chain'] == 'TRB']"
   ]
  },
  {
   "cell_type": "code",
   "execution_count": null,
   "id": "amateur-insurance",
   "metadata": {},
   "outputs": [],
   "source": [
    "tra_dict = df_tra.groupby(\"barcode\")[\"umis\"].apply(lambda x: x.tolist()).to_dict()\n",
    "trb_dict = df_trb.groupby(\"barcode\")[\"umis\"].apply(lambda x: x.tolist()).to_dict()"
   ]
  },
  {
   "cell_type": "code",
   "execution_count": null,
   "id": "still-breakfast",
   "metadata": {},
   "outputs": [],
   "source": [
    "len(tra_dict)"
   ]
  },
  {
   "cell_type": "code",
   "execution_count": null,
   "id": "incorrect-convert",
   "metadata": {},
   "outputs": [],
   "source": [
    "len(trb_dict)"
   ]
  },
  {
   "cell_type": "code",
   "execution_count": null,
   "id": "brilliant-baghdad",
   "metadata": {},
   "outputs": [],
   "source": [
    "len(tra_dict.keys() & trb_dict.keys())"
   ]
  },
  {
   "cell_type": "code",
   "execution_count": null,
   "id": "awful-rehabilitation",
   "metadata": {},
   "outputs": [],
   "source": [
    "tra_dict['AAACATCGAAACATCGCCGACAAC']"
   ]
  },
  {
   "cell_type": "code",
   "execution_count": null,
   "id": "above-leather",
   "metadata": {},
   "outputs": [],
   "source": [
    "for k in tra_dict:\n",
    "    if len(tra_dict[k]) == 1:\n",
    "        tra_dict[k].append(0.1)\n",
    "for k in trb_dict:\n",
    "    if len(trb_dict[k]) == 1:\n",
    "        trb_dict[k].append(0.1)"
   ]
  },
  {
   "cell_type": "code",
   "execution_count": null,
   "id": "operational-density",
   "metadata": {},
   "outputs": [],
   "source": [
    "tra_dict"
   ]
  },
  {
   "cell_type": "code",
   "execution_count": null,
   "id": "advisory-terry",
   "metadata": {},
   "outputs": [],
   "source": [
    "filter_noise_tra_dict = {key for key,value in tra_dict.items() if value[0]/value[1] >= 2}\n",
    "filter_noise_trb_dict = {key:value for key,value in trb_dict.items() if value[0]/value[1] >= 2}"
   ]
  },
  {
   "cell_type": "code",
   "execution_count": null,
   "id": "answering-adams",
   "metadata": {},
   "outputs": [],
   "source": [
    "len(filter_noise_trb_dict)"
   ]
  },
  {
   "cell_type": "code",
   "execution_count": null,
   "id": "portuguese-frame",
   "metadata": {},
   "outputs": [],
   "source": [
    "len(filter_noise_tra_dict.keys() & filter_noise_trb_dict.keys())"
   ]
  },
  {
   "cell_type": "code",
   "execution_count": null,
   "id": "dramatic-campbell",
   "metadata": {},
   "outputs": [],
   "source": []
  },
  {
   "cell_type": "code",
   "execution_count": null,
   "id": "forward-communist",
   "metadata": {},
   "outputs": [],
   "source": [
    "for k in tra_dict:\n",
    "    if len(tra_dict[k]) == 1:\n",
    "        tra_dict[k].append(tra_dict[k][0])\n",
    "for k in trb_dict:\n",
    "    if len(trb_dict[k]) == 1:\n",
    "        trb_dict[k].append(trb_dict[k][0])"
   ]
  },
  {
   "cell_type": "code",
   "execution_count": null,
   "id": "gross-tuesday",
   "metadata": {},
   "outputs": [],
   "source": [
    "trb_dict"
   ]
  },
  {
   "cell_type": "code",
   "execution_count": null,
   "id": "statewide-enterprise",
   "metadata": {},
   "outputs": [],
   "source": [
    "filter_noise_tra = set()\n",
    "filter_noise_trb = set()\n",
    "for k, v in tra_dict.items():\n",
    "    S = v[0]\n",
    "    noise = v[1:]\n",
    "    B = np.mean(noise)\n",
    "    O = np.std(noise)\n",
    "    if O == 0:\n",
    "        filter_noise_tra.add(k)\n",
    "        continue\n",
    "    SNR = (S-B)/O\n",
    "    if SNR >= 10:\n",
    "        filter_noise_tra.add(k)\n",
    "for k, v in trb_dict.items():\n",
    "    S = v[0]\n",
    "    noise = v[1:]\n",
    "    B = np.mean(noise)\n",
    "    O = np.std(noise)\n",
    "    if O == 0:\n",
    "        filter_noise_trb.add(k)\n",
    "        continue\n",
    "    SNR = (S-B)/O\n",
    "    if SNR >= 10:\n",
    "        filter_noise_trb.add(k)"
   ]
  },
  {
   "cell_type": "code",
   "execution_count": null,
   "id": "returning-print",
   "metadata": {},
   "outputs": [],
   "source": [
    "len(filter_noise_tra & filter_noise_trb)"
   ]
  },
  {
   "cell_type": "code",
   "execution_count": null,
   "id": "artistic-salad",
   "metadata": {},
   "outputs": [],
   "source": [
    "np.std([4, 4])"
   ]
  },
  {
   "cell_type": "code",
   "execution_count": null,
   "id": "documentary-simpson",
   "metadata": {},
   "outputs": [],
   "source": []
  },
  {
   "cell_type": "code",
   "execution_count": null,
   "id": "alpha-webcam",
   "metadata": {},
   "outputs": [],
   "source": [
    "# (S − B)/σ\n",
    "S = 10\n",
    "B = np.mean([4,4,2,1])\n",
    "O = np.median([4,4,2,1])"
   ]
  },
  {
   "cell_type": "code",
   "execution_count": null,
   "id": "secret-token",
   "metadata": {},
   "outputs": [],
   "source": [
    "SNR = (S-B)/O"
   ]
  },
  {
   "cell_type": "code",
   "execution_count": null,
   "id": "metallic-conflict",
   "metadata": {},
   "outputs": [],
   "source": [
    "SNR"
   ]
  },
  {
   "cell_type": "code",
   "execution_count": null,
   "id": "subjective-estimate",
   "metadata": {},
   "outputs": [],
   "source": []
  },
  {
   "cell_type": "code",
   "execution_count": null,
   "id": "changed-stable",
   "metadata": {},
   "outputs": [],
   "source": []
  },
  {
   "cell_type": "code",
   "execution_count": 22,
   "id": "tracked-controversy",
   "metadata": {},
   "outputs": [
    {
     "data": {
      "text/html": [
       "<div>\n",
       "<style scoped>\n",
       "    .dataframe tbody tr th:only-of-type {\n",
       "        vertical-align: middle;\n",
       "    }\n",
       "\n",
       "    .dataframe tbody tr th {\n",
       "        vertical-align: top;\n",
       "    }\n",
       "\n",
       "    .dataframe thead th {\n",
       "        text-align: right;\n",
       "    }\n",
       "</style>\n",
       "<table border=\"1\" class=\"dataframe\">\n",
       "  <thead>\n",
       "    <tr style=\"text-align: right;\">\n",
       "      <th></th>\n",
       "      <th>barcode</th>\n",
       "      <th>is_cell</th>\n",
       "      <th>contig_id</th>\n",
       "      <th>high_confidence</th>\n",
       "      <th>length</th>\n",
       "      <th>chain</th>\n",
       "      <th>v_gene</th>\n",
       "      <th>d_gene</th>\n",
       "      <th>j_gene</th>\n",
       "      <th>c_gene</th>\n",
       "      <th>...</th>\n",
       "      <th>fwr3_nt</th>\n",
       "      <th>cdr3</th>\n",
       "      <th>cdr3_nt</th>\n",
       "      <th>fwr4</th>\n",
       "      <th>fwr4_nt</th>\n",
       "      <th>reads</th>\n",
       "      <th>umis</th>\n",
       "      <th>raw_clonotype_id</th>\n",
       "      <th>raw_consensus_id</th>\n",
       "      <th>exact_subclonotype_id</th>\n",
       "    </tr>\n",
       "  </thead>\n",
       "  <tbody>\n",
       "    <tr>\n",
       "      <th>11</th>\n",
       "      <td>AAACCTGAGAAACGAG-1</td>\n",
       "      <td>False</td>\n",
       "      <td>AAACCTGAGAAACGAG-1_contig_1</td>\n",
       "      <td>False</td>\n",
       "      <td>523</td>\n",
       "      <td>IGL</td>\n",
       "      <td>IGLV3-1</td>\n",
       "      <td>NaN</td>\n",
       "      <td>IGLJ2</td>\n",
       "      <td>IGLC2</td>\n",
       "      <td>...</td>\n",
       "      <td>NaN</td>\n",
       "      <td>CQAWDSSTYVVF</td>\n",
       "      <td>TGTCAGGCGTGGGACAGCAGCACCTATGTGGTATTC</td>\n",
       "      <td>NaN</td>\n",
       "      <td>NaN</td>\n",
       "      <td>1131</td>\n",
       "      <td>25</td>\n",
       "      <td>NaN</td>\n",
       "      <td>NaN</td>\n",
       "      <td>NaN</td>\n",
       "    </tr>\n",
       "    <tr>\n",
       "      <th>12</th>\n",
       "      <td>AAACCTGAGAAACGAG-1</td>\n",
       "      <td>False</td>\n",
       "      <td>AAACCTGAGAAACGAG-1_contig_2</td>\n",
       "      <td>False</td>\n",
       "      <td>445</td>\n",
       "      <td>IGL</td>\n",
       "      <td>IGLV3-19</td>\n",
       "      <td>NaN</td>\n",
       "      <td>IGLJ1</td>\n",
       "      <td>IGLC2</td>\n",
       "      <td>...</td>\n",
       "      <td>NaN</td>\n",
       "      <td>CNSRDSSGNPLEVF</td>\n",
       "      <td>TGTAACTCCCGGGACAGCAGTGGTAACCCTCTAGAGGTCTTC</td>\n",
       "      <td>NaN</td>\n",
       "      <td>NaN</td>\n",
       "      <td>551</td>\n",
       "      <td>13</td>\n",
       "      <td>NaN</td>\n",
       "      <td>NaN</td>\n",
       "      <td>NaN</td>\n",
       "    </tr>\n",
       "    <tr>\n",
       "      <th>13</th>\n",
       "      <td>AAACCTGAGAAACGAG-1</td>\n",
       "      <td>False</td>\n",
       "      <td>AAACCTGAGAAACGAG-1_contig_3</td>\n",
       "      <td>False</td>\n",
       "      <td>440</td>\n",
       "      <td>IGH</td>\n",
       "      <td>IGHV7-4-1</td>\n",
       "      <td>NaN</td>\n",
       "      <td>IGHJ4</td>\n",
       "      <td>NaN</td>\n",
       "      <td>...</td>\n",
       "      <td>NaN</td>\n",
       "      <td>CARGAAADYW</td>\n",
       "      <td>TGTGCGAGAGGGGCAGCAGCAGATTACTGG</td>\n",
       "      <td>NaN</td>\n",
       "      <td>NaN</td>\n",
       "      <td>123</td>\n",
       "      <td>32</td>\n",
       "      <td>NaN</td>\n",
       "      <td>NaN</td>\n",
       "      <td>NaN</td>\n",
       "    </tr>\n",
       "    <tr>\n",
       "      <th>14</th>\n",
       "      <td>AAACCTGAGAAACGAG-1</td>\n",
       "      <td>False</td>\n",
       "      <td>AAACCTGAGAAACGAG-1_contig_4</td>\n",
       "      <td>False</td>\n",
       "      <td>451</td>\n",
       "      <td>IGL</td>\n",
       "      <td>IGLV7-46</td>\n",
       "      <td>NaN</td>\n",
       "      <td>IGLJ3</td>\n",
       "      <td>IGLC2</td>\n",
       "      <td>...</td>\n",
       "      <td>NaN</td>\n",
       "      <td>CLVSYSGAWVF</td>\n",
       "      <td>TGCTTGGTCTCCTATAGTGGTGCTTGGGTGTTC</td>\n",
       "      <td>NaN</td>\n",
       "      <td>NaN</td>\n",
       "      <td>34</td>\n",
       "      <td>7</td>\n",
       "      <td>NaN</td>\n",
       "      <td>NaN</td>\n",
       "      <td>NaN</td>\n",
       "    </tr>\n",
       "    <tr>\n",
       "      <th>15</th>\n",
       "      <td>AAACCTGAGAAACGAG-1</td>\n",
       "      <td>False</td>\n",
       "      <td>AAACCTGAGAAACGAG-1_contig_5</td>\n",
       "      <td>False</td>\n",
       "      <td>530</td>\n",
       "      <td>IGL</td>\n",
       "      <td>IGLV3-21</td>\n",
       "      <td>NaN</td>\n",
       "      <td>IGLJ2</td>\n",
       "      <td>IGLC2</td>\n",
       "      <td>...</td>\n",
       "      <td>NaN</td>\n",
       "      <td>CQVWDGNSDYFVF</td>\n",
       "      <td>TGTCAGGTGTGGGATGGTAACAGTGATTATTTTGTATTC</td>\n",
       "      <td>NaN</td>\n",
       "      <td>NaN</td>\n",
       "      <td>534</td>\n",
       "      <td>133</td>\n",
       "      <td>NaN</td>\n",
       "      <td>NaN</td>\n",
       "      <td>NaN</td>\n",
       "    </tr>\n",
       "    <tr>\n",
       "      <th>...</th>\n",
       "      <td>...</td>\n",
       "      <td>...</td>\n",
       "      <td>...</td>\n",
       "      <td>...</td>\n",
       "      <td>...</td>\n",
       "      <td>...</td>\n",
       "      <td>...</td>\n",
       "      <td>...</td>\n",
       "      <td>...</td>\n",
       "      <td>...</td>\n",
       "      <td>...</td>\n",
       "      <td>...</td>\n",
       "      <td>...</td>\n",
       "      <td>...</td>\n",
       "      <td>...</td>\n",
       "      <td>...</td>\n",
       "      <td>...</td>\n",
       "      <td>...</td>\n",
       "      <td>...</td>\n",
       "      <td>...</td>\n",
       "      <td>...</td>\n",
       "    </tr>\n",
       "    <tr>\n",
       "      <th>176592</th>\n",
       "      <td>GAGTCCGGTAGAAAGG-1</td>\n",
       "      <td>False</td>\n",
       "      <td>GAGTCCGGTAGAAAGG-1_contig_1</td>\n",
       "      <td>False</td>\n",
       "      <td>436</td>\n",
       "      <td>IGK</td>\n",
       "      <td>IGKV3-20</td>\n",
       "      <td>NaN</td>\n",
       "      <td>IGKJ4</td>\n",
       "      <td>IGKC</td>\n",
       "      <td>...</td>\n",
       "      <td>NaN</td>\n",
       "      <td>CQQYGRSPLTF</td>\n",
       "      <td>TGTCAGCAGTATGGTAGGTCACCCCTCACTTTC</td>\n",
       "      <td>NaN</td>\n",
       "      <td>NaN</td>\n",
       "      <td>7</td>\n",
       "      <td>1</td>\n",
       "      <td>NaN</td>\n",
       "      <td>NaN</td>\n",
       "      <td>NaN</td>\n",
       "    </tr>\n",
       "    <tr>\n",
       "      <th>176605</th>\n",
       "      <td>GATCGTACACTCAGGC-1</td>\n",
       "      <td>False</td>\n",
       "      <td>GATCGTACACTCAGGC-1_contig_1</td>\n",
       "      <td>False</td>\n",
       "      <td>491</td>\n",
       "      <td>IGK</td>\n",
       "      <td>IGKV3-11</td>\n",
       "      <td>NaN</td>\n",
       "      <td>IGKJ4</td>\n",
       "      <td>IGKC</td>\n",
       "      <td>...</td>\n",
       "      <td>NaN</td>\n",
       "      <td>CQQRSDWPPLTF</td>\n",
       "      <td>TGTCAGCAGCGTAGCGACTGGCCTCCACTCACTTTC</td>\n",
       "      <td>NaN</td>\n",
       "      <td>NaN</td>\n",
       "      <td>11</td>\n",
       "      <td>1</td>\n",
       "      <td>NaN</td>\n",
       "      <td>NaN</td>\n",
       "      <td>NaN</td>\n",
       "    </tr>\n",
       "    <tr>\n",
       "      <th>176608</th>\n",
       "      <td>GATGAAACAGCTCGAC-1</td>\n",
       "      <td>False</td>\n",
       "      <td>GATGAAACAGCTCGAC-1_contig_1</td>\n",
       "      <td>False</td>\n",
       "      <td>452</td>\n",
       "      <td>IGK</td>\n",
       "      <td>IGKV2D-28</td>\n",
       "      <td>NaN</td>\n",
       "      <td>IGKJ2</td>\n",
       "      <td>IGKC</td>\n",
       "      <td>...</td>\n",
       "      <td>NaN</td>\n",
       "      <td>CMQALQAPYTF</td>\n",
       "      <td>TGCATGCAAGCTCTACAAGCTCCTTACACTTTT</td>\n",
       "      <td>NaN</td>\n",
       "      <td>NaN</td>\n",
       "      <td>7</td>\n",
       "      <td>1</td>\n",
       "      <td>NaN</td>\n",
       "      <td>NaN</td>\n",
       "      <td>NaN</td>\n",
       "    </tr>\n",
       "    <tr>\n",
       "      <th>176613</th>\n",
       "      <td>GATGAGGAGAGGTTAT-1</td>\n",
       "      <td>False</td>\n",
       "      <td>GATGAGGAGAGGTTAT-1_contig_1</td>\n",
       "      <td>False</td>\n",
       "      <td>397</td>\n",
       "      <td>IGL</td>\n",
       "      <td>IGLV3-21</td>\n",
       "      <td>NaN</td>\n",
       "      <td>IGLJ2</td>\n",
       "      <td>NaN</td>\n",
       "      <td>...</td>\n",
       "      <td>NaN</td>\n",
       "      <td>CQVWDGISDYLVF</td>\n",
       "      <td>TGTCAGGTGTGGGATGGTATCAGTGATTATTTGGTATTC</td>\n",
       "      <td>NaN</td>\n",
       "      <td>NaN</td>\n",
       "      <td>5</td>\n",
       "      <td>1</td>\n",
       "      <td>NaN</td>\n",
       "      <td>NaN</td>\n",
       "      <td>NaN</td>\n",
       "    </tr>\n",
       "    <tr>\n",
       "      <th>176630</th>\n",
       "      <td>GATTCAGTCGGAAACG-1</td>\n",
       "      <td>False</td>\n",
       "      <td>GATTCAGTCGGAAACG-1_contig_1</td>\n",
       "      <td>False</td>\n",
       "      <td>435</td>\n",
       "      <td>IGL</td>\n",
       "      <td>IGLV3-21</td>\n",
       "      <td>NaN</td>\n",
       "      <td>IGLJ2</td>\n",
       "      <td>NaN</td>\n",
       "      <td>...</td>\n",
       "      <td>NaN</td>\n",
       "      <td>CQVWDGNSDYFVF</td>\n",
       "      <td>TGTCAGGTGTGGGATGGTAACAGTGATTATTTTGTATTC</td>\n",
       "      <td>NaN</td>\n",
       "      <td>NaN</td>\n",
       "      <td>9</td>\n",
       "      <td>1</td>\n",
       "      <td>NaN</td>\n",
       "      <td>NaN</td>\n",
       "      <td>NaN</td>\n",
       "    </tr>\n",
       "  </tbody>\n",
       "</table>\n",
       "<p>37102 rows × 31 columns</p>\n",
       "</div>"
      ],
      "text/plain": [
       "                   barcode  is_cell                    contig_id  \\\n",
       "11      AAACCTGAGAAACGAG-1    False  AAACCTGAGAAACGAG-1_contig_1   \n",
       "12      AAACCTGAGAAACGAG-1    False  AAACCTGAGAAACGAG-1_contig_2   \n",
       "13      AAACCTGAGAAACGAG-1    False  AAACCTGAGAAACGAG-1_contig_3   \n",
       "14      AAACCTGAGAAACGAG-1    False  AAACCTGAGAAACGAG-1_contig_4   \n",
       "15      AAACCTGAGAAACGAG-1    False  AAACCTGAGAAACGAG-1_contig_5   \n",
       "...                    ...      ...                          ...   \n",
       "176592  GAGTCCGGTAGAAAGG-1    False  GAGTCCGGTAGAAAGG-1_contig_1   \n",
       "176605  GATCGTACACTCAGGC-1    False  GATCGTACACTCAGGC-1_contig_1   \n",
       "176608  GATGAAACAGCTCGAC-1    False  GATGAAACAGCTCGAC-1_contig_1   \n",
       "176613  GATGAGGAGAGGTTAT-1    False  GATGAGGAGAGGTTAT-1_contig_1   \n",
       "176630  GATTCAGTCGGAAACG-1    False  GATTCAGTCGGAAACG-1_contig_1   \n",
       "\n",
       "        high_confidence  length chain     v_gene d_gene j_gene c_gene  ...  \\\n",
       "11                False     523   IGL    IGLV3-1    NaN  IGLJ2  IGLC2  ...   \n",
       "12                False     445   IGL   IGLV3-19    NaN  IGLJ1  IGLC2  ...   \n",
       "13                False     440   IGH  IGHV7-4-1    NaN  IGHJ4    NaN  ...   \n",
       "14                False     451   IGL   IGLV7-46    NaN  IGLJ3  IGLC2  ...   \n",
       "15                False     530   IGL   IGLV3-21    NaN  IGLJ2  IGLC2  ...   \n",
       "...                 ...     ...   ...        ...    ...    ...    ...  ...   \n",
       "176592            False     436   IGK   IGKV3-20    NaN  IGKJ4   IGKC  ...   \n",
       "176605            False     491   IGK   IGKV3-11    NaN  IGKJ4   IGKC  ...   \n",
       "176608            False     452   IGK  IGKV2D-28    NaN  IGKJ2   IGKC  ...   \n",
       "176613            False     397   IGL   IGLV3-21    NaN  IGLJ2    NaN  ...   \n",
       "176630            False     435   IGL   IGLV3-21    NaN  IGLJ2    NaN  ...   \n",
       "\n",
       "        fwr3_nt            cdr3                                     cdr3_nt  \\\n",
       "11          NaN    CQAWDSSTYVVF        TGTCAGGCGTGGGACAGCAGCACCTATGTGGTATTC   \n",
       "12          NaN  CNSRDSSGNPLEVF  TGTAACTCCCGGGACAGCAGTGGTAACCCTCTAGAGGTCTTC   \n",
       "13          NaN      CARGAAADYW              TGTGCGAGAGGGGCAGCAGCAGATTACTGG   \n",
       "14          NaN     CLVSYSGAWVF           TGCTTGGTCTCCTATAGTGGTGCTTGGGTGTTC   \n",
       "15          NaN   CQVWDGNSDYFVF     TGTCAGGTGTGGGATGGTAACAGTGATTATTTTGTATTC   \n",
       "...         ...             ...                                         ...   \n",
       "176592      NaN     CQQYGRSPLTF           TGTCAGCAGTATGGTAGGTCACCCCTCACTTTC   \n",
       "176605      NaN    CQQRSDWPPLTF        TGTCAGCAGCGTAGCGACTGGCCTCCACTCACTTTC   \n",
       "176608      NaN     CMQALQAPYTF           TGCATGCAAGCTCTACAAGCTCCTTACACTTTT   \n",
       "176613      NaN   CQVWDGISDYLVF     TGTCAGGTGTGGGATGGTATCAGTGATTATTTGGTATTC   \n",
       "176630      NaN   CQVWDGNSDYFVF     TGTCAGGTGTGGGATGGTAACAGTGATTATTTTGTATTC   \n",
       "\n",
       "       fwr4 fwr4_nt reads umis raw_clonotype_id raw_consensus_id  \\\n",
       "11      NaN     NaN  1131   25              NaN              NaN   \n",
       "12      NaN     NaN   551   13              NaN              NaN   \n",
       "13      NaN     NaN   123   32              NaN              NaN   \n",
       "14      NaN     NaN    34    7              NaN              NaN   \n",
       "15      NaN     NaN   534  133              NaN              NaN   \n",
       "...     ...     ...   ...  ...              ...              ...   \n",
       "176592  NaN     NaN     7    1              NaN              NaN   \n",
       "176605  NaN     NaN    11    1              NaN              NaN   \n",
       "176608  NaN     NaN     7    1              NaN              NaN   \n",
       "176613  NaN     NaN     5    1              NaN              NaN   \n",
       "176630  NaN     NaN     9    1              NaN              NaN   \n",
       "\n",
       "       exact_subclonotype_id  \n",
       "11                       NaN  \n",
       "12                       NaN  \n",
       "13                       NaN  \n",
       "14                       NaN  \n",
       "15                       NaN  \n",
       "...                      ...  \n",
       "176592                   NaN  \n",
       "176605                   NaN  \n",
       "176608                   NaN  \n",
       "176613                   NaN  \n",
       "176630                   NaN  \n",
       "\n",
       "[37102 rows x 31 columns]"
      ]
     },
     "execution_count": 22,
     "metadata": {},
     "output_type": "execute_result"
    }
   ],
   "source": [
    "df = pd.read_csv(\"/SGRNJ06/randd/USER/cjj/celedev/vdj10x/20230309ningxiaBCR_downsample/5g/SS_02/03.assemble/SS_02/outs/all_contig_annotations.csv\")\n",
    "df = df[df[\"productive\"]==True]\n",
    "df_cell = df[df[\"is_cell\"]==True]\n",
    "df_not_cell = df[df[\"is_cell\"]==False]\n",
    "df_not_cell"
   ]
  },
  {
   "cell_type": "code",
   "execution_count": 47,
   "id": "forbidden-smoke",
   "metadata": {},
   "outputs": [],
   "source": [
    "bc_chain_dict = df.groupby(\"barcode\")[\"chain\"].apply(lambda x: set(x)).to_dict()"
   ]
  },
  {
   "cell_type": "code",
   "execution_count": null,
   "id": "dynamic-outreach",
   "metadata": {},
   "outputs": [],
   "source": [
    "bc_chain_dict"
   ]
  },
  {
   "cell_type": "code",
   "execution_count": 48,
   "id": "generous-capitol",
   "metadata": {},
   "outputs": [],
   "source": [
    "pair_chain_dict = {key: value for key, value in bc_chain_dict.items() if len(value)>=2}"
   ]
  },
  {
   "cell_type": "code",
   "execution_count": 32,
   "id": "micro-roads",
   "metadata": {},
   "outputs": [
    {
     "ename": "KeyError",
     "evalue": "'AAACCTGTCCGTACAA-1'",
     "output_type": "error",
     "traceback": [
      "\u001b[0;31m---------------------------------------------------------------------------\u001b[0m",
      "\u001b[0;31mKeyError\u001b[0m                                  Traceback (most recent call last)",
      "\u001b[0;32m<ipython-input-32-ac5bd5c69095>\u001b[0m in \u001b[0;36m<module>\u001b[0;34m\u001b[0m\n\u001b[0;32m----> 1\u001b[0;31m \u001b[0mpair_chain_dict\u001b[0m\u001b[0;34m[\u001b[0m\u001b[0;34m\"AAACCTGTCCGTACAA-1\"\u001b[0m\u001b[0;34m]\u001b[0m\u001b[0;34m\u001b[0m\u001b[0;34m\u001b[0m\u001b[0m\n\u001b[0m",
      "\u001b[0;31mKeyError\u001b[0m: 'AAACCTGTCCGTACAA-1'"
     ]
    }
   ],
   "source": [
    "pair_chain_dict[\"AAACCTGTCCGTACAA-1\"]"
   ]
  },
  {
   "cell_type": "code",
   "execution_count": null,
   "id": "measured-cambodia",
   "metadata": {},
   "outputs": [],
   "source": [
    "pair_chain_dict = {key: value for key, value in bc_chain_dict.items() if len(value)>=2 and \"IGH\" in value}\n",
    "pair_chain_dict"
   ]
  },
  {
   "cell_type": "code",
   "execution_count": 50,
   "id": "compatible-waters",
   "metadata": {},
   "outputs": [
    {
     "data": {
      "text/plain": [
       "10960"
      ]
     },
     "execution_count": 50,
     "metadata": {},
     "output_type": "execute_result"
    }
   ],
   "source": [
    "len(pair_chain_dict)"
   ]
  },
  {
   "cell_type": "code",
   "execution_count": 45,
   "id": "sacred-journal",
   "metadata": {},
   "outputs": [],
   "source": [
    "pair_chain_dict = {key: value for key, value in pair_chain_dict.items() if \"IGH\" in value}"
   ]
  },
  {
   "cell_type": "code",
   "execution_count": null,
   "id": "nominated-static",
   "metadata": {},
   "outputs": [],
   "source": []
  }
 ],
 "metadata": {
  "kernelspec": {
   "display_name": "trust4_1.7",
   "language": "python",
   "name": "trust4_1.7"
  },
  "language_info": {
   "codemirror_mode": {
    "name": "ipython",
    "version": 3
   },
   "file_extension": ".py",
   "mimetype": "text/x-python",
   "name": "python",
   "nbconvert_exporter": "python",
   "pygments_lexer": "ipython3",
   "version": "3.7.10"
  }
 },
 "nbformat": 4,
 "nbformat_minor": 5
}
