{
 "cells": [
  {
   "cell_type": "code",
   "execution_count": 18,
   "id": "demanding-compensation",
   "metadata": {},
   "outputs": [],
   "source": [
    "import seaborn as sns, matplotlib.pyplot as plt\n",
    "import math\n",
    "import numpy as np \n",
    "import pysam"
   ]
  },
  {
   "cell_type": "code",
   "execution_count": 19,
   "id": "architectural-words",
   "metadata": {},
   "outputs": [],
   "source": [
    "in_fa = \"/SGRNJ06/randd/PROJECT/RD20073101_ScRNA_VDJ/bulk_TCR/20230906_Hum_Liver_T3lb/Hum_0830liver_T3lib/03.consensus/Hum_0830liver_T3lib_filtered_consensus.fasta\""
   ]
  },
  {
   "cell_type": "code",
   "execution_count": 20,
   "id": "competitive-disco",
   "metadata": {},
   "outputs": [],
   "source": [
    "out_fa1 = open(\"/SGRNJ06/randd/USER/cjj/celedev/vdj_bulk/20231013vdjtools/Liver/index1.fa\", 'w')\n",
    "out_fa2 = open(\"/SGRNJ06/randd/USER/cjj/celedev/vdj_bulk/20231013vdjtools/Liver/index2.fa\", 'w')\n",
    "out_fa3 = open(\"/SGRNJ06/randd/USER/cjj/celedev/vdj_bulk/20231013vdjtools/Liver/index3.fa\", 'w')\n",
    "out_fa4 = open(\"/SGRNJ06/randd/USER/cjj/celedev/vdj_bulk/20231013vdjtools/Liver/index4.fa\", 'w')\n",
    "out_fa5 = open(\"/SGRNJ06/randd/USER/cjj/celedev/vdj_bulk/20231013vdjtools/Liver/index5.fa\", 'w')\n",
    "out_fa6 = open(\"/SGRNJ06/randd/USER/cjj/celedev/vdj_bulk/20231013vdjtools/Liver/index6.fa\", 'w')\n",
    "out_fa7 = open(\"/SGRNJ06/randd/USER/cjj/celedev/vdj_bulk/20231013vdjtools/Liver/index7.fa\", 'w')\n",
    "out_fa8 = open(\"/SGRNJ06/randd/USER/cjj/celedev/vdj_bulk/20231013vdjtools/Liver/index8.fa\", 'w')"
   ]
  },
  {
   "cell_type": "code",
   "execution_count": 21,
   "id": "billion-viking",
   "metadata": {},
   "outputs": [],
   "source": [
    "with pysam.FastxFile(in_fa) as f:\n",
    "    for read in f:\n",
    "        index = read.name.split('_')[0]\n",
    "        if index == \"AGTCCT\":\n",
    "            out_fa1.write(f'>{read.name}\\n{read.sequence}\\n')\n",
    "        elif index == \"GTTGAG\":\n",
    "            out_fa2.write(f'>{read.name}\\n{read.sequence}\\n')\n",
    "        elif index == \"TAGCTG\":\n",
    "            out_fa3.write(f'>{read.name}\\n{read.sequence}\\n')\n",
    "        elif index == \"TCGCCA\":\n",
    "            out_fa4.write(f'>{read.name}\\n{read.sequence}\\n')\n",
    "        elif index == \"GAACTC\":\n",
    "            out_fa5.write(f'>{read.name}\\n{read.sequence}\\n')\n",
    "        elif index == \"TATGGT\":\n",
    "            out_fa6.write(f'>{read.name}\\n{read.sequence}\\n')\n",
    "        elif index == \"CGCAAC\":\n",
    "            out_fa7.write(f'>{read.name}\\n{read.sequence}\\n')\n",
    "        elif index == \"TGGCAG\":\n",
    "            out_fa8.write(f'>{read.name}\\n{read.sequence}\\n')"
   ]
  },
  {
   "cell_type": "code",
   "execution_count": 22,
   "id": "resistant-saying",
   "metadata": {},
   "outputs": [],
   "source": [
    "out_fa1.close()\n",
    "out_fa2.close()\n",
    "out_fa3.close()\n",
    "out_fa4.close()\n",
    "out_fa5.close()\n",
    "out_fa6.close()\n",
    "out_fa7.close()\n",
    "out_fa8.close()"
   ]
  },
  {
   "cell_type": "code",
   "execution_count": null,
   "id": "useful-detection",
   "metadata": {},
   "outputs": [],
   "source": [
    "\"\"\"\n",
    "conda actiate trust4_1.7\n",
    "mixcr analyze amplicon -s hsa --starting-material dna --5-end v-primers --3-end j-primers --adapters adapters-present index4.fa ./index4\n",
    "\n",
    "conda activate cjj_bulk_vdj\n",
    "mkdir vdjtools_result\n",
    "java -jar /SGRNJ06/randd/USER/cjj/soft/vdjtools/vdjtools-1.2.1/vdjtools-1.2.1.jar Convert -S mixcr index1.clonotypes.ALL.txt ./vdjtools_result\n",
    "cd vdjtools_result\n",
    "java -jar /SGRNJ06/randd/USER/cjj/soft/vdjtools/vdjtools-1.2.1/vdjtools-1.2.1.jar CalcBasicStats * ./\n",
    "\n",
    "gene_usage:\n",
    "java -jar /SGRNJ06/randd/USER/cjj/soft/vdjtools/vdjtools-1.2.1/vdjtools-1.2.1.jar CalcSegmentUsage -p index* ./\n",
    "cp /SGRNJ06/randd/USER/cjj/celedev/vdj_bulk/20230822vdjtools/vdjtools_result/vexpr_plot.r .\n",
    "Rscript vexpr_plot.r  ./segments.wt.V.pdf\n",
    "Rscript vexpr_plot.r  ./segments.wt.J.pdf\n",
    "\n",
    "\n",
    "\"\"\""
   ]
  },
  {
   "cell_type": "code",
   "execution_count": 23,
   "id": "according-detail",
   "metadata": {},
   "outputs": [
    {
     "data": {
      "image/png": "[encoded data removed]",
      "text/plain": [
       "<Figure size 432x288 with 1 Axes>"
      ]
     },
     "metadata": {
      "needs_background": "light"
     },
     "output_type": "display_data"
    }
   ],
   "source": [
    "input_path='/SGRNJ06/randd/USER/cjj/celedev/vdj_bulk/20231013vdjtools/Liver/vdjtools_result/'#输入路径\n",
    "output_path='/SGRNJ06/randd/USER/cjj/celedev/vdj_bulk/20231013vdjtools/Liver/vdjtools_result/'#输出路径\n",
    "sample_info='basicstats.txt'#记录有样本分组的样本信息\n",
    "dict_sample_LengthCount={}\n",
    "list_pos=[]\n",
    "for line in open(input_path+sample_info,'r'):\n",
    "    info=line[:-1].split('\\t')\n",
    "    id=info[0]\n",
    "    if id == \"sample_id\":\n",
    "        continue\n",
    "    if id!='ID':\n",
    "        if str(info[1])=='Class1':\n",
    "            list_pos.append(id)\n",
    "        read_file=open(input_path+id+'.txt','r')\n",
    "        dict_length_count={}\n",
    "        for line in read_file:\n",
    "            if line[0]!='c':\n",
    "                length=len(line[:-1].split('\\t')[3])\n",
    "                if length < 30:\n",
    "                    if length not in dict_length_count.keys():\n",
    "                        dict_length_count[length]=1\n",
    "                    else:\n",
    "                        dict_length_count[length]+=1\n",
    "        dict_sample_LengthCount[id]=dict_length_count\n",
    "        read_file.close()\n",
    "list_length=[]\n",
    "list_class=[]\n",
    "list_sample=[]\n",
    "list_count=[]\n",
    "for sample in dict_sample_LengthCount.keys():\n",
    "    dict_length_count=dict_sample_LengthCount[sample]\n",
    "    for length in dict_length_count.keys():\n",
    "        list_length.append(length)\n",
    "        list_sample.append(sample)\n",
    "        if sample in list_pos:\n",
    "            list_class.append('Class1')\n",
    "        else:\n",
    "            list_class.append('Class2')\n",
    "        list_count.append(dict_length_count[length])\n",
    "\n",
    "# ax1 = sns.barplot(x=list_length,y=list_count,hue=list_class,errwidth=0.5,capsize=0.5,palette=(sns.xkcd_rgb[\"dark red\"],sns.xkcd_rgb[\"marine blue\"]))\n",
    "# ax1_1 = sns.stripplot(x=list_length,y=list_count,hue=list_class,size=2,dodge=True,palette=(sns.xkcd_rgb[\"dark red\"],sns.xkcd_rgb[\"marine blue\"]))\n",
    "# ax1.set_xticklabels(ax1.get_xticklabels(), rotation=-90,fontsize=6)\n",
    "# ax1.spines['top'].set_visible(False)\n",
    "# ax1.spines['right'].set_visible(False)\n",
    "# #plt.savefig(output_path+'Length_barplot_Class.pdf', dpi=300, bbox_inches=\"tight\")\n",
    "# plt.show()\n",
    "list_sample = [i.split('.')[0] + \"_clonotypes\" for i in list_sample]\n",
    "ax2 = sns.barplot(x=list_length,y=list_count,hue=list_sample,errwidth=0.5,capsize=0.5)\n",
    "ax2.set_xticklabels(ax2.get_xticklabels(), rotation=-0,fontsize=6)\n",
    "ax2.spines['top'].set_visible(False)\n",
    "ax2.spines['right'].set_visible(False)\n",
    "plt.title(\"CDR3 Clonotypes Length\", fontsize=15)\n",
    "plt.legend(bbox_to_anchor=(1.05, 1),loc=2,borderaxespad=0)\n",
    "plt.savefig(output_path+'Length_barplot_Sample.pdf', dpi=300, bbox_inches=\"tight\")\n",
    "#plt.show()"
   ]
  },
  {
   "cell_type": "code",
   "execution_count": 24,
   "id": "european-warrior",
   "metadata": {},
   "outputs": [
    {
     "name": "stdout",
     "output_type": "stream",
     "text": [
      "{'index1.clonotypes.ALL': {'1': 28.22966507177033, '2-3': 4.30622009569378, '4-10': 7.655502392344498, '11-30': 46.411483253588514, '31-100': 12.440191387559809, '101-MAX': 0.9569377990430622}, 'index2.clonotypes.ALL': {'1': 24.437299035369776, '2-3': 5.466237942122187, '4-10': 6.430868167202572, '11-30': 48.55305466237942, '31-100': 14.14790996784566, '101-MAX': 0.964630225080386}, 'index3.clonotypes.ALL': {'1': 28.27324478178368, '2-3': 5.1233396584440225, '4-10': 8.349146110056926, '11-30': 41.935483870967744, '31-100': 14.800759013282732, '101-MAX': 1.5180265654648957}, 'index4.clonotypes.ALL': {'1': 29.72972972972973, '2-3': 6.995230524642289, '4-10': 9.062003179650238, '11-30': 37.51987281399046, '31-100': 14.94435612082671, '101-MAX': 1.7488076311605723}, 'index5.clonotypes.ALL': {'1': 27.044025157232703, '2-3': 7.337526205450734, '4-10': 7.756813417190776, '11-30': 44.0251572327044, '31-100': 12.78825995807128, '101-MAX': 1.0482180293501049}, 'index6.clonotypes.ALL': {'1': 29.6969696969697, '2-3': 4.848484848484849, '4-10': 8.787878787878787, '11-30': 37.27272727272727, '31-100': 16.666666666666664, '101-MAX': 2.727272727272727}, 'index7.clonotypes.ALL': {'1': 27.053140096618357, '2-3': 9.178743961352657, '4-10': 10.144927536231885, '11-30': 39.371980676328505, '31-100': 13.043478260869565, '101-MAX': 1.2077294685990339}, 'index8.clonotypes.ALL': {'1': 42.805755395683455, '2-3': 10.911270983213429, '4-10': 7.434052757793765, '11-30': 23.860911270983213, '31-100': 12.11031175059952, '101-MAX': 2.877697841726619}}\n",
      "[28.22966507 24.43729904 28.27324478 29.72972973 27.04402516 29.6969697\n",
      " 27.0531401  42.8057554 ]\n"
     ]
    },
    {
     "name": "stderr",
     "output_type": "stream",
     "text": [
      "/SGRNJ/Public/Software/conda_env/chenjunjie/lib/python3.7/site-packages/ipykernel_launcher.py:110: UserWarning: FixedFormatter should only be used together with FixedLocator\n"
     ]
    },
    {
     "data": {
      "image/png": "[encoded data removed]",
      "text/plain": [
       "<Figure size 432x288 with 1 Axes>"
      ]
     },
     "metadata": {
      "needs_background": "light"
     },
     "output_type": "display_data"
    }
   ],
   "source": [
    "input_path='/SGRNJ06/randd/USER/cjj/celedev/vdj_bulk/20231013vdjtools/Liver/vdjtools_result/'#输入路径\n",
    "output_path='/SGRNJ06/randd/USER/cjj/celedev/vdj_bulk/20231013vdjtools/Liver/vdjtools_result/'#输出路径\n",
    "sample_info='basicstats.txt'#记录有样本分组的样本信息\n",
    "dict_sample_ReadsCounts={}\n",
    "list_pos=[]\n",
    "for line in open(input_path+sample_info,'r'):\n",
    "    info = line[:-1].split('\\t')\n",
    "    id = info[0]\n",
    "    if id == \"sample_id\":\n",
    "        continue\n",
    "    if id != 'ID':\n",
    "        if str(info[1]) == 'Class1':\n",
    "            list_pos.append(id)\n",
    "        read_file = open(input_path + id + \".txt\", 'r')\n",
    "        dict_read_count={'1':0,'2-3':0,'4-10':0,'11-30':0,'31-100':0,'101-MAX':0}\n",
    "        number_clonotypes=0\n",
    "        for line in read_file:\n",
    "            if line[0] != 'c':\n",
    "                number_clonotypes+=1\n",
    "                info=line[:-1].split('\\t')\n",
    "                count=info[0]\n",
    "                if int(count) == 1:\n",
    "                    dict_read_count['1']+=1\n",
    "                elif int(count) in [2,3]:\n",
    "                    dict_read_count['2-3']+=1\n",
    "                elif 4 <= int(count) <= 10:\n",
    "                    dict_read_count['4-10']+=1\n",
    "                elif 11 <= int(count) <= 30:\n",
    "                    dict_read_count['11-30']+=1\n",
    "                elif 31 <= int(count) <= 100:\n",
    "                    dict_read_count['31-100']+=1\n",
    "                elif int(count) >= 101:\n",
    "                    dict_read_count['101-MAX']+=1\n",
    "        for key in dict_read_count:\n",
    "            dict_read_count[key]=dict_read_count[key]/number_clonotypes*100\n",
    "        dict_sample_ReadsCounts[id]=dict_read_count\n",
    "        read_file.close()\n",
    "\n",
    "list_sample=[]\n",
    "list_class=[]\n",
    "list_read=[]\n",
    "list_count=[]\n",
    "dict_read_SampleCount={'1': {},'2-3': {},'4-10': {},'11-30': {},'31-100': {},'101-MAX': {}}\n",
    "print(dict_sample_ReadsCounts)\n",
    "for sample in dict_sample_ReadsCounts.keys():\n",
    "    dict_read_count=dict_sample_ReadsCounts[sample]\n",
    "    for read in dict_read_count.keys():\n",
    "        list_sample.append(sample)\n",
    "        if sample in list_pos:\n",
    "            list_class.append('Class1')\n",
    "        else:\n",
    "            list_class.append('Class2')\n",
    "        list_read.append(read)\n",
    "        count=float(dict_read_count[read])\n",
    "        list_count.append(count)\n",
    "        dict_sample_count=dict_read_SampleCount[read]\n",
    "        dict_sample_count[sample]=count\n",
    "        dict_read_SampleCount[read]=dict_sample_count\n",
    "\n",
    "# ax1 = sns.barplot(x=list_read,y=list_count,hue=list_class,errwidth=1,capsize=0.2,palette=(sns.xkcd_rgb[\"dark red\"],sns.xkcd_rgb[\"marine blue\"]))\n",
    "# ax1_1 = sns.stripplot(x=list_read,y=list_count,hue=list_class,dodge=True,palette=(sns.xkcd_rgb[\"dark red\"],sns.xkcd_rgb[\"marine blue\"]))\n",
    "# ax1.set_xticklabels(ax1.get_xticklabels(), rotation=-90,fontsize=6)\n",
    "# ax1.spines['top'].set_visible(False)\n",
    "# ax1.spines['right'].set_visible(False)\n",
    "# plt.savefig(output_path+'CountProportion_lappedplot_Class.pdf',dpi=300, bbox_inches=\"tight\")#\n",
    "# plt.show()\n",
    "\n",
    "fig, ax = plt.subplots()\n",
    "list_1=[]\n",
    "list_2_3=[]\n",
    "list_4_10=[]\n",
    "list_11_30=[]\n",
    "list_31_100=[]\n",
    "list_101_MAX=[]\n",
    "for read in dict_read_SampleCount.keys():\n",
    "    dict_sample_count=dict_read_SampleCount[read]\n",
    "    list_sample=[]\n",
    "    for sample in dict_sample_count.keys():\n",
    "        list_sample.append(sample)\n",
    "        if read=='1':\n",
    "            list_1.append(dict_sample_count[sample])\n",
    "        elif read=='2-3':\n",
    "            list_2_3.append(dict_sample_count[sample])\n",
    "        elif read=='4-10':\n",
    "            list_4_10.append(dict_sample_count[sample])\n",
    "        elif read=='11-30':\n",
    "            list_11_30.append(dict_sample_count[sample])\n",
    "        elif read=='31-100':\n",
    "            list_31_100.append(dict_sample_count[sample])\n",
    "        elif read=='101-MAX':\n",
    "            list_101_MAX.append(dict_sample_count[sample])\n",
    "list_1=np.array(list_1)\n",
    "list_2_3=np.array(list_2_3)\n",
    "list_4_10=np.array(list_4_10)\n",
    "list_11_30=np.array(list_11_30)\n",
    "list_31_100=np.array(list_31_100)\n",
    "list_101_MAX=np.array(list_101_MAX)\n",
    "width = 0.6\n",
    "print(list_1)\n",
    "ax.bar(list_sample,list_1,width, label='1')\n",
    "ax.bar(list_sample,list_2_3,width,label='2_3',bottom=list_1)\n",
    "ax.bar(list_sample,list_4_10,width,label='4-10',bottom=list_1+list_2_3)\n",
    "ax.bar(list_sample,list_11_30,width,label='11-30',bottom=list_1+list_2_3+list_4_10)\n",
    "ax.bar(list_sample,list_31_100,width,label='31-100',bottom=list_1+list_2_3+list_4_10+list_11_30)\n",
    "ax.bar(list_sample,list_101_MAX,width,label='101-MAX',bottom=list_1+list_2_3+list_4_10+list_11_30+list_31_100)\n",
    "ax.spines['top'].set_visible(False)\n",
    "ax.spines['right'].set_visible(False)\n",
    "ax.legend()\n",
    "list_sample = [i.split('.')[0] + \"_clonotypes\" for i in list_sample]\n",
    "ax.set_xticklabels(list_sample, rotation=45, fontsize=10)\n",
    "plt.legend(bbox_to_anchor=(1.05, 1),loc=2,borderaxespad=0)\n",
    "plt.title(\"CDR3 Clonotypes Abundance Proportion\", fontsize=15)\n",
    "plt.savefig(output_path+'CountProportion_barplot_sample.pdf',dpi=300, bbox_inches=\"tight\")\n",
    "plt.show()"
   ]
  },
  {
   "cell_type": "code",
   "execution_count": null,
   "id": "british-round",
   "metadata": {},
   "outputs": [],
   "source": []
  }
 ],
 "metadata": {
  "kernelspec": {
   "display_name": "trust4_1.7",
   "language": "python",
   "name": "trust4_1.7"
  },
  "language_info": {
   "codemirror_mode": {
    "name": "ipython",
    "version": 3
   },
   "file_extension": ".py",
   "mimetype": "text/x-python",
   "name": "python",
   "nbconvert_exporter": "python",
   "pygments_lexer": "ipython3",
   "version": "3.7.10"
  }
 },
 "nbformat": 4,
 "nbformat_minor": 5
}
