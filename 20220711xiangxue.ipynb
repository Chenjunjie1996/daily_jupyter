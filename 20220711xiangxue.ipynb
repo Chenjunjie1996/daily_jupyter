{
 "cells": [
  {
   "cell_type": "code",
   "execution_count": 1,
   "id": "empirical-drawing",
   "metadata": {},
   "outputs": [],
   "source": [
    "import pandas as pd"
   ]
  },
  {
   "cell_type": "code",
   "execution_count": 6,
   "id": "organic-compiler",
   "metadata": {},
   "outputs": [],
   "source": [
    "D1457_1 = pd.read_csv('/SGRNJ06/randd/PROJECT/RD20102301_DZH/P21102201_TCR_T/20220704_2/LLM_D1457_1_TCR/05.count_vdj/LLM_D1457_1_TCR_cell_confident_count.tsv',sep='\\t')\n",
    "D1457_2= pd.read_csv('/SGRNJ06/randd/PROJECT/RD20102301_DZH/P21102201_TCR_T/20220704_2/LLM_D1457_2_TCR/05.count_vdj/LLM_D1457_2_TCR_cell_confident_count.tsv',sep='\\t')\n",
    "D60_1= pd.read_csv('/SGRNJ06/randd/PROJECT/RD20102301_DZH/P21102201_TCR_T/20220704_2/LLM_D60_1_TCR/05.count_vdj/LLM_D60_1_TCR_cell_confident_count.tsv',sep='\\t')\n",
    "D60_2= pd.read_csv('/SGRNJ06/randd/PROJECT/RD20102301_DZH/P21102201_TCR_T/20220704_2/LLM_D60_2_TCR/05.count_vdj/LLM_D60_2_TCR_cell_confident_count.tsv',sep='\\t')"
   ]
  },
  {
   "cell_type": "code",
   "execution_count": 7,
   "id": "ordinary-scotland",
   "metadata": {},
   "outputs": [],
   "source": [
    "D1457_1_TCR = set(D1457_1.barcode)\n",
    "D1457_2_TCR = set(D1457_2.barcode)\n",
    "D60_1_TCR = set(D60_1.barcode)\n",
    "D60_2_TCR = set(D60_2.barcode)"
   ]
  },
  {
   "cell_type": "code",
   "execution_count": 8,
   "id": "copyrighted-turning",
   "metadata": {},
   "outputs": [
    {
     "data": {
      "text/plain": [
       "10987"
      ]
     },
     "execution_count": 8,
     "metadata": {},
     "output_type": "execute_result"
    }
   ],
   "source": []
  },
  {
   "cell_type": "code",
   "execution_count": 9,
   "id": "numeric-history",
   "metadata": {},
   "outputs": [],
   "source": [
    "outdir = '/SGRNJ06/randd/USER/cjj/celedev/xiangxue/20220711_1'"
   ]
  },
  {
   "cell_type": "code",
   "execution_count": 24,
   "id": "fiscal-electricity",
   "metadata": {},
   "outputs": [],
   "source": [
    "D1457_1_t = pd.read_csv('/SGRNJ06/randd/PROJECT/RD20102301_DZH/P21102201_TCR_T/20220707/LLM_D1457_1_TCR_T/06.filter_virus/LLM_D1457_1_TCR_T_filtered_UMI.csv')\n",
    "D1457_2_t = pd.read_csv('/SGRNJ06/randd/PROJECT/RD20102301_DZH/P21102201_TCR_T/20220707/LLM_D1457_2_TCR_T/06.filter_virus/LLM_D1457_2_TCR_T_filtered_UMI.csv')\n",
    "D60_1_t = pd.read_csv('/SGRNJ06/randd/PROJECT/RD20102301_DZH/P21102201_TCR_T/20220707/LLM_D60_1_TCR_T/06.filter_virus/LLM_D60_1_TCR_T_filtered_UMI.csv')\n",
    "D60_2_t = pd.read_csv('/SGRNJ06/randd/PROJECT/RD20102301_DZH/P21102201_TCR_T/20220707/LLM_D60_2_TCR_T/06.filter_virus/LLM_D60_2_TCR_T_filtered_UMI.csv')"
   ]
  },
  {
   "cell_type": "code",
   "execution_count": 25,
   "id": "awful-binary",
   "metadata": {},
   "outputs": [],
   "source": [
    "D1457_1_t = D1457_1_t[D1457_1_t.barcode.isin(D1457_1_TCR)]\n",
    "D1457_2_t = D1457_2_t[D1457_2_t.barcode.isin(D1457_2_TCR)]\n",
    "D60_1_t = D60_1_t[D60_1_t.barcode.isin(D60_1_TCR)]\n",
    "D60_2_t = D60_2_t[D60_2_t.barcode.isin(D60_2_TCR)]"
   ]
  },
  {
   "cell_type": "code",
   "execution_count": 29,
   "id": "developed-renewal",
   "metadata": {},
   "outputs": [],
   "source": [
    "D1457_1_t.to_csv(f'{outdir}//LLM_D1457_1_TCR_T_filtered_UMI.csv',index=False)\n",
    "D1457_2_t.to_csv(f'{outdir}//LLM_D1457_2_TCR_T_filtered_UMI.csv',index=False)\n",
    "D60_1_t.to_csv(f'{outdir}//LLM_D60_1_TCR_T_filtered_UMI.csv',index=False)\n",
    "D60_2_t.to_csv(f'{outdir}//LLM_D60_2_TCR_T_filtered_UMI.csv',index=False)"
   ]
  },
  {
   "cell_type": "code",
   "execution_count": null,
   "id": "recovered-corner",
   "metadata": {},
   "outputs": [],
   "source": []
  }
 ],
 "metadata": {
  "kernelspec": {
   "display_name": "cele1.11",
   "language": "python",
   "name": "refactor_trust"
  },
  "language_info": {
   "codemirror_mode": {
    "name": "ipython",
    "version": 3
   },
   "file_extension": ".py",
   "mimetype": "text/x-python",
   "name": "python",
   "nbconvert_exporter": "python",
   "pygments_lexer": "ipython3",
   "version": "3.9.0"
  }
 },
 "nbformat": 4,
 "nbformat_minor": 5
}
