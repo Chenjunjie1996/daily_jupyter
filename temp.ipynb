{
 "cells": [
  {
   "cell_type": "code",
   "execution_count": null,
   "id": "hawaiian-samba",
   "metadata": {},
   "outputs": [],
   "source": [
    "import os\n",
    "import subprocess\n",
    "import glob"
   ]
  },
  {
   "cell_type": "code",
   "execution_count": null,
   "id": "compatible-cooperation",
   "metadata": {},
   "outputs": [],
   "source": [
    "raw_dir = '/SGRNJ06/randd/USER/cjj/celedev/wanheyuan/xueguan/TCR'\n",
    "target_dir = '/SGRNJ06/randd/USER/cjj/celedev/wanheyuan/match/xueguan/TCR'"
   ]
  },
  {
   "cell_type": "code",
   "execution_count": null,
   "id": "missing-fiber",
   "metadata": {},
   "outputs": [],
   "source": [
    "file_list = []\n",
    "for i in os.listdir(raw_dir):\n",
    "    file = os.path.join(raw_dir +'/' + i)\n",
    "    if os.path.isdir(file) and file.split('/')[-1] not in ['sjm', 'log']:\n",
    "        file_list.append(file)"
   ]
  },
  {
   "cell_type": "code",
   "execution_count": null,
   "id": "least-liability",
   "metadata": {},
   "outputs": [],
   "source": [
    "file_list"
   ]
  },
  {
   "cell_type": "code",
   "execution_count": null,
   "id": "marine-logic",
   "metadata": {},
   "outputs": [],
   "source": [
    "target_list = ['/'.join(file.split('/')[:-3] + ['match'] + file.split('/')[-3:]) for file in file_list]"
   ]
  },
  {
   "cell_type": "code",
   "execution_count": null,
   "id": "engaging-throw",
   "metadata": {},
   "outputs": [],
   "source": [
    "target_list"
   ]
  },
  {
   "cell_type": "code",
   "execution_count": null,
   "id": "living-blocking",
   "metadata": {},
   "outputs": [],
   "source": [
    "for file in target_list:\n",
    "    if not os.path.exists(file):\n",
    "        subprocess.check_call(f'mkdir -p {file}', shell=True)"
   ]
  },
  {
   "cell_type": "code",
   "execution_count": null,
   "id": "baking-moldova",
   "metadata": {},
   "outputs": [],
   "source": [
    "html_list = [glob.glob(file+'/*_report.html')[0] for file in file_list if os.path.exists(glob.glob(file + '/*_report.html')[0])]"
   ]
  },
  {
   "cell_type": "code",
   "execution_count": null,
   "id": "appreciated-cycling",
   "metadata": {},
   "outputs": [],
   "source": [
    "html_list"
   ]
  },
  {
   "cell_type": "code",
   "execution_count": null,
   "id": "approved-criticism",
   "metadata": {},
   "outputs": [],
   "source": [
    "for i in range(len(html_list)):\n",
    "    subprocess.check_call(f'cp {html_list[i]} {target_list[i]}', shell=True)"
   ]
  },
  {
   "cell_type": "code",
   "execution_count": null,
   "id": "laden-senate",
   "metadata": {},
   "outputs": [],
   "source": []
  },
  {
   "cell_type": "code",
   "execution_count": null,
   "id": "allied-screening",
   "metadata": {},
   "outputs": [],
   "source": []
  },
  {
   "cell_type": "code",
   "execution_count": null,
   "id": "medium-stevens",
   "metadata": {},
   "outputs": [],
   "source": []
  },
  {
   "cell_type": "code",
   "execution_count": null,
   "id": "adopted-support",
   "metadata": {},
   "outputs": [],
   "source": [
    "raw_dir = '/SGRNJ06/randd/USER/cjj/celedev/wanheyuan/chang/BCR'\n",
    "target_dir = '/SGRNJ06/randd/USER/cjj/celedev/wanheyuan/match/chang/BCR'"
   ]
  },
  {
   "cell_type": "code",
   "execution_count": null,
   "id": "arctic-teach",
   "metadata": {},
   "outputs": [],
   "source": [
    "file_list = []\n",
    "for i in os.listdir(raw_dir):\n",
    "    file = os.path.join(raw_dir +'/' + i)\n",
    "    if os.path.isdir(file) and file.split('/')[-1] not in ['sjm', 'log']:\n",
    "        file_list.append(file + '/04.summarize')"
   ]
  },
  {
   "cell_type": "code",
   "execution_count": null,
   "id": "fluid-circus",
   "metadata": {},
   "outputs": [],
   "source": [
    "file_list"
   ]
  },
  {
   "cell_type": "code",
   "execution_count": null,
   "id": "interesting-services",
   "metadata": {},
   "outputs": [],
   "source": [
    "target_list = ['/'.join(file.split('/')[:-4] + ['match'] + file.split('/')[-4:]) for file in file_list]"
   ]
  },
  {
   "cell_type": "code",
   "execution_count": null,
   "id": "weighted-capability",
   "metadata": {},
   "outputs": [],
   "source": [
    "target_list"
   ]
  },
  {
   "cell_type": "code",
   "execution_count": null,
   "id": "interpreted-natural",
   "metadata": {},
   "outputs": [],
   "source": [
    "for file in target_list:\n",
    "    if not os.path.exists(file):\n",
    "        subprocess.check_call(f'mkdir -p {file}', shell=True)"
   ]
  },
  {
   "cell_type": "code",
   "execution_count": null,
   "id": "organic-poster",
   "metadata": {},
   "outputs": [],
   "source": [
    "for i in range(len(target_list)):\n",
    "    subprocess.check_call(f'cp {file_list[i]}/* {target_list[i]}', shell=True)"
   ]
  },
  {
   "cell_type": "code",
   "execution_count": null,
   "id": "included-median",
   "metadata": {},
   "outputs": [],
   "source": []
  },
  {
   "cell_type": "code",
   "execution_count": null,
   "id": "micro-recipe",
   "metadata": {},
   "outputs": [],
   "source": []
  },
  {
   "cell_type": "code",
   "execution_count": null,
   "id": "impaired-motel",
   "metadata": {},
   "outputs": [],
   "source": [
    "# lims rna"
   ]
  },
  {
   "cell_type": "code",
   "execution_count": null,
   "id": "wooden-georgia",
   "metadata": {},
   "outputs": [],
   "source": [
    "# chang \n",
    "path_list = [\n",
    "    '/SGRNJ03/PROJ03/PROJ_20.lims/P21093001_flVv2/CO-PBMC-2203-011/b2bcfa55-f6e3-4315-a5ad-92d749d6d1ae',\n",
    "    '/SGRNJ03/PROJ03/PROJ_20.lims/P21093001_flVv2/CO-PBMC-2203-013/6992ae72-d7f9-4b05-875c-3cd8bf8b864b',\n",
    "    '/SGRNJ03/PROJ03/PROJ_20.lims/P21093001_flVv2/CO-PBMC-2202-029/73683dfc-8e44-4a17-93f6-bd3b2595f684',\n",
    "    '/SGRNJ03/PROJ03/PROJ_20.lims/P21093001_flVv2/DC20220317-1/c447216d-3e48-4f11-893a-c2a4a94457b6',\n",
    "    '/SGRNJ06/bioinfo/PROJ04/PROJ_22.SC/P21093001_SCOPEv2/temp/DC0002CA_c3/DC0002CA',\n",
    "    '/SGRNJ03/PROJ03/PROJ_20.lims/P21093001_flVv2/DC0002CP/0d41cf40-474f-4907-9153-6a06e77b167e',\n",
    "    '/SGRNJ03/PROJ03/PROJ_20.lims/P21093001_flVv2/DC0004CA/f72a26c6-ce89-4cc0-8f4a-30d458149ec7',\n",
    "    '/SGRNJ03/PROJ03/PROJ_20.lims/P21093001_flVv2/DC0004CP/993c76dd-ea5c-4b7a-a31e-24d47283cce6',\n",
    "    '/SGRNJ03/PROJ03/PROJ_20.lims/P21093001_flVv2/DC0005LI/f5b47501-a4b7-465f-9c94-6c2c9fb2771a',\n",
    "    '/SGRNJ03/PROJ03/PROJ_20.lims/P21093001_flVv2/DC0005CA/6de18811-4502-47f2-b3ec-d03462502174',\n",
    "]\n",
    "path_list = [path + '/call-count_cellranger3' for path in path_list]"
   ]
  },
  {
   "cell_type": "code",
   "execution_count": null,
   "id": "based-picking",
   "metadata": {},
   "outputs": [],
   "source": [
    "path_list"
   ]
  },
  {
   "cell_type": "code",
   "execution_count": null,
   "id": "three-bubble",
   "metadata": {},
   "outputs": [],
   "source": [
    "for path in path_list:\n",
    "    print(os.path.exists(path))"
   ]
  },
  {
   "cell_type": "code",
   "execution_count": null,
   "id": "uniform-monday",
   "metadata": {},
   "outputs": [],
   "source": []
  },
  {
   "cell_type": "code",
   "execution_count": null,
   "id": "copyrighted-bankruptcy",
   "metadata": {},
   "outputs": [],
   "source": []
  },
  {
   "cell_type": "code",
   "execution_count": null,
   "id": "eastern-pakistan",
   "metadata": {},
   "outputs": [],
   "source": [
    "raw_dir = '/SGRNJ06/randd/USER/cjj/celedev/wanheyuan/c3rna'"
   ]
  },
  {
   "cell_type": "code",
   "execution_count": null,
   "id": "fresh-gamma",
   "metadata": {},
   "outputs": [],
   "source": [
    "path_list = []\n",
    "for i in os.listdir(raw_dir):\n",
    "    path_list.append(raw_dir + f'/{i}')"
   ]
  },
  {
   "cell_type": "code",
   "execution_count": null,
   "id": "welcome-singer",
   "metadata": {},
   "outputs": [],
   "source": [
    "for path in path_list:\n",
    "    if os.path.isdir(path):\n",
    "        print(path)"
   ]
  },
  {
   "cell_type": "code",
   "execution_count": null,
   "id": "damaged-tractor",
   "metadata": {},
   "outputs": [],
   "source": [
    "del path_list[0]"
   ]
  },
  {
   "cell_type": "code",
   "execution_count": null,
   "id": "fluid-butterfly",
   "metadata": {},
   "outputs": [],
   "source": [
    "path_list"
   ]
  },
  {
   "cell_type": "code",
   "execution_count": null,
   "id": "written-barbados",
   "metadata": {},
   "outputs": [],
   "source": [
    "file_list = []\n",
    "for path in path_list:\n",
    "    for sub_path in os.listdir(path):\n",
    "        file_list.append(path + '/' + f'{sub_path}')"
   ]
  },
  {
   "cell_type": "code",
   "execution_count": null,
   "id": "artistic-enterprise",
   "metadata": {},
   "outputs": [],
   "source": [
    "file_list = [file for file in file_list if not file.endswith('list.txt')]"
   ]
  },
  {
   "cell_type": "code",
   "execution_count": null,
   "id": "accessible-chuck",
   "metadata": {},
   "outputs": [],
   "source": [
    "file_list"
   ]
  },
  {
   "cell_type": "code",
   "execution_count": null,
   "id": "normal-crash",
   "metadata": {},
   "outputs": [],
   "source": [
    "for file in file_list:\n",
    "    try:\n",
    "        subprocess.check_call(f'mkdir -p {file}/05.count/filtered_feature_bc_matrix',shell=True)\n",
    "    except:\n",
    "        file_list.remove(file)"
   ]
  },
  {
   "cell_type": "code",
   "execution_count": null,
   "id": "previous-playing",
   "metadata": {},
   "outputs": [],
   "source": [
    "file_list"
   ]
  },
  {
   "cell_type": "code",
   "execution_count": null,
   "id": "nervous-iraqi",
   "metadata": {},
   "outputs": [],
   "source": [
    "for file in file_list:\n",
    "    cmd = f'cp {file}/* {file}/05.count/filtered_feature_bc_matrix'\n",
    "    try:\n",
    "        subprocess.check_call(cmd,shell=True)\n",
    "    except:\n",
    "        pass"
   ]
  },
  {
   "cell_type": "code",
   "execution_count": null,
   "id": "earlier-tamil",
   "metadata": {},
   "outputs": [],
   "source": []
  },
  {
   "cell_type": "code",
   "execution_count": null,
   "id": "novel-ticket",
   "metadata": {},
   "outputs": [],
   "source": []
  },
  {
   "cell_type": "code",
   "execution_count": null,
   "id": "romance-training",
   "metadata": {},
   "outputs": [],
   "source": []
  },
  {
   "cell_type": "code",
   "execution_count": null,
   "id": "signed-swedish",
   "metadata": {},
   "outputs": [],
   "source": [
    "# oss\n",
    "raw_dir = '/SGRNJ06/randd/USER/cjj/celedev/wanheyuan/match/wei'\n",
    "target_dir = '/SGRNJ06/randd/USER/cjj/celedev/aws/20220818/stomach'"
   ]
  },
  {
   "cell_type": "code",
   "execution_count": null,
   "id": "nonprofit-standing",
   "metadata": {},
   "outputs": [],
   "source": [
    "path_list = glob.glob(f'{raw_dir}/*/*')"
   ]
  },
  {
   "cell_type": "code",
   "execution_count": null,
   "id": "defensive-mouth",
   "metadata": {},
   "outputs": [],
   "source": [
    "path_list = [sample for sample in path_list if os.path.isdir(sample)]"
   ]
  },
  {
   "cell_type": "code",
   "execution_count": null,
   "id": "middle-sleeping",
   "metadata": {},
   "outputs": [],
   "source": [
    "path_list = [sample for sample in path_list if not sample.split('/')[-1].endswith('sjm')]\n",
    "path_list = [sample for sample in path_list if not sample.split('/')[-1].endswith('log')]"
   ]
  },
  {
   "cell_type": "code",
   "execution_count": null,
   "id": "adjusted-wings",
   "metadata": {},
   "outputs": [],
   "source": [
    "path_list"
   ]
  },
  {
   "cell_type": "code",
   "execution_count": null,
   "id": "front-montana",
   "metadata": {},
   "outputs": [],
   "source": [
    "for i in path_list:\n",
    "    sample_name = i.split('/')[-1]\n",
    "    subprocess.check_call(f'mkdir -p {target_dir}/{sample_name}', shell=True)\n",
    "    target_file = ['04.summarize/filtered_contig_annotations.csv','04.summarize/filtered_contig.fasta','05.match/matched_contig_annotations.csv','05.match/matched_contig.fasta']\n",
    "    for file in target_file:\n",
    "        subprocess.check_call(f'cp {i}/{file} {target_dir}/{sample_name}', shell=True)\n",
    "    "
   ]
  },
  {
   "cell_type": "code",
   "execution_count": null,
   "id": "norwegian-basement",
   "metadata": {},
   "outputs": [],
   "source": [
    "# 重名\n",
    "path_list_T = path_list[:10]\n",
    "path_list_B = path_list[10:]"
   ]
  },
  {
   "cell_type": "code",
   "execution_count": null,
   "id": "surrounded-carbon",
   "metadata": {},
   "outputs": [],
   "source": [
    "path_list_T"
   ]
  },
  {
   "cell_type": "code",
   "execution_count": null,
   "id": "wicked-leadership",
   "metadata": {},
   "outputs": [],
   "source": [
    "for i in path_list_B:\n",
    "    sample_name = i.split('/')[-1]\n",
    "    subprocess.check_call(f'mkdir -p {target_dir}/{sample_name}', shell=True)\n",
    "    target_file = ['04.summarize/filtered_contig_annotations.csv','04.summarize/filtered_contig.fasta','05.match/matched_contig_annotations.csv','05.match/matched_contig.fasta']\n",
    "    for file in target_file:\n",
    "        subprocess.check_call(f'cp {i}/{file} {target_dir}/{sample_name}', shell=True)\n",
    "    "
   ]
  },
  {
   "cell_type": "code",
   "execution_count": null,
   "id": "alternative-theater",
   "metadata": {},
   "outputs": [],
   "source": []
  },
  {
   "cell_type": "code",
   "execution_count": null,
   "id": "spatial-dominant",
   "metadata": {},
   "outputs": [],
   "source": [
    "# CHECK SIZE\n",
    "raw_dir = '/SGRNJ06/randd/USER/cjj/celedev/wanheyuan/match/wei'"
   ]
  },
  {
   "cell_type": "code",
   "execution_count": null,
   "id": "gorgeous-worst",
   "metadata": {},
   "outputs": [],
   "source": [
    "file_list = glob.glob(f'{raw_dir}/*/*/*/*')"
   ]
  },
  {
   "cell_type": "code",
   "execution_count": null,
   "id": "competitive-tracker",
   "metadata": {},
   "outputs": [],
   "source": [
    "pattern = ['filtered_contig_annotations.csv','filtered_contig.fasta','matched_contig_annotations.csv','matched_contig.fasta']"
   ]
  },
  {
   "cell_type": "code",
   "execution_count": null,
   "id": "constant-mileage",
   "metadata": {},
   "outputs": [],
   "source": [
    "file_list = [file for file in file_list if file.split('/')[-1] in (pattern)]"
   ]
  },
  {
   "cell_type": "code",
   "execution_count": null,
   "id": "objective-certificate",
   "metadata": {},
   "outputs": [],
   "source": [
    "for file in file_list:\n",
    "    print(os.path.getsize(file))"
   ]
  },
  {
   "cell_type": "code",
   "execution_count": null,
   "id": "british-brazilian",
   "metadata": {},
   "outputs": [],
   "source": []
  },
  {
   "cell_type": "code",
   "execution_count": null,
   "id": "electronic-scottish",
   "metadata": {},
   "outputs": [],
   "source": [
    "dir1='/SGRNJ06/randd/USER/cjj/celedev/wanheyuan/'\n",
    "dir2='/SGRNJ06/randd/USER/cjj/celedev/wanheyuan/match'\n",
    "dir3='/SGRNJ06/randd/USER/cjj/celedev/aws/check_size/20220818'"
   ]
  },
  {
   "cell_type": "code",
   "execution_count": null,
   "id": "advance-layer",
   "metadata": {},
   "outputs": [],
   "source": [
    "dir1_list = glob.glob(f'{dir1}/*')\n",
    "dir2_list = glob.glob(f'{dir2}/*')\n",
    "dir3_list = glob.glob(f'{dir3}/*')"
   ]
  },
  {
   "cell_type": "code",
   "execution_count": null,
   "id": "hundred-acrylic",
   "metadata": {},
   "outputs": [],
   "source": [
    "dir1_list = dir1_list[1:6]\n",
    "dir3_list = [dir3_list[2],dir3_list[1],dir3_list[0],dir3_list[-1],dir3_list[3]]"
   ]
  },
  {
   "cell_type": "code",
   "execution_count": null,
   "id": "continued-insider",
   "metadata": {},
   "outputs": [],
   "source": [
    "dir1_list"
   ]
  },
  {
   "cell_type": "code",
   "execution_count": null,
   "id": "extended-lesbian",
   "metadata": {},
   "outputs": [],
   "source": [
    "dir2_list"
   ]
  },
  {
   "cell_type": "code",
   "execution_count": null,
   "id": "cooperative-quantity",
   "metadata": {},
   "outputs": [],
   "source": [
    "dir3_list"
   ]
  },
  {
   "cell_type": "code",
   "execution_count": null,
   "id": "adapted-fiber",
   "metadata": {},
   "outputs": [],
   "source": [
    "\n",
    "    contig_csv_1 = glob.glob(f'{dir1_list[3]}/*/*/04.summarize/filtered_contig_annotations.csv')\n",
    "    contig_csv_2 = glob.glob(f'{dir2_list[3]}/*/*/04.summarize/filtered_contig_annotations.csv')\n",
    "    contig_csv_3 = glob.glob(f'{dir3_list[3]}/*/filtered_contig_annotations.csv')"
   ]
  },
  {
   "cell_type": "code",
   "execution_count": null,
   "id": "selected-purchase",
   "metadata": {},
   "outputs": [],
   "source": [
    "contig_csv_1.sort()"
   ]
  },
  {
   "cell_type": "code",
   "execution_count": null,
   "id": "discrete-value",
   "metadata": {},
   "outputs": [],
   "source": [
    "contig_csv_2.sort()"
   ]
  },
  {
   "cell_type": "code",
   "execution_count": null,
   "id": "radio-terror",
   "metadata": {},
   "outputs": [],
   "source": [
    "contig_csv_3.sort()"
   ]
  },
  {
   "cell_type": "code",
   "execution_count": null,
   "id": "naked-retirement",
   "metadata": {},
   "outputs": [],
   "source": [
    "contig_csv_1"
   ]
  },
  {
   "cell_type": "code",
   "execution_count": null,
   "id": "instant-facial",
   "metadata": {},
   "outputs": [],
   "source": [
    "contig_csv_2.sort(key=lambda x:x.split('/')[-3])"
   ]
  },
  {
   "cell_type": "code",
   "execution_count": null,
   "id": "sophisticated-vancouver",
   "metadata": {},
   "outputs": [],
   "source": [
    "contig_csv_3.sort(key=lambda x:x.split('/')[-2])"
   ]
  },
  {
   "cell_type": "code",
   "execution_count": null,
   "id": "forced-script",
   "metadata": {},
   "outputs": [],
   "source": [
    "contig_csv_2"
   ]
  },
  {
   "cell_type": "code",
   "execution_count": null,
   "id": "greenhouse-butter",
   "metadata": {},
   "outputs": [],
   "source": [
    "contig_csv_3"
   ]
  },
  {
   "cell_type": "code",
   "execution_count": null,
   "id": "equipped-savannah",
   "metadata": {},
   "outputs": [],
   "source": [
    "for i in range(len(contig_csv_2)):\n",
    "    print(os.path.getsize(contig_csv_2[i]) == os.path.getsize(contig_csv_3[i]))"
   ]
  },
  {
   "cell_type": "code",
   "execution_count": null,
   "id": "acceptable-manhattan",
   "metadata": {},
   "outputs": [],
   "source": []
  },
  {
   "cell_type": "code",
   "execution_count": null,
   "id": "vulnerable-reverse",
   "metadata": {},
   "outputs": [],
   "source": []
  },
  {
   "cell_type": "code",
   "execution_count": null,
   "id": "quick-david",
   "metadata": {},
   "outputs": [],
   "source": []
  },
  {
   "cell_type": "code",
   "execution_count": null,
   "id": "assumed-sympathy",
   "metadata": {},
   "outputs": [],
   "source": [
    "import pysam \n",
    "import pandas as pd"
   ]
  },
  {
   "cell_type": "code",
   "execution_count": null,
   "id": "weighted-nation",
   "metadata": {},
   "outputs": [],
   "source": [
    "whitelist = '/SGRNJ06/randd/USER/cjj/TESTDATA/test_rna/20220822_vx/whitelist'"
   ]
  },
  {
   "cell_type": "code",
   "execution_count": null,
   "id": "ancient-symbol",
   "metadata": {},
   "outputs": [],
   "source": [
    "whitelist =pd.read_csv(whitelist,header=None)"
   ]
  },
  {
   "cell_type": "code",
   "execution_count": null,
   "id": "attractive-denmark",
   "metadata": {},
   "outputs": [],
   "source": [
    "whitelist.rename(columns={0:'bc'},inplace=True)"
   ]
  },
  {
   "cell_type": "code",
   "execution_count": null,
   "id": "determined-mineral",
   "metadata": {},
   "outputs": [],
   "source": [
    "cbs = set(whitelist.bc)"
   ]
  },
  {
   "cell_type": "code",
   "execution_count": null,
   "id": "incoming-member",
   "metadata": {},
   "outputs": [],
   "source": [
    "len(cbs)"
   ]
  },
  {
   "cell_type": "code",
   "execution_count": null,
   "id": "emerging-syndicate",
   "metadata": {},
   "outputs": [],
   "source": [
    "fq_file = '/SGRNJ06/DATA04/22_08/2022_08_20/RD20073101/PBMC_GOT_SL1_Nlib/R220815010_R1.fastq.gz'"
   ]
  },
  {
   "cell_type": "code",
   "execution_count": null,
   "id": "revolutionary-transcript",
   "metadata": {},
   "outputs": [],
   "source": [
    "a = 0\n",
    "with pysam.FastxFile(fq_file, 'r') as f:\n",
    "    for read in f:\n",
    "        if read.sequence[:9] in cbs:\n",
    "            a +=1"
   ]
  },
  {
   "cell_type": "code",
   "execution_count": null,
   "id": "electoral-majority",
   "metadata": {},
   "outputs": [],
   "source": [
    "a"
   ]
  },
  {
   "cell_type": "code",
   "execution_count": null,
   "id": "critical-intranet",
   "metadata": {},
   "outputs": [],
   "source": [
    "whitelist = '/SGRNJ06/randd/USER/cjj/TESTDATA/test_rna/20220822_vx/whitelist'"
   ]
  },
  {
   "cell_type": "code",
   "execution_count": null,
   "id": "confused-performer",
   "metadata": {},
   "outputs": [],
   "source": [
    "whitelist =pd.read_csv(whitelist,header=None)"
   ]
  },
  {
   "cell_type": "code",
   "execution_count": null,
   "id": "encouraging-assembly",
   "metadata": {},
   "outputs": [],
   "source": [
    "whitelist.rename(columns={0:'bc'},inplace=True)"
   ]
  },
  {
   "cell_type": "code",
   "execution_count": null,
   "id": "loving-register",
   "metadata": {},
   "outputs": [],
   "source": [
    "whitelist"
   ]
  },
  {
   "cell_type": "code",
   "execution_count": null,
   "id": "better-projection",
   "metadata": {},
   "outputs": [],
   "source": [
    "whitelist1 = whitelist.copy()"
   ]
  },
  {
   "cell_type": "code",
   "execution_count": null,
   "id": "searching-uganda",
   "metadata": {},
   "outputs": [],
   "source": [
    "whitelist1.bc = whitelist1.bc.apply(lambda x:x[1:])"
   ]
  },
  {
   "cell_type": "code",
   "execution_count": null,
   "id": "amended-michigan",
   "metadata": {},
   "outputs": [],
   "source": [
    "whitelist1 = whitelist1.head(96)"
   ]
  },
  {
   "cell_type": "code",
   "execution_count": null,
   "id": "activated-bones",
   "metadata": {},
   "outputs": [],
   "source": [
    "whitelist1 = whitelist1.bc.tolist()"
   ]
  },
  {
   "cell_type": "code",
   "execution_count": null,
   "id": "palestinian-blocking",
   "metadata": {},
   "outputs": [],
   "source": [
    "whitelist1"
   ]
  },
  {
   "cell_type": "code",
   "execution_count": null,
   "id": "undefined-artwork",
   "metadata": {},
   "outputs": [],
   "source": [
    "with open('/SGRNJ06/randd/USER/cjj/TESTDATA/test_rna/20220822_vx/whitelist', 'a+') as f:\n",
    "    f.write('\\n')\n",
    "    for i in whitelist1:\n",
    "        f.write(str(i) + '\\n')"
   ]
  },
  {
   "cell_type": "code",
   "execution_count": null,
   "id": "south-newspaper",
   "metadata": {},
   "outputs": [],
   "source": []
  },
  {
   "cell_type": "code",
   "execution_count": null,
   "id": "thrown-greece",
   "metadata": {},
   "outputs": [],
   "source": []
  },
  {
   "cell_type": "code",
   "execution_count": null,
   "id": "surgical-salad",
   "metadata": {},
   "outputs": [],
   "source": []
  },
  {
   "cell_type": "code",
   "execution_count": null,
   "id": "focal-confidentiality",
   "metadata": {},
   "outputs": [],
   "source": [
    "library(Seurat)\n",
    "library(tidyverse)\n",
    "library(argparse)\n",
    "library(ggplot2)\n",
    "library(stringr)\n",
    "library(dplyr)"
   ]
  },
  {
   "cell_type": "code",
   "execution_count": null,
   "id": "synthetic-finder",
   "metadata": {},
   "outputs": [],
   "source": [
    "rds = readRDS('/SGRNJ06/bioinfo/PROJ04/PROJ_22.lims/MultiResult/P21093001/2022-08-12/father_cluster/batch_1/call-integration/P21093001.diff_PRO.rds')"
   ]
  },
  {
   "cell_type": "code",
   "execution_count": null,
   "id": "local-series",
   "metadata": {},
   "outputs": [],
   "source": [
    "Idents(rds) <- \"sample\"\n",
    "rna <- subset(rds,idents = c('CO-PBMC-2202-029_c3'))"
   ]
  },
  {
   "cell_type": "code",
   "execution_count": null,
   "id": "proprietary-blogger",
   "metadata": {},
   "outputs": [],
   "source": [
    "vdj <- read.table('/SGRNJ06/randd/USER/cjj/celedev/wanheyuan/20220822/chang/BCR/CO-PBMC-2202-029-B/05.match/matched_contig_annotations.csv', sep=',', header=T)"
   ]
  },
  {
   "cell_type": "code",
   "execution_count": null,
   "id": "starting-adolescent",
   "metadata": {},
   "outputs": [],
   "source": [
    "df <- rna@meta.data\n",
    "df$barcode <- rownames(df)"
   ]
  },
  {
   "cell_type": "code",
   "execution_count": null,
   "id": "opposed-giving",
   "metadata": {},
   "outputs": [],
   "source": [
    "if (grepl(\"_\", rownames(df)[1])){\n",
    "  vdj$shi<-paste(\"CO-PBMC-2202-029_c3\",\"_\",sep=\"\")\n",
    "  vdj$barcode<-str_c(vdj$shi,vdj$barcode)\n",
    "}"
   ]
  },
  {
   "cell_type": "code",
   "execution_count": null,
   "id": "expired-level",
   "metadata": {},
   "outputs": [],
   "source": [
    "cells <- vdj\n",
    "barcodes <- unique(cells$barcode)"
   ]
  },
  {
   "cell_type": "code",
   "execution_count": null,
   "id": "sapphire-leather",
   "metadata": {},
   "outputs": [],
   "source": [
    "length(barcodes)"
   ]
  },
  {
   "cell_type": "code",
   "execution_count": null,
   "id": "negative-vertical",
   "metadata": {},
   "outputs": [],
   "source": [
    "filter_df <- filter(df, barcode %in% barcodes)\n",
    "res <- table(filter_df$raw_cluster)\n",
    "res <- as.data.frame(res)"
   ]
  },
  {
   "cell_type": "code",
   "execution_count": null,
   "id": "verified-capture",
   "metadata": {},
   "outputs": [],
   "source": [
    "res"
   ]
  },
  {
   "cell_type": "code",
   "execution_count": null,
   "id": "elder-genome",
   "metadata": {},
   "outputs": [],
   "source": [
    "meta = rna@meta.data\n",
    "#meta$Class = 'NA'"
   ]
  },
  {
   "cell_type": "code",
   "execution_count": null,
   "id": "sustained-seeking",
   "metadata": {},
   "outputs": [],
   "source": [
    "meta"
   ]
  },
  {
   "cell_type": "code",
   "execution_count": null,
   "id": "developing-financing",
   "metadata": {},
   "outputs": [],
   "source": [
    "meta$Class <- ifelse(rownames(meta) %in% barcodes, 'T/BCR', NA)"
   ]
  },
  {
   "cell_type": "code",
   "execution_count": null,
   "id": "bizarre-harris",
   "metadata": {},
   "outputs": [],
   "source": [
    "table(meta$Class)"
   ]
  },
  {
   "cell_type": "code",
   "execution_count": null,
   "id": "therapeutic-worse",
   "metadata": {},
   "outputs": [],
   "source": [
    "meta <- meta %>% drop_na(nCount_RNA)"
   ]
  },
  {
   "cell_type": "code",
   "execution_count": null,
   "id": "invisible-africa",
   "metadata": {},
   "outputs": [],
   "source": [
    "meta"
   ]
  },
  {
   "cell_type": "code",
   "execution_count": null,
   "id": "optical-beauty",
   "metadata": {},
   "outputs": [],
   "source": [
    "table(meta$cluster)"
   ]
  },
  {
   "cell_type": "code",
   "execution_count": null,
   "id": "organic-wrestling",
   "metadata": {},
   "outputs": [],
   "source": [
    "rds1 = '/SGRNJ06/bioinfo/PROJ04/PROJ_22.lims/MultiResult/P21093001_C1/2022-08-13/father_cluster/batch_1/call-integration/P21093001_C1.diff_PRO.rds'\n",
    "rds2 = '/SGRNJ06/bioinfo/PROJ04/PROJ_22.lims/MultiResult/P21093001/2022-08-12/father_cluster/batch_1/call-integration/P21093001.diff_PRO.rds'\n",
    "rds3 = '/SGRNJ06/bioinfo/PROJ04/PROJ_22.lims/MultiResult/P21100502/2022-08-13/father_cluster/batch_1/call-integration/P21100502.diff_PRO.rds'\n",
    "rds4 = '/SGRNJ06/bioinfo/PROJ04/PROJ_22.lims/MultiResult/P21102801/2022-08-13/father_cluster/batch_1/call-integration/P21102801.diff_PRO.rds'\n",
    "rds5 = '/SGRNJ06/bioinfo/PROJ04/PROJ_22.lims/MultiResult/P21110601_C1/2022-08-13/father_cluster/batch_1/call-integration/P21110601_C1.diff_PRO.rds'"
   ]
  },
  {
   "cell_type": "code",
   "execution_count": null,
   "id": "simple-relations",
   "metadata": {},
   "outputs": [],
   "source": [
    "rds1 = readRDS(rds1)\n",
    "rds2 = readRDS(rds2)\n",
    "rds3 = readRDS(rds3)\n",
    "rds4 = readRDS(rds4)\n",
    "rds5 = readRDS(rds5)"
   ]
  },
  {
   "cell_type": "code",
   "execution_count": null,
   "id": "lyric-recognition",
   "metadata": {},
   "outputs": [],
   "source": [
    "for (i in c(rds1,rds2,rds3,rds4,rds5)){\n",
    "    print(table(i@meta.data$sample))\n",
    "    print('========================')\n",
    "}"
   ]
  },
  {
   "cell_type": "code",
   "execution_count": null,
   "id": "small-feeling",
   "metadata": {},
   "outputs": [],
   "source": [
    "\n",
    "Idents(rds4) <- \"sample\"\n",
    "rna44 <- subset(rds4,idents = c('os0019_c3'))"
   ]
  },
  {
   "cell_type": "code",
   "execution_count": null,
   "id": "differential-windsor",
   "metadata": {},
   "outputs": [],
   "source": [
    "table(rna44@meta.data$cluster)"
   ]
  },
  {
   "cell_type": "code",
   "execution_count": null,
   "id": "forward-shape",
   "metadata": {},
   "outputs": [],
   "source": []
  },
  {
   "cell_type": "code",
   "execution_count": null,
   "id": "spanish-mining",
   "metadata": {},
   "outputs": [],
   "source": [
    "import os\n",
    "import subprocess\n",
    "import glob"
   ]
  },
  {
   "cell_type": "code",
   "execution_count": null,
   "id": "orange-atmosphere",
   "metadata": {},
   "outputs": [],
   "source": [
    "target_dir = '/SGRNJ06/randd/USER/cjj/celedev/aws/20220824/blood'\n",
    "raw_dir = glob.glob('/SGRNJ06/randd/USER/cjj/celedev/wanheyuan/20220822/xueguan/*')"
   ]
  },
  {
   "cell_type": "code",
   "execution_count": null,
   "id": "ancient-correlation",
   "metadata": {},
   "outputs": [],
   "source": [
    "file_list = []\n",
    "for x in raw_dir:\n",
    "    for i in os.listdir(x):\n",
    "        file = os.path.join(x +'/' + i)\n",
    "        if os.path.isdir(file) and file.split('/')[-1] not in ['sjm', 'log']:\n",
    "            file_list.append(file)"
   ]
  },
  {
   "cell_type": "code",
   "execution_count": null,
   "id": "theoretical-photograph",
   "metadata": {},
   "outputs": [],
   "source": [
    "file_list"
   ]
  },
  {
   "cell_type": "code",
   "execution_count": null,
   "id": "integrated-virgin",
   "metadata": {},
   "outputs": [],
   "source": [
    "for i in file_list:\n",
    "    sample_name = i.split('/')[-1]\n",
    "    os.system(f'mkdir -p {target_dir}/{sample_name}')\n",
    "    os.system(f'cp {i}/04.summarize/filtered_contig_annotations.csv {target_dir}/{sample_name}')\n",
    "    os.system(f'cp {i}/04.summarize/filtered_contig.fasta {target_dir}/{sample_name}')\n",
    "    os.system(f'cp {i}/05.match/matched_contig_annotations.csv {target_dir}/{sample_name}')\n",
    "    os.system(f'cp {i}/05.match/matched_contig.fasta {target_dir}/{sample_name}')"
   ]
  },
  {
   "cell_type": "code",
   "execution_count": null,
   "id": "metallic-sperm",
   "metadata": {},
   "outputs": [],
   "source": []
  },
  {
   "cell_type": "code",
   "execution_count": null,
   "id": "latin-seventh",
   "metadata": {},
   "outputs": [],
   "source": []
  },
  {
   "cell_type": "code",
   "execution_count": null,
   "id": "prescription-mauritius",
   "metadata": {},
   "outputs": [],
   "source": []
  },
  {
   "cell_type": "code",
   "execution_count": null,
   "id": "ready-myanmar",
   "metadata": {},
   "outputs": [],
   "source": [
    "# check size"
   ]
  },
  {
   "cell_type": "code",
   "execution_count": null,
   "id": "pleasant-institution",
   "metadata": {},
   "outputs": [],
   "source": [
    "upload_file = '/SGRNJ06/randd/USER/cjj/celedev/aws/check_size/20220824/osteosarcoma/*/*'\n",
    "raw_file = '/SGRNJ06/randd/USER/cjj/celedev/wanheyuan/20220822/gurou/*/*/*/*'"
   ]
  },
  {
   "cell_type": "code",
   "execution_count": null,
   "id": "convinced-decrease",
   "metadata": {},
   "outputs": [],
   "source": [
    "upload_file_list = glob.glob(upload_file)"
   ]
  },
  {
   "cell_type": "code",
   "execution_count": null,
   "id": "animated-ozone",
   "metadata": {},
   "outputs": [],
   "source": [
    "raw_file_list = glob.glob(raw_file)"
   ]
  },
  {
   "cell_type": "code",
   "execution_count": null,
   "id": "scenic-nevada",
   "metadata": {},
   "outputs": [],
   "source": [
    "raw_file_list = [i for i in raw_file_list if i.split('/')[-1] in ['filtered_contig_annotations.csv','filtered_contig.fasta', 'matched_contig_annotations.csv', 'matched_contig.fasta']]"
   ]
  },
  {
   "cell_type": "code",
   "execution_count": null,
   "id": "governing-popularity",
   "metadata": {},
   "outputs": [],
   "source": [
    "len(upload_file_list)"
   ]
  },
  {
   "cell_type": "code",
   "execution_count": null,
   "id": "wireless-labor",
   "metadata": {},
   "outputs": [],
   "source": [
    "len(raw_file_list)"
   ]
  },
  {
   "cell_type": "code",
   "execution_count": null,
   "id": "sudden-runner",
   "metadata": {},
   "outputs": [],
   "source": [
    "upload_file_list = sorted(upload_file_list, key=lambda x: (x.split('/')[-2], x.split('/')[-1]))\n",
    "raw_file_list = sorted(raw_file_list, key=lambda x: (x.split('/')[-3], x.split('/')[-1]))"
   ]
  },
  {
   "cell_type": "code",
   "execution_count": null,
   "id": "distinguished-system",
   "metadata": {},
   "outputs": [],
   "source": [
    "#upload_file_list"
   ]
  },
  {
   "cell_type": "code",
   "execution_count": null,
   "id": "breathing-object",
   "metadata": {},
   "outputs": [],
   "source": [
    "#raw_file_list"
   ]
  },
  {
   "cell_type": "code",
   "execution_count": null,
   "id": "earned-pierre",
   "metadata": {},
   "outputs": [],
   "source": [
    "for i in range(len(upload_file_list)):\n",
    "    if not os.path.getsize(upload_file_list[i]) == os.path.getsize(raw_file_list[i]):\n",
    "        print(True)"
   ]
  },
  {
   "cell_type": "code",
   "execution_count": null,
   "id": "incorporated-framework",
   "metadata": {},
   "outputs": [],
   "source": []
  },
  {
   "cell_type": "code",
   "execution_count": null,
   "id": "studied-territory",
   "metadata": {},
   "outputs": [],
   "source": []
  },
  {
   "cell_type": "code",
   "execution_count": null,
   "id": "western-audience",
   "metadata": {},
   "outputs": [],
   "source": [
    "import pandas as pd \n",
    "import pysam"
   ]
  },
  {
   "cell_type": "code",
   "execution_count": null,
   "id": "steady-draft",
   "metadata": {},
   "outputs": [],
   "source": [
    "linker = 'GTGGTATCAACGCAGAGT'"
   ]
  },
  {
   "cell_type": "code",
   "execution_count": null,
   "id": "regular-harbor",
   "metadata": {},
   "outputs": [],
   "source": [
    "fq1 = '/SGRNJ06/DATA04/22_08/2022_08_23/RD21010602/mspl-Mix2-0818NEB/R220818034_R1.fastq.gz'"
   ]
  },
  {
   "cell_type": "code",
   "execution_count": null,
   "id": "backed-document",
   "metadata": {},
   "outputs": [],
   "source": [
    "count = 0\n",
    "with pysam.FastxFile(fq1) as f:\n",
    "    for read in f:\n",
    "        if linker in read.sequence and not read.sequence.startswith(linker):\n",
    "            count+=1"
   ]
  },
  {
   "cell_type": "code",
   "execution_count": null,
   "id": "brief-editing",
   "metadata": {},
   "outputs": [],
   "source": [
    "'GTGGTATCAACGCAGAGT'in'NAGAGGGAGGTGGCTGTCAGCTTCTCAATATGCTCTTAAGTGCTGGGCCATTTTTACAGCTCTTCAGATTTCATTTTTGGGTTTGTTTTCTTCTTGTTTTTTTTTGTTGTTGTTGTTATTTATTTATTTATTTATTTTTGAGACAGATTT'"
   ]
  },
  {
   "cell_type": "code",
   "execution_count": null,
   "id": "wicked-insider",
   "metadata": {},
   "outputs": [],
   "source": [
    "'NGCCTGTGATGCATTTATTTCAGGCTGTCACTTGTGTCTCACTGATTCACAGGTACTTCTGTAAACCCTTGATGCAACCTGTTGAACTAATTAATACAAAAATATTTTGTCAATAATGGAAGCTGAATTAAAAGTAAACCAAAAACTACC'.startswith('NGCCTGTGATGCATTTATTT')"
   ]
  },
  {
   "cell_type": "code",
   "execution_count": null,
   "id": "ambient-hormone",
   "metadata": {},
   "outputs": [],
   "source": [
    "count"
   ]
  },
  {
   "cell_type": "code",
   "execution_count": null,
   "id": "sublime-strap",
   "metadata": {},
   "outputs": [],
   "source": []
  },
  {
   "cell_type": "code",
   "execution_count": null,
   "id": "impressed-array",
   "metadata": {},
   "outputs": [],
   "source": []
  },
  {
   "cell_type": "code",
   "execution_count": null,
   "id": "unnecessary-class",
   "metadata": {},
   "outputs": [],
   "source": [
    "library(Seurat)\n",
    "library(tidyverse)\n",
    "library(argparse)\n",
    "library(ggplot2)\n",
    "library(stringr)\n",
    "library(dplyr)"
   ]
  },
  {
   "cell_type": "code",
   "execution_count": null,
   "id": "packed-harassment",
   "metadata": {},
   "outputs": [],
   "source": [
    "RAW1 <- Read10X(data.dir = '/SGRNJ06/randd/public/temp/Clu-mes_mtx/Clu-mes_cellranger3_matrix_10X')"
   ]
  },
  {
   "cell_type": "code",
   "execution_count": null,
   "id": "threatened-quantum",
   "metadata": {},
   "outputs": [],
   "source": [
    "PRO1 <- CreateSeuratObject(counts = RAW1, project = 'test', min.cells = 5)"
   ]
  },
  {
   "cell_type": "code",
   "execution_count": null,
   "id": "continental-madagascar",
   "metadata": {},
   "outputs": [],
   "source": [
    "# nFeature_RNA代表每个细胞测到的基因数目。 median_gene\n",
    "# nCount_RNA代表每个细胞测到所有基因的表达量之和。 median_umi\n",
    "# 中值UMI total_counts\n",
    "# 中值基因 n_genes_by_counts"
   ]
  },
  {
   "cell_type": "code",
   "execution_count": null,
   "id": "hungarian-canberra",
   "metadata": {},
   "outputs": [],
   "source": [
    "PRO1@meta.data"
   ]
  },
  {
   "cell_type": "code",
   "execution_count": null,
   "id": "julian-implementation",
   "metadata": {},
   "outputs": [],
   "source": [
    "median(PRO1@meta.data$nCount_RNA)"
   ]
  },
  {
   "cell_type": "code",
   "execution_count": null,
   "id": "christian-casting",
   "metadata": {},
   "outputs": [],
   "source": [
    "median(PRO1@meta.data$nFeature_RNA)"
   ]
  },
  {
   "cell_type": "code",
   "execution_count": null,
   "id": "checked-place",
   "metadata": {},
   "outputs": [],
   "source": [
    "PRO1@active.ident"
   ]
  },
  {
   "cell_type": "code",
   "execution_count": null,
   "id": "surface-given",
   "metadata": {},
   "outputs": [],
   "source": [
    "RAW1"
   ]
  },
  {
   "cell_type": "code",
   "execution_count": null,
   "id": "distant-maximum",
   "metadata": {},
   "outputs": [],
   "source": []
  },
  {
   "cell_type": "code",
   "execution_count": null,
   "id": "rocky-blast",
   "metadata": {},
   "outputs": [],
   "source": []
  },
  {
   "cell_type": "code",
   "execution_count": null,
   "id": "roman-initial",
   "metadata": {},
   "outputs": [],
   "source": []
  },
  {
   "cell_type": "code",
   "execution_count": null,
   "id": "thrown-punishment",
   "metadata": {},
   "outputs": [],
   "source": [
    "library(Seurat)\n",
    "library(tidyverse)\n",
    "library(argparse)\n",
    "library(ggplot2)\n",
    "library(stringr)\n",
    "library(dplyr)"
   ]
  },
  {
   "cell_type": "code",
   "execution_count": null,
   "id": "micro-picture",
   "metadata": {},
   "outputs": [],
   "source": [
    "rds <- readRDS('/SGRNJ06/randd/lims_result_rd/MultiResult/RD20102301_220926_homo_Stomach/2022-09-27/father_cluster/batch_1/call-integration/RD20102301_220926_homo_Stomach.diff_PRO.rds')\n",
    "Idents(rds) <- \"orig.ident\"\n",
    "rna <- subset(rds,idents = c('S220901TESX1'))\n",
    "\n",
    "tcrt <- read.table('/SGRNJ06/randd/PROJECT/RD20102301_DZH/P21090901_Drug_CART/20220923_4/ZD020_S2_M6_CAR/06.filter_virus/ZD020_S2_M6_CAR_filtered_UMI.csv', sep=',', header=T)\n",
    "tcrt$shi<-paste(\"S220901TESX1\",\"_\",sep=\"\")\n",
    "tcrt$barcode<-str_c(tcrt$shi,tcrt$barcode)\n",
    "tcrt <- subset(tcrt, sum_UMI!=0)\n",
    "\n",
    "barcodes <- unique(tcrt$barcode)"
   ]
  },
  {
   "cell_type": "code",
   "execution_count": null,
   "id": "psychological-guatemala",
   "metadata": {},
   "outputs": [],
   "source": [
    "c(barcodes)"
   ]
  },
  {
   "cell_type": "code",
   "execution_count": null,
   "id": "organized-oriental",
   "metadata": {},
   "outputs": [],
   "source": [
    "df <- rna@meta.data\n",
    "df$barcode <- rownames(df)"
   ]
  },
  {
   "cell_type": "code",
   "execution_count": null,
   "id": "ruled-paradise",
   "metadata": {},
   "outputs": [],
   "source": [
    "filter_df <- filter(df, barcode == c(barcodes))\n",
    "res <- table(filter_df$seurat_clusters)\n",
    "res <- as.data.frame(res)"
   ]
  },
  {
   "cell_type": "code",
   "execution_count": null,
   "id": "realistic-webster",
   "metadata": {},
   "outputs": [],
   "source": [
    "df"
   ]
  },
  {
   "cell_type": "code",
   "execution_count": null,
   "id": "communist-characterization",
   "metadata": {},
   "outputs": [],
   "source": [
    "subset(df, df$barcode =='S220901TESX1_GTCTGTCAAATCCGTCCGACACAC')"
   ]
  },
  {
   "cell_type": "code",
   "execution_count": null,
   "id": "dense-exemption",
   "metadata": {},
   "outputs": [],
   "source": [
    "out_csv = stringr::str_glue(\"{args$outdir}/{args$sample}_match_barcodes_celltypes_distribution.txt\")\n",
    "write_csv(res,file=out_csv)\n",
    "\n",
    "meta = rna@meta.data\n",
    "meta$Class = 'NA'\n",
    "meta[barcodes,'Class'] = 'positive'\n",
    "meta <- meta %>% drop_na(nCount_RNA)\n",
    "table(meta$Class == 'positive')\n",
    "rna@meta.data = meta\n",
    "# rna <- RunUMAP(rna, dims = 1:20)\n",
    "\n",
    "outP = stringr::str_glue(\"{args$outdir}/{args$sample}_cluster_umap.png\")\n",
    "png(outP, height=1000, width=1000)\n",
    "UMAPPlot(rna,group.by='seurat_cluster',label=TRUE)\n",
    "dev.off()\n",
    "\n",
    "outP1 = stringr::str_glue(\"{args$outdir}/{args$sample}_umapplot.png\")\n",
    "png(outP1, height=1000, width=1000)\n",
    "UMAPPlot(rna,group.by='Class',cols=c('grey','red'))\n",
    "dev.off()\n",
    "\n",
    "outP2 = stringr::str_glue(\"{args$outdir}/{args$sample}_assign.png\")\n",
    "png(outP2, height=1000, width=1000)\n",
    "UMAPPlot(rna,group.by='cluster',label=TRUE,label.box=TRUE)\n",
    "dev.off()\n",
    "\n",
    "meta = rna@meta.data\n",
    "outMeta = stringr::str_glue(\"{args$outdir}/{args$sample}_metadata.tsv\")\n",
    "write.table(as.data.frame(meta), file=outMeta, sep='\\t')"
   ]
  },
  {
   "cell_type": "code",
   "execution_count": null,
   "id": "protected-album",
   "metadata": {},
   "outputs": [],
   "source": []
  },
  {
   "cell_type": "code",
   "execution_count": null,
   "id": "furnished-payroll",
   "metadata": {},
   "outputs": [],
   "source": [
    "import pandas as pd\n",
    "import numpy as np "
   ]
  },
  {
   "cell_type": "code",
   "execution_count": null,
   "id": "confidential-interview",
   "metadata": {},
   "outputs": [],
   "source": [
    "    def sub_sample(fraction, df_cell, cell_read_index):\n",
    "        \"\"\"\n",
    "        umi_saturation = 1 - n_deduped_reads / n_umis\n",
    "        read_saturation = 1 - n_deduped_reads / n_reads\n",
    "        Currently the html report shows umi_saturation.\n",
    "\n",
    "        n_deduped_reads = Number of unique (valid cell-barcode, valid UMI, gene) combinations among confidently mapped reads.\n",
    "        n_umis = Total number of (confidently mapped, valid cell-barcode, valid UMI) UMIs.\n",
    "        n_reads = Total number of (confidently mapped, valid cell-barcode, valid UMI) reads.\n",
    "        Args:\n",
    "            fration: subsmaple fration\n",
    "            df_cell: in cell df with (Barcode geneID UMI count) \n",
    "            cell_read_index: df_cell repeat index\n",
    "        \"\"\"\n",
    "        cell_read = df_cell['count'].sum()\n",
    "        frac_n_read = int(cell_read * fraction)\n",
    "        subsample_read_index = cell_read_index[:frac_n_read]\n",
    "        index_dedup, counts = np.unique(subsample_read_index, return_counts=True)\n",
    "        n_count_once = np.sum(counts == 1)\n",
    "        # total = UMI\n",
    "        umi_total = len(index_dedup)\n",
    "        umi_saturation = round((1 - n_count_once / umi_total) * 100, 2)\n",
    "        read_total = frac_n_read\n",
    "        read_saturation = round((1 - n_count_once / read_total) * 100, 2)\n",
    "\n",
    "        # gene median\n",
    "        df_cell_subsample = df_cell.loc[index_dedup, ]\n",
    "        geneNum_median = float(df_cell_subsample.groupby(\n",
    "            'Barcode').agg({'geneID': 'nunique'}).median())\n",
    "\n",
    "        return umi_saturation, read_saturation, geneNum_median"
   ]
  },
  {
   "cell_type": "code",
   "execution_count": null,
   "id": "moderate-singer",
   "metadata": {},
   "outputs": [],
   "source": [
    "df = pd.read_table('/SGRNJ06/randd/USER/cjj/celedev/wanheyuan/20220905cs/DC0004CA/05.count/DC0004CA_count_detail.txt', header=0)"
   ]
  },
  {
   "cell_type": "code",
   "execution_count": null,
   "id": "entertaining-found",
   "metadata": {},
   "outputs": [],
   "source": [
    "df_cell = df"
   ]
  },
  {
   "cell_type": "code",
   "execution_count": null,
   "id": "numeric-turner",
   "metadata": {},
   "outputs": [],
   "source": [
    "cell_read_index = np.array(df_cell.index.repeat(df_cell['count']), dtype='int32')"
   ]
  },
  {
   "cell_type": "code",
   "execution_count": null,
   "id": "level-interface",
   "metadata": {},
   "outputs": [],
   "source": [
    "cell_read_index"
   ]
  },
  {
   "cell_type": "code",
   "execution_count": null,
   "id": "incorporate-vintage",
   "metadata": {},
   "outputs": [],
   "source": [
    "cell_read = df_cell['count'].sum()\n",
    "read_total = int(cell_read)\n",
    "subsample_read_index = cell_read_index\n",
    "index_dedup, counts = np.unique(subsample_read_index, return_counts=True)\n",
    "n_count_once = np.sum(counts == 1)"
   ]
  },
  {
   "cell_type": "code",
   "execution_count": null,
   "id": "toxic-polymer",
   "metadata": {},
   "outputs": [],
   "source": [
    "counts"
   ]
  },
  {
   "cell_type": "code",
   "execution_count": null,
   "id": "beneficial-freeze",
   "metadata": {},
   "outputs": [],
   "source": [
    "df_cell.sort_values('count', ascending=False)"
   ]
  },
  {
   "cell_type": "code",
   "execution_count": null,
   "id": "strategic-grain",
   "metadata": {},
   "outputs": [],
   "source": []
  },
  {
   "cell_type": "code",
   "execution_count": null,
   "id": "necessary-eating",
   "metadata": {},
   "outputs": [],
   "source": [
    "library(Seurat)"
   ]
  },
  {
   "cell_type": "code",
   "execution_count": null,
   "id": "dried-lambda",
   "metadata": {},
   "outputs": [],
   "source": [
    "rds = readRDS('/SGRNJ06/randd/lims_result_rd/MultiResult/RD20102301_220926_homo_PBMC/2022-09-28/father_cluster/batch_1/call-integration/RD20102301_220926_homo_PBMC.diff_PRO.rds')"
   ]
  },
  {
   "cell_type": "code",
   "execution_count": null,
   "id": "accompanied-angel",
   "metadata": {},
   "outputs": [],
   "source": [
    "meta = rds@meta.data"
   ]
  },
  {
   "cell_type": "code",
   "execution_count": null,
   "id": "binding-lightning",
   "metadata": {},
   "outputs": [],
   "source": [
    "head(meta)"
   ]
  },
  {
   "cell_type": "code",
   "execution_count": null,
   "id": "developmental-compact",
   "metadata": {},
   "outputs": [],
   "source": [
    "table(meta$cluster)"
   ]
  },
  {
   "cell_type": "code",
   "execution_count": null,
   "id": "blind-aggregate",
   "metadata": {},
   "outputs": [],
   "source": [
    "table(meta$raw_cluster)"
   ]
  },
  {
   "cell_type": "code",
   "execution_count": null,
   "id": "inner-referral",
   "metadata": {},
   "outputs": [],
   "source": []
  },
  {
   "cell_type": "code",
   "execution_count": null,
   "id": "powered-alias",
   "metadata": {},
   "outputs": [],
   "source": [
    "library(Seurat)\n",
    "library(ggplot2)"
   ]
  },
  {
   "cell_type": "code",
   "execution_count": null,
   "id": "forced-flavor",
   "metadata": {},
   "outputs": [],
   "source": [
    "rds= readRDS('/SGRNJ06/randd/lims_result_rd/MultiResult/RD20102301_221026_homo_PBMC_1/2022-10-28/h7iu3hxj8j/father_cluster/batch_1/call-integration/RD20102301_221026_homo_PBMC_1.diff_PRO.rds')"
   ]
  },
  {
   "cell_type": "code",
   "execution_count": null,
   "id": "billion-trust",
   "metadata": {},
   "outputs": [],
   "source": [
    "UMAPPlot(rds, group.by=('cluster'))"
   ]
  },
  {
   "cell_type": "code",
   "execution_count": null,
   "id": "qualified-diamond",
   "metadata": {},
   "outputs": [],
   "source": [
    "p = TSNEPlot(rds, group.by=('cluster'))"
   ]
  },
  {
   "cell_type": "code",
   "execution_count": null,
   "id": "atomic-logging",
   "metadata": {},
   "outputs": [],
   "source": [
    "ggplot2::ggsave(\"/SGRNJ06/randd/USER/cjj/celedev/XZMU/20221028otherCART/tsneplot.png\",p,height=8,width=8)"
   ]
  },
  {
   "cell_type": "code",
   "execution_count": null,
   "id": "critical-viewer",
   "metadata": {},
   "outputs": [],
   "source": []
  },
  {
   "cell_type": "code",
   "execution_count": null,
   "id": "polar-upper",
   "metadata": {},
   "outputs": [],
   "source": []
  },
  {
   "cell_type": "code",
   "execution_count": null,
   "id": "varied-cause",
   "metadata": {},
   "outputs": [],
   "source": [
    "total_count = 0\n",
    "with pysam.FastxFile(\"/SGRNJ06/randd/USER/cjj/celedev/bulk_vdj/20221107/total.fq\", \"r\") as f:\n",
    "    for read in f:\n",
    "        total_count += 1"
   ]
  },
  {
   "cell_type": "code",
   "execution_count": null,
   "id": "automotive-power",
   "metadata": {},
   "outputs": [],
   "source": [
    "total_count"
   ]
  },
  {
   "cell_type": "code",
   "execution_count": null,
   "id": "vietnamese-discussion",
   "metadata": {},
   "outputs": [],
   "source": [
    "import pysam\n",
    "import json\n",
    "import os"
   ]
  },
  {
   "cell_type": "code",
   "execution_count": null,
   "id": "single-license",
   "metadata": {},
   "outputs": [],
   "source": [
    "keys = [\"Total Reads\" ,\"Reads Mapped To Any V(D)J Genes\", \"Reads Mapped To TRA\", \"Reads Mapped To TRB\"]"
   ]
  },
  {
   "cell_type": "code",
   "execution_count": null,
   "id": "broadband-banana",
   "metadata": {},
   "outputs": [],
   "source": [
    "sample_list = [\"R221027001\", \"R221027002\", \"R221027003\", \"R221027004\", \"R221027005\", \"R221027006\"]\n",
    "sample_dict = dict()\n",
    "for sample in sample_list:\n",
    "    sample_dict[sample] = dict()"
   ]
  },
  {
   "cell_type": "code",
   "execution_count": null,
   "id": "textile-cabinet",
   "metadata": {},
   "outputs": [],
   "source": [
    "total_count"
   ]
  },
  {
   "cell_type": "code",
   "execution_count": null,
   "id": "informative-happening",
   "metadata": {},
   "outputs": [],
   "source": [
    "total_count = 0\n",
    "with pysam.FastxFile(\"/SGRNJ06/DATA04/22_11/2022_11_01/RD20073101/H_1025PBMC_c3pT2_2Nlib/R221027006_R1.fastq.gz\", \"r\") as f:\n",
    "    for read in f:\n",
    "        total_count += 1\n",
    "any_vdj_count = 0\n",
    "with pysam.FastxFile(\"/SGRNJ06/randd/USER/cjj/celedev/bulk_vdj/20221107/R221027006/total_1.fq\") as f:\n",
    "    for read in f:\n",
    "        any_vdj_count +=1\n",
    "tra_count = 0\n",
    "with pysam.FastxFile(\"/SGRNJ06/randd/USER/cjj/celedev/bulk_vdj/20221107/R221027006/tra_1.fq\") as f:\n",
    "    for read in f:\n",
    "        tra_count +=1\n",
    "trb_count = 0\n",
    "with pysam.FastxFile(\"/SGRNJ06/randd/USER/cjj/celedev/bulk_vdj/20221107/R221027006/trb_1.fq\") as f:\n",
    "    for read in f:\n",
    "        trb_count +=1"
   ]
  },
  {
   "cell_type": "code",
   "execution_count": null,
   "id": "nominated-significance",
   "metadata": {},
   "outputs": [],
   "source": [
    "# [total_count, any_vdj_count, tra_count, trb_count]"
   ]
  },
  {
   "cell_type": "code",
   "execution_count": null,
   "id": "prerequisite-knowing",
   "metadata": {},
   "outputs": [],
   "source": [
    "dict(zip(keys,[total_count, any_vdj_count, tra_count, trb_count]))"
   ]
  },
  {
   "cell_type": "code",
   "execution_count": null,
   "id": "optical-distance",
   "metadata": {},
   "outputs": [],
   "source": [
    "sample_dict[\"R221027006\"] = dict(zip(keys,[total_count, any_vdj_count, tra_count, trb_count]))"
   ]
  },
  {
   "cell_type": "code",
   "execution_count": null,
   "id": "spread-sellers",
   "metadata": {},
   "outputs": [],
   "source": [
    "sample_dict"
   ]
  },
  {
   "cell_type": "code",
   "execution_count": null,
   "id": "brief-kernel",
   "metadata": {},
   "outputs": [],
   "source": [
    "with open(\"/SGRNJ06/randd/USER/cjj/celedev/bulk_vdj/20221107/stat.json\", 'w') as f:\n",
    "    json.dump(sample_dict, f, indent=4)"
   ]
  },
  {
   "cell_type": "code",
   "execution_count": null,
   "id": "authentic-rainbow",
   "metadata": {},
   "outputs": [],
   "source": []
  },
  {
   "cell_type": "code",
   "execution_count": null,
   "id": "second-treaty",
   "metadata": {},
   "outputs": [],
   "source": []
  },
  {
   "cell_type": "code",
   "execution_count": null,
   "id": "romance-turtle",
   "metadata": {},
   "outputs": [],
   "source": [
    "# split fl vdj\n",
    "library(Seurat)\n",
    "library(tidyverse)\n",
    "library(argparse)\n",
    "library(ggplot2)\n",
    "library(stringr)\n",
    "library(dplyr)\n",
    "library(reshape2)"
   ]
  },
  {
   "cell_type": "code",
   "execution_count": null,
   "id": "worse-yeast",
   "metadata": {},
   "outputs": [],
   "source": [
    "rds <- readRDS(\"/SGRNJ06/randd/lims_result_rd/MultiResult/RD21032301_221104_mus_Bone_marrow/2022-11-07/h7t9b9qnmk/father_cluster/batch_1/call-integration/RD21032301_221104_mus_Bone_marrow.diff_PRO.rds\")\n",
    "vdj <- read.table(\"/SGRNJ06/randd/USER/cjj/celedev/split_fl_vdj/20221102/M-1020clindexTCR-C/06.split_tag/fl_vdj/TAG_2_TCR_contig_annotations.csv\", sep=',', header=T)"
   ]
  },
  {
   "cell_type": "code",
   "execution_count": null,
   "id": "harmful-veteran",
   "metadata": {},
   "outputs": [],
   "source": [
    "Idents(rds) <- \"orig.ident\"\n",
    "rna <- subset(rds,idents = c(\"TAG\"))"
   ]
  },
  {
   "cell_type": "code",
   "execution_count": null,
   "id": "micro-morgan",
   "metadata": {},
   "outputs": [],
   "source": [
    "df <- rna@meta.data\n",
    "df$barcode <- rownames(df)\n",
    "\n",
    "if (grepl(\"_\", rownames(df)[1])){\n",
    "  vdj$shi<-paste(\"TAG_2\",\"_\",sep=\"\")\n",
    "  vdj$barcode<-str_c(vdj$shi,vdj$barcode)\n",
    "}"
   ]
  },
  {
   "cell_type": "code",
   "execution_count": null,
   "id": "unlike-nomination",
   "metadata": {},
   "outputs": [],
   "source": [
    "cells <- vdj\n",
    "barcodes <- unique(cells$barcode)\n",
    "\n",
    "filter_df <- filter(df, barcode %in% barcodes)\n",
    "res <- table(filter_df$seurat_clusters)\n",
    "res <- as.data.frame(res)"
   ]
  },
  {
   "cell_type": "code",
   "execution_count": null,
   "id": "ignored-sapphire",
   "metadata": {},
   "outputs": [],
   "source": [
    "barcodes"
   ]
  },
  {
   "cell_type": "code",
   "execution_count": null,
   "id": "confirmed-penny",
   "metadata": {},
   "outputs": [],
   "source": [
    "meta = rna@meta.data\n",
    "meta$Class = 'NA'"
   ]
  },
  {
   "cell_type": "code",
   "execution_count": null,
   "id": "strategic-consumer",
   "metadata": {},
   "outputs": [],
   "source": [
    "meta$barcode = rownames(meta)"
   ]
  },
  {
   "cell_type": "code",
   "execution_count": null,
   "id": "planned-protest",
   "metadata": {},
   "outputs": [],
   "source": [
    "meta=  meta %>%\n",
    "  mutate(Class = if_else(barcode %in% barcodes,\n",
    "                         true = \"T/BCR\",\n",
    "                         false = \"NA\"))"
   ]
  },
  {
   "cell_type": "code",
   "execution_count": null,
   "id": "literary-cover",
   "metadata": {},
   "outputs": [],
   "source": [
    "meta = select(meta, -18)"
   ]
  },
  {
   "cell_type": "code",
   "execution_count": null,
   "id": "color-slope",
   "metadata": {},
   "outputs": [],
   "source": [
    "meta"
   ]
  },
  {
   "cell_type": "code",
   "execution_count": null,
   "id": "vietnamese-somalia",
   "metadata": {},
   "outputs": [],
   "source": [
    "meta[barcodes,'Class'] = 'T/BCR'"
   ]
  },
  {
   "cell_type": "code",
   "execution_count": null,
   "id": "individual-desert",
   "metadata": {},
   "outputs": [],
   "source": [
    "meta <- meta %>% drop_na(nCount_RNA)\n",
    "table(meta$Class == 'T/BCR')\n",
    "rna@meta.data = meta\n",
    "rna <- RunUMAP(rna, dims = 1:20)"
   ]
  },
  {
   "cell_type": "code",
   "execution_count": null,
   "id": "rocky-japan",
   "metadata": {},
   "outputs": [],
   "source": [
    "UMAPPlot(rna,group.by='Class',cols=c('grey','red'),label=TRUE)"
   ]
  },
  {
   "cell_type": "code",
   "execution_count": null,
   "id": "sexual-consumer",
   "metadata": {},
   "outputs": [],
   "source": []
  },
  {
   "cell_type": "code",
   "execution_count": null,
   "id": "incoming-stereo",
   "metadata": {},
   "outputs": [],
   "source": [
    "import pandas as pd"
   ]
  },
  {
   "cell_type": "code",
   "execution_count": null,
   "id": "serious-thesaurus",
   "metadata": {},
   "outputs": [],
   "source": [
    "meta = pd.read_csv(\"/SGRNJ06/randd/USER/cjj/celedev/split_fl_vdj/20221102/yingshe/meta.tsv\",sep='\\t')"
   ]
  },
  {
   "cell_type": "code",
   "execution_count": null,
   "id": "painted-picture",
   "metadata": {},
   "outputs": [],
   "source": [
    "meta = meta.rename_axis(\"barcode\").reset_index()"
   ]
  },
  {
   "cell_type": "code",
   "execution_count": null,
   "id": "vanilla-lender",
   "metadata": {},
   "outputs": [],
   "source": [
    "vdj = pd.read_csv(\"/SGRNJ06/randd/USER/cjj/celedev/split_fl_vdj/20221102/M-1020clindexTCR-C/06.split_tag/fl_vdj/TAG_2_TCR_contig_annotations.csv\")"
   ]
  },
  {
   "cell_type": "code",
   "execution_count": null,
   "id": "bridal-legislation",
   "metadata": {},
   "outputs": [],
   "source": [
    "vdj.barcode= vdj.barcode.apply(lambda x: f\"TAG_2_{x}\")"
   ]
  },
  {
   "cell_type": "code",
   "execution_count": null,
   "id": "physical-trunk",
   "metadata": {},
   "outputs": [],
   "source": [
    "vdj"
   ]
  },
  {
   "cell_type": "code",
   "execution_count": null,
   "id": "funny-pilot",
   "metadata": {},
   "outputs": [],
   "source": [
    "meta"
   ]
  },
  {
   "cell_type": "code",
   "execution_count": null,
   "id": "addressed-evaluation",
   "metadata": {},
   "outputs": [],
   "source": [
    "set(meta.barcode).intersection(set(vdj.barcode))"
   ]
  },
  {
   "cell_type": "code",
   "execution_count": null,
   "id": "governing-practitioner",
   "metadata": {},
   "outputs": [],
   "source": []
  },
  {
   "cell_type": "code",
   "execution_count": null,
   "id": "legendary-timing",
   "metadata": {},
   "outputs": [],
   "source": [
    "import pandas as pd\n",
    "import sys\n",
    "import glob\n",
    "import xlwt\n",
    "import re"
   ]
  },
  {
   "cell_type": "code",
   "execution_count": null,
   "id": "focused-payday",
   "metadata": {},
   "outputs": [],
   "source": [
    "Celltype = {'TCELLS', 'TCELL' 'NKTCELLS'}"
   ]
  },
  {
   "cell_type": "code",
   "execution_count": null,
   "id": "another-browser",
   "metadata": {},
   "outputs": [],
   "source": [
    "    meta_list = glob.glob(\"/SGRNJ06/randd/USER/cjj/celedev/split_fl_vdj/20221102/yingshe/*_meta.csv\")\n",
    "    sample_list = ['_'.join(i.split('/')[-1].split('_')[:-1]) for i in meta_list]"
   ]
  },
  {
   "cell_type": "code",
   "execution_count": null,
   "id": "forced-bedroom",
   "metadata": {},
   "outputs": [],
   "source": [
    "    row0 = ['number of mapping to T/B cells', 'number of T/B cells', 'percent']\n",
    "    row1 = sample_list"
   ]
  },
  {
   "cell_type": "code",
   "execution_count": null,
   "id": "dangerous-termination",
   "metadata": {},
   "outputs": [],
   "source": [
    "mapping_count, ZL_count = [], []"
   ]
  },
  {
   "cell_type": "code",
   "execution_count": null,
   "id": "distinguished-communications",
   "metadata": {},
   "outputs": [],
   "source": [
    "    for meta in meta_list:\n",
    "        df = pd.read_csv(meta)\n",
    "        df['cluster'].apply(lambda x: re.sub(r\"[^a-zA-Z0-9]\",\"\", str(x)).upper())\n",
    "        df_count = df[df['cluster'].isin(Celltype)]\n",
    "        _i,_j = df_count[df_count['Class']=='T/BCR'].shape[0], df_count.shape[0]\n",
    "        mapping_count.append(int(_i))\n",
    "        ZL_count.append(int(_j))"
   ]
  },
  {
   "cell_type": "code",
   "execution_count": null,
   "id": "intense-demographic",
   "metadata": {},
   "outputs": [],
   "source": [
    "mapping_count"
   ]
  },
  {
   "cell_type": "code",
   "execution_count": null,
   "id": "temporal-resource",
   "metadata": {},
   "outputs": [],
   "source": [
    "df = pd.read_csv(meta_list[0])"
   ]
  },
  {
   "cell_type": "code",
   "execution_count": null,
   "id": "dynamic-kingdom",
   "metadata": {},
   "outputs": [],
   "source": [
    "df['cluster'] = df['cluster'].apply(lambda x: re.sub(r\"[^a-zA-Z0-9]\",\"\", str(x)).upper())"
   ]
  },
  {
   "cell_type": "code",
   "execution_count": null,
   "id": "stretch-satin",
   "metadata": {},
   "outputs": [],
   "source": [
    "df_count = df[df['cluster'].isin(Celltype)]"
   ]
  },
  {
   "cell_type": "code",
   "execution_count": null,
   "id": "lightweight-budget",
   "metadata": {},
   "outputs": [],
   "source": [
    "_i,_j = df_count[df_count['Class']=='T/BCR'].shape[0], df_count.shape[0]"
   ]
  },
  {
   "cell_type": "code",
   "execution_count": null,
   "id": "emerging-advocate",
   "metadata": {},
   "outputs": [],
   "source": [
    "_i"
   ]
  },
  {
   "cell_type": "code",
   "execution_count": null,
   "id": "improving-outreach",
   "metadata": {},
   "outputs": [],
   "source": [
    "_j"
   ]
  },
  {
   "cell_type": "code",
   "execution_count": null,
   "id": "behavioral-trademark",
   "metadata": {},
   "outputs": [],
   "source": [
    "df_count[df_count['Class']=='T/BCR'].shape[0]"
   ]
  },
  {
   "cell_type": "code",
   "execution_count": null,
   "id": "streaming-rotation",
   "metadata": {},
   "outputs": [],
   "source": []
  },
  {
   "cell_type": "code",
   "execution_count": null,
   "id": "exotic-fifteen",
   "metadata": {},
   "outputs": [],
   "source": [
    "import pandas as pd"
   ]
  },
  {
   "cell_type": "code",
   "execution_count": null,
   "id": "noted-wages",
   "metadata": {},
   "outputs": [],
   "source": [
    "df = pd.read_csv('/SGRNJ06/randd/USER/cjj/celedev/XZMU/20221110/monocle/check.tsv',sep='\\t')"
   ]
  },
  {
   "cell_type": "code",
   "execution_count": null,
   "id": "acceptable-wealth",
   "metadata": {},
   "outputs": [],
   "source": [
    "df"
   ]
  },
  {
   "cell_type": "code",
   "execution_count": null,
   "id": "dense-idaho",
   "metadata": {},
   "outputs": [],
   "source": [
    "GC0 = df[df[\"sample\"]=='GC_0']\n",
    "GC1 = df[df[\"sample\"]=='GC_1']\n",
    "GC2 = df[df[\"sample\"]=='GC_2']"
   ]
  },
  {
   "cell_type": "code",
   "execution_count": null,
   "id": "massive-furniture",
   "metadata": {},
   "outputs": [],
   "source": [
    "GC0.describe()"
   ]
  },
  {
   "cell_type": "code",
   "execution_count": null,
   "id": "rising-action",
   "metadata": {},
   "outputs": [],
   "source": [
    "GC1.describe()"
   ]
  },
  {
   "cell_type": "code",
   "execution_count": null,
   "id": "protective-joseph",
   "metadata": {},
   "outputs": [],
   "source": [
    "GC2.describe()"
   ]
  },
  {
   "cell_type": "code",
   "execution_count": null,
   "id": "assured-century",
   "metadata": {},
   "outputs": [],
   "source": []
  },
  {
   "cell_type": "code",
   "execution_count": null,
   "id": "secret-snapshot",
   "metadata": {},
   "outputs": [],
   "source": [
    "# /SGRNJ06/DATA04/22_11/2022_11_11/RD21010602/H_1104Raji_CK3NL/\n",
    "# /SGRNJ06/DATA04/22_11/2022_11_11/RD21010602/H_1104Raji_Mix3NL/"
   ]
  },
  {
   "cell_type": "code",
   "execution_count": null,
   "id": "convinced-point",
   "metadata": {},
   "outputs": [],
   "source": [
    "df = df.rename_axis(\"barcode\").reset_index()\n",
    "df"
   ]
  },
  {
   "cell_type": "code",
   "execution_count": null,
   "id": "seeing-superior",
   "metadata": {},
   "outputs": [],
   "source": [
    "    for index,row in df.iterrows():\n",
    "        print(row.barcode, row.cluster)"
   ]
  },
  {
   "cell_type": "code",
   "execution_count": null,
   "id": "endless-child",
   "metadata": {},
   "outputs": [],
   "source": [
    "def yield_test(df):\n",
    "    for index,row in df.iterrows():\n",
    "        yield row.barcode, row.cluster"
   ]
  },
  {
   "cell_type": "code",
   "execution_count": null,
   "id": "excellent-rings",
   "metadata": {},
   "outputs": [],
   "source": [
    "def yield_test1(df):\n",
    "    bc_list, celltype_list = list(df.barcode), list(df.cluster)\n",
    "    for i in range(len(bc_list)):\n",
    "        yield bc_list[i], celltype_list[i]"
   ]
  },
  {
   "cell_type": "code",
   "execution_count": null,
   "id": "appropriate-return",
   "metadata": {},
   "outputs": [],
   "source": [
    "    for index,row in df.iterrows():\n",
    "        print(index)\n",
    "        print((row.barcode, row.cluster))"
   ]
  },
  {
   "cell_type": "code",
   "execution_count": null,
   "id": "contrary-there",
   "metadata": {},
   "outputs": [],
   "source": [
    "list(yield_test(df))"
   ]
  },
  {
   "cell_type": "code",
   "execution_count": null,
   "id": "literary-building",
   "metadata": {},
   "outputs": [],
   "source": []
  },
  {
   "cell_type": "code",
   "execution_count": null,
   "id": "assigned-alberta",
   "metadata": {},
   "outputs": [],
   "source": []
  },
  {
   "cell_type": "code",
   "execution_count": null,
   "id": "beautiful-shower",
   "metadata": {},
   "outputs": [],
   "source": [
    "library(Seurat)\n",
    "library(tidyverse)\n",
    "library(dplyr)\n",
    "library(ggplot2)"
   ]
  },
  {
   "cell_type": "code",
   "execution_count": null,
   "id": "blessed-liquid",
   "metadata": {},
   "outputs": [],
   "source": [
    "rds = readRDS('/SGRNJ06/randd/PROJECT/RD20073101_ScRNA_VDJ/swb/snRNA/1107_Mus_Brain/amulit/rds_.diff_PRO.rds')"
   ]
  },
  {
   "cell_type": "code",
   "execution_count": null,
   "id": "sorted-fraud",
   "metadata": {},
   "outputs": [],
   "source": [
    "table(rds@meta.data$seurat_clusters)"
   ]
  },
  {
   "cell_type": "code",
   "execution_count": null,
   "id": "fleet-consultation",
   "metadata": {},
   "outputs": [],
   "source": [
    "new.cluster.ids <- c('Excitatory neurons','Interneurons','Excitatory neurons','Projection neurons','Excitatory neurons','Projection neurons','Excitatory neurons','Projection neurons',\n",
    "                    'Oligodendrocytes','Astrocytes','Inhibitory neurons','Astrocytes','Type IA spiral ganglion neurons','Projection neurons','GABAergic neurons','GABAergic neurons',\n",
    "                     'Projection neurons','Projection neurons','Oligodendrocytes precursor cells','Projection neurons','Dendrite targeting cells','Projection neurons','Microglial cells',\n",
    "                     'Fibroblasts')\n",
    "names(new.cluster.ids) <- levels(rds)\n",
    "rds <- RenameIdents(rds, new.cluster.ids)\n",
    "rds <- StashIdent(object = rds, save.name = \"celltype\")"
   ]
  },
  {
   "cell_type": "code",
   "execution_count": null,
   "id": "leading-prayer",
   "metadata": {},
   "outputs": [],
   "source": [
    "UMAPPlot(rds)"
   ]
  },
  {
   "cell_type": "code",
   "execution_count": null,
   "id": "reported-norman",
   "metadata": {},
   "outputs": [],
   "source": [
    "table(rds@meta.data$orig.ident)"
   ]
  },
  {
   "cell_type": "code",
   "execution_count": null,
   "id": "standing-christian",
   "metadata": {},
   "outputs": [],
   "source": [
    "for (i in unique(rds@meta.data$orig.ident)) {\n",
    "    Idents(rds) <- \"orig.ident\"\n",
    "    rds_tmp <- subset(rds,idents = c(i))\n",
    "    #saveRDS(object = rds_tmp, file = paste(\"/SGRNJ06/randd/USER/cjj/celedev/rna/20221122split_sample/\", i, \".rds\", sep=\"\"))\n",
    "    p <- UMAPPlot(rds_tmp, group.by=\"celltype\") \n",
    "    print(p)\n",
    "    ggplot2::ggsave(paste('/SGRNJ06/randd/USER/cjj/celedev/rna/20221122split_sample/umapplot/', i, '_umap.png', sep=''), p, height=10, width=10)\n",
    "}"
   ]
  },
  {
   "cell_type": "code",
   "execution_count": null,
   "id": "affected-layout",
   "metadata": {},
   "outputs": [],
   "source": [
    "for (i in unique(rds@meta.data$orig.ident)) {\n",
    "    print(paste(\"/SGRNJ06/randd/USER/cjj/celedev/rna/20221122split_sample/\", i,  \".rds\", sep=\"\"))\n",
    "}"
   ]
  },
  {
   "cell_type": "code",
   "execution_count": null,
   "id": "damaged-trunk",
   "metadata": {},
   "outputs": [],
   "source": []
  },
  {
   "cell_type": "code",
   "execution_count": null,
   "id": "interesting-consistency",
   "metadata": {},
   "outputs": [],
   "source": []
  },
  {
   "cell_type": "code",
   "execution_count": null,
   "id": "uniform-telephone",
   "metadata": {},
   "outputs": [],
   "source": [
    "rds = readRDS('/SGRNJ06/randd/PROJECT/RD20073101_ScRNA_VDJ/swb/snRNA/1110_lung_kindey2/lung/amulit/rds_.diff_PRO.rds')"
   ]
  },
  {
   "cell_type": "code",
   "execution_count": null,
   "id": "administrative-steps",
   "metadata": {},
   "outputs": [],
   "source": [
    "table(rds@meta.data$seurat_clusters)"
   ]
  },
  {
   "cell_type": "code",
   "execution_count": null,
   "id": "personal-ethnic",
   "metadata": {},
   "outputs": [],
   "source": [
    "new.cluster.ids <- c('Alveolar type II cells','Alveolar type I cells','Mesenchymal cells','Alveolar type II cells','Secretory cells','Ciliated cells','Macrophages','Endothelial cells',\n",
    "                    'Club cells','Immune cells','Capillaries type I endothelial cells','Endothelial cells','Fibroblasts','Immune cells','Mesothelial cells','Epithelial cells',\n",
    "                     'Pericytes','Secretory cells','Alveolar type I cells','Conventional type II dendritic cells','Ciliated cells','Alveolar type I cells','Alveolar type I cells',\n",
    "                     'Endothelial cells', 'Neuroendocrine cells')\n",
    "names(new.cluster.ids) <- levels(rds)\n",
    "rds <- RenameIdents(rds, new.cluster.ids)\n",
    "rds <- StashIdent(object = rds, save.name = \"celltype\")"
   ]
  },
  {
   "cell_type": "code",
   "execution_count": null,
   "id": "latter-sigma",
   "metadata": {},
   "outputs": [],
   "source": [
    "UMAPPlot(rds)"
   ]
  },
  {
   "cell_type": "code",
   "execution_count": null,
   "id": "million-venue",
   "metadata": {},
   "outputs": [],
   "source": [
    "table(rds@meta.data$orig.ident)"
   ]
  },
  {
   "cell_type": "code",
   "execution_count": null,
   "id": "monthly-lawsuit",
   "metadata": {},
   "outputs": [],
   "source": [
    "for (i in unique(rds@meta.data$orig.ident)) {\n",
    "    print(paste(\"/SGRNJ06/randd/USER/cjj/celedev/rna/20221122split_sample/\", i,  \".rds\", sep=\"\"))\n",
    "}"
   ]
  },
  {
   "cell_type": "code",
   "execution_count": null,
   "id": "informational-grade",
   "metadata": {},
   "outputs": [],
   "source": [
    "for (i in unique(rds@meta.data$orig.ident)) {\n",
    "    Idents(rds) <- \"orig.ident\"\n",
    "    rds_tmp <- subset(rds,idents = c(i))\n",
    "    #saveRDS(object = rds_tmp, file = paste(\"/SGRNJ06/randd/USER/cjj/celedev/rna/20221122split_sample/\", i, \".rds\", sep=\"\"))\n",
    "    p <- UMAPPlot(rds_tmp, group.by=\"celltype\") \n",
    "    print(p)\n",
    "    ggplot2::ggsave(paste('/SGRNJ06/randd/USER/cjj/celedev/rna/20221122split_sample/umapplot/', i, '_umap.png', sep=''), p, height=10, width=10)\n",
    "}"
   ]
  },
  {
   "cell_type": "code",
   "execution_count": null,
   "id": "informational-contamination",
   "metadata": {},
   "outputs": [],
   "source": []
  },
  {
   "cell_type": "code",
   "execution_count": null,
   "id": "bridal-things",
   "metadata": {},
   "outputs": [],
   "source": []
  },
  {
   "cell_type": "code",
   "execution_count": null,
   "id": "sunrise-malaysia",
   "metadata": {},
   "outputs": [],
   "source": [
    "rds = readRDS('/SGRNJ06/randd/PROJECT/RD20073101_ScRNA_VDJ/swb/snRNA/1110_lung_kindey2/kindey/amulit/rds_.diff_PRO.rds')"
   ]
  },
  {
   "cell_type": "code",
   "execution_count": null,
   "id": "generous-faith",
   "metadata": {},
   "outputs": [],
   "source": [
    "table(rds@meta.data$seurat_clusters)"
   ]
  },
  {
   "cell_type": "code",
   "execution_count": null,
   "id": "prompt-murray",
   "metadata": {},
   "outputs": [],
   "source": [
    "new.cluster.ids <- c('Ascending loop of henle cells','Proximal straight tubule cells','Proximal straight tubule cells','Proximal straight tubule cells','Proximal tubule cells',\n",
    "                    'Distal convoluted tubule cells','Endothelial cells','Conventional type II dendritic cells','Proximal tubule cells','Collecting duct principal cells',\n",
    "                     'Conventional type II dendritic cells','Collecting duct intercalated cells','Arterial vessel endothelial cells','Collecting duct principal cells',\n",
    "                     'Descending loop of henle cells', 'Conventional type II dendritic cells', 'Principal cells', 'Ascending loop of henle cells', 'Podocytes')\n",
    "names(new.cluster.ids) <- levels(rds)\n",
    "rds <- RenameIdents(rds, new.cluster.ids)\n",
    "rds <- StashIdent(object = rds, save.name = \"celltype\")"
   ]
  },
  {
   "cell_type": "code",
   "execution_count": null,
   "id": "discrete-fiction",
   "metadata": {},
   "outputs": [],
   "source": [
    "UMAPPlot(rds)"
   ]
  },
  {
   "cell_type": "code",
   "execution_count": null,
   "id": "dressed-trinidad",
   "metadata": {},
   "outputs": [],
   "source": [
    "table(rds@meta.data$orig.ident)"
   ]
  },
  {
   "cell_type": "code",
   "execution_count": null,
   "id": "cognitive-breakfast",
   "metadata": {},
   "outputs": [],
   "source": [
    "for (i in unique(rds@meta.data$orig.ident)) {\n",
    "    print(paste(\"/SGRNJ06/randd/USER/cjj/celedev/rna/20221122split_sample/\", i,  \".rds\", sep=\"\"))\n",
    "}"
   ]
  },
  {
   "cell_type": "code",
   "execution_count": null,
   "id": "nuclear-zambia",
   "metadata": {},
   "outputs": [],
   "source": [
    "for (i in unique(rds@meta.data$orig.ident)) {\n",
    "    Idents(rds) <- \"orig.ident\"\n",
    "    rds_tmp <- subset(rds,idents = c(i))\n",
    "    #saveRDS(object = rds_tmp, file = paste(\"/SGRNJ06/randd/USER/cjj/celedev/rna/20221122split_sample/\", i, \".rds\", sep=\"\"))\n",
    "    p <- UMAPPlot(rds_tmp, group.by=\"celltype\") \n",
    "    print(p)\n",
    "    ggplot2::ggsave(paste('/SGRNJ06/randd/USER/cjj/celedev/rna/20221122split_sample/umapplot/', i, '_umap.png', sep=''), p, height=10, width=10)\n",
    "}"
   ]
  },
  {
   "cell_type": "code",
   "execution_count": null,
   "id": "crude-thailand",
   "metadata": {},
   "outputs": [],
   "source": []
  },
  {
   "cell_type": "code",
   "execution_count": null,
   "id": "civilian-metallic",
   "metadata": {},
   "outputs": [],
   "source": []
  },
  {
   "cell_type": "code",
   "execution_count": null,
   "id": "weighted-theta",
   "metadata": {},
   "outputs": [],
   "source": [
    "Idents(rds) <- \"orig.ident\"\n",
    "rds3 <- subset(rds,idents = c(\"DYC-1-X1\"))\n",
    "rds4 <- subset(rds,idents = c(\"DYC-1-X2\"))\n",
    "rds5 <- subset(rds,idents = c(\"DYC-2-X1\"))\n",
    "rds6 <- subset(rds,idents = c(\"DYC-2-X2\"))"
   ]
  },
  {
   "cell_type": "code",
   "execution_count": null,
   "id": "previous-honor",
   "metadata": {},
   "outputs": [],
   "source": [
    "FeaturePlot(rds3, \"CD3D\")"
   ]
  },
  {
   "cell_type": "code",
   "execution_count": null,
   "id": "falling-corps",
   "metadata": {},
   "outputs": [],
   "source": [
    "UMAPPlot(rds3,group.by=c(\"cluster\"))"
   ]
  },
  {
   "cell_type": "code",
   "execution_count": null,
   "id": "coordinated-permit",
   "metadata": {},
   "outputs": [],
   "source": []
  },
  {
   "cell_type": "code",
   "execution_count": null,
   "id": "finished-museum",
   "metadata": {},
   "outputs": [],
   "source": [
    "# cdr3 error"
   ]
  },
  {
   "cell_type": "code",
   "execution_count": 1,
   "id": "clinical-remains",
   "metadata": {},
   "outputs": [],
   "source": [
    "import numpy as np\n",
    "import pandas as pd\n",
    "\n",
    "from celescope.tools import utils\n",
    "from celescope.__init__ import HELP_DICT\n",
    "from celescope.tools.step import Step, s_common\n",
    "from celescope.vdj.__init__ import CHAINS, PAIRS\n",
    "from celescope.tools.capture.threshold import Auto\n",
    "from celescope.tools.emptydrop_cr import get_plot_elements"
   ]
  },
  {
   "cell_type": "code",
   "execution_count": 33,
   "id": "connected-performer",
   "metadata": {},
   "outputs": [],
   "source": [
    "SEQUENCES_HEADER = [\"aaSeqCDR3\", \"nSeqCDR3\"]\n",
    "# Auto filter percentitle\n",
    "PERCENTILE = {\n",
    "    'TCR': 85,\n",
    "    'BCR': 90,\n",
    "}\n",
    "def target_cell_calling(df_UMI_sum, expected_target_cell_num=3000, target_barcodes=None, weight=3, coef=10, \n",
    "    percentile=99, UMI_min=3, umi_col='UMI'):\n",
    "    \"\"\"\n",
    "    Args:\n",
    "        df_UMI_sum: A dataframe with columns barcode and UMI. The barcode are match cell barcodes.\n",
    "    \n",
    "    Returns:\n",
    "        umi_threhold: int\n",
    "        target_cell_barcodes: list\n",
    "\n",
    "    >>> df_UMI_sum = pd.DataFrame({\"barcode\": [\"A\", \"B\", \"C\", \"D\", \"E\"], \"UMI\": [1, 2, 1, 30, 40]})\n",
    "    >>> umi_threshold, target_cell_barcodes = target_cell_calling(df_UMI_sum, expected_target_cell_num=5, percentile=80, coef=10, target_barcodes=[\"A\", \"C\"])\n",
    "    >>> umi_threshold == 3\n",
    "    True\n",
    "    >>> target_cell_barcodes == {'A', 'C', 'D', 'E'}\n",
    "    True\n",
    "    \"\"\"\n",
    "    umi_threshold = Auto(list(df_UMI_sum[umi_col]), expected_cell_num=expected_target_cell_num, coef=coef, percentile=percentile).run()\n",
    "    if umi_threshold < UMI_min:\n",
    "        umi_threshold = UMI_min\n",
    "    # avoid change the original dataframe\n",
    "    df_temp = df_UMI_sum.copy()\n",
    "    if target_barcodes:\n",
    "        df_temp[umi_col] = df_temp.apply(\n",
    "            lambda row:  row[umi_col] * weight if row['barcode'] in target_barcodes else row[umi_col], axis=1)\n",
    "             \n",
    "    target_cell_barcodes = set(df_temp.loc[df_temp[umi_col] >= umi_threshold].barcode)\n",
    "\n",
    "    return umi_threshold, target_cell_barcodes\n",
    "\n",
    "\n",
    "cols = []\n",
    "for chain in [\"IGH\", \"IGL\", \"IGK\"]:\n",
    "    for seq in SEQUENCES_HEADER:\n",
    "        cols.append(\"_\".join([seq, chain]))"
   ]
  },
  {
   "cell_type": "code",
   "execution_count": 3,
   "id": "fifty-owner",
   "metadata": {},
   "outputs": [],
   "source": [
    "df_UMI_count_filter = pd.read_csv(\"/SGRNJ06/bioinfo/PROJ04/PROJ_22.10X/P20012001_VDJ/BCR/DYH-1202-B_c3/DYH-1202-B/04.mapping_vdj/DYH-1202-B_UMI_count_filtered.tsv\", sep='\\t')"
   ]
  },
  {
   "cell_type": "code",
   "execution_count": 4,
   "id": "three-pioneer",
   "metadata": {},
   "outputs": [
    {
     "data": {
      "text/html": [
       "<div>\n",
       "<style scoped>\n",
       "    .dataframe tbody tr th:only-of-type {\n",
       "        vertical-align: middle;\n",
       "    }\n",
       "\n",
       "    .dataframe tbody tr th {\n",
       "        vertical-align: top;\n",
       "    }\n",
       "\n",
       "    .dataframe thead th {\n",
       "        text-align: right;\n",
       "    }\n",
       "</style>\n",
       "<table border=\"1\" class=\"dataframe\">\n",
       "  <thead>\n",
       "    <tr style=\"text-align: right;\">\n",
       "      <th></th>\n",
       "      <th>barcode</th>\n",
       "      <th>chain</th>\n",
       "      <th>bestVGene</th>\n",
       "      <th>bestJGene</th>\n",
       "      <th>aaSeqCDR3</th>\n",
       "      <th>nSeqCDR3</th>\n",
       "      <th>UMI</th>\n",
       "    </tr>\n",
       "  </thead>\n",
       "  <tbody>\n",
       "    <tr>\n",
       "      <th>0</th>\n",
       "      <td>AAGACGGACTGAGCCATAGGATGA</td>\n",
       "      <td>IGK</td>\n",
       "      <td>IGKV3-20</td>\n",
       "      <td>IGKJ2</td>\n",
       "      <td>CQQYGSSPPYTF</td>\n",
       "      <td>TGTCAGCAGTATGGTAGCTCACCCCCGTACACTTTT</td>\n",
       "      <td>406</td>\n",
       "    </tr>\n",
       "    <tr>\n",
       "      <th>1</th>\n",
       "      <td>GACTAGTAAACAACCATGGCTTCA</td>\n",
       "      <td>IGK</td>\n",
       "      <td>IGKV3-20</td>\n",
       "      <td>IGKJ2</td>\n",
       "      <td>CQQYGSSPPYTF</td>\n",
       "      <td>TGTCAGCAGTATGGTAGCTCACCCCCGTACACTTTT</td>\n",
       "      <td>382</td>\n",
       "    </tr>\n",
       "    <tr>\n",
       "      <th>2</th>\n",
       "      <td>GGAGAACACAGCGTTAGGAGAACA</td>\n",
       "      <td>IGK</td>\n",
       "      <td>IGKV3-20</td>\n",
       "      <td>IGKJ2</td>\n",
       "      <td>CQQYGSSPPYTF</td>\n",
       "      <td>TGTCAGCAGTATGGTAGCTCACCCCCGTACACTTTT</td>\n",
       "      <td>376</td>\n",
       "    </tr>\n",
       "    <tr>\n",
       "      <th>3</th>\n",
       "      <td>AGTCACTACAACCACACGAACTTA</td>\n",
       "      <td>IGK</td>\n",
       "      <td>IGKV3-20</td>\n",
       "      <td>IGKJ2</td>\n",
       "      <td>CQQYGSSPPYTF</td>\n",
       "      <td>TGTCAGCAGTATGGTAGCTCACCCCCGTACACTTTT</td>\n",
       "      <td>350</td>\n",
       "    </tr>\n",
       "    <tr>\n",
       "      <th>4</th>\n",
       "      <td>GAACAGGCACCTCCAACCGTGAGA</td>\n",
       "      <td>IGK</td>\n",
       "      <td>IGKV3-20</td>\n",
       "      <td>IGKJ2</td>\n",
       "      <td>CQQYGSSPPYTF</td>\n",
       "      <td>TGTCAGCAGTATGGTAGCTCACCCCCGTACACTTTT</td>\n",
       "      <td>348</td>\n",
       "    </tr>\n",
       "    <tr>\n",
       "      <th>...</th>\n",
       "      <td>...</td>\n",
       "      <td>...</td>\n",
       "      <td>...</td>\n",
       "      <td>...</td>\n",
       "      <td>...</td>\n",
       "      <td>...</td>\n",
       "      <td>...</td>\n",
       "    </tr>\n",
       "    <tr>\n",
       "      <th>474009</th>\n",
       "      <td>ATCCTGTAAGATCGCATGGTGGTA</td>\n",
       "      <td>IGK</td>\n",
       "      <td>IGKV3-20</td>\n",
       "      <td>IGKJ2</td>\n",
       "      <td>CQQYGSSPPYTF</td>\n",
       "      <td>TGTCAGCAGTATGGTAGCTCACCCCCGTACACTTTT</td>\n",
       "      <td>1</td>\n",
       "    </tr>\n",
       "    <tr>\n",
       "      <th>474010</th>\n",
       "      <td>ATCCTGTAAGATCGCATTCACGCA</td>\n",
       "      <td>IGK</td>\n",
       "      <td>IGKV3-20</td>\n",
       "      <td>IGKJ2</td>\n",
       "      <td>CQQYGSSPPYTF</td>\n",
       "      <td>TGTCAGCAGTATGGTAGCTCACCCCCGTACACTTTT</td>\n",
       "      <td>1</td>\n",
       "    </tr>\n",
       "    <tr>\n",
       "      <th>474011</th>\n",
       "      <td>ATCCTGTAAGATGTACAACGTGAT</td>\n",
       "      <td>IGH</td>\n",
       "      <td>IGHV4-39</td>\n",
       "      <td>IGHJ6</td>\n",
       "      <td>CARGKGADYYDSSGYYYVSYYYYGMDVW</td>\n",
       "      <td>TGTGCGAGAGGCAAGGGCGCCGACTACTATGATAGTAGTGGTTATT...</td>\n",
       "      <td>1</td>\n",
       "    </tr>\n",
       "    <tr>\n",
       "      <th>474012</th>\n",
       "      <td>ATCCTGTAAGATGTACAAGAGATC</td>\n",
       "      <td>IGH</td>\n",
       "      <td>IGHV4-39</td>\n",
       "      <td>IGHJ6</td>\n",
       "      <td>CARGKGADYYDSSGYYYVSYYYYGMDVW</td>\n",
       "      <td>TGTGCGAGAGGCAAGGGCGCCGACTACTATGATAGTAGTGGTTATT...</td>\n",
       "      <td>1</td>\n",
       "    </tr>\n",
       "    <tr>\n",
       "      <th>474013</th>\n",
       "      <td>TTCACGCATTCACGCATTCACGCA</td>\n",
       "      <td>IGK</td>\n",
       "      <td>IGKV3-20</td>\n",
       "      <td>IGKJ2</td>\n",
       "      <td>CQQYGSSPPYTF</td>\n",
       "      <td>TGTCAGCAGTATGGTAGCTCACCCCCGTACACTTTT</td>\n",
       "      <td>1</td>\n",
       "    </tr>\n",
       "  </tbody>\n",
       "</table>\n",
       "<p>474014 rows × 7 columns</p>\n",
       "</div>"
      ],
      "text/plain": [
       "                         barcode chain bestVGene bestJGene  \\\n",
       "0       AAGACGGACTGAGCCATAGGATGA   IGK  IGKV3-20     IGKJ2   \n",
       "1       GACTAGTAAACAACCATGGCTTCA   IGK  IGKV3-20     IGKJ2   \n",
       "2       GGAGAACACAGCGTTAGGAGAACA   IGK  IGKV3-20     IGKJ2   \n",
       "3       AGTCACTACAACCACACGAACTTA   IGK  IGKV3-20     IGKJ2   \n",
       "4       GAACAGGCACCTCCAACCGTGAGA   IGK  IGKV3-20     IGKJ2   \n",
       "...                          ...   ...       ...       ...   \n",
       "474009  ATCCTGTAAGATCGCATGGTGGTA   IGK  IGKV3-20     IGKJ2   \n",
       "474010  ATCCTGTAAGATCGCATTCACGCA   IGK  IGKV3-20     IGKJ2   \n",
       "474011  ATCCTGTAAGATGTACAACGTGAT   IGH  IGHV4-39     IGHJ6   \n",
       "474012  ATCCTGTAAGATGTACAAGAGATC   IGH  IGHV4-39     IGHJ6   \n",
       "474013  TTCACGCATTCACGCATTCACGCA   IGK  IGKV3-20     IGKJ2   \n",
       "\n",
       "                           aaSeqCDR3  \\\n",
       "0                       CQQYGSSPPYTF   \n",
       "1                       CQQYGSSPPYTF   \n",
       "2                       CQQYGSSPPYTF   \n",
       "3                       CQQYGSSPPYTF   \n",
       "4                       CQQYGSSPPYTF   \n",
       "...                              ...   \n",
       "474009                  CQQYGSSPPYTF   \n",
       "474010                  CQQYGSSPPYTF   \n",
       "474011  CARGKGADYYDSSGYYYVSYYYYGMDVW   \n",
       "474012  CARGKGADYYDSSGYYYVSYYYYGMDVW   \n",
       "474013                  CQQYGSSPPYTF   \n",
       "\n",
       "                                                 nSeqCDR3  UMI  \n",
       "0                    TGTCAGCAGTATGGTAGCTCACCCCCGTACACTTTT  406  \n",
       "1                    TGTCAGCAGTATGGTAGCTCACCCCCGTACACTTTT  382  \n",
       "2                    TGTCAGCAGTATGGTAGCTCACCCCCGTACACTTTT  376  \n",
       "3                    TGTCAGCAGTATGGTAGCTCACCCCCGTACACTTTT  350  \n",
       "4                    TGTCAGCAGTATGGTAGCTCACCCCCGTACACTTTT  348  \n",
       "...                                                   ...  ...  \n",
       "474009               TGTCAGCAGTATGGTAGCTCACCCCCGTACACTTTT    1  \n",
       "474010               TGTCAGCAGTATGGTAGCTCACCCCCGTACACTTTT    1  \n",
       "474011  TGTGCGAGAGGCAAGGGCGCCGACTACTATGATAGTAGTGGTTATT...    1  \n",
       "474012  TGTGCGAGAGGCAAGGGCGCCGACTACTATGATAGTAGTGGTTATT...    1  \n",
       "474013               TGTCAGCAGTATGGTAGCTCACCCCCGTACACTTTT    1  \n",
       "\n",
       "[474014 rows x 7 columns]"
      ]
     },
     "execution_count": 4,
     "metadata": {},
     "output_type": "execute_result"
    }
   ],
   "source": [
    "df_UMI_count_filter"
   ]
  },
  {
   "cell_type": "code",
   "execution_count": 5,
   "id": "current-young",
   "metadata": {},
   "outputs": [
    {
     "name": "stdout",
     "output_type": "stream",
     "text": [
      "2022-12-26 11:20:07,005 - celescope.tools.utils.get_barcode_from_match_dir - INFO - start...\n",
      "2022-12-26 11:20:07,007 - celescope.tools.utils.get_matrix_dir_from_match_dir - INFO - start...\n",
      "2022-12-26 11:20:07,021 - celescope.tools.utils.get_matrix_dir_from_match_dir - INFO - Matrix_dir :/SGRNJ06/bioinfo/PROJ04/PROJ_22.SC/P20012001_SCOPEv2/temp/DYH-1202_c3/DYH-1202/05.count/DYH-1202_matrix_10X\n",
      "2022-12-26 11:20:07,022 - celescope.tools.utils.get_matrix_dir_from_match_dir - INFO - done. time used: 0:00:00.013397\n",
      "2022-12-26 11:20:07,022 - celescope.tools.utils.get_barcode_from_matrix_dir - INFO - start...\n",
      "2022-12-26 11:20:07,083 - celescope.tools.utils.get_barcode_from_matrix_dir - INFO - done. time used: 0:00:00.059717\n",
      "2022-12-26 11:20:07,084 - celescope.tools.utils.get_barcode_from_match_dir - INFO - done. time used: 0:00:00.076368\n"
     ]
    }
   ],
   "source": [
    "match_cell_barcodes, _match_cell_number = utils.get_barcode_from_match_dir(\"/SGRNJ06/bioinfo/PROJ04/PROJ_22.SC/P20012001_SCOPEv2/temp/DYH-1202_c3/DYH-1202\")"
   ]
  },
  {
   "cell_type": "code",
   "execution_count": 8,
   "id": "greek-local",
   "metadata": {},
   "outputs": [],
   "source": [
    "match_cell_barcodes = set(match_cell_barcodes)"
   ]
  },
  {
   "cell_type": "code",
   "execution_count": 9,
   "id": "sophisticated-egypt",
   "metadata": {},
   "outputs": [],
   "source": [
    "df_UMI_sum = df_UMI_count_filter.groupby(['barcode'], as_index=False).agg({\"UMI\": \"sum\"})"
   ]
  },
  {
   "cell_type": "code",
   "execution_count": 11,
   "id": "corresponding-binding",
   "metadata": {},
   "outputs": [],
   "source": [
    "df_match_UMI_count_filter = df_UMI_count_filter[df_UMI_count_filter['barcode'].isin(match_cell_barcodes)]\n",
    "df_match_UMI_sum = df_UMI_sum[df_UMI_sum['barcode'].isin(match_cell_barcodes)]"
   ]
  },
  {
   "cell_type": "code",
   "execution_count": 14,
   "id": "particular-commissioner",
   "metadata": {},
   "outputs": [
    {
     "data": {
      "text/html": [
       "<div>\n",
       "<style scoped>\n",
       "    .dataframe tbody tr th:only-of-type {\n",
       "        vertical-align: middle;\n",
       "    }\n",
       "\n",
       "    .dataframe tbody tr th {\n",
       "        vertical-align: top;\n",
       "    }\n",
       "\n",
       "    .dataframe thead th {\n",
       "        text-align: right;\n",
       "    }\n",
       "</style>\n",
       "<table border=\"1\" class=\"dataframe\">\n",
       "  <thead>\n",
       "    <tr style=\"text-align: right;\">\n",
       "      <th></th>\n",
       "      <th>barcode</th>\n",
       "      <th>chain</th>\n",
       "      <th>bestVGene</th>\n",
       "      <th>bestJGene</th>\n",
       "      <th>aaSeqCDR3</th>\n",
       "      <th>nSeqCDR3</th>\n",
       "      <th>UMI</th>\n",
       "    </tr>\n",
       "  </thead>\n",
       "  <tbody>\n",
       "    <tr>\n",
       "      <th>0</th>\n",
       "      <td>AAGACGGACTGAGCCATAGGATGA</td>\n",
       "      <td>IGK</td>\n",
       "      <td>IGKV3-20</td>\n",
       "      <td>IGKJ2</td>\n",
       "      <td>CQQYGSSPPYTF</td>\n",
       "      <td>TGTCAGCAGTATGGTAGCTCACCCCCGTACACTTTT</td>\n",
       "      <td>406</td>\n",
       "    </tr>\n",
       "    <tr>\n",
       "      <th>1</th>\n",
       "      <td>GACTAGTAAACAACCATGGCTTCA</td>\n",
       "      <td>IGK</td>\n",
       "      <td>IGKV3-20</td>\n",
       "      <td>IGKJ2</td>\n",
       "      <td>CQQYGSSPPYTF</td>\n",
       "      <td>TGTCAGCAGTATGGTAGCTCACCCCCGTACACTTTT</td>\n",
       "      <td>382</td>\n",
       "    </tr>\n",
       "    <tr>\n",
       "      <th>2</th>\n",
       "      <td>GGAGAACACAGCGTTAGGAGAACA</td>\n",
       "      <td>IGK</td>\n",
       "      <td>IGKV3-20</td>\n",
       "      <td>IGKJ2</td>\n",
       "      <td>CQQYGSSPPYTF</td>\n",
       "      <td>TGTCAGCAGTATGGTAGCTCACCCCCGTACACTTTT</td>\n",
       "      <td>376</td>\n",
       "    </tr>\n",
       "    <tr>\n",
       "      <th>3</th>\n",
       "      <td>AGTCACTACAACCACACGAACTTA</td>\n",
       "      <td>IGK</td>\n",
       "      <td>IGKV3-20</td>\n",
       "      <td>IGKJ2</td>\n",
       "      <td>CQQYGSSPPYTF</td>\n",
       "      <td>TGTCAGCAGTATGGTAGCTCACCCCCGTACACTTTT</td>\n",
       "      <td>350</td>\n",
       "    </tr>\n",
       "    <tr>\n",
       "      <th>4</th>\n",
       "      <td>GAACAGGCACCTCCAACCGTGAGA</td>\n",
       "      <td>IGK</td>\n",
       "      <td>IGKV3-20</td>\n",
       "      <td>IGKJ2</td>\n",
       "      <td>CQQYGSSPPYTF</td>\n",
       "      <td>TGTCAGCAGTATGGTAGCTCACCCCCGTACACTTTT</td>\n",
       "      <td>348</td>\n",
       "    </tr>\n",
       "    <tr>\n",
       "      <th>...</th>\n",
       "      <td>...</td>\n",
       "      <td>...</td>\n",
       "      <td>...</td>\n",
       "      <td>...</td>\n",
       "      <td>...</td>\n",
       "      <td>...</td>\n",
       "      <td>...</td>\n",
       "    </tr>\n",
       "    <tr>\n",
       "      <th>472250</th>\n",
       "      <td>ATCATTCCGAGTTAGCAGCACCTC</td>\n",
       "      <td>IGH</td>\n",
       "      <td>IGHV4-39</td>\n",
       "      <td>IGHJ6</td>\n",
       "      <td>CARGKGADYYDSSGYYYVSYYYYGMDVW</td>\n",
       "      <td>TGTGCGAGAGGCAAGGGCGCCGACTACTATGATAGTAGTGGTTATT...</td>\n",
       "      <td>1</td>\n",
       "    </tr>\n",
       "    <tr>\n",
       "      <th>472269</th>\n",
       "      <td>ATCATTCCGCCAAGACCCGACAAC</td>\n",
       "      <td>IGH</td>\n",
       "      <td>IGHV4-39</td>\n",
       "      <td>IGHJ6</td>\n",
       "      <td>CARGKGADYYDSSGYYYVSYYYYGMDVW</td>\n",
       "      <td>TGTGCGAGAGGCAAGGGCGCCGACTACTATGATAGTAGTGGTTATT...</td>\n",
       "      <td>1</td>\n",
       "    </tr>\n",
       "    <tr>\n",
       "      <th>472454</th>\n",
       "      <td>ATCATTCCCTGGCATACGAACTTA</td>\n",
       "      <td>IGH</td>\n",
       "      <td>IGHV4-39</td>\n",
       "      <td>IGHJ6</td>\n",
       "      <td>CARGKGADYYDSSGYYYVSYYYYGMDVW</td>\n",
       "      <td>TGTGCGAGAGGCAAGGGCGCCGACTACTATGATAGTAGTGGTTATT...</td>\n",
       "      <td>1</td>\n",
       "    </tr>\n",
       "    <tr>\n",
       "      <th>472603</th>\n",
       "      <td>ATCATTCCGTGTTCTACAACCACA</td>\n",
       "      <td>IGK</td>\n",
       "      <td>IGKV3-20</td>\n",
       "      <td>IGKJ2</td>\n",
       "      <td>CQQYGSSPPYTF</td>\n",
       "      <td>TGTCAGCAGTATGGTAGCTCACCCCCGTACACTTTT</td>\n",
       "      <td>1</td>\n",
       "    </tr>\n",
       "    <tr>\n",
       "      <th>473801</th>\n",
       "      <td>ATCCTGTAAGTACAAGAAGAGATC</td>\n",
       "      <td>IGK</td>\n",
       "      <td>IGKV2-30</td>\n",
       "      <td>IGKJ1</td>\n",
       "      <td>CMQGTHWLRQTF</td>\n",
       "      <td>TGCATGCAAGGTACACACTGGCTCCGTCAGACGTTC</td>\n",
       "      <td>1</td>\n",
       "    </tr>\n",
       "  </tbody>\n",
       "</table>\n",
       "<p>36274 rows × 7 columns</p>\n",
       "</div>"
      ],
      "text/plain": [
       "                         barcode chain bestVGene bestJGene  \\\n",
       "0       AAGACGGACTGAGCCATAGGATGA   IGK  IGKV3-20     IGKJ2   \n",
       "1       GACTAGTAAACAACCATGGCTTCA   IGK  IGKV3-20     IGKJ2   \n",
       "2       GGAGAACACAGCGTTAGGAGAACA   IGK  IGKV3-20     IGKJ2   \n",
       "3       AGTCACTACAACCACACGAACTTA   IGK  IGKV3-20     IGKJ2   \n",
       "4       GAACAGGCACCTCCAACCGTGAGA   IGK  IGKV3-20     IGKJ2   \n",
       "...                          ...   ...       ...       ...   \n",
       "472250  ATCATTCCGAGTTAGCAGCACCTC   IGH  IGHV4-39     IGHJ6   \n",
       "472269  ATCATTCCGCCAAGACCCGACAAC   IGH  IGHV4-39     IGHJ6   \n",
       "472454  ATCATTCCCTGGCATACGAACTTA   IGH  IGHV4-39     IGHJ6   \n",
       "472603  ATCATTCCGTGTTCTACAACCACA   IGK  IGKV3-20     IGKJ2   \n",
       "473801  ATCCTGTAAGTACAAGAAGAGATC   IGK  IGKV2-30     IGKJ1   \n",
       "\n",
       "                           aaSeqCDR3  \\\n",
       "0                       CQQYGSSPPYTF   \n",
       "1                       CQQYGSSPPYTF   \n",
       "2                       CQQYGSSPPYTF   \n",
       "3                       CQQYGSSPPYTF   \n",
       "4                       CQQYGSSPPYTF   \n",
       "...                              ...   \n",
       "472250  CARGKGADYYDSSGYYYVSYYYYGMDVW   \n",
       "472269  CARGKGADYYDSSGYYYVSYYYYGMDVW   \n",
       "472454  CARGKGADYYDSSGYYYVSYYYYGMDVW   \n",
       "472603                  CQQYGSSPPYTF   \n",
       "473801                  CMQGTHWLRQTF   \n",
       "\n",
       "                                                 nSeqCDR3  UMI  \n",
       "0                    TGTCAGCAGTATGGTAGCTCACCCCCGTACACTTTT  406  \n",
       "1                    TGTCAGCAGTATGGTAGCTCACCCCCGTACACTTTT  382  \n",
       "2                    TGTCAGCAGTATGGTAGCTCACCCCCGTACACTTTT  376  \n",
       "3                    TGTCAGCAGTATGGTAGCTCACCCCCGTACACTTTT  350  \n",
       "4                    TGTCAGCAGTATGGTAGCTCACCCCCGTACACTTTT  348  \n",
       "...                                                   ...  ...  \n",
       "472250  TGTGCGAGAGGCAAGGGCGCCGACTACTATGATAGTAGTGGTTATT...    1  \n",
       "472269  TGTGCGAGAGGCAAGGGCGCCGACTACTATGATAGTAGTGGTTATT...    1  \n",
       "472454  TGTGCGAGAGGCAAGGGCGCCGACTACTATGATAGTAGTGGTTATT...    1  \n",
       "472603               TGTCAGCAGTATGGTAGCTCACCCCCGTACACTTTT    1  \n",
       "473801               TGCATGCAAGGTACACACTGGCTCCGTCAGACGTTC    1  \n",
       "\n",
       "[36274 rows x 7 columns]"
      ]
     },
     "execution_count": 14,
     "metadata": {},
     "output_type": "execute_result"
    }
   ],
   "source": [
    "df_match_UMI_count_filter"
   ]
  },
  {
   "cell_type": "code",
   "execution_count": 18,
   "id": "sublime-solution",
   "metadata": {},
   "outputs": [],
   "source": [
    "        percentile = PERCENTILE[\"TCR\"]\n",
    "        umi_threshold, target_cell_barcodes = target_cell_calling(\n",
    "            df_match_UMI_sum, \n",
    "            expected_target_cell_num=3000, \n",
    "            target_barcodes=None,\n",
    "            UMI_min=3,\n",
    "            percentile=percentile\n",
    "        )\n",
    "        df_cell = df_match_UMI_count_filter[df_match_UMI_count_filter['barcode'].isin(\n",
    "            target_cell_barcodes)]\n",
    "        df_UMI_sum['mark'] = df_UMI_sum['barcode'].apply(lambda x: 'CB' if x in target_cell_barcodes else 'UB')\n",
    "        df_UMI_sum = df_UMI_sum.sort_values(by=['UMI'], ascending=False)"
   ]
  },
  {
   "cell_type": "code",
   "execution_count": 30,
   "id": "tight-france",
   "metadata": {},
   "outputs": [
    {
     "data": {
      "text/html": [
       "<div>\n",
       "<style scoped>\n",
       "    .dataframe tbody tr th:only-of-type {\n",
       "        vertical-align: middle;\n",
       "    }\n",
       "\n",
       "    .dataframe tbody tr th {\n",
       "        vertical-align: top;\n",
       "    }\n",
       "\n",
       "    .dataframe thead th {\n",
       "        text-align: right;\n",
       "    }\n",
       "</style>\n",
       "<table border=\"1\" class=\"dataframe\">\n",
       "  <thead>\n",
       "    <tr style=\"text-align: right;\">\n",
       "      <th></th>\n",
       "      <th>barcode</th>\n",
       "      <th>chain</th>\n",
       "      <th>bestVGene</th>\n",
       "      <th>bestJGene</th>\n",
       "      <th>aaSeqCDR3</th>\n",
       "      <th>nSeqCDR3</th>\n",
       "      <th>UMI</th>\n",
       "    </tr>\n",
       "  </thead>\n",
       "  <tbody>\n",
       "    <tr>\n",
       "      <th>263976</th>\n",
       "      <td>TGGCTTCAAGAGTCAAAATGTTGC</td>\n",
       "      <td>IGL</td>\n",
       "      <td>IGLV3-12</td>\n",
       "      <td>IGLJ1</td>\n",
       "      <td>WEVWVGGSGRGAVYYDRSGVFF</td>\n",
       "      <td>TGGGAGGTGTGGGTCGGGGGGAGTGGGAGGGGCGCGGTCTACTATG...</td>\n",
       "      <td>1</td>\n",
       "    </tr>\n",
       "    <tr>\n",
       "      <th>290499</th>\n",
       "      <td>GACAGTGCTGAAGAGACTCAATGA</td>\n",
       "      <td>IGL</td>\n",
       "      <td>IGLV4-60</td>\n",
       "      <td>IGLJ3</td>\n",
       "      <td>CGFWGVL</td>\n",
       "      <td>TGTGGGTTTTGGGGGGTGTTA</td>\n",
       "      <td>1</td>\n",
       "    </tr>\n",
       "    <tr>\n",
       "      <th>298295</th>\n",
       "      <td>GAGCTGAAAGTCACTAAAGGACAC</td>\n",
       "      <td>IGL</td>\n",
       "      <td>IGLV5-39</td>\n",
       "      <td>IGLJ1</td>\n",
       "      <td>CANCYGSCILIVCLNYVE</td>\n",
       "      <td>TGTGCTAATTGTTATGGCTCCTGTATTTTGATTGTGTGTTTGAATT...</td>\n",
       "      <td>1</td>\n",
       "    </tr>\n",
       "    <tr>\n",
       "      <th>321187</th>\n",
       "      <td>ACATTGGCATAGCGACTGGTGGTA</td>\n",
       "      <td>IGL</td>\n",
       "      <td>IGLV5-37</td>\n",
       "      <td>IGLJ5</td>\n",
       "      <td>CMIYVDVVF</td>\n",
       "      <td>TGTATGATTTATGTTGATGTTGTGTTT</td>\n",
       "      <td>1</td>\n",
       "    </tr>\n",
       "    <tr>\n",
       "      <th>337435</th>\n",
       "      <td>AGATCGCAATCCTGTAACCACTGT</td>\n",
       "      <td>IGL</td>\n",
       "      <td>IGLV5-52</td>\n",
       "      <td>IGLJ4</td>\n",
       "      <td>CGTLDKDFNTFFLFDNVF</td>\n",
       "      <td>TGTGGTACATTGGACAAAGACTTCAATACATTTTTTTTATTTGATA...</td>\n",
       "      <td>1</td>\n",
       "    </tr>\n",
       "    <tr>\n",
       "      <th>397281</th>\n",
       "      <td>CACTTCGATCCGTCTACTAAGGTC</td>\n",
       "      <td>IGL</td>\n",
       "      <td>IGLV4-60</td>\n",
       "      <td>IGLJ2</td>\n",
       "      <td>IEVLVVVR</td>\n",
       "      <td>ATTGAGGTGTTGGTTGTGGTAAGA</td>\n",
       "      <td>1</td>\n",
       "    </tr>\n",
       "    <tr>\n",
       "      <th>418487</th>\n",
       "      <td>CCATCCTCATCCTGTAAGAGTCAA</td>\n",
       "      <td>IGL</td>\n",
       "      <td>IGLV3-13</td>\n",
       "      <td>IGLJ5</td>\n",
       "      <td>FFSGLVLF</td>\n",
       "      <td>TTTTTTTCTGGTTTGGTTTTGTTT</td>\n",
       "      <td>1</td>\n",
       "    </tr>\n",
       "    <tr>\n",
       "      <th>451243</th>\n",
       "      <td>AGGCTAACATTGGCTCACTATGCA</td>\n",
       "      <td>IGL</td>\n",
       "      <td>IGLV7-43</td>\n",
       "      <td>IGLJ2</td>\n",
       "      <td>CVGYAV</td>\n",
       "      <td>TGCGTGGGCTACGCCGTC</td>\n",
       "      <td>1</td>\n",
       "    </tr>\n",
       "    <tr>\n",
       "      <th>463743</th>\n",
       "      <td>ATTGGCTCCTGGCATACCTAATCC</td>\n",
       "      <td>IGL</td>\n",
       "      <td>IGLV3-16</td>\n",
       "      <td>IGLJ6</td>\n",
       "      <td>CLSADILDCNVL</td>\n",
       "      <td>TGTTTATCAGCAGACATTCTTGATTGTAATGTGTTG</td>\n",
       "      <td>1</td>\n",
       "    </tr>\n",
       "  </tbody>\n",
       "</table>\n",
       "</div>"
      ],
      "text/plain": [
       "                         barcode chain bestVGene bestJGene  \\\n",
       "263976  TGGCTTCAAGAGTCAAAATGTTGC   IGL  IGLV3-12     IGLJ1   \n",
       "290499  GACAGTGCTGAAGAGACTCAATGA   IGL  IGLV4-60     IGLJ3   \n",
       "298295  GAGCTGAAAGTCACTAAAGGACAC   IGL  IGLV5-39     IGLJ1   \n",
       "321187  ACATTGGCATAGCGACTGGTGGTA   IGL  IGLV5-37     IGLJ5   \n",
       "337435  AGATCGCAATCCTGTAACCACTGT   IGL  IGLV5-52     IGLJ4   \n",
       "397281  CACTTCGATCCGTCTACTAAGGTC   IGL  IGLV4-60     IGLJ2   \n",
       "418487  CCATCCTCATCCTGTAAGAGTCAA   IGL  IGLV3-13     IGLJ5   \n",
       "451243  AGGCTAACATTGGCTCACTATGCA   IGL  IGLV7-43     IGLJ2   \n",
       "463743  ATTGGCTCCTGGCATACCTAATCC   IGL  IGLV3-16     IGLJ6   \n",
       "\n",
       "                     aaSeqCDR3  \\\n",
       "263976  WEVWVGGSGRGAVYYDRSGVFF   \n",
       "290499                 CGFWGVL   \n",
       "298295      CANCYGSCILIVCLNYVE   \n",
       "321187               CMIYVDVVF   \n",
       "337435      CGTLDKDFNTFFLFDNVF   \n",
       "397281                IEVLVVVR   \n",
       "418487                FFSGLVLF   \n",
       "451243                  CVGYAV   \n",
       "463743            CLSADILDCNVL   \n",
       "\n",
       "                                                 nSeqCDR3  UMI  \n",
       "263976  TGGGAGGTGTGGGTCGGGGGGAGTGGGAGGGGCGCGGTCTACTATG...    1  \n",
       "290499                              TGTGGGTTTTGGGGGGTGTTA    1  \n",
       "298295  TGTGCTAATTGTTATGGCTCCTGTATTTTGATTGTGTGTTTGAATT...    1  \n",
       "321187                        TGTATGATTTATGTTGATGTTGTGTTT    1  \n",
       "337435  TGTGGTACATTGGACAAAGACTTCAATACATTTTTTTTATTTGATA...    1  \n",
       "397281                           ATTGAGGTGTTGGTTGTGGTAAGA    1  \n",
       "418487                           TTTTTTTCTGGTTTGGTTTTGTTT    1  \n",
       "451243                                 TGCGTGGGCTACGCCGTC    1  \n",
       "463743               TGTTTATCAGCAGACATTCTTGATTGTAATGTGTTG    1  "
      ]
     },
     "execution_count": 30,
     "metadata": {},
     "output_type": "execute_result"
    }
   ],
   "source": [
    "df_cell[df_cell[\"chain\"]==\"IGL\"]"
   ]
  },
  {
   "cell_type": "code",
   "execution_count": 21,
   "id": "solar-sphere",
   "metadata": {},
   "outputs": [],
   "source": [
    "        df_iUMI = df_cell[df_cell.UMI >= 2]\n",
    "        df_confident = df_iUMI[df_iUMI[\"chain\"].isin([\"IGH\", \"IGL\", \"IGK\"])]\n",
    "        df_confident = df_confident.sort_values(\"UMI\", ascending=False)\n",
    "        df_confident = df_confident.groupby(\n",
    "            [\"barcode\", \"chain\"], as_index=False).head(1)"
   ]
  },
  {
   "cell_type": "code",
   "execution_count": 25,
   "id": "ceramic-project",
   "metadata": {},
   "outputs": [
    {
     "data": {
      "text/html": [
       "<div>\n",
       "<style scoped>\n",
       "    .dataframe tbody tr th:only-of-type {\n",
       "        vertical-align: middle;\n",
       "    }\n",
       "\n",
       "    .dataframe tbody tr th {\n",
       "        vertical-align: top;\n",
       "    }\n",
       "\n",
       "    .dataframe thead th {\n",
       "        text-align: right;\n",
       "    }\n",
       "</style>\n",
       "<table border=\"1\" class=\"dataframe\">\n",
       "  <thead>\n",
       "    <tr style=\"text-align: right;\">\n",
       "      <th></th>\n",
       "      <th>barcode</th>\n",
       "      <th>chain</th>\n",
       "      <th>bestVGene</th>\n",
       "      <th>bestJGene</th>\n",
       "      <th>aaSeqCDR3</th>\n",
       "      <th>nSeqCDR3</th>\n",
       "      <th>UMI</th>\n",
       "    </tr>\n",
       "  </thead>\n",
       "  <tbody>\n",
       "    <tr>\n",
       "      <th>0</th>\n",
       "      <td>AAGACGGACTGAGCCATAGGATGA</td>\n",
       "      <td>IGK</td>\n",
       "      <td>IGKV3-20</td>\n",
       "      <td>IGKJ2</td>\n",
       "      <td>CQQYGSSPPYTF</td>\n",
       "      <td>TGTCAGCAGTATGGTAGCTCACCCCCGTACACTTTT</td>\n",
       "      <td>406</td>\n",
       "    </tr>\n",
       "    <tr>\n",
       "      <th>1</th>\n",
       "      <td>GACTAGTAAACAACCATGGCTTCA</td>\n",
       "      <td>IGK</td>\n",
       "      <td>IGKV3-20</td>\n",
       "      <td>IGKJ2</td>\n",
       "      <td>CQQYGSSPPYTF</td>\n",
       "      <td>TGTCAGCAGTATGGTAGCTCACCCCCGTACACTTTT</td>\n",
       "      <td>382</td>\n",
       "    </tr>\n",
       "    <tr>\n",
       "      <th>2</th>\n",
       "      <td>GGAGAACACAGCGTTAGGAGAACA</td>\n",
       "      <td>IGK</td>\n",
       "      <td>IGKV3-20</td>\n",
       "      <td>IGKJ2</td>\n",
       "      <td>CQQYGSSPPYTF</td>\n",
       "      <td>TGTCAGCAGTATGGTAGCTCACCCCCGTACACTTTT</td>\n",
       "      <td>376</td>\n",
       "    </tr>\n",
       "    <tr>\n",
       "      <th>3</th>\n",
       "      <td>AGTCACTACAACCACACGAACTTA</td>\n",
       "      <td>IGK</td>\n",
       "      <td>IGKV3-20</td>\n",
       "      <td>IGKJ2</td>\n",
       "      <td>CQQYGSSPPYTF</td>\n",
       "      <td>TGTCAGCAGTATGGTAGCTCACCCCCGTACACTTTT</td>\n",
       "      <td>350</td>\n",
       "    </tr>\n",
       "    <tr>\n",
       "      <th>4</th>\n",
       "      <td>GAACAGGCACCTCCAACCGTGAGA</td>\n",
       "      <td>IGK</td>\n",
       "      <td>IGKV3-20</td>\n",
       "      <td>IGKJ2</td>\n",
       "      <td>CQQYGSSPPYTF</td>\n",
       "      <td>TGTCAGCAGTATGGTAGCTCACCCCCGTACACTTTT</td>\n",
       "      <td>348</td>\n",
       "    </tr>\n",
       "    <tr>\n",
       "      <th>...</th>\n",
       "      <td>...</td>\n",
       "      <td>...</td>\n",
       "      <td>...</td>\n",
       "      <td>...</td>\n",
       "      <td>...</td>\n",
       "      <td>...</td>\n",
       "      <td>...</td>\n",
       "    </tr>\n",
       "    <tr>\n",
       "      <th>167316</th>\n",
       "      <td>ATAGCGACACGCTCGACGCATACA</td>\n",
       "      <td>IGH</td>\n",
       "      <td>IGHV4-39</td>\n",
       "      <td>IGHJ6</td>\n",
       "      <td>CARGKGADYYDSSGYYYVSYYYYGMDVW</td>\n",
       "      <td>TGTGCGAGAGGCAAGGGCGCCGACTACTATGATAGTAGTGGTTATT...</td>\n",
       "      <td>2</td>\n",
       "    </tr>\n",
       "    <tr>\n",
       "      <th>167378</th>\n",
       "      <td>GAATCTGACGAACTTACCTAATCC</td>\n",
       "      <td>IGH</td>\n",
       "      <td>IGHV4-39</td>\n",
       "      <td>IGHJ6</td>\n",
       "      <td>CARGKGADYYDSSGYYYVSYYYYGMDVW</td>\n",
       "      <td>TGTGCGAGAGGCAAGGGCGCCGACTACTATGATAGTAGTGGTTATT...</td>\n",
       "      <td>2</td>\n",
       "    </tr>\n",
       "    <tr>\n",
       "      <th>168464</th>\n",
       "      <td>CCGTGAGAGGAGAACAGAGCTGAA</td>\n",
       "      <td>IGH</td>\n",
       "      <td>IGHV4-39</td>\n",
       "      <td>IGHJ6</td>\n",
       "      <td>CARGKGADYYDSSGYYYVGYYYYGMDVW</td>\n",
       "      <td>TGTGCGAGAGGCAAGGGCGCCGACTACTATGATAGTAGTGGTTATT...</td>\n",
       "      <td>2</td>\n",
       "    </tr>\n",
       "    <tr>\n",
       "      <th>168664</th>\n",
       "      <td>AGTGGTCACTCAATGAACATTGGC</td>\n",
       "      <td>IGH</td>\n",
       "      <td>IGHV4-39</td>\n",
       "      <td>IGHJ6</td>\n",
       "      <td>CARGKGADYYDSSGYYYVSYYYYGMDVW</td>\n",
       "      <td>TGTGCGAGAGGCAAGGGCGCCGACTACTATGATAGTAGTGGTTATT...</td>\n",
       "      <td>2</td>\n",
       "    </tr>\n",
       "    <tr>\n",
       "      <th>194091</th>\n",
       "      <td>AGCCATGCTGAAGAGAAAGGTACA</td>\n",
       "      <td>IGH</td>\n",
       "      <td>IGHV4-39</td>\n",
       "      <td>IGHJ6</td>\n",
       "      <td>CARGKGADYYDSSGYYYVSYYYYGMDVW</td>\n",
       "      <td>TGTGCGAGAGGCAAGGGCGCCGACTACTATGATAGTAGTGGTTATT...</td>\n",
       "      <td>2</td>\n",
       "    </tr>\n",
       "  </tbody>\n",
       "</table>\n",
       "<p>33327 rows × 7 columns</p>\n",
       "</div>"
      ],
      "text/plain": [
       "                         barcode chain bestVGene bestJGene  \\\n",
       "0       AAGACGGACTGAGCCATAGGATGA   IGK  IGKV3-20     IGKJ2   \n",
       "1       GACTAGTAAACAACCATGGCTTCA   IGK  IGKV3-20     IGKJ2   \n",
       "2       GGAGAACACAGCGTTAGGAGAACA   IGK  IGKV3-20     IGKJ2   \n",
       "3       AGTCACTACAACCACACGAACTTA   IGK  IGKV3-20     IGKJ2   \n",
       "4       GAACAGGCACCTCCAACCGTGAGA   IGK  IGKV3-20     IGKJ2   \n",
       "...                          ...   ...       ...       ...   \n",
       "167316  ATAGCGACACGCTCGACGCATACA   IGH  IGHV4-39     IGHJ6   \n",
       "167378  GAATCTGACGAACTTACCTAATCC   IGH  IGHV4-39     IGHJ6   \n",
       "168464  CCGTGAGAGGAGAACAGAGCTGAA   IGH  IGHV4-39     IGHJ6   \n",
       "168664  AGTGGTCACTCAATGAACATTGGC   IGH  IGHV4-39     IGHJ6   \n",
       "194091  AGCCATGCTGAAGAGAAAGGTACA   IGH  IGHV4-39     IGHJ6   \n",
       "\n",
       "                           aaSeqCDR3  \\\n",
       "0                       CQQYGSSPPYTF   \n",
       "1                       CQQYGSSPPYTF   \n",
       "2                       CQQYGSSPPYTF   \n",
       "3                       CQQYGSSPPYTF   \n",
       "4                       CQQYGSSPPYTF   \n",
       "...                              ...   \n",
       "167316  CARGKGADYYDSSGYYYVSYYYYGMDVW   \n",
       "167378  CARGKGADYYDSSGYYYVSYYYYGMDVW   \n",
       "168464  CARGKGADYYDSSGYYYVGYYYYGMDVW   \n",
       "168664  CARGKGADYYDSSGYYYVSYYYYGMDVW   \n",
       "194091  CARGKGADYYDSSGYYYVSYYYYGMDVW   \n",
       "\n",
       "                                                 nSeqCDR3  UMI  \n",
       "0                    TGTCAGCAGTATGGTAGCTCACCCCCGTACACTTTT  406  \n",
       "1                    TGTCAGCAGTATGGTAGCTCACCCCCGTACACTTTT  382  \n",
       "2                    TGTCAGCAGTATGGTAGCTCACCCCCGTACACTTTT  376  \n",
       "3                    TGTCAGCAGTATGGTAGCTCACCCCCGTACACTTTT  350  \n",
       "4                    TGTCAGCAGTATGGTAGCTCACCCCCGTACACTTTT  348  \n",
       "...                                                   ...  ...  \n",
       "167316  TGTGCGAGAGGCAAGGGCGCCGACTACTATGATAGTAGTGGTTATT...    2  \n",
       "167378  TGTGCGAGAGGCAAGGGCGCCGACTACTATGATAGTAGTGGTTATT...    2  \n",
       "168464  TGTGCGAGAGGCAAGGGCGCCGACTACTATGATAGTAGTGGTTATT...    2  \n",
       "168664  TGTGCGAGAGGCAAGGGCGCCGACTACTATGATAGTAGTGGTTATT...    2  \n",
       "194091  TGTGCGAGAGGCAAGGGCGCCGACTACTATGATAGTAGTGGTTATT...    2  \n",
       "\n",
       "[33327 rows x 7 columns]"
      ]
     },
     "execution_count": 25,
     "metadata": {},
     "output_type": "execute_result"
    }
   ],
   "source": [
    "df_confident"
   ]
  },
  {
   "cell_type": "code",
   "execution_count": 28,
   "id": "careful-sharing",
   "metadata": {},
   "outputs": [
    {
     "data": {
      "text/plain": [
       "{'IGH', 'IGK', 'IGL'}"
      ]
     },
     "execution_count": 28,
     "metadata": {},
     "output_type": "execute_result"
    }
   ],
   "source": [
    "set(df_cell.chain)"
   ]
  },
  {
   "cell_type": "code",
   "execution_count": 23,
   "id": "enclosed-imagination",
   "metadata": {},
   "outputs": [],
   "source": [
    "        df_valid_count = df_confident.set_index([\"barcode\", \"chain\"])\n",
    "        df_valid_count = df_valid_count.unstack()\n",
    "        df_valid_count.columns = ['_'.join(col) for col in df_valid_count]\n",
    "        df_valid_count = df_valid_count.reset_index()\n",
    "        df_valid_count.fillna(inplace=True, value=\"NA\")"
   ]
  },
  {
   "cell_type": "code",
   "execution_count": 36,
   "id": "coral-electronics",
   "metadata": {},
   "outputs": [
    {
     "data": {
      "text/plain": [
       "['aaSeqCDR3_IGH',\n",
       " 'nSeqCDR3_IGH',\n",
       " 'aaSeqCDR3_IGL',\n",
       " 'nSeqCDR3_IGL',\n",
       " 'aaSeqCDR3_IGK',\n",
       " 'nSeqCDR3_IGK']"
      ]
     },
     "execution_count": 36,
     "metadata": {},
     "output_type": "execute_result"
    }
   ],
   "source": [
    "cols"
   ]
  },
  {
   "cell_type": "code",
   "execution_count": 31,
   "id": "norwegian-yorkshire",
   "metadata": {},
   "outputs": [
    {
     "data": {
      "text/html": [
       "<div>\n",
       "<style scoped>\n",
       "    .dataframe tbody tr th:only-of-type {\n",
       "        vertical-align: middle;\n",
       "    }\n",
       "\n",
       "    .dataframe tbody tr th {\n",
       "        vertical-align: top;\n",
       "    }\n",
       "\n",
       "    .dataframe thead th {\n",
       "        text-align: right;\n",
       "    }\n",
       "</style>\n",
       "<table border=\"1\" class=\"dataframe\">\n",
       "  <thead>\n",
       "    <tr style=\"text-align: right;\">\n",
       "      <th></th>\n",
       "      <th>barcode</th>\n",
       "      <th>bestVGene_IGH</th>\n",
       "      <th>bestVGene_IGK</th>\n",
       "      <th>bestJGene_IGH</th>\n",
       "      <th>bestJGene_IGK</th>\n",
       "      <th>aaSeqCDR3_IGH</th>\n",
       "      <th>aaSeqCDR3_IGK</th>\n",
       "      <th>nSeqCDR3_IGH</th>\n",
       "      <th>nSeqCDR3_IGK</th>\n",
       "      <th>UMI_IGH</th>\n",
       "      <th>UMI_IGK</th>\n",
       "    </tr>\n",
       "  </thead>\n",
       "  <tbody>\n",
       "    <tr>\n",
       "      <th>0</th>\n",
       "      <td>AAACATCGAACAACCACAGCGTTA</td>\n",
       "      <td>IGHV4-39</td>\n",
       "      <td>IGKV3-20</td>\n",
       "      <td>IGHJ6</td>\n",
       "      <td>IGKJ2</td>\n",
       "      <td>CARGKGADYYDSSGYYYVSYYYYGMDVW</td>\n",
       "      <td>CQQYGSSPPYTF</td>\n",
       "      <td>TGTGCGAGAGGCAAGGGCGCCGACTACTATGATAGTAGTGGTTATT...</td>\n",
       "      <td>TGTCAGCAGTATGGTAGCTCACCCCCGTACACTTTT</td>\n",
       "      <td>65.0</td>\n",
       "      <td>143.0</td>\n",
       "    </tr>\n",
       "    <tr>\n",
       "      <th>1</th>\n",
       "      <td>AAACATCGAACCGAGACCGTGAGA</td>\n",
       "      <td>IGHV4-39</td>\n",
       "      <td>IGKV3-20</td>\n",
       "      <td>IGHJ6</td>\n",
       "      <td>IGKJ2</td>\n",
       "      <td>CARGKGADYYDSSGYYYVSYYYYGMDVW</td>\n",
       "      <td>CQQYGSSPPYTF</td>\n",
       "      <td>TGTGCGAGAGGCAAGGGCGCCGACTACTATGATAGTAGTGGTTATT...</td>\n",
       "      <td>TGTCAGCAGTATGGTAGCTCACCCCCGTACACTTTT</td>\n",
       "      <td>71.0</td>\n",
       "      <td>105.0</td>\n",
       "    </tr>\n",
       "    <tr>\n",
       "      <th>2</th>\n",
       "      <td>AAACATCGAACGCTTAAGTACAAG</td>\n",
       "      <td>IGHV4-39</td>\n",
       "      <td>IGKV3-20</td>\n",
       "      <td>IGHJ6</td>\n",
       "      <td>IGKJ2</td>\n",
       "      <td>CARGKGADYYDSSGYYYVSYYYYGMDVW</td>\n",
       "      <td>CQQYGSSPPYTF</td>\n",
       "      <td>TGTGCGAGAGGCAAGGGCGCCGACTACTATGATAGTAGTGGTTATT...</td>\n",
       "      <td>TGTCAGCAGTATGGTAGCTCACCCCCGTACACTTTT</td>\n",
       "      <td>36.0</td>\n",
       "      <td>82.0</td>\n",
       "    </tr>\n",
       "    <tr>\n",
       "      <th>3</th>\n",
       "      <td>AAACATCGAACGTGATCTCAATGA</td>\n",
       "      <td>IGHV4-39</td>\n",
       "      <td>IGKV3-20</td>\n",
       "      <td>IGHJ6</td>\n",
       "      <td>IGKJ2</td>\n",
       "      <td>CARGKGADYYDSSGYYYVSYYYYGMDVW</td>\n",
       "      <td>CQQYGSSPPYTF</td>\n",
       "      <td>TGTGCGAGAGGCAAGGGCGCCGACTACTATGATAGTAGTGGTTATT...</td>\n",
       "      <td>TGTCAGCAGTATGGTAGCTCACCCCCGTACACTTTT</td>\n",
       "      <td>71.0</td>\n",
       "      <td>98.0</td>\n",
       "    </tr>\n",
       "    <tr>\n",
       "      <th>4</th>\n",
       "      <td>AAACATCGAACTCACCAAACATCG</td>\n",
       "      <td>IGHV4-39</td>\n",
       "      <td>IGKV3-20</td>\n",
       "      <td>IGHJ6</td>\n",
       "      <td>IGKJ2</td>\n",
       "      <td>CARGKGADYYDSSGYYYVSYYYYGMDVW</td>\n",
       "      <td>CQQYGSSPPYTF</td>\n",
       "      <td>TGTGCGAGAGGCAAGGGCGCCGACTACTATGATAGTAGTGGTTATT...</td>\n",
       "      <td>TGTCAGCAGTATGGTAGCTCACCCCCGTACACTTTT</td>\n",
       "      <td>22.0</td>\n",
       "      <td>61.0</td>\n",
       "    </tr>\n",
       "    <tr>\n",
       "      <th>...</th>\n",
       "      <td>...</td>\n",
       "      <td>...</td>\n",
       "      <td>...</td>\n",
       "      <td>...</td>\n",
       "      <td>...</td>\n",
       "      <td>...</td>\n",
       "      <td>...</td>\n",
       "      <td>...</td>\n",
       "      <td>...</td>\n",
       "      <td>...</td>\n",
       "      <td>...</td>\n",
       "    </tr>\n",
       "    <tr>\n",
       "      <th>16698</th>\n",
       "      <td>TTCACGCATGGCTTCAATCATTCC</td>\n",
       "      <td>IGHV4-39</td>\n",
       "      <td>IGKV3-20</td>\n",
       "      <td>IGHJ6</td>\n",
       "      <td>IGKJ2</td>\n",
       "      <td>CARGKGADYYDSSGYYYVSYYYYGMDVW</td>\n",
       "      <td>CQQYGSSPPYTF</td>\n",
       "      <td>TGTGCGAGAGGCAAGGGCGCCGACTACTATGATAGTAGTGGTTATT...</td>\n",
       "      <td>TGTCAGCAGTATGGTAGCTCACCCCCGTACACTTTT</td>\n",
       "      <td>27.0</td>\n",
       "      <td>44.0</td>\n",
       "    </tr>\n",
       "    <tr>\n",
       "      <th>16699</th>\n",
       "      <td>TTCACGCATGGTGGTAACGTATCA</td>\n",
       "      <td>IGHV4-39</td>\n",
       "      <td>IGKV3-20</td>\n",
       "      <td>IGHJ6</td>\n",
       "      <td>IGKJ2</td>\n",
       "      <td>CARGKGADYYDSSGYYYVSYYYYGMDVW</td>\n",
       "      <td>CQQYGSSPPYTF</td>\n",
       "      <td>TGTGCGAGAGGCAAGGGCGCCGACTACTATGATAGTAGTGGTTATT...</td>\n",
       "      <td>TGTCAGCAGTATGGTAGCTCACCCCCGTACACTTTT</td>\n",
       "      <td>31.0</td>\n",
       "      <td>53.0</td>\n",
       "    </tr>\n",
       "    <tr>\n",
       "      <th>16700</th>\n",
       "      <td>TTCACGCATGGTGGTACAAGGAGC</td>\n",
       "      <td>IGHV4-39</td>\n",
       "      <td>IGKV3-20</td>\n",
       "      <td>IGHJ6</td>\n",
       "      <td>IGKJ2</td>\n",
       "      <td>CARGKGADYYDSSGYYYVSYYYYGMDVW</td>\n",
       "      <td>CQQYGSSPPYTF</td>\n",
       "      <td>TGTGCGAGAGGCAAGGGCGCCGACTACTATGATAGTAGTGGTTATT...</td>\n",
       "      <td>TGTCAGCAGTATGGTAGCTCACCCCCGTACACTTTT</td>\n",
       "      <td>28.0</td>\n",
       "      <td>53.0</td>\n",
       "    </tr>\n",
       "    <tr>\n",
       "      <th>16701</th>\n",
       "      <td>TTCACGCATTCACGCAGCCACATA</td>\n",
       "      <td>IGHV4-39</td>\n",
       "      <td>IGKV3-20</td>\n",
       "      <td>IGHJ6</td>\n",
       "      <td>IGKJ2</td>\n",
       "      <td>CARGKGADYYDSSGYYYVSYYYYGMDVW</td>\n",
       "      <td>CQQYGSSPPYTF</td>\n",
       "      <td>TGTGCGAGAGGCAAGGGCGCCGACTACTATGATAGTAGTGGTTATT...</td>\n",
       "      <td>TGTCAGCAGTATGGTAGCTCACCCCCGTACACTTTT</td>\n",
       "      <td>26.0</td>\n",
       "      <td>109.0</td>\n",
       "    </tr>\n",
       "    <tr>\n",
       "      <th>16702</th>\n",
       "      <td>TTCACGCATTCACGCATCCGTCTA</td>\n",
       "      <td>IGHV4-39</td>\n",
       "      <td>IGKV3-20</td>\n",
       "      <td>IGHJ6</td>\n",
       "      <td>IGKJ2</td>\n",
       "      <td>CARGKGADYYDSSGYYYVSYYYYGMDVW</td>\n",
       "      <td>CQQYGSSPPYTF</td>\n",
       "      <td>TGTGCGAGAGGCAAGGGCGCCGACTACTATGATAGTAGTGGTTATT...</td>\n",
       "      <td>TGTCAGCAGTATGGTAGCTCACCCCCGTACACTTTT</td>\n",
       "      <td>31.0</td>\n",
       "      <td>71.0</td>\n",
       "    </tr>\n",
       "  </tbody>\n",
       "</table>\n",
       "<p>16703 rows × 11 columns</p>\n",
       "</div>"
      ],
      "text/plain": [
       "                        barcode bestVGene_IGH bestVGene_IGK bestJGene_IGH  \\\n",
       "0      AAACATCGAACAACCACAGCGTTA      IGHV4-39      IGKV3-20         IGHJ6   \n",
       "1      AAACATCGAACCGAGACCGTGAGA      IGHV4-39      IGKV3-20         IGHJ6   \n",
       "2      AAACATCGAACGCTTAAGTACAAG      IGHV4-39      IGKV3-20         IGHJ6   \n",
       "3      AAACATCGAACGTGATCTCAATGA      IGHV4-39      IGKV3-20         IGHJ6   \n",
       "4      AAACATCGAACTCACCAAACATCG      IGHV4-39      IGKV3-20         IGHJ6   \n",
       "...                         ...           ...           ...           ...   \n",
       "16698  TTCACGCATGGCTTCAATCATTCC      IGHV4-39      IGKV3-20         IGHJ6   \n",
       "16699  TTCACGCATGGTGGTAACGTATCA      IGHV4-39      IGKV3-20         IGHJ6   \n",
       "16700  TTCACGCATGGTGGTACAAGGAGC      IGHV4-39      IGKV3-20         IGHJ6   \n",
       "16701  TTCACGCATTCACGCAGCCACATA      IGHV4-39      IGKV3-20         IGHJ6   \n",
       "16702  TTCACGCATTCACGCATCCGTCTA      IGHV4-39      IGKV3-20         IGHJ6   \n",
       "\n",
       "      bestJGene_IGK                 aaSeqCDR3_IGH aaSeqCDR3_IGK  \\\n",
       "0             IGKJ2  CARGKGADYYDSSGYYYVSYYYYGMDVW  CQQYGSSPPYTF   \n",
       "1             IGKJ2  CARGKGADYYDSSGYYYVSYYYYGMDVW  CQQYGSSPPYTF   \n",
       "2             IGKJ2  CARGKGADYYDSSGYYYVSYYYYGMDVW  CQQYGSSPPYTF   \n",
       "3             IGKJ2  CARGKGADYYDSSGYYYVSYYYYGMDVW  CQQYGSSPPYTF   \n",
       "4             IGKJ2  CARGKGADYYDSSGYYYVSYYYYGMDVW  CQQYGSSPPYTF   \n",
       "...             ...                           ...           ...   \n",
       "16698         IGKJ2  CARGKGADYYDSSGYYYVSYYYYGMDVW  CQQYGSSPPYTF   \n",
       "16699         IGKJ2  CARGKGADYYDSSGYYYVSYYYYGMDVW  CQQYGSSPPYTF   \n",
       "16700         IGKJ2  CARGKGADYYDSSGYYYVSYYYYGMDVW  CQQYGSSPPYTF   \n",
       "16701         IGKJ2  CARGKGADYYDSSGYYYVSYYYYGMDVW  CQQYGSSPPYTF   \n",
       "16702         IGKJ2  CARGKGADYYDSSGYYYVSYYYYGMDVW  CQQYGSSPPYTF   \n",
       "\n",
       "                                            nSeqCDR3_IGH  \\\n",
       "0      TGTGCGAGAGGCAAGGGCGCCGACTACTATGATAGTAGTGGTTATT...   \n",
       "1      TGTGCGAGAGGCAAGGGCGCCGACTACTATGATAGTAGTGGTTATT...   \n",
       "2      TGTGCGAGAGGCAAGGGCGCCGACTACTATGATAGTAGTGGTTATT...   \n",
       "3      TGTGCGAGAGGCAAGGGCGCCGACTACTATGATAGTAGTGGTTATT...   \n",
       "4      TGTGCGAGAGGCAAGGGCGCCGACTACTATGATAGTAGTGGTTATT...   \n",
       "...                                                  ...   \n",
       "16698  TGTGCGAGAGGCAAGGGCGCCGACTACTATGATAGTAGTGGTTATT...   \n",
       "16699  TGTGCGAGAGGCAAGGGCGCCGACTACTATGATAGTAGTGGTTATT...   \n",
       "16700  TGTGCGAGAGGCAAGGGCGCCGACTACTATGATAGTAGTGGTTATT...   \n",
       "16701  TGTGCGAGAGGCAAGGGCGCCGACTACTATGATAGTAGTGGTTATT...   \n",
       "16702  TGTGCGAGAGGCAAGGGCGCCGACTACTATGATAGTAGTGGTTATT...   \n",
       "\n",
       "                               nSeqCDR3_IGK UMI_IGH  UMI_IGK  \n",
       "0      TGTCAGCAGTATGGTAGCTCACCCCCGTACACTTTT    65.0    143.0  \n",
       "1      TGTCAGCAGTATGGTAGCTCACCCCCGTACACTTTT    71.0    105.0  \n",
       "2      TGTCAGCAGTATGGTAGCTCACCCCCGTACACTTTT    36.0     82.0  \n",
       "3      TGTCAGCAGTATGGTAGCTCACCCCCGTACACTTTT    71.0     98.0  \n",
       "4      TGTCAGCAGTATGGTAGCTCACCCCCGTACACTTTT    22.0     61.0  \n",
       "...                                     ...     ...      ...  \n",
       "16698  TGTCAGCAGTATGGTAGCTCACCCCCGTACACTTTT    27.0     44.0  \n",
       "16699  TGTCAGCAGTATGGTAGCTCACCCCCGTACACTTTT    31.0     53.0  \n",
       "16700  TGTCAGCAGTATGGTAGCTCACCCCCGTACACTTTT    28.0     53.0  \n",
       "16701  TGTCAGCAGTATGGTAGCTCACCCCCGTACACTTTT    26.0    109.0  \n",
       "16702  TGTCAGCAGTATGGTAGCTCACCCCCGTACACTTTT    31.0     71.0  \n",
       "\n",
       "[16703 rows x 11 columns]"
      ]
     },
     "execution_count": 31,
     "metadata": {},
     "output_type": "execute_result"
    }
   ],
   "source": [
    "df_valid_count"
   ]
  },
  {
   "cell_type": "code",
   "execution_count": 35,
   "id": "static-offer",
   "metadata": {},
   "outputs": [
    {
     "ename": "KeyError",
     "evalue": "'aaSeqCDR3_IGL'",
     "output_type": "error",
     "traceback": [
      "\u001b[0;31m---------------------------------------------------------------------------\u001b[0m",
      "\u001b[0;31mKeyError\u001b[0m                                  Traceback (most recent call last)",
      "Input \u001b[0;32mIn [35]\u001b[0m, in \u001b[0;36m<cell line: 2>\u001b[0;34m()\u001b[0m\n\u001b[1;32m      1\u001b[0m df_clonetypes \u001b[38;5;241m=\u001b[39m df_valid_count\u001b[38;5;241m.\u001b[39mcopy()\n\u001b[0;32m----> 2\u001b[0m df_clonetypes \u001b[38;5;241m=\u001b[39m \u001b[43mdf_clonetypes\u001b[49m\u001b[38;5;241;43m.\u001b[39;49m\u001b[43mgroupby\u001b[49m\u001b[43m(\u001b[49m\u001b[43mcols\u001b[49m\u001b[43m,\u001b[49m\u001b[43m \u001b[49m\u001b[43mas_index\u001b[49m\u001b[38;5;241;43m=\u001b[39;49m\u001b[38;5;28;43;01mFalse\u001b[39;49;00m\u001b[43m)\u001b[49m\u001b[38;5;241m.\u001b[39magg({\n\u001b[1;32m      3\u001b[0m     \u001b[38;5;124m\"\u001b[39m\u001b[38;5;124mbarcode\u001b[39m\u001b[38;5;124m\"\u001b[39m: \u001b[38;5;124m\"\u001b[39m\u001b[38;5;124mcount\u001b[39m\u001b[38;5;124m\"\u001b[39m})\n",
      "File \u001b[0;32m/SGRNJ/Public/Software/conda_env/refactor_Trust/lib/python3.9/site-packages/pandas/core/frame.py:7712\u001b[0m, in \u001b[0;36mDataFrame.groupby\u001b[0;34m(self, by, axis, level, as_index, sort, group_keys, squeeze, observed, dropna)\u001b[0m\n\u001b[1;32m   7707\u001b[0m axis \u001b[38;5;241m=\u001b[39m \u001b[38;5;28mself\u001b[39m\u001b[38;5;241m.\u001b[39m_get_axis_number(axis)\n\u001b[1;32m   7709\u001b[0m \u001b[38;5;66;03m# https://github.com/python/mypy/issues/7642\u001b[39;00m\n\u001b[1;32m   7710\u001b[0m \u001b[38;5;66;03m# error: Argument \"squeeze\" to \"DataFrameGroupBy\" has incompatible type\u001b[39;00m\n\u001b[1;32m   7711\u001b[0m \u001b[38;5;66;03m# \"Union[bool, NoDefault]\"; expected \"bool\"\u001b[39;00m\n\u001b[0;32m-> 7712\u001b[0m \u001b[38;5;28;01mreturn\u001b[39;00m \u001b[43mDataFrameGroupBy\u001b[49m\u001b[43m(\u001b[49m\n\u001b[1;32m   7713\u001b[0m \u001b[43m    \u001b[49m\u001b[43mobj\u001b[49m\u001b[38;5;241;43m=\u001b[39;49m\u001b[38;5;28;43mself\u001b[39;49m\u001b[43m,\u001b[49m\n\u001b[1;32m   7714\u001b[0m \u001b[43m    \u001b[49m\u001b[43mkeys\u001b[49m\u001b[38;5;241;43m=\u001b[39;49m\u001b[43mby\u001b[49m\u001b[43m,\u001b[49m\n\u001b[1;32m   7715\u001b[0m \u001b[43m    \u001b[49m\u001b[43maxis\u001b[49m\u001b[38;5;241;43m=\u001b[39;49m\u001b[43maxis\u001b[49m\u001b[43m,\u001b[49m\n\u001b[1;32m   7716\u001b[0m \u001b[43m    \u001b[49m\u001b[43mlevel\u001b[49m\u001b[38;5;241;43m=\u001b[39;49m\u001b[43mlevel\u001b[49m\u001b[43m,\u001b[49m\n\u001b[1;32m   7717\u001b[0m \u001b[43m    \u001b[49m\u001b[43mas_index\u001b[49m\u001b[38;5;241;43m=\u001b[39;49m\u001b[43mas_index\u001b[49m\u001b[43m,\u001b[49m\n\u001b[1;32m   7718\u001b[0m \u001b[43m    \u001b[49m\u001b[43msort\u001b[49m\u001b[38;5;241;43m=\u001b[39;49m\u001b[43msort\u001b[49m\u001b[43m,\u001b[49m\n\u001b[1;32m   7719\u001b[0m \u001b[43m    \u001b[49m\u001b[43mgroup_keys\u001b[49m\u001b[38;5;241;43m=\u001b[39;49m\u001b[43mgroup_keys\u001b[49m\u001b[43m,\u001b[49m\n\u001b[1;32m   7720\u001b[0m \u001b[43m    \u001b[49m\u001b[43msqueeze\u001b[49m\u001b[38;5;241;43m=\u001b[39;49m\u001b[43msqueeze\u001b[49m\u001b[43m,\u001b[49m\u001b[43m  \u001b[49m\u001b[38;5;66;43;03m# type: ignore[arg-type]\u001b[39;49;00m\n\u001b[1;32m   7721\u001b[0m \u001b[43m    \u001b[49m\u001b[43mobserved\u001b[49m\u001b[38;5;241;43m=\u001b[39;49m\u001b[43mobserved\u001b[49m\u001b[43m,\u001b[49m\n\u001b[1;32m   7722\u001b[0m \u001b[43m    \u001b[49m\u001b[43mdropna\u001b[49m\u001b[38;5;241;43m=\u001b[39;49m\u001b[43mdropna\u001b[49m\u001b[43m,\u001b[49m\n\u001b[1;32m   7723\u001b[0m \u001b[43m\u001b[49m\u001b[43m)\u001b[49m\n",
      "File \u001b[0;32m/SGRNJ/Public/Software/conda_env/refactor_Trust/lib/python3.9/site-packages/pandas/core/groupby/groupby.py:882\u001b[0m, in \u001b[0;36mGroupBy.__init__\u001b[0;34m(self, obj, keys, axis, level, grouper, exclusions, selection, as_index, sort, group_keys, squeeze, observed, mutated, dropna)\u001b[0m\n\u001b[1;32m    879\u001b[0m \u001b[38;5;28;01mif\u001b[39;00m grouper \u001b[38;5;129;01mis\u001b[39;00m \u001b[38;5;28;01mNone\u001b[39;00m:\n\u001b[1;32m    880\u001b[0m     \u001b[38;5;28;01mfrom\u001b[39;00m \u001b[38;5;21;01mpandas\u001b[39;00m\u001b[38;5;21;01m.\u001b[39;00m\u001b[38;5;21;01mcore\u001b[39;00m\u001b[38;5;21;01m.\u001b[39;00m\u001b[38;5;21;01mgroupby\u001b[39;00m\u001b[38;5;21;01m.\u001b[39;00m\u001b[38;5;21;01mgrouper\u001b[39;00m \u001b[38;5;28;01mimport\u001b[39;00m get_grouper\n\u001b[0;32m--> 882\u001b[0m     grouper, exclusions, obj \u001b[38;5;241m=\u001b[39m \u001b[43mget_grouper\u001b[49m\u001b[43m(\u001b[49m\n\u001b[1;32m    883\u001b[0m \u001b[43m        \u001b[49m\u001b[43mobj\u001b[49m\u001b[43m,\u001b[49m\n\u001b[1;32m    884\u001b[0m \u001b[43m        \u001b[49m\u001b[43mkeys\u001b[49m\u001b[43m,\u001b[49m\n\u001b[1;32m    885\u001b[0m \u001b[43m        \u001b[49m\u001b[43maxis\u001b[49m\u001b[38;5;241;43m=\u001b[39;49m\u001b[43maxis\u001b[49m\u001b[43m,\u001b[49m\n\u001b[1;32m    886\u001b[0m \u001b[43m        \u001b[49m\u001b[43mlevel\u001b[49m\u001b[38;5;241;43m=\u001b[39;49m\u001b[43mlevel\u001b[49m\u001b[43m,\u001b[49m\n\u001b[1;32m    887\u001b[0m \u001b[43m        \u001b[49m\u001b[43msort\u001b[49m\u001b[38;5;241;43m=\u001b[39;49m\u001b[43msort\u001b[49m\u001b[43m,\u001b[49m\n\u001b[1;32m    888\u001b[0m \u001b[43m        \u001b[49m\u001b[43mobserved\u001b[49m\u001b[38;5;241;43m=\u001b[39;49m\u001b[43mobserved\u001b[49m\u001b[43m,\u001b[49m\n\u001b[1;32m    889\u001b[0m \u001b[43m        \u001b[49m\u001b[43mmutated\u001b[49m\u001b[38;5;241;43m=\u001b[39;49m\u001b[38;5;28;43mself\u001b[39;49m\u001b[38;5;241;43m.\u001b[39;49m\u001b[43mmutated\u001b[49m\u001b[43m,\u001b[49m\n\u001b[1;32m    890\u001b[0m \u001b[43m        \u001b[49m\u001b[43mdropna\u001b[49m\u001b[38;5;241;43m=\u001b[39;49m\u001b[38;5;28;43mself\u001b[39;49m\u001b[38;5;241;43m.\u001b[39;49m\u001b[43mdropna\u001b[49m\u001b[43m,\u001b[49m\n\u001b[1;32m    891\u001b[0m \u001b[43m    \u001b[49m\u001b[43m)\u001b[49m\n\u001b[1;32m    893\u001b[0m \u001b[38;5;28mself\u001b[39m\u001b[38;5;241m.\u001b[39mobj \u001b[38;5;241m=\u001b[39m obj\n\u001b[1;32m    894\u001b[0m \u001b[38;5;28mself\u001b[39m\u001b[38;5;241m.\u001b[39maxis \u001b[38;5;241m=\u001b[39m obj\u001b[38;5;241m.\u001b[39m_get_axis_number(axis)\n",
      "File \u001b[0;32m/SGRNJ/Public/Software/conda_env/refactor_Trust/lib/python3.9/site-packages/pandas/core/groupby/grouper.py:882\u001b[0m, in \u001b[0;36mget_grouper\u001b[0;34m(obj, key, axis, level, sort, observed, mutated, validate, dropna)\u001b[0m\n\u001b[1;32m    880\u001b[0m         in_axis, level, gpr \u001b[38;5;241m=\u001b[39m \u001b[38;5;28;01mFalse\u001b[39;00m, gpr, \u001b[38;5;28;01mNone\u001b[39;00m\n\u001b[1;32m    881\u001b[0m     \u001b[38;5;28;01melse\u001b[39;00m:\n\u001b[0;32m--> 882\u001b[0m         \u001b[38;5;28;01mraise\u001b[39;00m \u001b[38;5;167;01mKeyError\u001b[39;00m(gpr)\n\u001b[1;32m    883\u001b[0m \u001b[38;5;28;01melif\u001b[39;00m \u001b[38;5;28misinstance\u001b[39m(gpr, Grouper) \u001b[38;5;129;01mand\u001b[39;00m gpr\u001b[38;5;241m.\u001b[39mkey \u001b[38;5;129;01mis\u001b[39;00m \u001b[38;5;129;01mnot\u001b[39;00m \u001b[38;5;28;01mNone\u001b[39;00m:\n\u001b[1;32m    884\u001b[0m     \u001b[38;5;66;03m# Add key to exclusions\u001b[39;00m\n\u001b[1;32m    885\u001b[0m     exclusions\u001b[38;5;241m.\u001b[39madd(gpr\u001b[38;5;241m.\u001b[39mkey)\n",
      "\u001b[0;31mKeyError\u001b[0m: 'aaSeqCDR3_IGL'"
     ]
    }
   ],
   "source": [
    "        df_clonetypes = df_valid_count.copy()\n",
    "        df_clonetypes = df_clonetypes.groupby(cols, as_index=False).agg({\n",
    "            \"barcode\": \"count\"})"
   ]
  },
  {
   "cell_type": "code",
   "execution_count": 34,
   "id": "opened-officer",
   "metadata": {},
   "outputs": [
    {
     "data": {
      "text/plain": [
       "['aaSeqCDR3_IGH',\n",
       " 'nSeqCDR3_IGH',\n",
       " 'aaSeqCDR3_IGL',\n",
       " 'nSeqCDR3_IGL',\n",
       " 'aaSeqCDR3_IGK',\n",
       " 'nSeqCDR3_IGK']"
      ]
     },
     "execution_count": 34,
     "metadata": {},
     "output_type": "execute_result"
    }
   ],
   "source": [
    "cols"
   ]
  },
  {
   "cell_type": "code",
   "execution_count": null,
   "id": "eligible-hormone",
   "metadata": {},
   "outputs": [],
   "source": []
  },
  {
   "cell_type": "code",
   "execution_count": 37,
   "id": "nutritional-riding",
   "metadata": {},
   "outputs": [],
   "source": [
    "a = pd.read_csv(\"/SGRNJ06/randd/USER/cjj/celedev/vdj_bulk/20221221/Hum_1212PBMC_1w_2_5TCR/02.mapping_vdj/Hum_1212PBMC_1w_2_5TCR_airr.tsv\",sep='\\t')"
   ]
  },
  {
   "cell_type": "code",
   "execution_count": 41,
   "id": "differential-hawaiian",
   "metadata": {},
   "outputs": [],
   "source": [
    "b = a[['v_call','d_call','j_call']]"
   ]
  },
  {
   "cell_type": "code",
   "execution_count": 44,
   "id": "wanted-portsmouth",
   "metadata": {},
   "outputs": [],
   "source": [
    "b = b.fillna(\"\")"
   ]
  },
  {
   "cell_type": "code",
   "execution_count": 45,
   "id": "representative-detroit",
   "metadata": {},
   "outputs": [
    {
     "data": {
      "text/html": [
       "<div>\n",
       "<style scoped>\n",
       "    .dataframe tbody tr th:only-of-type {\n",
       "        vertical-align: middle;\n",
       "    }\n",
       "\n",
       "    .dataframe tbody tr th {\n",
       "        vertical-align: top;\n",
       "    }\n",
       "\n",
       "    .dataframe thead th {\n",
       "        text-align: right;\n",
       "    }\n",
       "</style>\n",
       "<table border=\"1\" class=\"dataframe\">\n",
       "  <thead>\n",
       "    <tr style=\"text-align: right;\">\n",
       "      <th></th>\n",
       "      <th>v_call</th>\n",
       "      <th>d_call</th>\n",
       "      <th>j_call</th>\n",
       "    </tr>\n",
       "  </thead>\n",
       "  <tbody>\n",
       "    <tr>\n",
       "      <th>0</th>\n",
       "      <td>TRAV12-1*01,TRAV12-1*02</td>\n",
       "      <td></td>\n",
       "      <td></td>\n",
       "    </tr>\n",
       "    <tr>\n",
       "      <th>1</th>\n",
       "      <td>TRBV23-1*01</td>\n",
       "      <td></td>\n",
       "      <td></td>\n",
       "    </tr>\n",
       "    <tr>\n",
       "      <th>2</th>\n",
       "      <td>TRBV28*01</td>\n",
       "      <td></td>\n",
       "      <td></td>\n",
       "    </tr>\n",
       "    <tr>\n",
       "      <th>3</th>\n",
       "      <td>TRBV28*01</td>\n",
       "      <td></td>\n",
       "      <td></td>\n",
       "    </tr>\n",
       "    <tr>\n",
       "      <th>4</th>\n",
       "      <td>TRBV6-5*01</td>\n",
       "      <td>TRBD1*01</td>\n",
       "      <td>TRBJ2-7*01</td>\n",
       "    </tr>\n",
       "    <tr>\n",
       "      <th>...</th>\n",
       "      <td>...</td>\n",
       "      <td>...</td>\n",
       "      <td>...</td>\n",
       "    </tr>\n",
       "    <tr>\n",
       "      <th>15280229</th>\n",
       "      <td>TRAV18*01</td>\n",
       "      <td></td>\n",
       "      <td>TRAJ35*01</td>\n",
       "    </tr>\n",
       "    <tr>\n",
       "      <th>15280230</th>\n",
       "      <td>TRAV38-2/DV8*01</td>\n",
       "      <td></td>\n",
       "      <td>TRAJ48*01</td>\n",
       "    </tr>\n",
       "    <tr>\n",
       "      <th>15280231</th>\n",
       "      <td>TRBV20-1*01,TRBV20-1*02,TRBV20-1*03</td>\n",
       "      <td>TRBD1*01,TRBD2*02</td>\n",
       "      <td>TRBJ2-7*01</td>\n",
       "    </tr>\n",
       "    <tr>\n",
       "      <th>15280232</th>\n",
       "      <td>TRAV38-2/DV8*01</td>\n",
       "      <td></td>\n",
       "      <td></td>\n",
       "    </tr>\n",
       "    <tr>\n",
       "      <th>15280233</th>\n",
       "      <td>TRAV29/DV5*01,TRAV29/DV5*02,TRAV29/DV5*04</td>\n",
       "      <td></td>\n",
       "      <td></td>\n",
       "    </tr>\n",
       "  </tbody>\n",
       "</table>\n",
       "<p>15280234 rows × 3 columns</p>\n",
       "</div>"
      ],
      "text/plain": [
       "                                             v_call             d_call  \\\n",
       "0                           TRAV12-1*01,TRAV12-1*02                      \n",
       "1                                       TRBV23-1*01                      \n",
       "2                                         TRBV28*01                      \n",
       "3                                         TRBV28*01                      \n",
       "4                                        TRBV6-5*01           TRBD1*01   \n",
       "...                                             ...                ...   \n",
       "15280229                                  TRAV18*01                      \n",
       "15280230                            TRAV38-2/DV8*01                      \n",
       "15280231        TRBV20-1*01,TRBV20-1*02,TRBV20-1*03  TRBD1*01,TRBD2*02   \n",
       "15280232                            TRAV38-2/DV8*01                      \n",
       "15280233  TRAV29/DV5*01,TRAV29/DV5*02,TRAV29/DV5*04                      \n",
       "\n",
       "              j_call  \n",
       "0                     \n",
       "1                     \n",
       "2                     \n",
       "3                     \n",
       "4         TRBJ2-7*01  \n",
       "...              ...  \n",
       "15280229   TRAJ35*01  \n",
       "15280230   TRAJ48*01  \n",
       "15280231  TRBJ2-7*01  \n",
       "15280232              \n",
       "15280233              \n",
       "\n",
       "[15280234 rows x 3 columns]"
      ]
     },
     "execution_count": 45,
     "metadata": {},
     "output_type": "execute_result"
    }
   ],
   "source": [
    "b"
   ]
  },
  {
   "cell_type": "code",
   "execution_count": 47,
   "id": "impressed-leisure",
   "metadata": {},
   "outputs": [
    {
     "data": {
      "text/plain": [
       "15267771"
      ]
     },
     "execution_count": 47,
     "metadata": {},
     "output_type": "execute_result"
    }
   ],
   "source": [
    "b[b['v_call']!=\"\"].shape[0]"
   ]
  },
  {
   "cell_type": "code",
   "execution_count": 48,
   "id": "gothic-nursing",
   "metadata": {},
   "outputs": [
    {
     "data": {
      "text/plain": [
       "1962250"
      ]
     },
     "execution_count": 48,
     "metadata": {},
     "output_type": "execute_result"
    }
   ],
   "source": [
    "b[b['d_call']!=\"\"].shape[0]"
   ]
  },
  {
   "cell_type": "code",
   "execution_count": 50,
   "id": "surprised-stopping",
   "metadata": {},
   "outputs": [
    {
     "data": {
      "text/plain": [
       "5113360"
      ]
     },
     "execution_count": 50,
     "metadata": {},
     "output_type": "execute_result"
    }
   ],
   "source": [
    "b[b['j_call']!=\"\"].shape[0]"
   ]
  },
  {
   "cell_type": "code",
   "execution_count": null,
   "id": "disturbed-ordinary",
   "metadata": {},
   "outputs": [],
   "source": []
  }
 ],
 "metadata": {
  "kernelspec": {
   "display_name": "cele1.11",
   "language": "python",
   "name": "refactor_trust"
  },
  "language_info": {
   "codemirror_mode": {
    "name": "ipython",
    "version": 3
   },
   "file_extension": ".py",
   "mimetype": "text/x-python",
   "name": "python",
   "nbconvert_exporter": "python",
   "pygments_lexer": "ipython3",
   "version": "3.9.0"
  }
 },
 "nbformat": 4,
 "nbformat_minor": 5
}
