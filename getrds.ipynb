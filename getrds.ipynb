{
 "cells": [
  {
   "cell_type": "code",
   "execution_count": 1,
   "id": "elementary-alert",
   "metadata": {},
   "outputs": [
    {
     "name": "stderr",
     "output_type": "stream",
     "text": [
      "Warning message:\n",
      "“package ‘Seurat’ was built under R version 4.0.5”\n",
      "Attaching SeuratObject\n",
      "\n",
      "Registered S3 method overwritten by 'cli':\n",
      "  method     from         \n",
      "  print.boxx spatstat.geom\n",
      "\n",
      "── \u001b[1mAttaching packages\u001b[22m ─────────────────────────────────────────────────────────────────────────────────────────────────────────────────── tidyverse 1.3.1 ──\n",
      "\n",
      "\u001b[32m✔\u001b[39m \u001b[34mggplot2\u001b[39m 3.3.3     \u001b[32m✔\u001b[39m \u001b[34mpurrr  \u001b[39m 0.3.4\n",
      "\u001b[32m✔\u001b[39m \u001b[34mtibble \u001b[39m 3.1.0     \u001b[32m✔\u001b[39m \u001b[34mdplyr  \u001b[39m 1.0.5\n",
      "\u001b[32m✔\u001b[39m \u001b[34mtidyr  \u001b[39m 1.1.3     \u001b[32m✔\u001b[39m \u001b[34mstringr\u001b[39m 1.4.0\n",
      "\u001b[32m✔\u001b[39m \u001b[34mreadr  \u001b[39m 1.4.0     \u001b[32m✔\u001b[39m \u001b[34mforcats\u001b[39m 0.5.1\n",
      "\n",
      "── \u001b[1mConflicts\u001b[22m ────────────────────────────────────────────────────────────────────────────────────────────────────────────────────── tidyverse_conflicts() ──\n",
      "\u001b[31m✖\u001b[39m \u001b[34mdplyr\u001b[39m::\u001b[32mfilter()\u001b[39m masks \u001b[34mstats\u001b[39m::filter()\n",
      "\u001b[31m✖\u001b[39m \u001b[34mdplyr\u001b[39m::\u001b[32mlag()\u001b[39m    masks \u001b[34mstats\u001b[39m::lag()\n",
      "\n"
     ]
    }
   ],
   "source": [
    "library(Seurat)\n",
    "library(tidyverse)"
   ]
  },
  {
   "cell_type": "code",
   "execution_count": 2,
   "id": "linear-perry",
   "metadata": {},
   "outputs": [],
   "source": [
    "rds = readRDS('/SGRNJ03/randd/user/fuxin/PROJECTS/YiHe_DingZhiHua/rds/pbmc/rds_pbmc_.diff_PRO.rds')"
   ]
  },
  {
   "cell_type": "code",
   "execution_count": 5,
   "id": "exceptional-management",
   "metadata": {},
   "outputs": [
    {
     "data": {
      "text/plain": [
       "\n",
       "  C017T1-010-20FS C017T1-010-21-1FS C017T1-010-21-2FS   C017T1-010-22FS \n",
       "             4645              6433              5930              2862 "
      ]
     },
     "metadata": {},
     "output_type": "display_data"
    }
   ],
   "source": [
    "table(rds@meta.data$seurat_clusters)"
   ]
  },
  {
   "cell_type": "code",
   "execution_count": 4,
   "id": "present-locator",
   "metadata": {},
   "outputs": [
    {
     "name": "stderr",
     "output_type": "stream",
     "text": [
      "With Seurat 3.X, stashing identity classes can be accomplished with the following:\n",
      "rds[[\"celltype\"]] <- Idents(object = rds)\n",
      "\n"
     ]
    }
   ],
   "source": [
    "new.cluster.ids <- c('TCells','TCells','TCells','TCells','LowQuality','Erythrocytes','Erythrocytes','ClassicalMo',\n",
    "                    'LowQuality','TCells','Erythrocytes','TCells','ClassicalMo','LowQuality','ProEryth','LowQuality','Erythrocytes')\n",
    "names(new.cluster.ids) <- levels(rds)\n",
    "rds <- RenameIdents(rds, new.cluster.ids)\n",
    "rds <- StashIdent(object = rds, save.name = \"celltype\")"
   ]
  },
  {
   "cell_type": "code",
   "execution_count": 7,
   "id": "logical-farmer",
   "metadata": {},
   "outputs": [],
   "source": [
    "Idents(rds) <- 'sample'\n",
    "rds <- subset(rds,idents = c('C017T1-010-22FS'))"
   ]
  },
  {
   "cell_type": "code",
   "execution_count": 9,
   "id": "female-blocking",
   "metadata": {},
   "outputs": [],
   "source": [
    "Idents(rds) <- 'celltype'\n",
    "rds <- subset(rds,idents = c('TCells','Erythrocytes','ClassicalMo','ProEryth'))"
   ]
  },
  {
   "cell_type": "code",
   "execution_count": 10,
   "id": "judicial-gallery",
   "metadata": {},
   "outputs": [],
   "source": [
    "saveRDS(object = rds, file = \"/SGRNJ06/randd/USER/cjj/celedev/yihe/S22.rds\")"
   ]
  },
  {
   "cell_type": "code",
   "execution_count": 12,
   "id": "center-anaheim",
   "metadata": {},
   "outputs": [
    {
     "data": {
      "text/html": [
       "<table class=\"dataframe\">\n",
       "<caption>A data.frame: 6 × 9</caption>\n",
       "<thead>\n",
       "\t<tr><th></th><th scope=col>orig.ident</th><th scope=col>nCount_RNA</th><th scope=col>nFeature_RNA</th><th scope=col>sample</th><th scope=col>percent.mt</th><th scope=col>percent.mito</th><th scope=col>RNA_snn_res.1.2</th><th scope=col>seurat_clusters</th><th scope=col>celltype</th></tr>\n",
       "\t<tr><th></th><th scope=col>&lt;chr&gt;</th><th scope=col>&lt;dbl&gt;</th><th scope=col>&lt;int&gt;</th><th scope=col>&lt;chr&gt;</th><th scope=col>&lt;dbl&gt;</th><th scope=col>&lt;dbl&gt;</th><th scope=col>&lt;fct&gt;</th><th scope=col>&lt;fct&gt;</th><th scope=col>&lt;fct&gt;</th></tr>\n",
       "</thead>\n",
       "<tbody>\n",
       "\t<tr><th scope=row>GC_0_ZL_AAACATCGAAACATCGCCTCCTGA</th><td>GC_0_ZL</td><td>12901</td><td>3741</td><td>GC_0_ZL</td><td> 6.898690</td><td>NA</td><td>5</td><td>5</td><td>NaiveT</td></tr>\n",
       "\t<tr><th scope=row>GC_0_ZL_AAACATCGAAACATCGGCCAAGAC</th><td>GC_0_ZL</td><td>10190</td><td>3115</td><td>GC_0_ZL</td><td>10.480864</td><td>NA</td><td>7</td><td>7</td><td>NaiveT</td></tr>\n",
       "\t<tr><th scope=row>GC_0_ZL_AAACATCGAAACATCGTGAAGAGA</th><td>GC_0_ZL</td><td>16602</td><td>3886</td><td>GC_0_ZL</td><td>12.823756</td><td>NA</td><td>3</td><td>3</td><td>NaiveT</td></tr>\n",
       "\t<tr><th scope=row>GC_0_ZL_AAACATCGAACAACCAAGAGTCAA</th><td>GC_0_ZL</td><td>18642</td><td>4588</td><td>GC_0_ZL</td><td> 7.617208</td><td>NA</td><td>5</td><td>5</td><td>NaiveT</td></tr>\n",
       "\t<tr><th scope=row>GC_0_ZL_AAACATCGAACCGAGAACCTCCAA</th><td>GC_0_ZL</td><td>10468</td><td>3304</td><td>GC_0_ZL</td><td> 8.760031</td><td>NA</td><td>5</td><td>5</td><td>NaiveT</td></tr>\n",
       "\t<tr><th scope=row>GC_0_ZL_AAACATCGAACCGAGAAGCACCTC</th><td>GC_0_ZL</td><td>12521</td><td>3472</td><td>GC_0_ZL</td><td>43.918217</td><td>NA</td><td>9</td><td>9</td><td>NaiveT</td></tr>\n",
       "</tbody>\n",
       "</table>\n"
      ],
      "text/latex": [
       "A data.frame: 6 × 9\n",
       "\\begin{tabular}{r|lllllllll}\n",
       "  & orig.ident & nCount\\_RNA & nFeature\\_RNA & sample & percent.mt & percent.mito & RNA\\_snn\\_res.1.2 & seurat\\_clusters & celltype\\\\\n",
       "  & <chr> & <dbl> & <int> & <chr> & <dbl> & <dbl> & <fct> & <fct> & <fct>\\\\\n",
       "\\hline\n",
       "\tGC\\_0\\_ZL\\_AAACATCGAAACATCGCCTCCTGA & GC\\_0\\_ZL & 12901 & 3741 & GC\\_0\\_ZL &  6.898690 & NA & 5 & 5 & NaiveT\\\\\n",
       "\tGC\\_0\\_ZL\\_AAACATCGAAACATCGGCCAAGAC & GC\\_0\\_ZL & 10190 & 3115 & GC\\_0\\_ZL & 10.480864 & NA & 7 & 7 & NaiveT\\\\\n",
       "\tGC\\_0\\_ZL\\_AAACATCGAAACATCGTGAAGAGA & GC\\_0\\_ZL & 16602 & 3886 & GC\\_0\\_ZL & 12.823756 & NA & 3 & 3 & NaiveT\\\\\n",
       "\tGC\\_0\\_ZL\\_AAACATCGAACAACCAAGAGTCAA & GC\\_0\\_ZL & 18642 & 4588 & GC\\_0\\_ZL &  7.617208 & NA & 5 & 5 & NaiveT\\\\\n",
       "\tGC\\_0\\_ZL\\_AAACATCGAACCGAGAACCTCCAA & GC\\_0\\_ZL & 10468 & 3304 & GC\\_0\\_ZL &  8.760031 & NA & 5 & 5 & NaiveT\\\\\n",
       "\tGC\\_0\\_ZL\\_AAACATCGAACCGAGAAGCACCTC & GC\\_0\\_ZL & 12521 & 3472 & GC\\_0\\_ZL & 43.918217 & NA & 9 & 9 & NaiveT\\\\\n",
       "\\end{tabular}\n"
      ],
      "text/markdown": [
       "\n",
       "A data.frame: 6 × 9\n",
       "\n",
       "| <!--/--> | orig.ident &lt;chr&gt; | nCount_RNA &lt;dbl&gt; | nFeature_RNA &lt;int&gt; | sample &lt;chr&gt; | percent.mt &lt;dbl&gt; | percent.mito &lt;dbl&gt; | RNA_snn_res.1.2 &lt;fct&gt; | seurat_clusters &lt;fct&gt; | celltype &lt;fct&gt; |\n",
       "|---|---|---|---|---|---|---|---|---|---|\n",
       "| GC_0_ZL_AAACATCGAAACATCGCCTCCTGA | GC_0_ZL | 12901 | 3741 | GC_0_ZL |  6.898690 | NA | 5 | 5 | NaiveT |\n",
       "| GC_0_ZL_AAACATCGAAACATCGGCCAAGAC | GC_0_ZL | 10190 | 3115 | GC_0_ZL | 10.480864 | NA | 7 | 7 | NaiveT |\n",
       "| GC_0_ZL_AAACATCGAAACATCGTGAAGAGA | GC_0_ZL | 16602 | 3886 | GC_0_ZL | 12.823756 | NA | 3 | 3 | NaiveT |\n",
       "| GC_0_ZL_AAACATCGAACAACCAAGAGTCAA | GC_0_ZL | 18642 | 4588 | GC_0_ZL |  7.617208 | NA | 5 | 5 | NaiveT |\n",
       "| GC_0_ZL_AAACATCGAACCGAGAACCTCCAA | GC_0_ZL | 10468 | 3304 | GC_0_ZL |  8.760031 | NA | 5 | 5 | NaiveT |\n",
       "| GC_0_ZL_AAACATCGAACCGAGAAGCACCTC | GC_0_ZL | 12521 | 3472 | GC_0_ZL | 43.918217 | NA | 9 | 9 | NaiveT |\n",
       "\n"
      ],
      "text/plain": [
       "                                 orig.ident nCount_RNA nFeature_RNA sample \n",
       "GC_0_ZL_AAACATCGAAACATCGCCTCCTGA GC_0_ZL    12901      3741         GC_0_ZL\n",
       "GC_0_ZL_AAACATCGAAACATCGGCCAAGAC GC_0_ZL    10190      3115         GC_0_ZL\n",
       "GC_0_ZL_AAACATCGAAACATCGTGAAGAGA GC_0_ZL    16602      3886         GC_0_ZL\n",
       "GC_0_ZL_AAACATCGAACAACCAAGAGTCAA GC_0_ZL    18642      4588         GC_0_ZL\n",
       "GC_0_ZL_AAACATCGAACCGAGAACCTCCAA GC_0_ZL    10468      3304         GC_0_ZL\n",
       "GC_0_ZL_AAACATCGAACCGAGAAGCACCTC GC_0_ZL    12521      3472         GC_0_ZL\n",
       "                                 percent.mt percent.mito RNA_snn_res.1.2\n",
       "GC_0_ZL_AAACATCGAAACATCGCCTCCTGA  6.898690  NA           5              \n",
       "GC_0_ZL_AAACATCGAAACATCGGCCAAGAC 10.480864  NA           7              \n",
       "GC_0_ZL_AAACATCGAAACATCGTGAAGAGA 12.823756  NA           3              \n",
       "GC_0_ZL_AAACATCGAACAACCAAGAGTCAA  7.617208  NA           5              \n",
       "GC_0_ZL_AAACATCGAACCGAGAACCTCCAA  8.760031  NA           5              \n",
       "GC_0_ZL_AAACATCGAACCGAGAAGCACCTC 43.918217  NA           9              \n",
       "                                 seurat_clusters celltype\n",
       "GC_0_ZL_AAACATCGAAACATCGCCTCCTGA 5               NaiveT  \n",
       "GC_0_ZL_AAACATCGAAACATCGGCCAAGAC 7               NaiveT  \n",
       "GC_0_ZL_AAACATCGAAACATCGTGAAGAGA 3               NaiveT  \n",
       "GC_0_ZL_AAACATCGAACAACCAAGAGTCAA 5               NaiveT  \n",
       "GC_0_ZL_AAACATCGAACCGAGAACCTCCAA 5               NaiveT  \n",
       "GC_0_ZL_AAACATCGAACCGAGAAGCACCTC 9               NaiveT  "
      ]
     },
     "metadata": {},
     "output_type": "display_data"
    }
   ],
   "source": [
    "head(rds@meta.data)"
   ]
  },
  {
   "cell_type": "code",
   "execution_count": 14,
   "id": "bronze-vietnamese",
   "metadata": {},
   "outputs": [
    {
     "data": {
      "text/plain": [
       "\n",
       "     CD8Teff           NK       NaiveT          NKT Erythrocytes       CD8Tex \n",
       "        7848         6340         7708         1774          542          535 \n",
       " Neutrophils      Doublet    Platelets          MPs  PlasmaCells \n",
       "         635            0          201          127           71 "
      ]
     },
     "metadata": {},
     "output_type": "display_data"
    }
   ],
   "source": [
    "table(rds@meta.data$celltype)"
   ]
  },
  {
   "cell_type": "code",
   "execution_count": null,
   "id": "conventional-final",
   "metadata": {},
   "outputs": [],
   "source": [
    "GC0 = read.table('/SGRNJ03/randd/RD20102301_DZH/shiming_CART/CART-JIACE/20220423/220309010_404_FJ/06.filter_virus/220309010_404_FJ_filtered_UMI.csv',sep=',',header=T)\n",
    "GC1 = read.table('/SGRNJ03/randd/RD20102301_DZH/shiming_CART/CART-JIACE/20220423/220303012CD_FJ/06.filter_virus/220303012CD_FJ_filtered_UMI.csv',sep=',',header=T)\n",
    "GC2 = read.table('/SGRNJ03/randd/RD20102301_DZH/shiming_CART/CART-JIACE/20220423/220305023ABC_FJ/06.filter_virus/220305023ABC_FJ_filtered_UMI.csv',sep=',',header=T)"
   ]
  },
  {
   "cell_type": "code",
   "execution_count": null,
   "id": "german-cycling",
   "metadata": {},
   "outputs": [],
   "source": [
    "GC0$shi<-paste('GC_0_ZL',\"_\",sep=\"\")\n",
    "GC0$barcode<-str_c(GC0$shi,GC0$barcode)\n",
    "GC0_cells <- subset(GC0, sum_UMI!=0)\n",
    "GC0_cells <- unique(GC0_cells$barcode)\n",
    "\n",
    "GC1$shi<-paste('GC_1_ZL',\"_\",sep=\"\")\n",
    "GC1$barcode<-str_c(GC1$shi,GC1$barcode)\n",
    "GC1_cells <- subset(GC1, sum_UMI!=0)\n",
    "GC1_cells <- unique(GC1_cells$barcode)\n",
    "\n",
    "GC2$shi<-paste('GC_2_ZL',\"_\",sep=\"\")\n",
    "GC2$barcode<-str_c(GC2$shi,GC2$barcode)\n",
    "GC2_cells <- subset(GC2, sum_UMI!=0)\n",
    "GC2_cells <- unique(GC2_cells$barcode)\n",
    "\n",
    "cells = c(GC0_cells,GC1_cells,GC2_cells)\n",
    "\n",
    "meta = rds@meta.data\n",
    "meta$car = 'CAR-'\n",
    "\n",
    "meta[cells,'car'] = 'CAR+'\n",
    "\n",
    "rds@meta.data=meta"
   ]
  },
  {
   "cell_type": "code",
   "execution_count": null,
   "id": "dense-techno",
   "metadata": {},
   "outputs": [],
   "source": []
  },
  {
   "cell_type": "code",
   "execution_count": 88,
   "id": "respective-herald",
   "metadata": {},
   "outputs": [],
   "source": [
    "# Subset\n",
    "  Idents(rds) <- \"celltype\"\n",
    "  Tcells <- subset(rds,idents = c(\"TCells\"))"
   ]
  },
  {
   "cell_type": "code",
   "execution_count": null,
   "id": "demographic-breakfast",
   "metadata": {},
   "outputs": [],
   "source": [
    "head(Tcells@meta.data)"
   ]
  },
  {
   "cell_type": "code",
   "execution_count": null,
   "id": "constitutional-miami",
   "metadata": {},
   "outputs": [],
   "source": [
    "  Tcells <-  NormalizeData(object = Tcells)\n",
    "  Tcells <-  ScaleData(object = Tcells)\n",
    "  Tcells <- FindVariableFeatures(object = Tcells)\n",
    "  genes.use<- head(HVFInfo(object = Tcells),2000)\n",
    "  Tcells <- RunPCA(object=Tcells,features = VariableFeatures(object = Tcells))\n",
    "  Tcells <- FindNeighbors(Tcells, reduction = \"pca\", dims = 1:20)\n",
    "  Tcells <- FindClusters(Tcells,resolution = 0.8, algorithm = 1)\n",
    "  Tcells <- RunTSNE(object=Tcells,dims.use=1:20,do.fast=TRUE,check_duplicates = FALSE)\n",
    "  Tcells <- RunUMAP(Tcells, reduction = \"pca\", dims = 1:20)"
   ]
  },
  {
   "cell_type": "code",
   "execution_count": 81,
   "id": "fatal-snapshot",
   "metadata": {},
   "outputs": [],
   "source": [
    "# saveRDS(object = Tcells, file = \"/SGRNJ06/randd/USER/cjj/celedev/xiangxue/20220704/subsetT/Tcells.rds\")\n",
    "# lt环境"
   ]
  },
  {
   "cell_type": "code",
   "execution_count": 83,
   "id": "systematic-cache",
   "metadata": {},
   "outputs": [],
   "source": [
    "subc<-levels(x=Tcells@active.ident)\n",
    "for (l in subc){\n",
    "   cluster.markers <- FindMarkers(object=Tcells,ident.1=l,min.pct=0.1,logfc.threshold = 0.25)\n",
    "   write.table(cluster.markers,file=paste('/SGRNJ06/randd/USER/cjj/celedev/xiangxue/20220704/subsetT','/',l,'_diffgenes.xls',sep=''),sep='\\t',quote=F,row.names=T)}"
   ]
  },
  {
   "cell_type": "code",
   "execution_count": null,
   "id": "hazardous-creator",
   "metadata": {},
   "outputs": [],
   "source": []
  },
  {
   "cell_type": "code",
   "execution_count": 13,
   "id": "attended-junction",
   "metadata": {},
   "outputs": [],
   "source": [
    "Tcells = readRDS('/SGRNJ06/randd/USER/cjj/celedev/xiangxue/20220704/subsetT/Tcells.rds')"
   ]
  },
  {
   "cell_type": "code",
   "execution_count": 14,
   "id": "guilty-accuracy",
   "metadata": {},
   "outputs": [
    {
     "data": {
      "text/plain": [
       "\n",
       "   0    1    2    3    4    5    6    7    8    9   10   11   12   13   14   15 \n",
       "5964 4080 3837 3636 2992 2466 1688 1626 1534 1503 1372 1350 1252 1245 1194 1079 \n",
       "  16   17   18   19   20   21   22   23   24   25 \n",
       "1007  999  972  901  694  618  613  469  450  433 "
      ]
     },
     "metadata": {},
     "output_type": "display_data"
    }
   ],
   "source": [
    "table(Tcells@meta.data$seurat_clusters)"
   ]
  },
  {
   "cell_type": "code",
   "execution_count": 15,
   "id": "mineral-count",
   "metadata": {},
   "outputs": [
    {
     "name": "stderr",
     "output_type": "stream",
     "text": [
      "With Seurat 3.X, stashing identity classes can be accomplished with the following:\n",
      "Tcells[[\"celltype\"]] <- Idents(object = Tcells)\n",
      "\n"
     ]
    }
   ],
   "source": [
    "new.cluster.ids <- c('CD8Teff','CD8Tem','CD4NaiveT','CD4NaiveT','Doublet','NKT','Doublet','CD8Teff',\n",
    "                    'Doublet','GDTCells','Doublet','CD8Tem','CD8Teff','CD8Teff','CD4NaiveT','CD8Teff',\n",
    "                     'CD8Teff','CD4NaiveT','CD4NaiveT','CD8Teff','CD8Teff','CD8Teff','CD8Teff','CD8Teff','CD4NaiveT','ProliferatingT')\n",
    "names(new.cluster.ids) <- levels(Tcells)\n",
    "Tcells <- RenameIdents(Tcells, new.cluster.ids)\n",
    "Tcells <- StashIdent(object = Tcells, save.name = \"celltype\")"
   ]
  },
  {
   "cell_type": "code",
   "execution_count": 16,
   "id": "prerequisite-snowboard",
   "metadata": {},
   "outputs": [
    {
     "data": {
      "text/plain": [
       "\n",
       "       CD8Teff         CD8Tem      CD4NaiveT        Doublet            NKT \n",
       "         15468           5430          11088           7586           2466 \n",
       "      GDTCells ProliferatingT \n",
       "          1503            433 "
      ]
     },
     "metadata": {},
     "output_type": "display_data"
    }
   ],
   "source": [
    "table(Tcells@meta.data$celltype)"
   ]
  },
  {
   "cell_type": "code",
   "execution_count": 18,
   "id": "religious-kinase",
   "metadata": {},
   "outputs": [],
   "source": [
    "Idents(Tcells) <- 'celltype'\n",
    "Tcells <- subset(Tcells,idents = c('CD8Teff','CD8Tem','CD4NaiveT','NKT','GDTCells','ProliferatingT'))"
   ]
  },
  {
   "cell_type": "code",
   "execution_count": 19,
   "id": "sharing-wings",
   "metadata": {},
   "outputs": [],
   "source": [
    "saveRDS(object = Tcells, file = \"/SGRNJ06/randd/USER/cjj/celedev/xiangxue/20220704/xifen/renameT.rds\")"
   ]
  },
  {
   "cell_type": "code",
   "execution_count": 8,
   "id": "every-wednesday",
   "metadata": {},
   "outputs": [],
   "source": [
    "rds =  readRDS('/SGRNJ06/randd/USER/cjj/celedev/xiangxue/20220704/rename.rds')"
   ]
  },
  {
   "cell_type": "code",
   "execution_count": 29,
   "id": "copyrighted-wright",
   "metadata": {},
   "outputs": [],
   "source": [
    "rds$celltype <- as.character(rds$celltype)\n",
    "Tcells$celltype <- as.character(Tcells$celltype)\n",
    "rds$celltype[ colnames(rds) %in% colnames(Tcells)[ Tcells$celltype == \"CD8Teff\"]] = \"CD8Teff\"\n",
    "rds$celltype[ colnames(rds) %in% colnames(Tcells)[ Tcells$celltype == \"CD8Tem\"]] = \"CD8Tem\"\n",
    "rds$celltype[ colnames(rds) %in% colnames(Tcells)[ Tcells$celltype == \"CD4NaiveT\"]] = \"CD4NaiveT\"\n",
    "rds$celltype[ colnames(rds) %in% colnames(Tcells)[ Tcells$celltype == \"NKT\"]] = \"NKT\"\n",
    "rds$celltype[ colnames(rds) %in% colnames(Tcells)[ Tcells$celltype == \"GDTCells\"]] = \"GDTCells\"\n",
    "rds$celltype[ colnames(rds) %in% colnames(Tcells)[ Tcells$celltype == \"ProliferatingT\"]] = \"ProliferatingT\""
   ]
  },
  {
   "cell_type": "code",
   "execution_count": 32,
   "id": "better-evans",
   "metadata": {},
   "outputs": [
    {
     "data": {
      "text/plain": [
       "\n",
       "        BCells      CD4NaiveT        CD8Teff         CD8Tem           cDC2 \n",
       "          1518          11088          15468           5430            418 \n",
       "      GDTCells      monocytes    Neutrophils            NKT           pDCs \n",
       "          1503          12340          17096           2466            132 \n",
       "   Plasmacells ProliferatingT         TCells \n",
       "           134            433           7586 "
      ]
     },
     "metadata": {},
     "output_type": "display_data"
    }
   ],
   "source": [
    "table(rds@meta.data$celltype)"
   ]
  },
  {
   "cell_type": "code",
   "execution_count": 33,
   "id": "corresponding-bottle",
   "metadata": {},
   "outputs": [],
   "source": [
    "Idents(rds) <- 'celltype'\n",
    "rds <- subset(rds,idents = c('CD8Teff','CD8Tem','CD4NaiveT','NKT','GDTCells','ProliferatingT','BCells','cDC2','monocytes','Neutrophils',\n",
    "                            'pDCs','Plasmacells'))"
   ]
  },
  {
   "cell_type": "code",
   "execution_count": 34,
   "id": "clear-concept",
   "metadata": {},
   "outputs": [],
   "source": [
    "saveRDS(object = rds, file = \"/SGRNJ06/randd/USER/cjj/celedev/xiangxue/20220704/xifen/rename.rds\")"
   ]
  },
  {
   "cell_type": "code",
   "execution_count": null,
   "id": "exterior-processor",
   "metadata": {},
   "outputs": [],
   "source": []
  },
  {
   "cell_type": "code",
   "execution_count": 17,
   "id": "orange-cotton",
   "metadata": {},
   "outputs": [],
   "source": [
    "# del doublet\n",
    "rds = readRDS(\"/SGRNJ06/randd/lims_result_rd/MultiResult/RD20102301_221221_homo_PBMC/project_batch/2022-12-23/h9bcmaszpu/father_cluster/batch_1/call-integration/RD20102301_221221_homo_PBMC.diff_PRO.rds\")"
   ]
  },
  {
   "cell_type": "code",
   "execution_count": 18,
   "id": "purple-manitoba",
   "metadata": {},
   "outputs": [
    {
     "data": {
      "text/plain": [
       "\n",
       "   CD4NaiveT      CD8Teff    CD8NaiveT    Basophils      Doublet Erythrocytes \n",
       "       13485         5713         1681          122         1988         3553 \n",
       "   Monocytes           NK  Neutrophils \n",
       "       13798         3401        22130 "
      ]
     },
     "metadata": {},
     "output_type": "display_data"
    }
   ],
   "source": [
    "table(rds@meta.data$cluster)"
   ]
  },
  {
   "cell_type": "code",
   "execution_count": 6,
   "id": "exceptional-training",
   "metadata": {},
   "outputs": [],
   "source": [
    "Idents(rds) <- 'cluster'\n",
    "rds <- subset(rds,idents = c('CD8Teff','CD4NaiveT','Erythrocytes','CD8NaiveT','NK','Neutrophils','Basophils','Monocytes'))"
   ]
  },
  {
   "cell_type": "code",
   "execution_count": 7,
   "id": "specified-feelings",
   "metadata": {},
   "outputs": [],
   "source": [
    "saveRDS(object = rds, file = \"/SGRNJ06/randd/USER/cjj/celedev/XZMU/20221226/rename.rds\")"
   ]
  },
  {
   "cell_type": "code",
   "execution_count": 19,
   "id": "lonely-smart",
   "metadata": {},
   "outputs": [],
   "source": []
  },
  {
   "cell_type": "code",
   "execution_count": 19,
   "id": "genuine-background",
   "metadata": {},
   "outputs": [
    {
     "data": {
      "text/html": [
       "<style>\n",
       ".list-inline {list-style: none; margin:0; padding: 0}\n",
       ".list-inline>li {display: inline-block}\n",
       ".list-inline>li:not(:last-child)::after {content: \"\\00b7\"; padding: 0 .5ex}\n",
       "</style>\n",
       "<ol class=list-inline><li>'CD4NaiveT'</li><li>'CD8Teff'</li><li>'CD8NaiveT'</li><li>'Basophils'</li><li>'Doublet'</li><li>'Erythrocytes'</li><li>'Monocytes'</li><li>'NK'</li><li>'Neutrophils'</li></ol>\n"
      ],
      "text/latex": [
       "\\begin{enumerate*}\n",
       "\\item 'CD4NaiveT'\n",
       "\\item 'CD8Teff'\n",
       "\\item 'CD8NaiveT'\n",
       "\\item 'Basophils'\n",
       "\\item 'Doublet'\n",
       "\\item 'Erythrocytes'\n",
       "\\item 'Monocytes'\n",
       "\\item 'NK'\n",
       "\\item 'Neutrophils'\n",
       "\\end{enumerate*}\n"
      ],
      "text/markdown": [
       "1. 'CD4NaiveT'\n",
       "2. 'CD8Teff'\n",
       "3. 'CD8NaiveT'\n",
       "4. 'Basophils'\n",
       "5. 'Doublet'\n",
       "6. 'Erythrocytes'\n",
       "7. 'Monocytes'\n",
       "8. 'NK'\n",
       "9. 'Neutrophils'\n",
       "\n",
       "\n"
      ],
      "text/plain": [
       "[1] \"CD4NaiveT\"    \"CD8Teff\"      \"CD8NaiveT\"    \"Basophils\"    \"Doublet\"     \n",
       "[6] \"Erythrocytes\" \"Monocytes\"    \"NK\"           \"Neutrophils\" "
      ]
     },
     "metadata": {},
     "output_type": "display_data"
    }
   ],
   "source": [
    "levels(rds)"
   ]
  },
  {
   "cell_type": "code",
   "execution_count": 20,
   "id": "lyric-layout",
   "metadata": {},
   "outputs": [
    {
     "name": "stderr",
     "output_type": "stream",
     "text": [
      "With Seurat 3.X, stashing identity classes can be accomplished with the following:\n",
      "rds[[\"cluster\"]] <- Idents(object = rds)\n",
      "\n"
     ]
    }
   ],
   "source": [
    "# umap 文字重合\n",
    "new.cluster.ids <- c('CD4/CD8_NaiveT','CD8Teff','CD4/CD8_NaiveT','Basophils','Doublet','Erythrocytes','Monocytes','NK','Neutrophils')\n",
    "names(new.cluster.ids) <- levels(rds)\n",
    "rds <- RenameIdents(rds, new.cluster.ids)\n",
    "rds <- StashIdent(object = rds, save.name = \"cluster\")"
   ]
  },
  {
   "cell_type": "code",
   "execution_count": 21,
   "id": "connected-hearing",
   "metadata": {},
   "outputs": [
    {
     "data": {
      "text/plain": [
       "\n",
       "CD4/CD8_NaiveT        CD8Teff      Basophils        Doublet   Erythrocytes \n",
       "         15166           5713            122           1988           3553 \n",
       "     Monocytes             NK    Neutrophils \n",
       "         13798           3401          22130 "
      ]
     },
     "metadata": {},
     "output_type": "display_data"
    }
   ],
   "source": [
    "table(rds@meta.data$cluster)"
   ]
  },
  {
   "cell_type": "code",
   "execution_count": 22,
   "id": "decent-auditor",
   "metadata": {},
   "outputs": [],
   "source": [
    "Idents(rds) <- 'cluster'\n",
    "rds <- subset(rds,idents = c('CD8Teff','CD4/CD8_NaiveT','Erythrocytes','NK','Neutrophils','Basophils','Monocytes'))"
   ]
  },
  {
   "cell_type": "code",
   "execution_count": 23,
   "id": "excess-samba",
   "metadata": {},
   "outputs": [],
   "source": [
    "saveRDS(object = rds, file = \"/SGRNJ06/randd/USER/cjj/celedev/XZMU/20221226/rename1.rds\")"
   ]
  },
  {
   "cell_type": "code",
   "execution_count": null,
   "id": "distinct-rough",
   "metadata": {},
   "outputs": [],
   "source": []
  }
 ],
 "metadata": {
  "kernelspec": {
   "display_name": "CJJcele",
   "language": "R",
   "name": "cjjcele"
  },
  "language_info": {
   "codemirror_mode": "r",
   "file_extension": ".r",
   "mimetype": "text/x-r-source",
   "name": "R",
   "pygments_lexer": "r",
   "version": "4.0.3"
  }
 },
 "nbformat": 4,
 "nbformat_minor": 5
}
