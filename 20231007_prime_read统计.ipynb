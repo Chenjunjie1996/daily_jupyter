{
 "cells": [
  {
   "cell_type": "code",
   "execution_count": 1,
   "id": "developmental-landing",
   "metadata": {},
   "outputs": [],
   "source": [
    "import pysam\n",
    "import pandas as pd \n",
    "from Bio.Seq import Seq"
   ]
  },
  {
   "cell_type": "code",
   "execution_count": 35,
   "id": "warming-marriage",
   "metadata": {},
   "outputs": [],
   "source": [
    "def reverse_complement(seq):\n",
    "    \"\"\"Reverse complementary sequence\n",
    "\n",
    "    :param original seq\n",
    "    :return Reverse complementary sequence\n",
    "    \"\"\"\n",
    "    return str(Seq(seq).reverse_complement())"
   ]
  },
  {
   "cell_type": "code",
   "execution_count": 76,
   "id": "roman-toyota",
   "metadata": {},
   "outputs": [],
   "source": [
    "\"\"\"\n",
    "5 prime featureCounts assigned reads\n",
    "3 prime featureCounts assigned reads\n",
    "5 prime reads in 3 prime CB(cell barcode)\n",
    "3 prime reads in 3 prime CB\n",
    "5 prime reads in 3 prime CB + UMI\n",
    "5 prime reads in 3 prime CB + UMI + gene\n",
    "\"\"\"\n",
    "prime5_assign_reads = 0\n",
    "prime3_assign_reads = 0\n",
    "prime5_in_prime3_cb = 0\n",
    "prime3_in_prime3_cb = 0\n",
    "prime5_in_prime3_cb_umi = 0\n",
    "prime5_in_prime3_cb_umi_gene = 0"
   ]
  },
  {
   "cell_type": "code",
   "execution_count": 77,
   "id": "quarterly-shield",
   "metadata": {},
   "outputs": [],
   "source": [
    "bam3 = \"/SGRNJ06/randd/USER/cjj/celedev/rna/20231018/3/Mus_0928spleen2_N3lib/02.featureCounts/Mus_0928spleen2_N3lib_aligned_posSorted_addTag.bam\"\n",
    "bam5 = \"/SGRNJ06/randd/USER/cjj/celedev/rna/20231018/5/Mus_0928spleen2_20_N5lib/02.featureCounts/Mus_0928spleen2_20_N5lib_aligned_posSorted_addTag.bam\"\n",
    "prime3_cb = \"/SGRNJ06/randd/USER/cjj/celedev/rna/20231018/3/Mus_0928spleen2_N3lib/03.count/Mus_0928spleen2_N3lib_filtered_feature_bc_matrix/barcodes.tsv\""
   ]
  },
  {
   "cell_type": "code",
   "execution_count": 78,
   "id": "packed-principal",
   "metadata": {},
   "outputs": [],
   "source": [
    "prime3_cb_set = pd.read_csv(prime3_cb, header=None)\n",
    "prime3_cb_set = prime3_cb_set.rename(columns={0: \"bc\"})\n",
    "prime3_cb_set = set(prime3_cb_set.bc)"
   ]
  },
  {
   "cell_type": "code",
   "execution_count": 79,
   "id": "aggregate-adjustment",
   "metadata": {},
   "outputs": [],
   "source": [
    "prime3_cb_umi_set = set()\n",
    "prime3_cb_umi_gene_set = set()"
   ]
  },
  {
   "cell_type": "code",
   "execution_count": 80,
   "id": "excited-documentary",
   "metadata": {},
   "outputs": [],
   "source": [
    "        inputFile3 = pysam.AlignmentFile(bam3, \"rb\")\n",
    "        inputFile5 = pysam.AlignmentFile(bam5, \"rb\")\n",
    "        \n",
    "        for read in inputFile3:\n",
    "            stat = read.get_tag(\"XS\")\n",
    "            if stat == \"Assigned\":\n",
    "                prime3_assign_reads += 1\n",
    "                cb = read.get_tag(\"CB\")\n",
    "                umi = read.get_tag(\"UB\")\n",
    "                try:\n",
    "                    gene_id = read.get_tag(\"XT\")\n",
    "                except KeyError:\n",
    "                    gene_id = None\n",
    "                if cb in prime3_cb_set:\n",
    "                    prime3_in_prime3_cb += 1\n",
    "                    prime3_cb_set.add( reverse_complement(cb) )\n",
    "                    prime3_cb_umi_set.add( (reverse_complement(cb), reverse_complement(umi)) )\n",
    "                    prime3_cb_umi_gene_set.add( (reverse_complement(cb), reverse_complement(umi), gene_id) )\n",
    "        \n",
    "        for read in inputFile5:\n",
    "            stat = read.get_tag(\"XS\")\n",
    "            if stat == \"Assigned\":\n",
    "                prime5_assign_reads += 1\n",
    "                cb = read.get_tag(\"CB\")\n",
    "                umi = read.get_tag(\"UB\")\n",
    "                try:\n",
    "                    gene_id = read.get_tag(\"XT\")\n",
    "                except KeyError:\n",
    "                    gene_id = None\n",
    "                if cb in prime3_cb_set:\n",
    "                    prime5_in_prime3_cb += 1\n",
    "                if (cb, umi) in prime3_cb_umi_set:\n",
    "                    prime5_in_prime3_cb_umi += 1\n",
    "                if (cb, umi, gene_id) in prime3_cb_umi_gene_set:\n",
    "                    prime5_in_prime3_cb_umi_gene += 1"
   ]
  },
  {
   "cell_type": "code",
   "execution_count": 81,
   "id": "adjacent-guard",
   "metadata": {},
   "outputs": [
    {
     "data": {
      "text/plain": [
       "22708360"
      ]
     },
     "execution_count": 81,
     "metadata": {},
     "output_type": "execute_result"
    }
   ],
   "source": [
    "prime5_assign_reads"
   ]
  },
  {
   "cell_type": "code",
   "execution_count": 82,
   "id": "demonstrated-worse",
   "metadata": {},
   "outputs": [
    {
     "data": {
      "text/plain": [
       "16336623"
      ]
     },
     "execution_count": 82,
     "metadata": {},
     "output_type": "execute_result"
    }
   ],
   "source": [
    "prime3_assign_reads"
   ]
  },
  {
   "cell_type": "code",
   "execution_count": 83,
   "id": "pacific-organ",
   "metadata": {},
   "outputs": [
    {
     "data": {
      "text/plain": [
       "9570556"
      ]
     },
     "execution_count": 83,
     "metadata": {},
     "output_type": "execute_result"
    }
   ],
   "source": [
    "prime5_in_prime3_cb"
   ]
  },
  {
   "cell_type": "code",
   "execution_count": 84,
   "id": "equivalent-sarah",
   "metadata": {},
   "outputs": [
    {
     "data": {
      "text/plain": [
       "7566198"
      ]
     },
     "execution_count": 84,
     "metadata": {},
     "output_type": "execute_result"
    }
   ],
   "source": [
    "prime3_in_prime3_cb"
   ]
  },
  {
   "cell_type": "code",
   "execution_count": 85,
   "id": "forbidden-decline",
   "metadata": {},
   "outputs": [
    {
     "data": {
      "text/plain": [
       "2326503"
      ]
     },
     "execution_count": 85,
     "metadata": {},
     "output_type": "execute_result"
    }
   ],
   "source": [
    "prime5_in_prime3_cb_umi"
   ]
  },
  {
   "cell_type": "code",
   "execution_count": 86,
   "id": "located-attempt",
   "metadata": {},
   "outputs": [
    {
     "data": {
      "text/plain": [
       "1539472"
      ]
     },
     "execution_count": 86,
     "metadata": {},
     "output_type": "execute_result"
    }
   ],
   "source": [
    "prime5_in_prime3_cb_umi_gene"
   ]
  },
  {
   "cell_type": "code",
   "execution_count": 87,
   "id": "endangered-howard",
   "metadata": {},
   "outputs": [
    {
     "data": {
      "text/plain": [
       "'1,539,472'"
      ]
     },
     "execution_count": 87,
     "metadata": {},
     "output_type": "execute_result"
    }
   ],
   "source": [
    "format(prime5_in_prime3_cb_umi_gene,',')"
   ]
  },
  {
   "cell_type": "code",
   "execution_count": 88,
   "id": "earned-extent",
   "metadata": {},
   "outputs": [],
   "source": [
    "out_file = open(\"/SGRNJ06/randd/USER/cjj/celedev/rna/20231018/read_count/Mus_0928spleen2_20_N5lib.txt\", 'w')\n",
    "out_file.write(f\"5 prime featureCounts assigned reads : {format(prime5_assign_reads, ',')}\\n\")\n",
    "out_file.write(f\"3 prime featureCounts assigned reads : {format(prime3_assign_reads, ',')}\\n\")\n",
    "out_file.write(f\"5 prime reads in 3 prime CB : {format(prime5_in_prime3_cb, ',')}\\n\")\n",
    "out_file.write(f\"3 prime reads in 3 prime CB : {format(prime3_in_prime3_cb, ',')}\\n\")\n",
    "out_file.write(f\"5 prime reads in 3 prime CB + UMI : {format(prime5_in_prime3_cb_umi, ',')}\\n\")\n",
    "out_file.write(f\"5 prime reads in 3 prime CB + UMI + gene : {format(prime5_in_prime3_cb_umi_gene, ',')}\\n\")\n",
    "out_file.close()"
   ]
  },
  {
   "cell_type": "code",
   "execution_count": null,
   "id": "hydraulic-wheel",
   "metadata": {},
   "outputs": [],
   "source": []
  },
  {
   "cell_type": "code",
   "execution_count": null,
   "id": "internal-oregon",
   "metadata": {},
   "outputs": [],
   "source": []
  },
  {
   "cell_type": "code",
   "execution_count": null,
   "id": "opponent-conditions",
   "metadata": {},
   "outputs": [],
   "source": [
    "# barcode 统计"
   ]
  },
  {
   "cell_type": "code",
   "execution_count": 40,
   "id": "religious-gibson",
   "metadata": {},
   "outputs": [],
   "source": [
    "prime3_cb = \"/SGRNJ06/randd/USER/cjj/celedev/rna/20230913/3/HM_PBMC_0831_2_N3lib/03.count/HM_PBMC_0831_2_N3lib_filtered_feature_bc_matrix/barcodes.tsv\""
   ]
  },
  {
   "cell_type": "code",
   "execution_count": 41,
   "id": "equipped-cabin",
   "metadata": {},
   "outputs": [],
   "source": [
    "prime5_cb = \"/SGRNJ06/randd/USER/cjj/celedev/rna/20230925/5/HM_PBMC_0831_20_20_2_N5lib/03.count/HM_PBMC_0831_20_20_2_N5lib_filtered_feature_bc_matrix/barcodes.tsv\""
   ]
  },
  {
   "cell_type": "code",
   "execution_count": 42,
   "id": "athletic-rhythm",
   "metadata": {},
   "outputs": [],
   "source": [
    "prime3_cb_set = pd.read_csv(prime3_cb, header=None)\n",
    "prime3_cb_set = prime3_cb_set.rename(columns={0: \"bc\"})\n",
    "prime3_cb_set = set(prime3_cb_set.bc)\n",
    "\n",
    "prime5_cb_set = pd.read_csv(prime5_cb, header=None)\n",
    "prime5_cb_set = prime5_cb_set.rename(columns={0: \"bc\"})\n",
    "prime5_cb_set['bc'] = prime5_cb_set['bc'].apply(lambda x: reverse_complement(x))\n",
    "prime5_cb_set = set(prime5_cb_set.bc)"
   ]
  },
  {
   "cell_type": "code",
   "execution_count": 43,
   "id": "recent-acrylic",
   "metadata": {},
   "outputs": [
    {
     "data": {
      "text/plain": [
       "3304"
      ]
     },
     "execution_count": 43,
     "metadata": {},
     "output_type": "execute_result"
    }
   ],
   "source": [
    "len(prime3_cb_set)"
   ]
  },
  {
   "cell_type": "code",
   "execution_count": 44,
   "id": "modern-andrews",
   "metadata": {},
   "outputs": [
    {
     "data": {
      "text/plain": [
       "2177"
      ]
     },
     "execution_count": 44,
     "metadata": {},
     "output_type": "execute_result"
    }
   ],
   "source": [
    "len(prime5_cb_set)"
   ]
  },
  {
   "cell_type": "code",
   "execution_count": 45,
   "id": "varying-angel",
   "metadata": {},
   "outputs": [
    {
     "data": {
      "text/plain": [
       "2170"
      ]
     },
     "execution_count": 45,
     "metadata": {},
     "output_type": "execute_result"
    }
   ],
   "source": [
    "len(prime3_cb_set & prime5_cb_set)"
   ]
  },
  {
   "cell_type": "code",
   "execution_count": null,
   "id": "widespread-commons",
   "metadata": {},
   "outputs": [],
   "source": []
  }
 ],
 "metadata": {
  "kernelspec": {
   "display_name": "trust4_1.7",
   "language": "python",
   "name": "trust4_1.7"
  },
  "language_info": {
   "codemirror_mode": {
    "name": "ipython",
    "version": 3
   },
   "file_extension": ".py",
   "mimetype": "text/x-python",
   "name": "python",
   "nbconvert_exporter": "python",
   "pygments_lexer": "ipython3",
   "version": "3.7.10"
  }
 },
 "nbformat": 4,
 "nbformat_minor": 5
}
