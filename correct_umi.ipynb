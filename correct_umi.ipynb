{
 "cells": [
  {
   "cell_type": "code",
   "execution_count": 241,
   "id": "metric-dairy",
   "metadata": {},
   "outputs": [],
   "source": [
    "import numpy as np\n",
    "import pandas as pd\n",
    "import math"
   ]
  },
  {
   "cell_type": "code",
   "execution_count": 320,
   "id": "peripheral-funeral",
   "metadata": {},
   "outputs": [],
   "source": [
    "def hamming_distance(string1, string2):\n",
    "    distance = 0\n",
    "    length = len(string1)\n",
    "    length2 = len(string2)\n",
    "    if (length != length2):\n",
    "        raise Exception(f\"string1({length}) and string2({length2}) do not have same length\")\n",
    "    for i in range(length):\n",
    "        if string1[i] != string2[i]:\n",
    "            distance += 1\n",
    "    return distance\n",
    "def correct_cdr3_nt(umi_dict, percent=0.1):\n",
    "    \"\"\"\n",
    "    Correct umi_dict in place.\n",
    "    Args:\n",
    "        umi_dict: {cdr3_nt: umi_count}\n",
    "        percent: if hamming_distance(low_umi_cdr3, high_umi_cdr3) == 1 and\n",
    "            low_count / high_count < percent, merge low to high.\n",
    "    Returns:\n",
    "        correct_dict: dict {low_umi_cdr3: high_umi_cdr3}\n",
    "    \"\"\"\n",
    "    correct_dict = dict()\n",
    "    \n",
    "    umi_arr = sorted(\n",
    "        umi_dict.items(), key=lambda kv: (kv[1], kv[0]), reverse=True)\n",
    "    \n",
    "    while True:\n",
    "        # break when only highest in umi_arr\n",
    "        if len(umi_arr) == 1:\n",
    "            break\n",
    "        umi_low = umi_arr.pop()\n",
    "        low_seq = umi_low[0]\n",
    "        low_count = umi_low[1]\n",
    "\n",
    "        for umi_kv in umi_arr:\n",
    "            high_seq = umi_kv[0]\n",
    "            high_count = umi_kv[1]\n",
    "            if len(low_seq) != len(high_seq):\n",
    "                break\n",
    "            if float(low_count / high_count) > percent:\n",
    "                break\n",
    "            if hamming_distance(low_seq, high_seq) == 1:\n",
    "                correct_dict[low_seq] = high_seq\n",
    "                n_low = umi_dict[low_seq]\n",
    "                # merge\n",
    "                umi_dict[high_seq] += n_low\n",
    "                del (umi_dict[low_seq])\n",
    "                break\n",
    "            \n",
    "    return correct_dict"
   ]
  },
  {
   "cell_type": "code",
   "execution_count": 321,
   "id": "similar-region",
   "metadata": {},
   "outputs": [],
   "source": [
    "productive_file = pd.read_csv(\"/SGRNJ06/randd/USER/cjj/celedev/vdj_bulk/20230209tcr/ts16/R230203023C/04.mapping_vdj/R230203023C_productive.tsv\", sep='\\t')\n",
    "chains = [\"TRA\",\"TRB\"]\n",
    "productive_file = productive_file[productive_file[\"chain\"].isin(chains)]"
   ]
  },
  {
   "cell_type": "code",
   "execution_count": 322,
   "id": "alternative-certification",
   "metadata": {},
   "outputs": [],
   "source": [
    "productive_file[\"umi\"] = productive_file[\"sequence_id\"].apply(lambda x: x.split('_')[1])"
   ]
  },
  {
   "cell_type": "code",
   "execution_count": 323,
   "id": "civic-ferry",
   "metadata": {},
   "outputs": [
    {
     "data": {
      "text/html": [
       "<div>\n",
       "<style scoped>\n",
       "    .dataframe tbody tr th:only-of-type {\n",
       "        vertical-align: middle;\n",
       "    }\n",
       "\n",
       "    .dataframe tbody tr th {\n",
       "        vertical-align: top;\n",
       "    }\n",
       "\n",
       "    .dataframe thead th {\n",
       "        text-align: right;\n",
       "    }\n",
       "</style>\n",
       "<table border=\"1\" class=\"dataframe\">\n",
       "  <thead>\n",
       "    <tr style=\"text-align: right;\">\n",
       "      <th></th>\n",
       "      <th>barcode</th>\n",
       "      <th>sequence_id</th>\n",
       "      <th>chain</th>\n",
       "      <th>bestVGene</th>\n",
       "      <th>bestDGene</th>\n",
       "      <th>bestJGene</th>\n",
       "      <th>nSeqCDR3</th>\n",
       "      <th>aaSeqCDR3</th>\n",
       "      <th>umi</th>\n",
       "    </tr>\n",
       "  </thead>\n",
       "  <tbody>\n",
       "    <tr>\n",
       "      <th>0</th>\n",
       "      <td>TCATGA</td>\n",
       "      <td>TCATGA_AAAAAAACCAAACAAC_4</td>\n",
       "      <td>TRB</td>\n",
       "      <td>TRBV7-9</td>\n",
       "      <td>NaN</td>\n",
       "      <td>TRBJ2-7</td>\n",
       "      <td>TGTGCCAGCAGCTTCCTGGGCGAGCAGTACTTC</td>\n",
       "      <td>CASSFLGEQYF</td>\n",
       "      <td>AAAAAAACCAAACAAC</td>\n",
       "    </tr>\n",
       "    <tr>\n",
       "      <th>1</th>\n",
       "      <td>TCATGA</td>\n",
       "      <td>TCATGA_AAAAAAAGTGGGGTCA_5</td>\n",
       "      <td>TRB</td>\n",
       "      <td>TRBV19</td>\n",
       "      <td>TRBD2</td>\n",
       "      <td>TRBJ2-1</td>\n",
       "      <td>TGTGCCAGTAGTCGGGGGGCCCACGGGGACAATGAGCAGGTCTTC</td>\n",
       "      <td>CASSRGAHGDNEQVF</td>\n",
       "      <td>AAAAAAAGTGGGGTCA</td>\n",
       "    </tr>\n",
       "    <tr>\n",
       "      <th>2</th>\n",
       "      <td>TCATGA</td>\n",
       "      <td>TCATGA_AAAAAAGAAAAGTAGC_9</td>\n",
       "      <td>TRB</td>\n",
       "      <td>TRBV5-1</td>\n",
       "      <td>NaN</td>\n",
       "      <td>TRBJ2-3</td>\n",
       "      <td>TGCGCCAGCAGCTCTAACACAGAAACGCAGTATTTT</td>\n",
       "      <td>CASSSNTETQYF</td>\n",
       "      <td>AAAAAAGAAAAGTAGC</td>\n",
       "    </tr>\n",
       "    <tr>\n",
       "      <th>3</th>\n",
       "      <td>TCATGA</td>\n",
       "      <td>TCATGA_AAAAAAGCCTGGACCA_11</td>\n",
       "      <td>TRB</td>\n",
       "      <td>TRBV9</td>\n",
       "      <td>TRBD2</td>\n",
       "      <td>TRBJ2-3</td>\n",
       "      <td>TGTGCCAGCAGACCCAACAGCGGGGGCACAGATACGCAGTATTTT</td>\n",
       "      <td>CASRPNSGGTDTQYF</td>\n",
       "      <td>AAAAAAGCCTGGACCA</td>\n",
       "    </tr>\n",
       "    <tr>\n",
       "      <th>4</th>\n",
       "      <td>TCATGA</td>\n",
       "      <td>TCATGA_AAAAAAGGTAGAGTGG_12</td>\n",
       "      <td>TRB</td>\n",
       "      <td>TRBV11-2</td>\n",
       "      <td>NaN</td>\n",
       "      <td>TRBJ2-3</td>\n",
       "      <td>TGTGCCAGCACCCCCAGTTGGGTCGCAGATACGCAGTATTTT</td>\n",
       "      <td>CASTPSWVADTQYF</td>\n",
       "      <td>AAAAAAGGTAGAGTGG</td>\n",
       "    </tr>\n",
       "    <tr>\n",
       "      <th>...</th>\n",
       "      <td>...</td>\n",
       "      <td>...</td>\n",
       "      <td>...</td>\n",
       "      <td>...</td>\n",
       "      <td>...</td>\n",
       "      <td>...</td>\n",
       "      <td>...</td>\n",
       "      <td>...</td>\n",
       "      <td>...</td>\n",
       "    </tr>\n",
       "    <tr>\n",
       "      <th>98214</th>\n",
       "      <td>TCATGA</td>\n",
       "      <td>TCATGA_TTTTTGTCATAACTTG_189902</td>\n",
       "      <td>TRB</td>\n",
       "      <td>TRBV6-6</td>\n",
       "      <td>NaN</td>\n",
       "      <td>TRBJ1-2</td>\n",
       "      <td>TGTGCCAGCAGTCGTACAGTGAATATCTATGGCTACACCTTC</td>\n",
       "      <td>CASSRTVNIYGYTF</td>\n",
       "      <td>TTTTTGTCATAACTTG</td>\n",
       "    </tr>\n",
       "    <tr>\n",
       "      <th>98215</th>\n",
       "      <td>TCATGA</td>\n",
       "      <td>TCATGA_TTTTTTAAGGCCATGC_189908</td>\n",
       "      <td>TRA</td>\n",
       "      <td>TRAV20</td>\n",
       "      <td>NaN</td>\n",
       "      <td>TRAJ57</td>\n",
       "      <td>TGTGCTGCCCCCTCACAGGGCGGATCTGAAAAGCTGGTCTTT</td>\n",
       "      <td>CAAPSQGGSEKLVF</td>\n",
       "      <td>TTTTTTAAGGCCATGC</td>\n",
       "    </tr>\n",
       "    <tr>\n",
       "      <th>98216</th>\n",
       "      <td>TCATGA</td>\n",
       "      <td>TCATGA_TTTTTTCGAAAATGAG_189913</td>\n",
       "      <td>TRB</td>\n",
       "      <td>TRBV10-3</td>\n",
       "      <td>TRBD1</td>\n",
       "      <td>TRBJ2-1</td>\n",
       "      <td>TGTGCCATCCATCGAGGGGACAATGAGCAGTTCTTC</td>\n",
       "      <td>CAIHRGDNEQFF</td>\n",
       "      <td>TTTTTTCGAAAATGAG</td>\n",
       "    </tr>\n",
       "    <tr>\n",
       "      <th>98217</th>\n",
       "      <td>TCATGA</td>\n",
       "      <td>TCATGA_TTTTTTGAAAACCCAG_189914</td>\n",
       "      <td>TRB</td>\n",
       "      <td>TRBV21-1</td>\n",
       "      <td>TRBD2</td>\n",
       "      <td>TRBJ2-1</td>\n",
       "      <td>TGTGCCAGCAGCTTGCGACTCACGGGGGGGTACAATGAGCAGTTCTTC</td>\n",
       "      <td>CASSLRLTGGYNEQFF</td>\n",
       "      <td>TTTTTTGAAAACCCAG</td>\n",
       "    </tr>\n",
       "    <tr>\n",
       "      <th>98218</th>\n",
       "      <td>TCATGA</td>\n",
       "      <td>TCATGA_TTTTTTGAGTACACCG_189915</td>\n",
       "      <td>TRA</td>\n",
       "      <td>TRAV38-2/DV8</td>\n",
       "      <td>NaN</td>\n",
       "      <td>TRAJ45</td>\n",
       "      <td>TGTGCTTCTCCGTATTCAGGAGGAGGTGCTGACGGACTCACCTTT</td>\n",
       "      <td>CASPYSGGGADGLTF</td>\n",
       "      <td>TTTTTTGAGTACACCG</td>\n",
       "    </tr>\n",
       "  </tbody>\n",
       "</table>\n",
       "<p>98101 rows × 9 columns</p>\n",
       "</div>"
      ],
      "text/plain": [
       "      barcode                     sequence_id chain     bestVGene bestDGene  \\\n",
       "0      TCATGA       TCATGA_AAAAAAACCAAACAAC_4   TRB       TRBV7-9       NaN   \n",
       "1      TCATGA       TCATGA_AAAAAAAGTGGGGTCA_5   TRB        TRBV19     TRBD2   \n",
       "2      TCATGA       TCATGA_AAAAAAGAAAAGTAGC_9   TRB       TRBV5-1       NaN   \n",
       "3      TCATGA      TCATGA_AAAAAAGCCTGGACCA_11   TRB         TRBV9     TRBD2   \n",
       "4      TCATGA      TCATGA_AAAAAAGGTAGAGTGG_12   TRB      TRBV11-2       NaN   \n",
       "...       ...                             ...   ...           ...       ...   \n",
       "98214  TCATGA  TCATGA_TTTTTGTCATAACTTG_189902   TRB       TRBV6-6       NaN   \n",
       "98215  TCATGA  TCATGA_TTTTTTAAGGCCATGC_189908   TRA        TRAV20       NaN   \n",
       "98216  TCATGA  TCATGA_TTTTTTCGAAAATGAG_189913   TRB      TRBV10-3     TRBD1   \n",
       "98217  TCATGA  TCATGA_TTTTTTGAAAACCCAG_189914   TRB      TRBV21-1     TRBD2   \n",
       "98218  TCATGA  TCATGA_TTTTTTGAGTACACCG_189915   TRA  TRAV38-2/DV8       NaN   \n",
       "\n",
       "      bestJGene                                          nSeqCDR3  \\\n",
       "0       TRBJ2-7                 TGTGCCAGCAGCTTCCTGGGCGAGCAGTACTTC   \n",
       "1       TRBJ2-1     TGTGCCAGTAGTCGGGGGGCCCACGGGGACAATGAGCAGGTCTTC   \n",
       "2       TRBJ2-3              TGCGCCAGCAGCTCTAACACAGAAACGCAGTATTTT   \n",
       "3       TRBJ2-3     TGTGCCAGCAGACCCAACAGCGGGGGCACAGATACGCAGTATTTT   \n",
       "4       TRBJ2-3        TGTGCCAGCACCCCCAGTTGGGTCGCAGATACGCAGTATTTT   \n",
       "...         ...                                               ...   \n",
       "98214   TRBJ1-2        TGTGCCAGCAGTCGTACAGTGAATATCTATGGCTACACCTTC   \n",
       "98215    TRAJ57        TGTGCTGCCCCCTCACAGGGCGGATCTGAAAAGCTGGTCTTT   \n",
       "98216   TRBJ2-1              TGTGCCATCCATCGAGGGGACAATGAGCAGTTCTTC   \n",
       "98217   TRBJ2-1  TGTGCCAGCAGCTTGCGACTCACGGGGGGGTACAATGAGCAGTTCTTC   \n",
       "98218    TRAJ45     TGTGCTTCTCCGTATTCAGGAGGAGGTGCTGACGGACTCACCTTT   \n",
       "\n",
       "              aaSeqCDR3               umi  \n",
       "0           CASSFLGEQYF  AAAAAAACCAAACAAC  \n",
       "1       CASSRGAHGDNEQVF  AAAAAAAGTGGGGTCA  \n",
       "2          CASSSNTETQYF  AAAAAAGAAAAGTAGC  \n",
       "3       CASRPNSGGTDTQYF  AAAAAAGCCTGGACCA  \n",
       "4        CASTPSWVADTQYF  AAAAAAGGTAGAGTGG  \n",
       "...                 ...               ...  \n",
       "98214    CASSRTVNIYGYTF  TTTTTGTCATAACTTG  \n",
       "98215    CAAPSQGGSEKLVF  TTTTTTAAGGCCATGC  \n",
       "98216      CAIHRGDNEQFF  TTTTTTCGAAAATGAG  \n",
       "98217  CASSLRLTGGYNEQFF  TTTTTTGAAAACCCAG  \n",
       "98218   CASPYSGGGADGLTF  TTTTTTGAGTACACCG  \n",
       "\n",
       "[98101 rows x 9 columns]"
      ]
     },
     "execution_count": 323,
     "metadata": {},
     "output_type": "execute_result"
    }
   ],
   "source": [
    "productive_file"
   ]
  },
  {
   "cell_type": "code",
   "execution_count": 324,
   "id": "direct-workplace",
   "metadata": {},
   "outputs": [
    {
     "data": {
      "text/plain": [
       "38904"
      ]
     },
     "execution_count": 324,
     "metadata": {},
     "output_type": "execute_result"
    }
   ],
   "source": [
    "len(set(productive_file.nSeqCDR3))"
   ]
  },
  {
   "cell_type": "code",
   "execution_count": 325,
   "id": "superior-polls",
   "metadata": {},
   "outputs": [
    {
     "data": {
      "text/plain": [
       "36309"
      ]
     },
     "execution_count": 325,
     "metadata": {},
     "output_type": "execute_result"
    }
   ],
   "source": [
    "len(set(productive_file.aaSeqCDR3))"
   ]
  },
  {
   "cell_type": "code",
   "execution_count": 326,
   "id": "historical-worker",
   "metadata": {},
   "outputs": [],
   "source": [
    "\n",
    "n_corrected_cdr3_nt, n_corrected_umi = 0, 0\n",
    "for chain in chains:\n",
    "    df_tmp = productive_file[productive_file[\"chain\"] == chain]\n",
    "    groupby_elements = [\"chain\",\"nSeqCDR3\"]\n",
    "    clonetypes = df_tmp.groupby(groupby_elements, as_index=False).agg({\"umi\": \"count\"})\n",
    "    clonetypes = clonetypes.sort_values(\"umi\", ascending=False)\n",
    "    umi_dict = dict(zip(list(clonetypes.nSeqCDR3),list(clonetypes.umi)))\n",
    "    \n",
    "    correct_dict = correct_cdr3_nt(umi_dict)\n",
    "    \n",
    "    for low_nt, high_nt in correct_dict.items():\n",
    "        high_aa = df_tmp.loc[df_tmp.nSeqCDR3 == high_nt].aaSeqCDR3.iloc[0]\n",
    "\n",
    "        productive_file.loc[productive_file.nSeqCDR3 == low_nt, 'aaSeqCDR3'] = high_aa\n",
    "        productive_file.loc[productive_file.nSeqCDR3 == low_nt, 'nSeqCDR3'] = high_nt"
   ]
  },
  {
   "cell_type": "code",
   "execution_count": 327,
   "id": "choice-appraisal",
   "metadata": {},
   "outputs": [
    {
     "data": {
      "text/plain": [
       "38721"
      ]
     },
     "execution_count": 327,
     "metadata": {},
     "output_type": "execute_result"
    }
   ],
   "source": [
    "len(set(productive_file.nSeqCDR3))"
   ]
  },
  {
   "cell_type": "code",
   "execution_count": 328,
   "id": "living-glance",
   "metadata": {},
   "outputs": [
    {
     "data": {
      "text/plain": [
       "36238"
      ]
     },
     "execution_count": 328,
     "metadata": {},
     "output_type": "execute_result"
    }
   ],
   "source": [
    "len(set(productive_file.aaSeqCDR3))"
   ]
  },
  {
   "cell_type": "code",
   "execution_count": 310,
   "id": "elementary-gender",
   "metadata": {},
   "outputs": [
    {
     "data": {
      "text/plain": [
       "183"
      ]
     },
     "execution_count": 310,
     "metadata": {},
     "output_type": "execute_result"
    }
   ],
   "source": [
    "n_corrected_cdr3_nt"
   ]
  },
  {
   "cell_type": "code",
   "execution_count": 311,
   "id": "opponent-medicare",
   "metadata": {},
   "outputs": [
    {
     "data": {
      "text/plain": [
       "788"
      ]
     },
     "execution_count": 311,
     "metadata": {},
     "output_type": "execute_result"
    }
   ],
   "source": [
    "n_corrected_umi"
   ]
  },
  {
   "cell_type": "code",
   "execution_count": 329,
   "id": "available-basketball",
   "metadata": {},
   "outputs": [
    {
     "data": {
      "text/html": [
       "<div>\n",
       "<style scoped>\n",
       "    .dataframe tbody tr th:only-of-type {\n",
       "        vertical-align: middle;\n",
       "    }\n",
       "\n",
       "    .dataframe tbody tr th {\n",
       "        vertical-align: top;\n",
       "    }\n",
       "\n",
       "    .dataframe thead th {\n",
       "        text-align: right;\n",
       "    }\n",
       "</style>\n",
       "<table border=\"1\" class=\"dataframe\">\n",
       "  <thead>\n",
       "    <tr style=\"text-align: right;\">\n",
       "      <th></th>\n",
       "      <th>barcode</th>\n",
       "      <th>sequence_id</th>\n",
       "      <th>chain</th>\n",
       "      <th>bestVGene</th>\n",
       "      <th>bestDGene</th>\n",
       "      <th>bestJGene</th>\n",
       "      <th>nSeqCDR3</th>\n",
       "      <th>aaSeqCDR3</th>\n",
       "      <th>umi</th>\n",
       "    </tr>\n",
       "  </thead>\n",
       "  <tbody>\n",
       "    <tr>\n",
       "      <th>0</th>\n",
       "      <td>TCATGA</td>\n",
       "      <td>TCATGA_AAAAAAACCAAACAAC_4</td>\n",
       "      <td>TRB</td>\n",
       "      <td>TRBV7-9</td>\n",
       "      <td>NaN</td>\n",
       "      <td>TRBJ2-7</td>\n",
       "      <td>TGTGCCAGCAGCTTCCTGGGCGAGCAGTACTTC</td>\n",
       "      <td>CASSFLGEQYF</td>\n",
       "      <td>AAAAAAACCAAACAAC</td>\n",
       "    </tr>\n",
       "    <tr>\n",
       "      <th>1</th>\n",
       "      <td>TCATGA</td>\n",
       "      <td>TCATGA_AAAAAAAGTGGGGTCA_5</td>\n",
       "      <td>TRB</td>\n",
       "      <td>TRBV19</td>\n",
       "      <td>TRBD2</td>\n",
       "      <td>TRBJ2-1</td>\n",
       "      <td>TGTGCCAGTAGTCGGGGGGCCCACGGGGACAATGAGCAGGTCTTC</td>\n",
       "      <td>CASSRGAHGDNEQVF</td>\n",
       "      <td>AAAAAAAGTGGGGTCA</td>\n",
       "    </tr>\n",
       "    <tr>\n",
       "      <th>2</th>\n",
       "      <td>TCATGA</td>\n",
       "      <td>TCATGA_AAAAAAGAAAAGTAGC_9</td>\n",
       "      <td>TRB</td>\n",
       "      <td>TRBV5-1</td>\n",
       "      <td>NaN</td>\n",
       "      <td>TRBJ2-3</td>\n",
       "      <td>TGCGCCAGCAGCTCTAACACAGAAACGCAGTATTTT</td>\n",
       "      <td>CASSSNTETQYF</td>\n",
       "      <td>AAAAAAGAAAAGTAGC</td>\n",
       "    </tr>\n",
       "    <tr>\n",
       "      <th>3</th>\n",
       "      <td>TCATGA</td>\n",
       "      <td>TCATGA_AAAAAAGCCTGGACCA_11</td>\n",
       "      <td>TRB</td>\n",
       "      <td>TRBV9</td>\n",
       "      <td>TRBD2</td>\n",
       "      <td>TRBJ2-3</td>\n",
       "      <td>TGTGCCAGCAGACCCAACAGCGGGGGCACAGATACGCAGTATTTT</td>\n",
       "      <td>CASRPNSGGTDTQYF</td>\n",
       "      <td>AAAAAAGCCTGGACCA</td>\n",
       "    </tr>\n",
       "    <tr>\n",
       "      <th>4</th>\n",
       "      <td>TCATGA</td>\n",
       "      <td>TCATGA_AAAAAAGGTAGAGTGG_12</td>\n",
       "      <td>TRB</td>\n",
       "      <td>TRBV11-2</td>\n",
       "      <td>NaN</td>\n",
       "      <td>TRBJ2-3</td>\n",
       "      <td>TGTGCCAGCACCCCCAGTTGGGTCGCAGATACGCAGTATTTT</td>\n",
       "      <td>CASTPSWVADTQYF</td>\n",
       "      <td>AAAAAAGGTAGAGTGG</td>\n",
       "    </tr>\n",
       "    <tr>\n",
       "      <th>...</th>\n",
       "      <td>...</td>\n",
       "      <td>...</td>\n",
       "      <td>...</td>\n",
       "      <td>...</td>\n",
       "      <td>...</td>\n",
       "      <td>...</td>\n",
       "      <td>...</td>\n",
       "      <td>...</td>\n",
       "      <td>...</td>\n",
       "    </tr>\n",
       "    <tr>\n",
       "      <th>98214</th>\n",
       "      <td>TCATGA</td>\n",
       "      <td>TCATGA_TTTTTGTCATAACTTG_189902</td>\n",
       "      <td>TRB</td>\n",
       "      <td>TRBV6-6</td>\n",
       "      <td>NaN</td>\n",
       "      <td>TRBJ1-2</td>\n",
       "      <td>TGTGCCAGCAGTCGTACAGTGAATATCTATGGCTACACCTTC</td>\n",
       "      <td>CASSRTVNIYGYTF</td>\n",
       "      <td>TTTTTGTCATAACTTG</td>\n",
       "    </tr>\n",
       "    <tr>\n",
       "      <th>98215</th>\n",
       "      <td>TCATGA</td>\n",
       "      <td>TCATGA_TTTTTTAAGGCCATGC_189908</td>\n",
       "      <td>TRA</td>\n",
       "      <td>TRAV20</td>\n",
       "      <td>NaN</td>\n",
       "      <td>TRAJ57</td>\n",
       "      <td>TGTGCTGCCCCCTCACAGGGCGGATCTGAAAAGCTGGTCTTT</td>\n",
       "      <td>CAAPSQGGSEKLVF</td>\n",
       "      <td>TTTTTTAAGGCCATGC</td>\n",
       "    </tr>\n",
       "    <tr>\n",
       "      <th>98216</th>\n",
       "      <td>TCATGA</td>\n",
       "      <td>TCATGA_TTTTTTCGAAAATGAG_189913</td>\n",
       "      <td>TRB</td>\n",
       "      <td>TRBV10-3</td>\n",
       "      <td>TRBD1</td>\n",
       "      <td>TRBJ2-1</td>\n",
       "      <td>TGTGCCATCCATCGAGGGGACAATGAGCAGTTCTTC</td>\n",
       "      <td>CAIHRGDNEQFF</td>\n",
       "      <td>TTTTTTCGAAAATGAG</td>\n",
       "    </tr>\n",
       "    <tr>\n",
       "      <th>98217</th>\n",
       "      <td>TCATGA</td>\n",
       "      <td>TCATGA_TTTTTTGAAAACCCAG_189914</td>\n",
       "      <td>TRB</td>\n",
       "      <td>TRBV21-1</td>\n",
       "      <td>TRBD2</td>\n",
       "      <td>TRBJ2-1</td>\n",
       "      <td>TGTGCCAGCAGCTTGCGACTCACGGGGGGGTACAATGAGCAGTTCTTC</td>\n",
       "      <td>CASSLRLTGGYNEQFF</td>\n",
       "      <td>TTTTTTGAAAACCCAG</td>\n",
       "    </tr>\n",
       "    <tr>\n",
       "      <th>98218</th>\n",
       "      <td>TCATGA</td>\n",
       "      <td>TCATGA_TTTTTTGAGTACACCG_189915</td>\n",
       "      <td>TRA</td>\n",
       "      <td>TRAV38-2/DV8</td>\n",
       "      <td>NaN</td>\n",
       "      <td>TRAJ45</td>\n",
       "      <td>TGTGCTTCTCCGTATTCAGGAGGAGGTGCTGACGGACTCACCTTT</td>\n",
       "      <td>CASPYSGGGADGLTF</td>\n",
       "      <td>TTTTTTGAGTACACCG</td>\n",
       "    </tr>\n",
       "  </tbody>\n",
       "</table>\n",
       "<p>98101 rows × 9 columns</p>\n",
       "</div>"
      ],
      "text/plain": [
       "      barcode                     sequence_id chain     bestVGene bestDGene  \\\n",
       "0      TCATGA       TCATGA_AAAAAAACCAAACAAC_4   TRB       TRBV7-9       NaN   \n",
       "1      TCATGA       TCATGA_AAAAAAAGTGGGGTCA_5   TRB        TRBV19     TRBD2   \n",
       "2      TCATGA       TCATGA_AAAAAAGAAAAGTAGC_9   TRB       TRBV5-1       NaN   \n",
       "3      TCATGA      TCATGA_AAAAAAGCCTGGACCA_11   TRB         TRBV9     TRBD2   \n",
       "4      TCATGA      TCATGA_AAAAAAGGTAGAGTGG_12   TRB      TRBV11-2       NaN   \n",
       "...       ...                             ...   ...           ...       ...   \n",
       "98214  TCATGA  TCATGA_TTTTTGTCATAACTTG_189902   TRB       TRBV6-6       NaN   \n",
       "98215  TCATGA  TCATGA_TTTTTTAAGGCCATGC_189908   TRA        TRAV20       NaN   \n",
       "98216  TCATGA  TCATGA_TTTTTTCGAAAATGAG_189913   TRB      TRBV10-3     TRBD1   \n",
       "98217  TCATGA  TCATGA_TTTTTTGAAAACCCAG_189914   TRB      TRBV21-1     TRBD2   \n",
       "98218  TCATGA  TCATGA_TTTTTTGAGTACACCG_189915   TRA  TRAV38-2/DV8       NaN   \n",
       "\n",
       "      bestJGene                                          nSeqCDR3  \\\n",
       "0       TRBJ2-7                 TGTGCCAGCAGCTTCCTGGGCGAGCAGTACTTC   \n",
       "1       TRBJ2-1     TGTGCCAGTAGTCGGGGGGCCCACGGGGACAATGAGCAGGTCTTC   \n",
       "2       TRBJ2-3              TGCGCCAGCAGCTCTAACACAGAAACGCAGTATTTT   \n",
       "3       TRBJ2-3     TGTGCCAGCAGACCCAACAGCGGGGGCACAGATACGCAGTATTTT   \n",
       "4       TRBJ2-3        TGTGCCAGCACCCCCAGTTGGGTCGCAGATACGCAGTATTTT   \n",
       "...         ...                                               ...   \n",
       "98214   TRBJ1-2        TGTGCCAGCAGTCGTACAGTGAATATCTATGGCTACACCTTC   \n",
       "98215    TRAJ57        TGTGCTGCCCCCTCACAGGGCGGATCTGAAAAGCTGGTCTTT   \n",
       "98216   TRBJ2-1              TGTGCCATCCATCGAGGGGACAATGAGCAGTTCTTC   \n",
       "98217   TRBJ2-1  TGTGCCAGCAGCTTGCGACTCACGGGGGGGTACAATGAGCAGTTCTTC   \n",
       "98218    TRAJ45     TGTGCTTCTCCGTATTCAGGAGGAGGTGCTGACGGACTCACCTTT   \n",
       "\n",
       "              aaSeqCDR3               umi  \n",
       "0           CASSFLGEQYF  AAAAAAACCAAACAAC  \n",
       "1       CASSRGAHGDNEQVF  AAAAAAAGTGGGGTCA  \n",
       "2          CASSSNTETQYF  AAAAAAGAAAAGTAGC  \n",
       "3       CASRPNSGGTDTQYF  AAAAAAGCCTGGACCA  \n",
       "4        CASTPSWVADTQYF  AAAAAAGGTAGAGTGG  \n",
       "...                 ...               ...  \n",
       "98214    CASSRTVNIYGYTF  TTTTTGTCATAACTTG  \n",
       "98215    CAAPSQGGSEKLVF  TTTTTTAAGGCCATGC  \n",
       "98216      CAIHRGDNEQFF  TTTTTTCGAAAATGAG  \n",
       "98217  CASSLRLTGGYNEQFF  TTTTTTGAAAACCCAG  \n",
       "98218   CASPYSGGGADGLTF  TTTTTTGAGTACACCG  \n",
       "\n",
       "[98101 rows x 9 columns]"
      ]
     },
     "execution_count": 329,
     "metadata": {},
     "output_type": "execute_result"
    }
   ],
   "source": [
    "productive_file"
   ]
  },
  {
   "cell_type": "code",
   "execution_count": null,
   "id": "noticed-soccer",
   "metadata": {},
   "outputs": [],
   "source": []
  },
  {
   "cell_type": "code",
   "execution_count": null,
   "id": "unavailable-temperature",
   "metadata": {},
   "outputs": [],
   "source": []
  },
  {
   "cell_type": "code",
   "execution_count": null,
   "id": "greatest-indication",
   "metadata": {},
   "outputs": [],
   "source": []
  },
  {
   "cell_type": "code",
   "execution_count": null,
   "id": "synthetic-testimony",
   "metadata": {},
   "outputs": [],
   "source": []
  },
  {
   "cell_type": "code",
   "execution_count": null,
   "id": "caroline-demand",
   "metadata": {},
   "outputs": [],
   "source": []
  },
  {
   "cell_type": "code",
   "execution_count": null,
   "id": "bright-sponsorship",
   "metadata": {},
   "outputs": [],
   "source": []
  },
  {
   "cell_type": "code",
   "execution_count": null,
   "id": "oriented-traffic",
   "metadata": {},
   "outputs": [],
   "source": []
  },
  {
   "cell_type": "code",
   "execution_count": null,
   "id": "fitted-arbor",
   "metadata": {},
   "outputs": [],
   "source": []
  },
  {
   "cell_type": "code",
   "execution_count": null,
   "id": "extreme-removal",
   "metadata": {},
   "outputs": [],
   "source": []
  },
  {
   "cell_type": "code",
   "execution_count": null,
   "id": "visible-music",
   "metadata": {},
   "outputs": [],
   "source": []
  },
  {
   "cell_type": "code",
   "execution_count": null,
   "id": "exceptional-drilling",
   "metadata": {},
   "outputs": [],
   "source": []
  },
  {
   "cell_type": "code",
   "execution_count": null,
   "id": "legitimate-ceiling",
   "metadata": {},
   "outputs": [],
   "source": []
  },
  {
   "cell_type": "code",
   "execution_count": null,
   "id": "limiting-minority",
   "metadata": {},
   "outputs": [],
   "source": []
  },
  {
   "cell_type": "code",
   "execution_count": null,
   "id": "figured-sussex",
   "metadata": {},
   "outputs": [],
   "source": []
  },
  {
   "cell_type": "code",
   "execution_count": null,
   "id": "adolescent-premiere",
   "metadata": {},
   "outputs": [],
   "source": [
    "import pandas as pd"
   ]
  },
  {
   "cell_type": "code",
   "execution_count": null,
   "id": "unlike-writer",
   "metadata": {},
   "outputs": [],
   "source": [
    "airr = pd.read_csv(\"/SGRNJ06/randd/USER/cjj/celedev/vdj_bulk/20230209tcr/ts16/R230203023C/04.mapping_vdj/R230203023C_airr.tsv\", sep='\\t')"
   ]
  },
  {
   "cell_type": "code",
   "execution_count": null,
   "id": "progressive-ordinary",
   "metadata": {},
   "outputs": [],
   "source": [
    "airr = airr[airr[\"locus\"].isin([\"TRA\",\"TRB\"])]\n",
    "airr = airr[airr[\"productive\"]==\"T\"]"
   ]
  },
  {
   "cell_type": "code",
   "execution_count": null,
   "id": "private-fight",
   "metadata": {},
   "outputs": [],
   "source": [
    "airr"
   ]
  },
  {
   "cell_type": "code",
   "execution_count": null,
   "id": "horizontal-permission",
   "metadata": {},
   "outputs": [],
   "source": [
    "productive_file[\"cdr3_len\"] = productive_file[\"aaSeqCDR3\"].apply(lambda x: len(x))"
   ]
  },
  {
   "cell_type": "code",
   "execution_count": null,
   "id": "serious-cancellation",
   "metadata": {},
   "outputs": [],
   "source": [
    "productive_file.sort_values(\"cdr3_len\",ascending=False)"
   ]
  },
  {
   "cell_type": "code",
   "execution_count": null,
   "id": "exempt-alfred",
   "metadata": {},
   "outputs": [],
   "source": []
  },
  {
   "cell_type": "code",
   "execution_count": null,
   "id": "comparable-breathing",
   "metadata": {},
   "outputs": [],
   "source": [
    "clonetypes"
   ]
  },
  {
   "cell_type": "code",
   "execution_count": null,
   "id": "inappropriate-valuable",
   "metadata": {},
   "outputs": [],
   "source": [
    "umitot = clonetypes[clonetypes[\"chain\"]==\"TRA\"].umi.shape[0] + clonetypes[clonetypes[\"chain\"]==\"TRB\"].umi.shape[0]"
   ]
  },
  {
   "cell_type": "code",
   "execution_count": null,
   "id": "rubber-kinase",
   "metadata": {},
   "outputs": [],
   "source": [
    "n_50 = np.median(clonetypes.umi)"
   ]
  },
  {
   "cell_type": "code",
   "execution_count": null,
   "id": "charming-frontier",
   "metadata": {},
   "outputs": [],
   "source": [
    "n_10 = list(clonetypes.umi)[clonetypes.shape[0]//10]"
   ]
  },
  {
   "cell_type": "code",
   "execution_count": null,
   "id": "spatial-sewing",
   "metadata": {},
   "outputs": [],
   "source": [
    "n_50"
   ]
  },
  {
   "cell_type": "code",
   "execution_count": null,
   "id": "herbal-school",
   "metadata": {},
   "outputs": [],
   "source": [
    "n_10"
   ]
  },
  {
   "cell_type": "code",
   "execution_count": null,
   "id": "sudden-novelty",
   "metadata": {},
   "outputs": [],
   "source": [
    "umin = min( n_10, n_50 - (4 * math.sqrt(n_50)) )"
   ]
  },
  {
   "cell_type": "code",
   "execution_count": null,
   "id": "greater-seminar",
   "metadata": {},
   "outputs": [],
   "source": [
    "umin"
   ]
  },
  {
   "cell_type": "code",
   "execution_count": null,
   "id": "refined-robinson",
   "metadata": {},
   "outputs": [],
   "source": [
    "math.sqrt(1)"
   ]
  },
  {
   "cell_type": "code",
   "execution_count": null,
   "id": "cutting-litigation",
   "metadata": {},
   "outputs": [],
   "source": []
  },
  {
   "cell_type": "code",
   "execution_count": null,
   "id": "perfect-burns",
   "metadata": {},
   "outputs": [],
   "source": [
    "# 如果一对链具有相同长度的 VJ 基因和 CDR3 片段，则合并两个精确的亚克隆型。\n"
   ]
  },
  {
   "cell_type": "code",
   "execution_count": null,
   "id": "loose-pontiac",
   "metadata": {},
   "outputs": [],
   "source": [
    "df = airr\n",
    "df.fillna(\"\", inplace=True)"
   ]
  },
  {
   "cell_type": "code",
   "execution_count": null,
   "id": "regulated-welding",
   "metadata": {},
   "outputs": [],
   "source": [
    "df = df[(df[\"v_call\"]!=\"\") | ((df[\"d_call\"]!=\"\")) | ((df[\"j_call\"]!=\"\"))]"
   ]
  },
  {
   "cell_type": "code",
   "execution_count": null,
   "id": "genetic-token",
   "metadata": {},
   "outputs": [],
   "source": [
    "df_cdr3 = df[(df[\"cdr3_aa\"]!=\"\") & (df[\"junction_aa\"]!=\"\")]"
   ]
  },
  {
   "cell_type": "code",
   "execution_count": null,
   "id": "third-drink",
   "metadata": {},
   "outputs": [],
   "source": [
    "df_correct_cdr3 = df_cdr3[~(df_cdr3[\"cdr3_aa\"].str.contains(r\"\\*\")) & ~(df_cdr3[\"cdr3_aa\"].str.contains(\"X\"))]"
   ]
  },
  {
   "cell_type": "code",
   "execution_count": null,
   "id": "mineral-blood",
   "metadata": {},
   "outputs": [],
   "source": [
    "df_confident = df_correct_cdr3[df_correct_cdr3[\"productive\"]==\"T\"]"
   ]
  },
  {
   "cell_type": "code",
   "execution_count": null,
   "id": "tight-permit",
   "metadata": {},
   "outputs": [],
   "source": [
    "productive_file = df_confident[df_confident[\"locus\"].isin([\"TRA\",\"TRB\"])]"
   ]
  },
  {
   "cell_type": "code",
   "execution_count": null,
   "id": "wired-train",
   "metadata": {},
   "outputs": [],
   "source": [
    "productive_file"
   ]
  },
  {
   "cell_type": "code",
   "execution_count": null,
   "id": "fabulous-reconstruction",
   "metadata": {},
   "outputs": [],
   "source": [
    "productive_file[\"v_len\"] = productive_file[\"v_alignment_end\"] - productive_file[\"v_alignment_start\"]\n",
    "productive_file[\"j_len\"] = productive_file[\"j_alignment_end\"] - productive_file[\"j_alignment_start\"]"
   ]
  },
  {
   "cell_type": "code",
   "execution_count": null,
   "id": "cleared-recommendation",
   "metadata": {},
   "outputs": [],
   "source": [
    "productive_file = productive_file[productive_file[\"junction_aa\"].str.len()>7]\n",
    "productive_file = productive_file[productive_file[\"junction_aa\"].str.startswith('C')]"
   ]
  },
  {
   "cell_type": "code",
   "execution_count": null,
   "id": "sophisticated-wayne",
   "metadata": {},
   "outputs": [],
   "source": [
    "groupby_elements = [\"v_len\",\"j_len\",\"junction_aa\"]\n",
    "clonetypes = productive_file.groupby(groupby_elements, as_index=False).count()"
   ]
  },
  {
   "cell_type": "code",
   "execution_count": null,
   "id": "general-sucking",
   "metadata": {},
   "outputs": [],
   "source": [
    "clonetypes"
   ]
  },
  {
   "cell_type": "code",
   "execution_count": null,
   "id": "lesbian-trust",
   "metadata": {},
   "outputs": [],
   "source": [
    "len(set(clonetypes[\"junction_aa\"]))"
   ]
  },
  {
   "cell_type": "code",
   "execution_count": null,
   "id": "proof-immune",
   "metadata": {},
   "outputs": [],
   "source": []
  }
 ],
 "metadata": {
  "kernelspec": {
   "display_name": "Python 3 (ipykernel)",
   "language": "python",
   "name": "python3"
  },
  "language_info": {
   "codemirror_mode": {
    "name": "ipython",
    "version": 3
   },
   "file_extension": ".py",
   "mimetype": "text/x-python",
   "name": "python",
   "nbconvert_exporter": "python",
   "pygments_lexer": "ipython3",
   "version": "3.7.10"
  }
 },
 "nbformat": 4,
 "nbformat_minor": 5
}
