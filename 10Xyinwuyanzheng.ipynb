{
 "cells": [
  {
   "cell_type": "code",
   "execution_count": 1,
   "id": "eligible-machinery",
   "metadata": {},
   "outputs": [],
   "source": [
    "import pandas as pd\n",
    "import pysam"
   ]
  },
  {
   "cell_type": "code",
   "execution_count": null,
   "id": "prostate-arctic",
   "metadata": {},
   "outputs": [],
   "source": [
    "handle_file = open('/SGRNJ06/randd/USER/cjj/celedev/vdj10x/20220610BCR_bulk/L11/H_0530PBMC_LR_8A/whitelist', 'w')\n",
    "with pysam.FastxFile('/SGRNJ06/DATA04/22_06/2022_06_04/RD21010602/H_0530PBMC_LR_8A/R220530022_R1.fastq.gz') as f:\n",
    "    for read in f:\n",
    "        handle_file.write(str(read.sequence[11:19]) + '\\n')\n",
    "handle_file.close()"
   ]
  },
  {
   "cell_type": "code",
   "execution_count": null,
   "id": "capital-airplane",
   "metadata": {},
   "outputs": [],
   "source": [
    "handle_file = open('/SGRNJ06/randd/USER/cjj/celedev/vdj10x/20220610BCR_bulk/L11/H_0530PBMC_LR_8B/whitelist', 'w')\n",
    "with pysam.FastxFile('/SGRNJ06/DATA04/22_06/2022_06_03/RD21010602/H_0530PBMC_LR_8B/R220530023_R1.fastq.gz') as f:\n",
    "    for read in f:\n",
    "        handle_file.write(str(read.sequence[11:19]) + '\\n')\n",
    "handle_file.close()"
   ]
  },
  {
   "cell_type": "code",
   "execution_count": null,
   "id": "surprised-equation",
   "metadata": {},
   "outputs": [],
   "source": [
    "handle_file = open('/SGRNJ06/randd/USER/cjj/celedev/vdj10x/20220610BCR_bulk/L11/H_0602PBMC_LRM_8A_2NL/whitelist', 'w')\n",
    "with pysam.FastxFile('/SGRNJ06/DATA04/22_06/2022_06_09/RD21010602/H_0602PBMC_LRM_8A_2NL/R220602104_R1.fastq.gz') as f:\n",
    "    for read in f:\n",
    "        handle_file.write(str(read.sequence[11:19]) + '\\n')\n",
    "handle_file.close()"
   ]
  },
  {
   "cell_type": "code",
   "execution_count": null,
   "id": "touched-disorder",
   "metadata": {},
   "outputs": [],
   "source": [
    "handle_file = open('/SGRNJ06/randd/USER/cjj/celedev/vdj10x/20220610BCR_bulk/L11/H_0602PBMC_LRM_8B_2NL/whitelist', 'w')\n",
    "with pysam.FastxFile('/SGRNJ06/DATA04/22_06/2022_06_09/RD21010602/H_0602PBMC_LRM_8B_2NL/R220602105_R1.fastq.gz') as f:\n",
    "    for read in f:\n",
    "        handle_file.write(str(read.sequence[11:19]) + '\\n')\n",
    "handle_file.close()"
   ]
  },
  {
   "cell_type": "code",
   "execution_count": null,
   "id": "resistant-queens",
   "metadata": {},
   "outputs": [],
   "source": []
  },
  {
   "cell_type": "code",
   "execution_count": null,
   "id": "reliable-harbor",
   "metadata": {},
   "outputs": [],
   "source": []
  },
  {
   "cell_type": "code",
   "execution_count": 2,
   "id": "proud-stroke",
   "metadata": {},
   "outputs": [],
   "source": [
    "handle_file = open('/SGRNJ06/randd/USER/cjj/celedev/vdj10x/20230119/R230113035/whitelist', 'w')\n",
    "with pysam.FastxFile('/SGRNJ06/DATA04/23_01/2023_01_17/RD21010602/Hp1_b_0113_3nl/2023-01-17-62/R230113035_R1.fastq.gz') as f:\n",
    "    for read in f:\n",
    "        handle_file.write(str(read.sequence[26:32]) + '\\n')\n",
    "handle_file.close()"
   ]
  },
  {
   "cell_type": "code",
   "execution_count": 3,
   "id": "fatal-female",
   "metadata": {},
   "outputs": [],
   "source": [
    "handle_file = open('/SGRNJ06/randd/USER/cjj/celedev/vdj10x/20230119/R230113036/whitelist', 'w')\n",
    "with pysam.FastxFile('/SGRNJ06/DATA04/23_01/2023_01_17/RD21010602/Hp2_b_0113_3nl/2023-01-17-120/R230113036_R1.fastq.gz') as f:\n",
    "    for read in f:\n",
    "        handle_file.write(str(read.sequence[26:32]) + '\\n')\n",
    "handle_file.close()"
   ]
  },
  {
   "cell_type": "code",
   "execution_count": null,
   "id": "smart-asian",
   "metadata": {},
   "outputs": [],
   "source": [
    "handle_file = open('/SGRNJ06/randd/USER/cjj/celedev/vdj10x/20220815bulk_mu_spl/R220804013/whitelist', 'w')\n",
    "with pysam.FastxFile('/SGRNJ06/DATA04/22_08/2022_08_09/RD21010602/M_spl_lys_1Tri_bulk/R220804013_R1.fastq.gz') as f:\n",
    "    for read in f:\n",
    "        handle_file.write(str(read.sequence[18:24]) + '\\n')\n",
    "handle_file.close()"
   ]
  },
  {
   "cell_type": "code",
   "execution_count": null,
   "id": "surgical-amazon",
   "metadata": {},
   "outputs": [],
   "source": [
    "handle_file = open('/SGRNJ06/randd/USER/cjj/celedev/vdj10x/20220623/re_analysis_bulk/R220616041/whitelist', 'w')\n",
    "with pysam.FastxFile('/SGRNJ06/DATA04/22_06/2022_06_20/RD21010602/HP1_mix2_0616_2NL/R220616041_R1.fastq.gz') as f:\n",
    "    for read in f:\n",
    "        handle_file.write(str(read.sequence[18:24]) + '\\n')\n",
    "handle_file.close()"
   ]
  },
  {
   "cell_type": "code",
   "execution_count": null,
   "id": "adjustable-candy",
   "metadata": {},
   "outputs": [],
   "source": []
  },
  {
   "cell_type": "code",
   "execution_count": null,
   "id": "continent-position",
   "metadata": {},
   "outputs": [],
   "source": []
  },
  {
   "cell_type": "code",
   "execution_count": 5,
   "id": "certified-reader",
   "metadata": {},
   "outputs": [],
   "source": [
    "# 1 barcode SC\n",
    "index_set = set()\n",
    "index = 0"
   ]
  },
  {
   "cell_type": "code",
   "execution_count": 25,
   "id": "future-slovakia",
   "metadata": {},
   "outputs": [],
   "source": [
    "handle_file = open('/SGRNJ06/randd/USER/cjj/celedev/vdj10x/20220816SC_mu_spl/R220804011/R220804011_R1.fastq.gz','w')\n",
    "with pysam.FastxFile('/SGRNJ06/DATA04/22_08/2022_08_08/RD21010602/M_spl_lys_ck_bulk/R220804011_R1.fastq.gz') as f:\n",
    "    for read in f:\n",
    "        index+=1\n",
    "        if str(read.sequence[18:24]) != 'ACTCCT':\n",
    "            index_set.add(index)\n",
    "            handle_file.write('@'+read.name+' '+read.comment+'\\n'+read.sequence+'\\n'+'+'+'\\n'+read.quality+'\\n')\n"
   ]
  },
  {
   "cell_type": "code",
   "execution_count": 26,
   "id": "informal-updating",
   "metadata": {},
   "outputs": [],
   "source": [
    "handle_file.close()"
   ]
  },
  {
   "cell_type": "code",
   "execution_count": 27,
   "id": "banned-saskatchewan",
   "metadata": {},
   "outputs": [],
   "source": [
    "index = 0\n",
    "handle_file = open('/SGRNJ06/randd/USER/cjj/celedev/vdj10x/20220816SC_mu_spl/R220804011/R220804011_R2.fastq.gz','w')\n",
    "with pysam.FastxFile('/SGRNJ06/DATA04/22_08/2022_08_08/RD21010602/M_spl_lys_ck_bulk/R220804011_R2.fastq.gz') as f:\n",
    "    for read in f:\n",
    "        index+=1\n",
    "        if index in index_set:\n",
    "            handle_file.write('@'+read.name+' '+read.comment+'\\n'+read.sequence+'\\n'+'+'+'\\n'+read.quality+'\\n')"
   ]
  },
  {
   "cell_type": "code",
   "execution_count": 28,
   "id": "generic-warner",
   "metadata": {},
   "outputs": [],
   "source": [
    "handle_file.close()"
   ]
  },
  {
   "cell_type": "code",
   "execution_count": 29,
   "id": "atlantic-seeking",
   "metadata": {},
   "outputs": [],
   "source": [
    "whitelist_set = set()\n",
    "handle_file = open('/SGRNJ06/randd/USER/cjj/celedev/vdj10x/20220816SC_mu_spl/whitelist', 'w')\n",
    "with pysam.FastxFile('/SGRNJ06/randd/USER/cjj/celedev/vdj10x/20220816SC_mu_spl/R220804011/R220804011_R1.fastq.gz') as f:\n",
    "    for read in f:\n",
    "        if str(read.sequence[18:24]) not in whitelist_set:\n",
    "            handle_file.write(str(read.sequence[18:24]) + '\\n')\n",
    "            whitelist_set.add(str(read.sequence[18:24]))\n",
    "handle_file.close()"
   ]
  },
  {
   "cell_type": "code",
   "execution_count": null,
   "id": "empty-costs",
   "metadata": {},
   "outputs": [],
   "source": []
  },
  {
   "cell_type": "code",
   "execution_count": null,
   "id": "ranging-dietary",
   "metadata": {},
   "outputs": [],
   "source": []
  },
  {
   "cell_type": "code",
   "execution_count": null,
   "id": "absent-motel",
   "metadata": {},
   "outputs": [],
   "source": []
  },
  {
   "cell_type": "code",
   "execution_count": null,
   "id": "lesbian-democracy",
   "metadata": {},
   "outputs": [],
   "source": []
  },
  {
   "cell_type": "code",
   "execution_count": null,
   "id": "expensive-relations",
   "metadata": {},
   "outputs": [],
   "source": []
  }
 ],
 "metadata": {
  "kernelspec": {
   "display_name": "Python 3 (ipykernel)",
   "language": "python",
   "name": "python3"
  },
  "language_info": {
   "codemirror_mode": {
    "name": "ipython",
    "version": 3
   },
   "file_extension": ".py",
   "mimetype": "text/x-python",
   "name": "python",
   "nbconvert_exporter": "python",
   "pygments_lexer": "ipython3",
   "version": "3.7.10"
  }
 },
 "nbformat": 4,
 "nbformat_minor": 5
}
