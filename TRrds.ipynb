{
 "cells": [
  {
   "cell_type": "code",
   "execution_count": 1,
   "id": "applied-dodge",
   "metadata": {},
   "outputs": [
    {
     "name": "stderr",
     "output_type": "stream",
     "text": [
      "Warning message:\n",
      "“package ‘Seurat’ was built under R version 4.0.5”\n",
      "Attaching SeuratObject\n",
      "\n"
     ]
    }
   ],
   "source": [
    "library(Seurat)"
   ]
  },
  {
   "cell_type": "code",
   "execution_count": 2,
   "id": "thrown-process",
   "metadata": {},
   "outputs": [],
   "source": [
    "rds = readRDS('/SGRNJ03/PROJ03/PROJ_20.SC/P21110601_SCOPEv2/temp/LC38CA_auto/LC38CA/LC38CA_anno/LC38CA.CellID_annotation.rds')"
   ]
  },
  {
   "cell_type": "code",
   "execution_count": 3,
   "id": "heavy-czech",
   "metadata": {},
   "outputs": [],
   "source": [
    "meta = rds@meta.data"
   ]
  },
  {
   "cell_type": "code",
   "execution_count": 5,
   "id": "secondary-juvenile",
   "metadata": {},
   "outputs": [],
   "source": [
    "write.table(meta,file='/SGRNJ06/randd/USER/cjj/celedev/trust4/20220803/bclist/meta.tsv',sep='\\t', quote=F, row.names=T)"
   ]
  },
  {
   "cell_type": "code",
   "execution_count": null,
   "id": "ready-beijing",
   "metadata": {},
   "outputs": [],
   "source": [
    "meta"
   ]
  },
  {
   "cell_type": "code",
   "execution_count": 7,
   "id": "current-replica",
   "metadata": {},
   "outputs": [
    {
     "data": {
      "text/plain": [
       "\n",
       "    Neutrophils     Hepatocytes  Cholangiocytes inferred_BCells    inferred_MPs \n",
       "           1080            1543             588             153             876 \n",
       " inferred_LSECs    Erythrocytes          TCells     VascularECs     PlasmaCells \n",
       "            729             316             253             259             101 \n",
       "           HSCs \n",
       "            195 "
      ]
     },
     "metadata": {},
     "output_type": "display_data"
    }
   ],
   "source": [
    "table(meta$celltype)"
   ]
  },
  {
   "cell_type": "code",
   "execution_count": 2,
   "id": "gothic-ambassador",
   "metadata": {},
   "outputs": [],
   "source": []
  },
  {
   "cell_type": "code",
   "execution_count": 3,
   "id": "guilty-sequence",
   "metadata": {},
   "outputs": [],
   "source": []
  },
  {
   "cell_type": "code",
   "execution_count": 6,
   "id": "rubber-review",
   "metadata": {},
   "outputs": [],
   "source": []
  },
  {
   "cell_type": "code",
   "execution_count": null,
   "id": "handed-cancer",
   "metadata": {},
   "outputs": [],
   "source": []
  }
 ],
 "metadata": {
  "kernelspec": {
   "display_name": "CJJR",
   "language": "R",
   "name": "cjjr"
  },
  "language_info": {
   "codemirror_mode": "r",
   "file_extension": ".r",
   "mimetype": "text/x-r-source",
   "name": "R",
   "pygments_lexer": "r",
   "version": "4.0.3"
  }
 },
 "nbformat": 4,
 "nbformat_minor": 5
}
