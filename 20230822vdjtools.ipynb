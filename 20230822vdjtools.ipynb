{
 "cells": [
  {
   "cell_type": "code",
   "execution_count": 8,
   "id": "excessive-transaction",
   "metadata": {},
   "outputs": [],
   "source": [
    "import seaborn as sns, matplotlib.pyplot as plt\n",
    "import math\n",
    "import numpy as np \n",
    "import pysam"
   ]
  },
  {
   "cell_type": "code",
   "execution_count": 9,
   "id": "finite-decade",
   "metadata": {},
   "outputs": [],
   "source": [
    "in_fa = \"/SGRNJ06/randd/PROJECT/RD20073101_ScRNA_VDJ/bulk_TCR/20230810_Buffy_T3lib/Hum_0728Buffy_T3lib/03.consensus/Hum_0728Buffy_T3lib_filtered_consensus.fasta\""
   ]
  },
  {
   "cell_type": "code",
   "execution_count": 10,
   "id": "frequent-celebration",
   "metadata": {},
   "outputs": [],
   "source": [
    "out_fa1 = open(\"/SGRNJ06/randd/USER/cjj/celedev/vdj_bulk/20230822vdjtools/index1.fa\", 'w')\n",
    "out_fa2 = open(\"/SGRNJ06/randd/USER/cjj/celedev/vdj_bulk/20230822vdjtools/index2.fa\", 'w')\n",
    "out_fa3 = open(\"/SGRNJ06/randd/USER/cjj/celedev/vdj_bulk/20230822vdjtools/index3.fa\", 'w')\n",
    "out_fa4 = open(\"/SGRNJ06/randd/USER/cjj/celedev/vdj_bulk/20230822vdjtools/index4.fa\", 'w')\n",
    "out_fa5 = open(\"/SGRNJ06/randd/USER/cjj/celedev/vdj_bulk/20230822vdjtools/index5.fa\", 'w')\n",
    "out_fa6 = open(\"/SGRNJ06/randd/USER/cjj/celedev/vdj_bulk/20230822vdjtools/index6.fa\", 'w')\n",
    "out_fa7 = open(\"/SGRNJ06/randd/USER/cjj/celedev/vdj_bulk/20230822vdjtools/index7.fa\", 'w')\n",
    "out_fa8 = open(\"/SGRNJ06/randd/USER/cjj/celedev/vdj_bulk/20230822vdjtools/index8.fa\", 'w')"
   ]
  },
  {
   "cell_type": "code",
   "execution_count": 11,
   "id": "nonprofit-amplifier",
   "metadata": {},
   "outputs": [],
   "source": [
    "with pysam.FastxFile(in_fa) as f:\n",
    "    for read in f:\n",
    "        index = read.name.split('_')[0]\n",
    "        if index == \"CAAGTT\":\n",
    "            out_fa1.write(f'>{read.name}\\n{read.sequence}\\n')\n",
    "        elif index == \"GAACCA\":\n",
    "            out_fa2.write(f'>{read.name}\\n{read.sequence}\\n')\n",
    "        elif index == \"TACACA\":\n",
    "            out_fa3.write(f'>{read.name}\\n{read.sequence}\\n')\n",
    "        elif index == \"CATTGG\":\n",
    "            out_fa4.write(f'>{read.name}\\n{read.sequence}\\n')\n",
    "        elif index == \"TCATGC\":\n",
    "            out_fa5.write(f'>{read.name}\\n{read.sequence}\\n')\n",
    "        elif index == \"AGGTTA\":\n",
    "            out_fa6.write(f'>{read.name}\\n{read.sequence}\\n')\n",
    "        elif index == \"TCGAAT\":\n",
    "            out_fa7.write(f'>{read.name}\\n{read.sequence}\\n')\n",
    "        elif index == \"TCTTGG\":\n",
    "            out_fa8.write(f'>{read.name}\\n{read.sequence}\\n')"
   ]
  },
  {
   "cell_type": "code",
   "execution_count": 13,
   "id": "breeding-nature",
   "metadata": {},
   "outputs": [],
   "source": [
    "out_fa1.close()\n",
    "out_fa2.close()\n",
    "out_fa3.close()\n",
    "out_fa4.close()\n",
    "out_fa5.close()\n",
    "out_fa6.close()\n",
    "out_fa7.close()\n",
    "out_fa8.close()"
   ]
  },
  {
   "cell_type": "code",
   "execution_count": null,
   "id": "worldwide-publisher",
   "metadata": {},
   "outputs": [],
   "source": []
  },
  {
   "cell_type": "code",
   "execution_count": 15,
   "id": "bibliographic-forward",
   "metadata": {},
   "outputs": [
    {
     "data": {
      "image/png": "[encoded data removed]",
      "text/plain": [
       "<Figure size 432x288 with 1 Axes>"
      ]
     },
     "metadata": {
      "needs_background": "light"
     },
     "output_type": "display_data"
    }
   ],
   "source": [
    "input_path='/SGRNJ06/randd/USER/cjj/celedev/vdj_bulk/20230822vdjtools/vdjtools_result/'#输入路径\n",
    "output_path='/SGRNJ06/randd/USER/cjj/celedev/vdj_bulk/20230822vdjtools/vdjtools_result/'#输出路径\n",
    "sample_info='basicstats.txt'#记录有样本分组的样本信息\n",
    "dict_sample_LengthCount={}\n",
    "list_pos=[]\n",
    "for line in open(input_path+sample_info,'r'):\n",
    "    info=line[:-1].split('\\t')\n",
    "    id=info[0]\n",
    "    if id == \"sample_id\":\n",
    "        continue\n",
    "    if id!='ID':\n",
    "        if str(info[1])=='Class1':\n",
    "            list_pos.append(id)\n",
    "        read_file=open(input_path+id+'.txt','r')\n",
    "        dict_length_count={}\n",
    "        for line in read_file:\n",
    "            if line[0]!='c':\n",
    "                length=len(line[:-1].split('\\t')[3])\n",
    "                if length < 30:\n",
    "                    if length not in dict_length_count.keys():\n",
    "                        dict_length_count[length]=1\n",
    "                    else:\n",
    "                        dict_length_count[length]+=1\n",
    "        dict_sample_LengthCount[id]=dict_length_count\n",
    "        read_file.close()\n",
    "list_length=[]\n",
    "list_class=[]\n",
    "list_sample=[]\n",
    "list_count=[]\n",
    "for sample in dict_sample_LengthCount.keys():\n",
    "    dict_length_count=dict_sample_LengthCount[sample]\n",
    "    for length in dict_length_count.keys():\n",
    "        list_length.append(length)\n",
    "        list_sample.append(sample)\n",
    "        if sample in list_pos:\n",
    "            list_class.append('Class1')\n",
    "        else:\n",
    "            list_class.append('Class2')\n",
    "        list_count.append(dict_length_count[length])\n",
    "\n",
    "# ax1 = sns.barplot(x=list_length,y=list_count,hue=list_class,errwidth=0.5,capsize=0.5,palette=(sns.xkcd_rgb[\"dark red\"],sns.xkcd_rgb[\"marine blue\"]))\n",
    "# ax1_1 = sns.stripplot(x=list_length,y=list_count,hue=list_class,size=2,dodge=True,palette=(sns.xkcd_rgb[\"dark red\"],sns.xkcd_rgb[\"marine blue\"]))\n",
    "# ax1.set_xticklabels(ax1.get_xticklabels(), rotation=-90,fontsize=6)\n",
    "# ax1.spines['top'].set_visible(False)\n",
    "# ax1.spines['right'].set_visible(False)\n",
    "# #plt.savefig(output_path+'Length_barplot_Class.pdf', dpi=300, bbox_inches=\"tight\")\n",
    "# plt.show()\n",
    "list_sample = [i.split('.')[0] + \"_clonotypes\" for i in list_sample]\n",
    "ax2 = sns.barplot(x=list_length,y=list_count,hue=list_sample,errwidth=0.5,capsize=0.5)\n",
    "ax2.set_xticklabels(ax2.get_xticklabels(), rotation=-0,fontsize=6)\n",
    "ax2.spines['top'].set_visible(False)\n",
    "ax2.spines['right'].set_visible(False)\n",
    "plt.title(\"CDR3 Clonotypes Length\", fontsize=15)\n",
    "plt.legend(bbox_to_anchor=(1.05, 1),loc=2,borderaxespad=0)\n",
    "plt.savefig(output_path+'Length_barplot_Sample.pdf', dpi=300, bbox_inches=\"tight\")\n",
    "#plt.show()"
   ]
  },
  {
   "cell_type": "code",
   "execution_count": 16,
   "id": "identified-england",
   "metadata": {},
   "outputs": [
    {
     "name": "stdout",
     "output_type": "stream",
     "text": [
      "{'index1.clonotypes.ALL': {'1': 39.55792682926829, '2-3': 5.7926829268292686, '4-10': 13.948170731707318, '11-30': 33.993902439024396, '31-100': 6.097560975609756, '101-MAX': 0.6097560975609756}, 'index2.clonotypes.ALL': {'1': 38.657243816254415, '2-3': 7.208480565371024, '4-10': 13.851590106007066, '11-30': 32.226148409893995, '31-100': 7.34982332155477, '101-MAX': 0.7067137809187279}, 'index3.clonotypes.ALL': {'1': 39.79763912310287, '2-3': 5.986509274873524, '4-10': 13.91231028667791, '11-30': 32.79932546374368, '31-100': 6.745362563237774, '101-MAX': 0.7588532883642496}, 'index4.clonotypes.ALL': {'1': 42.33409610983982, '2-3': 8.009153318077804, '4-10': 13.577421815408087, '11-30': 30.205949656750576, '31-100': 5.263157894736842, '101-MAX': 0.6102212051868803}, 'index5.clonotypes.ALL': {'1': 40.77669902912621, '2-3': 7.0609002647837595, '4-10': 14.298323036187114, '11-30': 32.3036187113857, '31-100': 5.030891438658429, '101-MAX': 0.529567519858782}, 'index6.clonotypes.ALL': {'1': 45.90643274853801, '2-3': 8.552631578947368, '4-10': 11.403508771929824, '11-30': 28.728070175438596, '31-100': 4.89766081871345, '101-MAX': 0.5116959064327485}, 'index7.clonotypes.ALL': {'1': 39.285714285714285, '2-3': 6.097560975609756, '4-10': 16.114982578397214, '11-30': 31.968641114982578, '31-100': 6.184668989547038, '101-MAX': 0.34843205574912894}, 'index8.clonotypes.ALL': {'1': 48.54557207498384, '2-3': 11.118293471234647, '4-10': 11.82934712346477, '11-30': 23.85261797026503, '31-100': 4.330963154492566, '101-MAX': 0.3232062055591467}}\n",
      "[39.55792683 38.65724382 39.79763912 42.33409611 40.77669903 45.90643275\n",
      " 39.28571429 48.54557207]\n"
     ]
    },
    {
     "name": "stderr",
     "output_type": "stream",
     "text": [
      "/SGRNJ/Public/Software/conda_env/chenjunjie/lib/python3.7/site-packages/ipykernel_launcher.py:110: UserWarning: FixedFormatter should only be used together with FixedLocator\n"
     ]
    },
    {
     "data": {
      "image/png": "[encoded data removed]",
      "text/plain": [
       "<Figure size 432x288 with 1 Axes>"
      ]
     },
     "metadata": {
      "needs_background": "light"
     },
     "output_type": "display_data"
    }
   ],
   "source": [
    "input_path='/SGRNJ06/randd/USER/cjj/celedev/vdj_bulk/20230822vdjtools/vdjtools_result/'#输入路径\n",
    "output_path='/SGRNJ06/randd/USER/cjj/celedev/vdj_bulk/20230822vdjtools/vdjtools_result/'#输出路径\n",
    "sample_info='basicstats.txt'#记录有样本分组的样本信息\n",
    "dict_sample_ReadsCounts={}\n",
    "list_pos=[]\n",
    "for line in open(input_path+sample_info,'r'):\n",
    "    info = line[:-1].split('\\t')\n",
    "    id = info[0]\n",
    "    if id == \"sample_id\":\n",
    "        continue\n",
    "    if id != 'ID':\n",
    "        if str(info[1]) == 'Class1':\n",
    "            list_pos.append(id)\n",
    "        read_file = open(input_path + id + \".txt\", 'r')\n",
    "        dict_read_count={'1':0,'2-3':0,'4-10':0,'11-30':0,'31-100':0,'101-MAX':0}\n",
    "        number_clonotypes=0\n",
    "        for line in read_file:\n",
    "            if line[0] != 'c':\n",
    "                number_clonotypes+=1\n",
    "                info=line[:-1].split('\\t')\n",
    "                count=info[0]\n",
    "                if int(count) == 1:\n",
    "                    dict_read_count['1']+=1\n",
    "                elif int(count) in [2,3]:\n",
    "                    dict_read_count['2-3']+=1\n",
    "                elif 4 <= int(count) <= 10:\n",
    "                    dict_read_count['4-10']+=1\n",
    "                elif 11 <= int(count) <= 30:\n",
    "                    dict_read_count['11-30']+=1\n",
    "                elif 31 <= int(count) <= 100:\n",
    "                    dict_read_count['31-100']+=1\n",
    "                elif int(count) >= 101:\n",
    "                    dict_read_count['101-MAX']+=1\n",
    "        for key in dict_read_count:\n",
    "            dict_read_count[key]=dict_read_count[key]/number_clonotypes*100\n",
    "        dict_sample_ReadsCounts[id]=dict_read_count\n",
    "        read_file.close()\n",
    "\n",
    "list_sample=[]\n",
    "list_class=[]\n",
    "list_read=[]\n",
    "list_count=[]\n",
    "dict_read_SampleCount={'1': {},'2-3': {},'4-10': {},'11-30': {},'31-100': {},'101-MAX': {}}\n",
    "print(dict_sample_ReadsCounts)\n",
    "for sample in dict_sample_ReadsCounts.keys():\n",
    "    dict_read_count=dict_sample_ReadsCounts[sample]\n",
    "    for read in dict_read_count.keys():\n",
    "        list_sample.append(sample)\n",
    "        if sample in list_pos:\n",
    "            list_class.append('Class1')\n",
    "        else:\n",
    "            list_class.append('Class2')\n",
    "        list_read.append(read)\n",
    "        count=float(dict_read_count[read])\n",
    "        list_count.append(count)\n",
    "        dict_sample_count=dict_read_SampleCount[read]\n",
    "        dict_sample_count[sample]=count\n",
    "        dict_read_SampleCount[read]=dict_sample_count\n",
    "\n",
    "# ax1 = sns.barplot(x=list_read,y=list_count,hue=list_class,errwidth=1,capsize=0.2,palette=(sns.xkcd_rgb[\"dark red\"],sns.xkcd_rgb[\"marine blue\"]))\n",
    "# ax1_1 = sns.stripplot(x=list_read,y=list_count,hue=list_class,dodge=True,palette=(sns.xkcd_rgb[\"dark red\"],sns.xkcd_rgb[\"marine blue\"]))\n",
    "# ax1.set_xticklabels(ax1.get_xticklabels(), rotation=-90,fontsize=6)\n",
    "# ax1.spines['top'].set_visible(False)\n",
    "# ax1.spines['right'].set_visible(False)\n",
    "# plt.savefig(output_path+'CountProportion_lappedplot_Class.pdf',dpi=300, bbox_inches=\"tight\")#\n",
    "# plt.show()\n",
    "\n",
    "fig, ax = plt.subplots()\n",
    "list_1=[]\n",
    "list_2_3=[]\n",
    "list_4_10=[]\n",
    "list_11_30=[]\n",
    "list_31_100=[]\n",
    "list_101_MAX=[]\n",
    "for read in dict_read_SampleCount.keys():\n",
    "    dict_sample_count=dict_read_SampleCount[read]\n",
    "    list_sample=[]\n",
    "    for sample in dict_sample_count.keys():\n",
    "        list_sample.append(sample)\n",
    "        if read=='1':\n",
    "            list_1.append(dict_sample_count[sample])\n",
    "        elif read=='2-3':\n",
    "            list_2_3.append(dict_sample_count[sample])\n",
    "        elif read=='4-10':\n",
    "            list_4_10.append(dict_sample_count[sample])\n",
    "        elif read=='11-30':\n",
    "            list_11_30.append(dict_sample_count[sample])\n",
    "        elif read=='31-100':\n",
    "            list_31_100.append(dict_sample_count[sample])\n",
    "        elif read=='101-MAX':\n",
    "            list_101_MAX.append(dict_sample_count[sample])\n",
    "list_1=np.array(list_1)\n",
    "list_2_3=np.array(list_2_3)\n",
    "list_4_10=np.array(list_4_10)\n",
    "list_11_30=np.array(list_11_30)\n",
    "list_31_100=np.array(list_31_100)\n",
    "list_101_MAX=np.array(list_101_MAX)\n",
    "width = 0.6\n",
    "print(list_1)\n",
    "ax.bar(list_sample,list_1,width, label='1')\n",
    "ax.bar(list_sample,list_2_3,width,label='2_3',bottom=list_1)\n",
    "ax.bar(list_sample,list_4_10,width,label='4-10',bottom=list_1+list_2_3)\n",
    "ax.bar(list_sample,list_11_30,width,label='11-30',bottom=list_1+list_2_3+list_4_10)\n",
    "ax.bar(list_sample,list_31_100,width,label='31-100',bottom=list_1+list_2_3+list_4_10+list_11_30)\n",
    "ax.bar(list_sample,list_101_MAX,width,label='101-MAX',bottom=list_1+list_2_3+list_4_10+list_11_30+list_31_100)\n",
    "ax.spines['top'].set_visible(False)\n",
    "ax.spines['right'].set_visible(False)\n",
    "ax.legend()\n",
    "list_sample = [i.split('.')[0] + \"_clonotypes\" for i in list_sample]\n",
    "ax.set_xticklabels(list_sample, rotation=45, fontsize=10)\n",
    "plt.legend(bbox_to_anchor=(1.05, 1),loc=2,borderaxespad=0)\n",
    "plt.title(\"CDR3 Clonotypes Abundance Proportion\", fontsize=15)\n",
    "plt.savefig(output_path+'CountProportion_barplot_sample.pdf',dpi=300, bbox_inches=\"tight\")\n",
    "plt.show()"
   ]
  },
  {
   "cell_type": "code",
   "execution_count": null,
   "id": "eligible-concert",
   "metadata": {},
   "outputs": [],
   "source": []
  }
 ],
 "metadata": {
  "kernelspec": {
   "display_name": "trust4_1.7",
   "language": "python",
   "name": "trust4_1.7"
  },
  "language_info": {
   "codemirror_mode": {
    "name": "ipython",
    "version": 3
   },
   "file_extension": ".py",
   "mimetype": "text/x-python",
   "name": "python",
   "nbconvert_exporter": "python",
   "pygments_lexer": "ipython3",
   "version": "3.7.10"
  }
 },
 "nbformat": 4,
 "nbformat_minor": 5
}
