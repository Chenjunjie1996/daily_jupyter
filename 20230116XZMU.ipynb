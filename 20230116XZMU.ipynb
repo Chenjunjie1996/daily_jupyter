{
 "cells": [
  {
   "cell_type": "code",
   "execution_count": 1,
   "id": "standard-occurrence",
   "metadata": {},
   "outputs": [
    {
     "name": "stderr",
     "output_type": "stream",
     "text": [
      "Warning message:\n",
      "“package ‘Seurat’ was built under R version 4.0.5”\n",
      "Attaching SeuratObject\n",
      "\n"
     ]
    }
   ],
   "source": [
    "library(Seurat)"
   ]
  },
  {
   "cell_type": "code",
   "execution_count": 2,
   "id": "current-aside",
   "metadata": {},
   "outputs": [],
   "source": [
    "rds = readRDS(\"/SGRNJ06/randd/lims_result_rd/MultiResult/P22030204_230112_homo_PBMC/project_batch/2023-01-13/ha0mk6ge4h/father_cluster/batch_1/call-integration/P22030204_230112_homo_PBMC.diff_PRO.rds\")"
   ]
  },
  {
   "cell_type": "code",
   "execution_count": null,
   "id": "alternate-zoning",
   "metadata": {},
   "outputs": [],
   "source": []
  }
 ],
 "metadata": {
  "kernelspec": {
   "display_name": "CJJcele",
   "language": "R",
   "name": "cjjcele"
  },
  "language_info": {
   "codemirror_mode": "r",
   "file_extension": ".r",
   "mimetype": "text/x-r-source",
   "name": "R",
   "pygments_lexer": "r",
   "version": "4.0.3"
  }
 },
 "nbformat": 4,
 "nbformat_minor": 5
}
