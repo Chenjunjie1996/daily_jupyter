{
 "cells": [
  {
   "cell_type": "code",
   "execution_count": 96,
   "id": "suspected-router",
   "metadata": {},
   "outputs": [
    {
     "name": "stderr",
     "output_type": "stream",
     "text": [
      "Warning message:\n",
      "“package ‘ggplot2’ was built under R version 4.1.3”\n",
      "Warning message:\n",
      "“package ‘tidyverse’ was built under R version 4.1.3”\n"
     ]
    },
    {
     "ename": "ERROR",
     "evalue": "Error: package or namespace load failed for ‘tidyverse’:\n .onLoad failed in loadNamespace() for 'lubridate', details:\n  call: system(paste(which, shQuote(names[i])), intern = TRUE, ignore.stderr = TRUE)\n  error: cannot popen '/usr/bin/which 'timedatectl' 2>/dev/null', probable reason 'Cannot allocate memory'\n",
     "output_type": "error",
     "traceback": [
      "Error: package or namespace load failed for ‘tidyverse’:\n .onLoad failed in loadNamespace() for 'lubridate', details:\n  call: system(paste(which, shQuote(names[i])), intern = TRUE, ignore.stderr = TRUE)\n  error: cannot popen '/usr/bin/which 'timedatectl' 2>/dev/null', probable reason 'Cannot allocate memory'\nTraceback:\n",
      "1. library(tidyverse)",
      "2. tryCatch({\n .     attr(package, \"LibPath\") <- which.lib.loc\n .     ns <- loadNamespace(package, lib.loc)\n .     env <- attachNamespace(ns, pos = pos, deps, exclude, include.only)\n . }, error = function(e) {\n .     P <- if (!is.null(cc <- conditionCall(e))) \n .         paste(\" in\", deparse(cc)[1L])\n .     else \"\"\n .     msg <- gettextf(\"package or namespace load failed for %s%s:\\n %s\", \n .         sQuote(package), P, conditionMessage(e))\n .     if (logical.return && !quietly) \n .         message(paste(\"Error:\", msg), domain = NA)\n .     else stop(msg, call. = FALSE, domain = NA)\n . })",
      "3. tryCatchList(expr, classes, parentenv, handlers)",
      "4. tryCatchOne(expr, names, parentenv, handlers[[1L]])",
      "5. value[[3L]](cond)",
      "6. stop(msg, call. = FALSE, domain = NA)"
     ]
    }
   ],
   "source": [
    "library(Seurat)\n",
    "library(ggplot2)\n",
    "library(tidyverse)"
   ]
  },
  {
   "cell_type": "code",
   "execution_count": null,
   "id": "prime-clinton",
   "metadata": {},
   "outputs": [],
   "source": [
    "\"/SGRNJ06/randd/USER/cjj/celedev/rna/lncRNA/20231206/count/CR961431\"\n",
    "\"/SGRNJ06/randd/USER/cjj/celedev/rna/lncRNA/20231206/count/CL961431\""
   ]
  },
  {
   "cell_type": "code",
   "execution_count": null,
   "id": "informal-lightweight",
   "metadata": {},
   "outputs": [],
   "source": [
    "rds = readRDS(\"/SGRNJ06/randd/USER/cjj/celedev/rna/20231212merge/amulit/lnc_.diff_PRO.rds\")"
   ]
  },
  {
   "cell_type": "code",
   "execution_count": null,
   "id": "immediate-carrier",
   "metadata": {},
   "outputs": [],
   "source": [
    "head(rds)"
   ]
  },
  {
   "cell_type": "code",
   "execution_count": null,
   "id": "valid-liver",
   "metadata": {},
   "outputs": [],
   "source": [
    "UMAPPlot(rds, group.by=\"sample\")"
   ]
  },
  {
   "cell_type": "code",
   "execution_count": null,
   "id": "nasty-military",
   "metadata": {},
   "outputs": [],
   "source": [
    "FeaturePlot(rds, features=c(\"CCL5\"))"
   ]
  },
  {
   "cell_type": "code",
   "execution_count": null,
   "id": "joint-advisory",
   "metadata": {},
   "outputs": [],
   "source": [
    "FeaturePlot(rds, features=c(\"nCount_RNA\"))"
   ]
  },
  {
   "cell_type": "code",
   "execution_count": null,
   "id": "specified-animal",
   "metadata": {},
   "outputs": [],
   "source": [
    "head(rds)"
   ]
  },
  {
   "cell_type": "code",
   "execution_count": null,
   "id": "unable-office",
   "metadata": {},
   "outputs": [],
   "source": [
    "df = as.data.frame(rds@assays$RNA@counts)"
   ]
  },
  {
   "cell_type": "code",
   "execution_count": null,
   "id": "convinced-guinea",
   "metadata": {},
   "outputs": [],
   "source": [
    "df"
   ]
  },
  {
   "cell_type": "code",
   "execution_count": null,
   "id": "hundred-canadian",
   "metadata": {},
   "outputs": [],
   "source": [
    "lncrna = read.csv(\"/SGRNJ06/randd/USER/cjj/celedev/rna/lncRNA/20231212/lncRNA.txt\", header=F)"
   ]
  },
  {
   "cell_type": "code",
   "execution_count": null,
   "id": "democratic-fifth",
   "metadata": {},
   "outputs": [],
   "source": [
    "df_lncrna = rownames(df) %in% c(lncrna$V1)"
   ]
  },
  {
   "cell_type": "code",
   "execution_count": null,
   "id": "geographic-international",
   "metadata": {},
   "outputs": [],
   "source": [
    "df_lncrna = df[rownames(df) %in% c(lncrna$V1),]"
   ]
  },
  {
   "cell_type": "code",
   "execution_count": null,
   "id": "textile-physics",
   "metadata": {},
   "outputs": [],
   "source": [
    "# df_lncrna"
   ]
  },
  {
   "cell_type": "code",
   "execution_count": null,
   "id": "wired-matrix",
   "metadata": {},
   "outputs": [],
   "source": [
    "dim(df_lncrna)"
   ]
  },
  {
   "cell_type": "code",
   "execution_count": null,
   "id": "decent-alloy",
   "metadata": {},
   "outputs": [],
   "source": [
    "df_lncrna = as.data.frame(colSums(df_lncrna))"
   ]
  },
  {
   "cell_type": "code",
   "execution_count": null,
   "id": "authorized-cabin",
   "metadata": {},
   "outputs": [],
   "source": [
    "meta = rds@meta.data"
   ]
  },
  {
   "cell_type": "code",
   "execution_count": 77,
   "id": "flush-depression",
   "metadata": {},
   "outputs": [
    {
     "data": {
      "text/html": [
       "<table class=\"dataframe\">\n",
       "<caption>A data.frame: 6 × 9</caption>\n",
       "<thead>\n",
       "\t<tr><th></th><th scope=col>orig.ident</th><th scope=col>nCount_RNA</th><th scope=col>nFeature_RNA</th><th scope=col>sample</th><th scope=col>percent.mt</th><th scope=col>percent.mito</th><th scope=col>RNA_snn_res.0.8</th><th scope=col>seurat_clusters</th><th scope=col>barcode</th></tr>\n",
       "\t<tr><th></th><th scope=col>&lt;chr&gt;</th><th scope=col>&lt;dbl&gt;</th><th scope=col>&lt;int&gt;</th><th scope=col>&lt;chr&gt;</th><th scope=col>&lt;dbl&gt;</th><th scope=col>&lt;dbl&gt;</th><th scope=col>&lt;fct&gt;</th><th scope=col>&lt;fct&gt;</th><th scope=col>&lt;chr&gt;</th></tr>\n",
       "</thead>\n",
       "<tbody>\n",
       "\t<tr><th scope=row>CR961431_AACACACAGAACGTCCAATAGTAGAGC</th><td>CR961431</td><td> 623</td><td> 413</td><td>CR961431</td><td>3.210273</td><td>NA</td><td>2</td><td>2</td><td>CR961431_AACACACAGAACGTCCAATAGTAGAGC</td></tr>\n",
       "\t<tr><th scope=row>CR961431_AACACACAGAACGTCCAATTACAGAGG</th><td>CR961431</td><td>5593</td><td>2138</td><td>CR961431</td><td>5.757196</td><td>NA</td><td>6</td><td>6</td><td>CR961431_AACACACAGAACGTCCAATTACAGAGG</td></tr>\n",
       "\t<tr><th scope=row>CR961431_AACACACAGAATCCGGTGAGTTCGTCC</th><td>CR961431</td><td>6162</td><td>2034</td><td>CR961431</td><td>4.754950</td><td>NA</td><td>3</td><td>3</td><td>CR961431_AACACACAGAATCCGGTGAGTTCGTCC</td></tr>\n",
       "\t<tr><th scope=row>CR961431_AACACACAGAATCCGGTGCGTCAACTG</th><td>CR961431</td><td> 620</td><td> 414</td><td>CR961431</td><td>4.032258</td><td>NA</td><td>5</td><td>5</td><td>CR961431_AACACACAGAATCCGGTGCGTCAACTG</td></tr>\n",
       "\t<tr><th scope=row>CR961431_AACACACAGAATCCGGTGGTGGAATAG</th><td>CR961431</td><td>4921</td><td>1960</td><td>CR961431</td><td>7.051412</td><td>NA</td><td>6</td><td>6</td><td>CR961431_AACACACAGAATCCGGTGGTGGAATAG</td></tr>\n",
       "\t<tr><th scope=row>CR961431_AACACACAGACACCAACGCCATATCTC</th><td>CR961431</td><td> 560</td><td> 380</td><td>CR961431</td><td>9.285714</td><td>NA</td><td>2</td><td>2</td><td>CR961431_AACACACAGACACCAACGCCATATCTC</td></tr>\n",
       "</tbody>\n",
       "</table>\n"
      ],
      "text/latex": [
       "A data.frame: 6 × 9\n",
       "\\begin{tabular}{r|lllllllll}\n",
       "  & orig.ident & nCount\\_RNA & nFeature\\_RNA & sample & percent.mt & percent.mito & RNA\\_snn\\_res.0.8 & seurat\\_clusters & barcode\\\\\n",
       "  & <chr> & <dbl> & <int> & <chr> & <dbl> & <dbl> & <fct> & <fct> & <chr>\\\\\n",
       "\\hline\n",
       "\tCR961431\\_AACACACAGAACGTCCAATAGTAGAGC & CR961431 &  623 &  413 & CR961431 & 3.210273 & NA & 2 & 2 & CR961431\\_AACACACAGAACGTCCAATAGTAGAGC\\\\\n",
       "\tCR961431\\_AACACACAGAACGTCCAATTACAGAGG & CR961431 & 5593 & 2138 & CR961431 & 5.757196 & NA & 6 & 6 & CR961431\\_AACACACAGAACGTCCAATTACAGAGG\\\\\n",
       "\tCR961431\\_AACACACAGAATCCGGTGAGTTCGTCC & CR961431 & 6162 & 2034 & CR961431 & 4.754950 & NA & 3 & 3 & CR961431\\_AACACACAGAATCCGGTGAGTTCGTCC\\\\\n",
       "\tCR961431\\_AACACACAGAATCCGGTGCGTCAACTG & CR961431 &  620 &  414 & CR961431 & 4.032258 & NA & 5 & 5 & CR961431\\_AACACACAGAATCCGGTGCGTCAACTG\\\\\n",
       "\tCR961431\\_AACACACAGAATCCGGTGGTGGAATAG & CR961431 & 4921 & 1960 & CR961431 & 7.051412 & NA & 6 & 6 & CR961431\\_AACACACAGAATCCGGTGGTGGAATAG\\\\\n",
       "\tCR961431\\_AACACACAGACACCAACGCCATATCTC & CR961431 &  560 &  380 & CR961431 & 9.285714 & NA & 2 & 2 & CR961431\\_AACACACAGACACCAACGCCATATCTC\\\\\n",
       "\\end{tabular}\n"
      ],
      "text/markdown": [
       "\n",
       "A data.frame: 6 × 9\n",
       "\n",
       "| <!--/--> | orig.ident &lt;chr&gt; | nCount_RNA &lt;dbl&gt; | nFeature_RNA &lt;int&gt; | sample &lt;chr&gt; | percent.mt &lt;dbl&gt; | percent.mito &lt;dbl&gt; | RNA_snn_res.0.8 &lt;fct&gt; | seurat_clusters &lt;fct&gt; | barcode &lt;chr&gt; |\n",
       "|---|---|---|---|---|---|---|---|---|---|\n",
       "| CR961431_AACACACAGAACGTCCAATAGTAGAGC | CR961431 |  623 |  413 | CR961431 | 3.210273 | NA | 2 | 2 | CR961431_AACACACAGAACGTCCAATAGTAGAGC |\n",
       "| CR961431_AACACACAGAACGTCCAATTACAGAGG | CR961431 | 5593 | 2138 | CR961431 | 5.757196 | NA | 6 | 6 | CR961431_AACACACAGAACGTCCAATTACAGAGG |\n",
       "| CR961431_AACACACAGAATCCGGTGAGTTCGTCC | CR961431 | 6162 | 2034 | CR961431 | 4.754950 | NA | 3 | 3 | CR961431_AACACACAGAATCCGGTGAGTTCGTCC |\n",
       "| CR961431_AACACACAGAATCCGGTGCGTCAACTG | CR961431 |  620 |  414 | CR961431 | 4.032258 | NA | 5 | 5 | CR961431_AACACACAGAATCCGGTGCGTCAACTG |\n",
       "| CR961431_AACACACAGAATCCGGTGGTGGAATAG | CR961431 | 4921 | 1960 | CR961431 | 7.051412 | NA | 6 | 6 | CR961431_AACACACAGAATCCGGTGGTGGAATAG |\n",
       "| CR961431_AACACACAGACACCAACGCCATATCTC | CR961431 |  560 |  380 | CR961431 | 9.285714 | NA | 2 | 2 | CR961431_AACACACAGACACCAACGCCATATCTC |\n",
       "\n"
      ],
      "text/plain": [
       "                                     orig.ident nCount_RNA nFeature_RNA\n",
       "CR961431_AACACACAGAACGTCCAATAGTAGAGC CR961431    623        413        \n",
       "CR961431_AACACACAGAACGTCCAATTACAGAGG CR961431   5593       2138        \n",
       "CR961431_AACACACAGAATCCGGTGAGTTCGTCC CR961431   6162       2034        \n",
       "CR961431_AACACACAGAATCCGGTGCGTCAACTG CR961431    620        414        \n",
       "CR961431_AACACACAGAATCCGGTGGTGGAATAG CR961431   4921       1960        \n",
       "CR961431_AACACACAGACACCAACGCCATATCTC CR961431    560        380        \n",
       "                                     sample   percent.mt percent.mito\n",
       "CR961431_AACACACAGAACGTCCAATAGTAGAGC CR961431 3.210273   NA          \n",
       "CR961431_AACACACAGAACGTCCAATTACAGAGG CR961431 5.757196   NA          \n",
       "CR961431_AACACACAGAATCCGGTGAGTTCGTCC CR961431 4.754950   NA          \n",
       "CR961431_AACACACAGAATCCGGTGCGTCAACTG CR961431 4.032258   NA          \n",
       "CR961431_AACACACAGAATCCGGTGGTGGAATAG CR961431 7.051412   NA          \n",
       "CR961431_AACACACAGACACCAACGCCATATCTC CR961431 9.285714   NA          \n",
       "                                     RNA_snn_res.0.8 seurat_clusters\n",
       "CR961431_AACACACAGAACGTCCAATAGTAGAGC 2               2              \n",
       "CR961431_AACACACAGAACGTCCAATTACAGAGG 6               6              \n",
       "CR961431_AACACACAGAATCCGGTGAGTTCGTCC 3               3              \n",
       "CR961431_AACACACAGAATCCGGTGCGTCAACTG 5               5              \n",
       "CR961431_AACACACAGAATCCGGTGGTGGAATAG 6               6              \n",
       "CR961431_AACACACAGACACCAACGCCATATCTC 2               2              \n",
       "                                     barcode                             \n",
       "CR961431_AACACACAGAACGTCCAATAGTAGAGC CR961431_AACACACAGAACGTCCAATAGTAGAGC\n",
       "CR961431_AACACACAGAACGTCCAATTACAGAGG CR961431_AACACACAGAACGTCCAATTACAGAGG\n",
       "CR961431_AACACACAGAATCCGGTGAGTTCGTCC CR961431_AACACACAGAATCCGGTGAGTTCGTCC\n",
       "CR961431_AACACACAGAATCCGGTGCGTCAACTG CR961431_AACACACAGAATCCGGTGCGTCAACTG\n",
       "CR961431_AACACACAGAATCCGGTGGTGGAATAG CR961431_AACACACAGAATCCGGTGGTGGAATAG\n",
       "CR961431_AACACACAGACACCAACGCCATATCTC CR961431_AACACACAGACACCAACGCCATATCTC"
      ]
     },
     "metadata": {},
     "output_type": "display_data"
    }
   ],
   "source": [
    "head(meta)"
   ]
  },
  {
   "cell_type": "code",
   "execution_count": 78,
   "id": "dressed-budapest",
   "metadata": {},
   "outputs": [
    {
     "data": {
      "text/html": [
       "<table class=\"dataframe\">\n",
       "<caption>A data.frame: 6 × 2</caption>\n",
       "<thead>\n",
       "\t<tr><th></th><th scope=col>nCount_lncRNA</th><th scope=col>barcode</th></tr>\n",
       "\t<tr><th></th><th scope=col>&lt;dbl&gt;</th><th scope=col>&lt;chr&gt;</th></tr>\n",
       "</thead>\n",
       "<tbody>\n",
       "\t<tr><th scope=row>CR961431_AACACACAGAACGTCCAATAGTAGAGC</th><td> 51</td><td>CR961431_AACACACAGAACGTCCAATAGTAGAGC</td></tr>\n",
       "\t<tr><th scope=row>CR961431_AACACACAGAACGTCCAATTACAGAGG</th><td>331</td><td>CR961431_AACACACAGAACGTCCAATTACAGAGG</td></tr>\n",
       "\t<tr><th scope=row>CR961431_AACACACAGAATCCGGTGAGTTCGTCC</th><td>191</td><td>CR961431_AACACACAGAATCCGGTGAGTTCGTCC</td></tr>\n",
       "\t<tr><th scope=row>CR961431_AACACACAGAATCCGGTGCGTCAACTG</th><td> 37</td><td>CR961431_AACACACAGAATCCGGTGCGTCAACTG</td></tr>\n",
       "\t<tr><th scope=row>CR961431_AACACACAGAATCCGGTGGTGGAATAG</th><td>159</td><td>CR961431_AACACACAGAATCCGGTGGTGGAATAG</td></tr>\n",
       "\t<tr><th scope=row>CR961431_AACACACAGACACCAACGCCATATCTC</th><td> 64</td><td>CR961431_AACACACAGACACCAACGCCATATCTC</td></tr>\n",
       "</tbody>\n",
       "</table>\n"
      ],
      "text/latex": [
       "A data.frame: 6 × 2\n",
       "\\begin{tabular}{r|ll}\n",
       "  & nCount\\_lncRNA & barcode\\\\\n",
       "  & <dbl> & <chr>\\\\\n",
       "\\hline\n",
       "\tCR961431\\_AACACACAGAACGTCCAATAGTAGAGC &  51 & CR961431\\_AACACACAGAACGTCCAATAGTAGAGC\\\\\n",
       "\tCR961431\\_AACACACAGAACGTCCAATTACAGAGG & 331 & CR961431\\_AACACACAGAACGTCCAATTACAGAGG\\\\\n",
       "\tCR961431\\_AACACACAGAATCCGGTGAGTTCGTCC & 191 & CR961431\\_AACACACAGAATCCGGTGAGTTCGTCC\\\\\n",
       "\tCR961431\\_AACACACAGAATCCGGTGCGTCAACTG &  37 & CR961431\\_AACACACAGAATCCGGTGCGTCAACTG\\\\\n",
       "\tCR961431\\_AACACACAGAATCCGGTGGTGGAATAG & 159 & CR961431\\_AACACACAGAATCCGGTGGTGGAATAG\\\\\n",
       "\tCR961431\\_AACACACAGACACCAACGCCATATCTC &  64 & CR961431\\_AACACACAGACACCAACGCCATATCTC\\\\\n",
       "\\end{tabular}\n"
      ],
      "text/markdown": [
       "\n",
       "A data.frame: 6 × 2\n",
       "\n",
       "| <!--/--> | nCount_lncRNA &lt;dbl&gt; | barcode &lt;chr&gt; |\n",
       "|---|---|---|\n",
       "| CR961431_AACACACAGAACGTCCAATAGTAGAGC |  51 | CR961431_AACACACAGAACGTCCAATAGTAGAGC |\n",
       "| CR961431_AACACACAGAACGTCCAATTACAGAGG | 331 | CR961431_AACACACAGAACGTCCAATTACAGAGG |\n",
       "| CR961431_AACACACAGAATCCGGTGAGTTCGTCC | 191 | CR961431_AACACACAGAATCCGGTGAGTTCGTCC |\n",
       "| CR961431_AACACACAGAATCCGGTGCGTCAACTG |  37 | CR961431_AACACACAGAATCCGGTGCGTCAACTG |\n",
       "| CR961431_AACACACAGAATCCGGTGGTGGAATAG | 159 | CR961431_AACACACAGAATCCGGTGGTGGAATAG |\n",
       "| CR961431_AACACACAGACACCAACGCCATATCTC |  64 | CR961431_AACACACAGACACCAACGCCATATCTC |\n",
       "\n"
      ],
      "text/plain": [
       "                                     nCount_lncRNA\n",
       "CR961431_AACACACAGAACGTCCAATAGTAGAGC  51          \n",
       "CR961431_AACACACAGAACGTCCAATTACAGAGG 331          \n",
       "CR961431_AACACACAGAATCCGGTGAGTTCGTCC 191          \n",
       "CR961431_AACACACAGAATCCGGTGCGTCAACTG  37          \n",
       "CR961431_AACACACAGAATCCGGTGGTGGAATAG 159          \n",
       "CR961431_AACACACAGACACCAACGCCATATCTC  64          \n",
       "                                     barcode                             \n",
       "CR961431_AACACACAGAACGTCCAATAGTAGAGC CR961431_AACACACAGAACGTCCAATAGTAGAGC\n",
       "CR961431_AACACACAGAACGTCCAATTACAGAGG CR961431_AACACACAGAACGTCCAATTACAGAGG\n",
       "CR961431_AACACACAGAATCCGGTGAGTTCGTCC CR961431_AACACACAGAATCCGGTGAGTTCGTCC\n",
       "CR961431_AACACACAGAATCCGGTGCGTCAACTG CR961431_AACACACAGAATCCGGTGCGTCAACTG\n",
       "CR961431_AACACACAGAATCCGGTGGTGGAATAG CR961431_AACACACAGAATCCGGTGGTGGAATAG\n",
       "CR961431_AACACACAGACACCAACGCCATATCTC CR961431_AACACACAGACACCAACGCCATATCTC"
      ]
     },
     "metadata": {},
     "output_type": "display_data"
    }
   ],
   "source": [
    "head(df_lncrna)"
   ]
  },
  {
   "cell_type": "code",
   "execution_count": null,
   "id": "inner-damages",
   "metadata": {},
   "outputs": [],
   "source": [
    "colnames(df_lncrna) <- c(\"nCount_lncRNA\")"
   ]
  },
  {
   "cell_type": "code",
   "execution_count": 76,
   "id": "aging-membrane",
   "metadata": {},
   "outputs": [],
   "source": [
    "df_lncrna$barcode <- rownames(df_lncrna)\n",
    "meta$barcode <- rownames(meta)"
   ]
  },
  {
   "cell_type": "code",
   "execution_count": 79,
   "id": "domestic-sandwich",
   "metadata": {},
   "outputs": [],
   "source": [
    "df_merge = merge(meta, df_lncrna, by = \"barcode\")"
   ]
  },
  {
   "cell_type": "code",
   "execution_count": 80,
   "id": "established-network",
   "metadata": {},
   "outputs": [
    {
     "data": {
      "text/html": [
       "<table class=\"dataframe\">\n",
       "<caption>A data.frame: 6 × 9</caption>\n",
       "<thead>\n",
       "\t<tr><th></th><th scope=col>orig.ident</th><th scope=col>nCount_RNA</th><th scope=col>nFeature_RNA</th><th scope=col>sample</th><th scope=col>percent.mt</th><th scope=col>percent.mito</th><th scope=col>RNA_snn_res.0.8</th><th scope=col>seurat_clusters</th><th scope=col>barcode</th></tr>\n",
       "\t<tr><th></th><th scope=col>&lt;chr&gt;</th><th scope=col>&lt;dbl&gt;</th><th scope=col>&lt;int&gt;</th><th scope=col>&lt;chr&gt;</th><th scope=col>&lt;dbl&gt;</th><th scope=col>&lt;dbl&gt;</th><th scope=col>&lt;fct&gt;</th><th scope=col>&lt;fct&gt;</th><th scope=col>&lt;chr&gt;</th></tr>\n",
       "</thead>\n",
       "<tbody>\n",
       "\t<tr><th scope=row>CR961431_AACACACAGAACGTCCAATAGTAGAGC</th><td>CR961431</td><td> 623</td><td> 413</td><td>CR961431</td><td>3.210273</td><td>NA</td><td>2</td><td>2</td><td>CR961431_AACACACAGAACGTCCAATAGTAGAGC</td></tr>\n",
       "\t<tr><th scope=row>CR961431_AACACACAGAACGTCCAATTACAGAGG</th><td>CR961431</td><td>5593</td><td>2138</td><td>CR961431</td><td>5.757196</td><td>NA</td><td>6</td><td>6</td><td>CR961431_AACACACAGAACGTCCAATTACAGAGG</td></tr>\n",
       "\t<tr><th scope=row>CR961431_AACACACAGAATCCGGTGAGTTCGTCC</th><td>CR961431</td><td>6162</td><td>2034</td><td>CR961431</td><td>4.754950</td><td>NA</td><td>3</td><td>3</td><td>CR961431_AACACACAGAATCCGGTGAGTTCGTCC</td></tr>\n",
       "\t<tr><th scope=row>CR961431_AACACACAGAATCCGGTGCGTCAACTG</th><td>CR961431</td><td> 620</td><td> 414</td><td>CR961431</td><td>4.032258</td><td>NA</td><td>5</td><td>5</td><td>CR961431_AACACACAGAATCCGGTGCGTCAACTG</td></tr>\n",
       "\t<tr><th scope=row>CR961431_AACACACAGAATCCGGTGGTGGAATAG</th><td>CR961431</td><td>4921</td><td>1960</td><td>CR961431</td><td>7.051412</td><td>NA</td><td>6</td><td>6</td><td>CR961431_AACACACAGAATCCGGTGGTGGAATAG</td></tr>\n",
       "\t<tr><th scope=row>CR961431_AACACACAGACACCAACGCCATATCTC</th><td>CR961431</td><td> 560</td><td> 380</td><td>CR961431</td><td>9.285714</td><td>NA</td><td>2</td><td>2</td><td>CR961431_AACACACAGACACCAACGCCATATCTC</td></tr>\n",
       "</tbody>\n",
       "</table>\n"
      ],
      "text/latex": [
       "A data.frame: 6 × 9\n",
       "\\begin{tabular}{r|lllllllll}\n",
       "  & orig.ident & nCount\\_RNA & nFeature\\_RNA & sample & percent.mt & percent.mito & RNA\\_snn\\_res.0.8 & seurat\\_clusters & barcode\\\\\n",
       "  & <chr> & <dbl> & <int> & <chr> & <dbl> & <dbl> & <fct> & <fct> & <chr>\\\\\n",
       "\\hline\n",
       "\tCR961431\\_AACACACAGAACGTCCAATAGTAGAGC & CR961431 &  623 &  413 & CR961431 & 3.210273 & NA & 2 & 2 & CR961431\\_AACACACAGAACGTCCAATAGTAGAGC\\\\\n",
       "\tCR961431\\_AACACACAGAACGTCCAATTACAGAGG & CR961431 & 5593 & 2138 & CR961431 & 5.757196 & NA & 6 & 6 & CR961431\\_AACACACAGAACGTCCAATTACAGAGG\\\\\n",
       "\tCR961431\\_AACACACAGAATCCGGTGAGTTCGTCC & CR961431 & 6162 & 2034 & CR961431 & 4.754950 & NA & 3 & 3 & CR961431\\_AACACACAGAATCCGGTGAGTTCGTCC\\\\\n",
       "\tCR961431\\_AACACACAGAATCCGGTGCGTCAACTG & CR961431 &  620 &  414 & CR961431 & 4.032258 & NA & 5 & 5 & CR961431\\_AACACACAGAATCCGGTGCGTCAACTG\\\\\n",
       "\tCR961431\\_AACACACAGAATCCGGTGGTGGAATAG & CR961431 & 4921 & 1960 & CR961431 & 7.051412 & NA & 6 & 6 & CR961431\\_AACACACAGAATCCGGTGGTGGAATAG\\\\\n",
       "\tCR961431\\_AACACACAGACACCAACGCCATATCTC & CR961431 &  560 &  380 & CR961431 & 9.285714 & NA & 2 & 2 & CR961431\\_AACACACAGACACCAACGCCATATCTC\\\\\n",
       "\\end{tabular}\n"
      ],
      "text/markdown": [
       "\n",
       "A data.frame: 6 × 9\n",
       "\n",
       "| <!--/--> | orig.ident &lt;chr&gt; | nCount_RNA &lt;dbl&gt; | nFeature_RNA &lt;int&gt; | sample &lt;chr&gt; | percent.mt &lt;dbl&gt; | percent.mito &lt;dbl&gt; | RNA_snn_res.0.8 &lt;fct&gt; | seurat_clusters &lt;fct&gt; | barcode &lt;chr&gt; |\n",
       "|---|---|---|---|---|---|---|---|---|---|\n",
       "| CR961431_AACACACAGAACGTCCAATAGTAGAGC | CR961431 |  623 |  413 | CR961431 | 3.210273 | NA | 2 | 2 | CR961431_AACACACAGAACGTCCAATAGTAGAGC |\n",
       "| CR961431_AACACACAGAACGTCCAATTACAGAGG | CR961431 | 5593 | 2138 | CR961431 | 5.757196 | NA | 6 | 6 | CR961431_AACACACAGAACGTCCAATTACAGAGG |\n",
       "| CR961431_AACACACAGAATCCGGTGAGTTCGTCC | CR961431 | 6162 | 2034 | CR961431 | 4.754950 | NA | 3 | 3 | CR961431_AACACACAGAATCCGGTGAGTTCGTCC |\n",
       "| CR961431_AACACACAGAATCCGGTGCGTCAACTG | CR961431 |  620 |  414 | CR961431 | 4.032258 | NA | 5 | 5 | CR961431_AACACACAGAATCCGGTGCGTCAACTG |\n",
       "| CR961431_AACACACAGAATCCGGTGGTGGAATAG | CR961431 | 4921 | 1960 | CR961431 | 7.051412 | NA | 6 | 6 | CR961431_AACACACAGAATCCGGTGGTGGAATAG |\n",
       "| CR961431_AACACACAGACACCAACGCCATATCTC | CR961431 |  560 |  380 | CR961431 | 9.285714 | NA | 2 | 2 | CR961431_AACACACAGACACCAACGCCATATCTC |\n",
       "\n"
      ],
      "text/plain": [
       "                                     orig.ident nCount_RNA nFeature_RNA\n",
       "CR961431_AACACACAGAACGTCCAATAGTAGAGC CR961431    623        413        \n",
       "CR961431_AACACACAGAACGTCCAATTACAGAGG CR961431   5593       2138        \n",
       "CR961431_AACACACAGAATCCGGTGAGTTCGTCC CR961431   6162       2034        \n",
       "CR961431_AACACACAGAATCCGGTGCGTCAACTG CR961431    620        414        \n",
       "CR961431_AACACACAGAATCCGGTGGTGGAATAG CR961431   4921       1960        \n",
       "CR961431_AACACACAGACACCAACGCCATATCTC CR961431    560        380        \n",
       "                                     sample   percent.mt percent.mito\n",
       "CR961431_AACACACAGAACGTCCAATAGTAGAGC CR961431 3.210273   NA          \n",
       "CR961431_AACACACAGAACGTCCAATTACAGAGG CR961431 5.757196   NA          \n",
       "CR961431_AACACACAGAATCCGGTGAGTTCGTCC CR961431 4.754950   NA          \n",
       "CR961431_AACACACAGAATCCGGTGCGTCAACTG CR961431 4.032258   NA          \n",
       "CR961431_AACACACAGAATCCGGTGGTGGAATAG CR961431 7.051412   NA          \n",
       "CR961431_AACACACAGACACCAACGCCATATCTC CR961431 9.285714   NA          \n",
       "                                     RNA_snn_res.0.8 seurat_clusters\n",
       "CR961431_AACACACAGAACGTCCAATAGTAGAGC 2               2              \n",
       "CR961431_AACACACAGAACGTCCAATTACAGAGG 6               6              \n",
       "CR961431_AACACACAGAATCCGGTGAGTTCGTCC 3               3              \n",
       "CR961431_AACACACAGAATCCGGTGCGTCAACTG 5               5              \n",
       "CR961431_AACACACAGAATCCGGTGGTGGAATAG 6               6              \n",
       "CR961431_AACACACAGACACCAACGCCATATCTC 2               2              \n",
       "                                     barcode                             \n",
       "CR961431_AACACACAGAACGTCCAATAGTAGAGC CR961431_AACACACAGAACGTCCAATAGTAGAGC\n",
       "CR961431_AACACACAGAACGTCCAATTACAGAGG CR961431_AACACACAGAACGTCCAATTACAGAGG\n",
       "CR961431_AACACACAGAATCCGGTGAGTTCGTCC CR961431_AACACACAGAATCCGGTGAGTTCGTCC\n",
       "CR961431_AACACACAGAATCCGGTGCGTCAACTG CR961431_AACACACAGAATCCGGTGCGTCAACTG\n",
       "CR961431_AACACACAGAATCCGGTGGTGGAATAG CR961431_AACACACAGAATCCGGTGGTGGAATAG\n",
       "CR961431_AACACACAGACACCAACGCCATATCTC CR961431_AACACACAGACACCAACGCCATATCTC"
      ]
     },
     "metadata": {},
     "output_type": "display_data"
    }
   ],
   "source": [
    "head(meta)"
   ]
  },
  {
   "cell_type": "code",
   "execution_count": 82,
   "id": "previous-prague",
   "metadata": {},
   "outputs": [],
   "source": [
    "rownames(df_merge) = df_merge$barcode"
   ]
  },
  {
   "cell_type": "code",
   "execution_count": 86,
   "id": "governing-topic",
   "metadata": {},
   "outputs": [
    {
     "data": {
      "text/html": [
       "<table class=\"dataframe\">\n",
       "<caption>A data.frame: 6 × 9</caption>\n",
       "<thead>\n",
       "\t<tr><th></th><th scope=col>orig.ident</th><th scope=col>nCount_RNA</th><th scope=col>nFeature_RNA</th><th scope=col>sample</th><th scope=col>percent.mt</th><th scope=col>percent.mito</th><th scope=col>RNA_snn_res.0.8</th><th scope=col>seurat_clusters</th><th scope=col>nCount_lncRNA</th></tr>\n",
       "\t<tr><th></th><th scope=col>&lt;chr&gt;</th><th scope=col>&lt;dbl&gt;</th><th scope=col>&lt;int&gt;</th><th scope=col>&lt;chr&gt;</th><th scope=col>&lt;dbl&gt;</th><th scope=col>&lt;dbl&gt;</th><th scope=col>&lt;fct&gt;</th><th scope=col>&lt;fct&gt;</th><th scope=col>&lt;dbl&gt;</th></tr>\n",
       "</thead>\n",
       "<tbody>\n",
       "\t<tr><th scope=row>CL961431_AACACACAGAACGCTAGTACGTACTGT</th><td>CL961431</td><td>  833</td><td> 522</td><td>CL961431</td><td>NA</td><td>0</td><td>1</td><td>1</td><td> 84</td></tr>\n",
       "\t<tr><th scope=row>CL961431_AACACACAGAACGCTAGTTATGCTCTC</th><td>CL961431</td><td>  682</td><td> 454</td><td>CL961431</td><td>NA</td><td>0</td><td>1</td><td>1</td><td>105</td></tr>\n",
       "\t<tr><th scope=row>CL961431_AACACACAGAACGCTAGTTCACGTCAT</th><td>CL961431</td><td>12024</td><td>3610</td><td>CL961431</td><td>NA</td><td>0</td><td>4</td><td>4</td><td>639</td></tr>\n",
       "\t<tr><th scope=row>CL961431_AACACACAGAACGTCCAAAGAATCCGG</th><td>CL961431</td><td> 4810</td><td>1996</td><td>CL961431</td><td>NA</td><td>0</td><td>4</td><td>4</td><td>379</td></tr>\n",
       "\t<tr><th scope=row>CL961431_AACACACAGAACGTCCAACAGTAAGAG</th><td>CL961431</td><td> 9583</td><td>2945</td><td>CL961431</td><td>NA</td><td>0</td><td>0</td><td>0</td><td>878</td></tr>\n",
       "\t<tr><th scope=row>CL961431_AACACACAGAACGTCCAAGTAAGATCG</th><td>CL961431</td><td> 6149</td><td>2220</td><td>CL961431</td><td>NA</td><td>0</td><td>0</td><td>0</td><td>729</td></tr>\n",
       "</tbody>\n",
       "</table>\n"
      ],
      "text/latex": [
       "A data.frame: 6 × 9\n",
       "\\begin{tabular}{r|lllllllll}\n",
       "  & orig.ident & nCount\\_RNA & nFeature\\_RNA & sample & percent.mt & percent.mito & RNA\\_snn\\_res.0.8 & seurat\\_clusters & nCount\\_lncRNA\\\\\n",
       "  & <chr> & <dbl> & <int> & <chr> & <dbl> & <dbl> & <fct> & <fct> & <dbl>\\\\\n",
       "\\hline\n",
       "\tCL961431\\_AACACACAGAACGCTAGTACGTACTGT & CL961431 &   833 &  522 & CL961431 & NA & 0 & 1 & 1 &  84\\\\\n",
       "\tCL961431\\_AACACACAGAACGCTAGTTATGCTCTC & CL961431 &   682 &  454 & CL961431 & NA & 0 & 1 & 1 & 105\\\\\n",
       "\tCL961431\\_AACACACAGAACGCTAGTTCACGTCAT & CL961431 & 12024 & 3610 & CL961431 & NA & 0 & 4 & 4 & 639\\\\\n",
       "\tCL961431\\_AACACACAGAACGTCCAAAGAATCCGG & CL961431 &  4810 & 1996 & CL961431 & NA & 0 & 4 & 4 & 379\\\\\n",
       "\tCL961431\\_AACACACAGAACGTCCAACAGTAAGAG & CL961431 &  9583 & 2945 & CL961431 & NA & 0 & 0 & 0 & 878\\\\\n",
       "\tCL961431\\_AACACACAGAACGTCCAAGTAAGATCG & CL961431 &  6149 & 2220 & CL961431 & NA & 0 & 0 & 0 & 729\\\\\n",
       "\\end{tabular}\n"
      ],
      "text/markdown": [
       "\n",
       "A data.frame: 6 × 9\n",
       "\n",
       "| <!--/--> | orig.ident &lt;chr&gt; | nCount_RNA &lt;dbl&gt; | nFeature_RNA &lt;int&gt; | sample &lt;chr&gt; | percent.mt &lt;dbl&gt; | percent.mito &lt;dbl&gt; | RNA_snn_res.0.8 &lt;fct&gt; | seurat_clusters &lt;fct&gt; | nCount_lncRNA &lt;dbl&gt; |\n",
       "|---|---|---|---|---|---|---|---|---|---|\n",
       "| CL961431_AACACACAGAACGCTAGTACGTACTGT | CL961431 |   833 |  522 | CL961431 | NA | 0 | 1 | 1 |  84 |\n",
       "| CL961431_AACACACAGAACGCTAGTTATGCTCTC | CL961431 |   682 |  454 | CL961431 | NA | 0 | 1 | 1 | 105 |\n",
       "| CL961431_AACACACAGAACGCTAGTTCACGTCAT | CL961431 | 12024 | 3610 | CL961431 | NA | 0 | 4 | 4 | 639 |\n",
       "| CL961431_AACACACAGAACGTCCAAAGAATCCGG | CL961431 |  4810 | 1996 | CL961431 | NA | 0 | 4 | 4 | 379 |\n",
       "| CL961431_AACACACAGAACGTCCAACAGTAAGAG | CL961431 |  9583 | 2945 | CL961431 | NA | 0 | 0 | 0 | 878 |\n",
       "| CL961431_AACACACAGAACGTCCAAGTAAGATCG | CL961431 |  6149 | 2220 | CL961431 | NA | 0 | 0 | 0 | 729 |\n",
       "\n"
      ],
      "text/plain": [
       "                                     orig.ident nCount_RNA nFeature_RNA\n",
       "CL961431_AACACACAGAACGCTAGTACGTACTGT CL961431     833       522        \n",
       "CL961431_AACACACAGAACGCTAGTTATGCTCTC CL961431     682       454        \n",
       "CL961431_AACACACAGAACGCTAGTTCACGTCAT CL961431   12024      3610        \n",
       "CL961431_AACACACAGAACGTCCAAAGAATCCGG CL961431    4810      1996        \n",
       "CL961431_AACACACAGAACGTCCAACAGTAAGAG CL961431    9583      2945        \n",
       "CL961431_AACACACAGAACGTCCAAGTAAGATCG CL961431    6149      2220        \n",
       "                                     sample   percent.mt percent.mito\n",
       "CL961431_AACACACAGAACGCTAGTACGTACTGT CL961431 NA         0           \n",
       "CL961431_AACACACAGAACGCTAGTTATGCTCTC CL961431 NA         0           \n",
       "CL961431_AACACACAGAACGCTAGTTCACGTCAT CL961431 NA         0           \n",
       "CL961431_AACACACAGAACGTCCAAAGAATCCGG CL961431 NA         0           \n",
       "CL961431_AACACACAGAACGTCCAACAGTAAGAG CL961431 NA         0           \n",
       "CL961431_AACACACAGAACGTCCAAGTAAGATCG CL961431 NA         0           \n",
       "                                     RNA_snn_res.0.8 seurat_clusters\n",
       "CL961431_AACACACAGAACGCTAGTACGTACTGT 1               1              \n",
       "CL961431_AACACACAGAACGCTAGTTATGCTCTC 1               1              \n",
       "CL961431_AACACACAGAACGCTAGTTCACGTCAT 4               4              \n",
       "CL961431_AACACACAGAACGTCCAAAGAATCCGG 4               4              \n",
       "CL961431_AACACACAGAACGTCCAACAGTAAGAG 0               0              \n",
       "CL961431_AACACACAGAACGTCCAAGTAAGATCG 0               0              \n",
       "                                     nCount_lncRNA\n",
       "CL961431_AACACACAGAACGCTAGTACGTACTGT  84          \n",
       "CL961431_AACACACAGAACGCTAGTTATGCTCTC 105          \n",
       "CL961431_AACACACAGAACGCTAGTTCACGTCAT 639          \n",
       "CL961431_AACACACAGAACGTCCAAAGAATCCGG 379          \n",
       "CL961431_AACACACAGAACGTCCAACAGTAAGAG 878          \n",
       "CL961431_AACACACAGAACGTCCAAGTAAGATCG 729          "
      ]
     },
     "metadata": {},
     "output_type": "display_data"
    }
   ],
   "source": [
    "head(df_merge)"
   ]
  },
  {
   "cell_type": "code",
   "execution_count": 85,
   "id": "governing-conspiracy",
   "metadata": {},
   "outputs": [],
   "source": [
    "df_merge = df_merge[-1]"
   ]
  },
  {
   "cell_type": "code",
   "execution_count": 87,
   "id": "gross-contract",
   "metadata": {},
   "outputs": [],
   "source": [
    "rds@meta.data = df_merge"
   ]
  },
  {
   "cell_type": "code",
   "execution_count": 90,
   "id": "thrown-killer",
   "metadata": {},
   "outputs": [],
   "source": [
    "p = FeaturePlot(rds, features=c(\"nCount_RNA\", \"nCount_lncRNA\"))"
   ]
  },
  {
   "cell_type": "code",
   "execution_count": 97,
   "id": "presidential-impact",
   "metadata": {},
   "outputs": [],
   "source": [
    "ggsave(filename = \"/SGRNJ06/randd/USER/cjj/celedev/rna/lncRNA/20231212/lncRNA.jpg\", height = 7, width = 12, plot = p,\n",
    "    quality = 50)"
   ]
  },
  {
   "cell_type": "code",
   "execution_count": null,
   "id": "quantitative-three",
   "metadata": {},
   "outputs": [],
   "source": []
  }
 ],
 "metadata": {
  "kernelspec": {
   "display_name": "r4.1_env",
   "language": "R",
   "name": "r4.1_env"
  },
  "language_info": {
   "codemirror_mode": "r",
   "file_extension": ".r",
   "mimetype": "text/x-r-source",
   "name": "R",
   "pygments_lexer": "r",
   "version": "4.1.1"
  }
 },
 "nbformat": 4,
 "nbformat_minor": 5
}
