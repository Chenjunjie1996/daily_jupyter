{
 "cells": [
  {
   "cell_type": "code",
   "execution_count": 75,
   "id": "determined-harris",
   "metadata": {},
   "outputs": [],
   "source": [
    "library(Seurat)\n",
    "library(argparse)\n",
    "library(Signac)\n",
    "library(Gmisc)\n",
    "library(ggplot2)"
   ]
  },
  {
   "cell_type": "code",
   "execution_count": 76,
   "id": "dietary-eclipse",
   "metadata": {},
   "outputs": [],
   "source": [
    "filtered_peak_count <- \"/SGRNJ06/randd/USER/cjj/celedev/atac/MAESTRO/test/20240227_1/A0204_4_MM_WX1130TN5_7th_D02SDS_T7_EDTA5030/02.atac/peak/A0204_4_MM_WX1130TN5_7th_D02SDS_T7_EDTA5030_filtered_peak_count.h5\""
   ]
  },
  {
   "cell_type": "code",
   "execution_count": 77,
   "id": "outdoor-section",
   "metadata": {},
   "outputs": [],
   "source": [
    "SeuratObj = Read10X_h5(filtered_peak_count)"
   ]
  },
  {
   "cell_type": "code",
   "execution_count": 78,
   "id": "blond-minutes",
   "metadata": {},
   "outputs": [],
   "source": [
    "project = \"A0204_4_MM_WX1130TN5_7th_D02SDS_T7_EDTA5030\"\n",
    "outdir = \"/SGRNJ06/randd/USER/cjj/celedev/atac/MAESTRO/test/20240227_1/A0204_4_MM_WX1130TN5_7th_D02SDS_T7_EDTA5030/02.atac/compare/\""
   ]
  },
  {
   "cell_type": "code",
   "execution_count": 79,
   "id": "fitted-apache",
   "metadata": {},
   "outputs": [
    {
     "name": "stderr",
     "output_type": "stream",
     "text": [
      "Warning message:\n",
      "\"Feature names cannot have underscores ('_'), replacing with dashes ('-')\"\n"
     ]
    }
   ],
   "source": [
    "SeuratObj <- CreateSeuratObject(SeuratObj, project = project, min.cells = 0, min.features = 0, assay = \"ATAC\")"
   ]
  },
  {
   "cell_type": "code",
   "execution_count": 80,
   "id": "aerial-works",
   "metadata": {},
   "outputs": [
    {
     "name": "stderr",
     "output_type": "stream",
     "text": [
      "LSI analysis ...\n",
      "\n",
      "Performing TF-IDF normalization\n",
      "\n",
      "Running SVD\n",
      "\n",
      "Scaling cell embeddings\n",
      "\n"
     ]
    }
   ],
   "source": [
    "  message(\"LSI analysis ...\")\n",
    "  SeuratObj <- fastDoCall(\"RunTFIDF\", c(object = SeuratObj))\n",
    "  SeuratObj <- FindTopFeatures(object = SeuratObj, min.cutoff = 'q0')\n",
    "  SeuratObj <- fastDoCall(\"RunSVD\", c(object = SeuratObj))"
   ]
  },
  {
   "cell_type": "code",
   "execution_count": null,
   "id": "rising-belarus",
   "metadata": {},
   "outputs": [],
   "source": [
    "  #============ UMAP ============\n",
    "  message(\"UMAP analysis ...\")\n",
    "  #SeuratObj <- fastDoCall(\"RunUMAP\", c(object = SeuratObj, dims = dims.use, reduction = \"lsi\", runumap.args))\n",
    "  SeuratObj <- RunUMAP(object = SeuratObj, reduction = \"lsi\", dims = 1:30)\n",
    "  SeuratObj <- fastDoCall(\"FindNeighbors\", c(object = SeuratObj, reduction = \"lsi\", dims = 1:30))\n",
    "  SeuratObj <- fastDoCall(\"FindClusters\", c(object = SeuratObj, resolution = 0.6))\n",
    "  # SeuratObj <- FindNeighbors(object = SeuratObj, reduction = \"lsi\", dims = dims.use)\n",
    "  # SeuratObj <- FindClusters(object = SeuratObj, resolution = cluster.res)\n",
    "  p1 <- DimPlot(object = SeuratObj, pt.size = 0.5, label = TRUE)\n",
    "  ggsave(file.path(outdir, paste0(project, \"_cluster.png\")), p1, width=5, height=4)"
   ]
  },
  {
   "cell_type": "code",
   "execution_count": 82,
   "id": "asian-nursery",
   "metadata": {},
   "outputs": [],
   "source": [
    "df = merge(SeuratObj@reductions$umap@cell.embeddings, SeuratObj@meta.data, by = \"row.names\")"
   ]
  },
  {
   "cell_type": "code",
   "execution_count": 84,
   "id": "failing-color",
   "metadata": {},
   "outputs": [],
   "source": [
    "write.csv(df, \"/SGRNJ06/randd/USER/cjj/celedev/atac/MAESTRO/test/20240227_1/A0204_4_MM_WX1130TN5_7th_D02SDS_T7_EDTA5030/02.atac/compare/meta.csv\", quote=FALSE, row.names=FALSE)"
   ]
  },
  {
   "cell_type": "code",
   "execution_count": 85,
   "id": "modular-healthcare",
   "metadata": {},
   "outputs": [],
   "source": [
    "saveRDS(SeuratObj, \"/SGRNJ06/randd/USER/cjj/celedev/atac/MAESTRO/test/20240227_1/A0204_4_MM_WX1130TN5_7th_D02SDS_T7_EDTA5030/02.atac/compare/rds.rds\")"
   ]
  },
  {
   "cell_type": "code",
   "execution_count": null,
   "id": "special-barrier",
   "metadata": {},
   "outputs": [],
   "source": []
  },
  {
   "cell_type": "code",
   "execution_count": null,
   "id": "frozen-vision",
   "metadata": {},
   "outputs": [],
   "source": [
    "library(dplyr)\n",
    "library(presto)"
   ]
  },
  {
   "cell_type": "code",
   "execution_count": null,
   "id": "bottom-aggregate",
   "metadata": {},
   "outputs": [],
   "source": [
    "  #============ DE analysis ============\n",
    "  message(\"Identify cluster specific peaks ...\")\n",
    "  SeuratObj <- NormalizeData(SeuratObj, normalization.method = \"LogNormalize\", scale.factor = 10000)\n",
    "  cluster.peaks <- NULL\n",
    "  cluster.peaks <- FindAllMarkersMAESTRO(object = SeuratObj, min.pct = 0, logfc.threshold = 0, test.use = \"presto\", only.pos = TRUE)\n",
    "  cluster.peaks <- cluster.peaks[cluster.peaks$p_val_adj<0, ]\n",
    "  colnames(cluster.peaks)[7] <- \"peak\"\n",
    "  write.table(cluster.peaks, file.path(outdir, paste0(project, \"_DiffPeaks.tsv\")), quote=F, sep=\"\\t\")"
   ]
  },
  {
   "cell_type": "code",
   "execution_count": null,
   "id": "swiss-necklace",
   "metadata": {},
   "outputs": [],
   "source": [
    "SeuratObj"
   ]
  },
  {
   "cell_type": "code",
   "execution_count": null,
   "id": "behavioral-values",
   "metadata": {},
   "outputs": [],
   "source": [
    "df = merge(SeuratObj$ATAC@reductions$umap@cell.embeddings, SeuratObj$ATAC@meta.data, by = \"row.names\")"
   ]
  },
  {
   "cell_type": "code",
   "execution_count": null,
   "id": "welsh-alaska",
   "metadata": {},
   "outputs": [],
   "source": [
    "FindAllMarkersMAESTRO <- function(object, test.use = 'presto', \n",
    "                                  features = NULL, min.pct = 0.1, logfc.threshold = 0.25,\n",
    "                                  only.pos = FALSE, verbose = TRUE, return.thresh = 1e-2,\n",
    "                                  min.cells.feature = 3, min.cells.group = 3,\n",
    "                                  slot = \"data\", latent.vars = NULL){\n",
    "  ident.all <- sort(unique(Idents(object = object)))\n",
    "  if(test.use != 'presto'){\n",
    "    all.res <- lapply(0:(length(ident.all)-1), function(x){\n",
    "      if (verbose) {\n",
    "        message(\"Calculating cluster \",x)\n",
    "      }\n",
    "      test.res <-  tryCatch(expr = FindMarkersMAESTRO(object,ident.1 = x, ident.2 = NULL,test.use = test.use, \n",
    "                                                      features = features, min.pct = min.pct, logfc.threshold = logfc.threshold,\n",
    "                                                      only.pos = only.pos, verbose = verbose),\n",
    "                            error = function(cond) {return(cond$message)})\n",
    "      if(class(test.res) == \"character\"){\n",
    "        message(paste0(test.res, \", no differential features identified\"))\n",
    "        test.res <- NULL\n",
    "      }else{\n",
    "        test.res$cluster <- as.character(x)\n",
    "        test.res$gene <- rownames(test.res)\n",
    "      }\n",
    "      return(test.res)})\n",
    "    all.res.df <- do.call(\"rbind\", all.res)\n",
    "    all.res.df <- all.res.df[which(all.res.df$p_val < return.thresh), ]\n",
    "    rownames(all.res.df) = NULL\n",
    "  }else{\n",
    "    all.res.df = FindAllMarkersPresto(object, features = features, min.pct = min.pct, \n",
    "                                      logfc.threshold = logfc.threshold,\n",
    "                                      only.pos = only.pos, return.thresh = return.thresh,\n",
    "                                      slot = slot)\n",
    "  }\n",
    "  return(all.res.df)\n",
    "}"
   ]
  },
  {
   "cell_type": "code",
   "execution_count": null,
   "id": "armed-three",
   "metadata": {},
   "outputs": [],
   "source": [
    "FindAllMarkersPresto <- function(object, features = NULL, min.pct = 0.1, logfc.threshold = 0.25,\n",
    "                                 only.pos = FALSE, return.thresh = 1e-2,\n",
    "                                 slot = \"data\")\n",
    "{\n",
    "  features = if(is.null(features)){rownames(object)} else {features}\n",
    "  X_matrix = GetAssayData(object, slot = slot)\n",
    "  y <- Idents(object) %>% unlist %>% as.character() \n",
    "  test.res = wilcoxauc(X_matrix, y)\n",
    "  \n",
    "  # Calculate logFC\n",
    "  y = factor(y)\n",
    "  if (slot != \"scale.data\"){\n",
    "    if (slot == \"data\"){\n",
    "      X = expm1(X_matrix)\n",
    "    }\n",
    "    group_sums = sumGroups(X, y, 1)\n",
    "    group_means <- sweep(group_sums, 1, as.numeric(table(y)), \"/\") %>% t()\n",
    "    cs <- colSums(group_sums)\n",
    "    gs <- as.numeric(table(y))\n",
    "    lfc <- Reduce(cbind, lapply(seq_len(length(levels(y))), function(g) {\n",
    "      log(group_means[, g]+1) - log(((cs - group_sums[g, ]) / (length(y) - gs[g]))+1)\n",
    "    }))\n",
    "  }else{\n",
    "    group_sums = sumGroups(X, y, 1)\n",
    "    group_means <- sweep(group_sums, 1, as.numeric(table(y)), \"/\") %>% t()\n",
    "    cs <- colSums(group_sums)\n",
    "    gs <- as.numeric(table(y))\n",
    "    lfc <- Reduce(cbind, lapply(seq_len(length(levels(y))), function(g) {\n",
    "      group_means[, g] - ((cs - group_sums[g, ]) / (length(y) - gs[g]))\n",
    "    }))\n",
    "  }\n",
    "  \n",
    "  test.res$avg_logFC = as.vector(lfc)\n",
    "  res = test.res[,c(\"pval\", \"avg_logFC\", \"pct_in\", \"pct_out\", \"padj\", \"group\", \"feature\")]\n",
    "  res[,c(\"pct_in\", \"pct_out\")] = round(res[,c(\"pct_in\", \"pct_out\")]/100, digits = 3)\n",
    "  colnames(res) = c(\"p_val\", \"avg_logFC\", \"pct.1\", \"pct.2\", \"p_val_adj\", \"cluster\", \"gene\")\n",
    "  res <- res %>% dplyr::filter(.data$p_val < return.thresh & \n",
    "                         abs(.data$avg_logFC) > logfc.threshold &\n",
    "                         (.data$pct.1 > min.pct |\n",
    "                         .data$pct.2 > min.pct) &\n",
    "                         .data$gene %in% features)\n",
    "  if(only.pos){\n",
    "    res <- res %>% dplyr::filter(.data$avg_logFC > 0)\n",
    "  }\n",
    "  res <- res %>% dplyr::arrange(.data$cluster, .data$p_val, desc(.data$avg_logFC))\n",
    "  return(res)\n",
    "}"
   ]
  },
  {
   "cell_type": "code",
   "execution_count": null,
   "id": "authentic-nursing",
   "metadata": {},
   "outputs": [],
   "source": []
  }
 ],
 "metadata": {
  "kernelspec": {
   "display_name": "MAESTRO1",
   "language": "R",
   "name": "maestro1"
  },
  "language_info": {
   "codemirror_mode": "r",
   "file_extension": ".r",
   "mimetype": "text/x-r-source",
   "name": "R",
   "pygments_lexer": "r",
   "version": "4.0.5"
  }
 },
 "nbformat": 4,
 "nbformat_minor": 5
}
