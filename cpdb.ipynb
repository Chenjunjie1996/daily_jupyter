{
 "cells": [
  {
   "cell_type": "code",
   "execution_count": 1,
   "id": "automotive-calgary",
   "metadata": {},
   "outputs": [
    {
     "name": "stderr",
     "output_type": "stream",
     "text": [
      "── \u001b[1mAttaching packages\u001b[22m ────────────────────────────────────────────────────────────────────────────────────── tidyverse 1.3.1 ──\n",
      "\n",
      "\u001b[32m✔\u001b[39m \u001b[34mggplot2\u001b[39m 3.3.3     \u001b[32m✔\u001b[39m \u001b[34mpurrr  \u001b[39m 0.3.4\n",
      "\u001b[32m✔\u001b[39m \u001b[34mtibble \u001b[39m 3.1.0     \u001b[32m✔\u001b[39m \u001b[34mdplyr  \u001b[39m 1.0.5\n",
      "\u001b[32m✔\u001b[39m \u001b[34mtidyr  \u001b[39m 1.1.3     \u001b[32m✔\u001b[39m \u001b[34mstringr\u001b[39m 1.4.0\n",
      "\u001b[32m✔\u001b[39m \u001b[34mreadr  \u001b[39m 1.4.0     \u001b[32m✔\u001b[39m \u001b[34mforcats\u001b[39m 0.5.1\n",
      "\n",
      "── \u001b[1mConflicts\u001b[22m ───────────────────────────────────────────────────────────────────────────────────────── tidyverse_conflicts() ──\n",
      "\u001b[31m✖\u001b[39m \u001b[34mdplyr\u001b[39m::\u001b[32mfilter()\u001b[39m masks \u001b[34mstats\u001b[39m::filter()\n",
      "\u001b[31m✖\u001b[39m \u001b[34mdplyr\u001b[39m::\u001b[32mlag()\u001b[39m    masks \u001b[34mstats\u001b[39m::lag()\n",
      "\n",
      "Warning message:\n",
      "“package ‘Seurat’ was built under R version 4.0.5”\n",
      "Registered S3 method overwritten by 'spatstat.geom':\n",
      "  method     from\n",
      "  print.boxx cli \n",
      "\n",
      "Attaching SeuratObject\n",
      "\n"
     ]
    }
   ],
   "source": [
    "library(tidyverse)\n",
    "library(ggplot2)\n",
    "library(Seurat)"
   ]
  },
  {
   "cell_type": "code",
   "execution_count": 4,
   "id": "surprised-context",
   "metadata": {},
   "outputs": [],
   "source": [
    "  rds = readRDS('/SGRNJ06/randd/USER/cjj/celedev/XZMU/20230103/total.rds')\n",
    "  Idents(rds) <- \"sample\"\n",
    "  #rdss <- subset(rds,idents = c(\"DYC-0-X1\",\"DYC-1-X1\",\"DYC-2-X1\"))\n",
    "  rdss <- subset(rds,idents = c(\"WYP-0-X2\",\"WYP-1-X1\",\"WYP-2-X2\"))"
   ]
  },
  {
   "cell_type": "code",
   "execution_count": 5,
   "id": "blank-success",
   "metadata": {},
   "outputs": [],
   "source": [
    "  #write.table(as.matrix(rdss@assays$RNA@data), '/SGRNJ06/randd/USER/cjj/celedev/XZMU/20230103/cpdb/dyc/cellphonedb_count.txt', sep='\\t', quote=F)\n",
    "  write.table(as.matrix(rdss@assays$RNA@data), '/SGRNJ06/randd/USER/cjj/celedev/XZMU/20230103/cpdb/wyp/cellphonedb_count.txt', sep='\\t', quote=F)\n",
    "  meta_data <- cbind(rownames(rdss@meta.data), rdss@meta.data[,'cluster', drop=F])\n",
    "  meta_data <- as.matrix(meta_data)\n",
    "  meta_data[is.na(meta_data)] = \"Unkown\" #  ϸ???????в?????NA\n",
    "  #write.table(meta_data, '/SGRNJ06/randd/USER/cjj/celedev/XZMU/20230103/cpdb/dyc/cellphonedb_meta.txt', sep='\\t', quote=F, row.names=F)\n",
    "  write.table(meta_data, '/SGRNJ06/randd/USER/cjj/celedev/XZMU/20230103/cpdb/wyp/cellphonedb_meta.txt', sep='\\t', quote=F, row.names=F)"
   ]
  },
  {
   "cell_type": "code",
   "execution_count": null,
   "id": "respiratory-parallel",
   "metadata": {},
   "outputs": [],
   "source": []
  }
 ],
 "metadata": {
  "kernelspec": {
   "display_name": "CJJcele",
   "language": "R",
   "name": "cjjcele"
  },
  "language_info": {
   "codemirror_mode": "r",
   "file_extension": ".r",
   "mimetype": "text/x-r-source",
   "name": "R",
   "pygments_lexer": "r",
   "version": "4.0.3"
  }
 },
 "nbformat": 4,
 "nbformat_minor": 5
}
