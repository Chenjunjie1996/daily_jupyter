{
 "cells": [
  {
   "cell_type": "code",
   "execution_count": 4,
   "id": "synthetic-rover",
   "metadata": {},
   "outputs": [],
   "source": [
    "import numpy.ma as ma\n",
    "import random\n",
    "import numpy as np\n",
    "\n",
    "from collections import namedtuple\n",
    "\n",
    "import celescope.tools.emptydrop_cr.sgt as cr_sgt  # # modified sgt.py\n",
    "import celescope.tools.emptydrop_cr.stats as cr_stats  # # modified stats.py\n",
    "from celescope.tools.matrix import CountMatrix\n",
    "\n",
    "# Set random seed\n",
    "random.seed(0)\n",
    "np.random.seed(0)\n",
    "\n",
    "# Number of additional barcodes to consider after the initial cell calling\n",
    "N_CANDIDATE_BARCODES = 20000\n",
    "\n",
    "# Number of partitions (max number of barcodes to consider for ambient estimation)\n",
    "N_PARTITIONS = 90000\n",
    "\n",
    "# Drop this top fraction of the barcodes when estimating ambient.\n",
    "MAX_OCCUPIED_PARTITIONS_FRAC = 0.5\n",
    "\n",
    "# Minimum number of UMIS per barcode to consider after the initial cell calling\n",
    "MIN_UMIS = 500\n",
    "\n",
    "# Minimum ratio of UMIs to the median (initial cell call UMI) to consider after the initial cell calling\n",
    "MIN_UMI_FRAC_OF_MEDIAN = 0.01\n",
    "\n",
    "# Maximum adjusted p-value to call a barcode as non-ambient\n",
    "MAX_ADJ_PVALUE = 0.01"
   ]
  },
  {
   "cell_type": "code",
   "execution_count": 41,
   "id": "forbidden-savings",
   "metadata": {},
   "outputs": [],
   "source": [
    "def est_background_profile_sgt(matrix, use_bcs):\n",
    "    \"\"\" Estimate a gene expression profile on a given subset of barcodes.\n",
    "         Use Good-Turing to smooth the estimated profile.\n",
    "    Args:\n",
    "      matrix (scipy.sparse.csc_matrix): Sparse matrix of all counts\n",
    "      use_bcs (np.array(int)): Indices of barcodes to use (col indices into matrix)\n",
    "    Returns:\n",
    "      profile (use_features, np.array(float)): Estimated probabilities of length use_features.\n",
    "    \"\"\"\n",
    "    # Use features that are nonzero anywhere in the data\n",
    "    use_feats = np.flatnonzero(np.asarray(matrix.sum(1)))\n",
    "\n",
    "    # Estimate background profile\n",
    "    bg_profile_p = estimate_profile_sgt(matrix, use_bcs, use_feats)\n",
    "\n",
    "    return (use_feats, bg_profile_p)\n",
    "\n",
    "def estimate_profile_sgt(matrix, barcode_indices, nz_feat):\n",
    "    \"\"\" Estimate a gene expression profile by Simple Good Turing.\n",
    "    Args:\n",
    "      raw_mat (sparse matrix): Sparse matrix of all counts\n",
    "      barcode_indices (np.array(int)): Barcode indices to use\n",
    "      nz_feat (np.array(int)): Indices of features that are non-zero at least once\n",
    "    Returns:\n",
    "      profile (np.array(float)): Estimated probabilities of length len(nz_feat).\n",
    "    \"\"\"\n",
    "    # Initial profile estimate\n",
    "    prof_mat = matrix[:, barcode_indices]\n",
    "\n",
    "    profile = np.ravel(prof_mat[nz_feat, :].sum(axis=1))\n",
    "    zero_feat = np.flatnonzero(profile == 0)\n",
    "\n",
    "    # Simple Good Turing estimate\n",
    "    p_smoothed, p0 = cr_sgt.sgt_proportions(profile[np.flatnonzero(profile)])\n",
    "\n",
    "    # Distribute p0 equally among the zero elements.\n",
    "    p0_i = p0/len(zero_feat)\n",
    "\n",
    "    profile_p = np.repeat(p0_i, len(nz_feat))\n",
    "    profile_p[np.flatnonzero(profile)] = p_smoothed\n",
    "\n",
    "    assert np.isclose(profile_p.sum(), 1.0)\n",
    "    return profile_p"
   ]
  },
  {
   "cell_type": "code",
   "execution_count": 6,
   "id": "juvenile-metadata",
   "metadata": {},
   "outputs": [
    {
     "name": "stdout",
     "output_type": "stream",
     "text": [
      "2023-07-03 17:41:15,138 - celescope.tools.matrix.from_matrix_dir - INFO - start...\n",
      "2023-07-03 17:41:22,607 - celescope.tools.matrix.from_matrix_dir - INFO - done. time used: 0:00:07.464178\n"
     ]
    }
   ],
   "source": [
    "count_matrix = CountMatrix.from_matrix_dir(matrix_dir=\"/SGRNJ06/randd/USER/cjj/celedev/rna/20230703/5_U7/Mus_0614PZ_SGOT_1_5lib/05.count/Mus_0614PZ_SGOT_1_5lib_raw_feature_bc_matrix\")\n",
    "raw_mat=count_matrix.get_matrix()"
   ]
  },
  {
   "cell_type": "code",
   "execution_count": 7,
   "id": "hawaiian-elite",
   "metadata": {},
   "outputs": [],
   "source": [
    "umis_per_bc = np.squeeze(np.asarray(raw_mat.sum(axis=0)))"
   ]
  },
  {
   "cell_type": "code",
   "execution_count": 8,
   "id": "apparent-ridge",
   "metadata": {},
   "outputs": [],
   "source": [
    "bc_order = np.argsort(umis_per_bc)"
   ]
  },
  {
   "cell_type": "code",
   "execution_count": 14,
   "id": "genetic-telescope",
   "metadata": {},
   "outputs": [
    {
     "data": {
      "text/plain": [
       "10530"
      ]
     },
     "execution_count": 14,
     "metadata": {},
     "output_type": "execute_result"
    }
   ],
   "source": [
    "len(bc_order)"
   ]
  },
  {
   "cell_type": "code",
   "execution_count": 9,
   "id": "refined-designer",
   "metadata": {},
   "outputs": [],
   "source": [
    "nz_bcs = np.flatnonzero(umis_per_bc)"
   ]
  },
  {
   "cell_type": "code",
   "execution_count": 15,
   "id": "actual-daily",
   "metadata": {},
   "outputs": [
    {
     "data": {
      "text/plain": [
       "10530"
      ]
     },
     "execution_count": 15,
     "metadata": {},
     "output_type": "execute_result"
    }
   ],
   "source": [
    "len(nz_bcs)"
   ]
  },
  {
   "cell_type": "code",
   "execution_count": 25,
   "id": "animal-eugene",
   "metadata": {},
   "outputs": [
    {
     "data": {
      "text/plain": [
       "90000"
      ]
     },
     "execution_count": 25,
     "metadata": {},
     "output_type": "execute_result"
    }
   ],
   "source": [
    "N_PARTITIONS"
   ]
  },
  {
   "cell_type": "code",
   "execution_count": 175,
   "id": "offshore-nightlife",
   "metadata": {},
   "outputs": [],
   "source": [
    "empty_bcs = bc_order[::-1][int(N_PARTITIONS*MAX_OCCUPIED_PARTITIONS_FRAC):N_PARTITIONS]\n",
    "#empty_bcs = bc_order[::-1][int(18000*MAX_OCCUPIED_PARTITIONS_FRAC):18000]"
   ]
  },
  {
   "cell_type": "code",
   "execution_count": 176,
   "id": "previous-reserve",
   "metadata": {},
   "outputs": [
    {
     "data": {
      "text/plain": [
       "0"
      ]
     },
     "execution_count": 176,
     "metadata": {},
     "output_type": "execute_result"
    }
   ],
   "source": [
    "len(empty_bcs)"
   ]
  },
  {
   "cell_type": "code",
   "execution_count": 177,
   "id": "stone-theater",
   "metadata": {},
   "outputs": [],
   "source": [
    "use_bcs = np.intersect1d(empty_bcs, nz_bcs, assume_unique=True)"
   ]
  },
  {
   "cell_type": "code",
   "execution_count": 178,
   "id": "noticed-wireless",
   "metadata": {},
   "outputs": [
    {
     "data": {
      "text/plain": [
       "0"
      ]
     },
     "execution_count": 178,
     "metadata": {},
     "output_type": "execute_result"
    }
   ],
   "source": [
    "len(use_bcs)"
   ]
  },
  {
   "cell_type": "code",
   "execution_count": 179,
   "id": "played-palestine",
   "metadata": {},
   "outputs": [],
   "source": [
    "    if len(use_bcs) > 0:\n",
    "        try:\n",
    "            # Get used \"Gene\" features (eval_features)\n",
    "            # and the smoothed prob profile per \"Gene\" (ambient_profile_p)\n",
    "            eval_features, ambient_profile_p = est_background_profile_sgt(raw_mat.tocsc(), use_bcs)\n",
    "        except cr_sgt.SimpleGoodTuringError as e:\n",
    "            print(str(e))\n",
    "    else:\n",
    "        eval_features = np.zeros(0, dtype=int)\n",
    "        ambient_profile_p = np.zeros(0)"
   ]
  },
  {
   "cell_type": "code",
   "execution_count": 180,
   "id": "fancy-memory",
   "metadata": {},
   "outputs": [
    {
     "data": {
      "text/plain": [
       "array([], dtype=int64)"
      ]
     },
     "execution_count": 180,
     "metadata": {},
     "output_type": "execute_result"
    }
   ],
   "source": [
    "eval_features"
   ]
  },
  {
   "cell_type": "code",
   "execution_count": 181,
   "id": "differential-glory",
   "metadata": {},
   "outputs": [
    {
     "data": {
      "text/plain": [
       "array([], dtype=float64)"
      ]
     },
     "execution_count": 181,
     "metadata": {},
     "output_type": "execute_result"
    }
   ],
   "source": [
    "ambient_profile_p"
   ]
  },
  {
   "cell_type": "code",
   "execution_count": 182,
   "id": "single-bacteria",
   "metadata": {},
   "outputs": [],
   "source": [
    "    gg_filtered_indices, gg_filtered_metrics, _msg = cr_stats.filter_cellular_barcodes_ordmag(\n",
    "        umis_per_bc, recovered_cells=3000)"
   ]
  },
  {
   "cell_type": "code",
   "execution_count": 183,
   "id": "fifty-entry",
   "metadata": {},
   "outputs": [
    {
     "name": "stdout",
     "output_type": "stream",
     "text": [
      "Cell-called barcodes metrics:\n",
      "filtered_bcs: 5562\n",
      "filtered_bcs_var: 62928.3964\n",
      "max_filtered_bcs: 18000.0\n",
      "==============================\n",
      "Median UMIs of initial cell calls: 1437.0\n",
      "Min UMIs: 500\n",
      "Number of candidate bcs: 1334\n",
      "Range candidate bc umis: 500, 744\n"
     ]
    }
   ],
   "source": [
    "    print('Cell-called barcodes metrics:')\n",
    "    print('\\n'.join(list(map(lambda x: '{}: {}'.format(*x), list(gg_filtered_metrics.items())))))\n",
    "    print('==============================')\n",
    "\n",
    "    orig_cell_bc_set = set(gg_filtered_indices)\n",
    "    orig_cells = np.flatnonzero(np.fromiter((bc in orig_cell_bc_set for bc in range(raw_mat.shape[1])), dtype=bool))\n",
    "\n",
    "    # No good incoming cell calls\n",
    "    if orig_cells.sum() == 0:\n",
    "        print('Error: No original cells are selected!')\n",
    "\n",
    "    # Look at non-cell barcodes above a minimum UMI count\n",
    "    eval_bcs = np.ma.array(np.arange(raw_mat.shape[1]))\n",
    "    eval_bcs[orig_cells] = ma.masked\n",
    "\n",
    "    median_initial_umis = np.median(umis_per_bc[orig_cells])\n",
    "    \n",
    "    min_umi_frac_of_median=MIN_UMI_FRAC_OF_MEDIAN\n",
    "    min_umis_nonambient=MIN_UMIS\n",
    "    min_umis = int(max(min_umis_nonambient, round(np.ceil(median_initial_umis * min_umi_frac_of_median))))\n",
    "\n",
    "    print('Median UMIs of initial cell calls: {}'.format(median_initial_umis))\n",
    "    print('Min UMIs: {}'.format(min_umis))\n",
    "\n",
    "    eval_bcs[umis_per_bc < min_umis] = ma.masked\n",
    "    n_unmasked_bcs = len(eval_bcs) - eval_bcs.mask.sum()\n",
    "\n",
    "    # Take the top N_CANDIDATE_BARCODES by UMI count, of barcodes that pass the above criteria\n",
    "    # For evaluation of non-ambient bcs using background info estimated from SGT\n",
    "    eval_bcs = np.argsort(ma.masked_array(umis_per_bc, mask=eval_bcs.mask))[:n_unmasked_bcs][-N_CANDIDATE_BARCODES:]\n",
    "\n",
    "    if len(eval_bcs) == 0:\n",
    "        print('Warning: no eval bcs are selected to evaluate non-empty bcs from SGT results!')\n",
    "        print('Output bcs from 1st round cell calling ONLY.')\n",
    "        # return orig_cells, gg_filtered_metrics, None\n",
    "    else:\n",
    "        assert not np.any(np.isin(eval_bcs, orig_cells))\n",
    "        print('Number of candidate bcs: {}'.format(len(eval_bcs)))\n",
    "        print('Range candidate bc umis: {}, {}'.format(umis_per_bc[eval_bcs].min(), umis_per_bc[eval_bcs].max()))\n",
    "\n",
    "        eval_mat = raw_mat.tocsc()[eval_features, :][:, eval_bcs]\n",
    "\n",
    "        if len(ambient_profile_p) == 0:\n",
    "            obs_loglk = np.repeat(np.nan, len(eval_bcs))\n",
    "            pvalues = np.repeat(1, len(eval_bcs))\n",
    "            sim_loglk = np.repeat(np.nan, len(eval_bcs))\n",
    "        else:\n",
    "            # Compute observed log-likelihood of barcodes being generated from ambient RNA\n",
    "            obs_loglk = cr_stats.eval_multinomial_loglikelihoods(eval_mat, ambient_profile_p)"
   ]
  },
  {
   "cell_type": "code",
   "execution_count": 173,
   "id": "vocational-choice",
   "metadata": {},
   "outputs": [
    {
     "data": {
      "text/plain": [
       "array([nan, nan, nan, ..., nan, nan, nan])"
      ]
     },
     "execution_count": 173,
     "metadata": {},
     "output_type": "execute_result"
    }
   ],
   "source": [
    "obs_loglk"
   ]
  },
  {
   "cell_type": "code",
   "execution_count": null,
   "id": "yellow-endorsement",
   "metadata": {},
   "outputs": [],
   "source": [
    "eval_mat"
   ]
  },
  {
   "cell_type": "code",
   "execution_count": 129,
   "id": "suited-junction",
   "metadata": {},
   "outputs": [],
   "source": [
    "gb_per_bc = float(eval_mat.shape[0] * eval_mat.dtype.itemsize) / (1024**3)"
   ]
  },
  {
   "cell_type": "code",
   "execution_count": 130,
   "id": "severe-blues",
   "metadata": {},
   "outputs": [
    {
     "data": {
      "text/plain": [
       "0.0"
      ]
     },
     "execution_count": 130,
     "metadata": {},
     "output_type": "execute_result"
    }
   ],
   "source": [
    "gb_per_bc"
   ]
  },
  {
   "cell_type": "code",
   "execution_count": 184,
   "id": "independent-personality",
   "metadata": {},
   "outputs": [
    {
     "data": {
      "text/plain": [
       "array([  655,  5900,  4573, ...,  2671, 10368,  3999])"
      ]
     },
     "execution_count": 184,
     "metadata": {},
     "output_type": "execute_result"
    }
   ],
   "source": [
    "eval_bcs"
   ]
  },
  {
   "cell_type": "code",
   "execution_count": 111,
   "id": "mediterranean-world",
   "metadata": {},
   "outputs": [],
   "source": [
    "def eval_multinomial_loglikelihoods(matrix, profile_p, max_mem_gb=0.1):\n",
    "    \"\"\"Compute the multinomial log PMF for many barcodes\n",
    "    Args:\n",
    "      matrix (scipy.sparse.csc_matrix): Matrix of UMI counts (feature x barcode)\n",
    "      profile_p (np.ndarray(float)): Multinomial probability vector\n",
    "      max_mem_gb (float): Try to bound memory usage.\n",
    "    Returns:\n",
    "      log_likelihoods (np.ndarray(float)): Log-likelihood for each barcode\n",
    "    \"\"\"\n",
    "    gb_per_bc = float(matrix.shape[0] * matrix.dtype.itemsize) / (1024**3)\n",
    "    bcs_per_chunk = max(1, int(round(max_mem_gb/gb_per_bc)))\n",
    "    num_bcs = matrix.shape[1]\n",
    "\n",
    "    loglk = np.zeros(num_bcs)\n",
    "\n",
    "    for chunk_start in range(0, num_bcs, bcs_per_chunk):\n",
    "        chunk = slice(chunk_start, chunk_start+bcs_per_chunk)\n",
    "        matrix_chunk = matrix[:, chunk].transpose().toarray()\n",
    "        n = matrix_chunk.sum(1)\n",
    "        loglk[chunk] = sp_stats.multinomial.logpmf(matrix_chunk, n, p=profile_p)\n",
    "    return loglk"
   ]
  },
  {
   "cell_type": "code",
   "execution_count": 119,
   "id": "dominican-camping",
   "metadata": {},
   "outputs": [
    {
     "data": {
      "text/plain": [
       "array([-1581.09090462, -1567.27135016, -1509.93730578, ...,\n",
       "       -1936.09485175, -2130.44639483, -2213.87755668])"
      ]
     },
     "execution_count": 119,
     "metadata": {},
     "output_type": "execute_result"
    }
   ],
   "source": [
    "obs_loglk"
   ]
  },
  {
   "cell_type": "code",
   "execution_count": 150,
   "id": "experienced-courage",
   "metadata": {},
   "outputs": [
    {
     "data": {
      "text/plain": [
       "array([0.])"
      ]
     },
     "execution_count": 150,
     "metadata": {},
     "output_type": "execute_result"
    }
   ],
   "source": [
    "np.zeros(1)"
   ]
  },
  {
   "cell_type": "code",
   "execution_count": null,
   "id": "advance-surfing",
   "metadata": {},
   "outputs": [],
   "source": []
  }
 ],
 "metadata": {
  "kernelspec": {
   "display_name": "cjj_singularity",
   "language": "python",
   "name": "cjj_singularity"
  },
  "language_info": {
   "codemirror_mode": {
    "name": "ipython",
    "version": 3
   },
   "file_extension": ".py",
   "mimetype": "text/x-python",
   "name": "python",
   "nbconvert_exporter": "python",
   "pygments_lexer": "ipython3",
   "version": "3.9.0"
  }
 },
 "nbformat": 4,
 "nbformat_minor": 5
}
