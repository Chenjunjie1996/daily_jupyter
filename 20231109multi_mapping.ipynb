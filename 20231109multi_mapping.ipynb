{
 "cells": [
  {
   "cell_type": "code",
   "execution_count": null,
   "id": "threaded-heart",
   "metadata": {},
   "outputs": [],
   "source": [
    "# outSAMmultNmax -1 \n",
    "# outFilterMultimapNmax 10\n",
    "# 把NH:1的过滤掉"
   ]
  },
  {
   "cell_type": "code",
   "execution_count": 2,
   "id": "important-scenario",
   "metadata": {},
   "outputs": [],
   "source": [
    "import pysam"
   ]
  },
  {
   "cell_type": "code",
   "execution_count": 3,
   "id": "running-election",
   "metadata": {},
   "outputs": [],
   "source": [
    "inputFile = pysam.AlignmentFile(\"/SGRNJ06/randd/USER/cjj/celedev/rna/20231106/ribo/K562_18T_bulk_NL/03.star/K562_18T_bulk_NL_Aligned.out.bam\", \"rb\")"
   ]
  },
  {
   "cell_type": "code",
   "execution_count": 4,
   "id": "opening-assembly",
   "metadata": {},
   "outputs": [],
   "source": [
    "out_file = pysam.AlignmentFile(\"/SGRNJ06/randd/USER/cjj/celedev/rna/20231106/ribo/K562_18T_bulk_NL/03.star/multi.out.bam\", \"wb\", header=inputFile.header)"
   ]
  },
  {
   "cell_type": "code",
   "execution_count": 5,
   "id": "essential-virus",
   "metadata": {},
   "outputs": [],
   "source": [
    "for read in inputFile:\n",
    "    if read.get_tag(\"NH\") > 1:\n",
    "        out_file.write(read)"
   ]
  },
  {
   "cell_type": "code",
   "execution_count": 6,
   "id": "hungarian-irrigation",
   "metadata": {},
   "outputs": [],
   "source": [
    "inputFile.close()\n",
    "out_file.close()"
   ]
  },
  {
   "cell_type": "code",
   "execution_count": null,
   "id": "optional-eugene",
   "metadata": {},
   "outputs": [],
   "source": []
  }
 ],
 "metadata": {
  "kernelspec": {
   "display_name": "trust4_1.7",
   "language": "python",
   "name": "trust4_1.7"
  },
  "language_info": {
   "codemirror_mode": {
    "name": "ipython",
    "version": 3
   },
   "file_extension": ".py",
   "mimetype": "text/x-python",
   "name": "python",
   "nbconvert_exporter": "python",
   "pygments_lexer": "ipython3",
   "version": "3.7.10"
  }
 },
 "nbformat": 4,
 "nbformat_minor": 5
}
