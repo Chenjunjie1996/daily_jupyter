{
 "cells": [
  {
   "cell_type": "code",
   "execution_count": 3,
   "id": "noticed-probe",
   "metadata": {},
   "outputs": [],
   "source": [
    "import pandas as pd \n",
    "import pysam\n",
    "import json"
   ]
  },
  {
   "cell_type": "code",
   "execution_count": null,
   "id": "touched-fancy",
   "metadata": {},
   "outputs": [],
   "source": [
    "df = pd.read_csv(\"/SGRNJ06/randd/USER/cjj/celedev/vdj10x/20230615AMU/BCRLFBVC220616037X1CK/03.assemble/BCRLFBVC220616037X1CK/outs/filtered_contig_annotations.csv\")"
   ]
  },
  {
   "cell_type": "code",
   "execution_count": null,
   "id": "atomic-indicator",
   "metadata": {},
   "outputs": [],
   "source": [
    "df = df[df[\"productive\"]==True]\n",
    "df = df[df[\"chain\"]!=\"Multi\"]"
   ]
  },
  {
   "cell_type": "code",
   "execution_count": null,
   "id": "promotional-earthquake",
   "metadata": {},
   "outputs": [],
   "source": [
    "df = df.sort_values([\"barcode\", \"chain\"])"
   ]
  },
  {
   "cell_type": "code",
   "execution_count": null,
   "id": "mediterranean-seeker",
   "metadata": {},
   "outputs": [],
   "source": [
    "#df"
   ]
  },
  {
   "cell_type": "code",
   "execution_count": null,
   "id": "weighted-baltimore",
   "metadata": {},
   "outputs": [],
   "source": [
    "grouped = df.groupby('barcode')"
   ]
  },
  {
   "cell_type": "code",
   "execution_count": null,
   "id": "thorough-reserve",
   "metadata": {},
   "outputs": [],
   "source": [
    "filtered_contig_id = []\n",
    "for _, group_data in grouped:\n",
    "    if len(group_data)==2 and len(group_data[\"chain\"].unique()) == 2:\n",
    "        if \"IGH\" in group_data[\"chain\"].unique():\n",
    "            #print(group_data[\"chain\"].unique())\n",
    "            filtered_contig_id.extend(list(group_data[\"contig_id\"]))"
   ]
  },
  {
   "cell_type": "code",
   "execution_count": null,
   "id": "equipped-louisville",
   "metadata": {},
   "outputs": [],
   "source": [
    "filtered_contig_id"
   ]
  },
  {
   "cell_type": "code",
   "execution_count": null,
   "id": "immediate-minneapolis",
   "metadata": {},
   "outputs": [],
   "source": [
    "df = df[df[\"contig_id\"].isin(filtered_contig_id)]\n",
    "df[\"chain_type\"] = df[[\"chain\",\"c_gene\"]].apply(':'.join, axis=1)\n",
    "chain_dict = df.set_index(\"contig_id\").to_dict(orient=\"dict\")[\"chain_type\"]"
   ]
  },
  {
   "cell_type": "code",
   "execution_count": null,
   "id": "floppy-brand",
   "metadata": {},
   "outputs": [],
   "source": [
    "#chain_dict"
   ]
  },
  {
   "cell_type": "code",
   "execution_count": null,
   "id": "thousand-criticism",
   "metadata": {},
   "outputs": [],
   "source": [
    "contig_dict = {}\n",
    "with pysam.FastxFile(\"/SGRNJ06/randd/USER/cjj/celedev/vdj10x/20230615AMU/BCRLFBVC220616037X1CK/03.assemble/BCRLFBVC220616037X1CK/outs/filtered_contig.fasta\") as f:\n",
    "    for read in f :\n",
    "        contig_dict[read.name] = read.sequence"
   ]
  },
  {
   "cell_type": "code",
   "execution_count": null,
   "id": "false-navigation",
   "metadata": {},
   "outputs": [],
   "source": [
    "#contig_dict"
   ]
  },
  {
   "cell_type": "code",
   "execution_count": null,
   "id": "laughing-starter",
   "metadata": {},
   "outputs": [],
   "source": [
    "with open(\"/SGRNJ06/randd/USER/cjj/celedev/vdj10x/20230615AMU/BCRLFBVC220616037X1CK/02.convert/barcode_convert.json\", 'r') as f:\n",
    "    tenX_sgr = json.load(f)"
   ]
  },
  {
   "cell_type": "code",
   "execution_count": null,
   "id": "breeding-wedding",
   "metadata": {},
   "outputs": [],
   "source": [
    "#tenX_sgr"
   ]
  },
  {
   "cell_type": "code",
   "execution_count": null,
   "id": "cloudy-database",
   "metadata": {},
   "outputs": [],
   "source": [
    "pair_fasta = open(\"/SGRNJ06/randd/USER/cjj/celedev/vdj10x/20230615AMU/paired_contig.fasta\", 'w')\n",
    "for contig in filtered_contig_id:\n",
    "    pair_fasta.write(f\">{contig} | {chain_dict[contig]}\\n\")\n",
    "    pair_fasta.write(f\"{contig_dict[contig]}\\n\")\n",
    "pair_fasta.close()"
   ]
  },
  {
   "cell_type": "code",
   "execution_count": null,
   "id": "induced-butterfly",
   "metadata": {},
   "outputs": [],
   "source": []
  },
  {
   "cell_type": "code",
   "execution_count": null,
   "id": "signed-premises",
   "metadata": {},
   "outputs": [],
   "source": [
    "# IGHD change C to IGHG1"
   ]
  },
  {
   "cell_type": "code",
   "execution_count": 6,
   "id": "chubby-connectivity",
   "metadata": {},
   "outputs": [],
   "source": [
    "df = pd.read_csv(\"/SGRNJ06/bioinfo/PROJ04/PROJ_22.Other/P230331001_fl-BCR/T_117-B_c3/T_117-B/03.assemble/T_117-B/outs/filtered_contig_annotations.csv\")\n",
    "df = df[df[\"productive\"]==True]\n",
    "df = df[df[\"chain\"]!=\"Multi\"]\n",
    "df = df.sort_values([\"barcode\", \"chain\"])\n",
    "grouped = df.groupby('barcode')\n",
    "filtered_contig_id = []\n",
    "for _, group_data in grouped:\n",
    "    if len(group_data)==2 and len(group_data[\"chain\"].unique()) == 2:\n",
    "        if \"IGH\" in group_data[\"chain\"].unique():\n",
    "            #print(group_data[\"chain\"].unique())\n",
    "            filtered_contig_id.extend(list(group_data[\"contig_id\"]))\n",
    "with open(\"/SGRNJ06/bioinfo/PROJ04/PROJ_22.Other/P230331001_fl-BCR/T_117-B_c3/T_117-B/02.convert/barcode_convert.json\", 'r') as f:\n",
    "    tenX_sgr = json.load(f)"
   ]
  },
  {
   "cell_type": "code",
   "execution_count": 169,
   "id": "eastern-journey",
   "metadata": {},
   "outputs": [
    {
     "data": {
      "text/plain": [
       "'CCAAAACGACACCCCCATCTGTCTATCCACTG'"
      ]
     },
     "execution_count": 169,
     "metadata": {},
     "output_type": "execute_result"
    }
   ],
   "source": [
    "airr = pd.read_csv(\"/SGRNJ06/bioinfo/PROJ04/PROJ_22.Other/P230331001_fl-BCR/T_117-B_c3/T_117-B/03.assemble/T_117-B/outs/airr_rearrangement.tsv\", sep='\\t')\n",
    "IGHC_c = airr[airr[\"c_call\"]==\"IGHG1\"]\n",
    "start = int(IGHC_c[\"c_sequence_start\"].unique()[0])\n",
    "end = int(IGHC_c[\"c_sequence_end\"].unique()[0])\n",
    "IGHC_c_seq = IGHC_c[\"sequence\"].unique()[0][start-1: end]\n",
    "IGHC_c_seq"
   ]
  },
  {
   "cell_type": "code",
   "execution_count": 170,
   "id": "signal-metro",
   "metadata": {},
   "outputs": [],
   "source": [
    "airr = airr[airr[\"sequence_id\"].isin(filtered_contig_id)]\n",
    "airr['cell_id'] = airr['cell_id'].apply(lambda x: tenX_sgr[x.split('-')[0]])\n",
    "airr['sequence_id'] = airr['sequence_id'].apply(lambda x: tenX_sgr[x.split('-')[0]]+'_'+x.split('_')[1]+'_'+x.split('_')[2])"
   ]
  },
  {
   "cell_type": "code",
   "execution_count": 171,
   "id": "sweet-enough",
   "metadata": {},
   "outputs": [
    {
     "data": {
      "text/html": [
       "<div>\n",
       "<style scoped>\n",
       "    .dataframe tbody tr th:only-of-type {\n",
       "        vertical-align: middle;\n",
       "    }\n",
       "\n",
       "    .dataframe tbody tr th {\n",
       "        vertical-align: top;\n",
       "    }\n",
       "\n",
       "    .dataframe thead th {\n",
       "        text-align: right;\n",
       "    }\n",
       "</style>\n",
       "<table border=\"1\" class=\"dataframe\">\n",
       "  <thead>\n",
       "    <tr style=\"text-align: right;\">\n",
       "      <th></th>\n",
       "      <th>cell_id</th>\n",
       "      <th>clone_id</th>\n",
       "      <th>sequence_id</th>\n",
       "      <th>sequence</th>\n",
       "      <th>sequence_aa</th>\n",
       "      <th>productive</th>\n",
       "      <th>rev_comp</th>\n",
       "      <th>v_call</th>\n",
       "      <th>v_cigar</th>\n",
       "      <th>d_call</th>\n",
       "      <th>...</th>\n",
       "      <th>v_sequence_end</th>\n",
       "      <th>d_sequence_start</th>\n",
       "      <th>d_sequence_end</th>\n",
       "      <th>j_sequence_start</th>\n",
       "      <th>j_sequence_end</th>\n",
       "      <th>c_sequence_start</th>\n",
       "      <th>c_sequence_end</th>\n",
       "      <th>consensus_count</th>\n",
       "      <th>duplicate_count</th>\n",
       "      <th>is_cell</th>\n",
       "    </tr>\n",
       "  </thead>\n",
       "  <tbody>\n",
       "    <tr>\n",
       "      <th>0</th>\n",
       "      <td>CTGAGCCATGGCTTCATGGCTTCA</td>\n",
       "      <td>NaN</td>\n",
       "      <td>CTGAGCCATGGCTTCATGGCTTCA_contig_1</td>\n",
       "      <td>GACCACCGAGATCTACACTCGTCGGCAGCGTCAGATGTGTATAAGA...</td>\n",
       "      <td>MEWTWVFLFLLSVTAGVHSQVQLQQSGAELMKPGASVKISCKATGY...</td>\n",
       "      <td>T</td>\n",
       "      <td>F</td>\n",
       "      <td>IGHV1-9</td>\n",
       "      <td>242S351M87S</td>\n",
       "      <td>NaN</td>\n",
       "      <td>...</td>\n",
       "      <td>593</td>\n",
       "      <td>NaN</td>\n",
       "      <td>NaN</td>\n",
       "      <td>610</td>\n",
       "      <td>657</td>\n",
       "      <td>658.0</td>\n",
       "      <td>680.0</td>\n",
       "      <td>42057</td>\n",
       "      <td>404</td>\n",
       "      <td>T</td>\n",
       "    </tr>\n",
       "    <tr>\n",
       "      <th>1</th>\n",
       "      <td>CTGAGCCATGGCTTCATGGCTTCA</td>\n",
       "      <td>NaN</td>\n",
       "      <td>CTGAGCCATGGCTTCATGGCTTCA_contig_2</td>\n",
       "      <td>GACCACCGAGATCTACACTCGTCGGCAGCGTCAGATGTGTATAAGA...</td>\n",
       "      <td>MDFQVQIFSFLLISASVIISRGQIVLTQSPAIMSASPGEKVTMTCS...</td>\n",
       "      <td>T</td>\n",
       "      <td>F</td>\n",
       "      <td>IGKV4-59</td>\n",
       "      <td>238S352M106S</td>\n",
       "      <td>NaN</td>\n",
       "      <td>...</td>\n",
       "      <td>590</td>\n",
       "      <td>NaN</td>\n",
       "      <td>NaN</td>\n",
       "      <td>585</td>\n",
       "      <td>623</td>\n",
       "      <td>624.0</td>\n",
       "      <td>696.0</td>\n",
       "      <td>32254</td>\n",
       "      <td>482</td>\n",
       "      <td>T</td>\n",
       "    </tr>\n",
       "    <tr>\n",
       "      <th>2</th>\n",
       "      <td>CGGATTGCAGCAGGAACAAGGAGC</td>\n",
       "      <td>NaN</td>\n",
       "      <td>CGGATTGCAGCAGGAACAAGGAGC_contig_1</td>\n",
       "      <td>GGGGACCAATATTGAAAAGAATAGACCTGGTTTGTGAATTATGGCC...</td>\n",
       "      <td>MAWISLILSLLALSSGAISQAVVTQESALTTSPGETVTLTCRSSTG...</td>\n",
       "      <td>T</td>\n",
       "      <td>F</td>\n",
       "      <td>IGLV1</td>\n",
       "      <td>40S351M83S</td>\n",
       "      <td>NaN</td>\n",
       "      <td>...</td>\n",
       "      <td>391</td>\n",
       "      <td>NaN</td>\n",
       "      <td>NaN</td>\n",
       "      <td>388</td>\n",
       "      <td>425</td>\n",
       "      <td>426.0</td>\n",
       "      <td>474.0</td>\n",
       "      <td>11125</td>\n",
       "      <td>111</td>\n",
       "      <td>T</td>\n",
       "    </tr>\n",
       "    <tr>\n",
       "      <th>3</th>\n",
       "      <td>CGGATTGCAGCAGGAACAAGGAGC</td>\n",
       "      <td>NaN</td>\n",
       "      <td>CGGATTGCAGCAGGAACAAGGAGC_contig_2</td>\n",
       "      <td>GCTCCTTGGACTAGGAGTCAGCATTTCCTGCTCGCGTTAGTGACAA...</td>\n",
       "      <td>MKLWLNWIFLVTLLNGIQCEVKLVESGGGLVQPGGSLRLSCATSGF...</td>\n",
       "      <td>T</td>\n",
       "      <td>F</td>\n",
       "      <td>IGHV7-3</td>\n",
       "      <td>208S361M74S</td>\n",
       "      <td>NaN</td>\n",
       "      <td>...</td>\n",
       "      <td>569</td>\n",
       "      <td>NaN</td>\n",
       "      <td>NaN</td>\n",
       "      <td>583</td>\n",
       "      <td>620</td>\n",
       "      <td>621.0</td>\n",
       "      <td>643.0</td>\n",
       "      <td>4535</td>\n",
       "      <td>31</td>\n",
       "      <td>T</td>\n",
       "    </tr>\n",
       "    <tr>\n",
       "      <th>8</th>\n",
       "      <td>CGACACACAAGAGATCAGCACCTC</td>\n",
       "      <td>NaN</td>\n",
       "      <td>CGACACACAAGAGATCAGCACCTC_contig_1</td>\n",
       "      <td>AGACATAGGAGCTTGGCTCTGGTTCCCAAGACCTCTCACTCACTTC...</td>\n",
       "      <td>MEWELSLIFIFALLKDVQCEVQLLETGGGLVQPGGSRGLSCEGSGF...</td>\n",
       "      <td>T</td>\n",
       "      <td>F</td>\n",
       "      <td>IGHV11-2</td>\n",
       "      <td>51S353M82S</td>\n",
       "      <td>NaN</td>\n",
       "      <td>...</td>\n",
       "      <td>404</td>\n",
       "      <td>NaN</td>\n",
       "      <td>NaN</td>\n",
       "      <td>411</td>\n",
       "      <td>463</td>\n",
       "      <td>464.0</td>\n",
       "      <td>486.0</td>\n",
       "      <td>5136</td>\n",
       "      <td>35</td>\n",
       "      <td>T</td>\n",
       "    </tr>\n",
       "    <tr>\n",
       "      <th>...</th>\n",
       "      <td>...</td>\n",
       "      <td>...</td>\n",
       "      <td>...</td>\n",
       "      <td>...</td>\n",
       "      <td>...</td>\n",
       "      <td>...</td>\n",
       "      <td>...</td>\n",
       "      <td>...</td>\n",
       "      <td>...</td>\n",
       "      <td>...</td>\n",
       "      <td>...</td>\n",
       "      <td>...</td>\n",
       "      <td>...</td>\n",
       "      <td>...</td>\n",
       "      <td>...</td>\n",
       "      <td>...</td>\n",
       "      <td>...</td>\n",
       "      <td>...</td>\n",
       "      <td>...</td>\n",
       "      <td>...</td>\n",
       "      <td>...</td>\n",
       "    </tr>\n",
       "    <tr>\n",
       "      <th>23179</th>\n",
       "      <td>AAGACGGAGACTAGTACTGAGCCA</td>\n",
       "      <td>NaN</td>\n",
       "      <td>AAGACGGAGACTAGTACTGAGCCA_contig_2</td>\n",
       "      <td>ACACAGACCACTCACCATGGACTCCAGGCTCAATTTAGTTTTCCTT...</td>\n",
       "      <td>MDSRLNLVFLVLILKGVQCDVQLVESGGGLVQPGGSRKLSCAASGF...</td>\n",
       "      <td>T</td>\n",
       "      <td>F</td>\n",
       "      <td>IGHV5-17</td>\n",
       "      <td>16S351M93S</td>\n",
       "      <td>NaN</td>\n",
       "      <td>...</td>\n",
       "      <td>367</td>\n",
       "      <td>NaN</td>\n",
       "      <td>NaN</td>\n",
       "      <td>390</td>\n",
       "      <td>437</td>\n",
       "      <td>438.0</td>\n",
       "      <td>460.0</td>\n",
       "      <td>13</td>\n",
       "      <td>2</td>\n",
       "      <td>T</td>\n",
       "    </tr>\n",
       "    <tr>\n",
       "      <th>23186</th>\n",
       "      <td>CAAGGAGCCCATCCTCCACCTTAC</td>\n",
       "      <td>NaN</td>\n",
       "      <td>CAAGGAGCCCATCCTCCACCTTAC_contig_1</td>\n",
       "      <td>CTGGAATTGATTCCCAGTTCCTCACGTTCAGTGATGAGCAGTGAAC...</td>\n",
       "      <td>MSSEHRPLTMNFGLRLIFLVLTLKGVQCDVKLVESGGGLVKPGGSL...</td>\n",
       "      <td>T</td>\n",
       "      <td>F</td>\n",
       "      <td>IGHV5-9-1</td>\n",
       "      <td>33S380M88S</td>\n",
       "      <td>NaN</td>\n",
       "      <td>...</td>\n",
       "      <td>413</td>\n",
       "      <td>NaN</td>\n",
       "      <td>NaN</td>\n",
       "      <td>431</td>\n",
       "      <td>478</td>\n",
       "      <td>479.0</td>\n",
       "      <td>501.0</td>\n",
       "      <td>24</td>\n",
       "      <td>2</td>\n",
       "      <td>T</td>\n",
       "    </tr>\n",
       "    <tr>\n",
       "      <th>23187</th>\n",
       "      <td>CAAGGAGCCCATCCTCCACCTTAC</td>\n",
       "      <td>NaN</td>\n",
       "      <td>CAAGGAGCCCATCCTCCACCTTAC_contig_2</td>\n",
       "      <td>ATGGCCTGGATTTCACTTATACTCTCTCTCCTGGCTCTCAGCTCAG...</td>\n",
       "      <td>MAWISLILSLLALSSGAISQAVVTQESALTTSPGETVTLTCRSSTG...</td>\n",
       "      <td>T</td>\n",
       "      <td>F</td>\n",
       "      <td>IGLV1</td>\n",
       "      <td>351M87S</td>\n",
       "      <td>NaN</td>\n",
       "      <td>...</td>\n",
       "      <td>351</td>\n",
       "      <td>NaN</td>\n",
       "      <td>NaN</td>\n",
       "      <td>348</td>\n",
       "      <td>385</td>\n",
       "      <td>386.0</td>\n",
       "      <td>438.0</td>\n",
       "      <td>15</td>\n",
       "      <td>4</td>\n",
       "      <td>T</td>\n",
       "    </tr>\n",
       "    <tr>\n",
       "      <th>23199</th>\n",
       "      <td>AGCACCTCTCTTCACATCTTCACA</td>\n",
       "      <td>NaN</td>\n",
       "      <td>AGCACCTCTCTTCACATCTTCACA_contig_1</td>\n",
       "      <td>TAATAGACTTGGTTTGTGAATTATGGCCTGGACTTCACTTATACTC...</td>\n",
       "      <td>MAWTSLILSLLALCSGASSQAVVTQESALTTSPGGTVILTCRSSTG...</td>\n",
       "      <td>T</td>\n",
       "      <td>F</td>\n",
       "      <td>IGLV2</td>\n",
       "      <td>22S351M87S</td>\n",
       "      <td>NaN</td>\n",
       "      <td>...</td>\n",
       "      <td>373</td>\n",
       "      <td>NaN</td>\n",
       "      <td>NaN</td>\n",
       "      <td>370</td>\n",
       "      <td>407</td>\n",
       "      <td>408.0</td>\n",
       "      <td>460.0</td>\n",
       "      <td>17</td>\n",
       "      <td>4</td>\n",
       "      <td>T</td>\n",
       "    </tr>\n",
       "    <tr>\n",
       "      <th>23200</th>\n",
       "      <td>AGCACCTCTCTTCACATCTTCACA</td>\n",
       "      <td>NaN</td>\n",
       "      <td>AGCACCTCTCTTCACATCTTCACA_contig_2</td>\n",
       "      <td>TAGTGACAATCGAGGTGCTAGATCGGAAGAGCGTCGTGTAGGAGCA...</td>\n",
       "      <td>MAWVWTLLFLMAAAQSAQAQIQLVQSGPELKKPGETVKISCKASGY...</td>\n",
       "      <td>T</td>\n",
       "      <td>F</td>\n",
       "      <td>IGHV9-3</td>\n",
       "      <td>136S351M90S</td>\n",
       "      <td>NaN</td>\n",
       "      <td>...</td>\n",
       "      <td>487</td>\n",
       "      <td>NaN</td>\n",
       "      <td>NaN</td>\n",
       "      <td>501</td>\n",
       "      <td>554</td>\n",
       "      <td>555.0</td>\n",
       "      <td>577.0</td>\n",
       "      <td>21</td>\n",
       "      <td>2</td>\n",
       "      <td>T</td>\n",
       "    </tr>\n",
       "  </tbody>\n",
       "</table>\n",
       "<p>12688 rows × 32 columns</p>\n",
       "</div>"
      ],
      "text/plain": [
       "                        cell_id  clone_id                        sequence_id  \\\n",
       "0      CTGAGCCATGGCTTCATGGCTTCA       NaN  CTGAGCCATGGCTTCATGGCTTCA_contig_1   \n",
       "1      CTGAGCCATGGCTTCATGGCTTCA       NaN  CTGAGCCATGGCTTCATGGCTTCA_contig_2   \n",
       "2      CGGATTGCAGCAGGAACAAGGAGC       NaN  CGGATTGCAGCAGGAACAAGGAGC_contig_1   \n",
       "3      CGGATTGCAGCAGGAACAAGGAGC       NaN  CGGATTGCAGCAGGAACAAGGAGC_contig_2   \n",
       "8      CGACACACAAGAGATCAGCACCTC       NaN  CGACACACAAGAGATCAGCACCTC_contig_1   \n",
       "...                         ...       ...                                ...   \n",
       "23179  AAGACGGAGACTAGTACTGAGCCA       NaN  AAGACGGAGACTAGTACTGAGCCA_contig_2   \n",
       "23186  CAAGGAGCCCATCCTCCACCTTAC       NaN  CAAGGAGCCCATCCTCCACCTTAC_contig_1   \n",
       "23187  CAAGGAGCCCATCCTCCACCTTAC       NaN  CAAGGAGCCCATCCTCCACCTTAC_contig_2   \n",
       "23199  AGCACCTCTCTTCACATCTTCACA       NaN  AGCACCTCTCTTCACATCTTCACA_contig_1   \n",
       "23200  AGCACCTCTCTTCACATCTTCACA       NaN  AGCACCTCTCTTCACATCTTCACA_contig_2   \n",
       "\n",
       "                                                sequence  \\\n",
       "0      GACCACCGAGATCTACACTCGTCGGCAGCGTCAGATGTGTATAAGA...   \n",
       "1      GACCACCGAGATCTACACTCGTCGGCAGCGTCAGATGTGTATAAGA...   \n",
       "2      GGGGACCAATATTGAAAAGAATAGACCTGGTTTGTGAATTATGGCC...   \n",
       "3      GCTCCTTGGACTAGGAGTCAGCATTTCCTGCTCGCGTTAGTGACAA...   \n",
       "8      AGACATAGGAGCTTGGCTCTGGTTCCCAAGACCTCTCACTCACTTC...   \n",
       "...                                                  ...   \n",
       "23179  ACACAGACCACTCACCATGGACTCCAGGCTCAATTTAGTTTTCCTT...   \n",
       "23186  CTGGAATTGATTCCCAGTTCCTCACGTTCAGTGATGAGCAGTGAAC...   \n",
       "23187  ATGGCCTGGATTTCACTTATACTCTCTCTCCTGGCTCTCAGCTCAG...   \n",
       "23199  TAATAGACTTGGTTTGTGAATTATGGCCTGGACTTCACTTATACTC...   \n",
       "23200  TAGTGACAATCGAGGTGCTAGATCGGAAGAGCGTCGTGTAGGAGCA...   \n",
       "\n",
       "                                             sequence_aa productive rev_comp  \\\n",
       "0      MEWTWVFLFLLSVTAGVHSQVQLQQSGAELMKPGASVKISCKATGY...          T        F   \n",
       "1      MDFQVQIFSFLLISASVIISRGQIVLTQSPAIMSASPGEKVTMTCS...          T        F   \n",
       "2      MAWISLILSLLALSSGAISQAVVTQESALTTSPGETVTLTCRSSTG...          T        F   \n",
       "3      MKLWLNWIFLVTLLNGIQCEVKLVESGGGLVQPGGSLRLSCATSGF...          T        F   \n",
       "8      MEWELSLIFIFALLKDVQCEVQLLETGGGLVQPGGSRGLSCEGSGF...          T        F   \n",
       "...                                                  ...        ...      ...   \n",
       "23179  MDSRLNLVFLVLILKGVQCDVQLVESGGGLVQPGGSRKLSCAASGF...          T        F   \n",
       "23186  MSSEHRPLTMNFGLRLIFLVLTLKGVQCDVKLVESGGGLVKPGGSL...          T        F   \n",
       "23187  MAWISLILSLLALSSGAISQAVVTQESALTTSPGETVTLTCRSSTG...          T        F   \n",
       "23199  MAWTSLILSLLALCSGASSQAVVTQESALTTSPGGTVILTCRSSTG...          T        F   \n",
       "23200  MAWVWTLLFLMAAAQSAQAQIQLVQSGPELKKPGETVKISCKASGY...          T        F   \n",
       "\n",
       "          v_call       v_cigar d_call  ... v_sequence_end d_sequence_start  \\\n",
       "0        IGHV1-9   242S351M87S    NaN  ...            593              NaN   \n",
       "1       IGKV4-59  238S352M106S    NaN  ...            590              NaN   \n",
       "2          IGLV1    40S351M83S    NaN  ...            391              NaN   \n",
       "3        IGHV7-3   208S361M74S    NaN  ...            569              NaN   \n",
       "8       IGHV11-2    51S353M82S    NaN  ...            404              NaN   \n",
       "...          ...           ...    ...  ...            ...              ...   \n",
       "23179   IGHV5-17    16S351M93S    NaN  ...            367              NaN   \n",
       "23186  IGHV5-9-1    33S380M88S    NaN  ...            413              NaN   \n",
       "23187      IGLV1       351M87S    NaN  ...            351              NaN   \n",
       "23199      IGLV2    22S351M87S    NaN  ...            373              NaN   \n",
       "23200    IGHV9-3   136S351M90S    NaN  ...            487              NaN   \n",
       "\n",
       "      d_sequence_end j_sequence_start j_sequence_end c_sequence_start  \\\n",
       "0                NaN              610            657            658.0   \n",
       "1                NaN              585            623            624.0   \n",
       "2                NaN              388            425            426.0   \n",
       "3                NaN              583            620            621.0   \n",
       "8                NaN              411            463            464.0   \n",
       "...              ...              ...            ...              ...   \n",
       "23179            NaN              390            437            438.0   \n",
       "23186            NaN              431            478            479.0   \n",
       "23187            NaN              348            385            386.0   \n",
       "23199            NaN              370            407            408.0   \n",
       "23200            NaN              501            554            555.0   \n",
       "\n",
       "      c_sequence_end consensus_count duplicate_count  is_cell  \n",
       "0              680.0           42057             404        T  \n",
       "1              696.0           32254             482        T  \n",
       "2              474.0           11125             111        T  \n",
       "3              643.0            4535              31        T  \n",
       "8              486.0            5136              35        T  \n",
       "...              ...             ...             ...      ...  \n",
       "23179          460.0              13               2        T  \n",
       "23186          501.0              24               2        T  \n",
       "23187          438.0              15               4        T  \n",
       "23199          460.0              17               4        T  \n",
       "23200          577.0              21               2        T  \n",
       "\n",
       "[12688 rows x 32 columns]"
      ]
     },
     "execution_count": 171,
     "metadata": {},
     "output_type": "execute_result"
    }
   ],
   "source": [
    "airr"
   ]
  },
  {
   "cell_type": "code",
   "execution_count": 172,
   "id": "swiss-above",
   "metadata": {},
   "outputs": [],
   "source": [
    "IGHD_contig = airr[airr[\"c_call\"]==\"IGHD\"]\n",
    "other_contig = airr[airr[\"c_call\"]!=\"IGHD\"]"
   ]
  },
  {
   "cell_type": "code",
   "execution_count": 173,
   "id": "equivalent-apache",
   "metadata": {},
   "outputs": [
    {
     "name": "stderr",
     "output_type": "stream",
     "text": [
      "/SGRNJ/Public/Software/conda_env/chenjunjie/lib/python3.7/site-packages/ipykernel_launcher.py:1: SettingWithCopyWarning: \n",
      "A value is trying to be set on a copy of a slice from a DataFrame.\n",
      "Try using .loc[row_indexer,col_indexer] = value instead\n",
      "\n",
      "See the caveats in the documentation: https://pandas.pydata.org/pandas-docs/stable/user_guide/indexing.html#returning-a-view-versus-a-copy\n",
      "  \"\"\"Entry point for launching an IPython kernel.\n"
     ]
    },
    {
     "data": {
      "text/plain": [
       "'IGHG1'"
      ]
     },
     "execution_count": 173,
     "metadata": {},
     "output_type": "execute_result"
    }
   ],
   "source": [
    "IGHD_contig[\"c_call\"] = \"IGHG1\"\n",
    "IGHD_contig[\"c_call\"][25]"
   ]
  },
  {
   "cell_type": "code",
   "execution_count": 174,
   "id": "coordinate-assets",
   "metadata": {},
   "outputs": [
    {
     "name": "stderr",
     "output_type": "stream",
     "text": [
      "/SGRNJ/Public/Software/conda_env/chenjunjie/lib/python3.7/site-packages/ipykernel_launcher.py:2: SettingWithCopyWarning: \n",
      "A value is trying to be set on a copy of a slice from a DataFrame.\n",
      "Try using .loc[row_indexer,col_indexer] = value instead\n",
      "\n",
      "See the caveats in the documentation: https://pandas.pydata.org/pandas-docs/stable/user_guide/indexing.html#returning-a-view-versus-a-copy\n",
      "  \n",
      "/SGRNJ/Public/Software/conda_env/chenjunjie/lib/python3.7/site-packages/ipykernel_launcher.py:11: SettingWithCopyWarning: \n",
      "A value is trying to be set on a copy of a slice from a DataFrame.\n",
      "Try using .loc[row_indexer,col_indexer] = value instead\n",
      "\n",
      "See the caveats in the documentation: https://pandas.pydata.org/pandas-docs/stable/user_guide/indexing.html#returning-a-view-versus-a-copy\n",
      "  # This is added back by InteractiveShellApp.init_path()\n"
     ]
    }
   ],
   "source": [
    "# 恒定区\n",
    "IGHD_contig[\"c_region_seq\"] = \"CCAAAACGACACCCCCATCTGTCTATCCACTG\"\n",
    "\n",
    "c_start = list(other_contig[\"j_sequence_end\"])\n",
    "seq_nt = list(other_contig[\"sequence\"])\n",
    "c_seq = []\n",
    "for i in range(len(c_start)):\n",
    "    newseq = seq_nt[i][int(c_start[i]):]\n",
    "    c_seq.append(newseq)\n",
    "\n",
    "other_contig[\"c_region_seq\"] = c_seq\n",
    "\n",
    "# 可变区\n",
    "res_df = pd.concat([IGHD_contig, other_contig])\n",
    "v_region_start = list(res_df[\"v_sequence_start\"])\n",
    "v_region_end = list(res_df[\"j_sequence_end\"])\n",
    "seq_nt = list(res_df[\"sequence\"])\n",
    "vdj_seq = []\n",
    "\n",
    "for i in range(len(v_region_start)):\n",
    "    newseq = seq_nt[i][int(v_region_start[i])-1 : int(v_region_end[i])]\n",
    "    vdj_seq.append(newseq)\n",
    "\n",
    "res_df[\"v_region_seq\"] = vdj_seq"
   ]
  },
  {
   "cell_type": "code",
   "execution_count": 175,
   "id": "sound-sydney",
   "metadata": {},
   "outputs": [],
   "source": [
    "res_df[\"chain\"] = res_df[\"v_call\"].apply(lambda x: str(x[:3]))\n",
    "res_df[\"c_call\"] = res_df[\"c_call\"].astype(str)\n",
    "res_df = res_df[[\"cell_id\", \"sequence_id\", \"chain\", \"c_call\", \"v_region_seq\", \"c_region_seq\"]]\n",
    "res_df = res_df.sort_values([\"cell_id\", \"chain\"])"
   ]
  },
  {
   "cell_type": "code",
   "execution_count": 176,
   "id": "composite-directive",
   "metadata": {},
   "outputs": [
    {
     "data": {
      "text/html": [
       "<div>\n",
       "<style scoped>\n",
       "    .dataframe tbody tr th:only-of-type {\n",
       "        vertical-align: middle;\n",
       "    }\n",
       "\n",
       "    .dataframe tbody tr th {\n",
       "        vertical-align: top;\n",
       "    }\n",
       "\n",
       "    .dataframe thead th {\n",
       "        text-align: right;\n",
       "    }\n",
       "</style>\n",
       "<table border=\"1\" class=\"dataframe\">\n",
       "  <thead>\n",
       "    <tr style=\"text-align: right;\">\n",
       "      <th></th>\n",
       "      <th>cell_id</th>\n",
       "      <th>sequence_id</th>\n",
       "      <th>chain</th>\n",
       "      <th>c_call</th>\n",
       "      <th>v_region_seq</th>\n",
       "      <th>c_region_seq</th>\n",
       "    </tr>\n",
       "  </thead>\n",
       "  <tbody>\n",
       "    <tr>\n",
       "      <th>5663</th>\n",
       "      <td>AAACATCGAACAACCAAACAACCA</td>\n",
       "      <td>AAACATCGAACAACCAAACAACCA_contig_1</td>\n",
       "      <td>IGH</td>\n",
       "      <td>IGHG1</td>\n",
       "      <td>ATGGATTGGCTGTGGAACTTGCTATTCCTGATGGCAGCTGCCCAAA...</td>\n",
       "      <td>CCAAAACGACACCCCCATCTGTCTATCCACTG</td>\n",
       "    </tr>\n",
       "    <tr>\n",
       "      <th>5664</th>\n",
       "      <td>AAACATCGAACAACCAAACAACCA</td>\n",
       "      <td>AAACATCGAACAACCAAACAACCA_contig_2</td>\n",
       "      <td>IGK</td>\n",
       "      <td>IGKC</td>\n",
       "      <td>ATGGTATCCACACCTCAGTTCCTTGTATTTTTGCTTTTCTGGATTC...</td>\n",
       "      <td>GGGCTGATGCTGCACCAACTGTATCCATCTTCCCACCATCCAGTGA...</td>\n",
       "    </tr>\n",
       "    <tr>\n",
       "      <th>8168</th>\n",
       "      <td>AAACATCGAACAACCAGCCAAGAC</td>\n",
       "      <td>AAACATCGAACAACCAGCCAAGAC_contig_1</td>\n",
       "      <td>IGH</td>\n",
       "      <td>IGHM</td>\n",
       "      <td>ATGGAATGGAGCGGGGTCTTTATCTTTCTCCTGTCAGTAACTGCAG...</td>\n",
       "      <td>AGAGTCAGTCCTTCCCAAATGTC</td>\n",
       "    </tr>\n",
       "    <tr>\n",
       "      <th>8169</th>\n",
       "      <td>AAACATCGAACAACCAGCCAAGAC</td>\n",
       "      <td>AAACATCGAACAACCAGCCAAGAC_contig_2</td>\n",
       "      <td>IGK</td>\n",
       "      <td>IGKC</td>\n",
       "      <td>ATGGAATCACAGACCCAGGTCCTCATGTTTCTTCTGCTCTGGGTAT...</td>\n",
       "      <td>GGGCTGATGCTGCACCAACTGTATCCATCTTCCCACCATCCAGTGA...</td>\n",
       "    </tr>\n",
       "    <tr>\n",
       "      <th>22028</th>\n",
       "      <td>AAACATCGAACCGAGACATACCAA</td>\n",
       "      <td>AAACATCGAACCGAGACATACCAA_contig_1</td>\n",
       "      <td>IGH</td>\n",
       "      <td>nan</td>\n",
       "      <td>ATGGATTGGCTGTGGAACTTGCTATTCCTGATGGCAGCTGCCCAAA...</td>\n",
       "      <td>GTGATAATAAG</td>\n",
       "    </tr>\n",
       "    <tr>\n",
       "      <th>...</th>\n",
       "      <td>...</td>\n",
       "      <td>...</td>\n",
       "      <td>...</td>\n",
       "      <td>...</td>\n",
       "      <td>...</td>\n",
       "      <td>...</td>\n",
       "    </tr>\n",
       "    <tr>\n",
       "      <th>12162</th>\n",
       "      <td>TTCACGCATGGTGGTAACGTATCA</td>\n",
       "      <td>TTCACGCATGGTGGTAACGTATCA_contig_1</td>\n",
       "      <td>IGK</td>\n",
       "      <td>IGKC</td>\n",
       "      <td>ATGACCATGTTCTCACTAGCTCTTCTCCTCAGTCTTCTTCTCCTCT...</td>\n",
       "      <td>GGGCTGATGCTGCACCAACTGTATCCATCTTCCCACCATCCAGTGA...</td>\n",
       "    </tr>\n",
       "    <tr>\n",
       "      <th>22358</th>\n",
       "      <td>TTCACGCATTCACGCAAACTCACC</td>\n",
       "      <td>TTCACGCATTCACGCAAACTCACC_contig_1</td>\n",
       "      <td>IGH</td>\n",
       "      <td>IGHG1</td>\n",
       "      <td>ATGGAATGGAGTTGGATATTTCTCTTTCTCCTGTCAGGAACTGCAG...</td>\n",
       "      <td>CCAAAACGACACCCCCATCTGTCTATCCACTG</td>\n",
       "    </tr>\n",
       "    <tr>\n",
       "      <th>22359</th>\n",
       "      <td>TTCACGCATTCACGCAAACTCACC</td>\n",
       "      <td>TTCACGCATTCACGCAAACTCACC_contig_2</td>\n",
       "      <td>IGK</td>\n",
       "      <td>IGKC</td>\n",
       "      <td>ATGGAGTCACAGACTCAGGTCTTTGTATACATGTTGCTGTGGTTGT...</td>\n",
       "      <td>GGGCTGATGCTGCACCAACTGTATCCATCTTCCCACCATCCAGTGA...</td>\n",
       "    </tr>\n",
       "    <tr>\n",
       "      <th>431</th>\n",
       "      <td>TTCACGCATTCACGCAGTCGTAGA</td>\n",
       "      <td>TTCACGCATTCACGCAGTCGTAGA_contig_2</td>\n",
       "      <td>IGH</td>\n",
       "      <td>IGHM</td>\n",
       "      <td>ATGGAATGGAGCTGGATCTTTCTCTTCCTCCTGTCAGGAACTACAG...</td>\n",
       "      <td>AGAGTCAGTCCTTCCCAAATGTC</td>\n",
       "    </tr>\n",
       "    <tr>\n",
       "      <th>430</th>\n",
       "      <td>TTCACGCATTCACGCAGTCGTAGA</td>\n",
       "      <td>TTCACGCATTCACGCAGTCGTAGA_contig_1</td>\n",
       "      <td>IGK</td>\n",
       "      <td>IGKC</td>\n",
       "      <td>ATGGATTCACAGGCCCAGGTTCTTATGTTACTGCTGCTATGGGTAT...</td>\n",
       "      <td>GGGCTGATGCTGCACCAACTGTATCCATCTTCCCACCATCCAGTGA...</td>\n",
       "    </tr>\n",
       "  </tbody>\n",
       "</table>\n",
       "<p>12688 rows × 6 columns</p>\n",
       "</div>"
      ],
      "text/plain": [
       "                        cell_id                        sequence_id chain  \\\n",
       "5663   AAACATCGAACAACCAAACAACCA  AAACATCGAACAACCAAACAACCA_contig_1   IGH   \n",
       "5664   AAACATCGAACAACCAAACAACCA  AAACATCGAACAACCAAACAACCA_contig_2   IGK   \n",
       "8168   AAACATCGAACAACCAGCCAAGAC  AAACATCGAACAACCAGCCAAGAC_contig_1   IGH   \n",
       "8169   AAACATCGAACAACCAGCCAAGAC  AAACATCGAACAACCAGCCAAGAC_contig_2   IGK   \n",
       "22028  AAACATCGAACCGAGACATACCAA  AAACATCGAACCGAGACATACCAA_contig_1   IGH   \n",
       "...                         ...                                ...   ...   \n",
       "12162  TTCACGCATGGTGGTAACGTATCA  TTCACGCATGGTGGTAACGTATCA_contig_1   IGK   \n",
       "22358  TTCACGCATTCACGCAAACTCACC  TTCACGCATTCACGCAAACTCACC_contig_1   IGH   \n",
       "22359  TTCACGCATTCACGCAAACTCACC  TTCACGCATTCACGCAAACTCACC_contig_2   IGK   \n",
       "431    TTCACGCATTCACGCAGTCGTAGA  TTCACGCATTCACGCAGTCGTAGA_contig_2   IGH   \n",
       "430    TTCACGCATTCACGCAGTCGTAGA  TTCACGCATTCACGCAGTCGTAGA_contig_1   IGK   \n",
       "\n",
       "      c_call                                       v_region_seq  \\\n",
       "5663   IGHG1  ATGGATTGGCTGTGGAACTTGCTATTCCTGATGGCAGCTGCCCAAA...   \n",
       "5664    IGKC  ATGGTATCCACACCTCAGTTCCTTGTATTTTTGCTTTTCTGGATTC...   \n",
       "8168    IGHM  ATGGAATGGAGCGGGGTCTTTATCTTTCTCCTGTCAGTAACTGCAG...   \n",
       "8169    IGKC  ATGGAATCACAGACCCAGGTCCTCATGTTTCTTCTGCTCTGGGTAT...   \n",
       "22028    nan  ATGGATTGGCTGTGGAACTTGCTATTCCTGATGGCAGCTGCCCAAA...   \n",
       "...      ...                                                ...   \n",
       "12162   IGKC  ATGACCATGTTCTCACTAGCTCTTCTCCTCAGTCTTCTTCTCCTCT...   \n",
       "22358  IGHG1  ATGGAATGGAGTTGGATATTTCTCTTTCTCCTGTCAGGAACTGCAG...   \n",
       "22359   IGKC  ATGGAGTCACAGACTCAGGTCTTTGTATACATGTTGCTGTGGTTGT...   \n",
       "431     IGHM  ATGGAATGGAGCTGGATCTTTCTCTTCCTCCTGTCAGGAACTACAG...   \n",
       "430     IGKC  ATGGATTCACAGGCCCAGGTTCTTATGTTACTGCTGCTATGGGTAT...   \n",
       "\n",
       "                                            c_region_seq  \n",
       "5663                    CCAAAACGACACCCCCATCTGTCTATCCACTG  \n",
       "5664   GGGCTGATGCTGCACCAACTGTATCCATCTTCCCACCATCCAGTGA...  \n",
       "8168                             AGAGTCAGTCCTTCCCAAATGTC  \n",
       "8169   GGGCTGATGCTGCACCAACTGTATCCATCTTCCCACCATCCAGTGA...  \n",
       "22028                                        GTGATAATAAG  \n",
       "...                                                  ...  \n",
       "12162  GGGCTGATGCTGCACCAACTGTATCCATCTTCCCACCATCCAGTGA...  \n",
       "22358                   CCAAAACGACACCCCCATCTGTCTATCCACTG  \n",
       "22359  GGGCTGATGCTGCACCAACTGTATCCATCTTCCCACCATCCAGTGA...  \n",
       "431                              AGAGTCAGTCCTTCCCAAATGTC  \n",
       "430    GGGCTGATGCTGCACCAACTGTATCCATCTTCCCACCATCCAGTGA...  \n",
       "\n",
       "[12688 rows x 6 columns]"
      ]
     },
     "execution_count": 176,
     "metadata": {},
     "output_type": "execute_result"
    }
   ],
   "source": [
    "res_df"
   ]
  },
  {
   "cell_type": "code",
   "execution_count": 177,
   "id": "angry-stand",
   "metadata": {},
   "outputs": [],
   "source": [
    "res_df.to_csv(\"/SGRNJ06/randd/USER/cjj/celedev/vdj10x/20230627AMU/paired_contig.tsv\", sep='\\t', index=False)"
   ]
  },
  {
   "cell_type": "code",
   "execution_count": null,
   "id": "ancient-alcohol",
   "metadata": {},
   "outputs": [],
   "source": []
  },
  {
   "cell_type": "code",
   "execution_count": null,
   "id": "focused-microwave",
   "metadata": {},
   "outputs": [],
   "source": [
    "IGHD_contig_id, IGHD_seq, IGHD_contig_start, IGHD_contig_end = list(IGHD_contig[\"sequence_id\"]), list(IGHD_contig[\"sequence\"]), list(IGHD_contig[\"c_sequence_start\"]), list(IGHD_contig[\"c_sequence_end\"])"
   ]
  },
  {
   "cell_type": "code",
   "execution_count": null,
   "id": "european-gilbert",
   "metadata": {},
   "outputs": [],
   "source": [
    "changed_IGHD_seq = []\n",
    "for i in range(len(IGHD_contig_id)):\n",
    "    newseq = IGHD_seq[i][:int(IGHD_contig_start[i])-1] + IGHC_c_seq\n",
    "    changed_IGHD_seq.append(newseq)"
   ]
  },
  {
   "cell_type": "code",
   "execution_count": null,
   "id": "corrected-morgan",
   "metadata": {},
   "outputs": [],
   "source": [
    "IGHD_seq[0]"
   ]
  },
  {
   "cell_type": "code",
   "execution_count": null,
   "id": "sophisticated-stopping",
   "metadata": {},
   "outputs": [],
   "source": [
    "len(IGHD_seq[0])"
   ]
  },
  {
   "cell_type": "code",
   "execution_count": null,
   "id": "unique-treasure",
   "metadata": {},
   "outputs": [],
   "source": [
    "changed_IGHD_seq[0]"
   ]
  },
  {
   "cell_type": "code",
   "execution_count": null,
   "id": "continued-royal",
   "metadata": {},
   "outputs": [],
   "source": [
    "len(changed_IGHD_seq[0])"
   ]
  },
  {
   "cell_type": "code",
   "execution_count": null,
   "id": "lasting-trade",
   "metadata": {},
   "outputs": [],
   "source": [
    "IGHD_contig[\"sequence\"] = changed_IGHD_seq"
   ]
  },
  {
   "cell_type": "code",
   "execution_count": null,
   "id": "hungarian-confidentiality",
   "metadata": {},
   "outputs": [],
   "source": [
    "res_df = pd.concat([IGHD_contig, other_contig])"
   ]
  },
  {
   "cell_type": "code",
   "execution_count": null,
   "id": "understanding-mention",
   "metadata": {},
   "outputs": [],
   "source": [
    "res_df"
   ]
  },
  {
   "cell_type": "code",
   "execution_count": null,
   "id": "digital-surface",
   "metadata": {},
   "outputs": [],
   "source": [
    "res_df[\"chain\"] = res_df[\"v_call\"].apply(lambda x: str(x[:3]))"
   ]
  },
  {
   "cell_type": "code",
   "execution_count": null,
   "id": "rapid-peoples",
   "metadata": {},
   "outputs": [],
   "source": [
    "res_df[\"c_call\"] = res_df[\"c_call\"].astype(str)"
   ]
  },
  {
   "cell_type": "code",
   "execution_count": null,
   "id": "patent-timing",
   "metadata": {},
   "outputs": [],
   "source": [
    "res_df[\"chain_type\"] = res_df[[\"chain\",\"c_call\"]].apply(':'.join, axis=1)"
   ]
  },
  {
   "cell_type": "code",
   "execution_count": null,
   "id": "steady-upgrade",
   "metadata": {},
   "outputs": [],
   "source": [
    "# res_df.to_csv(\"/SGRNJ06/randd/USER/cjj/celedev/vdj10x/20230615AMU/test.tsv\", sep='\\t', index=False)"
   ]
  },
  {
   "cell_type": "code",
   "execution_count": null,
   "id": "sunset-lebanon",
   "metadata": {},
   "outputs": [],
   "source": [
    "chain_dict = res_df.set_index(\"sequence_id\").to_dict(orient=\"dict\")[\"chain_type\"]\n",
    "seq_dict = res_df.set_index(\"sequence_id\").to_dict(orient=\"dict\")[\"sequence\"]"
   ]
  },
  {
   "cell_type": "code",
   "execution_count": null,
   "id": "loose-huntington",
   "metadata": {},
   "outputs": [],
   "source": [
    "chain_dict"
   ]
  },
  {
   "cell_type": "code",
   "execution_count": null,
   "id": "discrete-dutch",
   "metadata": {},
   "outputs": [],
   "source": [
    "res_df = res_df.sort_values([\"cell_id\", \"chain\"])"
   ]
  },
  {
   "cell_type": "code",
   "execution_count": null,
   "id": "modified-walter",
   "metadata": {},
   "outputs": [],
   "source": [
    "contig_dict"
   ]
  },
  {
   "cell_type": "code",
   "execution_count": null,
   "id": "fixed-publication",
   "metadata": {},
   "outputs": [],
   "source": [
    "filtered_contig_id = list(res_df.sequence_id)"
   ]
  },
  {
   "cell_type": "code",
   "execution_count": null,
   "id": "integrated-franklin",
   "metadata": {},
   "outputs": [],
   "source": [
    "pair_fasta = open(\"/SGRNJ06/randd/USER/cjj/celedev/vdj10x/20230615AMU/paired_contig.fasta\", 'w')\n",
    "for contig in filtered_contig_id:\n",
    "    pair_fasta.write(f\">{contig} | {chain_dict[contig]}\\n\")\n",
    "    pair_fasta.write(f\"{seq_dict[contig]}\\n\")\n",
    "pair_fasta.close()"
   ]
  },
  {
   "cell_type": "code",
   "execution_count": null,
   "id": "running-emperor",
   "metadata": {},
   "outputs": [],
   "source": [
    "pair_fasta.close()"
   ]
  },
  {
   "cell_type": "code",
   "execution_count": null,
   "id": "running-sunglasses",
   "metadata": {},
   "outputs": [],
   "source": []
  }
 ],
 "metadata": {
  "kernelspec": {
   "display_name": "trust4_1.7",
   "language": "python",
   "name": "trust4_1.7"
  },
  "language_info": {
   "codemirror_mode": {
    "name": "ipython",
    "version": 3
   },
   "file_extension": ".py",
   "mimetype": "text/x-python",
   "name": "python",
   "nbconvert_exporter": "python",
   "pygments_lexer": "ipython3",
   "version": "3.7.10"
  }
 },
 "nbformat": 4,
 "nbformat_minor": 5
}
