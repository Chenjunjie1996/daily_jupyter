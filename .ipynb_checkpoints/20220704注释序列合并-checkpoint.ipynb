{
 "cells": [
  {
   "cell_type": "code",
   "execution_count": null,
   "id": "realistic-hazard",
   "metadata": {},
   "outputs": [],
   "source": [
    "import pandas as pd\n",
    "import pysam"
   ]
  },
  {
   "cell_type": "code",
   "execution_count": null,
   "id": "forced-december",
   "metadata": {},
   "outputs": [],
   "source": [
    "contig = pd.read_csv('/SGRNJ06/randd/USER/cjj/celedev/vdj10x/20220629no_match/BCRLFBVC220616037X1CK/03.assemble/BCRLFBVC220616037X1CK/outs/consensus_annotations.csv')"
   ]
  },
  {
   "cell_type": "code",
   "execution_count": null,
   "id": "periodic-browse",
   "metadata": {},
   "outputs": [],
   "source": [
    "contig['id_num'] = contig['clonotype_id'].apply(lambda x: int(x[9:]))"
   ]
  },
  {
   "cell_type": "code",
   "execution_count": null,
   "id": "african-berry",
   "metadata": {},
   "outputs": [],
   "source": [
    "contig.sort_values('id_num',inplace=True)"
   ]
  },
  {
   "cell_type": "code",
   "execution_count": null,
   "id": "fallen-society",
   "metadata": {},
   "outputs": [],
   "source": [
    "del contig['id_num']"
   ]
  },
  {
   "cell_type": "code",
   "execution_count": null,
   "id": "looking-indianapolis",
   "metadata": {},
   "outputs": [],
   "source": [
    "contig"
   ]
  },
  {
   "cell_type": "code",
   "execution_count": null,
   "id": "continuing-cursor",
   "metadata": {},
   "outputs": [],
   "source": [
    "seq_dict =  dict()"
   ]
  },
  {
   "cell_type": "code",
   "execution_count": null,
   "id": "subject-judge",
   "metadata": {},
   "outputs": [],
   "source": [
    "with pysam.FastxFile('/SGRNJ06/randd/USER/cjj/celedev/vdj10x/20220629no_match/BCRLFBVC220616037X1CK/03.assemble/BCRLFBVC220616037X1CK/outs/consensus.fasta') as f:\n",
    "    for read in f:\n",
    "        seq_dict[read.name] = read.sequence"
   ]
  },
  {
   "cell_type": "code",
   "execution_count": null,
   "id": "acute-theta",
   "metadata": {},
   "outputs": [],
   "source": [
    "df_seq = pd.DataFrame.from_dict(seq_dict, orient='index', columns=['seq'])"
   ]
  },
  {
   "cell_type": "code",
   "execution_count": null,
   "id": "instant-hearing",
   "metadata": {},
   "outputs": [],
   "source": [
    "df_seq"
   ]
  },
  {
   "cell_type": "code",
   "execution_count": null,
   "id": "preceding-zimbabwe",
   "metadata": {},
   "outputs": [],
   "source": [
    "df_seq = df_seq.rename_axis('consensus_id').reset_index()"
   ]
  },
  {
   "cell_type": "code",
   "execution_count": null,
   "id": "bizarre-insured",
   "metadata": {},
   "outputs": [],
   "source": [
    "df_seq"
   ]
  },
  {
   "cell_type": "code",
   "execution_count": null,
   "id": "statistical-punch",
   "metadata": {},
   "outputs": [],
   "source": [
    "df_merge = pd.merge(contig,df_seq,on='consensus_id')"
   ]
  },
  {
   "cell_type": "code",
   "execution_count": null,
   "id": "electric-liabilities",
   "metadata": {},
   "outputs": [],
   "source": [
    "df_merge"
   ]
  },
  {
   "cell_type": "code",
   "execution_count": null,
   "id": "present-dancing",
   "metadata": {},
   "outputs": [],
   "source": [
    "clonotype_count = pd.read_csv('/SGRNJ06/randd/USER/cjj/celedev/vdj10x/20220629no_match/BCRLFBVC220616037X1CK/03.assemble/BCRLFBVC220616037X1CK/outs/clonotypes.csv')"
   ]
  },
  {
   "cell_type": "code",
   "execution_count": null,
   "id": "literary-julian",
   "metadata": {},
   "outputs": [],
   "source": [
    "clonotype_count = clonotype_count[['clonotype_id','frequency']]"
   ]
  },
  {
   "cell_type": "code",
   "execution_count": null,
   "id": "freelance-pharmacology",
   "metadata": {},
   "outputs": [],
   "source": [
    "df_merge = pd.merge(df_merge,clonotype_count,on='clonotype_id')"
   ]
  },
  {
   "cell_type": "code",
   "execution_count": null,
   "id": "another-exhaust",
   "metadata": {},
   "outputs": [],
   "source": [
    "df_merge['id_num'] = df_merge['clonotype_id'].apply(lambda x: int(x[9:]))\n",
    "\n",
    "df_merge.sort_values(['id_num','chain'],inplace=True)"
   ]
  },
  {
   "cell_type": "code",
   "execution_count": null,
   "id": "chemical-problem",
   "metadata": {},
   "outputs": [],
   "source": [
    "del df_merge['id_num']"
   ]
  },
  {
   "cell_type": "code",
   "execution_count": null,
   "id": "victorian-member",
   "metadata": {},
   "outputs": [],
   "source": [
    "df_merge"
   ]
  },
  {
   "cell_type": "code",
   "execution_count": null,
   "id": "statistical-greensboro",
   "metadata": {},
   "outputs": [],
   "source": [
    "clonotype_id_list = list(df_merge.clonotype_id.unique())"
   ]
  },
  {
   "cell_type": "code",
   "execution_count": null,
   "id": "diagnostic-print",
   "metadata": {},
   "outputs": [],
   "source": [
    "clonotype_id_list"
   ]
  },
  {
   "cell_type": "code",
   "execution_count": null,
   "id": "original-worcester",
   "metadata": {},
   "outputs": [],
   "source": [
    "outfile = open('/SGRNJ06/randd/USER/cjj/celedev/vdj10x/20220704anno_seq/anno_seq_aa.fasta','w')"
   ]
  },
  {
   "cell_type": "code",
   "execution_count": null,
   "id": "colored-flour",
   "metadata": {},
   "outputs": [],
   "source": [
    "outfile.write(\"Clonotype(clonotype_id|V-gene|D-gene|J-gene|CDR3|C-gene|)\\tCell_Number\\tCgene\\tSequence\\n\")\n",
    "for i in clonotype_id_list:\n",
    "    df_tmp = df_merge[df_merge['clonotype_id']==i]\n",
    "    outfile.write(f'{list(df_tmp.clonotype_id)[0]}|')\n",
    "    for i in range(df_tmp.shape[0]):\n",
    "        outfile.write(f'{list(df_tmp.v_gene)[i]}|{list(df_tmp.d_gene)[i]}|{list(df_tmp.j_gene)[i]}|{list(df_tmp.cdr3)[i]}|{list(df_tmp.c_gene)[i]}|')\n",
    "    outfile.write(f'\\t{list(df_tmp.frequency)[0]}\\t')\n",
    "    outfile.write('|'.join(list(df_tmp.c_gene)))\n",
    "    outfile.write('\\n')\n",
    "    for i in range(df_tmp.shape[0]):\n",
    "        outfile.write(f'ChianType:{list(df_tmp.chain)[i]}\\n{list(df_tmp.seq)[i]}\\n')\n",
    "        #outfile.write('\\n'.join(list(df_tmp.seq)))\n",
    "    # outfile.write('\\n')"
   ]
  },
  {
   "cell_type": "code",
   "execution_count": null,
   "id": "competitive-detector",
   "metadata": {},
   "outputs": [],
   "source": [
    "outfile.close()"
   ]
  },
  {
   "cell_type": "code",
   "execution_count": null,
   "id": "invalid-oliver",
   "metadata": {},
   "outputs": [],
   "source": [
    "# aa \n",
    "from Bio.Seq import Seq"
   ]
  },
  {
   "cell_type": "code",
   "execution_count": null,
   "id": "healthy-reunion",
   "metadata": {},
   "outputs": [],
   "source": [
    "df_merge['seq_aa'] = df_merge['seq'].apply(lambda x: str(Seq(x).translate()))"
   ]
  },
  {
   "cell_type": "code",
   "execution_count": null,
   "id": "arbitrary-algorithm",
   "metadata": {},
   "outputs": [],
   "source": [
    "df_merge"
   ]
  },
  {
   "cell_type": "code",
   "execution_count": null,
   "id": "outdoor-practitioner",
   "metadata": {},
   "outputs": [],
   "source": [
    "df_tmp = df_merge[df_merge['clonotype_id']=='clonotype2310']"
   ]
  },
  {
   "cell_type": "code",
   "execution_count": null,
   "id": "familiar-entry",
   "metadata": {},
   "outputs": [],
   "source": [
    "list(df_tmp.chain)"
   ]
  },
  {
   "cell_type": "code",
   "execution_count": null,
   "id": "compact-budapest",
   "metadata": {},
   "outputs": [],
   "source": [
    "df_tmp.sort_values('chain')"
   ]
  },
  {
   "cell_type": "code",
   "execution_count": null,
   "id": "interpreted-discovery",
   "metadata": {},
   "outputs": [],
   "source": []
  },
  {
   "cell_type": "code",
   "execution_count": null,
   "id": "administrative-mapping",
   "metadata": {},
   "outputs": [],
   "source": [
    "# pieplot\n",
    "import matplotlib.pyplot as plt\n",
    "import pandas as pd"
   ]
  },
  {
   "cell_type": "code",
   "execution_count": null,
   "id": "practical-sunday",
   "metadata": {},
   "outputs": [],
   "source": [
    "contig = pd.read_csv('/SGRNJ06/randd/USER/cjj/celedev/vdj10x/20220629no_match/BCRLFBVC220616037X1CK/04.summarize/productive_contig_annotations.csv')"
   ]
  },
  {
   "cell_type": "code",
   "execution_count": null,
   "id": "desirable-royalty",
   "metadata": {},
   "outputs": [],
   "source": [
    "contig"
   ]
  },
  {
   "cell_type": "code",
   "execution_count": null,
   "id": "compact-syria",
   "metadata": {},
   "outputs": [],
   "source": [
    "with pysam.FastxFile('/SGRNJ06/randd/USER/cjj/celedev/vdj10x/20220629no_match/BCRLFBVC220616037X1CK/04.summarize/productive_contig.fasta') as f:\n",
    "    for read in f:\n",
    "        print(str(Seq(read.sequence).translate()))"
   ]
  },
  {
   "cell_type": "code",
   "execution_count": null,
   "id": "owned-basin",
   "metadata": {},
   "outputs": [],
   "source": [
    "contig['seq_aa'] = contig['seq'].apply(lambda x: str(Seq(x).translate()))"
   ]
  },
  {
   "cell_type": "code",
   "execution_count": null,
   "id": "surface-assessment",
   "metadata": {},
   "outputs": [],
   "source": [
    "contig"
   ]
  },
  {
   "cell_type": "code",
   "execution_count": null,
   "id": "polish-plain",
   "metadata": {},
   "outputs": [],
   "source": [
    "df_h = contig[contig['chain']=='IGH']\n",
    "df_l = contig[contig['chain']!='IGH']"
   ]
  },
  {
   "cell_type": "code",
   "execution_count": null,
   "id": "sorted-fluid",
   "metadata": {},
   "outputs": [],
   "source": [
    "df_h.sort_values('c_gene', ascending=False,inplace=True)"
   ]
  },
  {
   "cell_type": "code",
   "execution_count": null,
   "id": "assigned-butterfly",
   "metadata": {},
   "outputs": [],
   "source": [
    "df_h"
   ]
  },
  {
   "cell_type": "code",
   "execution_count": null,
   "id": "statistical-conditions",
   "metadata": {},
   "outputs": [],
   "source": [
    "df_h.groupby('c_gene')['raw_clonotype_id'].count().to_dict()"
   ]
  },
  {
   "cell_type": "code",
   "execution_count": null,
   "id": "natural-somewhere",
   "metadata": {},
   "outputs": [],
   "source": [
    "tmp_dict = df_h.groupby('c_gene')['raw_clonotype_id'].count().to_dict()"
   ]
  },
  {
   "cell_type": "code",
   "execution_count": null,
   "id": "several-filling",
   "metadata": {},
   "outputs": [],
   "source": [
    "del(tmp_dict['None'])"
   ]
  },
  {
   "cell_type": "code",
   "execution_count": null,
   "id": "joint-rubber",
   "metadata": {},
   "outputs": [],
   "source": [
    "tmp_dict"
   ]
  },
  {
   "cell_type": "code",
   "execution_count": null,
   "id": "cardiovascular-minneapolis",
   "metadata": {},
   "outputs": [],
   "source": [
    "tmp_dict,reverse_tmp_dict = sorted(tmp_dict.items(),key=lambda x:x[1]), sorted(tmp_dict.items(),key=lambda x:x[1], reverse=True)"
   ]
  },
  {
   "cell_type": "code",
   "execution_count": null,
   "id": "developed-inspiration",
   "metadata": {},
   "outputs": [],
   "source": [
    "reverse_tmp_dict"
   ]
  },
  {
   "cell_type": "code",
   "execution_count": null,
   "id": "surrounded-geometry",
   "metadata": {},
   "outputs": [],
   "source": [
    "label, value = [], []\n",
    "if len(tmp_dict) % 2 == 0:\n",
    "    for i in range(len(tmp_dict)//2):\n",
    "        label.append(tmp_dict[i][0])\n",
    "        label.append(reverse_tmp_dict[i][0])\n",
    "        value.append(tmp_dict[i][1])\n",
    "        value.append(reverse_tmp_dict[i][1])\n",
    "else:\n",
    "    for i in range(len(tmp_dict)//2):\n",
    "        label.append(tmp_dict[i][0])\n",
    "        label.append(reverse_tmp_dict[i][0])\n",
    "        value.append(tmp_dict[i][1])\n",
    "        value.append(reverse_tmp_dict[i][1])\n",
    "    label.append(tmp_dict[len(tmp_dict)//2][0])\n",
    "    value.append(tmp_dict[len(tmp_dict)//2][1])"
   ]
  },
  {
   "cell_type": "code",
   "execution_count": null,
   "id": "municipal-platform",
   "metadata": {},
   "outputs": [],
   "source": [
    "label"
   ]
  },
  {
   "cell_type": "code",
   "execution_count": null,
   "id": "attempted-stand",
   "metadata": {},
   "outputs": [],
   "source": [
    "value"
   ]
  },
  {
   "cell_type": "code",
   "execution_count": null,
   "id": "sophisticated-proxy",
   "metadata": {},
   "outputs": [],
   "source": [
    "value = list(tmp_dict.values())\n",
    "label = list(tmp_dict.keys())"
   ]
  },
  {
   "cell_type": "code",
   "execution_count": null,
   "id": "sporting-cookie",
   "metadata": {},
   "outputs": [],
   "source": [
    "value.sort()"
   ]
  },
  {
   "cell_type": "code",
   "execution_count": null,
   "id": "nearby-massage",
   "metadata": {},
   "outputs": [],
   "source": [
    "value"
   ]
  },
  {
   "cell_type": "code",
   "execution_count": null,
   "id": "heated-airfare",
   "metadata": {},
   "outputs": [],
   "source": [
    "label"
   ]
  },
  {
   "cell_type": "code",
   "execution_count": null,
   "id": "proprietary-scanner",
   "metadata": {},
   "outputs": [],
   "source": [
    "value = [value[1],value[0],value[2],value[3]]\n",
    "label = [label[1],label[0],label[2],label[3]]"
   ]
  },
  {
   "cell_type": "code",
   "execution_count": null,
   "id": "unknown-thomson",
   "metadata": {},
   "outputs": [],
   "source": [
    "plt.pie(value, labels=label,autopct='%.2f%%',pctdistance=0.8,explode=(0.1,0.1,0.1,0.1))\n",
    "plt.title('IG types')\n",
    "plt.savefig('/SGRNJ06/randd/USER/cjj/celedev/vdj10x/20220713anno_seq/igl.png', dpi=280)"
   ]
  },
  {
   "cell_type": "code",
   "execution_count": null,
   "id": "cognitive-imaging",
   "metadata": {},
   "outputs": [],
   "source": []
  },
  {
   "cell_type": "code",
   "execution_count": null,
   "id": "directed-chapter",
   "metadata": {},
   "outputs": [],
   "source": [
    "df_h[df_h['c_gene']=='None']"
   ]
  },
  {
   "cell_type": "code",
   "execution_count": null,
   "id": "demonstrated-sailing",
   "metadata": {},
   "outputs": [],
   "source": [
    "test = df_merge.groupby('clonotype_id')['chain'].count().to_dict()"
   ]
  },
  {
   "cell_type": "code",
   "execution_count": null,
   "id": "dietary-designation",
   "metadata": {},
   "outputs": [],
   "source": [
    "count_1=0\n",
    "count_3=0\n",
    "for k,v in test.items():\n",
    "    if v==1:\n",
    "        count_1 +=1\n",
    "    if v>=3:\n",
    "        count_3 +=1"
   ]
  },
  {
   "cell_type": "code",
   "execution_count": null,
   "id": "significant-concern",
   "metadata": {},
   "outputs": [],
   "source": []
  },
  {
   "cell_type": "code",
   "execution_count": null,
   "id": "tough-effort",
   "metadata": {},
   "outputs": [],
   "source": []
  },
  {
   "cell_type": "code",
   "execution_count": null,
   "id": "promising-humidity",
   "metadata": {},
   "outputs": [],
   "source": []
  },
  {
   "cell_type": "code",
   "execution_count": null,
   "id": "extra-saver",
   "metadata": {},
   "outputs": [],
   "source": []
  },
  {
   "cell_type": "code",
   "execution_count": null,
   "id": "assured-manor",
   "metadata": {},
   "outputs": [],
   "source": [
    "# 7.13 "
   ]
  },
  {
   "cell_type": "code",
   "execution_count": null,
   "id": "honey-nothing",
   "metadata": {},
   "outputs": [],
   "source": [
    "import pandas as pd\n",
    "import pysam\n",
    "import matplotlib.pyplot as plt\n",
    "import pandas as pd"
   ]
  },
  {
   "cell_type": "code",
   "execution_count": null,
   "id": "divided-subscription",
   "metadata": {},
   "outputs": [],
   "source": [
    "airr = pd.read_csv('/SGRNJ06/randd/USER/cjj/celedev/vdj10x/20220629no_match/BCRLFBVC220616037X1CK/03.assemble/BCRLFBVC220616037X1CK/outs/airr_rearrangement.tsv',sep='\\t')"
   ]
  },
  {
   "cell_type": "code",
   "execution_count": null,
   "id": "moderate-surgeon",
   "metadata": {},
   "outputs": [],
   "source": [
    "airr"
   ]
  },
  {
   "cell_type": "code",
   "execution_count": null,
   "id": "bibliographic-combine",
   "metadata": {},
   "outputs": [],
   "source": [
    "contig = pd.read_csv('/SGRNJ06/randd/USER/cjj/celedev/vdj10x/20220629no_match/BCRLFBVC220616037X1CK/03.assemble/BCRLFBVC220616037X1CK/outs/filtered_contig_annotations.csv')"
   ]
  },
  {
   "cell_type": "code",
   "execution_count": null,
   "id": "endless-annotation",
   "metadata": {},
   "outputs": [],
   "source": [
    "contig = contig[contig['productive']==True]"
   ]
  },
  {
   "cell_type": "code",
   "execution_count": null,
   "id": "according-point",
   "metadata": {},
   "outputs": [],
   "source": [
    "contig"
   ]
  },
  {
   "cell_type": "code",
   "execution_count": null,
   "id": "mental-sunglasses",
   "metadata": {},
   "outputs": [],
   "source": [
    "contig = contig[['contig_id','raw_clonotype_id','cdr3']]"
   ]
  },
  {
   "cell_type": "code",
   "execution_count": null,
   "id": "conscious-polls",
   "metadata": {},
   "outputs": [],
   "source": [
    "contig.rename(columns={'contig_id':'sequence_id'},inplace=True)"
   ]
  },
  {
   "cell_type": "code",
   "execution_count": null,
   "id": "threaded-share",
   "metadata": {},
   "outputs": [],
   "source": [
    "df_merge = pd.merge(airr,contig,on='sequence_id',how='inner')\n",
    "del df_merge['clone_id']"
   ]
  },
  {
   "cell_type": "code",
   "execution_count": null,
   "id": "korean-asbestos",
   "metadata": {},
   "outputs": [],
   "source": [
    "df_merge.rename(columns={'raw_clonotype_id':'clonotype_id'},inplace=True)"
   ]
  },
  {
   "cell_type": "code",
   "execution_count": null,
   "id": "successful-boost",
   "metadata": {},
   "outputs": [],
   "source": [
    "df_merge"
   ]
  },
  {
   "cell_type": "code",
   "execution_count": null,
   "id": "polar-terminal",
   "metadata": {},
   "outputs": [],
   "source": [
    "clonotype = pd.read_csv('/SGRNJ06/randd/USER/cjj/celedev/vdj10x/20220629no_match/BCRLFBVC220616037X1CK/03.assemble/BCRLFBVC220616037X1CK/outs/clonotypes.csv')"
   ]
  },
  {
   "cell_type": "code",
   "execution_count": null,
   "id": "exempt-warrior",
   "metadata": {},
   "outputs": [],
   "source": [
    "clonotype = clonotype[['clonotype_id','frequency']]"
   ]
  },
  {
   "cell_type": "code",
   "execution_count": null,
   "id": "worth-kitchen",
   "metadata": {},
   "outputs": [],
   "source": [
    "clonotype"
   ]
  },
  {
   "cell_type": "code",
   "execution_count": null,
   "id": "norwegian-alexandria",
   "metadata": {},
   "outputs": [],
   "source": [
    "df_merge_f = pd.merge(df_merge,clonotype,on='clonotype_id')"
   ]
  },
  {
   "cell_type": "code",
   "execution_count": null,
   "id": "naval-johnston",
   "metadata": {},
   "outputs": [],
   "source": [
    "df_merge_f['chain'] = df_merge_f['v_call'].apply(lambda x:x[:3])"
   ]
  },
  {
   "cell_type": "code",
   "execution_count": null,
   "id": "plain-escape",
   "metadata": {},
   "outputs": [],
   "source": [
    "df_merge_f"
   ]
  },
  {
   "cell_type": "code",
   "execution_count": null,
   "id": "enormous-warrior",
   "metadata": {},
   "outputs": [],
   "source": [
    "df_merge_f['id_num'] = df_merge_f['clonotype_id'].apply(lambda x: int(x[9:]))\n",
    "df_merge_f.sort_values(['id_num','chain'],inplace=True)"
   ]
  },
  {
   "cell_type": "code",
   "execution_count": null,
   "id": "fleet-blond",
   "metadata": {},
   "outputs": [],
   "source": [
    "del df_merge_f['id_num']\n",
    "del df_merge_f['sequence']\n",
    "del df_merge_f['productive']\n",
    "del df_merge_f['rev_comp']\n",
    "del df_merge_f['v_cigar']\n",
    "del df_merge_f['d_cigar']\n",
    "del df_merge_f['j_cigar']\n",
    "del df_merge_f['c_cigar']\n",
    "del df_merge_f['sequence_alignment']\n",
    "del df_merge_f['germline_alignment']\n",
    "del df_merge_f['junction']\n",
    "del df_merge_f['junction_aa']\n",
    "del df_merge_f['junction_length']\n",
    "del df_merge_f['junction_aa_length']\n",
    "del df_merge_f['v_sequence_start']\n",
    "del df_merge_f['v_sequence_end']\n",
    "del df_merge_f['d_sequence_start']\n",
    "del df_merge_f['d_sequence_end']\n",
    "del df_merge_f['j_sequence_start']\n",
    "del df_merge_f['j_sequence_end']\n",
    "del df_merge_f['c_sequence_start']\n",
    "del df_merge_f['c_sequence_end']\n",
    "del df_merge_f['consensus_count']\n",
    "del df_merge_f['duplicate_count']\n",
    "del df_merge_f['is_cell']"
   ]
  },
  {
   "cell_type": "code",
   "execution_count": null,
   "id": "advance-spencer",
   "metadata": {},
   "outputs": [],
   "source": [
    "df_merge_f"
   ]
  },
  {
   "cell_type": "code",
   "execution_count": null,
   "id": "polish-technique",
   "metadata": {},
   "outputs": [],
   "source": [
    "df_merge_f.drop_duplicates(['clonotype_id','chain'],inplace=True)"
   ]
  },
  {
   "cell_type": "code",
   "execution_count": null,
   "id": "sapphire-census",
   "metadata": {},
   "outputs": [],
   "source": [
    "df_merge_f = df_merge_f.where(df_merge_f.notnull(),'None')"
   ]
  },
  {
   "cell_type": "code",
   "execution_count": null,
   "id": "underlying-riding",
   "metadata": {},
   "outputs": [],
   "source": [
    "clonotype_id_list = list(df_merge_f.clonotype_id.unique())"
   ]
  },
  {
   "cell_type": "code",
   "execution_count": null,
   "id": "sporting-duration",
   "metadata": {},
   "outputs": [],
   "source": [
    "clonotype_id_list"
   ]
  },
  {
   "cell_type": "code",
   "execution_count": null,
   "id": "sudden-berlin",
   "metadata": {},
   "outputs": [],
   "source": [
    "df_merge_f"
   ]
  },
  {
   "cell_type": "code",
   "execution_count": null,
   "id": "everyday-wonder",
   "metadata": {},
   "outputs": [],
   "source": [
    "outfile = open('/SGRNJ06/randd/USER/cjj/celedev/vdj10x/20220713anno_seq/test.fasta','w')"
   ]
  },
  {
   "cell_type": "code",
   "execution_count": null,
   "id": "contemporary-circuit",
   "metadata": {},
   "outputs": [],
   "source": [
    "outfile.write(\"Clonotype(clonotype_id|V-gene|D-gene|J-gene|CDR3|C-gene|)\\tCell_Number\\tCgene\\tSequence\\n\")\n",
    "for i in clonotype_id_list:\n",
    "    df_tmp = df_merge_f[df_merge_f['clonotype_id']==i]\n",
    "    outfile.write(f'{list(df_tmp.clonotype_id)[0]}|')\n",
    "    for i in range(df_tmp.shape[0]):\n",
    "        outfile.write(f'{list(df_tmp.v_call)[i]}|{list(df_tmp.d_call)[i]}|{list(df_tmp.j_call)[i]}|{list(df_tmp.cdr3)[i]}|{list(df_tmp.c_call)[i]}|')\n",
    "    outfile.write(f'\\t{list(df_tmp.frequency)[0]}\\t')\n",
    "    outfile.write('|'.join(list(df_tmp.c_call)))\n",
    "    outfile.write('\\n')\n",
    "    for i in range(df_tmp.shape[0]):\n",
    "        outfile.write(f'ChianType:{list(df_tmp.chain)[i]}\\n{list(df_tmp.sequence_aa)[i]}\\n')\n",
    "        #outfile.write('\\n'.join(list(df_tmp.seq)))\n",
    "    # outfile.write('\\n')"
   ]
  },
  {
   "cell_type": "code",
   "execution_count": null,
   "id": "vocational-dream",
   "metadata": {},
   "outputs": [],
   "source": [
    "outfile.close()"
   ]
  },
  {
   "cell_type": "code",
   "execution_count": null,
   "id": "pointed-tuning",
   "metadata": {},
   "outputs": [],
   "source": [
    "df_merge_f"
   ]
  },
  {
   "cell_type": "code",
   "execution_count": null,
   "id": "coated-membership",
   "metadata": {},
   "outputs": [],
   "source": [
    "tmp_dict"
   ]
  },
  {
   "cell_type": "code",
   "execution_count": null,
   "id": "younger-fifth",
   "metadata": {},
   "outputs": [],
   "source": [
    "df_h = df_merge_f[df_merge_f['chain']=='IGH']\n",
    "df_h.sort_values('c_call', ascending=False,inplace=True)"
   ]
  },
  {
   "cell_type": "code",
   "execution_count": null,
   "id": "needed-honor",
   "metadata": {},
   "outputs": [],
   "source": [
    "tmp_dict = df_h.groupby('c_call')['clonotype_id'].count().to_dict()\n",
    "value = list(tmp_dict.values())\n",
    "label = list(tmp_dict.keys())"
   ]
  },
  {
   "cell_type": "code",
   "execution_count": null,
   "id": "flush-anderson",
   "metadata": {},
   "outputs": [],
   "source": [
    "value = [value[1],value[0],value[2],value[3]]\n",
    "label = [label[1],label[0],label[2],label[3]]\n",
    "\n",
    "plt.pie(value, labels=label,autopct='%.2f%%',pctdistance=0.8,explode=(0.1,0.1,0.1,0.1))\n",
    "plt.title('IG types')\n",
    "plt.savefig('/SGRNJ06/randd/USER/cjj/celedev/vdj10x/20220704anno_seq/igl.png', dpi=280)"
   ]
  },
  {
   "cell_type": "code",
   "execution_count": null,
   "id": "directed-senegal",
   "metadata": {},
   "outputs": [],
   "source": []
  },
  {
   "cell_type": "code",
   "execution_count": null,
   "id": "soviet-marriage",
   "metadata": {},
   "outputs": [],
   "source": []
  },
  {
   "cell_type": "code",
   "execution_count": null,
   "id": "threaded-dryer",
   "metadata": {},
   "outputs": [],
   "source": []
  },
  {
   "cell_type": "code",
   "execution_count": null,
   "id": "electrical-improvement",
   "metadata": {},
   "outputs": [],
   "source": []
  },
  {
   "cell_type": "code",
   "execution_count": 85,
   "id": "intense-roberts",
   "metadata": {},
   "outputs": [],
   "source": [
    "# 20220714\n",
    "import pandas as pd\n",
    "import pysam\n",
    "import matplotlib.pyplot as plt\n",
    "import pandas as pd\n",
    "from Bio.Seq import Seq"
   ]
  },
  {
   "cell_type": "code",
   "execution_count": 86,
   "id": "crucial-pressing",
   "metadata": {},
   "outputs": [],
   "source": [
    "airr = pd.read_csv('/SGRNJ06/randd/USER/cjj/celedev/vdj10x/20220629no_match/BCRLFBVC220616037X1CK/03.assemble/BCRLFBVC220616037X1CK/outs/airr_rearrangement.tsv',sep='\\t')\n",
    "contig = pd.read_csv('/SGRNJ06/randd/USER/cjj/celedev/vdj10x/20220629no_match/BCRLFBVC220616037X1CK/03.assemble/BCRLFBVC220616037X1CK/outs/filtered_contig_annotations.csv')\n",
    "clonotype = pd.read_csv('/SGRNJ06/randd/USER/cjj/celedev/vdj10x/20220629no_match/BCRLFBVC220616037X1CK/03.assemble/BCRLFBVC220616037X1CK/outs/clonotypes.csv')"
   ]
  },
  {
   "cell_type": "code",
   "execution_count": 87,
   "id": "industrial-prerequisite",
   "metadata": {},
   "outputs": [],
   "source": [
    "contig = contig[contig['productive']==True]\n",
    "contig = contig[['contig_id','raw_clonotype_id','cdr3']]\n",
    "contig.rename(columns={'contig_id':'sequence_id'},inplace=True)\n",
    "df_merge = pd.merge(airr,contig,on='sequence_id',how='inner')\n",
    "del df_merge['clone_id']\n",
    "df_merge.rename(columns={'raw_clonotype_id':'clonotype_id'},inplace=True)\n",
    "clonotype = clonotype[['clonotype_id','frequency']]\n",
    "df_merge_f = pd.merge(df_merge,clonotype,on='clonotype_id')\n",
    "df_merge_f['chain'] = df_merge_f['v_call'].apply(lambda x:x[:3])\n",
    "df_merge_f['id_num'] = df_merge_f['clonotype_id'].apply(lambda x: int(x[9:]))\n",
    "df_merge_f.sort_values(['id_num','chain'],inplace=True)"
   ]
  },
  {
   "cell_type": "code",
   "execution_count": 88,
   "id": "angry-surgery",
   "metadata": {},
   "outputs": [],
   "source": [
    "del df_merge_f['id_num']\n",
    "del df_merge_f['productive']\n",
    "del df_merge_f['rev_comp']\n",
    "del df_merge_f['v_cigar']\n",
    "del df_merge_f['d_cigar']\n",
    "del df_merge_f['j_cigar']\n",
    "del df_merge_f['c_cigar']\n",
    "del df_merge_f['sequence_alignment']\n",
    "del df_merge_f['germline_alignment']\n",
    "del df_merge_f['junction']\n",
    "del df_merge_f['junction_aa']\n",
    "del df_merge_f['junction_length']\n",
    "del df_merge_f['junction_aa_length']\n",
    "del df_merge_f['v_sequence_start']\n",
    "del df_merge_f['v_sequence_end']\n",
    "del df_merge_f['d_sequence_start']\n",
    "del df_merge_f['d_sequence_end']\n",
    "del df_merge_f['j_sequence_start']\n",
    "del df_merge_f['j_sequence_end']\n",
    "del df_merge_f['c_sequence_start']\n",
    "del df_merge_f['c_sequence_end']\n",
    "del df_merge_f['consensus_count']\n",
    "del df_merge_f['duplicate_count']\n",
    "del df_merge_f['is_cell']"
   ]
  },
  {
   "cell_type": "code",
   "execution_count": 101,
   "id": "urban-pocket",
   "metadata": {},
   "outputs": [],
   "source": [
    "df_merge_f.drop_duplicates(['clonotype_id','chain'],inplace=True)\n",
    "df_merge_f = df_merge_f.where(df_merge_f.notnull(),'None')\n",
    "clonotype_id_list = list(df_merge_f.clonotype_id.unique())"
   ]
  },
  {
   "cell_type": "code",
   "execution_count": 320,
   "id": "chief-chain",
   "metadata": {},
   "outputs": [
    {
     "data": {
      "text/html": [
       "<div>\n",
       "<style scoped>\n",
       "    .dataframe tbody tr th:only-of-type {\n",
       "        vertical-align: middle;\n",
       "    }\n",
       "\n",
       "    .dataframe tbody tr th {\n",
       "        vertical-align: top;\n",
       "    }\n",
       "\n",
       "    .dataframe thead th {\n",
       "        text-align: right;\n",
       "    }\n",
       "</style>\n",
       "<table border=\"1\" class=\"dataframe\">\n",
       "  <thead>\n",
       "    <tr style=\"text-align: right;\">\n",
       "      <th></th>\n",
       "      <th>cell_id</th>\n",
       "      <th>sequence_id</th>\n",
       "      <th>sequence</th>\n",
       "      <th>sequence_aa</th>\n",
       "      <th>v_call</th>\n",
       "      <th>d_call</th>\n",
       "      <th>j_call</th>\n",
       "      <th>c_call</th>\n",
       "      <th>clonotype_id</th>\n",
       "      <th>cdr3</th>\n",
       "      <th>frequency</th>\n",
       "      <th>chain</th>\n",
       "    </tr>\n",
       "  </thead>\n",
       "  <tbody>\n",
       "    <tr>\n",
       "      <th>901</th>\n",
       "      <td>AAACCTGAGTATCTCG-1</td>\n",
       "      <td>AAACCTGAGTATCTCG-1_contig_1</td>\n",
       "      <td>AATACCACCAATGCTAATACGTAGTCATCACGTTGAGACCTACATG...</td>\n",
       "      <td>MMSSAQFLGLLLLCFQGTRCDIQMTQTTSSLSASLGDRVTISCRAS...</td>\n",
       "      <td>IGKV10-96</td>\n",
       "      <td>None</td>\n",
       "      <td>IGKJ1</td>\n",
       "      <td>IGKC</td>\n",
       "      <td>clonotype1</td>\n",
       "      <td>CQQGNTLPWTF</td>\n",
       "      <td>89</td>\n",
       "      <td>IGK</td>\n",
       "    </tr>\n",
       "    <tr>\n",
       "      <th>2414</th>\n",
       "      <td>AAACCTGGTACTCTCC-1</td>\n",
       "      <td>AAACCTGGTACTCTCC-1_contig_1</td>\n",
       "      <td>TACCGAGCTCAGCTTCTGACTACGTTAGGCATATATGGCTGTCACC...</td>\n",
       "      <td>MAWTSLILSLLALCSGASSQAVVTQESALTTSPGGTVILTCRSSTG...</td>\n",
       "      <td>IGLV2</td>\n",
       "      <td>None</td>\n",
       "      <td>IGLJ2</td>\n",
       "      <td>IGLC2</td>\n",
       "      <td>clonotype2</td>\n",
       "      <td>CALWYSTHYVF</td>\n",
       "      <td>82</td>\n",
       "      <td>IGL</td>\n",
       "    </tr>\n",
       "    <tr>\n",
       "      <th>1809</th>\n",
       "      <td>AAACCTGCAGACGCTC-1</td>\n",
       "      <td>AAACCTGCAGACGCTC-1_contig_1</td>\n",
       "      <td>GGGGACCAATATTGAAAAGAATAGACCTGGTTTGTGAATTATGGCC...</td>\n",
       "      <td>MAWISLILSLLALSSGAISQAVVTQESALTTSPGETVTLTCRSSTG...</td>\n",
       "      <td>IGLV1</td>\n",
       "      <td>None</td>\n",
       "      <td>IGLJ1</td>\n",
       "      <td>IGLC1</td>\n",
       "      <td>clonotype3</td>\n",
       "      <td>CALWYSNHWVF</td>\n",
       "      <td>71</td>\n",
       "      <td>IGL</td>\n",
       "    </tr>\n",
       "    <tr>\n",
       "      <th>242</th>\n",
       "      <td>AAACCTGAGATGCCAG-1</td>\n",
       "      <td>AAACCTGAGATGCCAG-1_contig_1</td>\n",
       "      <td>ATCACACTGAAAACACACAGACATGAGTGTGCCCACTCAGGTCCTG...</td>\n",
       "      <td>MSVPTQVLGLLLLWLTGARCDIQMTQSPASLSASVGETVTITCRAS...</td>\n",
       "      <td>IGKV12-44</td>\n",
       "      <td>None</td>\n",
       "      <td>IGKJ2</td>\n",
       "      <td>IGKC</td>\n",
       "      <td>clonotype4</td>\n",
       "      <td>CQHHYGTPYTF</td>\n",
       "      <td>62</td>\n",
       "      <td>IGK</td>\n",
       "    </tr>\n",
       "    <tr>\n",
       "      <th>1278</th>\n",
       "      <td>AAACCTGCAAAGGAAG-1</td>\n",
       "      <td>AAACCTGCAAAGGAAG-1_contig_1</td>\n",
       "      <td>CCCCACCACCCACCCCAGGTTTTAATGCTACGGCTACGACCGAGTT...</td>\n",
       "      <td>MESQTQVFVYMLLWLSGVDGDIVMTQSQKFMSTSVGDRVSVTCKAS...</td>\n",
       "      <td>IGKV6-15</td>\n",
       "      <td>None</td>\n",
       "      <td>IGKJ5</td>\n",
       "      <td>IGKC</td>\n",
       "      <td>clonotype5</td>\n",
       "      <td>CQQYNSYPLTF</td>\n",
       "      <td>62</td>\n",
       "      <td>IGK</td>\n",
       "    </tr>\n",
       "    <tr>\n",
       "      <th>...</th>\n",
       "      <td>...</td>\n",
       "      <td>...</td>\n",
       "      <td>...</td>\n",
       "      <td>...</td>\n",
       "      <td>...</td>\n",
       "      <td>...</td>\n",
       "      <td>...</td>\n",
       "      <td>...</td>\n",
       "      <td>...</td>\n",
       "      <td>...</td>\n",
       "      <td>...</td>\n",
       "      <td>...</td>\n",
       "    </tr>\n",
       "    <tr>\n",
       "      <th>23255</th>\n",
       "      <td>AGGGATGTCCTATTCA-1</td>\n",
       "      <td>AGGGATGTCCTATTCA-1_contig_1</td>\n",
       "      <td>TAATAGACTTGGTTTGTGAATTATGGCCTGGACTTCACTTATACTC...</td>\n",
       "      <td>MAWTSLILSLLALCSGASSQAVVTQESALTTSPGGTVILTCRSSTG...</td>\n",
       "      <td>IGLV2</td>\n",
       "      <td>None</td>\n",
       "      <td>IGLJ2</td>\n",
       "      <td>IGLC2</td>\n",
       "      <td>clonotype9620</td>\n",
       "      <td>CALWYSTHFVF</td>\n",
       "      <td>1</td>\n",
       "      <td>IGL</td>\n",
       "    </tr>\n",
       "    <tr>\n",
       "      <th>23257</th>\n",
       "      <td>AGGTCCGCACCTTGTC-1</td>\n",
       "      <td>AGGTCCGCACCTTGTC-1_contig_1</td>\n",
       "      <td>TGGATGAGGATGGAGATCGGAAGAGCGTCGTGTAGGAGCAAGTATG...</td>\n",
       "      <td>MGWSCIILFLVATATGVHSQVQLQQPGSELVRPGASVKLSCKASGY...</td>\n",
       "      <td>IGHV1-55</td>\n",
       "      <td>None</td>\n",
       "      <td>IGHJ3</td>\n",
       "      <td>IGHM</td>\n",
       "      <td>clonotype9621</td>\n",
       "      <td>CTRGGLRRGFAYW</td>\n",
       "      <td>1</td>\n",
       "      <td>IGH</td>\n",
       "    </tr>\n",
       "    <tr>\n",
       "      <th>23258</th>\n",
       "      <td>AGGTCCGCACCTTGTC-1</td>\n",
       "      <td>AGGTCCGCACCTTGTC-1_contig_2</td>\n",
       "      <td>GATCAGCATGGGCATCAAGATGGAGTCACAGACTCAGGTCTTTGTA...</td>\n",
       "      <td>MESQTQVFVYMLLWLSGVDGDIVMTQSQKFMSTSVGDRVSVTCKAS...</td>\n",
       "      <td>IGKV6-15</td>\n",
       "      <td>None</td>\n",
       "      <td>IGKJ2</td>\n",
       "      <td>IGKC</td>\n",
       "      <td>clonotype9621</td>\n",
       "      <td>CQQYNSYPYTF</td>\n",
       "      <td>1</td>\n",
       "      <td>IGK</td>\n",
       "    </tr>\n",
       "    <tr>\n",
       "      <th>23259</th>\n",
       "      <td>ATCACGACAAGCCGCT-1</td>\n",
       "      <td>ATCACGACAAGCCGCT-1_contig_1</td>\n",
       "      <td>GGACTCTCAGTGAGGATACACCATCAGCATGAGGGTCCTTGCTGAG...</td>\n",
       "      <td>MRVLAELLGLLLFCFLGVRCDIQMNQSPSSLSASLGDTITITCHAS...</td>\n",
       "      <td>IGKV15-103</td>\n",
       "      <td>None</td>\n",
       "      <td>IGKJ2</td>\n",
       "      <td>IGKC</td>\n",
       "      <td>clonotype9622</td>\n",
       "      <td>CQQGQSYPYTF</td>\n",
       "      <td>1</td>\n",
       "      <td>IGK</td>\n",
       "    </tr>\n",
       "    <tr>\n",
       "      <th>23260</th>\n",
       "      <td>ATCACGACAAGCCGCT-1</td>\n",
       "      <td>ATCACGACAAGCCGCT-1_contig_2</td>\n",
       "      <td>GGGGACCAATATTGAGAAGAATAGACCTGGTTTGTGAATTATGGCC...</td>\n",
       "      <td>MAWISLILSLLALSSGAISQAVVTQESALTTSPGETVTLTCRSSTG...</td>\n",
       "      <td>IGLV1</td>\n",
       "      <td>None</td>\n",
       "      <td>IGLJ1</td>\n",
       "      <td>None</td>\n",
       "      <td>clonotype9622</td>\n",
       "      <td>CALWYSNHWVF</td>\n",
       "      <td>1</td>\n",
       "      <td>IGL</td>\n",
       "    </tr>\n",
       "  </tbody>\n",
       "</table>\n",
       "<p>17683 rows × 12 columns</p>\n",
       "</div>"
      ],
      "text/plain": [
       "                  cell_id                  sequence_id  \\\n",
       "901    AAACCTGAGTATCTCG-1  AAACCTGAGTATCTCG-1_contig_1   \n",
       "2414   AAACCTGGTACTCTCC-1  AAACCTGGTACTCTCC-1_contig_1   \n",
       "1809   AAACCTGCAGACGCTC-1  AAACCTGCAGACGCTC-1_contig_1   \n",
       "242    AAACCTGAGATGCCAG-1  AAACCTGAGATGCCAG-1_contig_1   \n",
       "1278   AAACCTGCAAAGGAAG-1  AAACCTGCAAAGGAAG-1_contig_1   \n",
       "...                   ...                          ...   \n",
       "23255  AGGGATGTCCTATTCA-1  AGGGATGTCCTATTCA-1_contig_1   \n",
       "23257  AGGTCCGCACCTTGTC-1  AGGTCCGCACCTTGTC-1_contig_1   \n",
       "23258  AGGTCCGCACCTTGTC-1  AGGTCCGCACCTTGTC-1_contig_2   \n",
       "23259  ATCACGACAAGCCGCT-1  ATCACGACAAGCCGCT-1_contig_1   \n",
       "23260  ATCACGACAAGCCGCT-1  ATCACGACAAGCCGCT-1_contig_2   \n",
       "\n",
       "                                                sequence  \\\n",
       "901    AATACCACCAATGCTAATACGTAGTCATCACGTTGAGACCTACATG...   \n",
       "2414   TACCGAGCTCAGCTTCTGACTACGTTAGGCATATATGGCTGTCACC...   \n",
       "1809   GGGGACCAATATTGAAAAGAATAGACCTGGTTTGTGAATTATGGCC...   \n",
       "242    ATCACACTGAAAACACACAGACATGAGTGTGCCCACTCAGGTCCTG...   \n",
       "1278   CCCCACCACCCACCCCAGGTTTTAATGCTACGGCTACGACCGAGTT...   \n",
       "...                                                  ...   \n",
       "23255  TAATAGACTTGGTTTGTGAATTATGGCCTGGACTTCACTTATACTC...   \n",
       "23257  TGGATGAGGATGGAGATCGGAAGAGCGTCGTGTAGGAGCAAGTATG...   \n",
       "23258  GATCAGCATGGGCATCAAGATGGAGTCACAGACTCAGGTCTTTGTA...   \n",
       "23259  GGACTCTCAGTGAGGATACACCATCAGCATGAGGGTCCTTGCTGAG...   \n",
       "23260  GGGGACCAATATTGAGAAGAATAGACCTGGTTTGTGAATTATGGCC...   \n",
       "\n",
       "                                             sequence_aa      v_call d_call  \\\n",
       "901    MMSSAQFLGLLLLCFQGTRCDIQMTQTTSSLSASLGDRVTISCRAS...   IGKV10-96   None   \n",
       "2414   MAWTSLILSLLALCSGASSQAVVTQESALTTSPGGTVILTCRSSTG...       IGLV2   None   \n",
       "1809   MAWISLILSLLALSSGAISQAVVTQESALTTSPGETVTLTCRSSTG...       IGLV1   None   \n",
       "242    MSVPTQVLGLLLLWLTGARCDIQMTQSPASLSASVGETVTITCRAS...   IGKV12-44   None   \n",
       "1278   MESQTQVFVYMLLWLSGVDGDIVMTQSQKFMSTSVGDRVSVTCKAS...    IGKV6-15   None   \n",
       "...                                                  ...         ...    ...   \n",
       "23255  MAWTSLILSLLALCSGASSQAVVTQESALTTSPGGTVILTCRSSTG...       IGLV2   None   \n",
       "23257  MGWSCIILFLVATATGVHSQVQLQQPGSELVRPGASVKLSCKASGY...    IGHV1-55   None   \n",
       "23258  MESQTQVFVYMLLWLSGVDGDIVMTQSQKFMSTSVGDRVSVTCKAS...    IGKV6-15   None   \n",
       "23259  MRVLAELLGLLLFCFLGVRCDIQMNQSPSSLSASLGDTITITCHAS...  IGKV15-103   None   \n",
       "23260  MAWISLILSLLALSSGAISQAVVTQESALTTSPGETVTLTCRSSTG...       IGLV1   None   \n",
       "\n",
       "      j_call c_call   clonotype_id           cdr3  frequency chain  \n",
       "901    IGKJ1   IGKC     clonotype1    CQQGNTLPWTF         89   IGK  \n",
       "2414   IGLJ2  IGLC2     clonotype2    CALWYSTHYVF         82   IGL  \n",
       "1809   IGLJ1  IGLC1     clonotype3    CALWYSNHWVF         71   IGL  \n",
       "242    IGKJ2   IGKC     clonotype4    CQHHYGTPYTF         62   IGK  \n",
       "1278   IGKJ5   IGKC     clonotype5    CQQYNSYPLTF         62   IGK  \n",
       "...      ...    ...            ...            ...        ...   ...  \n",
       "23255  IGLJ2  IGLC2  clonotype9620    CALWYSTHFVF          1   IGL  \n",
       "23257  IGHJ3   IGHM  clonotype9621  CTRGGLRRGFAYW          1   IGH  \n",
       "23258  IGKJ2   IGKC  clonotype9621    CQQYNSYPYTF          1   IGK  \n",
       "23259  IGKJ2   IGKC  clonotype9622    CQQGQSYPYTF          1   IGK  \n",
       "23260  IGLJ1   None  clonotype9622    CALWYSNHWVF          1   IGL  \n",
       "\n",
       "[17683 rows x 12 columns]"
      ]
     },
     "execution_count": 320,
     "metadata": {},
     "output_type": "execute_result"
    }
   ],
   "source": [
    "df_merge_f"
   ]
  },
  {
   "cell_type": "code",
   "execution_count": 324,
   "id": "upset-nicaragua",
   "metadata": {},
   "outputs": [],
   "source": [
    "xing_list = list(df_merge_f['sequence_aa'])\n"
   ]
  },
  {
   "cell_type": "code",
   "execution_count": 328,
   "id": "three-delivery",
   "metadata": {},
   "outputs": [],
   "source": [
    "index_list = []\n",
    "for i in xing_list:\n",
    "    if '*' in i:\n",
    "        index_list.append(xing_list.index(i))"
   ]
  },
  {
   "cell_type": "code",
   "execution_count": 332,
   "id": "intermediate-president",
   "metadata": {},
   "outputs": [],
   "source": [
    "df_merge_f_new = df_merge_f.reset_index()\n",
    "del df_merge_f_new['index']"
   ]
  },
  {
   "cell_type": "code",
   "execution_count": 336,
   "id": "sticky-leeds",
   "metadata": {},
   "outputs": [
    {
     "data": {
      "text/html": [
       "<div>\n",
       "<style scoped>\n",
       "    .dataframe tbody tr th:only-of-type {\n",
       "        vertical-align: middle;\n",
       "    }\n",
       "\n",
       "    .dataframe tbody tr th {\n",
       "        vertical-align: top;\n",
       "    }\n",
       "\n",
       "    .dataframe thead th {\n",
       "        text-align: right;\n",
       "    }\n",
       "</style>\n",
       "<table border=\"1\" class=\"dataframe\">\n",
       "  <thead>\n",
       "    <tr style=\"text-align: right;\">\n",
       "      <th></th>\n",
       "      <th>cell_id</th>\n",
       "      <th>sequence_id</th>\n",
       "      <th>sequence</th>\n",
       "      <th>sequence_aa</th>\n",
       "      <th>v_call</th>\n",
       "      <th>d_call</th>\n",
       "      <th>j_call</th>\n",
       "      <th>c_call</th>\n",
       "      <th>clonotype_id</th>\n",
       "      <th>cdr3</th>\n",
       "      <th>frequency</th>\n",
       "      <th>chain</th>\n",
       "    </tr>\n",
       "  </thead>\n",
       "  <tbody>\n",
       "    <tr>\n",
       "      <th>0</th>\n",
       "      <td>AAACCTGAGTATCTCG-1</td>\n",
       "      <td>AAACCTGAGTATCTCG-1_contig_1</td>\n",
       "      <td>AATACCACCAATGCTAATACGTAGTCATCACGTTGAGACCTACATG...</td>\n",
       "      <td>MMSSAQFLGLLLLCFQGTRCDIQMTQTTSSLSASLGDRVTISCRAS...</td>\n",
       "      <td>IGKV10-96</td>\n",
       "      <td>None</td>\n",
       "      <td>IGKJ1</td>\n",
       "      <td>IGKC</td>\n",
       "      <td>clonotype1</td>\n",
       "      <td>CQQGNTLPWTF</td>\n",
       "      <td>89</td>\n",
       "      <td>IGK</td>\n",
       "    </tr>\n",
       "    <tr>\n",
       "      <th>1</th>\n",
       "      <td>AAACCTGGTACTCTCC-1</td>\n",
       "      <td>AAACCTGGTACTCTCC-1_contig_1</td>\n",
       "      <td>TACCGAGCTCAGCTTCTGACTACGTTAGGCATATATGGCTGTCACC...</td>\n",
       "      <td>MAWTSLILSLLALCSGASSQAVVTQESALTTSPGGTVILTCRSSTG...</td>\n",
       "      <td>IGLV2</td>\n",
       "      <td>None</td>\n",
       "      <td>IGLJ2</td>\n",
       "      <td>IGLC2</td>\n",
       "      <td>clonotype2</td>\n",
       "      <td>CALWYSTHYVF</td>\n",
       "      <td>82</td>\n",
       "      <td>IGL</td>\n",
       "    </tr>\n",
       "    <tr>\n",
       "      <th>2</th>\n",
       "      <td>AAACCTGCAGACGCTC-1</td>\n",
       "      <td>AAACCTGCAGACGCTC-1_contig_1</td>\n",
       "      <td>GGGGACCAATATTGAAAAGAATAGACCTGGTTTGTGAATTATGGCC...</td>\n",
       "      <td>MAWISLILSLLALSSGAISQAVVTQESALTTSPGETVTLTCRSSTG...</td>\n",
       "      <td>IGLV1</td>\n",
       "      <td>None</td>\n",
       "      <td>IGLJ1</td>\n",
       "      <td>IGLC1</td>\n",
       "      <td>clonotype3</td>\n",
       "      <td>CALWYSNHWVF</td>\n",
       "      <td>71</td>\n",
       "      <td>IGL</td>\n",
       "    </tr>\n",
       "    <tr>\n",
       "      <th>3</th>\n",
       "      <td>AAACCTGAGATGCCAG-1</td>\n",
       "      <td>AAACCTGAGATGCCAG-1_contig_1</td>\n",
       "      <td>ATCACACTGAAAACACACAGACATGAGTGTGCCCACTCAGGTCCTG...</td>\n",
       "      <td>MSVPTQVLGLLLLWLTGARCDIQMTQSPASLSASVGETVTITCRAS...</td>\n",
       "      <td>IGKV12-44</td>\n",
       "      <td>None</td>\n",
       "      <td>IGKJ2</td>\n",
       "      <td>IGKC</td>\n",
       "      <td>clonotype4</td>\n",
       "      <td>CQHHYGTPYTF</td>\n",
       "      <td>62</td>\n",
       "      <td>IGK</td>\n",
       "    </tr>\n",
       "    <tr>\n",
       "      <th>4</th>\n",
       "      <td>AAACCTGCAAAGGAAG-1</td>\n",
       "      <td>AAACCTGCAAAGGAAG-1_contig_1</td>\n",
       "      <td>CCCCACCACCCACCCCAGGTTTTAATGCTACGGCTACGACCGAGTT...</td>\n",
       "      <td>MESQTQVFVYMLLWLSGVDGDIVMTQSQKFMSTSVGDRVSVTCKAS...</td>\n",
       "      <td>IGKV6-15</td>\n",
       "      <td>None</td>\n",
       "      <td>IGKJ5</td>\n",
       "      <td>IGKC</td>\n",
       "      <td>clonotype5</td>\n",
       "      <td>CQQYNSYPLTF</td>\n",
       "      <td>62</td>\n",
       "      <td>IGK</td>\n",
       "    </tr>\n",
       "    <tr>\n",
       "      <th>...</th>\n",
       "      <td>...</td>\n",
       "      <td>...</td>\n",
       "      <td>...</td>\n",
       "      <td>...</td>\n",
       "      <td>...</td>\n",
       "      <td>...</td>\n",
       "      <td>...</td>\n",
       "      <td>...</td>\n",
       "      <td>...</td>\n",
       "      <td>...</td>\n",
       "      <td>...</td>\n",
       "      <td>...</td>\n",
       "    </tr>\n",
       "    <tr>\n",
       "      <th>17678</th>\n",
       "      <td>AGGGATGTCCTATTCA-1</td>\n",
       "      <td>AGGGATGTCCTATTCA-1_contig_1</td>\n",
       "      <td>TAATAGACTTGGTTTGTGAATTATGGCCTGGACTTCACTTATACTC...</td>\n",
       "      <td>MAWTSLILSLLALCSGASSQAVVTQESALTTSPGGTVILTCRSSTG...</td>\n",
       "      <td>IGLV2</td>\n",
       "      <td>None</td>\n",
       "      <td>IGLJ2</td>\n",
       "      <td>IGLC2</td>\n",
       "      <td>clonotype9620</td>\n",
       "      <td>CALWYSTHFVF</td>\n",
       "      <td>1</td>\n",
       "      <td>IGL</td>\n",
       "    </tr>\n",
       "    <tr>\n",
       "      <th>17679</th>\n",
       "      <td>AGGTCCGCACCTTGTC-1</td>\n",
       "      <td>AGGTCCGCACCTTGTC-1_contig_1</td>\n",
       "      <td>TGGATGAGGATGGAGATCGGAAGAGCGTCGTGTAGGAGCAAGTATG...</td>\n",
       "      <td>MGWSCIILFLVATATGVHSQVQLQQPGSELVRPGASVKLSCKASGY...</td>\n",
       "      <td>IGHV1-55</td>\n",
       "      <td>None</td>\n",
       "      <td>IGHJ3</td>\n",
       "      <td>IGHM</td>\n",
       "      <td>clonotype9621</td>\n",
       "      <td>CTRGGLRRGFAYW</td>\n",
       "      <td>1</td>\n",
       "      <td>IGH</td>\n",
       "    </tr>\n",
       "    <tr>\n",
       "      <th>17680</th>\n",
       "      <td>AGGTCCGCACCTTGTC-1</td>\n",
       "      <td>AGGTCCGCACCTTGTC-1_contig_2</td>\n",
       "      <td>GATCAGCATGGGCATCAAGATGGAGTCACAGACTCAGGTCTTTGTA...</td>\n",
       "      <td>MESQTQVFVYMLLWLSGVDGDIVMTQSQKFMSTSVGDRVSVTCKAS...</td>\n",
       "      <td>IGKV6-15</td>\n",
       "      <td>None</td>\n",
       "      <td>IGKJ2</td>\n",
       "      <td>IGKC</td>\n",
       "      <td>clonotype9621</td>\n",
       "      <td>CQQYNSYPYTF</td>\n",
       "      <td>1</td>\n",
       "      <td>IGK</td>\n",
       "    </tr>\n",
       "    <tr>\n",
       "      <th>17681</th>\n",
       "      <td>ATCACGACAAGCCGCT-1</td>\n",
       "      <td>ATCACGACAAGCCGCT-1_contig_1</td>\n",
       "      <td>GGACTCTCAGTGAGGATACACCATCAGCATGAGGGTCCTTGCTGAG...</td>\n",
       "      <td>MRVLAELLGLLLFCFLGVRCDIQMNQSPSSLSASLGDTITITCHAS...</td>\n",
       "      <td>IGKV15-103</td>\n",
       "      <td>None</td>\n",
       "      <td>IGKJ2</td>\n",
       "      <td>IGKC</td>\n",
       "      <td>clonotype9622</td>\n",
       "      <td>CQQGQSYPYTF</td>\n",
       "      <td>1</td>\n",
       "      <td>IGK</td>\n",
       "    </tr>\n",
       "    <tr>\n",
       "      <th>17682</th>\n",
       "      <td>ATCACGACAAGCCGCT-1</td>\n",
       "      <td>ATCACGACAAGCCGCT-1_contig_2</td>\n",
       "      <td>GGGGACCAATATTGAGAAGAATAGACCTGGTTTGTGAATTATGGCC...</td>\n",
       "      <td>MAWISLILSLLALSSGAISQAVVTQESALTTSPGETVTLTCRSSTG...</td>\n",
       "      <td>IGLV1</td>\n",
       "      <td>None</td>\n",
       "      <td>IGLJ1</td>\n",
       "      <td>None</td>\n",
       "      <td>clonotype9622</td>\n",
       "      <td>CALWYSNHWVF</td>\n",
       "      <td>1</td>\n",
       "      <td>IGL</td>\n",
       "    </tr>\n",
       "  </tbody>\n",
       "</table>\n",
       "<p>17683 rows × 12 columns</p>\n",
       "</div>"
      ],
      "text/plain": [
       "                  cell_id                  sequence_id  \\\n",
       "0      AAACCTGAGTATCTCG-1  AAACCTGAGTATCTCG-1_contig_1   \n",
       "1      AAACCTGGTACTCTCC-1  AAACCTGGTACTCTCC-1_contig_1   \n",
       "2      AAACCTGCAGACGCTC-1  AAACCTGCAGACGCTC-1_contig_1   \n",
       "3      AAACCTGAGATGCCAG-1  AAACCTGAGATGCCAG-1_contig_1   \n",
       "4      AAACCTGCAAAGGAAG-1  AAACCTGCAAAGGAAG-1_contig_1   \n",
       "...                   ...                          ...   \n",
       "17678  AGGGATGTCCTATTCA-1  AGGGATGTCCTATTCA-1_contig_1   \n",
       "17679  AGGTCCGCACCTTGTC-1  AGGTCCGCACCTTGTC-1_contig_1   \n",
       "17680  AGGTCCGCACCTTGTC-1  AGGTCCGCACCTTGTC-1_contig_2   \n",
       "17681  ATCACGACAAGCCGCT-1  ATCACGACAAGCCGCT-1_contig_1   \n",
       "17682  ATCACGACAAGCCGCT-1  ATCACGACAAGCCGCT-1_contig_2   \n",
       "\n",
       "                                                sequence  \\\n",
       "0      AATACCACCAATGCTAATACGTAGTCATCACGTTGAGACCTACATG...   \n",
       "1      TACCGAGCTCAGCTTCTGACTACGTTAGGCATATATGGCTGTCACC...   \n",
       "2      GGGGACCAATATTGAAAAGAATAGACCTGGTTTGTGAATTATGGCC...   \n",
       "3      ATCACACTGAAAACACACAGACATGAGTGTGCCCACTCAGGTCCTG...   \n",
       "4      CCCCACCACCCACCCCAGGTTTTAATGCTACGGCTACGACCGAGTT...   \n",
       "...                                                  ...   \n",
       "17678  TAATAGACTTGGTTTGTGAATTATGGCCTGGACTTCACTTATACTC...   \n",
       "17679  TGGATGAGGATGGAGATCGGAAGAGCGTCGTGTAGGAGCAAGTATG...   \n",
       "17680  GATCAGCATGGGCATCAAGATGGAGTCACAGACTCAGGTCTTTGTA...   \n",
       "17681  GGACTCTCAGTGAGGATACACCATCAGCATGAGGGTCCTTGCTGAG...   \n",
       "17682  GGGGACCAATATTGAGAAGAATAGACCTGGTTTGTGAATTATGGCC...   \n",
       "\n",
       "                                             sequence_aa      v_call d_call  \\\n",
       "0      MMSSAQFLGLLLLCFQGTRCDIQMTQTTSSLSASLGDRVTISCRAS...   IGKV10-96   None   \n",
       "1      MAWTSLILSLLALCSGASSQAVVTQESALTTSPGGTVILTCRSSTG...       IGLV2   None   \n",
       "2      MAWISLILSLLALSSGAISQAVVTQESALTTSPGETVTLTCRSSTG...       IGLV1   None   \n",
       "3      MSVPTQVLGLLLLWLTGARCDIQMTQSPASLSASVGETVTITCRAS...   IGKV12-44   None   \n",
       "4      MESQTQVFVYMLLWLSGVDGDIVMTQSQKFMSTSVGDRVSVTCKAS...    IGKV6-15   None   \n",
       "...                                                  ...         ...    ...   \n",
       "17678  MAWTSLILSLLALCSGASSQAVVTQESALTTSPGGTVILTCRSSTG...       IGLV2   None   \n",
       "17679  MGWSCIILFLVATATGVHSQVQLQQPGSELVRPGASVKLSCKASGY...    IGHV1-55   None   \n",
       "17680  MESQTQVFVYMLLWLSGVDGDIVMTQSQKFMSTSVGDRVSVTCKAS...    IGKV6-15   None   \n",
       "17681  MRVLAELLGLLLFCFLGVRCDIQMNQSPSSLSASLGDTITITCHAS...  IGKV15-103   None   \n",
       "17682  MAWISLILSLLALSSGAISQAVVTQESALTTSPGETVTLTCRSSTG...       IGLV1   None   \n",
       "\n",
       "      j_call c_call   clonotype_id           cdr3  frequency chain  \n",
       "0      IGKJ1   IGKC     clonotype1    CQQGNTLPWTF         89   IGK  \n",
       "1      IGLJ2  IGLC2     clonotype2    CALWYSTHYVF         82   IGL  \n",
       "2      IGLJ1  IGLC1     clonotype3    CALWYSNHWVF         71   IGL  \n",
       "3      IGKJ2   IGKC     clonotype4    CQHHYGTPYTF         62   IGK  \n",
       "4      IGKJ5   IGKC     clonotype5    CQQYNSYPLTF         62   IGK  \n",
       "...      ...    ...            ...            ...        ...   ...  \n",
       "17678  IGLJ2  IGLC2  clonotype9620    CALWYSTHFVF          1   IGL  \n",
       "17679  IGHJ3   IGHM  clonotype9621  CTRGGLRRGFAYW          1   IGH  \n",
       "17680  IGKJ2   IGKC  clonotype9621    CQQYNSYPYTF          1   IGK  \n",
       "17681  IGKJ2   IGKC  clonotype9622    CQQGQSYPYTF          1   IGK  \n",
       "17682  IGLJ1   None  clonotype9622    CALWYSNHWVF          1   IGL  \n",
       "\n",
       "[17683 rows x 12 columns]"
      ]
     },
     "execution_count": 336,
     "metadata": {},
     "output_type": "execute_result"
    }
   ],
   "source": [
    "df_merge_f_new"
   ]
  },
  {
   "cell_type": "code",
   "execution_count": 345,
   "id": "foster-modification",
   "metadata": {},
   "outputs": [
    {
     "data": {
      "text/html": [
       "<div>\n",
       "<style scoped>\n",
       "    .dataframe tbody tr th:only-of-type {\n",
       "        vertical-align: middle;\n",
       "    }\n",
       "\n",
       "    .dataframe tbody tr th {\n",
       "        vertical-align: top;\n",
       "    }\n",
       "\n",
       "    .dataframe thead th {\n",
       "        text-align: right;\n",
       "    }\n",
       "</style>\n",
       "<table border=\"1\" class=\"dataframe\">\n",
       "  <thead>\n",
       "    <tr style=\"text-align: right;\">\n",
       "      <th></th>\n",
       "      <th>cell_id</th>\n",
       "      <th>sequence_id</th>\n",
       "      <th>sequence</th>\n",
       "      <th>sequence_aa</th>\n",
       "      <th>v_call</th>\n",
       "      <th>d_call</th>\n",
       "      <th>j_call</th>\n",
       "      <th>c_call</th>\n",
       "      <th>clonotype_id</th>\n",
       "      <th>cdr3</th>\n",
       "      <th>frequency</th>\n",
       "      <th>chain</th>\n",
       "    </tr>\n",
       "  </thead>\n",
       "  <tbody>\n",
       "    <tr>\n",
       "      <th>512</th>\n",
       "      <td>AACCGCGCACATCTTT-1</td>\n",
       "      <td>AACCGCGCACATCTTT-1_contig_2</td>\n",
       "      <td>GGGAGCCACACAAACTCAGGGAAAGCTCGAAGATGGTTTTCACACC...</td>\n",
       "      <td>MVFTPQILGLMLFWISASRGDIVLTQSPATLSVTPGDSVSLSCRAS...</td>\n",
       "      <td>IGKV5-43</td>\n",
       "      <td>None</td>\n",
       "      <td>IGKJ5</td>\n",
       "      <td>IGKC</td>\n",
       "      <td>clonotype455</td>\n",
       "      <td>CQQSNSWPLTF</td>\n",
       "      <td>2</td>\n",
       "      <td>IGK</td>\n",
       "    </tr>\n",
       "    <tr>\n",
       "      <th>1263</th>\n",
       "      <td>AAACCTGCATAGGATA-1</td>\n",
       "      <td>AAACCTGCATAGGATA-1_contig_3</td>\n",
       "      <td>GGCTACAGATGCTAATACGTAGTCATCACGTTGAGACCTACATGTT...</td>\n",
       "      <td>MEWPCIFLFLLSVTEGVHSQVQLQQSGAELVRPGSSVKISCKASGY...</td>\n",
       "      <td>IGHV1-80</td>\n",
       "      <td>IGHD1-1</td>\n",
       "      <td>IGHJ2</td>\n",
       "      <td>IGHM</td>\n",
       "      <td>clonotype854</td>\n",
       "      <td>CARSYYYGSSSDYW</td>\n",
       "      <td>1</td>\n",
       "      <td>IGH</td>\n",
       "    </tr>\n",
       "    <tr>\n",
       "      <th>2766</th>\n",
       "      <td>AAACGGGCAGTCGTGC-1</td>\n",
       "      <td>AAACGGGCAGTCGTGC-1_contig_2</td>\n",
       "      <td>CTGGAATTGATTCCCAGTTCCTCACGTTCAGTGATGAGCACTGAAC...</td>\n",
       "      <td>MSTEHRHLTMNFGLRLIFLVLTLKGVKCEVQLVESGGGLVKPGGSL...</td>\n",
       "      <td>IGHV5-9-1</td>\n",
       "      <td>None</td>\n",
       "      <td>IGHJ3</td>\n",
       "      <td>None</td>\n",
       "      <td>clonotype1625</td>\n",
       "      <td>CARRGGYGAWFAYW</td>\n",
       "      <td>1</td>\n",
       "      <td>IGH</td>\n",
       "    </tr>\n",
       "    <tr>\n",
       "      <th>4761</th>\n",
       "      <td>AAAGATGTCGCATGGC-1</td>\n",
       "      <td>AAAGATGTCGCATGGC-1_contig_1</td>\n",
       "      <td>TCTAGAAAAAAAATTTTTTTTTTTATGATACGGCGAACACCGAGAT...</td>\n",
       "      <td>MGWSSIILFLVATASGVHSQVQLQQPGSELVRPGASVKLSCKASGY...</td>\n",
       "      <td>IGHV1-55</td>\n",
       "      <td>None</td>\n",
       "      <td>IGHJ2</td>\n",
       "      <td>IGHD</td>\n",
       "      <td>clonotype2647</td>\n",
       "      <td>CTRGHYYAYFDYW</td>\n",
       "      <td>1</td>\n",
       "      <td>IGH</td>\n",
       "    </tr>\n",
       "    <tr>\n",
       "      <th>4838</th>\n",
       "      <td>AAAGATGTCTCCAACC-1</td>\n",
       "      <td>AAAGATGTCTCCAACC-1_contig_2</td>\n",
       "      <td>ACACTCGTCGGCAGCGTCAGATGTGTATAAGAGACAGTTCCATTTA...</td>\n",
       "      <td>MNLGLSFIFLALILKGVQCEVQLVESGGGLVQPGGSLKLSCAASGF...</td>\n",
       "      <td>IGHV5-6</td>\n",
       "      <td>None</td>\n",
       "      <td>IGHJ4</td>\n",
       "      <td>None</td>\n",
       "      <td>clonotype2687</td>\n",
       "      <td>CARVYWYYAMDYW</td>\n",
       "      <td>1</td>\n",
       "      <td>IGH</td>\n",
       "    </tr>\n",
       "    <tr>\n",
       "      <th>5730</th>\n",
       "      <td>AAAGCAAGTCGATTGT-1</td>\n",
       "      <td>AAAGCAAGTCGATTGT-1_contig_2</td>\n",
       "      <td>TGACCACTCGTAGCCGCATGCTGAGGCTACAGTCTCAAGCACGTGG...</td>\n",
       "      <td>MAVLGLLFCLVTFPSCVLSQVQLKQSGPGLVQPSQSLSITCTVSGF...</td>\n",
       "      <td>IGHV2-2</td>\n",
       "      <td>IGHD1-1</td>\n",
       "      <td>IGHJ3</td>\n",
       "      <td>IGHD</td>\n",
       "      <td>clonotype3149</td>\n",
       "      <td>CASYYYGSSYVDAYW</td>\n",
       "      <td>1</td>\n",
       "      <td>IGH</td>\n",
       "    </tr>\n",
       "    <tr>\n",
       "      <th>6305</th>\n",
       "      <td>AAAGTAGAGAGCTATA-1</td>\n",
       "      <td>AAAGTAGAGAGCTATA-1_contig_2</td>\n",
       "      <td>CAACATGGAGTGGGAACTGGGCTTAATTTTCATTTTTGCTCTTTTA...</td>\n",
       "      <td>MEWELGLIFIFALLKDVQCEVQLLETGGGLVQPGGSRGLSCEGSGF...</td>\n",
       "      <td>IGHV11-2</td>\n",
       "      <td>None</td>\n",
       "      <td>IGHJ1</td>\n",
       "      <td>IGHM</td>\n",
       "      <td>clonotype3448</td>\n",
       "      <td>CMRFGYDLYFDVL</td>\n",
       "      <td>1</td>\n",
       "      <td>IGH</td>\n",
       "    </tr>\n",
       "    <tr>\n",
       "      <th>6720</th>\n",
       "      <td>AAAGTAGCAGATCGGA-1</td>\n",
       "      <td>AAAGTAGCAGATCGGA-1_contig_1</td>\n",
       "      <td>CACAGTCACTGAAAACATTGACTCTAATCATGGAATGTAACTGGAT...</td>\n",
       "      <td>MECNWILPFILSVTSGVYSEVQLQQSGTVLARPGASVKMSCKASGY...</td>\n",
       "      <td>IGHV1-5</td>\n",
       "      <td>None</td>\n",
       "      <td>IGHJ3</td>\n",
       "      <td>None</td>\n",
       "      <td>clonotype3662</td>\n",
       "      <td>CTRRGYAWFAYW</td>\n",
       "      <td>1</td>\n",
       "      <td>IGH</td>\n",
       "    </tr>\n",
       "    <tr>\n",
       "      <th>7320</th>\n",
       "      <td>AAAGTAGTCCGGCACA-1</td>\n",
       "      <td>AAAGTAGTCCGGCACA-1_contig_2</td>\n",
       "      <td>ACACTCGTCGGCAGCGTCAGATGTGTATAAGAGACAGGCCATGCAC...</td>\n",
       "      <td>MGGIWIFLFLLSGTAGAHSEIQLQQTGPELVKPGASVKISCKASGY...</td>\n",
       "      <td>IGHV1-39</td>\n",
       "      <td>None</td>\n",
       "      <td>IGHJ3</td>\n",
       "      <td>IGHD</td>\n",
       "      <td>clonotype3973</td>\n",
       "      <td>CARRNGKAWFAYW</td>\n",
       "      <td>1</td>\n",
       "      <td>IGH</td>\n",
       "    </tr>\n",
       "    <tr>\n",
       "      <th>7528</th>\n",
       "      <td>AAATGCCAGACCTTTG-1</td>\n",
       "      <td>AAATGCCAGACCTTTG-1_contig_1</td>\n",
       "      <td>ACACTCGTCGGCAGCGTCAGATGTGTATAAGAGACAGCCGATCGTA...</td>\n",
       "      <td>MDFQVQIFSFLLMSASVIMSRGQIVLTQSPALMSASPGEKVTMTCS...</td>\n",
       "      <td>IGKV4-68</td>\n",
       "      <td>None</td>\n",
       "      <td>IGKJ2</td>\n",
       "      <td>None</td>\n",
       "      <td>clonotype4080</td>\n",
       "      <td>CQQWSSNPPMYTF</td>\n",
       "      <td>1</td>\n",
       "      <td>IGK</td>\n",
       "    </tr>\n",
       "    <tr>\n",
       "      <th>7801</th>\n",
       "      <td>AAATGCCCAACACGCC-1</td>\n",
       "      <td>AAATGCCCAACACGCC-1_contig_1</td>\n",
       "      <td>TCTCGGTTGACTAGGAGTCAGCATTAACGCTGCGCGTTAGTGACAA...</td>\n",
       "      <td>MAWTPLFFFFVLHCSGSFSQLVLTQSSSASFSLGASAKLTCTLSSQ...</td>\n",
       "      <td>IGLV3</td>\n",
       "      <td>None</td>\n",
       "      <td>IGLJ2</td>\n",
       "      <td>IGLC2</td>\n",
       "      <td>clonotype4219</td>\n",
       "      <td>CGVGDTIKEQFVYVF</td>\n",
       "      <td>1</td>\n",
       "      <td>IGL</td>\n",
       "    </tr>\n",
       "    <tr>\n",
       "      <th>8514</th>\n",
       "      <td>AAATGCCTCGAGGTAG-1</td>\n",
       "      <td>AAATGCCTCGAGGTAG-1_contig_2</td>\n",
       "      <td>CATGGGGAATATTGAAAATAATAGACTTGGTTTGTGAATTATGGCC...</td>\n",
       "      <td>MAWTSLILSLLALSSGAISQAVVTQESALTTSPGETVTLTCRSSTG...</td>\n",
       "      <td>IGLV1</td>\n",
       "      <td>None</td>\n",
       "      <td>IGLJ1</td>\n",
       "      <td>IGLC1</td>\n",
       "      <td>clonotype4592</td>\n",
       "      <td>CALWYSNHWVF</td>\n",
       "      <td>1</td>\n",
       "      <td>IGL</td>\n",
       "    </tr>\n",
       "    <tr>\n",
       "      <th>8751</th>\n",
       "      <td>AACACGTAGCGTGAGT-1</td>\n",
       "      <td>AACACGTAGCGTGAGT-1_contig_1</td>\n",
       "      <td>ACTGATCACTCTCCTATGTTCATTTCCTCAAAATGATGAGTCCTGC...</td>\n",
       "      <td>MMSPAQFLFLLVLWIRETNGDVVMTQTPLTLSVTIGQPASISCKSS...</td>\n",
       "      <td>IGKV1-135</td>\n",
       "      <td>None</td>\n",
       "      <td>IGKJ5</td>\n",
       "      <td>None</td>\n",
       "      <td>clonotype4715</td>\n",
       "      <td>CWQGTHFPLTF</td>\n",
       "      <td>1</td>\n",
       "      <td>IGK</td>\n",
       "    </tr>\n",
       "    <tr>\n",
       "      <th>8941</th>\n",
       "      <td>AACACGTCAAGGTGTG-1</td>\n",
       "      <td>AACACGTCAAGGTGTG-1_contig_2</td>\n",
       "      <td>ACGTGGATTGTGAAGAAGATCGGAAGAGCGTCGTGTAGGAGCAAGT...</td>\n",
       "      <td>MSVLTQVLALLLLWLTGARCDIQMTQSPASLSASVGETVTITCRAS...</td>\n",
       "      <td>IGKV12-41</td>\n",
       "      <td>None</td>\n",
       "      <td>IGKJ2</td>\n",
       "      <td>IGKC</td>\n",
       "      <td>clonotype4817</td>\n",
       "      <td>CQHFWSTPYTF</td>\n",
       "      <td>1</td>\n",
       "      <td>IGK</td>\n",
       "    </tr>\n",
       "    <tr>\n",
       "      <th>9344</th>\n",
       "      <td>AACACGTGTTACGCGC-1</td>\n",
       "      <td>AACACGTGTTACGCGC-1_contig_2</td>\n",
       "      <td>TGTATAAGAGACAGCTCCTTACTACTTGATGTCAGCTTCTGACTAC...</td>\n",
       "      <td>MEWTWVFLFLLSVTAGVHSQVQLQQSGAEMMKPGASVKISCKATGY...</td>\n",
       "      <td>IGHV1-9</td>\n",
       "      <td>None</td>\n",
       "      <td>IGHJ2</td>\n",
       "      <td>IGHD</td>\n",
       "      <td>clonotype5025</td>\n",
       "      <td>CARGLYDYDGDYW</td>\n",
       "      <td>1</td>\n",
       "      <td>IGH</td>\n",
       "    </tr>\n",
       "    <tr>\n",
       "      <th>10272</th>\n",
       "      <td>AACCATGGTTCCATGA-1</td>\n",
       "      <td>AACCATGGTTCCATGA-1_contig_2</td>\n",
       "      <td>ACACTCGTCGGCAGCGTCAGATGTGTATAAGAGACAGTGGGTACCA...</td>\n",
       "      <td>MNFGLRLIFLVLVLKGVLCDVKLVESGGGLVKPGGSLKLSCAASGF...</td>\n",
       "      <td>IGHV5-12</td>\n",
       "      <td>None</td>\n",
       "      <td>IGHJ2</td>\n",
       "      <td>IGHD</td>\n",
       "      <td>clonotype5514</td>\n",
       "      <td>CARITTVPDYW</td>\n",
       "      <td>1</td>\n",
       "      <td>IGH</td>\n",
       "    </tr>\n",
       "    <tr>\n",
       "      <th>10549</th>\n",
       "      <td>AACCATGTCTTTACGT-1</td>\n",
       "      <td>AACCATGTCTTTACGT-1_contig_1</td>\n",
       "      <td>CACACTGACTCTAACCATGGGATGGAGCTGGATCTTTCTCTTTCTC...</td>\n",
       "      <td>MGWSWIFLFLLSGTAGVLSEVQLQQSGPELVKPGASVKISCKTSGY...</td>\n",
       "      <td>IGHV1-26</td>\n",
       "      <td>None</td>\n",
       "      <td>IGHJ3</td>\n",
       "      <td>IGHD</td>\n",
       "      <td>clonotype5663</td>\n",
       "      <td>CARGLAYYRYDVIAYW</td>\n",
       "      <td>1</td>\n",
       "      <td>IGH</td>\n",
       "    </tr>\n",
       "    <tr>\n",
       "      <th>11602</th>\n",
       "      <td>AACGTTGAGTGTACTC-1</td>\n",
       "      <td>AACGTTGAGTGTACTC-1_contig_1</td>\n",
       "      <td>GCAACATTGACTAGGAGTCAGCATTGACAGACCGCGTTAGTGACAA...</td>\n",
       "      <td>MSVLTQVLALLLLWLTGARCDIQMTQSPASLSASVGETVTITCRAS...</td>\n",
       "      <td>IGKV12-41</td>\n",
       "      <td>None</td>\n",
       "      <td>IGKJ5</td>\n",
       "      <td>IGKC</td>\n",
       "      <td>clonotype6217</td>\n",
       "      <td>CQHFWSTPPTF</td>\n",
       "      <td>1</td>\n",
       "      <td>IGK</td>\n",
       "    </tr>\n",
       "    <tr>\n",
       "      <th>11752</th>\n",
       "      <td>AACGTTGCAGGAATCG-1</td>\n",
       "      <td>AACGTTGCAGGAATCG-1_contig_1</td>\n",
       "      <td>AATCAGCATCACACTGAAAACACACAGACATGAGTGTGCCCACTCA...</td>\n",
       "      <td>MSVPTQVLGLLLLWLTGARCDIQMTQSPASLSASVGETVTITCRAS...</td>\n",
       "      <td>IGKV12-44</td>\n",
       "      <td>None</td>\n",
       "      <td>IGKJ2</td>\n",
       "      <td>IGKC</td>\n",
       "      <td>clonotype6298</td>\n",
       "      <td>CQHHYGTPYTF</td>\n",
       "      <td>1</td>\n",
       "      <td>IGK</td>\n",
       "    </tr>\n",
       "    <tr>\n",
       "      <th>11962</th>\n",
       "      <td>AACGTTGGTGGCTCCA-1</td>\n",
       "      <td>AACGTTGGTGGCTCCA-1_contig_2</td>\n",
       "      <td>ACACTCGTCGGCAGCGTCAGATGTGTATAAGAGACAGTGGGGATCA...</td>\n",
       "      <td>MGWSCIIFFLVATATGVHSQVQLQQSGPEVVRPGVSVKISCKGSGY...</td>\n",
       "      <td>IGHV1-53</td>\n",
       "      <td>None</td>\n",
       "      <td>IGHJ4</td>\n",
       "      <td>None</td>\n",
       "      <td>clonotype6412</td>\n",
       "      <td>CARYGNYPVYAMDYW</td>\n",
       "      <td>1</td>\n",
       "      <td>IGH</td>\n",
       "    </tr>\n",
       "    <tr>\n",
       "      <th>11994</th>\n",
       "      <td>AACGTTGGTTATCGGT-1</td>\n",
       "      <td>AACGTTGGTTATCGGT-1_contig_2</td>\n",
       "      <td>ACACTCGTCGGCAGCGTCAGATGTGTATAAGAGACAGACGATGTCA...</td>\n",
       "      <td>MGGIWIFLFLLSGTAGAHSEIQLQQTGPELVKPGASVKISCKASGY...</td>\n",
       "      <td>IGHV1-39</td>\n",
       "      <td>None</td>\n",
       "      <td>IGHJ3</td>\n",
       "      <td>IGHD</td>\n",
       "      <td>clonotype6429</td>\n",
       "      <td>CARSSYDGYLSWFAYW</td>\n",
       "      <td>1</td>\n",
       "      <td>IGH</td>\n",
       "    </tr>\n",
       "    <tr>\n",
       "      <th>12726</th>\n",
       "      <td>AACTCAGGTTCCGGCA-1</td>\n",
       "      <td>AACTCAGGTTCCGGCA-1_contig_2</td>\n",
       "      <td>ACACTCGTCGGCAGCGTCAGATGTGTATAAGAGACAGGTGAGCTTA...</td>\n",
       "      <td>MEWTWVFLFLLSVTAGVHSQVQLQQSGAELMKPGASVKISCKATGY...</td>\n",
       "      <td>IGHV1-9</td>\n",
       "      <td>None</td>\n",
       "      <td>IGHJ3</td>\n",
       "      <td>IGHD</td>\n",
       "      <td>clonotype6826</td>\n",
       "      <td>CARWAYYGNFFAYW</td>\n",
       "      <td>1</td>\n",
       "      <td>IGH</td>\n",
       "    </tr>\n",
       "    <tr>\n",
       "      <th>12829</th>\n",
       "      <td>AACTCAGTCCTTGGTC-1</td>\n",
       "      <td>AACTCAGTCCTTGGTC-1_contig_1</td>\n",
       "      <td>ACACTCGTCGGCAGCGTCAGATGTGTATAAGAGACAGCGCCTAAGT...</td>\n",
       "      <td>MGGIWIFLFLLSGTAGAHSEIQLQQTGPELVKPGASVKISCKASGY...</td>\n",
       "      <td>IGHV1-39</td>\n",
       "      <td>None</td>\n",
       "      <td>IGHJ3</td>\n",
       "      <td>IGHM</td>\n",
       "      <td>clonotype6880</td>\n",
       "      <td>CARWGLRSFADW</td>\n",
       "      <td>1</td>\n",
       "      <td>IGH</td>\n",
       "    </tr>\n",
       "    <tr>\n",
       "      <th>13180</th>\n",
       "      <td>AACTCCCCAGACAAAT-1</td>\n",
       "      <td>AACTCCCCAGACAAAT-1_contig_2</td>\n",
       "      <td>GCTGACCAATATTGAAAAGAATAGACCTGGTTTGTGAATTATGGCC...</td>\n",
       "      <td>MAWISLILSLLALSSGAISQAVVTQESALTTSPGETVTLTCRSSTG...</td>\n",
       "      <td>IGLV1</td>\n",
       "      <td>None</td>\n",
       "      <td>IGLJ1</td>\n",
       "      <td>IGLC1</td>\n",
       "      <td>clonotype7071</td>\n",
       "      <td>CALWYSNHLVF</td>\n",
       "      <td>1</td>\n",
       "      <td>IGL</td>\n",
       "    </tr>\n",
       "    <tr>\n",
       "      <th>13972</th>\n",
       "      <td>AACTCTTTCAACACGT-1</td>\n",
       "      <td>AACTCTTTCAACACGT-1_contig_1</td>\n",
       "      <td>GATCAGTAACCTCTTCACAGTCACTGAAAACATTGACTCTAATCAT...</td>\n",
       "      <td>MECNWILPFILSVTSGVYSEVQLQQSGTVLARPGASVKMSCKASGY...</td>\n",
       "      <td>IGHV1-5</td>\n",
       "      <td>None</td>\n",
       "      <td>IGHJ3</td>\n",
       "      <td>None</td>\n",
       "      <td>clonotype7499</td>\n",
       "      <td>CTTYYRVLFAYW</td>\n",
       "      <td>1</td>\n",
       "      <td>IGH</td>\n",
       "    </tr>\n",
       "    <tr>\n",
       "      <th>14347</th>\n",
       "      <td>AACTGGTCATAACCTG-1</td>\n",
       "      <td>AACTGGTCATAACCTG-1_contig_2</td>\n",
       "      <td>TTTCCAGTCGGACTAGGAGTCAGCATTAGTCTTGCGCGTTAGTGAC...</td>\n",
       "      <td>MDRLTSSFLLLIVPAYVLSQVTLKESGPGILKPSQTLSLTCSFSGF...</td>\n",
       "      <td>IGHV8-12</td>\n",
       "      <td>None</td>\n",
       "      <td>IGHJ3</td>\n",
       "      <td>IGHD</td>\n",
       "      <td>clonotype7698</td>\n",
       "      <td>CARKDYDPAWFAYW</td>\n",
       "      <td>1</td>\n",
       "      <td>IGH</td>\n",
       "    </tr>\n",
       "    <tr>\n",
       "      <th>14916</th>\n",
       "      <td>AACTTTCGTTGTCTTT-1</td>\n",
       "      <td>AACTTTCGTTGTCTTT-1_contig_1</td>\n",
       "      <td>ACACTCGTCGGCAGCGTCAGATGTGTATAAGAGACAGGGTCGCACG...</td>\n",
       "      <td>MGWSCIILFLVSTATGVHSQVQLQQSGPQLVRPGASVKISCKASGY...</td>\n",
       "      <td>IGHV1-69</td>\n",
       "      <td>None</td>\n",
       "      <td>IGHJ3</td>\n",
       "      <td>IGHD</td>\n",
       "      <td>clonotype8005</td>\n",
       "      <td>CARSEDLLSSYW</td>\n",
       "      <td>1</td>\n",
       "      <td>IGH</td>\n",
       "    </tr>\n",
       "    <tr>\n",
       "      <th>15841</th>\n",
       "      <td>AAGGAGCGTAGAAGGA-1</td>\n",
       "      <td>AAGGAGCGTAGAAGGA-1_contig_1</td>\n",
       "      <td>ACACTCGTCGGCAGCGTCAGATGTGTATAAGAGACAGCACGGTGCC...</td>\n",
       "      <td>MDFQVQIFSFLLISASVIMSRGENVLTQSPAIMSASPGEKVTMTCS...</td>\n",
       "      <td>IGKV4-63</td>\n",
       "      <td>None</td>\n",
       "      <td>IGKJ5</td>\n",
       "      <td>IGKC</td>\n",
       "      <td>clonotype8522</td>\n",
       "      <td>CFQGSGYPLTF</td>\n",
       "      <td>1</td>\n",
       "      <td>IGK</td>\n",
       "    </tr>\n",
       "    <tr>\n",
       "      <th>16705</th>\n",
       "      <td>AATCGGTCACAGCGTC-1</td>\n",
       "      <td>AATCGGTCACAGCGTC-1_contig_2</td>\n",
       "      <td>GAGCACACAGGAACTCACCATGGGATGGAGCTATATCATCCTCTTT...</td>\n",
       "      <td>MGWSYIILFLVATATGVHSQVQLQQSGAELVKPGASVKLSCKASGY...</td>\n",
       "      <td>IGHV1-53</td>\n",
       "      <td>None</td>\n",
       "      <td>IGHJ3</td>\n",
       "      <td>IGHM</td>\n",
       "      <td>clonotype9005</td>\n",
       "      <td>CARSGGNYLSWFAYW</td>\n",
       "      <td>1</td>\n",
       "      <td>IGH</td>\n",
       "    </tr>\n",
       "    <tr>\n",
       "      <th>16768</th>\n",
       "      <td>AATCGGTTCGCATGAT-1</td>\n",
       "      <td>AATCGGTTCGCATGAT-1_contig_2</td>\n",
       "      <td>ACACTCGTCGGCAGCGTCAGATGTGTATAAGAGACAGGCAAGTAGT...</td>\n",
       "      <td>MGWSCIFLFLLSVTVGVFSEVQLQQSGPELVKPGASVKISCKASGY...</td>\n",
       "      <td>IGHV1-37</td>\n",
       "      <td>None</td>\n",
       "      <td>IGHJ4</td>\n",
       "      <td>IGHD</td>\n",
       "      <td>clonotype9041</td>\n",
       "      <td>CGKGYYGSSLYAMDYW</td>\n",
       "      <td>1</td>\n",
       "      <td>IGH</td>\n",
       "    </tr>\n",
       "    <tr>\n",
       "      <th>17061</th>\n",
       "      <td>ACACCGGTCTTGCATT-1</td>\n",
       "      <td>ACACCGGTCTTGCATT-1_contig_1</td>\n",
       "      <td>TGTGTATAAGAGACAGCTCGCATAATAGTGACTCGTAGCCGCATGC...</td>\n",
       "      <td>MGWSCIIFFLVATATGVHSQVQLQQSGPELVRPGVSVKISCKGSGY...</td>\n",
       "      <td>IGHV1-74</td>\n",
       "      <td>None</td>\n",
       "      <td>IGHJ4</td>\n",
       "      <td>IGHD</td>\n",
       "      <td>clonotype9222</td>\n",
       "      <td>CAIRPNLLLSYYAMDYW</td>\n",
       "      <td>1</td>\n",
       "      <td>IGH</td>\n",
       "    </tr>\n",
       "    <tr>\n",
       "      <th>17415</th>\n",
       "      <td>ACCCACTAGCTAGTGG-1</td>\n",
       "      <td>ACCCACTAGCTAGTGG-1_contig_1</td>\n",
       "      <td>ACACTCGTCGGCAGCGTCAGATGTGTATAAGAGACAGCTAACATCT...</td>\n",
       "      <td>MNRLTSSLLLLIVPAYVLSQVTLKESGPGILQPSQTLSLTCSFSGF...</td>\n",
       "      <td>IGHV8-12</td>\n",
       "      <td>None</td>\n",
       "      <td>IGHJ4</td>\n",
       "      <td>IGHD</td>\n",
       "      <td>clonotype9446</td>\n",
       "      <td>CARSLLRLRGAMDYW</td>\n",
       "      <td>1</td>\n",
       "      <td>IGH</td>\n",
       "    </tr>\n",
       "    <tr>\n",
       "      <th>17433</th>\n",
       "      <td>ACCCACTGTGCACGAA-1</td>\n",
       "      <td>ACCCACTGTGCACGAA-1_contig_1</td>\n",
       "      <td>AATAGACCTGGTTTGTGAATTATGGCCTGGATTTCACTTATACTCT...</td>\n",
       "      <td>MAWISLILSLLALSSGAISQAVVTQESALTTSPGETVTLTCRSSTG...</td>\n",
       "      <td>IGLV1</td>\n",
       "      <td>None</td>\n",
       "      <td>IGLJ1</td>\n",
       "      <td>IGLC1</td>\n",
       "      <td>clonotype9457</td>\n",
       "      <td>CALWYSYHWVF</td>\n",
       "      <td>1</td>\n",
       "      <td>IGL</td>\n",
       "    </tr>\n",
       "    <tr>\n",
       "      <th>17548</th>\n",
       "      <td>ACGCAGCTCTGCGTAA-1</td>\n",
       "      <td>ACGCAGCTCTGCGTAA-1_contig_2</td>\n",
       "      <td>CGCAGAGTACATGGGACATCTCTCTCATTAGAGGTTGATCTTTGAG...</td>\n",
       "      <td>MKVLSLLYLLTAIPGILSDVQLQESGPGLVKPSQSLSLTCSVTGYS...</td>\n",
       "      <td>IGHV3-6</td>\n",
       "      <td>None</td>\n",
       "      <td>IGHJ3</td>\n",
       "      <td>IGHD</td>\n",
       "      <td>clonotype9533</td>\n",
       "      <td>CASSYHPYW</td>\n",
       "      <td>1</td>\n",
       "      <td>IGH</td>\n",
       "    </tr>\n",
       "    <tr>\n",
       "      <th>17551</th>\n",
       "      <td>ACGCAGCTCTTTCCTC-1</td>\n",
       "      <td>ACGCAGCTCTTTCCTC-1_contig_1</td>\n",
       "      <td>GCTGACCAATATTGAAAAGAATAGACCTGGTTTGTGAATTATGGCC...</td>\n",
       "      <td>MAWISLILSLLALSSGAISQAVVTQESALTTSPGETVTLTCRSSTG...</td>\n",
       "      <td>IGLV1</td>\n",
       "      <td>None</td>\n",
       "      <td>IGLJ1</td>\n",
       "      <td>IGLC1</td>\n",
       "      <td>clonotype9534</td>\n",
       "      <td>CALWYSNHWVF</td>\n",
       "      <td>1</td>\n",
       "      <td>IGL</td>\n",
       "    </tr>\n",
       "    <tr>\n",
       "      <th>17575</th>\n",
       "      <td>ACGGAGACATTATCTC-1</td>\n",
       "      <td>ACGGAGACATTATCTC-1_contig_1</td>\n",
       "      <td>GTCGTGTAGGAGCAAGTATGTACCGTTCCAAGCAGTGGTATCAACG...</td>\n",
       "      <td>MRVLILLWLFTAFPGILSDVQLQESGPGLVKPSQSLSLTCTVTGYS...</td>\n",
       "      <td>IGHV3-1</td>\n",
       "      <td>None</td>\n",
       "      <td>IGHJ4</td>\n",
       "      <td>IGHD</td>\n",
       "      <td>clonotype9550</td>\n",
       "      <td>CAKYDYGCAMDYW</td>\n",
       "      <td>1</td>\n",
       "      <td>IGH</td>\n",
       "    </tr>\n",
       "  </tbody>\n",
       "</table>\n",
       "</div>"
      ],
      "text/plain": [
       "                  cell_id                  sequence_id  \\\n",
       "512    AACCGCGCACATCTTT-1  AACCGCGCACATCTTT-1_contig_2   \n",
       "1263   AAACCTGCATAGGATA-1  AAACCTGCATAGGATA-1_contig_3   \n",
       "2766   AAACGGGCAGTCGTGC-1  AAACGGGCAGTCGTGC-1_contig_2   \n",
       "4761   AAAGATGTCGCATGGC-1  AAAGATGTCGCATGGC-1_contig_1   \n",
       "4838   AAAGATGTCTCCAACC-1  AAAGATGTCTCCAACC-1_contig_2   \n",
       "5730   AAAGCAAGTCGATTGT-1  AAAGCAAGTCGATTGT-1_contig_2   \n",
       "6305   AAAGTAGAGAGCTATA-1  AAAGTAGAGAGCTATA-1_contig_2   \n",
       "6720   AAAGTAGCAGATCGGA-1  AAAGTAGCAGATCGGA-1_contig_1   \n",
       "7320   AAAGTAGTCCGGCACA-1  AAAGTAGTCCGGCACA-1_contig_2   \n",
       "7528   AAATGCCAGACCTTTG-1  AAATGCCAGACCTTTG-1_contig_1   \n",
       "7801   AAATGCCCAACACGCC-1  AAATGCCCAACACGCC-1_contig_1   \n",
       "8514   AAATGCCTCGAGGTAG-1  AAATGCCTCGAGGTAG-1_contig_2   \n",
       "8751   AACACGTAGCGTGAGT-1  AACACGTAGCGTGAGT-1_contig_1   \n",
       "8941   AACACGTCAAGGTGTG-1  AACACGTCAAGGTGTG-1_contig_2   \n",
       "9344   AACACGTGTTACGCGC-1  AACACGTGTTACGCGC-1_contig_2   \n",
       "10272  AACCATGGTTCCATGA-1  AACCATGGTTCCATGA-1_contig_2   \n",
       "10549  AACCATGTCTTTACGT-1  AACCATGTCTTTACGT-1_contig_1   \n",
       "11602  AACGTTGAGTGTACTC-1  AACGTTGAGTGTACTC-1_contig_1   \n",
       "11752  AACGTTGCAGGAATCG-1  AACGTTGCAGGAATCG-1_contig_1   \n",
       "11962  AACGTTGGTGGCTCCA-1  AACGTTGGTGGCTCCA-1_contig_2   \n",
       "11994  AACGTTGGTTATCGGT-1  AACGTTGGTTATCGGT-1_contig_2   \n",
       "12726  AACTCAGGTTCCGGCA-1  AACTCAGGTTCCGGCA-1_contig_2   \n",
       "12829  AACTCAGTCCTTGGTC-1  AACTCAGTCCTTGGTC-1_contig_1   \n",
       "13180  AACTCCCCAGACAAAT-1  AACTCCCCAGACAAAT-1_contig_2   \n",
       "13972  AACTCTTTCAACACGT-1  AACTCTTTCAACACGT-1_contig_1   \n",
       "14347  AACTGGTCATAACCTG-1  AACTGGTCATAACCTG-1_contig_2   \n",
       "14916  AACTTTCGTTGTCTTT-1  AACTTTCGTTGTCTTT-1_contig_1   \n",
       "15841  AAGGAGCGTAGAAGGA-1  AAGGAGCGTAGAAGGA-1_contig_1   \n",
       "16705  AATCGGTCACAGCGTC-1  AATCGGTCACAGCGTC-1_contig_2   \n",
       "16768  AATCGGTTCGCATGAT-1  AATCGGTTCGCATGAT-1_contig_2   \n",
       "17061  ACACCGGTCTTGCATT-1  ACACCGGTCTTGCATT-1_contig_1   \n",
       "17415  ACCCACTAGCTAGTGG-1  ACCCACTAGCTAGTGG-1_contig_1   \n",
       "17433  ACCCACTGTGCACGAA-1  ACCCACTGTGCACGAA-1_contig_1   \n",
       "17548  ACGCAGCTCTGCGTAA-1  ACGCAGCTCTGCGTAA-1_contig_2   \n",
       "17551  ACGCAGCTCTTTCCTC-1  ACGCAGCTCTTTCCTC-1_contig_1   \n",
       "17575  ACGGAGACATTATCTC-1  ACGGAGACATTATCTC-1_contig_1   \n",
       "\n",
       "                                                sequence  \\\n",
       "512    GGGAGCCACACAAACTCAGGGAAAGCTCGAAGATGGTTTTCACACC...   \n",
       "1263   GGCTACAGATGCTAATACGTAGTCATCACGTTGAGACCTACATGTT...   \n",
       "2766   CTGGAATTGATTCCCAGTTCCTCACGTTCAGTGATGAGCACTGAAC...   \n",
       "4761   TCTAGAAAAAAAATTTTTTTTTTTATGATACGGCGAACACCGAGAT...   \n",
       "4838   ACACTCGTCGGCAGCGTCAGATGTGTATAAGAGACAGTTCCATTTA...   \n",
       "5730   TGACCACTCGTAGCCGCATGCTGAGGCTACAGTCTCAAGCACGTGG...   \n",
       "6305   CAACATGGAGTGGGAACTGGGCTTAATTTTCATTTTTGCTCTTTTA...   \n",
       "6720   CACAGTCACTGAAAACATTGACTCTAATCATGGAATGTAACTGGAT...   \n",
       "7320   ACACTCGTCGGCAGCGTCAGATGTGTATAAGAGACAGGCCATGCAC...   \n",
       "7528   ACACTCGTCGGCAGCGTCAGATGTGTATAAGAGACAGCCGATCGTA...   \n",
       "7801   TCTCGGTTGACTAGGAGTCAGCATTAACGCTGCGCGTTAGTGACAA...   \n",
       "8514   CATGGGGAATATTGAAAATAATAGACTTGGTTTGTGAATTATGGCC...   \n",
       "8751   ACTGATCACTCTCCTATGTTCATTTCCTCAAAATGATGAGTCCTGC...   \n",
       "8941   ACGTGGATTGTGAAGAAGATCGGAAGAGCGTCGTGTAGGAGCAAGT...   \n",
       "9344   TGTATAAGAGACAGCTCCTTACTACTTGATGTCAGCTTCTGACTAC...   \n",
       "10272  ACACTCGTCGGCAGCGTCAGATGTGTATAAGAGACAGTGGGTACCA...   \n",
       "10549  CACACTGACTCTAACCATGGGATGGAGCTGGATCTTTCTCTTTCTC...   \n",
       "11602  GCAACATTGACTAGGAGTCAGCATTGACAGACCGCGTTAGTGACAA...   \n",
       "11752  AATCAGCATCACACTGAAAACACACAGACATGAGTGTGCCCACTCA...   \n",
       "11962  ACACTCGTCGGCAGCGTCAGATGTGTATAAGAGACAGTGGGGATCA...   \n",
       "11994  ACACTCGTCGGCAGCGTCAGATGTGTATAAGAGACAGACGATGTCA...   \n",
       "12726  ACACTCGTCGGCAGCGTCAGATGTGTATAAGAGACAGGTGAGCTTA...   \n",
       "12829  ACACTCGTCGGCAGCGTCAGATGTGTATAAGAGACAGCGCCTAAGT...   \n",
       "13180  GCTGACCAATATTGAAAAGAATAGACCTGGTTTGTGAATTATGGCC...   \n",
       "13972  GATCAGTAACCTCTTCACAGTCACTGAAAACATTGACTCTAATCAT...   \n",
       "14347  TTTCCAGTCGGACTAGGAGTCAGCATTAGTCTTGCGCGTTAGTGAC...   \n",
       "14916  ACACTCGTCGGCAGCGTCAGATGTGTATAAGAGACAGGGTCGCACG...   \n",
       "15841  ACACTCGTCGGCAGCGTCAGATGTGTATAAGAGACAGCACGGTGCC...   \n",
       "16705  GAGCACACAGGAACTCACCATGGGATGGAGCTATATCATCCTCTTT...   \n",
       "16768  ACACTCGTCGGCAGCGTCAGATGTGTATAAGAGACAGGCAAGTAGT...   \n",
       "17061  TGTGTATAAGAGACAGCTCGCATAATAGTGACTCGTAGCCGCATGC...   \n",
       "17415  ACACTCGTCGGCAGCGTCAGATGTGTATAAGAGACAGCTAACATCT...   \n",
       "17433  AATAGACCTGGTTTGTGAATTATGGCCTGGATTTCACTTATACTCT...   \n",
       "17548  CGCAGAGTACATGGGACATCTCTCTCATTAGAGGTTGATCTTTGAG...   \n",
       "17551  GCTGACCAATATTGAAAAGAATAGACCTGGTTTGTGAATTATGGCC...   \n",
       "17575  GTCGTGTAGGAGCAAGTATGTACCGTTCCAAGCAGTGGTATCAACG...   \n",
       "\n",
       "                                             sequence_aa     v_call   d_call  \\\n",
       "512    MVFTPQILGLMLFWISASRGDIVLTQSPATLSVTPGDSVSLSCRAS...   IGKV5-43     None   \n",
       "1263   MEWPCIFLFLLSVTEGVHSQVQLQQSGAELVRPGSSVKISCKASGY...   IGHV1-80  IGHD1-1   \n",
       "2766   MSTEHRHLTMNFGLRLIFLVLTLKGVKCEVQLVESGGGLVKPGGSL...  IGHV5-9-1     None   \n",
       "4761   MGWSSIILFLVATASGVHSQVQLQQPGSELVRPGASVKLSCKASGY...   IGHV1-55     None   \n",
       "4838   MNLGLSFIFLALILKGVQCEVQLVESGGGLVQPGGSLKLSCAASGF...    IGHV5-6     None   \n",
       "5730   MAVLGLLFCLVTFPSCVLSQVQLKQSGPGLVQPSQSLSITCTVSGF...    IGHV2-2  IGHD1-1   \n",
       "6305   MEWELGLIFIFALLKDVQCEVQLLETGGGLVQPGGSRGLSCEGSGF...   IGHV11-2     None   \n",
       "6720   MECNWILPFILSVTSGVYSEVQLQQSGTVLARPGASVKMSCKASGY...    IGHV1-5     None   \n",
       "7320   MGGIWIFLFLLSGTAGAHSEIQLQQTGPELVKPGASVKISCKASGY...   IGHV1-39     None   \n",
       "7528   MDFQVQIFSFLLMSASVIMSRGQIVLTQSPALMSASPGEKVTMTCS...   IGKV4-68     None   \n",
       "7801   MAWTPLFFFFVLHCSGSFSQLVLTQSSSASFSLGASAKLTCTLSSQ...      IGLV3     None   \n",
       "8514   MAWTSLILSLLALSSGAISQAVVTQESALTTSPGETVTLTCRSSTG...      IGLV1     None   \n",
       "8751   MMSPAQFLFLLVLWIRETNGDVVMTQTPLTLSVTIGQPASISCKSS...  IGKV1-135     None   \n",
       "8941   MSVLTQVLALLLLWLTGARCDIQMTQSPASLSASVGETVTITCRAS...  IGKV12-41     None   \n",
       "9344   MEWTWVFLFLLSVTAGVHSQVQLQQSGAEMMKPGASVKISCKATGY...    IGHV1-9     None   \n",
       "10272  MNFGLRLIFLVLVLKGVLCDVKLVESGGGLVKPGGSLKLSCAASGF...   IGHV5-12     None   \n",
       "10549  MGWSWIFLFLLSGTAGVLSEVQLQQSGPELVKPGASVKISCKTSGY...   IGHV1-26     None   \n",
       "11602  MSVLTQVLALLLLWLTGARCDIQMTQSPASLSASVGETVTITCRAS...  IGKV12-41     None   \n",
       "11752  MSVPTQVLGLLLLWLTGARCDIQMTQSPASLSASVGETVTITCRAS...  IGKV12-44     None   \n",
       "11962  MGWSCIIFFLVATATGVHSQVQLQQSGPEVVRPGVSVKISCKGSGY...   IGHV1-53     None   \n",
       "11994  MGGIWIFLFLLSGTAGAHSEIQLQQTGPELVKPGASVKISCKASGY...   IGHV1-39     None   \n",
       "12726  MEWTWVFLFLLSVTAGVHSQVQLQQSGAELMKPGASVKISCKATGY...    IGHV1-9     None   \n",
       "12829  MGGIWIFLFLLSGTAGAHSEIQLQQTGPELVKPGASVKISCKASGY...   IGHV1-39     None   \n",
       "13180  MAWISLILSLLALSSGAISQAVVTQESALTTSPGETVTLTCRSSTG...      IGLV1     None   \n",
       "13972  MECNWILPFILSVTSGVYSEVQLQQSGTVLARPGASVKMSCKASGY...    IGHV1-5     None   \n",
       "14347  MDRLTSSFLLLIVPAYVLSQVTLKESGPGILKPSQTLSLTCSFSGF...   IGHV8-12     None   \n",
       "14916  MGWSCIILFLVSTATGVHSQVQLQQSGPQLVRPGASVKISCKASGY...   IGHV1-69     None   \n",
       "15841  MDFQVQIFSFLLISASVIMSRGENVLTQSPAIMSASPGEKVTMTCS...   IGKV4-63     None   \n",
       "16705  MGWSYIILFLVATATGVHSQVQLQQSGAELVKPGASVKLSCKASGY...   IGHV1-53     None   \n",
       "16768  MGWSCIFLFLLSVTVGVFSEVQLQQSGPELVKPGASVKISCKASGY...   IGHV1-37     None   \n",
       "17061  MGWSCIIFFLVATATGVHSQVQLQQSGPELVRPGVSVKISCKGSGY...   IGHV1-74     None   \n",
       "17415  MNRLTSSLLLLIVPAYVLSQVTLKESGPGILQPSQTLSLTCSFSGF...   IGHV8-12     None   \n",
       "17433  MAWISLILSLLALSSGAISQAVVTQESALTTSPGETVTLTCRSSTG...      IGLV1     None   \n",
       "17548  MKVLSLLYLLTAIPGILSDVQLQESGPGLVKPSQSLSLTCSVTGYS...    IGHV3-6     None   \n",
       "17551  MAWISLILSLLALSSGAISQAVVTQESALTTSPGETVTLTCRSSTG...      IGLV1     None   \n",
       "17575  MRVLILLWLFTAFPGILSDVQLQESGPGLVKPSQSLSLTCTVTGYS...    IGHV3-1     None   \n",
       "\n",
       "      j_call c_call   clonotype_id               cdr3  frequency chain  \n",
       "512    IGKJ5   IGKC   clonotype455        CQQSNSWPLTF          2   IGK  \n",
       "1263   IGHJ2   IGHM   clonotype854     CARSYYYGSSSDYW          1   IGH  \n",
       "2766   IGHJ3   None  clonotype1625     CARRGGYGAWFAYW          1   IGH  \n",
       "4761   IGHJ2   IGHD  clonotype2647      CTRGHYYAYFDYW          1   IGH  \n",
       "4838   IGHJ4   None  clonotype2687      CARVYWYYAMDYW          1   IGH  \n",
       "5730   IGHJ3   IGHD  clonotype3149    CASYYYGSSYVDAYW          1   IGH  \n",
       "6305   IGHJ1   IGHM  clonotype3448      CMRFGYDLYFDVL          1   IGH  \n",
       "6720   IGHJ3   None  clonotype3662       CTRRGYAWFAYW          1   IGH  \n",
       "7320   IGHJ3   IGHD  clonotype3973      CARRNGKAWFAYW          1   IGH  \n",
       "7528   IGKJ2   None  clonotype4080      CQQWSSNPPMYTF          1   IGK  \n",
       "7801   IGLJ2  IGLC2  clonotype4219    CGVGDTIKEQFVYVF          1   IGL  \n",
       "8514   IGLJ1  IGLC1  clonotype4592        CALWYSNHWVF          1   IGL  \n",
       "8751   IGKJ5   None  clonotype4715        CWQGTHFPLTF          1   IGK  \n",
       "8941   IGKJ2   IGKC  clonotype4817        CQHFWSTPYTF          1   IGK  \n",
       "9344   IGHJ2   IGHD  clonotype5025      CARGLYDYDGDYW          1   IGH  \n",
       "10272  IGHJ2   IGHD  clonotype5514        CARITTVPDYW          1   IGH  \n",
       "10549  IGHJ3   IGHD  clonotype5663   CARGLAYYRYDVIAYW          1   IGH  \n",
       "11602  IGKJ5   IGKC  clonotype6217        CQHFWSTPPTF          1   IGK  \n",
       "11752  IGKJ2   IGKC  clonotype6298        CQHHYGTPYTF          1   IGK  \n",
       "11962  IGHJ4   None  clonotype6412    CARYGNYPVYAMDYW          1   IGH  \n",
       "11994  IGHJ3   IGHD  clonotype6429   CARSSYDGYLSWFAYW          1   IGH  \n",
       "12726  IGHJ3   IGHD  clonotype6826     CARWAYYGNFFAYW          1   IGH  \n",
       "12829  IGHJ3   IGHM  clonotype6880       CARWGLRSFADW          1   IGH  \n",
       "13180  IGLJ1  IGLC1  clonotype7071        CALWYSNHLVF          1   IGL  \n",
       "13972  IGHJ3   None  clonotype7499       CTTYYRVLFAYW          1   IGH  \n",
       "14347  IGHJ3   IGHD  clonotype7698     CARKDYDPAWFAYW          1   IGH  \n",
       "14916  IGHJ3   IGHD  clonotype8005       CARSEDLLSSYW          1   IGH  \n",
       "15841  IGKJ5   IGKC  clonotype8522        CFQGSGYPLTF          1   IGK  \n",
       "16705  IGHJ3   IGHM  clonotype9005    CARSGGNYLSWFAYW          1   IGH  \n",
       "16768  IGHJ4   IGHD  clonotype9041   CGKGYYGSSLYAMDYW          1   IGH  \n",
       "17061  IGHJ4   IGHD  clonotype9222  CAIRPNLLLSYYAMDYW          1   IGH  \n",
       "17415  IGHJ4   IGHD  clonotype9446    CARSLLRLRGAMDYW          1   IGH  \n",
       "17433  IGLJ1  IGLC1  clonotype9457        CALWYSYHWVF          1   IGL  \n",
       "17548  IGHJ3   IGHD  clonotype9533          CASSYHPYW          1   IGH  \n",
       "17551  IGLJ1  IGLC1  clonotype9534        CALWYSNHWVF          1   IGL  \n",
       "17575  IGHJ4   IGHD  clonotype9550      CAKYDYGCAMDYW          1   IGH  "
      ]
     },
     "execution_count": 345,
     "metadata": {},
     "output_type": "execute_result"
    }
   ],
   "source": [
    "df_merge_f_new"
   ]
  },
  {
   "cell_type": "code",
   "execution_count": 347,
   "id": "sustainable-rates",
   "metadata": {},
   "outputs": [
    {
     "data": {
      "text/plain": [
       "'MRVLILLWLFTAFPGILSDVQLQESGPGLVKPSQSLSLTCTVTGYSITSDYAWNWIRQFPGNKLEWMGYISYSGSTSYNPSLKSRISITRDTSKNQFFLQLNSVTTEDTATYYCAKYDYGCAMDYWGQGTSVTVSSGDKKEPDMFLLSECKAREEN**IYLGCLVIGSQ'"
      ]
     },
     "execution_count": 347,
     "metadata": {},
     "output_type": "execute_result"
    }
   ],
   "source": [
    "str(Seq('ATGAGAGTGCTGATTCTTTTGTGGCTGTTCACAGCCTTTCCTGGTATCCTGTCTGATGTGCAGCTTCAGGAGTCGGGACCTGGCCTGGTGAAACCTTCTCAGTCTCTGTCCCTCACCTGCACTGTCACTGGCTACTCAATCACCAGTGATTATGCCTGGAACTGGATCCGGCAGTTTCCAGGAAACAAACTGGAGTGGATGGGCTACATAAGCTACAGTGGTAGCACTAGCTACAACCCATCTCTCAAAAGTCGAATCTCTATCACTCGAGACACATCCAAGAACCAGTTCTTCCTGCAGTTGAATTCTGTGACTACTGAGGACACAGCCACATATTACTGTGCAAAATATGACTACGGCTGTGCTATGGACTACTGGGGTCAAGGAACCTCAGTCACCGTCTCCTCAGGTGATAAAAAGGAACCTGACATGTTCCTCCTCTCAGAGTGCAAAGCCCGTGAGGAAAATTAATAGATATACCTGGGCTGTTTAGTAATTGGAAGTCAG').translate())"
   ]
  },
  {
   "cell_type": "code",
   "execution_count": null,
   "id": "demographic-livestock",
   "metadata": {},
   "outputs": [],
   "source": []
  },
  {
   "cell_type": "code",
   "execution_count": 328,
   "id": "athletic-ministry",
   "metadata": {},
   "outputs": [],
   "source": []
  },
  {
   "cell_type": "code",
   "execution_count": 91,
   "id": "pleased-truth",
   "metadata": {},
   "outputs": [],
   "source": [
    "outfile = open('/SGRNJ06/randd/USER/cjj/celedev/vdj10x/20220714anno_seq/anno_seq_aa.fasta','w')"
   ]
  },
  {
   "cell_type": "code",
   "execution_count": 92,
   "id": "unavailable-daisy",
   "metadata": {},
   "outputs": [],
   "source": [
    "outfile.write(\"Clonotype(clonotype_id|V-gene|D-gene|J-gene|CDR3|C-gene|)\\tCell_Number\\tCgene\\tSequence\\n\")\n",
    "for i in clonotype_id_list:\n",
    "    df_tmp = df_merge_f[df_merge_f['clonotype_id']==i]\n",
    "    outfile.write(f'{list(df_tmp.clonotype_id)[0]}|')\n",
    "    for i in range(df_tmp.shape[0]):\n",
    "        outfile.write(f'{list(df_tmp.v_call)[i]}|{list(df_tmp.d_call)[i]}|{list(df_tmp.j_call)[i]}|{list(df_tmp.cdr3)[i]}|{list(df_tmp.c_call)[i]}|')\n",
    "    outfile.write(f'\\t{list(df_tmp.frequency)[0]}\\t')\n",
    "    outfile.write('|'.join(list(df_tmp.c_call)))\n",
    "    outfile.write('\\n')\n",
    "    for i in range(df_tmp.shape[0]):\n",
    "        outfile.write(f'ChianType:{list(df_tmp.chain)[i]}\\n{list(df_tmp.sequence_aa)[i]}\\n')\n",
    "        #outfile.write('\\n'.join(list(df_tmp.seq)))\n",
    "    # outfile.write('\\n')"
   ]
  },
  {
   "cell_type": "code",
   "execution_count": 93,
   "id": "starting-spencer",
   "metadata": {},
   "outputs": [],
   "source": [
    "outfile.close()"
   ]
  },
  {
   "cell_type": "code",
   "execution_count": 247,
   "id": "partial-concern",
   "metadata": {},
   "outputs": [],
   "source": [
    "outfile = open('/SGRNJ06/randd/USER/cjj/celedev/vdj10x/20220714anno_seq/anno_seq_nt.fasta','w')"
   ]
  },
  {
   "cell_type": "code",
   "execution_count": 248,
   "id": "planned-contrast",
   "metadata": {},
   "outputs": [],
   "source": [
    "outfile.write(\"Clonotype(clonotype_id|V-gene|D-gene|J-gene|CDR3|C-gene|)\\tCell_Number\\tCgene\\tSequence\\n\")\n",
    "for i in clonotype_id_list:\n",
    "    df_tmp = df_merge_f[df_merge_f['clonotype_id']==i]\n",
    "    outfile.write(f'{list(df_tmp.clonotype_id)[0]}|')\n",
    "    for i in range(df_tmp.shape[0]):\n",
    "        outfile.write(f'{list(df_tmp.v_call)[i]}|{list(df_tmp.d_call)[i]}|{list(df_tmp.j_call)[i]}|{list(df_tmp.cdr3)[i]}|{list(df_tmp.c_call)[i]}|')\n",
    "    outfile.write(f'\\t{list(df_tmp.frequency)[0]}\\t')\n",
    "    outfile.write('|'.join(list(df_tmp.c_call)))\n",
    "    outfile.write('\\n')\n",
    "    for i in range(df_tmp.shape[0]):\n",
    "        seq_nt = list(df_tmp.sequence)[i]\n",
    "        seq_aa = list(df_tmp.sequence_aa)[i]\n",
    "        for j in range(len(seq_nt)):\n",
    "            if str(Seq(seq_nt[j:]).translate()) == seq_aa:\n",
    "                seq_nt_write = seq_nt[j:]\n",
    "                if len(seq_nt_write) % 3 == 1:\n",
    "                    seq_nt_write = seq_nt[j:-1]\n",
    "                elif len(seq_nt_write) % 3 == 2:\n",
    "                    seq_nt_write = seq_nt[j:-2]\n",
    "                outfile.write(f'ChianType:{list(df_tmp.chain)[i]}\\n{seq_nt_write}\\n')\n",
    "                break"
   ]
  },
  {
   "cell_type": "code",
   "execution_count": 249,
   "id": "utility-north",
   "metadata": {},
   "outputs": [],
   "source": [
    "outfile.close()"
   ]
  },
  {
   "cell_type": "code",
   "execution_count": null,
   "id": "faced-arthritis",
   "metadata": {},
   "outputs": [],
   "source": []
  },
  {
   "cell_type": "code",
   "execution_count": 250,
   "id": "first-clark",
   "metadata": {},
   "outputs": [],
   "source": [
    "from Bio.Seq import Seq"
   ]
  },
  {
   "cell_type": "code",
   "execution_count": 283,
   "id": "christian-thousand",
   "metadata": {},
   "outputs": [],
   "source": [
    "with open('/SGRNJ06/randd/USER/cjj/celedev/vdj10x/20220714anno_seq/anno_seq_nt.fasta') as f:\n",
    "        lines_nt = f.readlines()\n",
    "        lines_nt = [line.strip('\\n') for line in lines_nt]\n",
    "with open('/SGRNJ06/randd/USER/cjj/celedev/vdj10x/20220714anno_seq/anno_seq_aa.fasta') as f:\n",
    "        lines_aa = f.readlines()\n",
    "        lines_aa = [line.strip('\\n') for line in lines_aa]"
   ]
  },
  {
   "cell_type": "code",
   "execution_count": null,
   "id": "touched-driver",
   "metadata": {},
   "outputs": [],
   "source": [
    "for i in range(3,150,3):\n",
    "    print(len(lines_nt[i]))"
   ]
  },
  {
   "cell_type": "code",
   "execution_count": null,
   "id": "early-concept",
   "metadata": {},
   "outputs": [],
   "source": []
  },
  {
   "cell_type": "code",
   "execution_count": null,
   "id": "lightweight-collaboration",
   "metadata": {},
   "outputs": [],
   "source": []
  },
  {
   "cell_type": "code",
   "execution_count": 212,
   "id": "funny-thermal",
   "metadata": {},
   "outputs": [
    {
     "data": {
      "text/plain": [
       "455"
      ]
     },
     "execution_count": 212,
     "metadata": {},
     "output_type": "execute_result"
    }
   ],
   "source": []
  },
  {
   "cell_type": "code",
   "execution_count": 275,
   "id": "freelance-calvin",
   "metadata": {},
   "outputs": [],
   "source": [
    "a = 'ATGGGATGGAGCTGTATCATCCTCTTCTTGGTAGCAACAGCTACAGGTGTCCACTCCCAGGTCCAACTGCAGCAACCTGGGTCTGAGCTGGTGAGGCCTGGAGCTTCAGTGAAGCTGTCCTGCAAGGCTTCTGGCTACACATTCACCAGCTACTGGATGCACTGGGTGAAGCAGAGGCATGGACAAGGCCTTGAGTGGATTGGAAATATTTATCCTGGTAGTGGTAGTACTAACTACGATGAGAAGTTCAAGAGCAAGGGCACACTGACTGTAGACACATCCTCCAGCACAGCCTACATGCACCTCAGCAGCCTGACATCTGAGGACTCTGCGGTCTATTACTGTACAAGGGGAGGATTACGGAGGGGGTTTGCTTACTGGGGCCAAGGGACTCTGGTCACTGTCTCTGCAGAGAGTCAGTCCTTCCCAAATGTC'"
   ]
  },
  {
   "cell_type": "code",
   "execution_count": 276,
   "id": "convinced-microwave",
   "metadata": {},
   "outputs": [
    {
     "data": {
      "text/plain": [
       "435"
      ]
     },
     "execution_count": 276,
     "metadata": {},
     "output_type": "execute_result"
    }
   ],
   "source": [
    "len(a)"
   ]
  },
  {
   "cell_type": "code",
   "execution_count": 277,
   "id": "premier-description",
   "metadata": {},
   "outputs": [
    {
     "data": {
      "text/plain": [
       "True"
      ]
     },
     "execution_count": 277,
     "metadata": {},
     "output_type": "execute_result"
    }
   ],
   "source": [
    "str(Seq(a).translate()) == 'MGWSCIILFLVATATGVHSQVQLQQPGSELVRPGASVKLSCKASGYTFTSYWMHWVKQRHGQGLEWIGNIYPGSGSTNYDEKFKSKGTLTVDTSSSTAYMHLSSLTSEDSAVYYCTRGGLRRGFAYWGQGTLVTVSAESQSFPNV'"
   ]
  },
  {
   "cell_type": "code",
   "execution_count": null,
   "id": "increased-jersey",
   "metadata": {},
   "outputs": [],
   "source": []
  },
  {
   "cell_type": "code",
   "execution_count": null,
   "id": "honest-screen",
   "metadata": {},
   "outputs": [],
   "source": [
    "for line in lines_aa:\n",
    "    if len(line)>=200:\n",
    "        if len(line) % 3 != 0:\n",
    "            print(line)"
   ]
  },
  {
   "cell_type": "code",
   "execution_count": null,
   "id": "tough-belly",
   "metadata": {},
   "outputs": [],
   "source": [
    "for line in lines_aa:\n",
    "    if '*' in line:\n",
    "        print(line)"
   ]
  },
  {
   "cell_type": "code",
   "execution_count": 293,
   "id": "equipped-standing",
   "metadata": {},
   "outputs": [],
   "source": [
    "df_aa = list(df_merge_f.sequence_aa)\n",
    "df_nt = list(df_merge_f.sequence)"
   ]
  },
  {
   "cell_type": "code",
   "execution_count": null,
   "id": "ranging-bible",
   "metadata": {},
   "outputs": [],
   "source": [
    "count = 0\n",
    "for i in df_list:\n",
    "    if '*' in i:\n",
    "        print(df_list.index(i))\n",
    "        count+=1\n",
    "        "
   ]
  },
  {
   "cell_type": "code",
   "execution_count": 301,
   "id": "bridal-afghanistan",
   "metadata": {},
   "outputs": [
    {
     "data": {
      "text/plain": [
       "'MVFTPQILGLMLFWISASRGDIVLTQSPATLSVTPGDSVSLSCRASQSISNNLHWYQQKSHESPRLLIKYASQSISGIPSRFSGSGSGTDFTLSINSVETEDFGMYFCQQSNSWPLTFGAGTKLELKLSS*HLEVPQ'"
      ]
     },
     "execution_count": 301,
     "metadata": {},
     "output_type": "execute_result"
    }
   ],
   "source": [
    "df_aa[512]"
   ]
  },
  {
   "cell_type": "code",
   "execution_count": 302,
   "id": "perfect-scotland",
   "metadata": {},
   "outputs": [
    {
     "data": {
      "text/plain": [
       "'GGGAGCCACACAAACTCAGGGAAAGCTCGAAGATGGTTTTCACACCTCAGATACTTGGACTTATGCTTTTTTGGATTTCAGCCTCCAGAGGTGATATTGTGCTAACTCAGTCTCCAGCCACCCTGTCTGTGACTCCAGGAGATAGCGTCAGTCTTTCCTGCAGGGCCAGCCAAAGTATTAGCAACAACCTACACTGGTATCAACAAAAATCACATGAGTCTCCAAGGCTTCTCATCAAGTATGCTTCCCAGTCCATCTCTGGGATCCCCTCCAGGTTCAGTGGCAGTGGATCAGGGACAGATTTCACTCTCAGTATCAACAGTGTGGAGACTGAAGATTTTGGAATGTATTTCTGTCAACAGAGTAACAGCTGGCCGCTCACGTTCGGTGCTGGGACCAAGCTGGAGCTGAAACTGAGCAGTTAACATCTGGAGGTGCCTCAGT'"
      ]
     },
     "execution_count": 302,
     "metadata": {},
     "output_type": "execute_result"
    }
   ],
   "source": [
    "df_nt[512]"
   ]
  },
  {
   "cell_type": "code",
   "execution_count": 303,
   "id": "sought-optics",
   "metadata": {},
   "outputs": [
    {
     "name": "stdout",
     "output_type": "stream",
     "text": [
      "ATGGTTTTCACACCTCAGATACTTGGACTTATGCTTTTTTGGATTTCAGCCTCCAGAGGTGATATTGTGCTAACTCAGTCTCCAGCCACCCTGTCTGTGACTCCAGGAGATAGCGTCAGTCTTTCCTGCAGGGCCAGCCAAAGTATTAGCAACAACCTACACTGGTATCAACAAAAATCACATGAGTCTCCAAGGCTTCTCATCAAGTATGCTTCCCAGTCCATCTCTGGGATCCCCTCCAGGTTCAGTGGCAGTGGATCAGGGACAGATTTCACTCTCAGTATCAACAGTGTGGAGACTGAAGATTTTGGAATGTATTTCTGTCAACAGAGTAACAGCTGGCCGCTCACGTTCGGTGCTGGGACCAAGCTGGAGCTGAAACTGAGCAGTTAACATCTGGAGGTGCCTCAGT\n"
     ]
    }
   ],
   "source": [
    "for i in range(len(df_nt[512])):\n",
    "    if str(Seq(df_nt[512][i:]).translate()) == 'MVFTPQILGLMLFWISASRGDIVLTQSPATLSVTPGDSVSLSCRASQSISNNLHWYQQKSHESPRLLIKYASQSISGIPSRFSGSGSGTDFTLSINSVETEDFGMYFCQQSNSWPLTFGAGTKLELKLSS*HLEVPQ':\n",
    "        print(df_nt[512][i:])"
   ]
  },
  {
   "cell_type": "code",
   "execution_count": 309,
   "id": "recovered-orbit",
   "metadata": {},
   "outputs": [
    {
     "data": {
      "text/plain": [
       "36"
      ]
     },
     "execution_count": 309,
     "metadata": {},
     "output_type": "execute_result"
    }
   ],
   "source": [
    "count"
   ]
  },
  {
   "cell_type": "code",
   "execution_count": null,
   "id": "collaborative-kansas",
   "metadata": {},
   "outputs": [],
   "source": []
  }
 ],
 "metadata": {
  "kernelspec": {
   "display_name": "cele1.11",
   "language": "python",
   "name": "refactor_trust"
  },
  "language_info": {
   "codemirror_mode": {
    "name": "ipython",
    "version": 3
   },
   "file_extension": ".py",
   "mimetype": "text/x-python",
   "name": "python",
   "nbconvert_exporter": "python",
   "pygments_lexer": "ipython3",
   "version": "3.9.0"
  }
 },
 "nbformat": 4,
 "nbformat_minor": 5
}
