{
 "cells": [
  {
   "cell_type": "code",
   "execution_count": 1,
   "id": "textile-lithuania",
   "metadata": {},
   "outputs": [],
   "source": [
    "import glob\n",
    "import os\n",
    "import pysam\n",
    "import pandas as pd\n",
    "from Bio.Seq import Seq"
   ]
  },
  {
   "cell_type": "code",
   "execution_count": null,
   "id": "knowing-convergence",
   "metadata": {},
   "outputs": [],
   "source": [
    "annos = glob.glob(\"/SGRNJ06/randd/USER/cjj/celedev/vdj10x/20230609wy/hs_cr3/*/04.summarize/productive_contig_annotations.csv\")"
   ]
  },
  {
   "cell_type": "code",
   "execution_count": null,
   "id": "forward-mercury",
   "metadata": {},
   "outputs": [],
   "source": [
    "annos"
   ]
  },
  {
   "cell_type": "code",
   "execution_count": null,
   "id": "continuing-channels",
   "metadata": {},
   "outputs": [],
   "source": [
    "files = glob.glob(\"/SGRNJ06/randd/USER/cjj/celedev/vdj10x/20230609wy/hs_cr3/*/04.summarize/productive_contig.fasta\")"
   ]
  },
  {
   "cell_type": "code",
   "execution_count": null,
   "id": "unexpected-november",
   "metadata": {},
   "outputs": [],
   "source": [
    "files"
   ]
  },
  {
   "cell_type": "code",
   "execution_count": null,
   "id": "passive-truth",
   "metadata": {},
   "outputs": [],
   "source": [
    "samples = [i.split('/')[-3] for i in files]"
   ]
  },
  {
   "cell_type": "code",
   "execution_count": null,
   "id": "scientific-series",
   "metadata": {},
   "outputs": [],
   "source": [
    "samples"
   ]
  },
  {
   "cell_type": "code",
   "execution_count": null,
   "id": "apart-breakdown",
   "metadata": {},
   "outputs": [],
   "source": [
    "df = pd.read_csv(annos[2])\n",
    "df"
   ]
  },
  {
   "cell_type": "code",
   "execution_count": null,
   "id": "technical-challenge",
   "metadata": {},
   "outputs": [],
   "source": [
    "with pysam.FastxFile(files[2]) as f:\n",
    "    for read in f:\n",
    "        print(read) "
   ]
  },
  {
   "cell_type": "code",
   "execution_count": null,
   "id": "funded-spanking",
   "metadata": {},
   "outputs": [],
   "source": [
    "seq = \"CTGTGGTATCAACGCAGAGTCTCTACCACAGATCGGGGCTGGGGTCTCAGGAGGCAGCGCTCTCGGGACGTCTCCACCATGGCCTGGGCTCTGCTGCTCCTCACCCTCCTCACTCAGGGCACAGGATCCTGGGCCCAGTCTGCCCTGACTCAGCCTGCCTCCGTTTCTGGGTCTCCTGGACAGTCGATCACCATCTCCTGCAGTGGAAGTAGTAGTGACATAGGTGGTTATAACTATGTCTCCTGGTACCAGCACCACCCAGGCAAAGCCCCCACACTCGTGATTTATGATGTCAATGAGCGGCCCTCAGGAGTTTCTAATCGCTTCTCTGGCTCCAAGTCTGGCAACACGGCCTCCCTGACCATCTCTGGGCTCCAGGCTGAGGACGAGGCTGATTACTACTGCACCTCATATACAACCAGCAGCACTTGGGTGTTCGGCGGAGGGACCAAGCTGACCGTCCTGGGTCAGCCCAAGGCTGCCCCCTCGGTCACTCTGTTCCCGCCCTCCTCTGAGGAGCTTCAAGCCAACAAGGCCACACTGGTGAGATCGGAAGAGCACACGTCTG\"\n",
    "for i in range(len(seq)):\n",
    "    aa = str(Seq(seq[i:]).translate())\n",
    "    if \"CTSYTTSSTWVF\" in aa:\n",
    "        print(aa)\n",
    "        break"
   ]
  },
  {
   "cell_type": "code",
   "execution_count": null,
   "id": "literary-northeast",
   "metadata": {},
   "outputs": [],
   "source": [
    "seq1 = \"SCGINAESLRDHGGGLRRQRSRDVSTMAWALLLLTLLTQGTGSWAQSALTQPASVSGSPGQSITISCSGSSSDIGGYNYVSWYQHHPGKAPTLVIYDVNERPSGVSNRFSGSKSGNTASLTISGLQAEDEADYYCTSYTTSSTWVFGGGTKLTVLGQPKAAPSVTLFPPSSEELQANKATLVRSEEHTS\"\n",
    "seq2 = \"CGINAESHSGGDQDSSVHLLTMRLPAQLLGLLMLWVSGSSGDIEMTQSPLSLPVTPGEPASISCRSSQSLLHKNGFNYLLWYQQKPGQSPRLLIYLASNRASGVPDRFSGSGSGTDFTLKISRVEAEDVGIYYCMQPLQTPWTFGQGTKVEIKRTVAAPSVFIFPPSDEQLKSGTASVVCLLRSEEHTS\"\n",
    "seq3 = \"VVSTQSLSYCTGTWSILFLVAAATGNGLPSPRAERQTRPVMDFTHSCVLSTGAHSQVQLVQSGTEVKRPGASVKVSCKTAGYSFDDYGITWVRQAPGEGLKWMGWISIYNGQTDYEERFRGRVAMTAETSTKTAYMELRRLTFTDTAVYYCARTPYGHNSDWAVQLDYWGQGTLLTVSAASTKGPSVFPRSEST\"\n",
    "seq4 = \"LWYQRRVSTTDRGWGLRRQRSRDVSTMAWALLLLTLLTQGTGSWAQSALTQPASVSGSPGQSITISCSGSSSDIGGYNYVSWYQHHPGKAPTLVIYDVNERPSGVSNRFSGSKSGNTASLTISGLQAEDEADYYCTSYTTSSTWVFGGGTKLTVLGQPKAAPSVTLFPPSSEELQANKATLVRSEEHTS\""
   ]
  },
  {
   "cell_type": "code",
   "execution_count": null,
   "id": "limited-pulse",
   "metadata": {},
   "outputs": [],
   "source": [
    "out_file = \"/SGRNJ06/randd/USER/cjj/celedev/vdj10x/20230609wy/hs_cr3/fl_aa_seq/Hp_FACS_8mix_DA3.fasta\"\n",
    "out = open(out_file, 'w')\n",
    "out.write(f\">TAGCGA_contig_1\\n{seq1}\\n>GCTCAG_contig_1\\n{seq2}\\n>GCTCAG_contig_3\\n{seq3}\\n>GTAGAG_contig_1\\n{seq4}\")\n",
    "out.close()"
   ]
  },
  {
   "cell_type": "code",
   "execution_count": null,
   "id": "affected-wireless",
   "metadata": {},
   "outputs": [],
   "source": []
  },
  {
   "cell_type": "code",
   "execution_count": null,
   "id": "communist-integer",
   "metadata": {},
   "outputs": [],
   "source": []
  },
  {
   "cell_type": "code",
   "execution_count": null,
   "id": "active-procurement",
   "metadata": {},
   "outputs": [],
   "source": []
  },
  {
   "cell_type": "code",
   "execution_count": 31,
   "id": "present-chick",
   "metadata": {},
   "outputs": [],
   "source": [
    "# trust\n",
    "annos = glob.glob(\"/SGRNJ06/randd/USER/cjj/celedev/trust4/20231127wy/9/*/04.summarize/*_filtered_contig.csv\")\n",
    "fastas = glob.glob(\"/SGRNJ06/randd/USER/cjj/celedev/trust4/20231127wy/9/*/04.summarize/*_filtered_contig.fasta\")\n",
    "samples = [i.split('/')[-3] for i in fastas]"
   ]
  },
  {
   "cell_type": "code",
   "execution_count": 32,
   "id": "metallic-color",
   "metadata": {},
   "outputs": [
    {
     "data": {
      "text/plain": [
       "['/SGRNJ06/randd/USER/cjj/celedev/trust4/20231127wy/9/GL_BCR_9Mix2_3NL/04.summarize/GL_BCR_9Mix2_3NL_filtered_contig.csv',\n",
       " '/SGRNJ06/randd/USER/cjj/celedev/trust4/20231127wy/9/GL_BCR_9Mix1_3NL/04.summarize/GL_BCR_9Mix1_3NL_filtered_contig.csv']"
      ]
     },
     "execution_count": 32,
     "metadata": {},
     "output_type": "execute_result"
    }
   ],
   "source": [
    "annos"
   ]
  },
  {
   "cell_type": "code",
   "execution_count": 33,
   "id": "former-danger",
   "metadata": {},
   "outputs": [
    {
     "data": {
      "text/plain": [
       "['/SGRNJ06/randd/USER/cjj/celedev/trust4/20231127wy/9/GL_BCR_9Mix2_3NL/04.summarize/GL_BCR_9Mix2_3NL_filtered_contig.fasta',\n",
       " '/SGRNJ06/randd/USER/cjj/celedev/trust4/20231127wy/9/GL_BCR_9Mix1_3NL/04.summarize/GL_BCR_9Mix1_3NL_filtered_contig.fasta']"
      ]
     },
     "execution_count": 33,
     "metadata": {},
     "output_type": "execute_result"
    }
   ],
   "source": [
    "fastas"
   ]
  },
  {
   "cell_type": "code",
   "execution_count": 34,
   "id": "outside-drain",
   "metadata": {},
   "outputs": [
    {
     "data": {
      "text/plain": [
       "['GL_BCR_9Mix2_3NL', 'GL_BCR_9Mix1_3NL']"
      ]
     },
     "execution_count": 34,
     "metadata": {},
     "output_type": "execute_result"
    }
   ],
   "source": [
    "samples"
   ]
  },
  {
   "cell_type": "code",
   "execution_count": 38,
   "id": "flexible-measurement",
   "metadata": {},
   "outputs": [],
   "source": [
    "cdr3aa_dict = dict()\n",
    "df = pd.read_csv(annos[1])\n",
    "cdr3aa_dict = dict(zip(list(df.contig_id), list(df.cdr3)))"
   ]
  },
  {
   "cell_type": "code",
   "execution_count": 39,
   "id": "aware-chassis",
   "metadata": {},
   "outputs": [
    {
     "data": {
      "text/plain": [
       "{'ACTCCT_2': 'CAKRPYSSSGSYWDYW',\n",
       " 'ACTCCT_4': 'CQQYYSYPGTF',\n",
       " 'TCATGA_3': 'CAKRPYSSSGSYWDYW',\n",
       " 'TCATGA_5': 'CQQYYSYPGTF',\n",
       " 'AGCTAC_6': 'CQQYYSYPGTF',\n",
       " 'AGCTAC_18': 'CAKRPYSSSGSYWDYW',\n",
       " 'CTCTAC_5': 'CAKMDRYSSSQVYYAMDVW',\n",
       " 'CTCTAC_40': 'CQQYYSYPGTF',\n",
       " 'TGAGCG_4': 'CAKMDRYSSSQVYYAMDVW',\n",
       " 'TGAGCG_18': 'CQQYGSSPPWTF',\n",
       " 'TCGCTA_28': 'CAKMDRYSSSQVYYAMDVW',\n",
       " 'TCGCTA_22': 'CQSYDSSNNVF',\n",
       " 'CAGCTA_2': 'CAKRPYSSSGSYWDYW',\n",
       " 'CAGCTA_6': 'CQSYDSSNNVF',\n",
       " 'CTGAGC_20': 'CAKRPYSSSGSYWDYW',\n",
       " 'CTGAGC_367': 'CQQYYTTPRVYTF',\n",
       " 'GACGTC_10': 'CQTWGAGLWVF',\n",
       " 'GACGTC_20': 'CARTAISMIRGVMEEFDYW'}"
      ]
     },
     "execution_count": 39,
     "metadata": {},
     "output_type": "execute_result"
    }
   ],
   "source": [
    "cdr3aa_dict"
   ]
  },
  {
   "cell_type": "code",
   "execution_count": 40,
   "id": "lesser-worst",
   "metadata": {},
   "outputs": [],
   "source": [
    "out_file = f\"/SGRNJ06/randd/USER/cjj/celedev/trust4/20231127wy/fl_seq/{samples[1]}_aa.fasta\"\n",
    "out = open(out_file, 'w')\n",
    "with pysam.FastxFile(fastas[1]) as f:\n",
    "    for read in f:\n",
    "        contig_id = read.name\n",
    "        cdr3aa = cdr3aa_dict[contig_id]\n",
    "        seq = read.sequence\n",
    "        for i in range(len(seq)):\n",
    "            aa = str(Seq(seq[i:]).translate())\n",
    "            if cdr3aa in aa:\n",
    "                out.write(f\">{contig_id}\\n{aa}\\n\")\n",
    "                break\n",
    "out.close()"
   ]
  },
  {
   "cell_type": "code",
   "execution_count": null,
   "id": "caroline-crystal",
   "metadata": {},
   "outputs": [],
   "source": []
  },
  {
   "cell_type": "code",
   "execution_count": null,
   "id": "integrated-deposit",
   "metadata": {},
   "outputs": [],
   "source": [
    "\n",
    "        "
   ]
  },
  {
   "cell_type": "code",
   "execution_count": null,
   "id": "inclusive-maryland",
   "metadata": {},
   "outputs": [],
   "source": []
  }
 ],
 "metadata": {
  "kernelspec": {
   "display_name": "trust4_1.7",
   "language": "python",
   "name": "trust4_1.7"
  },
  "language_info": {
   "codemirror_mode": {
    "name": "ipython",
    "version": 3
   },
   "file_extension": ".py",
   "mimetype": "text/x-python",
   "name": "python",
   "nbconvert_exporter": "python",
   "pygments_lexer": "ipython3",
   "version": "3.7.10"
  }
 },
 "nbformat": 4,
 "nbformat_minor": 5
}
