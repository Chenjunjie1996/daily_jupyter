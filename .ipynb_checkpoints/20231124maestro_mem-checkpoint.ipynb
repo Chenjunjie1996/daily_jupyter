{
 "cells": [
  {
   "cell_type": "code",
   "execution_count": 1,
   "id": "circular-colleague",
   "metadata": {},
   "outputs": [],
   "source": [
    "import pandas as pd \n",
    "import sys\n",
    "import numpy as np \n",
    "from multiprocessing import Pool\n",
    "import pandas as pd \n",
    "import itertools"
   ]
  },
  {
   "cell_type": "code",
   "execution_count": 2,
   "id": "egyptian-brisbane",
   "metadata": {},
   "outputs": [],
   "source": [
    "df_peaks=pd.read_csv(\"/SGRNJ06/randd/USER/cjj/celedev/atac/MAESTRO/test/20231031sgr/A1017_3_ML_YSPB_WX_R_T7_EDTA5030/02.atac/Result/Analysis/A1017_3_ML_YSPB_WX_R_T7_EDTA5030/A1017_3_ML_YSPB_WX_R_T7_EDTA5030_final_peaks.bed\",header=None, sep='\\t', names=[\"chr\", \"start\", \"end\"])\n",
    "df_fragments = pd.read_csv(\"/SGRNJ06/randd/USER/cjj/celedev/atac/MAESTRO/test/20231031sgr/A1017_3_ML_YSPB_WX_R_T7_EDTA5030/02.atac/Result/Mapping/A1017_3_ML_YSPB_WX_R_T7_EDTA5030/fragments_corrected_count_sortedbybarcode.tsv\",header=None, sep='\\t', names=[\"chr\", \"start\", \"end\", \"barcode\", \"count\"])"
   ]
  },
  {
   "cell_type": "code",
   "execution_count": null,
   "id": "printable-sculpture",
   "metadata": {},
   "outputs": [],
   "source": [
    "print(str(sys.getsizeof(df_fragments)/1024/1024)+' MB')"
   ]
  },
  {
   "cell_type": "code",
   "execution_count": null,
   "id": "fatty-clock",
   "metadata": {},
   "outputs": [],
   "source": [
    "df = df_fragments"
   ]
  },
  {
   "cell_type": "code",
   "execution_count": null,
   "id": "likely-reputation",
   "metadata": {},
   "outputs": [],
   "source": [
    "    numerics = ['int16', 'int32', 'int64', 'float16', 'float32', 'float64']\n",
    "    # 计算当前占用的内存 \n",
    "    start_mem = df.memory_usage(deep=True).sum() / 1024**2\n",
    "    # 循环每一列\n",
    "    for col in df.columns:\n",
    "        # 获取每一列的数据类型\n",
    "        col_type = df[col].dtypes\n",
    "        # 如果数据类型属于上面定义的类型之\n",
    "        if col_type in numerics:\n",
    "            # 计算该列数据的最小值和最大值 用于我们指定相应的数据类型 \n",
    "            c_min = df[col].min()\n",
    "            c_max = df[col].max()\n",
    "\n",
    "            # 如果 该列的数据类型属于 int 类型，然后进行判断\n",
    "            if str(col_type)[:3] == 'int':\n",
    "                # 如果 该列最小的值 大于int8类型的最小值，并且最大值小于int8类型的最大值，则采用int8类型 \n",
    "                if c_min > np.iinfo(np.int8).min and c_max < np.iinfo(np.int8).max:\n",
    "                    df[col] = df[col].astype(np.int8)\n",
    "\n",
    "                # 同上\n",
    "                elif c_min > np.iinfo(np.int16).min and c_max < np.iinfo(np.int16).max:\n",
    "                    df[col] = df[col].astype(np.int16)\n",
    "\n",
    "                # 同上\n",
    "                elif c_min > np.iinfo(np.int32).min and c_max < np.iinfo(np.int32).max:\n",
    "                    df[col] = df[col].astype(np.int32)\n",
    "\n",
    "                # 同上\n",
    "                elif c_min > np.iinfo(np.int64).min and c_max < np.iinfo(np.int64).max:\n",
    "                    df[col] = df[col].astype(np.int64)\n",
    "\n",
    "            # 否则 则采用 float 的处理方法       \n",
    "            else:\n",
    "\n",
    "                if c_min > np.finfo(np.float32).min and c_max < np.finfo(np.float32).max:\n",
    "                    df[col] = df[col].astype(np.float32)\n",
    "\n",
    "                else:\n",
    "                    df[col] = df[col].astype(np.float64)"
   ]
  },
  {
   "cell_type": "code",
   "execution_count": null,
   "id": "appointed-topic",
   "metadata": {},
   "outputs": [],
   "source": [
    "print(str(sys.getsizeof(df)/1024/1024)+' MB')"
   ]
  },
  {
   "cell_type": "code",
   "execution_count": null,
   "id": "considered-claim",
   "metadata": {},
   "outputs": [],
   "source": []
  },
  {
   "cell_type": "code",
   "execution_count": null,
   "id": "naked-alignment",
   "metadata": {},
   "outputs": [],
   "source": [
    "print(str(sys.getsizeof(df_fragments)/1024/1024)+' MB')"
   ]
  },
  {
   "cell_type": "code",
   "execution_count": null,
   "id": "applied-broadway",
   "metadata": {},
   "outputs": [],
   "source": []
  },
  {
   "cell_type": "code",
   "execution_count": null,
   "id": "minimal-andorra",
   "metadata": {},
   "outputs": [],
   "source": [
    "gl_obj = df.copy()"
   ]
  },
  {
   "cell_type": "code",
   "execution_count": null,
   "id": "transparent-terminal",
   "metadata": {},
   "outputs": [],
   "source": [
    "print(str(sys.getsizeof(gl_obj)/1024/1024)+' MB')"
   ]
  },
  {
   "cell_type": "code",
   "execution_count": null,
   "id": "demanding-pregnancy",
   "metadata": {},
   "outputs": [],
   "source": [
    "converted_obj = pd.DataFrame()\n",
    "for col in gl_obj.columns:\n",
    "    num_unique_values = len(gl_obj[col].unique())\n",
    "    num_total_values = len(gl_obj[col])\n",
    "    if num_unique_values / num_total_values < 0.5:\n",
    "        converted_obj.loc[:,col] = gl_obj[col].astype('category')\n",
    "    else:\n",
    "        converted_obj.loc[:,col] = gl_obj[col]"
   ]
  },
  {
   "cell_type": "code",
   "execution_count": null,
   "id": "boxed-cleveland",
   "metadata": {},
   "outputs": [],
   "source": [
    "print(str(sys.getsizeof(converted_obj)/1024/1024)+' MB')"
   ]
  },
  {
   "cell_type": "code",
   "execution_count": null,
   "id": "protective-repair",
   "metadata": {},
   "outputs": [],
   "source": [
    "converted_obj.sort_values('end')"
   ]
  },
  {
   "cell_type": "code",
   "execution_count": null,
   "id": "cubic-funeral",
   "metadata": {},
   "outputs": [],
   "source": []
  },
  {
   "cell_type": "code",
   "execution_count": null,
   "id": "extra-acoustic",
   "metadata": {},
   "outputs": [],
   "source": [
    "# test"
   ]
  },
  {
   "cell_type": "code",
   "execution_count": 3,
   "id": "identified-catholic",
   "metadata": {},
   "outputs": [],
   "source": [
    "df_peaks=pd.read_csv(\"/SGRNJ06/randd/USER/cjj/celedev/atac/MAESTRO/test/20231031sgr/A1017_3_ML_YSPB_WX_R_T7_EDTA5030/02.atac/Result/Analysis/A1017_3_ML_YSPB_WX_R_T7_EDTA5030/A1017_3_ML_YSPB_WX_R_T7_EDTA5030_final_peaks.bed\",header=None, sep='\\t', names=[\"chr\", \"start\", \"end\"])\n",
    "df_fragments = pd.read_csv(\"/SGRNJ06/randd/USER/cjj/celedev/atac/MAESTRO/test/20231031sgr/A1017_3_ML_YSPB_WX_R_T7_EDTA5030/02.atac/Result/Mapping/A1017_3_ML_YSPB_WX_R_T7_EDTA5030/fragments_corrected_count_sortedbybarcode.tsv\",header=None, sep='\\t', names=[\"chr\", \"start\", \"end\", \"barcode\", \"count\"])"
   ]
  },
  {
   "cell_type": "code",
   "execution_count": null,
   "id": "indie-check",
   "metadata": {},
   "outputs": [],
   "source": [
    "def reduce_mem_usage(df, verbose=True):\n",
    "    numerics = ['int16', 'int32', 'int64', 'float16', 'float32', 'float64']\n",
    "    # 计算当前占用的内存 \n",
    "    start_mem = df.memory_usage(deep=True).sum() / 1024**2\n",
    "    # 循环每一列\n",
    "    for col in df.columns:\n",
    "        # 获取每一列的数据类型\n",
    "        col_type = df[col].dtypes\n",
    "        # 如果数据类型属于上面定义的类型之\n",
    "        if col_type in numerics:\n",
    "            # 计算该列数据的最小值和最大值 用于我们指定相应的数据类型 \n",
    "            c_min = df[col].min()\n",
    "            c_max = df[col].max()\n",
    "\n",
    "            # 如果 该列的数据类型属于 int 类型，然后进行判断\n",
    "            if str(col_type)[:3] == 'int':\n",
    "                # 如果 该列最小的值 大于int8类型的最小值，并且最大值小于int8类型的最大值，则采用int8类型 \n",
    "                if c_min > np.iinfo(np.int8).min and c_max < np.iinfo(np.int8).max:\n",
    "                    df[col] = df[col].astype(np.int8)\n",
    "\n",
    "                # 同上\n",
    "                elif c_min > np.iinfo(np.int16).min and c_max < np.iinfo(np.int16).max:\n",
    "                    df[col] = df[col].astype(np.int16)\n",
    "\n",
    "                # 同上\n",
    "                elif c_min > np.iinfo(np.int32).min and c_max < np.iinfo(np.int32).max:\n",
    "                    df[col] = df[col].astype(np.int32)\n",
    "\n",
    "                # 同上\n",
    "                elif c_min > np.iinfo(np.int64).min and c_max < np.iinfo(np.int64).max:\n",
    "                    df[col] = df[col].astype(np.int64)\n",
    "\n",
    "            # 否则 则采用 float 的处理方法       \n",
    "            else:\n",
    "\n",
    "                if c_min > np.finfo(np.float32).min and c_max < np.finfo(np.float32).max:\n",
    "                    df[col] = df[col].astype(np.float32)\n",
    "\n",
    "                else:\n",
    "                    df[col] = df[col].astype(np.float64)\n",
    "\n",
    "    end_mem = df.memory_usage(deep=True).sum() / 1024**2\n",
    "\n",
    "    if verbose: print('Mem. usage decreased to {:5.2f} Mb ({:.1f}% reduction)'.format(end_mem, 100 * (start_mem - end_mem) / start_mem))\n",
    "    return df"
   ]
  },
  {
   "cell_type": "code",
   "execution_count": null,
   "id": "processed-oliver",
   "metadata": {},
   "outputs": [],
   "source": [
    "df_peaks1 = reduce_mem_usage(df_peaks, verbose=True)\n",
    "df_fragments1 = reduce_mem_usage(df_fragments, verbose=True)"
   ]
  },
  {
   "cell_type": "code",
   "execution_count": null,
   "id": "shared-network",
   "metadata": {},
   "outputs": [],
   "source": [
    "converted_peaks = pd.DataFrame()\n",
    "for col in df_peaks.columns:\n",
    "    num_unique_values = len(df_peaks[col].unique())\n",
    "    num_total_values = len(df_peaks[col])\n",
    "    if num_unique_values / num_total_values < 0.5:\n",
    "        converted_peaks.loc[:,col] = df_peaks[col].astype('category')\n",
    "    else:\n",
    "        converted_peaks.loc[:,col] = df_peaks[col]\n",
    "        \n",
    "converted_fragments = pd.DataFrame()\n",
    "for col in df_fragments.columns:\n",
    "    num_unique_values = len(df_fragments[col].unique())\n",
    "    num_total_values = len(df_fragments[col])\n",
    "    if num_unique_values / num_total_values < 0.5:\n",
    "        converted_fragments.loc[:,col] = df_fragments[col].astype('category')\n",
    "    else:\n",
    "        converted_fragments.loc[:,col] = df_fragments[col]"
   ]
  },
  {
   "cell_type": "code",
   "execution_count": null,
   "id": "absolute-twelve",
   "metadata": {},
   "outputs": [],
   "source": [
    "df_peaks = df_peaks.sort_values(['chr','start','end'])\n",
    "df_fragments = df_fragments.sort_values(['chr','start','end'])"
   ]
  },
  {
   "cell_type": "code",
   "execution_count": null,
   "id": "revised-essay",
   "metadata": {},
   "outputs": [],
   "source": [
    "df_peaks1 = df_peaks1.sort_values(['chr','start','end'])\n",
    "df_fragments1 = df_fragments1.sort_values(['chr','start','end'])"
   ]
  },
  {
   "cell_type": "code",
   "execution_count": null,
   "id": "occasional-management",
   "metadata": {},
   "outputs": [],
   "source": [
    "converted_peaks = converted_peaks.sort_values(['chr','start','end'])\n",
    "converted_fragments = converted_fragments.sort_values(['chr','start','end'])"
   ]
  },
  {
   "cell_type": "code",
   "execution_count": null,
   "id": "historical-regard",
   "metadata": {},
   "outputs": [],
   "source": [
    "print(str(sys.getsizeof(df_fragments)/1024/1024)+' MB')"
   ]
  },
  {
   "cell_type": "code",
   "execution_count": null,
   "id": "emerging-thing",
   "metadata": {},
   "outputs": [],
   "source": [
    "print(str(sys.getsizeof(df_fragments1)/1024/1024)+' MB')"
   ]
  },
  {
   "cell_type": "code",
   "execution_count": null,
   "id": "forty-abuse",
   "metadata": {},
   "outputs": [],
   "source": [
    "print(str(sys.getsizeof(converted_fragments)/1024/1024)+' MB')"
   ]
  },
  {
   "cell_type": "code",
   "execution_count": null,
   "id": "killing-nevada",
   "metadata": {},
   "outputs": [],
   "source": [
    "print(str(sys.getsizeof(df_peaks)/1024/1024)+' MB')"
   ]
  },
  {
   "cell_type": "code",
   "execution_count": null,
   "id": "false-prayer",
   "metadata": {},
   "outputs": [],
   "source": [
    "print(str(sys.getsizeof(df_peaks1)/1024/1024)+' MB')"
   ]
  },
  {
   "cell_type": "code",
   "execution_count": null,
   "id": "happy-hammer",
   "metadata": {},
   "outputs": [],
   "source": [
    "print(str(sys.getsizeof(converted_peaks)/1024/1024)+' MB')"
   ]
  },
  {
   "cell_type": "code",
   "execution_count": null,
   "id": "important-scale",
   "metadata": {},
   "outputs": [],
   "source": [
    "threads = 8\n",
    "#chunk_size\n",
    "chunk_size = 100\n",
    "df_peak_list = [df_peaks.iloc[ chunk_size*i: chunk_size*(i+1) ,:] for i in range(threads)]"
   ]
  },
  {
   "cell_type": "code",
   "execution_count": null,
   "id": "remarkable-affiliate",
   "metadata": {},
   "outputs": [],
   "source": [
    "# multiprocessing\n",
    "def get_df(df_peak):\n",
    "    index_res = set()\n",
    "    for _, data_peak in df_peak.iterrows():\n",
    "        peak_info = dict(data_peak)\n",
    "        frag_chr = df_fragments[df_fragments[\"chr\"] == peak_info[\"chr\"]]\n",
    "        frag_overlap_peak = frag_chr[ (frag_chr[\"start\"] >= peak_info[\"start\"]) & (frag_chr[\"end\"] <= peak_info[\"end\"])] \n",
    "        index_res.update(set(frag_overlap_peak.index))\n",
    "    return index_res"
   ]
  },
  {
   "cell_type": "code",
   "execution_count": null,
   "id": "legendary-marks",
   "metadata": {},
   "outputs": [],
   "source": [
    "with Pool(threads) as p:\n",
    "    results = p.starmap(get_df, zip(df_peak_list))"
   ]
  },
  {
   "cell_type": "code",
   "execution_count": null,
   "id": "greek-tuition",
   "metadata": {},
   "outputs": [],
   "source": [
    "sum_data = set(itertools.chain.from_iterable(results))\n",
    "sum_data\n",
    "final_df = df_fragments[df_fragments.index.isin(sum_data)]"
   ]
  },
  {
   "cell_type": "code",
   "execution_count": null,
   "id": "local-authority",
   "metadata": {},
   "outputs": [],
   "source": [
    "final_df"
   ]
  },
  {
   "cell_type": "code",
   "execution_count": null,
   "id": "flush-wealth",
   "metadata": {},
   "outputs": [],
   "source": [
    "final_df.info(memory_usage='deep')"
   ]
  },
  {
   "cell_type": "code",
   "execution_count": null,
   "id": "promotional-notice",
   "metadata": {},
   "outputs": [],
   "source": []
  },
  {
   "cell_type": "code",
   "execution_count": null,
   "id": "infinite-shift",
   "metadata": {},
   "outputs": [],
   "source": [
    "df_peak_list = [df_peaks1.iloc[ chunk_size*i: chunk_size*(i+1) ,:] for i in range(threads)]"
   ]
  },
  {
   "cell_type": "code",
   "execution_count": null,
   "id": "hungarian-wisconsin",
   "metadata": {},
   "outputs": [],
   "source": [
    "# multiprocessing\n",
    "def get_df(df_peak):\n",
    "    index_res = set()\n",
    "    for _, data_peak in df_peak.iterrows():\n",
    "        peak_info = dict(data_peak)\n",
    "        frag_chr = df_fragments1[df_fragments1[\"chr\"] == peak_info[\"chr\"]]\n",
    "        frag_overlap_peak = frag_chr[ (frag_chr[\"start\"] >= peak_info[\"start\"]) & (frag_chr[\"end\"] <= peak_info[\"end\"])] \n",
    "        index_res.update(set(frag_overlap_peak.index))\n",
    "    return index_res"
   ]
  },
  {
   "cell_type": "code",
   "execution_count": null,
   "id": "touched-liberal",
   "metadata": {},
   "outputs": [],
   "source": [
    "with Pool(threads) as p:\n",
    "    results = p.starmap(get_df, zip(df_peak_list))"
   ]
  },
  {
   "cell_type": "code",
   "execution_count": null,
   "id": "ordinary-mechanism",
   "metadata": {},
   "outputs": [],
   "source": [
    "sum_data = set(itertools.chain.from_iterable(results))\n",
    "sum_data\n",
    "final_df1 = df_fragments1[df_fragments1.index.isin(sum_data)]"
   ]
  },
  {
   "cell_type": "code",
   "execution_count": null,
   "id": "useful-lemon",
   "metadata": {},
   "outputs": [],
   "source": [
    "final_df1"
   ]
  },
  {
   "cell_type": "code",
   "execution_count": null,
   "id": "nearby-substance",
   "metadata": {},
   "outputs": [],
   "source": [
    "final_df1.info(memory_usage='deep')"
   ]
  },
  {
   "cell_type": "code",
   "execution_count": null,
   "id": "modified-extreme",
   "metadata": {},
   "outputs": [],
   "source": []
  },
  {
   "cell_type": "code",
   "execution_count": null,
   "id": "applied-zambia",
   "metadata": {},
   "outputs": [],
   "source": [
    "df_peak_list = [converted_peaks.iloc[ chunk_size*i: chunk_size*(i+1) ,:] for i in range(threads)]"
   ]
  },
  {
   "cell_type": "code",
   "execution_count": null,
   "id": "sweet-ideal",
   "metadata": {},
   "outputs": [],
   "source": [
    "# multiprocessing\n",
    "def get_df(df_peak):\n",
    "    index_res = set()\n",
    "    for _, data_peak in df_peak.iterrows():\n",
    "        peak_info = dict(data_peak)\n",
    "        frag_chr = converted_fragments[converted_fragments[\"chr\"] == peak_info[\"chr\"]]\n",
    "        frag_overlap_peak = frag_chr[ (frag_chr[\"start\"] >= peak_info[\"start\"]) & (frag_chr[\"end\"] <= peak_info[\"end\"])] \n",
    "        index_res.update(set(frag_overlap_peak.index))\n",
    "    return index_res"
   ]
  },
  {
   "cell_type": "code",
   "execution_count": null,
   "id": "hollow-double",
   "metadata": {},
   "outputs": [],
   "source": [
    "with Pool(threads) as p:\n",
    "    results = p.starmap(get_df, zip(df_peak_list))"
   ]
  },
  {
   "cell_type": "code",
   "execution_count": null,
   "id": "vocational-bracelet",
   "metadata": {},
   "outputs": [],
   "source": [
    "sum_data = set(itertools.chain.from_iterable(results))\n",
    "sum_data\n",
    "final_df2 = converted_fragments[converted_fragments.index.isin(sum_data)]"
   ]
  },
  {
   "cell_type": "code",
   "execution_count": null,
   "id": "random-roads",
   "metadata": {},
   "outputs": [],
   "source": [
    "final_df2"
   ]
  },
  {
   "cell_type": "code",
   "execution_count": null,
   "id": "eligible-absorption",
   "metadata": {},
   "outputs": [],
   "source": [
    "final_df2.info(memory_usage='deep')"
   ]
  },
  {
   "cell_type": "code",
   "execution_count": null,
   "id": "smaller-complaint",
   "metadata": {},
   "outputs": [],
   "source": []
  },
  {
   "cell_type": "code",
   "execution_count": 271,
   "id": "premier-jacob",
   "metadata": {},
   "outputs": [
    {
     "data": {
      "text/html": [
       "<div>\n",
       "<style scoped>\n",
       "    .dataframe tbody tr th:only-of-type {\n",
       "        vertical-align: middle;\n",
       "    }\n",
       "\n",
       "    .dataframe tbody tr th {\n",
       "        vertical-align: top;\n",
       "    }\n",
       "\n",
       "    .dataframe thead th {\n",
       "        text-align: right;\n",
       "    }\n",
       "</style>\n",
       "<table border=\"1\" class=\"dataframe\">\n",
       "  <thead>\n",
       "    <tr style=\"text-align: right;\">\n",
       "      <th></th>\n",
       "      <th>chr</th>\n",
       "      <th>start</th>\n",
       "      <th>end</th>\n",
       "    </tr>\n",
       "  </thead>\n",
       "  <tbody>\n",
       "    <tr>\n",
       "      <th>0</th>\n",
       "      <td>chr1</td>\n",
       "      <td>4768517</td>\n",
       "      <td>4768778</td>\n",
       "    </tr>\n",
       "    <tr>\n",
       "      <th>1</th>\n",
       "      <td>chr1</td>\n",
       "      <td>4785335</td>\n",
       "      <td>4786194</td>\n",
       "    </tr>\n",
       "    <tr>\n",
       "      <th>2</th>\n",
       "      <td>chr1</td>\n",
       "      <td>4807373</td>\n",
       "      <td>4808300</td>\n",
       "    </tr>\n",
       "    <tr>\n",
       "      <th>3</th>\n",
       "      <td>chr1</td>\n",
       "      <td>4857419</td>\n",
       "      <td>4858586</td>\n",
       "    </tr>\n",
       "    <tr>\n",
       "      <th>4</th>\n",
       "      <td>chr1</td>\n",
       "      <td>5082842</td>\n",
       "      <td>5083595</td>\n",
       "    </tr>\n",
       "    <tr>\n",
       "      <th>...</th>\n",
       "      <td>...</td>\n",
       "      <td>...</td>\n",
       "      <td>...</td>\n",
       "    </tr>\n",
       "    <tr>\n",
       "      <th>51862</th>\n",
       "      <td>chrY</td>\n",
       "      <td>90761198</td>\n",
       "      <td>90761746</td>\n",
       "    </tr>\n",
       "    <tr>\n",
       "      <th>51863</th>\n",
       "      <td>chrY</td>\n",
       "      <td>90798987</td>\n",
       "      <td>90799576</td>\n",
       "    </tr>\n",
       "    <tr>\n",
       "      <th>51864</th>\n",
       "      <td>chrY</td>\n",
       "      <td>90800522</td>\n",
       "      <td>90800811</td>\n",
       "    </tr>\n",
       "    <tr>\n",
       "      <th>51865</th>\n",
       "      <td>chrY</td>\n",
       "      <td>90805049</td>\n",
       "      <td>90805601</td>\n",
       "    </tr>\n",
       "    <tr>\n",
       "      <th>51866</th>\n",
       "      <td>chrY</td>\n",
       "      <td>90807656</td>\n",
       "      <td>90808917</td>\n",
       "    </tr>\n",
       "  </tbody>\n",
       "</table>\n",
       "<p>51867 rows × 3 columns</p>\n",
       "</div>"
      ],
      "text/plain": [
       "        chr     start       end\n",
       "0      chr1   4768517   4768778\n",
       "1      chr1   4785335   4786194\n",
       "2      chr1   4807373   4808300\n",
       "3      chr1   4857419   4858586\n",
       "4      chr1   5082842   5083595\n",
       "...     ...       ...       ...\n",
       "51862  chrY  90761198  90761746\n",
       "51863  chrY  90798987  90799576\n",
       "51864  chrY  90800522  90800811\n",
       "51865  chrY  90805049  90805601\n",
       "51866  chrY  90807656  90808917\n",
       "\n",
       "[51867 rows x 3 columns]"
      ]
     },
     "execution_count": 271,
     "metadata": {},
     "output_type": "execute_result"
    }
   ],
   "source": [
    "df_peaks"
   ]
  },
  {
   "cell_type": "code",
   "execution_count": 272,
   "id": "natural-hospital",
   "metadata": {},
   "outputs": [
    {
     "data": {
      "text/html": [
       "<div>\n",
       "<style scoped>\n",
       "    .dataframe tbody tr th:only-of-type {\n",
       "        vertical-align: middle;\n",
       "    }\n",
       "\n",
       "    .dataframe tbody tr th {\n",
       "        vertical-align: top;\n",
       "    }\n",
       "\n",
       "    .dataframe thead th {\n",
       "        text-align: right;\n",
       "    }\n",
       "</style>\n",
       "<table border=\"1\" class=\"dataframe\">\n",
       "  <thead>\n",
       "    <tr style=\"text-align: right;\">\n",
       "      <th></th>\n",
       "      <th>chr</th>\n",
       "      <th>start</th>\n",
       "      <th>end</th>\n",
       "      <th>barcode</th>\n",
       "      <th>count</th>\n",
       "    </tr>\n",
       "  </thead>\n",
       "  <tbody>\n",
       "    <tr>\n",
       "      <th>165035</th>\n",
       "      <td>chr1</td>\n",
       "      <td>3003786</td>\n",
       "      <td>3003903</td>\n",
       "      <td>AACAATTGGCTTCTTTTGAC</td>\n",
       "      <td>1</td>\n",
       "    </tr>\n",
       "    <tr>\n",
       "      <th>1633690</th>\n",
       "      <td>chr1</td>\n",
       "      <td>3003975</td>\n",
       "      <td>3004005</td>\n",
       "      <td>ACCCTTCAGGATCATGACCC</td>\n",
       "      <td>1</td>\n",
       "    </tr>\n",
       "    <tr>\n",
       "      <th>10348822</th>\n",
       "      <td>chr1</td>\n",
       "      <td>3004652</td>\n",
       "      <td>3004699</td>\n",
       "      <td>GAAAAGTGTGCGTACCCGCC</td>\n",
       "      <td>1</td>\n",
       "    </tr>\n",
       "    <tr>\n",
       "      <th>2386893</th>\n",
       "      <td>chr1</td>\n",
       "      <td>3004791</td>\n",
       "      <td>3004834</td>\n",
       "      <td>ACTGGTTGCATCCTAGCCCA</td>\n",
       "      <td>2</td>\n",
       "    </tr>\n",
       "    <tr>\n",
       "      <th>15793733</th>\n",
       "      <td>chr1</td>\n",
       "      <td>3005277</td>\n",
       "      <td>3005613</td>\n",
       "      <td>TCAACTTAGTGAGCACGTCC</td>\n",
       "      <td>3</td>\n",
       "    </tr>\n",
       "    <tr>\n",
       "      <th>...</th>\n",
       "      <td>...</td>\n",
       "      <td>...</td>\n",
       "      <td>...</td>\n",
       "      <td>...</td>\n",
       "      <td>...</td>\n",
       "    </tr>\n",
       "    <tr>\n",
       "      <th>9833889</th>\n",
       "      <td>chrY</td>\n",
       "      <td>90828968</td>\n",
       "      <td>90829015</td>\n",
       "      <td>CTTCAGGCGATGTTTCATTC</td>\n",
       "      <td>1</td>\n",
       "    </tr>\n",
       "    <tr>\n",
       "      <th>3749131</th>\n",
       "      <td>chrY</td>\n",
       "      <td>90828971</td>\n",
       "      <td>90829014</td>\n",
       "      <td>AGTCTGTTCTAGGCCAGTAC</td>\n",
       "      <td>3</td>\n",
       "    </tr>\n",
       "    <tr>\n",
       "      <th>502508</th>\n",
       "      <td>chrY</td>\n",
       "      <td>90828984</td>\n",
       "      <td>90829202</td>\n",
       "      <td>AAGTGTACGTTGCAAGGGTC</td>\n",
       "      <td>2</td>\n",
       "    </tr>\n",
       "    <tr>\n",
       "      <th>15917205</th>\n",
       "      <td>chrY</td>\n",
       "      <td>90829080</td>\n",
       "      <td>90829202</td>\n",
       "      <td>TCATTCATGGTGGAACACAC</td>\n",
       "      <td>1</td>\n",
       "    </tr>\n",
       "    <tr>\n",
       "      <th>17509055</th>\n",
       "      <td>chrY</td>\n",
       "      <td>90829176</td>\n",
       "      <td>90829544</td>\n",
       "      <td>TGCGGGGATCGCATCGAGAC</td>\n",
       "      <td>1</td>\n",
       "    </tr>\n",
       "  </tbody>\n",
       "</table>\n",
       "<p>19469896 rows × 5 columns</p>\n",
       "</div>"
      ],
      "text/plain": [
       "           chr     start       end               barcode  count\n",
       "165035    chr1   3003786   3003903  AACAATTGGCTTCTTTTGAC      1\n",
       "1633690   chr1   3003975   3004005  ACCCTTCAGGATCATGACCC      1\n",
       "10348822  chr1   3004652   3004699  GAAAAGTGTGCGTACCCGCC      1\n",
       "2386893   chr1   3004791   3004834  ACTGGTTGCATCCTAGCCCA      2\n",
       "15793733  chr1   3005277   3005613  TCAACTTAGTGAGCACGTCC      3\n",
       "...        ...       ...       ...                   ...    ...\n",
       "9833889   chrY  90828968  90829015  CTTCAGGCGATGTTTCATTC      1\n",
       "3749131   chrY  90828971  90829014  AGTCTGTTCTAGGCCAGTAC      3\n",
       "502508    chrY  90828984  90829202  AAGTGTACGTTGCAAGGGTC      2\n",
       "15917205  chrY  90829080  90829202  TCATTCATGGTGGAACACAC      1\n",
       "17509055  chrY  90829176  90829544  TGCGGGGATCGCATCGAGAC      1\n",
       "\n",
       "[19469896 rows x 5 columns]"
      ]
     },
     "execution_count": 272,
     "metadata": {},
     "output_type": "execute_result"
    }
   ],
   "source": [
    "df_fragments[df_fragments['']]"
   ]
  },
  {
   "cell_type": "code",
   "execution_count": null,
   "id": "eight-chrome",
   "metadata": {},
   "outputs": [],
   "source": [
    "len(set(df_fragments.end))"
   ]
  },
  {
   "cell_type": "code",
   "execution_count": null,
   "id": "afraid-freeware",
   "metadata": {},
   "outputs": [],
   "source": [
    "threads = 4\n",
    "#chunk_size\n",
    "chunk_size = 100\n",
    "df_peak_list = [df_peaks.iloc[ chunk_size*i: chunk_size*(i+1) ,:] for i in range(threads)]"
   ]
  },
  {
   "cell_type": "code",
   "execution_count": null,
   "id": "upper-grounds",
   "metadata": {},
   "outputs": [],
   "source": [
    "# multiprocessing\n",
    "def get_df(df_peak, df_fragments_copy):\n",
    "    index_res = set()\n",
    "    df_fragments_copy = df_fragments_copy[df_fragments_copy['chr'].isin(set(df_peaks['chr']))]\n",
    "    for _, data_peak in df_peak.iterrows():\n",
    "        peak_info = dict(data_peak)\n",
    "        frag_chr = df_fragments_copy[df_fragments_copy[\"chr\"] == peak_info[\"chr\"]]\n",
    "        frag_overlap_peak = frag_chr[ (frag_chr[\"start\"] >= peak_info[\"start\"]) & (frag_chr[\"end\"] <= peak_info[\"end\"])] \n",
    "        frag_overlap_peak_index = set(frag_overlap_peak.index)\n",
    "        index_res.update(frag_overlap_peak_index)\n",
    "        df_fragments_copy = df_fragments_copy[~df_fragments_copy.index.isin(frag_overlap_peak_index)]\n",
    "    return index_res"
   ]
  },
  {
   "cell_type": "code",
   "execution_count": null,
   "id": "compressed-nevada",
   "metadata": {},
   "outputs": [],
   "source": [
    "with Pool(threads) as p:\n",
    "    results = p.starmap(get_df, zip(df_peak_list, [df_fragments.copy()]*threads))"
   ]
  },
  {
   "cell_type": "code",
   "execution_count": null,
   "id": "needed-tunnel",
   "metadata": {},
   "outputs": [],
   "source": [
    "sum_data = set(itertools.chain.from_iterable(results))\n",
    "sum_data\n",
    "final_df = df_fragments[df_fragments.index.isin(sum_data)]"
   ]
  },
  {
   "cell_type": "code",
   "execution_count": null,
   "id": "transsexual-thermal",
   "metadata": {},
   "outputs": [],
   "source": [
    "final_df"
   ]
  },
  {
   "cell_type": "code",
   "execution_count": null,
   "id": "incorporate-springfield",
   "metadata": {},
   "outputs": [],
   "source": [
    "final_df"
   ]
  },
  {
   "cell_type": "code",
   "execution_count": null,
   "id": "wanted-friendly",
   "metadata": {},
   "outputs": [],
   "source": []
  },
  {
   "cell_type": "code",
   "execution_count": null,
   "id": "premium-motion",
   "metadata": {},
   "outputs": [],
   "source": [
    "df_peaks"
   ]
  },
  {
   "cell_type": "code",
   "execution_count": 277,
   "id": "built-wellington",
   "metadata": {},
   "outputs": [],
   "source": [
    "df_peaks_chr = df_peaks[df_peaks['chr']=='chr1']\n",
    "df_fragments_chr = df_fragments[df_fragments['chr']=='chr1']"
   ]
  },
  {
   "cell_type": "code",
   "execution_count": 278,
   "id": "funny-decision",
   "metadata": {},
   "outputs": [
    {
     "data": {
      "text/html": [
       "<div>\n",
       "<style scoped>\n",
       "    .dataframe tbody tr th:only-of-type {\n",
       "        vertical-align: middle;\n",
       "    }\n",
       "\n",
       "    .dataframe tbody tr th {\n",
       "        vertical-align: top;\n",
       "    }\n",
       "\n",
       "    .dataframe thead th {\n",
       "        text-align: right;\n",
       "    }\n",
       "</style>\n",
       "<table border=\"1\" class=\"dataframe\">\n",
       "  <thead>\n",
       "    <tr style=\"text-align: right;\">\n",
       "      <th></th>\n",
       "      <th>chr</th>\n",
       "      <th>start</th>\n",
       "      <th>end</th>\n",
       "    </tr>\n",
       "  </thead>\n",
       "  <tbody>\n",
       "    <tr>\n",
       "      <th>0</th>\n",
       "      <td>chr1</td>\n",
       "      <td>4768517</td>\n",
       "      <td>4768778</td>\n",
       "    </tr>\n",
       "    <tr>\n",
       "      <th>1</th>\n",
       "      <td>chr1</td>\n",
       "      <td>4785335</td>\n",
       "      <td>4786194</td>\n",
       "    </tr>\n",
       "    <tr>\n",
       "      <th>2</th>\n",
       "      <td>chr1</td>\n",
       "      <td>4807373</td>\n",
       "      <td>4808300</td>\n",
       "    </tr>\n",
       "    <tr>\n",
       "      <th>3</th>\n",
       "      <td>chr1</td>\n",
       "      <td>4857419</td>\n",
       "      <td>4858586</td>\n",
       "    </tr>\n",
       "    <tr>\n",
       "      <th>4</th>\n",
       "      <td>chr1</td>\n",
       "      <td>5082842</td>\n",
       "      <td>5083595</td>\n",
       "    </tr>\n",
       "    <tr>\n",
       "      <th>...</th>\n",
       "      <td>...</td>\n",
       "      <td>...</td>\n",
       "      <td>...</td>\n",
       "    </tr>\n",
       "    <tr>\n",
       "      <th>3546</th>\n",
       "      <td>chr1</td>\n",
       "      <td>195204846</td>\n",
       "      <td>195205011</td>\n",
       "    </tr>\n",
       "    <tr>\n",
       "      <th>3547</th>\n",
       "      <td>chr1</td>\n",
       "      <td>195211204</td>\n",
       "      <td>195211453</td>\n",
       "    </tr>\n",
       "    <tr>\n",
       "      <th>3548</th>\n",
       "      <td>chr1</td>\n",
       "      <td>195232585</td>\n",
       "      <td>195233063</td>\n",
       "    </tr>\n",
       "    <tr>\n",
       "      <th>3549</th>\n",
       "      <td>chr1</td>\n",
       "      <td>195241504</td>\n",
       "      <td>195242029</td>\n",
       "    </tr>\n",
       "    <tr>\n",
       "      <th>3550</th>\n",
       "      <td>chr1</td>\n",
       "      <td>195308846</td>\n",
       "      <td>195309482</td>\n",
       "    </tr>\n",
       "  </tbody>\n",
       "</table>\n",
       "<p>3551 rows × 3 columns</p>\n",
       "</div>"
      ],
      "text/plain": [
       "       chr      start        end\n",
       "0     chr1    4768517    4768778\n",
       "1     chr1    4785335    4786194\n",
       "2     chr1    4807373    4808300\n",
       "3     chr1    4857419    4858586\n",
       "4     chr1    5082842    5083595\n",
       "...    ...        ...        ...\n",
       "3546  chr1  195204846  195205011\n",
       "3547  chr1  195211204  195211453\n",
       "3548  chr1  195232585  195233063\n",
       "3549  chr1  195241504  195242029\n",
       "3550  chr1  195308846  195309482\n",
       "\n",
       "[3551 rows x 3 columns]"
      ]
     },
     "execution_count": 278,
     "metadata": {},
     "output_type": "execute_result"
    }
   ],
   "source": [
    "df_peaks_chr"
   ]
  },
  {
   "cell_type": "code",
   "execution_count": 285,
   "id": "effective-helping",
   "metadata": {},
   "outputs": [],
   "source": [
    "ranges_peaks = list(zip(df_peaks_chr.start, df_peaks_chr.end))"
   ]
  },
  {
   "cell_type": "code",
   "execution_count": 286,
   "id": "marine-validation",
   "metadata": {},
   "outputs": [
    {
     "data": {
      "text/plain": [
       "(4768517, 4768778)"
      ]
     },
     "execution_count": 286,
     "metadata": {},
     "output_type": "execute_result"
    }
   ],
   "source": [
    "ranges_peaks[0]"
   ]
  },
  {
   "cell_type": "code",
   "execution_count": 287,
   "id": "incorporated-xerox",
   "metadata": {},
   "outputs": [],
   "source": [
    "ranges_fragments = list(zip(df_fragments_chr.start, df_fragments_chr.end))"
   ]
  },
  {
   "cell_type": "code",
   "execution_count": 288,
   "id": "center-london",
   "metadata": {},
   "outputs": [
    {
     "data": {
      "text/plain": [
       "(3003786, 3003903)"
      ]
     },
     "execution_count": 288,
     "metadata": {},
     "output_type": "execute_result"
    }
   ],
   "source": [
    "ranges_fragments[0]"
   ]
  },
  {
   "cell_type": "code",
   "execution_count": null,
   "id": "guided-continuity",
   "metadata": {},
   "outputs": [],
   "source": [
    "for range_fragments in ranges_fragments:\n",
    "    if range_fragment in "
   ]
  },
  {
   "cell_type": "code",
   "execution_count": null,
   "id": "sophisticated-genius",
   "metadata": {},
   "outputs": [],
   "source": []
  },
  {
   "cell_type": "code",
   "execution_count": null,
   "id": "dramatic-psychology",
   "metadata": {},
   "outputs": [],
   "source": []
  },
  {
   "cell_type": "code",
   "execution_count": null,
   "id": "bearing-demographic",
   "metadata": {},
   "outputs": [],
   "source": []
  },
  {
   "cell_type": "code",
   "execution_count": 9,
   "id": "theoretical-recruitment",
   "metadata": {},
   "outputs": [
    {
     "name": "stdout",
     "output_type": "stream",
     "text": [
      "chr1\n",
      "4768517\n",
      "4768778\n"
     ]
    }
   ],
   "source": [
    "        for _, data_peak in df_peaks.iterrows():\n",
    "            print(data_peak[\"chr\"])\n",
    "            print(data_peak[\"start\"])\n",
    "            print(data_peak[\"end\"])\n",
    "            break\n",
    "#             peak_info = dict(data_peak)\n",
    "#             frag_chr = df_fragments[df_fragments[\"chr\"] == peak_info[\"chr\"]]\n",
    "#             frag_overlap_peak = frag_chr[ (frag_chr[\"start\"] >= peak_info[\"start\"]) & (frag_chr[\"end\"] <= peak_info[\"end\"])]\n",
    "#             index_res.update(set(frag_overlap_peak.index))"
   ]
  },
  {
   "cell_type": "code",
   "execution_count": 12,
   "id": "charitable-result",
   "metadata": {},
   "outputs": [],
   "source": [
    "peaks_count = df_peaks.shape[0]\n",
    "chunk_size = peaks_count // 8 + 1\n",
    "df_peak_list = [df_peaks.iloc[ chunk_size*i: chunk_size*(i+1), :] for i in range(8)]"
   ]
  },
  {
   "cell_type": "code",
   "execution_count": 14,
   "id": "strange-lightweight",
   "metadata": {},
   "outputs": [],
   "source": [
    "len(df_peak_list)"
   ]
  },
  {
   "cell_type": "code",
   "execution_count": 14,
   "id": "engaging-entity",
   "metadata": {},
   "outputs": [],
   "source": [
    "df_peak_list"
   ]
  },
  {
   "cell_type": "code",
   "execution_count": 18,
   "id": "funny-business",
   "metadata": {},
   "outputs": [],
   "source": [
    "a = [set(i.chr) for i in df_peak_list]"
   ]
  },
  {
   "cell_type": "code",
   "execution_count": 20,
   "id": "hindu-attendance",
   "metadata": {},
   "outputs": [
    {
     "data": {
      "text/plain": [
       "[{'chr1', 'chr10', 'chr11'},\n",
       " {'chr11', 'chr12', 'chr13'},\n",
       " {'chr13', 'chr14', 'chr15', 'chr16'},\n",
       " {'chr16', 'chr17', 'chr18', 'chr19'},\n",
       " {'chr19', 'chr2', 'chr3'},\n",
       " {'chr3', 'chr4', 'chr5'},\n",
       " {'chr5', 'chr6', 'chr7'},\n",
       " {'chr7', 'chr8', 'chr9', 'chrX', 'chrY'}]"
      ]
     },
     "execution_count": 20,
     "metadata": {},
     "output_type": "execute_result"
    }
   ],
   "source": [
    "a"
   ]
  },
  {
   "cell_type": "code",
   "execution_count": 19,
   "id": "adaptive-enlargement",
   "metadata": {},
   "outputs": [],
   "source": [
    "df_fragment_list = [df_fragments[df_fragments['chr'].isin(i)] for i in a]"
   ]
  },
  {
   "cell_type": "code",
   "execution_count": 35,
   "id": "decreased-deposit",
   "metadata": {},
   "outputs": [
    {
     "data": {
      "text/plain": [
       "26693299"
      ]
     },
     "execution_count": 35,
     "metadata": {},
     "output_type": "execute_result"
    }
   ],
   "source": [
    "sum([i.shape[0] for i in df_fragment_list])"
   ]
  },
  {
   "cell_type": "code",
   "execution_count": 39,
   "id": "realistic-province",
   "metadata": {},
   "outputs": [
    {
     "data": {
      "text/html": [
       "<div>\n",
       "<style scoped>\n",
       "    .dataframe tbody tr th:only-of-type {\n",
       "        vertical-align: middle;\n",
       "    }\n",
       "\n",
       "    .dataframe tbody tr th {\n",
       "        vertical-align: top;\n",
       "    }\n",
       "\n",
       "    .dataframe thead th {\n",
       "        text-align: right;\n",
       "    }\n",
       "</style>\n",
       "<table border=\"1\" class=\"dataframe\">\n",
       "  <thead>\n",
       "    <tr style=\"text-align: right;\">\n",
       "      <th></th>\n",
       "      <th>chr</th>\n",
       "      <th>start</th>\n",
       "      <th>end</th>\n",
       "      <th>barcode</th>\n",
       "      <th>count</th>\n",
       "    </tr>\n",
       "  </thead>\n",
       "  <tbody>\n",
       "    <tr>\n",
       "      <th>0</th>\n",
       "      <td>chr2</td>\n",
       "      <td>93428094</td>\n",
       "      <td>93428159</td>\n",
       "      <td>AACAATAACGTCTCAACAAT</td>\n",
       "      <td>2</td>\n",
       "    </tr>\n",
       "    <tr>\n",
       "      <th>1</th>\n",
       "      <td>chr3</td>\n",
       "      <td>68786956</td>\n",
       "      <td>68787033</td>\n",
       "      <td>AACAATAACGTCTCAACAAT</td>\n",
       "      <td>1</td>\n",
       "    </tr>\n",
       "    <tr>\n",
       "      <th>2</th>\n",
       "      <td>chr10</td>\n",
       "      <td>86043406</td>\n",
       "      <td>86043558</td>\n",
       "      <td>AACAATAACGTCTCAACGCG</td>\n",
       "      <td>1</td>\n",
       "    </tr>\n",
       "    <tr>\n",
       "      <th>3</th>\n",
       "      <td>chr11</td>\n",
       "      <td>79710911</td>\n",
       "      <td>79710960</td>\n",
       "      <td>AACAATAACGTCTCACACAC</td>\n",
       "      <td>1</td>\n",
       "    </tr>\n",
       "    <tr>\n",
       "      <th>4</th>\n",
       "      <td>chr10</td>\n",
       "      <td>124814740</td>\n",
       "      <td>124815078</td>\n",
       "      <td>AACAATAACGTCTCACAGTG</td>\n",
       "      <td>1</td>\n",
       "    </tr>\n",
       "    <tr>\n",
       "      <th>...</th>\n",
       "      <td>...</td>\n",
       "      <td>...</td>\n",
       "      <td>...</td>\n",
       "      <td>...</td>\n",
       "      <td>...</td>\n",
       "    </tr>\n",
       "    <tr>\n",
       "      <th>19469891</th>\n",
       "      <td>chr16</td>\n",
       "      <td>62368656</td>\n",
       "      <td>62368704</td>\n",
       "      <td>TTTTTGTTGTCCGATTTGAC</td>\n",
       "      <td>1</td>\n",
       "    </tr>\n",
       "    <tr>\n",
       "      <th>19469892</th>\n",
       "      <td>chr19</td>\n",
       "      <td>21860387</td>\n",
       "      <td>21860415</td>\n",
       "      <td>TTTTTGTTGTCCGATTTGAC</td>\n",
       "      <td>2</td>\n",
       "    </tr>\n",
       "    <tr>\n",
       "      <th>19469893</th>\n",
       "      <td>chr3</td>\n",
       "      <td>105895222</td>\n",
       "      <td>105895250</td>\n",
       "      <td>TTTTTGTTGTCCGATTTGAC</td>\n",
       "      <td>1</td>\n",
       "    </tr>\n",
       "    <tr>\n",
       "      <th>19469894</th>\n",
       "      <td>chr3</td>\n",
       "      <td>62632471</td>\n",
       "      <td>62632522</td>\n",
       "      <td>TTTTTGTTGTCCGATTTGAC</td>\n",
       "      <td>1</td>\n",
       "    </tr>\n",
       "    <tr>\n",
       "      <th>19469895</th>\n",
       "      <td>chr9</td>\n",
       "      <td>104002372</td>\n",
       "      <td>104002604</td>\n",
       "      <td>TTTTTGTTGTCCGATTTGAC</td>\n",
       "      <td>1</td>\n",
       "    </tr>\n",
       "  </tbody>\n",
       "</table>\n",
       "<p>19469896 rows × 5 columns</p>\n",
       "</div>"
      ],
      "text/plain": [
       "            chr      start        end               barcode  count\n",
       "0          chr2   93428094   93428159  AACAATAACGTCTCAACAAT      2\n",
       "1          chr3   68786956   68787033  AACAATAACGTCTCAACAAT      1\n",
       "2         chr10   86043406   86043558  AACAATAACGTCTCAACGCG      1\n",
       "3         chr11   79710911   79710960  AACAATAACGTCTCACACAC      1\n",
       "4         chr10  124814740  124815078  AACAATAACGTCTCACAGTG      1\n",
       "...         ...        ...        ...                   ...    ...\n",
       "19469891  chr16   62368656   62368704  TTTTTGTTGTCCGATTTGAC      1\n",
       "19469892  chr19   21860387   21860415  TTTTTGTTGTCCGATTTGAC      2\n",
       "19469893   chr3  105895222  105895250  TTTTTGTTGTCCGATTTGAC      1\n",
       "19469894   chr3   62632471   62632522  TTTTTGTTGTCCGATTTGAC      1\n",
       "19469895   chr9  104002372  104002604  TTTTTGTTGTCCGATTTGAC      1\n",
       "\n",
       "[19469896 rows x 5 columns]"
      ]
     },
     "execution_count": 39,
     "metadata": {},
     "output_type": "execute_result"
    }
   ],
   "source": [
    "df_fragments"
   ]
  },
  {
   "cell_type": "code",
   "execution_count": null,
   "id": "vocational-accreditation",
   "metadata": {},
   "outputs": [],
   "source": []
  },
  {
   "cell_type": "code",
   "execution_count": null,
   "id": "endangered-montana",
   "metadata": {},
   "outputs": [],
   "source": []
  }
 ],
 "metadata": {
  "kernelspec": {
   "display_name": "trust4_1.7",
   "language": "python",
   "name": "trust4_1.7"
  },
  "language_info": {
   "codemirror_mode": {
    "name": "ipython",
    "version": 3
   },
   "file_extension": ".py",
   "mimetype": "text/x-python",
   "name": "python",
   "nbconvert_exporter": "python",
   "pygments_lexer": "ipython3",
   "version": "3.7.10"
  }
 },
 "nbformat": 4,
 "nbformat_minor": 5
}
