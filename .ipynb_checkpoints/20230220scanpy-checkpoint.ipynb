{
 "cells": [
  {
   "cell_type": "code",
   "execution_count": null,
   "id": "electoral-eligibility",
   "metadata": {},
   "outputs": [],
   "source": [
    "import scanpy as sc\n",
    "import pandas as pd"
   ]
  },
  {
   "cell_type": "code",
   "execution_count": null,
   "id": "faced-supply",
   "metadata": {},
   "outputs": [],
   "source": [
    "ad = sc.read_h5ad(\"/SGRNJ06/randd/USER/cjj/celedev/XZMU/20230220subsetTharmony/P22030204_230112_homo_PBMC.diff_PRO.h5ad\")"
   ]
  },
  {
   "cell_type": "code",
   "execution_count": null,
   "id": "polar-emergency",
   "metadata": {},
   "outputs": [],
   "source": [
    "ad.obs"
   ]
  },
  {
   "cell_type": "code",
   "execution_count": null,
   "id": "accepted-thermal",
   "metadata": {},
   "outputs": [],
   "source": [
    "DYC0 = pd.read_csv('/SGRNJ06/randd/USER/cjj/celedev/XZMU/20230220subsetTharmony/DYC-0-X1CJ_filtered_UMI.csv')\n",
    "DYC1 = pd.read_csv('/SGRNJ06/randd/USER/cjj/celedev/XZMU/20230220subsetTharmony/DYC-1-X1CJ_filtered_UMI.csv')\n",
    "DYC2 = pd.read_csv('/SGRNJ06/randd/USER/cjj/celedev/XZMU/20230220subsetTharmony/DYC-2-X1CJ_filtered_UMI.csv')\n",
    "WYP0 = pd.read_csv('/SGRNJ06/randd/USER/cjj/celedev/XZMU/20230220subsetTharmony/WYP-0-X2CJ_filtered_UMI.csv')\n",
    "WYP1 = pd.read_csv('/SGRNJ06/randd/USER/cjj/celedev/XZMU/20230220subsetTharmony/WYP-1-X1CJ_filtered_UMI.csv')\n",
    "WYP2 = pd.read_csv('/SGRNJ06/randd/USER/cjj/celedev/XZMU/20230220subsetTharmony/WYP-2-X2CJ_filtered_UMI.csv')\n",
    "GC0 = pd.read_csv('/SGRNJ06/randd/USER/cjj/celedev/XZMU/20230220subsetTharmony/220309010_404_FJ_filtered_UMI.csv')\n",
    "GC1 = pd.read_csv('/SGRNJ06/randd/USER/cjj/celedev/XZMU/20230220subsetTharmony/220303012CD_FJ_filtered_UMI.csv')\n",
    "GC2 = pd.read_csv('/SGRNJ06/randd/USER/cjj/celedev/XZMU/20230220subsetTharmony/220305023ABC_FJ_filtered_UMI.csv')"
   ]
  },
  {
   "cell_type": "code",
   "execution_count": null,
   "id": "royal-substance",
   "metadata": {},
   "outputs": [],
   "source": [
    "DYC0.barcode = DYC0.barcode.apply(lambda x: f\"DYC0_{x}\")\n",
    "DYC0_cells = list(DYC0[DYC0[\"sum_UMI\"]!=0].barcode)\n",
    "DYC1.barcode = DYC1.barcode.apply(lambda x: f\"DYC1_{x}\")\n",
    "DYC1_cells = list(DYC1[DYC1[\"sum_UMI\"]!=0].barcode)\n",
    "DYC2.barcode = DYC2.barcode.apply(lambda x: f\"DYC2_{x}\")\n",
    "DYC2_cells = list(DYC2[DYC2[\"sum_UMI\"]!=0].barcode)\n",
    "\n",
    "WYP0.barcode = WYP0.barcode.apply(lambda x: f\"WYP0_{x}\")\n",
    "WYP0_cells = list(WYP0[WYP0[\"sum_UMI\"]!=0].barcode)\n",
    "WYP1.barcode = WYP1.barcode.apply(lambda x: f\"WYP1_{x}\")\n",
    "WYP1_cells = list(WYP1[WYP1[\"sum_UMI\"]!=0].barcode)\n",
    "WYP2.barcode = WYP2.barcode.apply(lambda x: f\"WYP2_{x}\")\n",
    "WYP2_cells = list(WYP2[WYP2[\"sum_UMI\"]!=0].barcode)\n",
    "\n",
    "GC0.barcode = GC0.barcode.apply(lambda x: f\"GC0_{x}\")\n",
    "GC0_cells = list(GC0[GC0[\"sum_UMI\"]!=0].barcode)\n",
    "GC1.barcode = GC1.barcode.apply(lambda x: f\"GC1_{x}\")\n",
    "GC1_cells = list(GC1[GC1[\"sum_UMI\"]!=0].barcode)\n",
    "GC2.barcode = GC2.barcode.apply(lambda x: f\"GC2_{x}\")\n",
    "GC2_cells = list(GC2[GC2[\"sum_UMI\"]!=0].barcode)"
   ]
  },
  {
   "cell_type": "code",
   "execution_count": null,
   "id": "delayed-brazilian",
   "metadata": {},
   "outputs": [],
   "source": [
    "cells = (DYC0_cells+DYC1_cells+DYC2_cells+WYP0_cells+WYP1_cells+WYP2_cells+GC0_cells+GC1_cells+GC2_cells)"
   ]
  },
  {
   "cell_type": "code",
   "execution_count": null,
   "id": "caring-airplane",
   "metadata": {},
   "outputs": [],
   "source": [
    "ad.obs.gname = \"car_neg\""
   ]
  },
  {
   "cell_type": "code",
   "execution_count": null,
   "id": "experimental-sharing",
   "metadata": {},
   "outputs": [],
   "source": [
    "ad.obs.loc[ad.obs.index.isin(cells), 'gname'] = 'car_pos'"
   ]
  },
  {
   "cell_type": "code",
   "execution_count": null,
   "id": "flying-yeast",
   "metadata": {},
   "outputs": [],
   "source": [
    "ad.obs.value_counts(\"gname\")"
   ]
  },
  {
   "cell_type": "code",
   "execution_count": null,
   "id": "buried-router",
   "metadata": {},
   "outputs": [],
   "source": [
    "ad.obs"
   ]
  },
  {
   "cell_type": "code",
   "execution_count": null,
   "id": "primary-munich",
   "metadata": {},
   "outputs": [],
   "source": [
    "ad.write(\"/SGRNJ06/randd/USER/cjj/celedev/XZMU/20230220subsetTharmony/rename.h5ad\")"
   ]
  },
  {
   "cell_type": "code",
   "execution_count": null,
   "id": "third-weekend",
   "metadata": {},
   "outputs": [],
   "source": [
    "ad"
   ]
  },
  {
   "cell_type": "code",
   "execution_count": null,
   "id": "charming-commission",
   "metadata": {},
   "outputs": [],
   "source": [
    "a = ad.obs[ad.obs[\"cluster\"]==\"TCells\"]"
   ]
  },
  {
   "cell_type": "code",
   "execution_count": null,
   "id": "computational-bosnia",
   "metadata": {},
   "outputs": [],
   "source": [
    "a.value_counts(\"gname\")"
   ]
  },
  {
   "cell_type": "code",
   "execution_count": null,
   "id": "closing-account",
   "metadata": {},
   "outputs": [],
   "source": []
  },
  {
   "cell_type": "code",
   "execution_count": null,
   "id": "interior-christopher",
   "metadata": {},
   "outputs": [],
   "source": []
  },
  {
   "cell_type": "code",
   "execution_count": null,
   "id": "ongoing-madonna",
   "metadata": {},
   "outputs": [],
   "source": [
    "import scanpy as sc\n",
    "import pandas as pd\n",
    "import matplotlib.pyplot as plt"
   ]
  },
  {
   "cell_type": "code",
   "execution_count": null,
   "id": "superb-friend",
   "metadata": {},
   "outputs": [],
   "source": [
    "h5ad = (\"/SGRNJ06/randd/USER/cjj/celedev/rna/20230301/M_0201SC_liver_SL_2_lib/06.analysis//M_0201SC_liver_SL_2_lib.h5ad\")"
   ]
  },
  {
   "cell_type": "code",
   "execution_count": null,
   "id": "innovative-night",
   "metadata": {},
   "outputs": [],
   "source": [
    "contig_file =(\"/SGRNJ06/randd/PROJECT/RD20073101_ScRNA_VDJ/2022_cm/20230227SCSN/SC_TCR1/M_0201SC_liver_SL_2_T3lib/05.match/matched_contig_annotations.csv\")"
   ]
  },
  {
   "cell_type": "code",
   "execution_count": null,
   "id": "liquid-selection",
   "metadata": {},
   "outputs": [],
   "source": [
    "        contig_file = pd.read_csv(contig_file)\n",
    "        assembled_cells = set(contig_file.barcode)"
   ]
  },
  {
   "cell_type": "code",
   "execution_count": null,
   "id": "aware-recommendation",
   "metadata": {},
   "outputs": [],
   "source": [
    "        h5ad = sc.read_h5ad(h5ad)"
   ]
  },
  {
   "cell_type": "code",
   "execution_count": null,
   "id": "athletic-agency",
   "metadata": {},
   "outputs": [],
   "source": [
    "h5ad.obs['status'] = 'None'"
   ]
  },
  {
   "cell_type": "code",
   "execution_count": null,
   "id": "great-device",
   "metadata": {},
   "outputs": [],
   "source": [
    "h5ad.obs"
   ]
  },
  {
   "cell_type": "code",
   "execution_count": null,
   "id": "scientific-layout",
   "metadata": {},
   "outputs": [],
   "source": [
    "h5ad.obs.loc[h5ad.obs.index.isin(assembled_cells), \"status\"] = \"T/BCR\""
   ]
  },
  {
   "cell_type": "code",
   "execution_count": null,
   "id": "ultimate-decimal",
   "metadata": {},
   "outputs": [],
   "source": [
    "h5ad.obs"
   ]
  },
  {
   "cell_type": "code",
   "execution_count": null,
   "id": "victorian-plastic",
   "metadata": {},
   "outputs": [],
   "source": [
    "with plt.rc_context({'figure.figsize': (10, 10)}):\n",
    "    sc.pl.tsne(h5ad, color='status', add_outline=True, legend_loc='on data',\n",
    "               legend_fontsize=12, legend_fontoutline=2,frameon=False,\n",
    "               title='clustering of cells', palette='Set1')"
   ]
  },
  {
   "cell_type": "code",
   "execution_count": null,
   "id": "senior-minneapolis",
   "metadata": {},
   "outputs": [],
   "source": [
    "    sc.pl.tsne(h5ad, color='status', add_outline=True, legend_loc='on data',\n",
    "               legend_fontsize=12, legend_fontoutline=2,frameon=False,\n",
    "               title='clustering of cells', palette='Set1')\n",
    "    plt.savefig(\"/SGRNJ06/randd/USER/cjj/celedev/vdj10x/tmp/test.pdf\", dpi=300)"
   ]
  },
  {
   "cell_type": "code",
   "execution_count": 102,
   "id": "prescription-replication",
   "metadata": {},
   "outputs": [
    {
     "data": {
      "text/html": [
       "<div>\n",
       "<style scoped>\n",
       "    .dataframe tbody tr th:only-of-type {\n",
       "        vertical-align: middle;\n",
       "    }\n",
       "\n",
       "    .dataframe tbody tr th {\n",
       "        vertical-align: top;\n",
       "    }\n",
       "\n",
       "    .dataframe thead th {\n",
       "        text-align: right;\n",
       "    }\n",
       "</style>\n",
       "<table border=\"1\" class=\"dataframe\">\n",
       "  <thead>\n",
       "    <tr style=\"text-align: right;\">\n",
       "      <th></th>\n",
       "      <th>n_genes_by_counts</th>\n",
       "      <th>total_counts</th>\n",
       "      <th>total_counts_mito</th>\n",
       "      <th>pct_counts_mito</th>\n",
       "      <th>cluster</th>\n",
       "      <th>status</th>\n",
       "    </tr>\n",
       "  </thead>\n",
       "  <tbody>\n",
       "    <tr>\n",
       "      <th>AACACACAGAACGCTAGTAGAGAATGG</th>\n",
       "      <td>559</td>\n",
       "      <td>827.0</td>\n",
       "      <td>29.0</td>\n",
       "      <td>3.506650</td>\n",
       "      <td>0</td>\n",
       "      <td>None</td>\n",
       "    </tr>\n",
       "    <tr>\n",
       "      <th>AACACACAGAACGCTAGTGAAGCCATT</th>\n",
       "      <td>664</td>\n",
       "      <td>1100.0</td>\n",
       "      <td>18.0</td>\n",
       "      <td>1.636364</td>\n",
       "      <td>3</td>\n",
       "      <td>None</td>\n",
       "    </tr>\n",
       "    <tr>\n",
       "      <th>AACACACAGAACGCTAGTGTAAGATCG</th>\n",
       "      <td>1512</td>\n",
       "      <td>3208.0</td>\n",
       "      <td>51.0</td>\n",
       "      <td>1.589776</td>\n",
       "      <td>20</td>\n",
       "      <td>None</td>\n",
       "    </tr>\n",
       "    <tr>\n",
       "      <th>AACACACAGAACGTCCAACCATCCTAA</th>\n",
       "      <td>459</td>\n",
       "      <td>811.0</td>\n",
       "      <td>54.0</td>\n",
       "      <td>6.658446</td>\n",
       "      <td>8</td>\n",
       "      <td>None</td>\n",
       "    </tr>\n",
       "    <tr>\n",
       "      <th>AACACACAGAACGTCCAAGTAAGATCG</th>\n",
       "      <td>604</td>\n",
       "      <td>948.0</td>\n",
       "      <td>28.0</td>\n",
       "      <td>2.953587</td>\n",
       "      <td>22</td>\n",
       "      <td>None</td>\n",
       "    </tr>\n",
       "    <tr>\n",
       "      <th>...</th>\n",
       "      <td>...</td>\n",
       "      <td>...</td>\n",
       "      <td>...</td>\n",
       "      <td>...</td>\n",
       "      <td>...</td>\n",
       "      <td>...</td>\n",
       "    </tr>\n",
       "    <tr>\n",
       "      <th>TGTGGACACTTGCCGTCACAGACACTC</th>\n",
       "      <td>628</td>\n",
       "      <td>982.0</td>\n",
       "      <td>26.0</td>\n",
       "      <td>2.647658</td>\n",
       "      <td>25</td>\n",
       "      <td>None</td>\n",
       "    </tr>\n",
       "    <tr>\n",
       "      <th>TGTGGACACTTGGTGACCACGCCACTT</th>\n",
       "      <td>429</td>\n",
       "      <td>820.0</td>\n",
       "      <td>276.0</td>\n",
       "      <td>33.658539</td>\n",
       "      <td>5</td>\n",
       "      <td>None</td>\n",
       "    </tr>\n",
       "    <tr>\n",
       "      <th>TGTGGACACTTGGTGACCGGCCATGTT</th>\n",
       "      <td>455</td>\n",
       "      <td>660.0</td>\n",
       "      <td>30.0</td>\n",
       "      <td>4.545455</td>\n",
       "      <td>14</td>\n",
       "      <td>None</td>\n",
       "    </tr>\n",
       "    <tr>\n",
       "      <th>TGTGGACACTTGGTGACCTACGCGTAC</th>\n",
       "      <td>660</td>\n",
       "      <td>1079.0</td>\n",
       "      <td>41.0</td>\n",
       "      <td>3.799815</td>\n",
       "      <td>0</td>\n",
       "      <td>None</td>\n",
       "    </tr>\n",
       "    <tr>\n",
       "      <th>TGTGGACACTTGGTGACCTGCTATCGC</th>\n",
       "      <td>945</td>\n",
       "      <td>1903.0</td>\n",
       "      <td>109.0</td>\n",
       "      <td>5.727798</td>\n",
       "      <td>10</td>\n",
       "      <td>T/BCR</td>\n",
       "    </tr>\n",
       "  </tbody>\n",
       "</table>\n",
       "<p>19561 rows × 6 columns</p>\n",
       "</div>"
      ],
      "text/plain": [
       "                             n_genes_by_counts  total_counts  \\\n",
       "AACACACAGAACGCTAGTAGAGAATGG                559         827.0   \n",
       "AACACACAGAACGCTAGTGAAGCCATT                664        1100.0   \n",
       "AACACACAGAACGCTAGTGTAAGATCG               1512        3208.0   \n",
       "AACACACAGAACGTCCAACCATCCTAA                459         811.0   \n",
       "AACACACAGAACGTCCAAGTAAGATCG                604         948.0   \n",
       "...                                        ...           ...   \n",
       "TGTGGACACTTGCCGTCACAGACACTC                628         982.0   \n",
       "TGTGGACACTTGGTGACCACGCCACTT                429         820.0   \n",
       "TGTGGACACTTGGTGACCGGCCATGTT                455         660.0   \n",
       "TGTGGACACTTGGTGACCTACGCGTAC                660        1079.0   \n",
       "TGTGGACACTTGGTGACCTGCTATCGC                945        1903.0   \n",
       "\n",
       "                             total_counts_mito  pct_counts_mito cluster status  \n",
       "AACACACAGAACGCTAGTAGAGAATGG               29.0         3.506650       0   None  \n",
       "AACACACAGAACGCTAGTGAAGCCATT               18.0         1.636364       3   None  \n",
       "AACACACAGAACGCTAGTGTAAGATCG               51.0         1.589776      20   None  \n",
       "AACACACAGAACGTCCAACCATCCTAA               54.0         6.658446       8   None  \n",
       "AACACACAGAACGTCCAAGTAAGATCG               28.0         2.953587      22   None  \n",
       "...                                        ...              ...     ...    ...  \n",
       "TGTGGACACTTGCCGTCACAGACACTC               26.0         2.647658      25   None  \n",
       "TGTGGACACTTGGTGACCACGCCACTT              276.0        33.658539       5   None  \n",
       "TGTGGACACTTGGTGACCGGCCATGTT               30.0         4.545455      14   None  \n",
       "TGTGGACACTTGGTGACCTACGCGTAC               41.0         3.799815       0   None  \n",
       "TGTGGACACTTGGTGACCTGCTATCGC              109.0         5.727798      10  T/BCR  \n",
       "\n",
       "[19561 rows x 6 columns]"
      ]
     },
     "execution_count": 102,
     "metadata": {},
     "output_type": "execute_result"
    }
   ],
   "source": [
    "h5ad.obs"
   ]
  },
  {
   "cell_type": "code",
   "execution_count": null,
   "id": "pregnant-museum",
   "metadata": {},
   "outputs": [],
   "source": []
  }
 ],
 "metadata": {
  "kernelspec": {
   "display_name": "Python 3 (ipykernel)",
   "language": "python",
   "name": "python3"
  },
  "language_info": {
   "codemirror_mode": {
    "name": "ipython",
    "version": 3
   },
   "file_extension": ".py",
   "mimetype": "text/x-python",
   "name": "python",
   "nbconvert_exporter": "python",
   "pygments_lexer": "ipython3",
   "version": "3.7.10"
  }
 },
 "nbformat": 4,
 "nbformat_minor": 5
}
