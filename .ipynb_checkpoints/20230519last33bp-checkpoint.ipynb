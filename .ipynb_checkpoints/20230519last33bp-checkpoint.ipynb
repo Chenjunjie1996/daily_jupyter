{
 "cells": [
  {
   "cell_type": "code",
   "execution_count": 1,
   "id": "cellular-aluminum",
   "metadata": {},
   "outputs": [],
   "source": [
    "# /SGRNJ06/DATA04/23_05/2023_05_09/RD20073101/M_0425PZ_SL_S_B3lib/2023-05-09-201    M_0425PZ_SL_S_B3lib\n",
    "# /SGRNJ06/DATA04/23_05/2023_05_09/RD20073101/M_0425PZ_SL_RTdouble_S_B3lib/2023-05-09-183   M_0425PZ_SL_RTdouble_S_B3lib\n",
    "# /SGRNJ06/DATA04/23_05/2023_05_09/RD20073101/M_0425PZ_SL_W_B3lib/2023-05-09-184        M_0425PZ_SL_W_B3lib\n",
    "# /SGRNJ06/DATA04/23_05/2023_05_09/RD20073101/M_0425PZ_SL_RTdouble_W_B3lib/2023-05-09-185    M_0425PZ_SL_RTdouble_W_B3lib"
   ]
  },
  {
   "cell_type": "code",
   "execution_count": 1,
   "id": "impressive-hands",
   "metadata": {},
   "outputs": [],
   "source": [
    "import pysam\n",
    "from xopen import xopen\n",
    "import os"
   ]
  },
  {
   "cell_type": "code",
   "execution_count": null,
   "id": "hourly-gnome",
   "metadata": {},
   "outputs": [],
   "source": [
    "/SGRNJ06/DATA04/23_05/2023_05_30/RD20073101/Hum_0525PBMC_SL_RT_1B3lib/2023-05-30-76/R230525024_R1.fastq.gz\n",
    "/SGRNJ06/randd/USER/cjj/celedev/vdj10x/20230612last33bp/hs_bcr/Hum_0525PBMC_SL_RT_1B3lib/02.convert/Hum_0525PBMC_SL_RT_1B3lib_S1_L001_R1_001.fastq.gz\n",
    "/SGRNJ06/randd/USER/cjj/celedev/vdj10x/20230612last33bp/hs_bcr/Hum_0525PBMC_SL_RT_1B3lib/02.convert/Hum_0525PBMC_SL_RT_1B3lib_S1_L001_R1_001.fastq\n",
    "\n",
    "\n",
    "/SGRNJ06/DATA04/23_05/2023_05_30/RD20073101/Hum_0525PBMC_SL_RT_2B3lib/2023-05-30-77/R230525025_R1.fastq.gz\n",
    "/SGRNJ06/randd/USER/cjj/celedev/vdj10x/20230612last33bp/hs_bcr/Hum_0525PBMC_SL_RT_2B3lib/02.convert/Hum_0525PBMC_SL_RT_2B3lib_S1_L001_R1_001.fastq.gz\n",
    "/SGRNJ06/randd/USER/cjj/celedev/vdj10x/20230612last33bp/hs_bcr/Hum_0525PBMC_SL_RT_2B3lib/02.convert/Hum_0525PBMC_SL_RT_2B3lib_S1_L001_R1_001.fastq\n",
    "\n",
    "\n",
    "/SGRNJ06/DATA04/23_05/2023_05_30/RD20073101/Hum_0525PBMC_SL_RTdouble_1B3lib/2023-05-30-78/R230525026_R1.fastq.gz\n",
    "/SGRNJ06/randd/USER/cjj/celedev/vdj10x/20230612last33bp/hs_bcr/Hum_0525PBMC_SL_RTdouble_1B3lib/02.convert/Hum_0525PBMC_SL_RTdouble_1B3lib_S1_L001_R1_001.fastq.gz\n",
    "/SGRNJ06/randd/USER/cjj/celedev/vdj10x/20230612last33bp/hs_bcr/Hum_0525PBMC_SL_RTdouble_1B3lib/02.convert/Hum_0525PBMC_SL_RTdouble_1B3lib_S1_L001_R1_001.fastq\n",
    "\n",
    "\n",
    "/SGRNJ06/DATA04/23_05/2023_05_30/RD20073101/Hum_0525PBMC_SL_RTdouble_2B3lib/2023-05-30-79/R230525027_R1.fastq.gz\n",
    "/SGRNJ06/randd/USER/cjj/celedev/vdj10x/20230612last33bp/hs_bcr/Hum_0525PBMC_SL_RTdouble_2B3lib/02.convert/Hum_0525PBMC_SL_RTdouble_2B3lib_S1_L001_R1_001.fastq.gz\n",
    "/SGRNJ06/randd/USER/cjj/celedev/vdj10x/20230612last33bp/hs_bcr/Hum_0525PBMC_SL_RTdouble_2B3lib/02.convert/Hum_0525PBMC_SL_RTdouble_2B3lib_S1_L001_R1_001.fastq"
   ]
  },
  {
   "cell_type": "code",
   "execution_count": 2,
   "id": "adjusted-treat",
   "metadata": {},
   "outputs": [
    {
     "data": {
      "text/plain": [
       "0"
      ]
     },
     "execution_count": 2,
     "metadata": {},
     "output_type": "execute_result"
    }
   ],
   "source": [
    "raw_fq = \"/SGRNJ06/DATA04/23_05/2023_05_30/RD20073101/Hum_0525PBMC_SL_RT_1B3lib/2023-05-30-76/R230525024_R1.fastq.gz\"\n",
    "convert_fq = \"/SGRNJ06/randd/USER/cjj/celedev/vdj10x/20230612last33bp/hs_bcr/Hum_0525PBMC_SL_RT_1B3lib/02.convert/Hum_0525PBMC_SL_RT_1B3lib_S1_L001_R1_001.fastq.gz\"\n",
    "tmp_fq = \"/SGRNJ06/randd/USER/cjj/celedev/vdj10x/20230612last33bp/hs_bcr/Hum_0525PBMC_SL_RT_1B3lib/02.convert/tmp.fq\"\n",
    "out_convert_fq = \"/SGRNJ06/randd/USER/cjj/celedev/vdj10x/20230612last33bp/hs_bcr/Hum_0525PBMC_SL_RT_1B3lib/02.convert/Hum_0525PBMC_SL_RT_1B3lib_S1_L001_R1_001.fastq\"\n",
    "\n",
    "# 找出序列index\n",
    "index_set = set()\n",
    "with pysam.FastxFile(convert_fq) as f:\n",
    "    for read in f:\n",
    "        index_set.add(read.name.split('_')[-1])\n",
    "\n",
    "# tmp文件记录目标序列最后33bp序列\n",
    "tmp = open(tmp_fq, 'w')\n",
    "total_num = 0\n",
    "with pysam.FastxFile(raw_fq) as f:\n",
    "    for read in f:\n",
    "        total_num += 1\n",
    "        if str(total_num) in index_set:\n",
    "            last33bp = read.sequence[-33:]\n",
    "            newqual = len(last33bp) * 'F'\n",
    "            tmp.write(f\"@{read.name}\\n{last33bp}\\n+\\n{newqual}\\n\")\n",
    "tmp.close()\n",
    "\n",
    "# 拼接序列\n",
    "out = open(out_convert_fq, 'w')\n",
    "with pysam.FastxFile(tmp_fq, persist=False) as fq1, \\\n",
    "        pysam.FastxFile(convert_fq, persist=False) as fq2:\n",
    "    for entry1, entry2 in zip(fq1, fq2):\n",
    "        header1, seq1, qual1 = entry1.name, entry1.sequence, entry1.quality\n",
    "        header2, seq2, qual2 = entry2.name, entry2.sequence, entry2.quality\n",
    "            \n",
    "        last33bp = seq1\n",
    "        newseq = seq2 + last33bp\n",
    "        newqual = len(newseq) * 'F'\n",
    "        out.write(f\"@{header2}\\n{newseq}\\n+\\n{newqual}\\n\")\n",
    "out.close()\n",
    "\n",
    "os.system(f\"rm {tmp_fq}\")\n",
    "os.system(f\"rm {convert_fq}\")\n",
    "os.system(f\"gzip -c {out_convert_fq} > {out_convert_fq}.gz\")\n",
    "os.system(f\"rm {out_convert_fq}\")"
   ]
  },
  {
   "cell_type": "code",
   "execution_count": null,
   "id": "nonprofit-processor",
   "metadata": {},
   "outputs": [],
   "source": []
  },
  {
   "cell_type": "code",
   "execution_count": null,
   "id": "metric-chuck",
   "metadata": {},
   "outputs": [],
   "source": []
  },
  {
   "cell_type": "code",
   "execution_count": null,
   "id": "stopped-nevada",
   "metadata": {},
   "outputs": [],
   "source": []
  },
  {
   "cell_type": "code",
   "execution_count": null,
   "id": "mature-charger",
   "metadata": {},
   "outputs": [],
   "source": []
  },
  {
   "cell_type": "code",
   "execution_count": null,
   "id": "pleasant-education",
   "metadata": {},
   "outputs": [],
   "source": []
  },
  {
   "cell_type": "code",
   "execution_count": null,
   "id": "above-uncertainty",
   "metadata": {},
   "outputs": [],
   "source": []
  },
  {
   "cell_type": "code",
   "execution_count": null,
   "id": "optical-plastic",
   "metadata": {},
   "outputs": [],
   "source": []
  },
  {
   "cell_type": "code",
   "execution_count": null,
   "id": "swedish-throat",
   "metadata": {},
   "outputs": [],
   "source": []
  },
  {
   "cell_type": "code",
   "execution_count": null,
   "id": "quick-respect",
   "metadata": {},
   "outputs": [],
   "source": []
  },
  {
   "cell_type": "code",
   "execution_count": null,
   "id": "photographic-mortality",
   "metadata": {},
   "outputs": [],
   "source": [
    "# no TSO"
   ]
  },
  {
   "cell_type": "code",
   "execution_count": null,
   "id": "better-mumbai",
   "metadata": {},
   "outputs": [],
   "source": [
    "raw_fq = \"/SGRNJ06/DATA04/23_05/2023_05_09/RD20073101/M_0425PZ_SL_RTdouble_S_B3lib/2023-05-09-183/R230505040_R1.fastq.gz\"\n",
    "convert_fq = \"/SGRNJ06/randd/PROJECT/RD20073101_VDJ/SWB_2022/20230425_Mus_PZ_Bcell/SL/M_0425PZ_SL_RTdouble_S_B3lib/02.convert/M_0425PZ_SL_RTdouble_S_B3lib_S1_L001_R1_001.fastq.gz\"\n",
    "tmp_fq = \"/SGRNJ06/randd/USER/cjj/celedev/vdj10x/20230519last33bp/M_0425PZ_SL_RTdouble_S_B3lib_noTSO/02.convert/tmp.fq\"\n",
    "out_convert_fq = \"/SGRNJ06/randd/USER/cjj/celedev/vdj10x/20230519last33bp/M_0425PZ_SL_RTdouble_S_B3lib_noTSO/02.convert/M_0425PZ_SL_RTdouble_S_B3lib_S1_L001_R1_001.fastq\"\n",
    "\n",
    "# 找出序列index\n",
    "index_set = set()\n",
    "with pysam.FastxFile(convert_fq) as f:\n",
    "    for read in f:\n",
    "        index_set.add(read.name.split('_')[-1])\n",
    "\n",
    "# tmp文件记录目标序列最后33bp序列\n",
    "tmp = open(tmp_fq, 'w')\n",
    "total_num = 0\n",
    "with pysam.FastxFile(raw_fq) as f:\n",
    "    for read in f:\n",
    "        total_num += 1\n",
    "        if str(total_num) in index_set:\n",
    "            last33bp = read.sequence[-33:]\n",
    "            newqual = len(last33bp) * 'F'\n",
    "            tmp.write(f\"@{read.name}\\n{last33bp}\\n+\\n{newqual}\\n\")\n",
    "tmp.close()\n",
    "\n",
    "# 拼接序列\n",
    "out = open(out_convert_fq, 'w')\n",
    "with pysam.FastxFile(tmp_fq, persist=False) as fq1, \\\n",
    "        pysam.FastxFile(convert_fq, persist=False) as fq2:\n",
    "    for entry1, entry2 in zip(fq1, fq2):\n",
    "        header1, seq1, qual1 = entry1.name, entry1.sequence, entry1.quality\n",
    "        header2, seq2, qual2 = entry2.name, entry2.sequence, entry2.quality\n",
    "            \n",
    "        last33bp = seq1\n",
    "        newseq = seq2[:26] + last33bp\n",
    "        newqual = len(newseq) * 'F'\n",
    "        out.write(f\"@{header2}\\n{newseq}\\n+\\n{newqual}\\n\")\n",
    "out.close()\n",
    "\n",
    "os.system(f\"rm {tmp_fq}\")\n",
    "os.system(f\"gzip -c {out_convert_fq} > {out_convert_fq}.gz\")\n",
    "os.system(f\"rm {out_convert_fq}\")"
   ]
  },
  {
   "cell_type": "code",
   "execution_count": null,
   "id": "permanent-laptop",
   "metadata": {},
   "outputs": [],
   "source": []
  }
 ],
 "metadata": {
  "kernelspec": {
   "display_name": "trust4_1.7",
   "language": "python",
   "name": "trust4_1.7"
  },
  "language_info": {
   "codemirror_mode": {
    "name": "ipython",
    "version": 3
   },
   "file_extension": ".py",
   "mimetype": "text/x-python",
   "name": "python",
   "nbconvert_exporter": "python",
   "pygments_lexer": "ipython3",
   "version": "3.7.10"
  }
 },
 "nbformat": 4,
 "nbformat_minor": 5
}
