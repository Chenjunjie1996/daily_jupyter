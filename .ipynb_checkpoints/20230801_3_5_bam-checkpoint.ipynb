{
 "cells": [
  {
   "cell_type": "code",
   "execution_count": 55,
   "id": "small-hypothetical",
   "metadata": {},
   "outputs": [],
   "source": [
    "import pysam\n",
    "from Bio.Seq import Seq"
   ]
  },
  {
   "cell_type": "code",
   "execution_count": 56,
   "id": "selected-diving",
   "metadata": {},
   "outputs": [],
   "source": [
    "def reverse_complement(seq):\n",
    "    \"\"\"Reverse complementary sequence\n",
    "\n",
    "    :param original seq\n",
    "    :return Reverse complementary sequence\n",
    "    \"\"\"\n",
    "    return str(Seq(seq).reverse_complement())"
   ]
  },
  {
   "cell_type": "code",
   "execution_count": 40,
   "id": "critical-murray",
   "metadata": {},
   "outputs": [],
   "source": [
    "inputFile3 = pysam.AlignmentFile(\"/SGRNJ06/randd/USER/cjj/celedev/rna/20230726/3/0717_CCRF_1_N3lib/02.featureCounts/0717_CCRF_1_N3lib_aligned_posSorted_addTag.bam\", \"rb\")"
   ]
  },
  {
   "cell_type": "code",
   "execution_count": 41,
   "id": "dimensional-alexander",
   "metadata": {},
   "outputs": [],
   "source": [
    "result = set()"
   ]
  },
  {
   "cell_type": "code",
   "execution_count": 47,
   "id": "arranged-despite",
   "metadata": {},
   "outputs": [],
   "source": [
    "for read in inputFile3:\n",
    "    cb = read.get_tag(\"CB\")\n",
    "    umi = read.get_tag(\"UB\")\n",
    "    try:\n",
    "        gene_id = read.get_tag(\"XT\")\n",
    "    except KeyError:\n",
    "        gene_id = None\n",
    "    result.add( (cb, umi, gene_id) )"
   ]
  },
  {
   "cell_type": "code",
   "execution_count": null,
   "id": "narrow-finding",
   "metadata": {},
   "outputs": [],
   "source": []
  },
  {
   "cell_type": "code",
   "execution_count": 62,
   "id": "median-custody",
   "metadata": {},
   "outputs": [],
   "source": [
    "inputFile5 = pysam.AlignmentFile(\"/SGRNJ06/randd/USER/cjj/celedev/rna/20230731/5/0717_CCRF_1_N5lib/02.featureCounts/0717_CCRF_1_N5lib_aligned_posSorted_addTag.bam\", \"rb\")"
   ]
  },
  {
   "cell_type": "code",
   "execution_count": 63,
   "id": "municipal-professional",
   "metadata": {},
   "outputs": [],
   "source": [
    "out_file = pysam.AlignmentFile(\"/SGRNJ06/randd/USER/cjj/celedev/rna/filter_bam/20230801/0717_CCRF_1_N5lib_aligned_posSorted_addTag_filtered.bam\", \"wb\", header=inputFile5.header)"
   ]
  },
  {
   "cell_type": "code",
   "execution_count": null,
   "id": "voluntary-schema",
   "metadata": {},
   "outputs": [],
   "source": [
    "count = 0\n",
    "for read in inputFile5:\n",
    "    cb = read.get_tag(\"CB\")\n",
    "    umi = read.get_tag(\"UB\")\n",
    "    try:\n",
    "        gene_id = read.get_tag(\"XT\")\n",
    "    except KeyError:\n",
    "        gene_id = None\n",
    "    if (reverse_complement(cb), reverse_complement(umi), gene_id) not in result:\n",
    "        count += 1\n",
    "        out_file.write(read)"
   ]
  },
  {
   "cell_type": "code",
   "execution_count": null,
   "id": "assured-norfolk",
   "metadata": {},
   "outputs": [],
   "source": [
    "out_file.close()"
   ]
  },
  {
   "cell_type": "code",
   "execution_count": null,
   "id": "pursuant-complexity",
   "metadata": {},
   "outputs": [],
   "source": [
    "count"
   ]
  },
  {
   "cell_type": "code",
   "execution_count": null,
   "id": "veterinary-gross",
   "metadata": {},
   "outputs": [],
   "source": []
  }
 ],
 "metadata": {
  "kernelspec": {
   "display_name": "trust4_1.7",
   "language": "python",
   "name": "trust4_1.7"
  },
  "language_info": {
   "codemirror_mode": {
    "name": "ipython",
    "version": 3
   },
   "file_extension": ".py",
   "mimetype": "text/x-python",
   "name": "python",
   "nbconvert_exporter": "python",
   "pygments_lexer": "ipython3",
   "version": "3.7.10"
  }
 },
 "nbformat": 4,
 "nbformat_minor": 5
}
