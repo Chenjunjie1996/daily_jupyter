{
 "cells": [
  {
   "cell_type": "code",
   "execution_count": null,
   "id": "hearing-speaking",
   "metadata": {},
   "outputs": [],
   "source": [
    "import pandas as pd\n",
    "import pysam"
   ]
  },
  {
   "cell_type": "code",
   "execution_count": null,
   "id": "imperial-upper",
   "metadata": {},
   "outputs": [],
   "source": [
    "handle_file = open('/SGRNJ06/randd/USER/cjj/celedev/vdj10x/20220610BCR_bulk/L11/H_0530PBMC_LR_8A/whitelist', 'w')\n",
    "with pysam.FastxFile('/SGRNJ06/DATA04/22_06/2022_06_04/RD21010602/H_0530PBMC_LR_8A/R220530022_R1.fastq.gz') as f:\n",
    "    for read in f:\n",
    "        handle_file.write(str(read.sequence[11:19]) + '\\n')\n",
    "handle_file.close()"
   ]
  },
  {
   "cell_type": "code",
   "execution_count": null,
   "id": "cosmetic-midnight",
   "metadata": {},
   "outputs": [],
   "source": [
    "handle_file = open('/SGRNJ06/randd/USER/cjj/celedev/vdj10x/20220610BCR_bulk/L11/H_0530PBMC_LR_8B/whitelist', 'w')\n",
    "with pysam.FastxFile('/SGRNJ06/DATA04/22_06/2022_06_03/RD21010602/H_0530PBMC_LR_8B/R220530023_R1.fastq.gz') as f:\n",
    "    for read in f:\n",
    "        handle_file.write(str(read.sequence[11:19]) + '\\n')\n",
    "handle_file.close()"
   ]
  },
  {
   "cell_type": "code",
   "execution_count": null,
   "id": "considerable-dress",
   "metadata": {},
   "outputs": [],
   "source": [
    "handle_file = open('/SGRNJ06/randd/USER/cjj/celedev/vdj10x/20220610BCR_bulk/L11/H_0602PBMC_LRM_8A_2NL/whitelist', 'w')\n",
    "with pysam.FastxFile('/SGRNJ06/DATA04/22_06/2022_06_09/RD21010602/H_0602PBMC_LRM_8A_2NL/R220602104_R1.fastq.gz') as f:\n",
    "    for read in f:\n",
    "        handle_file.write(str(read.sequence[11:19]) + '\\n')\n",
    "handle_file.close()"
   ]
  },
  {
   "cell_type": "code",
   "execution_count": null,
   "id": "selective-wonder",
   "metadata": {},
   "outputs": [],
   "source": [
    "handle_file = open('/SGRNJ06/randd/USER/cjj/celedev/vdj10x/20220610BCR_bulk/L11/H_0602PBMC_LRM_8B_2NL/whitelist', 'w')\n",
    "with pysam.FastxFile('/SGRNJ06/DATA04/22_06/2022_06_09/RD21010602/H_0602PBMC_LRM_8B_2NL/R220602105_R1.fastq.gz') as f:\n",
    "    for read in f:\n",
    "        handle_file.write(str(read.sequence[11:19]) + '\\n')\n",
    "handle_file.close()"
   ]
  },
  {
   "cell_type": "code",
   "execution_count": null,
   "id": "equal-williams",
   "metadata": {},
   "outputs": [],
   "source": []
  },
  {
   "cell_type": "code",
   "execution_count": null,
   "id": "sporting-details",
   "metadata": {},
   "outputs": [],
   "source": []
  },
  {
   "cell_type": "code",
   "execution_count": null,
   "id": "geological-happening",
   "metadata": {},
   "outputs": [],
   "source": [
    "handle_file = open('/SGRNJ06/randd/USER/cjj/celedev/vdj10x/20220815bulk_mu_spl/R220804011//whitelist', 'w')\n",
    "with pysam.FastxFile('/SGRNJ06/DATA04/22_08/2022_08_08/RD21010602/M_spl_lys_ck_bulk/R220804011_R1.fastq.gz') as f:\n",
    "    for read in f:\n",
    "        handle_file.write(str(read.sequence[18:24]) + '\\n')\n",
    "handle_file.close()"
   ]
  },
  {
   "cell_type": "code",
   "execution_count": null,
   "id": "normal-bailey",
   "metadata": {},
   "outputs": [],
   "source": [
    "handle_file = open('/SGRNJ06/randd/USER/cjj/celedev/vdj10x/20220815bulk_mu_spl/R220804012/whitelist', 'w')\n",
    "with pysam.FastxFile('/SGRNJ06/DATA04/22_08/2022_08_08/RD21010602/M_spl_lys_1Tri_d_bulk/R220804012_R1.fastq.gz') as f:\n",
    "    for read in f:\n",
    "        handle_file.write(str(read.sequence[18:24]) + '\\n')\n",
    "handle_file.close()"
   ]
  },
  {
   "cell_type": "code",
   "execution_count": null,
   "id": "tracked-proof",
   "metadata": {},
   "outputs": [],
   "source": [
    "handle_file = open('/SGRNJ06/randd/USER/cjj/celedev/vdj10x/20220815bulk_mu_spl/R220804013/whitelist', 'w')\n",
    "with pysam.FastxFile('/SGRNJ06/DATA04/22_08/2022_08_09/RD21010602/M_spl_lys_1Tri_bulk/R220804013_R1.fastq.gz') as f:\n",
    "    for read in f:\n",
    "        handle_file.write(str(read.sequence[18:24]) + '\\n')\n",
    "handle_file.close()"
   ]
  },
  {
   "cell_type": "code",
   "execution_count": null,
   "id": "public-uruguay",
   "metadata": {},
   "outputs": [],
   "source": [
    "handle_file = open('/SGRNJ06/randd/USER/cjj/celedev/vdj10x/20220623/re_analysis_bulk/R220616041/whitelist', 'w')\n",
    "with pysam.FastxFile('/SGRNJ06/DATA04/22_06/2022_06_20/RD21010602/HP1_mix2_0616_2NL/R220616041_R1.fastq.gz') as f:\n",
    "    for read in f:\n",
    "        handle_file.write(str(read.sequence[18:24]) + '\\n')\n",
    "handle_file.close()"
   ]
  },
  {
   "cell_type": "code",
   "execution_count": null,
   "id": "amended-fruit",
   "metadata": {},
   "outputs": [],
   "source": []
  },
  {
   "cell_type": "code",
   "execution_count": null,
   "id": "prescribed-houston",
   "metadata": {},
   "outputs": [],
   "source": []
  },
  {
   "cell_type": "code",
   "execution_count": null,
   "id": "funded-tract",
   "metadata": {},
   "outputs": [],
   "source": [
    "# 1 barcode SC\n",
    "index_set = set()\n",
    "index = 0"
   ]
  },
  {
   "cell_type": "code",
   "execution_count": 25,
   "id": "ancient-african",
   "metadata": {},
   "outputs": [],
   "source": [
    "handle_file = open('/SGRNJ06/randd/USER/cjj/celedev/vdj10x/20220816SC_mu_spl/R220804011/R220804011_R1.fastq.gz','w')\n",
    "with pysam.FastxFile('/SGRNJ06/DATA04/22_08/2022_08_08/RD21010602/M_spl_lys_ck_bulk/R220804011_R1.fastq.gz') as f:\n",
    "    for read in f:\n",
    "        index+=1\n",
    "        if str(read.sequence[18:24]) != 'ACTCCT':\n",
    "            index_set.add(index)\n",
    "            handle_file.write('@'+read.name+' '+read.comment+'\\n'+read.sequence+'\\n'+'+'+'\\n'+read.quality+'\\n')\n"
   ]
  },
  {
   "cell_type": "code",
   "execution_count": 26,
   "id": "defined-pillow",
   "metadata": {},
   "outputs": [],
   "source": [
    "handle_file.close()"
   ]
  },
  {
   "cell_type": "code",
   "execution_count": 27,
   "id": "heard-greeting",
   "metadata": {},
   "outputs": [],
   "source": [
    "index = 0\n",
    "handle_file = open('/SGRNJ06/randd/USER/cjj/celedev/vdj10x/20220816SC_mu_spl/R220804011/R220804011_R2.fastq.gz','w')\n",
    "with pysam.FastxFile('/SGRNJ06/DATA04/22_08/2022_08_08/RD21010602/M_spl_lys_ck_bulk/R220804011_R2.fastq.gz') as f:\n",
    "    for read in f:\n",
    "        index+=1\n",
    "        if index in index_set:\n",
    "            handle_file.write('@'+read.name+' '+read.comment+'\\n'+read.sequence+'\\n'+'+'+'\\n'+read.quality+'\\n')"
   ]
  },
  {
   "cell_type": "code",
   "execution_count": 28,
   "id": "recreational-tension",
   "metadata": {},
   "outputs": [],
   "source": [
    "handle_file.close()"
   ]
  },
  {
   "cell_type": "code",
   "execution_count": 29,
   "id": "built-scale",
   "metadata": {},
   "outputs": [],
   "source": [
    "whitelist_set = set()\n",
    "handle_file = open('/SGRNJ06/randd/USER/cjj/celedev/vdj10x/20220816SC_mu_spl/whitelist', 'w')\n",
    "with pysam.FastxFile('/SGRNJ06/randd/USER/cjj/celedev/vdj10x/20220816SC_mu_spl/R220804011/R220804011_R1.fastq.gz') as f:\n",
    "    for read in f:\n",
    "        if str(read.sequence[18:24]) not in whitelist_set:\n",
    "            handle_file.write(str(read.sequence[18:24]) + '\\n')\n",
    "            whitelist_set.add(str(read.sequence[18:24]))\n",
    "handle_file.close()"
   ]
  },
  {
   "cell_type": "code",
   "execution_count": null,
   "id": "nuclear-fifth",
   "metadata": {},
   "outputs": [],
   "source": []
  },
  {
   "cell_type": "code",
   "execution_count": null,
   "id": "clear-relevance",
   "metadata": {},
   "outputs": [],
   "source": []
  },
  {
   "cell_type": "code",
   "execution_count": null,
   "id": "stuck-briefing",
   "metadata": {},
   "outputs": [],
   "source": []
  },
  {
   "cell_type": "code",
   "execution_count": null,
   "id": "strange-stamp",
   "metadata": {},
   "outputs": [],
   "source": []
  },
  {
   "cell_type": "code",
   "execution_count": null,
   "id": "several-bible",
   "metadata": {},
   "outputs": [],
   "source": []
  }
 ],
 "metadata": {
  "kernelspec": {
   "display_name": "Python 3 (ipykernel)",
   "language": "python",
   "name": "python3"
  },
  "language_info": {
   "codemirror_mode": {
    "name": "ipython",
    "version": 3
   },
   "file_extension": ".py",
   "mimetype": "text/x-python",
   "name": "python",
   "nbconvert_exporter": "python",
   "pygments_lexer": "ipython3",
   "version": "3.7.10"
  }
 },
 "nbformat": 4,
 "nbformat_minor": 5
}
