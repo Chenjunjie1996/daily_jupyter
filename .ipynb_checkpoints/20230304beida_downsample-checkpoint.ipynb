{
 "cells": [
  {
   "cell_type": "code",
   "execution_count": 1,
   "id": "proud-trinidad",
   "metadata": {},
   "outputs": [],
   "source": [
    "import pysam\n",
    "import os\n",
    "import glob\n",
    "from xopen import xopen"
   ]
  },
  {
   "cell_type": "code",
   "execution_count": 9,
   "id": "animal-bulletin",
   "metadata": {},
   "outputs": [],
   "source": [
    "rawdata = [\n",
    "    \"/SGRNJ06/DATA04/23_03/2023_03_01/P22120104/HHQ-Tuma-T-CKCJ-T/2023-03-01-79\",\n",
    "    \"/SGRNJ06/DATA04/23_03/2023_03_01/P22120104/HHQ-L-T-CKCJ-T/2023-03-01-80\",\n",
    "    \"/SGRNJ06/DATA04/23_03/2023_03_01/P22120104/WHW-Tumor-T-CKCJ-T/2023-03-01-92\",\n",
    "    \"/SGRNJ06/DATA04/23_03/2023_03_01/P22120104/WHW-LK-T-CKCJ-T/2023-03-01-95\",\n",
    "    \"/SGRNJ06/DATA04/23_03/2023_03_01/P22120104/LCY-Tumor-T-CKCJ-T/2023-03-01-93\",\n",
    "    \"/SGRNJ06/DATA04/23_03/2023_03_01/P22120104/WLR-T-T-CKCJ-T/2023-03-01-82\",\n",
    "    \"/SGRNJ06/DATA04/23_03/2023_03_01/P22120104/MLK-Tuma-T-CKCJ-T/2023-03-01-76\",\n",
    "    \"/SGRNJ06/DATA04/23_03/2023_03_01/P22120104/YSR-L-T-CKCJ-T/2023-03-01-75\",\n",
    "    \"/SGRNJ06/DATA04/23_03/2023_03_01/P22120104/YSR-K-T-CKCJ-T/2023-03-01-67\",\n",
    "    \"/SGRNJ06/DATA04/23_03/2023_03_01/P22120104/HHQ-K-T-CJ-T/2023-03-01-81\",\n",
    "]"
   ]
  },
  {
   "cell_type": "code",
   "execution_count": null,
   "id": "logical-bread",
   "metadata": {},
   "outputs": [
    {
     "name": "stdout",
     "output_type": "stream",
     "text": [
      "/SGRNJ06/DATA04/23_03/2023_03_01/P22120104/HHQ-Tuma-T-CKCJ-T/2023-03-01-79/TCRLFTC221203040CKCJ_R1.fastq.gz:116575111\n",
      "/SGRNJ06/DATA04/23_03/2023_03_01/P22120104/HHQ-L-T-CKCJ-T/2023-03-01-80/TCRLFTC221203041CKCJ_R1.fastq.gz:110911598\n"
     ]
    }
   ],
   "source": [
    "for path in rawdata:\n",
    "    fq1 = glob.glob(f\"{path}/*R1.fastq.gz\")[0]\n",
    "    fq2 = glob.glob(f\"{path}/*R2.fastq.gz\")[0]\n",
    "    count_30g=0\n",
    "    with pysam.FastxFile(fq1) as f:\n",
    "        for _ in f:\n",
    "            count_30g += 1\n",
    "    print(f\"{fq1}:{count_30g}\")\n",
    "    count_10g = count_30g // 3\n",
    "    \n",
    "    out_fq1 = f\"/SGRNJ06/randd/USER/cjj/celedev/vdj10x/20230304beida/rawdata/{fq1.split('/')[-1]}\"\n",
    "    out_fq2 = f\"/SGRNJ06/randd/USER/cjj/celedev/vdj10x/20230304beida/rawdata/{fq2.split('/')[-1]}\"\n",
    "    fh_fq1 = xopen(out_fq1, 'w')\n",
    "    fh_fq2 = xopen(out_fq2, 'w')\n",
    "    count = 0\n",
    "    with pysam.FastxFile(fq1, persist=False) as f1, \\\n",
    "            pysam.FastxFile(fq2, persist=False) as f2:\n",
    "        for entry1, entry2 in zip(f1, f2):\n",
    "            count += 1\n",
    "            if count > count_10g:\n",
    "                break\n",
    "            fh_fq1.write(f\"@{entry1.name}\\n{entry1.sequence}\\n+\\n{entry1.quality}\\n\")\n",
    "            fh_fq2.write(f\"@{entry2.name}\\n{entry2.sequence}\\n+\\n{entry2.quality}\\n\")"
   ]
  },
  {
   "cell_type": "code",
   "execution_count": null,
   "id": "satellite-increase",
   "metadata": {},
   "outputs": [],
   "source": []
  },
  {
   "cell_type": "code",
   "execution_count": null,
   "id": "immediate-liver",
   "metadata": {},
   "outputs": [],
   "source": [
    "# 宁夏医科大\n",
    "rawdata = [\n",
    "    \"/SGRNJ06/DATA04/23_03/2023_03_01/P22120104/HHQ-Tuma-T-CKCJ-T/2023-03-01-79\",\n",
    "    \"/SGRNJ06/DATA04/23_03/2023_03_01/P22120104/HHQ-L-T-CKCJ-T/2023-03-01-80\",\n",
    "]"
   ]
  },
  {
   "cell_type": "code",
   "execution_count": null,
   "id": "graphic-equivalent",
   "metadata": {},
   "outputs": [],
   "source": [
    "for path in rawdata:\n",
    "    fq1 = glob.glob(f\"{path}/*R1.fastq.gz\")[0]\n",
    "    fq2 = glob.glob(f\"{path}/*R2.fastq.gz\")[0]\n",
    "    count_30g=0\n",
    "    with pysam.FastxFile(fq1) as f:\n",
    "        for _ in f:\n",
    "            count_30g += 1\n",
    "    print(f\"{fq1}:{count_30g}\")\n",
    "    count_10g = count_30g // 3\n",
    "    \n",
    "    out_fq1 = f\"/SGRNJ06/randd/USER/cjj/celedev/vdj10x/20230304beida/rawdata/{fq1.split('/')[-1]}\"\n",
    "    out_fq2 = f\"/SGRNJ06/randd/USER/cjj/celedev/vdj10x/20230304beida/rawdata/{fq2.split('/')[-1]}\"\n",
    "    fh_fq1 = xopen(out_fq1, 'w')\n",
    "    fh_fq2 = xopen(out_fq2, 'w')\n",
    "    count = 0\n",
    "    with pysam.FastxFile(fq1, persist=False) as f1, \\\n",
    "            pysam.FastxFile(fq2, persist=False) as f2:\n",
    "        for entry1, entry2 in zip(f1, f2):\n",
    "            count += 1\n",
    "            if count > count_10g:\n",
    "                break\n",
    "            fh_fq1.write(f\"@{entry1.name}\\n{entry1.sequence}\\n+\\n{entry1.quality}\\n\")\n",
    "            fh_fq2.write(f\"@{entry2.name}\\n{entry2.sequence}\\n+\\n{entry2.quality}\\n\")"
   ]
  }
 ],
 "metadata": {
  "kernelspec": {
   "display_name": "Python 3 (ipykernel)",
   "language": "python",
   "name": "python3"
  },
  "language_info": {
   "codemirror_mode": {
    "name": "ipython",
    "version": 3
   },
   "file_extension": ".py",
   "mimetype": "text/x-python",
   "name": "python",
   "nbconvert_exporter": "python",
   "pygments_lexer": "ipython3",
   "version": "3.7.10"
  }
 },
 "nbformat": 4,
 "nbformat_minor": 5
}
