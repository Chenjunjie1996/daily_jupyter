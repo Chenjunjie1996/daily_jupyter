{
 "cells": [
  {
   "cell_type": "code",
   "execution_count": null,
   "id": "fifteen-dealing",
   "metadata": {},
   "outputs": [],
   "source": [
    "import pandas as pd\n",
    "import pysam\n",
    "from collections import OrderedDict"
   ]
  },
  {
   "cell_type": "code",
   "execution_count": null,
   "id": "opening-church",
   "metadata": {},
   "outputs": [],
   "source": [
    "df = pd.read_csv(\"/SGRNJ06/randd/USER/cjj/celedev/vdj10x/20230428shanghai/HJG-C-T-T/05.match/matched_contig_annotations.csv\")"
   ]
  },
  {
   "cell_type": "code",
   "execution_count": null,
   "id": "ultimate-guest",
   "metadata": {},
   "outputs": [],
   "source": [
    "df = df[df['productive'] == True]"
   ]
  },
  {
   "cell_type": "code",
   "execution_count": null,
   "id": "attempted-cookie",
   "metadata": {},
   "outputs": [],
   "source": [
    "df['chain_cdr3aa'] = df[['chain', 'cdr3']].apply(':'.join, axis=1)\n",
    "df['chain_cdr3nt'] = df[['chain', 'cdr3_nt']].apply(':'.join, axis=1)\n",
    "df = df.rename(columns={\"chain_cdr3aa\":\"cdr3s_aa\", \"chain_cdr3nt\":\"cdr3s_nt\", \"raw_clonotype_id\":\"clonotype_id\"})\n",
    "df = df.dropna(subset=[\"clonotype_id\"])\n",
    "df = df.sort_values(\"clonotype_id\", key=lambda x: x.str.lstrip(\"clonotype\").astype(int))"
   ]
  },
  {
   "cell_type": "code",
   "execution_count": null,
   "id": "legitimate-grant",
   "metadata": {},
   "outputs": [],
   "source": [
    "df = df[[\"barcode\",  \"clonotype_id\"]]"
   ]
  },
  {
   "cell_type": "code",
   "execution_count": null,
   "id": "announced-disaster",
   "metadata": {},
   "outputs": [],
   "source": [
    "df"
   ]
  },
  {
   "cell_type": "code",
   "execution_count": null,
   "id": "technical-disposal",
   "metadata": {},
   "outputs": [],
   "source": [
    "df[\"frequency\"] = df.groupby(\"clonotype_id\")[\"barcode\"].transform((lambda x: len(set(x))))"
   ]
  },
  {
   "cell_type": "code",
   "execution_count": null,
   "id": "beneficial-harris",
   "metadata": {},
   "outputs": [],
   "source": [
    "df = pd.DataFrame(df.groupby(\"clonotype_id\")[\"barcode\"].nunique())"
   ]
  },
  {
   "cell_type": "code",
   "execution_count": null,
   "id": "imported-efficiency",
   "metadata": {},
   "outputs": [],
   "source": [
    "df = df.rename(columns={\"barcode\": \"frequency\"})"
   ]
  },
  {
   "cell_type": "code",
   "execution_count": null,
   "id": "configured-arlington",
   "metadata": {},
   "outputs": [],
   "source": [
    "df"
   ]
  },
  {
   "cell_type": "code",
   "execution_count": null,
   "id": "wicked-pixel",
   "metadata": {},
   "outputs": [],
   "source": [
    "df = df.sort_values(\"clonotype_id\", key=lambda x: x.str.lstrip(\"clonotype\").astype(int))"
   ]
  },
  {
   "cell_type": "code",
   "execution_count": null,
   "id": "eight-lunch",
   "metadata": {},
   "outputs": [],
   "source": [
    "df = df.reset_index()"
   ]
  },
  {
   "cell_type": "code",
   "execution_count": null,
   "id": "photographic-taste",
   "metadata": {},
   "outputs": [],
   "source": [
    "raw_clonotypes= pd.read_csv(\"/SGRNJ06/randd/USER/cjj/celedev/vdj10x/20230428shanghai/HJG-C-T-T/04.summarize/clonotypes.csv\", sep=',', index_col=None)"
   ]
  },
  {
   "cell_type": "code",
   "execution_count": null,
   "id": "streaming-effort",
   "metadata": {},
   "outputs": [],
   "source": [
    "raw_clonotypes"
   ]
  },
  {
   "cell_type": "code",
   "execution_count": null,
   "id": "electrical-james",
   "metadata": {},
   "outputs": [],
   "source": [
    "df"
   ]
  },
  {
   "cell_type": "code",
   "execution_count": null,
   "id": "timely-strategy",
   "metadata": {},
   "outputs": [],
   "source": [
    "sum_frequency = df['frequency'].sum()\n",
    "df['proportion'] = df['frequency'].apply(lambda x: x/sum_frequency)"
   ]
  },
  {
   "cell_type": "code",
   "execution_count": null,
   "id": "artificial-prisoner",
   "metadata": {},
   "outputs": [],
   "source": [
    "df = pd.merge(df, raw_clonotypes[[\"clonotype_id\", \"cdr3s_aa\", \"cdr3s_nt\"]], on=\"clonotype_id\")"
   ]
  },
  {
   "cell_type": "code",
   "execution_count": null,
   "id": "right-solid",
   "metadata": {},
   "outputs": [],
   "source": [
    "df"
   ]
  },
  {
   "cell_type": "code",
   "execution_count": null,
   "id": "corresponding-account",
   "metadata": {},
   "outputs": [],
   "source": []
  },
  {
   "cell_type": "code",
   "execution_count": null,
   "id": "spatial-lying",
   "metadata": {},
   "outputs": [],
   "source": [
    "df = pd.read_csv(\"/SGRNJ06/randd/USER/cjj/celedev/vdj10x/20230428shanghai/HJG-C-T-T/05.match/matched_contig_annotations.csv\")"
   ]
  },
  {
   "cell_type": "code",
   "execution_count": null,
   "id": "increased-inspection",
   "metadata": {},
   "outputs": [],
   "source": [
    "df = df[df['productive'] == True]"
   ]
  },
  {
   "cell_type": "code",
   "execution_count": null,
   "id": "stone-might",
   "metadata": {},
   "outputs": [],
   "source": [
    "df = df.rename(columns={\"raw_clonotype_id\":\"clonotype_id\"})\n",
    "df = df.dropna(subset=[\"clonotype_id\"])"
   ]
  },
  {
   "cell_type": "code",
   "execution_count": null,
   "id": "nervous-pillow",
   "metadata": {},
   "outputs": [],
   "source": [
    "df"
   ]
  },
  {
   "cell_type": "code",
   "execution_count": null,
   "id": "literary-closure",
   "metadata": {},
   "outputs": [],
   "source": [
    "df[\"frequency\"] = df.groupby(\"clonotype_id\")[\"barcode\"].transform((lambda x: len(set(x))))"
   ]
  },
  {
   "cell_type": "code",
   "execution_count": null,
   "id": "ancient-pitch",
   "metadata": {},
   "outputs": [],
   "source": [
    "df"
   ]
  },
  {
   "cell_type": "code",
   "execution_count": null,
   "id": "sophisticated-tampa",
   "metadata": {},
   "outputs": [],
   "source": [
    "df = pd.DataFrame(df.groupby(\"clonotype_id\")[\"barcode\"].nunique())"
   ]
  },
  {
   "cell_type": "code",
   "execution_count": null,
   "id": "dutch-louis",
   "metadata": {},
   "outputs": [],
   "source": [
    "df"
   ]
  },
  {
   "cell_type": "code",
   "execution_count": null,
   "id": "earned-literature",
   "metadata": {},
   "outputs": [],
   "source": [
    "df = df.reset_index().rename(columns={\"barcode\": \"frequency\"})"
   ]
  },
  {
   "cell_type": "code",
   "execution_count": null,
   "id": "mechanical-treaty",
   "metadata": {},
   "outputs": [],
   "source": [
    "df"
   ]
  },
  {
   "cell_type": "code",
   "execution_count": null,
   "id": "sudden-chrome",
   "metadata": {},
   "outputs": [],
   "source": [
    "df = df.sort_values(\"clonotype_id\", key=lambda x: x.str.lstrip(\"clonotype\").astype(int))"
   ]
  },
  {
   "cell_type": "code",
   "execution_count": null,
   "id": "accredited-fabric",
   "metadata": {},
   "outputs": [],
   "source": [
    "df"
   ]
  },
  {
   "cell_type": "code",
   "execution_count": null,
   "id": "vocational-details",
   "metadata": {},
   "outputs": [],
   "source": [
    "sum_frequency = df['frequency'].sum()\n",
    "df['proportion'] = df['frequency'].apply(lambda x: x/sum_frequency)"
   ]
  },
  {
   "cell_type": "code",
   "execution_count": null,
   "id": "tracked-looking",
   "metadata": {},
   "outputs": [],
   "source": [
    "df"
   ]
  },
  {
   "cell_type": "code",
   "execution_count": null,
   "id": "subjective-restaurant",
   "metadata": {},
   "outputs": [],
   "source": [
    "df = pd.merge(df, raw_clonotypes[[\"clonotype_id\", \"cdr3s_aa\", \"cdr3s_nt\"]], on=\"clonotype_id\")"
   ]
  },
  {
   "cell_type": "code",
   "execution_count": null,
   "id": "developed-feelings",
   "metadata": {},
   "outputs": [],
   "source": [
    "df"
   ]
  },
  {
   "cell_type": "code",
   "execution_count": null,
   "id": "invisible-breeding",
   "metadata": {},
   "outputs": [],
   "source": [
    "df.to_csv(out_clonotypes, sep=',', index=False)"
   ]
  },
  {
   "cell_type": "code",
   "execution_count": null,
   "id": "floppy-humanity",
   "metadata": {},
   "outputs": [],
   "source": []
  },
  {
   "cell_type": "code",
   "execution_count": null,
   "id": "moral-preservation",
   "metadata": {},
   "outputs": [],
   "source": []
  },
  {
   "cell_type": "code",
   "execution_count": null,
   "id": "qualified-parallel",
   "metadata": {},
   "outputs": [],
   "source": [
    "df_match = pd.read_csv(\"/SGRNJ06/randd/USER/cjj/celedev/vdj10x/20230428shanghai/HJG-C-T-T/05.match/matched_contig_annotations.csv\")\n",
    "df_match = df_match[df_match['productive'] == True]\n",
    "df_match = df_match.rename(columns={\"raw_clonotype_id\":\"clonotype_id\"})\n",
    "df_match = df_match.dropna(subset=[\"clonotype_id\"])"
   ]
  },
  {
   "cell_type": "code",
   "execution_count": null,
   "id": "married-bunny",
   "metadata": {},
   "outputs": [],
   "source": [
    "df_match.groupby(\"clonotype_id\")[\"barcode\"].nunique().to_frame()"
   ]
  },
  {
   "cell_type": "code",
   "execution_count": null,
   "id": "blank-compact",
   "metadata": {},
   "outputs": [],
   "source": [
    "df_match.groupby(\"clonotype_id\")[\"barcode\"].nunique().to_df"
   ]
  },
  {
   "cell_type": "code",
   "execution_count": null,
   "id": "precise-mouth",
   "metadata": {},
   "outputs": [],
   "source": [
    "df_match = pd.read_csv(\"/SGRNJ06/randd/USER/cjj/celedev/vdj10x/20230428shanghai/HJG-C-T-T/05.match/matched_contig_annotations.csv\")\n",
    "df_match = df_match[df_match['productive'] == True]\n",
    "df_match = df_match.rename(columns={\"raw_clonotype_id\":\"clonotype_id\"})\n",
    "df_match = df_match.dropna(subset=[\"clonotype_id\"])\n",
    "df_match = df_match.groupby(\"clonotype_id\")[\"barcode\"].nunique().to_frame()\n",
    "df_match = df_match.reset_index().rename(columns={\"barcode\": \"frequency\"})\n",
    "df_match = df_match.sort_values(\"clonotype_id\", key=lambda x: x.str.lstrip(\"clonotype\").astype(int))\n",
    "# sum_frequency = df_match['frequency'].sum()\n",
    "# df_match['proportion'] = df_match['frequency'].apply(lambda x: x/sum_frequency)\n",
    "df_match['proportion'] = df_match['frequency'] / df_match['frequency'].sum()"
   ]
  },
  {
   "cell_type": "code",
   "execution_count": null,
   "id": "descending-easter",
   "metadata": {},
   "outputs": [],
   "source": [
    "df_match"
   ]
  },
  {
   "cell_type": "code",
   "execution_count": null,
   "id": "healthy-arnold",
   "metadata": {},
   "outputs": [],
   "source": [
    "raw_clonotypes= pd.read_csv(\"/SGRNJ06/randd/USER/cjj/celedev/vdj10x/20230428shanghai/HJG-C-T-T/04.summarize/clonotypes.csv\", sep=',', index_col=None)\n",
    "raw_clonotypes"
   ]
  },
  {
   "cell_type": "code",
   "execution_count": null,
   "id": "continuous-peter",
   "metadata": {},
   "outputs": [],
   "source": [
    "df_match = pd.merge(df_match, raw_clonotypes[[\"clonotype_id\", \"cdr3s_aa\", \"cdr3s_nt\"]], on=\"clonotype_id\")"
   ]
  },
  {
   "cell_type": "code",
   "execution_count": null,
   "id": "desirable-division",
   "metadata": {},
   "outputs": [],
   "source": [
    "df_match"
   ]
  },
  {
   "cell_type": "code",
   "execution_count": null,
   "id": "lonely-springer",
   "metadata": {},
   "outputs": [],
   "source": [
    "df_match.to_csv(\"/SGRNJ06/randd/USER/cjj/celedev/vdj10x/tmp/clonotypes.csv\", sep=',', index=False)"
   ]
  },
  {
   "cell_type": "code",
   "execution_count": null,
   "id": "greater-performer",
   "metadata": {},
   "outputs": [],
   "source": []
  },
  {
   "cell_type": "code",
   "execution_count": null,
   "id": "institutional-squad",
   "metadata": {},
   "outputs": [],
   "source": []
  },
  {
   "cell_type": "code",
   "execution_count": 354,
   "id": "living-beast",
   "metadata": {},
   "outputs": [],
   "source": [
    "df_match = pd.read_csv(\"/SGRNJ06/randd/USER/cjj/celedev/vdj10x/20230428shanghai/HJG-C-T-T/05.match/matched_contig_annotations.csv\")\n",
    "df_match = df_match[df_match['productive'] == True]\n",
    "raw_clonotypes= pd.read_csv(\"/SGRNJ06/randd/USER/cjj/celedev/vdj10x/20230428shanghai/HJG-C-T-T/04.summarize/clonotypes.csv\", sep=',', index_col=None)"
   ]
  },
  {
   "cell_type": "code",
   "execution_count": null,
   "id": "scientific-drama",
   "metadata": {},
   "outputs": [],
   "source": [
    "\n",
    "        \n",
    "        df_match = df_match[df_match['productive'] == True]\n",
    "        df_match = df_match.rename(columns={\"raw_clonotype_id\":\"clonotype_id\"})\\\n",
    "            .dropna(subset=[\"clonotype_id\"]).groupby(\"clonotype_id\")[\"barcode\"].nunique().to_frame()\\\n",
    "                .reset_index().rename(columns={\"barcode\": \"frequency\"})\\\n",
    "                    .sort_values(\"clonotype_id\", key=lambda x: x.str.lstrip(\"clonotype\").astype(int))\n",
    "        df_match['proportion'] = df_match['frequency'] / df_match['frequency'].sum()\n",
    "        \n",
    "        df_match = pd.merge(df_match, raw_clonotypes[[\"clonotype_id\", \"cdr3s_aa\", \"cdr3s_nt\"]], on=\"clonotype_id\")"
   ]
  },
  {
   "cell_type": "code",
   "execution_count": null,
   "id": "exciting-spyware",
   "metadata": {},
   "outputs": [],
   "source": [
    "df_match"
   ]
  },
  {
   "cell_type": "code",
   "execution_count": null,
   "id": "lyric-vertical",
   "metadata": {},
   "outputs": [],
   "source": []
  },
  {
   "cell_type": "code",
   "execution_count": 355,
   "id": "governmental-finnish",
   "metadata": {},
   "outputs": [
    {
     "data": {
      "text/html": [
       "<div>\n",
       "<style scoped>\n",
       "    .dataframe tbody tr th:only-of-type {\n",
       "        vertical-align: middle;\n",
       "    }\n",
       "\n",
       "    .dataframe tbody tr th {\n",
       "        vertical-align: top;\n",
       "    }\n",
       "\n",
       "    .dataframe thead th {\n",
       "        text-align: right;\n",
       "    }\n",
       "</style>\n",
       "<table border=\"1\" class=\"dataframe\">\n",
       "  <thead>\n",
       "    <tr style=\"text-align: right;\">\n",
       "      <th></th>\n",
       "      <th>clonotype_id</th>\n",
       "      <th>cdr3s_aa</th>\n",
       "      <th>cdr3s_nt</th>\n",
       "      <th>inkt_evidence</th>\n",
       "      <th>mait_evidence</th>\n",
       "    </tr>\n",
       "  </thead>\n",
       "  <tbody>\n",
       "    <tr>\n",
       "      <th>0</th>\n",
       "      <td>clonotype1</td>\n",
       "      <td>TRB:CASNPGARENEQFF;TRA:CAVRTSGTYKYIF</td>\n",
       "      <td>TRB:TGTGCCAGCAACCCTGGGGCAAGGGAAAATGAGCAGTTCTTC...</td>\n",
       "      <td>NaN</td>\n",
       "      <td>NaN</td>\n",
       "    </tr>\n",
       "    <tr>\n",
       "      <th>1</th>\n",
       "      <td>clonotype2</td>\n",
       "      <td>TRB:CASNPGARENEQFF</td>\n",
       "      <td>TRB:TGTGCCAGCAACCCTGGGGCAAGGGAAAATGAGCAGTTCTTC</td>\n",
       "      <td>NaN</td>\n",
       "      <td>NaN</td>\n",
       "    </tr>\n",
       "    <tr>\n",
       "      <th>2</th>\n",
       "      <td>clonotype3</td>\n",
       "      <td>TRA:CAVRTSGTYKYIF</td>\n",
       "      <td>TRA:TGTGCTGTGAGGACCTCAGGAACCTACAAATACATCTTT</td>\n",
       "      <td>NaN</td>\n",
       "      <td>NaN</td>\n",
       "    </tr>\n",
       "    <tr>\n",
       "      <th>3</th>\n",
       "      <td>clonotype4</td>\n",
       "      <td>TRB:CASSSSPKGGSSYNEQFF;TRA:CAVRTSGTYKYIF</td>\n",
       "      <td>TRB:TGCGCCAGCAGCTCCTCGCCGAAAGGGGGAAGCTCCTACAAT...</td>\n",
       "      <td>NaN</td>\n",
       "      <td>NaN</td>\n",
       "    </tr>\n",
       "    <tr>\n",
       "      <th>4</th>\n",
       "      <td>clonotype5</td>\n",
       "      <td>TRB:CASSPPGQDYEQYF;TRA:CAVRDQGNVLHC</td>\n",
       "      <td>TRB:TGTGCCAGCAGCCCACCGGGACAAGACTACGAGCAGTACTTC...</td>\n",
       "      <td>NaN</td>\n",
       "      <td>NaN</td>\n",
       "    </tr>\n",
       "    <tr>\n",
       "      <th>...</th>\n",
       "      <td>...</td>\n",
       "      <td>...</td>\n",
       "      <td>...</td>\n",
       "      <td>...</td>\n",
       "      <td>...</td>\n",
       "    </tr>\n",
       "    <tr>\n",
       "      <th>850</th>\n",
       "      <td>clonotype851</td>\n",
       "      <td>TRA:CAAYKAAGNKLTF</td>\n",
       "      <td>TRA:TGTGCAGCATATAAAGCTGCAGGCAACAAGCTAACTTTT</td>\n",
       "      <td>NaN</td>\n",
       "      <td>NaN</td>\n",
       "    </tr>\n",
       "    <tr>\n",
       "      <th>851</th>\n",
       "      <td>clonotype852</td>\n",
       "      <td>TRA:CAAMGSGAGSYQLTF</td>\n",
       "      <td>TRA:TGTGCAGCAATGGGCTCTGGGGCTGGGAGTTACCAACTCACTTTC</td>\n",
       "      <td>NaN</td>\n",
       "      <td>NaN</td>\n",
       "    </tr>\n",
       "    <tr>\n",
       "      <th>852</th>\n",
       "      <td>clonotype853</td>\n",
       "      <td>TRA:CAAMGSGAGSYQLTF</td>\n",
       "      <td>TRA:TGTGCAGCAATGGGCTCTGGGGCTGGGAGTTACCAACTCACTTTC</td>\n",
       "      <td>NaN</td>\n",
       "      <td>NaN</td>\n",
       "    </tr>\n",
       "    <tr>\n",
       "      <th>853</th>\n",
       "      <td>clonotype854</td>\n",
       "      <td>TRB:CASSLGDPPRNTIYF</td>\n",
       "      <td>TRB:TGTGCCAGCAGCTTAGGGGACCCCCCAAGAAACACCATATATTTT</td>\n",
       "      <td>NaN</td>\n",
       "      <td>NaN</td>\n",
       "    </tr>\n",
       "    <tr>\n",
       "      <th>854</th>\n",
       "      <td>clonotype855</td>\n",
       "      <td>TRB:CASSLGDPPRNTIYF;TRA:CIVYNDMRF</td>\n",
       "      <td>TRB:TGTGCCAGCAGCTTAGGGGACCCCCCAAGAAACACCATATAT...</td>\n",
       "      <td>NaN</td>\n",
       "      <td>NaN</td>\n",
       "    </tr>\n",
       "  </tbody>\n",
       "</table>\n",
       "<p>855 rows × 5 columns</p>\n",
       "</div>"
      ],
      "text/plain": [
       "     clonotype_id                                  cdr3s_aa  \\\n",
       "0      clonotype1      TRB:CASNPGARENEQFF;TRA:CAVRTSGTYKYIF   \n",
       "1      clonotype2                        TRB:CASNPGARENEQFF   \n",
       "2      clonotype3                         TRA:CAVRTSGTYKYIF   \n",
       "3      clonotype4  TRB:CASSSSPKGGSSYNEQFF;TRA:CAVRTSGTYKYIF   \n",
       "4      clonotype5       TRB:CASSPPGQDYEQYF;TRA:CAVRDQGNVLHC   \n",
       "..            ...                                       ...   \n",
       "850  clonotype851                         TRA:CAAYKAAGNKLTF   \n",
       "851  clonotype852                       TRA:CAAMGSGAGSYQLTF   \n",
       "852  clonotype853                       TRA:CAAMGSGAGSYQLTF   \n",
       "853  clonotype854                       TRB:CASSLGDPPRNTIYF   \n",
       "854  clonotype855         TRB:CASSLGDPPRNTIYF;TRA:CIVYNDMRF   \n",
       "\n",
       "                                              cdr3s_nt  inkt_evidence  \\\n",
       "0    TRB:TGTGCCAGCAACCCTGGGGCAAGGGAAAATGAGCAGTTCTTC...            NaN   \n",
       "1       TRB:TGTGCCAGCAACCCTGGGGCAAGGGAAAATGAGCAGTTCTTC            NaN   \n",
       "2          TRA:TGTGCTGTGAGGACCTCAGGAACCTACAAATACATCTTT            NaN   \n",
       "3    TRB:TGCGCCAGCAGCTCCTCGCCGAAAGGGGGAAGCTCCTACAAT...            NaN   \n",
       "4    TRB:TGTGCCAGCAGCCCACCGGGACAAGACTACGAGCAGTACTTC...            NaN   \n",
       "..                                                 ...            ...   \n",
       "850        TRA:TGTGCAGCATATAAAGCTGCAGGCAACAAGCTAACTTTT            NaN   \n",
       "851  TRA:TGTGCAGCAATGGGCTCTGGGGCTGGGAGTTACCAACTCACTTTC            NaN   \n",
       "852  TRA:TGTGCAGCAATGGGCTCTGGGGCTGGGAGTTACCAACTCACTTTC            NaN   \n",
       "853  TRB:TGTGCCAGCAGCTTAGGGGACCCCCCAAGAAACACCATATATTTT            NaN   \n",
       "854  TRB:TGTGCCAGCAGCTTAGGGGACCCCCCAAGAAACACCATATAT...            NaN   \n",
       "\n",
       "    mait_evidence  \n",
       "0             NaN  \n",
       "1             NaN  \n",
       "2             NaN  \n",
       "3             NaN  \n",
       "4             NaN  \n",
       "..            ...  \n",
       "850           NaN  \n",
       "851           NaN  \n",
       "852           NaN  \n",
       "853           NaN  \n",
       "854           NaN  \n",
       "\n",
       "[855 rows x 5 columns]"
      ]
     },
     "execution_count": 355,
     "metadata": {},
     "output_type": "execute_result"
    }
   ],
   "source": [
    "raw_clonotypes.drop([\"frequency\", \"proportion\"], axis=1, inplace=True)\n",
    "raw_clonotypes"
   ]
  },
  {
   "cell_type": "code",
   "execution_count": 356,
   "id": "valued-exercise",
   "metadata": {},
   "outputs": [],
   "source": [
    "        df_match = df_match[df_match['productive'] == True]\n",
    "        df_match = df_match.rename(columns={\"raw_clonotype_id\":\"clonotype_id\"})\\\n",
    "            .dropna(subset=[\"clonotype_id\"]).groupby(\"clonotype_id\")[\"barcode\"].nunique().to_frame()\\\n",
    "                .reset_index().rename(columns={\"barcode\": \"frequency\"})\n",
    "        df_match['proportion'] = df_match['frequency'] / df_match['frequency'].sum()"
   ]
  },
  {
   "cell_type": "code",
   "execution_count": 357,
   "id": "unable-radius",
   "metadata": {},
   "outputs": [
    {
     "data": {
      "text/html": [
       "<div>\n",
       "<style scoped>\n",
       "    .dataframe tbody tr th:only-of-type {\n",
       "        vertical-align: middle;\n",
       "    }\n",
       "\n",
       "    .dataframe tbody tr th {\n",
       "        vertical-align: top;\n",
       "    }\n",
       "\n",
       "    .dataframe thead th {\n",
       "        text-align: right;\n",
       "    }\n",
       "</style>\n",
       "<table border=\"1\" class=\"dataframe\">\n",
       "  <thead>\n",
       "    <tr style=\"text-align: right;\">\n",
       "      <th></th>\n",
       "      <th>clonotype_id</th>\n",
       "      <th>frequency</th>\n",
       "      <th>proportion</th>\n",
       "    </tr>\n",
       "  </thead>\n",
       "  <tbody>\n",
       "    <tr>\n",
       "      <th>0</th>\n",
       "      <td>clonotype1</td>\n",
       "      <td>1914</td>\n",
       "      <td>0.342091</td>\n",
       "    </tr>\n",
       "    <tr>\n",
       "      <th>1</th>\n",
       "      <td>clonotype10</td>\n",
       "      <td>59</td>\n",
       "      <td>0.010545</td>\n",
       "    </tr>\n",
       "    <tr>\n",
       "      <th>2</th>\n",
       "      <td>clonotype100</td>\n",
       "      <td>10</td>\n",
       "      <td>0.001787</td>\n",
       "    </tr>\n",
       "    <tr>\n",
       "      <th>3</th>\n",
       "      <td>clonotype101</td>\n",
       "      <td>9</td>\n",
       "      <td>0.001609</td>\n",
       "    </tr>\n",
       "    <tr>\n",
       "      <th>4</th>\n",
       "      <td>clonotype102</td>\n",
       "      <td>11</td>\n",
       "      <td>0.001966</td>\n",
       "    </tr>\n",
       "    <tr>\n",
       "      <th>...</th>\n",
       "      <td>...</td>\n",
       "      <td>...</td>\n",
       "      <td>...</td>\n",
       "    </tr>\n",
       "    <tr>\n",
       "      <th>296</th>\n",
       "      <td>clonotype95</td>\n",
       "      <td>3</td>\n",
       "      <td>0.000536</td>\n",
       "    </tr>\n",
       "    <tr>\n",
       "      <th>297</th>\n",
       "      <td>clonotype96</td>\n",
       "      <td>13</td>\n",
       "      <td>0.002324</td>\n",
       "    </tr>\n",
       "    <tr>\n",
       "      <th>298</th>\n",
       "      <td>clonotype97</td>\n",
       "      <td>10</td>\n",
       "      <td>0.001787</td>\n",
       "    </tr>\n",
       "    <tr>\n",
       "      <th>299</th>\n",
       "      <td>clonotype98</td>\n",
       "      <td>1</td>\n",
       "      <td>0.000179</td>\n",
       "    </tr>\n",
       "    <tr>\n",
       "      <th>300</th>\n",
       "      <td>clonotype99</td>\n",
       "      <td>11</td>\n",
       "      <td>0.001966</td>\n",
       "    </tr>\n",
       "  </tbody>\n",
       "</table>\n",
       "<p>301 rows × 3 columns</p>\n",
       "</div>"
      ],
      "text/plain": [
       "     clonotype_id  frequency  proportion\n",
       "0      clonotype1       1914    0.342091\n",
       "1     clonotype10         59    0.010545\n",
       "2    clonotype100         10    0.001787\n",
       "3    clonotype101          9    0.001609\n",
       "4    clonotype102         11    0.001966\n",
       "..            ...        ...         ...\n",
       "296   clonotype95          3    0.000536\n",
       "297   clonotype96         13    0.002324\n",
       "298   clonotype97         10    0.001787\n",
       "299   clonotype98          1    0.000179\n",
       "300   clonotype99         11    0.001966\n",
       "\n",
       "[301 rows x 3 columns]"
      ]
     },
     "execution_count": 357,
     "metadata": {},
     "output_type": "execute_result"
    }
   ],
   "source": [
    "df_match"
   ]
  },
  {
   "cell_type": "code",
   "execution_count": 358,
   "id": "statistical-blackjack",
   "metadata": {},
   "outputs": [
    {
     "data": {
      "text/html": [
       "<div>\n",
       "<style scoped>\n",
       "    .dataframe tbody tr th:only-of-type {\n",
       "        vertical-align: middle;\n",
       "    }\n",
       "\n",
       "    .dataframe tbody tr th {\n",
       "        vertical-align: top;\n",
       "    }\n",
       "\n",
       "    .dataframe thead th {\n",
       "        text-align: right;\n",
       "    }\n",
       "</style>\n",
       "<table border=\"1\" class=\"dataframe\">\n",
       "  <thead>\n",
       "    <tr style=\"text-align: right;\">\n",
       "      <th></th>\n",
       "      <th>clonotype_id</th>\n",
       "      <th>frequency</th>\n",
       "      <th>proportion</th>\n",
       "      <th>cdr3s_aa</th>\n",
       "      <th>cdr3s_nt</th>\n",
       "      <th>inkt_evidence</th>\n",
       "      <th>mait_evidence</th>\n",
       "    </tr>\n",
       "  </thead>\n",
       "  <tbody>\n",
       "    <tr>\n",
       "      <th>0</th>\n",
       "      <td>clonotype1</td>\n",
       "      <td>1914</td>\n",
       "      <td>0.342091</td>\n",
       "      <td>TRB:CASNPGARENEQFF;TRA:CAVRTSGTYKYIF</td>\n",
       "      <td>TRB:TGTGCCAGCAACCCTGGGGCAAGGGAAAATGAGCAGTTCTTC...</td>\n",
       "      <td>NaN</td>\n",
       "      <td>NaN</td>\n",
       "    </tr>\n",
       "    <tr>\n",
       "      <th>1</th>\n",
       "      <td>clonotype10</td>\n",
       "      <td>59</td>\n",
       "      <td>0.010545</td>\n",
       "      <td>TRB:CSAKGLASYEQYF;TRA:CAGQTLLTDKLIF</td>\n",
       "      <td>TRB:TGCAGTGCTAAAGGACTAGCCTCCTACGAGCAGTACTTC;TR...</td>\n",
       "      <td>NaN</td>\n",
       "      <td>TRB:gene</td>\n",
       "    </tr>\n",
       "    <tr>\n",
       "      <th>2</th>\n",
       "      <td>clonotype100</td>\n",
       "      <td>10</td>\n",
       "      <td>0.001787</td>\n",
       "      <td>TRB:CSVEGTGDPEAFF;TRA:CAVRTSGTYKYIF</td>\n",
       "      <td>TRB:TGCAGCGTTGAGGGGACAGGGGACCCTGAAGCTTTCTTT;TR...</td>\n",
       "      <td>NaN</td>\n",
       "      <td>NaN</td>\n",
       "    </tr>\n",
       "    <tr>\n",
       "      <th>3</th>\n",
       "      <td>clonotype101</td>\n",
       "      <td>9</td>\n",
       "      <td>0.001609</td>\n",
       "      <td>TRB:CASSAQGFKSDTEAFF;TRA:CAMREGPTGGFKTIF</td>\n",
       "      <td>TRB:TGTGCCAGCAGCGCCCAGGGATTTAAGTCGGACACTGAAGCT...</td>\n",
       "      <td>NaN</td>\n",
       "      <td>NaN</td>\n",
       "    </tr>\n",
       "    <tr>\n",
       "      <th>4</th>\n",
       "      <td>clonotype102</td>\n",
       "      <td>11</td>\n",
       "      <td>0.001966</td>\n",
       "      <td>TRB:CASSVQDEQFF;TRA:CAVNPQGFGTGGFKTIF;TRA:CAVR...</td>\n",
       "      <td>TRB:TGTGCCAGCAGCGTACAAGATGAGCAGTTCTTC;TRA:TGTG...</td>\n",
       "      <td>NaN</td>\n",
       "      <td>NaN</td>\n",
       "    </tr>\n",
       "    <tr>\n",
       "      <th>...</th>\n",
       "      <td>...</td>\n",
       "      <td>...</td>\n",
       "      <td>...</td>\n",
       "      <td>...</td>\n",
       "      <td>...</td>\n",
       "      <td>...</td>\n",
       "      <td>...</td>\n",
       "    </tr>\n",
       "    <tr>\n",
       "      <th>296</th>\n",
       "      <td>clonotype95</td>\n",
       "      <td>3</td>\n",
       "      <td>0.000536</td>\n",
       "      <td>TRB:CASSGLGGGELFF;TRA:CAENRGSYIPTF;TRA:CAVRTSG...</td>\n",
       "      <td>TRB:TGTGCCAGCAGCGGACTAGGGGGTGGGGAGCTGTTTTTT;TR...</td>\n",
       "      <td>NaN</td>\n",
       "      <td>NaN</td>\n",
       "    </tr>\n",
       "    <tr>\n",
       "      <th>297</th>\n",
       "      <td>clonotype96</td>\n",
       "      <td>13</td>\n",
       "      <td>0.002324</td>\n",
       "      <td>TRB:CASSSAGGASPGPLHF;TRA:CAVVLTNSGYALNF</td>\n",
       "      <td>TRB:TGTGCCAGCAGCTCCGCTGGGGGGGCCAGCCCGGGACCCCTC...</td>\n",
       "      <td>NaN</td>\n",
       "      <td>NaN</td>\n",
       "    </tr>\n",
       "    <tr>\n",
       "      <th>298</th>\n",
       "      <td>clonotype97</td>\n",
       "      <td>10</td>\n",
       "      <td>0.001787</td>\n",
       "      <td>TRB:CASSPQGASNQPQHF;TRA:CAVRSDQTGANNLFF;TRA:CA...</td>\n",
       "      <td>TRB:TGTGCCAGCAGTCCCCAGGGGGCGAGCAATCAGCCCCAGCAT...</td>\n",
       "      <td>NaN</td>\n",
       "      <td>NaN</td>\n",
       "    </tr>\n",
       "    <tr>\n",
       "      <th>299</th>\n",
       "      <td>clonotype98</td>\n",
       "      <td>1</td>\n",
       "      <td>0.000179</td>\n",
       "      <td>TRB:CASNPGARENEQFF</td>\n",
       "      <td>TRB:TGTGCCAGCAACCCTGGGGCAAGGGAAAATGAGCAGTTCTTC</td>\n",
       "      <td>NaN</td>\n",
       "      <td>NaN</td>\n",
       "    </tr>\n",
       "    <tr>\n",
       "      <th>300</th>\n",
       "      <td>clonotype99</td>\n",
       "      <td>11</td>\n",
       "      <td>0.001966</td>\n",
       "      <td>TRB:CASNPGARENEQFF;TRB:CASSPLRGGYNSPLHF;TRA:CA...</td>\n",
       "      <td>TRB:TGTGCCAGCAACCCTGGGGCAAGGGAAAATGAGCAGTTCTTC...</td>\n",
       "      <td>NaN</td>\n",
       "      <td>NaN</td>\n",
       "    </tr>\n",
       "  </tbody>\n",
       "</table>\n",
       "<p>301 rows × 7 columns</p>\n",
       "</div>"
      ],
      "text/plain": [
       "     clonotype_id  frequency  proportion  \\\n",
       "0      clonotype1       1914    0.342091   \n",
       "1     clonotype10         59    0.010545   \n",
       "2    clonotype100         10    0.001787   \n",
       "3    clonotype101          9    0.001609   \n",
       "4    clonotype102         11    0.001966   \n",
       "..            ...        ...         ...   \n",
       "296   clonotype95          3    0.000536   \n",
       "297   clonotype96         13    0.002324   \n",
       "298   clonotype97         10    0.001787   \n",
       "299   clonotype98          1    0.000179   \n",
       "300   clonotype99         11    0.001966   \n",
       "\n",
       "                                              cdr3s_aa  \\\n",
       "0                 TRB:CASNPGARENEQFF;TRA:CAVRTSGTYKYIF   \n",
       "1                  TRB:CSAKGLASYEQYF;TRA:CAGQTLLTDKLIF   \n",
       "2                  TRB:CSVEGTGDPEAFF;TRA:CAVRTSGTYKYIF   \n",
       "3             TRB:CASSAQGFKSDTEAFF;TRA:CAMREGPTGGFKTIF   \n",
       "4    TRB:CASSVQDEQFF;TRA:CAVNPQGFGTGGFKTIF;TRA:CAVR...   \n",
       "..                                                 ...   \n",
       "296  TRB:CASSGLGGGELFF;TRA:CAENRGSYIPTF;TRA:CAVRTSG...   \n",
       "297            TRB:CASSSAGGASPGPLHF;TRA:CAVVLTNSGYALNF   \n",
       "298  TRB:CASSPQGASNQPQHF;TRA:CAVRSDQTGANNLFF;TRA:CA...   \n",
       "299                                 TRB:CASNPGARENEQFF   \n",
       "300  TRB:CASNPGARENEQFF;TRB:CASSPLRGGYNSPLHF;TRA:CA...   \n",
       "\n",
       "                                              cdr3s_nt  inkt_evidence  \\\n",
       "0    TRB:TGTGCCAGCAACCCTGGGGCAAGGGAAAATGAGCAGTTCTTC...            NaN   \n",
       "1    TRB:TGCAGTGCTAAAGGACTAGCCTCCTACGAGCAGTACTTC;TR...            NaN   \n",
       "2    TRB:TGCAGCGTTGAGGGGACAGGGGACCCTGAAGCTTTCTTT;TR...            NaN   \n",
       "3    TRB:TGTGCCAGCAGCGCCCAGGGATTTAAGTCGGACACTGAAGCT...            NaN   \n",
       "4    TRB:TGTGCCAGCAGCGTACAAGATGAGCAGTTCTTC;TRA:TGTG...            NaN   \n",
       "..                                                 ...            ...   \n",
       "296  TRB:TGTGCCAGCAGCGGACTAGGGGGTGGGGAGCTGTTTTTT;TR...            NaN   \n",
       "297  TRB:TGTGCCAGCAGCTCCGCTGGGGGGGCCAGCCCGGGACCCCTC...            NaN   \n",
       "298  TRB:TGTGCCAGCAGTCCCCAGGGGGCGAGCAATCAGCCCCAGCAT...            NaN   \n",
       "299     TRB:TGTGCCAGCAACCCTGGGGCAAGGGAAAATGAGCAGTTCTTC            NaN   \n",
       "300  TRB:TGTGCCAGCAACCCTGGGGCAAGGGAAAATGAGCAGTTCTTC...            NaN   \n",
       "\n",
       "    mait_evidence  \n",
       "0             NaN  \n",
       "1        TRB:gene  \n",
       "2             NaN  \n",
       "3             NaN  \n",
       "4             NaN  \n",
       "..            ...  \n",
       "296           NaN  \n",
       "297           NaN  \n",
       "298           NaN  \n",
       "299           NaN  \n",
       "300           NaN  \n",
       "\n",
       "[301 rows x 7 columns]"
      ]
     },
     "execution_count": 358,
     "metadata": {},
     "output_type": "execute_result"
    }
   ],
   "source": [
    "pd.merge(df_match, raw_clonotypes, on=\"clonotype_id\")"
   ]
  },
  {
   "cell_type": "code",
   "execution_count": 348,
   "id": "applicable-touch",
   "metadata": {},
   "outputs": [
    {
     "data": {
      "text/html": [
       "<div>\n",
       "<style scoped>\n",
       "    .dataframe tbody tr th:only-of-type {\n",
       "        vertical-align: middle;\n",
       "    }\n",
       "\n",
       "    .dataframe tbody tr th {\n",
       "        vertical-align: top;\n",
       "    }\n",
       "\n",
       "    .dataframe thead th {\n",
       "        text-align: right;\n",
       "    }\n",
       "</style>\n",
       "<table border=\"1\" class=\"dataframe\">\n",
       "  <thead>\n",
       "    <tr style=\"text-align: right;\">\n",
       "      <th></th>\n",
       "      <th>clonotype_id</th>\n",
       "      <th>cdr3s_aa</th>\n",
       "      <th>cdr3s_nt</th>\n",
       "      <th>inkt_evidence</th>\n",
       "      <th>mait_evidence</th>\n",
       "    </tr>\n",
       "  </thead>\n",
       "  <tbody>\n",
       "    <tr>\n",
       "      <th>0</th>\n",
       "      <td>clonotype1</td>\n",
       "      <td>TRB:CASNPGARENEQFF;TRA:CAVRTSGTYKYIF</td>\n",
       "      <td>TRB:TGTGCCAGCAACCCTGGGGCAAGGGAAAATGAGCAGTTCTTC...</td>\n",
       "      <td>NaN</td>\n",
       "      <td>NaN</td>\n",
       "    </tr>\n",
       "    <tr>\n",
       "      <th>1</th>\n",
       "      <td>clonotype2</td>\n",
       "      <td>TRB:CASNPGARENEQFF</td>\n",
       "      <td>TRB:TGTGCCAGCAACCCTGGGGCAAGGGAAAATGAGCAGTTCTTC</td>\n",
       "      <td>NaN</td>\n",
       "      <td>NaN</td>\n",
       "    </tr>\n",
       "    <tr>\n",
       "      <th>2</th>\n",
       "      <td>clonotype3</td>\n",
       "      <td>TRA:CAVRTSGTYKYIF</td>\n",
       "      <td>TRA:TGTGCTGTGAGGACCTCAGGAACCTACAAATACATCTTT</td>\n",
       "      <td>NaN</td>\n",
       "      <td>NaN</td>\n",
       "    </tr>\n",
       "    <tr>\n",
       "      <th>3</th>\n",
       "      <td>clonotype4</td>\n",
       "      <td>TRB:CASSSSPKGGSSYNEQFF;TRA:CAVRTSGTYKYIF</td>\n",
       "      <td>TRB:TGCGCCAGCAGCTCCTCGCCGAAAGGGGGAAGCTCCTACAAT...</td>\n",
       "      <td>NaN</td>\n",
       "      <td>NaN</td>\n",
       "    </tr>\n",
       "    <tr>\n",
       "      <th>4</th>\n",
       "      <td>clonotype5</td>\n",
       "      <td>TRB:CASSPPGQDYEQYF;TRA:CAVRDQGNVLHC</td>\n",
       "      <td>TRB:TGTGCCAGCAGCCCACCGGGACAAGACTACGAGCAGTACTTC...</td>\n",
       "      <td>NaN</td>\n",
       "      <td>NaN</td>\n",
       "    </tr>\n",
       "    <tr>\n",
       "      <th>...</th>\n",
       "      <td>...</td>\n",
       "      <td>...</td>\n",
       "      <td>...</td>\n",
       "      <td>...</td>\n",
       "      <td>...</td>\n",
       "    </tr>\n",
       "    <tr>\n",
       "      <th>850</th>\n",
       "      <td>clonotype851</td>\n",
       "      <td>TRA:CAAYKAAGNKLTF</td>\n",
       "      <td>TRA:TGTGCAGCATATAAAGCTGCAGGCAACAAGCTAACTTTT</td>\n",
       "      <td>NaN</td>\n",
       "      <td>NaN</td>\n",
       "    </tr>\n",
       "    <tr>\n",
       "      <th>851</th>\n",
       "      <td>clonotype852</td>\n",
       "      <td>TRA:CAAMGSGAGSYQLTF</td>\n",
       "      <td>TRA:TGTGCAGCAATGGGCTCTGGGGCTGGGAGTTACCAACTCACTTTC</td>\n",
       "      <td>NaN</td>\n",
       "      <td>NaN</td>\n",
       "    </tr>\n",
       "    <tr>\n",
       "      <th>852</th>\n",
       "      <td>clonotype853</td>\n",
       "      <td>TRA:CAAMGSGAGSYQLTF</td>\n",
       "      <td>TRA:TGTGCAGCAATGGGCTCTGGGGCTGGGAGTTACCAACTCACTTTC</td>\n",
       "      <td>NaN</td>\n",
       "      <td>NaN</td>\n",
       "    </tr>\n",
       "    <tr>\n",
       "      <th>853</th>\n",
       "      <td>clonotype854</td>\n",
       "      <td>TRB:CASSLGDPPRNTIYF</td>\n",
       "      <td>TRB:TGTGCCAGCAGCTTAGGGGACCCCCCAAGAAACACCATATATTTT</td>\n",
       "      <td>NaN</td>\n",
       "      <td>NaN</td>\n",
       "    </tr>\n",
       "    <tr>\n",
       "      <th>854</th>\n",
       "      <td>clonotype855</td>\n",
       "      <td>TRB:CASSLGDPPRNTIYF;TRA:CIVYNDMRF</td>\n",
       "      <td>TRB:TGTGCCAGCAGCTTAGGGGACCCCCCAAGAAACACCATATAT...</td>\n",
       "      <td>NaN</td>\n",
       "      <td>NaN</td>\n",
       "    </tr>\n",
       "  </tbody>\n",
       "</table>\n",
       "<p>855 rows × 5 columns</p>\n",
       "</div>"
      ],
      "text/plain": [
       "     clonotype_id                                  cdr3s_aa  \\\n",
       "0      clonotype1      TRB:CASNPGARENEQFF;TRA:CAVRTSGTYKYIF   \n",
       "1      clonotype2                        TRB:CASNPGARENEQFF   \n",
       "2      clonotype3                         TRA:CAVRTSGTYKYIF   \n",
       "3      clonotype4  TRB:CASSSSPKGGSSYNEQFF;TRA:CAVRTSGTYKYIF   \n",
       "4      clonotype5       TRB:CASSPPGQDYEQYF;TRA:CAVRDQGNVLHC   \n",
       "..            ...                                       ...   \n",
       "850  clonotype851                         TRA:CAAYKAAGNKLTF   \n",
       "851  clonotype852                       TRA:CAAMGSGAGSYQLTF   \n",
       "852  clonotype853                       TRA:CAAMGSGAGSYQLTF   \n",
       "853  clonotype854                       TRB:CASSLGDPPRNTIYF   \n",
       "854  clonotype855         TRB:CASSLGDPPRNTIYF;TRA:CIVYNDMRF   \n",
       "\n",
       "                                              cdr3s_nt  inkt_evidence  \\\n",
       "0    TRB:TGTGCCAGCAACCCTGGGGCAAGGGAAAATGAGCAGTTCTTC...            NaN   \n",
       "1       TRB:TGTGCCAGCAACCCTGGGGCAAGGGAAAATGAGCAGTTCTTC            NaN   \n",
       "2          TRA:TGTGCTGTGAGGACCTCAGGAACCTACAAATACATCTTT            NaN   \n",
       "3    TRB:TGCGCCAGCAGCTCCTCGCCGAAAGGGGGAAGCTCCTACAAT...            NaN   \n",
       "4    TRB:TGTGCCAGCAGCCCACCGGGACAAGACTACGAGCAGTACTTC...            NaN   \n",
       "..                                                 ...            ...   \n",
       "850        TRA:TGTGCAGCATATAAAGCTGCAGGCAACAAGCTAACTTTT            NaN   \n",
       "851  TRA:TGTGCAGCAATGGGCTCTGGGGCTGGGAGTTACCAACTCACTTTC            NaN   \n",
       "852  TRA:TGTGCAGCAATGGGCTCTGGGGCTGGGAGTTACCAACTCACTTTC            NaN   \n",
       "853  TRB:TGTGCCAGCAGCTTAGGGGACCCCCCAAGAAACACCATATATTTT            NaN   \n",
       "854  TRB:TGTGCCAGCAGCTTAGGGGACCCCCCAAGAAACACCATATAT...            NaN   \n",
       "\n",
       "    mait_evidence  \n",
       "0             NaN  \n",
       "1             NaN  \n",
       "2             NaN  \n",
       "3             NaN  \n",
       "4             NaN  \n",
       "..            ...  \n",
       "850           NaN  \n",
       "851           NaN  \n",
       "852           NaN  \n",
       "853           NaN  \n",
       "854           NaN  \n",
       "\n",
       "[855 rows x 5 columns]"
      ]
     },
     "execution_count": 348,
     "metadata": {},
     "output_type": "execute_result"
    }
   ],
   "source": [
    "raw_clonotypes"
   ]
  },
  {
   "cell_type": "code",
   "execution_count": null,
   "id": "lesser-class",
   "metadata": {},
   "outputs": [],
   "source": []
  }
 ],
 "metadata": {
  "kernelspec": {
   "display_name": "trust4_1.7",
   "language": "python",
   "name": "trust4_1.7"
  },
  "language_info": {
   "codemirror_mode": {
    "name": "ipython",
    "version": 3
   },
   "file_extension": ".py",
   "mimetype": "text/x-python",
   "name": "python",
   "nbconvert_exporter": "python",
   "pygments_lexer": "ipython3",
   "version": "3.7.10"
  }
 },
 "nbformat": 4,
 "nbformat_minor": 5
}
