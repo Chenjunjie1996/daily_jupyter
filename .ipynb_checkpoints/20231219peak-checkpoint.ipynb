{
 "cells": [
  {
   "cell_type": "code",
   "execution_count": 1,
   "id": "cutting-neighbor",
   "metadata": {},
   "outputs": [],
   "source": [
    "suppressWarnings(suppressMessages({\n",
    "    library(Signac)\n",
    "    library(Seurat)\n",
    "    library(EnsDb.Mmusculus.v79)\n",
    "    library(tidyverse)\n",
    "    library(SingleR)\n",
    "    library(EnsDb.Hsapiens.v75)\n",
    "}))"
   ]
  },
  {
   "cell_type": "code",
   "execution_count": 25,
   "id": "after-bargain",
   "metadata": {},
   "outputs": [
    {
     "name": "stderr",
     "output_type": "stream",
     "text": [
      "Warning message in sparseMatrix(i = indices[] + 1, p = indptr[], x = as.numeric(x = counts[]), :\n",
      "\"'giveCsparse' is deprecated; setting repr=\"T\" for you\"\n",
      "Warning message in sparseMatrix(i = indices[] + 1, p = indptr[], x = as.numeric(x = counts[]), :\n",
      "\"'giveCsparse' is deprecated; setting repr=\"T\" for you\"\n"
     ]
    }
   ],
   "source": [
    "rds = Read10X_h5(\"/SGRNJ06/randd/PROJECT/scATAC/self_pipe/20231212_M_959595_sc/A1120_3_MLNheart_guozhu_YSPB_WX_D002SDS_T7_EDTA5030/02.atac/Result/QC/A1120_3_MLNheart_guozhu_YSPB_WX_D002SDS_T7_EDTA5030//A1120_3_MLNheart_guozhu_YSPB_WX_D002SDS_T7_EDTA5030_filtered_peak_count.h5\")\n",
    "rds1 = Read10X_h5(\"/SGRNJ06/randd/PROJECT/scATAC/20231212_M_959595_sc/A1120_3_MLNheart_guozhu_YSPB_WX_D002SDS_T7_EDTA5030/03.atac/A1120_3_MLNheart_guozhu_YSPB_WX_D002SDS_T7_EDTA5030/outs/filtered_peak_bc_matrix.h5\")"
   ]
  },
  {
   "cell_type": "code",
   "execution_count": 26,
   "id": "developing-buyer",
   "metadata": {},
   "outputs": [
    {
     "data": {
      "text/html": [
       "<style>\n",
       ".list-inline {list-style: none; margin:0; padding: 0}\n",
       ".list-inline>li {display: inline-block}\n",
       ".list-inline>li:not(:last-child)::after {content: \"\\00b7\"; padding: 0 .5ex}\n",
       "</style>\n",
       "<ol class=list-inline><li>38349</li><li>1169</li></ol>\n"
      ],
      "text/latex": [
       "\\begin{enumerate*}\n",
       "\\item 38349\n",
       "\\item 1169\n",
       "\\end{enumerate*}\n"
      ],
      "text/markdown": [
       "1. 38349\n",
       "2. 1169\n",
       "\n",
       "\n"
      ],
      "text/plain": [
       "[1] 38349  1169"
      ]
     },
     "metadata": {},
     "output_type": "display_data"
    }
   ],
   "source": [
    "dim(rds)"
   ]
  },
  {
   "cell_type": "code",
   "execution_count": 27,
   "id": "sustainable-invite",
   "metadata": {},
   "outputs": [
    {
     "data": {
      "text/html": [
       "<style>\n",
       ".list-inline {list-style: none; margin:0; padding: 0}\n",
       ".list-inline>li {display: inline-block}\n",
       ".list-inline>li:not(:last-child)::after {content: \"\\00b7\"; padding: 0 .5ex}\n",
       "</style>\n",
       "<ol class=list-inline><li>60548</li><li>4700</li></ol>\n"
      ],
      "text/latex": [
       "\\begin{enumerate*}\n",
       "\\item 60548\n",
       "\\item 4700\n",
       "\\end{enumerate*}\n"
      ],
      "text/markdown": [
       "1. 60548\n",
       "2. 4700\n",
       "\n",
       "\n"
      ],
      "text/plain": [
       "[1] 60548  4700"
      ]
     },
     "metadata": {},
     "output_type": "display_data"
    }
   ],
   "source": [
    "dim(rds1)"
   ]
  },
  {
   "cell_type": "code",
   "execution_count": 28,
   "id": "provincial-benchmark",
   "metadata": {},
   "outputs": [],
   "source": [
    "df <- as.data.frame(colSums(rds))\n",
    "df$barcode <- rownames(df)\n",
    "df1 <- as.data.frame(colSums(rds1))\n",
    "df1$barcode <- rownames(df1)"
   ]
  },
  {
   "cell_type": "code",
   "execution_count": 44,
   "id": "embedded-slave",
   "metadata": {},
   "outputs": [
    {
     "data": {
      "text/html": [
       "580"
      ],
      "text/latex": [
       "580"
      ],
      "text/markdown": [
       "580"
      ],
      "text/plain": [
       "[1] 580"
      ]
     },
     "metadata": {},
     "output_type": "display_data"
    }
   ],
   "source": [
    "median(df$`colSums(rds)`)"
   ]
  },
  {
   "cell_type": "code",
   "execution_count": 45,
   "id": "minute-shift",
   "metadata": {},
   "outputs": [
    {
     "data": {
      "text/html": [
       "766.5"
      ],
      "text/latex": [
       "766.5"
      ],
      "text/markdown": [
       "766.5"
      ],
      "text/plain": [
       "[1] 766.5"
      ]
     },
     "metadata": {},
     "output_type": "display_data"
    }
   ],
   "source": [
    "median(df1$`colSums(rds1)`)"
   ]
  },
  {
   "cell_type": "code",
   "execution_count": 46,
   "id": "statewide-madagascar",
   "metadata": {},
   "outputs": [
    {
     "data": {
      "text/html": [
       "767886"
      ],
      "text/latex": [
       "767886"
      ],
      "text/markdown": [
       "767886"
      ],
      "text/plain": [
       "[1] 767886"
      ]
     },
     "metadata": {},
     "output_type": "display_data"
    }
   ],
   "source": [
    "sum(df$`colSums(rds)`)"
   ]
  },
  {
   "cell_type": "code",
   "execution_count": 47,
   "id": "positive-houston",
   "metadata": {},
   "outputs": [
    {
     "data": {
      "text/html": [
       "4296030"
      ],
      "text/latex": [
       "4296030"
      ],
      "text/markdown": [
       "4296030"
      ],
      "text/plain": [
       "[1] 4296030"
      ]
     },
     "metadata": {},
     "output_type": "display_data"
    }
   ],
   "source": [
    "sum(df1$`colSums(rds1)`)"
   ]
  },
  {
   "cell_type": "code",
   "execution_count": 71,
   "id": "blond-polish",
   "metadata": {},
   "outputs": [
    {
     "name": "stderr",
     "output_type": "stream",
     "text": [
      "Warning message in sparseMatrix(i = indices[] + 1, p = indptr[], x = as.numeric(x = counts[]), :\n",
      "\"'giveCsparse' is deprecated; setting repr=\"T\" for you\"\n"
     ]
    }
   ],
   "source": [
    "rds2 = Read10X_h5(\"/SGRNJ06/randd/USER/cjj/celedev/atac/MAESTRO/test/20231220median_peak/outs8/Result/QC/A1120_3_MLNheart_guozhu_YSPB_WX_D002SDS_T7_EDTA5030//A1120_3_MLNheart_guozhu_YSPB_WX_D002SDS_T7_EDTA5030_filtered_peak_count.h5\")"
   ]
  },
  {
   "cell_type": "code",
   "execution_count": 72,
   "id": "optical-payment",
   "metadata": {},
   "outputs": [
    {
     "data": {
      "text/html": [
       "<style>\n",
       ".list-inline {list-style: none; margin:0; padding: 0}\n",
       ".list-inline>li {display: inline-block}\n",
       ".list-inline>li:not(:last-child)::after {content: \"\\00b7\"; padding: 0 .5ex}\n",
       "</style>\n",
       "<ol class=list-inline><li>68185</li><li>1169</li></ol>\n"
      ],
      "text/latex": [
       "\\begin{enumerate*}\n",
       "\\item 68185\n",
       "\\item 1169\n",
       "\\end{enumerate*}\n"
      ],
      "text/markdown": [
       "1. 68185\n",
       "2. 1169\n",
       "\n",
       "\n"
      ],
      "text/plain": [
       "[1] 68185  1169"
      ]
     },
     "metadata": {},
     "output_type": "display_data"
    }
   ],
   "source": [
    "dim(rds2)"
   ]
  },
  {
   "cell_type": "code",
   "execution_count": 73,
   "id": "based-regression",
   "metadata": {},
   "outputs": [],
   "source": [
    "df2 <- as.data.frame(colSums(rds2))\n",
    "df2$barcode <- rownames(df2)"
   ]
  },
  {
   "cell_type": "code",
   "execution_count": 74,
   "id": "protecting-universal",
   "metadata": {},
   "outputs": [
    {
     "data": {
      "text/html": [
       "643"
      ],
      "text/latex": [
       "643"
      ],
      "text/markdown": [
       "643"
      ],
      "text/plain": [
       "[1] 643"
      ]
     },
     "metadata": {},
     "output_type": "display_data"
    }
   ],
   "source": [
    "median(df2$`colSums(rds2)`)"
   ]
  },
  {
   "cell_type": "code",
   "execution_count": 75,
   "id": "structural-filing",
   "metadata": {},
   "outputs": [
    {
     "data": {
      "text/html": [
       "848967"
      ],
      "text/latex": [
       "848967"
      ],
      "text/markdown": [
       "848967"
      ],
      "text/plain": [
       "[1] 848967"
      ]
     },
     "metadata": {},
     "output_type": "display_data"
    }
   ],
   "source": [
    "sum(df2$`colSums(rds2)`)"
   ]
  },
  {
   "cell_type": "code",
   "execution_count": null,
   "id": "liable-paper",
   "metadata": {},
   "outputs": [],
   "source": [
    "sort(df$`colSums(rds)`)"
   ]
  },
  {
   "cell_type": "code",
   "execution_count": null,
   "id": "editorial-lobby",
   "metadata": {},
   "outputs": [],
   "source": [
    "sort(df1$`colSums(rds1)`)"
   ]
  },
  {
   "cell_type": "code",
   "execution_count": null,
   "id": "requested-suicide",
   "metadata": {},
   "outputs": [],
   "source": [
    "df1"
   ]
  },
  {
   "cell_type": "code",
   "execution_count": 15,
   "id": "united-spelling",
   "metadata": {},
   "outputs": [],
   "source": [
    "df2 = df1[df1[,\"colSums(rds1)\"]>999,]"
   ]
  },
  {
   "cell_type": "code",
   "execution_count": 16,
   "id": "constitutional-kingston",
   "metadata": {},
   "outputs": [
    {
     "data": {
      "text/html": [
       "1330"
      ],
      "text/latex": [
       "1330"
      ],
      "text/markdown": [
       "1330"
      ],
      "text/plain": [
       "[1] 1330"
      ]
     },
     "metadata": {},
     "output_type": "display_data"
    }
   ],
   "source": [
    "median(df2$`colSums(rds1)`)"
   ]
  },
  {
   "cell_type": "code",
   "execution_count": null,
   "id": "strong-briefs",
   "metadata": {},
   "outputs": [],
   "source": []
  },
  {
   "cell_type": "code",
   "execution_count": null,
   "id": "incorporated-password",
   "metadata": {},
   "outputs": [],
   "source": []
  }
 ],
 "metadata": {
  "kernelspec": {
   "display_name": "r4.1_env",
   "language": "R",
   "name": "r4.1_env"
  },
  "language_info": {
   "codemirror_mode": "r",
   "file_extension": ".r",
   "mimetype": "text/x-r-source",
   "name": "R",
   "pygments_lexer": "r",
   "version": "4.1.1"
  }
 },
 "nbformat": 4,
 "nbformat_minor": 5
}
