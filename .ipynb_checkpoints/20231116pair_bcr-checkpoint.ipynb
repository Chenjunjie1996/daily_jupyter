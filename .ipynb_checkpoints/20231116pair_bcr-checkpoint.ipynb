{
 "cells": [
  {
   "cell_type": "code",
   "execution_count": 2,
   "id": "therapeutic-dependence",
   "metadata": {},
   "outputs": [],
   "source": [
    "import pandas as pd \n",
    "import os\n",
    "import glob"
   ]
  },
  {
   "cell_type": "code",
   "execution_count": 32,
   "id": "subtle-acquisition",
   "metadata": {},
   "outputs": [],
   "source": [
    "files = glob.glob(\"/SGRNJ06/randd/USER/cjj/celedev/vdj10x/20231116pair_cl/*/*/matched_clonotypes.csv\")"
   ]
  },
  {
   "cell_type": "code",
   "execution_count": 33,
   "id": "going-porcelain",
   "metadata": {},
   "outputs": [
    {
     "data": {
      "text/plain": [
       "['/SGRNJ06/randd/USER/cjj/celedev/vdj10x/20231116pair_cl/BT12K/05.match/matched_clonotypes.csv',\n",
       " '/SGRNJ06/randd/USER/cjj/celedev/vdj10x/20231116pair_cl/BT6K/05.match/matched_clonotypes.csv',\n",
       " '/SGRNJ06/randd/USER/cjj/celedev/vdj10x/20231116pair_cl/B6K/05.match/matched_clonotypes.csv',\n",
       " '/SGRNJ06/randd/USER/cjj/celedev/vdj10x/20231116pair_cl/Group2-B/05.match/matched_clonotypes.csv',\n",
       " '/SGRNJ06/randd/USER/cjj/celedev/vdj10x/20231116pair_cl/Group1-B/05.match/matched_clonotypes.csv',\n",
       " '/SGRNJ06/randd/USER/cjj/celedev/vdj10x/20231116pair_cl/B12K/05.match/matched_clonotypes.csv']"
      ]
     },
     "execution_count": 33,
     "metadata": {},
     "output_type": "execute_result"
    }
   ],
   "source": [
    "files"
   ]
  },
  {
   "cell_type": "code",
   "execution_count": 34,
   "id": "dedicated-drinking",
   "metadata": {},
   "outputs": [],
   "source": [
    "for file in files:\n",
    "    sample = file.split('/')[-3]\n",
    "    out = f\"/SGRNJ06/randd/USER/cjj/celedev/vdj10x/20231116pair_cl/{sample}_match_pair_clonotypes.csv\"\n",
    "    \n",
    "    df = pd.read_csv(file)\n",
    "    df.cdr3s_aa = df.cdr3s_aa.apply(lambda x: x.split(';'))\n",
    "    df = df[df['cdr3s_aa'].apply(lambda x: len(x)) == 2]\n",
    "    df = df[df['cdr3s_aa'].apply(lambda x: x[0]).str.contains('IGH')]\n",
    "    df = df[~df['cdr3s_aa'].apply(lambda x: x[1]).str.contains('IGH')]\n",
    "    df['cdr3s_aa'] = df['cdr3s_aa'].apply(lambda x: ';'.join(x))\n",
    "    df.to_csv(out, sep=',', index=False)"
   ]
  },
  {
   "cell_type": "code",
   "execution_count": 24,
   "id": "ranking-cooperative",
   "metadata": {},
   "outputs": [],
   "source": [
    "df = pd.read_csv(files[0])"
   ]
  },
  {
   "cell_type": "code",
   "execution_count": 25,
   "id": "ignored-repeat",
   "metadata": {},
   "outputs": [],
   "source": [
    "df.cdr3s_aa = df.cdr3s_aa.apply(lambda x: x.split(';'))"
   ]
  },
  {
   "cell_type": "code",
   "execution_count": 26,
   "id": "assigned-liability",
   "metadata": {},
   "outputs": [],
   "source": [
    "df = df[df['cdr3s_aa'].apply(lambda x: len(x)) == 2]"
   ]
  },
  {
   "cell_type": "code",
   "execution_count": 27,
   "id": "level-workshop",
   "metadata": {},
   "outputs": [],
   "source": [
    "df = df[df['cdr3s_aa'].apply(lambda x: x[0]).str.contains('IGH')]"
   ]
  },
  {
   "cell_type": "code",
   "execution_count": 28,
   "id": "acknowledged-hayes",
   "metadata": {},
   "outputs": [],
   "source": [
    "df = df[~df['cdr3s_aa'].apply(lambda x: x[1]).str.contains('IGH')]"
   ]
  },
  {
   "cell_type": "code",
   "execution_count": 30,
   "id": "supposed-guard",
   "metadata": {},
   "outputs": [],
   "source": [
    "df['cdr3s_aa'] = df['cdr3s_aa'].apply(lambda x: ';'.join(x))"
   ]
  },
  {
   "cell_type": "code",
   "execution_count": 31,
   "id": "engaged-sculpture",
   "metadata": {},
   "outputs": [
    {
     "data": {
      "text/html": [
       "<div>\n",
       "<style scoped>\n",
       "    .dataframe tbody tr th:only-of-type {\n",
       "        vertical-align: middle;\n",
       "    }\n",
       "\n",
       "    .dataframe tbody tr th {\n",
       "        vertical-align: top;\n",
       "    }\n",
       "\n",
       "    .dataframe thead th {\n",
       "        text-align: right;\n",
       "    }\n",
       "</style>\n",
       "<table border=\"1\" class=\"dataframe\">\n",
       "  <thead>\n",
       "    <tr style=\"text-align: right;\">\n",
       "      <th></th>\n",
       "      <th>clonotype_id</th>\n",
       "      <th>cdr3s_aa</th>\n",
       "      <th>frequency</th>\n",
       "      <th>proportion</th>\n",
       "    </tr>\n",
       "  </thead>\n",
       "  <tbody>\n",
       "    <tr>\n",
       "      <th>0</th>\n",
       "      <td>clonotype1388</td>\n",
       "      <td>IGH:CARGGLHAMDYW;IGK:CLQYASYPWTF</td>\n",
       "      <td>5</td>\n",
       "      <td>0.001014</td>\n",
       "    </tr>\n",
       "    <tr>\n",
       "      <th>3</th>\n",
       "      <td>clonotype4184</td>\n",
       "      <td>IGH:CMRYGSSYWYFDVW;IGK:CLQHGESPYTF</td>\n",
       "      <td>3</td>\n",
       "      <td>0.000608</td>\n",
       "    </tr>\n",
       "    <tr>\n",
       "      <th>4</th>\n",
       "      <td>clonotype1207</td>\n",
       "      <td>IGH:CARGAYW;IGK:CQQWSSYPPTF</td>\n",
       "      <td>3</td>\n",
       "      <td>0.000608</td>\n",
       "    </tr>\n",
       "    <tr>\n",
       "      <th>5</th>\n",
       "      <td>clonotype3860</td>\n",
       "      <td>IGH:CARYWDYAMDYW;IGK:CHQYLSSYTF</td>\n",
       "      <td>2</td>\n",
       "      <td>0.000406</td>\n",
       "    </tr>\n",
       "    <tr>\n",
       "      <th>6</th>\n",
       "      <td>clonotype806</td>\n",
       "      <td>IGH:CAREDDWRYFDVW;IGK:CQQYSSYPLTF</td>\n",
       "      <td>2</td>\n",
       "      <td>0.000406</td>\n",
       "    </tr>\n",
       "    <tr>\n",
       "      <th>...</th>\n",
       "      <td>...</td>\n",
       "      <td>...</td>\n",
       "      <td>...</td>\n",
       "      <td>...</td>\n",
       "    </tr>\n",
       "    <tr>\n",
       "      <th>4877</th>\n",
       "      <td>clonotype1637</td>\n",
       "      <td>IGH:CARGSMVTTSFAYW;IGK:CQQYNSYPYTF</td>\n",
       "      <td>1</td>\n",
       "      <td>0.000203</td>\n",
       "    </tr>\n",
       "    <tr>\n",
       "      <th>4878</th>\n",
       "      <td>clonotype1636</td>\n",
       "      <td>IGH:CARGSLYAMDYW;IGK:CQQLVEYPRTF</td>\n",
       "      <td>1</td>\n",
       "      <td>0.000203</td>\n",
       "    </tr>\n",
       "    <tr>\n",
       "      <th>4879</th>\n",
       "      <td>clonotype1635</td>\n",
       "      <td>IGH:CARGSKGFAYW;IGK:CQNDYSYPFTF</td>\n",
       "      <td>1</td>\n",
       "      <td>0.000203</td>\n",
       "    </tr>\n",
       "    <tr>\n",
       "      <th>4881</th>\n",
       "      <td>clonotype1633</td>\n",
       "      <td>IGH:CARGSGNYYYW;IGK:CQHHYGTPLTF</td>\n",
       "      <td>1</td>\n",
       "      <td>0.000203</td>\n",
       "    </tr>\n",
       "    <tr>\n",
       "      <th>4882</th>\n",
       "      <td>clonotype1632</td>\n",
       "      <td>IGH:CARGSGGSTTVDFDYW;IGK:CQQSKEVPRTF</td>\n",
       "      <td>1</td>\n",
       "      <td>0.000203</td>\n",
       "    </tr>\n",
       "  </tbody>\n",
       "</table>\n",
       "<p>4074 rows × 4 columns</p>\n",
       "</div>"
      ],
      "text/plain": [
       "       clonotype_id                              cdr3s_aa  frequency  \\\n",
       "0     clonotype1388      IGH:CARGGLHAMDYW;IGK:CLQYASYPWTF          5   \n",
       "3     clonotype4184    IGH:CMRYGSSYWYFDVW;IGK:CLQHGESPYTF          3   \n",
       "4     clonotype1207           IGH:CARGAYW;IGK:CQQWSSYPPTF          3   \n",
       "5     clonotype3860       IGH:CARYWDYAMDYW;IGK:CHQYLSSYTF          2   \n",
       "6      clonotype806     IGH:CAREDDWRYFDVW;IGK:CQQYSSYPLTF          2   \n",
       "...             ...                                   ...        ...   \n",
       "4877  clonotype1637    IGH:CARGSMVTTSFAYW;IGK:CQQYNSYPYTF          1   \n",
       "4878  clonotype1636      IGH:CARGSLYAMDYW;IGK:CQQLVEYPRTF          1   \n",
       "4879  clonotype1635       IGH:CARGSKGFAYW;IGK:CQNDYSYPFTF          1   \n",
       "4881  clonotype1633       IGH:CARGSGNYYYW;IGK:CQHHYGTPLTF          1   \n",
       "4882  clonotype1632  IGH:CARGSGGSTTVDFDYW;IGK:CQQSKEVPRTF          1   \n",
       "\n",
       "      proportion  \n",
       "0       0.001014  \n",
       "3       0.000608  \n",
       "4       0.000608  \n",
       "5       0.000406  \n",
       "6       0.000406  \n",
       "...          ...  \n",
       "4877    0.000203  \n",
       "4878    0.000203  \n",
       "4879    0.000203  \n",
       "4881    0.000203  \n",
       "4882    0.000203  \n",
       "\n",
       "[4074 rows x 4 columns]"
      ]
     },
     "execution_count": 31,
     "metadata": {},
     "output_type": "execute_result"
    }
   ],
   "source": [
    "df"
   ]
  },
  {
   "cell_type": "code",
   "execution_count": null,
   "id": "potential-romantic",
   "metadata": {},
   "outputs": [],
   "source": [
    "df = pd.read_csv(annotation_file)\n",
    "df_productive = df[df['productive'] == True]\n",
    "\n",
    "df_heavy = df_productive[(df_productive['chain'] == \"IGH\")] \n",
    "df_light = df_productive[(df_productive['chain'] == \"IGL\") | (df_productive['chain'] == \"IGK\")]\n",
    "\n",
    "df_pair = pd.merge(df_heavy, df_light, on='barcode', how='inner')"
   ]
  }
 ],
 "metadata": {
  "kernelspec": {
   "display_name": "trust4_1.7",
   "language": "python",
   "name": "trust4_1.7"
  },
  "language_info": {
   "codemirror_mode": {
    "name": "ipython",
    "version": 3
   },
   "file_extension": ".py",
   "mimetype": "text/x-python",
   "name": "python",
   "nbconvert_exporter": "python",
   "pygments_lexer": "ipython3",
   "version": "3.7.10"
  }
 },
 "nbformat": 4,
 "nbformat_minor": 5
}
