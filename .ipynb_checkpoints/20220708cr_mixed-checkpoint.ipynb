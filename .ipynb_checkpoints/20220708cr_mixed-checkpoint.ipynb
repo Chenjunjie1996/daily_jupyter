{
 "cells": [
  {
   "cell_type": "code",
   "execution_count": null,
   "id": "mounted-height",
   "metadata": {},
   "outputs": [],
   "source": [
    "import pandas as pd \n",
    "import celescope\n",
    "import time\n",
    "import bisect\n",
    "from celescope.tools.emptydrop_cr.cell_calling_3 import cell_calling_3\n",
    "from celescope.tools.count import Count"
   ]
  },
  {
   "cell_type": "code",
   "execution_count": null,
   "id": "enabling-particle",
   "metadata": {},
   "outputs": [],
   "source": [
    "celescope.__path__"
   ]
  },
  {
   "cell_type": "code",
   "execution_count": null,
   "id": "lucky-kazakhstan",
   "metadata": {},
   "outputs": [],
   "source": [
    "# cr\n",
    "df = pd.read_table('/SGRNJ06/randd/PROJECT/RD20073101_ScRNA_VDJ/20220425_kmc3/sc-1/05.count/220417014_count_detail.txt', header=0)"
   ]
  },
  {
   "cell_type": "code",
   "execution_count": null,
   "id": "primary-fireplace",
   "metadata": {},
   "outputs": [],
   "source": [
    "start_time = time.time()\n",
    "df_sum = Count.get_df_sum(df)\n",
    "end_time = time.time()\n",
    "print(f'cost {end_time - start_time}')"
   ]
  },
  {
   "cell_type": "code",
   "execution_count": null,
   "id": "lesser-accreditation",
   "metadata": {},
   "outputs": [],
   "source": []
  },
  {
   "cell_type": "code",
   "execution_count": null,
   "id": "american-behalf",
   "metadata": {},
   "outputs": [],
   "source": [
    "    def auto_cell(df_sum):\n",
    "        idx = int(3000 * 0.01)\n",
    "        barcode_number = df_sum.shape[0]\n",
    "        idx = int(min(barcode_number, idx))\n",
    "        if idx == 0:\n",
    "            sys.exit(\"cell number equals zero!\")\n",
    "        # calculate read counts threshold\n",
    "        threshold = int(Count.find_threshold(df_sum, idx) * 0.1)\n",
    "        threshold = max(1, threshold)\n",
    "        cell_bc = Count.get_cell_bc(df_sum, threshold)\n",
    "\n",
    "        return cell_bc, threshold\n",
    "\n",
    "    def emptydrop_cr_cell(df_sum):\n",
    "        cell_bc, initial_cell_num = cell_calling_3('/SGRNJ06/randd/PROJECT/RD20073101_ScRNA_VDJ/20220425_kmc3/sc-1/05.count/220417014_all_matrix', 3000)\n",
    "        threshold = Count.find_threshold(df_sum, initial_cell_num)\n",
    "        return cell_bc, threshold\n",
    "    \n",
    "    "
   ]
  },
  {
   "cell_type": "code",
   "execution_count": null,
   "id": "altered-mercury",
   "metadata": {},
   "outputs": [],
   "source": [
    "cell_bc, _threshold = emptydrop_cr_cell(df_sum)"
   ]
  },
  {
   "cell_type": "code",
   "execution_count": null,
   "id": "southeast-acrobat",
   "metadata": {},
   "outputs": [],
   "source": [
    "_threshold"
   ]
  },
  {
   "cell_type": "code",
   "execution_count": null,
   "id": "specialized-scope",
   "metadata": {},
   "outputs": [],
   "source": [
    "df_sum.loc[:, 'mark'] = 'UB'\n",
    "df_sum.loc[df_sum.index.isin(cell_bc), 'mark'] = 'CB'\n",
    "CB_describe = df_sum.loc[df_sum['mark'] == 'CB', :].describe()"
   ]
  },
  {
   "cell_type": "code",
   "execution_count": null,
   "id": "dependent-acrylic",
   "metadata": {},
   "outputs": [],
   "source": [
    "df_sum.loc[df_sum['mark'] == 'CB', :][:4000]\n",
    "CB_describe = df_sum.loc[df_sum['mark'] == 'CB', :][:4000].describe()"
   ]
  },
  {
   "cell_type": "code",
   "execution_count": null,
   "id": "standing-calendar",
   "metadata": {},
   "outputs": [],
   "source": [
    "CB_describe"
   ]
  },
  {
   "cell_type": "code",
   "execution_count": null,
   "id": "secure-french",
   "metadata": {},
   "outputs": [],
   "source": [
    "df_sum[df_sum['mark']=='CB']"
   ]
  },
  {
   "cell_type": "code",
   "execution_count": null,
   "id": "personalized-orlando",
   "metadata": {},
   "outputs": [],
   "source": [
    "df_auto = df_sum.copy()"
   ]
  },
  {
   "cell_type": "code",
   "execution_count": null,
   "id": "voluntary-textbook",
   "metadata": {},
   "outputs": [],
   "source": [
    "cell_bc_auto, _threshold_auto = auto_cell(df_auto)"
   ]
  },
  {
   "cell_type": "code",
   "execution_count": null,
   "id": "homeless-attachment",
   "metadata": {},
   "outputs": [],
   "source": [
    "df_auto.loc[:, 'mark'] = 'UB'\n",
    "df_auto.loc[df_sum.index.isin(cell_bc_auto), 'mark'] = 'CB'\n",
    "CB_describe_auto = df_auto.loc[df_auto['mark'] == 'CB', :].describe()"
   ]
  },
  {
   "cell_type": "code",
   "execution_count": null,
   "id": "urban-religious",
   "metadata": {},
   "outputs": [],
   "source": [
    "CB_describe_auto"
   ]
  },
  {
   "cell_type": "code",
   "execution_count": null,
   "id": "geographic-bruce",
   "metadata": {},
   "outputs": [],
   "source": [
    "len(set(cell_bc_auto).intersection(set(cell_bc)))"
   ]
  },
  {
   "cell_type": "code",
   "execution_count": null,
   "id": "hearing-usage",
   "metadata": {},
   "outputs": [],
   "source": [
    "_threshold_auto"
   ]
  },
  {
   "cell_type": "code",
   "execution_count": null,
   "id": "inclusive-habitat",
   "metadata": {},
   "outputs": [],
   "source": [
    "df_auto[df_auto['mark']=='CB']"
   ]
  },
  {
   "cell_type": "code",
   "execution_count": null,
   "id": "bigger-brighton",
   "metadata": {},
   "outputs": [],
   "source": [
    "df_sum[df_sum['mark']=='CB']"
   ]
  },
  {
   "cell_type": "code",
   "execution_count": null,
   "id": "southeast-jefferson",
   "metadata": {},
   "outputs": [],
   "source": [
    "_threshold"
   ]
  },
  {
   "cell_type": "code",
   "execution_count": null,
   "id": "international-section",
   "metadata": {},
   "outputs": [],
   "source": [
    "target_median_gene = int(CB_describe_auto.loc['50%', 'geneID']) * 0.8"
   ]
  },
  {
   "cell_type": "code",
   "execution_count": null,
   "id": "under-present",
   "metadata": {},
   "outputs": [],
   "source": [
    "target_median_gene"
   ]
  },
  {
   "cell_type": "code",
   "execution_count": null,
   "id": "electrical-terrace",
   "metadata": {},
   "outputs": [],
   "source": [
    "df_sum"
   ]
  },
  {
   "cell_type": "code",
   "execution_count": null,
   "id": "controversial-politics",
   "metadata": {},
   "outputs": [],
   "source": [
    "df_sum.loc[df_sum['mark'] == 'CB', :][:4712].describe().loc['50%', 'geneID']"
   ]
  },
  {
   "cell_type": "code",
   "execution_count": null,
   "id": "adverse-teaching",
   "metadata": {},
   "outputs": [],
   "source": [
    "def search_target_gene_bc():\n",
    "    target_median_gene = auto_CB_describe(df_sum)[-1] * 0.8\n",
    "    low = len(cell_bc_auto)\n",
    "    high = len(cell_bc)\n",
    "    while low <= high:\n",
    "        mid = (low + high) // 2\n",
    "        current_median_gene = df_sum.loc[df_sum['mark'] == 'CB', :][:mid].describe().loc['50%', 'geneID']\n",
    "        if current_median_gene == target_median_gene:\n",
    "            return current_median_gene\n",
    "        elif current_median_gene > target_median_gene:\n",
    "            high = mid - 1\n",
    "        else:\n",
    "            low = mid + 1\n",
    "    return current_median_gene"
   ]
  },
  {
   "cell_type": "code",
   "execution_count": null,
   "id": "wired-klein",
   "metadata": {},
   "outputs": [],
   "source": [
    "df_sum.loc[df_sum['mark'] == 'CB', :][:4712].reset_index().Barcode"
   ]
  },
  {
   "cell_type": "code",
   "execution_count": null,
   "id": "middle-original",
   "metadata": {},
   "outputs": [],
   "source": [
    "df_sum.iloc[:4712].reset_index().Barcode.tolist()"
   ]
  },
  {
   "cell_type": "code",
   "execution_count": 130,
   "id": "powerful-williams",
   "metadata": {},
   "outputs": [
    {
     "data": {
      "text/html": [
       "<div>\n",
       "<style scoped>\n",
       "    .dataframe tbody tr th:only-of-type {\n",
       "        vertical-align: middle;\n",
       "    }\n",
       "\n",
       "    .dataframe tbody tr th {\n",
       "        vertical-align: top;\n",
       "    }\n",
       "\n",
       "    .dataframe thead th {\n",
       "        text-align: right;\n",
       "    }\n",
       "</style>\n",
       "<table border=\"1\" class=\"dataframe\">\n",
       "  <thead>\n",
       "    <tr style=\"text-align: right;\">\n",
       "      <th></th>\n",
       "      <th>readcount</th>\n",
       "      <th>UMI2</th>\n",
       "      <th>UMI</th>\n",
       "      <th>geneID</th>\n",
       "      <th>mark</th>\n",
       "    </tr>\n",
       "    <tr>\n",
       "      <th>Barcode</th>\n",
       "      <th></th>\n",
       "      <th></th>\n",
       "      <th></th>\n",
       "      <th></th>\n",
       "      <th></th>\n",
       "    </tr>\n",
       "  </thead>\n",
       "  <tbody>\n",
       "    <tr>\n",
       "      <th>AACAACCAGTCGTAGACACCTTAC</th>\n",
       "      <td>210001</td>\n",
       "      <td>181881</td>\n",
       "      <td>76645</td>\n",
       "      <td>6778</td>\n",
       "      <td>CB</td>\n",
       "    </tr>\n",
       "    <tr>\n",
       "      <th>GTACGCAAGCCAAGACCGAACTTA</th>\n",
       "      <td>189400</td>\n",
       "      <td>176090</td>\n",
       "      <td>52942</td>\n",
       "      <td>2487</td>\n",
       "      <td>CB</td>\n",
       "    </tr>\n",
       "    <tr>\n",
       "      <th>ACTATGCAAACCGAGACCGACAAC</th>\n",
       "      <td>163141</td>\n",
       "      <td>146897</td>\n",
       "      <td>52730</td>\n",
       "      <td>3240</td>\n",
       "      <td>CB</td>\n",
       "    </tr>\n",
       "    <tr>\n",
       "      <th>CCTCTATCCAATGGAAGACAGTGC</th>\n",
       "      <td>167824</td>\n",
       "      <td>153922</td>\n",
       "      <td>50412</td>\n",
       "      <td>2548</td>\n",
       "      <td>CB</td>\n",
       "    </tr>\n",
       "    <tr>\n",
       "      <th>TGGAACAACCTCCTGAACGTATCA</th>\n",
       "      <td>162767</td>\n",
       "      <td>148077</td>\n",
       "      <td>50098</td>\n",
       "      <td>2794</td>\n",
       "      <td>CB</td>\n",
       "    </tr>\n",
       "    <tr>\n",
       "      <th>...</th>\n",
       "      <td>...</td>\n",
       "      <td>...</td>\n",
       "      <td>...</td>\n",
       "      <td>...</td>\n",
       "      <td>...</td>\n",
       "    </tr>\n",
       "    <tr>\n",
       "      <th>TAGGATGAACTATGCAAACCGAGA</th>\n",
       "      <td>1</td>\n",
       "      <td>0</td>\n",
       "      <td>1</td>\n",
       "      <td>1</td>\n",
       "      <td>UB</td>\n",
       "    </tr>\n",
       "    <tr>\n",
       "      <th>AGTCACTAGAATCTGACGACACAC</th>\n",
       "      <td>1</td>\n",
       "      <td>0</td>\n",
       "      <td>1</td>\n",
       "      <td>1</td>\n",
       "      <td>UB</td>\n",
       "    </tr>\n",
       "    <tr>\n",
       "      <th>ACATTGGCCTCAATGATTCACGCA</th>\n",
       "      <td>1</td>\n",
       "      <td>0</td>\n",
       "      <td>1</td>\n",
       "      <td>1</td>\n",
       "      <td>UB</td>\n",
       "    </tr>\n",
       "    <tr>\n",
       "      <th>CTCAATGAAACTCACCAATGTTGC</th>\n",
       "      <td>1</td>\n",
       "      <td>0</td>\n",
       "      <td>1</td>\n",
       "      <td>1</td>\n",
       "      <td>UB</td>\n",
       "    </tr>\n",
       "    <tr>\n",
       "      <th>CACCTTACCATACCAAGAGTTAGC</th>\n",
       "      <td>2</td>\n",
       "      <td>2</td>\n",
       "      <td>1</td>\n",
       "      <td>1</td>\n",
       "      <td>UB</td>\n",
       "    </tr>\n",
       "  </tbody>\n",
       "</table>\n",
       "<p>849285 rows × 5 columns</p>\n",
       "</div>"
      ],
      "text/plain": [
       "                          readcount    UMI2    UMI  geneID mark\n",
       "Barcode                                                        \n",
       "AACAACCAGTCGTAGACACCTTAC     210001  181881  76645    6778   CB\n",
       "GTACGCAAGCCAAGACCGAACTTA     189400  176090  52942    2487   CB\n",
       "ACTATGCAAACCGAGACCGACAAC     163141  146897  52730    3240   CB\n",
       "CCTCTATCCAATGGAAGACAGTGC     167824  153922  50412    2548   CB\n",
       "TGGAACAACCTCCTGAACGTATCA     162767  148077  50098    2794   CB\n",
       "...                             ...     ...    ...     ...  ...\n",
       "TAGGATGAACTATGCAAACCGAGA          1       0      1       1   UB\n",
       "AGTCACTAGAATCTGACGACACAC          1       0      1       1   UB\n",
       "ACATTGGCCTCAATGATTCACGCA          1       0      1       1   UB\n",
       "CTCAATGAAACTCACCAATGTTGC          1       0      1       1   UB\n",
       "CACCTTACCATACCAAGAGTTAGC          2       2      1       1   UB\n",
       "\n",
       "[849285 rows x 5 columns]"
      ]
     },
     "execution_count": 130,
     "metadata": {},
     "output_type": "execute_result"
    }
   ],
   "source": [
    "df_sum"
   ]
  },
  {
   "cell_type": "code",
   "execution_count": null,
   "id": "involved-schema",
   "metadata": {},
   "outputs": [],
   "source": []
  },
  {
   "cell_type": "code",
   "execution_count": 132,
   "id": "false-registration",
   "metadata": {},
   "outputs": [
    {
     "data": {
      "text/html": [
       "<div>\n",
       "<style scoped>\n",
       "    .dataframe tbody tr th:only-of-type {\n",
       "        vertical-align: middle;\n",
       "    }\n",
       "\n",
       "    .dataframe tbody tr th {\n",
       "        vertical-align: top;\n",
       "    }\n",
       "\n",
       "    .dataframe thead th {\n",
       "        text-align: right;\n",
       "    }\n",
       "</style>\n",
       "<table border=\"1\" class=\"dataframe\">\n",
       "  <thead>\n",
       "    <tr style=\"text-align: right;\">\n",
       "      <th></th>\n",
       "      <th>readcount</th>\n",
       "      <th>UMI2</th>\n",
       "      <th>UMI</th>\n",
       "      <th>geneID</th>\n",
       "      <th>mark</th>\n",
       "    </tr>\n",
       "    <tr>\n",
       "      <th>Barcode</th>\n",
       "      <th></th>\n",
       "      <th></th>\n",
       "      <th></th>\n",
       "      <th></th>\n",
       "      <th></th>\n",
       "    </tr>\n",
       "  </thead>\n",
       "  <tbody>\n",
       "    <tr>\n",
       "      <th>AACAACCAGTCGTAGACACCTTAC</th>\n",
       "      <td>210001</td>\n",
       "      <td>181881</td>\n",
       "      <td>76645</td>\n",
       "      <td>6778</td>\n",
       "      <td>CB</td>\n",
       "    </tr>\n",
       "    <tr>\n",
       "      <th>GTACGCAAGCCAAGACCGAACTTA</th>\n",
       "      <td>189400</td>\n",
       "      <td>176090</td>\n",
       "      <td>52942</td>\n",
       "      <td>2487</td>\n",
       "      <td>CB</td>\n",
       "    </tr>\n",
       "    <tr>\n",
       "      <th>ACTATGCAAACCGAGACCGACAAC</th>\n",
       "      <td>163141</td>\n",
       "      <td>146897</td>\n",
       "      <td>52730</td>\n",
       "      <td>3240</td>\n",
       "      <td>CB</td>\n",
       "    </tr>\n",
       "    <tr>\n",
       "      <th>CCTCTATCCAATGGAAGACAGTGC</th>\n",
       "      <td>167824</td>\n",
       "      <td>153922</td>\n",
       "      <td>50412</td>\n",
       "      <td>2548</td>\n",
       "      <td>CB</td>\n",
       "    </tr>\n",
       "    <tr>\n",
       "      <th>TGGAACAACCTCCTGAACGTATCA</th>\n",
       "      <td>162767</td>\n",
       "      <td>148077</td>\n",
       "      <td>50098</td>\n",
       "      <td>2794</td>\n",
       "      <td>CB</td>\n",
       "    </tr>\n",
       "    <tr>\n",
       "      <th>...</th>\n",
       "      <td>...</td>\n",
       "      <td>...</td>\n",
       "      <td>...</td>\n",
       "      <td>...</td>\n",
       "      <td>...</td>\n",
       "    </tr>\n",
       "    <tr>\n",
       "      <th>TAGGATGAACTATGCAAACCGAGA</th>\n",
       "      <td>1</td>\n",
       "      <td>0</td>\n",
       "      <td>1</td>\n",
       "      <td>1</td>\n",
       "      <td>UB</td>\n",
       "    </tr>\n",
       "    <tr>\n",
       "      <th>AGTCACTAGAATCTGACGACACAC</th>\n",
       "      <td>1</td>\n",
       "      <td>0</td>\n",
       "      <td>1</td>\n",
       "      <td>1</td>\n",
       "      <td>UB</td>\n",
       "    </tr>\n",
       "    <tr>\n",
       "      <th>ACATTGGCCTCAATGATTCACGCA</th>\n",
       "      <td>1</td>\n",
       "      <td>0</td>\n",
       "      <td>1</td>\n",
       "      <td>1</td>\n",
       "      <td>UB</td>\n",
       "    </tr>\n",
       "    <tr>\n",
       "      <th>CTCAATGAAACTCACCAATGTTGC</th>\n",
       "      <td>1</td>\n",
       "      <td>0</td>\n",
       "      <td>1</td>\n",
       "      <td>1</td>\n",
       "      <td>UB</td>\n",
       "    </tr>\n",
       "    <tr>\n",
       "      <th>CACCTTACCATACCAAGAGTTAGC</th>\n",
       "      <td>2</td>\n",
       "      <td>2</td>\n",
       "      <td>1</td>\n",
       "      <td>1</td>\n",
       "      <td>UB</td>\n",
       "    </tr>\n",
       "  </tbody>\n",
       "</table>\n",
       "<p>849285 rows × 5 columns</p>\n",
       "</div>"
      ],
      "text/plain": [
       "                          readcount    UMI2    UMI  geneID mark\n",
       "Barcode                                                        \n",
       "AACAACCAGTCGTAGACACCTTAC     210001  181881  76645    6778   CB\n",
       "GTACGCAAGCCAAGACCGAACTTA     189400  176090  52942    2487   CB\n",
       "ACTATGCAAACCGAGACCGACAAC     163141  146897  52730    3240   CB\n",
       "CCTCTATCCAATGGAAGACAGTGC     167824  153922  50412    2548   CB\n",
       "TGGAACAACCTCCTGAACGTATCA     162767  148077  50098    2794   CB\n",
       "...                             ...     ...    ...     ...  ...\n",
       "TAGGATGAACTATGCAAACCGAGA          1       0      1       1   UB\n",
       "AGTCACTAGAATCTGACGACACAC          1       0      1       1   UB\n",
       "ACATTGGCCTCAATGATTCACGCA          1       0      1       1   UB\n",
       "CTCAATGAAACTCACCAATGTTGC          1       0      1       1   UB\n",
       "CACCTTACCATACCAAGAGTTAGC          2       2      1       1   UB\n",
       "\n",
       "[849285 rows x 5 columns]"
      ]
     },
     "execution_count": 132,
     "metadata": {},
     "output_type": "execute_result"
    }
   ],
   "source": [
    "df_sum"
   ]
  },
  {
   "cell_type": "code",
   "execution_count": null,
   "id": "painted-racing",
   "metadata": {},
   "outputs": [],
   "source": [
    "idx=6000\n",
    "int(df_sum.iloc[idx - 1, df_sum.columns == 'UMI'])"
   ]
  },
  {
   "cell_type": "code",
   "execution_count": null,
   "id": "sapphire-armor",
   "metadata": {},
   "outputs": [],
   "source": [
    "        df_sum.loc[:, 'mark'] = 'UB'\n",
    "        df_sum.loc[df_sum.index.isin(cell_bc), 'mark'] = 'CB'\n",
    "        df_sum.to_csv('/SGRNJ06/randd/USER/cjj/TESTDATA/git/celescope_test_script/rna/test1/05.count/test.txt', sep='\\t')"
   ]
  },
  {
   "cell_type": "code",
   "execution_count": null,
   "id": "friendly-petersburg",
   "metadata": {},
   "outputs": [],
   "source": []
  }
 ],
 "metadata": {
  "kernelspec": {
   "display_name": "cele1.11",
   "language": "python",
   "name": "refactor_trust"
  },
  "language_info": {
   "codemirror_mode": {
    "name": "ipython",
    "version": 3
   },
   "file_extension": ".py",
   "mimetype": "text/x-python",
   "name": "python",
   "nbconvert_exporter": "python",
   "pygments_lexer": "ipython3",
   "version": "3.9.0"
  }
 },
 "nbformat": 4,
 "nbformat_minor": 5
}
