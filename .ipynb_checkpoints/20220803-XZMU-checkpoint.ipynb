{
 "cells": [
  {
   "cell_type": "code",
   "execution_count": 2,
   "id": "literary-hayes",
   "metadata": {},
   "outputs": [],
   "source": [
    "suppressMessages({library(tidyverse)\n",
    "  library(Seurat)\n",
    "  library(org.Hs.eg.db)\n",
    "  library(ggplot2)\n",
    "  library(\"ggsci\")\n",
    "  library(\"gridExtra\")})"
   ]
  },
  {
   "cell_type": "code",
   "execution_count": 3,
   "id": "approved-adjustment",
   "metadata": {},
   "outputs": [],
   "source": [
    "rds = readRDS('/SGRNJ06/randd/USER/cjj/celedev/XZMU/20220428/GC.diff_PRO.rds')"
   ]
  },
  {
   "cell_type": "code",
   "execution_count": 4,
   "id": "occupied-northern",
   "metadata": {},
   "outputs": [],
   "source": [
    "meta = rds@meta.data"
   ]
  },
  {
   "cell_type": "code",
   "execution_count": 11,
   "id": "remarkable-equilibrium",
   "metadata": {},
   "outputs": [
    {
     "data": {
      "text/html": [
       "<table class=\"dataframe\">\n",
       "<caption>A data.frame: 6 × 9</caption>\n",
       "<thead>\n",
       "\t<tr><th></th><th scope=col>orig.ident</th><th scope=col>nCount_RNA</th><th scope=col>nFeature_RNA</th><th scope=col>sample</th><th scope=col>percent.mt</th><th scope=col>percent.mito</th><th scope=col>RNA_snn_res.0.8</th><th scope=col>seurat_clusters</th><th scope=col>celltype</th></tr>\n",
       "\t<tr><th></th><th scope=col>&lt;chr&gt;</th><th scope=col>&lt;dbl&gt;</th><th scope=col>&lt;int&gt;</th><th scope=col>&lt;chr&gt;</th><th scope=col>&lt;dbl&gt;</th><th scope=col>&lt;dbl&gt;</th><th scope=col>&lt;fct&gt;</th><th scope=col>&lt;fct&gt;</th><th scope=col>&lt;fct&gt;</th></tr>\n",
       "</thead>\n",
       "<tbody>\n",
       "\t<tr><th scope=row>GC_0_ZL_AAACATCGAAACATCGCCTCCTGA</th><td>GC_0_ZL</td><td>12901</td><td>3741</td><td>GC_0_ZL</td><td> 6.898690</td><td>NA</td><td>5 </td><td>5 </td><td>TCells</td></tr>\n",
       "\t<tr><th scope=row>GC_0_ZL_AAACATCGAAACATCGGCCAAGAC</th><td>GC_0_ZL</td><td>10190</td><td>3115</td><td>GC_0_ZL</td><td>10.480864</td><td>NA</td><td>7 </td><td>7 </td><td>TCells</td></tr>\n",
       "\t<tr><th scope=row>GC_0_ZL_AAACATCGAAACATCGTGAAGAGA</th><td>GC_0_ZL</td><td>16602</td><td>3886</td><td>GC_0_ZL</td><td>12.823756</td><td>NA</td><td>3 </td><td>3 </td><td>TCells</td></tr>\n",
       "\t<tr><th scope=row>GC_0_ZL_AAACATCGAACAACCAAGAGTCAA</th><td>GC_0_ZL</td><td>18642</td><td>4588</td><td>GC_0_ZL</td><td> 7.617208</td><td>NA</td><td>5 </td><td>5 </td><td>TCells</td></tr>\n",
       "\t<tr><th scope=row>GC_0_ZL_AAACATCGAACCGAGAACCTCCAA</th><td>GC_0_ZL</td><td>10468</td><td>3304</td><td>GC_0_ZL</td><td> 8.760031</td><td>NA</td><td>5 </td><td>5 </td><td>TCells</td></tr>\n",
       "\t<tr><th scope=row>GC_0_ZL_AAACATCGAACCGAGAAGCACCTC</th><td>GC_0_ZL</td><td>12521</td><td>3472</td><td>GC_0_ZL</td><td>43.918217</td><td>NA</td><td>10</td><td>10</td><td>TCells</td></tr>\n",
       "</tbody>\n",
       "</table>\n"
      ],
      "text/latex": [
       "A data.frame: 6 × 9\n",
       "\\begin{tabular}{r|lllllllll}\n",
       "  & orig.ident & nCount\\_RNA & nFeature\\_RNA & sample & percent.mt & percent.mito & RNA\\_snn\\_res.0.8 & seurat\\_clusters & celltype\\\\\n",
       "  & <chr> & <dbl> & <int> & <chr> & <dbl> & <dbl> & <fct> & <fct> & <fct>\\\\\n",
       "\\hline\n",
       "\tGC\\_0\\_ZL\\_AAACATCGAAACATCGCCTCCTGA & GC\\_0\\_ZL & 12901 & 3741 & GC\\_0\\_ZL &  6.898690 & NA & 5  & 5  & TCells\\\\\n",
       "\tGC\\_0\\_ZL\\_AAACATCGAAACATCGGCCAAGAC & GC\\_0\\_ZL & 10190 & 3115 & GC\\_0\\_ZL & 10.480864 & NA & 7  & 7  & TCells\\\\\n",
       "\tGC\\_0\\_ZL\\_AAACATCGAAACATCGTGAAGAGA & GC\\_0\\_ZL & 16602 & 3886 & GC\\_0\\_ZL & 12.823756 & NA & 3  & 3  & TCells\\\\\n",
       "\tGC\\_0\\_ZL\\_AAACATCGAACAACCAAGAGTCAA & GC\\_0\\_ZL & 18642 & 4588 & GC\\_0\\_ZL &  7.617208 & NA & 5  & 5  & TCells\\\\\n",
       "\tGC\\_0\\_ZL\\_AAACATCGAACCGAGAACCTCCAA & GC\\_0\\_ZL & 10468 & 3304 & GC\\_0\\_ZL &  8.760031 & NA & 5  & 5  & TCells\\\\\n",
       "\tGC\\_0\\_ZL\\_AAACATCGAACCGAGAAGCACCTC & GC\\_0\\_ZL & 12521 & 3472 & GC\\_0\\_ZL & 43.918217 & NA & 10 & 10 & TCells\\\\\n",
       "\\end{tabular}\n"
      ],
      "text/markdown": [
       "\n",
       "A data.frame: 6 × 9\n",
       "\n",
       "| <!--/--> | orig.ident &lt;chr&gt; | nCount_RNA &lt;dbl&gt; | nFeature_RNA &lt;int&gt; | sample &lt;chr&gt; | percent.mt &lt;dbl&gt; | percent.mito &lt;dbl&gt; | RNA_snn_res.0.8 &lt;fct&gt; | seurat_clusters &lt;fct&gt; | celltype &lt;fct&gt; |\n",
       "|---|---|---|---|---|---|---|---|---|---|\n",
       "| GC_0_ZL_AAACATCGAAACATCGCCTCCTGA | GC_0_ZL | 12901 | 3741 | GC_0_ZL |  6.898690 | NA | 5  | 5  | TCells |\n",
       "| GC_0_ZL_AAACATCGAAACATCGGCCAAGAC | GC_0_ZL | 10190 | 3115 | GC_0_ZL | 10.480864 | NA | 7  | 7  | TCells |\n",
       "| GC_0_ZL_AAACATCGAAACATCGTGAAGAGA | GC_0_ZL | 16602 | 3886 | GC_0_ZL | 12.823756 | NA | 3  | 3  | TCells |\n",
       "| GC_0_ZL_AAACATCGAACAACCAAGAGTCAA | GC_0_ZL | 18642 | 4588 | GC_0_ZL |  7.617208 | NA | 5  | 5  | TCells |\n",
       "| GC_0_ZL_AAACATCGAACCGAGAACCTCCAA | GC_0_ZL | 10468 | 3304 | GC_0_ZL |  8.760031 | NA | 5  | 5  | TCells |\n",
       "| GC_0_ZL_AAACATCGAACCGAGAAGCACCTC | GC_0_ZL | 12521 | 3472 | GC_0_ZL | 43.918217 | NA | 10 | 10 | TCells |\n",
       "\n"
      ],
      "text/plain": [
       "                                 orig.ident nCount_RNA nFeature_RNA sample \n",
       "GC_0_ZL_AAACATCGAAACATCGCCTCCTGA GC_0_ZL    12901      3741         GC_0_ZL\n",
       "GC_0_ZL_AAACATCGAAACATCGGCCAAGAC GC_0_ZL    10190      3115         GC_0_ZL\n",
       "GC_0_ZL_AAACATCGAAACATCGTGAAGAGA GC_0_ZL    16602      3886         GC_0_ZL\n",
       "GC_0_ZL_AAACATCGAACAACCAAGAGTCAA GC_0_ZL    18642      4588         GC_0_ZL\n",
       "GC_0_ZL_AAACATCGAACCGAGAACCTCCAA GC_0_ZL    10468      3304         GC_0_ZL\n",
       "GC_0_ZL_AAACATCGAACCGAGAAGCACCTC GC_0_ZL    12521      3472         GC_0_ZL\n",
       "                                 percent.mt percent.mito RNA_snn_res.0.8\n",
       "GC_0_ZL_AAACATCGAAACATCGCCTCCTGA  6.898690  NA           5              \n",
       "GC_0_ZL_AAACATCGAAACATCGGCCAAGAC 10.480864  NA           7              \n",
       "GC_0_ZL_AAACATCGAAACATCGTGAAGAGA 12.823756  NA           3              \n",
       "GC_0_ZL_AAACATCGAACAACCAAGAGTCAA  7.617208  NA           5              \n",
       "GC_0_ZL_AAACATCGAACCGAGAACCTCCAA  8.760031  NA           5              \n",
       "GC_0_ZL_AAACATCGAACCGAGAAGCACCTC 43.918217  NA           10             \n",
       "                                 seurat_clusters celltype\n",
       "GC_0_ZL_AAACATCGAAACATCGCCTCCTGA 5               TCells  \n",
       "GC_0_ZL_AAACATCGAAACATCGGCCAAGAC 7               TCells  \n",
       "GC_0_ZL_AAACATCGAAACATCGTGAAGAGA 3               TCells  \n",
       "GC_0_ZL_AAACATCGAACAACCAAGAGTCAA 5               TCells  \n",
       "GC_0_ZL_AAACATCGAACCGAGAACCTCCAA 5               TCells  \n",
       "GC_0_ZL_AAACATCGAACCGAGAAGCACCTC 10              TCells  "
      ]
     },
     "metadata": {},
     "output_type": "display_data"
    }
   ],
   "source": [
    "head(meta)"
   ]
  },
  {
   "cell_type": "code",
   "execution_count": 22,
   "id": "surgical-tiffany",
   "metadata": {},
   "outputs": [
    {
     "data": {
      "text/plain": [
       "\n",
       "GC_0_ZL GC_1_ZL GC_2_ZL \n",
       "   7639    9293    9251 "
      ]
     },
     "metadata": {},
     "output_type": "display_data"
    }
   ],
   "source": [
    "table(meta$orig.ident)"
   ]
  },
  {
   "cell_type": "code",
   "execution_count": null,
   "id": "faced-warren",
   "metadata": {},
   "outputs": [],
   "source": []
  },
  {
   "cell_type": "code",
   "execution_count": 41,
   "id": "removable-moore",
   "metadata": {},
   "outputs": [],
   "source": [
    "GC0 = read.table('/SGRNJ03/randd/RD20102301_DZH/shiming_CART/CART-JIACE/20220423/220309010_404_FJ/06.filter_virus/220309010_404_FJ_filtered_UMI.csv',sep=',',header=T)\n",
    "GC1 = read.table('/SGRNJ03/randd/RD20102301_DZH/shiming_CART/CART-JIACE/20220423/220303012CD_FJ/06.filter_virus/220303012CD_FJ_filtered_UMI.csv',sep=',',header=T)\n",
    "GC2 = read.table('/SGRNJ03/randd/RD20102301_DZH/shiming_CART/CART-JIACE/20220423/220305023ABC_FJ/06.filter_virus/220305023ABC_FJ_filtered_UMI.csv',sep=',',header=T)"
   ]
  },
  {
   "cell_type": "code",
   "execution_count": 42,
   "id": "distant-bobby",
   "metadata": {},
   "outputs": [],
   "source": [
    "GC0$shi<-paste('GC_0_ZL',\"_\",sep=\"\")\n",
    "GC0$barcode<-str_c(GC0$shi,GC0$barcode)\n",
    "GC0_cells <- subset(GC0, sum_UMI!=0)\n",
    "GC0_cells <- unique(GC0_cells$barcode)"
   ]
  },
  {
   "cell_type": "code",
   "execution_count": 43,
   "id": "potential-wright",
   "metadata": {},
   "outputs": [],
   "source": [
    "GC1$shi<-paste('GC_1_ZL',\"_\",sep=\"\")\n",
    "GC1$barcode<-str_c(GC1$shi,GC1$barcode)\n",
    "GC1_cells <- subset(GC1, sum_UMI!=0)\n",
    "GC1_cells <- unique(GC1_cells$barcode)"
   ]
  },
  {
   "cell_type": "code",
   "execution_count": 44,
   "id": "confirmed-fighter",
   "metadata": {},
   "outputs": [],
   "source": [
    "GC2$shi<-paste('GC_2_ZL',\"_\",sep=\"\")\n",
    "GC2$barcode<-str_c(GC2$shi,GC2$barcode)\n",
    "GC2_cells <- subset(GC2, sum_UMI!=0)\n",
    "GC2_cells <- unique(GC2_cells$barcode)"
   ]
  },
  {
   "cell_type": "code",
   "execution_count": 45,
   "id": "distinguished-premium",
   "metadata": {},
   "outputs": [],
   "source": [
    "cells = c(GC0_cells,GC1_cells,GC2_cells)"
   ]
  },
  {
   "cell_type": "code",
   "execution_count": 46,
   "id": "reverse-strip",
   "metadata": {},
   "outputs": [],
   "source": [
    "meta = rds@meta.data\n",
    "meta$car = 'CAR-'"
   ]
  },
  {
   "cell_type": "code",
   "execution_count": 47,
   "id": "devoted-cigarette",
   "metadata": {},
   "outputs": [],
   "source": [
    "meta[cells,'car'] = 'CAR+'"
   ]
  },
  {
   "cell_type": "code",
   "execution_count": 50,
   "id": "stunning-movie",
   "metadata": {},
   "outputs": [],
   "source": [
    "rds@meta.data=meta"
   ]
  },
  {
   "cell_type": "code",
   "execution_count": 32,
   "id": "rapid-sport",
   "metadata": {},
   "outputs": [],
   "source": [
    "# FindMarkers"
   ]
  },
  {
   "cell_type": "code",
   "execution_count": 51,
   "id": "featured-karaoke",
   "metadata": {},
   "outputs": [],
   "source": [
    "Idents(rds) <- \"car\""
   ]
  },
  {
   "cell_type": "code",
   "execution_count": 52,
   "id": "banner-train",
   "metadata": {},
   "outputs": [],
   "source": [
    "markers <- FindMarkers(object=rds,ident.1=\"CAR+\",ident.2='CAR-',min.pct=0.1,logfc.threshold = 0.25)"
   ]
  },
  {
   "cell_type": "code",
   "execution_count": 54,
   "id": "studied-juvenile",
   "metadata": {},
   "outputs": [],
   "source": [
    "write.table(markers,file=\"/SGRNJ06/randd/USER/cjj/celedev/XZMU/20220803/CAR_diff_genes.xls\",,sep='\\t',quote=F,row.names=T)"
   ]
  },
  {
   "cell_type": "code",
   "execution_count": null,
   "id": "acoustic-rocket",
   "metadata": {},
   "outputs": [],
   "source": []
  },
  {
   "cell_type": "code",
   "execution_count": null,
   "id": "headed-liabilities",
   "metadata": {},
   "outputs": [],
   "source": []
  },
  {
   "cell_type": "code",
   "execution_count": 57,
   "id": "consolidated-version",
   "metadata": {},
   "outputs": [],
   "source": [
    "# subset\n",
    "total = readRDS('/SGRNJ06/randd/USER/cjj/celedev/XZMU/20220428/GC.diff_PRO.rds')"
   ]
  },
  {
   "cell_type": "code",
   "execution_count": 58,
   "id": "talented-shoot",
   "metadata": {},
   "outputs": [
    {
     "data": {
      "text/plain": [
       "\n",
       "GC_0_ZL GC_1_ZL GC_2_ZL \n",
       "   7639    9293    9251 "
      ]
     },
     "metadata": {},
     "output_type": "display_data"
    }
   ],
   "source": [
    "table(total@meta.data$orig.ident)"
   ]
  },
  {
   "cell_type": "code",
   "execution_count": 77,
   "id": "amateur-effectiveness",
   "metadata": {},
   "outputs": [],
   "source": [
    "Idents(total) <- \"orig.ident\"\n",
    "rds <- subset(total,idents = c('GC_2_ZL'))"
   ]
  },
  {
   "cell_type": "code",
   "execution_count": 78,
   "id": "healthy-awareness",
   "metadata": {},
   "outputs": [],
   "source": [
    "GC0 = read.table('/SGRNJ03/randd/RD20102301_DZH/shiming_CART/CART-JIACE/20220423/220309010_404_FJ/06.filter_virus/220309010_404_FJ_filtered_UMI.csv',sep=',',header=T)\n",
    "GC1 = read.table('/SGRNJ03/randd/RD20102301_DZH/shiming_CART/CART-JIACE/20220423/220303012CD_FJ/06.filter_virus/220303012CD_FJ_filtered_UMI.csv',sep=',',header=T)\n",
    "GC2 = read.table('/SGRNJ03/randd/RD20102301_DZH/shiming_CART/CART-JIACE/20220423/220305023ABC_FJ/06.filter_virus/220305023ABC_FJ_filtered_UMI.csv',sep=',',header=T)\n",
    "GC0$shi<-paste('GC_0_ZL',\"_\",sep=\"\")\n",
    "GC0$barcode<-str_c(GC0$shi,GC0$barcode)\n",
    "GC0_cells <- subset(GC0, sum_UMI!=0)\n",
    "GC0_cells <- unique(GC0_cells$barcode)\n",
    "GC1$shi<-paste('GC_1_ZL',\"_\",sep=\"\")\n",
    "GC1$barcode<-str_c(GC1$shi,GC1$barcode)\n",
    "GC1_cells <- subset(GC1, sum_UMI!=0)\n",
    "GC1_cells <- unique(GC1_cells$barcode)\n",
    "GC2$shi<-paste('GC_2_ZL',\"_\",sep=\"\")\n",
    "GC2$barcode<-str_c(GC2$shi,GC2$barcode)\n",
    "GC2_cells <- subset(GC2, sum_UMI!=0)\n",
    "GC2_cells <- unique(GC2_cells$barcode)"
   ]
  },
  {
   "cell_type": "code",
   "execution_count": 79,
   "id": "sunrise-contemporary",
   "metadata": {},
   "outputs": [],
   "source": [
    "meta = rds@meta.data\n",
    "meta$car = 'CAR-'\n",
    "meta[GC2_cells,'car'] = 'CAR+'\n",
    "rds@meta.data=meta"
   ]
  },
  {
   "cell_type": "code",
   "execution_count": null,
   "id": "healthy-cornell",
   "metadata": {},
   "outputs": [],
   "source": [
    "meta"
   ]
  },
  {
   "cell_type": "code",
   "execution_count": 81,
   "id": "endangered-beijing",
   "metadata": {},
   "outputs": [],
   "source": [
    "Idents(rds) <- \"car\"\n",
    "markers <- FindMarkers(object=rds,ident.1=\"CAR+\",ident.2='CAR-',min.pct=0.1,logfc.threshold = 0.25)\n",
    "write.table(markers,file=\"/SGRNJ06/randd/USER/cjj/celedev/XZMU/20220803/G2_CAR_diff_genes.xls\",,sep='\\t',quote=F,row.names=T)"
   ]
  },
  {
   "cell_type": "code",
   "execution_count": null,
   "id": "finished-category",
   "metadata": {},
   "outputs": [],
   "source": []
  }
 ],
 "metadata": {
  "kernelspec": {
   "display_name": "CJJcele",
   "language": "R",
   "name": "cjjcele"
  },
  "language_info": {
   "codemirror_mode": "r",
   "file_extension": ".r",
   "mimetype": "text/x-r-source",
   "name": "R",
   "pygments_lexer": "r",
   "version": "4.0.3"
  }
 },
 "nbformat": 4,
 "nbformat_minor": 5
}
