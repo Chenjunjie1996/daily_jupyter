{
 "cells": [
  {
   "cell_type": "code",
   "execution_count": 1,
   "id": "dynamic-investing",
   "metadata": {},
   "outputs": [],
   "source": [
    "import matplotlib.pyplot as plt\n",
    "import numpy as np"
   ]
  },
  {
   "cell_type": "code",
   "execution_count": 4,
   "id": "corporate-language",
   "metadata": {},
   "outputs": [
    {
     "data": {
      "image/png": "[encoded data removed]",
      "text/plain": [
       "<Figure size 432x288 with 1 Axes>"
      ]
     },
     "metadata": {
      "needs_background": "light"
     },
     "output_type": "display_data"
    }
   ],
   "source": [
    "# 创建一些示例数据\n",
    "data = [np.random.normal(0, std, 100) for std in range(1, 4)]\n",
    "\n",
    "# 创建箱线图\n",
    "fig, ax = plt.subplots()\n",
    "box = ax.boxplot(data, vert=True, patch_artist=True)\n",
    "\n",
    "# 为每个箱体设置颜色\n",
    "colors = ['lightblue', 'lightgreen', 'lightcoral']\n",
    "for patch, color in zip(box['boxes'], colors):\n",
    "    patch.set_facecolor(color)\n",
    "\n",
    "# 添加标签和标题\n",
    "ax.set_xticks([1, 2, 3])\n",
    "ax.set_xticklabels(['Group 1', 'Group 2', 'Group 3'])\n",
    "ax.set_xlabel('Groups')\n",
    "ax.set_ylabel('Values')\n",
    "ax.set_title('Beautiful Boxplot Example')\n",
    "\n",
    "# 添加网格线\n",
    "ax.yaxis.grid(True, linestyle='-', which='major', color='lightgrey', alpha=0.5)\n",
    "\n",
    "# 移除顶部和右侧的边框\n",
    "ax.spines['top'].set_visible(False)\n",
    "ax.spines['right'].set_visible(False)\n",
    "\n",
    "# 显示图形\n",
    "plt.show()"
   ]
  },
  {
   "cell_type": "code",
   "execution_count": null,
   "id": "wound-rotation",
   "metadata": {},
   "outputs": [],
   "source": [
    "data"
   ]
  },
  {
   "cell_type": "code",
   "execution_count": null,
   "id": "defined-practice",
   "metadata": {},
   "outputs": [],
   "source": []
  },
  {
   "cell_type": "code",
   "execution_count": null,
   "id": "subsequent-carter",
   "metadata": {},
   "outputs": [],
   "source": []
  }
 ],
 "metadata": {
  "kernelspec": {
   "display_name": "trust4_1.7",
   "language": "python",
   "name": "trust4_1.7"
  },
  "language_info": {
   "codemirror_mode": {
    "name": "ipython",
    "version": 3
   },
   "file_extension": ".py",
   "mimetype": "text/x-python",
   "name": "python",
   "nbconvert_exporter": "python",
   "pygments_lexer": "ipython3",
   "version": "3.7.10"
  }
 },
 "nbformat": 4,
 "nbformat_minor": 5
}
