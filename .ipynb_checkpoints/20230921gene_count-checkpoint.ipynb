{
 "cells": [
  {
   "cell_type": "code",
   "execution_count": 1,
   "id": "overall-stress",
   "metadata": {},
   "outputs": [],
   "source": [
    "# 义其，可以帮我统计一下这个路径里面的8个样本，线粒体基因和rRNA的占比吗？另外也统计一下加入intron之后的total基因。"
   ]
  },
  {
   "cell_type": "code",
   "execution_count": 2,
   "id": "swiss-grass",
   "metadata": {},
   "outputs": [],
   "source": [
    "import pandas as pd \n",
    "import os \n",
    "import glob "
   ]
  },
  {
   "cell_type": "code",
   "execution_count": 62,
   "id": "continuous-heating",
   "metadata": {},
   "outputs": [],
   "source": [
    "files = glob.glob(\"/SGRNJ06/randd/USER/cjj/celedev/rna/20230921tgx/*/05.count/*_matrix.tsv.gz\")"
   ]
  },
  {
   "cell_type": "code",
   "execution_count": 63,
   "id": "difficult-mills",
   "metadata": {},
   "outputs": [
    {
     "data": {
      "text/plain": [
       "['/SGRNJ06/randd/USER/cjj/celedev/rna/20230921tgx/CCRF_NaCl_PK_5/05.count/CCRF_NaCl_PK_5_matrix.tsv.gz',\n",
       " '/SGRNJ06/randd/USER/cjj/celedev/rna/20230921tgx/1_Nacl/05.count/1_Nacl_matrix.tsv.gz',\n",
       " '/SGRNJ06/randd/USER/cjj/celedev/rna/20230921tgx/CCRF_YNaCl_6/05.count/CCRF_YNaCl_6_matrix.tsv.gz',\n",
       " '/SGRNJ06/randd/USER/cjj/celedev/rna/20230921tgx/4_W/05.count/4_W_matrix.tsv.gz',\n",
       " '/SGRNJ06/randd/USER/cjj/celedev/rna/20230921tgx/5_YS/05.count/5_YS_matrix.tsv.gz',\n",
       " '/SGRNJ06/randd/USER/cjj/celedev/rna/20230921tgx/CCRF_NaCl_3/05.count/CCRF_NaCl_3_matrix.tsv.gz',\n",
       " '/SGRNJ06/randd/USER/cjj/celedev/rna/20230921tgx/6_W_pk/05.count/6_W_pk_matrix.tsv.gz',\n",
       " '/SGRNJ06/randd/USER/cjj/celedev/rna/20230921tgx/3_Nacl_pk/05.count/3_Nacl_pk_matrix.tsv.gz']"
      ]
     },
     "execution_count": 63,
     "metadata": {},
     "output_type": "execute_result"
    }
   ],
   "source": [
    "files"
   ]
  },
  {
   "cell_type": "code",
   "execution_count": 64,
   "id": "promising-hungary",
   "metadata": {},
   "outputs": [],
   "source": [
    "sample_list, rRNA_list, MT_list, total_gene_list = [], [], [], []\n",
    "for file in files:\n",
    "    rRNA, MT = 0, 0\n",
    "    sample = file.split('/')[-3]\n",
    "    df = pd.read_csv(file, sep='\\t')\n",
    "    df = df.rename(columns = {\"Unnamed: 0\": \"gene\"})\n",
    "    total_gene = df.shape[0]\n",
    "    for i in set(df.gene):\n",
    "        if i.startswith(\"MT-\"):\n",
    "            MT += 1\n",
    "        elif i.startswith(\"RPS\"):\n",
    "            rRNA += 1\n",
    "        elif i.startswith(\"RPL\"):\n",
    "            rRNA += 1\n",
    "    sample_list.append(sample)\n",
    "    rRNA_list.append(rRNA)\n",
    "    MT_list.append(MT)\n",
    "    total_gene_list.append(total_gene)"
   ]
  },
  {
   "cell_type": "code",
   "execution_count": 65,
   "id": "emerging-teach",
   "metadata": {},
   "outputs": [
    {
     "data": {
      "text/plain": [
       "['CCRF_NaCl_PK_5',\n",
       " '1_Nacl',\n",
       " 'CCRF_YNaCl_6',\n",
       " '4_W',\n",
       " '5_YS',\n",
       " 'CCRF_NaCl_3',\n",
       " '6_W_pk',\n",
       " '3_Nacl_pk']"
      ]
     },
     "execution_count": 65,
     "metadata": {},
     "output_type": "execute_result"
    }
   ],
   "source": [
    "sample_list"
   ]
  },
  {
   "cell_type": "code",
   "execution_count": 66,
   "id": "ordered-medicare",
   "metadata": {},
   "outputs": [
    {
     "data": {
      "text/plain": [
       "[334, 265, 301, 303, 267, 298, 313, 305]"
      ]
     },
     "execution_count": 66,
     "metadata": {},
     "output_type": "execute_result"
    }
   ],
   "source": [
    "rRNA_list"
   ]
  },
  {
   "cell_type": "code",
   "execution_count": 67,
   "id": "typical-preserve",
   "metadata": {},
   "outputs": [
    {
     "data": {
      "text/plain": [
       "[34, 31, 33, 24, 33, 34, 28, 33]"
      ]
     },
     "execution_count": 67,
     "metadata": {},
     "output_type": "execute_result"
    }
   ],
   "source": [
    "MT_list"
   ]
  },
  {
   "cell_type": "code",
   "execution_count": 68,
   "id": "chief-delight",
   "metadata": {},
   "outputs": [
    {
     "data": {
      "text/plain": [
       "[20079, 20126, 18721, 19261, 18380, 21674, 19242, 18770]"
      ]
     },
     "execution_count": 68,
     "metadata": {},
     "output_type": "execute_result"
    }
   ],
   "source": [
    "total_gene_list"
   ]
  },
  {
   "cell_type": "code",
   "execution_count": 69,
   "id": "recovered-norwegian",
   "metadata": {},
   "outputs": [],
   "source": [
    "df = pd.DataFrame(columns=['sample', 'MT', 'rRNA', \"total_gene\"])"
   ]
  },
  {
   "cell_type": "code",
   "execution_count": 70,
   "id": "immediate-peoples",
   "metadata": {},
   "outputs": [],
   "source": [
    "df['sample'] = sample_list\n",
    "df['MT'] = MT_list\n",
    "df['rRNA'] = rRNA_list\n",
    "df['total_gene'] = total_gene_list"
   ]
  },
  {
   "cell_type": "code",
   "execution_count": 71,
   "id": "associate-peninsula",
   "metadata": {},
   "outputs": [],
   "source": [
    "df.to_csv(\"/SGRNJ06/randd/USER/cjj/celedev/rna/20230921tgx/gene_count.tsv\", sep='\\t')"
   ]
  },
  {
   "cell_type": "code",
   "execution_count": null,
   "id": "brave-kitty",
   "metadata": {},
   "outputs": [],
   "source": []
  },
  {
   "cell_type": "code",
   "execution_count": null,
   "id": "disturbed-melissa",
   "metadata": {},
   "outputs": [],
   "source": []
  },
  {
   "cell_type": "code",
   "execution_count": 11,
   "id": "corrected-stuff",
   "metadata": {},
   "outputs": [],
   "source": [
    "df = pd.read_csv(\"/SGRNJ06/randd/USER/cjj/celedev/rna/20231106/K562_18TL_bulk_NL/05.count/K562_18TL_bulk_NL_raw_feature_bc_matrix/genes.tsv\", sep='\\t',header=None)"
   ]
  },
  {
   "cell_type": "code",
   "execution_count": 13,
   "id": "painful-guard",
   "metadata": {},
   "outputs": [
    {
     "data": {
      "text/html": [
       "<div>\n",
       "<style scoped>\n",
       "    .dataframe tbody tr th:only-of-type {\n",
       "        vertical-align: middle;\n",
       "    }\n",
       "\n",
       "    .dataframe tbody tr th {\n",
       "        vertical-align: top;\n",
       "    }\n",
       "\n",
       "    .dataframe thead th {\n",
       "        text-align: right;\n",
       "    }\n",
       "</style>\n",
       "<table border=\"1\" class=\"dataframe\">\n",
       "  <thead>\n",
       "    <tr style=\"text-align: right;\">\n",
       "      <th></th>\n",
       "      <th>id</th>\n",
       "      <th>gene</th>\n",
       "    </tr>\n",
       "  </thead>\n",
       "  <tbody>\n",
       "    <tr>\n",
       "      <th>0</th>\n",
       "      <td>ENSG00000223972</td>\n",
       "      <td>DDX11L1</td>\n",
       "    </tr>\n",
       "    <tr>\n",
       "      <th>1</th>\n",
       "      <td>ENSG00000227232</td>\n",
       "      <td>WASH7P</td>\n",
       "    </tr>\n",
       "    <tr>\n",
       "      <th>2</th>\n",
       "      <td>ENSG00000278267</td>\n",
       "      <td>MIR6859-1</td>\n",
       "    </tr>\n",
       "    <tr>\n",
       "      <th>3</th>\n",
       "      <td>ENSG00000243485</td>\n",
       "      <td>MIR1302-2HG</td>\n",
       "    </tr>\n",
       "    <tr>\n",
       "      <th>4</th>\n",
       "      <td>ENSG00000284332</td>\n",
       "      <td>MIR1302-2</td>\n",
       "    </tr>\n",
       "    <tr>\n",
       "      <th>...</th>\n",
       "      <td>...</td>\n",
       "      <td>...</td>\n",
       "    </tr>\n",
       "    <tr>\n",
       "      <th>60671</th>\n",
       "      <td>ENSG00000271254</td>\n",
       "      <td>AC240274.1</td>\n",
       "    </tr>\n",
       "    <tr>\n",
       "      <th>60672</th>\n",
       "      <td>ENSG00000275405</td>\n",
       "      <td>AC213203.2</td>\n",
       "    </tr>\n",
       "    <tr>\n",
       "      <th>60673</th>\n",
       "      <td>ENSG00000275987</td>\n",
       "      <td>AC213203.3</td>\n",
       "    </tr>\n",
       "    <tr>\n",
       "      <th>60674</th>\n",
       "      <td>ENSG00000277475</td>\n",
       "      <td>AC213203.4</td>\n",
       "    </tr>\n",
       "    <tr>\n",
       "      <th>60675</th>\n",
       "      <td>ENSG00000268674</td>\n",
       "      <td>AC213203.1</td>\n",
       "    </tr>\n",
       "  </tbody>\n",
       "</table>\n",
       "<p>60676 rows × 2 columns</p>\n",
       "</div>"
      ],
      "text/plain": [
       "                    id         gene\n",
       "0      ENSG00000223972      DDX11L1\n",
       "1      ENSG00000227232       WASH7P\n",
       "2      ENSG00000278267    MIR6859-1\n",
       "3      ENSG00000243485  MIR1302-2HG\n",
       "4      ENSG00000284332    MIR1302-2\n",
       "...                ...          ...\n",
       "60671  ENSG00000271254   AC240274.1\n",
       "60672  ENSG00000275405   AC213203.2\n",
       "60673  ENSG00000275987   AC213203.3\n",
       "60674  ENSG00000277475   AC213203.4\n",
       "60675  ENSG00000268674   AC213203.1\n",
       "\n",
       "[60676 rows x 2 columns]"
      ]
     },
     "execution_count": 13,
     "metadata": {},
     "output_type": "execute_result"
    }
   ],
   "source": [
    "df.rename(columns = {0: \"id\", 1: \"gene\"})"
   ]
  },
  {
   "cell_type": "code",
   "execution_count": 32,
   "id": "clean-charge",
   "metadata": {},
   "outputs": [],
   "source": [
    "files = glob.glob(\"/SGRNJ06/randd/USER/cjj/celedev/rna/20231106/*/05.count/*matrix/genes.tsv\")"
   ]
  },
  {
   "cell_type": "code",
   "execution_count": 33,
   "id": "funny-tract",
   "metadata": {},
   "outputs": [
    {
     "data": {
      "text/plain": [
       "['/SGRNJ06/randd/USER/cjj/celedev/rna/20231106/K562_18TL_bulk_NL/05.count/K562_18TL_bulk_NL_raw_feature_bc_matrix/genes.tsv',\n",
       " '/SGRNJ06/randd/USER/cjj/celedev/rna/20231106/K562_18T_bulk_NL/05.count/K562_18T_bulk_NL_raw_feature_bc_matrix/genes.tsv']"
      ]
     },
     "execution_count": 33,
     "metadata": {},
     "output_type": "execute_result"
    }
   ],
   "source": [
    "files"
   ]
  },
  {
   "cell_type": "code",
   "execution_count": 34,
   "id": "willing-migration",
   "metadata": {},
   "outputs": [],
   "source": [
    "sample_list, rRNA_list, MT_list, total_gene_list = [], [], [], []\n",
    "for file in files:\n",
    "    rRNA, MT = 0, 0\n",
    "    sample = file.split('/')[-2]\n",
    "    df = pd.read_csv(file, sep='\\t', header=None)\n",
    "    df = df.rename(columns = {0: \"id\", 1: \"gene\"})\n",
    "    total_gene = df.shape[0]\n",
    "    for i in set(df.gene):\n",
    "        if i.startswith(\"MT-\"):\n",
    "            MT += 1\n",
    "        elif i.startswith(\"RPS\"):\n",
    "            rRNA += 1\n",
    "        elif i.startswith(\"RPL\"):\n",
    "            rRNA += 1\n",
    "    sample_list.append(sample)\n",
    "    rRNA_list.append(rRNA)\n",
    "    MT_list.append(MT)\n",
    "    total_gene_list.append(total_gene)"
   ]
  },
  {
   "cell_type": "code",
   "execution_count": 35,
   "id": "infinite-disabled",
   "metadata": {},
   "outputs": [
    {
     "data": {
      "text/plain": [
       "['K562_18TL_bulk_NL_raw_feature_bc_matrix',\n",
       " 'K562_18T_bulk_NL_raw_feature_bc_matrix']"
      ]
     },
     "execution_count": 35,
     "metadata": {},
     "output_type": "execute_result"
    }
   ],
   "source": [
    "sample_list"
   ]
  },
  {
   "cell_type": "code",
   "execution_count": 36,
   "id": "incredible-promotion",
   "metadata": {},
   "outputs": [
    {
     "data": {
      "text/plain": [
       "[1253, 1253]"
      ]
     },
     "execution_count": 36,
     "metadata": {},
     "output_type": "execute_result"
    }
   ],
   "source": [
    "rRNA_list"
   ]
  },
  {
   "cell_type": "code",
   "execution_count": 37,
   "id": "protected-quarter",
   "metadata": {},
   "outputs": [
    {
     "data": {
      "text/plain": [
       "[37, 37]"
      ]
     },
     "execution_count": 37,
     "metadata": {},
     "output_type": "execute_result"
    }
   ],
   "source": [
    "MT_list"
   ]
  },
  {
   "cell_type": "code",
   "execution_count": 38,
   "id": "printable-institution",
   "metadata": {},
   "outputs": [
    {
     "data": {
      "text/plain": [
       "[60676, 60676]"
      ]
     },
     "execution_count": 38,
     "metadata": {},
     "output_type": "execute_result"
    }
   ],
   "source": [
    "total_gene_list"
   ]
  },
  {
   "cell_type": "code",
   "execution_count": 39,
   "id": "minor-jaguar",
   "metadata": {},
   "outputs": [],
   "source": [
    "df = pd.DataFrame(columns=['sample', 'MT', 'rRNA', \"total_gene\"])"
   ]
  },
  {
   "cell_type": "code",
   "execution_count": 40,
   "id": "dressed-pension",
   "metadata": {},
   "outputs": [],
   "source": [
    "df['sample'] = sample_list\n",
    "df['MT'] = MT_list\n",
    "df['rRNA'] = rRNA_list\n",
    "df['total_gene'] = total_gene_list"
   ]
  },
  {
   "cell_type": "code",
   "execution_count": 41,
   "id": "demanding-performer",
   "metadata": {},
   "outputs": [],
   "source": [
    "df.to_csv(\"/SGRNJ06/randd/USER/cjj/celedev/rna/20231106/gene_count.tsv\", sep='\\t')"
   ]
  },
  {
   "cell_type": "code",
   "execution_count": 42,
   "id": "complex-christian",
   "metadata": {},
   "outputs": [
    {
     "data": {
      "text/html": [
       "<div>\n",
       "<style scoped>\n",
       "    .dataframe tbody tr th:only-of-type {\n",
       "        vertical-align: middle;\n",
       "    }\n",
       "\n",
       "    .dataframe tbody tr th {\n",
       "        vertical-align: top;\n",
       "    }\n",
       "\n",
       "    .dataframe thead th {\n",
       "        text-align: right;\n",
       "    }\n",
       "</style>\n",
       "<table border=\"1\" class=\"dataframe\">\n",
       "  <thead>\n",
       "    <tr style=\"text-align: right;\">\n",
       "      <th></th>\n",
       "      <th>sample</th>\n",
       "      <th>MT</th>\n",
       "      <th>rRNA</th>\n",
       "      <th>total_gene</th>\n",
       "    </tr>\n",
       "  </thead>\n",
       "  <tbody>\n",
       "    <tr>\n",
       "      <th>0</th>\n",
       "      <td>K562_18TL_bulk_NL_raw_feature_bc_matrix</td>\n",
       "      <td>37</td>\n",
       "      <td>1253</td>\n",
       "      <td>60676</td>\n",
       "    </tr>\n",
       "    <tr>\n",
       "      <th>1</th>\n",
       "      <td>K562_18T_bulk_NL_raw_feature_bc_matrix</td>\n",
       "      <td>37</td>\n",
       "      <td>1253</td>\n",
       "      <td>60676</td>\n",
       "    </tr>\n",
       "  </tbody>\n",
       "</table>\n",
       "</div>"
      ],
      "text/plain": [
       "                                    sample  MT  rRNA  total_gene\n",
       "0  K562_18TL_bulk_NL_raw_feature_bc_matrix  37  1253       60676\n",
       "1   K562_18T_bulk_NL_raw_feature_bc_matrix  37  1253       60676"
      ]
     },
     "execution_count": 42,
     "metadata": {},
     "output_type": "execute_result"
    }
   ],
   "source": [
    "df"
   ]
  },
  {
   "cell_type": "code",
   "execution_count": null,
   "id": "liberal-purchase",
   "metadata": {},
   "outputs": [],
   "source": []
  },
  {
   "cell_type": "code",
   "execution_count": 4,
   "id": "secondary-kruger",
   "metadata": {},
   "outputs": [],
   "source": []
  },
  {
   "cell_type": "code",
   "execution_count": 3,
   "id": "imported-forty",
   "metadata": {},
   "outputs": [],
   "source": [
    "# \n",
    "import pysam"
   ]
  },
  {
   "cell_type": "code",
   "execution_count": 5,
   "id": "graphic-congress",
   "metadata": {},
   "outputs": [],
   "source": [
    "df = pd.read_csv(\"/SGRNJ06/randd/USER/cjj/celedev/rna/20231106/ribo/K562_18TL_bulk_NL/05.count/K562_18TL_bulk_NL_raw_feature_bc_matrix/genes.tsv\", sep='\\t',header=None)"
   ]
  },
  {
   "cell_type": "code",
   "execution_count": 7,
   "id": "difficult-france",
   "metadata": {},
   "outputs": [],
   "source": [
    "df  = df.rename(columns = {0: \"id\", 1: \"gene\"})"
   ]
  },
  {
   "cell_type": "code",
   "execution_count": 9,
   "id": "backed-freeze",
   "metadata": {},
   "outputs": [],
   "source": [
    "gene_dict = dict(zip(df.id, df.gene))"
   ]
  },
  {
   "cell_type": "code",
   "execution_count": null,
   "id": "continuous-terminology",
   "metadata": {},
   "outputs": [],
   "source": [
    "gene_dict"
   ]
  },
  {
   "cell_type": "code",
   "execution_count": 12,
   "id": "funded-beijing",
   "metadata": {},
   "outputs": [],
   "source": [
    "file = \"/SGRNJ06/randd/USER/cjj/celedev/rna/20231106/ribo/K562_18TL_bulk_NL/04.featureCounts/K562_18TL_bulk_NL_aligned_posSorted_addTag.bam\""
   ]
  },
  {
   "cell_type": "code",
   "execution_count": 13,
   "id": "specialized-toner",
   "metadata": {},
   "outputs": [],
   "source": [
    "bam = pysam.AlignmentFile(file, 'rb')"
   ]
  },
  {
   "cell_type": "code",
   "execution_count": 14,
   "id": "corresponding-formation",
   "metadata": {},
   "outputs": [
    {
     "name": "stdout",
     "output_type": "stream",
     "text": [
      "TTTTTTTTT_TTTTTTTTTGCT_5332227\t272\t#0\t13329\t0\t107M43S\t*\t0\t0\tTGGAGGTCAAAGCCACCTTTGGTTCTGCCATTGCTGCTGTGTGGAAGTTCACTCCTGCCTTTTCCTTTCCCTAGAGCCTCCACCACCCCGAGATCACATTTCTCACTTGTACTGCCCCATCCTTGAATCCTTTATCCCTTTCCTCTTTCA\tarray('B', [37, 37, 37, 37, 37, 37, 37, 37, 37, 37, 37, 37, 37, 37, 37, 37, 37, 37, 37, 37, 37, 37, 37, 37, 37, 11, 37, 37, 37, 37, 37, 37, 37, 37, 25, 37, 37, 37, 37, 37, 37, 37, 37, 37, 37, 37, 37, 37, 37, 37, 37, 37, 37, 37, 37, 37, 37, 37, 37, 37, 37, 37, 37, 37, 37, 37, 37, 37, 37, 37, 37, 37, 37, 37, 37, 37, 37, 37, 37, 37, 37, 37, 37, 37, 37, 37, 37, 37, 37, 37, 37, 37, 37, 37, 37, 37, 37, 37, 37, 37, 37, 37, 37, 37, 37, 37, 37, 37, 37, 37, 37, 37, 37, 37, 37, 37, 37, 37, 37, 37, 37, 37, 37, 37, 37, 37, 37, 37, 37, 37, 37, 37, 37, 37, 37, 37, 37, 37, 37, 37, 37, 37, 37, 37, 37, 37, 37, 37, 37, 37])\t[('NH', 6), ('HI', 3), ('AS', 105), ('nM', 0), ('XS', 'Unassigned_NoFeatures'), ('CB', 'TTTTTTTTT'), ('UB', 'TTTTTTTTTGCT'), ('UR', 'TTTTTTTTTGCT')]\n"
     ]
    }
   ],
   "source": [
    "for read in bam:\n",
    "    try:\n",
    "        gene_id = read.get_tag(x)"
   ]
  },
  {
   "cell_type": "code",
   "execution_count": null,
   "id": "hired-blond",
   "metadata": {},
   "outputs": [],
   "source": []
  }
 ],
 "metadata": {
  "kernelspec": {
   "display_name": "trust4_1.7",
   "language": "python",
   "name": "trust4_1.7"
  },
  "language_info": {
   "codemirror_mode": {
    "name": "ipython",
    "version": 3
   },
   "file_extension": ".py",
   "mimetype": "text/x-python",
   "name": "python",
   "nbconvert_exporter": "python",
   "pygments_lexer": "ipython3",
   "version": "3.7.10"
  }
 },
 "nbformat": 4,
 "nbformat_minor": 5
}
