{
 "cells": [
  {
   "cell_type": "code",
   "execution_count": null,
   "id": "united-driving",
   "metadata": {},
   "outputs": [],
   "source": [
    "import os\n",
    "import subprocess\n",
    "import glob"
   ]
  },
  {
   "cell_type": "code",
   "execution_count": null,
   "id": "otherwise-study",
   "metadata": {},
   "outputs": [],
   "source": [
    "raw_dir = '/SGRNJ06/randd/USER/cjj/celedev/wanheyuan/xueguan/TCR'\n",
    "target_dir = '/SGRNJ06/randd/USER/cjj/celedev/wanheyuan/match/xueguan/TCR'"
   ]
  },
  {
   "cell_type": "code",
   "execution_count": null,
   "id": "liquid-equality",
   "metadata": {},
   "outputs": [],
   "source": [
    "file_list = []\n",
    "for i in os.listdir(raw_dir):\n",
    "    file = os.path.join(raw_dir +'/' + i)\n",
    "    if os.path.isdir(file) and file.split('/')[-1] not in ['sjm', 'log']:\n",
    "        file_list.append(file)"
   ]
  },
  {
   "cell_type": "code",
   "execution_count": null,
   "id": "iraqi-pontiac",
   "metadata": {},
   "outputs": [],
   "source": [
    "file_list"
   ]
  },
  {
   "cell_type": "code",
   "execution_count": null,
   "id": "sacred-creature",
   "metadata": {},
   "outputs": [],
   "source": [
    "target_list = ['/'.join(file.split('/')[:-3] + ['match'] + file.split('/')[-3:]) for file in file_list]"
   ]
  },
  {
   "cell_type": "code",
   "execution_count": null,
   "id": "eastern-advocate",
   "metadata": {},
   "outputs": [],
   "source": [
    "target_list"
   ]
  },
  {
   "cell_type": "code",
   "execution_count": null,
   "id": "vital-copying",
   "metadata": {},
   "outputs": [],
   "source": [
    "for file in target_list:\n",
    "    if not os.path.exists(file):\n",
    "        subprocess.check_call(f'mkdir -p {file}', shell=True)"
   ]
  },
  {
   "cell_type": "code",
   "execution_count": null,
   "id": "excess-gazette",
   "metadata": {},
   "outputs": [],
   "source": [
    "html_list = [glob.glob(file+'/*_report.html')[0] for file in file_list if os.path.exists(glob.glob(file + '/*_report.html')[0])]"
   ]
  },
  {
   "cell_type": "code",
   "execution_count": null,
   "id": "loved-documentary",
   "metadata": {},
   "outputs": [],
   "source": [
    "html_list"
   ]
  },
  {
   "cell_type": "code",
   "execution_count": null,
   "id": "democratic-brother",
   "metadata": {},
   "outputs": [],
   "source": [
    "for i in range(len(html_list)):\n",
    "    subprocess.check_call(f'cp {html_list[i]} {target_list[i]}', shell=True)"
   ]
  },
  {
   "cell_type": "code",
   "execution_count": null,
   "id": "soviet-music",
   "metadata": {},
   "outputs": [],
   "source": []
  },
  {
   "cell_type": "code",
   "execution_count": null,
   "id": "declared-wealth",
   "metadata": {},
   "outputs": [],
   "source": []
  },
  {
   "cell_type": "code",
   "execution_count": null,
   "id": "jewish-florist",
   "metadata": {},
   "outputs": [],
   "source": []
  },
  {
   "cell_type": "code",
   "execution_count": null,
   "id": "hidden-reconstruction",
   "metadata": {},
   "outputs": [],
   "source": [
    "raw_dir = '/SGRNJ06/randd/USER/cjj/celedev/wanheyuan/chang/BCR'\n",
    "target_dir = '/SGRNJ06/randd/USER/cjj/celedev/wanheyuan/match/chang/BCR'"
   ]
  },
  {
   "cell_type": "code",
   "execution_count": null,
   "id": "occupational-malta",
   "metadata": {},
   "outputs": [],
   "source": [
    "file_list = []\n",
    "for i in os.listdir(raw_dir):\n",
    "    file = os.path.join(raw_dir +'/' + i)\n",
    "    if os.path.isdir(file) and file.split('/')[-1] not in ['sjm', 'log']:\n",
    "        file_list.append(file + '/04.summarize')"
   ]
  },
  {
   "cell_type": "code",
   "execution_count": null,
   "id": "choice-bottle",
   "metadata": {},
   "outputs": [],
   "source": [
    "file_list"
   ]
  },
  {
   "cell_type": "code",
   "execution_count": null,
   "id": "uniform-estonia",
   "metadata": {},
   "outputs": [],
   "source": [
    "target_list = ['/'.join(file.split('/')[:-4] + ['match'] + file.split('/')[-4:]) for file in file_list]"
   ]
  },
  {
   "cell_type": "code",
   "execution_count": null,
   "id": "noted-november",
   "metadata": {},
   "outputs": [],
   "source": [
    "target_list"
   ]
  },
  {
   "cell_type": "code",
   "execution_count": null,
   "id": "clinical-pledge",
   "metadata": {},
   "outputs": [],
   "source": [
    "for file in target_list:\n",
    "    if not os.path.exists(file):\n",
    "        subprocess.check_call(f'mkdir -p {file}', shell=True)"
   ]
  },
  {
   "cell_type": "code",
   "execution_count": null,
   "id": "found-regular",
   "metadata": {},
   "outputs": [],
   "source": [
    "for i in range(len(target_list)):\n",
    "    subprocess.check_call(f'cp {file_list[i]}/* {target_list[i]}', shell=True)"
   ]
  },
  {
   "cell_type": "code",
   "execution_count": null,
   "id": "incident-circus",
   "metadata": {},
   "outputs": [],
   "source": []
  },
  {
   "cell_type": "code",
   "execution_count": null,
   "id": "nutritional-honey",
   "metadata": {},
   "outputs": [],
   "source": []
  },
  {
   "cell_type": "code",
   "execution_count": null,
   "id": "academic-recording",
   "metadata": {},
   "outputs": [],
   "source": [
    "# lims rna"
   ]
  },
  {
   "cell_type": "code",
   "execution_count": null,
   "id": "emerging-nigeria",
   "metadata": {},
   "outputs": [],
   "source": [
    "# chang \n",
    "path_list = [\n",
    "    '/SGRNJ03/PROJ03/PROJ_20.lims/P21093001_flVv2/CO-PBMC-2203-011/b2bcfa55-f6e3-4315-a5ad-92d749d6d1ae',\n",
    "    '/SGRNJ03/PROJ03/PROJ_20.lims/P21093001_flVv2/CO-PBMC-2203-013/6992ae72-d7f9-4b05-875c-3cd8bf8b864b',\n",
    "    '/SGRNJ03/PROJ03/PROJ_20.lims/P21093001_flVv2/CO-PBMC-2202-029/73683dfc-8e44-4a17-93f6-bd3b2595f684',\n",
    "    '/SGRNJ03/PROJ03/PROJ_20.lims/P21093001_flVv2/DC20220317-1/c447216d-3e48-4f11-893a-c2a4a94457b6',\n",
    "    '/SGRNJ06/bioinfo/PROJ04/PROJ_22.SC/P21093001_SCOPEv2/temp/DC0002CA_c3/DC0002CA',\n",
    "    '/SGRNJ03/PROJ03/PROJ_20.lims/P21093001_flVv2/DC0002CP/0d41cf40-474f-4907-9153-6a06e77b167e',\n",
    "    '/SGRNJ03/PROJ03/PROJ_20.lims/P21093001_flVv2/DC0004CA/f72a26c6-ce89-4cc0-8f4a-30d458149ec7',\n",
    "    '/SGRNJ03/PROJ03/PROJ_20.lims/P21093001_flVv2/DC0004CP/993c76dd-ea5c-4b7a-a31e-24d47283cce6',\n",
    "    '/SGRNJ03/PROJ03/PROJ_20.lims/P21093001_flVv2/DC0005LI/f5b47501-a4b7-465f-9c94-6c2c9fb2771a',\n",
    "    '/SGRNJ03/PROJ03/PROJ_20.lims/P21093001_flVv2/DC0005CA/6de18811-4502-47f2-b3ec-d03462502174',\n",
    "]\n",
    "path_list = [path + '/call-count_cellranger3' for path in path_list]"
   ]
  },
  {
   "cell_type": "code",
   "execution_count": null,
   "id": "killing-penalty",
   "metadata": {},
   "outputs": [],
   "source": [
    "path_list"
   ]
  },
  {
   "cell_type": "code",
   "execution_count": null,
   "id": "apart-bubble",
   "metadata": {},
   "outputs": [],
   "source": [
    "for path in path_list:\n",
    "    print(os.path.exists(path))"
   ]
  },
  {
   "cell_type": "code",
   "execution_count": null,
   "id": "massive-memorabilia",
   "metadata": {},
   "outputs": [],
   "source": []
  },
  {
   "cell_type": "code",
   "execution_count": null,
   "id": "liberal-newman",
   "metadata": {},
   "outputs": [],
   "source": []
  },
  {
   "cell_type": "code",
   "execution_count": null,
   "id": "excited-threshold",
   "metadata": {},
   "outputs": [],
   "source": [
    "raw_dir = '/SGRNJ06/randd/USER/cjj/celedev/wanheyuan/c3rna'"
   ]
  },
  {
   "cell_type": "code",
   "execution_count": null,
   "id": "falling-frame",
   "metadata": {},
   "outputs": [],
   "source": [
    "path_list = []\n",
    "for i in os.listdir(raw_dir):\n",
    "    path_list.append(raw_dir + f'/{i}')"
   ]
  },
  {
   "cell_type": "code",
   "execution_count": null,
   "id": "optical-synthetic",
   "metadata": {},
   "outputs": [],
   "source": [
    "for path in path_list:\n",
    "    if os.path.isdir(path):\n",
    "        print(path)"
   ]
  },
  {
   "cell_type": "code",
   "execution_count": null,
   "id": "shaped-consequence",
   "metadata": {},
   "outputs": [],
   "source": [
    "del path_list[0]"
   ]
  },
  {
   "cell_type": "code",
   "execution_count": null,
   "id": "dominant-oliver",
   "metadata": {},
   "outputs": [],
   "source": [
    "path_list"
   ]
  },
  {
   "cell_type": "code",
   "execution_count": null,
   "id": "interstate-leonard",
   "metadata": {},
   "outputs": [],
   "source": [
    "file_list = []\n",
    "for path in path_list:\n",
    "    for sub_path in os.listdir(path):\n",
    "        file_list.append(path + '/' + f'{sub_path}')"
   ]
  },
  {
   "cell_type": "code",
   "execution_count": null,
   "id": "circular-logistics",
   "metadata": {},
   "outputs": [],
   "source": [
    "file_list = [file for file in file_list if not file.endswith('list.txt')]"
   ]
  },
  {
   "cell_type": "code",
   "execution_count": null,
   "id": "friendly-adobe",
   "metadata": {},
   "outputs": [],
   "source": [
    "file_list"
   ]
  },
  {
   "cell_type": "code",
   "execution_count": null,
   "id": "crude-quarter",
   "metadata": {},
   "outputs": [],
   "source": [
    "for file in file_list:\n",
    "    try:\n",
    "        subprocess.check_call(f'mkdir -p {file}/05.count/filtered_feature_bc_matrix',shell=True)\n",
    "    except:\n",
    "        file_list.remove(file)"
   ]
  },
  {
   "cell_type": "code",
   "execution_count": null,
   "id": "paperback-parallel",
   "metadata": {},
   "outputs": [],
   "source": [
    "file_list"
   ]
  },
  {
   "cell_type": "code",
   "execution_count": null,
   "id": "virgin-cement",
   "metadata": {},
   "outputs": [],
   "source": [
    "for file in file_list:\n",
    "    cmd = f'cp {file}/* {file}/05.count/filtered_feature_bc_matrix'\n",
    "    try:\n",
    "        subprocess.check_call(cmd,shell=True)\n",
    "    except:\n",
    "        pass"
   ]
  },
  {
   "cell_type": "code",
   "execution_count": null,
   "id": "primary-telling",
   "metadata": {},
   "outputs": [],
   "source": []
  },
  {
   "cell_type": "code",
   "execution_count": null,
   "id": "suspended-invite",
   "metadata": {},
   "outputs": [],
   "source": []
  },
  {
   "cell_type": "code",
   "execution_count": null,
   "id": "loved-monster",
   "metadata": {},
   "outputs": [],
   "source": []
  },
  {
   "cell_type": "code",
   "execution_count": null,
   "id": "consecutive-vegetable",
   "metadata": {},
   "outputs": [],
   "source": [
    "# oss\n",
    "raw_dir = '/SGRNJ06/randd/USER/cjj/celedev/wanheyuan/match/wei'\n",
    "target_dir = '/SGRNJ06/randd/USER/cjj/celedev/aws/20220818/stomach'"
   ]
  },
  {
   "cell_type": "code",
   "execution_count": null,
   "id": "interesting-excerpt",
   "metadata": {},
   "outputs": [],
   "source": [
    "path_list = glob.glob(f'{raw_dir}/*/*')"
   ]
  },
  {
   "cell_type": "code",
   "execution_count": null,
   "id": "floral-corporation",
   "metadata": {},
   "outputs": [],
   "source": [
    "path_list = [sample for sample in path_list if os.path.isdir(sample)]"
   ]
  },
  {
   "cell_type": "code",
   "execution_count": null,
   "id": "informative-preview",
   "metadata": {},
   "outputs": [],
   "source": [
    "path_list = [sample for sample in path_list if not sample.split('/')[-1].endswith('sjm')]\n",
    "path_list = [sample for sample in path_list if not sample.split('/')[-1].endswith('log')]"
   ]
  },
  {
   "cell_type": "code",
   "execution_count": null,
   "id": "plain-strengthening",
   "metadata": {},
   "outputs": [],
   "source": [
    "path_list"
   ]
  },
  {
   "cell_type": "code",
   "execution_count": null,
   "id": "scheduled-transportation",
   "metadata": {},
   "outputs": [],
   "source": [
    "for i in path_list:\n",
    "    sample_name = i.split('/')[-1]\n",
    "    subprocess.check_call(f'mkdir -p {target_dir}/{sample_name}', shell=True)\n",
    "    target_file = ['04.summarize/filtered_contig_annotations.csv','04.summarize/filtered_contig.fasta','05.match/matched_contig_annotations.csv','05.match/matched_contig.fasta']\n",
    "    for file in target_file:\n",
    "        subprocess.check_call(f'cp {i}/{file} {target_dir}/{sample_name}', shell=True)\n",
    "    "
   ]
  },
  {
   "cell_type": "code",
   "execution_count": null,
   "id": "medium-rescue",
   "metadata": {},
   "outputs": [],
   "source": [
    "# 重名\n",
    "path_list_T = path_list[:10]\n",
    "path_list_B = path_list[10:]"
   ]
  },
  {
   "cell_type": "code",
   "execution_count": null,
   "id": "subtle-present",
   "metadata": {},
   "outputs": [],
   "source": [
    "path_list_T"
   ]
  },
  {
   "cell_type": "code",
   "execution_count": null,
   "id": "changed-spare",
   "metadata": {},
   "outputs": [],
   "source": [
    "for i in path_list_B:\n",
    "    sample_name = i.split('/')[-1]\n",
    "    subprocess.check_call(f'mkdir -p {target_dir}/{sample_name}', shell=True)\n",
    "    target_file = ['04.summarize/filtered_contig_annotations.csv','04.summarize/filtered_contig.fasta','05.match/matched_contig_annotations.csv','05.match/matched_contig.fasta']\n",
    "    for file in target_file:\n",
    "        subprocess.check_call(f'cp {i}/{file} {target_dir}/{sample_name}', shell=True)\n",
    "    "
   ]
  },
  {
   "cell_type": "code",
   "execution_count": null,
   "id": "accompanied-approach",
   "metadata": {},
   "outputs": [],
   "source": []
  },
  {
   "cell_type": "code",
   "execution_count": null,
   "id": "characteristic-audit",
   "metadata": {},
   "outputs": [],
   "source": [
    "# CHECK SIZE\n",
    "raw_dir = '/SGRNJ06/randd/USER/cjj/celedev/wanheyuan/match/wei'"
   ]
  },
  {
   "cell_type": "code",
   "execution_count": null,
   "id": "amber-bicycle",
   "metadata": {},
   "outputs": [],
   "source": [
    "file_list = glob.glob(f'{raw_dir}/*/*/*/*')"
   ]
  },
  {
   "cell_type": "code",
   "execution_count": null,
   "id": "fundamental-andrew",
   "metadata": {},
   "outputs": [],
   "source": [
    "pattern = ['filtered_contig_annotations.csv','filtered_contig.fasta','matched_contig_annotations.csv','matched_contig.fasta']"
   ]
  },
  {
   "cell_type": "code",
   "execution_count": null,
   "id": "american-creativity",
   "metadata": {},
   "outputs": [],
   "source": [
    "file_list = [file for file in file_list if file.split('/')[-1] in (pattern)]"
   ]
  },
  {
   "cell_type": "code",
   "execution_count": null,
   "id": "adjustable-anthropology",
   "metadata": {},
   "outputs": [],
   "source": [
    "for file in file_list:\n",
    "    print(os.path.getsize(file))"
   ]
  },
  {
   "cell_type": "code",
   "execution_count": null,
   "id": "brilliant-african",
   "metadata": {},
   "outputs": [],
   "source": []
  },
  {
   "cell_type": "code",
   "execution_count": null,
   "id": "stone-flour",
   "metadata": {},
   "outputs": [],
   "source": [
    "dir1='/SGRNJ06/randd/USER/cjj/celedev/wanheyuan/'\n",
    "dir2='/SGRNJ06/randd/USER/cjj/celedev/wanheyuan/match'\n",
    "dir3='/SGRNJ06/randd/USER/cjj/celedev/aws/check_size/20220818'"
   ]
  },
  {
   "cell_type": "code",
   "execution_count": null,
   "id": "under-artwork",
   "metadata": {},
   "outputs": [],
   "source": [
    "dir1_list = glob.glob(f'{dir1}/*')\n",
    "dir2_list = glob.glob(f'{dir2}/*')\n",
    "dir3_list = glob.glob(f'{dir3}/*')"
   ]
  },
  {
   "cell_type": "code",
   "execution_count": null,
   "id": "lesser-mixture",
   "metadata": {},
   "outputs": [],
   "source": [
    "dir1_list = dir1_list[1:6]\n",
    "dir3_list = [dir3_list[2],dir3_list[1],dir3_list[0],dir3_list[-1],dir3_list[3]]"
   ]
  },
  {
   "cell_type": "code",
   "execution_count": null,
   "id": "based-toddler",
   "metadata": {},
   "outputs": [],
   "source": [
    "dir1_list"
   ]
  },
  {
   "cell_type": "code",
   "execution_count": null,
   "id": "destroyed-integrity",
   "metadata": {},
   "outputs": [],
   "source": [
    "dir2_list"
   ]
  },
  {
   "cell_type": "code",
   "execution_count": null,
   "id": "increased-replacement",
   "metadata": {},
   "outputs": [],
   "source": [
    "dir3_list"
   ]
  },
  {
   "cell_type": "code",
   "execution_count": null,
   "id": "decreased-component",
   "metadata": {},
   "outputs": [],
   "source": [
    "\n",
    "    contig_csv_1 = glob.glob(f'{dir1_list[3]}/*/*/04.summarize/filtered_contig_annotations.csv')\n",
    "    contig_csv_2 = glob.glob(f'{dir2_list[3]}/*/*/04.summarize/filtered_contig_annotations.csv')\n",
    "    contig_csv_3 = glob.glob(f'{dir3_list[3]}/*/filtered_contig_annotations.csv')"
   ]
  },
  {
   "cell_type": "code",
   "execution_count": null,
   "id": "approximate-prison",
   "metadata": {},
   "outputs": [],
   "source": [
    "contig_csv_1.sort()"
   ]
  },
  {
   "cell_type": "code",
   "execution_count": null,
   "id": "threaded-slovak",
   "metadata": {},
   "outputs": [],
   "source": [
    "contig_csv_2.sort()"
   ]
  },
  {
   "cell_type": "code",
   "execution_count": null,
   "id": "simplified-riding",
   "metadata": {},
   "outputs": [],
   "source": [
    "contig_csv_3.sort()"
   ]
  },
  {
   "cell_type": "code",
   "execution_count": null,
   "id": "weird-brunei",
   "metadata": {},
   "outputs": [],
   "source": [
    "contig_csv_1"
   ]
  },
  {
   "cell_type": "code",
   "execution_count": null,
   "id": "acceptable-reason",
   "metadata": {},
   "outputs": [],
   "source": [
    "contig_csv_2.sort(key=lambda x:x.split('/')[-3])"
   ]
  },
  {
   "cell_type": "code",
   "execution_count": null,
   "id": "fresh-shore",
   "metadata": {},
   "outputs": [],
   "source": [
    "contig_csv_3.sort(key=lambda x:x.split('/')[-2])"
   ]
  },
  {
   "cell_type": "code",
   "execution_count": null,
   "id": "legislative-shadow",
   "metadata": {},
   "outputs": [],
   "source": [
    "contig_csv_2"
   ]
  },
  {
   "cell_type": "code",
   "execution_count": null,
   "id": "historic-dimension",
   "metadata": {},
   "outputs": [],
   "source": [
    "contig_csv_3"
   ]
  },
  {
   "cell_type": "code",
   "execution_count": null,
   "id": "electoral-vienna",
   "metadata": {},
   "outputs": [],
   "source": [
    "for i in range(len(contig_csv_2)):\n",
    "    print(os.path.getsize(contig_csv_2[i]) == os.path.getsize(contig_csv_3[i]))"
   ]
  },
  {
   "cell_type": "code",
   "execution_count": null,
   "id": "finnish-driving",
   "metadata": {},
   "outputs": [],
   "source": []
  },
  {
   "cell_type": "code",
   "execution_count": null,
   "id": "fuzzy-speed",
   "metadata": {},
   "outputs": [],
   "source": []
  },
  {
   "cell_type": "code",
   "execution_count": null,
   "id": "choice-superior",
   "metadata": {},
   "outputs": [],
   "source": []
  },
  {
   "cell_type": "code",
   "execution_count": null,
   "id": "serial-income",
   "metadata": {},
   "outputs": [],
   "source": [
    "import pysam \n",
    "import pandas as pd"
   ]
  },
  {
   "cell_type": "code",
   "execution_count": null,
   "id": "variable-technology",
   "metadata": {},
   "outputs": [],
   "source": [
    "whitelist = '/SGRNJ06/randd/USER/cjj/TESTDATA/test_rna/20220822_vx/whitelist'"
   ]
  },
  {
   "cell_type": "code",
   "execution_count": null,
   "id": "rotary-island",
   "metadata": {},
   "outputs": [],
   "source": [
    "whitelist =pd.read_csv(whitelist,header=None)"
   ]
  },
  {
   "cell_type": "code",
   "execution_count": null,
   "id": "lesbian-norman",
   "metadata": {},
   "outputs": [],
   "source": [
    "whitelist.rename(columns={0:'bc'},inplace=True)"
   ]
  },
  {
   "cell_type": "code",
   "execution_count": null,
   "id": "documentary-honduras",
   "metadata": {},
   "outputs": [],
   "source": [
    "cbs = set(whitelist.bc)"
   ]
  },
  {
   "cell_type": "code",
   "execution_count": null,
   "id": "norman-water",
   "metadata": {},
   "outputs": [],
   "source": [
    "len(cbs)"
   ]
  },
  {
   "cell_type": "code",
   "execution_count": null,
   "id": "classical-department",
   "metadata": {},
   "outputs": [],
   "source": [
    "fq_file = '/SGRNJ06/DATA04/22_08/2022_08_20/RD20073101/PBMC_GOT_SL1_Nlib/R220815010_R1.fastq.gz'"
   ]
  },
  {
   "cell_type": "code",
   "execution_count": null,
   "id": "authorized-lesbian",
   "metadata": {},
   "outputs": [],
   "source": [
    "a = 0\n",
    "with pysam.FastxFile(fq_file, 'r') as f:\n",
    "    for read in f:\n",
    "        if read.sequence[:9] in cbs:\n",
    "            a +=1"
   ]
  },
  {
   "cell_type": "code",
   "execution_count": null,
   "id": "communist-walker",
   "metadata": {},
   "outputs": [],
   "source": [
    "a"
   ]
  },
  {
   "cell_type": "code",
   "execution_count": null,
   "id": "mounted-drove",
   "metadata": {},
   "outputs": [],
   "source": [
    "whitelist = '/SGRNJ06/randd/USER/cjj/TESTDATA/test_rna/20220822_vx/whitelist'"
   ]
  },
  {
   "cell_type": "code",
   "execution_count": null,
   "id": "expressed-madrid",
   "metadata": {},
   "outputs": [],
   "source": [
    "whitelist =pd.read_csv(whitelist,header=None)"
   ]
  },
  {
   "cell_type": "code",
   "execution_count": null,
   "id": "excessive-glass",
   "metadata": {},
   "outputs": [],
   "source": [
    "whitelist.rename(columns={0:'bc'},inplace=True)"
   ]
  },
  {
   "cell_type": "code",
   "execution_count": null,
   "id": "vertical-cherry",
   "metadata": {},
   "outputs": [],
   "source": [
    "whitelist"
   ]
  },
  {
   "cell_type": "code",
   "execution_count": null,
   "id": "allied-coalition",
   "metadata": {},
   "outputs": [],
   "source": [
    "whitelist1 = whitelist.copy()"
   ]
  },
  {
   "cell_type": "code",
   "execution_count": null,
   "id": "elegant-fairy",
   "metadata": {},
   "outputs": [],
   "source": [
    "whitelist1.bc = whitelist1.bc.apply(lambda x:x[1:])"
   ]
  },
  {
   "cell_type": "code",
   "execution_count": null,
   "id": "eight-bridges",
   "metadata": {},
   "outputs": [],
   "source": [
    "whitelist1 = whitelist1.head(96)"
   ]
  },
  {
   "cell_type": "code",
   "execution_count": null,
   "id": "comfortable-invalid",
   "metadata": {},
   "outputs": [],
   "source": [
    "whitelist1 = whitelist1.bc.tolist()"
   ]
  },
  {
   "cell_type": "code",
   "execution_count": null,
   "id": "embedded-values",
   "metadata": {},
   "outputs": [],
   "source": [
    "whitelist1"
   ]
  },
  {
   "cell_type": "code",
   "execution_count": null,
   "id": "divided-fifteen",
   "metadata": {},
   "outputs": [],
   "source": [
    "with open('/SGRNJ06/randd/USER/cjj/TESTDATA/test_rna/20220822_vx/whitelist', 'a+') as f:\n",
    "    f.write('\\n')\n",
    "    for i in whitelist1:\n",
    "        f.write(str(i) + '\\n')"
   ]
  },
  {
   "cell_type": "code",
   "execution_count": null,
   "id": "special-annex",
   "metadata": {},
   "outputs": [],
   "source": []
  },
  {
   "cell_type": "code",
   "execution_count": null,
   "id": "indirect-round",
   "metadata": {},
   "outputs": [],
   "source": []
  },
  {
   "cell_type": "code",
   "execution_count": null,
   "id": "minimal-beads",
   "metadata": {},
   "outputs": [],
   "source": []
  },
  {
   "cell_type": "code",
   "execution_count": null,
   "id": "entire-hampton",
   "metadata": {},
   "outputs": [],
   "source": [
    "library(Seurat)\n",
    "library(tidyverse)\n",
    "library(argparse)\n",
    "library(ggplot2)\n",
    "library(stringr)\n",
    "library(dplyr)"
   ]
  },
  {
   "cell_type": "code",
   "execution_count": null,
   "id": "surprised-library",
   "metadata": {},
   "outputs": [],
   "source": [
    "rds = readRDS('/SGRNJ06/bioinfo/PROJ04/PROJ_22.lims/MultiResult/P21093001/2022-08-12/father_cluster/batch_1/call-integration/P21093001.diff_PRO.rds')"
   ]
  },
  {
   "cell_type": "code",
   "execution_count": null,
   "id": "intense-december",
   "metadata": {},
   "outputs": [],
   "source": [
    "Idents(rds) <- \"sample\"\n",
    "rna <- subset(rds,idents = c('CO-PBMC-2202-029_c3'))"
   ]
  },
  {
   "cell_type": "code",
   "execution_count": null,
   "id": "polyphonic-greensboro",
   "metadata": {},
   "outputs": [],
   "source": [
    "vdj <- read.table('/SGRNJ06/randd/USER/cjj/celedev/wanheyuan/20220822/chang/BCR/CO-PBMC-2202-029-B/05.match/matched_contig_annotations.csv', sep=',', header=T)"
   ]
  },
  {
   "cell_type": "code",
   "execution_count": null,
   "id": "certified-hobby",
   "metadata": {},
   "outputs": [],
   "source": [
    "df <- rna@meta.data\n",
    "df$barcode <- rownames(df)"
   ]
  },
  {
   "cell_type": "code",
   "execution_count": null,
   "id": "black-holocaust",
   "metadata": {},
   "outputs": [],
   "source": [
    "if (grepl(\"_\", rownames(df)[1])){\n",
    "  vdj$shi<-paste(\"CO-PBMC-2202-029_c3\",\"_\",sep=\"\")\n",
    "  vdj$barcode<-str_c(vdj$shi,vdj$barcode)\n",
    "}"
   ]
  },
  {
   "cell_type": "code",
   "execution_count": null,
   "id": "immune-drain",
   "metadata": {},
   "outputs": [],
   "source": [
    "cells <- vdj\n",
    "barcodes <- unique(cells$barcode)"
   ]
  },
  {
   "cell_type": "code",
   "execution_count": null,
   "id": "wooden-belief",
   "metadata": {},
   "outputs": [],
   "source": [
    "length(barcodes)"
   ]
  },
  {
   "cell_type": "code",
   "execution_count": null,
   "id": "virtual-identification",
   "metadata": {},
   "outputs": [],
   "source": [
    "filter_df <- filter(df, barcode %in% barcodes)\n",
    "res <- table(filter_df$raw_cluster)\n",
    "res <- as.data.frame(res)"
   ]
  },
  {
   "cell_type": "code",
   "execution_count": null,
   "id": "hollow-slovenia",
   "metadata": {},
   "outputs": [],
   "source": [
    "res"
   ]
  },
  {
   "cell_type": "code",
   "execution_count": null,
   "id": "passive-stewart",
   "metadata": {},
   "outputs": [],
   "source": [
    "meta = rna@meta.data\n",
    "#meta$Class = 'NA'"
   ]
  },
  {
   "cell_type": "code",
   "execution_count": null,
   "id": "primary-measurement",
   "metadata": {},
   "outputs": [],
   "source": [
    "meta"
   ]
  },
  {
   "cell_type": "code",
   "execution_count": null,
   "id": "advised-australia",
   "metadata": {},
   "outputs": [],
   "source": [
    "meta$Class <- ifelse(rownames(meta) %in% barcodes, 'T/BCR', NA)"
   ]
  },
  {
   "cell_type": "code",
   "execution_count": null,
   "id": "liable-small",
   "metadata": {},
   "outputs": [],
   "source": [
    "table(meta$Class)"
   ]
  },
  {
   "cell_type": "code",
   "execution_count": null,
   "id": "given-michigan",
   "metadata": {},
   "outputs": [],
   "source": [
    "meta <- meta %>% drop_na(nCount_RNA)"
   ]
  },
  {
   "cell_type": "code",
   "execution_count": null,
   "id": "focused-aquatic",
   "metadata": {},
   "outputs": [],
   "source": [
    "meta"
   ]
  },
  {
   "cell_type": "code",
   "execution_count": null,
   "id": "arbitrary-philippines",
   "metadata": {},
   "outputs": [],
   "source": [
    "table(meta$cluster)"
   ]
  },
  {
   "cell_type": "code",
   "execution_count": null,
   "id": "polished-president",
   "metadata": {},
   "outputs": [],
   "source": [
    "rds1 = '/SGRNJ06/bioinfo/PROJ04/PROJ_22.lims/MultiResult/P21093001_C1/2022-08-13/father_cluster/batch_1/call-integration/P21093001_C1.diff_PRO.rds'\n",
    "rds2 = '/SGRNJ06/bioinfo/PROJ04/PROJ_22.lims/MultiResult/P21093001/2022-08-12/father_cluster/batch_1/call-integration/P21093001.diff_PRO.rds'\n",
    "rds3 = '/SGRNJ06/bioinfo/PROJ04/PROJ_22.lims/MultiResult/P21100502/2022-08-13/father_cluster/batch_1/call-integration/P21100502.diff_PRO.rds'\n",
    "rds4 = '/SGRNJ06/bioinfo/PROJ04/PROJ_22.lims/MultiResult/P21102801/2022-08-13/father_cluster/batch_1/call-integration/P21102801.diff_PRO.rds'\n",
    "rds5 = '/SGRNJ06/bioinfo/PROJ04/PROJ_22.lims/MultiResult/P21110601_C1/2022-08-13/father_cluster/batch_1/call-integration/P21110601_C1.diff_PRO.rds'"
   ]
  },
  {
   "cell_type": "code",
   "execution_count": null,
   "id": "multiple-heath",
   "metadata": {},
   "outputs": [],
   "source": [
    "rds1 = readRDS(rds1)\n",
    "rds2 = readRDS(rds2)\n",
    "rds3 = readRDS(rds3)\n",
    "rds4 = readRDS(rds4)\n",
    "rds5 = readRDS(rds5)"
   ]
  },
  {
   "cell_type": "code",
   "execution_count": null,
   "id": "broke-bibliography",
   "metadata": {},
   "outputs": [],
   "source": [
    "for (i in c(rds1,rds2,rds3,rds4,rds5)){\n",
    "    print(table(i@meta.data$sample))\n",
    "    print('========================')\n",
    "}"
   ]
  },
  {
   "cell_type": "code",
   "execution_count": null,
   "id": "rough-being",
   "metadata": {},
   "outputs": [],
   "source": [
    "\n",
    "Idents(rds4) <- \"sample\"\n",
    "rna44 <- subset(rds4,idents = c('os0019_c3'))"
   ]
  },
  {
   "cell_type": "code",
   "execution_count": null,
   "id": "religious-reggae",
   "metadata": {},
   "outputs": [],
   "source": [
    "table(rna44@meta.data$cluster)"
   ]
  },
  {
   "cell_type": "code",
   "execution_count": null,
   "id": "portable-schema",
   "metadata": {},
   "outputs": [],
   "source": []
  },
  {
   "cell_type": "code",
   "execution_count": null,
   "id": "undefined-humidity",
   "metadata": {},
   "outputs": [],
   "source": [
    "import os\n",
    "import subprocess\n",
    "import glob"
   ]
  },
  {
   "cell_type": "code",
   "execution_count": null,
   "id": "demographic-reynolds",
   "metadata": {},
   "outputs": [],
   "source": [
    "target_dir = '/SGRNJ06/randd/USER/cjj/celedev/aws/20220824/blood'\n",
    "raw_dir = glob.glob('/SGRNJ06/randd/USER/cjj/celedev/wanheyuan/20220822/xueguan/*')"
   ]
  },
  {
   "cell_type": "code",
   "execution_count": null,
   "id": "close-superior",
   "metadata": {},
   "outputs": [],
   "source": [
    "file_list = []\n",
    "for x in raw_dir:\n",
    "    for i in os.listdir(x):\n",
    "        file = os.path.join(x +'/' + i)\n",
    "        if os.path.isdir(file) and file.split('/')[-1] not in ['sjm', 'log']:\n",
    "            file_list.append(file)"
   ]
  },
  {
   "cell_type": "code",
   "execution_count": null,
   "id": "severe-lancaster",
   "metadata": {},
   "outputs": [],
   "source": [
    "file_list"
   ]
  },
  {
   "cell_type": "code",
   "execution_count": null,
   "id": "suited-ancient",
   "metadata": {},
   "outputs": [],
   "source": [
    "for i in file_list:\n",
    "    sample_name = i.split('/')[-1]\n",
    "    os.system(f'mkdir -p {target_dir}/{sample_name}')\n",
    "    os.system(f'cp {i}/04.summarize/filtered_contig_annotations.csv {target_dir}/{sample_name}')\n",
    "    os.system(f'cp {i}/04.summarize/filtered_contig.fasta {target_dir}/{sample_name}')\n",
    "    os.system(f'cp {i}/05.match/matched_contig_annotations.csv {target_dir}/{sample_name}')\n",
    "    os.system(f'cp {i}/05.match/matched_contig.fasta {target_dir}/{sample_name}')"
   ]
  },
  {
   "cell_type": "code",
   "execution_count": null,
   "id": "talented-charlotte",
   "metadata": {},
   "outputs": [],
   "source": []
  },
  {
   "cell_type": "code",
   "execution_count": null,
   "id": "logical-logistics",
   "metadata": {},
   "outputs": [],
   "source": []
  },
  {
   "cell_type": "code",
   "execution_count": null,
   "id": "earlier-british",
   "metadata": {},
   "outputs": [],
   "source": []
  },
  {
   "cell_type": "code",
   "execution_count": null,
   "id": "under-cologne",
   "metadata": {},
   "outputs": [],
   "source": [
    "# check size"
   ]
  },
  {
   "cell_type": "code",
   "execution_count": null,
   "id": "abroad-sugar",
   "metadata": {},
   "outputs": [],
   "source": [
    "upload_file = '/SGRNJ06/randd/USER/cjj/celedev/aws/check_size/20220824/osteosarcoma/*/*'\n",
    "raw_file = '/SGRNJ06/randd/USER/cjj/celedev/wanheyuan/20220822/gurou/*/*/*/*'"
   ]
  },
  {
   "cell_type": "code",
   "execution_count": null,
   "id": "beneficial-integer",
   "metadata": {},
   "outputs": [],
   "source": [
    "upload_file_list = glob.glob(upload_file)"
   ]
  },
  {
   "cell_type": "code",
   "execution_count": null,
   "id": "noted-large",
   "metadata": {},
   "outputs": [],
   "source": [
    "raw_file_list = glob.glob(raw_file)"
   ]
  },
  {
   "cell_type": "code",
   "execution_count": null,
   "id": "higher-crazy",
   "metadata": {},
   "outputs": [],
   "source": [
    "raw_file_list = [i for i in raw_file_list if i.split('/')[-1] in ['filtered_contig_annotations.csv','filtered_contig.fasta', 'matched_contig_annotations.csv', 'matched_contig.fasta']]"
   ]
  },
  {
   "cell_type": "code",
   "execution_count": null,
   "id": "sealed-israeli",
   "metadata": {},
   "outputs": [],
   "source": [
    "len(upload_file_list)"
   ]
  },
  {
   "cell_type": "code",
   "execution_count": null,
   "id": "clean-trinity",
   "metadata": {},
   "outputs": [],
   "source": [
    "len(raw_file_list)"
   ]
  },
  {
   "cell_type": "code",
   "execution_count": null,
   "id": "brave-intermediate",
   "metadata": {},
   "outputs": [],
   "source": [
    "upload_file_list = sorted(upload_file_list, key=lambda x: (x.split('/')[-2], x.split('/')[-1]))\n",
    "raw_file_list = sorted(raw_file_list, key=lambda x: (x.split('/')[-3], x.split('/')[-1]))"
   ]
  },
  {
   "cell_type": "code",
   "execution_count": null,
   "id": "correct-fighter",
   "metadata": {},
   "outputs": [],
   "source": [
    "#upload_file_list"
   ]
  },
  {
   "cell_type": "code",
   "execution_count": null,
   "id": "suspended-insulin",
   "metadata": {},
   "outputs": [],
   "source": [
    "#raw_file_list"
   ]
  },
  {
   "cell_type": "code",
   "execution_count": null,
   "id": "increasing-shopping",
   "metadata": {},
   "outputs": [],
   "source": [
    "for i in range(len(upload_file_list)):\n",
    "    if not os.path.getsize(upload_file_list[i]) == os.path.getsize(raw_file_list[i]):\n",
    "        print(True)"
   ]
  },
  {
   "cell_type": "code",
   "execution_count": null,
   "id": "emerging-migration",
   "metadata": {},
   "outputs": [],
   "source": []
  },
  {
   "cell_type": "code",
   "execution_count": null,
   "id": "smart-frost",
   "metadata": {},
   "outputs": [],
   "source": []
  },
  {
   "cell_type": "code",
   "execution_count": null,
   "id": "faced-receptor",
   "metadata": {},
   "outputs": [],
   "source": [
    "import pandas as pd \n",
    "import pysam"
   ]
  },
  {
   "cell_type": "code",
   "execution_count": null,
   "id": "greater-romania",
   "metadata": {},
   "outputs": [],
   "source": [
    "linker = 'GTGGTATCAACGCAGAGT'"
   ]
  },
  {
   "cell_type": "code",
   "execution_count": null,
   "id": "national-bikini",
   "metadata": {},
   "outputs": [],
   "source": [
    "fq1 = '/SGRNJ06/DATA04/22_08/2022_08_23/RD21010602/mspl-Mix2-0818NEB/R220818034_R1.fastq.gz'"
   ]
  },
  {
   "cell_type": "code",
   "execution_count": null,
   "id": "trained-algeria",
   "metadata": {},
   "outputs": [],
   "source": [
    "count = 0\n",
    "with pysam.FastxFile(fq1) as f:\n",
    "    for read in f:\n",
    "        if linker in read.sequence and not read.sequence.startswith(linker):\n",
    "            count+=1"
   ]
  },
  {
   "cell_type": "code",
   "execution_count": null,
   "id": "brief-substitute",
   "metadata": {},
   "outputs": [],
   "source": [
    "'GTGGTATCAACGCAGAGT'in'NAGAGGGAGGTGGCTGTCAGCTTCTCAATATGCTCTTAAGTGCTGGGCCATTTTTACAGCTCTTCAGATTTCATTTTTGGGTTTGTTTTCTTCTTGTTTTTTTTTGTTGTTGTTGTTATTTATTTATTTATTTATTTTTGAGACAGATTT'"
   ]
  },
  {
   "cell_type": "code",
   "execution_count": null,
   "id": "injured-sound",
   "metadata": {},
   "outputs": [],
   "source": [
    "'NGCCTGTGATGCATTTATTTCAGGCTGTCACTTGTGTCTCACTGATTCACAGGTACTTCTGTAAACCCTTGATGCAACCTGTTGAACTAATTAATACAAAAATATTTTGTCAATAATGGAAGCTGAATTAAAAGTAAACCAAAAACTACC'.startswith('NGCCTGTGATGCATTTATTT')"
   ]
  },
  {
   "cell_type": "code",
   "execution_count": null,
   "id": "velvet-mailing",
   "metadata": {},
   "outputs": [],
   "source": [
    "count"
   ]
  },
  {
   "cell_type": "code",
   "execution_count": null,
   "id": "mexican-winner",
   "metadata": {},
   "outputs": [],
   "source": []
  },
  {
   "cell_type": "code",
   "execution_count": null,
   "id": "foster-planet",
   "metadata": {},
   "outputs": [],
   "source": []
  },
  {
   "cell_type": "code",
   "execution_count": null,
   "id": "historic-nurse",
   "metadata": {},
   "outputs": [],
   "source": [
    "library(Seurat)\n",
    "library(tidyverse)\n",
    "library(argparse)\n",
    "library(ggplot2)\n",
    "library(stringr)\n",
    "library(dplyr)"
   ]
  },
  {
   "cell_type": "code",
   "execution_count": null,
   "id": "thrown-clear",
   "metadata": {},
   "outputs": [],
   "source": [
    "RAW1 <- Read10X(data.dir = '/SGRNJ06/randd/public/temp/Clu-mes_mtx/Clu-mes_cellranger3_matrix_10X')"
   ]
  },
  {
   "cell_type": "code",
   "execution_count": null,
   "id": "developmental-theta",
   "metadata": {},
   "outputs": [],
   "source": [
    "PRO1 <- CreateSeuratObject(counts = RAW1, project = 'test', min.cells = 5)"
   ]
  },
  {
   "cell_type": "code",
   "execution_count": null,
   "id": "aging-guess",
   "metadata": {},
   "outputs": [],
   "source": [
    "# nFeature_RNA代表每个细胞测到的基因数目。 median_gene\n",
    "# nCount_RNA代表每个细胞测到所有基因的表达量之和。 median_umi\n",
    "# 中值UMI total_counts\n",
    "# 中值基因 n_genes_by_counts"
   ]
  },
  {
   "cell_type": "code",
   "execution_count": null,
   "id": "executive-complex",
   "metadata": {},
   "outputs": [],
   "source": [
    "PRO1@meta.data"
   ]
  },
  {
   "cell_type": "code",
   "execution_count": null,
   "id": "joined-verification",
   "metadata": {},
   "outputs": [],
   "source": [
    "median(PRO1@meta.data$nCount_RNA)"
   ]
  },
  {
   "cell_type": "code",
   "execution_count": null,
   "id": "exciting-baseline",
   "metadata": {},
   "outputs": [],
   "source": [
    "median(PRO1@meta.data$nFeature_RNA)"
   ]
  },
  {
   "cell_type": "code",
   "execution_count": null,
   "id": "demonstrated-cheat",
   "metadata": {},
   "outputs": [],
   "source": [
    "PRO1@active.ident"
   ]
  },
  {
   "cell_type": "code",
   "execution_count": null,
   "id": "obvious-clearing",
   "metadata": {},
   "outputs": [],
   "source": [
    "RAW1"
   ]
  },
  {
   "cell_type": "code",
   "execution_count": null,
   "id": "raising-brass",
   "metadata": {},
   "outputs": [],
   "source": []
  },
  {
   "cell_type": "code",
   "execution_count": null,
   "id": "temporal-superintendent",
   "metadata": {},
   "outputs": [],
   "source": []
  },
  {
   "cell_type": "code",
   "execution_count": null,
   "id": "related-wells",
   "metadata": {},
   "outputs": [],
   "source": []
  },
  {
   "cell_type": "code",
   "execution_count": null,
   "id": "caroline-magic",
   "metadata": {},
   "outputs": [],
   "source": [
    "library(Seurat)\n",
    "library(tidyverse)\n",
    "library(argparse)\n",
    "library(ggplot2)\n",
    "library(stringr)\n",
    "library(dplyr)"
   ]
  },
  {
   "cell_type": "code",
   "execution_count": null,
   "id": "separate-employee",
   "metadata": {},
   "outputs": [],
   "source": [
    "rds <- readRDS('/SGRNJ06/randd/lims_result_rd/MultiResult/RD20102301_220926_homo_Stomach/2022-09-27/father_cluster/batch_1/call-integration/RD20102301_220926_homo_Stomach.diff_PRO.rds')\n",
    "Idents(rds) <- \"orig.ident\"\n",
    "rna <- subset(rds,idents = c('S220901TESX1'))\n",
    "\n",
    "tcrt <- read.table('/SGRNJ06/randd/PROJECT/RD20102301_DZH/P21090901_Drug_CART/20220923_4/ZD020_S2_M6_CAR/06.filter_virus/ZD020_S2_M6_CAR_filtered_UMI.csv', sep=',', header=T)\n",
    "tcrt$shi<-paste(\"S220901TESX1\",\"_\",sep=\"\")\n",
    "tcrt$barcode<-str_c(tcrt$shi,tcrt$barcode)\n",
    "tcrt <- subset(tcrt, sum_UMI!=0)\n",
    "\n",
    "barcodes <- unique(tcrt$barcode)"
   ]
  },
  {
   "cell_type": "code",
   "execution_count": null,
   "id": "gross-treasure",
   "metadata": {},
   "outputs": [],
   "source": [
    "c(barcodes)"
   ]
  },
  {
   "cell_type": "code",
   "execution_count": null,
   "id": "rubber-interaction",
   "metadata": {},
   "outputs": [],
   "source": [
    "df <- rna@meta.data\n",
    "df$barcode <- rownames(df)"
   ]
  },
  {
   "cell_type": "code",
   "execution_count": null,
   "id": "irish-prime",
   "metadata": {},
   "outputs": [],
   "source": [
    "filter_df <- filter(df, barcode == c(barcodes))\n",
    "res <- table(filter_df$seurat_clusters)\n",
    "res <- as.data.frame(res)"
   ]
  },
  {
   "cell_type": "code",
   "execution_count": null,
   "id": "passing-folder",
   "metadata": {},
   "outputs": [],
   "source": [
    "df"
   ]
  },
  {
   "cell_type": "code",
   "execution_count": null,
   "id": "stupid-medicaid",
   "metadata": {},
   "outputs": [],
   "source": [
    "subset(df, df$barcode =='S220901TESX1_GTCTGTCAAATCCGTCCGACACAC')"
   ]
  },
  {
   "cell_type": "code",
   "execution_count": null,
   "id": "entire-darkness",
   "metadata": {},
   "outputs": [],
   "source": [
    "out_csv = stringr::str_glue(\"{args$outdir}/{args$sample}_match_barcodes_celltypes_distribution.txt\")\n",
    "write_csv(res,file=out_csv)\n",
    "\n",
    "meta = rna@meta.data\n",
    "meta$Class = 'NA'\n",
    "meta[barcodes,'Class'] = 'positive'\n",
    "meta <- meta %>% drop_na(nCount_RNA)\n",
    "table(meta$Class == 'positive')\n",
    "rna@meta.data = meta\n",
    "# rna <- RunUMAP(rna, dims = 1:20)\n",
    "\n",
    "outP = stringr::str_glue(\"{args$outdir}/{args$sample}_cluster_umap.png\")\n",
    "png(outP, height=1000, width=1000)\n",
    "UMAPPlot(rna,group.by='seurat_cluster',label=TRUE)\n",
    "dev.off()\n",
    "\n",
    "outP1 = stringr::str_glue(\"{args$outdir}/{args$sample}_umapplot.png\")\n",
    "png(outP1, height=1000, width=1000)\n",
    "UMAPPlot(rna,group.by='Class',cols=c('grey','red'))\n",
    "dev.off()\n",
    "\n",
    "outP2 = stringr::str_glue(\"{args$outdir}/{args$sample}_assign.png\")\n",
    "png(outP2, height=1000, width=1000)\n",
    "UMAPPlot(rna,group.by='cluster',label=TRUE,label.box=TRUE)\n",
    "dev.off()\n",
    "\n",
    "meta = rna@meta.data\n",
    "outMeta = stringr::str_glue(\"{args$outdir}/{args$sample}_metadata.tsv\")\n",
    "write.table(as.data.frame(meta), file=outMeta, sep='\\t')"
   ]
  },
  {
   "cell_type": "code",
   "execution_count": null,
   "id": "electoral-control",
   "metadata": {},
   "outputs": [],
   "source": []
  },
  {
   "cell_type": "code",
   "execution_count": null,
   "id": "apart-import",
   "metadata": {},
   "outputs": [],
   "source": [
    "import pandas as pd\n",
    "import numpy as np "
   ]
  },
  {
   "cell_type": "code",
   "execution_count": null,
   "id": "guided-medicaid",
   "metadata": {},
   "outputs": [],
   "source": [
    "    def sub_sample(fraction, df_cell, cell_read_index):\n",
    "        \"\"\"\n",
    "        umi_saturation = 1 - n_deduped_reads / n_umis\n",
    "        read_saturation = 1 - n_deduped_reads / n_reads\n",
    "        Currently the html report shows umi_saturation.\n",
    "\n",
    "        n_deduped_reads = Number of unique (valid cell-barcode, valid UMI, gene) combinations among confidently mapped reads.\n",
    "        n_umis = Total number of (confidently mapped, valid cell-barcode, valid UMI) UMIs.\n",
    "        n_reads = Total number of (confidently mapped, valid cell-barcode, valid UMI) reads.\n",
    "        Args:\n",
    "            fration: subsmaple fration\n",
    "            df_cell: in cell df with (Barcode geneID UMI count) \n",
    "            cell_read_index: df_cell repeat index\n",
    "        \"\"\"\n",
    "        cell_read = df_cell['count'].sum()\n",
    "        frac_n_read = int(cell_read * fraction)\n",
    "        subsample_read_index = cell_read_index[:frac_n_read]\n",
    "        index_dedup, counts = np.unique(subsample_read_index, return_counts=True)\n",
    "        n_count_once = np.sum(counts == 1)\n",
    "        # total = UMI\n",
    "        umi_total = len(index_dedup)\n",
    "        umi_saturation = round((1 - n_count_once / umi_total) * 100, 2)\n",
    "        read_total = frac_n_read\n",
    "        read_saturation = round((1 - n_count_once / read_total) * 100, 2)\n",
    "\n",
    "        # gene median\n",
    "        df_cell_subsample = df_cell.loc[index_dedup, ]\n",
    "        geneNum_median = float(df_cell_subsample.groupby(\n",
    "            'Barcode').agg({'geneID': 'nunique'}).median())\n",
    "\n",
    "        return umi_saturation, read_saturation, geneNum_median"
   ]
  },
  {
   "cell_type": "code",
   "execution_count": null,
   "id": "satisfied-vaccine",
   "metadata": {},
   "outputs": [],
   "source": [
    "df = pd.read_table('/SGRNJ06/randd/USER/cjj/celedev/wanheyuan/20220905cs/DC0004CA/05.count/DC0004CA_count_detail.txt', header=0)"
   ]
  },
  {
   "cell_type": "code",
   "execution_count": null,
   "id": "bottom-hobby",
   "metadata": {},
   "outputs": [],
   "source": [
    "df_cell = df"
   ]
  },
  {
   "cell_type": "code",
   "execution_count": null,
   "id": "dedicated-period",
   "metadata": {},
   "outputs": [],
   "source": [
    "cell_read_index = np.array(df_cell.index.repeat(df_cell['count']), dtype='int32')"
   ]
  },
  {
   "cell_type": "code",
   "execution_count": null,
   "id": "regular-welsh",
   "metadata": {},
   "outputs": [],
   "source": [
    "cell_read_index"
   ]
  },
  {
   "cell_type": "code",
   "execution_count": null,
   "id": "respective-interpretation",
   "metadata": {},
   "outputs": [],
   "source": [
    "cell_read = df_cell['count'].sum()\n",
    "read_total = int(cell_read)\n",
    "subsample_read_index = cell_read_index\n",
    "index_dedup, counts = np.unique(subsample_read_index, return_counts=True)\n",
    "n_count_once = np.sum(counts == 1)"
   ]
  },
  {
   "cell_type": "code",
   "execution_count": null,
   "id": "complex-darwin",
   "metadata": {},
   "outputs": [],
   "source": [
    "counts"
   ]
  },
  {
   "cell_type": "code",
   "execution_count": null,
   "id": "czech-sigma",
   "metadata": {},
   "outputs": [],
   "source": [
    "df_cell.sort_values('count', ascending=False)"
   ]
  },
  {
   "cell_type": "code",
   "execution_count": null,
   "id": "senior-indonesian",
   "metadata": {},
   "outputs": [],
   "source": []
  },
  {
   "cell_type": "code",
   "execution_count": null,
   "id": "fuzzy-young",
   "metadata": {},
   "outputs": [],
   "source": [
    "library(Seurat)"
   ]
  },
  {
   "cell_type": "code",
   "execution_count": null,
   "id": "circular-consequence",
   "metadata": {},
   "outputs": [],
   "source": [
    "rds = readRDS('/SGRNJ06/randd/lims_result_rd/MultiResult/RD20102301_220926_homo_PBMC/2022-09-28/father_cluster/batch_1/call-integration/RD20102301_220926_homo_PBMC.diff_PRO.rds')"
   ]
  },
  {
   "cell_type": "code",
   "execution_count": null,
   "id": "loose-learning",
   "metadata": {},
   "outputs": [],
   "source": [
    "meta = rds@meta.data"
   ]
  },
  {
   "cell_type": "code",
   "execution_count": null,
   "id": "wrapped-bidder",
   "metadata": {},
   "outputs": [],
   "source": [
    "head(meta)"
   ]
  },
  {
   "cell_type": "code",
   "execution_count": null,
   "id": "hollow-johns",
   "metadata": {},
   "outputs": [],
   "source": [
    "table(meta$cluster)"
   ]
  },
  {
   "cell_type": "code",
   "execution_count": null,
   "id": "willing-importance",
   "metadata": {},
   "outputs": [],
   "source": [
    "table(meta$raw_cluster)"
   ]
  },
  {
   "cell_type": "code",
   "execution_count": null,
   "id": "entitled-inclusion",
   "metadata": {},
   "outputs": [],
   "source": []
  },
  {
   "cell_type": "code",
   "execution_count": null,
   "id": "union-commons",
   "metadata": {},
   "outputs": [],
   "source": [
    "library(Seurat)\n",
    "library(ggplot2)"
   ]
  },
  {
   "cell_type": "code",
   "execution_count": null,
   "id": "previous-hungary",
   "metadata": {},
   "outputs": [],
   "source": [
    "rds= readRDS('/SGRNJ06/randd/lims_result_rd/MultiResult/RD20102301_221026_homo_PBMC_1/2022-10-28/h7iu3hxj8j/father_cluster/batch_1/call-integration/RD20102301_221026_homo_PBMC_1.diff_PRO.rds')"
   ]
  },
  {
   "cell_type": "code",
   "execution_count": null,
   "id": "involved-edmonton",
   "metadata": {},
   "outputs": [],
   "source": [
    "UMAPPlot(rds, group.by=('cluster'))"
   ]
  },
  {
   "cell_type": "code",
   "execution_count": null,
   "id": "fleet-compromise",
   "metadata": {},
   "outputs": [],
   "source": [
    "p = TSNEPlot(rds, group.by=('cluster'))"
   ]
  },
  {
   "cell_type": "code",
   "execution_count": null,
   "id": "golden-honolulu",
   "metadata": {},
   "outputs": [],
   "source": [
    "ggplot2::ggsave(\"/SGRNJ06/randd/USER/cjj/celedev/XZMU/20221028otherCART/tsneplot.png\",p,height=8,width=8)"
   ]
  },
  {
   "cell_type": "code",
   "execution_count": null,
   "id": "burning-playing",
   "metadata": {},
   "outputs": [],
   "source": []
  },
  {
   "cell_type": "code",
   "execution_count": null,
   "id": "charitable-lending",
   "metadata": {},
   "outputs": [],
   "source": []
  },
  {
   "cell_type": "code",
   "execution_count": null,
   "id": "chronic-receiver",
   "metadata": {},
   "outputs": [],
   "source": [
    "total_count = 0\n",
    "with pysam.FastxFile(\"/SGRNJ06/randd/USER/cjj/celedev/bulk_vdj/20221107/total.fq\", \"r\") as f:\n",
    "    for read in f:\n",
    "        total_count += 1"
   ]
  },
  {
   "cell_type": "code",
   "execution_count": null,
   "id": "entire-conviction",
   "metadata": {},
   "outputs": [],
   "source": [
    "total_count"
   ]
  },
  {
   "cell_type": "code",
   "execution_count": null,
   "id": "floral-seller",
   "metadata": {},
   "outputs": [],
   "source": [
    "import pysam\n",
    "import json\n",
    "import os"
   ]
  },
  {
   "cell_type": "code",
   "execution_count": null,
   "id": "religious-revelation",
   "metadata": {},
   "outputs": [],
   "source": [
    "keys = [\"Total Reads\" ,\"Reads Mapped To Any V(D)J Genes\", \"Reads Mapped To TRA\", \"Reads Mapped To TRB\"]"
   ]
  },
  {
   "cell_type": "code",
   "execution_count": null,
   "id": "suitable-valuable",
   "metadata": {},
   "outputs": [],
   "source": [
    "sample_list = [\"R221027001\", \"R221027002\", \"R221027003\", \"R221027004\", \"R221027005\", \"R221027006\"]\n",
    "sample_dict = dict()\n",
    "for sample in sample_list:\n",
    "    sample_dict[sample] = dict()"
   ]
  },
  {
   "cell_type": "code",
   "execution_count": null,
   "id": "blocked-attraction",
   "metadata": {},
   "outputs": [],
   "source": [
    "total_count"
   ]
  },
  {
   "cell_type": "code",
   "execution_count": null,
   "id": "weird-devil",
   "metadata": {},
   "outputs": [],
   "source": [
    "total_count = 0\n",
    "with pysam.FastxFile(\"/SGRNJ06/DATA04/22_11/2022_11_01/RD20073101/H_1025PBMC_c3pT2_2Nlib/R221027006_R1.fastq.gz\", \"r\") as f:\n",
    "    for read in f:\n",
    "        total_count += 1\n",
    "any_vdj_count = 0\n",
    "with pysam.FastxFile(\"/SGRNJ06/randd/USER/cjj/celedev/bulk_vdj/20221107/R221027006/total_1.fq\") as f:\n",
    "    for read in f:\n",
    "        any_vdj_count +=1\n",
    "tra_count = 0\n",
    "with pysam.FastxFile(\"/SGRNJ06/randd/USER/cjj/celedev/bulk_vdj/20221107/R221027006/tra_1.fq\") as f:\n",
    "    for read in f:\n",
    "        tra_count +=1\n",
    "trb_count = 0\n",
    "with pysam.FastxFile(\"/SGRNJ06/randd/USER/cjj/celedev/bulk_vdj/20221107/R221027006/trb_1.fq\") as f:\n",
    "    for read in f:\n",
    "        trb_count +=1"
   ]
  },
  {
   "cell_type": "code",
   "execution_count": null,
   "id": "racial-oakland",
   "metadata": {},
   "outputs": [],
   "source": [
    "# [total_count, any_vdj_count, tra_count, trb_count]"
   ]
  },
  {
   "cell_type": "code",
   "execution_count": null,
   "id": "postal-apollo",
   "metadata": {},
   "outputs": [],
   "source": [
    "dict(zip(keys,[total_count, any_vdj_count, tra_count, trb_count]))"
   ]
  },
  {
   "cell_type": "code",
   "execution_count": null,
   "id": "transparent-property",
   "metadata": {},
   "outputs": [],
   "source": [
    "sample_dict[\"R221027006\"] = dict(zip(keys,[total_count, any_vdj_count, tra_count, trb_count]))"
   ]
  },
  {
   "cell_type": "code",
   "execution_count": null,
   "id": "liberal-screw",
   "metadata": {},
   "outputs": [],
   "source": [
    "sample_dict"
   ]
  },
  {
   "cell_type": "code",
   "execution_count": null,
   "id": "ordinary-renaissance",
   "metadata": {},
   "outputs": [],
   "source": [
    "with open(\"/SGRNJ06/randd/USER/cjj/celedev/bulk_vdj/20221107/stat.json\", 'w') as f:\n",
    "    json.dump(sample_dict, f, indent=4)"
   ]
  },
  {
   "cell_type": "code",
   "execution_count": null,
   "id": "macro-australia",
   "metadata": {},
   "outputs": [],
   "source": []
  },
  {
   "cell_type": "code",
   "execution_count": null,
   "id": "governmental-sierra",
   "metadata": {},
   "outputs": [],
   "source": []
  },
  {
   "cell_type": "code",
   "execution_count": null,
   "id": "passive-treaty",
   "metadata": {},
   "outputs": [],
   "source": [
    "# split fl vdj\n",
    "library(Seurat)\n",
    "library(tidyverse)\n",
    "library(argparse)\n",
    "library(ggplot2)\n",
    "library(stringr)\n",
    "library(dplyr)\n",
    "library(reshape2)"
   ]
  },
  {
   "cell_type": "code",
   "execution_count": null,
   "id": "other-sentence",
   "metadata": {},
   "outputs": [],
   "source": [
    "rds <- readRDS(\"/SGRNJ06/randd/lims_result_rd/MultiResult/RD21032301_221104_mus_Bone_marrow/2022-11-07/h7t9b9qnmk/father_cluster/batch_1/call-integration/RD21032301_221104_mus_Bone_marrow.diff_PRO.rds\")\n",
    "vdj <- read.table(\"/SGRNJ06/randd/USER/cjj/celedev/split_fl_vdj/20221102/M-1020clindexTCR-C/06.split_tag/fl_vdj/TAG_2_TCR_contig_annotations.csv\", sep=',', header=T)"
   ]
  },
  {
   "cell_type": "code",
   "execution_count": null,
   "id": "verified-munich",
   "metadata": {},
   "outputs": [],
   "source": [
    "Idents(rds) <- \"orig.ident\"\n",
    "rna <- subset(rds,idents = c(\"TAG\"))"
   ]
  },
  {
   "cell_type": "code",
   "execution_count": null,
   "id": "finnish-contribution",
   "metadata": {},
   "outputs": [],
   "source": [
    "df <- rna@meta.data\n",
    "df$barcode <- rownames(df)\n",
    "\n",
    "if (grepl(\"_\", rownames(df)[1])){\n",
    "  vdj$shi<-paste(\"TAG_2\",\"_\",sep=\"\")\n",
    "  vdj$barcode<-str_c(vdj$shi,vdj$barcode)\n",
    "}"
   ]
  },
  {
   "cell_type": "code",
   "execution_count": null,
   "id": "statistical-synthesis",
   "metadata": {},
   "outputs": [],
   "source": [
    "cells <- vdj\n",
    "barcodes <- unique(cells$barcode)\n",
    "\n",
    "filter_df <- filter(df, barcode %in% barcodes)\n",
    "res <- table(filter_df$seurat_clusters)\n",
    "res <- as.data.frame(res)"
   ]
  },
  {
   "cell_type": "code",
   "execution_count": null,
   "id": "civilian-conversion",
   "metadata": {},
   "outputs": [],
   "source": [
    "barcodes"
   ]
  },
  {
   "cell_type": "code",
   "execution_count": null,
   "id": "secret-cutting",
   "metadata": {},
   "outputs": [],
   "source": [
    "meta = rna@meta.data\n",
    "meta$Class = 'NA'"
   ]
  },
  {
   "cell_type": "code",
   "execution_count": null,
   "id": "indonesian-tournament",
   "metadata": {},
   "outputs": [],
   "source": [
    "meta$barcode = rownames(meta)"
   ]
  },
  {
   "cell_type": "code",
   "execution_count": null,
   "id": "grand-pressure",
   "metadata": {},
   "outputs": [],
   "source": [
    "meta=  meta %>%\n",
    "  mutate(Class = if_else(barcode %in% barcodes,\n",
    "                         true = \"T/BCR\",\n",
    "                         false = \"NA\"))"
   ]
  },
  {
   "cell_type": "code",
   "execution_count": null,
   "id": "nutritional-smith",
   "metadata": {},
   "outputs": [],
   "source": [
    "meta = select(meta, -18)"
   ]
  },
  {
   "cell_type": "code",
   "execution_count": null,
   "id": "protecting-continuity",
   "metadata": {},
   "outputs": [],
   "source": [
    "meta"
   ]
  },
  {
   "cell_type": "code",
   "execution_count": null,
   "id": "precise-country",
   "metadata": {},
   "outputs": [],
   "source": [
    "meta[barcodes,'Class'] = 'T/BCR'"
   ]
  },
  {
   "cell_type": "code",
   "execution_count": null,
   "id": "adapted-middle",
   "metadata": {},
   "outputs": [],
   "source": [
    "meta <- meta %>% drop_na(nCount_RNA)\n",
    "table(meta$Class == 'T/BCR')\n",
    "rna@meta.data = meta\n",
    "rna <- RunUMAP(rna, dims = 1:20)"
   ]
  },
  {
   "cell_type": "code",
   "execution_count": null,
   "id": "utility-tooth",
   "metadata": {},
   "outputs": [],
   "source": [
    "UMAPPlot(rna,group.by='Class',cols=c('grey','red'),label=TRUE)"
   ]
  },
  {
   "cell_type": "code",
   "execution_count": null,
   "id": "synthetic-thong",
   "metadata": {},
   "outputs": [],
   "source": []
  },
  {
   "cell_type": "code",
   "execution_count": null,
   "id": "armed-sheffield",
   "metadata": {},
   "outputs": [],
   "source": [
    "import pandas as pd"
   ]
  },
  {
   "cell_type": "code",
   "execution_count": null,
   "id": "nonprofit-chess",
   "metadata": {},
   "outputs": [],
   "source": [
    "meta = pd.read_csv(\"/SGRNJ06/randd/USER/cjj/celedev/split_fl_vdj/20221102/yingshe/meta.tsv\",sep='\\t')"
   ]
  },
  {
   "cell_type": "code",
   "execution_count": null,
   "id": "crazy-buffer",
   "metadata": {},
   "outputs": [],
   "source": [
    "meta = meta.rename_axis(\"barcode\").reset_index()"
   ]
  },
  {
   "cell_type": "code",
   "execution_count": null,
   "id": "inappropriate-territory",
   "metadata": {},
   "outputs": [],
   "source": [
    "vdj = pd.read_csv(\"/SGRNJ06/randd/USER/cjj/celedev/split_fl_vdj/20221102/M-1020clindexTCR-C/06.split_tag/fl_vdj/TAG_2_TCR_contig_annotations.csv\")"
   ]
  },
  {
   "cell_type": "code",
   "execution_count": null,
   "id": "large-ordering",
   "metadata": {},
   "outputs": [],
   "source": [
    "vdj.barcode= vdj.barcode.apply(lambda x: f\"TAG_2_{x}\")"
   ]
  },
  {
   "cell_type": "code",
   "execution_count": null,
   "id": "minor-delicious",
   "metadata": {},
   "outputs": [],
   "source": [
    "vdj"
   ]
  },
  {
   "cell_type": "code",
   "execution_count": null,
   "id": "convenient-protest",
   "metadata": {},
   "outputs": [],
   "source": [
    "meta"
   ]
  },
  {
   "cell_type": "code",
   "execution_count": null,
   "id": "higher-preparation",
   "metadata": {},
   "outputs": [],
   "source": [
    "set(meta.barcode).intersection(set(vdj.barcode))"
   ]
  },
  {
   "cell_type": "code",
   "execution_count": null,
   "id": "bronze-infrastructure",
   "metadata": {},
   "outputs": [],
   "source": []
  },
  {
   "cell_type": "code",
   "execution_count": null,
   "id": "passing-connection",
   "metadata": {},
   "outputs": [],
   "source": [
    "import pandas as pd\n",
    "import sys\n",
    "import glob\n",
    "import xlwt\n",
    "import re"
   ]
  },
  {
   "cell_type": "code",
   "execution_count": null,
   "id": "alleged-physiology",
   "metadata": {},
   "outputs": [],
   "source": [
    "Celltype = {'TCELLS', 'TCELL' 'NKTCELLS'}"
   ]
  },
  {
   "cell_type": "code",
   "execution_count": null,
   "id": "future-landscape",
   "metadata": {},
   "outputs": [],
   "source": [
    "    meta_list = glob.glob(\"/SGRNJ06/randd/USER/cjj/celedev/split_fl_vdj/20221102/yingshe/*_meta.csv\")\n",
    "    sample_list = ['_'.join(i.split('/')[-1].split('_')[:-1]) for i in meta_list]"
   ]
  },
  {
   "cell_type": "code",
   "execution_count": null,
   "id": "eleven-bargain",
   "metadata": {},
   "outputs": [],
   "source": [
    "    row0 = ['number of mapping to T/B cells', 'number of T/B cells', 'percent']\n",
    "    row1 = sample_list"
   ]
  },
  {
   "cell_type": "code",
   "execution_count": null,
   "id": "logical-novelty",
   "metadata": {},
   "outputs": [],
   "source": [
    "mapping_count, ZL_count = [], []"
   ]
  },
  {
   "cell_type": "code",
   "execution_count": null,
   "id": "favorite-bowling",
   "metadata": {},
   "outputs": [],
   "source": [
    "    for meta in meta_list:\n",
    "        df = pd.read_csv(meta)\n",
    "        df['cluster'].apply(lambda x: re.sub(r\"[^a-zA-Z0-9]\",\"\", str(x)).upper())\n",
    "        df_count = df[df['cluster'].isin(Celltype)]\n",
    "        _i,_j = df_count[df_count['Class']=='T/BCR'].shape[0], df_count.shape[0]\n",
    "        mapping_count.append(int(_i))\n",
    "        ZL_count.append(int(_j))"
   ]
  },
  {
   "cell_type": "code",
   "execution_count": null,
   "id": "familiar-amsterdam",
   "metadata": {},
   "outputs": [],
   "source": [
    "mapping_count"
   ]
  },
  {
   "cell_type": "code",
   "execution_count": null,
   "id": "beautiful-superior",
   "metadata": {},
   "outputs": [],
   "source": [
    "df = pd.read_csv(meta_list[0])"
   ]
  },
  {
   "cell_type": "code",
   "execution_count": null,
   "id": "chemical-disease",
   "metadata": {},
   "outputs": [],
   "source": [
    "df['cluster'] = df['cluster'].apply(lambda x: re.sub(r\"[^a-zA-Z0-9]\",\"\", str(x)).upper())"
   ]
  },
  {
   "cell_type": "code",
   "execution_count": null,
   "id": "electrical-counter",
   "metadata": {},
   "outputs": [],
   "source": [
    "df_count = df[df['cluster'].isin(Celltype)]"
   ]
  },
  {
   "cell_type": "code",
   "execution_count": null,
   "id": "composite-memphis",
   "metadata": {},
   "outputs": [],
   "source": [
    "_i,_j = df_count[df_count['Class']=='T/BCR'].shape[0], df_count.shape[0]"
   ]
  },
  {
   "cell_type": "code",
   "execution_count": null,
   "id": "metropolitan-seattle",
   "metadata": {},
   "outputs": [],
   "source": [
    "_i"
   ]
  },
  {
   "cell_type": "code",
   "execution_count": null,
   "id": "radio-formation",
   "metadata": {},
   "outputs": [],
   "source": [
    "_j"
   ]
  },
  {
   "cell_type": "code",
   "execution_count": null,
   "id": "isolated-briefing",
   "metadata": {},
   "outputs": [],
   "source": [
    "df_count[df_count['Class']=='T/BCR'].shape[0]"
   ]
  },
  {
   "cell_type": "code",
   "execution_count": null,
   "id": "revolutionary-actor",
   "metadata": {},
   "outputs": [],
   "source": []
  },
  {
   "cell_type": "code",
   "execution_count": null,
   "id": "eleven-phase",
   "metadata": {},
   "outputs": [],
   "source": [
    "import pandas as pd"
   ]
  },
  {
   "cell_type": "code",
   "execution_count": null,
   "id": "organic-combining",
   "metadata": {},
   "outputs": [],
   "source": [
    "df = pd.read_csv('/SGRNJ06/randd/USER/cjj/celedev/XZMU/20221110/monocle/check.tsv',sep='\\t')"
   ]
  },
  {
   "cell_type": "code",
   "execution_count": null,
   "id": "organizational-belfast",
   "metadata": {},
   "outputs": [],
   "source": [
    "df"
   ]
  },
  {
   "cell_type": "code",
   "execution_count": null,
   "id": "lightweight-logistics",
   "metadata": {},
   "outputs": [],
   "source": [
    "GC0 = df[df[\"sample\"]=='GC_0']\n",
    "GC1 = df[df[\"sample\"]=='GC_1']\n",
    "GC2 = df[df[\"sample\"]=='GC_2']"
   ]
  },
  {
   "cell_type": "code",
   "execution_count": null,
   "id": "opposite-foundation",
   "metadata": {},
   "outputs": [],
   "source": [
    "GC0.describe()"
   ]
  },
  {
   "cell_type": "code",
   "execution_count": null,
   "id": "surrounded-crisis",
   "metadata": {},
   "outputs": [],
   "source": [
    "GC1.describe()"
   ]
  },
  {
   "cell_type": "code",
   "execution_count": null,
   "id": "romance-agreement",
   "metadata": {},
   "outputs": [],
   "source": [
    "GC2.describe()"
   ]
  },
  {
   "cell_type": "code",
   "execution_count": null,
   "id": "controlling-auction",
   "metadata": {},
   "outputs": [],
   "source": []
  },
  {
   "cell_type": "code",
   "execution_count": null,
   "id": "opening-richards",
   "metadata": {},
   "outputs": [],
   "source": [
    "# /SGRNJ06/DATA04/22_11/2022_11_11/RD21010602/H_1104Raji_CK3NL/\n",
    "# /SGRNJ06/DATA04/22_11/2022_11_11/RD21010602/H_1104Raji_Mix3NL/"
   ]
  },
  {
   "cell_type": "code",
   "execution_count": null,
   "id": "equipped-judges",
   "metadata": {},
   "outputs": [],
   "source": [
    "df = df.rename_axis(\"barcode\").reset_index()\n",
    "df"
   ]
  },
  {
   "cell_type": "code",
   "execution_count": null,
   "id": "treated-hypothesis",
   "metadata": {},
   "outputs": [],
   "source": [
    "    for index,row in df.iterrows():\n",
    "        print(row.barcode, row.cluster)"
   ]
  },
  {
   "cell_type": "code",
   "execution_count": null,
   "id": "mounted-mainstream",
   "metadata": {},
   "outputs": [],
   "source": [
    "def yield_test(df):\n",
    "    for index,row in df.iterrows():\n",
    "        yield row.barcode, row.cluster"
   ]
  },
  {
   "cell_type": "code",
   "execution_count": null,
   "id": "analyzed-malpractice",
   "metadata": {},
   "outputs": [],
   "source": [
    "def yield_test1(df):\n",
    "    bc_list, celltype_list = list(df.barcode), list(df.cluster)\n",
    "    for i in range(len(bc_list)):\n",
    "        yield bc_list[i], celltype_list[i]"
   ]
  },
  {
   "cell_type": "code",
   "execution_count": null,
   "id": "successful-coral",
   "metadata": {},
   "outputs": [],
   "source": [
    "    for index,row in df.iterrows():\n",
    "        print(index)\n",
    "        print((row.barcode, row.cluster))"
   ]
  },
  {
   "cell_type": "code",
   "execution_count": null,
   "id": "graduate-congo",
   "metadata": {},
   "outputs": [],
   "source": [
    "list(yield_test(df))"
   ]
  },
  {
   "cell_type": "code",
   "execution_count": null,
   "id": "musical-willow",
   "metadata": {},
   "outputs": [],
   "source": []
  },
  {
   "cell_type": "code",
   "execution_count": null,
   "id": "early-chapter",
   "metadata": {},
   "outputs": [],
   "source": []
  },
  {
   "cell_type": "code",
   "execution_count": null,
   "id": "accessible-child",
   "metadata": {},
   "outputs": [],
   "source": [
    "library(Seurat)\n",
    "library(tidyverse)\n",
    "library(dplyr)\n",
    "library(ggplot2)"
   ]
  },
  {
   "cell_type": "code",
   "execution_count": null,
   "id": "chemical-heart",
   "metadata": {},
   "outputs": [],
   "source": [
    "rds = readRDS('/SGRNJ06/randd/PROJECT/RD20073101_ScRNA_VDJ/swb/snRNA/1107_Mus_Brain/amulit/rds_.diff_PRO.rds')"
   ]
  },
  {
   "cell_type": "code",
   "execution_count": null,
   "id": "portable-collapse",
   "metadata": {},
   "outputs": [],
   "source": [
    "table(rds@meta.data$seurat_clusters)"
   ]
  },
  {
   "cell_type": "code",
   "execution_count": null,
   "id": "academic-gender",
   "metadata": {},
   "outputs": [],
   "source": [
    "new.cluster.ids <- c('Excitatory neurons','Interneurons','Excitatory neurons','Projection neurons','Excitatory neurons','Projection neurons','Excitatory neurons','Projection neurons',\n",
    "                    'Oligodendrocytes','Astrocytes','Inhibitory neurons','Astrocytes','Type IA spiral ganglion neurons','Projection neurons','GABAergic neurons','GABAergic neurons',\n",
    "                     'Projection neurons','Projection neurons','Oligodendrocytes precursor cells','Projection neurons','Dendrite targeting cells','Projection neurons','Microglial cells',\n",
    "                     'Fibroblasts')\n",
    "names(new.cluster.ids) <- levels(rds)\n",
    "rds <- RenameIdents(rds, new.cluster.ids)\n",
    "rds <- StashIdent(object = rds, save.name = \"celltype\")"
   ]
  },
  {
   "cell_type": "code",
   "execution_count": null,
   "id": "discrete-duplicate",
   "metadata": {},
   "outputs": [],
   "source": [
    "UMAPPlot(rds)"
   ]
  },
  {
   "cell_type": "code",
   "execution_count": null,
   "id": "funny-brunswick",
   "metadata": {},
   "outputs": [],
   "source": [
    "table(rds@meta.data$orig.ident)"
   ]
  },
  {
   "cell_type": "code",
   "execution_count": null,
   "id": "hidden-position",
   "metadata": {},
   "outputs": [],
   "source": [
    "for (i in unique(rds@meta.data$orig.ident)) {\n",
    "    Idents(rds) <- \"orig.ident\"\n",
    "    rds_tmp <- subset(rds,idents = c(i))\n",
    "    #saveRDS(object = rds_tmp, file = paste(\"/SGRNJ06/randd/USER/cjj/celedev/rna/20221122split_sample/\", i, \".rds\", sep=\"\"))\n",
    "    p <- UMAPPlot(rds_tmp, group.by=\"celltype\") \n",
    "    print(p)\n",
    "    ggplot2::ggsave(paste('/SGRNJ06/randd/USER/cjj/celedev/rna/20221122split_sample/umapplot/', i, '_umap.png', sep=''), p, height=10, width=10)\n",
    "}"
   ]
  },
  {
   "cell_type": "code",
   "execution_count": null,
   "id": "professional-admission",
   "metadata": {},
   "outputs": [],
   "source": [
    "for (i in unique(rds@meta.data$orig.ident)) {\n",
    "    print(paste(\"/SGRNJ06/randd/USER/cjj/celedev/rna/20221122split_sample/\", i,  \".rds\", sep=\"\"))\n",
    "}"
   ]
  },
  {
   "cell_type": "code",
   "execution_count": null,
   "id": "scheduled-leonard",
   "metadata": {},
   "outputs": [],
   "source": []
  },
  {
   "cell_type": "code",
   "execution_count": null,
   "id": "martial-brighton",
   "metadata": {},
   "outputs": [],
   "source": []
  },
  {
   "cell_type": "code",
   "execution_count": null,
   "id": "addressed-aggregate",
   "metadata": {},
   "outputs": [],
   "source": [
    "rds = readRDS('/SGRNJ06/randd/PROJECT/RD20073101_ScRNA_VDJ/swb/snRNA/1110_lung_kindey2/lung/amulit/rds_.diff_PRO.rds')"
   ]
  },
  {
   "cell_type": "code",
   "execution_count": null,
   "id": "secondary-chambers",
   "metadata": {},
   "outputs": [],
   "source": [
    "table(rds@meta.data$seurat_clusters)"
   ]
  },
  {
   "cell_type": "code",
   "execution_count": null,
   "id": "assigned-irish",
   "metadata": {},
   "outputs": [],
   "source": [
    "new.cluster.ids <- c('Alveolar type II cells','Alveolar type I cells','Mesenchymal cells','Alveolar type II cells','Secretory cells','Ciliated cells','Macrophages','Endothelial cells',\n",
    "                    'Club cells','Immune cells','Capillaries type I endothelial cells','Endothelial cells','Fibroblasts','Immune cells','Mesothelial cells','Epithelial cells',\n",
    "                     'Pericytes','Secretory cells','Alveolar type I cells','Conventional type II dendritic cells','Ciliated cells','Alveolar type I cells','Alveolar type I cells',\n",
    "                     'Endothelial cells', 'Neuroendocrine cells')\n",
    "names(new.cluster.ids) <- levels(rds)\n",
    "rds <- RenameIdents(rds, new.cluster.ids)\n",
    "rds <- StashIdent(object = rds, save.name = \"celltype\")"
   ]
  },
  {
   "cell_type": "code",
   "execution_count": null,
   "id": "labeled-rwanda",
   "metadata": {},
   "outputs": [],
   "source": [
    "UMAPPlot(rds)"
   ]
  },
  {
   "cell_type": "code",
   "execution_count": null,
   "id": "particular-sport",
   "metadata": {},
   "outputs": [],
   "source": [
    "table(rds@meta.data$orig.ident)"
   ]
  },
  {
   "cell_type": "code",
   "execution_count": null,
   "id": "compact-aurora",
   "metadata": {},
   "outputs": [],
   "source": [
    "for (i in unique(rds@meta.data$orig.ident)) {\n",
    "    print(paste(\"/SGRNJ06/randd/USER/cjj/celedev/rna/20221122split_sample/\", i,  \".rds\", sep=\"\"))\n",
    "}"
   ]
  },
  {
   "cell_type": "code",
   "execution_count": null,
   "id": "suburban-violin",
   "metadata": {},
   "outputs": [],
   "source": [
    "for (i in unique(rds@meta.data$orig.ident)) {\n",
    "    Idents(rds) <- \"orig.ident\"\n",
    "    rds_tmp <- subset(rds,idents = c(i))\n",
    "    #saveRDS(object = rds_tmp, file = paste(\"/SGRNJ06/randd/USER/cjj/celedev/rna/20221122split_sample/\", i, \".rds\", sep=\"\"))\n",
    "    p <- UMAPPlot(rds_tmp, group.by=\"celltype\") \n",
    "    print(p)\n",
    "    ggplot2::ggsave(paste('/SGRNJ06/randd/USER/cjj/celedev/rna/20221122split_sample/umapplot/', i, '_umap.png', sep=''), p, height=10, width=10)\n",
    "}"
   ]
  },
  {
   "cell_type": "code",
   "execution_count": null,
   "id": "encouraging-revolution",
   "metadata": {},
   "outputs": [],
   "source": []
  },
  {
   "cell_type": "code",
   "execution_count": null,
   "id": "behavioral-syria",
   "metadata": {},
   "outputs": [],
   "source": []
  },
  {
   "cell_type": "code",
   "execution_count": null,
   "id": "alien-positive",
   "metadata": {},
   "outputs": [],
   "source": [
    "rds = readRDS('/SGRNJ06/randd/PROJECT/RD20073101_ScRNA_VDJ/swb/snRNA/1110_lung_kindey2/kindey/amulit/rds_.diff_PRO.rds')"
   ]
  },
  {
   "cell_type": "code",
   "execution_count": null,
   "id": "cutting-nashville",
   "metadata": {},
   "outputs": [],
   "source": [
    "table(rds@meta.data$seurat_clusters)"
   ]
  },
  {
   "cell_type": "code",
   "execution_count": null,
   "id": "waiting-mountain",
   "metadata": {},
   "outputs": [],
   "source": [
    "new.cluster.ids <- c('Ascending loop of henle cells','Proximal straight tubule cells','Proximal straight tubule cells','Proximal straight tubule cells','Proximal tubule cells',\n",
    "                    'Distal convoluted tubule cells','Endothelial cells','Conventional type II dendritic cells','Proximal tubule cells','Collecting duct principal cells',\n",
    "                     'Conventional type II dendritic cells','Collecting duct intercalated cells','Arterial vessel endothelial cells','Collecting duct principal cells',\n",
    "                     'Descending loop of henle cells', 'Conventional type II dendritic cells', 'Principal cells', 'Ascending loop of henle cells', 'Podocytes')\n",
    "names(new.cluster.ids) <- levels(rds)\n",
    "rds <- RenameIdents(rds, new.cluster.ids)\n",
    "rds <- StashIdent(object = rds, save.name = \"celltype\")"
   ]
  },
  {
   "cell_type": "code",
   "execution_count": null,
   "id": "pending-dispatch",
   "metadata": {},
   "outputs": [],
   "source": [
    "UMAPPlot(rds)"
   ]
  },
  {
   "cell_type": "code",
   "execution_count": null,
   "id": "instructional-orleans",
   "metadata": {},
   "outputs": [],
   "source": [
    "table(rds@meta.data$orig.ident)"
   ]
  },
  {
   "cell_type": "code",
   "execution_count": null,
   "id": "martial-locator",
   "metadata": {},
   "outputs": [],
   "source": [
    "for (i in unique(rds@meta.data$orig.ident)) {\n",
    "    print(paste(\"/SGRNJ06/randd/USER/cjj/celedev/rna/20221122split_sample/\", i,  \".rds\", sep=\"\"))\n",
    "}"
   ]
  },
  {
   "cell_type": "code",
   "execution_count": null,
   "id": "detailed-psychology",
   "metadata": {},
   "outputs": [],
   "source": [
    "for (i in unique(rds@meta.data$orig.ident)) {\n",
    "    Idents(rds) <- \"orig.ident\"\n",
    "    rds_tmp <- subset(rds,idents = c(i))\n",
    "    #saveRDS(object = rds_tmp, file = paste(\"/SGRNJ06/randd/USER/cjj/celedev/rna/20221122split_sample/\", i, \".rds\", sep=\"\"))\n",
    "    p <- UMAPPlot(rds_tmp, group.by=\"celltype\") \n",
    "    print(p)\n",
    "    ggplot2::ggsave(paste('/SGRNJ06/randd/USER/cjj/celedev/rna/20221122split_sample/umapplot/', i, '_umap.png', sep=''), p, height=10, width=10)\n",
    "}"
   ]
  },
  {
   "cell_type": "code",
   "execution_count": null,
   "id": "plastic-newton",
   "metadata": {},
   "outputs": [],
   "source": []
  },
  {
   "cell_type": "code",
   "execution_count": null,
   "id": "incorporate-catering",
   "metadata": {},
   "outputs": [],
   "source": []
  },
  {
   "cell_type": "code",
   "execution_count": null,
   "id": "silent-brief",
   "metadata": {},
   "outputs": [],
   "source": [
    "Idents(rds) <- \"orig.ident\"\n",
    "rds3 <- subset(rds,idents = c(\"DYC-1-X1\"))\n",
    "rds4 <- subset(rds,idents = c(\"DYC-1-X2\"))\n",
    "rds5 <- subset(rds,idents = c(\"DYC-2-X1\"))\n",
    "rds6 <- subset(rds,idents = c(\"DYC-2-X2\"))"
   ]
  },
  {
   "cell_type": "code",
   "execution_count": null,
   "id": "moral-bunny",
   "metadata": {},
   "outputs": [],
   "source": [
    "FeaturePlot(rds3, \"CD3D\")"
   ]
  },
  {
   "cell_type": "code",
   "execution_count": null,
   "id": "intermediate-enclosure",
   "metadata": {},
   "outputs": [],
   "source": [
    "UMAPPlot(rds3,group.by=c(\"cluster\"))"
   ]
  },
  {
   "cell_type": "code",
   "execution_count": null,
   "id": "traditional-wrapping",
   "metadata": {},
   "outputs": [],
   "source": []
  },
  {
   "cell_type": "code",
   "execution_count": null,
   "id": "former-monday",
   "metadata": {},
   "outputs": [],
   "source": [
    "# cdr3 error"
   ]
  },
  {
   "cell_type": "code",
   "execution_count": 1,
   "id": "thrown-victim",
   "metadata": {},
   "outputs": [],
   "source": [
    "import numpy as np\n",
    "import pandas as pd\n",
    "\n",
    "from celescope.tools import utils\n",
    "from celescope.__init__ import HELP_DICT\n",
    "from celescope.tools.step import Step, s_common\n",
    "from celescope.vdj.__init__ import CHAINS, PAIRS\n",
    "from celescope.tools.capture.threshold import Auto\n",
    "from celescope.tools.emptydrop_cr import get_plot_elements"
   ]
  },
  {
   "cell_type": "code",
   "execution_count": 33,
   "id": "hollow-bronze",
   "metadata": {},
   "outputs": [],
   "source": [
    "SEQUENCES_HEADER = [\"aaSeqCDR3\", \"nSeqCDR3\"]\n",
    "# Auto filter percentitle\n",
    "PERCENTILE = {\n",
    "    'TCR': 85,\n",
    "    'BCR': 90,\n",
    "}\n",
    "def target_cell_calling(df_UMI_sum, expected_target_cell_num=3000, target_barcodes=None, weight=3, coef=10, \n",
    "    percentile=99, UMI_min=3, umi_col='UMI'):\n",
    "    \"\"\"\n",
    "    Args:\n",
    "        df_UMI_sum: A dataframe with columns barcode and UMI. The barcode are match cell barcodes.\n",
    "    \n",
    "    Returns:\n",
    "        umi_threhold: int\n",
    "        target_cell_barcodes: list\n",
    "\n",
    "    >>> df_UMI_sum = pd.DataFrame({\"barcode\": [\"A\", \"B\", \"C\", \"D\", \"E\"], \"UMI\": [1, 2, 1, 30, 40]})\n",
    "    >>> umi_threshold, target_cell_barcodes = target_cell_calling(df_UMI_sum, expected_target_cell_num=5, percentile=80, coef=10, target_barcodes=[\"A\", \"C\"])\n",
    "    >>> umi_threshold == 3\n",
    "    True\n",
    "    >>> target_cell_barcodes == {'A', 'C', 'D', 'E'}\n",
    "    True\n",
    "    \"\"\"\n",
    "    umi_threshold = Auto(list(df_UMI_sum[umi_col]), expected_cell_num=expected_target_cell_num, coef=coef, percentile=percentile).run()\n",
    "    if umi_threshold < UMI_min:\n",
    "        umi_threshold = UMI_min\n",
    "    # avoid change the original dataframe\n",
    "    df_temp = df_UMI_sum.copy()\n",
    "    if target_barcodes:\n",
    "        df_temp[umi_col] = df_temp.apply(\n",
    "            lambda row:  row[umi_col] * weight if row['barcode'] in target_barcodes else row[umi_col], axis=1)\n",
    "             \n",
    "    target_cell_barcodes = set(df_temp.loc[df_temp[umi_col] >= umi_threshold].barcode)\n",
    "\n",
    "    return umi_threshold, target_cell_barcodes\n",
    "\n",
    "\n",
    "cols = []\n",
    "for chain in [\"IGH\", \"IGL\", \"IGK\"]:\n",
    "    for seq in SEQUENCES_HEADER:\n",
    "        cols.append(\"_\".join([seq, chain]))"
   ]
  },
  {
   "cell_type": "code",
   "execution_count": 3,
   "id": "material-messaging",
   "metadata": {},
   "outputs": [],
   "source": [
    "df_UMI_count_filter = pd.read_csv(\"/SGRNJ06/bioinfo/PROJ04/PROJ_22.10X/P20012001_VDJ/BCR/DYH-1202-B_c3/DYH-1202-B/04.mapping_vdj/DYH-1202-B_UMI_count_filtered.tsv\", sep='\\t')"
   ]
  },
  {
   "cell_type": "code",
   "execution_count": 4,
   "id": "hawaiian-algorithm",
   "metadata": {},
   "outputs": [
    {
     "data": {
      "text/html": [
       "<div>\n",
       "<style scoped>\n",
       "    .dataframe tbody tr th:only-of-type {\n",
       "        vertical-align: middle;\n",
       "    }\n",
       "\n",
       "    .dataframe tbody tr th {\n",
       "        vertical-align: top;\n",
       "    }\n",
       "\n",
       "    .dataframe thead th {\n",
       "        text-align: right;\n",
       "    }\n",
       "</style>\n",
       "<table border=\"1\" class=\"dataframe\">\n",
       "  <thead>\n",
       "    <tr style=\"text-align: right;\">\n",
       "      <th></th>\n",
       "      <th>barcode</th>\n",
       "      <th>chain</th>\n",
       "      <th>bestVGene</th>\n",
       "      <th>bestJGene</th>\n",
       "      <th>aaSeqCDR3</th>\n",
       "      <th>nSeqCDR3</th>\n",
       "      <th>UMI</th>\n",
       "    </tr>\n",
       "  </thead>\n",
       "  <tbody>\n",
       "    <tr>\n",
       "      <th>0</th>\n",
       "      <td>AAGACGGACTGAGCCATAGGATGA</td>\n",
       "      <td>IGK</td>\n",
       "      <td>IGKV3-20</td>\n",
       "      <td>IGKJ2</td>\n",
       "      <td>CQQYGSSPPYTF</td>\n",
       "      <td>TGTCAGCAGTATGGTAGCTCACCCCCGTACACTTTT</td>\n",
       "      <td>406</td>\n",
       "    </tr>\n",
       "    <tr>\n",
       "      <th>1</th>\n",
       "      <td>GACTAGTAAACAACCATGGCTTCA</td>\n",
       "      <td>IGK</td>\n",
       "      <td>IGKV3-20</td>\n",
       "      <td>IGKJ2</td>\n",
       "      <td>CQQYGSSPPYTF</td>\n",
       "      <td>TGTCAGCAGTATGGTAGCTCACCCCCGTACACTTTT</td>\n",
       "      <td>382</td>\n",
       "    </tr>\n",
       "    <tr>\n",
       "      <th>2</th>\n",
       "      <td>GGAGAACACAGCGTTAGGAGAACA</td>\n",
       "      <td>IGK</td>\n",
       "      <td>IGKV3-20</td>\n",
       "      <td>IGKJ2</td>\n",
       "      <td>CQQYGSSPPYTF</td>\n",
       "      <td>TGTCAGCAGTATGGTAGCTCACCCCCGTACACTTTT</td>\n",
       "      <td>376</td>\n",
       "    </tr>\n",
       "    <tr>\n",
       "      <th>3</th>\n",
       "      <td>AGTCACTACAACCACACGAACTTA</td>\n",
       "      <td>IGK</td>\n",
       "      <td>IGKV3-20</td>\n",
       "      <td>IGKJ2</td>\n",
       "      <td>CQQYGSSPPYTF</td>\n",
       "      <td>TGTCAGCAGTATGGTAGCTCACCCCCGTACACTTTT</td>\n",
       "      <td>350</td>\n",
       "    </tr>\n",
       "    <tr>\n",
       "      <th>4</th>\n",
       "      <td>GAACAGGCACCTCCAACCGTGAGA</td>\n",
       "      <td>IGK</td>\n",
       "      <td>IGKV3-20</td>\n",
       "      <td>IGKJ2</td>\n",
       "      <td>CQQYGSSPPYTF</td>\n",
       "      <td>TGTCAGCAGTATGGTAGCTCACCCCCGTACACTTTT</td>\n",
       "      <td>348</td>\n",
       "    </tr>\n",
       "    <tr>\n",
       "      <th>...</th>\n",
       "      <td>...</td>\n",
       "      <td>...</td>\n",
       "      <td>...</td>\n",
       "      <td>...</td>\n",
       "      <td>...</td>\n",
       "      <td>...</td>\n",
       "      <td>...</td>\n",
       "    </tr>\n",
       "    <tr>\n",
       "      <th>474009</th>\n",
       "      <td>ATCCTGTAAGATCGCATGGTGGTA</td>\n",
       "      <td>IGK</td>\n",
       "      <td>IGKV3-20</td>\n",
       "      <td>IGKJ2</td>\n",
       "      <td>CQQYGSSPPYTF</td>\n",
       "      <td>TGTCAGCAGTATGGTAGCTCACCCCCGTACACTTTT</td>\n",
       "      <td>1</td>\n",
       "    </tr>\n",
       "    <tr>\n",
       "      <th>474010</th>\n",
       "      <td>ATCCTGTAAGATCGCATTCACGCA</td>\n",
       "      <td>IGK</td>\n",
       "      <td>IGKV3-20</td>\n",
       "      <td>IGKJ2</td>\n",
       "      <td>CQQYGSSPPYTF</td>\n",
       "      <td>TGTCAGCAGTATGGTAGCTCACCCCCGTACACTTTT</td>\n",
       "      <td>1</td>\n",
       "    </tr>\n",
       "    <tr>\n",
       "      <th>474011</th>\n",
       "      <td>ATCCTGTAAGATGTACAACGTGAT</td>\n",
       "      <td>IGH</td>\n",
       "      <td>IGHV4-39</td>\n",
       "      <td>IGHJ6</td>\n",
       "      <td>CARGKGADYYDSSGYYYVSYYYYGMDVW</td>\n",
       "      <td>TGTGCGAGAGGCAAGGGCGCCGACTACTATGATAGTAGTGGTTATT...</td>\n",
       "      <td>1</td>\n",
       "    </tr>\n",
       "    <tr>\n",
       "      <th>474012</th>\n",
       "      <td>ATCCTGTAAGATGTACAAGAGATC</td>\n",
       "      <td>IGH</td>\n",
       "      <td>IGHV4-39</td>\n",
       "      <td>IGHJ6</td>\n",
       "      <td>CARGKGADYYDSSGYYYVSYYYYGMDVW</td>\n",
       "      <td>TGTGCGAGAGGCAAGGGCGCCGACTACTATGATAGTAGTGGTTATT...</td>\n",
       "      <td>1</td>\n",
       "    </tr>\n",
       "    <tr>\n",
       "      <th>474013</th>\n",
       "      <td>TTCACGCATTCACGCATTCACGCA</td>\n",
       "      <td>IGK</td>\n",
       "      <td>IGKV3-20</td>\n",
       "      <td>IGKJ2</td>\n",
       "      <td>CQQYGSSPPYTF</td>\n",
       "      <td>TGTCAGCAGTATGGTAGCTCACCCCCGTACACTTTT</td>\n",
       "      <td>1</td>\n",
       "    </tr>\n",
       "  </tbody>\n",
       "</table>\n",
       "<p>474014 rows × 7 columns</p>\n",
       "</div>"
      ],
      "text/plain": [
       "                         barcode chain bestVGene bestJGene  \\\n",
       "0       AAGACGGACTGAGCCATAGGATGA   IGK  IGKV3-20     IGKJ2   \n",
       "1       GACTAGTAAACAACCATGGCTTCA   IGK  IGKV3-20     IGKJ2   \n",
       "2       GGAGAACACAGCGTTAGGAGAACA   IGK  IGKV3-20     IGKJ2   \n",
       "3       AGTCACTACAACCACACGAACTTA   IGK  IGKV3-20     IGKJ2   \n",
       "4       GAACAGGCACCTCCAACCGTGAGA   IGK  IGKV3-20     IGKJ2   \n",
       "...                          ...   ...       ...       ...   \n",
       "474009  ATCCTGTAAGATCGCATGGTGGTA   IGK  IGKV3-20     IGKJ2   \n",
       "474010  ATCCTGTAAGATCGCATTCACGCA   IGK  IGKV3-20     IGKJ2   \n",
       "474011  ATCCTGTAAGATGTACAACGTGAT   IGH  IGHV4-39     IGHJ6   \n",
       "474012  ATCCTGTAAGATGTACAAGAGATC   IGH  IGHV4-39     IGHJ6   \n",
       "474013  TTCACGCATTCACGCATTCACGCA   IGK  IGKV3-20     IGKJ2   \n",
       "\n",
       "                           aaSeqCDR3  \\\n",
       "0                       CQQYGSSPPYTF   \n",
       "1                       CQQYGSSPPYTF   \n",
       "2                       CQQYGSSPPYTF   \n",
       "3                       CQQYGSSPPYTF   \n",
       "4                       CQQYGSSPPYTF   \n",
       "...                              ...   \n",
       "474009                  CQQYGSSPPYTF   \n",
       "474010                  CQQYGSSPPYTF   \n",
       "474011  CARGKGADYYDSSGYYYVSYYYYGMDVW   \n",
       "474012  CARGKGADYYDSSGYYYVSYYYYGMDVW   \n",
       "474013                  CQQYGSSPPYTF   \n",
       "\n",
       "                                                 nSeqCDR3  UMI  \n",
       "0                    TGTCAGCAGTATGGTAGCTCACCCCCGTACACTTTT  406  \n",
       "1                    TGTCAGCAGTATGGTAGCTCACCCCCGTACACTTTT  382  \n",
       "2                    TGTCAGCAGTATGGTAGCTCACCCCCGTACACTTTT  376  \n",
       "3                    TGTCAGCAGTATGGTAGCTCACCCCCGTACACTTTT  350  \n",
       "4                    TGTCAGCAGTATGGTAGCTCACCCCCGTACACTTTT  348  \n",
       "...                                                   ...  ...  \n",
       "474009               TGTCAGCAGTATGGTAGCTCACCCCCGTACACTTTT    1  \n",
       "474010               TGTCAGCAGTATGGTAGCTCACCCCCGTACACTTTT    1  \n",
       "474011  TGTGCGAGAGGCAAGGGCGCCGACTACTATGATAGTAGTGGTTATT...    1  \n",
       "474012  TGTGCGAGAGGCAAGGGCGCCGACTACTATGATAGTAGTGGTTATT...    1  \n",
       "474013               TGTCAGCAGTATGGTAGCTCACCCCCGTACACTTTT    1  \n",
       "\n",
       "[474014 rows x 7 columns]"
      ]
     },
     "execution_count": 4,
     "metadata": {},
     "output_type": "execute_result"
    }
   ],
   "source": [
    "df_UMI_count_filter"
   ]
  },
  {
   "cell_type": "code",
   "execution_count": 5,
   "id": "broken-conviction",
   "metadata": {},
   "outputs": [
    {
     "name": "stdout",
     "output_type": "stream",
     "text": [
      "2022-12-26 11:20:07,005 - celescope.tools.utils.get_barcode_from_match_dir - INFO - start...\n",
      "2022-12-26 11:20:07,007 - celescope.tools.utils.get_matrix_dir_from_match_dir - INFO - start...\n",
      "2022-12-26 11:20:07,021 - celescope.tools.utils.get_matrix_dir_from_match_dir - INFO - Matrix_dir :/SGRNJ06/bioinfo/PROJ04/PROJ_22.SC/P20012001_SCOPEv2/temp/DYH-1202_c3/DYH-1202/05.count/DYH-1202_matrix_10X\n",
      "2022-12-26 11:20:07,022 - celescope.tools.utils.get_matrix_dir_from_match_dir - INFO - done. time used: 0:00:00.013397\n",
      "2022-12-26 11:20:07,022 - celescope.tools.utils.get_barcode_from_matrix_dir - INFO - start...\n",
      "2022-12-26 11:20:07,083 - celescope.tools.utils.get_barcode_from_matrix_dir - INFO - done. time used: 0:00:00.059717\n",
      "2022-12-26 11:20:07,084 - celescope.tools.utils.get_barcode_from_match_dir - INFO - done. time used: 0:00:00.076368\n"
     ]
    }
   ],
   "source": [
    "match_cell_barcodes, _match_cell_number = utils.get_barcode_from_match_dir(\"/SGRNJ06/bioinfo/PROJ04/PROJ_22.SC/P20012001_SCOPEv2/temp/DYH-1202_c3/DYH-1202\")"
   ]
  },
  {
   "cell_type": "code",
   "execution_count": 8,
   "id": "military-humidity",
   "metadata": {},
   "outputs": [],
   "source": [
    "match_cell_barcodes = set(match_cell_barcodes)"
   ]
  },
  {
   "cell_type": "code",
   "execution_count": 9,
   "id": "valid-relations",
   "metadata": {},
   "outputs": [],
   "source": [
    "df_UMI_sum = df_UMI_count_filter.groupby(['barcode'], as_index=False).agg({\"UMI\": \"sum\"})"
   ]
  },
  {
   "cell_type": "code",
   "execution_count": 11,
   "id": "blind-chaos",
   "metadata": {},
   "outputs": [],
   "source": [
    "df_match_UMI_count_filter = df_UMI_count_filter[df_UMI_count_filter['barcode'].isin(match_cell_barcodes)]\n",
    "df_match_UMI_sum = df_UMI_sum[df_UMI_sum['barcode'].isin(match_cell_barcodes)]"
   ]
  },
  {
   "cell_type": "code",
   "execution_count": 14,
   "id": "prospective-corporation",
   "metadata": {},
   "outputs": [
    {
     "data": {
      "text/html": [
       "<div>\n",
       "<style scoped>\n",
       "    .dataframe tbody tr th:only-of-type {\n",
       "        vertical-align: middle;\n",
       "    }\n",
       "\n",
       "    .dataframe tbody tr th {\n",
       "        vertical-align: top;\n",
       "    }\n",
       "\n",
       "    .dataframe thead th {\n",
       "        text-align: right;\n",
       "    }\n",
       "</style>\n",
       "<table border=\"1\" class=\"dataframe\">\n",
       "  <thead>\n",
       "    <tr style=\"text-align: right;\">\n",
       "      <th></th>\n",
       "      <th>barcode</th>\n",
       "      <th>chain</th>\n",
       "      <th>bestVGene</th>\n",
       "      <th>bestJGene</th>\n",
       "      <th>aaSeqCDR3</th>\n",
       "      <th>nSeqCDR3</th>\n",
       "      <th>UMI</th>\n",
       "    </tr>\n",
       "  </thead>\n",
       "  <tbody>\n",
       "    <tr>\n",
       "      <th>0</th>\n",
       "      <td>AAGACGGACTGAGCCATAGGATGA</td>\n",
       "      <td>IGK</td>\n",
       "      <td>IGKV3-20</td>\n",
       "      <td>IGKJ2</td>\n",
       "      <td>CQQYGSSPPYTF</td>\n",
       "      <td>TGTCAGCAGTATGGTAGCTCACCCCCGTACACTTTT</td>\n",
       "      <td>406</td>\n",
       "    </tr>\n",
       "    <tr>\n",
       "      <th>1</th>\n",
       "      <td>GACTAGTAAACAACCATGGCTTCA</td>\n",
       "      <td>IGK</td>\n",
       "      <td>IGKV3-20</td>\n",
       "      <td>IGKJ2</td>\n",
       "      <td>CQQYGSSPPYTF</td>\n",
       "      <td>TGTCAGCAGTATGGTAGCTCACCCCCGTACACTTTT</td>\n",
       "      <td>382</td>\n",
       "    </tr>\n",
       "    <tr>\n",
       "      <th>2</th>\n",
       "      <td>GGAGAACACAGCGTTAGGAGAACA</td>\n",
       "      <td>IGK</td>\n",
       "      <td>IGKV3-20</td>\n",
       "      <td>IGKJ2</td>\n",
       "      <td>CQQYGSSPPYTF</td>\n",
       "      <td>TGTCAGCAGTATGGTAGCTCACCCCCGTACACTTTT</td>\n",
       "      <td>376</td>\n",
       "    </tr>\n",
       "    <tr>\n",
       "      <th>3</th>\n",
       "      <td>AGTCACTACAACCACACGAACTTA</td>\n",
       "      <td>IGK</td>\n",
       "      <td>IGKV3-20</td>\n",
       "      <td>IGKJ2</td>\n",
       "      <td>CQQYGSSPPYTF</td>\n",
       "      <td>TGTCAGCAGTATGGTAGCTCACCCCCGTACACTTTT</td>\n",
       "      <td>350</td>\n",
       "    </tr>\n",
       "    <tr>\n",
       "      <th>4</th>\n",
       "      <td>GAACAGGCACCTCCAACCGTGAGA</td>\n",
       "      <td>IGK</td>\n",
       "      <td>IGKV3-20</td>\n",
       "      <td>IGKJ2</td>\n",
       "      <td>CQQYGSSPPYTF</td>\n",
       "      <td>TGTCAGCAGTATGGTAGCTCACCCCCGTACACTTTT</td>\n",
       "      <td>348</td>\n",
       "    </tr>\n",
       "    <tr>\n",
       "      <th>...</th>\n",
       "      <td>...</td>\n",
       "      <td>...</td>\n",
       "      <td>...</td>\n",
       "      <td>...</td>\n",
       "      <td>...</td>\n",
       "      <td>...</td>\n",
       "      <td>...</td>\n",
       "    </tr>\n",
       "    <tr>\n",
       "      <th>472250</th>\n",
       "      <td>ATCATTCCGAGTTAGCAGCACCTC</td>\n",
       "      <td>IGH</td>\n",
       "      <td>IGHV4-39</td>\n",
       "      <td>IGHJ6</td>\n",
       "      <td>CARGKGADYYDSSGYYYVSYYYYGMDVW</td>\n",
       "      <td>TGTGCGAGAGGCAAGGGCGCCGACTACTATGATAGTAGTGGTTATT...</td>\n",
       "      <td>1</td>\n",
       "    </tr>\n",
       "    <tr>\n",
       "      <th>472269</th>\n",
       "      <td>ATCATTCCGCCAAGACCCGACAAC</td>\n",
       "      <td>IGH</td>\n",
       "      <td>IGHV4-39</td>\n",
       "      <td>IGHJ6</td>\n",
       "      <td>CARGKGADYYDSSGYYYVSYYYYGMDVW</td>\n",
       "      <td>TGTGCGAGAGGCAAGGGCGCCGACTACTATGATAGTAGTGGTTATT...</td>\n",
       "      <td>1</td>\n",
       "    </tr>\n",
       "    <tr>\n",
       "      <th>472454</th>\n",
       "      <td>ATCATTCCCTGGCATACGAACTTA</td>\n",
       "      <td>IGH</td>\n",
       "      <td>IGHV4-39</td>\n",
       "      <td>IGHJ6</td>\n",
       "      <td>CARGKGADYYDSSGYYYVSYYYYGMDVW</td>\n",
       "      <td>TGTGCGAGAGGCAAGGGCGCCGACTACTATGATAGTAGTGGTTATT...</td>\n",
       "      <td>1</td>\n",
       "    </tr>\n",
       "    <tr>\n",
       "      <th>472603</th>\n",
       "      <td>ATCATTCCGTGTTCTACAACCACA</td>\n",
       "      <td>IGK</td>\n",
       "      <td>IGKV3-20</td>\n",
       "      <td>IGKJ2</td>\n",
       "      <td>CQQYGSSPPYTF</td>\n",
       "      <td>TGTCAGCAGTATGGTAGCTCACCCCCGTACACTTTT</td>\n",
       "      <td>1</td>\n",
       "    </tr>\n",
       "    <tr>\n",
       "      <th>473801</th>\n",
       "      <td>ATCCTGTAAGTACAAGAAGAGATC</td>\n",
       "      <td>IGK</td>\n",
       "      <td>IGKV2-30</td>\n",
       "      <td>IGKJ1</td>\n",
       "      <td>CMQGTHWLRQTF</td>\n",
       "      <td>TGCATGCAAGGTACACACTGGCTCCGTCAGACGTTC</td>\n",
       "      <td>1</td>\n",
       "    </tr>\n",
       "  </tbody>\n",
       "</table>\n",
       "<p>36274 rows × 7 columns</p>\n",
       "</div>"
      ],
      "text/plain": [
       "                         barcode chain bestVGene bestJGene  \\\n",
       "0       AAGACGGACTGAGCCATAGGATGA   IGK  IGKV3-20     IGKJ2   \n",
       "1       GACTAGTAAACAACCATGGCTTCA   IGK  IGKV3-20     IGKJ2   \n",
       "2       GGAGAACACAGCGTTAGGAGAACA   IGK  IGKV3-20     IGKJ2   \n",
       "3       AGTCACTACAACCACACGAACTTA   IGK  IGKV3-20     IGKJ2   \n",
       "4       GAACAGGCACCTCCAACCGTGAGA   IGK  IGKV3-20     IGKJ2   \n",
       "...                          ...   ...       ...       ...   \n",
       "472250  ATCATTCCGAGTTAGCAGCACCTC   IGH  IGHV4-39     IGHJ6   \n",
       "472269  ATCATTCCGCCAAGACCCGACAAC   IGH  IGHV4-39     IGHJ6   \n",
       "472454  ATCATTCCCTGGCATACGAACTTA   IGH  IGHV4-39     IGHJ6   \n",
       "472603  ATCATTCCGTGTTCTACAACCACA   IGK  IGKV3-20     IGKJ2   \n",
       "473801  ATCCTGTAAGTACAAGAAGAGATC   IGK  IGKV2-30     IGKJ1   \n",
       "\n",
       "                           aaSeqCDR3  \\\n",
       "0                       CQQYGSSPPYTF   \n",
       "1                       CQQYGSSPPYTF   \n",
       "2                       CQQYGSSPPYTF   \n",
       "3                       CQQYGSSPPYTF   \n",
       "4                       CQQYGSSPPYTF   \n",
       "...                              ...   \n",
       "472250  CARGKGADYYDSSGYYYVSYYYYGMDVW   \n",
       "472269  CARGKGADYYDSSGYYYVSYYYYGMDVW   \n",
       "472454  CARGKGADYYDSSGYYYVSYYYYGMDVW   \n",
       "472603                  CQQYGSSPPYTF   \n",
       "473801                  CMQGTHWLRQTF   \n",
       "\n",
       "                                                 nSeqCDR3  UMI  \n",
       "0                    TGTCAGCAGTATGGTAGCTCACCCCCGTACACTTTT  406  \n",
       "1                    TGTCAGCAGTATGGTAGCTCACCCCCGTACACTTTT  382  \n",
       "2                    TGTCAGCAGTATGGTAGCTCACCCCCGTACACTTTT  376  \n",
       "3                    TGTCAGCAGTATGGTAGCTCACCCCCGTACACTTTT  350  \n",
       "4                    TGTCAGCAGTATGGTAGCTCACCCCCGTACACTTTT  348  \n",
       "...                                                   ...  ...  \n",
       "472250  TGTGCGAGAGGCAAGGGCGCCGACTACTATGATAGTAGTGGTTATT...    1  \n",
       "472269  TGTGCGAGAGGCAAGGGCGCCGACTACTATGATAGTAGTGGTTATT...    1  \n",
       "472454  TGTGCGAGAGGCAAGGGCGCCGACTACTATGATAGTAGTGGTTATT...    1  \n",
       "472603               TGTCAGCAGTATGGTAGCTCACCCCCGTACACTTTT    1  \n",
       "473801               TGCATGCAAGGTACACACTGGCTCCGTCAGACGTTC    1  \n",
       "\n",
       "[36274 rows x 7 columns]"
      ]
     },
     "execution_count": 14,
     "metadata": {},
     "output_type": "execute_result"
    }
   ],
   "source": [
    "df_match_UMI_count_filter"
   ]
  },
  {
   "cell_type": "code",
   "execution_count": 18,
   "id": "sustainable-north",
   "metadata": {},
   "outputs": [],
   "source": [
    "        percentile = PERCENTILE[\"TCR\"]\n",
    "        umi_threshold, target_cell_barcodes = target_cell_calling(\n",
    "            df_match_UMI_sum, \n",
    "            expected_target_cell_num=3000, \n",
    "            target_barcodes=None,\n",
    "            UMI_min=3,\n",
    "            percentile=percentile\n",
    "        )\n",
    "        df_cell = df_match_UMI_count_filter[df_match_UMI_count_filter['barcode'].isin(\n",
    "            target_cell_barcodes)]\n",
    "        df_UMI_sum['mark'] = df_UMI_sum['barcode'].apply(lambda x: 'CB' if x in target_cell_barcodes else 'UB')\n",
    "        df_UMI_sum = df_UMI_sum.sort_values(by=['UMI'], ascending=False)"
   ]
  },
  {
   "cell_type": "code",
   "execution_count": 30,
   "id": "religious-external",
   "metadata": {},
   "outputs": [
    {
     "data": {
      "text/html": [
       "<div>\n",
       "<style scoped>\n",
       "    .dataframe tbody tr th:only-of-type {\n",
       "        vertical-align: middle;\n",
       "    }\n",
       "\n",
       "    .dataframe tbody tr th {\n",
       "        vertical-align: top;\n",
       "    }\n",
       "\n",
       "    .dataframe thead th {\n",
       "        text-align: right;\n",
       "    }\n",
       "</style>\n",
       "<table border=\"1\" class=\"dataframe\">\n",
       "  <thead>\n",
       "    <tr style=\"text-align: right;\">\n",
       "      <th></th>\n",
       "      <th>barcode</th>\n",
       "      <th>chain</th>\n",
       "      <th>bestVGene</th>\n",
       "      <th>bestJGene</th>\n",
       "      <th>aaSeqCDR3</th>\n",
       "      <th>nSeqCDR3</th>\n",
       "      <th>UMI</th>\n",
       "    </tr>\n",
       "  </thead>\n",
       "  <tbody>\n",
       "    <tr>\n",
       "      <th>263976</th>\n",
       "      <td>TGGCTTCAAGAGTCAAAATGTTGC</td>\n",
       "      <td>IGL</td>\n",
       "      <td>IGLV3-12</td>\n",
       "      <td>IGLJ1</td>\n",
       "      <td>WEVWVGGSGRGAVYYDRSGVFF</td>\n",
       "      <td>TGGGAGGTGTGGGTCGGGGGGAGTGGGAGGGGCGCGGTCTACTATG...</td>\n",
       "      <td>1</td>\n",
       "    </tr>\n",
       "    <tr>\n",
       "      <th>290499</th>\n",
       "      <td>GACAGTGCTGAAGAGACTCAATGA</td>\n",
       "      <td>IGL</td>\n",
       "      <td>IGLV4-60</td>\n",
       "      <td>IGLJ3</td>\n",
       "      <td>CGFWGVL</td>\n",
       "      <td>TGTGGGTTTTGGGGGGTGTTA</td>\n",
       "      <td>1</td>\n",
       "    </tr>\n",
       "    <tr>\n",
       "      <th>298295</th>\n",
       "      <td>GAGCTGAAAGTCACTAAAGGACAC</td>\n",
       "      <td>IGL</td>\n",
       "      <td>IGLV5-39</td>\n",
       "      <td>IGLJ1</td>\n",
       "      <td>CANCYGSCILIVCLNYVE</td>\n",
       "      <td>TGTGCTAATTGTTATGGCTCCTGTATTTTGATTGTGTGTTTGAATT...</td>\n",
       "      <td>1</td>\n",
       "    </tr>\n",
       "    <tr>\n",
       "      <th>321187</th>\n",
       "      <td>ACATTGGCATAGCGACTGGTGGTA</td>\n",
       "      <td>IGL</td>\n",
       "      <td>IGLV5-37</td>\n",
       "      <td>IGLJ5</td>\n",
       "      <td>CMIYVDVVF</td>\n",
       "      <td>TGTATGATTTATGTTGATGTTGTGTTT</td>\n",
       "      <td>1</td>\n",
       "    </tr>\n",
       "    <tr>\n",
       "      <th>337435</th>\n",
       "      <td>AGATCGCAATCCTGTAACCACTGT</td>\n",
       "      <td>IGL</td>\n",
       "      <td>IGLV5-52</td>\n",
       "      <td>IGLJ4</td>\n",
       "      <td>CGTLDKDFNTFFLFDNVF</td>\n",
       "      <td>TGTGGTACATTGGACAAAGACTTCAATACATTTTTTTTATTTGATA...</td>\n",
       "      <td>1</td>\n",
       "    </tr>\n",
       "    <tr>\n",
       "      <th>397281</th>\n",
       "      <td>CACTTCGATCCGTCTACTAAGGTC</td>\n",
       "      <td>IGL</td>\n",
       "      <td>IGLV4-60</td>\n",
       "      <td>IGLJ2</td>\n",
       "      <td>IEVLVVVR</td>\n",
       "      <td>ATTGAGGTGTTGGTTGTGGTAAGA</td>\n",
       "      <td>1</td>\n",
       "    </tr>\n",
       "    <tr>\n",
       "      <th>418487</th>\n",
       "      <td>CCATCCTCATCCTGTAAGAGTCAA</td>\n",
       "      <td>IGL</td>\n",
       "      <td>IGLV3-13</td>\n",
       "      <td>IGLJ5</td>\n",
       "      <td>FFSGLVLF</td>\n",
       "      <td>TTTTTTTCTGGTTTGGTTTTGTTT</td>\n",
       "      <td>1</td>\n",
       "    </tr>\n",
       "    <tr>\n",
       "      <th>451243</th>\n",
       "      <td>AGGCTAACATTGGCTCACTATGCA</td>\n",
       "      <td>IGL</td>\n",
       "      <td>IGLV7-43</td>\n",
       "      <td>IGLJ2</td>\n",
       "      <td>CVGYAV</td>\n",
       "      <td>TGCGTGGGCTACGCCGTC</td>\n",
       "      <td>1</td>\n",
       "    </tr>\n",
       "    <tr>\n",
       "      <th>463743</th>\n",
       "      <td>ATTGGCTCCTGGCATACCTAATCC</td>\n",
       "      <td>IGL</td>\n",
       "      <td>IGLV3-16</td>\n",
       "      <td>IGLJ6</td>\n",
       "      <td>CLSADILDCNVL</td>\n",
       "      <td>TGTTTATCAGCAGACATTCTTGATTGTAATGTGTTG</td>\n",
       "      <td>1</td>\n",
       "    </tr>\n",
       "  </tbody>\n",
       "</table>\n",
       "</div>"
      ],
      "text/plain": [
       "                         barcode chain bestVGene bestJGene  \\\n",
       "263976  TGGCTTCAAGAGTCAAAATGTTGC   IGL  IGLV3-12     IGLJ1   \n",
       "290499  GACAGTGCTGAAGAGACTCAATGA   IGL  IGLV4-60     IGLJ3   \n",
       "298295  GAGCTGAAAGTCACTAAAGGACAC   IGL  IGLV5-39     IGLJ1   \n",
       "321187  ACATTGGCATAGCGACTGGTGGTA   IGL  IGLV5-37     IGLJ5   \n",
       "337435  AGATCGCAATCCTGTAACCACTGT   IGL  IGLV5-52     IGLJ4   \n",
       "397281  CACTTCGATCCGTCTACTAAGGTC   IGL  IGLV4-60     IGLJ2   \n",
       "418487  CCATCCTCATCCTGTAAGAGTCAA   IGL  IGLV3-13     IGLJ5   \n",
       "451243  AGGCTAACATTGGCTCACTATGCA   IGL  IGLV7-43     IGLJ2   \n",
       "463743  ATTGGCTCCTGGCATACCTAATCC   IGL  IGLV3-16     IGLJ6   \n",
       "\n",
       "                     aaSeqCDR3  \\\n",
       "263976  WEVWVGGSGRGAVYYDRSGVFF   \n",
       "290499                 CGFWGVL   \n",
       "298295      CANCYGSCILIVCLNYVE   \n",
       "321187               CMIYVDVVF   \n",
       "337435      CGTLDKDFNTFFLFDNVF   \n",
       "397281                IEVLVVVR   \n",
       "418487                FFSGLVLF   \n",
       "451243                  CVGYAV   \n",
       "463743            CLSADILDCNVL   \n",
       "\n",
       "                                                 nSeqCDR3  UMI  \n",
       "263976  TGGGAGGTGTGGGTCGGGGGGAGTGGGAGGGGCGCGGTCTACTATG...    1  \n",
       "290499                              TGTGGGTTTTGGGGGGTGTTA    1  \n",
       "298295  TGTGCTAATTGTTATGGCTCCTGTATTTTGATTGTGTGTTTGAATT...    1  \n",
       "321187                        TGTATGATTTATGTTGATGTTGTGTTT    1  \n",
       "337435  TGTGGTACATTGGACAAAGACTTCAATACATTTTTTTTATTTGATA...    1  \n",
       "397281                           ATTGAGGTGTTGGTTGTGGTAAGA    1  \n",
       "418487                           TTTTTTTCTGGTTTGGTTTTGTTT    1  \n",
       "451243                                 TGCGTGGGCTACGCCGTC    1  \n",
       "463743               TGTTTATCAGCAGACATTCTTGATTGTAATGTGTTG    1  "
      ]
     },
     "execution_count": 30,
     "metadata": {},
     "output_type": "execute_result"
    }
   ],
   "source": [
    "df_cell[df_cell[\"chain\"]==\"IGL\"]"
   ]
  },
  {
   "cell_type": "code",
   "execution_count": 21,
   "id": "acting-shakespeare",
   "metadata": {},
   "outputs": [],
   "source": [
    "        df_iUMI = df_cell[df_cell.UMI >= 2]\n",
    "        df_confident = df_iUMI[df_iUMI[\"chain\"].isin([\"IGH\", \"IGL\", \"IGK\"])]\n",
    "        df_confident = df_confident.sort_values(\"UMI\", ascending=False)\n",
    "        df_confident = df_confident.groupby(\n",
    "            [\"barcode\", \"chain\"], as_index=False).head(1)"
   ]
  },
  {
   "cell_type": "code",
   "execution_count": 25,
   "id": "willing-bullet",
   "metadata": {},
   "outputs": [
    {
     "data": {
      "text/html": [
       "<div>\n",
       "<style scoped>\n",
       "    .dataframe tbody tr th:only-of-type {\n",
       "        vertical-align: middle;\n",
       "    }\n",
       "\n",
       "    .dataframe tbody tr th {\n",
       "        vertical-align: top;\n",
       "    }\n",
       "\n",
       "    .dataframe thead th {\n",
       "        text-align: right;\n",
       "    }\n",
       "</style>\n",
       "<table border=\"1\" class=\"dataframe\">\n",
       "  <thead>\n",
       "    <tr style=\"text-align: right;\">\n",
       "      <th></th>\n",
       "      <th>barcode</th>\n",
       "      <th>chain</th>\n",
       "      <th>bestVGene</th>\n",
       "      <th>bestJGene</th>\n",
       "      <th>aaSeqCDR3</th>\n",
       "      <th>nSeqCDR3</th>\n",
       "      <th>UMI</th>\n",
       "    </tr>\n",
       "  </thead>\n",
       "  <tbody>\n",
       "    <tr>\n",
       "      <th>0</th>\n",
       "      <td>AAGACGGACTGAGCCATAGGATGA</td>\n",
       "      <td>IGK</td>\n",
       "      <td>IGKV3-20</td>\n",
       "      <td>IGKJ2</td>\n",
       "      <td>CQQYGSSPPYTF</td>\n",
       "      <td>TGTCAGCAGTATGGTAGCTCACCCCCGTACACTTTT</td>\n",
       "      <td>406</td>\n",
       "    </tr>\n",
       "    <tr>\n",
       "      <th>1</th>\n",
       "      <td>GACTAGTAAACAACCATGGCTTCA</td>\n",
       "      <td>IGK</td>\n",
       "      <td>IGKV3-20</td>\n",
       "      <td>IGKJ2</td>\n",
       "      <td>CQQYGSSPPYTF</td>\n",
       "      <td>TGTCAGCAGTATGGTAGCTCACCCCCGTACACTTTT</td>\n",
       "      <td>382</td>\n",
       "    </tr>\n",
       "    <tr>\n",
       "      <th>2</th>\n",
       "      <td>GGAGAACACAGCGTTAGGAGAACA</td>\n",
       "      <td>IGK</td>\n",
       "      <td>IGKV3-20</td>\n",
       "      <td>IGKJ2</td>\n",
       "      <td>CQQYGSSPPYTF</td>\n",
       "      <td>TGTCAGCAGTATGGTAGCTCACCCCCGTACACTTTT</td>\n",
       "      <td>376</td>\n",
       "    </tr>\n",
       "    <tr>\n",
       "      <th>3</th>\n",
       "      <td>AGTCACTACAACCACACGAACTTA</td>\n",
       "      <td>IGK</td>\n",
       "      <td>IGKV3-20</td>\n",
       "      <td>IGKJ2</td>\n",
       "      <td>CQQYGSSPPYTF</td>\n",
       "      <td>TGTCAGCAGTATGGTAGCTCACCCCCGTACACTTTT</td>\n",
       "      <td>350</td>\n",
       "    </tr>\n",
       "    <tr>\n",
       "      <th>4</th>\n",
       "      <td>GAACAGGCACCTCCAACCGTGAGA</td>\n",
       "      <td>IGK</td>\n",
       "      <td>IGKV3-20</td>\n",
       "      <td>IGKJ2</td>\n",
       "      <td>CQQYGSSPPYTF</td>\n",
       "      <td>TGTCAGCAGTATGGTAGCTCACCCCCGTACACTTTT</td>\n",
       "      <td>348</td>\n",
       "    </tr>\n",
       "    <tr>\n",
       "      <th>...</th>\n",
       "      <td>...</td>\n",
       "      <td>...</td>\n",
       "      <td>...</td>\n",
       "      <td>...</td>\n",
       "      <td>...</td>\n",
       "      <td>...</td>\n",
       "      <td>...</td>\n",
       "    </tr>\n",
       "    <tr>\n",
       "      <th>167316</th>\n",
       "      <td>ATAGCGACACGCTCGACGCATACA</td>\n",
       "      <td>IGH</td>\n",
       "      <td>IGHV4-39</td>\n",
       "      <td>IGHJ6</td>\n",
       "      <td>CARGKGADYYDSSGYYYVSYYYYGMDVW</td>\n",
       "      <td>TGTGCGAGAGGCAAGGGCGCCGACTACTATGATAGTAGTGGTTATT...</td>\n",
       "      <td>2</td>\n",
       "    </tr>\n",
       "    <tr>\n",
       "      <th>167378</th>\n",
       "      <td>GAATCTGACGAACTTACCTAATCC</td>\n",
       "      <td>IGH</td>\n",
       "      <td>IGHV4-39</td>\n",
       "      <td>IGHJ6</td>\n",
       "      <td>CARGKGADYYDSSGYYYVSYYYYGMDVW</td>\n",
       "      <td>TGTGCGAGAGGCAAGGGCGCCGACTACTATGATAGTAGTGGTTATT...</td>\n",
       "      <td>2</td>\n",
       "    </tr>\n",
       "    <tr>\n",
       "      <th>168464</th>\n",
       "      <td>CCGTGAGAGGAGAACAGAGCTGAA</td>\n",
       "      <td>IGH</td>\n",
       "      <td>IGHV4-39</td>\n",
       "      <td>IGHJ6</td>\n",
       "      <td>CARGKGADYYDSSGYYYVGYYYYGMDVW</td>\n",
       "      <td>TGTGCGAGAGGCAAGGGCGCCGACTACTATGATAGTAGTGGTTATT...</td>\n",
       "      <td>2</td>\n",
       "    </tr>\n",
       "    <tr>\n",
       "      <th>168664</th>\n",
       "      <td>AGTGGTCACTCAATGAACATTGGC</td>\n",
       "      <td>IGH</td>\n",
       "      <td>IGHV4-39</td>\n",
       "      <td>IGHJ6</td>\n",
       "      <td>CARGKGADYYDSSGYYYVSYYYYGMDVW</td>\n",
       "      <td>TGTGCGAGAGGCAAGGGCGCCGACTACTATGATAGTAGTGGTTATT...</td>\n",
       "      <td>2</td>\n",
       "    </tr>\n",
       "    <tr>\n",
       "      <th>194091</th>\n",
       "      <td>AGCCATGCTGAAGAGAAAGGTACA</td>\n",
       "      <td>IGH</td>\n",
       "      <td>IGHV4-39</td>\n",
       "      <td>IGHJ6</td>\n",
       "      <td>CARGKGADYYDSSGYYYVSYYYYGMDVW</td>\n",
       "      <td>TGTGCGAGAGGCAAGGGCGCCGACTACTATGATAGTAGTGGTTATT...</td>\n",
       "      <td>2</td>\n",
       "    </tr>\n",
       "  </tbody>\n",
       "</table>\n",
       "<p>33327 rows × 7 columns</p>\n",
       "</div>"
      ],
      "text/plain": [
       "                         barcode chain bestVGene bestJGene  \\\n",
       "0       AAGACGGACTGAGCCATAGGATGA   IGK  IGKV3-20     IGKJ2   \n",
       "1       GACTAGTAAACAACCATGGCTTCA   IGK  IGKV3-20     IGKJ2   \n",
       "2       GGAGAACACAGCGTTAGGAGAACA   IGK  IGKV3-20     IGKJ2   \n",
       "3       AGTCACTACAACCACACGAACTTA   IGK  IGKV3-20     IGKJ2   \n",
       "4       GAACAGGCACCTCCAACCGTGAGA   IGK  IGKV3-20     IGKJ2   \n",
       "...                          ...   ...       ...       ...   \n",
       "167316  ATAGCGACACGCTCGACGCATACA   IGH  IGHV4-39     IGHJ6   \n",
       "167378  GAATCTGACGAACTTACCTAATCC   IGH  IGHV4-39     IGHJ6   \n",
       "168464  CCGTGAGAGGAGAACAGAGCTGAA   IGH  IGHV4-39     IGHJ6   \n",
       "168664  AGTGGTCACTCAATGAACATTGGC   IGH  IGHV4-39     IGHJ6   \n",
       "194091  AGCCATGCTGAAGAGAAAGGTACA   IGH  IGHV4-39     IGHJ6   \n",
       "\n",
       "                           aaSeqCDR3  \\\n",
       "0                       CQQYGSSPPYTF   \n",
       "1                       CQQYGSSPPYTF   \n",
       "2                       CQQYGSSPPYTF   \n",
       "3                       CQQYGSSPPYTF   \n",
       "4                       CQQYGSSPPYTF   \n",
       "...                              ...   \n",
       "167316  CARGKGADYYDSSGYYYVSYYYYGMDVW   \n",
       "167378  CARGKGADYYDSSGYYYVSYYYYGMDVW   \n",
       "168464  CARGKGADYYDSSGYYYVGYYYYGMDVW   \n",
       "168664  CARGKGADYYDSSGYYYVSYYYYGMDVW   \n",
       "194091  CARGKGADYYDSSGYYYVSYYYYGMDVW   \n",
       "\n",
       "                                                 nSeqCDR3  UMI  \n",
       "0                    TGTCAGCAGTATGGTAGCTCACCCCCGTACACTTTT  406  \n",
       "1                    TGTCAGCAGTATGGTAGCTCACCCCCGTACACTTTT  382  \n",
       "2                    TGTCAGCAGTATGGTAGCTCACCCCCGTACACTTTT  376  \n",
       "3                    TGTCAGCAGTATGGTAGCTCACCCCCGTACACTTTT  350  \n",
       "4                    TGTCAGCAGTATGGTAGCTCACCCCCGTACACTTTT  348  \n",
       "...                                                   ...  ...  \n",
       "167316  TGTGCGAGAGGCAAGGGCGCCGACTACTATGATAGTAGTGGTTATT...    2  \n",
       "167378  TGTGCGAGAGGCAAGGGCGCCGACTACTATGATAGTAGTGGTTATT...    2  \n",
       "168464  TGTGCGAGAGGCAAGGGCGCCGACTACTATGATAGTAGTGGTTATT...    2  \n",
       "168664  TGTGCGAGAGGCAAGGGCGCCGACTACTATGATAGTAGTGGTTATT...    2  \n",
       "194091  TGTGCGAGAGGCAAGGGCGCCGACTACTATGATAGTAGTGGTTATT...    2  \n",
       "\n",
       "[33327 rows x 7 columns]"
      ]
     },
     "execution_count": 25,
     "metadata": {},
     "output_type": "execute_result"
    }
   ],
   "source": [
    "df_confident"
   ]
  },
  {
   "cell_type": "code",
   "execution_count": 28,
   "id": "separate-individual",
   "metadata": {},
   "outputs": [
    {
     "data": {
      "text/plain": [
       "{'IGH', 'IGK', 'IGL'}"
      ]
     },
     "execution_count": 28,
     "metadata": {},
     "output_type": "execute_result"
    }
   ],
   "source": [
    "set(df_cell.chain)"
   ]
  },
  {
   "cell_type": "code",
   "execution_count": 23,
   "id": "adjustable-brook",
   "metadata": {},
   "outputs": [],
   "source": [
    "        df_valid_count = df_confident.set_index([\"barcode\", \"chain\"])\n",
    "        df_valid_count = df_valid_count.unstack()\n",
    "        df_valid_count.columns = ['_'.join(col) for col in df_valid_count]\n",
    "        df_valid_count = df_valid_count.reset_index()\n",
    "        df_valid_count.fillna(inplace=True, value=\"NA\")"
   ]
  },
  {
   "cell_type": "code",
   "execution_count": 36,
   "id": "limiting-density",
   "metadata": {},
   "outputs": [
    {
     "data": {
      "text/plain": [
       "['aaSeqCDR3_IGH',\n",
       " 'nSeqCDR3_IGH',\n",
       " 'aaSeqCDR3_IGL',\n",
       " 'nSeqCDR3_IGL',\n",
       " 'aaSeqCDR3_IGK',\n",
       " 'nSeqCDR3_IGK']"
      ]
     },
     "execution_count": 36,
     "metadata": {},
     "output_type": "execute_result"
    }
   ],
   "source": [
    "cols"
   ]
  },
  {
   "cell_type": "code",
   "execution_count": 31,
   "id": "invisible-ballet",
   "metadata": {},
   "outputs": [
    {
     "data": {
      "text/html": [
       "<div>\n",
       "<style scoped>\n",
       "    .dataframe tbody tr th:only-of-type {\n",
       "        vertical-align: middle;\n",
       "    }\n",
       "\n",
       "    .dataframe tbody tr th {\n",
       "        vertical-align: top;\n",
       "    }\n",
       "\n",
       "    .dataframe thead th {\n",
       "        text-align: right;\n",
       "    }\n",
       "</style>\n",
       "<table border=\"1\" class=\"dataframe\">\n",
       "  <thead>\n",
       "    <tr style=\"text-align: right;\">\n",
       "      <th></th>\n",
       "      <th>barcode</th>\n",
       "      <th>bestVGene_IGH</th>\n",
       "      <th>bestVGene_IGK</th>\n",
       "      <th>bestJGene_IGH</th>\n",
       "      <th>bestJGene_IGK</th>\n",
       "      <th>aaSeqCDR3_IGH</th>\n",
       "      <th>aaSeqCDR3_IGK</th>\n",
       "      <th>nSeqCDR3_IGH</th>\n",
       "      <th>nSeqCDR3_IGK</th>\n",
       "      <th>UMI_IGH</th>\n",
       "      <th>UMI_IGK</th>\n",
       "    </tr>\n",
       "  </thead>\n",
       "  <tbody>\n",
       "    <tr>\n",
       "      <th>0</th>\n",
       "      <td>AAACATCGAACAACCACAGCGTTA</td>\n",
       "      <td>IGHV4-39</td>\n",
       "      <td>IGKV3-20</td>\n",
       "      <td>IGHJ6</td>\n",
       "      <td>IGKJ2</td>\n",
       "      <td>CARGKGADYYDSSGYYYVSYYYYGMDVW</td>\n",
       "      <td>CQQYGSSPPYTF</td>\n",
       "      <td>TGTGCGAGAGGCAAGGGCGCCGACTACTATGATAGTAGTGGTTATT...</td>\n",
       "      <td>TGTCAGCAGTATGGTAGCTCACCCCCGTACACTTTT</td>\n",
       "      <td>65.0</td>\n",
       "      <td>143.0</td>\n",
       "    </tr>\n",
       "    <tr>\n",
       "      <th>1</th>\n",
       "      <td>AAACATCGAACCGAGACCGTGAGA</td>\n",
       "      <td>IGHV4-39</td>\n",
       "      <td>IGKV3-20</td>\n",
       "      <td>IGHJ6</td>\n",
       "      <td>IGKJ2</td>\n",
       "      <td>CARGKGADYYDSSGYYYVSYYYYGMDVW</td>\n",
       "      <td>CQQYGSSPPYTF</td>\n",
       "      <td>TGTGCGAGAGGCAAGGGCGCCGACTACTATGATAGTAGTGGTTATT...</td>\n",
       "      <td>TGTCAGCAGTATGGTAGCTCACCCCCGTACACTTTT</td>\n",
       "      <td>71.0</td>\n",
       "      <td>105.0</td>\n",
       "    </tr>\n",
       "    <tr>\n",
       "      <th>2</th>\n",
       "      <td>AAACATCGAACGCTTAAGTACAAG</td>\n",
       "      <td>IGHV4-39</td>\n",
       "      <td>IGKV3-20</td>\n",
       "      <td>IGHJ6</td>\n",
       "      <td>IGKJ2</td>\n",
       "      <td>CARGKGADYYDSSGYYYVSYYYYGMDVW</td>\n",
       "      <td>CQQYGSSPPYTF</td>\n",
       "      <td>TGTGCGAGAGGCAAGGGCGCCGACTACTATGATAGTAGTGGTTATT...</td>\n",
       "      <td>TGTCAGCAGTATGGTAGCTCACCCCCGTACACTTTT</td>\n",
       "      <td>36.0</td>\n",
       "      <td>82.0</td>\n",
       "    </tr>\n",
       "    <tr>\n",
       "      <th>3</th>\n",
       "      <td>AAACATCGAACGTGATCTCAATGA</td>\n",
       "      <td>IGHV4-39</td>\n",
       "      <td>IGKV3-20</td>\n",
       "      <td>IGHJ6</td>\n",
       "      <td>IGKJ2</td>\n",
       "      <td>CARGKGADYYDSSGYYYVSYYYYGMDVW</td>\n",
       "      <td>CQQYGSSPPYTF</td>\n",
       "      <td>TGTGCGAGAGGCAAGGGCGCCGACTACTATGATAGTAGTGGTTATT...</td>\n",
       "      <td>TGTCAGCAGTATGGTAGCTCACCCCCGTACACTTTT</td>\n",
       "      <td>71.0</td>\n",
       "      <td>98.0</td>\n",
       "    </tr>\n",
       "    <tr>\n",
       "      <th>4</th>\n",
       "      <td>AAACATCGAACTCACCAAACATCG</td>\n",
       "      <td>IGHV4-39</td>\n",
       "      <td>IGKV3-20</td>\n",
       "      <td>IGHJ6</td>\n",
       "      <td>IGKJ2</td>\n",
       "      <td>CARGKGADYYDSSGYYYVSYYYYGMDVW</td>\n",
       "      <td>CQQYGSSPPYTF</td>\n",
       "      <td>TGTGCGAGAGGCAAGGGCGCCGACTACTATGATAGTAGTGGTTATT...</td>\n",
       "      <td>TGTCAGCAGTATGGTAGCTCACCCCCGTACACTTTT</td>\n",
       "      <td>22.0</td>\n",
       "      <td>61.0</td>\n",
       "    </tr>\n",
       "    <tr>\n",
       "      <th>...</th>\n",
       "      <td>...</td>\n",
       "      <td>...</td>\n",
       "      <td>...</td>\n",
       "      <td>...</td>\n",
       "      <td>...</td>\n",
       "      <td>...</td>\n",
       "      <td>...</td>\n",
       "      <td>...</td>\n",
       "      <td>...</td>\n",
       "      <td>...</td>\n",
       "      <td>...</td>\n",
       "    </tr>\n",
       "    <tr>\n",
       "      <th>16698</th>\n",
       "      <td>TTCACGCATGGCTTCAATCATTCC</td>\n",
       "      <td>IGHV4-39</td>\n",
       "      <td>IGKV3-20</td>\n",
       "      <td>IGHJ6</td>\n",
       "      <td>IGKJ2</td>\n",
       "      <td>CARGKGADYYDSSGYYYVSYYYYGMDVW</td>\n",
       "      <td>CQQYGSSPPYTF</td>\n",
       "      <td>TGTGCGAGAGGCAAGGGCGCCGACTACTATGATAGTAGTGGTTATT...</td>\n",
       "      <td>TGTCAGCAGTATGGTAGCTCACCCCCGTACACTTTT</td>\n",
       "      <td>27.0</td>\n",
       "      <td>44.0</td>\n",
       "    </tr>\n",
       "    <tr>\n",
       "      <th>16699</th>\n",
       "      <td>TTCACGCATGGTGGTAACGTATCA</td>\n",
       "      <td>IGHV4-39</td>\n",
       "      <td>IGKV3-20</td>\n",
       "      <td>IGHJ6</td>\n",
       "      <td>IGKJ2</td>\n",
       "      <td>CARGKGADYYDSSGYYYVSYYYYGMDVW</td>\n",
       "      <td>CQQYGSSPPYTF</td>\n",
       "      <td>TGTGCGAGAGGCAAGGGCGCCGACTACTATGATAGTAGTGGTTATT...</td>\n",
       "      <td>TGTCAGCAGTATGGTAGCTCACCCCCGTACACTTTT</td>\n",
       "      <td>31.0</td>\n",
       "      <td>53.0</td>\n",
       "    </tr>\n",
       "    <tr>\n",
       "      <th>16700</th>\n",
       "      <td>TTCACGCATGGTGGTACAAGGAGC</td>\n",
       "      <td>IGHV4-39</td>\n",
       "      <td>IGKV3-20</td>\n",
       "      <td>IGHJ6</td>\n",
       "      <td>IGKJ2</td>\n",
       "      <td>CARGKGADYYDSSGYYYVSYYYYGMDVW</td>\n",
       "      <td>CQQYGSSPPYTF</td>\n",
       "      <td>TGTGCGAGAGGCAAGGGCGCCGACTACTATGATAGTAGTGGTTATT...</td>\n",
       "      <td>TGTCAGCAGTATGGTAGCTCACCCCCGTACACTTTT</td>\n",
       "      <td>28.0</td>\n",
       "      <td>53.0</td>\n",
       "    </tr>\n",
       "    <tr>\n",
       "      <th>16701</th>\n",
       "      <td>TTCACGCATTCACGCAGCCACATA</td>\n",
       "      <td>IGHV4-39</td>\n",
       "      <td>IGKV3-20</td>\n",
       "      <td>IGHJ6</td>\n",
       "      <td>IGKJ2</td>\n",
       "      <td>CARGKGADYYDSSGYYYVSYYYYGMDVW</td>\n",
       "      <td>CQQYGSSPPYTF</td>\n",
       "      <td>TGTGCGAGAGGCAAGGGCGCCGACTACTATGATAGTAGTGGTTATT...</td>\n",
       "      <td>TGTCAGCAGTATGGTAGCTCACCCCCGTACACTTTT</td>\n",
       "      <td>26.0</td>\n",
       "      <td>109.0</td>\n",
       "    </tr>\n",
       "    <tr>\n",
       "      <th>16702</th>\n",
       "      <td>TTCACGCATTCACGCATCCGTCTA</td>\n",
       "      <td>IGHV4-39</td>\n",
       "      <td>IGKV3-20</td>\n",
       "      <td>IGHJ6</td>\n",
       "      <td>IGKJ2</td>\n",
       "      <td>CARGKGADYYDSSGYYYVSYYYYGMDVW</td>\n",
       "      <td>CQQYGSSPPYTF</td>\n",
       "      <td>TGTGCGAGAGGCAAGGGCGCCGACTACTATGATAGTAGTGGTTATT...</td>\n",
       "      <td>TGTCAGCAGTATGGTAGCTCACCCCCGTACACTTTT</td>\n",
       "      <td>31.0</td>\n",
       "      <td>71.0</td>\n",
       "    </tr>\n",
       "  </tbody>\n",
       "</table>\n",
       "<p>16703 rows × 11 columns</p>\n",
       "</div>"
      ],
      "text/plain": [
       "                        barcode bestVGene_IGH bestVGene_IGK bestJGene_IGH  \\\n",
       "0      AAACATCGAACAACCACAGCGTTA      IGHV4-39      IGKV3-20         IGHJ6   \n",
       "1      AAACATCGAACCGAGACCGTGAGA      IGHV4-39      IGKV3-20         IGHJ6   \n",
       "2      AAACATCGAACGCTTAAGTACAAG      IGHV4-39      IGKV3-20         IGHJ6   \n",
       "3      AAACATCGAACGTGATCTCAATGA      IGHV4-39      IGKV3-20         IGHJ6   \n",
       "4      AAACATCGAACTCACCAAACATCG      IGHV4-39      IGKV3-20         IGHJ6   \n",
       "...                         ...           ...           ...           ...   \n",
       "16698  TTCACGCATGGCTTCAATCATTCC      IGHV4-39      IGKV3-20         IGHJ6   \n",
       "16699  TTCACGCATGGTGGTAACGTATCA      IGHV4-39      IGKV3-20         IGHJ6   \n",
       "16700  TTCACGCATGGTGGTACAAGGAGC      IGHV4-39      IGKV3-20         IGHJ6   \n",
       "16701  TTCACGCATTCACGCAGCCACATA      IGHV4-39      IGKV3-20         IGHJ6   \n",
       "16702  TTCACGCATTCACGCATCCGTCTA      IGHV4-39      IGKV3-20         IGHJ6   \n",
       "\n",
       "      bestJGene_IGK                 aaSeqCDR3_IGH aaSeqCDR3_IGK  \\\n",
       "0             IGKJ2  CARGKGADYYDSSGYYYVSYYYYGMDVW  CQQYGSSPPYTF   \n",
       "1             IGKJ2  CARGKGADYYDSSGYYYVSYYYYGMDVW  CQQYGSSPPYTF   \n",
       "2             IGKJ2  CARGKGADYYDSSGYYYVSYYYYGMDVW  CQQYGSSPPYTF   \n",
       "3             IGKJ2  CARGKGADYYDSSGYYYVSYYYYGMDVW  CQQYGSSPPYTF   \n",
       "4             IGKJ2  CARGKGADYYDSSGYYYVSYYYYGMDVW  CQQYGSSPPYTF   \n",
       "...             ...                           ...           ...   \n",
       "16698         IGKJ2  CARGKGADYYDSSGYYYVSYYYYGMDVW  CQQYGSSPPYTF   \n",
       "16699         IGKJ2  CARGKGADYYDSSGYYYVSYYYYGMDVW  CQQYGSSPPYTF   \n",
       "16700         IGKJ2  CARGKGADYYDSSGYYYVSYYYYGMDVW  CQQYGSSPPYTF   \n",
       "16701         IGKJ2  CARGKGADYYDSSGYYYVSYYYYGMDVW  CQQYGSSPPYTF   \n",
       "16702         IGKJ2  CARGKGADYYDSSGYYYVSYYYYGMDVW  CQQYGSSPPYTF   \n",
       "\n",
       "                                            nSeqCDR3_IGH  \\\n",
       "0      TGTGCGAGAGGCAAGGGCGCCGACTACTATGATAGTAGTGGTTATT...   \n",
       "1      TGTGCGAGAGGCAAGGGCGCCGACTACTATGATAGTAGTGGTTATT...   \n",
       "2      TGTGCGAGAGGCAAGGGCGCCGACTACTATGATAGTAGTGGTTATT...   \n",
       "3      TGTGCGAGAGGCAAGGGCGCCGACTACTATGATAGTAGTGGTTATT...   \n",
       "4      TGTGCGAGAGGCAAGGGCGCCGACTACTATGATAGTAGTGGTTATT...   \n",
       "...                                                  ...   \n",
       "16698  TGTGCGAGAGGCAAGGGCGCCGACTACTATGATAGTAGTGGTTATT...   \n",
       "16699  TGTGCGAGAGGCAAGGGCGCCGACTACTATGATAGTAGTGGTTATT...   \n",
       "16700  TGTGCGAGAGGCAAGGGCGCCGACTACTATGATAGTAGTGGTTATT...   \n",
       "16701  TGTGCGAGAGGCAAGGGCGCCGACTACTATGATAGTAGTGGTTATT...   \n",
       "16702  TGTGCGAGAGGCAAGGGCGCCGACTACTATGATAGTAGTGGTTATT...   \n",
       "\n",
       "                               nSeqCDR3_IGK UMI_IGH  UMI_IGK  \n",
       "0      TGTCAGCAGTATGGTAGCTCACCCCCGTACACTTTT    65.0    143.0  \n",
       "1      TGTCAGCAGTATGGTAGCTCACCCCCGTACACTTTT    71.0    105.0  \n",
       "2      TGTCAGCAGTATGGTAGCTCACCCCCGTACACTTTT    36.0     82.0  \n",
       "3      TGTCAGCAGTATGGTAGCTCACCCCCGTACACTTTT    71.0     98.0  \n",
       "4      TGTCAGCAGTATGGTAGCTCACCCCCGTACACTTTT    22.0     61.0  \n",
       "...                                     ...     ...      ...  \n",
       "16698  TGTCAGCAGTATGGTAGCTCACCCCCGTACACTTTT    27.0     44.0  \n",
       "16699  TGTCAGCAGTATGGTAGCTCACCCCCGTACACTTTT    31.0     53.0  \n",
       "16700  TGTCAGCAGTATGGTAGCTCACCCCCGTACACTTTT    28.0     53.0  \n",
       "16701  TGTCAGCAGTATGGTAGCTCACCCCCGTACACTTTT    26.0    109.0  \n",
       "16702  TGTCAGCAGTATGGTAGCTCACCCCCGTACACTTTT    31.0     71.0  \n",
       "\n",
       "[16703 rows x 11 columns]"
      ]
     },
     "execution_count": 31,
     "metadata": {},
     "output_type": "execute_result"
    }
   ],
   "source": [
    "df_valid_count"
   ]
  },
  {
   "cell_type": "code",
   "execution_count": 35,
   "id": "false-brazilian",
   "metadata": {},
   "outputs": [
    {
     "ename": "KeyError",
     "evalue": "'aaSeqCDR3_IGL'",
     "output_type": "error",
     "traceback": [
      "\u001b[0;31m---------------------------------------------------------------------------\u001b[0m",
      "\u001b[0;31mKeyError\u001b[0m                                  Traceback (most recent call last)",
      "Input \u001b[0;32mIn [35]\u001b[0m, in \u001b[0;36m<cell line: 2>\u001b[0;34m()\u001b[0m\n\u001b[1;32m      1\u001b[0m df_clonetypes \u001b[38;5;241m=\u001b[39m df_valid_count\u001b[38;5;241m.\u001b[39mcopy()\n\u001b[0;32m----> 2\u001b[0m df_clonetypes \u001b[38;5;241m=\u001b[39m \u001b[43mdf_clonetypes\u001b[49m\u001b[38;5;241;43m.\u001b[39;49m\u001b[43mgroupby\u001b[49m\u001b[43m(\u001b[49m\u001b[43mcols\u001b[49m\u001b[43m,\u001b[49m\u001b[43m \u001b[49m\u001b[43mas_index\u001b[49m\u001b[38;5;241;43m=\u001b[39;49m\u001b[38;5;28;43;01mFalse\u001b[39;49;00m\u001b[43m)\u001b[49m\u001b[38;5;241m.\u001b[39magg({\n\u001b[1;32m      3\u001b[0m     \u001b[38;5;124m\"\u001b[39m\u001b[38;5;124mbarcode\u001b[39m\u001b[38;5;124m\"\u001b[39m: \u001b[38;5;124m\"\u001b[39m\u001b[38;5;124mcount\u001b[39m\u001b[38;5;124m\"\u001b[39m})\n",
      "File \u001b[0;32m/SGRNJ/Public/Software/conda_env/refactor_Trust/lib/python3.9/site-packages/pandas/core/frame.py:7712\u001b[0m, in \u001b[0;36mDataFrame.groupby\u001b[0;34m(self, by, axis, level, as_index, sort, group_keys, squeeze, observed, dropna)\u001b[0m\n\u001b[1;32m   7707\u001b[0m axis \u001b[38;5;241m=\u001b[39m \u001b[38;5;28mself\u001b[39m\u001b[38;5;241m.\u001b[39m_get_axis_number(axis)\n\u001b[1;32m   7709\u001b[0m \u001b[38;5;66;03m# https://github.com/python/mypy/issues/7642\u001b[39;00m\n\u001b[1;32m   7710\u001b[0m \u001b[38;5;66;03m# error: Argument \"squeeze\" to \"DataFrameGroupBy\" has incompatible type\u001b[39;00m\n\u001b[1;32m   7711\u001b[0m \u001b[38;5;66;03m# \"Union[bool, NoDefault]\"; expected \"bool\"\u001b[39;00m\n\u001b[0;32m-> 7712\u001b[0m \u001b[38;5;28;01mreturn\u001b[39;00m \u001b[43mDataFrameGroupBy\u001b[49m\u001b[43m(\u001b[49m\n\u001b[1;32m   7713\u001b[0m \u001b[43m    \u001b[49m\u001b[43mobj\u001b[49m\u001b[38;5;241;43m=\u001b[39;49m\u001b[38;5;28;43mself\u001b[39;49m\u001b[43m,\u001b[49m\n\u001b[1;32m   7714\u001b[0m \u001b[43m    \u001b[49m\u001b[43mkeys\u001b[49m\u001b[38;5;241;43m=\u001b[39;49m\u001b[43mby\u001b[49m\u001b[43m,\u001b[49m\n\u001b[1;32m   7715\u001b[0m \u001b[43m    \u001b[49m\u001b[43maxis\u001b[49m\u001b[38;5;241;43m=\u001b[39;49m\u001b[43maxis\u001b[49m\u001b[43m,\u001b[49m\n\u001b[1;32m   7716\u001b[0m \u001b[43m    \u001b[49m\u001b[43mlevel\u001b[49m\u001b[38;5;241;43m=\u001b[39;49m\u001b[43mlevel\u001b[49m\u001b[43m,\u001b[49m\n\u001b[1;32m   7717\u001b[0m \u001b[43m    \u001b[49m\u001b[43mas_index\u001b[49m\u001b[38;5;241;43m=\u001b[39;49m\u001b[43mas_index\u001b[49m\u001b[43m,\u001b[49m\n\u001b[1;32m   7718\u001b[0m \u001b[43m    \u001b[49m\u001b[43msort\u001b[49m\u001b[38;5;241;43m=\u001b[39;49m\u001b[43msort\u001b[49m\u001b[43m,\u001b[49m\n\u001b[1;32m   7719\u001b[0m \u001b[43m    \u001b[49m\u001b[43mgroup_keys\u001b[49m\u001b[38;5;241;43m=\u001b[39;49m\u001b[43mgroup_keys\u001b[49m\u001b[43m,\u001b[49m\n\u001b[1;32m   7720\u001b[0m \u001b[43m    \u001b[49m\u001b[43msqueeze\u001b[49m\u001b[38;5;241;43m=\u001b[39;49m\u001b[43msqueeze\u001b[49m\u001b[43m,\u001b[49m\u001b[43m  \u001b[49m\u001b[38;5;66;43;03m# type: ignore[arg-type]\u001b[39;49;00m\n\u001b[1;32m   7721\u001b[0m \u001b[43m    \u001b[49m\u001b[43mobserved\u001b[49m\u001b[38;5;241;43m=\u001b[39;49m\u001b[43mobserved\u001b[49m\u001b[43m,\u001b[49m\n\u001b[1;32m   7722\u001b[0m \u001b[43m    \u001b[49m\u001b[43mdropna\u001b[49m\u001b[38;5;241;43m=\u001b[39;49m\u001b[43mdropna\u001b[49m\u001b[43m,\u001b[49m\n\u001b[1;32m   7723\u001b[0m \u001b[43m\u001b[49m\u001b[43m)\u001b[49m\n",
      "File \u001b[0;32m/SGRNJ/Public/Software/conda_env/refactor_Trust/lib/python3.9/site-packages/pandas/core/groupby/groupby.py:882\u001b[0m, in \u001b[0;36mGroupBy.__init__\u001b[0;34m(self, obj, keys, axis, level, grouper, exclusions, selection, as_index, sort, group_keys, squeeze, observed, mutated, dropna)\u001b[0m\n\u001b[1;32m    879\u001b[0m \u001b[38;5;28;01mif\u001b[39;00m grouper \u001b[38;5;129;01mis\u001b[39;00m \u001b[38;5;28;01mNone\u001b[39;00m:\n\u001b[1;32m    880\u001b[0m     \u001b[38;5;28;01mfrom\u001b[39;00m \u001b[38;5;21;01mpandas\u001b[39;00m\u001b[38;5;21;01m.\u001b[39;00m\u001b[38;5;21;01mcore\u001b[39;00m\u001b[38;5;21;01m.\u001b[39;00m\u001b[38;5;21;01mgroupby\u001b[39;00m\u001b[38;5;21;01m.\u001b[39;00m\u001b[38;5;21;01mgrouper\u001b[39;00m \u001b[38;5;28;01mimport\u001b[39;00m get_grouper\n\u001b[0;32m--> 882\u001b[0m     grouper, exclusions, obj \u001b[38;5;241m=\u001b[39m \u001b[43mget_grouper\u001b[49m\u001b[43m(\u001b[49m\n\u001b[1;32m    883\u001b[0m \u001b[43m        \u001b[49m\u001b[43mobj\u001b[49m\u001b[43m,\u001b[49m\n\u001b[1;32m    884\u001b[0m \u001b[43m        \u001b[49m\u001b[43mkeys\u001b[49m\u001b[43m,\u001b[49m\n\u001b[1;32m    885\u001b[0m \u001b[43m        \u001b[49m\u001b[43maxis\u001b[49m\u001b[38;5;241;43m=\u001b[39;49m\u001b[43maxis\u001b[49m\u001b[43m,\u001b[49m\n\u001b[1;32m    886\u001b[0m \u001b[43m        \u001b[49m\u001b[43mlevel\u001b[49m\u001b[38;5;241;43m=\u001b[39;49m\u001b[43mlevel\u001b[49m\u001b[43m,\u001b[49m\n\u001b[1;32m    887\u001b[0m \u001b[43m        \u001b[49m\u001b[43msort\u001b[49m\u001b[38;5;241;43m=\u001b[39;49m\u001b[43msort\u001b[49m\u001b[43m,\u001b[49m\n\u001b[1;32m    888\u001b[0m \u001b[43m        \u001b[49m\u001b[43mobserved\u001b[49m\u001b[38;5;241;43m=\u001b[39;49m\u001b[43mobserved\u001b[49m\u001b[43m,\u001b[49m\n\u001b[1;32m    889\u001b[0m \u001b[43m        \u001b[49m\u001b[43mmutated\u001b[49m\u001b[38;5;241;43m=\u001b[39;49m\u001b[38;5;28;43mself\u001b[39;49m\u001b[38;5;241;43m.\u001b[39;49m\u001b[43mmutated\u001b[49m\u001b[43m,\u001b[49m\n\u001b[1;32m    890\u001b[0m \u001b[43m        \u001b[49m\u001b[43mdropna\u001b[49m\u001b[38;5;241;43m=\u001b[39;49m\u001b[38;5;28;43mself\u001b[39;49m\u001b[38;5;241;43m.\u001b[39;49m\u001b[43mdropna\u001b[49m\u001b[43m,\u001b[49m\n\u001b[1;32m    891\u001b[0m \u001b[43m    \u001b[49m\u001b[43m)\u001b[49m\n\u001b[1;32m    893\u001b[0m \u001b[38;5;28mself\u001b[39m\u001b[38;5;241m.\u001b[39mobj \u001b[38;5;241m=\u001b[39m obj\n\u001b[1;32m    894\u001b[0m \u001b[38;5;28mself\u001b[39m\u001b[38;5;241m.\u001b[39maxis \u001b[38;5;241m=\u001b[39m obj\u001b[38;5;241m.\u001b[39m_get_axis_number(axis)\n",
      "File \u001b[0;32m/SGRNJ/Public/Software/conda_env/refactor_Trust/lib/python3.9/site-packages/pandas/core/groupby/grouper.py:882\u001b[0m, in \u001b[0;36mget_grouper\u001b[0;34m(obj, key, axis, level, sort, observed, mutated, validate, dropna)\u001b[0m\n\u001b[1;32m    880\u001b[0m         in_axis, level, gpr \u001b[38;5;241m=\u001b[39m \u001b[38;5;28;01mFalse\u001b[39;00m, gpr, \u001b[38;5;28;01mNone\u001b[39;00m\n\u001b[1;32m    881\u001b[0m     \u001b[38;5;28;01melse\u001b[39;00m:\n\u001b[0;32m--> 882\u001b[0m         \u001b[38;5;28;01mraise\u001b[39;00m \u001b[38;5;167;01mKeyError\u001b[39;00m(gpr)\n\u001b[1;32m    883\u001b[0m \u001b[38;5;28;01melif\u001b[39;00m \u001b[38;5;28misinstance\u001b[39m(gpr, Grouper) \u001b[38;5;129;01mand\u001b[39;00m gpr\u001b[38;5;241m.\u001b[39mkey \u001b[38;5;129;01mis\u001b[39;00m \u001b[38;5;129;01mnot\u001b[39;00m \u001b[38;5;28;01mNone\u001b[39;00m:\n\u001b[1;32m    884\u001b[0m     \u001b[38;5;66;03m# Add key to exclusions\u001b[39;00m\n\u001b[1;32m    885\u001b[0m     exclusions\u001b[38;5;241m.\u001b[39madd(gpr\u001b[38;5;241m.\u001b[39mkey)\n",
      "\u001b[0;31mKeyError\u001b[0m: 'aaSeqCDR3_IGL'"
     ]
    }
   ],
   "source": [
    "        df_clonetypes = df_valid_count.copy()\n",
    "        df_clonetypes = df_clonetypes.groupby(cols, as_index=False).agg({\n",
    "            \"barcode\": \"count\"})"
   ]
  },
  {
   "cell_type": "code",
   "execution_count": 34,
   "id": "proved-engineering",
   "metadata": {},
   "outputs": [
    {
     "data": {
      "text/plain": [
       "['aaSeqCDR3_IGH',\n",
       " 'nSeqCDR3_IGH',\n",
       " 'aaSeqCDR3_IGL',\n",
       " 'nSeqCDR3_IGL',\n",
       " 'aaSeqCDR3_IGK',\n",
       " 'nSeqCDR3_IGK']"
      ]
     },
     "execution_count": 34,
     "metadata": {},
     "output_type": "execute_result"
    }
   ],
   "source": [
    "cols"
   ]
  },
  {
   "cell_type": "code",
   "execution_count": null,
   "id": "complex-trouble",
   "metadata": {},
   "outputs": [],
   "source": []
  },
  {
   "cell_type": "code",
   "execution_count": 37,
   "id": "organizational-membrane",
   "metadata": {},
   "outputs": [],
   "source": [
    "a = pd.read_csv(\"/SGRNJ06/randd/USER/cjj/celedev/vdj_bulk/20221221/Hum_1212PBMC_1w_2_5TCR/02.mapping_vdj/Hum_1212PBMC_1w_2_5TCR_airr.tsv\",sep='\\t')"
   ]
  },
  {
   "cell_type": "code",
   "execution_count": 41,
   "id": "painful-seeking",
   "metadata": {},
   "outputs": [],
   "source": [
    "b = a[['v_call','d_call','j_call']]"
   ]
  },
  {
   "cell_type": "code",
   "execution_count": 44,
   "id": "gentle-plain",
   "metadata": {},
   "outputs": [],
   "source": [
    "b = b.fillna(\"\")"
   ]
  },
  {
   "cell_type": "code",
   "execution_count": 45,
   "id": "expensive-ticket",
   "metadata": {},
   "outputs": [
    {
     "data": {
      "text/html": [
       "<div>\n",
       "<style scoped>\n",
       "    .dataframe tbody tr th:only-of-type {\n",
       "        vertical-align: middle;\n",
       "    }\n",
       "\n",
       "    .dataframe tbody tr th {\n",
       "        vertical-align: top;\n",
       "    }\n",
       "\n",
       "    .dataframe thead th {\n",
       "        text-align: right;\n",
       "    }\n",
       "</style>\n",
       "<table border=\"1\" class=\"dataframe\">\n",
       "  <thead>\n",
       "    <tr style=\"text-align: right;\">\n",
       "      <th></th>\n",
       "      <th>v_call</th>\n",
       "      <th>d_call</th>\n",
       "      <th>j_call</th>\n",
       "    </tr>\n",
       "  </thead>\n",
       "  <tbody>\n",
       "    <tr>\n",
       "      <th>0</th>\n",
       "      <td>TRAV12-1*01,TRAV12-1*02</td>\n",
       "      <td></td>\n",
       "      <td></td>\n",
       "    </tr>\n",
       "    <tr>\n",
       "      <th>1</th>\n",
       "      <td>TRBV23-1*01</td>\n",
       "      <td></td>\n",
       "      <td></td>\n",
       "    </tr>\n",
       "    <tr>\n",
       "      <th>2</th>\n",
       "      <td>TRBV28*01</td>\n",
       "      <td></td>\n",
       "      <td></td>\n",
       "    </tr>\n",
       "    <tr>\n",
       "      <th>3</th>\n",
       "      <td>TRBV28*01</td>\n",
       "      <td></td>\n",
       "      <td></td>\n",
       "    </tr>\n",
       "    <tr>\n",
       "      <th>4</th>\n",
       "      <td>TRBV6-5*01</td>\n",
       "      <td>TRBD1*01</td>\n",
       "      <td>TRBJ2-7*01</td>\n",
       "    </tr>\n",
       "    <tr>\n",
       "      <th>...</th>\n",
       "      <td>...</td>\n",
       "      <td>...</td>\n",
       "      <td>...</td>\n",
       "    </tr>\n",
       "    <tr>\n",
       "      <th>15280229</th>\n",
       "      <td>TRAV18*01</td>\n",
       "      <td></td>\n",
       "      <td>TRAJ35*01</td>\n",
       "    </tr>\n",
       "    <tr>\n",
       "      <th>15280230</th>\n",
       "      <td>TRAV38-2/DV8*01</td>\n",
       "      <td></td>\n",
       "      <td>TRAJ48*01</td>\n",
       "    </tr>\n",
       "    <tr>\n",
       "      <th>15280231</th>\n",
       "      <td>TRBV20-1*01,TRBV20-1*02,TRBV20-1*03</td>\n",
       "      <td>TRBD1*01,TRBD2*02</td>\n",
       "      <td>TRBJ2-7*01</td>\n",
       "    </tr>\n",
       "    <tr>\n",
       "      <th>15280232</th>\n",
       "      <td>TRAV38-2/DV8*01</td>\n",
       "      <td></td>\n",
       "      <td></td>\n",
       "    </tr>\n",
       "    <tr>\n",
       "      <th>15280233</th>\n",
       "      <td>TRAV29/DV5*01,TRAV29/DV5*02,TRAV29/DV5*04</td>\n",
       "      <td></td>\n",
       "      <td></td>\n",
       "    </tr>\n",
       "  </tbody>\n",
       "</table>\n",
       "<p>15280234 rows × 3 columns</p>\n",
       "</div>"
      ],
      "text/plain": [
       "                                             v_call             d_call  \\\n",
       "0                           TRAV12-1*01,TRAV12-1*02                      \n",
       "1                                       TRBV23-1*01                      \n",
       "2                                         TRBV28*01                      \n",
       "3                                         TRBV28*01                      \n",
       "4                                        TRBV6-5*01           TRBD1*01   \n",
       "...                                             ...                ...   \n",
       "15280229                                  TRAV18*01                      \n",
       "15280230                            TRAV38-2/DV8*01                      \n",
       "15280231        TRBV20-1*01,TRBV20-1*02,TRBV20-1*03  TRBD1*01,TRBD2*02   \n",
       "15280232                            TRAV38-2/DV8*01                      \n",
       "15280233  TRAV29/DV5*01,TRAV29/DV5*02,TRAV29/DV5*04                      \n",
       "\n",
       "              j_call  \n",
       "0                     \n",
       "1                     \n",
       "2                     \n",
       "3                     \n",
       "4         TRBJ2-7*01  \n",
       "...              ...  \n",
       "15280229   TRAJ35*01  \n",
       "15280230   TRAJ48*01  \n",
       "15280231  TRBJ2-7*01  \n",
       "15280232              \n",
       "15280233              \n",
       "\n",
       "[15280234 rows x 3 columns]"
      ]
     },
     "execution_count": 45,
     "metadata": {},
     "output_type": "execute_result"
    }
   ],
   "source": [
    "b"
   ]
  },
  {
   "cell_type": "code",
   "execution_count": 47,
   "id": "early-huntington",
   "metadata": {},
   "outputs": [
    {
     "data": {
      "text/plain": [
       "15267771"
      ]
     },
     "execution_count": 47,
     "metadata": {},
     "output_type": "execute_result"
    }
   ],
   "source": [
    "b[b['v_call']!=\"\"].shape[0]"
   ]
  },
  {
   "cell_type": "code",
   "execution_count": 48,
   "id": "handmade-result",
   "metadata": {},
   "outputs": [
    {
     "data": {
      "text/plain": [
       "1962250"
      ]
     },
     "execution_count": 48,
     "metadata": {},
     "output_type": "execute_result"
    }
   ],
   "source": [
    "b[b['d_call']!=\"\"].shape[0]"
   ]
  },
  {
   "cell_type": "code",
   "execution_count": 50,
   "id": "opening-trail",
   "metadata": {},
   "outputs": [
    {
     "data": {
      "text/plain": [
       "5113360"
      ]
     },
     "execution_count": 50,
     "metadata": {},
     "output_type": "execute_result"
    }
   ],
   "source": [
    "b[b['j_call']!=\"\"].shape[0]"
   ]
  },
  {
   "cell_type": "code",
   "execution_count": null,
   "id": "bottom-apple",
   "metadata": {},
   "outputs": [],
   "source": []
  },
  {
   "cell_type": "code",
   "execution_count": 13,
   "id": "ahead-entrance",
   "metadata": {},
   "outputs": [],
   "source": [
    "import pandas as pd\n",
    "from collections import OrderedDict"
   ]
  },
  {
   "cell_type": "code",
   "execution_count": 20,
   "id": "young-dispute",
   "metadata": {},
   "outputs": [],
   "source": [
    "CHAIN = {\n",
    "\t'TCR': ['TRA', 'TRB'], \n",
    "\t'BCR': ['IGH', 'IGL', 'IGK']\n",
    "\t}\n",
    "PAIRED_CHAIN = {\n",
    "\t'TCR': ['TRA_TRB'],\n",
    "\t'BCR': ['IGK_IGH', 'IGL_IGH']\n",
    "}"
   ]
  },
  {
   "cell_type": "code",
   "execution_count": 14,
   "id": "specialized-mortgage",
   "metadata": {},
   "outputs": [],
   "source": [
    "def gen_vj_annotation_metrics(df, seqtype):\n",
    "    \"\"\"\n",
    "    Generate vdj Annotation Metrics from contig annotations file.\n",
    "    \"\"\"\n",
    "    def get_vj_spanning_pair():\n",
    "        \"\"\"\n",
    "        Get Productive V-J Spanning_Pair metric from annotation file\n",
    "        Return productive chain pair number. eg: TRA/TRB or IGH/IGL, IGH/IGK.\n",
    "        \"\"\"\n",
    "        df_productive = df[df['productive'] == True]\n",
    "        \n",
    "        if seqtype == \"BCR\":\n",
    "            df_chain_heavy = df_productive[(df_productive['chain'] == 'IGH')] \n",
    "            df_chain_light = df_productive[(df_productive['chain'] == 'IGL') | (df_productive['chain'] =='IGK')]\n",
    "        else:\n",
    "            df_chain_heavy = df_productive[df_productive['chain'] == 'TRA']\n",
    "            df_chain_light = df_productive[df_productive['chain'] == 'TRB']\n",
    "\n",
    "        for _df in [df_chain_heavy, df_chain_light]:\n",
    "            _df.drop_duplicates(['barcode'], inplace=True)\n",
    "\n",
    "        VJ_Spanning_Pair_Cells = pd.merge(df_chain_heavy, df_chain_light, on='barcode', how='inner')\n",
    "        \n",
    "        return VJ_Spanning_Pair_Cells.shape[0]\n",
    "\n",
    "    metric_dict = OrderedDict()\n",
    "    chains, chain_pairs = CHAIN[seqtype], PAIRED_CHAIN[seqtype]\n",
    "\n",
    "    metric_dict[\"Cells match with scRNA-seq analysis\"] = len(set(df.barcode))\n",
    "    metric_dict[\"Cells With Productive V-J Spanning Pair\"] = get_vj_spanning_pair()\n",
    "\n",
    "    for pair in chain_pairs:\n",
    "        chain1, chain2 = pair.split('_')[0], pair.split('_')[1]\n",
    "        cbs1 = set(df[(df['productive']==True)&(df['chain']==chain1)].barcode)\n",
    "        cbs2 = set(df[(df['productive']==True)&(df['chain']==chain2)].barcode)\n",
    "        metric_dict[f\"Cells With Productive V-J Spanning ({chain1}, {chain2}) Pair\"] = len(cbs1.intersection(cbs2))\n",
    "\n",
    "    for chain in chains:\n",
    "        metric_dict[f\"Cells With {chain} Contig\"] = len(set(df[df['chain']==chain].barcode))\n",
    "        metric_dict[f\"Cells With CDR3-annotated {chain} Contig\"] = len(set(df[(df['chain']==chain)&(df['cdr3']!='None')].barcode))\n",
    "        metric_dict[f\"Cells With V-J Spanning {chain} Contig\"] = len(set(df[(df['full_length']==True)&(df['chain']==chain)].barcode))\n",
    "        metric_dict[f\"Cells With Productive {chain} Contig\"] =len(set(df[(df['productive']==True)&(df['chain'] == chain)].barcode))\n",
    "\n",
    "    return metric_dict"
   ]
  },
  {
   "cell_type": "code",
   "execution_count": 15,
   "id": "atmospheric-ecology",
   "metadata": {},
   "outputs": [],
   "source": [
    "SGR_annotation_file = pd.read_csv(\"/SGRNJ06/randd/USER/cjj/celedev/vdj10x/20230428shanghai/HJG-P-T-T/04.summarize/filtered_contig_annotations.csv\")"
   ]
  },
  {
   "cell_type": "code",
   "execution_count": 16,
   "id": "abroad-radio",
   "metadata": {},
   "outputs": [
    {
     "data": {
      "text/html": [
       "<div>\n",
       "<style scoped>\n",
       "    .dataframe tbody tr th:only-of-type {\n",
       "        vertical-align: middle;\n",
       "    }\n",
       "\n",
       "    .dataframe tbody tr th {\n",
       "        vertical-align: top;\n",
       "    }\n",
       "\n",
       "    .dataframe thead th {\n",
       "        text-align: right;\n",
       "    }\n",
       "</style>\n",
       "<table border=\"1\" class=\"dataframe\">\n",
       "  <thead>\n",
       "    <tr style=\"text-align: right;\">\n",
       "      <th></th>\n",
       "      <th>barcode</th>\n",
       "      <th>is_cell</th>\n",
       "      <th>contig_id</th>\n",
       "      <th>high_confidence</th>\n",
       "      <th>length</th>\n",
       "      <th>chain</th>\n",
       "      <th>v_gene</th>\n",
       "      <th>d_gene</th>\n",
       "      <th>j_gene</th>\n",
       "      <th>c_gene</th>\n",
       "      <th>...</th>\n",
       "      <th>fwr3_nt</th>\n",
       "      <th>cdr3</th>\n",
       "      <th>cdr3_nt</th>\n",
       "      <th>fwr4</th>\n",
       "      <th>fwr4_nt</th>\n",
       "      <th>reads</th>\n",
       "      <th>umis</th>\n",
       "      <th>raw_clonotype_id</th>\n",
       "      <th>raw_consensus_id</th>\n",
       "      <th>exact_subclonotype_id</th>\n",
       "    </tr>\n",
       "  </thead>\n",
       "  <tbody>\n",
       "    <tr>\n",
       "      <th>0</th>\n",
       "      <td>CATACCAAACGTATCAAGGCTAAC</td>\n",
       "      <td>True</td>\n",
       "      <td>CATACCAAACGTATCAAGGCTAAC_contig_1</td>\n",
       "      <td>True</td>\n",
       "      <td>678</td>\n",
       "      <td>TRB</td>\n",
       "      <td>TRBV7-9</td>\n",
       "      <td>NaN</td>\n",
       "      <td>TRBJ1-2</td>\n",
       "      <td>TRBC1</td>\n",
       "      <td>...</td>\n",
       "      <td>CTAGAAAAATCAAGGCTGCTCAGTGATCGGTTCTCTGCAGAGAGGC...</td>\n",
       "      <td>CATPGGGGYTF</td>\n",
       "      <td>TGTGCCACCCCGGGAGGAGGTGGCTACACCTTC</td>\n",
       "      <td>GSGTRLTVV</td>\n",
       "      <td>GGTTCGGGGACCAGGTTAACCGTTGTAG</td>\n",
       "      <td>1810</td>\n",
       "      <td>35</td>\n",
       "      <td>clonotype5</td>\n",
       "      <td>clonotype5_consensus_1</td>\n",
       "      <td>1</td>\n",
       "    </tr>\n",
       "    <tr>\n",
       "      <th>1</th>\n",
       "      <td>CATACCAAACGTATCAAGGCTAAC</td>\n",
       "      <td>True</td>\n",
       "      <td>CATACCAAACGTATCAAGGCTAAC_contig_2</td>\n",
       "      <td>True</td>\n",
       "      <td>491</td>\n",
       "      <td>TRA</td>\n",
       "      <td>TRAV38-2/DV8</td>\n",
       "      <td>NaN</td>\n",
       "      <td>TRAJ9</td>\n",
       "      <td>TRAC</td>\n",
       "      <td>...</td>\n",
       "      <td>GCAACAGAGAATCGTTTCTCTGTGAACTTCCAGAAAGCAGCCAAAT...</td>\n",
       "      <td>CACRGSGGFKTIF</td>\n",
       "      <td>TGTGCTTGTAGAGGATCTGGAGGCTTCAAAACTATCTTT</td>\n",
       "      <td>GAGTRLFVKA</td>\n",
       "      <td>GGAGCAGGAACAAGACTATTTGTTAAAGCAA</td>\n",
       "      <td>1099</td>\n",
       "      <td>19</td>\n",
       "      <td>clonotype5</td>\n",
       "      <td>clonotype5_consensus_2</td>\n",
       "      <td>1</td>\n",
       "    </tr>\n",
       "    <tr>\n",
       "      <th>2</th>\n",
       "      <td>CGACACACAACCGAGACATCAAGT</td>\n",
       "      <td>True</td>\n",
       "      <td>CGACACACAACCGAGACATCAAGT_contig_1</td>\n",
       "      <td>True</td>\n",
       "      <td>490</td>\n",
       "      <td>TRB</td>\n",
       "      <td>TRBV9</td>\n",
       "      <td>NaN</td>\n",
       "      <td>TRBJ1-2</td>\n",
       "      <td>TRBC1</td>\n",
       "      <td>...</td>\n",
       "      <td>AGAGCAAAAGGAAACATTCTTGAACGATTCTCCGCACAACAGTTCC...</td>\n",
       "      <td>CASSVGSDIQDGYTF</td>\n",
       "      <td>TGTGCCAGCAGCGTAGGGTCGGACATCCAGGATGGCTACACCTTC</td>\n",
       "      <td>GSGTRLTVV</td>\n",
       "      <td>GGTTCGGGGACCAGGTTAACCGTTGTAG</td>\n",
       "      <td>1931</td>\n",
       "      <td>16</td>\n",
       "      <td>clonotype116</td>\n",
       "      <td>clonotype116_consensus_1</td>\n",
       "      <td>1</td>\n",
       "    </tr>\n",
       "    <tr>\n",
       "      <th>3</th>\n",
       "      <td>CGACACACAACCGAGACATCAAGT</td>\n",
       "      <td>True</td>\n",
       "      <td>CGACACACAACCGAGACATCAAGT_contig_2</td>\n",
       "      <td>True</td>\n",
       "      <td>612</td>\n",
       "      <td>TRA</td>\n",
       "      <td>TRAV24</td>\n",
       "      <td>NaN</td>\n",
       "      <td>TRAJ22</td>\n",
       "      <td>TRAC</td>\n",
       "      <td>...</td>\n",
       "      <td>AAGAAGAAAGGACGAATAAGTGCCACTCTTAATACCAAGGAGGGTT...</td>\n",
       "      <td>CAFSSGSARQLTF</td>\n",
       "      <td>TGTGCCTTTTCTTCTGGTTCTGCAAGGCAACTGACCTTT</td>\n",
       "      <td>GSGTQLTVLP</td>\n",
       "      <td>GGATCTGGGACACAATTGACTGTTTTACCTG</td>\n",
       "      <td>245</td>\n",
       "      <td>40</td>\n",
       "      <td>clonotype116</td>\n",
       "      <td>clonotype116_consensus_2</td>\n",
       "      <td>1</td>\n",
       "    </tr>\n",
       "    <tr>\n",
       "      <th>4</th>\n",
       "      <td>CGACACACAACCGAGACATCAAGT</td>\n",
       "      <td>True</td>\n",
       "      <td>CGACACACAACCGAGACATCAAGT_contig_3</td>\n",
       "      <td>True</td>\n",
       "      <td>517</td>\n",
       "      <td>TRA</td>\n",
       "      <td>TRAV17</td>\n",
       "      <td>NaN</td>\n",
       "      <td>TRAJ29</td>\n",
       "      <td>TRAC</td>\n",
       "      <td>...</td>\n",
       "      <td>AAACACAGTGGAAGATTAAGAGTCACGCTTGACACTTCCAAGAAAA...</td>\n",
       "      <td>CATDARSGNTPLVF</td>\n",
       "      <td>TGTGCTACGGACGCCCGGTCAGGAAACACACCTCTTGTCTTT</td>\n",
       "      <td>GKGTRLSVIA</td>\n",
       "      <td>GGAAAGGGCACAAGACTTTCTGTGATTGCAA</td>\n",
       "      <td>24</td>\n",
       "      <td>8</td>\n",
       "      <td>clonotype116</td>\n",
       "      <td>clonotype116_consensus_3</td>\n",
       "      <td>1</td>\n",
       "    </tr>\n",
       "    <tr>\n",
       "      <th>...</th>\n",
       "      <td>...</td>\n",
       "      <td>...</td>\n",
       "      <td>...</td>\n",
       "      <td>...</td>\n",
       "      <td>...</td>\n",
       "      <td>...</td>\n",
       "      <td>...</td>\n",
       "      <td>...</td>\n",
       "      <td>...</td>\n",
       "      <td>...</td>\n",
       "      <td>...</td>\n",
       "      <td>...</td>\n",
       "      <td>...</td>\n",
       "      <td>...</td>\n",
       "      <td>...</td>\n",
       "      <td>...</td>\n",
       "      <td>...</td>\n",
       "      <td>...</td>\n",
       "      <td>...</td>\n",
       "      <td>...</td>\n",
       "      <td>...</td>\n",
       "    </tr>\n",
       "    <tr>\n",
       "      <th>11451</th>\n",
       "      <td>GGTGCGAACGCATACAGGAGAACA</td>\n",
       "      <td>True</td>\n",
       "      <td>GGTGCGAACGCATACAGGAGAACA_contig_1</td>\n",
       "      <td>True</td>\n",
       "      <td>500</td>\n",
       "      <td>TRA</td>\n",
       "      <td>TRAV38-2/DV8</td>\n",
       "      <td>NaN</td>\n",
       "      <td>TRAJ27</td>\n",
       "      <td>TRAC</td>\n",
       "      <td>...</td>\n",
       "      <td>GCAACAGAGAATCGTTTCTCTGTGAACTTCCAGAAAGCAGCCAAAT...</td>\n",
       "      <td>CAYRSNINTNAGKSTF</td>\n",
       "      <td>TGTGCTTATAGGAGCAACATAAACACCAATGCAGGCAAATCAACCTTT</td>\n",
       "      <td>GDGTTLTVKP</td>\n",
       "      <td>GGGGATGGGACTACGCTCACTGTGAAGCCAA</td>\n",
       "      <td>58</td>\n",
       "      <td>4</td>\n",
       "      <td>clonotype6</td>\n",
       "      <td>clonotype6_consensus_1</td>\n",
       "      <td>1</td>\n",
       "    </tr>\n",
       "    <tr>\n",
       "      <th>11452</th>\n",
       "      <td>CGGATTGCAACCGAGACCTCCTGA</td>\n",
       "      <td>True</td>\n",
       "      <td>CGGATTGCAACCGAGACCTCCTGA_contig_1</td>\n",
       "      <td>True</td>\n",
       "      <td>473</td>\n",
       "      <td>TRB</td>\n",
       "      <td>TRBV10-3</td>\n",
       "      <td>TRBD2</td>\n",
       "      <td>TRBJ2-7</td>\n",
       "      <td>TRBC2</td>\n",
       "      <td>...</td>\n",
       "      <td>ACTGACAAAGGAGAAGTCTCAGATGGCTATAGTGTCTCTAGATCAA...</td>\n",
       "      <td>CATLGTSGSNEQYF</td>\n",
       "      <td>TGTGCCACCCTCGGGACTAGCGGGAGTAACGAGCAGTACTTC</td>\n",
       "      <td>GPGTRLTVT</td>\n",
       "      <td>GGGCCGGGCACCAGGCTCACGGTCACAG</td>\n",
       "      <td>26</td>\n",
       "      <td>6</td>\n",
       "      <td>clonotype856</td>\n",
       "      <td>clonotype856_consensus_1</td>\n",
       "      <td>1</td>\n",
       "    </tr>\n",
       "    <tr>\n",
       "      <th>11453</th>\n",
       "      <td>CGACTGGAGTGTTCTATGGAACAA</td>\n",
       "      <td>True</td>\n",
       "      <td>CGACTGGAGTGTTCTATGGAACAA_contig_1</td>\n",
       "      <td>True</td>\n",
       "      <td>511</td>\n",
       "      <td>TRA</td>\n",
       "      <td>TRAV17</td>\n",
       "      <td>NaN</td>\n",
       "      <td>TRAJ29</td>\n",
       "      <td>TRAC</td>\n",
       "      <td>...</td>\n",
       "      <td>AAACACAGTGGAAGATTAAGAGTCACGCTTGACACTCCCAAGAAAA...</td>\n",
       "      <td>CATDARSGNTPLVF</td>\n",
       "      <td>TGTGCTACGGACGCCCGGTCAGGAAACACACCTCTTGTCTTT</td>\n",
       "      <td>GKGTRLSVIA</td>\n",
       "      <td>GGAAAGGGCACAAGACTTTCTGTGATTGCAA</td>\n",
       "      <td>14</td>\n",
       "      <td>2</td>\n",
       "      <td>clonotype811</td>\n",
       "      <td>clonotype811_consensus_1</td>\n",
       "      <td>1</td>\n",
       "    </tr>\n",
       "    <tr>\n",
       "      <th>11454</th>\n",
       "      <td>ACCTCCAACCGTGAGACGCTGATC</td>\n",
       "      <td>True</td>\n",
       "      <td>ACCTCCAACCGTGAGACGCTGATC_contig_1</td>\n",
       "      <td>True</td>\n",
       "      <td>516</td>\n",
       "      <td>TRB</td>\n",
       "      <td>TRBV13</td>\n",
       "      <td>NaN</td>\n",
       "      <td>TRBJ2-1</td>\n",
       "      <td>TRBC2</td>\n",
       "      <td>...</td>\n",
       "      <td>AGCGATAAAGGAAGCATCCCTGATCGATTCTCAGCTCAACAGTTCA...</td>\n",
       "      <td>CASSHGERSSYNEQFF</td>\n",
       "      <td>TGTGCCAGCAGCCACGGGGAGCGAAGCTCCTACAATGAGCAGTTCTTC</td>\n",
       "      <td>GPGTRLTVL</td>\n",
       "      <td>GGGCCAGGGACACGGCTCACCGTGCTAG</td>\n",
       "      <td>28</td>\n",
       "      <td>7</td>\n",
       "      <td>clonotype3</td>\n",
       "      <td>clonotype3_consensus_1</td>\n",
       "      <td>4</td>\n",
       "    </tr>\n",
       "    <tr>\n",
       "      <th>11455</th>\n",
       "      <td>GTACGCAAAGGCTAACGCCACATA</td>\n",
       "      <td>True</td>\n",
       "      <td>GTACGCAAAGGCTAACGCCACATA_contig_1</td>\n",
       "      <td>True</td>\n",
       "      <td>495</td>\n",
       "      <td>TRA</td>\n",
       "      <td>TRAV38-2/DV8</td>\n",
       "      <td>NaN</td>\n",
       "      <td>TRAJ27</td>\n",
       "      <td>TRAC</td>\n",
       "      <td>...</td>\n",
       "      <td>GCAACAGAGAATCGTTTCTCTGTGAACTTCCAGAAAGCAGCCAAAT...</td>\n",
       "      <td>CAYRSNINTNAGKSTF</td>\n",
       "      <td>TGTGCTTATAGGAGCAACATAAACACCAATGCAGGCAAATCAACCTTT</td>\n",
       "      <td>GDGTTLTVKP</td>\n",
       "      <td>GGGGATGGGACTACGCTCACTGTGAAGCCAA</td>\n",
       "      <td>34</td>\n",
       "      <td>2</td>\n",
       "      <td>clonotype6</td>\n",
       "      <td>clonotype6_consensus_1</td>\n",
       "      <td>1</td>\n",
       "    </tr>\n",
       "  </tbody>\n",
       "</table>\n",
       "<p>11456 rows × 31 columns</p>\n",
       "</div>"
      ],
      "text/plain": [
       "                        barcode  is_cell                          contig_id  \\\n",
       "0      CATACCAAACGTATCAAGGCTAAC     True  CATACCAAACGTATCAAGGCTAAC_contig_1   \n",
       "1      CATACCAAACGTATCAAGGCTAAC     True  CATACCAAACGTATCAAGGCTAAC_contig_2   \n",
       "2      CGACACACAACCGAGACATCAAGT     True  CGACACACAACCGAGACATCAAGT_contig_1   \n",
       "3      CGACACACAACCGAGACATCAAGT     True  CGACACACAACCGAGACATCAAGT_contig_2   \n",
       "4      CGACACACAACCGAGACATCAAGT     True  CGACACACAACCGAGACATCAAGT_contig_3   \n",
       "...                         ...      ...                                ...   \n",
       "11451  GGTGCGAACGCATACAGGAGAACA     True  GGTGCGAACGCATACAGGAGAACA_contig_1   \n",
       "11452  CGGATTGCAACCGAGACCTCCTGA     True  CGGATTGCAACCGAGACCTCCTGA_contig_1   \n",
       "11453  CGACTGGAGTGTTCTATGGAACAA     True  CGACTGGAGTGTTCTATGGAACAA_contig_1   \n",
       "11454  ACCTCCAACCGTGAGACGCTGATC     True  ACCTCCAACCGTGAGACGCTGATC_contig_1   \n",
       "11455  GTACGCAAAGGCTAACGCCACATA     True  GTACGCAAAGGCTAACGCCACATA_contig_1   \n",
       "\n",
       "       high_confidence  length chain        v_gene d_gene   j_gene c_gene  \\\n",
       "0                 True     678   TRB       TRBV7-9    NaN  TRBJ1-2  TRBC1   \n",
       "1                 True     491   TRA  TRAV38-2/DV8    NaN    TRAJ9   TRAC   \n",
       "2                 True     490   TRB         TRBV9    NaN  TRBJ1-2  TRBC1   \n",
       "3                 True     612   TRA        TRAV24    NaN   TRAJ22   TRAC   \n",
       "4                 True     517   TRA        TRAV17    NaN   TRAJ29   TRAC   \n",
       "...                ...     ...   ...           ...    ...      ...    ...   \n",
       "11451             True     500   TRA  TRAV38-2/DV8    NaN   TRAJ27   TRAC   \n",
       "11452             True     473   TRB      TRBV10-3  TRBD2  TRBJ2-7  TRBC2   \n",
       "11453             True     511   TRA        TRAV17    NaN   TRAJ29   TRAC   \n",
       "11454             True     516   TRB        TRBV13    NaN  TRBJ2-1  TRBC2   \n",
       "11455             True     495   TRA  TRAV38-2/DV8    NaN   TRAJ27   TRAC   \n",
       "\n",
       "       ...                                            fwr3_nt  \\\n",
       "0      ...  CTAGAAAAATCAAGGCTGCTCAGTGATCGGTTCTCTGCAGAGAGGC...   \n",
       "1      ...  GCAACAGAGAATCGTTTCTCTGTGAACTTCCAGAAAGCAGCCAAAT...   \n",
       "2      ...  AGAGCAAAAGGAAACATTCTTGAACGATTCTCCGCACAACAGTTCC...   \n",
       "3      ...  AAGAAGAAAGGACGAATAAGTGCCACTCTTAATACCAAGGAGGGTT...   \n",
       "4      ...  AAACACAGTGGAAGATTAAGAGTCACGCTTGACACTTCCAAGAAAA...   \n",
       "...    ...                                                ...   \n",
       "11451  ...  GCAACAGAGAATCGTTTCTCTGTGAACTTCCAGAAAGCAGCCAAAT...   \n",
       "11452  ...  ACTGACAAAGGAGAAGTCTCAGATGGCTATAGTGTCTCTAGATCAA...   \n",
       "11453  ...  AAACACAGTGGAAGATTAAGAGTCACGCTTGACACTCCCAAGAAAA...   \n",
       "11454  ...  AGCGATAAAGGAAGCATCCCTGATCGATTCTCAGCTCAACAGTTCA...   \n",
       "11455  ...  GCAACAGAGAATCGTTTCTCTGTGAACTTCCAGAAAGCAGCCAAAT...   \n",
       "\n",
       "                   cdr3                                           cdr3_nt  \\\n",
       "0           CATPGGGGYTF                 TGTGCCACCCCGGGAGGAGGTGGCTACACCTTC   \n",
       "1         CACRGSGGFKTIF           TGTGCTTGTAGAGGATCTGGAGGCTTCAAAACTATCTTT   \n",
       "2       CASSVGSDIQDGYTF     TGTGCCAGCAGCGTAGGGTCGGACATCCAGGATGGCTACACCTTC   \n",
       "3         CAFSSGSARQLTF           TGTGCCTTTTCTTCTGGTTCTGCAAGGCAACTGACCTTT   \n",
       "4        CATDARSGNTPLVF        TGTGCTACGGACGCCCGGTCAGGAAACACACCTCTTGTCTTT   \n",
       "...                 ...                                               ...   \n",
       "11451  CAYRSNINTNAGKSTF  TGTGCTTATAGGAGCAACATAAACACCAATGCAGGCAAATCAACCTTT   \n",
       "11452    CATLGTSGSNEQYF        TGTGCCACCCTCGGGACTAGCGGGAGTAACGAGCAGTACTTC   \n",
       "11453    CATDARSGNTPLVF        TGTGCTACGGACGCCCGGTCAGGAAACACACCTCTTGTCTTT   \n",
       "11454  CASSHGERSSYNEQFF  TGTGCCAGCAGCCACGGGGAGCGAAGCTCCTACAATGAGCAGTTCTTC   \n",
       "11455  CAYRSNINTNAGKSTF  TGTGCTTATAGGAGCAACATAAACACCAATGCAGGCAAATCAACCTTT   \n",
       "\n",
       "             fwr4                          fwr4_nt reads umis  \\\n",
       "0       GSGTRLTVV     GGTTCGGGGACCAGGTTAACCGTTGTAG  1810   35   \n",
       "1      GAGTRLFVKA  GGAGCAGGAACAAGACTATTTGTTAAAGCAA  1099   19   \n",
       "2       GSGTRLTVV     GGTTCGGGGACCAGGTTAACCGTTGTAG  1931   16   \n",
       "3      GSGTQLTVLP  GGATCTGGGACACAATTGACTGTTTTACCTG   245   40   \n",
       "4      GKGTRLSVIA  GGAAAGGGCACAAGACTTTCTGTGATTGCAA    24    8   \n",
       "...           ...                              ...   ...  ...   \n",
       "11451  GDGTTLTVKP  GGGGATGGGACTACGCTCACTGTGAAGCCAA    58    4   \n",
       "11452   GPGTRLTVT     GGGCCGGGCACCAGGCTCACGGTCACAG    26    6   \n",
       "11453  GKGTRLSVIA  GGAAAGGGCACAAGACTTTCTGTGATTGCAA    14    2   \n",
       "11454   GPGTRLTVL     GGGCCAGGGACACGGCTCACCGTGCTAG    28    7   \n",
       "11455  GDGTTLTVKP  GGGGATGGGACTACGCTCACTGTGAAGCCAA    34    2   \n",
       "\n",
       "      raw_clonotype_id          raw_consensus_id exact_subclonotype_id  \n",
       "0           clonotype5    clonotype5_consensus_1                     1  \n",
       "1           clonotype5    clonotype5_consensus_2                     1  \n",
       "2         clonotype116  clonotype116_consensus_1                     1  \n",
       "3         clonotype116  clonotype116_consensus_2                     1  \n",
       "4         clonotype116  clonotype116_consensus_3                     1  \n",
       "...                ...                       ...                   ...  \n",
       "11451       clonotype6    clonotype6_consensus_1                     1  \n",
       "11452     clonotype856  clonotype856_consensus_1                     1  \n",
       "11453     clonotype811  clonotype811_consensus_1                     1  \n",
       "11454       clonotype3    clonotype3_consensus_1                     4  \n",
       "11455       clonotype6    clonotype6_consensus_1                     1  \n",
       "\n",
       "[11456 rows x 31 columns]"
      ]
     },
     "execution_count": 16,
     "metadata": {},
     "output_type": "execute_result"
    }
   ],
   "source": [
    "SGR_annotation_file"
   ]
  },
  {
   "cell_type": "code",
   "execution_count": 17,
   "id": "loving-watershed",
   "metadata": {},
   "outputs": [],
   "source": [
    "match_cell_barcodes = set(SGR_annotation_file.barcode)"
   ]
  },
  {
   "cell_type": "code",
   "execution_count": 18,
   "id": "corresponding-bankruptcy",
   "metadata": {},
   "outputs": [],
   "source": [
    "match_annotation_file = SGR_annotation_file[SGR_annotation_file.barcode.isin(match_cell_barcodes)]\n",
    "match_annotation_file.to_csv(\"/SGRNJ06/randd/USER/cjj/temp_dir/tmp.csv\", sep=',', index=False)"
   ]
  },
  {
   "cell_type": "code",
   "execution_count": 21,
   "id": "indirect-workplace",
   "metadata": {},
   "outputs": [
    {
     "name": "stderr",
     "output_type": "stream",
     "text": [
      "/tmp/ipykernel_48081/1747969314.py:20: SettingWithCopyWarning: \n",
      "A value is trying to be set on a copy of a slice from a DataFrame\n",
      "\n",
      "See the caveats in the documentation: https://pandas.pydata.org/pandas-docs/stable/user_guide/indexing.html#returning-a-view-versus-a-copy\n",
      "  _df.drop_duplicates(['barcode'], inplace=True)\n"
     ]
    }
   ],
   "source": [
    "        df_match = pd.read_csv(\"/SGRNJ06/randd/USER/cjj/temp_dir/tmp.csv\")\n",
    "    \n",
    "        metrics_dict = gen_vj_annotation_metrics(df_match, \"TCR\")"
   ]
  },
  {
   "cell_type": "code",
   "execution_count": 22,
   "id": "steady-empire",
   "metadata": {},
   "outputs": [
    {
     "data": {
      "text/plain": [
       "OrderedDict([('Cells match with scRNA-seq analysis', 6155),\n",
       "             ('Cells With Productive V-J Spanning Pair', 4613),\n",
       "             ('Cells With Productive V-J Spanning (TRA, TRB) Pair', 4613),\n",
       "             ('Cells With TRA Contig', 5177),\n",
       "             ('Cells With CDR3-annotated TRA Contig', 5177),\n",
       "             ('Cells With V-J Spanning TRA Contig', 5177),\n",
       "             ('Cells With Productive TRA Contig', 5177),\n",
       "             ('Cells With TRB Contig', 5591),\n",
       "             ('Cells With CDR3-annotated TRB Contig', 5591),\n",
       "             ('Cells With V-J Spanning TRB Contig', 5591),\n",
       "             ('Cells With Productive TRB Contig', 5591)])"
      ]
     },
     "execution_count": 22,
     "metadata": {},
     "output_type": "execute_result"
    }
   ],
   "source": [
    "metrics_dict"
   ]
  },
  {
   "cell_type": "code",
   "execution_count": null,
   "id": "organized-prescription",
   "metadata": {},
   "outputs": [],
   "source": []
  },
  {
   "cell_type": "code",
   "execution_count": 56,
   "id": "nonprofit-casting",
   "metadata": {},
   "outputs": [],
   "source": [
    "df = pd.read_csv(\"/SGRNJ03/randd/RD20073101_SCOPEv2_TCR/20220415/FTC211105030x2_T3Nlib/03.assemble/FTC211105030x2_T3Nlib/outs/all_contig_annotations.csv\")"
   ]
  },
  {
   "cell_type": "code",
   "execution_count": 57,
   "id": "extraordinary-mountain",
   "metadata": {},
   "outputs": [],
   "source": [
    "df = df[df[\"productive\"]==True]\n",
    "df = df[df[\"is_cell\"]==False]"
   ]
  },
  {
   "cell_type": "code",
   "execution_count": 58,
   "id": "pacific-capitol",
   "metadata": {},
   "outputs": [],
   "source": [
    "df_tra = df[df[\"chain\"]==\"TRA\"]\n",
    "df_trb = df[df[\"chain\"]==\"TRB\"]"
   ]
  },
  {
   "cell_type": "code",
   "execution_count": 59,
   "id": "greatest-immunology",
   "metadata": {},
   "outputs": [
    {
     "data": {
      "text/html": [
       "<div>\n",
       "<style scoped>\n",
       "    .dataframe tbody tr th:only-of-type {\n",
       "        vertical-align: middle;\n",
       "    }\n",
       "\n",
       "    .dataframe tbody tr th {\n",
       "        vertical-align: top;\n",
       "    }\n",
       "\n",
       "    .dataframe thead th {\n",
       "        text-align: right;\n",
       "    }\n",
       "</style>\n",
       "<table border=\"1\" class=\"dataframe\">\n",
       "  <thead>\n",
       "    <tr style=\"text-align: right;\">\n",
       "      <th></th>\n",
       "      <th>barcode</th>\n",
       "      <th>is_cell</th>\n",
       "      <th>contig_id</th>\n",
       "      <th>high_confidence</th>\n",
       "      <th>length</th>\n",
       "      <th>chain</th>\n",
       "      <th>v_gene</th>\n",
       "      <th>d_gene</th>\n",
       "      <th>j_gene</th>\n",
       "      <th>c_gene</th>\n",
       "      <th>full_length</th>\n",
       "      <th>productive</th>\n",
       "      <th>cdr3</th>\n",
       "      <th>cdr3_nt</th>\n",
       "      <th>reads</th>\n",
       "      <th>umis</th>\n",
       "      <th>raw_clonotype_id</th>\n",
       "      <th>raw_consensus_id</th>\n",
       "    </tr>\n",
       "  </thead>\n",
       "  <tbody>\n",
       "    <tr>\n",
       "      <th>37615</th>\n",
       "      <td>AAACCTGAGAACAACT-1</td>\n",
       "      <td>False</td>\n",
       "      <td>AAACCTGAGAACAACT-1_contig_1</td>\n",
       "      <td>False</td>\n",
       "      <td>495</td>\n",
       "      <td>TRA</td>\n",
       "      <td>TRAV9-2</td>\n",
       "      <td>None</td>\n",
       "      <td>TRAJ4</td>\n",
       "      <td>TRAC</td>\n",
       "      <td>True</td>\n",
       "      <td>True</td>\n",
       "      <td>CAPKRTGGYNKLIF</td>\n",
       "      <td>TGTGCTCCCAAAAGGACTGGTGGCTACAATAAGCTGATTTTT</td>\n",
       "      <td>1441</td>\n",
       "      <td>1</td>\n",
       "      <td>None</td>\n",
       "      <td>None</td>\n",
       "    </tr>\n",
       "    <tr>\n",
       "      <th>37618</th>\n",
       "      <td>AAACCTGAGAATAGGG-1</td>\n",
       "      <td>False</td>\n",
       "      <td>AAACCTGAGAATAGGG-1_contig_2</td>\n",
       "      <td>False</td>\n",
       "      <td>634</td>\n",
       "      <td>TRA</td>\n",
       "      <td>TRAV8-2</td>\n",
       "      <td>None</td>\n",
       "      <td>TRAJ13</td>\n",
       "      <td>TRAC</td>\n",
       "      <td>True</td>\n",
       "      <td>True</td>\n",
       "      <td>CVVSDPGGYQKVTF</td>\n",
       "      <td>TGTGTTGTGAGTGATCCCGGGGGTTACCAGAAAGTTACCTTT</td>\n",
       "      <td>167</td>\n",
       "      <td>2</td>\n",
       "      <td>None</td>\n",
       "      <td>None</td>\n",
       "    </tr>\n",
       "    <tr>\n",
       "      <th>37622</th>\n",
       "      <td>AAACCTGAGAATCTCC-1</td>\n",
       "      <td>False</td>\n",
       "      <td>AAACCTGAGAATCTCC-1_contig_2</td>\n",
       "      <td>False</td>\n",
       "      <td>601</td>\n",
       "      <td>TRA</td>\n",
       "      <td>TRAV21</td>\n",
       "      <td>None</td>\n",
       "      <td>TRAJ10</td>\n",
       "      <td>TRAC</td>\n",
       "      <td>True</td>\n",
       "      <td>True</td>\n",
       "      <td>CAVFTGGGNKLTF</td>\n",
       "      <td>TGTGCTGTCTTCACGGGAGGAGGAAACAAACTCACCTTT</td>\n",
       "      <td>45</td>\n",
       "      <td>1</td>\n",
       "      <td>None</td>\n",
       "      <td>None</td>\n",
       "    </tr>\n",
       "    <tr>\n",
       "      <th>37627</th>\n",
       "      <td>AAACCTGAGAATTGTG-1</td>\n",
       "      <td>False</td>\n",
       "      <td>AAACCTGAGAATTGTG-1_contig_2</td>\n",
       "      <td>False</td>\n",
       "      <td>582</td>\n",
       "      <td>TRA</td>\n",
       "      <td>TRAV8-4</td>\n",
       "      <td>None</td>\n",
       "      <td>TRAJ24</td>\n",
       "      <td>TRAC</td>\n",
       "      <td>True</td>\n",
       "      <td>True</td>\n",
       "      <td>CAVSARSVTTDSWGKFQF</td>\n",
       "      <td>TGTGCTGTGAGTGCCCGATCGGTGACAACTGACAGCTGGGGGAAAT...</td>\n",
       "      <td>1302</td>\n",
       "      <td>13</td>\n",
       "      <td>None</td>\n",
       "      <td>None</td>\n",
       "    </tr>\n",
       "    <tr>\n",
       "      <th>37629</th>\n",
       "      <td>AAACCTGAGAATTGTG-1</td>\n",
       "      <td>False</td>\n",
       "      <td>AAACCTGAGAATTGTG-1_contig_4</td>\n",
       "      <td>False</td>\n",
       "      <td>660</td>\n",
       "      <td>TRA</td>\n",
       "      <td>TRAV8-2</td>\n",
       "      <td>None</td>\n",
       "      <td>TRAJ13</td>\n",
       "      <td>TRAC</td>\n",
       "      <td>True</td>\n",
       "      <td>True</td>\n",
       "      <td>CVVSDPGGYQKVTF</td>\n",
       "      <td>TGTGTTGTGAGTGATCCCGGGGGTTACCAGAAAGTTACCTTT</td>\n",
       "      <td>1504</td>\n",
       "      <td>13</td>\n",
       "      <td>None</td>\n",
       "      <td>None</td>\n",
       "    </tr>\n",
       "    <tr>\n",
       "      <th>...</th>\n",
       "      <td>...</td>\n",
       "      <td>...</td>\n",
       "      <td>...</td>\n",
       "      <td>...</td>\n",
       "      <td>...</td>\n",
       "      <td>...</td>\n",
       "      <td>...</td>\n",
       "      <td>...</td>\n",
       "      <td>...</td>\n",
       "      <td>...</td>\n",
       "      <td>...</td>\n",
       "      <td>...</td>\n",
       "      <td>...</td>\n",
       "      <td>...</td>\n",
       "      <td>...</td>\n",
       "      <td>...</td>\n",
       "      <td>...</td>\n",
       "      <td>...</td>\n",
       "    </tr>\n",
       "    <tr>\n",
       "      <th>105926</th>\n",
       "      <td>AGTTGGTGTGGTTTCA-1</td>\n",
       "      <td>False</td>\n",
       "      <td>AGTTGGTGTGGTTTCA-1_contig_1</td>\n",
       "      <td>False</td>\n",
       "      <td>465</td>\n",
       "      <td>TRA</td>\n",
       "      <td>TRAV21</td>\n",
       "      <td>None</td>\n",
       "      <td>TRAJ10</td>\n",
       "      <td>TRAC</td>\n",
       "      <td>True</td>\n",
       "      <td>True</td>\n",
       "      <td>CAVFTGGGNKLTF</td>\n",
       "      <td>TGTGCTGTCTTCACGGGAGGAGGAAACAAACTCACCTTT</td>\n",
       "      <td>18</td>\n",
       "      <td>1</td>\n",
       "      <td>None</td>\n",
       "      <td>None</td>\n",
       "    </tr>\n",
       "    <tr>\n",
       "      <th>105970</th>\n",
       "      <td>ATCACGAAGGCGATAC-1</td>\n",
       "      <td>False</td>\n",
       "      <td>ATCACGAAGGCGATAC-1_contig_1</td>\n",
       "      <td>False</td>\n",
       "      <td>478</td>\n",
       "      <td>TRA</td>\n",
       "      <td>TRAV1-2</td>\n",
       "      <td>None</td>\n",
       "      <td>TRAJ20</td>\n",
       "      <td>TRAC</td>\n",
       "      <td>True</td>\n",
       "      <td>True</td>\n",
       "      <td>CAVWDDYKLSF</td>\n",
       "      <td>TGTGCTGTGTGGGACGACTACAAGCTCAGCTTT</td>\n",
       "      <td>15</td>\n",
       "      <td>1</td>\n",
       "      <td>None</td>\n",
       "      <td>None</td>\n",
       "    </tr>\n",
       "    <tr>\n",
       "      <th>105978</th>\n",
       "      <td>ATCATCTAGCTGAAAT-1</td>\n",
       "      <td>False</td>\n",
       "      <td>ATCATCTAGCTGAAAT-1_contig_1</td>\n",
       "      <td>False</td>\n",
       "      <td>568</td>\n",
       "      <td>TRA</td>\n",
       "      <td>TRAV29/DV5</td>\n",
       "      <td>None</td>\n",
       "      <td>TRAJ40</td>\n",
       "      <td>TRAC</td>\n",
       "      <td>True</td>\n",
       "      <td>True</td>\n",
       "      <td>CAASEPGTFNYIF</td>\n",
       "      <td>TGTGCAGCCTCCGAACCAGGAACCTTCAATTACATCTTT</td>\n",
       "      <td>16</td>\n",
       "      <td>1</td>\n",
       "      <td>None</td>\n",
       "      <td>None</td>\n",
       "    </tr>\n",
       "    <tr>\n",
       "      <th>105982</th>\n",
       "      <td>ATCATCTCATGATCCA-1</td>\n",
       "      <td>False</td>\n",
       "      <td>ATCATCTCATGATCCA-1_contig_1</td>\n",
       "      <td>False</td>\n",
       "      <td>498</td>\n",
       "      <td>TRA</td>\n",
       "      <td>TRAV20</td>\n",
       "      <td>None</td>\n",
       "      <td>TRAJ3</td>\n",
       "      <td>TRAC</td>\n",
       "      <td>True</td>\n",
       "      <td>True</td>\n",
       "      <td>CAVQAFQEYSSASKIIF</td>\n",
       "      <td>TGTGCTGTGCAGGCTTTTCAGGAGTACAGCAGTGCTTCCAAGATAA...</td>\n",
       "      <td>12</td>\n",
       "      <td>1</td>\n",
       "      <td>None</td>\n",
       "      <td>None</td>\n",
       "    </tr>\n",
       "    <tr>\n",
       "      <th>105991</th>\n",
       "      <td>ATCATGGGTTCAGTAC-1</td>\n",
       "      <td>False</td>\n",
       "      <td>ATCATGGGTTCAGTAC-1_contig_1</td>\n",
       "      <td>False</td>\n",
       "      <td>466</td>\n",
       "      <td>TRA</td>\n",
       "      <td>TRAV13-2</td>\n",
       "      <td>None</td>\n",
       "      <td>TRAJ37</td>\n",
       "      <td>TRAC</td>\n",
       "      <td>True</td>\n",
       "      <td>True</td>\n",
       "      <td>CAERGNTGKLIF</td>\n",
       "      <td>TGTGCAGAGAGAGGCAACACAGGCAAACTAATCTTT</td>\n",
       "      <td>11</td>\n",
       "      <td>1</td>\n",
       "      <td>None</td>\n",
       "      <td>None</td>\n",
       "    </tr>\n",
       "  </tbody>\n",
       "</table>\n",
       "<p>18420 rows × 18 columns</p>\n",
       "</div>"
      ],
      "text/plain": [
       "                   barcode  is_cell                    contig_id  \\\n",
       "37615   AAACCTGAGAACAACT-1    False  AAACCTGAGAACAACT-1_contig_1   \n",
       "37618   AAACCTGAGAATAGGG-1    False  AAACCTGAGAATAGGG-1_contig_2   \n",
       "37622   AAACCTGAGAATCTCC-1    False  AAACCTGAGAATCTCC-1_contig_2   \n",
       "37627   AAACCTGAGAATTGTG-1    False  AAACCTGAGAATTGTG-1_contig_2   \n",
       "37629   AAACCTGAGAATTGTG-1    False  AAACCTGAGAATTGTG-1_contig_4   \n",
       "...                    ...      ...                          ...   \n",
       "105926  AGTTGGTGTGGTTTCA-1    False  AGTTGGTGTGGTTTCA-1_contig_1   \n",
       "105970  ATCACGAAGGCGATAC-1    False  ATCACGAAGGCGATAC-1_contig_1   \n",
       "105978  ATCATCTAGCTGAAAT-1    False  ATCATCTAGCTGAAAT-1_contig_1   \n",
       "105982  ATCATCTCATGATCCA-1    False  ATCATCTCATGATCCA-1_contig_1   \n",
       "105991  ATCATGGGTTCAGTAC-1    False  ATCATGGGTTCAGTAC-1_contig_1   \n",
       "\n",
       "        high_confidence  length chain      v_gene d_gene  j_gene c_gene  \\\n",
       "37615             False     495   TRA     TRAV9-2   None   TRAJ4   TRAC   \n",
       "37618             False     634   TRA     TRAV8-2   None  TRAJ13   TRAC   \n",
       "37622             False     601   TRA      TRAV21   None  TRAJ10   TRAC   \n",
       "37627             False     582   TRA     TRAV8-4   None  TRAJ24   TRAC   \n",
       "37629             False     660   TRA     TRAV8-2   None  TRAJ13   TRAC   \n",
       "...                 ...     ...   ...         ...    ...     ...    ...   \n",
       "105926            False     465   TRA      TRAV21   None  TRAJ10   TRAC   \n",
       "105970            False     478   TRA     TRAV1-2   None  TRAJ20   TRAC   \n",
       "105978            False     568   TRA  TRAV29/DV5   None  TRAJ40   TRAC   \n",
       "105982            False     498   TRA      TRAV20   None   TRAJ3   TRAC   \n",
       "105991            False     466   TRA    TRAV13-2   None  TRAJ37   TRAC   \n",
       "\n",
       "        full_length  productive                cdr3  \\\n",
       "37615          True        True      CAPKRTGGYNKLIF   \n",
       "37618          True        True      CVVSDPGGYQKVTF   \n",
       "37622          True        True       CAVFTGGGNKLTF   \n",
       "37627          True        True  CAVSARSVTTDSWGKFQF   \n",
       "37629          True        True      CVVSDPGGYQKVTF   \n",
       "...             ...         ...                 ...   \n",
       "105926         True        True       CAVFTGGGNKLTF   \n",
       "105970         True        True         CAVWDDYKLSF   \n",
       "105978         True        True       CAASEPGTFNYIF   \n",
       "105982         True        True   CAVQAFQEYSSASKIIF   \n",
       "105991         True        True        CAERGNTGKLIF   \n",
       "\n",
       "                                                  cdr3_nt  reads  umis  \\\n",
       "37615          TGTGCTCCCAAAAGGACTGGTGGCTACAATAAGCTGATTTTT   1441     1   \n",
       "37618          TGTGTTGTGAGTGATCCCGGGGGTTACCAGAAAGTTACCTTT    167     2   \n",
       "37622             TGTGCTGTCTTCACGGGAGGAGGAAACAAACTCACCTTT     45     1   \n",
       "37627   TGTGCTGTGAGTGCCCGATCGGTGACAACTGACAGCTGGGGGAAAT...   1302    13   \n",
       "37629          TGTGTTGTGAGTGATCCCGGGGGTTACCAGAAAGTTACCTTT   1504    13   \n",
       "...                                                   ...    ...   ...   \n",
       "105926            TGTGCTGTCTTCACGGGAGGAGGAAACAAACTCACCTTT     18     1   \n",
       "105970                  TGTGCTGTGTGGGACGACTACAAGCTCAGCTTT     15     1   \n",
       "105978            TGTGCAGCCTCCGAACCAGGAACCTTCAATTACATCTTT     16     1   \n",
       "105982  TGTGCTGTGCAGGCTTTTCAGGAGTACAGCAGTGCTTCCAAGATAA...     12     1   \n",
       "105991               TGTGCAGAGAGAGGCAACACAGGCAAACTAATCTTT     11     1   \n",
       "\n",
       "       raw_clonotype_id raw_consensus_id  \n",
       "37615              None             None  \n",
       "37618              None             None  \n",
       "37622              None             None  \n",
       "37627              None             None  \n",
       "37629              None             None  \n",
       "...                 ...              ...  \n",
       "105926             None             None  \n",
       "105970             None             None  \n",
       "105978             None             None  \n",
       "105982             None             None  \n",
       "105991             None             None  \n",
       "\n",
       "[18420 rows x 18 columns]"
      ]
     },
     "execution_count": 59,
     "metadata": {},
     "output_type": "execute_result"
    }
   ],
   "source": [
    "df_tra"
   ]
  },
  {
   "cell_type": "code",
   "execution_count": 60,
   "id": "hybrid-intention",
   "metadata": {},
   "outputs": [
    {
     "data": {
      "text/html": [
       "<div>\n",
       "<style scoped>\n",
       "    .dataframe tbody tr th:only-of-type {\n",
       "        vertical-align: middle;\n",
       "    }\n",
       "\n",
       "    .dataframe tbody tr th {\n",
       "        vertical-align: top;\n",
       "    }\n",
       "\n",
       "    .dataframe thead th {\n",
       "        text-align: right;\n",
       "    }\n",
       "</style>\n",
       "<table border=\"1\" class=\"dataframe\">\n",
       "  <thead>\n",
       "    <tr style=\"text-align: right;\">\n",
       "      <th></th>\n",
       "      <th>barcode</th>\n",
       "      <th>is_cell</th>\n",
       "      <th>contig_id</th>\n",
       "      <th>high_confidence</th>\n",
       "      <th>length</th>\n",
       "      <th>chain</th>\n",
       "      <th>v_gene</th>\n",
       "      <th>d_gene</th>\n",
       "      <th>j_gene</th>\n",
       "      <th>c_gene</th>\n",
       "      <th>full_length</th>\n",
       "      <th>productive</th>\n",
       "      <th>cdr3</th>\n",
       "      <th>cdr3_nt</th>\n",
       "      <th>reads</th>\n",
       "      <th>umis</th>\n",
       "      <th>raw_clonotype_id</th>\n",
       "      <th>raw_consensus_id</th>\n",
       "    </tr>\n",
       "  </thead>\n",
       "  <tbody>\n",
       "    <tr>\n",
       "      <th>37617</th>\n",
       "      <td>AAACCTGAGAATAGGG-1</td>\n",
       "      <td>False</td>\n",
       "      <td>AAACCTGAGAATAGGG-1_contig_1</td>\n",
       "      <td>False</td>\n",
       "      <td>478</td>\n",
       "      <td>TRB</td>\n",
       "      <td>TRBV4-1</td>\n",
       "      <td>None</td>\n",
       "      <td>TRBJ2-7</td>\n",
       "      <td>TRBC2</td>\n",
       "      <td>True</td>\n",
       "      <td>True</td>\n",
       "      <td>CASSQDLGSYEQYF</td>\n",
       "      <td>TGCGCCAGCAGCCAAGATCTCGGCTCCTACGAGCAGTACTTC</td>\n",
       "      <td>4153</td>\n",
       "      <td>26</td>\n",
       "      <td>None</td>\n",
       "      <td>None</td>\n",
       "    </tr>\n",
       "    <tr>\n",
       "      <th>37621</th>\n",
       "      <td>AAACCTGAGAATCTCC-1</td>\n",
       "      <td>False</td>\n",
       "      <td>AAACCTGAGAATCTCC-1_contig_1</td>\n",
       "      <td>False</td>\n",
       "      <td>501</td>\n",
       "      <td>TRB</td>\n",
       "      <td>TRBV20-1</td>\n",
       "      <td>None</td>\n",
       "      <td>TRBJ2-3</td>\n",
       "      <td>TRBC2</td>\n",
       "      <td>True</td>\n",
       "      <td>True</td>\n",
       "      <td>CSARGWVFPGDTQYF</td>\n",
       "      <td>TGCAGTGCTAGAGGTTGGGTTTTTCCAGGGGATACGCAGTATTTT</td>\n",
       "      <td>154</td>\n",
       "      <td>2</td>\n",
       "      <td>None</td>\n",
       "      <td>None</td>\n",
       "    </tr>\n",
       "    <tr>\n",
       "      <th>37626</th>\n",
       "      <td>AAACCTGAGAATTGTG-1</td>\n",
       "      <td>False</td>\n",
       "      <td>AAACCTGAGAATTGTG-1_contig_1</td>\n",
       "      <td>False</td>\n",
       "      <td>625</td>\n",
       "      <td>TRB</td>\n",
       "      <td>TRBV7-9</td>\n",
       "      <td>None</td>\n",
       "      <td>TRBJ2-7</td>\n",
       "      <td>TRBC2</td>\n",
       "      <td>True</td>\n",
       "      <td>True</td>\n",
       "      <td>CASSLRTNYEQYF</td>\n",
       "      <td>TGTGCCAGCAGCTTAAGGACCAACTACGAGCAGTACTTC</td>\n",
       "      <td>1394</td>\n",
       "      <td>12</td>\n",
       "      <td>None</td>\n",
       "      <td>None</td>\n",
       "    </tr>\n",
       "    <tr>\n",
       "      <th>37628</th>\n",
       "      <td>AAACCTGAGAATTGTG-1</td>\n",
       "      <td>False</td>\n",
       "      <td>AAACCTGAGAATTGTG-1_contig_3</td>\n",
       "      <td>False</td>\n",
       "      <td>524</td>\n",
       "      <td>TRB</td>\n",
       "      <td>TRBV20-1</td>\n",
       "      <td>None</td>\n",
       "      <td>TRBJ2-3</td>\n",
       "      <td>TRBC2</td>\n",
       "      <td>True</td>\n",
       "      <td>True</td>\n",
       "      <td>CSARGWVFPGDTQYF</td>\n",
       "      <td>TGCAGTGCTAGAGGTTGGGTTTTTCCAGGGGATACGCAGTATTTT</td>\n",
       "      <td>603</td>\n",
       "      <td>7</td>\n",
       "      <td>None</td>\n",
       "      <td>None</td>\n",
       "    </tr>\n",
       "    <tr>\n",
       "      <th>37635</th>\n",
       "      <td>AAACCTGAGACAGGCT-1</td>\n",
       "      <td>False</td>\n",
       "      <td>AAACCTGAGACAGGCT-1_contig_1</td>\n",
       "      <td>False</td>\n",
       "      <td>472</td>\n",
       "      <td>TRB</td>\n",
       "      <td>TRBV2</td>\n",
       "      <td>None</td>\n",
       "      <td>TRBJ2-1</td>\n",
       "      <td>TRBC2</td>\n",
       "      <td>True</td>\n",
       "      <td>True</td>\n",
       "      <td>CASSDLGVYNEQFF</td>\n",
       "      <td>TGTGCCAGCAGTGACCTGGGGGTCTACAATGAGCAGTTCTTC</td>\n",
       "      <td>2247</td>\n",
       "      <td>9</td>\n",
       "      <td>None</td>\n",
       "      <td>None</td>\n",
       "    </tr>\n",
       "    <tr>\n",
       "      <th>...</th>\n",
       "      <td>...</td>\n",
       "      <td>...</td>\n",
       "      <td>...</td>\n",
       "      <td>...</td>\n",
       "      <td>...</td>\n",
       "      <td>...</td>\n",
       "      <td>...</td>\n",
       "      <td>...</td>\n",
       "      <td>...</td>\n",
       "      <td>...</td>\n",
       "      <td>...</td>\n",
       "      <td>...</td>\n",
       "      <td>...</td>\n",
       "      <td>...</td>\n",
       "      <td>...</td>\n",
       "      <td>...</td>\n",
       "      <td>...</td>\n",
       "      <td>...</td>\n",
       "    </tr>\n",
       "    <tr>\n",
       "      <th>105980</th>\n",
       "      <td>ATCATCTCAATAGCAA-1</td>\n",
       "      <td>False</td>\n",
       "      <td>ATCATCTCAATAGCAA-1_contig_1</td>\n",
       "      <td>False</td>\n",
       "      <td>476</td>\n",
       "      <td>TRB</td>\n",
       "      <td>TRBV20-1</td>\n",
       "      <td>None</td>\n",
       "      <td>TRBJ2-3</td>\n",
       "      <td>TRBC2</td>\n",
       "      <td>True</td>\n",
       "      <td>True</td>\n",
       "      <td>CSARGWVFPGDTQYF</td>\n",
       "      <td>TGCAGTGCTAGAGGTTGGGTTTTTCCAGGGGATACGCAGTATTTT</td>\n",
       "      <td>17</td>\n",
       "      <td>1</td>\n",
       "      <td>None</td>\n",
       "      <td>None</td>\n",
       "    </tr>\n",
       "    <tr>\n",
       "      <th>105985</th>\n",
       "      <td>ATCATCTTCAATCACG-1</td>\n",
       "      <td>False</td>\n",
       "      <td>ATCATCTTCAATCACG-1_contig_1</td>\n",
       "      <td>False</td>\n",
       "      <td>426</td>\n",
       "      <td>TRB</td>\n",
       "      <td>TRBV6-4</td>\n",
       "      <td>None</td>\n",
       "      <td>TRBJ2-3</td>\n",
       "      <td>TRBC2</td>\n",
       "      <td>True</td>\n",
       "      <td>True</td>\n",
       "      <td>CASSEGAADTQYF</td>\n",
       "      <td>TGTGCCAGCAGTGAAGGAGCGGCGGATACGCAGTATTTT</td>\n",
       "      <td>13</td>\n",
       "      <td>2</td>\n",
       "      <td>None</td>\n",
       "      <td>None</td>\n",
       "    </tr>\n",
       "    <tr>\n",
       "      <th>105995</th>\n",
       "      <td>ATCCACCAGAACTCGG-1</td>\n",
       "      <td>False</td>\n",
       "      <td>ATCCACCAGAACTCGG-1_contig_1</td>\n",
       "      <td>False</td>\n",
       "      <td>431</td>\n",
       "      <td>TRB</td>\n",
       "      <td>TRBV4-3</td>\n",
       "      <td>None</td>\n",
       "      <td>TRBJ2-2</td>\n",
       "      <td>None</td>\n",
       "      <td>True</td>\n",
       "      <td>True</td>\n",
       "      <td>CASSQERSTYTGELFF</td>\n",
       "      <td>TGCGCCAGCAGCCAAGAGAGGAGCACTTACACCGGGGAGCTGTTTTTT</td>\n",
       "      <td>27</td>\n",
       "      <td>1</td>\n",
       "      <td>None</td>\n",
       "      <td>None</td>\n",
       "    </tr>\n",
       "    <tr>\n",
       "      <th>105999</th>\n",
       "      <td>ATCCACCTCGCCTGAG-1</td>\n",
       "      <td>False</td>\n",
       "      <td>ATCCACCTCGCCTGAG-1_contig_1</td>\n",
       "      <td>False</td>\n",
       "      <td>540</td>\n",
       "      <td>TRB</td>\n",
       "      <td>TRBV19</td>\n",
       "      <td>None</td>\n",
       "      <td>TRBJ1-5</td>\n",
       "      <td>TRBC1</td>\n",
       "      <td>True</td>\n",
       "      <td>True</td>\n",
       "      <td>CASSTASPNQPQHF</td>\n",
       "      <td>TGTGCCAGTAGTACCGCCTCTCCCAATCAGCCCCAGCATTTT</td>\n",
       "      <td>24</td>\n",
       "      <td>1</td>\n",
       "      <td>None</td>\n",
       "      <td>None</td>\n",
       "    </tr>\n",
       "    <tr>\n",
       "      <th>106012</th>\n",
       "      <td>ATGCGATGTGTTCTTT-1</td>\n",
       "      <td>False</td>\n",
       "      <td>ATGCGATGTGTTCTTT-1_contig_1</td>\n",
       "      <td>False</td>\n",
       "      <td>510</td>\n",
       "      <td>TRB</td>\n",
       "      <td>TRBV14</td>\n",
       "      <td>None</td>\n",
       "      <td>TRBJ1-2</td>\n",
       "      <td>TRBC1</td>\n",
       "      <td>True</td>\n",
       "      <td>True</td>\n",
       "      <td>CASSQEGTPGRRGGYTF</td>\n",
       "      <td>TGTGCCAGCAGCCAAGAAGGGACGCCGGGACGAAGGGGTGGCTACA...</td>\n",
       "      <td>14</td>\n",
       "      <td>1</td>\n",
       "      <td>None</td>\n",
       "      <td>None</td>\n",
       "    </tr>\n",
       "  </tbody>\n",
       "</table>\n",
       "<p>28172 rows × 18 columns</p>\n",
       "</div>"
      ],
      "text/plain": [
       "                   barcode  is_cell                    contig_id  \\\n",
       "37617   AAACCTGAGAATAGGG-1    False  AAACCTGAGAATAGGG-1_contig_1   \n",
       "37621   AAACCTGAGAATCTCC-1    False  AAACCTGAGAATCTCC-1_contig_1   \n",
       "37626   AAACCTGAGAATTGTG-1    False  AAACCTGAGAATTGTG-1_contig_1   \n",
       "37628   AAACCTGAGAATTGTG-1    False  AAACCTGAGAATTGTG-1_contig_3   \n",
       "37635   AAACCTGAGACAGGCT-1    False  AAACCTGAGACAGGCT-1_contig_1   \n",
       "...                    ...      ...                          ...   \n",
       "105980  ATCATCTCAATAGCAA-1    False  ATCATCTCAATAGCAA-1_contig_1   \n",
       "105985  ATCATCTTCAATCACG-1    False  ATCATCTTCAATCACG-1_contig_1   \n",
       "105995  ATCCACCAGAACTCGG-1    False  ATCCACCAGAACTCGG-1_contig_1   \n",
       "105999  ATCCACCTCGCCTGAG-1    False  ATCCACCTCGCCTGAG-1_contig_1   \n",
       "106012  ATGCGATGTGTTCTTT-1    False  ATGCGATGTGTTCTTT-1_contig_1   \n",
       "\n",
       "        high_confidence  length chain    v_gene d_gene   j_gene c_gene  \\\n",
       "37617             False     478   TRB   TRBV4-1   None  TRBJ2-7  TRBC2   \n",
       "37621             False     501   TRB  TRBV20-1   None  TRBJ2-3  TRBC2   \n",
       "37626             False     625   TRB   TRBV7-9   None  TRBJ2-7  TRBC2   \n",
       "37628             False     524   TRB  TRBV20-1   None  TRBJ2-3  TRBC2   \n",
       "37635             False     472   TRB     TRBV2   None  TRBJ2-1  TRBC2   \n",
       "...                 ...     ...   ...       ...    ...      ...    ...   \n",
       "105980            False     476   TRB  TRBV20-1   None  TRBJ2-3  TRBC2   \n",
       "105985            False     426   TRB   TRBV6-4   None  TRBJ2-3  TRBC2   \n",
       "105995            False     431   TRB   TRBV4-3   None  TRBJ2-2   None   \n",
       "105999            False     540   TRB    TRBV19   None  TRBJ1-5  TRBC1   \n",
       "106012            False     510   TRB    TRBV14   None  TRBJ1-2  TRBC1   \n",
       "\n",
       "        full_length  productive               cdr3  \\\n",
       "37617          True        True     CASSQDLGSYEQYF   \n",
       "37621          True        True    CSARGWVFPGDTQYF   \n",
       "37626          True        True      CASSLRTNYEQYF   \n",
       "37628          True        True    CSARGWVFPGDTQYF   \n",
       "37635          True        True     CASSDLGVYNEQFF   \n",
       "...             ...         ...                ...   \n",
       "105980         True        True    CSARGWVFPGDTQYF   \n",
       "105985         True        True      CASSEGAADTQYF   \n",
       "105995         True        True   CASSQERSTYTGELFF   \n",
       "105999         True        True     CASSTASPNQPQHF   \n",
       "106012         True        True  CASSQEGTPGRRGGYTF   \n",
       "\n",
       "                                                  cdr3_nt  reads  umis  \\\n",
       "37617          TGCGCCAGCAGCCAAGATCTCGGCTCCTACGAGCAGTACTTC   4153    26   \n",
       "37621       TGCAGTGCTAGAGGTTGGGTTTTTCCAGGGGATACGCAGTATTTT    154     2   \n",
       "37626             TGTGCCAGCAGCTTAAGGACCAACTACGAGCAGTACTTC   1394    12   \n",
       "37628       TGCAGTGCTAGAGGTTGGGTTTTTCCAGGGGATACGCAGTATTTT    603     7   \n",
       "37635          TGTGCCAGCAGTGACCTGGGGGTCTACAATGAGCAGTTCTTC   2247     9   \n",
       "...                                                   ...    ...   ...   \n",
       "105980      TGCAGTGCTAGAGGTTGGGTTTTTCCAGGGGATACGCAGTATTTT     17     1   \n",
       "105985            TGTGCCAGCAGTGAAGGAGCGGCGGATACGCAGTATTTT     13     2   \n",
       "105995   TGCGCCAGCAGCCAAGAGAGGAGCACTTACACCGGGGAGCTGTTTTTT     27     1   \n",
       "105999         TGTGCCAGTAGTACCGCCTCTCCCAATCAGCCCCAGCATTTT     24     1   \n",
       "106012  TGTGCCAGCAGCCAAGAAGGGACGCCGGGACGAAGGGGTGGCTACA...     14     1   \n",
       "\n",
       "       raw_clonotype_id raw_consensus_id  \n",
       "37617              None             None  \n",
       "37621              None             None  \n",
       "37626              None             None  \n",
       "37628              None             None  \n",
       "37635              None             None  \n",
       "...                 ...              ...  \n",
       "105980             None             None  \n",
       "105985             None             None  \n",
       "105995             None             None  \n",
       "105999             None             None  \n",
       "106012             None             None  \n",
       "\n",
       "[28172 rows x 18 columns]"
      ]
     },
     "execution_count": 60,
     "metadata": {},
     "output_type": "execute_result"
    }
   ],
   "source": [
    "df_trb"
   ]
  },
  {
   "cell_type": "code",
   "execution_count": 61,
   "id": "valued-compilation",
   "metadata": {},
   "outputs": [],
   "source": [
    "tra = set(df_tra.groupby(\"barcode\").filter(lambda x: (len(x) >=2)).barcode)"
   ]
  },
  {
   "cell_type": "code",
   "execution_count": 62,
   "id": "annoying-kinase",
   "metadata": {},
   "outputs": [],
   "source": [
    "trb = set(df_trb.groupby(\"barcode\").filter(lambda x: (len(x) >=2)).barcode)"
   ]
  },
  {
   "cell_type": "code",
   "execution_count": 63,
   "id": "egyptian-combat",
   "metadata": {},
   "outputs": [
    {
     "data": {
      "text/plain": [
       "1638"
      ]
     },
     "execution_count": 63,
     "metadata": {},
     "output_type": "execute_result"
    }
   ],
   "source": [
    "len(tra)"
   ]
  },
  {
   "cell_type": "code",
   "execution_count": 64,
   "id": "subtle-swing",
   "metadata": {},
   "outputs": [
    {
     "data": {
      "text/plain": [
       "2434"
      ]
     },
     "execution_count": 64,
     "metadata": {},
     "output_type": "execute_result"
    }
   ],
   "source": [
    "len(trb)"
   ]
  },
  {
   "cell_type": "code",
   "execution_count": 65,
   "id": "growing-column",
   "metadata": {},
   "outputs": [
    {
     "name": "stdout",
     "output_type": "stream",
     "text": [
      " TRA(>=2) + TRB(>=2)\n",
      " 573 \n"
     ]
    }
   ],
   "source": [
    "print(f\" TRA(>=2) + TRB(>=2)\\n {len(tra & trb)} \")"
   ]
  },
  {
   "cell_type": "code",
   "execution_count": null,
   "id": "directed-victim",
   "metadata": {},
   "outputs": [],
   "source": []
  },
  {
   "cell_type": "code",
   "execution_count": null,
   "id": "german-nomination",
   "metadata": {},
   "outputs": [],
   "source": [
    "import pandas as pd"
   ]
  },
  {
   "cell_type": "code",
   "execution_count": 3,
   "id": "owned-johns",
   "metadata": {},
   "outputs": [],
   "source": [
    "df = pd.read_csv(\"/SGRNJ06/randd/PROJECT/scATAC/self_pipe/20240229_PBMC/1000_peak/A0111_6_PBMC_02lysis_WX_D02SDS_T7_EDTA5030/outs/fragments_corrected_dedup_count.tsv.gz\",\n",
    "                header=None, sep='\\t', names=[\"chr\", \"start\", \"end\", \"barcode\", \"count\"])"
   ]
  },
  {
   "cell_type": "code",
   "execution_count": 12,
   "id": "dimensional-australia",
   "metadata": {},
   "outputs": [
    {
     "data": {
      "text/html": [
       "<div>\n",
       "<style scoped>\n",
       "    .dataframe tbody tr th:only-of-type {\n",
       "        vertical-align: middle;\n",
       "    }\n",
       "\n",
       "    .dataframe tbody tr th {\n",
       "        vertical-align: top;\n",
       "    }\n",
       "\n",
       "    .dataframe thead th {\n",
       "        text-align: right;\n",
       "    }\n",
       "</style>\n",
       "<table border=\"1\" class=\"dataframe\">\n",
       "  <thead>\n",
       "    <tr style=\"text-align: right;\">\n",
       "      <th></th>\n",
       "      <th>chr</th>\n",
       "      <th>start</th>\n",
       "      <th>end</th>\n",
       "      <th>barcode</th>\n",
       "      <th>count</th>\n",
       "    </tr>\n",
       "  </thead>\n",
       "  <tbody>\n",
       "    <tr>\n",
       "      <th>0</th>\n",
       "      <td>chr1</td>\n",
       "      <td>10048</td>\n",
       "      <td>10114</td>\n",
       "      <td>GGGGGTAACGTCTCAGAAGC</td>\n",
       "      <td>1</td>\n",
       "    </tr>\n",
       "    <tr>\n",
       "      <th>1</th>\n",
       "      <td>chr1</td>\n",
       "      <td>10055</td>\n",
       "      <td>10156</td>\n",
       "      <td>CGTGCGCTTCTGTCCCTATC</td>\n",
       "      <td>2</td>\n",
       "    </tr>\n",
       "    <tr>\n",
       "      <th>2</th>\n",
       "      <td>chr1</td>\n",
       "      <td>10072</td>\n",
       "      <td>10119</td>\n",
       "      <td>TACGTCTTCTAGGCGTGTAT</td>\n",
       "      <td>3</td>\n",
       "    </tr>\n",
       "    <tr>\n",
       "      <th>3</th>\n",
       "      <td>chr1</td>\n",
       "      <td>10072</td>\n",
       "      <td>10120</td>\n",
       "      <td>TTGCGAGATCGCATAGGGTC</td>\n",
       "      <td>1</td>\n",
       "    </tr>\n",
       "    <tr>\n",
       "      <th>4</th>\n",
       "      <td>chr1</td>\n",
       "      <td>10073</td>\n",
       "      <td>10120</td>\n",
       "      <td>CGAGACCGAGTAACGATCTT</td>\n",
       "      <td>1</td>\n",
       "    </tr>\n",
       "    <tr>\n",
       "      <th>...</th>\n",
       "      <td>...</td>\n",
       "      <td>...</td>\n",
       "      <td>...</td>\n",
       "      <td>...</td>\n",
       "      <td>...</td>\n",
       "    </tr>\n",
       "    <tr>\n",
       "      <th>80973469</th>\n",
       "      <td>chrUn_GL000218v1</td>\n",
       "      <td>160674</td>\n",
       "      <td>160869</td>\n",
       "      <td>GATGGGCAGTTGTCCGCTAT</td>\n",
       "      <td>1</td>\n",
       "    </tr>\n",
       "    <tr>\n",
       "      <th>80973470</th>\n",
       "      <td>chrUn_GL000218v1</td>\n",
       "      <td>160755</td>\n",
       "      <td>160793</td>\n",
       "      <td>GTGTATCTCATGCATGACCC</td>\n",
       "      <td>1</td>\n",
       "    </tr>\n",
       "    <tr>\n",
       "      <th>80973471</th>\n",
       "      <td>chrUn_GL000218v1</td>\n",
       "      <td>160765</td>\n",
       "      <td>160806</td>\n",
       "      <td>TCCTCAGCTGTTCTGTTCGC</td>\n",
       "      <td>2</td>\n",
       "    </tr>\n",
       "    <tr>\n",
       "      <th>80973472</th>\n",
       "      <td>chrUn_GL000218v1</td>\n",
       "      <td>160872</td>\n",
       "      <td>161051</td>\n",
       "      <td>AGTTACTGTTAGCCTCTCGG</td>\n",
       "      <td>6</td>\n",
       "    </tr>\n",
       "    <tr>\n",
       "      <th>80973473</th>\n",
       "      <td>chrUn_GL000218v1</td>\n",
       "      <td>160924</td>\n",
       "      <td>161122</td>\n",
       "      <td>AATTTAATGGAGAGAACGCG</td>\n",
       "      <td>1</td>\n",
       "    </tr>\n",
       "  </tbody>\n",
       "</table>\n",
       "<p>80973474 rows × 5 columns</p>\n",
       "</div>"
      ],
      "text/plain": [
       "                       chr   start     end               barcode  count\n",
       "0                     chr1   10048   10114  GGGGGTAACGTCTCAGAAGC      1\n",
       "1                     chr1   10055   10156  CGTGCGCTTCTGTCCCTATC      2\n",
       "2                     chr1   10072   10119  TACGTCTTCTAGGCGTGTAT      3\n",
       "3                     chr1   10072   10120  TTGCGAGATCGCATAGGGTC      1\n",
       "4                     chr1   10073   10120  CGAGACCGAGTAACGATCTT      1\n",
       "...                    ...     ...     ...                   ...    ...\n",
       "80973469  chrUn_GL000218v1  160674  160869  GATGGGCAGTTGTCCGCTAT      1\n",
       "80973470  chrUn_GL000218v1  160755  160793  GTGTATCTCATGCATGACCC      1\n",
       "80973471  chrUn_GL000218v1  160765  160806  TCCTCAGCTGTTCTGTTCGC      2\n",
       "80973472  chrUn_GL000218v1  160872  161051  AGTTACTGTTAGCCTCTCGG      6\n",
       "80973473  chrUn_GL000218v1  160924  161122  AATTTAATGGAGAGAACGCG      1\n",
       "\n",
       "[80973474 rows x 5 columns]"
      ]
     },
     "execution_count": 12,
     "metadata": {},
     "output_type": "execute_result"
    }
   ],
   "source": [
    "df"
   ]
  },
  {
   "cell_type": "code",
   "execution_count": 18,
   "id": "natural-singing",
   "metadata": {},
   "outputs": [],
   "source": [
    "df1 = df[df['chr']=='chr7']"
   ]
  },
  {
   "cell_type": "code",
   "execution_count": 19,
   "id": "pleasant-penguin",
   "metadata": {},
   "outputs": [],
   "source": [
    "df1 = df1[df1['start']>=5526098]"
   ]
  },
  {
   "cell_type": "code",
   "execution_count": 20,
   "id": "olive-bosnia",
   "metadata": {},
   "outputs": [],
   "source": [
    "df1 = df1[df1['end']<=5565784]"
   ]
  },
  {
   "cell_type": "code",
   "execution_count": 21,
   "id": "persistent-baseline",
   "metadata": {},
   "outputs": [
    {
     "data": {
      "text/html": [
       "<div>\n",
       "<style scoped>\n",
       "    .dataframe tbody tr th:only-of-type {\n",
       "        vertical-align: middle;\n",
       "    }\n",
       "\n",
       "    .dataframe tbody tr th {\n",
       "        vertical-align: top;\n",
       "    }\n",
       "\n",
       "    .dataframe thead th {\n",
       "        text-align: right;\n",
       "    }\n",
       "</style>\n",
       "<table border=\"1\" class=\"dataframe\">\n",
       "  <thead>\n",
       "    <tr style=\"text-align: right;\">\n",
       "      <th></th>\n",
       "      <th>chr</th>\n",
       "      <th>start</th>\n",
       "      <th>end</th>\n",
       "      <th>barcode</th>\n",
       "      <th>count</th>\n",
       "    </tr>\n",
       "  </thead>\n",
       "  <tbody>\n",
       "    <tr>\n",
       "      <th>31305832</th>\n",
       "      <td>chr7</td>\n",
       "      <td>5526098</td>\n",
       "      <td>5526385</td>\n",
       "      <td>CAGTACTGCATCCTATACGT</td>\n",
       "      <td>2</td>\n",
       "    </tr>\n",
       "    <tr>\n",
       "      <th>31305833</th>\n",
       "      <td>chr7</td>\n",
       "      <td>5526103</td>\n",
       "      <td>5526426</td>\n",
       "      <td>CGCTATGTTCGAGTTAGCAT</td>\n",
       "      <td>3</td>\n",
       "    </tr>\n",
       "    <tr>\n",
       "      <th>31305834</th>\n",
       "      <td>chr7</td>\n",
       "      <td>5526104</td>\n",
       "      <td>5526127</td>\n",
       "      <td>TTTAGTGACACAGTTTCCCT</td>\n",
       "      <td>4</td>\n",
       "    </tr>\n",
       "    <tr>\n",
       "      <th>31305835</th>\n",
       "      <td>chr7</td>\n",
       "      <td>5526104</td>\n",
       "      <td>5526166</td>\n",
       "      <td>AGTCTGTCCAATCGCGGCTT</td>\n",
       "      <td>1</td>\n",
       "    </tr>\n",
       "    <tr>\n",
       "      <th>31305836</th>\n",
       "      <td>chr7</td>\n",
       "      <td>5526104</td>\n",
       "      <td>5526545</td>\n",
       "      <td>AGAAGCGGATGGTATAGCAT</td>\n",
       "      <td>2</td>\n",
       "    </tr>\n",
       "    <tr>\n",
       "      <th>...</th>\n",
       "      <td>...</td>\n",
       "      <td>...</td>\n",
       "      <td>...</td>\n",
       "      <td>...</td>\n",
       "      <td>...</td>\n",
       "    </tr>\n",
       "    <tr>\n",
       "      <th>31319024</th>\n",
       "      <td>chr7</td>\n",
       "      <td>5565063</td>\n",
       "      <td>5565469</td>\n",
       "      <td>GATCTTTGGATTGGACGTCC</td>\n",
       "      <td>1</td>\n",
       "    </tr>\n",
       "    <tr>\n",
       "      <th>31319025</th>\n",
       "      <td>chr7</td>\n",
       "      <td>5565171</td>\n",
       "      <td>5565218</td>\n",
       "      <td>AGGGTCTGCTCTTCGAAAAG</td>\n",
       "      <td>1</td>\n",
       "    </tr>\n",
       "    <tr>\n",
       "      <th>31319026</th>\n",
       "      <td>chr7</td>\n",
       "      <td>5565171</td>\n",
       "      <td>5565218</td>\n",
       "      <td>CGAGACATGCCGTTCGTAGA</td>\n",
       "      <td>1</td>\n",
       "    </tr>\n",
       "    <tr>\n",
       "      <th>31319027</th>\n",
       "      <td>chr7</td>\n",
       "      <td>5565281</td>\n",
       "      <td>5565488</td>\n",
       "      <td>TGCGGGGATCGCATTAGGCA</td>\n",
       "      <td>1</td>\n",
       "    </tr>\n",
       "    <tr>\n",
       "      <th>31319028</th>\n",
       "      <td>chr7</td>\n",
       "      <td>5565366</td>\n",
       "      <td>5565387</td>\n",
       "      <td>GGCCAGTGACCTCATCTCGG</td>\n",
       "      <td>2</td>\n",
       "    </tr>\n",
       "  </tbody>\n",
       "</table>\n",
       "<p>13197 rows × 5 columns</p>\n",
       "</div>"
      ],
      "text/plain": [
       "           chr    start      end               barcode  count\n",
       "31305832  chr7  5526098  5526385  CAGTACTGCATCCTATACGT      2\n",
       "31305833  chr7  5526103  5526426  CGCTATGTTCGAGTTAGCAT      3\n",
       "31305834  chr7  5526104  5526127  TTTAGTGACACAGTTTCCCT      4\n",
       "31305835  chr7  5526104  5526166  AGTCTGTCCAATCGCGGCTT      1\n",
       "31305836  chr7  5526104  5526545  AGAAGCGGATGGTATAGCAT      2\n",
       "...        ...      ...      ...                   ...    ...\n",
       "31319024  chr7  5565063  5565469  GATCTTTGGATTGGACGTCC      1\n",
       "31319025  chr7  5565171  5565218  AGGGTCTGCTCTTCGAAAAG      1\n",
       "31319026  chr7  5565171  5565218  CGAGACATGCCGTTCGTAGA      1\n",
       "31319027  chr7  5565281  5565488  TGCGGGGATCGCATTAGGCA      1\n",
       "31319028  chr7  5565366  5565387  GGCCAGTGACCTCATCTCGG      2\n",
       "\n",
       "[13197 rows x 5 columns]"
      ]
     },
     "execution_count": 21,
     "metadata": {},
     "output_type": "execute_result"
    }
   ],
   "source": [
    "df1"
   ]
  },
  {
   "cell_type": "code",
   "execution_count": 22,
   "id": "immediate-liabilities",
   "metadata": {},
   "outputs": [
    {
     "data": {
      "text/plain": [
       "23753"
      ]
     },
     "execution_count": 22,
     "metadata": {},
     "output_type": "execute_result"
    }
   ],
   "source": [
    "sum(df1['count'])"
   ]
  },
  {
   "cell_type": "code",
   "execution_count": null,
   "id": "protecting-disposal",
   "metadata": {},
   "outputs": [],
   "source": [
    "Confidently Unique mapped read pairs"
   ]
  }
 ],
 "metadata": {
  "kernelspec": {
   "display_name": "trust4_1.7",
   "language": "python",
   "name": "trust4_1.7"
  },
  "language_info": {
   "codemirror_mode": {
    "name": "ipython",
    "version": 3
   },
   "file_extension": ".py",
   "mimetype": "text/x-python",
   "name": "python",
   "nbconvert_exporter": "python",
   "pygments_lexer": "ipython3",
   "version": "3.7.10"
  }
 },
 "nbformat": 4,
 "nbformat_minor": 5
}
