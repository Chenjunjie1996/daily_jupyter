{
 "cells": [
  {
   "cell_type": "code",
   "execution_count": null,
   "id": "funky-april",
   "metadata": {},
   "outputs": [],
   "source": [
    "import os\n",
    "import subprocess\n",
    "import glob"
   ]
  },
  {
   "cell_type": "code",
   "execution_count": null,
   "id": "foreign-investor",
   "metadata": {},
   "outputs": [],
   "source": [
    "raw_dir = '/SGRNJ06/randd/USER/cjj/celedev/wanheyuan/xueguan/TCR'\n",
    "target_dir = '/SGRNJ06/randd/USER/cjj/celedev/wanheyuan/match/xueguan/TCR'"
   ]
  },
  {
   "cell_type": "code",
   "execution_count": null,
   "id": "organizational-lafayette",
   "metadata": {},
   "outputs": [],
   "source": [
    "file_list = []\n",
    "for i in os.listdir(raw_dir):\n",
    "    file = os.path.join(raw_dir +'/' + i)\n",
    "    if os.path.isdir(file) and file.split('/')[-1] not in ['sjm', 'log']:\n",
    "        file_list.append(file)"
   ]
  },
  {
   "cell_type": "code",
   "execution_count": null,
   "id": "working-melissa",
   "metadata": {},
   "outputs": [],
   "source": [
    "file_list"
   ]
  },
  {
   "cell_type": "code",
   "execution_count": null,
   "id": "north-gothic",
   "metadata": {},
   "outputs": [],
   "source": [
    "target_list = ['/'.join(file.split('/')[:-3] + ['match'] + file.split('/')[-3:]) for file in file_list]"
   ]
  },
  {
   "cell_type": "code",
   "execution_count": null,
   "id": "variable-springfield",
   "metadata": {},
   "outputs": [],
   "source": [
    "target_list"
   ]
  },
  {
   "cell_type": "code",
   "execution_count": null,
   "id": "fitted-white",
   "metadata": {},
   "outputs": [],
   "source": [
    "for file in target_list:\n",
    "    if not os.path.exists(file):\n",
    "        subprocess.check_call(f'mkdir -p {file}', shell=True)"
   ]
  },
  {
   "cell_type": "code",
   "execution_count": null,
   "id": "familiar-conspiracy",
   "metadata": {},
   "outputs": [],
   "source": [
    "html_list = [glob.glob(file+'/*_report.html')[0] for file in file_list if os.path.exists(glob.glob(file + '/*_report.html')[0])]"
   ]
  },
  {
   "cell_type": "code",
   "execution_count": null,
   "id": "satisfactory-eleven",
   "metadata": {},
   "outputs": [],
   "source": [
    "html_list"
   ]
  },
  {
   "cell_type": "code",
   "execution_count": null,
   "id": "handmade-professional",
   "metadata": {},
   "outputs": [],
   "source": [
    "for i in range(len(html_list)):\n",
    "    subprocess.check_call(f'cp {html_list[i]} {target_list[i]}', shell=True)"
   ]
  },
  {
   "cell_type": "code",
   "execution_count": null,
   "id": "crucial-clearing",
   "metadata": {},
   "outputs": [],
   "source": []
  },
  {
   "cell_type": "code",
   "execution_count": null,
   "id": "healthy-judgment",
   "metadata": {},
   "outputs": [],
   "source": []
  },
  {
   "cell_type": "code",
   "execution_count": null,
   "id": "about-preference",
   "metadata": {},
   "outputs": [],
   "source": []
  },
  {
   "cell_type": "code",
   "execution_count": null,
   "id": "sexual-article",
   "metadata": {},
   "outputs": [],
   "source": [
    "raw_dir = '/SGRNJ06/randd/USER/cjj/celedev/wanheyuan/chang/BCR'\n",
    "target_dir = '/SGRNJ06/randd/USER/cjj/celedev/wanheyuan/match/chang/BCR'"
   ]
  },
  {
   "cell_type": "code",
   "execution_count": null,
   "id": "assisted-prisoner",
   "metadata": {},
   "outputs": [],
   "source": [
    "file_list = []\n",
    "for i in os.listdir(raw_dir):\n",
    "    file = os.path.join(raw_dir +'/' + i)\n",
    "    if os.path.isdir(file) and file.split('/')[-1] not in ['sjm', 'log']:\n",
    "        file_list.append(file + '/04.summarize')"
   ]
  },
  {
   "cell_type": "code",
   "execution_count": null,
   "id": "ranging-subdivision",
   "metadata": {},
   "outputs": [],
   "source": [
    "file_list"
   ]
  },
  {
   "cell_type": "code",
   "execution_count": null,
   "id": "final-produce",
   "metadata": {},
   "outputs": [],
   "source": [
    "target_list = ['/'.join(file.split('/')[:-4] + ['match'] + file.split('/')[-4:]) for file in file_list]"
   ]
  },
  {
   "cell_type": "code",
   "execution_count": null,
   "id": "characteristic-lawyer",
   "metadata": {},
   "outputs": [],
   "source": [
    "target_list"
   ]
  },
  {
   "cell_type": "code",
   "execution_count": null,
   "id": "pregnant-technology",
   "metadata": {},
   "outputs": [],
   "source": [
    "for file in target_list:\n",
    "    if not os.path.exists(file):\n",
    "        subprocess.check_call(f'mkdir -p {file}', shell=True)"
   ]
  },
  {
   "cell_type": "code",
   "execution_count": null,
   "id": "satisfied-quantum",
   "metadata": {},
   "outputs": [],
   "source": [
    "for i in range(len(target_list)):\n",
    "    subprocess.check_call(f'cp {file_list[i]}/* {target_list[i]}', shell=True)"
   ]
  },
  {
   "cell_type": "code",
   "execution_count": null,
   "id": "assumed-criterion",
   "metadata": {},
   "outputs": [],
   "source": []
  },
  {
   "cell_type": "code",
   "execution_count": null,
   "id": "heavy-solomon",
   "metadata": {},
   "outputs": [],
   "source": []
  },
  {
   "cell_type": "code",
   "execution_count": null,
   "id": "crucial-happening",
   "metadata": {},
   "outputs": [],
   "source": [
    "# lims rna"
   ]
  },
  {
   "cell_type": "code",
   "execution_count": null,
   "id": "bigger-omaha",
   "metadata": {},
   "outputs": [],
   "source": [
    "# chang \n",
    "path_list = [\n",
    "    '/SGRNJ03/PROJ03/PROJ_20.lims/P21093001_flVv2/CO-PBMC-2203-011/b2bcfa55-f6e3-4315-a5ad-92d749d6d1ae',\n",
    "    '/SGRNJ03/PROJ03/PROJ_20.lims/P21093001_flVv2/CO-PBMC-2203-013/6992ae72-d7f9-4b05-875c-3cd8bf8b864b',\n",
    "    '/SGRNJ03/PROJ03/PROJ_20.lims/P21093001_flVv2/CO-PBMC-2202-029/73683dfc-8e44-4a17-93f6-bd3b2595f684',\n",
    "    '/SGRNJ03/PROJ03/PROJ_20.lims/P21093001_flVv2/DC20220317-1/c447216d-3e48-4f11-893a-c2a4a94457b6',\n",
    "    '/SGRNJ06/bioinfo/PROJ04/PROJ_22.SC/P21093001_SCOPEv2/temp/DC0002CA_c3/DC0002CA',\n",
    "    '/SGRNJ03/PROJ03/PROJ_20.lims/P21093001_flVv2/DC0002CP/0d41cf40-474f-4907-9153-6a06e77b167e',\n",
    "    '/SGRNJ03/PROJ03/PROJ_20.lims/P21093001_flVv2/DC0004CA/f72a26c6-ce89-4cc0-8f4a-30d458149ec7',\n",
    "    '/SGRNJ03/PROJ03/PROJ_20.lims/P21093001_flVv2/DC0004CP/993c76dd-ea5c-4b7a-a31e-24d47283cce6',\n",
    "    '/SGRNJ03/PROJ03/PROJ_20.lims/P21093001_flVv2/DC0005LI/f5b47501-a4b7-465f-9c94-6c2c9fb2771a',\n",
    "    '/SGRNJ03/PROJ03/PROJ_20.lims/P21093001_flVv2/DC0005CA/6de18811-4502-47f2-b3ec-d03462502174',\n",
    "]\n",
    "path_list = [path + '/call-count_cellranger3' for path in path_list]"
   ]
  },
  {
   "cell_type": "code",
   "execution_count": null,
   "id": "intensive-clinic",
   "metadata": {},
   "outputs": [],
   "source": [
    "path_list"
   ]
  },
  {
   "cell_type": "code",
   "execution_count": null,
   "id": "solar-planner",
   "metadata": {},
   "outputs": [],
   "source": [
    "for path in path_list:\n",
    "    print(os.path.exists(path))"
   ]
  },
  {
   "cell_type": "code",
   "execution_count": null,
   "id": "rapid-boutique",
   "metadata": {},
   "outputs": [],
   "source": []
  },
  {
   "cell_type": "code",
   "execution_count": null,
   "id": "norman-column",
   "metadata": {},
   "outputs": [],
   "source": []
  },
  {
   "cell_type": "code",
   "execution_count": null,
   "id": "organic-saver",
   "metadata": {},
   "outputs": [],
   "source": [
    "raw_dir = '/SGRNJ06/randd/USER/cjj/celedev/wanheyuan/c3rna'"
   ]
  },
  {
   "cell_type": "code",
   "execution_count": null,
   "id": "featured-tablet",
   "metadata": {},
   "outputs": [],
   "source": [
    "path_list = []\n",
    "for i in os.listdir(raw_dir):\n",
    "    path_list.append(raw_dir + f'/{i}')"
   ]
  },
  {
   "cell_type": "code",
   "execution_count": null,
   "id": "isolated-glass",
   "metadata": {},
   "outputs": [],
   "source": [
    "for path in path_list:\n",
    "    if os.path.isdir(path):\n",
    "        print(path)"
   ]
  },
  {
   "cell_type": "code",
   "execution_count": null,
   "id": "neither-automation",
   "metadata": {},
   "outputs": [],
   "source": [
    "del path_list[0]"
   ]
  },
  {
   "cell_type": "code",
   "execution_count": null,
   "id": "heated-requirement",
   "metadata": {},
   "outputs": [],
   "source": [
    "path_list"
   ]
  },
  {
   "cell_type": "code",
   "execution_count": null,
   "id": "sharing-secondary",
   "metadata": {},
   "outputs": [],
   "source": [
    "file_list = []\n",
    "for path in path_list:\n",
    "    for sub_path in os.listdir(path):\n",
    "        file_list.append(path + '/' + f'{sub_path}')"
   ]
  },
  {
   "cell_type": "code",
   "execution_count": null,
   "id": "requested-taxation",
   "metadata": {},
   "outputs": [],
   "source": [
    "file_list = [file for file in file_list if not file.endswith('list.txt')]"
   ]
  },
  {
   "cell_type": "code",
   "execution_count": null,
   "id": "miniature-filling",
   "metadata": {},
   "outputs": [],
   "source": [
    "file_list"
   ]
  },
  {
   "cell_type": "code",
   "execution_count": null,
   "id": "central-purchase",
   "metadata": {},
   "outputs": [],
   "source": [
    "for file in file_list:\n",
    "    try:\n",
    "        subprocess.check_call(f'mkdir -p {file}/05.count/filtered_feature_bc_matrix',shell=True)\n",
    "    except:\n",
    "        file_list.remove(file)"
   ]
  },
  {
   "cell_type": "code",
   "execution_count": null,
   "id": "continuing-search",
   "metadata": {},
   "outputs": [],
   "source": [
    "file_list"
   ]
  },
  {
   "cell_type": "code",
   "execution_count": null,
   "id": "casual-feeling",
   "metadata": {},
   "outputs": [],
   "source": [
    "for file in file_list:\n",
    "    cmd = f'cp {file}/* {file}/05.count/filtered_feature_bc_matrix'\n",
    "    try:\n",
    "        subprocess.check_call(cmd,shell=True)\n",
    "    except:\n",
    "        pass"
   ]
  },
  {
   "cell_type": "code",
   "execution_count": null,
   "id": "regional-establishment",
   "metadata": {},
   "outputs": [],
   "source": []
  },
  {
   "cell_type": "code",
   "execution_count": null,
   "id": "supported-oxford",
   "metadata": {},
   "outputs": [],
   "source": []
  },
  {
   "cell_type": "code",
   "execution_count": null,
   "id": "local-scout",
   "metadata": {},
   "outputs": [],
   "source": []
  },
  {
   "cell_type": "code",
   "execution_count": null,
   "id": "empirical-recovery",
   "metadata": {},
   "outputs": [],
   "source": [
    "# oss\n",
    "raw_dir = '/SGRNJ06/randd/USER/cjj/celedev/wanheyuan/match/wei'\n",
    "target_dir = '/SGRNJ06/randd/USER/cjj/celedev/aws/20220818/stomach'"
   ]
  },
  {
   "cell_type": "code",
   "execution_count": null,
   "id": "raised-liechtenstein",
   "metadata": {},
   "outputs": [],
   "source": [
    "path_list = glob.glob(f'{raw_dir}/*/*')"
   ]
  },
  {
   "cell_type": "code",
   "execution_count": null,
   "id": "floating-burlington",
   "metadata": {},
   "outputs": [],
   "source": [
    "path_list = [sample for sample in path_list if os.path.isdir(sample)]"
   ]
  },
  {
   "cell_type": "code",
   "execution_count": null,
   "id": "explicit-platform",
   "metadata": {},
   "outputs": [],
   "source": [
    "path_list = [sample for sample in path_list if not sample.split('/')[-1].endswith('sjm')]\n",
    "path_list = [sample for sample in path_list if not sample.split('/')[-1].endswith('log')]"
   ]
  },
  {
   "cell_type": "code",
   "execution_count": null,
   "id": "logical-eligibility",
   "metadata": {},
   "outputs": [],
   "source": [
    "path_list"
   ]
  },
  {
   "cell_type": "code",
   "execution_count": null,
   "id": "pending-pointer",
   "metadata": {},
   "outputs": [],
   "source": [
    "for i in path_list:\n",
    "    sample_name = i.split('/')[-1]\n",
    "    subprocess.check_call(f'mkdir -p {target_dir}/{sample_name}', shell=True)\n",
    "    target_file = ['04.summarize/filtered_contig_annotations.csv','04.summarize/filtered_contig.fasta','05.match/matched_contig_annotations.csv','05.match/matched_contig.fasta']\n",
    "    for file in target_file:\n",
    "        subprocess.check_call(f'cp {i}/{file} {target_dir}/{sample_name}', shell=True)\n",
    "    "
   ]
  },
  {
   "cell_type": "code",
   "execution_count": null,
   "id": "received-weight",
   "metadata": {},
   "outputs": [],
   "source": [
    "# 重名\n",
    "path_list_T = path_list[:10]\n",
    "path_list_B = path_list[10:]"
   ]
  },
  {
   "cell_type": "code",
   "execution_count": null,
   "id": "stopped-fairy",
   "metadata": {},
   "outputs": [],
   "source": [
    "path_list_T"
   ]
  },
  {
   "cell_type": "code",
   "execution_count": null,
   "id": "choice-active",
   "metadata": {},
   "outputs": [],
   "source": [
    "for i in path_list_B:\n",
    "    sample_name = i.split('/')[-1]\n",
    "    subprocess.check_call(f'mkdir -p {target_dir}/{sample_name}', shell=True)\n",
    "    target_file = ['04.summarize/filtered_contig_annotations.csv','04.summarize/filtered_contig.fasta','05.match/matched_contig_annotations.csv','05.match/matched_contig.fasta']\n",
    "    for file in target_file:\n",
    "        subprocess.check_call(f'cp {i}/{file} {target_dir}/{sample_name}', shell=True)\n",
    "    "
   ]
  },
  {
   "cell_type": "code",
   "execution_count": null,
   "id": "naval-surveillance",
   "metadata": {},
   "outputs": [],
   "source": []
  },
  {
   "cell_type": "code",
   "execution_count": null,
   "id": "monthly-beach",
   "metadata": {},
   "outputs": [],
   "source": [
    "# CHECK SIZE\n",
    "raw_dir = '/SGRNJ06/randd/USER/cjj/celedev/wanheyuan/match/wei'"
   ]
  },
  {
   "cell_type": "code",
   "execution_count": null,
   "id": "polished-victory",
   "metadata": {},
   "outputs": [],
   "source": [
    "file_list = glob.glob(f'{raw_dir}/*/*/*/*')"
   ]
  },
  {
   "cell_type": "code",
   "execution_count": null,
   "id": "otherwise-partnership",
   "metadata": {},
   "outputs": [],
   "source": [
    "pattern = ['filtered_contig_annotations.csv','filtered_contig.fasta','matched_contig_annotations.csv','matched_contig.fasta']"
   ]
  },
  {
   "cell_type": "code",
   "execution_count": null,
   "id": "royal-holder",
   "metadata": {},
   "outputs": [],
   "source": [
    "file_list = [file for file in file_list if file.split('/')[-1] in (pattern)]"
   ]
  },
  {
   "cell_type": "code",
   "execution_count": null,
   "id": "controlling-pastor",
   "metadata": {},
   "outputs": [],
   "source": [
    "for file in file_list:\n",
    "    print(os.path.getsize(file))"
   ]
  },
  {
   "cell_type": "code",
   "execution_count": null,
   "id": "reasonable-studio",
   "metadata": {},
   "outputs": [],
   "source": []
  },
  {
   "cell_type": "code",
   "execution_count": null,
   "id": "declared-anime",
   "metadata": {},
   "outputs": [],
   "source": [
    "dir1='/SGRNJ06/randd/USER/cjj/celedev/wanheyuan/'\n",
    "dir2='/SGRNJ06/randd/USER/cjj/celedev/wanheyuan/match'\n",
    "dir3='/SGRNJ06/randd/USER/cjj/celedev/aws/check_size/20220818'"
   ]
  },
  {
   "cell_type": "code",
   "execution_count": null,
   "id": "electric-officer",
   "metadata": {},
   "outputs": [],
   "source": [
    "dir1_list = glob.glob(f'{dir1}/*')\n",
    "dir2_list = glob.glob(f'{dir2}/*')\n",
    "dir3_list = glob.glob(f'{dir3}/*')"
   ]
  },
  {
   "cell_type": "code",
   "execution_count": null,
   "id": "clinical-north",
   "metadata": {},
   "outputs": [],
   "source": [
    "dir1_list = dir1_list[1:6]\n",
    "dir3_list = [dir3_list[2],dir3_list[1],dir3_list[0],dir3_list[-1],dir3_list[3]]"
   ]
  },
  {
   "cell_type": "code",
   "execution_count": null,
   "id": "floating-reply",
   "metadata": {},
   "outputs": [],
   "source": [
    "dir1_list"
   ]
  },
  {
   "cell_type": "code",
   "execution_count": null,
   "id": "serial-illustration",
   "metadata": {},
   "outputs": [],
   "source": [
    "dir2_list"
   ]
  },
  {
   "cell_type": "code",
   "execution_count": null,
   "id": "developed-extent",
   "metadata": {},
   "outputs": [],
   "source": [
    "dir3_list"
   ]
  },
  {
   "cell_type": "code",
   "execution_count": null,
   "id": "internal-willow",
   "metadata": {},
   "outputs": [],
   "source": [
    "\n",
    "    contig_csv_1 = glob.glob(f'{dir1_list[3]}/*/*/04.summarize/filtered_contig_annotations.csv')\n",
    "    contig_csv_2 = glob.glob(f'{dir2_list[3]}/*/*/04.summarize/filtered_contig_annotations.csv')\n",
    "    contig_csv_3 = glob.glob(f'{dir3_list[3]}/*/filtered_contig_annotations.csv')"
   ]
  },
  {
   "cell_type": "code",
   "execution_count": null,
   "id": "developmental-discrimination",
   "metadata": {},
   "outputs": [],
   "source": [
    "contig_csv_1.sort()"
   ]
  },
  {
   "cell_type": "code",
   "execution_count": null,
   "id": "collect-brown",
   "metadata": {},
   "outputs": [],
   "source": [
    "contig_csv_2.sort()"
   ]
  },
  {
   "cell_type": "code",
   "execution_count": null,
   "id": "amber-hygiene",
   "metadata": {},
   "outputs": [],
   "source": [
    "contig_csv_3.sort()"
   ]
  },
  {
   "cell_type": "code",
   "execution_count": null,
   "id": "assumed-maldives",
   "metadata": {},
   "outputs": [],
   "source": [
    "contig_csv_1"
   ]
  },
  {
   "cell_type": "code",
   "execution_count": null,
   "id": "painted-steel",
   "metadata": {},
   "outputs": [],
   "source": [
    "contig_csv_2.sort(key=lambda x:x.split('/')[-3])"
   ]
  },
  {
   "cell_type": "code",
   "execution_count": null,
   "id": "amended-handbook",
   "metadata": {},
   "outputs": [],
   "source": [
    "contig_csv_3.sort(key=lambda x:x.split('/')[-2])"
   ]
  },
  {
   "cell_type": "code",
   "execution_count": null,
   "id": "determined-palestine",
   "metadata": {},
   "outputs": [],
   "source": [
    "contig_csv_2"
   ]
  },
  {
   "cell_type": "code",
   "execution_count": null,
   "id": "listed-movement",
   "metadata": {},
   "outputs": [],
   "source": [
    "contig_csv_3"
   ]
  },
  {
   "cell_type": "code",
   "execution_count": null,
   "id": "little-ribbon",
   "metadata": {},
   "outputs": [],
   "source": [
    "for i in range(len(contig_csv_2)):\n",
    "    print(os.path.getsize(contig_csv_2[i]) == os.path.getsize(contig_csv_3[i]))"
   ]
  },
  {
   "cell_type": "code",
   "execution_count": null,
   "id": "chief-liechtenstein",
   "metadata": {},
   "outputs": [],
   "source": []
  },
  {
   "cell_type": "code",
   "execution_count": null,
   "id": "invalid-nurse",
   "metadata": {},
   "outputs": [],
   "source": []
  },
  {
   "cell_type": "code",
   "execution_count": null,
   "id": "compliant-biography",
   "metadata": {},
   "outputs": [],
   "source": []
  },
  {
   "cell_type": "code",
   "execution_count": null,
   "id": "permanent-ordinance",
   "metadata": {},
   "outputs": [],
   "source": [
    "import pysam \n",
    "import pandas as pd"
   ]
  },
  {
   "cell_type": "code",
   "execution_count": null,
   "id": "graduate-mobility",
   "metadata": {},
   "outputs": [],
   "source": [
    "whitelist = '/SGRNJ06/randd/USER/cjj/TESTDATA/test_rna/20220822_vx/whitelist'"
   ]
  },
  {
   "cell_type": "code",
   "execution_count": null,
   "id": "arabic-highway",
   "metadata": {},
   "outputs": [],
   "source": [
    "whitelist =pd.read_csv(whitelist,header=None)"
   ]
  },
  {
   "cell_type": "code",
   "execution_count": null,
   "id": "international-membership",
   "metadata": {},
   "outputs": [],
   "source": [
    "whitelist.rename(columns={0:'bc'},inplace=True)"
   ]
  },
  {
   "cell_type": "code",
   "execution_count": null,
   "id": "short-investigator",
   "metadata": {},
   "outputs": [],
   "source": [
    "cbs = set(whitelist.bc)"
   ]
  },
  {
   "cell_type": "code",
   "execution_count": null,
   "id": "located-disorder",
   "metadata": {},
   "outputs": [],
   "source": [
    "len(cbs)"
   ]
  },
  {
   "cell_type": "code",
   "execution_count": null,
   "id": "signed-sheep",
   "metadata": {},
   "outputs": [],
   "source": [
    "fq_file = '/SGRNJ06/DATA04/22_08/2022_08_20/RD20073101/PBMC_GOT_SL1_Nlib/R220815010_R1.fastq.gz'"
   ]
  },
  {
   "cell_type": "code",
   "execution_count": null,
   "id": "appointed-cable",
   "metadata": {},
   "outputs": [],
   "source": [
    "a = 0\n",
    "with pysam.FastxFile(fq_file, 'r') as f:\n",
    "    for read in f:\n",
    "        if read.sequence[:9] in cbs:\n",
    "            a +=1"
   ]
  },
  {
   "cell_type": "code",
   "execution_count": null,
   "id": "pursuant-accident",
   "metadata": {},
   "outputs": [],
   "source": [
    "a"
   ]
  },
  {
   "cell_type": "code",
   "execution_count": null,
   "id": "painful-repository",
   "metadata": {},
   "outputs": [],
   "source": [
    "whitelist = '/SGRNJ06/randd/USER/cjj/TESTDATA/test_rna/20220822_vx/whitelist'"
   ]
  },
  {
   "cell_type": "code",
   "execution_count": null,
   "id": "western-bristol",
   "metadata": {},
   "outputs": [],
   "source": [
    "whitelist =pd.read_csv(whitelist,header=None)"
   ]
  },
  {
   "cell_type": "code",
   "execution_count": null,
   "id": "reserved-problem",
   "metadata": {},
   "outputs": [],
   "source": [
    "whitelist.rename(columns={0:'bc'},inplace=True)"
   ]
  },
  {
   "cell_type": "code",
   "execution_count": null,
   "id": "subject-depth",
   "metadata": {},
   "outputs": [],
   "source": [
    "whitelist"
   ]
  },
  {
   "cell_type": "code",
   "execution_count": null,
   "id": "moving-lawrence",
   "metadata": {},
   "outputs": [],
   "source": [
    "whitelist1 = whitelist.copy()"
   ]
  },
  {
   "cell_type": "code",
   "execution_count": null,
   "id": "sapphire-thriller",
   "metadata": {},
   "outputs": [],
   "source": [
    "whitelist1.bc = whitelist1.bc.apply(lambda x:x[1:])"
   ]
  },
  {
   "cell_type": "code",
   "execution_count": null,
   "id": "periodic-biodiversity",
   "metadata": {},
   "outputs": [],
   "source": [
    "whitelist1 = whitelist1.head(96)"
   ]
  },
  {
   "cell_type": "code",
   "execution_count": null,
   "id": "combined-sugar",
   "metadata": {},
   "outputs": [],
   "source": [
    "whitelist1 = whitelist1.bc.tolist()"
   ]
  },
  {
   "cell_type": "code",
   "execution_count": null,
   "id": "statutory-integer",
   "metadata": {},
   "outputs": [],
   "source": [
    "whitelist1"
   ]
  },
  {
   "cell_type": "code",
   "execution_count": null,
   "id": "sexual-roller",
   "metadata": {},
   "outputs": [],
   "source": [
    "with open('/SGRNJ06/randd/USER/cjj/TESTDATA/test_rna/20220822_vx/whitelist', 'a+') as f:\n",
    "    f.write('\\n')\n",
    "    for i in whitelist1:\n",
    "        f.write(str(i) + '\\n')"
   ]
  },
  {
   "cell_type": "code",
   "execution_count": null,
   "id": "threaded-slovak",
   "metadata": {},
   "outputs": [],
   "source": []
  },
  {
   "cell_type": "code",
   "execution_count": null,
   "id": "preceding-connecticut",
   "metadata": {},
   "outputs": [],
   "source": []
  },
  {
   "cell_type": "code",
   "execution_count": null,
   "id": "turkish-sunday",
   "metadata": {},
   "outputs": [],
   "source": []
  },
  {
   "cell_type": "code",
   "execution_count": null,
   "id": "interesting-writing",
   "metadata": {},
   "outputs": [],
   "source": [
    "library(Seurat)\n",
    "library(tidyverse)\n",
    "library(argparse)\n",
    "library(ggplot2)\n",
    "library(stringr)\n",
    "library(dplyr)"
   ]
  },
  {
   "cell_type": "code",
   "execution_count": null,
   "id": "usual-custom",
   "metadata": {},
   "outputs": [],
   "source": [
    "rds = readRDS('/SGRNJ06/bioinfo/PROJ04/PROJ_22.lims/MultiResult/P21093001/2022-08-12/father_cluster/batch_1/call-integration/P21093001.diff_PRO.rds')"
   ]
  },
  {
   "cell_type": "code",
   "execution_count": null,
   "id": "hundred-hearing",
   "metadata": {},
   "outputs": [],
   "source": [
    "Idents(rds) <- \"sample\"\n",
    "rna <- subset(rds,idents = c('CO-PBMC-2202-029_c3'))"
   ]
  },
  {
   "cell_type": "code",
   "execution_count": null,
   "id": "successful-hartford",
   "metadata": {},
   "outputs": [],
   "source": [
    "vdj <- read.table('/SGRNJ06/randd/USER/cjj/celedev/wanheyuan/20220822/chang/BCR/CO-PBMC-2202-029-B/05.match/matched_contig_annotations.csv', sep=',', header=T)"
   ]
  },
  {
   "cell_type": "code",
   "execution_count": null,
   "id": "radio-camera",
   "metadata": {},
   "outputs": [],
   "source": [
    "df <- rna@meta.data\n",
    "df$barcode <- rownames(df)"
   ]
  },
  {
   "cell_type": "code",
   "execution_count": null,
   "id": "desirable-bearing",
   "metadata": {},
   "outputs": [],
   "source": [
    "if (grepl(\"_\", rownames(df)[1])){\n",
    "  vdj$shi<-paste(\"CO-PBMC-2202-029_c3\",\"_\",sep=\"\")\n",
    "  vdj$barcode<-str_c(vdj$shi,vdj$barcode)\n",
    "}"
   ]
  },
  {
   "cell_type": "code",
   "execution_count": null,
   "id": "educated-cherry",
   "metadata": {},
   "outputs": [],
   "source": [
    "cells <- vdj\n",
    "barcodes <- unique(cells$barcode)"
   ]
  },
  {
   "cell_type": "code",
   "execution_count": null,
   "id": "derived-metro",
   "metadata": {},
   "outputs": [],
   "source": [
    "length(barcodes)"
   ]
  },
  {
   "cell_type": "code",
   "execution_count": null,
   "id": "finnish-brass",
   "metadata": {},
   "outputs": [],
   "source": [
    "filter_df <- filter(df, barcode %in% barcodes)\n",
    "res <- table(filter_df$raw_cluster)\n",
    "res <- as.data.frame(res)"
   ]
  },
  {
   "cell_type": "code",
   "execution_count": null,
   "id": "attractive-person",
   "metadata": {},
   "outputs": [],
   "source": [
    "res"
   ]
  },
  {
   "cell_type": "code",
   "execution_count": null,
   "id": "spiritual-newton",
   "metadata": {},
   "outputs": [],
   "source": [
    "meta = rna@meta.data\n",
    "#meta$Class = 'NA'"
   ]
  },
  {
   "cell_type": "code",
   "execution_count": null,
   "id": "concrete-microphone",
   "metadata": {},
   "outputs": [],
   "source": [
    "meta"
   ]
  },
  {
   "cell_type": "code",
   "execution_count": null,
   "id": "lovely-click",
   "metadata": {},
   "outputs": [],
   "source": [
    "meta$Class <- ifelse(rownames(meta) %in% barcodes, 'T/BCR', NA)"
   ]
  },
  {
   "cell_type": "code",
   "execution_count": null,
   "id": "accomplished-presence",
   "metadata": {},
   "outputs": [],
   "source": [
    "table(meta$Class)"
   ]
  },
  {
   "cell_type": "code",
   "execution_count": null,
   "id": "varying-offense",
   "metadata": {},
   "outputs": [],
   "source": [
    "meta <- meta %>% drop_na(nCount_RNA)"
   ]
  },
  {
   "cell_type": "code",
   "execution_count": null,
   "id": "burning-category",
   "metadata": {},
   "outputs": [],
   "source": [
    "meta"
   ]
  },
  {
   "cell_type": "code",
   "execution_count": null,
   "id": "occasional-variable",
   "metadata": {},
   "outputs": [],
   "source": [
    "table(meta$cluster)"
   ]
  },
  {
   "cell_type": "code",
   "execution_count": null,
   "id": "fundamental-participation",
   "metadata": {},
   "outputs": [],
   "source": [
    "rds1 = '/SGRNJ06/bioinfo/PROJ04/PROJ_22.lims/MultiResult/P21093001_C1/2022-08-13/father_cluster/batch_1/call-integration/P21093001_C1.diff_PRO.rds'\n",
    "rds2 = '/SGRNJ06/bioinfo/PROJ04/PROJ_22.lims/MultiResult/P21093001/2022-08-12/father_cluster/batch_1/call-integration/P21093001.diff_PRO.rds'\n",
    "rds3 = '/SGRNJ06/bioinfo/PROJ04/PROJ_22.lims/MultiResult/P21100502/2022-08-13/father_cluster/batch_1/call-integration/P21100502.diff_PRO.rds'\n",
    "rds4 = '/SGRNJ06/bioinfo/PROJ04/PROJ_22.lims/MultiResult/P21102801/2022-08-13/father_cluster/batch_1/call-integration/P21102801.diff_PRO.rds'\n",
    "rds5 = '/SGRNJ06/bioinfo/PROJ04/PROJ_22.lims/MultiResult/P21110601_C1/2022-08-13/father_cluster/batch_1/call-integration/P21110601_C1.diff_PRO.rds'"
   ]
  },
  {
   "cell_type": "code",
   "execution_count": null,
   "id": "exempt-distributor",
   "metadata": {},
   "outputs": [],
   "source": [
    "rds1 = readRDS(rds1)\n",
    "rds2 = readRDS(rds2)\n",
    "rds3 = readRDS(rds3)\n",
    "rds4 = readRDS(rds4)\n",
    "rds5 = readRDS(rds5)"
   ]
  },
  {
   "cell_type": "code",
   "execution_count": null,
   "id": "herbal-coordinator",
   "metadata": {},
   "outputs": [],
   "source": [
    "for (i in c(rds1,rds2,rds3,rds4,rds5)){\n",
    "    print(table(i@meta.data$sample))\n",
    "    print('========================')\n",
    "}"
   ]
  },
  {
   "cell_type": "code",
   "execution_count": null,
   "id": "selected-ceremony",
   "metadata": {},
   "outputs": [],
   "source": [
    "\n",
    "Idents(rds4) <- \"sample\"\n",
    "rna44 <- subset(rds4,idents = c('os0019_c3'))"
   ]
  },
  {
   "cell_type": "code",
   "execution_count": null,
   "id": "devoted-monitoring",
   "metadata": {},
   "outputs": [],
   "source": [
    "table(rna44@meta.data$cluster)"
   ]
  },
  {
   "cell_type": "code",
   "execution_count": null,
   "id": "cathedral-repository",
   "metadata": {},
   "outputs": [],
   "source": []
  },
  {
   "cell_type": "code",
   "execution_count": null,
   "id": "innocent-prairie",
   "metadata": {},
   "outputs": [],
   "source": [
    "import os\n",
    "import subprocess\n",
    "import glob"
   ]
  },
  {
   "cell_type": "code",
   "execution_count": null,
   "id": "anonymous-oxygen",
   "metadata": {},
   "outputs": [],
   "source": [
    "target_dir = '/SGRNJ06/randd/USER/cjj/celedev/aws/20220824/blood'\n",
    "raw_dir = glob.glob('/SGRNJ06/randd/USER/cjj/celedev/wanheyuan/20220822/xueguan/*')"
   ]
  },
  {
   "cell_type": "code",
   "execution_count": null,
   "id": "underlying-deputy",
   "metadata": {},
   "outputs": [],
   "source": [
    "file_list = []\n",
    "for x in raw_dir:\n",
    "    for i in os.listdir(x):\n",
    "        file = os.path.join(x +'/' + i)\n",
    "        if os.path.isdir(file) and file.split('/')[-1] not in ['sjm', 'log']:\n",
    "            file_list.append(file)"
   ]
  },
  {
   "cell_type": "code",
   "execution_count": null,
   "id": "liquid-bermuda",
   "metadata": {},
   "outputs": [],
   "source": [
    "file_list"
   ]
  },
  {
   "cell_type": "code",
   "execution_count": null,
   "id": "optional-forum",
   "metadata": {},
   "outputs": [],
   "source": [
    "for i in file_list:\n",
    "    sample_name = i.split('/')[-1]\n",
    "    os.system(f'mkdir -p {target_dir}/{sample_name}')\n",
    "    os.system(f'cp {i}/04.summarize/filtered_contig_annotations.csv {target_dir}/{sample_name}')\n",
    "    os.system(f'cp {i}/04.summarize/filtered_contig.fasta {target_dir}/{sample_name}')\n",
    "    os.system(f'cp {i}/05.match/matched_contig_annotations.csv {target_dir}/{sample_name}')\n",
    "    os.system(f'cp {i}/05.match/matched_contig.fasta {target_dir}/{sample_name}')"
   ]
  },
  {
   "cell_type": "code",
   "execution_count": null,
   "id": "sapphire-track",
   "metadata": {},
   "outputs": [],
   "source": []
  },
  {
   "cell_type": "code",
   "execution_count": null,
   "id": "activated-flight",
   "metadata": {},
   "outputs": [],
   "source": []
  },
  {
   "cell_type": "code",
   "execution_count": null,
   "id": "cubic-sauce",
   "metadata": {},
   "outputs": [],
   "source": []
  },
  {
   "cell_type": "code",
   "execution_count": null,
   "id": "flying-anxiety",
   "metadata": {},
   "outputs": [],
   "source": [
    "# check size"
   ]
  },
  {
   "cell_type": "code",
   "execution_count": null,
   "id": "needed-yacht",
   "metadata": {},
   "outputs": [],
   "source": [
    "upload_file = '/SGRNJ06/randd/USER/cjj/celedev/aws/check_size/20220824/osteosarcoma/*/*'\n",
    "raw_file = '/SGRNJ06/randd/USER/cjj/celedev/wanheyuan/20220822/gurou/*/*/*/*'"
   ]
  },
  {
   "cell_type": "code",
   "execution_count": null,
   "id": "welsh-vitamin",
   "metadata": {},
   "outputs": [],
   "source": [
    "upload_file_list = glob.glob(upload_file)"
   ]
  },
  {
   "cell_type": "code",
   "execution_count": null,
   "id": "organized-crystal",
   "metadata": {},
   "outputs": [],
   "source": [
    "raw_file_list = glob.glob(raw_file)"
   ]
  },
  {
   "cell_type": "code",
   "execution_count": null,
   "id": "superior-nothing",
   "metadata": {},
   "outputs": [],
   "source": [
    "raw_file_list = [i for i in raw_file_list if i.split('/')[-1] in ['filtered_contig_annotations.csv','filtered_contig.fasta', 'matched_contig_annotations.csv', 'matched_contig.fasta']]"
   ]
  },
  {
   "cell_type": "code",
   "execution_count": null,
   "id": "polish-recorder",
   "metadata": {},
   "outputs": [],
   "source": [
    "len(upload_file_list)"
   ]
  },
  {
   "cell_type": "code",
   "execution_count": null,
   "id": "coupled-municipality",
   "metadata": {},
   "outputs": [],
   "source": [
    "len(raw_file_list)"
   ]
  },
  {
   "cell_type": "code",
   "execution_count": null,
   "id": "explicit-handle",
   "metadata": {},
   "outputs": [],
   "source": [
    "upload_file_list = sorted(upload_file_list, key=lambda x: (x.split('/')[-2], x.split('/')[-1]))\n",
    "raw_file_list = sorted(raw_file_list, key=lambda x: (x.split('/')[-3], x.split('/')[-1]))"
   ]
  },
  {
   "cell_type": "code",
   "execution_count": null,
   "id": "purple-corps",
   "metadata": {},
   "outputs": [],
   "source": [
    "#upload_file_list"
   ]
  },
  {
   "cell_type": "code",
   "execution_count": null,
   "id": "killing-bride",
   "metadata": {},
   "outputs": [],
   "source": [
    "#raw_file_list"
   ]
  },
  {
   "cell_type": "code",
   "execution_count": null,
   "id": "boxed-calgary",
   "metadata": {},
   "outputs": [],
   "source": [
    "for i in range(len(upload_file_list)):\n",
    "    if not os.path.getsize(upload_file_list[i]) == os.path.getsize(raw_file_list[i]):\n",
    "        print(True)"
   ]
  },
  {
   "cell_type": "code",
   "execution_count": null,
   "id": "assumed-mouth",
   "metadata": {},
   "outputs": [],
   "source": []
  },
  {
   "cell_type": "code",
   "execution_count": null,
   "id": "subtle-pleasure",
   "metadata": {},
   "outputs": [],
   "source": []
  },
  {
   "cell_type": "code",
   "execution_count": null,
   "id": "designing-beverage",
   "metadata": {},
   "outputs": [],
   "source": [
    "import pandas as pd \n",
    "import pysam"
   ]
  },
  {
   "cell_type": "code",
   "execution_count": null,
   "id": "increased-occasion",
   "metadata": {},
   "outputs": [],
   "source": [
    "linker = 'GTGGTATCAACGCAGAGT'"
   ]
  },
  {
   "cell_type": "code",
   "execution_count": null,
   "id": "urban-parking",
   "metadata": {},
   "outputs": [],
   "source": [
    "fq1 = '/SGRNJ06/DATA04/22_08/2022_08_23/RD21010602/mspl-Mix2-0818NEB/R220818034_R1.fastq.gz'"
   ]
  },
  {
   "cell_type": "code",
   "execution_count": null,
   "id": "literary-purse",
   "metadata": {},
   "outputs": [],
   "source": [
    "count = 0\n",
    "with pysam.FastxFile(fq1) as f:\n",
    "    for read in f:\n",
    "        if linker in read.sequence and not read.sequence.startswith(linker):\n",
    "            count+=1"
   ]
  },
  {
   "cell_type": "code",
   "execution_count": null,
   "id": "municipal-blake",
   "metadata": {},
   "outputs": [],
   "source": [
    "'GTGGTATCAACGCAGAGT'in'NAGAGGGAGGTGGCTGTCAGCTTCTCAATATGCTCTTAAGTGCTGGGCCATTTTTACAGCTCTTCAGATTTCATTTTTGGGTTTGTTTTCTTCTTGTTTTTTTTTGTTGTTGTTGTTATTTATTTATTTATTTATTTTTGAGACAGATTT'"
   ]
  },
  {
   "cell_type": "code",
   "execution_count": null,
   "id": "pursuant-pound",
   "metadata": {},
   "outputs": [],
   "source": [
    "'NGCCTGTGATGCATTTATTTCAGGCTGTCACTTGTGTCTCACTGATTCACAGGTACTTCTGTAAACCCTTGATGCAACCTGTTGAACTAATTAATACAAAAATATTTTGTCAATAATGGAAGCTGAATTAAAAGTAAACCAAAAACTACC'.startswith('NGCCTGTGATGCATTTATTT')"
   ]
  },
  {
   "cell_type": "code",
   "execution_count": null,
   "id": "horizontal-paragraph",
   "metadata": {},
   "outputs": [],
   "source": [
    "count"
   ]
  },
  {
   "cell_type": "code",
   "execution_count": null,
   "id": "functioning-jersey",
   "metadata": {},
   "outputs": [],
   "source": []
  },
  {
   "cell_type": "code",
   "execution_count": null,
   "id": "hindu-radius",
   "metadata": {},
   "outputs": [],
   "source": []
  },
  {
   "cell_type": "code",
   "execution_count": null,
   "id": "blocked-tragedy",
   "metadata": {},
   "outputs": [],
   "source": [
    "library(Seurat)\n",
    "library(tidyverse)\n",
    "library(argparse)\n",
    "library(ggplot2)\n",
    "library(stringr)\n",
    "library(dplyr)"
   ]
  },
  {
   "cell_type": "code",
   "execution_count": null,
   "id": "international-cross",
   "metadata": {},
   "outputs": [],
   "source": [
    "RAW1 <- Read10X(data.dir = '/SGRNJ06/randd/public/temp/Clu-mes_mtx/Clu-mes_cellranger3_matrix_10X')"
   ]
  },
  {
   "cell_type": "code",
   "execution_count": null,
   "id": "bulgarian-regard",
   "metadata": {},
   "outputs": [],
   "source": [
    "PRO1 <- CreateSeuratObject(counts = RAW1, project = 'test', min.cells = 5)"
   ]
  },
  {
   "cell_type": "code",
   "execution_count": null,
   "id": "republican-turning",
   "metadata": {},
   "outputs": [],
   "source": [
    "# nFeature_RNA代表每个细胞测到的基因数目。 median_gene\n",
    "# nCount_RNA代表每个细胞测到所有基因的表达量之和。 median_umi\n",
    "# 中值UMI total_counts\n",
    "# 中值基因 n_genes_by_counts"
   ]
  },
  {
   "cell_type": "code",
   "execution_count": null,
   "id": "asian-investment",
   "metadata": {},
   "outputs": [],
   "source": [
    "PRO1@meta.data"
   ]
  },
  {
   "cell_type": "code",
   "execution_count": null,
   "id": "mechanical-malaysia",
   "metadata": {},
   "outputs": [],
   "source": [
    "median(PRO1@meta.data$nCount_RNA)"
   ]
  },
  {
   "cell_type": "code",
   "execution_count": null,
   "id": "differential-infrastructure",
   "metadata": {},
   "outputs": [],
   "source": [
    "median(PRO1@meta.data$nFeature_RNA)"
   ]
  },
  {
   "cell_type": "code",
   "execution_count": null,
   "id": "sweet-mathematics",
   "metadata": {},
   "outputs": [],
   "source": [
    "PRO1@active.ident"
   ]
  },
  {
   "cell_type": "code",
   "execution_count": null,
   "id": "genuine-harvard",
   "metadata": {},
   "outputs": [],
   "source": [
    "RAW1"
   ]
  },
  {
   "cell_type": "code",
   "execution_count": null,
   "id": "attractive-remark",
   "metadata": {},
   "outputs": [],
   "source": []
  },
  {
   "cell_type": "code",
   "execution_count": null,
   "id": "unavailable-interpretation",
   "metadata": {},
   "outputs": [],
   "source": []
  },
  {
   "cell_type": "code",
   "execution_count": null,
   "id": "solved-blond",
   "metadata": {},
   "outputs": [],
   "source": []
  },
  {
   "cell_type": "code",
   "execution_count": null,
   "id": "collaborative-kansas",
   "metadata": {},
   "outputs": [],
   "source": [
    "library(Seurat)\n",
    "library(tidyverse)\n",
    "library(argparse)\n",
    "library(ggplot2)\n",
    "library(stringr)\n",
    "library(dplyr)"
   ]
  },
  {
   "cell_type": "code",
   "execution_count": null,
   "id": "designed-average",
   "metadata": {},
   "outputs": [],
   "source": [
    "rds <- readRDS('/SGRNJ06/randd/lims_result_rd/MultiResult/RD20102301_220926_homo_Stomach/2022-09-27/father_cluster/batch_1/call-integration/RD20102301_220926_homo_Stomach.diff_PRO.rds')\n",
    "Idents(rds) <- \"orig.ident\"\n",
    "rna <- subset(rds,idents = c('S220901TESX1'))\n",
    "\n",
    "tcrt <- read.table('/SGRNJ06/randd/PROJECT/RD20102301_DZH/P21090901_Drug_CART/20220923_4/ZD020_S2_M6_CAR/06.filter_virus/ZD020_S2_M6_CAR_filtered_UMI.csv', sep=',', header=T)\n",
    "tcrt$shi<-paste(\"S220901TESX1\",\"_\",sep=\"\")\n",
    "tcrt$barcode<-str_c(tcrt$shi,tcrt$barcode)\n",
    "tcrt <- subset(tcrt, sum_UMI!=0)\n",
    "\n",
    "barcodes <- unique(tcrt$barcode)"
   ]
  },
  {
   "cell_type": "code",
   "execution_count": null,
   "id": "dense-fifth",
   "metadata": {},
   "outputs": [],
   "source": [
    "c(barcodes)"
   ]
  },
  {
   "cell_type": "code",
   "execution_count": null,
   "id": "anticipated-exhibit",
   "metadata": {},
   "outputs": [],
   "source": [
    "df <- rna@meta.data\n",
    "df$barcode <- rownames(df)"
   ]
  },
  {
   "cell_type": "code",
   "execution_count": null,
   "id": "comfortable-merit",
   "metadata": {},
   "outputs": [],
   "source": [
    "filter_df <- filter(df, barcode == c(barcodes))\n",
    "res <- table(filter_df$seurat_clusters)\n",
    "res <- as.data.frame(res)"
   ]
  },
  {
   "cell_type": "code",
   "execution_count": null,
   "id": "vietnamese-frequency",
   "metadata": {},
   "outputs": [],
   "source": [
    "df"
   ]
  },
  {
   "cell_type": "code",
   "execution_count": null,
   "id": "western-warehouse",
   "metadata": {},
   "outputs": [],
   "source": [
    "subset(df, df$barcode =='S220901TESX1_GTCTGTCAAATCCGTCCGACACAC')"
   ]
  },
  {
   "cell_type": "code",
   "execution_count": null,
   "id": "interpreted-peninsula",
   "metadata": {},
   "outputs": [],
   "source": [
    "out_csv = stringr::str_glue(\"{args$outdir}/{args$sample}_match_barcodes_celltypes_distribution.txt\")\n",
    "write_csv(res,file=out_csv)\n",
    "\n",
    "meta = rna@meta.data\n",
    "meta$Class = 'NA'\n",
    "meta[barcodes,'Class'] = 'positive'\n",
    "meta <- meta %>% drop_na(nCount_RNA)\n",
    "table(meta$Class == 'positive')\n",
    "rna@meta.data = meta\n",
    "# rna <- RunUMAP(rna, dims = 1:20)\n",
    "\n",
    "outP = stringr::str_glue(\"{args$outdir}/{args$sample}_cluster_umap.png\")\n",
    "png(outP, height=1000, width=1000)\n",
    "UMAPPlot(rna,group.by='seurat_cluster',label=TRUE)\n",
    "dev.off()\n",
    "\n",
    "outP1 = stringr::str_glue(\"{args$outdir}/{args$sample}_umapplot.png\")\n",
    "png(outP1, height=1000, width=1000)\n",
    "UMAPPlot(rna,group.by='Class',cols=c('grey','red'))\n",
    "dev.off()\n",
    "\n",
    "outP2 = stringr::str_glue(\"{args$outdir}/{args$sample}_assign.png\")\n",
    "png(outP2, height=1000, width=1000)\n",
    "UMAPPlot(rna,group.by='cluster',label=TRUE,label.box=TRUE)\n",
    "dev.off()\n",
    "\n",
    "meta = rna@meta.data\n",
    "outMeta = stringr::str_glue(\"{args$outdir}/{args$sample}_metadata.tsv\")\n",
    "write.table(as.data.frame(meta), file=outMeta, sep='\\t')"
   ]
  },
  {
   "cell_type": "code",
   "execution_count": null,
   "id": "qualified-violence",
   "metadata": {},
   "outputs": [],
   "source": []
  },
  {
   "cell_type": "code",
   "execution_count": null,
   "id": "lucky-tomato",
   "metadata": {},
   "outputs": [],
   "source": [
    "import pandas as pd\n",
    "import numpy as np "
   ]
  },
  {
   "cell_type": "code",
   "execution_count": null,
   "id": "finished-flood",
   "metadata": {},
   "outputs": [],
   "source": [
    "    def sub_sample(fraction, df_cell, cell_read_index):\n",
    "        \"\"\"\n",
    "        umi_saturation = 1 - n_deduped_reads / n_umis\n",
    "        read_saturation = 1 - n_deduped_reads / n_reads\n",
    "        Currently the html report shows umi_saturation.\n",
    "\n",
    "        n_deduped_reads = Number of unique (valid cell-barcode, valid UMI, gene) combinations among confidently mapped reads.\n",
    "        n_umis = Total number of (confidently mapped, valid cell-barcode, valid UMI) UMIs.\n",
    "        n_reads = Total number of (confidently mapped, valid cell-barcode, valid UMI) reads.\n",
    "        Args:\n",
    "            fration: subsmaple fration\n",
    "            df_cell: in cell df with (Barcode geneID UMI count) \n",
    "            cell_read_index: df_cell repeat index\n",
    "        \"\"\"\n",
    "        cell_read = df_cell['count'].sum()\n",
    "        frac_n_read = int(cell_read * fraction)\n",
    "        subsample_read_index = cell_read_index[:frac_n_read]\n",
    "        index_dedup, counts = np.unique(subsample_read_index, return_counts=True)\n",
    "        n_count_once = np.sum(counts == 1)\n",
    "        # total = UMI\n",
    "        umi_total = len(index_dedup)\n",
    "        umi_saturation = round((1 - n_count_once / umi_total) * 100, 2)\n",
    "        read_total = frac_n_read\n",
    "        read_saturation = round((1 - n_count_once / read_total) * 100, 2)\n",
    "\n",
    "        # gene median\n",
    "        df_cell_subsample = df_cell.loc[index_dedup, ]\n",
    "        geneNum_median = float(df_cell_subsample.groupby(\n",
    "            'Barcode').agg({'geneID': 'nunique'}).median())\n",
    "\n",
    "        return umi_saturation, read_saturation, geneNum_median"
   ]
  },
  {
   "cell_type": "code",
   "execution_count": null,
   "id": "functioning-feeling",
   "metadata": {},
   "outputs": [],
   "source": [
    "df = pd.read_table('/SGRNJ06/randd/USER/cjj/celedev/wanheyuan/20220905cs/DC0004CA/05.count/DC0004CA_count_detail.txt', header=0)"
   ]
  },
  {
   "cell_type": "code",
   "execution_count": null,
   "id": "applied-manchester",
   "metadata": {},
   "outputs": [],
   "source": [
    "df_cell = df"
   ]
  },
  {
   "cell_type": "code",
   "execution_count": null,
   "id": "tough-gender",
   "metadata": {},
   "outputs": [],
   "source": [
    "cell_read_index = np.array(df_cell.index.repeat(df_cell['count']), dtype='int32')"
   ]
  },
  {
   "cell_type": "code",
   "execution_count": null,
   "id": "flying-highland",
   "metadata": {},
   "outputs": [],
   "source": [
    "cell_read_index"
   ]
  },
  {
   "cell_type": "code",
   "execution_count": null,
   "id": "humanitarian-breach",
   "metadata": {},
   "outputs": [],
   "source": [
    "cell_read = df_cell['count'].sum()\n",
    "read_total = int(cell_read)\n",
    "subsample_read_index = cell_read_index\n",
    "index_dedup, counts = np.unique(subsample_read_index, return_counts=True)\n",
    "n_count_once = np.sum(counts == 1)"
   ]
  },
  {
   "cell_type": "code",
   "execution_count": null,
   "id": "rotary-olive",
   "metadata": {},
   "outputs": [],
   "source": [
    "counts"
   ]
  },
  {
   "cell_type": "code",
   "execution_count": null,
   "id": "smart-charleston",
   "metadata": {},
   "outputs": [],
   "source": [
    "df_cell.sort_values('count', ascending=False)"
   ]
  },
  {
   "cell_type": "code",
   "execution_count": null,
   "id": "established-poker",
   "metadata": {},
   "outputs": [],
   "source": []
  },
  {
   "cell_type": "code",
   "execution_count": null,
   "id": "expired-session",
   "metadata": {},
   "outputs": [],
   "source": [
    "library(Seurat)"
   ]
  },
  {
   "cell_type": "code",
   "execution_count": null,
   "id": "artistic-excerpt",
   "metadata": {},
   "outputs": [],
   "source": [
    "rds = readRDS('/SGRNJ06/randd/lims_result_rd/MultiResult/RD20102301_220926_homo_PBMC/2022-09-28/father_cluster/batch_1/call-integration/RD20102301_220926_homo_PBMC.diff_PRO.rds')"
   ]
  },
  {
   "cell_type": "code",
   "execution_count": null,
   "id": "matched-woman",
   "metadata": {},
   "outputs": [],
   "source": [
    "meta = rds@meta.data"
   ]
  },
  {
   "cell_type": "code",
   "execution_count": null,
   "id": "fixed-shift",
   "metadata": {},
   "outputs": [],
   "source": [
    "head(meta)"
   ]
  },
  {
   "cell_type": "code",
   "execution_count": null,
   "id": "concrete-astrology",
   "metadata": {},
   "outputs": [],
   "source": [
    "table(meta$cluster)"
   ]
  },
  {
   "cell_type": "code",
   "execution_count": null,
   "id": "foreign-rover",
   "metadata": {},
   "outputs": [],
   "source": [
    "table(meta$raw_cluster)"
   ]
  },
  {
   "cell_type": "code",
   "execution_count": null,
   "id": "clean-pricing",
   "metadata": {},
   "outputs": [],
   "source": []
  },
  {
   "cell_type": "code",
   "execution_count": null,
   "id": "sustained-antigua",
   "metadata": {},
   "outputs": [],
   "source": [
    "library(Seurat)\n",
    "library(ggplot2)"
   ]
  },
  {
   "cell_type": "code",
   "execution_count": null,
   "id": "fatty-confidence",
   "metadata": {},
   "outputs": [],
   "source": [
    "rds= readRDS('/SGRNJ06/randd/lims_result_rd/MultiResult/RD20102301_221026_homo_PBMC_1/2022-10-28/h7iu3hxj8j/father_cluster/batch_1/call-integration/RD20102301_221026_homo_PBMC_1.diff_PRO.rds')"
   ]
  },
  {
   "cell_type": "code",
   "execution_count": null,
   "id": "floral-habitat",
   "metadata": {},
   "outputs": [],
   "source": [
    "UMAPPlot(rds, group.by=('cluster'))"
   ]
  },
  {
   "cell_type": "code",
   "execution_count": null,
   "id": "crucial-closer",
   "metadata": {},
   "outputs": [],
   "source": [
    "p = TSNEPlot(rds, group.by=('cluster'))"
   ]
  },
  {
   "cell_type": "code",
   "execution_count": null,
   "id": "covered-server",
   "metadata": {},
   "outputs": [],
   "source": [
    "ggplot2::ggsave(\"/SGRNJ06/randd/USER/cjj/celedev/XZMU/20221028otherCART/tsneplot.png\",p,height=8,width=8)"
   ]
  },
  {
   "cell_type": "code",
   "execution_count": null,
   "id": "referenced-interval",
   "metadata": {},
   "outputs": [],
   "source": []
  },
  {
   "cell_type": "code",
   "execution_count": null,
   "id": "signal-grill",
   "metadata": {},
   "outputs": [],
   "source": []
  },
  {
   "cell_type": "code",
   "execution_count": null,
   "id": "sporting-computer",
   "metadata": {},
   "outputs": [],
   "source": [
    "total_count = 0\n",
    "with pysam.FastxFile(\"/SGRNJ06/randd/USER/cjj/celedev/bulk_vdj/20221107/total.fq\", \"r\") as f:\n",
    "    for read in f:\n",
    "        total_count += 1"
   ]
  },
  {
   "cell_type": "code",
   "execution_count": null,
   "id": "historic-recipient",
   "metadata": {},
   "outputs": [],
   "source": [
    "total_count"
   ]
  },
  {
   "cell_type": "code",
   "execution_count": null,
   "id": "noted-short",
   "metadata": {},
   "outputs": [],
   "source": [
    "import pysam\n",
    "import json\n",
    "import os"
   ]
  },
  {
   "cell_type": "code",
   "execution_count": null,
   "id": "improving-palestinian",
   "metadata": {},
   "outputs": [],
   "source": [
    "keys = [\"Total Reads\" ,\"Reads Mapped To Any V(D)J Genes\", \"Reads Mapped To TRA\", \"Reads Mapped To TRB\"]"
   ]
  },
  {
   "cell_type": "code",
   "execution_count": null,
   "id": "sixth-northeast",
   "metadata": {},
   "outputs": [],
   "source": [
    "sample_list = [\"R221027001\", \"R221027002\", \"R221027003\", \"R221027004\", \"R221027005\", \"R221027006\"]\n",
    "sample_dict = dict()\n",
    "for sample in sample_list:\n",
    "    sample_dict[sample] = dict()"
   ]
  },
  {
   "cell_type": "code",
   "execution_count": null,
   "id": "answering-reggae",
   "metadata": {},
   "outputs": [],
   "source": [
    "total_count"
   ]
  },
  {
   "cell_type": "code",
   "execution_count": null,
   "id": "infectious-acceptance",
   "metadata": {},
   "outputs": [],
   "source": [
    "total_count = 0\n",
    "with pysam.FastxFile(\"/SGRNJ06/DATA04/22_11/2022_11_01/RD20073101/H_1025PBMC_c3pT2_2Nlib/R221027006_R1.fastq.gz\", \"r\") as f:\n",
    "    for read in f:\n",
    "        total_count += 1\n",
    "any_vdj_count = 0\n",
    "with pysam.FastxFile(\"/SGRNJ06/randd/USER/cjj/celedev/bulk_vdj/20221107/R221027006/total_1.fq\") as f:\n",
    "    for read in f:\n",
    "        any_vdj_count +=1\n",
    "tra_count = 0\n",
    "with pysam.FastxFile(\"/SGRNJ06/randd/USER/cjj/celedev/bulk_vdj/20221107/R221027006/tra_1.fq\") as f:\n",
    "    for read in f:\n",
    "        tra_count +=1\n",
    "trb_count = 0\n",
    "with pysam.FastxFile(\"/SGRNJ06/randd/USER/cjj/celedev/bulk_vdj/20221107/R221027006/trb_1.fq\") as f:\n",
    "    for read in f:\n",
    "        trb_count +=1"
   ]
  },
  {
   "cell_type": "code",
   "execution_count": null,
   "id": "quick-laugh",
   "metadata": {},
   "outputs": [],
   "source": [
    "# [total_count, any_vdj_count, tra_count, trb_count]"
   ]
  },
  {
   "cell_type": "code",
   "execution_count": null,
   "id": "educational-accommodation",
   "metadata": {},
   "outputs": [],
   "source": [
    "dict(zip(keys,[total_count, any_vdj_count, tra_count, trb_count]))"
   ]
  },
  {
   "cell_type": "code",
   "execution_count": null,
   "id": "restricted-sleeve",
   "metadata": {},
   "outputs": [],
   "source": [
    "sample_dict[\"R221027006\"] = dict(zip(keys,[total_count, any_vdj_count, tra_count, trb_count]))"
   ]
  },
  {
   "cell_type": "code",
   "execution_count": null,
   "id": "indian-primary",
   "metadata": {},
   "outputs": [],
   "source": [
    "sample_dict"
   ]
  },
  {
   "cell_type": "code",
   "execution_count": null,
   "id": "seeing-female",
   "metadata": {},
   "outputs": [],
   "source": [
    "with open(\"/SGRNJ06/randd/USER/cjj/celedev/bulk_vdj/20221107/stat.json\", 'w') as f:\n",
    "    json.dump(sample_dict, f, indent=4)"
   ]
  },
  {
   "cell_type": "code",
   "execution_count": null,
   "id": "worldwide-worker",
   "metadata": {},
   "outputs": [],
   "source": []
  },
  {
   "cell_type": "code",
   "execution_count": null,
   "id": "heavy-spray",
   "metadata": {},
   "outputs": [],
   "source": []
  },
  {
   "cell_type": "code",
   "execution_count": null,
   "id": "constitutional-empty",
   "metadata": {},
   "outputs": [],
   "source": [
    "# split fl vdj\n",
    "library(Seurat)\n",
    "library(tidyverse)\n",
    "library(argparse)\n",
    "library(ggplot2)\n",
    "library(stringr)\n",
    "library(dplyr)\n",
    "library(reshape2)"
   ]
  },
  {
   "cell_type": "code",
   "execution_count": null,
   "id": "becoming-cassette",
   "metadata": {},
   "outputs": [],
   "source": [
    "rds <- readRDS(\"/SGRNJ06/randd/lims_result_rd/MultiResult/RD21032301_221104_mus_Bone_marrow/2022-11-07/h7t9b9qnmk/father_cluster/batch_1/call-integration/RD21032301_221104_mus_Bone_marrow.diff_PRO.rds\")\n",
    "vdj <- read.table(\"/SGRNJ06/randd/USER/cjj/celedev/split_fl_vdj/20221102/M-1020clindexTCR-C/06.split_tag/fl_vdj/TAG_2_TCR_contig_annotations.csv\", sep=',', header=T)"
   ]
  },
  {
   "cell_type": "code",
   "execution_count": null,
   "id": "identical-reader",
   "metadata": {},
   "outputs": [],
   "source": [
    "Idents(rds) <- \"orig.ident\"\n",
    "rna <- subset(rds,idents = c(\"TAG\"))"
   ]
  },
  {
   "cell_type": "code",
   "execution_count": null,
   "id": "legislative-faith",
   "metadata": {},
   "outputs": [],
   "source": [
    "df <- rna@meta.data\n",
    "df$barcode <- rownames(df)\n",
    "\n",
    "if (grepl(\"_\", rownames(df)[1])){\n",
    "  vdj$shi<-paste(\"TAG_2\",\"_\",sep=\"\")\n",
    "  vdj$barcode<-str_c(vdj$shi,vdj$barcode)\n",
    "}"
   ]
  },
  {
   "cell_type": "code",
   "execution_count": null,
   "id": "fitted-romance",
   "metadata": {},
   "outputs": [],
   "source": [
    "cells <- vdj\n",
    "barcodes <- unique(cells$barcode)\n",
    "\n",
    "filter_df <- filter(df, barcode %in% barcodes)\n",
    "res <- table(filter_df$seurat_clusters)\n",
    "res <- as.data.frame(res)"
   ]
  },
  {
   "cell_type": "code",
   "execution_count": null,
   "id": "thermal-destiny",
   "metadata": {},
   "outputs": [],
   "source": [
    "barcodes"
   ]
  },
  {
   "cell_type": "code",
   "execution_count": null,
   "id": "framed-bicycle",
   "metadata": {},
   "outputs": [],
   "source": [
    "meta = rna@meta.data\n",
    "meta$Class = 'NA'"
   ]
  },
  {
   "cell_type": "code",
   "execution_count": null,
   "id": "protected-administrator",
   "metadata": {},
   "outputs": [],
   "source": [
    "meta$barcode = rownames(meta)"
   ]
  },
  {
   "cell_type": "code",
   "execution_count": null,
   "id": "solar-proxy",
   "metadata": {},
   "outputs": [],
   "source": [
    "meta=  meta %>%\n",
    "  mutate(Class = if_else(barcode %in% barcodes,\n",
    "                         true = \"T/BCR\",\n",
    "                         false = \"NA\"))"
   ]
  },
  {
   "cell_type": "code",
   "execution_count": null,
   "id": "municipal-association",
   "metadata": {},
   "outputs": [],
   "source": [
    "meta = select(meta, -18)"
   ]
  },
  {
   "cell_type": "code",
   "execution_count": null,
   "id": "emerging-dress",
   "metadata": {},
   "outputs": [],
   "source": [
    "meta"
   ]
  },
  {
   "cell_type": "code",
   "execution_count": null,
   "id": "descending-investigator",
   "metadata": {},
   "outputs": [],
   "source": [
    "meta[barcodes,'Class'] = 'T/BCR'"
   ]
  },
  {
   "cell_type": "code",
   "execution_count": null,
   "id": "british-float",
   "metadata": {},
   "outputs": [],
   "source": [
    "meta <- meta %>% drop_na(nCount_RNA)\n",
    "table(meta$Class == 'T/BCR')\n",
    "rna@meta.data = meta\n",
    "rna <- RunUMAP(rna, dims = 1:20)"
   ]
  },
  {
   "cell_type": "code",
   "execution_count": null,
   "id": "secure-priest",
   "metadata": {},
   "outputs": [],
   "source": [
    "UMAPPlot(rna,group.by='Class',cols=c('grey','red'),label=TRUE)"
   ]
  },
  {
   "cell_type": "code",
   "execution_count": null,
   "id": "burning-postage",
   "metadata": {},
   "outputs": [],
   "source": []
  },
  {
   "cell_type": "code",
   "execution_count": null,
   "id": "south-darwin",
   "metadata": {},
   "outputs": [],
   "source": [
    "import pandas as pd"
   ]
  },
  {
   "cell_type": "code",
   "execution_count": null,
   "id": "noble-portfolio",
   "metadata": {},
   "outputs": [],
   "source": [
    "meta = pd.read_csv(\"/SGRNJ06/randd/USER/cjj/celedev/split_fl_vdj/20221102/yingshe/meta.tsv\",sep='\\t')"
   ]
  },
  {
   "cell_type": "code",
   "execution_count": null,
   "id": "minor-dancing",
   "metadata": {},
   "outputs": [],
   "source": [
    "meta = meta.rename_axis(\"barcode\").reset_index()"
   ]
  },
  {
   "cell_type": "code",
   "execution_count": null,
   "id": "injured-calibration",
   "metadata": {},
   "outputs": [],
   "source": [
    "vdj = pd.read_csv(\"/SGRNJ06/randd/USER/cjj/celedev/split_fl_vdj/20221102/M-1020clindexTCR-C/06.split_tag/fl_vdj/TAG_2_TCR_contig_annotations.csv\")"
   ]
  },
  {
   "cell_type": "code",
   "execution_count": null,
   "id": "advised-falls",
   "metadata": {},
   "outputs": [],
   "source": [
    "vdj.barcode= vdj.barcode.apply(lambda x: f\"TAG_2_{x}\")"
   ]
  },
  {
   "cell_type": "code",
   "execution_count": null,
   "id": "golden-mediterranean",
   "metadata": {},
   "outputs": [],
   "source": [
    "vdj"
   ]
  },
  {
   "cell_type": "code",
   "execution_count": null,
   "id": "plain-fortune",
   "metadata": {},
   "outputs": [],
   "source": [
    "meta"
   ]
  },
  {
   "cell_type": "code",
   "execution_count": null,
   "id": "killing-loading",
   "metadata": {},
   "outputs": [],
   "source": [
    "set(meta.barcode).intersection(set(vdj.barcode))"
   ]
  },
  {
   "cell_type": "code",
   "execution_count": null,
   "id": "regional-deputy",
   "metadata": {},
   "outputs": [],
   "source": []
  },
  {
   "cell_type": "code",
   "execution_count": null,
   "id": "bored-tsunami",
   "metadata": {},
   "outputs": [],
   "source": [
    "import pandas as pd\n",
    "import sys\n",
    "import glob\n",
    "import xlwt\n",
    "import re"
   ]
  },
  {
   "cell_type": "code",
   "execution_count": null,
   "id": "obvious-terry",
   "metadata": {},
   "outputs": [],
   "source": [
    "Celltype = {'TCELLS', 'TCELL' 'NKTCELLS'}"
   ]
  },
  {
   "cell_type": "code",
   "execution_count": null,
   "id": "secure-stack",
   "metadata": {},
   "outputs": [],
   "source": [
    "    meta_list = glob.glob(\"/SGRNJ06/randd/USER/cjj/celedev/split_fl_vdj/20221102/yingshe/*_meta.csv\")\n",
    "    sample_list = ['_'.join(i.split('/')[-1].split('_')[:-1]) for i in meta_list]"
   ]
  },
  {
   "cell_type": "code",
   "execution_count": null,
   "id": "binary-effect",
   "metadata": {},
   "outputs": [],
   "source": [
    "    row0 = ['number of mapping to T/B cells', 'number of T/B cells', 'percent']\n",
    "    row1 = sample_list"
   ]
  },
  {
   "cell_type": "code",
   "execution_count": null,
   "id": "assigned-estonia",
   "metadata": {},
   "outputs": [],
   "source": [
    "mapping_count, ZL_count = [], []"
   ]
  },
  {
   "cell_type": "code",
   "execution_count": null,
   "id": "incident-norwegian",
   "metadata": {},
   "outputs": [],
   "source": [
    "    for meta in meta_list:\n",
    "        df = pd.read_csv(meta)\n",
    "        df['cluster'].apply(lambda x: re.sub(r\"[^a-zA-Z0-9]\",\"\", str(x)).upper())\n",
    "        df_count = df[df['cluster'].isin(Celltype)]\n",
    "        _i,_j = df_count[df_count['Class']=='T/BCR'].shape[0], df_count.shape[0]\n",
    "        mapping_count.append(int(_i))\n",
    "        ZL_count.append(int(_j))"
   ]
  },
  {
   "cell_type": "code",
   "execution_count": null,
   "id": "sitting-settle",
   "metadata": {},
   "outputs": [],
   "source": [
    "mapping_count"
   ]
  },
  {
   "cell_type": "code",
   "execution_count": null,
   "id": "seasonal-discipline",
   "metadata": {},
   "outputs": [],
   "source": [
    "df = pd.read_csv(meta_list[0])"
   ]
  },
  {
   "cell_type": "code",
   "execution_count": null,
   "id": "distinct-andorra",
   "metadata": {},
   "outputs": [],
   "source": [
    "df['cluster'] = df['cluster'].apply(lambda x: re.sub(r\"[^a-zA-Z0-9]\",\"\", str(x)).upper())"
   ]
  },
  {
   "cell_type": "code",
   "execution_count": null,
   "id": "integrated-tamil",
   "metadata": {},
   "outputs": [],
   "source": [
    "df_count = df[df['cluster'].isin(Celltype)]"
   ]
  },
  {
   "cell_type": "code",
   "execution_count": null,
   "id": "paperback-possibility",
   "metadata": {},
   "outputs": [],
   "source": [
    "_i,_j = df_count[df_count['Class']=='T/BCR'].shape[0], df_count.shape[0]"
   ]
  },
  {
   "cell_type": "code",
   "execution_count": null,
   "id": "federal-species",
   "metadata": {},
   "outputs": [],
   "source": [
    "_i"
   ]
  },
  {
   "cell_type": "code",
   "execution_count": null,
   "id": "continuous-satellite",
   "metadata": {},
   "outputs": [],
   "source": [
    "_j"
   ]
  },
  {
   "cell_type": "code",
   "execution_count": null,
   "id": "rolled-vatican",
   "metadata": {},
   "outputs": [],
   "source": [
    "df_count[df_count['Class']=='T/BCR'].shape[0]"
   ]
  },
  {
   "cell_type": "code",
   "execution_count": null,
   "id": "heated-genetics",
   "metadata": {},
   "outputs": [],
   "source": []
  },
  {
   "cell_type": "code",
   "execution_count": null,
   "id": "numerous-requirement",
   "metadata": {},
   "outputs": [],
   "source": [
    "import pandas as pd"
   ]
  },
  {
   "cell_type": "code",
   "execution_count": null,
   "id": "abandoned-access",
   "metadata": {},
   "outputs": [],
   "source": [
    "df = pd.read_csv('/SGRNJ06/randd/USER/cjj/celedev/XZMU/20221110/monocle/check.tsv',sep='\\t')"
   ]
  },
  {
   "cell_type": "code",
   "execution_count": null,
   "id": "forward-logistics",
   "metadata": {},
   "outputs": [],
   "source": [
    "df"
   ]
  },
  {
   "cell_type": "code",
   "execution_count": null,
   "id": "brutal-leonard",
   "metadata": {},
   "outputs": [],
   "source": [
    "GC0 = df[df[\"sample\"]=='GC_0']\n",
    "GC1 = df[df[\"sample\"]=='GC_1']\n",
    "GC2 = df[df[\"sample\"]=='GC_2']"
   ]
  },
  {
   "cell_type": "code",
   "execution_count": null,
   "id": "speaking-couple",
   "metadata": {},
   "outputs": [],
   "source": [
    "GC0.describe()"
   ]
  },
  {
   "cell_type": "code",
   "execution_count": null,
   "id": "light-highland",
   "metadata": {},
   "outputs": [],
   "source": [
    "GC1.describe()"
   ]
  },
  {
   "cell_type": "code",
   "execution_count": null,
   "id": "continued-toner",
   "metadata": {},
   "outputs": [],
   "source": [
    "GC2.describe()"
   ]
  },
  {
   "cell_type": "code",
   "execution_count": null,
   "id": "looking-entrepreneur",
   "metadata": {},
   "outputs": [],
   "source": []
  },
  {
   "cell_type": "code",
   "execution_count": null,
   "id": "coordinate-excitement",
   "metadata": {},
   "outputs": [],
   "source": [
    "# /SGRNJ06/DATA04/22_11/2022_11_11/RD21010602/H_1104Raji_CK3NL/\n",
    "# /SGRNJ06/DATA04/22_11/2022_11_11/RD21010602/H_1104Raji_Mix3NL/"
   ]
  },
  {
   "cell_type": "code",
   "execution_count": null,
   "id": "hollow-recording",
   "metadata": {},
   "outputs": [],
   "source": [
    "df = df.rename_axis(\"barcode\").reset_index()\n",
    "df"
   ]
  },
  {
   "cell_type": "code",
   "execution_count": null,
   "id": "external-costume",
   "metadata": {},
   "outputs": [],
   "source": [
    "    for index,row in df.iterrows():\n",
    "        print(row.barcode, row.cluster)"
   ]
  },
  {
   "cell_type": "code",
   "execution_count": null,
   "id": "square-parliament",
   "metadata": {},
   "outputs": [],
   "source": [
    "def yield_test(df):\n",
    "    for index,row in df.iterrows():\n",
    "        yield row.barcode, row.cluster"
   ]
  },
  {
   "cell_type": "code",
   "execution_count": null,
   "id": "thousand-median",
   "metadata": {},
   "outputs": [],
   "source": [
    "def yield_test1(df):\n",
    "    bc_list, celltype_list = list(df.barcode), list(df.cluster)\n",
    "    for i in range(len(bc_list)):\n",
    "        yield bc_list[i], celltype_list[i]"
   ]
  },
  {
   "cell_type": "code",
   "execution_count": null,
   "id": "convinced-reader",
   "metadata": {},
   "outputs": [],
   "source": [
    "    for index,row in df.iterrows():\n",
    "        print(index)\n",
    "        print((row.barcode, row.cluster))"
   ]
  },
  {
   "cell_type": "code",
   "execution_count": null,
   "id": "desperate-ecology",
   "metadata": {},
   "outputs": [],
   "source": [
    "list(yield_test(df))"
   ]
  },
  {
   "cell_type": "code",
   "execution_count": null,
   "id": "bored-uzbekistan",
   "metadata": {},
   "outputs": [],
   "source": []
  },
  {
   "cell_type": "code",
   "execution_count": null,
   "id": "answering-projector",
   "metadata": {},
   "outputs": [],
   "source": []
  },
  {
   "cell_type": "code",
   "execution_count": null,
   "id": "attractive-component",
   "metadata": {},
   "outputs": [],
   "source": [
    "library(Seurat)\n",
    "library(tidyverse)\n",
    "library(dplyr)\n",
    "library(ggplot2)"
   ]
  },
  {
   "cell_type": "code",
   "execution_count": null,
   "id": "english-hartford",
   "metadata": {},
   "outputs": [],
   "source": [
    "rds = readRDS('/SGRNJ06/randd/PROJECT/RD20073101_ScRNA_VDJ/swb/snRNA/1107_Mus_Brain/amulit/rds_.diff_PRO.rds')"
   ]
  },
  {
   "cell_type": "code",
   "execution_count": null,
   "id": "quiet-delhi",
   "metadata": {},
   "outputs": [],
   "source": [
    "table(rds@meta.data$seurat_clusters)"
   ]
  },
  {
   "cell_type": "code",
   "execution_count": null,
   "id": "guided-vanilla",
   "metadata": {},
   "outputs": [],
   "source": [
    "new.cluster.ids <- c('Excitatory neurons','Interneurons','Excitatory neurons','Projection neurons','Excitatory neurons','Projection neurons','Excitatory neurons','Projection neurons',\n",
    "                    'Oligodendrocytes','Astrocytes','Inhibitory neurons','Astrocytes','Type IA spiral ganglion neurons','Projection neurons','GABAergic neurons','GABAergic neurons',\n",
    "                     'Projection neurons','Projection neurons','Oligodendrocytes precursor cells','Projection neurons','Dendrite targeting cells','Projection neurons','Microglial cells',\n",
    "                     'Fibroblasts')\n",
    "names(new.cluster.ids) <- levels(rds)\n",
    "rds <- RenameIdents(rds, new.cluster.ids)\n",
    "rds <- StashIdent(object = rds, save.name = \"celltype\")"
   ]
  },
  {
   "cell_type": "code",
   "execution_count": null,
   "id": "thick-piece",
   "metadata": {},
   "outputs": [],
   "source": [
    "UMAPPlot(rds)"
   ]
  },
  {
   "cell_type": "code",
   "execution_count": null,
   "id": "loaded-mercy",
   "metadata": {},
   "outputs": [],
   "source": [
    "table(rds@meta.data$orig.ident)"
   ]
  },
  {
   "cell_type": "code",
   "execution_count": null,
   "id": "magnetic-handling",
   "metadata": {},
   "outputs": [],
   "source": [
    "for (i in unique(rds@meta.data$orig.ident)) {\n",
    "    Idents(rds) <- \"orig.ident\"\n",
    "    rds_tmp <- subset(rds,idents = c(i))\n",
    "    #saveRDS(object = rds_tmp, file = paste(\"/SGRNJ06/randd/USER/cjj/celedev/rna/20221122split_sample/\", i, \".rds\", sep=\"\"))\n",
    "    p <- UMAPPlot(rds_tmp, group.by=\"celltype\") \n",
    "    print(p)\n",
    "    ggplot2::ggsave(paste('/SGRNJ06/randd/USER/cjj/celedev/rna/20221122split_sample/umapplot/', i, '_umap.png', sep=''), p, height=10, width=10)\n",
    "}"
   ]
  },
  {
   "cell_type": "code",
   "execution_count": null,
   "id": "isolated-boston",
   "metadata": {},
   "outputs": [],
   "source": [
    "for (i in unique(rds@meta.data$orig.ident)) {\n",
    "    print(paste(\"/SGRNJ06/randd/USER/cjj/celedev/rna/20221122split_sample/\", i,  \".rds\", sep=\"\"))\n",
    "}"
   ]
  },
  {
   "cell_type": "code",
   "execution_count": null,
   "id": "integral-asbestos",
   "metadata": {},
   "outputs": [],
   "source": []
  },
  {
   "cell_type": "code",
   "execution_count": null,
   "id": "listed-argument",
   "metadata": {},
   "outputs": [],
   "source": []
  },
  {
   "cell_type": "code",
   "execution_count": null,
   "id": "fantastic-immunology",
   "metadata": {},
   "outputs": [],
   "source": [
    "rds = readRDS('/SGRNJ06/randd/PROJECT/RD20073101_ScRNA_VDJ/swb/snRNA/1110_lung_kindey2/lung/amulit/rds_.diff_PRO.rds')"
   ]
  },
  {
   "cell_type": "code",
   "execution_count": null,
   "id": "attached-theater",
   "metadata": {},
   "outputs": [],
   "source": [
    "table(rds@meta.data$seurat_clusters)"
   ]
  },
  {
   "cell_type": "code",
   "execution_count": null,
   "id": "resistant-trace",
   "metadata": {},
   "outputs": [],
   "source": [
    "new.cluster.ids <- c('Alveolar type II cells','Alveolar type I cells','Mesenchymal cells','Alveolar type II cells','Secretory cells','Ciliated cells','Macrophages','Endothelial cells',\n",
    "                    'Club cells','Immune cells','Capillaries type I endothelial cells','Endothelial cells','Fibroblasts','Immune cells','Mesothelial cells','Epithelial cells',\n",
    "                     'Pericytes','Secretory cells','Alveolar type I cells','Conventional type II dendritic cells','Ciliated cells','Alveolar type I cells','Alveolar type I cells',\n",
    "                     'Endothelial cells', 'Neuroendocrine cells')\n",
    "names(new.cluster.ids) <- levels(rds)\n",
    "rds <- RenameIdents(rds, new.cluster.ids)\n",
    "rds <- StashIdent(object = rds, save.name = \"celltype\")"
   ]
  },
  {
   "cell_type": "code",
   "execution_count": null,
   "id": "processed-sunglasses",
   "metadata": {},
   "outputs": [],
   "source": [
    "UMAPPlot(rds)"
   ]
  },
  {
   "cell_type": "code",
   "execution_count": null,
   "id": "fantastic-lender",
   "metadata": {},
   "outputs": [],
   "source": [
    "table(rds@meta.data$orig.ident)"
   ]
  },
  {
   "cell_type": "code",
   "execution_count": null,
   "id": "hollywood-journalism",
   "metadata": {},
   "outputs": [],
   "source": [
    "for (i in unique(rds@meta.data$orig.ident)) {\n",
    "    print(paste(\"/SGRNJ06/randd/USER/cjj/celedev/rna/20221122split_sample/\", i,  \".rds\", sep=\"\"))\n",
    "}"
   ]
  },
  {
   "cell_type": "code",
   "execution_count": null,
   "id": "fourth-filter",
   "metadata": {},
   "outputs": [],
   "source": [
    "for (i in unique(rds@meta.data$orig.ident)) {\n",
    "    Idents(rds) <- \"orig.ident\"\n",
    "    rds_tmp <- subset(rds,idents = c(i))\n",
    "    #saveRDS(object = rds_tmp, file = paste(\"/SGRNJ06/randd/USER/cjj/celedev/rna/20221122split_sample/\", i, \".rds\", sep=\"\"))\n",
    "    p <- UMAPPlot(rds_tmp, group.by=\"celltype\") \n",
    "    print(p)\n",
    "    ggplot2::ggsave(paste('/SGRNJ06/randd/USER/cjj/celedev/rna/20221122split_sample/umapplot/', i, '_umap.png', sep=''), p, height=10, width=10)\n",
    "}"
   ]
  },
  {
   "cell_type": "code",
   "execution_count": null,
   "id": "essential-press",
   "metadata": {},
   "outputs": [],
   "source": []
  },
  {
   "cell_type": "code",
   "execution_count": null,
   "id": "sudden-difference",
   "metadata": {},
   "outputs": [],
   "source": []
  },
  {
   "cell_type": "code",
   "execution_count": null,
   "id": "fourth-giving",
   "metadata": {},
   "outputs": [],
   "source": [
    "rds = readRDS('/SGRNJ06/randd/PROJECT/RD20073101_ScRNA_VDJ/swb/snRNA/1110_lung_kindey2/kindey/amulit/rds_.diff_PRO.rds')"
   ]
  },
  {
   "cell_type": "code",
   "execution_count": null,
   "id": "welcome-boxing",
   "metadata": {},
   "outputs": [],
   "source": [
    "table(rds@meta.data$seurat_clusters)"
   ]
  },
  {
   "cell_type": "code",
   "execution_count": null,
   "id": "prime-gregory",
   "metadata": {},
   "outputs": [],
   "source": [
    "new.cluster.ids <- c('Ascending loop of henle cells','Proximal straight tubule cells','Proximal straight tubule cells','Proximal straight tubule cells','Proximal tubule cells',\n",
    "                    'Distal convoluted tubule cells','Endothelial cells','Conventional type II dendritic cells','Proximal tubule cells','Collecting duct principal cells',\n",
    "                     'Conventional type II dendritic cells','Collecting duct intercalated cells','Arterial vessel endothelial cells','Collecting duct principal cells',\n",
    "                     'Descending loop of henle cells', 'Conventional type II dendritic cells', 'Principal cells', 'Ascending loop of henle cells', 'Podocytes')\n",
    "names(new.cluster.ids) <- levels(rds)\n",
    "rds <- RenameIdents(rds, new.cluster.ids)\n",
    "rds <- StashIdent(object = rds, save.name = \"celltype\")"
   ]
  },
  {
   "cell_type": "code",
   "execution_count": null,
   "id": "interesting-plaza",
   "metadata": {},
   "outputs": [],
   "source": [
    "UMAPPlot(rds)"
   ]
  },
  {
   "cell_type": "code",
   "execution_count": null,
   "id": "general-rochester",
   "metadata": {},
   "outputs": [],
   "source": [
    "table(rds@meta.data$orig.ident)"
   ]
  },
  {
   "cell_type": "code",
   "execution_count": null,
   "id": "black-leader",
   "metadata": {},
   "outputs": [],
   "source": [
    "for (i in unique(rds@meta.data$orig.ident)) {\n",
    "    print(paste(\"/SGRNJ06/randd/USER/cjj/celedev/rna/20221122split_sample/\", i,  \".rds\", sep=\"\"))\n",
    "}"
   ]
  },
  {
   "cell_type": "code",
   "execution_count": null,
   "id": "functional-pasta",
   "metadata": {},
   "outputs": [],
   "source": [
    "for (i in unique(rds@meta.data$orig.ident)) {\n",
    "    Idents(rds) <- \"orig.ident\"\n",
    "    rds_tmp <- subset(rds,idents = c(i))\n",
    "    #saveRDS(object = rds_tmp, file = paste(\"/SGRNJ06/randd/USER/cjj/celedev/rna/20221122split_sample/\", i, \".rds\", sep=\"\"))\n",
    "    p <- UMAPPlot(rds_tmp, group.by=\"celltype\") \n",
    "    print(p)\n",
    "    ggplot2::ggsave(paste('/SGRNJ06/randd/USER/cjj/celedev/rna/20221122split_sample/umapplot/', i, '_umap.png', sep=''), p, height=10, width=10)\n",
    "}"
   ]
  },
  {
   "cell_type": "code",
   "execution_count": null,
   "id": "optional-distributor",
   "metadata": {},
   "outputs": [],
   "source": []
  },
  {
   "cell_type": "code",
   "execution_count": null,
   "id": "electric-breed",
   "metadata": {},
   "outputs": [],
   "source": []
  },
  {
   "cell_type": "code",
   "execution_count": null,
   "id": "tired-heating",
   "metadata": {},
   "outputs": [],
   "source": [
    "Idents(rds) <- \"orig.ident\"\n",
    "rds3 <- subset(rds,idents = c(\"DYC-1-X1\"))\n",
    "rds4 <- subset(rds,idents = c(\"DYC-1-X2\"))\n",
    "rds5 <- subset(rds,idents = c(\"DYC-2-X1\"))\n",
    "rds6 <- subset(rds,idents = c(\"DYC-2-X2\"))"
   ]
  },
  {
   "cell_type": "code",
   "execution_count": null,
   "id": "frozen-curve",
   "metadata": {},
   "outputs": [],
   "source": [
    "FeaturePlot(rds3, \"CD3D\")"
   ]
  },
  {
   "cell_type": "code",
   "execution_count": null,
   "id": "modular-victorian",
   "metadata": {},
   "outputs": [],
   "source": [
    "UMAPPlot(rds3,group.by=c(\"cluster\"))"
   ]
  },
  {
   "cell_type": "code",
   "execution_count": null,
   "id": "loose-feeding",
   "metadata": {},
   "outputs": [],
   "source": []
  },
  {
   "cell_type": "code",
   "execution_count": null,
   "id": "human-answer",
   "metadata": {},
   "outputs": [],
   "source": []
  },
  {
   "cell_type": "code",
   "execution_count": null,
   "id": "international-austin",
   "metadata": {},
   "outputs": [],
   "source": []
  },
  {
   "cell_type": "code",
   "execution_count": null,
   "id": "civil-attribute",
   "metadata": {},
   "outputs": [],
   "source": []
  },
  {
   "cell_type": "code",
   "execution_count": null,
   "id": "experienced-penalty",
   "metadata": {},
   "outputs": [],
   "source": []
  },
  {
   "cell_type": "code",
   "execution_count": null,
   "id": "usual-context",
   "metadata": {},
   "outputs": [],
   "source": []
  },
  {
   "cell_type": "code",
   "execution_count": null,
   "id": "activated-spoke",
   "metadata": {},
   "outputs": [],
   "source": []
  },
  {
   "cell_type": "code",
   "execution_count": null,
   "id": "surprised-visiting",
   "metadata": {},
   "outputs": [],
   "source": []
  },
  {
   "cell_type": "code",
   "execution_count": null,
   "id": "funny-spanking",
   "metadata": {},
   "outputs": [],
   "source": []
  },
  {
   "cell_type": "code",
   "execution_count": null,
   "id": "infrared-italy",
   "metadata": {},
   "outputs": [],
   "source": []
  },
  {
   "cell_type": "code",
   "execution_count": null,
   "id": "different-technician",
   "metadata": {},
   "outputs": [],
   "source": []
  },
  {
   "cell_type": "code",
   "execution_count": null,
   "id": "discrete-campus",
   "metadata": {},
   "outputs": [],
   "source": []
  },
  {
   "cell_type": "code",
   "execution_count": null,
   "id": "supposed-switch",
   "metadata": {},
   "outputs": [],
   "source": []
  },
  {
   "cell_type": "code",
   "execution_count": null,
   "id": "environmental-bishop",
   "metadata": {},
   "outputs": [],
   "source": []
  },
  {
   "cell_type": "code",
   "execution_count": null,
   "id": "looking-consequence",
   "metadata": {},
   "outputs": [],
   "source": []
  },
  {
   "cell_type": "code",
   "execution_count": null,
   "id": "surface-andrew",
   "metadata": {},
   "outputs": [],
   "source": []
  },
  {
   "cell_type": "code",
   "execution_count": null,
   "id": "green-manner",
   "metadata": {},
   "outputs": [],
   "source": []
  },
  {
   "cell_type": "code",
   "execution_count": null,
   "id": "seven-motivation",
   "metadata": {},
   "outputs": [],
   "source": []
  },
  {
   "cell_type": "code",
   "execution_count": null,
   "id": "boxed-direction",
   "metadata": {},
   "outputs": [],
   "source": []
  },
  {
   "cell_type": "code",
   "execution_count": null,
   "id": "passive-dover",
   "metadata": {},
   "outputs": [],
   "source": []
  },
  {
   "cell_type": "code",
   "execution_count": null,
   "id": "rubber-angle",
   "metadata": {},
   "outputs": [],
   "source": []
  }
 ],
 "metadata": {
  "kernelspec": {
   "display_name": "CJJR",
   "language": "R",
   "name": "cjjr"
  },
  "language_info": {
   "codemirror_mode": "r",
   "file_extension": ".r",
   "mimetype": "text/x-r-source",
   "name": "R",
   "pygments_lexer": "r",
   "version": "4.0.3"
  }
 },
 "nbformat": 4,
 "nbformat_minor": 5
}
