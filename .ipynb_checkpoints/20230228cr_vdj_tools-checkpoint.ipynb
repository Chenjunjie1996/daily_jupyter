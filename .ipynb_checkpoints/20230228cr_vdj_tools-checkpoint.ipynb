{
 "cells": [
  {
   "cell_type": "code",
   "execution_count": null,
   "id": "literary-anatomy",
   "metadata": {},
   "outputs": [],
   "source": [
    "import pandas as pd"
   ]
  },
  {
   "cell_type": "code",
   "execution_count": null,
   "id": "passive-location",
   "metadata": {},
   "outputs": [],
   "source": [
    "req = pd.read_csv(\"/SGRNJ06/randd/USER/cjj/celedev/vdj_bulk/20230131demo/plot/vdjtools_result/sampleE_clonotypes.txt\",sep='\\t')"
   ]
  },
  {
   "cell_type": "code",
   "execution_count": null,
   "id": "crude-trainer",
   "metadata": {},
   "outputs": [],
   "source": [
    "req = req[[\"count\",\"freq\",\"cdr3nt\",\"cdr3aa\",\"v\",\"d\",\"j\"]]"
   ]
  },
  {
   "cell_type": "code",
   "execution_count": null,
   "id": "affiliated-gibson",
   "metadata": {},
   "outputs": [],
   "source": [
    "req"
   ]
  },
  {
   "cell_type": "code",
   "execution_count": null,
   "id": "micro-nigeria",
   "metadata": {},
   "outputs": [],
   "source": [
    "df_consensus = pd.read_csv(\"/SGRNJ03/randd/RD20073101_SCOPEv2_TCR/20220330_1/HG1_0315PBMC_T5_T_3NL/03.assemble/HG1_0315PBMC_T5_T_3NL/outs/consensus_annotations.csv\")\n",
    "df_clonotypes = pd.read_csv(\"/SGRNJ03/randd/RD20073101_SCOPEv2_TCR/20220330_1/HG1_0315PBMC_T5_T_3NL/03.assemble/HG1_0315PBMC_T5_T_3NL/outs/clonotypes.csv\")"
   ]
  },
  {
   "cell_type": "code",
   "execution_count": null,
   "id": "material-palestinian",
   "metadata": {},
   "outputs": [],
   "source": [
    "df_clonotypes"
   ]
  },
  {
   "cell_type": "code",
   "execution_count": null,
   "id": "functional-scholarship",
   "metadata": {},
   "outputs": [],
   "source": [
    "df_clonotypes = df_clonotypes[[\"clonotype_id\",\"frequency\",\"proportion\"]]\n",
    "df_clonotypes.rename(columns={\"frequency\":\"count\", \"proportion\":\"freq\"}, inplace=True)\n",
    "df_consensus = df_consensus[df_consensus[\"productive\"]==True]"
   ]
  },
  {
   "cell_type": "code",
   "execution_count": null,
   "id": "injured-prospect",
   "metadata": {},
   "outputs": [],
   "source": [
    "df_consensus = df_consensus[[\"clonotype_id\",\"chain\",\"v_gene\",\"d_gene\",\"j_gene\",\"cdr3\",\"cdr3_nt\"]]\n",
    "df_consensus.loc[df_consensus.d_gene==\"None\", \"d_gene\"] = '.'\n",
    "df_consensus.rename(columns={\"v_gene\":\"v\", \"d_gene\":\"d\",\"j_gene\":\"j\", \"cdr3_nt\":\"cdr3nt\", \"cdr3\":\"cdr3aa\"},inplace=True)"
   ]
  },
  {
   "cell_type": "code",
   "execution_count": null,
   "id": "elementary-wagner",
   "metadata": {},
   "outputs": [],
   "source": [
    "df_consensus_a = df_consensus[df_consensus[\"chain\"]==\"TRA\"]\n",
    "df_consensus_b = df_consensus[df_consensus[\"chain\"]==\"TRB\"]"
   ]
  },
  {
   "cell_type": "code",
   "execution_count": null,
   "id": "danish-alcohol",
   "metadata": {},
   "outputs": [],
   "source": [
    "df_consensus_a = pd.merge(df_consensus_a,df_clonotypes)\n",
    "df_consensus_b = pd.merge(df_consensus_b,df_clonotypes)"
   ]
  },
  {
   "cell_type": "code",
   "execution_count": null,
   "id": "agricultural-difference",
   "metadata": {},
   "outputs": [],
   "source": [
    "df_consensus_a.sort_values(by=\"count\", ascending=False, inplace=True)\n",
    "df_consensus_b.sort_values(by=\"count\", ascending=False, inplace=True)"
   ]
  },
  {
   "cell_type": "code",
   "execution_count": null,
   "id": "colonial-formula",
   "metadata": {},
   "outputs": [],
   "source": [
    "df_consensus_a"
   ]
  },
  {
   "cell_type": "code",
   "execution_count": null,
   "id": "undefined-archives",
   "metadata": {},
   "outputs": [],
   "source": [
    "df_consensus_b"
   ]
  },
  {
   "cell_type": "code",
   "execution_count": null,
   "id": "basic-glucose",
   "metadata": {},
   "outputs": [],
   "source": [
    "df_consensus_a = df_consensus_a[[\"count\",\"freq\",\"cdr3nt\",\"cdr3aa\",\"v\",\"d\",\"j\"]]\n",
    "df_consensus_b = df_consensus_b[[\"count\",\"freq\",\"cdr3nt\",\"cdr3aa\",\"v\",\"d\",\"j\"]]"
   ]
  },
  {
   "cell_type": "code",
   "execution_count": null,
   "id": "excessive-denial",
   "metadata": {},
   "outputs": [],
   "source": [
    "df_consensus_a.to_csv(\"/SGRNJ06/randd/USER/cjj/celedev/vdj10x/tmp/20230228/test/tra.text\", sep='\\t', index=False)\n",
    "df_consensus_b.to_csv(\"/SGRNJ06/randd/USER/cjj/celedev/vdj10x/tmp/20230228/test/trb.text\", sep='\\t', index=False)"
   ]
  },
  {
   "cell_type": "code",
   "execution_count": null,
   "id": "economic-priority",
   "metadata": {},
   "outputs": [],
   "source": []
  }
 ],
 "metadata": {
  "kernelspec": {
   "display_name": "Python 3 (ipykernel)",
   "language": "python",
   "name": "python3"
  },
  "language_info": {
   "codemirror_mode": {
    "name": "ipython",
    "version": 3
   },
   "file_extension": ".py",
   "mimetype": "text/x-python",
   "name": "python",
   "nbconvert_exporter": "python",
   "pygments_lexer": "ipython3",
   "version": "3.7.10"
  }
 },
 "nbformat": 4,
 "nbformat_minor": 5
}
