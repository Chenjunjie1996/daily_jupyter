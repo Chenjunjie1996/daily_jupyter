{
 "cells": [
  {
   "cell_type": "code",
   "execution_count": 1,
   "id": "handy-intermediate",
   "metadata": {},
   "outputs": [],
   "source": [
    "import pandas as pd\n",
    "from pandas import Series\n",
    "import glob\n",
    "import plotly\n",
    "import plotly.express as px  # import plotly.express as px\n",
    "import plotly.graph_objects as go\n",
    "import seaborn as sns\n",
    "import matplotlib.pyplot as plt\n",
    "\n",
    "import plotly.io as pio\n",
    "#pio.templates.default = 'plotly_white'"
   ]
  },
  {
   "cell_type": "code",
   "execution_count": 15,
   "id": "affecting-mason",
   "metadata": {},
   "outputs": [],
   "source": [
    "def calc_corr(a,b):\n",
    "    s1 = Series(a)\n",
    "    s2 = Series(b)\n",
    "    return round(s1.corr(s2), 3)"
   ]
  },
  {
   "cell_type": "code",
   "execution_count": 36,
   "id": "cutting-vegetable",
   "metadata": {},
   "outputs": [
    {
     "data": {
      "text/html": [
       "<div>\n",
       "<style scoped>\n",
       "    .dataframe tbody tr th:only-of-type {\n",
       "        vertical-align: middle;\n",
       "    }\n",
       "\n",
       "    .dataframe tbody tr th {\n",
       "        vertical-align: top;\n",
       "    }\n",
       "\n",
       "    .dataframe thead th {\n",
       "        text-align: right;\n",
       "    }\n",
       "</style>\n",
       "<table border=\"1\" class=\"dataframe\">\n",
       "  <thead>\n",
       "    <tr style=\"text-align: right;\">\n",
       "      <th></th>\n",
       "      <th>Raw_Reads</th>\n",
       "      <th>UMI_Counts</th>\n",
       "      <th>UMIs_Mapped_Confidently_To_VJ_Gene</th>\n",
       "      <th>UMIs_Mapped_To_TRA</th>\n",
       "      <th>UMIs_Mapped_To_TRB</th>\n",
       "      <th>Clonotype_Diversity</th>\n",
       "      <th>Sample</th>\n",
       "    </tr>\n",
       "  </thead>\n",
       "  <tbody>\n",
       "    <tr>\n",
       "      <th>0</th>\n",
       "      <td>3,267,154</td>\n",
       "      <td>70,981</td>\n",
       "      <td>18,046(70.76%)</td>\n",
       "      <td>6,375(25.0%)</td>\n",
       "      <td>11,658(45.71%)</td>\n",
       "      <td>1,448.93</td>\n",
       "      <td>Hum_PBMC_1</td>\n",
       "    </tr>\n",
       "    <tr>\n",
       "      <th>1</th>\n",
       "      <td>3,120,341</td>\n",
       "      <td>68,534</td>\n",
       "      <td>16,847(70.14%)</td>\n",
       "      <td>5,826(24.26%)</td>\n",
       "      <td>11,015(45.86%)</td>\n",
       "      <td>1,422.92</td>\n",
       "      <td>Hum_PBMC_2</td>\n",
       "    </tr>\n",
       "    <tr>\n",
       "      <th>2</th>\n",
       "      <td>3,180</td>\n",
       "      <td>1,901</td>\n",
       "      <td>358(67.04%)</td>\n",
       "      <td>125(23.41%)</td>\n",
       "      <td>233(43.63%)</td>\n",
       "      <td>318.35</td>\n",
       "      <td>Hum_3T3_3</td>\n",
       "    </tr>\n",
       "    <tr>\n",
       "      <th>3</th>\n",
       "      <td>2,770,511</td>\n",
       "      <td>59,662</td>\n",
       "      <td>14,853(70.57%)</td>\n",
       "      <td>5,117(24.31%)</td>\n",
       "      <td>9,729(46.22%)</td>\n",
       "      <td>1,350.26</td>\n",
       "      <td>Hum_PBMC_4</td>\n",
       "    </tr>\n",
       "    <tr>\n",
       "      <th>4</th>\n",
       "      <td>2,624,531</td>\n",
       "      <td>60,103</td>\n",
       "      <td>14,991(70.52%)</td>\n",
       "      <td>5,020(23.61%)</td>\n",
       "      <td>9,952(46.82%)</td>\n",
       "      <td>1,428.44</td>\n",
       "      <td>Hum_PBMC_5</td>\n",
       "    </tr>\n",
       "    <tr>\n",
       "      <th>5</th>\n",
       "      <td>3,871</td>\n",
       "      <td>2,422</td>\n",
       "      <td>521(72.77%)</td>\n",
       "      <td>162(22.63%)</td>\n",
       "      <td>359(50.14%)</td>\n",
       "      <td>474.18</td>\n",
       "      <td>Hum_3T3_6</td>\n",
       "    </tr>\n",
       "    <tr>\n",
       "      <th>6</th>\n",
       "      <td>3,723,090</td>\n",
       "      <td>78,970</td>\n",
       "      <td>19,400(69.64%)</td>\n",
       "      <td>6,509(23.36%)</td>\n",
       "      <td>12,882(46.24%)</td>\n",
       "      <td>1,492.71</td>\n",
       "      <td>Hum_PBMC_7</td>\n",
       "    </tr>\n",
       "    <tr>\n",
       "      <th>7</th>\n",
       "      <td>3,459,405</td>\n",
       "      <td>70,034</td>\n",
       "      <td>18,097(69.81%)</td>\n",
       "      <td>6,179(23.84%)</td>\n",
       "      <td>11,871(45.79%)</td>\n",
       "      <td>1,359.42</td>\n",
       "      <td>Hum_PBMC_8</td>\n",
       "    </tr>\n",
       "  </tbody>\n",
       "</table>\n",
       "</div>"
      ],
      "text/plain": [
       "   Raw_Reads UMI_Counts UMIs_Mapped_Confidently_To_VJ_Gene UMIs_Mapped_To_TRA  \\\n",
       "0  3,267,154     70,981                     18,046(70.76%)       6,375(25.0%)   \n",
       "1  3,120,341     68,534                     16,847(70.14%)      5,826(24.26%)   \n",
       "2      3,180      1,901                        358(67.04%)        125(23.41%)   \n",
       "3  2,770,511     59,662                     14,853(70.57%)      5,117(24.31%)   \n",
       "4  2,624,531     60,103                     14,991(70.52%)      5,020(23.61%)   \n",
       "5      3,871      2,422                        521(72.77%)        162(22.63%)   \n",
       "6  3,723,090     78,970                     19,400(69.64%)      6,509(23.36%)   \n",
       "7  3,459,405     70,034                     18,097(69.81%)      6,179(23.84%)   \n",
       "\n",
       "  UMIs_Mapped_To_TRB Clonotype_Diversity      Sample  \n",
       "0     11,658(45.71%)            1,448.93  Hum_PBMC_1  \n",
       "1     11,015(45.86%)            1,422.92  Hum_PBMC_2  \n",
       "2        233(43.63%)              318.35   Hum_3T3_3  \n",
       "3      9,729(46.22%)            1,350.26  Hum_PBMC_4  \n",
       "4      9,952(46.82%)            1,428.44  Hum_PBMC_5  \n",
       "5        359(50.14%)              474.18   Hum_3T3_6  \n",
       "6     12,882(46.24%)            1,492.71  Hum_PBMC_7  \n",
       "7     11,871(45.79%)            1,359.42  Hum_PBMC_8  "
      ]
     },
     "execution_count": 36,
     "metadata": {},
     "output_type": "execute_result"
    }
   ],
   "source": [
    "# human tcr\n",
    "df = pd.read_csv(\"/SGRNJ06/randd/USER/cjj/celedev/vdj_bulk/20230727plot/8/8.csv\")\n",
    "df = df.dropna(axis=0)\n",
    "df"
   ]
  },
  {
   "cell_type": "code",
   "execution_count": 37,
   "id": "sacred-campus",
   "metadata": {},
   "outputs": [
    {
     "name": "stderr",
     "output_type": "stream",
     "text": [
      "/SGRNJ/Public/Software/conda_env/chenjunjie/lib/python3.7/site-packages/ipykernel_launcher.py:4: FutureWarning:\n",
      "\n",
      "The default value of regex will change from True to False in a future version. In addition, single character regular expressions will*not* be treated as literal strings when regex=True.\n",
      "\n",
      "/SGRNJ/Public/Software/conda_env/chenjunjie/lib/python3.7/site-packages/ipykernel_launcher.py:5: FutureWarning:\n",
      "\n",
      "The default value of regex will change from True to False in a future version. In addition, single character regular expressions will*not* be treated as literal strings when regex=True.\n",
      "\n",
      "/SGRNJ/Public/Software/conda_env/chenjunjie/lib/python3.7/site-packages/ipykernel_launcher.py:6: FutureWarning:\n",
      "\n",
      "The default value of regex will change from True to False in a future version. In addition, single character regular expressions will*not* be treated as literal strings when regex=True.\n",
      "\n"
     ]
    }
   ],
   "source": [
    "df[\"Raw_Reads\"] = df[\"Raw_Reads\"].str.replace(',','').astype(int)\n",
    "df[\"UMI_Counts\"] = df[\"UMI_Counts\"].str.replace(',','').astype(int)\n",
    "df[\"Clonotype_Diversity\"] = df[\"Clonotype_Diversity\"].astype(str).str.replace(',','').astype(float)\n",
    "df[\"UMIs_Mapped_Confidently_To_VJ_Gene\"] = df[\"UMIs_Mapped_Confidently_To_VJ_Gene\"].apply(lambda x: x.split('(')[-1]).str.replace(')','').str.replace(\"%\",'').astype(float)\n",
    "df[\"UMIs_Mapped_To_TRA\"] = df[\"UMIs_Mapped_To_TRA\"].apply(lambda x: x.split('(')[-1]).str.replace(')','').str.replace(\"%\",'').astype(float)\n",
    "df[\"UMIs_Mapped_To_TRB\"] = df[\"UMIs_Mapped_To_TRB\"].apply(lambda x: x.split('(')[-1]).str.replace(')','').str.replace(\"%\",'').astype(float)\n",
    "df[\"species\"] = \"TCR\"\n",
    "df[\"index\"] = df.index\n",
    "sample = \"Hum_PBMC\"\n",
    "OUT_PATH = \"/SGRNJ06/randd/USER/cjj/celedev/vdj_bulk/20230727plot/8\""
   ]
  },
  {
   "cell_type": "code",
   "execution_count": 38,
   "id": "varied-keeping",
   "metadata": {},
   "outputs": [
    {
     "data": {
      "text/html": [
       "<div>\n",
       "<style scoped>\n",
       "    .dataframe tbody tr th:only-of-type {\n",
       "        vertical-align: middle;\n",
       "    }\n",
       "\n",
       "    .dataframe tbody tr th {\n",
       "        vertical-align: top;\n",
       "    }\n",
       "\n",
       "    .dataframe thead th {\n",
       "        text-align: right;\n",
       "    }\n",
       "</style>\n",
       "<table border=\"1\" class=\"dataframe\">\n",
       "  <thead>\n",
       "    <tr style=\"text-align: right;\">\n",
       "      <th></th>\n",
       "      <th>Raw_Reads</th>\n",
       "      <th>UMI_Counts</th>\n",
       "      <th>UMIs_Mapped_Confidently_To_VJ_Gene</th>\n",
       "      <th>UMIs_Mapped_To_TRA</th>\n",
       "      <th>UMIs_Mapped_To_TRB</th>\n",
       "      <th>Clonotype_Diversity</th>\n",
       "      <th>Sample</th>\n",
       "      <th>species</th>\n",
       "      <th>index</th>\n",
       "    </tr>\n",
       "  </thead>\n",
       "  <tbody>\n",
       "    <tr>\n",
       "      <th>0</th>\n",
       "      <td>3267154</td>\n",
       "      <td>70981</td>\n",
       "      <td>70.76</td>\n",
       "      <td>25.00</td>\n",
       "      <td>45.71</td>\n",
       "      <td>1448.93</td>\n",
       "      <td>Hum_PBMC_1</td>\n",
       "      <td>TCR</td>\n",
       "      <td>0</td>\n",
       "    </tr>\n",
       "    <tr>\n",
       "      <th>1</th>\n",
       "      <td>3120341</td>\n",
       "      <td>68534</td>\n",
       "      <td>70.14</td>\n",
       "      <td>24.26</td>\n",
       "      <td>45.86</td>\n",
       "      <td>1422.92</td>\n",
       "      <td>Hum_PBMC_2</td>\n",
       "      <td>TCR</td>\n",
       "      <td>1</td>\n",
       "    </tr>\n",
       "    <tr>\n",
       "      <th>2</th>\n",
       "      <td>3180</td>\n",
       "      <td>1901</td>\n",
       "      <td>67.04</td>\n",
       "      <td>23.41</td>\n",
       "      <td>43.63</td>\n",
       "      <td>318.35</td>\n",
       "      <td>Hum_3T3_3</td>\n",
       "      <td>TCR</td>\n",
       "      <td>2</td>\n",
       "    </tr>\n",
       "    <tr>\n",
       "      <th>3</th>\n",
       "      <td>2770511</td>\n",
       "      <td>59662</td>\n",
       "      <td>70.57</td>\n",
       "      <td>24.31</td>\n",
       "      <td>46.22</td>\n",
       "      <td>1350.26</td>\n",
       "      <td>Hum_PBMC_4</td>\n",
       "      <td>TCR</td>\n",
       "      <td>3</td>\n",
       "    </tr>\n",
       "    <tr>\n",
       "      <th>4</th>\n",
       "      <td>2624531</td>\n",
       "      <td>60103</td>\n",
       "      <td>70.52</td>\n",
       "      <td>23.61</td>\n",
       "      <td>46.82</td>\n",
       "      <td>1428.44</td>\n",
       "      <td>Hum_PBMC_5</td>\n",
       "      <td>TCR</td>\n",
       "      <td>4</td>\n",
       "    </tr>\n",
       "    <tr>\n",
       "      <th>5</th>\n",
       "      <td>3871</td>\n",
       "      <td>2422</td>\n",
       "      <td>72.77</td>\n",
       "      <td>22.63</td>\n",
       "      <td>50.14</td>\n",
       "      <td>474.18</td>\n",
       "      <td>Hum_3T3_6</td>\n",
       "      <td>TCR</td>\n",
       "      <td>5</td>\n",
       "    </tr>\n",
       "    <tr>\n",
       "      <th>6</th>\n",
       "      <td>3723090</td>\n",
       "      <td>78970</td>\n",
       "      <td>69.64</td>\n",
       "      <td>23.36</td>\n",
       "      <td>46.24</td>\n",
       "      <td>1492.71</td>\n",
       "      <td>Hum_PBMC_7</td>\n",
       "      <td>TCR</td>\n",
       "      <td>6</td>\n",
       "    </tr>\n",
       "    <tr>\n",
       "      <th>7</th>\n",
       "      <td>3459405</td>\n",
       "      <td>70034</td>\n",
       "      <td>69.81</td>\n",
       "      <td>23.84</td>\n",
       "      <td>45.79</td>\n",
       "      <td>1359.42</td>\n",
       "      <td>Hum_PBMC_8</td>\n",
       "      <td>TCR</td>\n",
       "      <td>7</td>\n",
       "    </tr>\n",
       "  </tbody>\n",
       "</table>\n",
       "</div>"
      ],
      "text/plain": [
       "   Raw_Reads  UMI_Counts  UMIs_Mapped_Confidently_To_VJ_Gene  \\\n",
       "0    3267154       70981                               70.76   \n",
       "1    3120341       68534                               70.14   \n",
       "2       3180        1901                               67.04   \n",
       "3    2770511       59662                               70.57   \n",
       "4    2624531       60103                               70.52   \n",
       "5       3871        2422                               72.77   \n",
       "6    3723090       78970                               69.64   \n",
       "7    3459405       70034                               69.81   \n",
       "\n",
       "   UMIs_Mapped_To_TRA  UMIs_Mapped_To_TRB  Clonotype_Diversity      Sample  \\\n",
       "0               25.00               45.71              1448.93  Hum_PBMC_1   \n",
       "1               24.26               45.86              1422.92  Hum_PBMC_2   \n",
       "2               23.41               43.63               318.35   Hum_3T3_3   \n",
       "3               24.31               46.22              1350.26  Hum_PBMC_4   \n",
       "4               23.61               46.82              1428.44  Hum_PBMC_5   \n",
       "5               22.63               50.14               474.18   Hum_3T3_6   \n",
       "6               23.36               46.24              1492.71  Hum_PBMC_7   \n",
       "7               23.84               45.79              1359.42  Hum_PBMC_8   \n",
       "\n",
       "  species  index  \n",
       "0     TCR      0  \n",
       "1     TCR      1  \n",
       "2     TCR      2  \n",
       "3     TCR      3  \n",
       "4     TCR      4  \n",
       "5     TCR      5  \n",
       "6     TCR      6  \n",
       "7     TCR      7  "
      ]
     },
     "execution_count": 38,
     "metadata": {},
     "output_type": "execute_result"
    }
   ],
   "source": [
    "df"
   ]
  },
  {
   "cell_type": "code",
   "execution_count": 39,
   "id": "literary-vulnerability",
   "metadata": {},
   "outputs": [
    {
     "data": {
      "application/vnd.plotly.v1+json": {
       "config": {
        "plotlyServerURL": "https://plot.ly"
       },
       "data": [
        {
         "hovertemplate": "Sample=Hum_PBMC_1<br>Raw_Reads=%{x}<br>UMI_Counts=%{y}<extra></extra>",
         "legendgroup": "Hum_PBMC_1",
         "marker": {
          "color": "#636efa",
          "size": 40,
          "symbol": "circle"
         },
         "mode": "markers",
         "name": "Hum_PBMC_1",
         "orientation": "v",
         "showlegend": true,
         "type": "scatter",
         "x": [
          3267154
         ],
         "xaxis": "x",
         "y": [
          70981
         ],
         "yaxis": "y"
        },
        {
         "hovertemplate": "Sample=Hum_PBMC_2<br>Raw_Reads=%{x}<br>UMI_Counts=%{y}<extra></extra>",
         "legendgroup": "Hum_PBMC_2",
         "marker": {
          "color": "#EF553B",
          "size": 40,
          "symbol": "circle"
         },
         "mode": "markers",
         "name": "Hum_PBMC_2",
         "orientation": "v",
         "showlegend": true,
         "type": "scatter",
         "x": [
          3120341
         ],
         "xaxis": "x",
         "y": [
          68534
         ],
         "yaxis": "y"
        },
        {
         "hovertemplate": "Sample=Hum_3T3_3<br>Raw_Reads=%{x}<br>UMI_Counts=%{y}<extra></extra>",
         "legendgroup": "Hum_3T3_3",
         "marker": {
          "color": "#00cc96",
          "size": 40,
          "symbol": "circle"
         },
         "mode": "markers",
         "name": "Hum_3T3_3",
         "orientation": "v",
         "showlegend": true,
         "type": "scatter",
         "x": [
          3180
         ],
         "xaxis": "x",
         "y": [
          1901
         ],
         "yaxis": "y"
        },
        {
         "hovertemplate": "Sample=Hum_PBMC_4<br>Raw_Reads=%{x}<br>UMI_Counts=%{y}<extra></extra>",
         "legendgroup": "Hum_PBMC_4",
         "marker": {
          "color": "#ab63fa",
          "size": 40,
          "symbol": "circle"
         },
         "mode": "markers",
         "name": "Hum_PBMC_4",
         "orientation": "v",
         "showlegend": true,
         "type": "scatter",
         "x": [
          2770511
         ],
         "xaxis": "x",
         "y": [
          59662
         ],
         "yaxis": "y"
        },
        {
         "hovertemplate": "Sample=Hum_PBMC_5<br>Raw_Reads=%{x}<br>UMI_Counts=%{y}<extra></extra>",
         "legendgroup": "Hum_PBMC_5",
         "marker": {
          "color": "#FFA15A",
          "size": 40,
          "symbol": "circle"
         },
         "mode": "markers",
         "name": "Hum_PBMC_5",
         "orientation": "v",
         "showlegend": true,
         "type": "scatter",
         "x": [
          2624531
         ],
         "xaxis": "x",
         "y": [
          60103
         ],
         "yaxis": "y"
        },
        {
         "hovertemplate": "Sample=Hum_3T3_6<br>Raw_Reads=%{x}<br>UMI_Counts=%{y}<extra></extra>",
         "legendgroup": "Hum_3T3_6",
         "marker": {
          "color": "#19d3f3",
          "size": 40,
          "symbol": "circle"
         },
         "mode": "markers",
         "name": "Hum_3T3_6",
         "orientation": "v",
         "showlegend": true,
         "type": "scatter",
         "x": [
          3871
         ],
         "xaxis": "x",
         "y": [
          2422
         ],
         "yaxis": "y"
        },
        {
         "hovertemplate": "Sample=Hum_PBMC_7<br>Raw_Reads=%{x}<br>UMI_Counts=%{y}<extra></extra>",
         "legendgroup": "Hum_PBMC_7",
         "marker": {
          "color": "#FF6692",
          "size": 40,
          "symbol": "circle"
         },
         "mode": "markers",
         "name": "Hum_PBMC_7",
         "orientation": "v",
         "showlegend": true,
         "type": "scatter",
         "x": [
          3723090
         ],
         "xaxis": "x",
         "y": [
          78970
         ],
         "yaxis": "y"
        },
        {
         "hovertemplate": "Sample=Hum_PBMC_8<br>Raw_Reads=%{x}<br>UMI_Counts=%{y}<extra></extra>",
         "legendgroup": "Hum_PBMC_8",
         "marker": {
          "color": "#B6E880",
          "size": 40,
          "symbol": "circle"
         },
         "mode": "markers",
         "name": "Hum_PBMC_8",
         "orientation": "v",
         "showlegend": true,
         "type": "scatter",
         "x": [
          3459405
         ],
         "xaxis": "x",
         "y": [
          70034
         ],
         "yaxis": "y"
        }
       ],
       "layout": {
        "font": {
         "color": "Black",
         "size": 18
        },
        "height": 1024,
        "legend": {
         "title": {
          "text": "Sample"
         },
         "tracegroupgap": 0
        },
        "margin": {
         "t": 60
        },
        "template": {
         "data": {
          "bar": [
           {
            "error_x": {
             "color": "#2a3f5f"
            },
            "error_y": {
             "color": "#2a3f5f"
            },
            "marker": {
             "line": {
              "color": "#E5ECF6",
              "width": 0.5
             },
             "pattern": {
              "fillmode": "overlay",
              "size": 10,
              "solidity": 0.2
             }
            },
            "type": "bar"
           }
          ],
          "barpolar": [
           {
            "marker": {
             "line": {
              "color": "#E5ECF6",
              "width": 0.5
             },
             "pattern": {
              "fillmode": "overlay",
              "size": 10,
              "solidity": 0.2
             }
            },
            "type": "barpolar"
           }
          ],
          "carpet": [
           {
            "aaxis": {
             "endlinecolor": "#2a3f5f",
             "gridcolor": "white",
             "linecolor": "white",
             "minorgridcolor": "white",
             "startlinecolor": "#2a3f5f"
            },
            "baxis": {
             "endlinecolor": "#2a3f5f",
             "gridcolor": "white",
             "linecolor": "white",
             "minorgridcolor": "white",
             "startlinecolor": "#2a3f5f"
            },
            "type": "carpet"
           }
          ],
          "choropleth": [
           {
            "colorbar": {
             "outlinewidth": 0,
             "ticks": ""
            },
            "type": "choropleth"
           }
          ],
          "contour": [
           {
            "colorbar": {
             "outlinewidth": 0,
             "ticks": ""
            },
            "colorscale": [
             [
              0,
              "#0d0887"
             ],
             [
              0.1111111111111111,
              "#46039f"
             ],
             [
              0.2222222222222222,
              "#7201a8"
             ],
             [
              0.3333333333333333,
              "#9c179e"
             ],
             [
              0.4444444444444444,
              "#bd3786"
             ],
             [
              0.5555555555555556,
              "#d8576b"
             ],
             [
              0.6666666666666666,
              "#ed7953"
             ],
             [
              0.7777777777777778,
              "#fb9f3a"
             ],
             [
              0.8888888888888888,
              "#fdca26"
             ],
             [
              1,
              "#f0f921"
             ]
            ],
            "type": "contour"
           }
          ],
          "contourcarpet": [
           {
            "colorbar": {
             "outlinewidth": 0,
             "ticks": ""
            },
            "type": "contourcarpet"
           }
          ],
          "heatmap": [
           {
            "colorbar": {
             "outlinewidth": 0,
             "ticks": ""
            },
            "colorscale": [
             [
              0,
              "#0d0887"
             ],
             [
              0.1111111111111111,
              "#46039f"
             ],
             [
              0.2222222222222222,
              "#7201a8"
             ],
             [
              0.3333333333333333,
              "#9c179e"
             ],
             [
              0.4444444444444444,
              "#bd3786"
             ],
             [
              0.5555555555555556,
              "#d8576b"
             ],
             [
              0.6666666666666666,
              "#ed7953"
             ],
             [
              0.7777777777777778,
              "#fb9f3a"
             ],
             [
              0.8888888888888888,
              "#fdca26"
             ],
             [
              1,
              "#f0f921"
             ]
            ],
            "type": "heatmap"
           }
          ],
          "heatmapgl": [
           {
            "colorbar": {
             "outlinewidth": 0,
             "ticks": ""
            },
            "colorscale": [
             [
              0,
              "#0d0887"
             ],
             [
              0.1111111111111111,
              "#46039f"
             ],
             [
              0.2222222222222222,
              "#7201a8"
             ],
             [
              0.3333333333333333,
              "#9c179e"
             ],
             [
              0.4444444444444444,
              "#bd3786"
             ],
             [
              0.5555555555555556,
              "#d8576b"
             ],
             [
              0.6666666666666666,
              "#ed7953"
             ],
             [
              0.7777777777777778,
              "#fb9f3a"
             ],
             [
              0.8888888888888888,
              "#fdca26"
             ],
             [
              1,
              "#f0f921"
             ]
            ],
            "type": "heatmapgl"
           }
          ],
          "histogram": [
           {
            "marker": {
             "pattern": {
              "fillmode": "overlay",
              "size": 10,
              "solidity": 0.2
             }
            },
            "type": "histogram"
           }
          ],
          "histogram2d": [
           {
            "colorbar": {
             "outlinewidth": 0,
             "ticks": ""
            },
            "colorscale": [
             [
              0,
              "#0d0887"
             ],
             [
              0.1111111111111111,
              "#46039f"
             ],
             [
              0.2222222222222222,
              "#7201a8"
             ],
             [
              0.3333333333333333,
              "#9c179e"
             ],
             [
              0.4444444444444444,
              "#bd3786"
             ],
             [
              0.5555555555555556,
              "#d8576b"
             ],
             [
              0.6666666666666666,
              "#ed7953"
             ],
             [
              0.7777777777777778,
              "#fb9f3a"
             ],
             [
              0.8888888888888888,
              "#fdca26"
             ],
             [
              1,
              "#f0f921"
             ]
            ],
            "type": "histogram2d"
           }
          ],
          "histogram2dcontour": [
           {
            "colorbar": {
             "outlinewidth": 0,
             "ticks": ""
            },
            "colorscale": [
             [
              0,
              "#0d0887"
             ],
             [
              0.1111111111111111,
              "#46039f"
             ],
             [
              0.2222222222222222,
              "#7201a8"
             ],
             [
              0.3333333333333333,
              "#9c179e"
             ],
             [
              0.4444444444444444,
              "#bd3786"
             ],
             [
              0.5555555555555556,
              "#d8576b"
             ],
             [
              0.6666666666666666,
              "#ed7953"
             ],
             [
              0.7777777777777778,
              "#fb9f3a"
             ],
             [
              0.8888888888888888,
              "#fdca26"
             ],
             [
              1,
              "#f0f921"
             ]
            ],
            "type": "histogram2dcontour"
           }
          ],
          "mesh3d": [
           {
            "colorbar": {
             "outlinewidth": 0,
             "ticks": ""
            },
            "type": "mesh3d"
           }
          ],
          "parcoords": [
           {
            "line": {
             "colorbar": {
              "outlinewidth": 0,
              "ticks": ""
             }
            },
            "type": "parcoords"
           }
          ],
          "pie": [
           {
            "automargin": true,
            "type": "pie"
           }
          ],
          "scatter": [
           {
            "fillpattern": {
             "fillmode": "overlay",
             "size": 10,
             "solidity": 0.2
            },
            "type": "scatter"
           }
          ],
          "scatter3d": [
           {
            "line": {
             "colorbar": {
              "outlinewidth": 0,
              "ticks": ""
             }
            },
            "marker": {
             "colorbar": {
              "outlinewidth": 0,
              "ticks": ""
             }
            },
            "type": "scatter3d"
           }
          ],
          "scattercarpet": [
           {
            "marker": {
             "colorbar": {
              "outlinewidth": 0,
              "ticks": ""
             }
            },
            "type": "scattercarpet"
           }
          ],
          "scattergeo": [
           {
            "marker": {
             "colorbar": {
              "outlinewidth": 0,
              "ticks": ""
             }
            },
            "type": "scattergeo"
           }
          ],
          "scattergl": [
           {
            "marker": {
             "colorbar": {
              "outlinewidth": 0,
              "ticks": ""
             }
            },
            "type": "scattergl"
           }
          ],
          "scattermapbox": [
           {
            "marker": {
             "colorbar": {
              "outlinewidth": 0,
              "ticks": ""
             }
            },
            "type": "scattermapbox"
           }
          ],
          "scatterpolar": [
           {
            "marker": {
             "colorbar": {
              "outlinewidth": 0,
              "ticks": ""
             }
            },
            "type": "scatterpolar"
           }
          ],
          "scatterpolargl": [
           {
            "marker": {
             "colorbar": {
              "outlinewidth": 0,
              "ticks": ""
             }
            },
            "type": "scatterpolargl"
           }
          ],
          "scatterternary": [
           {
            "marker": {
             "colorbar": {
              "outlinewidth": 0,
              "ticks": ""
             }
            },
            "type": "scatterternary"
           }
          ],
          "surface": [
           {
            "colorbar": {
             "outlinewidth": 0,
             "ticks": ""
            },
            "colorscale": [
             [
              0,
              "#0d0887"
             ],
             [
              0.1111111111111111,
              "#46039f"
             ],
             [
              0.2222222222222222,
              "#7201a8"
             ],
             [
              0.3333333333333333,
              "#9c179e"
             ],
             [
              0.4444444444444444,
              "#bd3786"
             ],
             [
              0.5555555555555556,
              "#d8576b"
             ],
             [
              0.6666666666666666,
              "#ed7953"
             ],
             [
              0.7777777777777778,
              "#fb9f3a"
             ],
             [
              0.8888888888888888,
              "#fdca26"
             ],
             [
              1,
              "#f0f921"
             ]
            ],
            "type": "surface"
           }
          ],
          "table": [
           {
            "cells": {
             "fill": {
              "color": "#EBF0F8"
             },
             "line": {
              "color": "white"
             }
            },
            "header": {
             "fill": {
              "color": "#C8D4E3"
             },
             "line": {
              "color": "white"
             }
            },
            "type": "table"
           }
          ]
         },
         "layout": {
          "annotationdefaults": {
           "arrowcolor": "#2a3f5f",
           "arrowhead": 0,
           "arrowwidth": 1
          },
          "autotypenumbers": "strict",
          "coloraxis": {
           "colorbar": {
            "outlinewidth": 0,
            "ticks": ""
           }
          },
          "colorscale": {
           "diverging": [
            [
             0,
             "#8e0152"
            ],
            [
             0.1,
             "#c51b7d"
            ],
            [
             0.2,
             "#de77ae"
            ],
            [
             0.3,
             "#f1b6da"
            ],
            [
             0.4,
             "#fde0ef"
            ],
            [
             0.5,
             "#f7f7f7"
            ],
            [
             0.6,
             "#e6f5d0"
            ],
            [
             0.7,
             "#b8e186"
            ],
            [
             0.8,
             "#7fbc41"
            ],
            [
             0.9,
             "#4d9221"
            ],
            [
             1,
             "#276419"
            ]
           ],
           "sequential": [
            [
             0,
             "#0d0887"
            ],
            [
             0.1111111111111111,
             "#46039f"
            ],
            [
             0.2222222222222222,
             "#7201a8"
            ],
            [
             0.3333333333333333,
             "#9c179e"
            ],
            [
             0.4444444444444444,
             "#bd3786"
            ],
            [
             0.5555555555555556,
             "#d8576b"
            ],
            [
             0.6666666666666666,
             "#ed7953"
            ],
            [
             0.7777777777777778,
             "#fb9f3a"
            ],
            [
             0.8888888888888888,
             "#fdca26"
            ],
            [
             1,
             "#f0f921"
            ]
           ],
           "sequentialminus": [
            [
             0,
             "#0d0887"
            ],
            [
             0.1111111111111111,
             "#46039f"
            ],
            [
             0.2222222222222222,
             "#7201a8"
            ],
            [
             0.3333333333333333,
             "#9c179e"
            ],
            [
             0.4444444444444444,
             "#bd3786"
            ],
            [
             0.5555555555555556,
             "#d8576b"
            ],
            [
             0.6666666666666666,
             "#ed7953"
            ],
            [
             0.7777777777777778,
             "#fb9f3a"
            ],
            [
             0.8888888888888888,
             "#fdca26"
            ],
            [
             1,
             "#f0f921"
            ]
           ]
          },
          "colorway": [
           "#636efa",
           "#EF553B",
           "#00cc96",
           "#ab63fa",
           "#FFA15A",
           "#19d3f3",
           "#FF6692",
           "#B6E880",
           "#FF97FF",
           "#FECB52"
          ],
          "font": {
           "color": "#2a3f5f"
          },
          "geo": {
           "bgcolor": "white",
           "lakecolor": "white",
           "landcolor": "#E5ECF6",
           "showlakes": true,
           "showland": true,
           "subunitcolor": "white"
          },
          "hoverlabel": {
           "align": "left"
          },
          "hovermode": "closest",
          "mapbox": {
           "style": "light"
          },
          "paper_bgcolor": "white",
          "plot_bgcolor": "#E5ECF6",
          "polar": {
           "angularaxis": {
            "gridcolor": "white",
            "linecolor": "white",
            "ticks": ""
           },
           "bgcolor": "#E5ECF6",
           "radialaxis": {
            "gridcolor": "white",
            "linecolor": "white",
            "ticks": ""
           }
          },
          "scene": {
           "xaxis": {
            "backgroundcolor": "#E5ECF6",
            "gridcolor": "white",
            "gridwidth": 2,
            "linecolor": "white",
            "showbackground": true,
            "ticks": "",
            "zerolinecolor": "white"
           },
           "yaxis": {
            "backgroundcolor": "#E5ECF6",
            "gridcolor": "white",
            "gridwidth": 2,
            "linecolor": "white",
            "showbackground": true,
            "ticks": "",
            "zerolinecolor": "white"
           },
           "zaxis": {
            "backgroundcolor": "#E5ECF6",
            "gridcolor": "white",
            "gridwidth": 2,
            "linecolor": "white",
            "showbackground": true,
            "ticks": "",
            "zerolinecolor": "white"
           }
          },
          "shapedefaults": {
           "line": {
            "color": "#2a3f5f"
           }
          },
          "ternary": {
           "aaxis": {
            "gridcolor": "white",
            "linecolor": "white",
            "ticks": ""
           },
           "baxis": {
            "gridcolor": "white",
            "linecolor": "white",
            "ticks": ""
           },
           "bgcolor": "#E5ECF6",
           "caxis": {
            "gridcolor": "white",
            "linecolor": "white",
            "ticks": ""
           }
          },
          "title": {
           "x": 0.05
          },
          "xaxis": {
           "automargin": true,
           "gridcolor": "white",
           "linecolor": "white",
           "ticks": "",
           "title": {
            "standoff": 15
           },
           "zerolinecolor": "white",
           "zerolinewidth": 2
          },
          "yaxis": {
           "automargin": true,
           "gridcolor": "white",
           "linecolor": "white",
           "ticks": "",
           "title": {
            "standoff": 15
           },
           "zerolinecolor": "white",
           "zerolinewidth": 2
          }
         }
        },
        "title": {
         "text": "Hum_PBMC (Correlation=0.998)",
         "x": 0.5,
         "xanchor": "center",
         "y": 0.98,
         "yanchor": "top"
        },
        "width": 1680,
        "xaxis": {
         "anchor": "y",
         "autorange": false,
         "domain": [
          0,
          1
         ],
         "range": [
          25836267.750563286,
          30141963.461153287
         ],
         "title": {
          "text": "Mean Raw_Reads"
         },
         "type": "linear"
        },
        "yaxis": {
         "anchor": "x",
         "autorange": true,
         "domain": [
          0,
          1
         ],
         "range": [
          -5251.863197424894,
          86122.8631974249
         ],
         "title": {
          "text": "Mean UMI_Counts"
         },
         "type": "linear"
        }
       }
      },
      "image/png": "[encoded data removed]",
      "text/html": [
       "<div>                            <div id=\"4cbc91a5-ab8b-4146-a8e9-7cf7fdb955d6\" class=\"plotly-graph-div\" style=\"height:1024px; width:1680px;\"></div>            <script type=\"text/javascript\">                require([\"plotly\"], function(Plotly) {                    window.PLOTLYENV=window.PLOTLYENV || {};                                    if (document.getElementById(\"4cbc91a5-ab8b-4146-a8e9-7cf7fdb955d6\")) {                    Plotly.newPlot(                        \"4cbc91a5-ab8b-4146-a8e9-7cf7fdb955d6\",                        [{\"hovertemplate\":\"Sample=Hum_PBMC_1<br>Raw_Reads=%{x}<br>UMI_Counts=%{y}<extra></extra>\",\"legendgroup\":\"Hum_PBMC_1\",\"marker\":{\"color\":\"#636efa\",\"symbol\":\"circle\",\"size\":40},\"mode\":\"markers\",\"name\":\"Hum_PBMC_1\",\"orientation\":\"v\",\"showlegend\":true,\"x\":[3267154],\"xaxis\":\"x\",\"y\":[70981],\"yaxis\":\"y\",\"type\":\"scatter\"},{\"hovertemplate\":\"Sample=Hum_PBMC_2<br>Raw_Reads=%{x}<br>UMI_Counts=%{y}<extra></extra>\",\"legendgroup\":\"Hum_PBMC_2\",\"marker\":{\"color\":\"#EF553B\",\"symbol\":\"circle\",\"size\":40},\"mode\":\"markers\",\"name\":\"Hum_PBMC_2\",\"orientation\":\"v\",\"showlegend\":true,\"x\":[3120341],\"xaxis\":\"x\",\"y\":[68534],\"yaxis\":\"y\",\"type\":\"scatter\"},{\"hovertemplate\":\"Sample=Hum_3T3_3<br>Raw_Reads=%{x}<br>UMI_Counts=%{y}<extra></extra>\",\"legendgroup\":\"Hum_3T3_3\",\"marker\":{\"color\":\"#00cc96\",\"symbol\":\"circle\",\"size\":40},\"mode\":\"markers\",\"name\":\"Hum_3T3_3\",\"orientation\":\"v\",\"showlegend\":true,\"x\":[3180],\"xaxis\":\"x\",\"y\":[1901],\"yaxis\":\"y\",\"type\":\"scatter\"},{\"hovertemplate\":\"Sample=Hum_PBMC_4<br>Raw_Reads=%{x}<br>UMI_Counts=%{y}<extra></extra>\",\"legendgroup\":\"Hum_PBMC_4\",\"marker\":{\"color\":\"#ab63fa\",\"symbol\":\"circle\",\"size\":40},\"mode\":\"markers\",\"name\":\"Hum_PBMC_4\",\"orientation\":\"v\",\"showlegend\":true,\"x\":[2770511],\"xaxis\":\"x\",\"y\":[59662],\"yaxis\":\"y\",\"type\":\"scatter\"},{\"hovertemplate\":\"Sample=Hum_PBMC_5<br>Raw_Reads=%{x}<br>UMI_Counts=%{y}<extra></extra>\",\"legendgroup\":\"Hum_PBMC_5\",\"marker\":{\"color\":\"#FFA15A\",\"symbol\":\"circle\",\"size\":40},\"mode\":\"markers\",\"name\":\"Hum_PBMC_5\",\"orientation\":\"v\",\"showlegend\":true,\"x\":[2624531],\"xaxis\":\"x\",\"y\":[60103],\"yaxis\":\"y\",\"type\":\"scatter\"},{\"hovertemplate\":\"Sample=Hum_3T3_6<br>Raw_Reads=%{x}<br>UMI_Counts=%{y}<extra></extra>\",\"legendgroup\":\"Hum_3T3_6\",\"marker\":{\"color\":\"#19d3f3\",\"symbol\":\"circle\",\"size\":40},\"mode\":\"markers\",\"name\":\"Hum_3T3_6\",\"orientation\":\"v\",\"showlegend\":true,\"x\":[3871],\"xaxis\":\"x\",\"y\":[2422],\"yaxis\":\"y\",\"type\":\"scatter\"},{\"hovertemplate\":\"Sample=Hum_PBMC_7<br>Raw_Reads=%{x}<br>UMI_Counts=%{y}<extra></extra>\",\"legendgroup\":\"Hum_PBMC_7\",\"marker\":{\"color\":\"#FF6692\",\"symbol\":\"circle\",\"size\":40},\"mode\":\"markers\",\"name\":\"Hum_PBMC_7\",\"orientation\":\"v\",\"showlegend\":true,\"x\":[3723090],\"xaxis\":\"x\",\"y\":[78970],\"yaxis\":\"y\",\"type\":\"scatter\"},{\"hovertemplate\":\"Sample=Hum_PBMC_8<br>Raw_Reads=%{x}<br>UMI_Counts=%{y}<extra></extra>\",\"legendgroup\":\"Hum_PBMC_8\",\"marker\":{\"color\":\"#B6E880\",\"symbol\":\"circle\",\"size\":40},\"mode\":\"markers\",\"name\":\"Hum_PBMC_8\",\"orientation\":\"v\",\"showlegend\":true,\"x\":[3459405],\"xaxis\":\"x\",\"y\":[70034],\"yaxis\":\"y\",\"type\":\"scatter\"}],                        {\"template\":{\"data\":{\"histogram2dcontour\":[{\"type\":\"histogram2dcontour\",\"colorbar\":{\"outlinewidth\":0,\"ticks\":\"\"},\"colorscale\":[[0.0,\"#0d0887\"],[0.1111111111111111,\"#46039f\"],[0.2222222222222222,\"#7201a8\"],[0.3333333333333333,\"#9c179e\"],[0.4444444444444444,\"#bd3786\"],[0.5555555555555556,\"#d8576b\"],[0.6666666666666666,\"#ed7953\"],[0.7777777777777778,\"#fb9f3a\"],[0.8888888888888888,\"#fdca26\"],[1.0,\"#f0f921\"]]}],\"choropleth\":[{\"type\":\"choropleth\",\"colorbar\":{\"outlinewidth\":0,\"ticks\":\"\"}}],\"histogram2d\":[{\"type\":\"histogram2d\",\"colorbar\":{\"outlinewidth\":0,\"ticks\":\"\"},\"colorscale\":[[0.0,\"#0d0887\"],[0.1111111111111111,\"#46039f\"],[0.2222222222222222,\"#7201a8\"],[0.3333333333333333,\"#9c179e\"],[0.4444444444444444,\"#bd3786\"],[0.5555555555555556,\"#d8576b\"],[0.6666666666666666,\"#ed7953\"],[0.7777777777777778,\"#fb9f3a\"],[0.8888888888888888,\"#fdca26\"],[1.0,\"#f0f921\"]]}],\"heatmap\":[{\"type\":\"heatmap\",\"colorbar\":{\"outlinewidth\":0,\"ticks\":\"\"},\"colorscale\":[[0.0,\"#0d0887\"],[0.1111111111111111,\"#46039f\"],[0.2222222222222222,\"#7201a8\"],[0.3333333333333333,\"#9c179e\"],[0.4444444444444444,\"#bd3786\"],[0.5555555555555556,\"#d8576b\"],[0.6666666666666666,\"#ed7953\"],[0.7777777777777778,\"#fb9f3a\"],[0.8888888888888888,\"#fdca26\"],[1.0,\"#f0f921\"]]}],\"heatmapgl\":[{\"type\":\"heatmapgl\",\"colorbar\":{\"outlinewidth\":0,\"ticks\":\"\"},\"colorscale\":[[0.0,\"#0d0887\"],[0.1111111111111111,\"#46039f\"],[0.2222222222222222,\"#7201a8\"],[0.3333333333333333,\"#9c179e\"],[0.4444444444444444,\"#bd3786\"],[0.5555555555555556,\"#d8576b\"],[0.6666666666666666,\"#ed7953\"],[0.7777777777777778,\"#fb9f3a\"],[0.8888888888888888,\"#fdca26\"],[1.0,\"#f0f921\"]]}],\"contourcarpet\":[{\"type\":\"contourcarpet\",\"colorbar\":{\"outlinewidth\":0,\"ticks\":\"\"}}],\"contour\":[{\"type\":\"contour\",\"colorbar\":{\"outlinewidth\":0,\"ticks\":\"\"},\"colorscale\":[[0.0,\"#0d0887\"],[0.1111111111111111,\"#46039f\"],[0.2222222222222222,\"#7201a8\"],[0.3333333333333333,\"#9c179e\"],[0.4444444444444444,\"#bd3786\"],[0.5555555555555556,\"#d8576b\"],[0.6666666666666666,\"#ed7953\"],[0.7777777777777778,\"#fb9f3a\"],[0.8888888888888888,\"#fdca26\"],[1.0,\"#f0f921\"]]}],\"surface\":[{\"type\":\"surface\",\"colorbar\":{\"outlinewidth\":0,\"ticks\":\"\"},\"colorscale\":[[0.0,\"#0d0887\"],[0.1111111111111111,\"#46039f\"],[0.2222222222222222,\"#7201a8\"],[0.3333333333333333,\"#9c179e\"],[0.4444444444444444,\"#bd3786\"],[0.5555555555555556,\"#d8576b\"],[0.6666666666666666,\"#ed7953\"],[0.7777777777777778,\"#fb9f3a\"],[0.8888888888888888,\"#fdca26\"],[1.0,\"#f0f921\"]]}],\"mesh3d\":[{\"type\":\"mesh3d\",\"colorbar\":{\"outlinewidth\":0,\"ticks\":\"\"}}],\"scatter\":[{\"fillpattern\":{\"fillmode\":\"overlay\",\"size\":10,\"solidity\":0.2},\"type\":\"scatter\"}],\"parcoords\":[{\"type\":\"parcoords\",\"line\":{\"colorbar\":{\"outlinewidth\":0,\"ticks\":\"\"}}}],\"scatterpolargl\":[{\"type\":\"scatterpolargl\",\"marker\":{\"colorbar\":{\"outlinewidth\":0,\"ticks\":\"\"}}}],\"bar\":[{\"error_x\":{\"color\":\"#2a3f5f\"},\"error_y\":{\"color\":\"#2a3f5f\"},\"marker\":{\"line\":{\"color\":\"#E5ECF6\",\"width\":0.5},\"pattern\":{\"fillmode\":\"overlay\",\"size\":10,\"solidity\":0.2}},\"type\":\"bar\"}],\"scattergeo\":[{\"type\":\"scattergeo\",\"marker\":{\"colorbar\":{\"outlinewidth\":0,\"ticks\":\"\"}}}],\"scatterpolar\":[{\"type\":\"scatterpolar\",\"marker\":{\"colorbar\":{\"outlinewidth\":0,\"ticks\":\"\"}}}],\"histogram\":[{\"marker\":{\"pattern\":{\"fillmode\":\"overlay\",\"size\":10,\"solidity\":0.2}},\"type\":\"histogram\"}],\"scattergl\":[{\"type\":\"scattergl\",\"marker\":{\"colorbar\":{\"outlinewidth\":0,\"ticks\":\"\"}}}],\"scatter3d\":[{\"type\":\"scatter3d\",\"line\":{\"colorbar\":{\"outlinewidth\":0,\"ticks\":\"\"}},\"marker\":{\"colorbar\":{\"outlinewidth\":0,\"ticks\":\"\"}}}],\"scattermapbox\":[{\"type\":\"scattermapbox\",\"marker\":{\"colorbar\":{\"outlinewidth\":0,\"ticks\":\"\"}}}],\"scatterternary\":[{\"type\":\"scatterternary\",\"marker\":{\"colorbar\":{\"outlinewidth\":0,\"ticks\":\"\"}}}],\"scattercarpet\":[{\"type\":\"scattercarpet\",\"marker\":{\"colorbar\":{\"outlinewidth\":0,\"ticks\":\"\"}}}],\"carpet\":[{\"aaxis\":{\"endlinecolor\":\"#2a3f5f\",\"gridcolor\":\"white\",\"linecolor\":\"white\",\"minorgridcolor\":\"white\",\"startlinecolor\":\"#2a3f5f\"},\"baxis\":{\"endlinecolor\":\"#2a3f5f\",\"gridcolor\":\"white\",\"linecolor\":\"white\",\"minorgridcolor\":\"white\",\"startlinecolor\":\"#2a3f5f\"},\"type\":\"carpet\"}],\"table\":[{\"cells\":{\"fill\":{\"color\":\"#EBF0F8\"},\"line\":{\"color\":\"white\"}},\"header\":{\"fill\":{\"color\":\"#C8D4E3\"},\"line\":{\"color\":\"white\"}},\"type\":\"table\"}],\"barpolar\":[{\"marker\":{\"line\":{\"color\":\"#E5ECF6\",\"width\":0.5},\"pattern\":{\"fillmode\":\"overlay\",\"size\":10,\"solidity\":0.2}},\"type\":\"barpolar\"}],\"pie\":[{\"automargin\":true,\"type\":\"pie\"}]},\"layout\":{\"autotypenumbers\":\"strict\",\"colorway\":[\"#636efa\",\"#EF553B\",\"#00cc96\",\"#ab63fa\",\"#FFA15A\",\"#19d3f3\",\"#FF6692\",\"#B6E880\",\"#FF97FF\",\"#FECB52\"],\"font\":{\"color\":\"#2a3f5f\"},\"hovermode\":\"closest\",\"hoverlabel\":{\"align\":\"left\"},\"paper_bgcolor\":\"white\",\"plot_bgcolor\":\"#E5ECF6\",\"polar\":{\"bgcolor\":\"#E5ECF6\",\"angularaxis\":{\"gridcolor\":\"white\",\"linecolor\":\"white\",\"ticks\":\"\"},\"radialaxis\":{\"gridcolor\":\"white\",\"linecolor\":\"white\",\"ticks\":\"\"}},\"ternary\":{\"bgcolor\":\"#E5ECF6\",\"aaxis\":{\"gridcolor\":\"white\",\"linecolor\":\"white\",\"ticks\":\"\"},\"baxis\":{\"gridcolor\":\"white\",\"linecolor\":\"white\",\"ticks\":\"\"},\"caxis\":{\"gridcolor\":\"white\",\"linecolor\":\"white\",\"ticks\":\"\"}},\"coloraxis\":{\"colorbar\":{\"outlinewidth\":0,\"ticks\":\"\"}},\"colorscale\":{\"sequential\":[[0.0,\"#0d0887\"],[0.1111111111111111,\"#46039f\"],[0.2222222222222222,\"#7201a8\"],[0.3333333333333333,\"#9c179e\"],[0.4444444444444444,\"#bd3786\"],[0.5555555555555556,\"#d8576b\"],[0.6666666666666666,\"#ed7953\"],[0.7777777777777778,\"#fb9f3a\"],[0.8888888888888888,\"#fdca26\"],[1.0,\"#f0f921\"]],\"sequentialminus\":[[0.0,\"#0d0887\"],[0.1111111111111111,\"#46039f\"],[0.2222222222222222,\"#7201a8\"],[0.3333333333333333,\"#9c179e\"],[0.4444444444444444,\"#bd3786\"],[0.5555555555555556,\"#d8576b\"],[0.6666666666666666,\"#ed7953\"],[0.7777777777777778,\"#fb9f3a\"],[0.8888888888888888,\"#fdca26\"],[1.0,\"#f0f921\"]],\"diverging\":[[0,\"#8e0152\"],[0.1,\"#c51b7d\"],[0.2,\"#de77ae\"],[0.3,\"#f1b6da\"],[0.4,\"#fde0ef\"],[0.5,\"#f7f7f7\"],[0.6,\"#e6f5d0\"],[0.7,\"#b8e186\"],[0.8,\"#7fbc41\"],[0.9,\"#4d9221\"],[1,\"#276419\"]]},\"xaxis\":{\"gridcolor\":\"white\",\"linecolor\":\"white\",\"ticks\":\"\",\"title\":{\"standoff\":15},\"zerolinecolor\":\"white\",\"automargin\":true,\"zerolinewidth\":2},\"yaxis\":{\"gridcolor\":\"white\",\"linecolor\":\"white\",\"ticks\":\"\",\"title\":{\"standoff\":15},\"zerolinecolor\":\"white\",\"automargin\":true,\"zerolinewidth\":2},\"scene\":{\"xaxis\":{\"backgroundcolor\":\"#E5ECF6\",\"gridcolor\":\"white\",\"linecolor\":\"white\",\"showbackground\":true,\"ticks\":\"\",\"zerolinecolor\":\"white\",\"gridwidth\":2},\"yaxis\":{\"backgroundcolor\":\"#E5ECF6\",\"gridcolor\":\"white\",\"linecolor\":\"white\",\"showbackground\":true,\"ticks\":\"\",\"zerolinecolor\":\"white\",\"gridwidth\":2},\"zaxis\":{\"backgroundcolor\":\"#E5ECF6\",\"gridcolor\":\"white\",\"linecolor\":\"white\",\"showbackground\":true,\"ticks\":\"\",\"zerolinecolor\":\"white\",\"gridwidth\":2}},\"shapedefaults\":{\"line\":{\"color\":\"#2a3f5f\"}},\"annotationdefaults\":{\"arrowcolor\":\"#2a3f5f\",\"arrowhead\":0,\"arrowwidth\":1},\"geo\":{\"bgcolor\":\"white\",\"landcolor\":\"#E5ECF6\",\"subunitcolor\":\"white\",\"showland\":true,\"showlakes\":true,\"lakecolor\":\"white\"},\"title\":{\"x\":0.05},\"mapbox\":{\"style\":\"light\"}}},\"xaxis\":{\"anchor\":\"y\",\"domain\":[0.0,1.0],\"title\":{\"text\":\"Mean Raw_Reads\"}},\"yaxis\":{\"anchor\":\"x\",\"domain\":[0.0,1.0],\"title\":{\"text\":\"Mean UMI_Counts\"}},\"legend\":{\"title\":{\"text\":\"Sample\"},\"tracegroupgap\":0},\"margin\":{\"t\":60},\"height\":1024,\"width\":1680,\"title\":{\"text\":\"Hum_PBMC (Correlation=0.998)\",\"y\":0.98,\"x\":0.5,\"xanchor\":\"center\",\"yanchor\":\"top\"},\"font\":{\"size\":18,\"color\":\"Black\"}},                        {\"responsive\": true}                    ).then(function(){\n",
       "                            \n",
       "var gd = document.getElementById('4cbc91a5-ab8b-4146-a8e9-7cf7fdb955d6');\n",
       "var x = new MutationObserver(function (mutations, observer) {{\n",
       "        var display = window.getComputedStyle(gd).display;\n",
       "        if (!display || display === 'none') {{\n",
       "            console.log([gd, 'removed!']);\n",
       "            Plotly.purge(gd);\n",
       "            observer.disconnect();\n",
       "        }}\n",
       "}});\n",
       "\n",
       "// Listen for the removal of the full notebook cells\n",
       "var notebookContainer = gd.closest('#notebook-container');\n",
       "if (notebookContainer) {{\n",
       "    x.observe(notebookContainer, {childList: true});\n",
       "}}\n",
       "\n",
       "// Listen for the clearing of the current output cell\n",
       "var outputEl = gd.closest('.output');\n",
       "if (outputEl) {{\n",
       "    x.observe(outputEl, {childList: true});\n",
       "}}\n",
       "\n",
       "                        })                };                });            </script>        </div>"
      ]
     },
     "metadata": {},
     "output_type": "display_data"
    }
   ],
   "source": [
    "fig = px.scatter(\n",
    "    df, # scatter绘制散点图\n",
    "    x='Raw_Reads',    #  x轴\n",
    "    y='UMI_Counts',  # y轴\n",
    "    color = 'Sample',\n",
    "    labels = calc_corr(df[\"Raw_Reads\"], df[\"UMI_Counts\"]),\n",
    "    width=1680, height=1024,\n",
    ")\n",
    "fig.update_traces(marker_size=40)\n",
    "fig.update_layout(title={\"text\":f'{sample} (Correlation={calc_corr(df[\"Raw_Reads\"], df[\"UMI_Counts\"])})',\n",
    "                         'y':0.98, 'x':0.5, 'xanchor': 'center', 'yanchor': 'top'},\n",
    "                  xaxis_title = \"Mean Raw_Reads\", yaxis_title = \"Mean UMI_Counts\", font=dict(size=18,color=\"Black\"))\n",
    "\n",
    "#fig.write_image(f\"{OUT_PATH}/scatter.png\", scale=4)\n",
    "fig.show()"
   ]
  },
  {
   "cell_type": "code",
   "execution_count": 40,
   "id": "binary-teaching",
   "metadata": {},
   "outputs": [
    {
     "data": {
      "application/vnd.plotly.v1+json": {
       "config": {
        "plotlyServerURL": "https://plot.ly"
       },
       "data": [
        {
         "name": "UMIs_Mapped_To_TRA",
         "type": "box",
         "y": [
          25,
          24.26,
          23.41,
          24.31,
          23.61,
          22.63,
          23.36,
          23.84
         ]
        },
        {
         "name": "UMIs_Mapped_To_TRB",
         "type": "box",
         "y": [
          45.71,
          45.86,
          43.63,
          46.22,
          46.82,
          50.14,
          46.24,
          45.79
         ]
        },
        {
         "name": "UMIs_Mapped_Confidently_To_VJ_Gene",
         "type": "box",
         "y": [
          70.76,
          70.14,
          67.04,
          70.57,
          70.52,
          72.77,
          69.64,
          69.81
         ]
        }
       ],
       "layout": {
        "autosize": true,
        "font": {
         "color": "Black",
         "size": 18
        },
        "template": {
         "data": {
          "bar": [
           {
            "error_x": {
             "color": "#2a3f5f"
            },
            "error_y": {
             "color": "#2a3f5f"
            },
            "marker": {
             "line": {
              "color": "#E5ECF6",
              "width": 0.5
             },
             "pattern": {
              "fillmode": "overlay",
              "size": 10,
              "solidity": 0.2
             }
            },
            "type": "bar"
           }
          ],
          "barpolar": [
           {
            "marker": {
             "line": {
              "color": "#E5ECF6",
              "width": 0.5
             },
             "pattern": {
              "fillmode": "overlay",
              "size": 10,
              "solidity": 0.2
             }
            },
            "type": "barpolar"
           }
          ],
          "carpet": [
           {
            "aaxis": {
             "endlinecolor": "#2a3f5f",
             "gridcolor": "white",
             "linecolor": "white",
             "minorgridcolor": "white",
             "startlinecolor": "#2a3f5f"
            },
            "baxis": {
             "endlinecolor": "#2a3f5f",
             "gridcolor": "white",
             "linecolor": "white",
             "minorgridcolor": "white",
             "startlinecolor": "#2a3f5f"
            },
            "type": "carpet"
           }
          ],
          "choropleth": [
           {
            "colorbar": {
             "outlinewidth": 0,
             "ticks": ""
            },
            "type": "choropleth"
           }
          ],
          "contour": [
           {
            "colorbar": {
             "outlinewidth": 0,
             "ticks": ""
            },
            "colorscale": [
             [
              0,
              "#0d0887"
             ],
             [
              0.1111111111111111,
              "#46039f"
             ],
             [
              0.2222222222222222,
              "#7201a8"
             ],
             [
              0.3333333333333333,
              "#9c179e"
             ],
             [
              0.4444444444444444,
              "#bd3786"
             ],
             [
              0.5555555555555556,
              "#d8576b"
             ],
             [
              0.6666666666666666,
              "#ed7953"
             ],
             [
              0.7777777777777778,
              "#fb9f3a"
             ],
             [
              0.8888888888888888,
              "#fdca26"
             ],
             [
              1,
              "#f0f921"
             ]
            ],
            "type": "contour"
           }
          ],
          "contourcarpet": [
           {
            "colorbar": {
             "outlinewidth": 0,
             "ticks": ""
            },
            "type": "contourcarpet"
           }
          ],
          "heatmap": [
           {
            "colorbar": {
             "outlinewidth": 0,
             "ticks": ""
            },
            "colorscale": [
             [
              0,
              "#0d0887"
             ],
             [
              0.1111111111111111,
              "#46039f"
             ],
             [
              0.2222222222222222,
              "#7201a8"
             ],
             [
              0.3333333333333333,
              "#9c179e"
             ],
             [
              0.4444444444444444,
              "#bd3786"
             ],
             [
              0.5555555555555556,
              "#d8576b"
             ],
             [
              0.6666666666666666,
              "#ed7953"
             ],
             [
              0.7777777777777778,
              "#fb9f3a"
             ],
             [
              0.8888888888888888,
              "#fdca26"
             ],
             [
              1,
              "#f0f921"
             ]
            ],
            "type": "heatmap"
           }
          ],
          "heatmapgl": [
           {
            "colorbar": {
             "outlinewidth": 0,
             "ticks": ""
            },
            "colorscale": [
             [
              0,
              "#0d0887"
             ],
             [
              0.1111111111111111,
              "#46039f"
             ],
             [
              0.2222222222222222,
              "#7201a8"
             ],
             [
              0.3333333333333333,
              "#9c179e"
             ],
             [
              0.4444444444444444,
              "#bd3786"
             ],
             [
              0.5555555555555556,
              "#d8576b"
             ],
             [
              0.6666666666666666,
              "#ed7953"
             ],
             [
              0.7777777777777778,
              "#fb9f3a"
             ],
             [
              0.8888888888888888,
              "#fdca26"
             ],
             [
              1,
              "#f0f921"
             ]
            ],
            "type": "heatmapgl"
           }
          ],
          "histogram": [
           {
            "marker": {
             "pattern": {
              "fillmode": "overlay",
              "size": 10,
              "solidity": 0.2
             }
            },
            "type": "histogram"
           }
          ],
          "histogram2d": [
           {
            "colorbar": {
             "outlinewidth": 0,
             "ticks": ""
            },
            "colorscale": [
             [
              0,
              "#0d0887"
             ],
             [
              0.1111111111111111,
              "#46039f"
             ],
             [
              0.2222222222222222,
              "#7201a8"
             ],
             [
              0.3333333333333333,
              "#9c179e"
             ],
             [
              0.4444444444444444,
              "#bd3786"
             ],
             [
              0.5555555555555556,
              "#d8576b"
             ],
             [
              0.6666666666666666,
              "#ed7953"
             ],
             [
              0.7777777777777778,
              "#fb9f3a"
             ],
             [
              0.8888888888888888,
              "#fdca26"
             ],
             [
              1,
              "#f0f921"
             ]
            ],
            "type": "histogram2d"
           }
          ],
          "histogram2dcontour": [
           {
            "colorbar": {
             "outlinewidth": 0,
             "ticks": ""
            },
            "colorscale": [
             [
              0,
              "#0d0887"
             ],
             [
              0.1111111111111111,
              "#46039f"
             ],
             [
              0.2222222222222222,
              "#7201a8"
             ],
             [
              0.3333333333333333,
              "#9c179e"
             ],
             [
              0.4444444444444444,
              "#bd3786"
             ],
             [
              0.5555555555555556,
              "#d8576b"
             ],
             [
              0.6666666666666666,
              "#ed7953"
             ],
             [
              0.7777777777777778,
              "#fb9f3a"
             ],
             [
              0.8888888888888888,
              "#fdca26"
             ],
             [
              1,
              "#f0f921"
             ]
            ],
            "type": "histogram2dcontour"
           }
          ],
          "mesh3d": [
           {
            "colorbar": {
             "outlinewidth": 0,
             "ticks": ""
            },
            "type": "mesh3d"
           }
          ],
          "parcoords": [
           {
            "line": {
             "colorbar": {
              "outlinewidth": 0,
              "ticks": ""
             }
            },
            "type": "parcoords"
           }
          ],
          "pie": [
           {
            "automargin": true,
            "type": "pie"
           }
          ],
          "scatter": [
           {
            "fillpattern": {
             "fillmode": "overlay",
             "size": 10,
             "solidity": 0.2
            },
            "type": "scatter"
           }
          ],
          "scatter3d": [
           {
            "line": {
             "colorbar": {
              "outlinewidth": 0,
              "ticks": ""
             }
            },
            "marker": {
             "colorbar": {
              "outlinewidth": 0,
              "ticks": ""
             }
            },
            "type": "scatter3d"
           }
          ],
          "scattercarpet": [
           {
            "marker": {
             "colorbar": {
              "outlinewidth": 0,
              "ticks": ""
             }
            },
            "type": "scattercarpet"
           }
          ],
          "scattergeo": [
           {
            "marker": {
             "colorbar": {
              "outlinewidth": 0,
              "ticks": ""
             }
            },
            "type": "scattergeo"
           }
          ],
          "scattergl": [
           {
            "marker": {
             "colorbar": {
              "outlinewidth": 0,
              "ticks": ""
             }
            },
            "type": "scattergl"
           }
          ],
          "scattermapbox": [
           {
            "marker": {
             "colorbar": {
              "outlinewidth": 0,
              "ticks": ""
             }
            },
            "type": "scattermapbox"
           }
          ],
          "scatterpolar": [
           {
            "marker": {
             "colorbar": {
              "outlinewidth": 0,
              "ticks": ""
             }
            },
            "type": "scatterpolar"
           }
          ],
          "scatterpolargl": [
           {
            "marker": {
             "colorbar": {
              "outlinewidth": 0,
              "ticks": ""
             }
            },
            "type": "scatterpolargl"
           }
          ],
          "scatterternary": [
           {
            "marker": {
             "colorbar": {
              "outlinewidth": 0,
              "ticks": ""
             }
            },
            "type": "scatterternary"
           }
          ],
          "surface": [
           {
            "colorbar": {
             "outlinewidth": 0,
             "ticks": ""
            },
            "colorscale": [
             [
              0,
              "#0d0887"
             ],
             [
              0.1111111111111111,
              "#46039f"
             ],
             [
              0.2222222222222222,
              "#7201a8"
             ],
             [
              0.3333333333333333,
              "#9c179e"
             ],
             [
              0.4444444444444444,
              "#bd3786"
             ],
             [
              0.5555555555555556,
              "#d8576b"
             ],
             [
              0.6666666666666666,
              "#ed7953"
             ],
             [
              0.7777777777777778,
              "#fb9f3a"
             ],
             [
              0.8888888888888888,
              "#fdca26"
             ],
             [
              1,
              "#f0f921"
             ]
            ],
            "type": "surface"
           }
          ],
          "table": [
           {
            "cells": {
             "fill": {
              "color": "#EBF0F8"
             },
             "line": {
              "color": "white"
             }
            },
            "header": {
             "fill": {
              "color": "#C8D4E3"
             },
             "line": {
              "color": "white"
             }
            },
            "type": "table"
           }
          ]
         },
         "layout": {
          "annotationdefaults": {
           "arrowcolor": "#2a3f5f",
           "arrowhead": 0,
           "arrowwidth": 1
          },
          "autotypenumbers": "strict",
          "coloraxis": {
           "colorbar": {
            "outlinewidth": 0,
            "ticks": ""
           }
          },
          "colorscale": {
           "diverging": [
            [
             0,
             "#8e0152"
            ],
            [
             0.1,
             "#c51b7d"
            ],
            [
             0.2,
             "#de77ae"
            ],
            [
             0.3,
             "#f1b6da"
            ],
            [
             0.4,
             "#fde0ef"
            ],
            [
             0.5,
             "#f7f7f7"
            ],
            [
             0.6,
             "#e6f5d0"
            ],
            [
             0.7,
             "#b8e186"
            ],
            [
             0.8,
             "#7fbc41"
            ],
            [
             0.9,
             "#4d9221"
            ],
            [
             1,
             "#276419"
            ]
           ],
           "sequential": [
            [
             0,
             "#0d0887"
            ],
            [
             0.1111111111111111,
             "#46039f"
            ],
            [
             0.2222222222222222,
             "#7201a8"
            ],
            [
             0.3333333333333333,
             "#9c179e"
            ],
            [
             0.4444444444444444,
             "#bd3786"
            ],
            [
             0.5555555555555556,
             "#d8576b"
            ],
            [
             0.6666666666666666,
             "#ed7953"
            ],
            [
             0.7777777777777778,
             "#fb9f3a"
            ],
            [
             0.8888888888888888,
             "#fdca26"
            ],
            [
             1,
             "#f0f921"
            ]
           ],
           "sequentialminus": [
            [
             0,
             "#0d0887"
            ],
            [
             0.1111111111111111,
             "#46039f"
            ],
            [
             0.2222222222222222,
             "#7201a8"
            ],
            [
             0.3333333333333333,
             "#9c179e"
            ],
            [
             0.4444444444444444,
             "#bd3786"
            ],
            [
             0.5555555555555556,
             "#d8576b"
            ],
            [
             0.6666666666666666,
             "#ed7953"
            ],
            [
             0.7777777777777778,
             "#fb9f3a"
            ],
            [
             0.8888888888888888,
             "#fdca26"
            ],
            [
             1,
             "#f0f921"
            ]
           ]
          },
          "colorway": [
           "#636efa",
           "#EF553B",
           "#00cc96",
           "#ab63fa",
           "#FFA15A",
           "#19d3f3",
           "#FF6692",
           "#B6E880",
           "#FF97FF",
           "#FECB52"
          ],
          "font": {
           "color": "#2a3f5f"
          },
          "geo": {
           "bgcolor": "white",
           "lakecolor": "white",
           "landcolor": "#E5ECF6",
           "showlakes": true,
           "showland": true,
           "subunitcolor": "white"
          },
          "hoverlabel": {
           "align": "left"
          },
          "hovermode": "closest",
          "mapbox": {
           "style": "light"
          },
          "paper_bgcolor": "white",
          "plot_bgcolor": "#E5ECF6",
          "polar": {
           "angularaxis": {
            "gridcolor": "white",
            "linecolor": "white",
            "ticks": ""
           },
           "bgcolor": "#E5ECF6",
           "radialaxis": {
            "gridcolor": "white",
            "linecolor": "white",
            "ticks": ""
           }
          },
          "scene": {
           "xaxis": {
            "backgroundcolor": "#E5ECF6",
            "gridcolor": "white",
            "gridwidth": 2,
            "linecolor": "white",
            "showbackground": true,
            "ticks": "",
            "zerolinecolor": "white"
           },
           "yaxis": {
            "backgroundcolor": "#E5ECF6",
            "gridcolor": "white",
            "gridwidth": 2,
            "linecolor": "white",
            "showbackground": true,
            "ticks": "",
            "zerolinecolor": "white"
           },
           "zaxis": {
            "backgroundcolor": "#E5ECF6",
            "gridcolor": "white",
            "gridwidth": 2,
            "linecolor": "white",
            "showbackground": true,
            "ticks": "",
            "zerolinecolor": "white"
           }
          },
          "shapedefaults": {
           "line": {
            "color": "#2a3f5f"
           }
          },
          "ternary": {
           "aaxis": {
            "gridcolor": "white",
            "linecolor": "white",
            "ticks": ""
           },
           "baxis": {
            "gridcolor": "white",
            "linecolor": "white",
            "ticks": ""
           },
           "bgcolor": "#E5ECF6",
           "caxis": {
            "gridcolor": "white",
            "linecolor": "white",
            "ticks": ""
           }
          },
          "title": {
           "x": 0.05
          },
          "xaxis": {
           "automargin": true,
           "gridcolor": "white",
           "linecolor": "white",
           "ticks": "",
           "title": {
            "standoff": 15
           },
           "zerolinecolor": "white",
           "zerolinewidth": 2
          },
          "yaxis": {
           "automargin": true,
           "gridcolor": "white",
           "linecolor": "white",
           "ticks": "",
           "title": {
            "standoff": 15
           },
           "zerolinecolor": "white",
           "zerolinewidth": 2
          }
         }
        },
        "title": {
         "text": "Hum_PBMC",
         "x": 0.4,
         "xanchor": "center",
         "y": 0.98,
         "yanchor": "top"
        },
        "xaxis": {
         "autorange": true,
         "range": [
          -0.5,
          2.5
         ],
         "type": "category"
        },
        "yaxis": {
         "autorange": true,
         "range": [
          19.84444444444444,
          75.55555555555556
         ],
         "title": {
          "text": "Mapping Percent(%)"
         },
         "type": "linear"
        }
       }
      },
      "image/png": "[encoded data removed]",
      "text/html": [
       "<div>                            <div id=\"5ac7a70e-55f0-48f8-bf8b-c8ee44121555\" class=\"plotly-graph-div\" style=\"height:525px; width:100%;\"></div>            <script type=\"text/javascript\">                require([\"plotly\"], function(Plotly) {                    window.PLOTLYENV=window.PLOTLYENV || {};                                    if (document.getElementById(\"5ac7a70e-55f0-48f8-bf8b-c8ee44121555\")) {                    Plotly.newPlot(                        \"5ac7a70e-55f0-48f8-bf8b-c8ee44121555\",                        [{\"name\":\"UMIs_Mapped_To_TRA\",\"y\":[25.0,24.26,23.41,24.31,23.61,22.63,23.36,23.84],\"type\":\"box\"},{\"name\":\"UMIs_Mapped_To_TRB\",\"y\":[45.71,45.86,43.63,46.22,46.82,50.14,46.24,45.79],\"type\":\"box\"},{\"name\":\"UMIs_Mapped_Confidently_To_VJ_Gene\",\"y\":[70.76,70.14,67.04,70.57,70.52,72.77,69.64,69.81],\"type\":\"box\"}],                        {\"template\":{\"data\":{\"histogram2dcontour\":[{\"type\":\"histogram2dcontour\",\"colorbar\":{\"outlinewidth\":0,\"ticks\":\"\"},\"colorscale\":[[0.0,\"#0d0887\"],[0.1111111111111111,\"#46039f\"],[0.2222222222222222,\"#7201a8\"],[0.3333333333333333,\"#9c179e\"],[0.4444444444444444,\"#bd3786\"],[0.5555555555555556,\"#d8576b\"],[0.6666666666666666,\"#ed7953\"],[0.7777777777777778,\"#fb9f3a\"],[0.8888888888888888,\"#fdca26\"],[1.0,\"#f0f921\"]]}],\"choropleth\":[{\"type\":\"choropleth\",\"colorbar\":{\"outlinewidth\":0,\"ticks\":\"\"}}],\"histogram2d\":[{\"type\":\"histogram2d\",\"colorbar\":{\"outlinewidth\":0,\"ticks\":\"\"},\"colorscale\":[[0.0,\"#0d0887\"],[0.1111111111111111,\"#46039f\"],[0.2222222222222222,\"#7201a8\"],[0.3333333333333333,\"#9c179e\"],[0.4444444444444444,\"#bd3786\"],[0.5555555555555556,\"#d8576b\"],[0.6666666666666666,\"#ed7953\"],[0.7777777777777778,\"#fb9f3a\"],[0.8888888888888888,\"#fdca26\"],[1.0,\"#f0f921\"]]}],\"heatmap\":[{\"type\":\"heatmap\",\"colorbar\":{\"outlinewidth\":0,\"ticks\":\"\"},\"colorscale\":[[0.0,\"#0d0887\"],[0.1111111111111111,\"#46039f\"],[0.2222222222222222,\"#7201a8\"],[0.3333333333333333,\"#9c179e\"],[0.4444444444444444,\"#bd3786\"],[0.5555555555555556,\"#d8576b\"],[0.6666666666666666,\"#ed7953\"],[0.7777777777777778,\"#fb9f3a\"],[0.8888888888888888,\"#fdca26\"],[1.0,\"#f0f921\"]]}],\"heatmapgl\":[{\"type\":\"heatmapgl\",\"colorbar\":{\"outlinewidth\":0,\"ticks\":\"\"},\"colorscale\":[[0.0,\"#0d0887\"],[0.1111111111111111,\"#46039f\"],[0.2222222222222222,\"#7201a8\"],[0.3333333333333333,\"#9c179e\"],[0.4444444444444444,\"#bd3786\"],[0.5555555555555556,\"#d8576b\"],[0.6666666666666666,\"#ed7953\"],[0.7777777777777778,\"#fb9f3a\"],[0.8888888888888888,\"#fdca26\"],[1.0,\"#f0f921\"]]}],\"contourcarpet\":[{\"type\":\"contourcarpet\",\"colorbar\":{\"outlinewidth\":0,\"ticks\":\"\"}}],\"contour\":[{\"type\":\"contour\",\"colorbar\":{\"outlinewidth\":0,\"ticks\":\"\"},\"colorscale\":[[0.0,\"#0d0887\"],[0.1111111111111111,\"#46039f\"],[0.2222222222222222,\"#7201a8\"],[0.3333333333333333,\"#9c179e\"],[0.4444444444444444,\"#bd3786\"],[0.5555555555555556,\"#d8576b\"],[0.6666666666666666,\"#ed7953\"],[0.7777777777777778,\"#fb9f3a\"],[0.8888888888888888,\"#fdca26\"],[1.0,\"#f0f921\"]]}],\"surface\":[{\"type\":\"surface\",\"colorbar\":{\"outlinewidth\":0,\"ticks\":\"\"},\"colorscale\":[[0.0,\"#0d0887\"],[0.1111111111111111,\"#46039f\"],[0.2222222222222222,\"#7201a8\"],[0.3333333333333333,\"#9c179e\"],[0.4444444444444444,\"#bd3786\"],[0.5555555555555556,\"#d8576b\"],[0.6666666666666666,\"#ed7953\"],[0.7777777777777778,\"#fb9f3a\"],[0.8888888888888888,\"#fdca26\"],[1.0,\"#f0f921\"]]}],\"mesh3d\":[{\"type\":\"mesh3d\",\"colorbar\":{\"outlinewidth\":0,\"ticks\":\"\"}}],\"scatter\":[{\"fillpattern\":{\"fillmode\":\"overlay\",\"size\":10,\"solidity\":0.2},\"type\":\"scatter\"}],\"parcoords\":[{\"type\":\"parcoords\",\"line\":{\"colorbar\":{\"outlinewidth\":0,\"ticks\":\"\"}}}],\"scatterpolargl\":[{\"type\":\"scatterpolargl\",\"marker\":{\"colorbar\":{\"outlinewidth\":0,\"ticks\":\"\"}}}],\"bar\":[{\"error_x\":{\"color\":\"#2a3f5f\"},\"error_y\":{\"color\":\"#2a3f5f\"},\"marker\":{\"line\":{\"color\":\"#E5ECF6\",\"width\":0.5},\"pattern\":{\"fillmode\":\"overlay\",\"size\":10,\"solidity\":0.2}},\"type\":\"bar\"}],\"scattergeo\":[{\"type\":\"scattergeo\",\"marker\":{\"colorbar\":{\"outlinewidth\":0,\"ticks\":\"\"}}}],\"scatterpolar\":[{\"type\":\"scatterpolar\",\"marker\":{\"colorbar\":{\"outlinewidth\":0,\"ticks\":\"\"}}}],\"histogram\":[{\"marker\":{\"pattern\":{\"fillmode\":\"overlay\",\"size\":10,\"solidity\":0.2}},\"type\":\"histogram\"}],\"scattergl\":[{\"type\":\"scattergl\",\"marker\":{\"colorbar\":{\"outlinewidth\":0,\"ticks\":\"\"}}}],\"scatter3d\":[{\"type\":\"scatter3d\",\"line\":{\"colorbar\":{\"outlinewidth\":0,\"ticks\":\"\"}},\"marker\":{\"colorbar\":{\"outlinewidth\":0,\"ticks\":\"\"}}}],\"scattermapbox\":[{\"type\":\"scattermapbox\",\"marker\":{\"colorbar\":{\"outlinewidth\":0,\"ticks\":\"\"}}}],\"scatterternary\":[{\"type\":\"scatterternary\",\"marker\":{\"colorbar\":{\"outlinewidth\":0,\"ticks\":\"\"}}}],\"scattercarpet\":[{\"type\":\"scattercarpet\",\"marker\":{\"colorbar\":{\"outlinewidth\":0,\"ticks\":\"\"}}}],\"carpet\":[{\"aaxis\":{\"endlinecolor\":\"#2a3f5f\",\"gridcolor\":\"white\",\"linecolor\":\"white\",\"minorgridcolor\":\"white\",\"startlinecolor\":\"#2a3f5f\"},\"baxis\":{\"endlinecolor\":\"#2a3f5f\",\"gridcolor\":\"white\",\"linecolor\":\"white\",\"minorgridcolor\":\"white\",\"startlinecolor\":\"#2a3f5f\"},\"type\":\"carpet\"}],\"table\":[{\"cells\":{\"fill\":{\"color\":\"#EBF0F8\"},\"line\":{\"color\":\"white\"}},\"header\":{\"fill\":{\"color\":\"#C8D4E3\"},\"line\":{\"color\":\"white\"}},\"type\":\"table\"}],\"barpolar\":[{\"marker\":{\"line\":{\"color\":\"#E5ECF6\",\"width\":0.5},\"pattern\":{\"fillmode\":\"overlay\",\"size\":10,\"solidity\":0.2}},\"type\":\"barpolar\"}],\"pie\":[{\"automargin\":true,\"type\":\"pie\"}]},\"layout\":{\"autotypenumbers\":\"strict\",\"colorway\":[\"#636efa\",\"#EF553B\",\"#00cc96\",\"#ab63fa\",\"#FFA15A\",\"#19d3f3\",\"#FF6692\",\"#B6E880\",\"#FF97FF\",\"#FECB52\"],\"font\":{\"color\":\"#2a3f5f\"},\"hovermode\":\"closest\",\"hoverlabel\":{\"align\":\"left\"},\"paper_bgcolor\":\"white\",\"plot_bgcolor\":\"#E5ECF6\",\"polar\":{\"bgcolor\":\"#E5ECF6\",\"angularaxis\":{\"gridcolor\":\"white\",\"linecolor\":\"white\",\"ticks\":\"\"},\"radialaxis\":{\"gridcolor\":\"white\",\"linecolor\":\"white\",\"ticks\":\"\"}},\"ternary\":{\"bgcolor\":\"#E5ECF6\",\"aaxis\":{\"gridcolor\":\"white\",\"linecolor\":\"white\",\"ticks\":\"\"},\"baxis\":{\"gridcolor\":\"white\",\"linecolor\":\"white\",\"ticks\":\"\"},\"caxis\":{\"gridcolor\":\"white\",\"linecolor\":\"white\",\"ticks\":\"\"}},\"coloraxis\":{\"colorbar\":{\"outlinewidth\":0,\"ticks\":\"\"}},\"colorscale\":{\"sequential\":[[0.0,\"#0d0887\"],[0.1111111111111111,\"#46039f\"],[0.2222222222222222,\"#7201a8\"],[0.3333333333333333,\"#9c179e\"],[0.4444444444444444,\"#bd3786\"],[0.5555555555555556,\"#d8576b\"],[0.6666666666666666,\"#ed7953\"],[0.7777777777777778,\"#fb9f3a\"],[0.8888888888888888,\"#fdca26\"],[1.0,\"#f0f921\"]],\"sequentialminus\":[[0.0,\"#0d0887\"],[0.1111111111111111,\"#46039f\"],[0.2222222222222222,\"#7201a8\"],[0.3333333333333333,\"#9c179e\"],[0.4444444444444444,\"#bd3786\"],[0.5555555555555556,\"#d8576b\"],[0.6666666666666666,\"#ed7953\"],[0.7777777777777778,\"#fb9f3a\"],[0.8888888888888888,\"#fdca26\"],[1.0,\"#f0f921\"]],\"diverging\":[[0,\"#8e0152\"],[0.1,\"#c51b7d\"],[0.2,\"#de77ae\"],[0.3,\"#f1b6da\"],[0.4,\"#fde0ef\"],[0.5,\"#f7f7f7\"],[0.6,\"#e6f5d0\"],[0.7,\"#b8e186\"],[0.8,\"#7fbc41\"],[0.9,\"#4d9221\"],[1,\"#276419\"]]},\"xaxis\":{\"gridcolor\":\"white\",\"linecolor\":\"white\",\"ticks\":\"\",\"title\":{\"standoff\":15},\"zerolinecolor\":\"white\",\"automargin\":true,\"zerolinewidth\":2},\"yaxis\":{\"gridcolor\":\"white\",\"linecolor\":\"white\",\"ticks\":\"\",\"title\":{\"standoff\":15},\"zerolinecolor\":\"white\",\"automargin\":true,\"zerolinewidth\":2},\"scene\":{\"xaxis\":{\"backgroundcolor\":\"#E5ECF6\",\"gridcolor\":\"white\",\"linecolor\":\"white\",\"showbackground\":true,\"ticks\":\"\",\"zerolinecolor\":\"white\",\"gridwidth\":2},\"yaxis\":{\"backgroundcolor\":\"#E5ECF6\",\"gridcolor\":\"white\",\"linecolor\":\"white\",\"showbackground\":true,\"ticks\":\"\",\"zerolinecolor\":\"white\",\"gridwidth\":2},\"zaxis\":{\"backgroundcolor\":\"#E5ECF6\",\"gridcolor\":\"white\",\"linecolor\":\"white\",\"showbackground\":true,\"ticks\":\"\",\"zerolinecolor\":\"white\",\"gridwidth\":2}},\"shapedefaults\":{\"line\":{\"color\":\"#2a3f5f\"}},\"annotationdefaults\":{\"arrowcolor\":\"#2a3f5f\",\"arrowhead\":0,\"arrowwidth\":1},\"geo\":{\"bgcolor\":\"white\",\"landcolor\":\"#E5ECF6\",\"subunitcolor\":\"white\",\"showland\":true,\"showlakes\":true,\"lakecolor\":\"white\"},\"title\":{\"x\":0.05},\"mapbox\":{\"style\":\"light\"}}},\"title\":{\"text\":\"Hum_PBMC\",\"y\":0.98,\"x\":0.4,\"xanchor\":\"center\",\"yanchor\":\"top\"},\"font\":{\"size\":18,\"color\":\"Black\"},\"yaxis\":{\"title\":{\"text\":\"Mapping Percent(%)\"}}},                        {\"responsive\": true}                    ).then(function(){\n",
       "                            \n",
       "var gd = document.getElementById('5ac7a70e-55f0-48f8-bf8b-c8ee44121555');\n",
       "var x = new MutationObserver(function (mutations, observer) {{\n",
       "        var display = window.getComputedStyle(gd).display;\n",
       "        if (!display || display === 'none') {{\n",
       "            console.log([gd, 'removed!']);\n",
       "            Plotly.purge(gd);\n",
       "            observer.disconnect();\n",
       "        }}\n",
       "}});\n",
       "\n",
       "// Listen for the removal of the full notebook cells\n",
       "var notebookContainer = gd.closest('#notebook-container');\n",
       "if (notebookContainer) {{\n",
       "    x.observe(notebookContainer, {childList: true});\n",
       "}}\n",
       "\n",
       "// Listen for the clearing of the current output cell\n",
       "var outputEl = gd.closest('.output');\n",
       "if (outputEl) {{\n",
       "    x.observe(outputEl, {childList: true});\n",
       "}}\n",
       "\n",
       "                        })                };                });            </script>        </div>"
      ]
     },
     "metadata": {},
     "output_type": "display_data"
    }
   ],
   "source": [
    "fig = go.Figure()\n",
    "fig.add_trace(go.Box(y=list(df.UMIs_Mapped_To_TRA),name=\"UMIs_Mapped_To_TRA\"))\n",
    "fig.add_trace(go.Box(y=list(df.UMIs_Mapped_To_TRB),name=\"UMIs_Mapped_To_TRB\"))\n",
    "fig.add_trace(go.Box(y=list(df.UMIs_Mapped_Confidently_To_VJ_Gene),name=\"UMIs_Mapped_Confidently_To_VJ_Gene\"))\n",
    "fig.update_layout(title={\"text\":f'{sample}',\n",
    "                         'y':0.98, 'x':0.40, 'xanchor': 'center', 'yanchor': 'top'},\n",
    "                          yaxis_title = \"Mapping Percent(%)\", font=dict(size=18,color=\"Black\"))\n",
    "\n",
    "#fig.write_image(f\"{OUT_PATH}/boxplot.png\", scale=4, width=1680, height=1024)\n",
    "fig.show()"
   ]
  },
  {
   "cell_type": "code",
   "execution_count": 19,
   "id": "rubber-subdivision",
   "metadata": {},
   "outputs": [],
   "source": [
    "fig = px.scatter(\n",
    "    df, # scatter绘制散点图\n",
    "    x='Raw_Reads',    #  x轴\n",
    "    y='Clonotype_Diversity',  # y轴\n",
    "    #color = 'Clonotype_Diversity',\n",
    "    labels = calc_corr(df[\"Raw_Reads\"], df[\"Clonotype_Diversity\"]),\n",
    "    width=1680, height=1024,\n",
    "    color = 'Sample',\n",
    ")\n",
    "fig.update_traces(marker_size=40)\n",
    "fig.update_layout(title={\"text\":f'{sample} Diversity (Correlation={calc_corr(df[\"Raw_Reads\"], df[\"Clonotype_Diversity\"])})',\n",
    "                         'y':0.98, 'x':0.5, 'xanchor': 'center', 'yanchor': 'top'},\n",
    "                  xaxis_title = \"Mean Raw_Reads\", yaxis_title = \"Mean Clonotype_Diversity\", font=dict(size=18,color=\"Black\"))\n",
    "\n",
    "fig.write_image(f\"{OUT_PATH}/diversity_read_scatter.png\", scale=4)\n",
    "#fig.show()"
   ]
  },
  {
   "cell_type": "code",
   "execution_count": 20,
   "id": "lightweight-celtic",
   "metadata": {},
   "outputs": [],
   "source": [
    "fig = px.scatter(\n",
    "    df, # scatter绘制散点图\n",
    "    x='UMI_Counts',    #  x轴\n",
    "    y='Clonotype_Diversity',  # y轴\n",
    "    color = 'Sample',\n",
    "    labels = calc_corr(df[\"UMI_Counts\"], df[\"Clonotype_Diversity\"]),\n",
    "    width=1680, height=1024\n",
    ")\n",
    "fig.update_traces(marker_size=40)\n",
    "fig.update_layout(title={\"text\":f'{sample} Diversity (Correlation={calc_corr(df[\"UMI_Counts\"], df[\"Clonotype_Diversity\"])})',\n",
    "                         'y':0.98, 'x':0.5, 'xanchor': 'center', 'yanchor': 'top'},\n",
    "                  xaxis_title = \"Mean UMI_Counts\", yaxis_title = \"Mean Clonotype_Diversity\", font=dict(size=18,color=\"Black\"))\n",
    "\n",
    "fig.write_image(f\"{OUT_PATH}/diversity_umi_scatter.png\", scale=4)\n",
    "#fig.show()"
   ]
  },
  {
   "cell_type": "code",
   "execution_count": 41,
   "id": "anonymous-sapphire",
   "metadata": {},
   "outputs": [
    {
     "data": {
      "application/vnd.plotly.v1+json": {
       "config": {
        "plotlyServerURL": "https://plot.ly"
       },
       "data": [
        {
         "alignmentgroup": "True",
         "hovertemplate": "Sample=%{x}<br>Clonotype_Diversity=%{y}<extra></extra>",
         "legendgroup": "Hum_PBMC_1",
         "marker": {
          "color": "#636efa",
          "pattern": {
           "shape": ""
          }
         },
         "name": "Hum_PBMC_1",
         "offsetgroup": "Hum_PBMC_1",
         "orientation": "v",
         "showlegend": true,
         "textposition": "auto",
         "type": "bar",
         "x": [
          "Hum_PBMC_1"
         ],
         "xaxis": "x",
         "y": [
          1448.93
         ],
         "yaxis": "y"
        },
        {
         "alignmentgroup": "True",
         "hovertemplate": "Sample=%{x}<br>Clonotype_Diversity=%{y}<extra></extra>",
         "legendgroup": "Hum_PBMC_2",
         "marker": {
          "color": "#EF553B",
          "pattern": {
           "shape": ""
          }
         },
         "name": "Hum_PBMC_2",
         "offsetgroup": "Hum_PBMC_2",
         "orientation": "v",
         "showlegend": true,
         "textposition": "auto",
         "type": "bar",
         "x": [
          "Hum_PBMC_2"
         ],
         "xaxis": "x",
         "y": [
          1422.92
         ],
         "yaxis": "y"
        },
        {
         "alignmentgroup": "True",
         "hovertemplate": "Sample=%{x}<br>Clonotype_Diversity=%{y}<extra></extra>",
         "legendgroup": "Hum_3T3_3",
         "marker": {
          "color": "#00cc96",
          "pattern": {
           "shape": ""
          }
         },
         "name": "Hum_3T3_3",
         "offsetgroup": "Hum_3T3_3",
         "orientation": "v",
         "showlegend": true,
         "textposition": "auto",
         "type": "bar",
         "x": [
          "Hum_3T3_3"
         ],
         "xaxis": "x",
         "y": [
          318.35
         ],
         "yaxis": "y"
        },
        {
         "alignmentgroup": "True",
         "hovertemplate": "Sample=%{x}<br>Clonotype_Diversity=%{y}<extra></extra>",
         "legendgroup": "Hum_PBMC_4",
         "marker": {
          "color": "#ab63fa",
          "pattern": {
           "shape": ""
          }
         },
         "name": "Hum_PBMC_4",
         "offsetgroup": "Hum_PBMC_4",
         "orientation": "v",
         "showlegend": true,
         "textposition": "auto",
         "type": "bar",
         "x": [
          "Hum_PBMC_4"
         ],
         "xaxis": "x",
         "y": [
          1350.26
         ],
         "yaxis": "y"
        },
        {
         "alignmentgroup": "True",
         "hovertemplate": "Sample=%{x}<br>Clonotype_Diversity=%{y}<extra></extra>",
         "legendgroup": "Hum_PBMC_5",
         "marker": {
          "color": "#FFA15A",
          "pattern": {
           "shape": ""
          }
         },
         "name": "Hum_PBMC_5",
         "offsetgroup": "Hum_PBMC_5",
         "orientation": "v",
         "showlegend": true,
         "textposition": "auto",
         "type": "bar",
         "x": [
          "Hum_PBMC_5"
         ],
         "xaxis": "x",
         "y": [
          1428.44
         ],
         "yaxis": "y"
        },
        {
         "alignmentgroup": "True",
         "hovertemplate": "Sample=%{x}<br>Clonotype_Diversity=%{y}<extra></extra>",
         "legendgroup": "Hum_3T3_6",
         "marker": {
          "color": "#19d3f3",
          "pattern": {
           "shape": ""
          }
         },
         "name": "Hum_3T3_6",
         "offsetgroup": "Hum_3T3_6",
         "orientation": "v",
         "showlegend": true,
         "textposition": "auto",
         "type": "bar",
         "x": [
          "Hum_3T3_6"
         ],
         "xaxis": "x",
         "y": [
          474.18
         ],
         "yaxis": "y"
        },
        {
         "alignmentgroup": "True",
         "hovertemplate": "Sample=%{x}<br>Clonotype_Diversity=%{y}<extra></extra>",
         "legendgroup": "Hum_PBMC_7",
         "marker": {
          "color": "#FF6692",
          "pattern": {
           "shape": ""
          }
         },
         "name": "Hum_PBMC_7",
         "offsetgroup": "Hum_PBMC_7",
         "orientation": "v",
         "showlegend": true,
         "textposition": "auto",
         "type": "bar",
         "x": [
          "Hum_PBMC_7"
         ],
         "xaxis": "x",
         "y": [
          1492.71
         ],
         "yaxis": "y"
        },
        {
         "alignmentgroup": "True",
         "hovertemplate": "Sample=%{x}<br>Clonotype_Diversity=%{y}<extra></extra>",
         "legendgroup": "Hum_PBMC_8",
         "marker": {
          "color": "#B6E880",
          "pattern": {
           "shape": ""
          }
         },
         "name": "Hum_PBMC_8",
         "offsetgroup": "Hum_PBMC_8",
         "orientation": "v",
         "showlegend": true,
         "textposition": "auto",
         "type": "bar",
         "x": [
          "Hum_PBMC_8"
         ],
         "xaxis": "x",
         "y": [
          1359.42
         ],
         "yaxis": "y"
        }
       ],
       "layout": {
        "autosize": true,
        "barmode": "relative",
        "font": {
         "color": "Black",
         "size": 18
        },
        "legend": {
         "title": {
          "text": "Sample"
         },
         "tracegroupgap": 0
        },
        "margin": {
         "t": 60
        },
        "template": {
         "data": {
          "bar": [
           {
            "error_x": {
             "color": "#2a3f5f"
            },
            "error_y": {
             "color": "#2a3f5f"
            },
            "marker": {
             "line": {
              "color": "#E5ECF6",
              "width": 0.5
             },
             "pattern": {
              "fillmode": "overlay",
              "size": 10,
              "solidity": 0.2
             }
            },
            "type": "bar"
           }
          ],
          "barpolar": [
           {
            "marker": {
             "line": {
              "color": "#E5ECF6",
              "width": 0.5
             },
             "pattern": {
              "fillmode": "overlay",
              "size": 10,
              "solidity": 0.2
             }
            },
            "type": "barpolar"
           }
          ],
          "carpet": [
           {
            "aaxis": {
             "endlinecolor": "#2a3f5f",
             "gridcolor": "white",
             "linecolor": "white",
             "minorgridcolor": "white",
             "startlinecolor": "#2a3f5f"
            },
            "baxis": {
             "endlinecolor": "#2a3f5f",
             "gridcolor": "white",
             "linecolor": "white",
             "minorgridcolor": "white",
             "startlinecolor": "#2a3f5f"
            },
            "type": "carpet"
           }
          ],
          "choropleth": [
           {
            "colorbar": {
             "outlinewidth": 0,
             "ticks": ""
            },
            "type": "choropleth"
           }
          ],
          "contour": [
           {
            "colorbar": {
             "outlinewidth": 0,
             "ticks": ""
            },
            "colorscale": [
             [
              0,
              "#0d0887"
             ],
             [
              0.1111111111111111,
              "#46039f"
             ],
             [
              0.2222222222222222,
              "#7201a8"
             ],
             [
              0.3333333333333333,
              "#9c179e"
             ],
             [
              0.4444444444444444,
              "#bd3786"
             ],
             [
              0.5555555555555556,
              "#d8576b"
             ],
             [
              0.6666666666666666,
              "#ed7953"
             ],
             [
              0.7777777777777778,
              "#fb9f3a"
             ],
             [
              0.8888888888888888,
              "#fdca26"
             ],
             [
              1,
              "#f0f921"
             ]
            ],
            "type": "contour"
           }
          ],
          "contourcarpet": [
           {
            "colorbar": {
             "outlinewidth": 0,
             "ticks": ""
            },
            "type": "contourcarpet"
           }
          ],
          "heatmap": [
           {
            "colorbar": {
             "outlinewidth": 0,
             "ticks": ""
            },
            "colorscale": [
             [
              0,
              "#0d0887"
             ],
             [
              0.1111111111111111,
              "#46039f"
             ],
             [
              0.2222222222222222,
              "#7201a8"
             ],
             [
              0.3333333333333333,
              "#9c179e"
             ],
             [
              0.4444444444444444,
              "#bd3786"
             ],
             [
              0.5555555555555556,
              "#d8576b"
             ],
             [
              0.6666666666666666,
              "#ed7953"
             ],
             [
              0.7777777777777778,
              "#fb9f3a"
             ],
             [
              0.8888888888888888,
              "#fdca26"
             ],
             [
              1,
              "#f0f921"
             ]
            ],
            "type": "heatmap"
           }
          ],
          "heatmapgl": [
           {
            "colorbar": {
             "outlinewidth": 0,
             "ticks": ""
            },
            "colorscale": [
             [
              0,
              "#0d0887"
             ],
             [
              0.1111111111111111,
              "#46039f"
             ],
             [
              0.2222222222222222,
              "#7201a8"
             ],
             [
              0.3333333333333333,
              "#9c179e"
             ],
             [
              0.4444444444444444,
              "#bd3786"
             ],
             [
              0.5555555555555556,
              "#d8576b"
             ],
             [
              0.6666666666666666,
              "#ed7953"
             ],
             [
              0.7777777777777778,
              "#fb9f3a"
             ],
             [
              0.8888888888888888,
              "#fdca26"
             ],
             [
              1,
              "#f0f921"
             ]
            ],
            "type": "heatmapgl"
           }
          ],
          "histogram": [
           {
            "marker": {
             "pattern": {
              "fillmode": "overlay",
              "size": 10,
              "solidity": 0.2
             }
            },
            "type": "histogram"
           }
          ],
          "histogram2d": [
           {
            "colorbar": {
             "outlinewidth": 0,
             "ticks": ""
            },
            "colorscale": [
             [
              0,
              "#0d0887"
             ],
             [
              0.1111111111111111,
              "#46039f"
             ],
             [
              0.2222222222222222,
              "#7201a8"
             ],
             [
              0.3333333333333333,
              "#9c179e"
             ],
             [
              0.4444444444444444,
              "#bd3786"
             ],
             [
              0.5555555555555556,
              "#d8576b"
             ],
             [
              0.6666666666666666,
              "#ed7953"
             ],
             [
              0.7777777777777778,
              "#fb9f3a"
             ],
             [
              0.8888888888888888,
              "#fdca26"
             ],
             [
              1,
              "#f0f921"
             ]
            ],
            "type": "histogram2d"
           }
          ],
          "histogram2dcontour": [
           {
            "colorbar": {
             "outlinewidth": 0,
             "ticks": ""
            },
            "colorscale": [
             [
              0,
              "#0d0887"
             ],
             [
              0.1111111111111111,
              "#46039f"
             ],
             [
              0.2222222222222222,
              "#7201a8"
             ],
             [
              0.3333333333333333,
              "#9c179e"
             ],
             [
              0.4444444444444444,
              "#bd3786"
             ],
             [
              0.5555555555555556,
              "#d8576b"
             ],
             [
              0.6666666666666666,
              "#ed7953"
             ],
             [
              0.7777777777777778,
              "#fb9f3a"
             ],
             [
              0.8888888888888888,
              "#fdca26"
             ],
             [
              1,
              "#f0f921"
             ]
            ],
            "type": "histogram2dcontour"
           }
          ],
          "mesh3d": [
           {
            "colorbar": {
             "outlinewidth": 0,
             "ticks": ""
            },
            "type": "mesh3d"
           }
          ],
          "parcoords": [
           {
            "line": {
             "colorbar": {
              "outlinewidth": 0,
              "ticks": ""
             }
            },
            "type": "parcoords"
           }
          ],
          "pie": [
           {
            "automargin": true,
            "type": "pie"
           }
          ],
          "scatter": [
           {
            "fillpattern": {
             "fillmode": "overlay",
             "size": 10,
             "solidity": 0.2
            },
            "type": "scatter"
           }
          ],
          "scatter3d": [
           {
            "line": {
             "colorbar": {
              "outlinewidth": 0,
              "ticks": ""
             }
            },
            "marker": {
             "colorbar": {
              "outlinewidth": 0,
              "ticks": ""
             }
            },
            "type": "scatter3d"
           }
          ],
          "scattercarpet": [
           {
            "marker": {
             "colorbar": {
              "outlinewidth": 0,
              "ticks": ""
             }
            },
            "type": "scattercarpet"
           }
          ],
          "scattergeo": [
           {
            "marker": {
             "colorbar": {
              "outlinewidth": 0,
              "ticks": ""
             }
            },
            "type": "scattergeo"
           }
          ],
          "scattergl": [
           {
            "marker": {
             "colorbar": {
              "outlinewidth": 0,
              "ticks": ""
             }
            },
            "type": "scattergl"
           }
          ],
          "scattermapbox": [
           {
            "marker": {
             "colorbar": {
              "outlinewidth": 0,
              "ticks": ""
             }
            },
            "type": "scattermapbox"
           }
          ],
          "scatterpolar": [
           {
            "marker": {
             "colorbar": {
              "outlinewidth": 0,
              "ticks": ""
             }
            },
            "type": "scatterpolar"
           }
          ],
          "scatterpolargl": [
           {
            "marker": {
             "colorbar": {
              "outlinewidth": 0,
              "ticks": ""
             }
            },
            "type": "scatterpolargl"
           }
          ],
          "scatterternary": [
           {
            "marker": {
             "colorbar": {
              "outlinewidth": 0,
              "ticks": ""
             }
            },
            "type": "scatterternary"
           }
          ],
          "surface": [
           {
            "colorbar": {
             "outlinewidth": 0,
             "ticks": ""
            },
            "colorscale": [
             [
              0,
              "#0d0887"
             ],
             [
              0.1111111111111111,
              "#46039f"
             ],
             [
              0.2222222222222222,
              "#7201a8"
             ],
             [
              0.3333333333333333,
              "#9c179e"
             ],
             [
              0.4444444444444444,
              "#bd3786"
             ],
             [
              0.5555555555555556,
              "#d8576b"
             ],
             [
              0.6666666666666666,
              "#ed7953"
             ],
             [
              0.7777777777777778,
              "#fb9f3a"
             ],
             [
              0.8888888888888888,
              "#fdca26"
             ],
             [
              1,
              "#f0f921"
             ]
            ],
            "type": "surface"
           }
          ],
          "table": [
           {
            "cells": {
             "fill": {
              "color": "#EBF0F8"
             },
             "line": {
              "color": "white"
             }
            },
            "header": {
             "fill": {
              "color": "#C8D4E3"
             },
             "line": {
              "color": "white"
             }
            },
            "type": "table"
           }
          ]
         },
         "layout": {
          "annotationdefaults": {
           "arrowcolor": "#2a3f5f",
           "arrowhead": 0,
           "arrowwidth": 1
          },
          "autotypenumbers": "strict",
          "coloraxis": {
           "colorbar": {
            "outlinewidth": 0,
            "ticks": ""
           }
          },
          "colorscale": {
           "diverging": [
            [
             0,
             "#8e0152"
            ],
            [
             0.1,
             "#c51b7d"
            ],
            [
             0.2,
             "#de77ae"
            ],
            [
             0.3,
             "#f1b6da"
            ],
            [
             0.4,
             "#fde0ef"
            ],
            [
             0.5,
             "#f7f7f7"
            ],
            [
             0.6,
             "#e6f5d0"
            ],
            [
             0.7,
             "#b8e186"
            ],
            [
             0.8,
             "#7fbc41"
            ],
            [
             0.9,
             "#4d9221"
            ],
            [
             1,
             "#276419"
            ]
           ],
           "sequential": [
            [
             0,
             "#0d0887"
            ],
            [
             0.1111111111111111,
             "#46039f"
            ],
            [
             0.2222222222222222,
             "#7201a8"
            ],
            [
             0.3333333333333333,
             "#9c179e"
            ],
            [
             0.4444444444444444,
             "#bd3786"
            ],
            [
             0.5555555555555556,
             "#d8576b"
            ],
            [
             0.6666666666666666,
             "#ed7953"
            ],
            [
             0.7777777777777778,
             "#fb9f3a"
            ],
            [
             0.8888888888888888,
             "#fdca26"
            ],
            [
             1,
             "#f0f921"
            ]
           ],
           "sequentialminus": [
            [
             0,
             "#0d0887"
            ],
            [
             0.1111111111111111,
             "#46039f"
            ],
            [
             0.2222222222222222,
             "#7201a8"
            ],
            [
             0.3333333333333333,
             "#9c179e"
            ],
            [
             0.4444444444444444,
             "#bd3786"
            ],
            [
             0.5555555555555556,
             "#d8576b"
            ],
            [
             0.6666666666666666,
             "#ed7953"
            ],
            [
             0.7777777777777778,
             "#fb9f3a"
            ],
            [
             0.8888888888888888,
             "#fdca26"
            ],
            [
             1,
             "#f0f921"
            ]
           ]
          },
          "colorway": [
           "#636efa",
           "#EF553B",
           "#00cc96",
           "#ab63fa",
           "#FFA15A",
           "#19d3f3",
           "#FF6692",
           "#B6E880",
           "#FF97FF",
           "#FECB52"
          ],
          "font": {
           "color": "#2a3f5f"
          },
          "geo": {
           "bgcolor": "white",
           "lakecolor": "white",
           "landcolor": "#E5ECF6",
           "showlakes": true,
           "showland": true,
           "subunitcolor": "white"
          },
          "hoverlabel": {
           "align": "left"
          },
          "hovermode": "closest",
          "mapbox": {
           "style": "light"
          },
          "paper_bgcolor": "white",
          "plot_bgcolor": "#E5ECF6",
          "polar": {
           "angularaxis": {
            "gridcolor": "white",
            "linecolor": "white",
            "ticks": ""
           },
           "bgcolor": "#E5ECF6",
           "radialaxis": {
            "gridcolor": "white",
            "linecolor": "white",
            "ticks": ""
           }
          },
          "scene": {
           "xaxis": {
            "backgroundcolor": "#E5ECF6",
            "gridcolor": "white",
            "gridwidth": 2,
            "linecolor": "white",
            "showbackground": true,
            "ticks": "",
            "zerolinecolor": "white"
           },
           "yaxis": {
            "backgroundcolor": "#E5ECF6",
            "gridcolor": "white",
            "gridwidth": 2,
            "linecolor": "white",
            "showbackground": true,
            "ticks": "",
            "zerolinecolor": "white"
           },
           "zaxis": {
            "backgroundcolor": "#E5ECF6",
            "gridcolor": "white",
            "gridwidth": 2,
            "linecolor": "white",
            "showbackground": true,
            "ticks": "",
            "zerolinecolor": "white"
           }
          },
          "shapedefaults": {
           "line": {
            "color": "#2a3f5f"
           }
          },
          "ternary": {
           "aaxis": {
            "gridcolor": "white",
            "linecolor": "white",
            "ticks": ""
           },
           "baxis": {
            "gridcolor": "white",
            "linecolor": "white",
            "ticks": ""
           },
           "bgcolor": "#E5ECF6",
           "caxis": {
            "gridcolor": "white",
            "linecolor": "white",
            "ticks": ""
           }
          },
          "title": {
           "x": 0.05
          },
          "xaxis": {
           "automargin": true,
           "gridcolor": "white",
           "linecolor": "white",
           "ticks": "",
           "title": {
            "standoff": 15
           },
           "zerolinecolor": "white",
           "zerolinewidth": 2
          },
          "yaxis": {
           "automargin": true,
           "gridcolor": "white",
           "linecolor": "white",
           "ticks": "",
           "title": {
            "standoff": 15
           },
           "zerolinecolor": "white",
           "zerolinewidth": 2
          }
         }
        },
        "title": {
         "text": "Hum_PBMC",
         "x": 0.45,
         "xanchor": "center",
         "y": 0.98,
         "yanchor": "top"
        },
        "xaxis": {
         "anchor": "y",
         "autorange": true,
         "categoryarray": [
          "Hum_PBMC_1",
          "Hum_PBMC_2",
          "Hum_3T3_3",
          "Hum_PBMC_4",
          "Hum_PBMC_5",
          "Hum_3T3_6",
          "Hum_PBMC_7",
          "Hum_PBMC_8"
         ],
         "categoryorder": "array",
         "domain": [
          0,
          1
         ],
         "range": [
          -0.5,
          7.5
         ],
         "title": {
          "text": "Sample"
         },
         "type": "category"
        },
        "yaxis": {
         "anchor": "x",
         "autorange": true,
         "domain": [
          0,
          1
         ],
         "range": [
          0,
          1571.2736842105264
         ],
         "title": {
          "text": "Mean Clonotype_Diversity"
         },
         "type": "linear"
        }
       }
      },
      "image/png": "[encoded data removed]",
      "text/html": [
       "<div>                            <div id=\"2669c2b2-1fd9-45a9-8ede-345fa66d0cb1\" class=\"plotly-graph-div\" style=\"height:525px; width:100%;\"></div>            <script type=\"text/javascript\">                require([\"plotly\"], function(Plotly) {                    window.PLOTLYENV=window.PLOTLYENV || {};                                    if (document.getElementById(\"2669c2b2-1fd9-45a9-8ede-345fa66d0cb1\")) {                    Plotly.newPlot(                        \"2669c2b2-1fd9-45a9-8ede-345fa66d0cb1\",                        [{\"alignmentgroup\":\"True\",\"hovertemplate\":\"Sample=%{x}<br>Clonotype_Diversity=%{y}<extra></extra>\",\"legendgroup\":\"Hum_PBMC_1\",\"marker\":{\"color\":\"#636efa\",\"pattern\":{\"shape\":\"\"}},\"name\":\"Hum_PBMC_1\",\"offsetgroup\":\"Hum_PBMC_1\",\"orientation\":\"v\",\"showlegend\":true,\"textposition\":\"auto\",\"x\":[\"Hum_PBMC_1\"],\"xaxis\":\"x\",\"y\":[1448.93],\"yaxis\":\"y\",\"type\":\"bar\"},{\"alignmentgroup\":\"True\",\"hovertemplate\":\"Sample=%{x}<br>Clonotype_Diversity=%{y}<extra></extra>\",\"legendgroup\":\"Hum_PBMC_2\",\"marker\":{\"color\":\"#EF553B\",\"pattern\":{\"shape\":\"\"}},\"name\":\"Hum_PBMC_2\",\"offsetgroup\":\"Hum_PBMC_2\",\"orientation\":\"v\",\"showlegend\":true,\"textposition\":\"auto\",\"x\":[\"Hum_PBMC_2\"],\"xaxis\":\"x\",\"y\":[1422.92],\"yaxis\":\"y\",\"type\":\"bar\"},{\"alignmentgroup\":\"True\",\"hovertemplate\":\"Sample=%{x}<br>Clonotype_Diversity=%{y}<extra></extra>\",\"legendgroup\":\"Hum_3T3_3\",\"marker\":{\"color\":\"#00cc96\",\"pattern\":{\"shape\":\"\"}},\"name\":\"Hum_3T3_3\",\"offsetgroup\":\"Hum_3T3_3\",\"orientation\":\"v\",\"showlegend\":true,\"textposition\":\"auto\",\"x\":[\"Hum_3T3_3\"],\"xaxis\":\"x\",\"y\":[318.35],\"yaxis\":\"y\",\"type\":\"bar\"},{\"alignmentgroup\":\"True\",\"hovertemplate\":\"Sample=%{x}<br>Clonotype_Diversity=%{y}<extra></extra>\",\"legendgroup\":\"Hum_PBMC_4\",\"marker\":{\"color\":\"#ab63fa\",\"pattern\":{\"shape\":\"\"}},\"name\":\"Hum_PBMC_4\",\"offsetgroup\":\"Hum_PBMC_4\",\"orientation\":\"v\",\"showlegend\":true,\"textposition\":\"auto\",\"x\":[\"Hum_PBMC_4\"],\"xaxis\":\"x\",\"y\":[1350.26],\"yaxis\":\"y\",\"type\":\"bar\"},{\"alignmentgroup\":\"True\",\"hovertemplate\":\"Sample=%{x}<br>Clonotype_Diversity=%{y}<extra></extra>\",\"legendgroup\":\"Hum_PBMC_5\",\"marker\":{\"color\":\"#FFA15A\",\"pattern\":{\"shape\":\"\"}},\"name\":\"Hum_PBMC_5\",\"offsetgroup\":\"Hum_PBMC_5\",\"orientation\":\"v\",\"showlegend\":true,\"textposition\":\"auto\",\"x\":[\"Hum_PBMC_5\"],\"xaxis\":\"x\",\"y\":[1428.44],\"yaxis\":\"y\",\"type\":\"bar\"},{\"alignmentgroup\":\"True\",\"hovertemplate\":\"Sample=%{x}<br>Clonotype_Diversity=%{y}<extra></extra>\",\"legendgroup\":\"Hum_3T3_6\",\"marker\":{\"color\":\"#19d3f3\",\"pattern\":{\"shape\":\"\"}},\"name\":\"Hum_3T3_6\",\"offsetgroup\":\"Hum_3T3_6\",\"orientation\":\"v\",\"showlegend\":true,\"textposition\":\"auto\",\"x\":[\"Hum_3T3_6\"],\"xaxis\":\"x\",\"y\":[474.18],\"yaxis\":\"y\",\"type\":\"bar\"},{\"alignmentgroup\":\"True\",\"hovertemplate\":\"Sample=%{x}<br>Clonotype_Diversity=%{y}<extra></extra>\",\"legendgroup\":\"Hum_PBMC_7\",\"marker\":{\"color\":\"#FF6692\",\"pattern\":{\"shape\":\"\"}},\"name\":\"Hum_PBMC_7\",\"offsetgroup\":\"Hum_PBMC_7\",\"orientation\":\"v\",\"showlegend\":true,\"textposition\":\"auto\",\"x\":[\"Hum_PBMC_7\"],\"xaxis\":\"x\",\"y\":[1492.71],\"yaxis\":\"y\",\"type\":\"bar\"},{\"alignmentgroup\":\"True\",\"hovertemplate\":\"Sample=%{x}<br>Clonotype_Diversity=%{y}<extra></extra>\",\"legendgroup\":\"Hum_PBMC_8\",\"marker\":{\"color\":\"#B6E880\",\"pattern\":{\"shape\":\"\"}},\"name\":\"Hum_PBMC_8\",\"offsetgroup\":\"Hum_PBMC_8\",\"orientation\":\"v\",\"showlegend\":true,\"textposition\":\"auto\",\"x\":[\"Hum_PBMC_8\"],\"xaxis\":\"x\",\"y\":[1359.42],\"yaxis\":\"y\",\"type\":\"bar\"}],                        {\"template\":{\"data\":{\"histogram2dcontour\":[{\"type\":\"histogram2dcontour\",\"colorbar\":{\"outlinewidth\":0,\"ticks\":\"\"},\"colorscale\":[[0.0,\"#0d0887\"],[0.1111111111111111,\"#46039f\"],[0.2222222222222222,\"#7201a8\"],[0.3333333333333333,\"#9c179e\"],[0.4444444444444444,\"#bd3786\"],[0.5555555555555556,\"#d8576b\"],[0.6666666666666666,\"#ed7953\"],[0.7777777777777778,\"#fb9f3a\"],[0.8888888888888888,\"#fdca26\"],[1.0,\"#f0f921\"]]}],\"choropleth\":[{\"type\":\"choropleth\",\"colorbar\":{\"outlinewidth\":0,\"ticks\":\"\"}}],\"histogram2d\":[{\"type\":\"histogram2d\",\"colorbar\":{\"outlinewidth\":0,\"ticks\":\"\"},\"colorscale\":[[0.0,\"#0d0887\"],[0.1111111111111111,\"#46039f\"],[0.2222222222222222,\"#7201a8\"],[0.3333333333333333,\"#9c179e\"],[0.4444444444444444,\"#bd3786\"],[0.5555555555555556,\"#d8576b\"],[0.6666666666666666,\"#ed7953\"],[0.7777777777777778,\"#fb9f3a\"],[0.8888888888888888,\"#fdca26\"],[1.0,\"#f0f921\"]]}],\"heatmap\":[{\"type\":\"heatmap\",\"colorbar\":{\"outlinewidth\":0,\"ticks\":\"\"},\"colorscale\":[[0.0,\"#0d0887\"],[0.1111111111111111,\"#46039f\"],[0.2222222222222222,\"#7201a8\"],[0.3333333333333333,\"#9c179e\"],[0.4444444444444444,\"#bd3786\"],[0.5555555555555556,\"#d8576b\"],[0.6666666666666666,\"#ed7953\"],[0.7777777777777778,\"#fb9f3a\"],[0.8888888888888888,\"#fdca26\"],[1.0,\"#f0f921\"]]}],\"heatmapgl\":[{\"type\":\"heatmapgl\",\"colorbar\":{\"outlinewidth\":0,\"ticks\":\"\"},\"colorscale\":[[0.0,\"#0d0887\"],[0.1111111111111111,\"#46039f\"],[0.2222222222222222,\"#7201a8\"],[0.3333333333333333,\"#9c179e\"],[0.4444444444444444,\"#bd3786\"],[0.5555555555555556,\"#d8576b\"],[0.6666666666666666,\"#ed7953\"],[0.7777777777777778,\"#fb9f3a\"],[0.8888888888888888,\"#fdca26\"],[1.0,\"#f0f921\"]]}],\"contourcarpet\":[{\"type\":\"contourcarpet\",\"colorbar\":{\"outlinewidth\":0,\"ticks\":\"\"}}],\"contour\":[{\"type\":\"contour\",\"colorbar\":{\"outlinewidth\":0,\"ticks\":\"\"},\"colorscale\":[[0.0,\"#0d0887\"],[0.1111111111111111,\"#46039f\"],[0.2222222222222222,\"#7201a8\"],[0.3333333333333333,\"#9c179e\"],[0.4444444444444444,\"#bd3786\"],[0.5555555555555556,\"#d8576b\"],[0.6666666666666666,\"#ed7953\"],[0.7777777777777778,\"#fb9f3a\"],[0.8888888888888888,\"#fdca26\"],[1.0,\"#f0f921\"]]}],\"surface\":[{\"type\":\"surface\",\"colorbar\":{\"outlinewidth\":0,\"ticks\":\"\"},\"colorscale\":[[0.0,\"#0d0887\"],[0.1111111111111111,\"#46039f\"],[0.2222222222222222,\"#7201a8\"],[0.3333333333333333,\"#9c179e\"],[0.4444444444444444,\"#bd3786\"],[0.5555555555555556,\"#d8576b\"],[0.6666666666666666,\"#ed7953\"],[0.7777777777777778,\"#fb9f3a\"],[0.8888888888888888,\"#fdca26\"],[1.0,\"#f0f921\"]]}],\"mesh3d\":[{\"type\":\"mesh3d\",\"colorbar\":{\"outlinewidth\":0,\"ticks\":\"\"}}],\"scatter\":[{\"fillpattern\":{\"fillmode\":\"overlay\",\"size\":10,\"solidity\":0.2},\"type\":\"scatter\"}],\"parcoords\":[{\"type\":\"parcoords\",\"line\":{\"colorbar\":{\"outlinewidth\":0,\"ticks\":\"\"}}}],\"scatterpolargl\":[{\"type\":\"scatterpolargl\",\"marker\":{\"colorbar\":{\"outlinewidth\":0,\"ticks\":\"\"}}}],\"bar\":[{\"error_x\":{\"color\":\"#2a3f5f\"},\"error_y\":{\"color\":\"#2a3f5f\"},\"marker\":{\"line\":{\"color\":\"#E5ECF6\",\"width\":0.5},\"pattern\":{\"fillmode\":\"overlay\",\"size\":10,\"solidity\":0.2}},\"type\":\"bar\"}],\"scattergeo\":[{\"type\":\"scattergeo\",\"marker\":{\"colorbar\":{\"outlinewidth\":0,\"ticks\":\"\"}}}],\"scatterpolar\":[{\"type\":\"scatterpolar\",\"marker\":{\"colorbar\":{\"outlinewidth\":0,\"ticks\":\"\"}}}],\"histogram\":[{\"marker\":{\"pattern\":{\"fillmode\":\"overlay\",\"size\":10,\"solidity\":0.2}},\"type\":\"histogram\"}],\"scattergl\":[{\"type\":\"scattergl\",\"marker\":{\"colorbar\":{\"outlinewidth\":0,\"ticks\":\"\"}}}],\"scatter3d\":[{\"type\":\"scatter3d\",\"line\":{\"colorbar\":{\"outlinewidth\":0,\"ticks\":\"\"}},\"marker\":{\"colorbar\":{\"outlinewidth\":0,\"ticks\":\"\"}}}],\"scattermapbox\":[{\"type\":\"scattermapbox\",\"marker\":{\"colorbar\":{\"outlinewidth\":0,\"ticks\":\"\"}}}],\"scatterternary\":[{\"type\":\"scatterternary\",\"marker\":{\"colorbar\":{\"outlinewidth\":0,\"ticks\":\"\"}}}],\"scattercarpet\":[{\"type\":\"scattercarpet\",\"marker\":{\"colorbar\":{\"outlinewidth\":0,\"ticks\":\"\"}}}],\"carpet\":[{\"aaxis\":{\"endlinecolor\":\"#2a3f5f\",\"gridcolor\":\"white\",\"linecolor\":\"white\",\"minorgridcolor\":\"white\",\"startlinecolor\":\"#2a3f5f\"},\"baxis\":{\"endlinecolor\":\"#2a3f5f\",\"gridcolor\":\"white\",\"linecolor\":\"white\",\"minorgridcolor\":\"white\",\"startlinecolor\":\"#2a3f5f\"},\"type\":\"carpet\"}],\"table\":[{\"cells\":{\"fill\":{\"color\":\"#EBF0F8\"},\"line\":{\"color\":\"white\"}},\"header\":{\"fill\":{\"color\":\"#C8D4E3\"},\"line\":{\"color\":\"white\"}},\"type\":\"table\"}],\"barpolar\":[{\"marker\":{\"line\":{\"color\":\"#E5ECF6\",\"width\":0.5},\"pattern\":{\"fillmode\":\"overlay\",\"size\":10,\"solidity\":0.2}},\"type\":\"barpolar\"}],\"pie\":[{\"automargin\":true,\"type\":\"pie\"}]},\"layout\":{\"autotypenumbers\":\"strict\",\"colorway\":[\"#636efa\",\"#EF553B\",\"#00cc96\",\"#ab63fa\",\"#FFA15A\",\"#19d3f3\",\"#FF6692\",\"#B6E880\",\"#FF97FF\",\"#FECB52\"],\"font\":{\"color\":\"#2a3f5f\"},\"hovermode\":\"closest\",\"hoverlabel\":{\"align\":\"left\"},\"paper_bgcolor\":\"white\",\"plot_bgcolor\":\"#E5ECF6\",\"polar\":{\"bgcolor\":\"#E5ECF6\",\"angularaxis\":{\"gridcolor\":\"white\",\"linecolor\":\"white\",\"ticks\":\"\"},\"radialaxis\":{\"gridcolor\":\"white\",\"linecolor\":\"white\",\"ticks\":\"\"}},\"ternary\":{\"bgcolor\":\"#E5ECF6\",\"aaxis\":{\"gridcolor\":\"white\",\"linecolor\":\"white\",\"ticks\":\"\"},\"baxis\":{\"gridcolor\":\"white\",\"linecolor\":\"white\",\"ticks\":\"\"},\"caxis\":{\"gridcolor\":\"white\",\"linecolor\":\"white\",\"ticks\":\"\"}},\"coloraxis\":{\"colorbar\":{\"outlinewidth\":0,\"ticks\":\"\"}},\"colorscale\":{\"sequential\":[[0.0,\"#0d0887\"],[0.1111111111111111,\"#46039f\"],[0.2222222222222222,\"#7201a8\"],[0.3333333333333333,\"#9c179e\"],[0.4444444444444444,\"#bd3786\"],[0.5555555555555556,\"#d8576b\"],[0.6666666666666666,\"#ed7953\"],[0.7777777777777778,\"#fb9f3a\"],[0.8888888888888888,\"#fdca26\"],[1.0,\"#f0f921\"]],\"sequentialminus\":[[0.0,\"#0d0887\"],[0.1111111111111111,\"#46039f\"],[0.2222222222222222,\"#7201a8\"],[0.3333333333333333,\"#9c179e\"],[0.4444444444444444,\"#bd3786\"],[0.5555555555555556,\"#d8576b\"],[0.6666666666666666,\"#ed7953\"],[0.7777777777777778,\"#fb9f3a\"],[0.8888888888888888,\"#fdca26\"],[1.0,\"#f0f921\"]],\"diverging\":[[0,\"#8e0152\"],[0.1,\"#c51b7d\"],[0.2,\"#de77ae\"],[0.3,\"#f1b6da\"],[0.4,\"#fde0ef\"],[0.5,\"#f7f7f7\"],[0.6,\"#e6f5d0\"],[0.7,\"#b8e186\"],[0.8,\"#7fbc41\"],[0.9,\"#4d9221\"],[1,\"#276419\"]]},\"xaxis\":{\"gridcolor\":\"white\",\"linecolor\":\"white\",\"ticks\":\"\",\"title\":{\"standoff\":15},\"zerolinecolor\":\"white\",\"automargin\":true,\"zerolinewidth\":2},\"yaxis\":{\"gridcolor\":\"white\",\"linecolor\":\"white\",\"ticks\":\"\",\"title\":{\"standoff\":15},\"zerolinecolor\":\"white\",\"automargin\":true,\"zerolinewidth\":2},\"scene\":{\"xaxis\":{\"backgroundcolor\":\"#E5ECF6\",\"gridcolor\":\"white\",\"linecolor\":\"white\",\"showbackground\":true,\"ticks\":\"\",\"zerolinecolor\":\"white\",\"gridwidth\":2},\"yaxis\":{\"backgroundcolor\":\"#E5ECF6\",\"gridcolor\":\"white\",\"linecolor\":\"white\",\"showbackground\":true,\"ticks\":\"\",\"zerolinecolor\":\"white\",\"gridwidth\":2},\"zaxis\":{\"backgroundcolor\":\"#E5ECF6\",\"gridcolor\":\"white\",\"linecolor\":\"white\",\"showbackground\":true,\"ticks\":\"\",\"zerolinecolor\":\"white\",\"gridwidth\":2}},\"shapedefaults\":{\"line\":{\"color\":\"#2a3f5f\"}},\"annotationdefaults\":{\"arrowcolor\":\"#2a3f5f\",\"arrowhead\":0,\"arrowwidth\":1},\"geo\":{\"bgcolor\":\"white\",\"landcolor\":\"#E5ECF6\",\"subunitcolor\":\"white\",\"showland\":true,\"showlakes\":true,\"lakecolor\":\"white\"},\"title\":{\"x\":0.05},\"mapbox\":{\"style\":\"light\"}}},\"xaxis\":{\"anchor\":\"y\",\"domain\":[0.0,1.0],\"title\":{\"text\":\"Sample\"},\"categoryorder\":\"array\",\"categoryarray\":[\"Hum_PBMC_1\",\"Hum_PBMC_2\",\"Hum_3T3_3\",\"Hum_PBMC_4\",\"Hum_PBMC_5\",\"Hum_3T3_6\",\"Hum_PBMC_7\",\"Hum_PBMC_8\"]},\"yaxis\":{\"anchor\":\"x\",\"domain\":[0.0,1.0],\"title\":{\"text\":\"Mean Clonotype_Diversity\"}},\"legend\":{\"title\":{\"text\":\"Sample\"},\"tracegroupgap\":0},\"margin\":{\"t\":60},\"barmode\":\"relative\",\"title\":{\"text\":\"Hum_PBMC\",\"y\":0.98,\"x\":0.45,\"xanchor\":\"center\",\"yanchor\":\"top\"},\"font\":{\"size\":18,\"color\":\"Black\"}},                        {\"responsive\": true}                    ).then(function(){\n",
       "                            \n",
       "var gd = document.getElementById('2669c2b2-1fd9-45a9-8ede-345fa66d0cb1');\n",
       "var x = new MutationObserver(function (mutations, observer) {{\n",
       "        var display = window.getComputedStyle(gd).display;\n",
       "        if (!display || display === 'none') {{\n",
       "            console.log([gd, 'removed!']);\n",
       "            Plotly.purge(gd);\n",
       "            observer.disconnect();\n",
       "        }}\n",
       "}});\n",
       "\n",
       "// Listen for the removal of the full notebook cells\n",
       "var notebookContainer = gd.closest('#notebook-container');\n",
       "if (notebookContainer) {{\n",
       "    x.observe(notebookContainer, {childList: true});\n",
       "}}\n",
       "\n",
       "// Listen for the clearing of the current output cell\n",
       "var outputEl = gd.closest('.output');\n",
       "if (outputEl) {{\n",
       "    x.observe(outputEl, {childList: true});\n",
       "}}\n",
       "\n",
       "                        })                };                });            </script>        </div>"
      ]
     },
     "metadata": {},
     "output_type": "display_data"
    }
   ],
   "source": [
    "fig = px.bar(df, x=\"Sample\", y=\"Clonotype_Diversity\", color=\"Sample\")\n",
    "fig.update_layout(title={\"text\":f'{sample}',\n",
    "                         'y':0.98, 'x':0.45, 'xanchor': 'center', 'yanchor': 'top'},\n",
    "                          yaxis_title = \"Mean Clonotype_Diversity\", font=dict(size=18,color=\"Black\"))\n",
    "#fig.write_image(f\"{OUT_PATH}/Diversity_barplot.png\", scale=4, width=1680, height=1024)\n",
    "fig.show()"
   ]
  },
  {
   "cell_type": "code",
   "execution_count": 35,
   "id": "third-spanish",
   "metadata": {},
   "outputs": [],
   "source": []
  },
  {
   "cell_type": "code",
   "execution_count": 35,
   "id": "greenhouse-embassy",
   "metadata": {},
   "outputs": [],
   "source": []
  },
  {
   "cell_type": "code",
   "execution_count": 43,
   "id": "induced-screen",
   "metadata": {},
   "outputs": [],
   "source": [
    "# 8\n",
    "fig = px.bar(df, x=\"Sample\", y=\"UMIs_Mapped_Confidently_To_VJ_Gene\", color=\"Sample\")\n",
    "fig.update_layout(title={\"text\":f'{sample}',\n",
    "                         'y':0.98, 'x':0.45, 'xanchor': 'center', 'yanchor': 'top'},\n",
    "                          yaxis_title = \"UMIs_Mapped_Confidently_To_VJ_Gene(%)\", font=dict(size=18,color=\"Black\"))\n",
    "fig.write_image(\"/SGRNJ06/randd/USER/cjj/celedev/vdj_bulk/20230727plot/8/mapping_barplot.png\", scale=4, width=1680, height=1024)\n",
    "# fig.show()"
   ]
  },
  {
   "cell_type": "code",
   "execution_count": 35,
   "id": "irish-dependence",
   "metadata": {},
   "outputs": [],
   "source": []
  },
  {
   "cell_type": "code",
   "execution_count": 35,
   "id": "subjective-excerpt",
   "metadata": {},
   "outputs": [],
   "source": []
  },
  {
   "cell_type": "code",
   "execution_count": 22,
   "id": "touched-sentence",
   "metadata": {},
   "outputs": [],
   "source": [
    "# 5_6 \n",
    "df = df.sort_values(\"Sample\",  key=lambda x: x.str.replace(\"Mus_Spleen_fresh_\",'').str.replace(\"Mus_Spleen_freeze_\",'').str.replace('k','').astype(int))"
   ]
  },
  {
   "cell_type": "code",
   "execution_count": 24,
   "id": "gentle-olympus",
   "metadata": {},
   "outputs": [],
   "source": [
    "fig = px.histogram(df, x=\"Quantity\", y=\"Clonotype_Diversity\", color=\"Group\", barmode='group',)\n",
    "fig.update_layout(title={\"text\":f'{sample}',\n",
    "                         'y':0.98, 'x':0.45, 'xanchor': 'center', 'yanchor': 'top'},\n",
    "                          yaxis_title = \"Mean Clonotype_Diversity\", font=dict(size=18,color=\"Black\"))\n",
    "fig.write_image(f\"{OUT_PATH}/Diversity_Group_barplot.png\", scale=4, width=1680, height=1024)\n",
    "#fig.show()"
   ]
  },
  {
   "cell_type": "code",
   "execution_count": null,
   "id": "configured-browser",
   "metadata": {},
   "outputs": [],
   "source": []
  },
  {
   "cell_type": "code",
   "execution_count": 25,
   "id": "accepting-domestic",
   "metadata": {},
   "outputs": [],
   "source": [
    "df_new = pd.read_csv(\"/SGRNJ06/randd/USER/cjj/celedev/vdj_bulk/20230727plot/5_6/56_new.csv\")"
   ]
  },
  {
   "cell_type": "code",
   "execution_count": null,
   "id": "southern-digest",
   "metadata": {},
   "outputs": [],
   "source": [
    "df_new[\"Mapping Percent\"] = df_new[\"Mapping Percent\"].apply(lambda x: x.split('(')[-1]).str.replace(')','').str.replace(\"%\",'').astype(float)"
   ]
  },
  {
   "cell_type": "code",
   "execution_count": null,
   "id": "collect-enclosure",
   "metadata": {},
   "outputs": [],
   "source": [
    "df_new"
   ]
  },
  {
   "cell_type": "code",
   "execution_count": 32,
   "id": "laughing-ivory",
   "metadata": {},
   "outputs": [],
   "source": [
    "fig = px.box(df_new, x=\"Mapping GeneType\", y=\"Mapping Percent\", color=\"Group\")\n",
    "fig.update_traces(quartilemethod=\"exclusive\") # or \"inclusive\", or \"linear\" by default\n",
    "fig.update_layout(title={\"text\":f'{sample}',\n",
    "                         'y':0.98, 'x':0.45, 'xanchor': 'center', 'yanchor': 'top'},\n",
    "                          yaxis_title = \"Mapping Percent(%)\", xaxis_title = '', font=dict(size=18,color=\"Black\"))\n",
    "#fig.show()\n",
    "fig.write_image(f\"{OUT_PATH}/boxplot_Group.png\", scale=4, width=1680, height=1024)"
   ]
  },
  {
   "cell_type": "code",
   "execution_count": null,
   "id": "legal-clark",
   "metadata": {},
   "outputs": [],
   "source": []
  },
  {
   "cell_type": "code",
   "execution_count": null,
   "id": "north-digest",
   "metadata": {},
   "outputs": [],
   "source": []
  },
  {
   "cell_type": "code",
   "execution_count": null,
   "id": "stock-pricing",
   "metadata": {},
   "outputs": [],
   "source": []
  },
  {
   "cell_type": "code",
   "execution_count": null,
   "id": "killing-replication",
   "metadata": {},
   "outputs": [],
   "source": []
  },
  {
   "cell_type": "code",
   "execution_count": null,
   "id": "junior-steel",
   "metadata": {},
   "outputs": [],
   "source": []
  },
  {
   "cell_type": "code",
   "execution_count": null,
   "id": "nearby-polls",
   "metadata": {},
   "outputs": [],
   "source": []
  },
  {
   "cell_type": "code",
   "execution_count": null,
   "id": "structural-auckland",
   "metadata": {},
   "outputs": [],
   "source": []
  },
  {
   "cell_type": "code",
   "execution_count": 174,
   "id": "centered-person",
   "metadata": {},
   "outputs": [],
   "source": [
    "import pandas as pd"
   ]
  },
  {
   "cell_type": "code",
   "execution_count": 199,
   "id": "analyzed-maryland",
   "metadata": {},
   "outputs": [],
   "source": [
    "df = pd.read_csv(\"/SGRNJ06/randd/USER/cjj/celedev/vdj_bulk/20230727plot/9/9.csv\")"
   ]
  },
  {
   "cell_type": "code",
   "execution_count": 200,
   "id": "mechanical-frequency",
   "metadata": {},
   "outputs": [],
   "source": [
    "df.Raw_Reads = df.Raw_Reads.str.replace(',','').astype(float)\n",
    "df.UMI_Counts = df.UMI_Counts.str.replace(',','').astype(float)\n",
    "df.Clonotype_Diversity = df.Clonotype_Diversity.str.replace(',','').astype(float)"
   ]
  },
  {
   "cell_type": "code",
   "execution_count": 201,
   "id": "comprehensive-classic",
   "metadata": {},
   "outputs": [
    {
     "name": "stderr",
     "output_type": "stream",
     "text": [
      "/SGRNJ/Public/Software/conda_env/chenjunjie/lib/python3.7/site-packages/ipykernel_launcher.py:1: FutureWarning:\n",
      "\n",
      "The default value of regex will change from True to False in a future version. In addition, single character regular expressions will*not* be treated as literal strings when regex=True.\n",
      "\n",
      "/SGRNJ/Public/Software/conda_env/chenjunjie/lib/python3.7/site-packages/ipykernel_launcher.py:2: FutureWarning:\n",
      "\n",
      "The default value of regex will change from True to False in a future version. In addition, single character regular expressions will*not* be treated as literal strings when regex=True.\n",
      "\n",
      "/SGRNJ/Public/Software/conda_env/chenjunjie/lib/python3.7/site-packages/ipykernel_launcher.py:3: FutureWarning:\n",
      "\n",
      "The default value of regex will change from True to False in a future version. In addition, single character regular expressions will*not* be treated as literal strings when regex=True.\n",
      "\n",
      "/SGRNJ/Public/Software/conda_env/chenjunjie/lib/python3.7/site-packages/ipykernel_launcher.py:4: FutureWarning:\n",
      "\n",
      "The default value of regex will change from True to False in a future version. In addition, single character regular expressions will*not* be treated as literal strings when regex=True.\n",
      "\n",
      "/SGRNJ/Public/Software/conda_env/chenjunjie/lib/python3.7/site-packages/ipykernel_launcher.py:5: FutureWarning:\n",
      "\n",
      "The default value of regex will change from True to False in a future version. In addition, single character regular expressions will*not* be treated as literal strings when regex=True.\n",
      "\n",
      "/SGRNJ/Public/Software/conda_env/chenjunjie/lib/python3.7/site-packages/ipykernel_launcher.py:6: FutureWarning:\n",
      "\n",
      "The default value of regex will change from True to False in a future version. In addition, single character regular expressions will*not* be treated as literal strings when regex=True.\n",
      "\n"
     ]
    }
   ],
   "source": [
    "df[\"VJ_Gene_value\"] = df[\"UMIs_Mapped_Confidently_To_VJ_Gene\"].apply(lambda x: x.split('(')[0]).str.replace(',','').str.replace(')','').str.replace(\"%\",'').astype(float)\n",
    "df[\"VJ_Gene_%\"] = df[\"UMIs_Mapped_Confidently_To_VJ_Gene\"].apply(lambda x: x.split('(')[1]).str.replace(',','').str.replace(')','').str.replace(\"%\",'').astype(float)\n",
    "df[\"TRA_value\"] = df[\"UMIs_Mapped_To_TRA\"].apply(lambda x: x.split('(')[0]).str.replace(',','').str.replace(')','').str.replace(\"%\",'').astype(float)\n",
    "df[\"TRA_%\"] = df[\"UMIs_Mapped_To_TRA\"].apply(lambda x: x.split('(')[1]).str.replace(',','').str.replace(')','').str.replace(\"%\",'').astype(float)\n",
    "df[\"TRB_value\"] = df[\"UMIs_Mapped_To_TRB\"].apply(lambda x: x.split('(')[0]).str.replace(',','').str.replace(')','').str.replace(\"%\",'').astype(float)\n",
    "df[\"TRB_%\"] = df[\"UMIs_Mapped_To_TRB\"].apply(lambda x: x.split('(')[1]).str.replace(',','').str.replace(')','').str.replace(\"%\",'').astype(float)"
   ]
  },
  {
   "cell_type": "code",
   "execution_count": 202,
   "id": "fabulous-leeds",
   "metadata": {},
   "outputs": [],
   "source": [
    "df_new = df.groupby(\"Sample\").mean().reset_index()"
   ]
  },
  {
   "cell_type": "code",
   "execution_count": 203,
   "id": "immediate-pulse",
   "metadata": {},
   "outputs": [],
   "source": [
    "df_new = df_new.sort_values(\"Sample\", key=lambda x: x.str.replace(\"Mus_0620Spleen_\",'').str.replace(\"w_T3lib\",'').astype(int))"
   ]
  },
  {
   "cell_type": "code",
   "execution_count": 204,
   "id": "fantastic-relations",
   "metadata": {},
   "outputs": [],
   "source": [
    "df_new[\"Raw_Reads\"] = df_new[\"Raw_Reads\"].apply(lambda x: str(format(int(x), ',')))\n",
    "df_new[\"UMI_Counts\"] = df_new[\"UMI_Counts\"].apply(lambda x: str(format(int(x), ',')))\n",
    "df_new[\"Clonotype_Diversity\"] = df_new[\"Clonotype_Diversity\"].apply(lambda x: str(format(round(x, 2), ',')))\n",
    "df_new[\"VJ_Gene_value\"] = df_new[\"VJ_Gene_value\"].apply(lambda x: str(format(int(x), ',')))\n",
    "df_new[\"VJ_Gene_%\"] = df_new[\"VJ_Gene_%\"].apply(lambda x: f\"({str(format(round(x, 2), ','))}%)\")\n",
    "df_new[\"TRA_value\"] = df_new[\"TRA_value\"].apply(lambda x: str(format(int(x), ',')))\n",
    "df_new[\"TRA_%\"] = df_new[\"TRA_%\"].apply(lambda x: f\"({str(format(round(x, 2), ','))}%)\")\n",
    "df_new[\"TRB_value\"] = df_new[\"TRB_value\"].apply(lambda x: str(format(int(x), ',')))\n",
    "df_new[\"TRB_%\"] = df_new[\"TRB_%\"].apply(lambda x: f\"({str(format(round(x, 2), ','))}%)\")"
   ]
  },
  {
   "cell_type": "code",
   "execution_count": 205,
   "id": "fixed-tradition",
   "metadata": {},
   "outputs": [],
   "source": [
    "df_new[\"UMIs_Mapped_Confidently_To_VJ_Gene\"] = df_new[\"VJ_Gene_value\"] + df_new[\"VJ_Gene_%\"]\n",
    "df_new[\"UMIs_Mapped_To_TRA\"] = df_new[\"TRA_value\"] + df_new[\"TRA_%\"]\n",
    "df_new[\"UMIs_Mapped_To_TRB\"] = df_new[\"TRB_value\"] + df_new[\"TRB_%\"]"
   ]
  },
  {
   "cell_type": "code",
   "execution_count": 206,
   "id": "missing-regular",
   "metadata": {},
   "outputs": [],
   "source": [
    "df_new = df_new[[\n",
    "    \"Raw_Reads\",\n",
    "    \"UMI_Counts\",\n",
    "    \"UMIs_Mapped_Confidently_To_VJ_Gene\",\n",
    "    \"UMIs_Mapped_To_TRA\",\n",
    "    \"UMIs_Mapped_To_TRB\",\n",
    "    \"Clonotype_Diversity\",\n",
    "    \"Sample\"\n",
    "]]"
   ]
  },
  {
   "cell_type": "code",
   "execution_count": 207,
   "id": "twenty-biodiversity",
   "metadata": {},
   "outputs": [
    {
     "data": {
      "text/html": [
       "<div>\n",
       "<style scoped>\n",
       "    .dataframe tbody tr th:only-of-type {\n",
       "        vertical-align: middle;\n",
       "    }\n",
       "\n",
       "    .dataframe tbody tr th {\n",
       "        vertical-align: top;\n",
       "    }\n",
       "\n",
       "    .dataframe thead th {\n",
       "        text-align: right;\n",
       "    }\n",
       "</style>\n",
       "<table border=\"1\" class=\"dataframe\">\n",
       "  <thead>\n",
       "    <tr style=\"text-align: right;\">\n",
       "      <th></th>\n",
       "      <th>Raw_Reads</th>\n",
       "      <th>UMI_Counts</th>\n",
       "      <th>UMIs_Mapped_Confidently_To_VJ_Gene</th>\n",
       "      <th>UMIs_Mapped_To_TRA</th>\n",
       "      <th>UMIs_Mapped_To_TRB</th>\n",
       "      <th>Clonotype_Diversity</th>\n",
       "      <th>Sample</th>\n",
       "    </tr>\n",
       "  </thead>\n",
       "  <tbody>\n",
       "    <tr>\n",
       "      <th>1</th>\n",
       "      <td>1,243,165</td>\n",
       "      <td>31,373</td>\n",
       "      <td>6,236(57.62%)</td>\n",
       "      <td>2,395(22.24%)</td>\n",
       "      <td>3,836(35.34%)</td>\n",
       "      <td>821.83</td>\n",
       "      <td>Mus_0620Spleen_1w_T3lib</td>\n",
       "    </tr>\n",
       "    <tr>\n",
       "      <th>2</th>\n",
       "      <td>1,217,725</td>\n",
       "      <td>32,200</td>\n",
       "      <td>5,312(51.6%)</td>\n",
       "      <td>1,457(14.2%)</td>\n",
       "      <td>3,853(37.38%)</td>\n",
       "      <td>950.63</td>\n",
       "      <td>Mus_0620Spleen_3w_T3lib</td>\n",
       "    </tr>\n",
       "    <tr>\n",
       "      <th>3</th>\n",
       "      <td>1,324,051</td>\n",
       "      <td>28,593</td>\n",
       "      <td>5,743(53.8%)</td>\n",
       "      <td>1,324(12.31%)</td>\n",
       "      <td>4,417(41.47%)</td>\n",
       "      <td>602.38</td>\n",
       "      <td>Mus_0620Spleen_5w_T3lib</td>\n",
       "    </tr>\n",
       "    <tr>\n",
       "      <th>4</th>\n",
       "      <td>1,246,175</td>\n",
       "      <td>15,504</td>\n",
       "      <td>3,061(48.8%)</td>\n",
       "      <td>289(4.66%)</td>\n",
       "      <td>2,771(44.13%)</td>\n",
       "      <td>125.84</td>\n",
       "      <td>Mus_0620Spleen_8w_T3lib</td>\n",
       "    </tr>\n",
       "    <tr>\n",
       "      <th>0</th>\n",
       "      <td>1,484,393</td>\n",
       "      <td>15,439</td>\n",
       "      <td>2,788(42.88%)</td>\n",
       "      <td>263(3.87%)</td>\n",
       "      <td>2,525(39.01%)</td>\n",
       "      <td>95.6</td>\n",
       "      <td>Mus_0620Spleen_10w_T3lib</td>\n",
       "    </tr>\n",
       "  </tbody>\n",
       "</table>\n",
       "</div>"
      ],
      "text/plain": [
       "   Raw_Reads UMI_Counts UMIs_Mapped_Confidently_To_VJ_Gene UMIs_Mapped_To_TRA  \\\n",
       "1  1,243,165     31,373                      6,236(57.62%)      2,395(22.24%)   \n",
       "2  1,217,725     32,200                       5,312(51.6%)       1,457(14.2%)   \n",
       "3  1,324,051     28,593                       5,743(53.8%)      1,324(12.31%)   \n",
       "4  1,246,175     15,504                       3,061(48.8%)         289(4.66%)   \n",
       "0  1,484,393     15,439                      2,788(42.88%)         263(3.87%)   \n",
       "\n",
       "  UMIs_Mapped_To_TRB Clonotype_Diversity                    Sample  \n",
       "1      3,836(35.34%)              821.83   Mus_0620Spleen_1w_T3lib  \n",
       "2      3,853(37.38%)              950.63   Mus_0620Spleen_3w_T3lib  \n",
       "3      4,417(41.47%)              602.38   Mus_0620Spleen_5w_T3lib  \n",
       "4      2,771(44.13%)              125.84   Mus_0620Spleen_8w_T3lib  \n",
       "0      2,525(39.01%)                95.6  Mus_0620Spleen_10w_T3lib  "
      ]
     },
     "execution_count": 207,
     "metadata": {},
     "output_type": "execute_result"
    }
   ],
   "source": [
    "df_new"
   ]
  },
  {
   "cell_type": "code",
   "execution_count": 208,
   "id": "timely-patrol",
   "metadata": {},
   "outputs": [],
   "source": [
    "df_new.to_csv(\"/SGRNJ06/randd/USER/cjj/celedev/vdj_bulk/20230727plot/9/9merge.csv\",index=False)"
   ]
  },
  {
   "cell_type": "code",
   "execution_count": null,
   "id": "accessory-ghana",
   "metadata": {},
   "outputs": [],
   "source": []
  },
  {
   "cell_type": "code",
   "execution_count": null,
   "id": "weird-literature",
   "metadata": {},
   "outputs": [],
   "source": []
  },
  {
   "cell_type": "code",
   "execution_count": null,
   "id": "lucky-minneapolis",
   "metadata": {},
   "outputs": [],
   "source": []
  },
  {
   "cell_type": "code",
   "execution_count": 189,
   "id": "distinct-isolation",
   "metadata": {},
   "outputs": [],
   "source": [
    "# 克隆型相关性"
   ]
  },
  {
   "cell_type": "code",
   "execution_count": 227,
   "id": "finite-tyler",
   "metadata": {},
   "outputs": [],
   "source": [
    "files = glob.glob(\"/SGRNJ06/randd/USER/cjj/celedev/vdj_bulk/20230625well/*34index*/05.*/*_clonetypes.csv\")\n",
    "files = [files[1], files[-1], files[0], files[2]]\n",
    "OUT_PATH = '/SGRNJ06/randd/USER/cjj/celedev/vdj_bulk/20230815plot'"
   ]
  },
  {
   "cell_type": "code",
   "execution_count": 228,
   "id": "protective-mission",
   "metadata": {},
   "outputs": [
    {
     "data": {
      "text/plain": [
       "['/SGRNJ06/randd/USER/cjj/celedev/vdj_bulk/20230625well/R230616034index1K/05.count_vdj/R230616034index1K_clonetypes.csv',\n",
       " '/SGRNJ06/randd/USER/cjj/celedev/vdj_bulk/20230625well/R230616034index2K/05.count_vdj/R230616034index2K_clonetypes.csv',\n",
       " '/SGRNJ06/randd/USER/cjj/celedev/vdj_bulk/20230625well/R230616034index4K/05.count_vdj/R230616034index4K_clonetypes.csv',\n",
       " '/SGRNJ06/randd/USER/cjj/celedev/vdj_bulk/20230625well/R230616034index5K/05.count_vdj/R230616034index5K_clonetypes.csv']"
      ]
     },
     "execution_count": 228,
     "metadata": {},
     "output_type": "execute_result"
    }
   ],
   "source": [
    "files"
   ]
  },
  {
   "cell_type": "code",
   "execution_count": 229,
   "id": "insured-ready",
   "metadata": {},
   "outputs": [],
   "source": [
    "df1 = pd.read_csv(\"/SGRNJ06/randd/USER/cjj/celedev/vdj_bulk/20230625well/R230616034index1K/05.count_vdj/R230616034index1K_clonetypes.csv\")\n",
    "df2 = pd.read_csv(\"/SGRNJ06/randd/USER/cjj/celedev/vdj_bulk/20230625well/R230616034index2K/05.count_vdj/R230616034index2K_clonetypes.csv\")\n",
    "df4 = pd.read_csv(\"/SGRNJ06/randd/USER/cjj/celedev/vdj_bulk/20230625well/R230616034index4K/05.count_vdj/R230616034index4K_clonetypes.csv\")\n",
    "df5 = pd.read_csv(\"/SGRNJ06/randd/USER/cjj/celedev/vdj_bulk/20230625well/R230616034index5K/05.count_vdj/R230616034index5K_clonetypes.csv\")"
   ]
  },
  {
   "cell_type": "code",
   "execution_count": 230,
   "id": "aggressive-democracy",
   "metadata": {},
   "outputs": [
    {
     "data": {
      "text/html": [
       "<div>\n",
       "<style scoped>\n",
       "    .dataframe tbody tr th:only-of-type {\n",
       "        vertical-align: middle;\n",
       "    }\n",
       "\n",
       "    .dataframe tbody tr th {\n",
       "        vertical-align: top;\n",
       "    }\n",
       "\n",
       "    .dataframe thead th {\n",
       "        text-align: right;\n",
       "    }\n",
       "</style>\n",
       "<table border=\"1\" class=\"dataframe\">\n",
       "  <thead>\n",
       "    <tr style=\"text-align: right;\">\n",
       "      <th></th>\n",
       "      <th>ClonotypeID</th>\n",
       "      <th>aaSeqCDR3</th>\n",
       "      <th>Frequency</th>\n",
       "      <th>Proportion</th>\n",
       "    </tr>\n",
       "  </thead>\n",
       "  <tbody>\n",
       "    <tr>\n",
       "      <th>0</th>\n",
       "      <td>1</td>\n",
       "      <td>TRB:CASSLRTSGAAYEQYF</td>\n",
       "      <td>111</td>\n",
       "      <td>0.63%</td>\n",
       "    </tr>\n",
       "    <tr>\n",
       "      <th>1</th>\n",
       "      <td>2</td>\n",
       "      <td>TRA:CAVRPDRDDKIIF</td>\n",
       "      <td>108</td>\n",
       "      <td>0.61%</td>\n",
       "    </tr>\n",
       "    <tr>\n",
       "      <th>2</th>\n",
       "      <td>3</td>\n",
       "      <td>TRB:CASSSRLAGGTDTQYF</td>\n",
       "      <td>80</td>\n",
       "      <td>0.45%</td>\n",
       "    </tr>\n",
       "    <tr>\n",
       "      <th>3</th>\n",
       "      <td>4</td>\n",
       "      <td>TRA:CALTPEGYQKVTF</td>\n",
       "      <td>42</td>\n",
       "      <td>0.24%</td>\n",
       "    </tr>\n",
       "    <tr>\n",
       "      <th>4</th>\n",
       "      <td>5</td>\n",
       "      <td>TRB:CASSLRVGREGNQPQHF</td>\n",
       "      <td>37</td>\n",
       "      <td>0.21%</td>\n",
       "    </tr>\n",
       "    <tr>\n",
       "      <th>...</th>\n",
       "      <td>...</td>\n",
       "      <td>...</td>\n",
       "      <td>...</td>\n",
       "      <td>...</td>\n",
       "    </tr>\n",
       "    <tr>\n",
       "      <th>3467</th>\n",
       "      <td>3468</td>\n",
       "      <td>TRB:CAISQDGASGYEQYF</td>\n",
       "      <td>1</td>\n",
       "      <td>0.01%</td>\n",
       "    </tr>\n",
       "    <tr>\n",
       "      <th>3468</th>\n",
       "      <td>3469</td>\n",
       "      <td>TRB:CAISQDLAGEQYF</td>\n",
       "      <td>1</td>\n",
       "      <td>0.01%</td>\n",
       "    </tr>\n",
       "    <tr>\n",
       "      <th>3469</th>\n",
       "      <td>3470</td>\n",
       "      <td>TRB:CAISRQGRDTEAFF</td>\n",
       "      <td>1</td>\n",
       "      <td>0.01%</td>\n",
       "    </tr>\n",
       "    <tr>\n",
       "      <th>3470</th>\n",
       "      <td>3471</td>\n",
       "      <td>TRB:CASSQDFNGPCRETQYF</td>\n",
       "      <td>1</td>\n",
       "      <td>0.01%</td>\n",
       "    </tr>\n",
       "    <tr>\n",
       "      <th>3471</th>\n",
       "      <td>3472</td>\n",
       "      <td>TRB:CVTARQPNEKLFF</td>\n",
       "      <td>1</td>\n",
       "      <td>0.01%</td>\n",
       "    </tr>\n",
       "  </tbody>\n",
       "</table>\n",
       "<p>3472 rows × 4 columns</p>\n",
       "</div>"
      ],
      "text/plain": [
       "      ClonotypeID              aaSeqCDR3  Frequency Proportion\n",
       "0               1   TRB:CASSLRTSGAAYEQYF        111      0.63%\n",
       "1               2      TRA:CAVRPDRDDKIIF        108      0.61%\n",
       "2               3   TRB:CASSSRLAGGTDTQYF         80      0.45%\n",
       "3               4      TRA:CALTPEGYQKVTF         42      0.24%\n",
       "4               5  TRB:CASSLRVGREGNQPQHF         37      0.21%\n",
       "...           ...                    ...        ...        ...\n",
       "3467         3468    TRB:CAISQDGASGYEQYF          1      0.01%\n",
       "3468         3469      TRB:CAISQDLAGEQYF          1      0.01%\n",
       "3469         3470     TRB:CAISRQGRDTEAFF          1      0.01%\n",
       "3470         3471  TRB:CASSQDFNGPCRETQYF          1      0.01%\n",
       "3471         3472      TRB:CVTARQPNEKLFF          1      0.01%\n",
       "\n",
       "[3472 rows x 4 columns]"
      ]
     },
     "execution_count": 230,
     "metadata": {},
     "output_type": "execute_result"
    }
   ],
   "source": [
    "df1"
   ]
  },
  {
   "cell_type": "code",
   "execution_count": 256,
   "id": "pacific-fleet",
   "metadata": {},
   "outputs": [],
   "source": [
    "df_merge = pd.merge(df4, df5, on=\"aaSeqCDR3\")"
   ]
  },
  {
   "cell_type": "code",
   "execution_count": 257,
   "id": "pediatric-victor",
   "metadata": {},
   "outputs": [],
   "source": [
    "df_merge = df_merge[[\"aaSeqCDR3\", \"Proportion_x\", \"Proportion_y\"]]"
   ]
  },
  {
   "cell_type": "code",
   "execution_count": 258,
   "id": "earlier-carol",
   "metadata": {},
   "outputs": [],
   "source": [
    "df_merge[\"Proportion_x\"] = df_merge[\"Proportion_x\"].apply(lambda x: x.replace('%', '')).astype(float)/100\n",
    "df_merge[\"Proportion_y\"] = df_merge[\"Proportion_y\"].apply(lambda x: x.replace('%', '')).astype(float)/100"
   ]
  },
  {
   "cell_type": "code",
   "execution_count": 259,
   "id": "three-timer",
   "metadata": {},
   "outputs": [
    {
     "data": {
      "text/html": [
       "<div>\n",
       "<style scoped>\n",
       "    .dataframe tbody tr th:only-of-type {\n",
       "        vertical-align: middle;\n",
       "    }\n",
       "\n",
       "    .dataframe tbody tr th {\n",
       "        vertical-align: top;\n",
       "    }\n",
       "\n",
       "    .dataframe thead th {\n",
       "        text-align: right;\n",
       "    }\n",
       "</style>\n",
       "<table border=\"1\" class=\"dataframe\">\n",
       "  <thead>\n",
       "    <tr style=\"text-align: right;\">\n",
       "      <th></th>\n",
       "      <th>aaSeqCDR3</th>\n",
       "      <th>Proportion_x</th>\n",
       "      <th>Proportion_y</th>\n",
       "    </tr>\n",
       "  </thead>\n",
       "  <tbody>\n",
       "    <tr>\n",
       "      <th>0</th>\n",
       "      <td>TRA:CAVRPDRDDKIIF</td>\n",
       "      <td>0.0060</td>\n",
       "      <td>0.0030</td>\n",
       "    </tr>\n",
       "    <tr>\n",
       "      <th>1</th>\n",
       "      <td>TRB:CASSSRLAGGTDTQYF</td>\n",
       "      <td>0.0058</td>\n",
       "      <td>0.0039</td>\n",
       "    </tr>\n",
       "    <tr>\n",
       "      <th>2</th>\n",
       "      <td>TRA:CATDARTILRGAQKLVF</td>\n",
       "      <td>0.0036</td>\n",
       "      <td>0.0009</td>\n",
       "    </tr>\n",
       "    <tr>\n",
       "      <th>3</th>\n",
       "      <td>TRA:CAVRPDSNYQLIW</td>\n",
       "      <td>0.0033</td>\n",
       "      <td>0.0018</td>\n",
       "    </tr>\n",
       "    <tr>\n",
       "      <th>4</th>\n",
       "      <td>TRB:CASSLRTSGAAYEQYF</td>\n",
       "      <td>0.0027</td>\n",
       "      <td>0.0036</td>\n",
       "    </tr>\n",
       "    <tr>\n",
       "      <th>...</th>\n",
       "      <td>...</td>\n",
       "      <td>...</td>\n",
       "      <td>...</td>\n",
       "    </tr>\n",
       "    <tr>\n",
       "      <th>167</th>\n",
       "      <td>TRB:CASSLAGGGKETQYF</td>\n",
       "      <td>0.0001</td>\n",
       "      <td>0.0001</td>\n",
       "    </tr>\n",
       "    <tr>\n",
       "      <th>168</th>\n",
       "      <td>TRB:CASSLADRASGGYTF</td>\n",
       "      <td>0.0001</td>\n",
       "      <td>0.0004</td>\n",
       "    </tr>\n",
       "    <tr>\n",
       "      <th>169</th>\n",
       "      <td>TRB:CASSKMPPGPDNEQFF</td>\n",
       "      <td>0.0001</td>\n",
       "      <td>0.0010</td>\n",
       "    </tr>\n",
       "    <tr>\n",
       "      <th>170</th>\n",
       "      <td>TRB:CASSLDRASSYEQYF</td>\n",
       "      <td>0.0001</td>\n",
       "      <td>0.0002</td>\n",
       "    </tr>\n",
       "    <tr>\n",
       "      <th>171</th>\n",
       "      <td>TRB:CASSFSPSSSGANVLTF</td>\n",
       "      <td>0.0001</td>\n",
       "      <td>0.0002</td>\n",
       "    </tr>\n",
       "  </tbody>\n",
       "</table>\n",
       "<p>172 rows × 3 columns</p>\n",
       "</div>"
      ],
      "text/plain": [
       "                 aaSeqCDR3  Proportion_x  Proportion_y\n",
       "0        TRA:CAVRPDRDDKIIF        0.0060        0.0030\n",
       "1     TRB:CASSSRLAGGTDTQYF        0.0058        0.0039\n",
       "2    TRA:CATDARTILRGAQKLVF        0.0036        0.0009\n",
       "3        TRA:CAVRPDSNYQLIW        0.0033        0.0018\n",
       "4     TRB:CASSLRTSGAAYEQYF        0.0027        0.0036\n",
       "..                     ...           ...           ...\n",
       "167    TRB:CASSLAGGGKETQYF        0.0001        0.0001\n",
       "168    TRB:CASSLADRASGGYTF        0.0001        0.0004\n",
       "169   TRB:CASSKMPPGPDNEQFF        0.0001        0.0010\n",
       "170    TRB:CASSLDRASSYEQYF        0.0001        0.0002\n",
       "171  TRB:CASSFSPSSSGANVLTF        0.0001        0.0002\n",
       "\n",
       "[172 rows x 3 columns]"
      ]
     },
     "execution_count": 259,
     "metadata": {},
     "output_type": "execute_result"
    }
   ],
   "source": [
    "df_merge"
   ]
  },
  {
   "cell_type": "code",
   "execution_count": 260,
   "id": "victorian-digit",
   "metadata": {},
   "outputs": [],
   "source": [
    "fig = px.scatter(\n",
    "    df_merge, # scatter绘制散点图\n",
    "    x='Proportion_x',    #  x轴\n",
    "    y='Proportion_y',  # y轴\n",
    "    labels = calc_corr(df_merge[\"Proportion_x\"], df_merge[\"Proportion_y\"]),\n",
    "    width=1024, height=1024,\n",
    "    color_discrete_sequence=['orange'],\n",
    "    log_x=True, log_y=True,\n",
    "    range_x=[0.00001, 0.1],\n",
    "    range_y=[0.00001, 0.1],\n",
    ")\n",
    "fig.update_traces(marker_size=10)\n",
    "fig.update_layout(title={\"text\":f'Correlation={calc_corr(df_merge[\"Proportion_x\"], df_merge[\"Proportion_y\"])}',\n",
    "                         'y':0.98, 'x':0.5, 'xanchor': 'center', 'yanchor': 'top'},\n",
    "                  xaxis_title = \"Abundance of each clonotype(% of total)\", yaxis_title = \"Abundance of each clonotype(% of total)\", \n",
    "                         font=dict(size=18,color=\"Black\"),\n",
    "                 )\n",
    "fig.update_layout(\n",
    "        xaxis = dict(\n",
    "            # tickvals = [0, 0.001, 0.002, 0.003, 0.004, 0.005, 0.006]\n",
    "            tickvals = [0.00001, 0.001, 0.1],\n",
    "            ticktext = ['1e-5', '1e-3', '1e-1'],\n",
    "            exponentformat = 'e',\n",
    "        ),\n",
    "        yaxis = dict(\n",
    "            # tickvals = [0, 0.001, 0.002, 0.003, 0.004, 0.005, 0.006]\n",
    "            tickvals = [0.00001, 0.001, 0.1],\n",
    "            ticktext = ['1e-5', '1e-3', '1e-1'],\n",
    "            exponentformat = 'e',\n",
    "        )\n",
    ")\n",
    "fig.write_image(f\"{OUT_PATH}/cltypes_scatter_45.png\", scale=4)\n",
    "#fig.show()"
   ]
  },
  {
   "cell_type": "code",
   "execution_count": 208,
   "id": "answering-sigma",
   "metadata": {},
   "outputs": [],
   "source": [
    "df1 = pd.read_csv(\"/SGRNJ06/randd/USER/cjj/celedev/vdj_bulk/20230625well/R230616034index1K/05.count_vdj/R230616034index1K_clonetypes.csv\")\n",
    "df2 = pd.read_csv(\"/SGRNJ06/randd/USER/cjj/celedev/vdj_bulk/20230625well/R230616034index2K/05.count_vdj/R230616034index2K_clonetypes.csv\")\n",
    "df4 = pd.read_csv(\"/SGRNJ06/randd/USER/cjj/celedev/vdj_bulk/20230625well/R230616034index4K/05.count_vdj/R230616034index4K_clonetypes.csv\")\n",
    "df5 = pd.read_csv(\"/SGRNJ06/randd/USER/cjj/celedev/vdj_bulk/20230625well/R230616034index5K/05.count_vdj/R230616034index5K_clonetypes.csv\")"
   ]
  },
  {
   "cell_type": "code",
   "execution_count": 209,
   "id": "internal-philippines",
   "metadata": {},
   "outputs": [],
   "source": [
    "df1['cdr3_length'] = df1['aaSeqCDR3'].str.len()-4\n",
    "df2['cdr3_length'] = df2['aaSeqCDR3'].str.len()-4\n",
    "df4['cdr3_length'] = df4['aaSeqCDR3'].str.len()-4\n",
    "df5['cdr3_length'] = df5['aaSeqCDR3'].str.len()-4"
   ]
  },
  {
   "cell_type": "code",
   "execution_count": 210,
   "id": "usual-magnet",
   "metadata": {},
   "outputs": [],
   "source": [
    "df1_count = df1.groupby('cdr3_length').agg('count').reset_index()[['cdr3_length','ClonotypeID']].rename(columns={'ClonotypeID': 'count'})\n",
    "df2_count = df2.groupby('cdr3_length').agg('count').reset_index()[['cdr3_length','ClonotypeID']].rename(columns={'ClonotypeID': 'count'})\n",
    "df4_count = df4.groupby('cdr3_length').agg('count').reset_index()[['cdr3_length','ClonotypeID']].rename(columns={'ClonotypeID': 'count'})\n",
    "df5_count = df5.groupby('cdr3_length').agg('count').reset_index()[['cdr3_length','ClonotypeID']].rename(columns={'ClonotypeID': 'count'})"
   ]
  },
  {
   "cell_type": "code",
   "execution_count": 211,
   "id": "departmental-raising",
   "metadata": {},
   "outputs": [],
   "source": [
    "df1_count['sample'] = 'Well Index 1'\n",
    "df2_count['sample'] = 'Well Index 2'\n",
    "df4_count['sample'] = 'Well Index 3'\n",
    "df5_count['sample'] = 'Well Index 4'"
   ]
  },
  {
   "cell_type": "code",
   "execution_count": 212,
   "id": "contrary-syntax",
   "metadata": {},
   "outputs": [
    {
     "data": {
      "text/html": [
       "<div>\n",
       "<style scoped>\n",
       "    .dataframe tbody tr th:only-of-type {\n",
       "        vertical-align: middle;\n",
       "    }\n",
       "\n",
       "    .dataframe tbody tr th {\n",
       "        vertical-align: top;\n",
       "    }\n",
       "\n",
       "    .dataframe thead th {\n",
       "        text-align: right;\n",
       "    }\n",
       "</style>\n",
       "<table border=\"1\" class=\"dataframe\">\n",
       "  <thead>\n",
       "    <tr style=\"text-align: right;\">\n",
       "      <th></th>\n",
       "      <th>cdr3_length</th>\n",
       "      <th>count</th>\n",
       "      <th>sample</th>\n",
       "    </tr>\n",
       "  </thead>\n",
       "  <tbody>\n",
       "    <tr>\n",
       "      <th>0</th>\n",
       "      <td>8</td>\n",
       "      <td>4</td>\n",
       "      <td>Well Index 1</td>\n",
       "    </tr>\n",
       "    <tr>\n",
       "      <th>1</th>\n",
       "      <td>9</td>\n",
       "      <td>7</td>\n",
       "      <td>Well Index 1</td>\n",
       "    </tr>\n",
       "    <tr>\n",
       "      <th>2</th>\n",
       "      <td>10</td>\n",
       "      <td>41</td>\n",
       "      <td>Well Index 1</td>\n",
       "    </tr>\n",
       "    <tr>\n",
       "      <th>3</th>\n",
       "      <td>11</td>\n",
       "      <td>160</td>\n",
       "      <td>Well Index 1</td>\n",
       "    </tr>\n",
       "    <tr>\n",
       "      <th>4</th>\n",
       "      <td>12</td>\n",
       "      <td>335</td>\n",
       "      <td>Well Index 1</td>\n",
       "    </tr>\n",
       "    <tr>\n",
       "      <th>5</th>\n",
       "      <td>13</td>\n",
       "      <td>643</td>\n",
       "      <td>Well Index 1</td>\n",
       "    </tr>\n",
       "    <tr>\n",
       "      <th>6</th>\n",
       "      <td>14</td>\n",
       "      <td>843</td>\n",
       "      <td>Well Index 1</td>\n",
       "    </tr>\n",
       "    <tr>\n",
       "      <th>7</th>\n",
       "      <td>15</td>\n",
       "      <td>726</td>\n",
       "      <td>Well Index 1</td>\n",
       "    </tr>\n",
       "    <tr>\n",
       "      <th>8</th>\n",
       "      <td>16</td>\n",
       "      <td>410</td>\n",
       "      <td>Well Index 1</td>\n",
       "    </tr>\n",
       "    <tr>\n",
       "      <th>9</th>\n",
       "      <td>17</td>\n",
       "      <td>182</td>\n",
       "      <td>Well Index 1</td>\n",
       "    </tr>\n",
       "    <tr>\n",
       "      <th>10</th>\n",
       "      <td>18</td>\n",
       "      <td>77</td>\n",
       "      <td>Well Index 1</td>\n",
       "    </tr>\n",
       "    <tr>\n",
       "      <th>11</th>\n",
       "      <td>19</td>\n",
       "      <td>19</td>\n",
       "      <td>Well Index 1</td>\n",
       "    </tr>\n",
       "    <tr>\n",
       "      <th>12</th>\n",
       "      <td>20</td>\n",
       "      <td>17</td>\n",
       "      <td>Well Index 1</td>\n",
       "    </tr>\n",
       "    <tr>\n",
       "      <th>13</th>\n",
       "      <td>21</td>\n",
       "      <td>5</td>\n",
       "      <td>Well Index 1</td>\n",
       "    </tr>\n",
       "    <tr>\n",
       "      <th>14</th>\n",
       "      <td>22</td>\n",
       "      <td>2</td>\n",
       "      <td>Well Index 1</td>\n",
       "    </tr>\n",
       "    <tr>\n",
       "      <th>15</th>\n",
       "      <td>23</td>\n",
       "      <td>1</td>\n",
       "      <td>Well Index 1</td>\n",
       "    </tr>\n",
       "  </tbody>\n",
       "</table>\n",
       "</div>"
      ],
      "text/plain": [
       "    cdr3_length  count        sample\n",
       "0             8      4  Well Index 1\n",
       "1             9      7  Well Index 1\n",
       "2            10     41  Well Index 1\n",
       "3            11    160  Well Index 1\n",
       "4            12    335  Well Index 1\n",
       "5            13    643  Well Index 1\n",
       "6            14    843  Well Index 1\n",
       "7            15    726  Well Index 1\n",
       "8            16    410  Well Index 1\n",
       "9            17    182  Well Index 1\n",
       "10           18     77  Well Index 1\n",
       "11           19     19  Well Index 1\n",
       "12           20     17  Well Index 1\n",
       "13           21      5  Well Index 1\n",
       "14           22      2  Well Index 1\n",
       "15           23      1  Well Index 1"
      ]
     },
     "execution_count": 212,
     "metadata": {},
     "output_type": "execute_result"
    }
   ],
   "source": [
    "df1_count"
   ]
  },
  {
   "cell_type": "code",
   "execution_count": 213,
   "id": "freelance-blend",
   "metadata": {},
   "outputs": [],
   "source": [
    "list_length = list(df1_count['cdr3_length']) + list(df2_count['cdr3_length']) + list(df4_count['cdr3_length']) + list(df5_count['cdr3_length'])\n",
    "list_count = list(df1_count['count']) + list(df2_count['count']) + list(df4_count['count']) + list(df5_count['count'])\n",
    "list_sample = list(df1_count['sample']) + list(df2_count['sample']) + list(df4_count['sample']) + list(df5_count['sample'])"
   ]
  },
  {
   "cell_type": "code",
   "execution_count": 222,
   "id": "coordinated-genesis",
   "metadata": {},
   "outputs": [
    {
     "data": {
      "image/png": "[encoded data removed]",
      "text/plain": [
       "<Figure size 432x288 with 1 Axes>"
      ]
     },
     "metadata": {
      "needs_background": "light"
     },
     "output_type": "display_data"
    }
   ],
   "source": [
    "ax2 = sns.barplot(x=list_length,y=list_count,hue=list_sample,errwidth=0.5,capsize=0.5)\n",
    "ax2.set_xticklabels(ax2.get_xticklabels(), rotation=-0,fontsize=6)\n",
    "ax2.set_xlabel(\"Cdr3_aa_length\", fontsize = 10)\n",
    "ax2.set_ylabel(\"Count\", fontsize = 10)\n",
    "ax2.spines['top'].set_visible(False)\n",
    "ax2.spines['right'].set_visible(False)\n",
    "plt.title(\"CDR3 Clonotypes Length\", fontsize=15)\n",
    "plt.legend(bbox_to_anchor=(1.05, 1),loc=2,borderaxespad=0)\n",
    "plt.savefig(OUT_PATH +'/Length_barplot_Sample.pdf', dpi=300, bbox_inches=\"tight\")\n",
    "plt.show()"
   ]
  },
  {
   "cell_type": "code",
   "execution_count": null,
   "id": "american-resource",
   "metadata": {},
   "outputs": [],
   "source": []
  },
  {
   "cell_type": "code",
   "execution_count": 223,
   "id": "economic-carolina",
   "metadata": {},
   "outputs": [],
   "source": [
    "UMI_Counts = [70981, 68534, 59662, 60103,]\n",
    "diversity = [1448.93, 1422.92, 1350.26, 1428.44,]\n",
    "sample = ['Well Index 1', 'Well Index 2', 'Well Index 3', 'Well Index 4']"
   ]
  },
  {
   "cell_type": "code",
   "execution_count": 224,
   "id": "interpreted-medicare",
   "metadata": {},
   "outputs": [],
   "source": [
    "df = pd.DataFrame()\n",
    "df['UMI_Counts'] = UMI_Counts\n",
    "df['Clonotype_Diversity'] = diversity\n",
    "df['Sample'] = sample"
   ]
  },
  {
   "cell_type": "code",
   "execution_count": 226,
   "id": "banned-transport",
   "metadata": {},
   "outputs": [],
   "source": [
    "fig = px.scatter(\n",
    "    df, # scatter绘制散点图\n",
    "    x='UMI_Counts',    #  x轴\n",
    "    y='Clonotype_Diversity',  # y轴\n",
    "    color = 'Sample',\n",
    "    labels = calc_corr(df[\"UMI_Counts\"], df[\"Clonotype_Diversity\"]),\n",
    "    width=1280, height=1024,\n",
    ")\n",
    "fig.update_traces(marker_size=40)\n",
    "fig.update_layout(title={\"text\":f'Human-PBMC Diversity (Correlation={calc_corr(df[\"UMI_Counts\"], df[\"Clonotype_Diversity\"])})',\n",
    "                         'y':0.98, 'x':0.5, 'xanchor': 'center', 'yanchor': 'top'},\n",
    "                  xaxis_title = \"Mean UMI_Counts\", yaxis_title = \"Mean Clonotype_Diversity\", font=dict(size=18,color=\"Black\"))\n",
    "\n",
    "fig.write_image(f\"{OUT_PATH}/diversity_umi_scatter.png\", scale=4)\n",
    "#fig.show()"
   ]
  },
  {
   "cell_type": "code",
   "execution_count": null,
   "id": "changing-leonard",
   "metadata": {},
   "outputs": [],
   "source": []
  }
 ],
 "metadata": {
  "kernelspec": {
   "display_name": "trust4_1.7",
   "language": "python",
   "name": "trust4_1.7"
  },
  "language_info": {
   "codemirror_mode": {
    "name": "ipython",
    "version": 3
   },
   "file_extension": ".py",
   "mimetype": "text/x-python",
   "name": "python",
   "nbconvert_exporter": "python",
   "pygments_lexer": "ipython3",
   "version": "3.7.10"
  }
 },
 "nbformat": 4,
 "nbformat_minor": 5
}
