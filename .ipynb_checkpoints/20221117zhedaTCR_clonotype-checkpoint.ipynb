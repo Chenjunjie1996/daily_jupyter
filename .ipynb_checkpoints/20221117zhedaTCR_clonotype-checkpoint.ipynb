{
 "cells": [
  {
   "cell_type": "code",
   "execution_count": null,
   "id": "gorgeous-cycling",
   "metadata": {},
   "outputs": [],
   "source": [
    "import pandas as pd\n",
    "import numpy as np\n",
    "import matplotlib.pyplot as plt\n",
    "%matplotlib inline\n",
    "plt.style.use(\"ggplot\")\n"
   ]
  },
  {
   "cell_type": "code",
   "execution_count": null,
   "id": "recent-lending",
   "metadata": {},
   "outputs": [],
   "source": [
    "def function(a):\n",
    "    if \"TRA\" in a and \"TRB\" in a:\n",
    "        return \"TRA TRB pair clonotype\"\n",
    "    else:\n",
    "        if \"TRA\" in a:\n",
    "            return \"single TRA clonotype\"\n",
    "        else:\n",
    "            return \"single TRB clonotype\""
   ]
  },
  {
   "cell_type": "code",
   "execution_count": null,
   "id": "second-thickness",
   "metadata": {},
   "outputs": [],
   "source": [
    "df = pd.read_csv(\"/SGRNJ06/randd/USER/cjj/celedev/zhedaTCR/tcr_mu/WT-antibody-T/04.summarize/clonotypes.csv\")\n",
    "df1 = pd.read_csv(\"/SGRNJ06/randd/USER/cjj/celedev/zhedaTCR/tcr_mu/KO-antibody-T/04.summarize/clonotypes.csv\")"
   ]
  },
  {
   "cell_type": "code",
   "execution_count": null,
   "id": "eligible-toilet",
   "metadata": {},
   "outputs": [],
   "source": [
    "df = df[[\"clonotype_id\",\"frequency\",\"proportion\",\"cdr3s_aa\"]]\n",
    "df1 = df1[[\"clonotype_id\",\"frequency\",\"proportion\",\"cdr3s_aa\"]]"
   ]
  },
  {
   "cell_type": "code",
   "execution_count": null,
   "id": "satisfied-state",
   "metadata": {},
   "outputs": [],
   "source": [
    "#df[(df[\"cdr3s_aa\"]).str.contains(\"TRA\") & (df[\"cdr3s_aa\"]).str.contains(\"TRB\")]"
   ]
  },
  {
   "cell_type": "code",
   "execution_count": null,
   "id": "established-refrigerator",
   "metadata": {},
   "outputs": [],
   "source": [
    "df[\"pair_type\"] = df.apply(lambda x: function(x[\"cdr3s_aa\"]),axis=1)\n",
    "df1[\"pair_type\"] = df1.apply(lambda x: function(x[\"cdr3s_aa\"]),axis=1)"
   ]
  },
  {
   "cell_type": "code",
   "execution_count": null,
   "id": "indonesian-gender",
   "metadata": {},
   "outputs": [],
   "source": [
    "df[\"pair_type\"].value_counts().to_dict()"
   ]
  },
  {
   "cell_type": "code",
   "execution_count": null,
   "id": "valid-bristol",
   "metadata": {},
   "outputs": [],
   "source": [
    "df.groupby(\"pair_type\").count()"
   ]
  },
  {
   "cell_type": "code",
   "execution_count": null,
   "id": "interesting-algeria",
   "metadata": {},
   "outputs": [],
   "source": [
    "df1.groupby(\"pair_type\").count()"
   ]
  },
  {
   "cell_type": "code",
   "execution_count": null,
   "id": "affecting-origin",
   "metadata": {},
   "outputs": [],
   "source": [
    "\n",
    "x_name = [\"WT-antibody-T\", \"KO-antibody-T\"]\n",
    "values = [489, 1543]\n",
    "values1 = [298, 143]\n",
    "values2 = [27, 56]\n",
    "fig, ax = plt.subplots(figsize=(10, 10))\n",
    "# 先创建一根柱子，显示第一种产品的销量\n",
    "ax.bar(x_name, values, color=\"red\", label=\"TRA TRB pair clonotype\")\n",
    "# 第二根柱子“堆积”在第一根柱子上方，通过'bottom'调整，显示第二种产品的销量\n",
    "ax.bar(x_name, values1, color=\"blue\", bottom=values, label=\"single TRA clonotype\")\n",
    "# 第三根柱子“堆积”在第二根柱子上方，通过'bottom'调整，显示第三种产品的销量\n",
    "ax.bar(x_name, values2, color=\"green\", \n",
    "       bottom=np.array(values1) + np.array(values), label=\"single TRB clonotype\")\n",
    "ax.set_facecolor(\"white\")\n",
    "ax.set_title(\"Clonotype Pair Type\", fontsize=15)\n",
    "ax.set_xlabel(\"Samples\")\n",
    "ax.set_ylabel(\"Counts\")\n",
    "ax.legend()\n",
    "plt.savefig('/SGRNJ06/randd/USER/cjj/celedev/zhedaTCR/rna_mu/hist.png', bbox_inches='tight')"
   ]
  },
  {
   "cell_type": "code",
   "execution_count": null,
   "id": "swiss-sally",
   "metadata": {},
   "outputs": [],
   "source": []
  }
 ],
 "metadata": {
  "kernelspec": {
   "display_name": "Python 3 (ipykernel)",
   "language": "python",
   "name": "python3"
  },
  "language_info": {
   "codemirror_mode": {
    "name": "ipython",
    "version": 3
   },
   "file_extension": ".py",
   "mimetype": "text/x-python",
   "name": "python",
   "nbconvert_exporter": "python",
   "pygments_lexer": "ipython3",
   "version": "3.7.10"
  }
 },
 "nbformat": 4,
 "nbformat_minor": 5
}
