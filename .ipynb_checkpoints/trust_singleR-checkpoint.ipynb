{
 "cells": [
  {
   "cell_type": "code",
   "execution_count": 1,
   "id": "integrated-parts",
   "metadata": {},
   "outputs": [
    {
     "name": "stderr",
     "output_type": "stream",
     "text": [
      "Warning message:\n",
      "“package ‘Seurat’ was built under R version 4.0.5”\n",
      "Attaching SeuratObject\n",
      "\n",
      "Registered S3 method overwritten by 'cli':\n",
      "  method     from         \n",
      "  print.boxx spatstat.geom\n",
      "\n",
      "── \u001b[1mAttaching packages\u001b[22m ──────────────────────────────────────────────────────────────────────────────────── tidyverse 1.3.1 ──\n",
      "\n",
      "\u001b[32m✔\u001b[39m \u001b[34mggplot2\u001b[39m 3.3.3     \u001b[32m✔\u001b[39m \u001b[34mpurrr  \u001b[39m 0.3.4\n",
      "\u001b[32m✔\u001b[39m \u001b[34mtibble \u001b[39m 3.1.0     \u001b[32m✔\u001b[39m \u001b[34mdplyr  \u001b[39m 1.0.5\n",
      "\u001b[32m✔\u001b[39m \u001b[34mtidyr  \u001b[39m 1.1.3     \u001b[32m✔\u001b[39m \u001b[34mstringr\u001b[39m 1.4.0\n",
      "\u001b[32m✔\u001b[39m \u001b[34mreadr  \u001b[39m 1.4.0     \u001b[32m✔\u001b[39m \u001b[34mforcats\u001b[39m 0.5.1\n",
      "\n",
      "── \u001b[1mConflicts\u001b[22m ─────────────────────────────────────────────────────────────────────────────────────── tidyverse_conflicts() ──\n",
      "\u001b[31m✖\u001b[39m \u001b[34mdplyr\u001b[39m::\u001b[32mfilter()\u001b[39m masks \u001b[34mstats\u001b[39m::filter()\n",
      "\u001b[31m✖\u001b[39m \u001b[34mdplyr\u001b[39m::\u001b[32mlag()\u001b[39m    masks \u001b[34mstats\u001b[39m::lag()\n",
      "\n",
      "Warning message:\n",
      "“package ‘argparser’ was built under R version 4.0.5”\n",
      "Loading required package: SummarizedExperiment\n",
      "\n",
      "Loading required package: MatrixGenerics\n",
      "\n",
      "Loading required package: matrixStats\n",
      "\n",
      "\n",
      "Attaching package: ‘matrixStats’\n",
      "\n",
      "\n",
      "The following object is masked from ‘package:dplyr’:\n",
      "\n",
      "    count\n",
      "\n",
      "\n",
      "\n",
      "Attaching package: ‘MatrixGenerics’\n",
      "\n",
      "\n",
      "The following objects are masked from ‘package:matrixStats’:\n",
      "\n",
      "    colAlls, colAnyNAs, colAnys, colAvgsPerRowSet, colCollapse,\n",
      "    colCounts, colCummaxs, colCummins, colCumprods, colCumsums,\n",
      "    colDiffs, colIQRDiffs, colIQRs, colLogSumExps, colMadDiffs,\n",
      "    colMads, colMaxs, colMeans2, colMedians, colMins, colOrderStats,\n",
      "    colProds, colQuantiles, colRanges, colRanks, colSdDiffs, colSds,\n",
      "    colSums2, colTabulates, colVarDiffs, colVars, colWeightedMads,\n",
      "    colWeightedMeans, colWeightedMedians, colWeightedSds,\n",
      "    colWeightedVars, rowAlls, rowAnyNAs, rowAnys, rowAvgsPerColSet,\n",
      "    rowCollapse, rowCounts, rowCummaxs, rowCummins, rowCumprods,\n",
      "    rowCumsums, rowDiffs, rowIQRDiffs, rowIQRs, rowLogSumExps,\n",
      "    rowMadDiffs, rowMads, rowMaxs, rowMeans2, rowMedians, rowMins,\n",
      "    rowOrderStats, rowProds, rowQuantiles, rowRanges, rowRanks,\n",
      "    rowSdDiffs, rowSds, rowSums2, rowTabulates, rowVarDiffs, rowVars,\n",
      "    rowWeightedMads, rowWeightedMeans, rowWeightedMedians,\n",
      "    rowWeightedSds, rowWeightedVars\n",
      "\n",
      "\n",
      "Loading required package: GenomicRanges\n",
      "\n",
      "Loading required package: stats4\n",
      "\n",
      "Loading required package: BiocGenerics\n",
      "\n",
      "Loading required package: parallel\n",
      "\n",
      "\n",
      "Attaching package: ‘BiocGenerics’\n",
      "\n",
      "\n",
      "The following objects are masked from ‘package:parallel’:\n",
      "\n",
      "    clusterApply, clusterApplyLB, clusterCall, clusterEvalQ,\n",
      "    clusterExport, clusterMap, parApply, parCapply, parLapply,\n",
      "    parLapplyLB, parRapply, parSapply, parSapplyLB\n",
      "\n",
      "\n",
      "The following objects are masked from ‘package:dplyr’:\n",
      "\n",
      "    combine, intersect, setdiff, union\n",
      "\n",
      "\n",
      "The following objects are masked from ‘package:stats’:\n",
      "\n",
      "    IQR, mad, sd, var, xtabs\n",
      "\n",
      "\n",
      "The following objects are masked from ‘package:base’:\n",
      "\n",
      "    anyDuplicated, append, as.data.frame, basename, cbind, colnames,\n",
      "    dirname, do.call, duplicated, eval, evalq, Filter, Find, get, grep,\n",
      "    grepl, intersect, is.unsorted, lapply, Map, mapply, match, mget,\n",
      "    order, paste, pmax, pmax.int, pmin, pmin.int, Position, rank,\n",
      "    rbind, Reduce, rownames, sapply, setdiff, sort, table, tapply,\n",
      "    union, unique, unsplit, which.max, which.min\n",
      "\n",
      "\n",
      "Loading required package: S4Vectors\n",
      "\n",
      "\n",
      "Attaching package: ‘S4Vectors’\n",
      "\n",
      "\n",
      "The following objects are masked from ‘package:dplyr’:\n",
      "\n",
      "    first, rename\n",
      "\n",
      "\n",
      "The following object is masked from ‘package:tidyr’:\n",
      "\n",
      "    expand\n",
      "\n",
      "\n",
      "The following object is masked from ‘package:base’:\n",
      "\n",
      "    expand.grid\n",
      "\n",
      "\n",
      "Loading required package: IRanges\n",
      "\n",
      "\n",
      "Attaching package: ‘IRanges’\n",
      "\n",
      "\n",
      "The following objects are masked from ‘package:dplyr’:\n",
      "\n",
      "    collapse, desc, slice\n",
      "\n",
      "\n",
      "The following object is masked from ‘package:purrr’:\n",
      "\n",
      "    reduce\n",
      "\n",
      "\n",
      "Loading required package: GenomeInfoDb\n",
      "\n",
      "Loading required package: Biobase\n",
      "\n",
      "Welcome to Bioconductor\n",
      "\n",
      "    Vignettes contain introductory material; view with\n",
      "    'browseVignettes()'. To cite Bioconductor, see\n",
      "    'citation(\"Biobase\")', and for packages 'citation(\"pkgname\")'.\n",
      "\n",
      "\n",
      "\n",
      "Attaching package: ‘Biobase’\n",
      "\n",
      "\n",
      "The following object is masked from ‘package:MatrixGenerics’:\n",
      "\n",
      "    rowMedians\n",
      "\n",
      "\n",
      "The following objects are masked from ‘package:matrixStats’:\n",
      "\n",
      "    anyMissing, rowMedians\n",
      "\n",
      "\n",
      "\n",
      "Attaching package: ‘SummarizedExperiment’\n",
      "\n",
      "\n",
      "The following object is masked from ‘package:SeuratObject’:\n",
      "\n",
      "    Assays\n",
      "\n",
      "\n",
      "The following object is masked from ‘package:Seurat’:\n",
      "\n",
      "    Assays\n",
      "\n",
      "\n"
     ]
    }
   ],
   "source": [
    "library(Seurat) # v4.0\n",
    "library(tidyverse)\n",
    "library(argparser)\n",
    "library(SingleR)\n",
    "#library(celldex)\n",
    "library(stringr)"
   ]
  },
  {
   "cell_type": "code",
   "execution_count": 14,
   "id": "genuine-reader",
   "metadata": {},
   "outputs": [],
   "source": [
    "matrix_file = '/SGRNJ06/randd/PROJECT/RD20073101_ScRNA_VDJ/20220425_kmc3/sc-1/05.count/220417014_matrix_10X/'"
   ]
  },
  {
   "cell_type": "code",
   "execution_count": 15,
   "id": "referenced-director",
   "metadata": {},
   "outputs": [
    {
     "data": {
      "text/html": [
       "'/SGRNJ06/randd/PROJECT/RD20073101_ScRNA_VDJ/20220425_kmc3/sc-1/05.count/220417014_matrix_10X/'"
      ],
      "text/latex": [
       "'/SGRNJ06/randd/PROJECT/RD20073101\\_ScRNA\\_VDJ/20220425\\_kmc3/sc-1/05.count/220417014\\_matrix\\_10X/'"
      ],
      "text/markdown": [
       "'/SGRNJ06/randd/PROJECT/RD20073101_ScRNA_VDJ/20220425_kmc3/sc-1/05.count/220417014_matrix_10X/'"
      ],
      "text/plain": [
       "[1] \"/SGRNJ06/randd/PROJECT/RD20073101_ScRNA_VDJ/20220425_kmc3/sc-1/05.count/220417014_matrix_10X/\""
      ]
     },
     "metadata": {},
     "output_type": "display_data"
    }
   ],
   "source": [
    "matrix_file"
   ]
  },
  {
   "cell_type": "code",
   "execution_count": 16,
   "id": "little-farmer",
   "metadata": {},
   "outputs": [],
   "source": [
    "color1 <- c(\"OrangeRed\",\"SlateBlue3\",\"DarkOrange\",\"GreenYellow\",\"Purple\",\"DarkSlateGray\",\"Gold\",\n",
    "  \"DeepPink2\",\"Red4\",\"#4682B4\",\"#FFDAB9\",\"#708090\",\"#836FFF\",\"#CDC673\",\"#CD9B1D\",\"#FF6EB4\",\n",
    "  \"#CDB5CD\",\"DarkGreen\",\"#008B8B\",\"#43CD80\",\"#483D8B\",\"#66CD00\",\"#CDC673\",\"#CDAD00\",\"#CD9B9B\",\n",
    "  \"#FF8247\",\"#8B7355\",\"#8B3A62\",\"#68228B\",\"#CDB7B5\",\"#CD853F\",\"#6B8E23\",\"#696969\",\"#7B68EE\",\n",
    "  \"#9F79EE\",\"#B0C4DE\",\"#7A378B\",\"#66CDAA\",\"#EEE8AA\",\"#00FF00\",\"#EEA2AD\",\"#A0522D\",\"#000080\",\n",
    "  \"#E9967A\",\"#00CDCD\",\"#8B4500\",\"#DDA0DD\",\"#EE9572\",\"#EEE9E9\",\"#8B1A1A\",\"#8B8378\",\"#EE9A49\",\n",
    "  \"#EECFA1\",\"#8B4726\",\"#8B8878\",\"#EEB4B4\",\"#C1CDCD\",\"#8B7500\",\"#0000FF\",\"#EEEED1\",\"#4F94CD\",\n",
    "  \"#6E8B3D\",\"#B0E2FF\",\"#76EE00\",\"#A2B5CD\",\"#548B54\",\"#BBFFFF\",\"#B4EEB4\",\"#00C5CD\",\"#008B8B\",\n",
    "  \"#7FFFD4\",\"#8EE5EE\",\"#43CD80\",\"#68838B\",\"#00FF00\",\"#B9D3EE\",\"#9ACD32\",\"#00688B\",\"#FFEC8B\",\n",
    "  \"#1C86EE\",\"#CDCD00\",\"#473C8B\",\"#FFB90F\",\"#EED5D2\",\"#CD5555\",\"#CDC9A5\",\"#FFE7BA\",\"#FFDAB9\",\n",
    "  \"#CD661D\",\"#CDC5BF\",\"#FF8C69\",\"#8A2BE2\",\"#CD8500\",\"#B03060\",\"#FF6347\",\"#FF7F50\",\"#CD0000\",\n",
    "  \"#F4A460\",\"#FFB5C5\",\"#DAA520\",\"#CD6889\",\"#32CD32\",\"#FF00FF\",\"#2E8B57\",\"#CD96CD\",\"#48D1CC\",\n",
    "  \"#9B30FF\",\"#1E90FF\",\"#CDB5CD\",\"#191970\",\"#E8E8E8\",\"#FFDAB9\")"
   ]
  },
  {
   "cell_type": "code",
   "execution_count": 17,
   "id": "opposed-machinery",
   "metadata": {},
   "outputs": [],
   "source": [
    "DIMS = 20"
   ]
  },
  {
   "cell_type": "code",
   "execution_count": 18,
   "id": "powerful-gamma",
   "metadata": {},
   "outputs": [],
   "source": [
    "resolution = 0.6"
   ]
  },
  {
   "cell_type": "code",
   "execution_count": 19,
   "id": "rational-envelope",
   "metadata": {},
   "outputs": [],
   "source": [
    "matrix_name = Seurat::Read10X(matrix_file, gene.column=2)\n",
    "# create seurat obj"
   ]
  },
  {
   "cell_type": "code",
   "execution_count": 20,
   "id": "original-wales",
   "metadata": {},
   "outputs": [
    {
     "name": "stderr",
     "output_type": "stream",
     "text": [
      "Warning message:\n",
      "“Feature names cannot have underscores ('_'), replacing with dashes ('-')”\n"
     ]
    }
   ],
   "source": [
    "rds = CreateSeuratObject(matrix_name)"
   ]
  },
  {
   "cell_type": "code",
   "execution_count": 17,
   "id": "greatest-guinea",
   "metadata": {},
   "outputs": [],
   "source": [
    "# mito\n",
    "all_genes = rownames(rds@assays$RNA@data)\n",
    "mito.genes <- grep(pattern = \"^MT-\", x = all_genes, value = TRUE, ignore.case=TRUE)"
   ]
  },
  {
   "cell_type": "code",
   "execution_count": 18,
   "id": "early-southwest",
   "metadata": {},
   "outputs": [],
   "source": [
    "percent.mito <- Matrix::colSums(rds@assays$RNA@counts[mito.genes,,drop=FALSE])/Matrix::colSums(rds@assays$RNA@counts)"
   ]
  },
  {
   "cell_type": "code",
   "execution_count": 19,
   "id": "expensive-timer",
   "metadata": {},
   "outputs": [],
   "source": [
    "rds <- AddMetaData(object = rds, metadata = percent.mito, col.name = \"percent.mito\")"
   ]
  },
  {
   "cell_type": "code",
   "execution_count": 20,
   "id": "valid-priority",
   "metadata": {},
   "outputs": [],
   "source": [
    "rds <- NormalizeData(rds, normalization.method = \"LogNormalize\",scale.factor = 10000)\n",
    "nfeatures = 20000"
   ]
  },
  {
   "cell_type": "code",
   "execution_count": 21,
   "id": "annoying-timeline",
   "metadata": {},
   "outputs": [],
   "source": [
    "rds <- FindVariableFeatures(rds, selection.method = \"vst\", nfeatures = nfeatures, mean.cutoff = c(0.1, 8), dispersion.cutoff = c(1, Inf),\n",
    "                            mean.function = ExpMean, dispersion.function = LogVMR)"
   ]
  },
  {
   "cell_type": "code",
   "execution_count": null,
   "id": "derived-topic",
   "metadata": {},
   "outputs": [
    {
     "name": "stderr",
     "output_type": "stream",
     "text": [
      "Regressing out nCount_RNA, percent.mito\n",
      "\n"
     ]
    }
   ],
   "source": [
    "use.genes <- rds@assays$RNA@var.features\n",
    "rds <- ScaleData(rds, vars.to.regress = c(\"nCount_RNA\", \"percent.mito\"), features = use.genes)"
   ]
  },
  {
   "cell_type": "code",
   "execution_count": null,
   "id": "veterinary-wings",
   "metadata": {},
   "outputs": [],
   "source": [
    "rds <- RunPCA(object = rds, features = use.genes, do.print = FALSE)"
   ]
  },
  {
   "cell_type": "code",
   "execution_count": null,
   "id": "experienced-mining",
   "metadata": {},
   "outputs": [],
   "source": [
    "rds <- FindNeighbors(rds, dims = 1:DIMS, force.recalc = TRUE, reduction = \"pca\")"
   ]
  },
  {
   "cell_type": "code",
   "execution_count": null,
   "id": "assigned-granny",
   "metadata": {},
   "outputs": [],
   "source": [
    "rds <- FindClusters(rds, resolution = resolution)"
   ]
  },
  {
   "cell_type": "code",
   "execution_count": null,
   "id": "desperate-budget",
   "metadata": {},
   "outputs": [],
   "source": [
    "# tsne and umap\n",
    "rds <- RunTSNE(rds, dims = 1:DIMS, do.fast = TRUE, check_duplicates = FALSE)"
   ]
  },
  {
   "cell_type": "code",
   "execution_count": null,
   "id": "compound-sitting",
   "metadata": {},
   "outputs": [],
   "source": [
    "rds = RunUMAP(rds, dims=1:DIMS)"
   ]
  },
  {
   "cell_type": "code",
   "execution_count": null,
   "id": "possible-iraqi",
   "metadata": {},
   "outputs": [],
   "source": []
  },
  {
   "cell_type": "code",
   "execution_count": 2,
   "id": "prime-specification",
   "metadata": {},
   "outputs": [],
   "source": [
    "ref = '/SGRNJ03/randd/cjj/Script/singleR/MouseRNAseqData.rds'"
   ]
  },
  {
   "cell_type": "code",
   "execution_count": 22,
   "id": "arbitrary-enlargement",
   "metadata": {},
   "outputs": [],
   "source": [
    "# SingleR\n",
    "ref = readRDS(ref)\n",
    "df.data = GetAssayData(rds)\n",
    "pred.cluster = SingleR(test = df.data, ref = ref, clusters=Idents(rds),\n",
    "    labels = ref$label.main)\n",
    "celltype <-data.frame(ClusterID=rownames(pred.cluster),celltype=pred.cluster$labels,stringsAsFactors = F)\n",
    "rds[['celltype']]<- celltype$celltype[match(Idents(rds), celltype$ClusterID)]\n",
    "\n",
    "meta = rds@meta.data\n",
    "assign = meta %>% select(celltype)"
   ]
  },
  {
   "cell_type": "code",
   "execution_count": 23,
   "id": "metallic-drink",
   "metadata": {},
   "outputs": [
    {
     "data": {
      "text/plain": [
       "\n",
       "B cells \n",
       "   6219 "
      ]
     },
     "metadata": {},
     "output_type": "display_data"
    }
   ],
   "source": [
    "table(meta$celltype)"
   ]
  },
  {
   "cell_type": "code",
   "execution_count": 3,
   "id": "discrete-nigeria",
   "metadata": {},
   "outputs": [],
   "source": [
    "rds = readRDS('/SGRNJ06/randd/USER/cjj/celedev/runsingleR/20220429c3/singleR_annotation/220417014/rename.rds')"
   ]
  },
  {
   "cell_type": "code",
   "execution_count": 4,
   "id": "fabulous-updating",
   "metadata": {},
   "outputs": [],
   "source": [
    "ref = readRDS(ref)"
   ]
  },
  {
   "cell_type": "code",
   "execution_count": 5,
   "id": "planned-swedish",
   "metadata": {},
   "outputs": [],
   "source": [
    "df.data = GetAssayData(rds)\n",
    "pred.cluster = SingleR(test = df.data, ref = ref, clusters=Idents(rds),\n",
    "    labels = ref$label.main)\n",
    "celltype <-data.frame(ClusterID=rownames(pred.cluster),celltype=pred.cluster$labels,stringsAsFactors = F)\n",
    "rds[['celltype']]<- celltype$celltype[match(Idents(rds), celltype$ClusterID)]\n"
   ]
  },
  {
   "cell_type": "code",
   "execution_count": null,
   "id": "wrapped-native",
   "metadata": {},
   "outputs": [],
   "source": []
  }
 ],
 "metadata": {
  "kernelspec": {
   "display_name": "CJJcele",
   "language": "R",
   "name": "cjjcele"
  },
  "language_info": {
   "codemirror_mode": "r",
   "file_extension": ".r",
   "mimetype": "text/x-r-source",
   "name": "R",
   "pygments_lexer": "r",
   "version": "4.0.3"
  }
 },
 "nbformat": 4,
 "nbformat_minor": 5
}
