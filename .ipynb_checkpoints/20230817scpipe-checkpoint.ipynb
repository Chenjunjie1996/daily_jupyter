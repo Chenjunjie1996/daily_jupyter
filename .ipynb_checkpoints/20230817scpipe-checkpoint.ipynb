{
 "cells": [
  {
   "cell_type": "code",
   "execution_count": null,
   "id": "cardiovascular-particular",
   "metadata": {},
   "outputs": [],
   "source": [
    "library(\"scPipe\")"
   ]
  },
  {
   "cell_type": "code",
   "execution_count": 6,
   "id": "secure-eleven",
   "metadata": {},
   "outputs": [],
   "source": [
    "data.folder <- system.file(\"extdata\", package = \"scPipe\", mustWork = TRUE)"
   ]
  },
  {
   "cell_type": "code",
   "execution_count": 7,
   "id": "disabled-aquarium",
   "metadata": {},
   "outputs": [
    {
     "data": {
      "text/html": [
       "'/SGRNJ01/Public/Software/conda_env/scpipe/lib/R/library/scPipe/extdata'"
      ],
      "text/latex": [
       "'/SGRNJ01/Public/Software/conda\\_env/scpipe/lib/R/library/scPipe/extdata'"
      ],
      "text/markdown": [
       "'/SGRNJ01/Public/Software/conda_env/scpipe/lib/R/library/scPipe/extdata'"
      ],
      "text/plain": [
       "[1] \"/SGRNJ01/Public/Software/conda_env/scpipe/lib/R/library/scPipe/extdata\""
      ]
     },
     "metadata": {},
     "output_type": "display_data"
    }
   ],
   "source": [
    "data.folder"
   ]
  },
  {
   "cell_type": "code",
   "execution_count": 2,
   "id": "charming-guest",
   "metadata": {},
   "outputs": [],
   "source": [
    "output_folder=\"/SGRNJ06/randd/USER/cjj/celedev/atac/20230815ds/test3_10xdata\""
   ]
  },
  {
   "cell_type": "code",
   "execution_count": null,
   "id": "opening-payroll",
   "metadata": {},
   "outputs": [],
   "source": [
    "?sc_atac_create_sce"
   ]
  },
  {
   "cell_type": "code",
   "execution_count": 4,
   "id": "finite-granny",
   "metadata": {},
   "outputs": [
    {
     "name": "stderr",
     "output_type": "stream",
     "text": [
      "SCE object is saved in:\n",
      "\t/SGRNJ06/randd/USER/cjj/celedev/atac/20230815ds/test3_10xdata/scPipe_atac_SCEobject.rds\n",
      "\n",
      "\n",
      "\n",
      "processing file: rmd_report_skeleton.Rmd\n",
      "\n"
     ]
    },
    {
     "name": "stdout",
     "output_type": "stream",
     "text": [
      "1/59                            \n",
      "2/59 [setup]                    \n",
      "3/59                            \n",
      "4/59 [unnamed-chunk-1]          \n",
      "5/59                            \n",
      "6/59 [inputs]                   \n",
      "7/59                            \n",
      "8/59 [unnamed-chunk-2]          \n",
      "9/59                            \n",
      "10/59 [unnamed-chunk-3]          \n",
      "11/59                            \n",
      "12/59 [unnamed-chunk-4]          \n",
      "13/59                            \n",
      "14/59 [alignment-stats-plot]     \n",
      "15/59                            \n",
      "16/59 [unnamed-chunk-5]          \n",
      "17/59                            \n",
      "18/59 [unnamed-chunk-6]          \n",
      "19/59                            \n",
      "20/59 [barcode-alignment-barplot]\n",
      "21/59                            \n",
      "22/59 [unnamed-chunk-7]          \n",
      "23/59                            \n",
      "24/59 [insert-size-dist]         \n",
      "25/59                            \n",
      "26/59 [unnamed-chunk-8]          \n",
      "27/59                            \n",
      "28/59 [frag-peak]                \n",
      "29/59                            \n",
      "30/59 [frag-mito]                \n",
      "31/59                            \n",
      "32/59 [frag-density]             \n",
      "33/59                            \n",
      "34/59 [barcode-alignment-dist]   \n",
      "35/59                            \n",
      "36/59 [percell-counts]           \n",
      "37/59                            \n",
      "38/59 [percell-features]         \n",
      "39/59                            \n",
      "40/59 [unnamed-chunk-9]          \n",
      "41/59                            \n",
      "42/59 [perfeature-counts]        \n",
      "43/59                            \n",
      "44/59 [perfeature-cells]         \n",
      "45/59                            \n",
      "46/59 [corr-cells]               \n",
      "47/59                            \n",
      "48/59 [corr-features]            \n",
      "49/59                            \n",
      "50/59 [overall-overlap]          \n",
      "51/59                            \n",
      "52/59 [anno-overlap-boxes]       \n",
      "53/59                            \n",
      "54/59 [tss-enrichment]           \n",
      "55/59                            \n",
      "56/59 [unnamed-chunk-10]         \n"
     ]
    },
    {
     "name": "stderr",
     "output_type": "stream",
     "text": [
      "\n",
      "Quitting from lines 588-656 [unnamed-chunk-10] (rmd_report_skeleton.Rmd)\n",
      "\n"
     ]
    },
    {
     "ename": "ERROR",
     "evalue": "\u001b[1m\u001b[33mError\u001b[39m in `h()`:\u001b[22m\n\u001b[33m!\u001b[39m error in evaluating the argument 'i' in selecting a method for function '[<-': argument to 'which' is not logical\n",
     "output_type": "error",
     "traceback": [
      "\u001b[1m\u001b[33mError\u001b[39m in `h()`:\u001b[22m\n\u001b[33m!\u001b[39m error in evaluating the argument 'i' in selecting a method for function '[<-': argument to 'which' is not logical\nTraceback:\n",
      "1. sc_atac_create_sce(input_folder = output_folder, organism = \"hg38\", \n .     feature_type = \"peak\", pheno_data = NULL, report = TRUE)",
      "2. sc_atac_create_report(input_folder = file.path(input_folder), \n .     output_folder = file.path(input_folder, \"scPipe_atac_stats\"), \n .     sample_name = sample_name, organism = organism, feature_type = feature_type)",
      "3. rmarkdown::render(input = report.file, params = list(input_folder = input_folder, \n .     organism = organism, sample = sample_name, feature_type = feature_type, \n .     n_barcode_subset = n_barcode_subset), output_file = output_file)",
      "4. knitr::knit(knit_input, knit_output, envir = envir, quiet = quiet)",
      "5. process_file(text, output)",
      "6. withCallingHandlers(withCallingHandlers(if (tangle) process_tangle(group) else process_group(group), \n .     error = function(e) if (xfun::pkg_available(\"rlang\", \"1.0.0\") && \n .         !xfun::check_old_package(\"learnr\", \"0.11.3\")) rlang::entrace(e)), \n .     error = function(e) {\n .         setwd(wd)\n .         write_utf8(res, output %n% stdout())\n .         message(\"\\nQuitting from lines \", paste(current_lines(i), \n .             collapse = \"-\"), if (labels[i] != \"\") \n .             sprintf(\" [%s]\", labels[i]), sprintf(\" (%s)\", knit_concord$get(\"infile\")))\n .     })",
      "7. withCallingHandlers(if (tangle) process_tangle(group) else process_group(group), \n .     error = function(e) if (xfun::pkg_available(\"rlang\", \"1.0.0\") && \n .         !xfun::check_old_package(\"learnr\", \"0.11.3\")) rlang::entrace(e))",
      "8. process_group(group)",
      "9. process_group.block(group)",
      "10. call_block(x)",
      "11. block_exec(params)",
      "12. eng_r(options)",
      "13. in_input_dir(evaluate(code, envir = env, new_device = FALSE, \n  .     keep_warning = if (is.numeric(options$warning)) TRUE else options$warning, \n  .     keep_message = if (is.numeric(options$message)) TRUE else options$message, \n  .     stop_on_error = if (is.numeric(options$error)) options$error else {\n  .         if (options$error && options$include) \n  .             0L\n  .         else 2L\n  .     }, output_handler = knit_handlers(options$render, options)))",
      "14. in_dir(input_dir(), expr)",
      "15. evaluate(code, envir = env, new_device = FALSE, keep_warning = if (is.numeric(options$warning)) TRUE else options$warning, \n  .     keep_message = if (is.numeric(options$message)) TRUE else options$message, \n  .     stop_on_error = if (is.numeric(options$error)) options$error else {\n  .         if (options$error && options$include) \n  .             0L\n  .         else 2L\n  .     }, output_handler = knit_handlers(options$render, options))",
      "16. evaluate::evaluate(...)",
      "17. evaluate_call(expr, parsed$src[[i]], envir = envir, enclos = enclos, \n  .     debug = debug, last = i == length(out), use_try = stop_on_error != \n  .         2L, keep_warning = keep_warning, keep_message = keep_message, \n  .     log_echo = log_echo, log_warning = log_warning, output_handler = output_handler, \n  .     include_timing = include_timing)",
      "18. timing_fn(handle(ev <- withCallingHandlers(withVisible(eval_with_user_handlers(expr, \n  .     envir, enclos, user_handlers)), warning = wHandler, error = eHandler, \n  .     message = mHandler)))",
      "19. handle(ev <- withCallingHandlers(withVisible(eval_with_user_handlers(expr, \n  .     envir, enclos, user_handlers)), warning = wHandler, error = eHandler, \n  .     message = mHandler))",
      "20. withCallingHandlers(withVisible(eval_with_user_handlers(expr, \n  .     envir, enclos, user_handlers)), warning = wHandler, error = eHandler, \n  .     message = mHandler)",
      "21. withVisible(eval_with_user_handlers(expr, envir, enclos, user_handlers))",
      "22. eval_with_user_handlers(expr, envir, enclos, user_handlers)",
      "23. eval(expr, envir, enclos)",
      "24. eval(expr, envir, enclos)",
      "25. TF.IDF.custom(bin_mat)",
      "26. `[<-`(`*tmp*`, which(x = is.na(x = norm.data)), value = 0)   # at line 10 of file <text>",
      "27. which(x = is.na(x = norm.data))",
      "28. .handleSimpleError(function (cond) \n  . .Internal(C_tryCatchHelper(addr, 1L, cond)), \"argument to 'which' is not logical\", \n  .     base::quote(which(x = is.na(x = norm.data))))",
      "29. h(simpleError(msg, call))",
      "30. .handleSimpleError(function (e) \n  . if (xfun::pkg_available(\"rlang\", \"1.0.0\") && !xfun::check_old_package(\"learnr\", \n  .     \"0.11.3\")) rlang::entrace(e), \"error in evaluating the argument 'i' in selecting a method for function '[<-': argument to 'which' is not logical\", \n  .     base::quote(h(simpleError(msg, call))))",
      "31. h(simpleError(msg, call))",
      "32. rlang::entrace(e)",
      "33. cnd_signal(entraced)",
      "34. signal_abort(cnd)"
     ]
    }
   ],
   "source": [
    "sce <- sc_atac_create_sce(input_folder = output_folder,\n",
    "                   organism     = \"hg38\",\n",
    "                   feature_type = \"peak\",\n",
    "                   pheno_data   = NULL,\n",
    "                   report       = TRUE)"
   ]
  },
  {
   "cell_type": "code",
   "execution_count": null,
   "id": "stuffed-potato",
   "metadata": {},
   "outputs": [],
   "source": []
  }
 ],
 "metadata": {
  "kernelspec": {
   "display_name": "scpipe",
   "language": "R",
   "name": "scpipe"
  },
  "language_info": {
   "codemirror_mode": "r",
   "file_extension": ".r",
   "mimetype": "text/x-r-source",
   "name": "R",
   "pygments_lexer": "r",
   "version": "4.3.1"
  }
 },
 "nbformat": 4,
 "nbformat_minor": 5
}
