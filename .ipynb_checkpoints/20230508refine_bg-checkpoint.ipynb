{
 "cells": [
  {
   "cell_type": "code",
   "execution_count": 1,
   "id": "classical-preserve",
   "metadata": {},
   "outputs": [
    {
     "name": "stderr",
     "output_type": "stream",
     "text": [
      "Warning message:\n",
      "“package ‘Seurat’ was built under R version 4.0.5”\n",
      "Attaching SeuratObject\n",
      "\n",
      "Registered S3 method overwritten by 'cli':\n",
      "  method     from         \n",
      "  print.boxx spatstat.geom\n",
      "\n",
      "── \u001b[1mAttaching packages\u001b[22m ───────────────────────────────────────────────────────────────────────────────────────────────────────────── tidyverse 1.3.1 ──\n",
      "\n",
      "\u001b[32m✔\u001b[39m \u001b[34mggplot2\u001b[39m 3.3.3     \u001b[32m✔\u001b[39m \u001b[34mpurrr  \u001b[39m 0.3.4\n",
      "\u001b[32m✔\u001b[39m \u001b[34mtibble \u001b[39m 3.1.0     \u001b[32m✔\u001b[39m \u001b[34mdplyr  \u001b[39m 1.0.5\n",
      "\u001b[32m✔\u001b[39m \u001b[34mtidyr  \u001b[39m 1.1.3     \u001b[32m✔\u001b[39m \u001b[34mstringr\u001b[39m 1.4.0\n",
      "\u001b[32m✔\u001b[39m \u001b[34mreadr  \u001b[39m 1.4.0     \u001b[32m✔\u001b[39m \u001b[34mforcats\u001b[39m 0.5.1\n",
      "\n",
      "── \u001b[1mConflicts\u001b[22m ──────────────────────────────────────────────────────────────────────────────────────────────────────────────── tidyverse_conflicts() ──\n",
      "\u001b[31m✖\u001b[39m \u001b[34mdplyr\u001b[39m::\u001b[32mfilter()\u001b[39m masks \u001b[34mstats\u001b[39m::filter()\n",
      "\u001b[31m✖\u001b[39m \u001b[34mdplyr\u001b[39m::\u001b[32mlag()\u001b[39m    masks \u001b[34mstats\u001b[39m::lag()\n",
      "\n"
     ]
    }
   ],
   "source": [
    "library(Seurat)\n",
    "library(tidyverse)\n",
    "library(argparse)\n",
    "library(ggplot2)\n",
    "library(stringr)\n",
    "library(dplyr)"
   ]
  },
  {
   "cell_type": "code",
   "execution_count": 64,
   "id": "electoral-japanese",
   "metadata": {},
   "outputs": [],
   "source": [
    "rds <- readRDS(\"/SGRNJ06/randd/display/longVDJ/M_spleen/20221009_TB/RD20073101_220927_mus_Spleen.diff_PRO.rds\")\n",
    "#rds <- readRDS(\"/SGRNJ06/randd/display/longVDJ/M_PBMC/20221009_TB/m_PBMC_nodoublet_PRO_new.rds\")"
   ]
  },
  {
   "cell_type": "code",
   "execution_count": 65,
   "id": "revolutionary-richardson",
   "metadata": {},
   "outputs": [
    {
     "data": {
      "text/html": [
       "<table class=\"dataframe\">\n",
       "<caption>A data.frame: 6 × 12</caption>\n",
       "<thead>\n",
       "\t<tr><th></th><th scope=col>orig.ident</th><th scope=col>nCount_RNA</th><th scope=col>nFeature_RNA</th><th scope=col>sample</th><th scope=col>group</th><th scope=col>reportname</th><th scope=col>platform</th><th scope=col>percent.mt</th><th scope=col>cluster</th><th scope=col>raw_cluster</th><th scope=col>louvain</th><th scope=col>seurat_cluster</th></tr>\n",
       "\t<tr><th></th><th scope=col>&lt;fct&gt;</th><th scope=col>&lt;dbl&gt;</th><th scope=col>&lt;int&gt;</th><th scope=col>&lt;fct&gt;</th><th scope=col>&lt;fct&gt;</th><th scope=col>&lt;fct&gt;</th><th scope=col>&lt;chr&gt;</th><th scope=col>&lt;dbl&gt;</th><th scope=col>&lt;fct&gt;</th><th scope=col>&lt;fct&gt;</th><th scope=col>&lt;chr&gt;</th><th scope=col>&lt;chr&gt;</th></tr>\n",
       "</thead>\n",
       "<tbody>\n",
       "\t<tr><th scope=row>M_0727Pz1_Nlib_AAACATCGAAACATCGCACTTCGA</th><td>M</td><td>2378</td><td>1242</td><td>M_0727Pz1_Nlib</td><td>M_0727Pz1_Nlib</td><td>M_0727Pz1_Nlib</td><td>A</td><td>1.429773</td><td>NaiveT</td><td>9 </td><td>9 </td><td>9 </td></tr>\n",
       "\t<tr><th scope=row>M_0727Pz1_Nlib_AAACATCGAAACATCGCCAGTTCA</th><td>M</td><td>1262</td><td> 822</td><td>M_0727Pz1_Nlib</td><td>M_0727Pz1_Nlib</td><td>M_0727Pz1_Nlib</td><td>A</td><td>2.773376</td><td>Treg  </td><td>8 </td><td>8 </td><td>8 </td></tr>\n",
       "\t<tr><th scope=row>M_0727Pz1_Nlib_AAACATCGAACAACCAATTGAGGA</th><td>M</td><td>1314</td><td> 835</td><td>M_0727Pz1_Nlib</td><td>M_0727Pz1_Nlib</td><td>M_0727Pz1_Nlib</td><td>A</td><td>1.293759</td><td>NaiveT</td><td>12</td><td>12</td><td>12</td></tr>\n",
       "\t<tr><th scope=row>M_0727Pz1_Nlib_AAACATCGAACAACCAGGTGCGAA</th><td>M</td><td> 915</td><td> 536</td><td>M_0727Pz1_Nlib</td><td>M_0727Pz1_Nlib</td><td>M_0727Pz1_Nlib</td><td>A</td><td>5.136612</td><td>NaiveB</td><td>6 </td><td>6 </td><td>6 </td></tr>\n",
       "\t<tr><th scope=row>M_0727Pz1_Nlib_AAACATCGAACCGAGAAGCCATGC</th><td>M</td><td>2546</td><td>1257</td><td>M_0727Pz1_Nlib</td><td>M_0727Pz1_Nlib</td><td>M_0727Pz1_Nlib</td><td>A</td><td>2.945797</td><td>NaiveB</td><td>7 </td><td>7 </td><td>7 </td></tr>\n",
       "\t<tr><th scope=row>M_0727Pz1_Nlib_AAACATCGAACGCTTACTAAGGTC</th><td>M</td><td>2171</td><td>1170</td><td>M_0727Pz1_Nlib</td><td>M_0727Pz1_Nlib</td><td>M_0727Pz1_Nlib</td><td>A</td><td>4.421926</td><td>NaiveB</td><td>15</td><td>15</td><td>15</td></tr>\n",
       "</tbody>\n",
       "</table>\n"
      ],
      "text/latex": [
       "A data.frame: 6 × 12\n",
       "\\begin{tabular}{r|llllllllllll}\n",
       "  & orig.ident & nCount\\_RNA & nFeature\\_RNA & sample & group & reportname & platform & percent.mt & cluster & raw\\_cluster & louvain & seurat\\_cluster\\\\\n",
       "  & <fct> & <dbl> & <int> & <fct> & <fct> & <fct> & <chr> & <dbl> & <fct> & <fct> & <chr> & <chr>\\\\\n",
       "\\hline\n",
       "\tM\\_0727Pz1\\_Nlib\\_AAACATCGAAACATCGCACTTCGA & M & 2378 & 1242 & M\\_0727Pz1\\_Nlib & M\\_0727Pz1\\_Nlib & M\\_0727Pz1\\_Nlib & A & 1.429773 & NaiveT & 9  & 9  & 9 \\\\\n",
       "\tM\\_0727Pz1\\_Nlib\\_AAACATCGAAACATCGCCAGTTCA & M & 1262 &  822 & M\\_0727Pz1\\_Nlib & M\\_0727Pz1\\_Nlib & M\\_0727Pz1\\_Nlib & A & 2.773376 & Treg   & 8  & 8  & 8 \\\\\n",
       "\tM\\_0727Pz1\\_Nlib\\_AAACATCGAACAACCAATTGAGGA & M & 1314 &  835 & M\\_0727Pz1\\_Nlib & M\\_0727Pz1\\_Nlib & M\\_0727Pz1\\_Nlib & A & 1.293759 & NaiveT & 12 & 12 & 12\\\\\n",
       "\tM\\_0727Pz1\\_Nlib\\_AAACATCGAACAACCAGGTGCGAA & M &  915 &  536 & M\\_0727Pz1\\_Nlib & M\\_0727Pz1\\_Nlib & M\\_0727Pz1\\_Nlib & A & 5.136612 & NaiveB & 6  & 6  & 6 \\\\\n",
       "\tM\\_0727Pz1\\_Nlib\\_AAACATCGAACCGAGAAGCCATGC & M & 2546 & 1257 & M\\_0727Pz1\\_Nlib & M\\_0727Pz1\\_Nlib & M\\_0727Pz1\\_Nlib & A & 2.945797 & NaiveB & 7  & 7  & 7 \\\\\n",
       "\tM\\_0727Pz1\\_Nlib\\_AAACATCGAACGCTTACTAAGGTC & M & 2171 & 1170 & M\\_0727Pz1\\_Nlib & M\\_0727Pz1\\_Nlib & M\\_0727Pz1\\_Nlib & A & 4.421926 & NaiveB & 15 & 15 & 15\\\\\n",
       "\\end{tabular}\n"
      ],
      "text/markdown": [
       "\n",
       "A data.frame: 6 × 12\n",
       "\n",
       "| <!--/--> | orig.ident &lt;fct&gt; | nCount_RNA &lt;dbl&gt; | nFeature_RNA &lt;int&gt; | sample &lt;fct&gt; | group &lt;fct&gt; | reportname &lt;fct&gt; | platform &lt;chr&gt; | percent.mt &lt;dbl&gt; | cluster &lt;fct&gt; | raw_cluster &lt;fct&gt; | louvain &lt;chr&gt; | seurat_cluster &lt;chr&gt; |\n",
       "|---|---|---|---|---|---|---|---|---|---|---|---|---|\n",
       "| M_0727Pz1_Nlib_AAACATCGAAACATCGCACTTCGA | M | 2378 | 1242 | M_0727Pz1_Nlib | M_0727Pz1_Nlib | M_0727Pz1_Nlib | A | 1.429773 | NaiveT | 9  | 9  | 9  |\n",
       "| M_0727Pz1_Nlib_AAACATCGAAACATCGCCAGTTCA | M | 1262 |  822 | M_0727Pz1_Nlib | M_0727Pz1_Nlib | M_0727Pz1_Nlib | A | 2.773376 | Treg   | 8  | 8  | 8  |\n",
       "| M_0727Pz1_Nlib_AAACATCGAACAACCAATTGAGGA | M | 1314 |  835 | M_0727Pz1_Nlib | M_0727Pz1_Nlib | M_0727Pz1_Nlib | A | 1.293759 | NaiveT | 12 | 12 | 12 |\n",
       "| M_0727Pz1_Nlib_AAACATCGAACAACCAGGTGCGAA | M |  915 |  536 | M_0727Pz1_Nlib | M_0727Pz1_Nlib | M_0727Pz1_Nlib | A | 5.136612 | NaiveB | 6  | 6  | 6  |\n",
       "| M_0727Pz1_Nlib_AAACATCGAACCGAGAAGCCATGC | M | 2546 | 1257 | M_0727Pz1_Nlib | M_0727Pz1_Nlib | M_0727Pz1_Nlib | A | 2.945797 | NaiveB | 7  | 7  | 7  |\n",
       "| M_0727Pz1_Nlib_AAACATCGAACGCTTACTAAGGTC | M | 2171 | 1170 | M_0727Pz1_Nlib | M_0727Pz1_Nlib | M_0727Pz1_Nlib | A | 4.421926 | NaiveB | 15 | 15 | 15 |\n",
       "\n"
      ],
      "text/plain": [
       "                                        orig.ident nCount_RNA nFeature_RNA\n",
       "M_0727Pz1_Nlib_AAACATCGAAACATCGCACTTCGA M          2378       1242        \n",
       "M_0727Pz1_Nlib_AAACATCGAAACATCGCCAGTTCA M          1262        822        \n",
       "M_0727Pz1_Nlib_AAACATCGAACAACCAATTGAGGA M          1314        835        \n",
       "M_0727Pz1_Nlib_AAACATCGAACAACCAGGTGCGAA M           915        536        \n",
       "M_0727Pz1_Nlib_AAACATCGAACCGAGAAGCCATGC M          2546       1257        \n",
       "M_0727Pz1_Nlib_AAACATCGAACGCTTACTAAGGTC M          2171       1170        \n",
       "                                        sample         group         \n",
       "M_0727Pz1_Nlib_AAACATCGAAACATCGCACTTCGA M_0727Pz1_Nlib M_0727Pz1_Nlib\n",
       "M_0727Pz1_Nlib_AAACATCGAAACATCGCCAGTTCA M_0727Pz1_Nlib M_0727Pz1_Nlib\n",
       "M_0727Pz1_Nlib_AAACATCGAACAACCAATTGAGGA M_0727Pz1_Nlib M_0727Pz1_Nlib\n",
       "M_0727Pz1_Nlib_AAACATCGAACAACCAGGTGCGAA M_0727Pz1_Nlib M_0727Pz1_Nlib\n",
       "M_0727Pz1_Nlib_AAACATCGAACCGAGAAGCCATGC M_0727Pz1_Nlib M_0727Pz1_Nlib\n",
       "M_0727Pz1_Nlib_AAACATCGAACGCTTACTAAGGTC M_0727Pz1_Nlib M_0727Pz1_Nlib\n",
       "                                        reportname     platform percent.mt\n",
       "M_0727Pz1_Nlib_AAACATCGAAACATCGCACTTCGA M_0727Pz1_Nlib A        1.429773  \n",
       "M_0727Pz1_Nlib_AAACATCGAAACATCGCCAGTTCA M_0727Pz1_Nlib A        2.773376  \n",
       "M_0727Pz1_Nlib_AAACATCGAACAACCAATTGAGGA M_0727Pz1_Nlib A        1.293759  \n",
       "M_0727Pz1_Nlib_AAACATCGAACAACCAGGTGCGAA M_0727Pz1_Nlib A        5.136612  \n",
       "M_0727Pz1_Nlib_AAACATCGAACCGAGAAGCCATGC M_0727Pz1_Nlib A        2.945797  \n",
       "M_0727Pz1_Nlib_AAACATCGAACGCTTACTAAGGTC M_0727Pz1_Nlib A        4.421926  \n",
       "                                        cluster raw_cluster louvain\n",
       "M_0727Pz1_Nlib_AAACATCGAAACATCGCACTTCGA NaiveT  9           9      \n",
       "M_0727Pz1_Nlib_AAACATCGAAACATCGCCAGTTCA Treg    8           8      \n",
       "M_0727Pz1_Nlib_AAACATCGAACAACCAATTGAGGA NaiveT  12          12     \n",
       "M_0727Pz1_Nlib_AAACATCGAACAACCAGGTGCGAA NaiveB  6           6      \n",
       "M_0727Pz1_Nlib_AAACATCGAACCGAGAAGCCATGC NaiveB  7           7      \n",
       "M_0727Pz1_Nlib_AAACATCGAACGCTTACTAAGGTC NaiveB  15          15     \n",
       "                                        seurat_cluster\n",
       "M_0727Pz1_Nlib_AAACATCGAAACATCGCACTTCGA 9             \n",
       "M_0727Pz1_Nlib_AAACATCGAAACATCGCCAGTTCA 8             \n",
       "M_0727Pz1_Nlib_AAACATCGAACAACCAATTGAGGA 12            \n",
       "M_0727Pz1_Nlib_AAACATCGAACAACCAGGTGCGAA 6             \n",
       "M_0727Pz1_Nlib_AAACATCGAACCGAGAAGCCATGC 7             \n",
       "M_0727Pz1_Nlib_AAACATCGAACGCTTACTAAGGTC 15            "
      ]
     },
     "metadata": {},
     "output_type": "display_data"
    }
   ],
   "source": [
    "head(rds@meta.data)"
   ]
  },
  {
   "cell_type": "code",
   "execution_count": 66,
   "id": "listed-smooth",
   "metadata": {},
   "outputs": [
    {
     "data": {
      "text/plain": [
       "\n",
       "M_0727Pz1_Nlib M_0727Pz2_Nlib \n",
       "         21219          18533 "
      ]
     },
     "metadata": {},
     "output_type": "display_data"
    }
   ],
   "source": [
    "table(rds@meta.data$sample)"
   ]
  },
  {
   "cell_type": "code",
   "execution_count": 67,
   "id": "pretty-penny",
   "metadata": {},
   "outputs": [
    {
     "data": {
      "text/plain": [
       "\n",
       "M_0727Pz1_Nlib M_0727Pz2_Nlib \n",
       "         21219          18533 "
      ]
     },
     "metadata": {},
     "output_type": "display_data"
    }
   ],
   "source": [
    "table(rds@meta.data$reportname)"
   ]
  },
  {
   "cell_type": "code",
   "execution_count": 68,
   "id": "basic-friend",
   "metadata": {},
   "outputs": [
    {
     "data": {
      "text/plain": [
       "\n",
       "            Basophils               CD8Teff         Erythroblasts \n",
       "                  161                  2764                    33 \n",
       "GerminalCentersBCells                   MPs                NaiveB \n",
       "                  427                  2277                 22759 \n",
       "               NaiveT           Neutrophils                    NK \n",
       "                 6723                  1709                   811 \n",
       "                 pDCs                  Treg \n",
       "                  108                  1980 "
      ]
     },
     "metadata": {},
     "output_type": "display_data"
    }
   ],
   "source": [
    "table(rds@meta.data$cluster)"
   ]
  },
  {
   "cell_type": "code",
   "execution_count": 102,
   "id": "educational-habitat",
   "metadata": {},
   "outputs": [],
   "source": [
    "Idents(rds) <- \"sample\"\n",
    "rna <- subset(rds,idents = c(\"M_0727Pz1_Nlib\"))"
   ]
  },
  {
   "cell_type": "code",
   "execution_count": 103,
   "id": "acceptable-mistress",
   "metadata": {},
   "outputs": [],
   "source": [
    "#vdj <- read.table(\"/SGRNJ06/randd/USER/cjj/celedev/vdj10x/20230523refine/pbmc_bcr/M_0727PBMC1_B3Nlib/07.refine_vdj/matched_contig_annotations.csv\", sep=',', header=T)\n",
    "vdj <- read.table(\"/SGRNJ06/randd/USER/cjj/celedev/vdj10x/20230525refine_ass/spleen_tcr/M_0727Pz1_NMc2_T3Nlib/05.match/matched_contig_annotations.csv\", sep=',', header=T)\n",
    "\n",
    "df <- rna@meta.data\n",
    "df$barcode <- rownames(df)\n",
    "\n",
    "if (grepl(\"_\", rownames(df)[1])){\n",
    "  vdj$shi<-paste(\"M_0727Pz1_Nlib\",\"_\",sep=\"\")\n",
    "  vdj$barcode<-str_c(vdj$shi,vdj$barcode)\n",
    "}\n",
    "\n",
    "cells <- subset(vdj, productive=='True')\n",
    "barcodes <- unique(cells$barcode)\n",
    "\n",
    "filter_df <- filter(df, barcode %in% barcodes)\n",
    "res <- table(filter_df$cluster)\n",
    "res <- as.data.frame(res)"
   ]
  },
  {
   "cell_type": "code",
   "execution_count": 104,
   "id": "mighty-surname",
   "metadata": {},
   "outputs": [
    {
     "data": {
      "text/html": [
       "<table class=\"dataframe\">\n",
       "<caption>A data.frame: 11 × 2</caption>\n",
       "<thead>\n",
       "\t<tr><th scope=col>Var1</th><th scope=col>Freq</th></tr>\n",
       "\t<tr><th scope=col>&lt;fct&gt;</th><th scope=col>&lt;int&gt;</th></tr>\n",
       "</thead>\n",
       "<tbody>\n",
       "\t<tr><td>Basophils            </td><td>   2</td></tr>\n",
       "\t<tr><td>CD8Teff              </td><td> 987</td></tr>\n",
       "\t<tr><td>Erythroblasts        </td><td>   4</td></tr>\n",
       "\t<tr><td>GerminalCentersBCells</td><td>  33</td></tr>\n",
       "\t<tr><td>MPs                  </td><td>  68</td></tr>\n",
       "\t<tr><td>NaiveB               </td><td> 362</td></tr>\n",
       "\t<tr><td>NaiveT               </td><td>2343</td></tr>\n",
       "\t<tr><td>Neutrophils          </td><td>  71</td></tr>\n",
       "\t<tr><td>NK                   </td><td>  36</td></tr>\n",
       "\t<tr><td>pDCs                 </td><td>   3</td></tr>\n",
       "\t<tr><td>Treg                 </td><td> 698</td></tr>\n",
       "</tbody>\n",
       "</table>\n"
      ],
      "text/latex": [
       "A data.frame: 11 × 2\n",
       "\\begin{tabular}{ll}\n",
       " Var1 & Freq\\\\\n",
       " <fct> & <int>\\\\\n",
       "\\hline\n",
       "\t Basophils             &    2\\\\\n",
       "\t CD8Teff               &  987\\\\\n",
       "\t Erythroblasts         &    4\\\\\n",
       "\t GerminalCentersBCells &   33\\\\\n",
       "\t MPs                   &   68\\\\\n",
       "\t NaiveB                &  362\\\\\n",
       "\t NaiveT                & 2343\\\\\n",
       "\t Neutrophils           &   71\\\\\n",
       "\t NK                    &   36\\\\\n",
       "\t pDCs                  &    3\\\\\n",
       "\t Treg                  &  698\\\\\n",
       "\\end{tabular}\n"
      ],
      "text/markdown": [
       "\n",
       "A data.frame: 11 × 2\n",
       "\n",
       "| Var1 &lt;fct&gt; | Freq &lt;int&gt; |\n",
       "|---|---|\n",
       "| Basophils             |    2 |\n",
       "| CD8Teff               |  987 |\n",
       "| Erythroblasts         |    4 |\n",
       "| GerminalCentersBCells |   33 |\n",
       "| MPs                   |   68 |\n",
       "| NaiveB                |  362 |\n",
       "| NaiveT                | 2343 |\n",
       "| Neutrophils           |   71 |\n",
       "| NK                    |   36 |\n",
       "| pDCs                  |    3 |\n",
       "| Treg                  |  698 |\n",
       "\n"
      ],
      "text/plain": [
       "   Var1                  Freq\n",
       "1  Basophils                2\n",
       "2  CD8Teff                987\n",
       "3  Erythroblasts            4\n",
       "4  GerminalCentersBCells   33\n",
       "5  MPs                     68\n",
       "6  NaiveB                 362\n",
       "7  NaiveT                2343\n",
       "8  Neutrophils             71\n",
       "9  NK                      36\n",
       "10 pDCs                     3\n",
       "11 Treg                   698"
      ]
     },
     "metadata": {},
     "output_type": "display_data"
    }
   ],
   "source": [
    "res"
   ]
  },
  {
   "cell_type": "code",
   "execution_count": 105,
   "id": "judicial-personal",
   "metadata": {},
   "outputs": [],
   "source": [
    "out_csv = stringr::str_glue(\"/SGRNJ06/randd/USER/cjj/celedev/vdj10x/20230525refine_ass/spleen_tcr/bg/spleen1_match_barcodes_celltypes_distribution.txt\")\n",
    "write_csv(res,file=out_csv)"
   ]
  },
  {
   "cell_type": "code",
   "execution_count": 106,
   "id": "brave-halloween",
   "metadata": {},
   "outputs": [
    {
     "data": {
      "text/plain": [
       "\n",
       "FALSE  TRUE \n",
       "16612  4607 "
      ]
     },
     "metadata": {},
     "output_type": "display_data"
    }
   ],
   "source": [
    "meta = rna@meta.data\n",
    "meta$Class = 'NA'\n",
    "meta$barcode = rownames(meta)\n",
    "meta = meta %>%\n",
    "  mutate(Class = if_else(barcode %in% barcodes,\n",
    "                         true = \"T/BCR\",\n",
    "                         false = \"NA\"))\n",
    "meta = dplyr::select(meta, -c(\"barcode\"))\n",
    "meta <- meta %>% drop_na(nCount_RNA)\n",
    "table(meta$Class == 'T/BCR')\n",
    "rna@meta.data = meta\n",
    "#rna <- RunUMAP(rna, dims = 1:20)"
   ]
  },
  {
   "cell_type": "code",
   "execution_count": 107,
   "id": "aggressive-flashing",
   "metadata": {},
   "outputs": [
    {
     "data": {
      "text/html": [
       "<strong>png:</strong> 2"
      ],
      "text/latex": [
       "\\textbf{png:} 2"
      ],
      "text/markdown": [
       "**png:** 2"
      ],
      "text/plain": [
       "png \n",
       "  2 "
      ]
     },
     "metadata": {},
     "output_type": "display_data"
    }
   ],
   "source": [
    "outP = stringr::str_glue(\"/SGRNJ06/randd/USER/cjj/celedev/vdj10x/20230525refine_ass/spleen_tcr/bg/spleen1_cluster_umap.png\")\n",
    "png(outP, height=1000, width=1000)\n",
    "UMAPPlot(rna,group.by='raw_cluster',label=TRUE)\n",
    "dev.off()"
   ]
  },
  {
   "cell_type": "code",
   "execution_count": 108,
   "id": "chronic-gross",
   "metadata": {},
   "outputs": [
    {
     "data": {
      "text/html": [
       "<strong>png:</strong> 2"
      ],
      "text/latex": [
       "\\textbf{png:} 2"
      ],
      "text/markdown": [
       "**png:** 2"
      ],
      "text/plain": [
       "png \n",
       "  2 "
      ]
     },
     "metadata": {},
     "output_type": "display_data"
    }
   ],
   "source": [
    "outP1 = stringr::str_glue(\"/SGRNJ06/randd/USER/cjj/celedev/vdj10x/20230525refine_ass/spleen_tcr/bg/spleen1_umapplot.png\")\n",
    "png(outP1, height=1000, width=1000)\n",
    "UMAPPlot(rna,group.by='Class',cols=c('grey','red'),label=TRUE)\n",
    "dev.off()"
   ]
  },
  {
   "cell_type": "code",
   "execution_count": 109,
   "id": "veterinary-glasgow",
   "metadata": {},
   "outputs": [
    {
     "data": {
      "text/html": [
       "<strong>png:</strong> 2"
      ],
      "text/latex": [
       "\\textbf{png:} 2"
      ],
      "text/markdown": [
       "**png:** 2"
      ],
      "text/plain": [
       "png \n",
       "  2 "
      ]
     },
     "metadata": {},
     "output_type": "display_data"
    }
   ],
   "source": [
    "outP2 = stringr::str_glue(\"/SGRNJ06/randd/USER/cjj/celedev/vdj10x/20230525refine_ass/spleen_tcr/bg/spleen1_assign.png\")\n",
    "png(outP2, height=1000, width=1000)\n",
    "UMAPPlot(rds,group.by='cluster',label=TRUE,label.box=TRUE)\n",
    "dev.off()"
   ]
  },
  {
   "cell_type": "code",
   "execution_count": 110,
   "id": "thrown-description",
   "metadata": {},
   "outputs": [],
   "source": [
    "meta = rna@meta.data\n",
    "outMeta = stringr::str_glue(\"/SGRNJ06/randd/USER/cjj/celedev/vdj10x/20230525refine_ass/spleen_tcr/bg/spleen1_meta.csv\")\n",
    "write.csv(meta,outMeta)"
   ]
  },
  {
   "cell_type": "code",
   "execution_count": null,
   "id": "complicated-tobacco",
   "metadata": {},
   "outputs": [],
   "source": []
  },
  {
   "cell_type": "code",
   "execution_count": null,
   "id": "warming-period",
   "metadata": {},
   "outputs": [],
   "source": []
  },
  {
   "cell_type": "code",
   "execution_count": null,
   "id": "stretch-opinion",
   "metadata": {},
   "outputs": [],
   "source": []
  },
  {
   "cell_type": "code",
   "execution_count": null,
   "id": "mysterious-adolescent",
   "metadata": {},
   "outputs": [],
   "source": []
  },
  {
   "cell_type": "code",
   "execution_count": 1,
   "id": "hawaiian-arcade",
   "metadata": {},
   "outputs": [],
   "source": [
    "# python\n",
    "import os\n",
    "import subprocess\n",
    "import glob\n",
    "import pandas as pd\n",
    "import sys\n",
    "from concurrent.futures import ProcessPoolExecutor\n",
    "import xlwt\n",
    "import os\n",
    "import re\n",
    "import celescope.tools.utils as utils"
   ]
  },
  {
   "cell_type": "code",
   "execution_count": 6,
   "id": "voluntary-solomon",
   "metadata": {},
   "outputs": [],
   "source": [
    "    meta_list = glob.glob(f\"/SGRNJ06/randd/USER/cjj/celedev/vdj10x/20230523refine/spleen_bcr/bg/*meta.csv\")\n",
    "    sample_list = [meta.split('/')[-1].split('_')[0] for meta in meta_list]\n",
    "    #mapping_cell_type = [\"NAIVET\", \"HELPERT\", \"NKT\", \"TEFF\", \"CD8TEFF\", \"TREG\"]\n",
    "    mapping_cell_type = [\"NAIVEB\", \"PROB\", \"GERMINALCENTERSBCELLS\"]\n",
    "    \n",
    "    report = xlwt.Workbook()\n",
    "    sheet = report.add_sheet('mapping count')\n",
    "\n",
    "    row0 = ['number of mapping to T/B cells', 'number of T/B cells', 'percent', 'matched cells']\n",
    "    row1 = sample_list\n",
    "\n",
    "    mapping_count, ZL_count, assembled_cells = [], [], []\n",
    "    for meta in meta_list:\n",
    "        df = pd.read_csv(meta)\n",
    "\n",
    "        if 'new_ident' in df.columns: # manual assign column name\n",
    "            ident = 'new_ident'\n",
    "        elif 'celltype' in df.columns: # singleR column name\n",
    "            ident = 'celltype'\n",
    "        else:\n",
    "            ident = 'cluster'\n",
    "\n",
    "        df[ident] = df[ident].apply(lambda x: re.sub(r\"[^a-zA-Z0-9]\",\"\", str(x)).upper())\n",
    "        df_count = df[df[ident].isin(mapping_cell_type)]\n",
    "        \n",
    "        try:\n",
    "            mapping_count.append(int(df_count['Class'].value_counts()))\n",
    "        except TypeError:\n",
    "            mapping_count.append(0)\n",
    "        \n",
    "        ZL_count.append(int(df_count.shape[0]))\n",
    "        ZL_count = [float('-inf') if i==0 else i for i in ZL_count]\n",
    "        assembled_cells.append(int(df['Class'].value_counts()))\n",
    "\n",
    "    percent = [x / y for x, y in zip(mapping_count, ZL_count)]\n",
    "    percent = [str(round(i,4)*100) + \"%\" for i in percent]\n",
    "\n",
    "    for _i in range(len(row0)):\n",
    "        sheet.write(0, _i+1, row0[_i])\n",
    "    for _i in range(len(row1)):\n",
    "        sheet.write(_i+1, 0, row1[_i])\n",
    "        sheet.write(_i+1, 1, mapping_count[_i])\n",
    "        sheet.write(_i+1, 2, ZL_count[_i])\n",
    "        sheet.write(_i+1, 3, percent[_i])\n",
    "        sheet.write(_i+1, 4, assembled_cells[_i])\n",
    "\n",
    "    report.save(f'/SGRNJ06/randd/USER/cjj/celedev/vdj10x/20230523refine/spleen_bcr/bg/mapping_count.xls')"
   ]
  },
  {
   "cell_type": "code",
   "execution_count": null,
   "id": "democratic-maine",
   "metadata": {},
   "outputs": [],
   "source": []
  }
 ],
 "metadata": {
  "kernelspec": {
   "display_name": "CJJcele",
   "language": "R",
   "name": "cjjcele"
  },
  "language_info": {
   "codemirror_mode": "r",
   "file_extension": ".r",
   "mimetype": "text/x-r-source",
   "name": "R",
   "pygments_lexer": "r",
   "version": "4.0.3"
  }
 },
 "nbformat": 4,
 "nbformat_minor": 5
}
