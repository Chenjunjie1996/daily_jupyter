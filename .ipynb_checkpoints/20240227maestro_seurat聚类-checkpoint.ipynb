{
 "cells": [
  {
   "cell_type": "code",
   "execution_count": null,
   "id": "grateful-commitment",
   "metadata": {},
   "outputs": [],
   "source": [
    "library(Seurat)\n",
    "library(argparse)\n",
    "library(Signac)\n",
    "library(Gmisc)"
   ]
  },
  {
   "cell_type": "code",
   "execution_count": 9,
   "id": "aware-female",
   "metadata": {},
   "outputs": [],
   "source": [
    "filtered_peak_count <- \"/SGRNJ06/randd/USER/cjj/celedev/atac/MAESTRO/test/20240227_1/A0204_4_MM_WX1130TN5_7th_D02SDS_T7_EDTA5030/02.atac/peak/A0204_4_MM_WX1130TN5_7th_D02SDS_T7_EDTA5030_filtered_peak_count.h5\""
   ]
  },
  {
   "cell_type": "code",
   "execution_count": 10,
   "id": "registered-description",
   "metadata": {},
   "outputs": [
    {
     "name": "stderr",
     "output_type": "stream",
     "text": [
      "Warning message in sparseMatrix(i = indices[] + 1, p = indptr[], x = as.numeric(x = counts[]), :\n",
      "“'giveCsparse' is deprecated; setting repr=\"T\" for you”\n"
     ]
    }
   ],
   "source": [
    "SeuratObj = Read10X_h5(filtered_peak_count)"
   ]
  },
  {
   "cell_type": "code",
   "execution_count": 12,
   "id": "vocational-symphony",
   "metadata": {},
   "outputs": [
    {
     "name": "stderr",
     "output_type": "stream",
     "text": [
      "LSI analysis ...\n",
      "\n"
     ]
    },
    {
     "ename": "ERROR",
     "evalue": "Error in fastDoCall(\"RunTFIDF\", c(object = SeuratObj)): could not find function \"fastDoCall\"\n",
     "output_type": "error",
     "traceback": [
      "Error in fastDoCall(\"RunTFIDF\", c(object = SeuratObj)): could not find function \"fastDoCall\"\nTraceback:\n"
     ]
    }
   ],
   "source": [
    "  message(\"LSI analysis ...\")\n",
    "  SeuratObj <- fastDoCall(\"RunTFIDF\", c(object = SeuratObj))\n",
    "  SeuratObj <- FindTopFeatures(SeuratObj, min.cutoff = 'q0')\n",
    "  SeuratObj <- fastDoCall(\"RunSVD\", c(object = SeuratObj))"
   ]
  },
  {
   "cell_type": "code",
   "execution_count": null,
   "id": "current-microphone",
   "metadata": {},
   "outputs": [],
   "source": [
    "  #============ UMAP ============\n",
    "  message(\"UMAP analysis ...\")\n",
    "  #SeuratObj <- fastDoCall(\"RunUMAP\", c(object = SeuratObj, dims = dims.use, reduction = \"lsi\", runumap.args))\n",
    "  SeuratObj <- RunUMAP(object = SeuratObj, reduction = \"lsi\", dims = dims.use, ...)\n",
    "  SeuratObj <- fastDoCall(\"FindNeighbors\", c(object = SeuratObj, reduction = \"lsi\", dims = dims.use, findneighbors.args))\n",
    "  SeuratObj <- fastDoCall(\"FindClusters\", c(object = SeuratObj, resolution = cluster.res, findclusters.args))\n",
    "  # SeuratObj <- FindNeighbors(object = SeuratObj, reduction = \"lsi\", dims = dims.use)\n",
    "  # SeuratObj <- FindClusters(object = SeuratObj, resolution = cluster.res)\n",
    "  p1 <- DimPlot(object = SeuratObj, pt.size = 0.5, label = TRUE)\n",
    "  ggsave(file.path(outdir, paste0(project, \"_cluster.png\")), p1, width=5, height=4)\n",
    "\n",
    "  #============ DE analysis ============\n",
    "  message(\"Identify cluster specific peaks ...\")\n",
    "  SeuratObj <- NormalizeData(SeuratObj, normalization.method = \"LogNormalize\", scale.factor = 10000)\n",
    "  cluster.peaks <- NULL\n",
    "  cluster.peaks <- FindAllMarkersMAESTRO(object = SeuratObj, min.pct = peaks.pct, logfc.threshold = peaks.logfc, test.use = peaks.test.use, only.pos = only.pos)\n",
    "  cluster.peaks <- cluster.peaks[cluster.peaks$p_val_adj<peaks.cutoff, ]\n",
    "  colnames(cluster.peaks)[7] <- \"peak\"\n",
    "  write.table(cluster.peaks, file.path(outdir, paste0(project, \"_DiffPeaks.tsv\")), quote=F, sep=\"\\t\")}"
   ]
  }
 ],
 "metadata": {
  "kernelspec": {
   "display_name": "MAESTRO1",
   "language": "R",
   "name": "maestro1"
  },
  "language_info": {
   "codemirror_mode": "r",
   "file_extension": ".r",
   "mimetype": "text/x-r-source",
   "name": "R",
   "pygments_lexer": "r",
   "version": "4.1.1"
  }
 },
 "nbformat": 4,
 "nbformat_minor": 5
}
