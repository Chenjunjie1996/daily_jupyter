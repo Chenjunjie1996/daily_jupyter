{
 "cells": [
  {
   "cell_type": "code",
   "execution_count": null,
   "id": "announced-spine",
   "metadata": {},
   "outputs": [],
   "source": [
    "import xlwt\n",
    "import sys\n",
    "import pandas as pd\n",
    "import matplotlib as mpl\n",
    "from matplotlib_venn import venn2\n",
    "from matplotlib import pyplot as plt"
   ]
  },
  {
   "cell_type": "code",
   "execution_count": 31,
   "id": "psychological-variable",
   "metadata": {},
   "outputs": [],
   "source": [
    "data_10X = '/SGRNJ06/randd/USER/cjj/celedev/kemai/20220630/vdj/cr3/JT5/matched_del_clonotypes.csv'\n",
    "data_SGR = '/SGRNJ06/randd/USER/cjj/celedev/kemai/20220630/vdj/cr3/SC3/matched_del_clonotypes.csv'"
   ]
  },
  {
   "cell_type": "code",
   "execution_count": 32,
   "id": "provincial-negotiation",
   "metadata": {},
   "outputs": [],
   "source": [
    "    data_10X = pd.read_csv(data_10X,sep=',')\n",
    "    data_SGR = pd.read_csv(data_SGR,sep=',')"
   ]
  },
  {
   "cell_type": "code",
   "execution_count": 33,
   "id": "grateful-antarctica",
   "metadata": {},
   "outputs": [
    {
     "data": {
      "text/html": [
       "<div>\n",
       "<style scoped>\n",
       "    .dataframe tbody tr th:only-of-type {\n",
       "        vertical-align: middle;\n",
       "    }\n",
       "\n",
       "    .dataframe tbody tr th {\n",
       "        vertical-align: top;\n",
       "    }\n",
       "\n",
       "    .dataframe thead th {\n",
       "        text-align: right;\n",
       "    }\n",
       "</style>\n",
       "<table border=\"1\" class=\"dataframe\">\n",
       "  <thead>\n",
       "    <tr style=\"text-align: right;\">\n",
       "      <th></th>\n",
       "      <th>clonotype_id</th>\n",
       "      <th>cdr3s_aa</th>\n",
       "      <th>frequency</th>\n",
       "      <th>proportion</th>\n",
       "    </tr>\n",
       "  </thead>\n",
       "  <tbody>\n",
       "    <tr>\n",
       "      <th>0</th>\n",
       "      <td>clonotype4716</td>\n",
       "      <td>IGH:CARGITGNDYW;IGK:CQQRSNWPPTF</td>\n",
       "      <td>506</td>\n",
       "      <td>0.040734</td>\n",
       "    </tr>\n",
       "    <tr>\n",
       "      <th>1</th>\n",
       "      <td>clonotype3668</td>\n",
       "      <td>IGH:CARGADYW;IGK:CQQRSNWPPTF</td>\n",
       "      <td>375</td>\n",
       "      <td>0.030188</td>\n",
       "    </tr>\n",
       "    <tr>\n",
       "      <th>2</th>\n",
       "      <td>clonotype1943</td>\n",
       "      <td>IGH:CARDVGATIDYW;IGK:CQQRSNWPPTF</td>\n",
       "      <td>105</td>\n",
       "      <td>0.008453</td>\n",
       "    </tr>\n",
       "    <tr>\n",
       "      <th>3</th>\n",
       "      <td>clonotype7305</td>\n",
       "      <td>IGH:CTRGADYW;IGK:CQQRSNWPPTF</td>\n",
       "      <td>87</td>\n",
       "      <td>0.007004</td>\n",
       "    </tr>\n",
       "    <tr>\n",
       "      <th>4</th>\n",
       "      <td>clonotype6098</td>\n",
       "      <td>IGH:CARHSSSWEGWFDPW;IGK:CQQRSNWPPTF</td>\n",
       "      <td>73</td>\n",
       "      <td>0.005877</td>\n",
       "    </tr>\n",
       "    <tr>\n",
       "      <th>...</th>\n",
       "      <td>...</td>\n",
       "      <td>...</td>\n",
       "      <td>...</td>\n",
       "      <td>...</td>\n",
       "    </tr>\n",
       "    <tr>\n",
       "      <th>7432</th>\n",
       "      <td>clonotype2700</td>\n",
       "      <td>IGH:CAREGTGTTRLYFDYW;IGH:CARGADYW;IGH:CAREEEPR...</td>\n",
       "      <td>1</td>\n",
       "      <td>0.000081</td>\n",
       "    </tr>\n",
       "    <tr>\n",
       "      <th>7433</th>\n",
       "      <td>clonotype2699</td>\n",
       "      <td>IGH:CAREGTGTTRLYFDYW;IGH:CARGADYW;IGH:CARDVGAT...</td>\n",
       "      <td>1</td>\n",
       "      <td>0.000081</td>\n",
       "    </tr>\n",
       "    <tr>\n",
       "      <th>7434</th>\n",
       "      <td>clonotype2698</td>\n",
       "      <td>IGH:CAREGTGTTRLYFDYW;IGH:CARFGSYFDYW;IGH:CARGI...</td>\n",
       "      <td>1</td>\n",
       "      <td>0.000081</td>\n",
       "    </tr>\n",
       "    <tr>\n",
       "      <th>7435</th>\n",
       "      <td>clonotype2697</td>\n",
       "      <td>IGH:CAREGTGTTRLYFDYW;IGH:CAREVTHFDYW;IGH:CARGA...</td>\n",
       "      <td>1</td>\n",
       "      <td>0.000081</td>\n",
       "    </tr>\n",
       "    <tr>\n",
       "      <th>7436</th>\n",
       "      <td>clonotype7437</td>\n",
       "      <td>IGH:CVTGSYAEYFHHW;IGH:CARGITGNDYW;IGH:CARDQGDY...</td>\n",
       "      <td>1</td>\n",
       "      <td>0.000081</td>\n",
       "    </tr>\n",
       "  </tbody>\n",
       "</table>\n",
       "<p>7437 rows × 4 columns</p>\n",
       "</div>"
      ],
      "text/plain": [
       "       clonotype_id                                           cdr3s_aa  \\\n",
       "0     clonotype4716                    IGH:CARGITGNDYW;IGK:CQQRSNWPPTF   \n",
       "1     clonotype3668                       IGH:CARGADYW;IGK:CQQRSNWPPTF   \n",
       "2     clonotype1943                   IGH:CARDVGATIDYW;IGK:CQQRSNWPPTF   \n",
       "3     clonotype7305                       IGH:CTRGADYW;IGK:CQQRSNWPPTF   \n",
       "4     clonotype6098                IGH:CARHSSSWEGWFDPW;IGK:CQQRSNWPPTF   \n",
       "...             ...                                                ...   \n",
       "7432  clonotype2700  IGH:CAREGTGTTRLYFDYW;IGH:CARGADYW;IGH:CAREEEPR...   \n",
       "7433  clonotype2699  IGH:CAREGTGTTRLYFDYW;IGH:CARGADYW;IGH:CARDVGAT...   \n",
       "7434  clonotype2698  IGH:CAREGTGTTRLYFDYW;IGH:CARFGSYFDYW;IGH:CARGI...   \n",
       "7435  clonotype2697  IGH:CAREGTGTTRLYFDYW;IGH:CAREVTHFDYW;IGH:CARGA...   \n",
       "7436  clonotype7437  IGH:CVTGSYAEYFHHW;IGH:CARGITGNDYW;IGH:CARDQGDY...   \n",
       "\n",
       "      frequency  proportion  \n",
       "0           506    0.040734  \n",
       "1           375    0.030188  \n",
       "2           105    0.008453  \n",
       "3            87    0.007004  \n",
       "4            73    0.005877  \n",
       "...         ...         ...  \n",
       "7432          1    0.000081  \n",
       "7433          1    0.000081  \n",
       "7434          1    0.000081  \n",
       "7435          1    0.000081  \n",
       "7436          1    0.000081  \n",
       "\n",
       "[7437 rows x 4 columns]"
      ]
     },
     "execution_count": 33,
     "metadata": {},
     "output_type": "execute_result"
    }
   ],
   "source": [
    "data_SGR"
   ]
  },
  {
   "cell_type": "code",
   "execution_count": 34,
   "id": "divine-inventory",
   "metadata": {},
   "outputs": [],
   "source": [
    "#data_10X_list = data_10X['cdr3s_nt'].tolist()\n",
    "#data_SGR_list = data_SGR['cdr3s_nt'].tolist()\n",
    "data_10X_list = data_10X['cdr3s_aa'].tolist()\n",
    "data_SGR_list = data_SGR['cdr3s_aa'].tolist()\n",
    "intersec_SGR_10X = set(data_10X_list).intersection(set(data_SGR_list))"
   ]
  },
  {
   "cell_type": "code",
   "execution_count": 35,
   "id": "cross-globe",
   "metadata": {},
   "outputs": [],
   "source": [
    "    data_10X_set = set(data_10X_list)\n",
    "    data_SGR_set = set(data_SGR_list)\n",
    "    subset_ = [data_10X_set,data_SGR_set]\n",
    "    venn2(subset_, set_labels = ('5-bcr-lib', 'SC-3'), set_colors=('r', 'g'))\n",
    "    plt.savefig('/SGRNJ06/randd/USER/cjj/celedev/kemai/20220630/vdj/cr3/vn_clonotypes/Vnplot4.png')"
   ]
  },
  {
   "cell_type": "code",
   "execution_count": 35,
   "id": "pending-stationery",
   "metadata": {},
   "outputs": [],
   "source": []
  },
  {
   "cell_type": "code",
   "execution_count": 43,
   "id": "comprehensive-irish",
   "metadata": {},
   "outputs": [],
   "source": [
    "data_10X_new = data_10X[data_10X.cdr3s_aa.isin(intersec_SGR_10X)]"
   ]
  },
  {
   "cell_type": "code",
   "execution_count": 44,
   "id": "horizontal-tuning",
   "metadata": {},
   "outputs": [],
   "source": [
    "data_SGR_new = data_SGR[data_SGR.cdr3s_aa.isin(intersec_SGR_10X)]"
   ]
  },
  {
   "cell_type": "code",
   "execution_count": 49,
   "id": "former-auditor",
   "metadata": {},
   "outputs": [],
   "source": [
    "df_merge = pd.merge(data_10X_new,data_SGR_new, on='cdr3s_aa',how='inner',suffixes=('_10X', '_SGR'))"
   ]
  },
  {
   "cell_type": "code",
   "execution_count": 51,
   "id": "american-oriental",
   "metadata": {},
   "outputs": [],
   "source": [
    "df_merge = df_merge[['cdr3s_aa','frequency_10X','frequency_SGR','proportion_10X','proportion_SGR']]"
   ]
  },
  {
   "cell_type": "code",
   "execution_count": 54,
   "id": "blank-envelope",
   "metadata": {},
   "outputs": [],
   "source": [
    "df_merge.to_csv('/SGRNJ06/randd/USER/cjj/celedev/kemai/20220630/vdj/cr3/vn_clonotypes/merge_clonotypes.csv',sep=',', index=False)"
   ]
  },
  {
   "cell_type": "code",
   "execution_count": 52,
   "id": "fitting-clarity",
   "metadata": {},
   "outputs": [],
   "source": []
  },
  {
   "cell_type": "code",
   "execution_count": null,
   "id": "vertical-lover",
   "metadata": {},
   "outputs": [],
   "source": [
    "# Barplot\n",
    "labels = ['bcr_4_lib','bcr_5_lib','SC-1','SC-3']\n",
    "quants = [2028,5947,3278,7438]\n",
    "width = 0.4\n",
    "ind = np.linspace(0.5,9.5,10)\n",
    "fig = plt.figure(1)\n",
    "ax = gig.add_subplot(111)\n",
    "ax.bar(ind-width/2,quants,width,color='green')\n",
    "ax.set_xticks(ind)\n",
    "ax.set_xticklabels(labels)\n",
    "ax.set_xlabel('Sample')\n",
    "ax.set_ylabel('Count')\n",
    "ax.set_title('Clonotypes')\n",
    "plt.grid(True)\n",
    "plt.show()\n",
    "plt.savefig('/SGRNJ06/randd/USER/cjj/celedev/kemai/20220630/vdj/cr3/vn_clonotypes/barplot.jpg')\n",
    "plt.close()"
   ]
  },
  {
   "cell_type": "code",
   "execution_count": null,
   "id": "brilliant-background",
   "metadata": {},
   "outputs": [],
   "source": []
  },
  {
   "cell_type": "code",
   "execution_count": null,
   "id": "wireless-utilization",
   "metadata": {},
   "outputs": [],
   "source": [
    "    clonotypes_num = []\n",
    "    intersec_clonotypes_num = []\n",
    "    clonotypes_num.append(len(data_10X_list))\n",
    "    clonotypes_num.append(len(data_SGR_list))\n",
    "    intersec_clonotypes_num.append((len(intersec_SGR_10X)))\n",
    "\n",
    "    df_10X_sgr = data_10X[data_10X['cdr3s_nt'].isin(intersec_SGR_10X)]\n",
    "    df_sgr_10X = data_SGR[data_SGR['cdr3s_nt'].isin(intersec_SGR_10X)]\n",
    "    df_10X_sgr.to_csv('./df_10X_sgr.txt', sep='\\t', index=False)\n",
    "    df_sgr_10X.to_csv('./df_sgr_10X.txt', sep='\\t', index=False)\n",
    "    \n",
    "    data_10X_set = set(data_10X_list)\n",
    "    data_SGR_set = set(data_SGR_list)\n",
    "    subset_ = [data_10X_set,data_SGR_set]\n",
    "    venn2(subset_, set_labels = ('10X', 'SGR'), set_colors=('r', 'g'))\n",
    "    plt.savefig('./Vnplot')"
   ]
  }
 ],
 "metadata": {
  "kernelspec": {
   "display_name": "Python 3",
   "language": "python",
   "name": "python3"
  },
  "language_info": {
   "codemirror_mode": {
    "name": "ipython",
    "version": 3
   },
   "file_extension": ".py",
   "mimetype": "text/x-python",
   "name": "python",
   "nbconvert_exporter": "python",
   "pygments_lexer": "ipython3",
   "version": "3.7.10"
  }
 },
 "nbformat": 4,
 "nbformat_minor": 5
}
