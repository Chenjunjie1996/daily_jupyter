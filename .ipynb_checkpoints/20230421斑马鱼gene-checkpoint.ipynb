{
 "cells": [
  {
   "cell_type": "code",
   "execution_count": null,
   "id": "specific-duration",
   "metadata": {},
   "outputs": [],
   "source": [
    "library(Seurat)\n",
    "library(dplyr)\n",
    "library(tidyverse)\n",
    "library(stringr)\n",
    "library(ggplot2)\n",
    "library(\"ggsci\")"
   ]
  },
  {
   "cell_type": "code",
   "execution_count": null,
   "id": "naughty-sound",
   "metadata": {},
   "outputs": [],
   "source": [
    "rds = Read10X(\"/SGRNJ06/bioinfo/PROJ04/PROJ_22.Other/PK22110403_Dynaseq/DYN/L_c3_dyn/L/05.count/L_filtered_feature_bc_matrix\")"
   ]
  },
  {
   "cell_type": "code",
   "execution_count": null,
   "id": "prepared-personal",
   "metadata": {},
   "outputs": [],
   "source": [
    "rds <- CreateSeuratObject(counts = rds)"
   ]
  },
  {
   "cell_type": "code",
   "execution_count": null,
   "id": "grateful-paste",
   "metadata": {},
   "outputs": [],
   "source": [
    "head(rds)"
   ]
  },
  {
   "cell_type": "code",
   "execution_count": null,
   "id": "adopted-marble",
   "metadata": {},
   "outputs": [],
   "source": [
    "exprMatrix <- as.matrix(GetAssayData(rds, slot='counts'))"
   ]
  },
  {
   "cell_type": "code",
   "execution_count": null,
   "id": "endangered-heaven",
   "metadata": {},
   "outputs": [],
   "source": [
    "target_genes = c('atoh7', 'pou4f2', 'tfap2a', 'ptf1a', 'crx', 'vsx1', 'fezf2', 'elavl3') #'lhx3'"
   ]
  },
  {
   "cell_type": "code",
   "execution_count": null,
   "id": "viral-pattern",
   "metadata": {},
   "outputs": [],
   "source": [
    "for (j in target_genes){\n",
    "    \n",
    "    if (j == 'lhx3') {\n",
    "        percent = 0\n",
    "    } else {\n",
    "        percent = sum(GetAssayData(object = rds, slot = \"data\")[j,]>0)/nrow(rds@meta.data)\n",
    "        percent = round(percent, 4)\n",
    "        percent = scales::percent(percent, 0.01)  \n",
    "    }\n",
    "    print(c(j, percent))\n",
    "}"
   ]
  },
  {
   "cell_type": "code",
   "execution_count": null,
   "id": "painful-barbados",
   "metadata": {},
   "outputs": [],
   "source": []
  },
  {
   "cell_type": "code",
   "execution_count": null,
   "id": "figured-setup",
   "metadata": {},
   "outputs": [],
   "source": [
    "# python\n",
    "import scanpy as sc\n",
    "import numpy as np\n",
    "import pandas as pd\n",
    "import matplotlib.pyplot as plt"
   ]
  },
  {
   "cell_type": "code",
   "execution_count": null,
   "id": "optimum-notebook",
   "metadata": {},
   "outputs": [],
   "source": [
    "h5ad = sc.read_h5ad(\"/SGRNJ06/bioinfo/PROJ04/PROJ_22.Other/PK22110403_Dynaseq/DYN/L_c3_dyn/L/06.analysis/L.h5ad\")"
   ]
  },
  {
   "cell_type": "code",
   "execution_count": null,
   "id": "beneficial-model",
   "metadata": {},
   "outputs": [],
   "source": [
    "h5ad"
   ]
  },
  {
   "cell_type": "code",
   "execution_count": null,
   "id": "stylish-professional",
   "metadata": {},
   "outputs": [],
   "source": [
    "h5ad.var_names"
   ]
  },
  {
   "cell_type": "code",
   "execution_count": null,
   "id": "individual-celtic",
   "metadata": {},
   "outputs": [],
   "source": []
  },
  {
   "cell_type": "code",
   "execution_count": null,
   "id": "local-mining",
   "metadata": {},
   "outputs": [],
   "source": [
    "sc.pl.violin(h5ad, ['atoh7', 'pou4f2', 'tfap2a', 'ptf1a'], groupby='cluster', rotation=90, show=False)\n",
    "plt.savefig(\"/SGRNJ06/randd/USER/cjj/celedev/banmayu/geneplot/marker_exp_vio1.pdf\", dpi=300)"
   ]
  },
  {
   "cell_type": "code",
   "execution_count": null,
   "id": "ancient-denial",
   "metadata": {},
   "outputs": [],
   "source": [
    "sc.pl.violin(h5ad, ['crx', 'vsx1', 'fezf2', 'elavl3'], groupby='cluster',  rotation=90, show=False)\n",
    "plt.savefig(\"/SGRNJ06/randd/USER/cjj/celedev/banmayu/geneplot/marker_exp_vio2.pdf\", dpi=300)"
   ]
  },
  {
   "cell_type": "code",
   "execution_count": null,
   "id": "mounted-combat",
   "metadata": {},
   "outputs": [],
   "source": [
    "sc.pl.tsne(h5ad, color=['atoh7', 'pou4f2', 'tfap2a', 'ptf1a', 'crx', 'vsx1', 'fezf2', 'elavl3'], frameon=False, ncols=4, show=False)\n",
    "plt.savefig(\"/SGRNJ06/randd/USER/cjj/celedev/banmayu/geneplot/marker_exp_tsne.pdf\", dpi=300)"
   ]
  },
  {
   "cell_type": "code",
   "execution_count": null,
   "id": "indirect-russell",
   "metadata": {},
   "outputs": [],
   "source": []
  }
 ],
 "metadata": {
  "kernelspec": {
   "display_name": "trust4_1.7",
   "language": "python",
   "name": "trust4_1.7"
  },
  "language_info": {
   "codemirror_mode": {
    "name": "ipython",
    "version": 3
   },
   "file_extension": ".py",
   "mimetype": "text/x-python",
   "name": "python",
   "nbconvert_exporter": "python",
   "pygments_lexer": "ipython3",
   "version": "3.7.10"
  }
 },
 "nbformat": 4,
 "nbformat_minor": 5
}
