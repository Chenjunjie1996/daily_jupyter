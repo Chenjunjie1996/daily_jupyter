{
 "cells": [
  {
   "cell_type": "code",
   "execution_count": 1,
   "id": "adverse-detroit",
   "metadata": {},
   "outputs": [],
   "source": [
    "import pysam\n",
    "from collections import defaultdict\n",
    "import pandas as pd\n",
    "from Bio.Seq import Seq\n",
    "\n",
    "def reverse_complement(seq):\n",
    "    \"\"\"Reverse complementary sequence\n",
    "\n",
    "    :param original seq\n",
    "    :return Reverse complementary sequence\n",
    "    \"\"\"\n",
    "    return str(Seq(seq).reverse_complement())"
   ]
  },
  {
   "cell_type": "code",
   "execution_count": 60,
   "id": "ignored-sharp",
   "metadata": {},
   "outputs": [],
   "source": [
    "fq1 = '/SGRNJ06/randd/USER/cjj/celedev/BD_flvdj/Project_luhaisong_220919N/0916TM-L_220919N_S92_R1.fastq.gz'"
   ]
  },
  {
   "cell_type": "code",
   "execution_count": 32,
   "id": "stock-shooting",
   "metadata": {},
   "outputs": [],
   "source": [
    "from collections import defaultdict"
   ]
  },
  {
   "cell_type": "code",
   "execution_count": 87,
   "id": "experimental-morrison",
   "metadata": {},
   "outputs": [],
   "source": [
    "count_dict = defaultdict(int)"
   ]
  },
  {
   "cell_type": "code",
   "execution_count": 88,
   "id": "unknown-poultry",
   "metadata": {},
   "outputs": [],
   "source": [
    "with pysam.FastxFile(fq1) as f:\n",
    "    for read in f:\n",
    "        # bc = read.sequence[:9] + read.sequence[21:30] + read.sequence[43:52]\n",
    "        count_dict[read.sequence[:9]] += 1\n",
    "        count_dict[read.sequence[21:30]] += 1\n",
    "        count_dict[read.sequence[43:52]] += 1"
   ]
  },
  {
   "cell_type": "code",
   "execution_count": 90,
   "id": "invalid-array",
   "metadata": {},
   "outputs": [
    {
     "data": {
      "text/plain": [
       "63813"
      ]
     },
     "execution_count": 90,
     "metadata": {},
     "output_type": "execute_result"
    }
   ],
   "source": [
    "len(count_dict)"
   ]
  },
  {
   "cell_type": "code",
   "execution_count": null,
   "id": "ignored-covering",
   "metadata": {},
   "outputs": [],
   "source": [
    "sorted(count_dict.values(),reverse=True)"
   ]
  },
  {
   "cell_type": "code",
   "execution_count": 26,
   "id": "computational-stock",
   "metadata": {},
   "outputs": [],
   "source": [
    "count_dict['CTCACTGGAGGATACAGTGCCCGTTTG']"
   ]
  },
  {
   "cell_type": "code",
   "execution_count": 69,
   "id": "metric-taxation",
   "metadata": {},
   "outputs": [],
   "source": [
    "count_list = sorted(list(count_dict.values()),reverse=True)"
   ]
  },
  {
   "cell_type": "code",
   "execution_count": null,
   "id": "common-plane",
   "metadata": {},
   "outputs": [],
   "source": [
    "count_list[:10000]"
   ]
  },
  {
   "cell_type": "code",
   "execution_count": 79,
   "id": "black-amplifier",
   "metadata": {},
   "outputs": [
    {
     "data": {
      "text/plain": [
       "False"
      ]
     },
     "execution_count": 79,
     "metadata": {},
     "output_type": "execute_result"
    }
   ],
   "source": [
    "'ACGCAGAGT' in whitelist"
   ]
  },
  {
   "cell_type": "code",
   "execution_count": 28,
   "id": "dutch-album",
   "metadata": {},
   "outputs": [],
   "source": [
    "import pandas as pd "
   ]
  },
  {
   "cell_type": "code",
   "execution_count": 36,
   "id": "sixth-carbon",
   "metadata": {},
   "outputs": [],
   "source": [
    "whitelist = pd.read_csv('/SGRNJ06/randd/USER/cjj/celedev/BD_flvdj/BD_whitelist', header=None)"
   ]
  },
  {
   "cell_type": "code",
   "execution_count": 39,
   "id": "electric-daily",
   "metadata": {},
   "outputs": [],
   "source": [
    "whitelist.rename(columns={0:'bc'},inplace=True)"
   ]
  },
  {
   "cell_type": "code",
   "execution_count": 40,
   "id": "related-biodiversity",
   "metadata": {},
   "outputs": [],
   "source": [
    "whitelist = set(whitelist.bc)"
   ]
  },
  {
   "cell_type": "code",
   "execution_count": 46,
   "id": "subtle-irish",
   "metadata": {},
   "outputs": [
    {
     "data": {
      "text/plain": [
       "False"
      ]
     },
     "execution_count": 46,
     "metadata": {},
     "output_type": "execute_result"
    }
   ],
   "source": [
    "'GCCCGTTTG' in whitelist"
   ]
  },
  {
   "cell_type": "code",
   "execution_count": 61,
   "id": "automatic-cradle",
   "metadata": {},
   "outputs": [],
   "source": [
    "total_bc = set()\n",
    "with pysam.FastxFile(fq1) as f:\n",
    "    for read in f:\n",
    "        total_bc.add(read.sequence[:9])\n",
    "        total_bc.add(read.sequence[21:30])\n",
    "        total_bc.add(read.sequence[43:52])"
   ]
  },
  {
   "cell_type": "code",
   "execution_count": 62,
   "id": "permanent-front",
   "metadata": {},
   "outputs": [
    {
     "data": {
      "text/plain": [
       "261209"
      ]
     },
     "execution_count": 62,
     "metadata": {},
     "output_type": "execute_result"
    }
   ],
   "source": [
    "len(total_bc)"
   ]
  },
  {
   "cell_type": "code",
   "execution_count": 63,
   "id": "amino-development",
   "metadata": {},
   "outputs": [],
   "source": [
    "with pysam.FastxFile('/SGRNJ06/randd/USER/cjj/celedev/BD_flvdj/Project_luhaisong_220919N/0916TAA-H_220919N_S91_R1.fastq.gz') as f:\n",
    "    for read in f:\n",
    "        total_bc.add(read.sequence[:9])\n",
    "        total_bc.add(read.sequence[21:30])\n",
    "        total_bc.add(read.sequence[43:52])"
   ]
  },
  {
   "cell_type": "code",
   "execution_count": 80,
   "id": "arbitrary-terrace",
   "metadata": {},
   "outputs": [
    {
     "data": {
      "text/plain": [
       "272259"
      ]
     },
     "execution_count": 80,
     "metadata": {},
     "output_type": "execute_result"
    }
   ],
   "source": [
    "len(total_bc)"
   ]
  },
  {
   "cell_type": "code",
   "execution_count": 81,
   "id": "isolated-resistance",
   "metadata": {},
   "outputs": [],
   "source": [
    "out_file = open('/SGRNJ06/randd/USER/cjj/celedev/BD_flvdj/total_bc.txt', 'w')\n",
    "for i in total_bc:\n",
    "    out_file.write(i +'\\n')\n",
    "out_file.close()"
   ]
  },
  {
   "cell_type": "code",
   "execution_count": 57,
   "id": "another-nicholas",
   "metadata": {},
   "outputs": [],
   "source": []
  },
  {
   "cell_type": "code",
   "execution_count": 59,
   "id": "integrated-memphis",
   "metadata": {},
   "outputs": [],
   "source": [
    "total_bc = set()\n",
    "with pysam.FastxFile('/SGRNJ06/randd/USER/cjj/celedev/BD_flvdj/Project_luhaisong_220919N/0916TAA-H_220919N_S91_R1.fastq.gz') as f:\n",
    "    for read in f:\n",
    "        total_bc.add(read.sequence[:9])\n",
    "        total_bc.add(read.sequence[21:30])\n",
    "        total_bc.add(read.sequence[43:52])"
   ]
  },
  {
   "cell_type": "code",
   "execution_count": null,
   "id": "following-protection",
   "metadata": {},
   "outputs": [],
   "source": [
    "out_file = open('/SGRNJ06/randd/USER/cjj/celedev/BD_flvdj/S91_total_bc.txt', 'w')\n",
    "for i in total_bc:\n",
    "    out_file.write(i +'\\n')\n",
    "out_file.close()"
   ]
  },
  {
   "cell_type": "code",
   "execution_count": null,
   "id": "considered-wisconsin",
   "metadata": {},
   "outputs": [],
   "source": []
  },
  {
   "cell_type": "code",
   "execution_count": null,
   "id": "informational-guitar",
   "metadata": {},
   "outputs": [],
   "source": [
    "count_dict = defaultdict(int)\n",
    "with pysam.FastxFile('/SGRNJ06/DATA04/22_08/2022_08_19/P21093001/DC0004CA-B-X4CJ-B/BCRLFTVC211117016X4CJ_R1.fastq.gz') as f:\n",
    "    for read in f:\n",
    "        # bc = read.sequence[:9] + read.sequence[21:30] + read.sequence[43:52]\n",
    "        count_dict[read.sequence[9:17]] += 1\n",
    "        count_dict[read.sequence[33:41]] += 1\n",
    "        count_dict[read.sequence[57:65]] += 1\n",
    "        "
   ]
  },
  {
   "cell_type": "code",
   "execution_count": null,
   "id": "missing-sending",
   "metadata": {},
   "outputs": [],
   "source": []
  },
  {
   "cell_type": "code",
   "execution_count": 2,
   "id": "speaking-toolbox",
   "metadata": {},
   "outputs": [],
   "source": [
    "BD = '/SGRNJ06/randd/USER/cjj/celedev/BD_flvdj/Project_luhaisong_220919N/0916TM-L_220919N_S92_R1.fastq.gz'\n",
    "SGR = '/SGRNJ06/DATA04/22_08/2022_08_19/P21093001/DC0004CA-B-X4CJ-B/BCRLFTVC211117016X4CJ_R1.fastq.gz'"
   ]
  },
  {
   "cell_type": "code",
   "execution_count": 3,
   "id": "ceramic-wedding",
   "metadata": {},
   "outputs": [],
   "source": [
    "BD_dict1 = defaultdict(int)\n",
    "SGR_dict1 = defaultdict(int)\n",
    "BD_dict2 = defaultdict(int)\n",
    "SGR_dict2 = defaultdict(int)\n",
    "BD_dict3 = defaultdict(int)\n",
    "SGR_dict3 = defaultdict(int)\n",
    "BD_bc_dict = defaultdict(int)\n",
    "SGR_bc_dict = defaultdict(int)"
   ]
  },
  {
   "cell_type": "code",
   "execution_count": 4,
   "id": "duplicate-efficiency",
   "metadata": {},
   "outputs": [
    {
     "name": "stderr",
     "output_type": "stream",
     "text": [
      "[W::bgzf_read_block] EOF marker is absent. The input may be truncated\n",
      "[W::bgzf_read_block] EOF marker is absent. The input may be truncated\n"
     ]
    }
   ],
   "source": [
    "with pysam.FastxFile(BD) as f:\n",
    "    for read in f:\n",
    "        bc = read.sequence[:9] + read.sequence[21:30] + read.sequence[43:52]\n",
    "        BD_dict1[read.sequence[:9]] += 1\n",
    "        BD_dict2[read.sequence[21:30]] += 1\n",
    "        BD_dict3[read.sequence[43:52]] += 1\n",
    "        BD_bc_dict[bc] += 1\n",
    "with pysam.FastxFile(SGR) as f:\n",
    "    for read in f:\n",
    "        bc = read.sequence[9:17] + read.sequence[33:41] + read.sequence[57:65]\n",
    "        SGR_dict1[read.sequence[9:17]] += 1\n",
    "        SGR_dict2[read.sequence[33:41]] += 1\n",
    "        SGR_dict3[read.sequence[57:65]] += 1\n",
    "        SGR_bc_dict[bc] += 1"
   ]
  },
  {
   "cell_type": "code",
   "execution_count": 8,
   "id": "sustainable-romania",
   "metadata": {},
   "outputs": [
    {
     "data": {
      "text/plain": [
       "214504"
      ]
     },
     "execution_count": 8,
     "metadata": {},
     "output_type": "execute_result"
    }
   ],
   "source": [
    "len(BD_dict1)"
   ]
  },
  {
   "cell_type": "code",
   "execution_count": 9,
   "id": "tender-tracker",
   "metadata": {},
   "outputs": [
    {
     "data": {
      "text/plain": [
       "210862"
      ]
     },
     "execution_count": 9,
     "metadata": {},
     "output_type": "execute_result"
    }
   ],
   "source": [
    "len(BD_dict2)"
   ]
  },
  {
   "cell_type": "code",
   "execution_count": 10,
   "id": "static-might",
   "metadata": {},
   "outputs": [
    {
     "data": {
      "text/plain": [
       "221649"
      ]
     },
     "execution_count": 10,
     "metadata": {},
     "output_type": "execute_result"
    }
   ],
   "source": [
    "len(BD_dict3)"
   ]
  },
  {
   "cell_type": "code",
   "execution_count": 11,
   "id": "worse-costs",
   "metadata": {},
   "outputs": [
    {
     "data": {
      "text/plain": [
       "30085"
      ]
     },
     "execution_count": 11,
     "metadata": {},
     "output_type": "execute_result"
    }
   ],
   "source": [
    "len(SGR_dict1)"
   ]
  },
  {
   "cell_type": "code",
   "execution_count": 12,
   "id": "attended-mechanism",
   "metadata": {},
   "outputs": [
    {
     "data": {
      "text/plain": [
       "41102"
      ]
     },
     "execution_count": 12,
     "metadata": {},
     "output_type": "execute_result"
    }
   ],
   "source": [
    "len(SGR_dict2)"
   ]
  },
  {
   "cell_type": "code",
   "execution_count": 13,
   "id": "typical-patio",
   "metadata": {},
   "outputs": [
    {
     "data": {
      "text/plain": [
       "56108"
      ]
     },
     "execution_count": 13,
     "metadata": {},
     "output_type": "execute_result"
    }
   ],
   "source": [
    "len(SGR_dict3)"
   ]
  },
  {
   "cell_type": "code",
   "execution_count": 14,
   "id": "paperback-french",
   "metadata": {},
   "outputs": [
    {
     "data": {
      "text/plain": [
       "3259614"
      ]
     },
     "execution_count": 14,
     "metadata": {},
     "output_type": "execute_result"
    }
   ],
   "source": [
    "len(BD_bc_dict)"
   ]
  },
  {
   "cell_type": "code",
   "execution_count": 12,
   "id": "textile-detector",
   "metadata": {},
   "outputs": [
    {
     "data": {
      "text/plain": [
       "1866478"
      ]
     },
     "execution_count": 12,
     "metadata": {},
     "output_type": "execute_result"
    }
   ],
   "source": [
    "len(SGR_bc_dict)"
   ]
  },
  {
   "cell_type": "code",
   "execution_count": 49,
   "id": "subjective-labor",
   "metadata": {},
   "outputs": [],
   "source": [
    "BDwhitelist = pd.read_csv('/SGRNJ06/randd/USER/cjj/celedev/BD_flvdj/BD_whitelist', header=None)\n",
    "SGRwhitelist= pd.read_csv('/SGRNJ06/randd/USER/cjj/Celescope/refactor_trust/CeleScope/celescope/data/chemistry/flv/bclist', header=None)"
   ]
  },
  {
   "cell_type": "code",
   "execution_count": 50,
   "id": "increased-heather",
   "metadata": {},
   "outputs": [],
   "source": [
    "BDwhitelist.rename(columns={0:'bc'},inplace=True)\n",
    "SGRwhitelist.rename(columns={0:'bc'},inplace=True)"
   ]
  },
  {
   "cell_type": "code",
   "execution_count": 51,
   "id": "celtic-footwear",
   "metadata": {},
   "outputs": [],
   "source": [
    "SGRwhitelist = SGRwhitelist.bc.tolist()\n",
    "SGRwhitelist = [i.strip(' ') for i in SGRwhitelist]\n",
    "SGRwhitelist = [reverse_complement(seq) for seq in SGRwhitelist[::-1]]\n",
    "SGRwhitelist = set(SGRwhitelist)"
   ]
  },
  {
   "cell_type": "code",
   "execution_count": 52,
   "id": "involved-uniform",
   "metadata": {},
   "outputs": [],
   "source": [
    "BDwhitelist = set(BDwhitelist.bc)"
   ]
  },
  {
   "cell_type": "code",
   "execution_count": null,
   "id": "continued-proceeding",
   "metadata": {},
   "outputs": [],
   "source": [
    "BDwhitelist"
   ]
  },
  {
   "cell_type": "code",
   "execution_count": 65,
   "id": "moral-slovak",
   "metadata": {},
   "outputs": [
    {
     "data": {
      "text/plain": [
       "False"
      ]
     },
     "execution_count": 65,
     "metadata": {},
     "output_type": "execute_result"
    }
   ],
   "source": [
    "'TCCAGTCG' in  SGRwhitelist"
   ]
  },
  {
   "cell_type": "code",
   "execution_count": null,
   "id": "naughty-watershed",
   "metadata": {},
   "outputs": [],
   "source": [
    "SGR_dict1"
   ]
  },
  {
   "cell_type": "code",
   "execution_count": 67,
   "id": "smoking-round",
   "metadata": {},
   "outputs": [
    {
     "data": {
      "text/plain": [
       "True"
      ]
     },
     "execution_count": 67,
     "metadata": {},
     "output_type": "execute_result"
    }
   ],
   "source": [
    "'ATCCCGGAG' in BDwhitelist"
   ]
  },
  {
   "cell_type": "code",
   "execution_count": 26,
   "id": "exotic-moses",
   "metadata": {},
   "outputs": [],
   "source": [
    "SGR_dict1_top100 = sorted(SGR_dict1.items(), key=lambda x:x[1], reverse=True)[:100]\n",
    "SGR_dict2_top100 = sorted(SGR_dict2.items(), key=lambda x:x[1], reverse=True)[:100]\n",
    "SGR_dict3_top100 = sorted(SGR_dict3.items(), key=lambda x:x[1], reverse=True)[:100]\n",
    "\n",
    "BD_dict1_top100 = sorted(BD_dict1.items(), key=lambda x:x[1], reverse=True)[:100]\n",
    "BD_dict2_top100 = sorted(BD_dict2.items(), key=lambda x:x[1], reverse=True)[:100]\n",
    "BD_dict3_top100 = sorted(BD_dict3.items(), key=lambda x:x[1], reverse=True)[:100]\n",
    "\n",
    "BD_dict1_top200 = sorted(BD_dict1.items(), key=lambda x:x[1], reverse=True)[:200]\n",
    "BD_dict2_top200 = sorted(BD_dict2.items(), key=lambda x:x[1], reverse=True)[:200]\n",
    "BD_dict3_top200 = sorted(BD_dict3.items(), key=lambda x:x[1], reverse=True)[:200]\n",
    "\n",
    "BD_dict1_top300 = sorted(BD_dict1.items(), key=lambda x:x[1], reverse=True)[:300]\n",
    "BD_dict2_top300 = sorted(BD_dict2.items(), key=lambda x:x[1], reverse=True)[:300]\n",
    "BD_dict3_top300 = sorted(BD_dict3.items(), key=lambda x:x[1], reverse=True)[:300]"
   ]
  },
  {
   "cell_type": "code",
   "execution_count": 39,
   "id": "artificial-brooklyn",
   "metadata": {},
   "outputs": [
    {
     "data": {
      "text/plain": [
       "96"
      ]
     },
     "execution_count": 39,
     "metadata": {},
     "output_type": "execute_result"
    }
   ],
   "source": [
    "count = 0 \n",
    "for i in SGR_dict1_top100:\n",
    "    if i[0] in SGRwhitelist:\n",
    "        count += 1\n",
    "count"
   ]
  },
  {
   "cell_type": "code",
   "execution_count": 40,
   "id": "documented-budapest",
   "metadata": {},
   "outputs": [
    {
     "data": {
      "text/plain": [
       "96"
      ]
     },
     "execution_count": 40,
     "metadata": {},
     "output_type": "execute_result"
    }
   ],
   "source": [
    "count = 0 \n",
    "for i in SGR_dict2_top100:\n",
    "    if i[0] in SGRwhitelist:\n",
    "        count += 1\n",
    "count"
   ]
  },
  {
   "cell_type": "code",
   "execution_count": 65,
   "id": "determined-diameter",
   "metadata": {},
   "outputs": [
    {
     "data": {
      "text/plain": [
       "96"
      ]
     },
     "execution_count": 65,
     "metadata": {},
     "output_type": "execute_result"
    }
   ],
   "source": [
    "count = 0 \n",
    "for i in SGR_dict3_top100:\n",
    "    if i[0] in SGRwhitelist:\n",
    "        count += 1\n",
    "count"
   ]
  },
  {
   "cell_type": "code",
   "execution_count": 66,
   "id": "pending-liability",
   "metadata": {},
   "outputs": [
    {
     "data": {
      "text/plain": [
       "76"
      ]
     },
     "execution_count": 66,
     "metadata": {},
     "output_type": "execute_result"
    }
   ],
   "source": [
    "count = 0 \n",
    "for i in BD_dict1_top100:\n",
    "    if i[0] in BDwhitelist[:97]:\n",
    "        count += 1\n",
    "count"
   ]
  },
  {
   "cell_type": "code",
   "execution_count": 67,
   "id": "directed-bandwidth",
   "metadata": {},
   "outputs": [
    {
     "data": {
      "text/plain": [
       "65"
      ]
     },
     "execution_count": 67,
     "metadata": {},
     "output_type": "execute_result"
    }
   ],
   "source": [
    "count = 0 \n",
    "for i in BD_dict2_top100:\n",
    "    if i[0] in BDwhitelist[97:194]:\n",
    "        count += 1\n",
    "count"
   ]
  },
  {
   "cell_type": "code",
   "execution_count": 68,
   "id": "essential-overall",
   "metadata": {},
   "outputs": [
    {
     "data": {
      "text/plain": [
       "46"
      ]
     },
     "execution_count": 68,
     "metadata": {},
     "output_type": "execute_result"
    }
   ],
   "source": [
    "count = 0 \n",
    "for i in BD_dict3_top100:\n",
    "    if i[0] in BDwhitelist[194:291]:\n",
    "        count += 1\n",
    "count"
   ]
  },
  {
   "cell_type": "code",
   "execution_count": 69,
   "id": "single-conversion",
   "metadata": {},
   "outputs": [
    {
     "data": {
      "text/plain": [
       "92"
      ]
     },
     "execution_count": 69,
     "metadata": {},
     "output_type": "execute_result"
    }
   ],
   "source": [
    "count = 0 \n",
    "for i in BD_dict1_top100:\n",
    "    if i[0] in BDwhitelist:\n",
    "        count += 1\n",
    "count"
   ]
  },
  {
   "cell_type": "code",
   "execution_count": 70,
   "id": "sensitive-egyptian",
   "metadata": {},
   "outputs": [
    {
     "data": {
      "text/plain": [
       "79"
      ]
     },
     "execution_count": 70,
     "metadata": {},
     "output_type": "execute_result"
    }
   ],
   "source": [
    "count = 0 \n",
    "for i in BD_dict2_top100:\n",
    "    if i[0] in BDwhitelist:\n",
    "        count += 1\n",
    "count"
   ]
  },
  {
   "cell_type": "code",
   "execution_count": 71,
   "id": "ruled-avenue",
   "metadata": {},
   "outputs": [
    {
     "data": {
      "text/plain": [
       "59"
      ]
     },
     "execution_count": 71,
     "metadata": {},
     "output_type": "execute_result"
    }
   ],
   "source": [
    "count = 0 \n",
    "for i in BD_dict3_top100:\n",
    "    if i[0] in BDwhitelist:\n",
    "        count += 1\n",
    "count"
   ]
  },
  {
   "cell_type": "code",
   "execution_count": 42,
   "id": "broadband-renewal",
   "metadata": {},
   "outputs": [
    {
     "data": {
      "text/plain": [
       "96"
      ]
     },
     "execution_count": 42,
     "metadata": {},
     "output_type": "execute_result"
    }
   ],
   "source": [
    "count = 0 \n",
    "for i in BD_dict1_top200:\n",
    "    if i[0] in BDwhitelist:\n",
    "        count += 1\n",
    "count"
   ]
  },
  {
   "cell_type": "code",
   "execution_count": 43,
   "id": "separated-hundred",
   "metadata": {},
   "outputs": [
    {
     "data": {
      "text/plain": [
       "94"
      ]
     },
     "execution_count": 43,
     "metadata": {},
     "output_type": "execute_result"
    }
   ],
   "source": [
    "count = 0 \n",
    "for i in BD_dict2_top200:\n",
    "    if i[0] in BDwhitelist:\n",
    "        count += 1\n",
    "count"
   ]
  },
  {
   "cell_type": "code",
   "execution_count": 44,
   "id": "certified-affiliation",
   "metadata": {},
   "outputs": [
    {
     "data": {
      "text/plain": [
       "90"
      ]
     },
     "execution_count": 44,
     "metadata": {},
     "output_type": "execute_result"
    }
   ],
   "source": [
    "count = 0 \n",
    "for i in BD_dict3_top200:\n",
    "    if i[0] in BDwhitelist:\n",
    "        count += 1\n",
    "count"
   ]
  },
  {
   "cell_type": "code",
   "execution_count": 36,
   "id": "enclosed-waterproof",
   "metadata": {},
   "outputs": [
    {
     "data": {
      "text/plain": [
       "96"
      ]
     },
     "execution_count": 36,
     "metadata": {},
     "output_type": "execute_result"
    }
   ],
   "source": [
    "count = 0 \n",
    "for i in BD_dict1_top300:\n",
    "    if i[0] in BDwhitelist:\n",
    "        count += 1\n",
    "count"
   ]
  },
  {
   "cell_type": "code",
   "execution_count": 37,
   "id": "empty-tuning",
   "metadata": {},
   "outputs": [
    {
     "data": {
      "text/plain": [
       "95"
      ]
     },
     "execution_count": 37,
     "metadata": {},
     "output_type": "execute_result"
    }
   ],
   "source": [
    "count = 0 \n",
    "for i in BD_dict2_top300:\n",
    "    if i[0] in BDwhitelist:\n",
    "        count += 1\n",
    "count"
   ]
  },
  {
   "cell_type": "code",
   "execution_count": 38,
   "id": "veterinary-tennis",
   "metadata": {},
   "outputs": [
    {
     "data": {
      "text/plain": [
       "95"
      ]
     },
     "execution_count": 38,
     "metadata": {},
     "output_type": "execute_result"
    }
   ],
   "source": [
    "count = 0 \n",
    "for i in BD_dict3_top300:\n",
    "    if i[0] in BDwhitelist:\n",
    "        count += 1\n",
    "count"
   ]
  },
  {
   "cell_type": "code",
   "execution_count": 27,
   "id": "worse-culture",
   "metadata": {},
   "outputs": [
    {
     "data": {
      "text/plain": [
       "('TCGAAGTG', 698568)"
      ]
     },
     "execution_count": 27,
     "metadata": {},
     "output_type": "execute_result"
    }
   ],
   "source": [
    "SGR_dict1_top100[0]"
   ]
  },
  {
   "cell_type": "code",
   "execution_count": 28,
   "id": "coordinated-government",
   "metadata": {},
   "outputs": [
    {
     "data": {
      "text/plain": [
       "('AAAAAAAA', 24831)"
      ]
     },
     "execution_count": 28,
     "metadata": {},
     "output_type": "execute_result"
    }
   ],
   "source": [
    "SGR_dict1_top100[96]"
   ]
  },
  {
   "cell_type": "code",
   "execution_count": 29,
   "id": "single-lebanon",
   "metadata": {},
   "outputs": [
    {
     "data": {
      "text/plain": [
       "('ACACACAAA', 661623)"
      ]
     },
     "execution_count": 29,
     "metadata": {},
     "output_type": "execute_result"
    }
   ],
   "source": [
    "BD_dict1_top300[2]"
   ]
  },
  {
   "cell_type": "code",
   "execution_count": 30,
   "id": "powered-florist",
   "metadata": {},
   "outputs": [
    {
     "data": {
      "text/plain": [
       "('TGGGGTCCC', 3602)"
      ]
     },
     "execution_count": 30,
     "metadata": {},
     "output_type": "execute_result"
    }
   ],
   "source": [
    "BD_dict1_top300[299]"
   ]
  },
  {
   "cell_type": "code",
   "execution_count": 31,
   "id": "portable-torture",
   "metadata": {},
   "outputs": [
    {
     "data": {
      "text/plain": [
       "True"
      ]
     },
     "execution_count": 31,
     "metadata": {},
     "output_type": "execute_result"
    }
   ],
   "source": [
    "'ACACACAAA' in BDwhitelist"
   ]
  },
  {
   "cell_type": "code",
   "execution_count": null,
   "id": "considerable-palace",
   "metadata": {},
   "outputs": [],
   "source": [
    "BD_dict3_top300"
   ]
  },
  {
   "cell_type": "code",
   "execution_count": null,
   "id": "reduced-liver",
   "metadata": {},
   "outputs": [],
   "source": []
  },
  {
   "cell_type": "code",
   "execution_count": null,
   "id": "functional-movie",
   "metadata": {},
   "outputs": [],
   "source": [
    "# VB\n",
    "count = 0\n",
    "sum_count = 0\n",
    "with pysam.FastxFile(BD) as f:\n",
    "    for read in f:\n",
    "        sum_count += 1\n",
    "        if 'ACACGACGCTCTTCCGATCT' in read.sequence:\n",
    "            count += 1"
   ]
  },
  {
   "cell_type": "code",
   "execution_count": 71,
   "id": "tight-plaintiff",
   "metadata": {},
   "outputs": [
    {
     "data": {
      "text/plain": [
       "0.008177348593076885"
      ]
     },
     "execution_count": 71,
     "metadata": {},
     "output_type": "execute_result"
    }
   ],
   "source": [
    "count/ sum_count"
   ]
  },
  {
   "cell_type": "code",
   "execution_count": 70,
   "id": "controlled-tulsa",
   "metadata": {},
   "outputs": [
    {
     "data": {
      "text/plain": [
       "19825497"
      ]
     },
     "execution_count": 70,
     "metadata": {},
     "output_type": "execute_result"
    }
   ],
   "source": [
    "sum_count"
   ]
  },
  {
   "cell_type": "code",
   "execution_count": 81,
   "id": "excess-ability",
   "metadata": {},
   "outputs": [],
   "source": [
    "sample1_dict1 = defaultdict(int)\n",
    "sample1_dict2 = defaultdict(int)\n",
    "sample1_dict3 = defaultdict(int)\n",
    "sample2_dict1 = defaultdict(int)\n",
    "sample2_dict2 = defaultdict(int)\n",
    "sample2_dict3 = defaultdict(int)\n"
   ]
  },
  {
   "cell_type": "code",
   "execution_count": 82,
   "id": "entire-romance",
   "metadata": {},
   "outputs": [],
   "source": [
    "with pysam.FastxFile('/SGRNJ06/randd/USER/cjj/celedev/BD_flvdj/Project_luhaisong_220919N/0916TM-L_220919N_S92_R1.fastq.gz') as f:\n",
    "    for read in f:\n",
    "        sample1_dict1[read.sequence[:9]] += 1\n",
    "        sample1_dict2[read.sequence[21:30]] += 1\n",
    "        sample1_dict3[read.sequence[43:52]] += 1"
   ]
  },
  {
   "cell_type": "code",
   "execution_count": 83,
   "id": "opposed-numbers",
   "metadata": {},
   "outputs": [
    {
     "name": "stderr",
     "output_type": "stream",
     "text": [
      "[W::bgzf_read_block] EOF marker is absent. The input may be truncated\n"
     ]
    }
   ],
   "source": [
    "with pysam.FastxFile('/SGRNJ06/randd/USER/cjj/celedev/BD_flvdj/Project_luhaisong_220919N/0916TAA-H_220919N_S91_R1.fastq.gz') as f:\n",
    "    for read in f:\n",
    "        sample2_dict1[read.sequence[:9]] += 1\n",
    "        sample2_dict2[read.sequence[21:30]] += 1\n",
    "        sample2_dict3[read.sequence[43:52]] += 1"
   ]
  },
  {
   "cell_type": "code",
   "execution_count": null,
   "id": "convinced-burlington",
   "metadata": {},
   "outputs": [],
   "source": [
    "sample1_dict1"
   ]
  },
  {
   "cell_type": "code",
   "execution_count": 93,
   "id": "voluntary-handy",
   "metadata": {},
   "outputs": [],
   "source": [
    "sample1_dict1_list = sorted(sample1_dict1.items(), key=lambda x:x[1], reverse=True)[:100]\n",
    "sample2_dict1_list = sorted(sample2_dict1.items(), key=lambda x:x[1], reverse=True)[:100]\n",
    "\n",
    "sample1_dict2_list = sorted(sample1_dict2.items(), key=lambda x:x[1], reverse=True)[:100]\n",
    "sample2_dict2_list = sorted(sample2_dict2.items(), key=lambda x:x[1], reverse=True)[:100]\n",
    "\n",
    "sample1_dict3_list = sorted(sample1_dict3.items(), key=lambda x:x[1], reverse=True)[:100]\n",
    "sample2_dict3_list = sorted(sample2_dict3.items(), key=lambda x:x[1], reverse=True)[:100]"
   ]
  },
  {
   "cell_type": "code",
   "execution_count": 92,
   "id": "matched-movie",
   "metadata": {},
   "outputs": [
    {
     "data": {
      "text/plain": [
       "86"
      ]
     },
     "execution_count": 92,
     "metadata": {},
     "output_type": "execute_result"
    }
   ],
   "source": [
    "len(set([i[0] for i in sample1_dict1_list]).intersection(set([i[0] for i in sample2_dict1_list])))"
   ]
  },
  {
   "cell_type": "code",
   "execution_count": 94,
   "id": "substantial-swedish",
   "metadata": {},
   "outputs": [
    {
     "data": {
      "text/plain": [
       "62"
      ]
     },
     "execution_count": 94,
     "metadata": {},
     "output_type": "execute_result"
    }
   ],
   "source": [
    "len(set([i[0] for i in sample1_dict2_list]).intersection(set([i[0] for i in sample2_dict2_list])))"
   ]
  },
  {
   "cell_type": "code",
   "execution_count": 95,
   "id": "falling-railway",
   "metadata": {},
   "outputs": [
    {
     "data": {
      "text/plain": [
       "45"
      ]
     },
     "execution_count": 95,
     "metadata": {},
     "output_type": "execute_result"
    }
   ],
   "source": [
    "len(set([i[0] for i in sample1_dict3_list]).intersection(set([i[0] for i in sample2_dict3_list])))"
   ]
  },
  {
   "cell_type": "code",
   "execution_count": null,
   "id": "authentic-hudson",
   "metadata": {},
   "outputs": [],
   "source": []
  }
 ],
 "metadata": {
  "kernelspec": {
   "display_name": "cele1.11",
   "language": "python",
   "name": "refactor_trust"
  },
  "language_info": {
   "codemirror_mode": {
    "name": "ipython",
    "version": 3
   },
   "file_extension": ".py",
   "mimetype": "text/x-python",
   "name": "python",
   "nbconvert_exporter": "python",
   "pygments_lexer": "ipython3",
   "version": "3.9.0"
  }
 },
 "nbformat": 4,
 "nbformat_minor": 5
}
