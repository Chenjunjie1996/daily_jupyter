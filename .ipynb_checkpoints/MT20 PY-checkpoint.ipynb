{
 "cells": [
  {
   "cell_type": "code",
   "execution_count": 16,
   "id": "vanilla-spouse",
   "metadata": {},
   "outputs": [],
   "source": [
    "import pandas as pd\n",
    "import json"
   ]
  },
  {
   "cell_type": "code",
   "execution_count": 55,
   "id": "adult-trading",
   "metadata": {},
   "outputs": [],
   "source": [
    "ten = pd.read_csv('/SGRNJ06/randd/USER/cjj/celedev/wanheyuan/20220901cr6_v3/DC0004CA/03.cellranger/DC0004CA/outs/filtered_feature_bc_matrix/barcodes.tsv.gz',header=None)"
   ]
  },
  {
   "cell_type": "code",
   "execution_count": 56,
   "id": "prerequisite-stadium",
   "metadata": {},
   "outputs": [],
   "source": [
    "ten.rename(columns={0:'barcode'},inplace=True)"
   ]
  },
  {
   "cell_type": "code",
   "execution_count": 57,
   "id": "personalized-roulette",
   "metadata": {},
   "outputs": [],
   "source": [
    "ten_list = list(ten.barcode)"
   ]
  },
  {
   "cell_type": "code",
   "execution_count": 58,
   "id": "prime-dictionary",
   "metadata": {},
   "outputs": [],
   "source": [
    "ten_list = [i.split('-')[0] for i in ten_list]"
   ]
  },
  {
   "cell_type": "code",
   "execution_count": 59,
   "id": "decreased-lafayette",
   "metadata": {},
   "outputs": [],
   "source": [
    "ten_dict = pd.read_csv('/SGRNJ06/randd/USER/cjj/celedev/wanheyuan/20220901cr7_v3/DC0004CA/02.convert/barcode_correspond.txt',sep='\\t')"
   ]
  },
  {
   "cell_type": "code",
   "execution_count": 60,
   "id": "adjacent-register",
   "metadata": {},
   "outputs": [],
   "source": [
    "ten_dict = dict(zip(list(ten_dict['10X']), list(ten_dict['sgr'])))"
   ]
  },
  {
   "cell_type": "code",
   "execution_count": 61,
   "id": "written-compiler",
   "metadata": {},
   "outputs": [
    {
     "data": {
      "text/plain": [
       "'AAACCCAAGAAACACT'"
      ]
     },
     "execution_count": 61,
     "metadata": {},
     "output_type": "execute_result"
    }
   ],
   "source": [
    "ten_list[0]"
   ]
  },
  {
   "cell_type": "code",
   "execution_count": null,
   "id": "mysterious-warrior",
   "metadata": {},
   "outputs": [],
   "source": [
    "ten_dict"
   ]
  },
  {
   "cell_type": "code",
   "execution_count": 63,
   "id": "governing-consent",
   "metadata": {},
   "outputs": [],
   "source": [
    "sgr_list = [ten_dict[i] for i in ten_list]"
   ]
  },
  {
   "cell_type": "code",
   "execution_count": null,
   "id": "intermediate-lending",
   "metadata": {},
   "outputs": [],
   "source": [
    "sgr_list"
   ]
  },
  {
   "cell_type": "code",
   "execution_count": 65,
   "id": "stock-henry",
   "metadata": {},
   "outputs": [],
   "source": [
    "cele_sgr = pd.read_csv('/SGRNJ06/randd/USER/cjj/celedev/wanheyuan/c3rna/chang/DC0004CA/05.count/filtered_feature_bc_matrix/barcodes.tsv',sep='\\t',header=None)"
   ]
  },
  {
   "cell_type": "code",
   "execution_count": 66,
   "id": "hearing-arkansas",
   "metadata": {},
   "outputs": [],
   "source": [
    "cele_sgr.rename(columns={0:'barcode'},inplace=True)"
   ]
  },
  {
   "cell_type": "code",
   "execution_count": 67,
   "id": "integrated-mention",
   "metadata": {},
   "outputs": [],
   "source": [
    "cele_sgr_list = cele_sgr.barcode.tolist()"
   ]
  },
  {
   "cell_type": "code",
   "execution_count": 68,
   "id": "sustained-possible",
   "metadata": {},
   "outputs": [
    {
     "data": {
      "text/plain": [
       "18710"
      ]
     },
     "execution_count": 68,
     "metadata": {},
     "output_type": "execute_result"
    }
   ],
   "source": [
    "len(cele_sgr_list)"
   ]
  },
  {
   "cell_type": "code",
   "execution_count": 69,
   "id": "fossil-guitar",
   "metadata": {},
   "outputs": [
    {
     "data": {
      "text/plain": [
       "15301"
      ]
     },
     "execution_count": 69,
     "metadata": {},
     "output_type": "execute_result"
    }
   ],
   "source": [
    "len(sgr_list)"
   ]
  },
  {
   "cell_type": "code",
   "execution_count": 91,
   "id": "important-dodge",
   "metadata": {},
   "outputs": [],
   "source": [
    "intersec = set(cele_sgr_list).intersection(set(sgr_list))"
   ]
  },
  {
   "cell_type": "code",
   "execution_count": null,
   "id": "stuffed-agenda",
   "metadata": {},
   "outputs": [],
   "source": [
    "intersec"
   ]
  },
  {
   "cell_type": "code",
   "execution_count": null,
   "id": "missing-lincoln",
   "metadata": {},
   "outputs": [],
   "source": []
  },
  {
   "cell_type": "code",
   "execution_count": null,
   "id": "musical-antigua",
   "metadata": {},
   "outputs": [],
   "source": []
  },
  {
   "cell_type": "code",
   "execution_count": 73,
   "id": "gorgeous-region",
   "metadata": {},
   "outputs": [],
   "source": [
    "sgr = pd.read_csv('/SGRNJ06/randd/USER/cjj/celedev/wanheyuan/abnormal/DC0004CA_CS_meta.tsv',sep='\\t')\n",
    "cr = pd.read_csv('/SGRNJ06/randd/USER/cjj/celedev/wanheyuan/abnormal/DC0004CA_CR_meta.tsv',sep='\\t')"
   ]
  },
  {
   "cell_type": "code",
   "execution_count": 79,
   "id": "frozen-bristol",
   "metadata": {},
   "outputs": [],
   "source": [
    "sgr = sgr.rename_axis('barcode').reset_index()\n",
    "cr = cr.rename_axis('barcode').reset_index()"
   ]
  },
  {
   "cell_type": "code",
   "execution_count": 84,
   "id": "popular-attachment",
   "metadata": {},
   "outputs": [],
   "source": [
    "cr['barcode'] = cr['barcode'].apply(lambda x: ten_dict[x.split('-')[0]])"
   ]
  },
  {
   "cell_type": "code",
   "execution_count": 85,
   "id": "wooden-earthquake",
   "metadata": {},
   "outputs": [
    {
     "data": {
      "text/html": [
       "<div>\n",
       "<style scoped>\n",
       "    .dataframe tbody tr th:only-of-type {\n",
       "        vertical-align: middle;\n",
       "    }\n",
       "\n",
       "    .dataframe tbody tr th {\n",
       "        vertical-align: top;\n",
       "    }\n",
       "\n",
       "    .dataframe thead th {\n",
       "        text-align: right;\n",
       "    }\n",
       "</style>\n",
       "<table border=\"1\" class=\"dataframe\">\n",
       "  <thead>\n",
       "    <tr style=\"text-align: right;\">\n",
       "      <th></th>\n",
       "      <th>barcode</th>\n",
       "      <th>orig.ident</th>\n",
       "      <th>nCount_RNA</th>\n",
       "      <th>nFeature_RNA</th>\n",
       "      <th>percent.mt</th>\n",
       "    </tr>\n",
       "  </thead>\n",
       "  <tbody>\n",
       "    <tr>\n",
       "      <th>0</th>\n",
       "      <td>AAACATCGAAACATCGGATGAATC</td>\n",
       "      <td>test</td>\n",
       "      <td>13345</td>\n",
       "      <td>3815</td>\n",
       "      <td>27.246160</td>\n",
       "    </tr>\n",
       "    <tr>\n",
       "      <th>1</th>\n",
       "      <td>AAACATCGAAACATCGGTCGTAGA</td>\n",
       "      <td>test</td>\n",
       "      <td>11443</td>\n",
       "      <td>2690</td>\n",
       "      <td>22.065892</td>\n",
       "    </tr>\n",
       "    <tr>\n",
       "      <th>2</th>\n",
       "      <td>AAACATCGAAACATCGTGGCTTCA</td>\n",
       "      <td>test</td>\n",
       "      <td>673</td>\n",
       "      <td>397</td>\n",
       "      <td>23.625557</td>\n",
       "    </tr>\n",
       "    <tr>\n",
       "      <th>3</th>\n",
       "      <td>AAACATCGAACAACCATTCACGCA</td>\n",
       "      <td>test</td>\n",
       "      <td>1615</td>\n",
       "      <td>812</td>\n",
       "      <td>10.773994</td>\n",
       "    </tr>\n",
       "    <tr>\n",
       "      <th>4</th>\n",
       "      <td>AAACATCGAACGCTTAACCTCCAA</td>\n",
       "      <td>test</td>\n",
       "      <td>5651</td>\n",
       "      <td>1261</td>\n",
       "      <td>61.599717</td>\n",
       "    </tr>\n",
       "    <tr>\n",
       "      <th>...</th>\n",
       "      <td>...</td>\n",
       "      <td>...</td>\n",
       "      <td>...</td>\n",
       "      <td>...</td>\n",
       "      <td>...</td>\n",
       "    </tr>\n",
       "    <tr>\n",
       "      <th>18705</th>\n",
       "      <td>TTCACGCATGGTGGTAATTGAGGA</td>\n",
       "      <td>test</td>\n",
       "      <td>5488</td>\n",
       "      <td>1621</td>\n",
       "      <td>44.806851</td>\n",
       "    </tr>\n",
       "    <tr>\n",
       "      <th>18706</th>\n",
       "      <td>TTCACGCATGGTGGTAGATAGACA</td>\n",
       "      <td>test</td>\n",
       "      <td>9273</td>\n",
       "      <td>2754</td>\n",
       "      <td>26.658039</td>\n",
       "    </tr>\n",
       "    <tr>\n",
       "      <th>18707</th>\n",
       "      <td>TTCACGCATTCACGCACGACTGGA</td>\n",
       "      <td>test</td>\n",
       "      <td>1580</td>\n",
       "      <td>828</td>\n",
       "      <td>10.443038</td>\n",
       "    </tr>\n",
       "    <tr>\n",
       "      <th>18708</th>\n",
       "      <td>TTCACGCATTCACGCACGCTGATC</td>\n",
       "      <td>test</td>\n",
       "      <td>4850</td>\n",
       "      <td>1463</td>\n",
       "      <td>46.185567</td>\n",
       "    </tr>\n",
       "    <tr>\n",
       "      <th>18709</th>\n",
       "      <td>TTCACGCATTCACGCATCCGTCTA</td>\n",
       "      <td>test</td>\n",
       "      <td>4097</td>\n",
       "      <td>1396</td>\n",
       "      <td>42.152795</td>\n",
       "    </tr>\n",
       "  </tbody>\n",
       "</table>\n",
       "<p>18710 rows × 5 columns</p>\n",
       "</div>"
      ],
      "text/plain": [
       "                        barcode orig.ident  nCount_RNA  nFeature_RNA  \\\n",
       "0      AAACATCGAAACATCGGATGAATC       test       13345          3815   \n",
       "1      AAACATCGAAACATCGGTCGTAGA       test       11443          2690   \n",
       "2      AAACATCGAAACATCGTGGCTTCA       test         673           397   \n",
       "3      AAACATCGAACAACCATTCACGCA       test        1615           812   \n",
       "4      AAACATCGAACGCTTAACCTCCAA       test        5651          1261   \n",
       "...                         ...        ...         ...           ...   \n",
       "18705  TTCACGCATGGTGGTAATTGAGGA       test        5488          1621   \n",
       "18706  TTCACGCATGGTGGTAGATAGACA       test        9273          2754   \n",
       "18707  TTCACGCATTCACGCACGACTGGA       test        1580           828   \n",
       "18708  TTCACGCATTCACGCACGCTGATC       test        4850          1463   \n",
       "18709  TTCACGCATTCACGCATCCGTCTA       test        4097          1396   \n",
       "\n",
       "       percent.mt  \n",
       "0       27.246160  \n",
       "1       22.065892  \n",
       "2       23.625557  \n",
       "3       10.773994  \n",
       "4       61.599717  \n",
       "...           ...  \n",
       "18705   44.806851  \n",
       "18706   26.658039  \n",
       "18707   10.443038  \n",
       "18708   46.185567  \n",
       "18709   42.152795  \n",
       "\n",
       "[18710 rows x 5 columns]"
      ]
     },
     "execution_count": 85,
     "metadata": {},
     "output_type": "execute_result"
    }
   ],
   "source": [
    "sgr"
   ]
  },
  {
   "cell_type": "code",
   "execution_count": 86,
   "id": "consistent-stake",
   "metadata": {},
   "outputs": [
    {
     "data": {
      "text/html": [
       "<div>\n",
       "<style scoped>\n",
       "    .dataframe tbody tr th:only-of-type {\n",
       "        vertical-align: middle;\n",
       "    }\n",
       "\n",
       "    .dataframe tbody tr th {\n",
       "        vertical-align: top;\n",
       "    }\n",
       "\n",
       "    .dataframe thead th {\n",
       "        text-align: right;\n",
       "    }\n",
       "</style>\n",
       "<table border=\"1\" class=\"dataframe\">\n",
       "  <thead>\n",
       "    <tr style=\"text-align: right;\">\n",
       "      <th></th>\n",
       "      <th>barcode</th>\n",
       "      <th>orig.ident</th>\n",
       "      <th>nCount_RNA</th>\n",
       "      <th>nFeature_RNA</th>\n",
       "      <th>percent.mt</th>\n",
       "    </tr>\n",
       "  </thead>\n",
       "  <tbody>\n",
       "    <tr>\n",
       "      <th>0</th>\n",
       "      <td>GAGTTAGCGACTAGTATGGTGGTA</td>\n",
       "      <td>test</td>\n",
       "      <td>15560</td>\n",
       "      <td>3670</td>\n",
       "      <td>27.487147</td>\n",
       "    </tr>\n",
       "    <tr>\n",
       "      <th>1</th>\n",
       "      <td>GGAGAACAAAGACGGACCGAAGTA</td>\n",
       "      <td>test</td>\n",
       "      <td>11226</td>\n",
       "      <td>3418</td>\n",
       "      <td>19.730982</td>\n",
       "    </tr>\n",
       "    <tr>\n",
       "      <th>2</th>\n",
       "      <td>ACGCTCGAAAGGACACACACAGAA</td>\n",
       "      <td>test</td>\n",
       "      <td>8342</td>\n",
       "      <td>2830</td>\n",
       "      <td>17.381923</td>\n",
       "    </tr>\n",
       "    <tr>\n",
       "      <th>3</th>\n",
       "      <td>ACAGCAGACCTCTATCGGTGCGAA</td>\n",
       "      <td>test</td>\n",
       "      <td>951</td>\n",
       "      <td>569</td>\n",
       "      <td>11.146162</td>\n",
       "    </tr>\n",
       "    <tr>\n",
       "      <th>4</th>\n",
       "      <td>CTCAATGACGACACACGACTAGTA</td>\n",
       "      <td>test</td>\n",
       "      <td>6593</td>\n",
       "      <td>2270</td>\n",
       "      <td>24.419839</td>\n",
       "    </tr>\n",
       "    <tr>\n",
       "      <th>...</th>\n",
       "      <td>...</td>\n",
       "      <td>...</td>\n",
       "      <td>...</td>\n",
       "      <td>...</td>\n",
       "      <td>...</td>\n",
       "    </tr>\n",
       "    <tr>\n",
       "      <th>15296</th>\n",
       "      <td>CGACACACAACAACCACCTCCTGA</td>\n",
       "      <td>test</td>\n",
       "      <td>570</td>\n",
       "      <td>430</td>\n",
       "      <td>1.929825</td>\n",
       "    </tr>\n",
       "    <tr>\n",
       "      <th>15297</th>\n",
       "      <td>CTCAATGACTGGCATAGCTCGGTA</td>\n",
       "      <td>test</td>\n",
       "      <td>761</td>\n",
       "      <td>551</td>\n",
       "      <td>2.496715</td>\n",
       "    </tr>\n",
       "    <tr>\n",
       "      <th>15298</th>\n",
       "      <td>ACGTATCACCTAATCCTTCACGCA</td>\n",
       "      <td>test</td>\n",
       "      <td>522</td>\n",
       "      <td>402</td>\n",
       "      <td>0.957854</td>\n",
       "    </tr>\n",
       "    <tr>\n",
       "      <th>15299</th>\n",
       "      <td>CAGATCTGAAGGTACAGTCTGTCA</td>\n",
       "      <td>test</td>\n",
       "      <td>569</td>\n",
       "      <td>445</td>\n",
       "      <td>1.054482</td>\n",
       "    </tr>\n",
       "    <tr>\n",
       "      <th>15300</th>\n",
       "      <td>AAGACGGACGCATACACGCATACA</td>\n",
       "      <td>test</td>\n",
       "      <td>569</td>\n",
       "      <td>453</td>\n",
       "      <td>1.757469</td>\n",
       "    </tr>\n",
       "  </tbody>\n",
       "</table>\n",
       "<p>15301 rows × 5 columns</p>\n",
       "</div>"
      ],
      "text/plain": [
       "                        barcode orig.ident  nCount_RNA  nFeature_RNA  \\\n",
       "0      GAGTTAGCGACTAGTATGGTGGTA       test       15560          3670   \n",
       "1      GGAGAACAAAGACGGACCGAAGTA       test       11226          3418   \n",
       "2      ACGCTCGAAAGGACACACACAGAA       test        8342          2830   \n",
       "3      ACAGCAGACCTCTATCGGTGCGAA       test         951           569   \n",
       "4      CTCAATGACGACACACGACTAGTA       test        6593          2270   \n",
       "...                         ...        ...         ...           ...   \n",
       "15296  CGACACACAACAACCACCTCCTGA       test         570           430   \n",
       "15297  CTCAATGACTGGCATAGCTCGGTA       test         761           551   \n",
       "15298  ACGTATCACCTAATCCTTCACGCA       test         522           402   \n",
       "15299  CAGATCTGAAGGTACAGTCTGTCA       test         569           445   \n",
       "15300  AAGACGGACGCATACACGCATACA       test         569           453   \n",
       "\n",
       "       percent.mt  \n",
       "0       27.487147  \n",
       "1       19.730982  \n",
       "2       17.381923  \n",
       "3       11.146162  \n",
       "4       24.419839  \n",
       "...           ...  \n",
       "15296    1.929825  \n",
       "15297    2.496715  \n",
       "15298    0.957854  \n",
       "15299    1.054482  \n",
       "15300    1.757469  \n",
       "\n",
       "[15301 rows x 5 columns]"
      ]
     },
     "execution_count": 86,
     "metadata": {},
     "output_type": "execute_result"
    }
   ],
   "source": [
    "cr"
   ]
  },
  {
   "cell_type": "code",
   "execution_count": 96,
   "id": "romantic-breathing",
   "metadata": {},
   "outputs": [],
   "source": [
    "cr = cr[cr['barcode'].isin(intersec)]\n",
    "sgr = sgr[sgr['barcode'].isin(intersec)]"
   ]
  },
  {
   "cell_type": "code",
   "execution_count": 98,
   "id": "fixed-separate",
   "metadata": {},
   "outputs": [
    {
     "data": {
      "text/html": [
       "<div>\n",
       "<style scoped>\n",
       "    .dataframe tbody tr th:only-of-type {\n",
       "        vertical-align: middle;\n",
       "    }\n",
       "\n",
       "    .dataframe tbody tr th {\n",
       "        vertical-align: top;\n",
       "    }\n",
       "\n",
       "    .dataframe thead th {\n",
       "        text-align: right;\n",
       "    }\n",
       "</style>\n",
       "<table border=\"1\" class=\"dataframe\">\n",
       "  <thead>\n",
       "    <tr style=\"text-align: right;\">\n",
       "      <th></th>\n",
       "      <th>nCount_RNA</th>\n",
       "      <th>nFeature_RNA</th>\n",
       "      <th>percent.mt</th>\n",
       "    </tr>\n",
       "  </thead>\n",
       "  <tbody>\n",
       "    <tr>\n",
       "      <th>count</th>\n",
       "      <td>15113.000000</td>\n",
       "      <td>15113.000000</td>\n",
       "      <td>15113.000000</td>\n",
       "    </tr>\n",
       "    <tr>\n",
       "      <th>mean</th>\n",
       "      <td>5048.239463</td>\n",
       "      <td>1538.124264</td>\n",
       "      <td>31.232089</td>\n",
       "    </tr>\n",
       "    <tr>\n",
       "      <th>std</th>\n",
       "      <td>4256.469011</td>\n",
       "      <td>1062.422807</td>\n",
       "      <td>19.376457</td>\n",
       "    </tr>\n",
       "    <tr>\n",
       "      <th>min</th>\n",
       "      <td>499.000000</td>\n",
       "      <td>153.000000</td>\n",
       "      <td>0.301659</td>\n",
       "    </tr>\n",
       "    <tr>\n",
       "      <th>25%</th>\n",
       "      <td>1678.000000</td>\n",
       "      <td>669.000000</td>\n",
       "      <td>15.842294</td>\n",
       "    </tr>\n",
       "    <tr>\n",
       "      <th>50%</th>\n",
       "      <td>3609.000000</td>\n",
       "      <td>1100.000000</td>\n",
       "      <td>24.868282</td>\n",
       "    </tr>\n",
       "    <tr>\n",
       "      <th>75%</th>\n",
       "      <td>7583.000000</td>\n",
       "      <td>2399.000000</td>\n",
       "      <td>46.249601</td>\n",
       "    </tr>\n",
       "    <tr>\n",
       "      <th>max</th>\n",
       "      <td>28929.000000</td>\n",
       "      <td>5471.000000</td>\n",
       "      <td>94.063814</td>\n",
       "    </tr>\n",
       "  </tbody>\n",
       "</table>\n",
       "</div>"
      ],
      "text/plain": [
       "         nCount_RNA  nFeature_RNA    percent.mt\n",
       "count  15113.000000  15113.000000  15113.000000\n",
       "mean    5048.239463   1538.124264     31.232089\n",
       "std     4256.469011   1062.422807     19.376457\n",
       "min      499.000000    153.000000      0.301659\n",
       "25%     1678.000000    669.000000     15.842294\n",
       "50%     3609.000000   1100.000000     24.868282\n",
       "75%     7583.000000   2399.000000     46.249601\n",
       "max    28929.000000   5471.000000     94.063814"
      ]
     },
     "execution_count": 98,
     "metadata": {},
     "output_type": "execute_result"
    }
   ],
   "source": [
    "cr.groupby('percent.mt')"
   ]
  },
  {
   "cell_type": "code",
   "execution_count": 97,
   "id": "significant-transcript",
   "metadata": {},
   "outputs": [
    {
     "data": {
      "text/html": [
       "<div>\n",
       "<style scoped>\n",
       "    .dataframe tbody tr th:only-of-type {\n",
       "        vertical-align: middle;\n",
       "    }\n",
       "\n",
       "    .dataframe tbody tr th {\n",
       "        vertical-align: top;\n",
       "    }\n",
       "\n",
       "    .dataframe thead th {\n",
       "        text-align: right;\n",
       "    }\n",
       "</style>\n",
       "<table border=\"1\" class=\"dataframe\">\n",
       "  <thead>\n",
       "    <tr style=\"text-align: right;\">\n",
       "      <th></th>\n",
       "      <th>barcode</th>\n",
       "      <th>orig.ident</th>\n",
       "      <th>nCount_RNA</th>\n",
       "      <th>nFeature_RNA</th>\n",
       "      <th>percent.mt</th>\n",
       "    </tr>\n",
       "  </thead>\n",
       "  <tbody>\n",
       "    <tr>\n",
       "      <th>0</th>\n",
       "      <td>AAACATCGAAACATCGGATGAATC</td>\n",
       "      <td>test</td>\n",
       "      <td>13345</td>\n",
       "      <td>3815</td>\n",
       "      <td>27.246160</td>\n",
       "    </tr>\n",
       "    <tr>\n",
       "      <th>1</th>\n",
       "      <td>AAACATCGAAACATCGGTCGTAGA</td>\n",
       "      <td>test</td>\n",
       "      <td>11443</td>\n",
       "      <td>2690</td>\n",
       "      <td>22.065892</td>\n",
       "    </tr>\n",
       "    <tr>\n",
       "      <th>3</th>\n",
       "      <td>AAACATCGAACAACCATTCACGCA</td>\n",
       "      <td>test</td>\n",
       "      <td>1615</td>\n",
       "      <td>812</td>\n",
       "      <td>10.773994</td>\n",
       "    </tr>\n",
       "    <tr>\n",
       "      <th>4</th>\n",
       "      <td>AAACATCGAACGCTTAACCTCCAA</td>\n",
       "      <td>test</td>\n",
       "      <td>5651</td>\n",
       "      <td>1261</td>\n",
       "      <td>61.599717</td>\n",
       "    </tr>\n",
       "    <tr>\n",
       "      <th>5</th>\n",
       "      <td>AAACATCGAACGCTTACAGCGTTA</td>\n",
       "      <td>test</td>\n",
       "      <td>8256</td>\n",
       "      <td>1562</td>\n",
       "      <td>64.983043</td>\n",
       "    </tr>\n",
       "    <tr>\n",
       "      <th>...</th>\n",
       "      <td>...</td>\n",
       "      <td>...</td>\n",
       "      <td>...</td>\n",
       "      <td>...</td>\n",
       "      <td>...</td>\n",
       "    </tr>\n",
       "    <tr>\n",
       "      <th>18705</th>\n",
       "      <td>TTCACGCATGGTGGTAATTGAGGA</td>\n",
       "      <td>test</td>\n",
       "      <td>5488</td>\n",
       "      <td>1621</td>\n",
       "      <td>44.806851</td>\n",
       "    </tr>\n",
       "    <tr>\n",
       "      <th>18706</th>\n",
       "      <td>TTCACGCATGGTGGTAGATAGACA</td>\n",
       "      <td>test</td>\n",
       "      <td>9273</td>\n",
       "      <td>2754</td>\n",
       "      <td>26.658039</td>\n",
       "    </tr>\n",
       "    <tr>\n",
       "      <th>18707</th>\n",
       "      <td>TTCACGCATTCACGCACGACTGGA</td>\n",
       "      <td>test</td>\n",
       "      <td>1580</td>\n",
       "      <td>828</td>\n",
       "      <td>10.443038</td>\n",
       "    </tr>\n",
       "    <tr>\n",
       "      <th>18708</th>\n",
       "      <td>TTCACGCATTCACGCACGCTGATC</td>\n",
       "      <td>test</td>\n",
       "      <td>4850</td>\n",
       "      <td>1463</td>\n",
       "      <td>46.185567</td>\n",
       "    </tr>\n",
       "    <tr>\n",
       "      <th>18709</th>\n",
       "      <td>TTCACGCATTCACGCATCCGTCTA</td>\n",
       "      <td>test</td>\n",
       "      <td>4097</td>\n",
       "      <td>1396</td>\n",
       "      <td>42.152795</td>\n",
       "    </tr>\n",
       "  </tbody>\n",
       "</table>\n",
       "<p>15113 rows × 5 columns</p>\n",
       "</div>"
      ],
      "text/plain": [
       "                        barcode orig.ident  nCount_RNA  nFeature_RNA  \\\n",
       "0      AAACATCGAAACATCGGATGAATC       test       13345          3815   \n",
       "1      AAACATCGAAACATCGGTCGTAGA       test       11443          2690   \n",
       "3      AAACATCGAACAACCATTCACGCA       test        1615           812   \n",
       "4      AAACATCGAACGCTTAACCTCCAA       test        5651          1261   \n",
       "5      AAACATCGAACGCTTACAGCGTTA       test        8256          1562   \n",
       "...                         ...        ...         ...           ...   \n",
       "18705  TTCACGCATGGTGGTAATTGAGGA       test        5488          1621   \n",
       "18706  TTCACGCATGGTGGTAGATAGACA       test        9273          2754   \n",
       "18707  TTCACGCATTCACGCACGACTGGA       test        1580           828   \n",
       "18708  TTCACGCATTCACGCACGCTGATC       test        4850          1463   \n",
       "18709  TTCACGCATTCACGCATCCGTCTA       test        4097          1396   \n",
       "\n",
       "       percent.mt  \n",
       "0       27.246160  \n",
       "1       22.065892  \n",
       "3       10.773994  \n",
       "4       61.599717  \n",
       "5       64.983043  \n",
       "...           ...  \n",
       "18705   44.806851  \n",
       "18706   26.658039  \n",
       "18707   10.443038  \n",
       "18708   46.185567  \n",
       "18709   42.152795  \n",
       "\n",
       "[15113 rows x 5 columns]"
      ]
     },
     "execution_count": 97,
     "metadata": {},
     "output_type": "execute_result"
    }
   ],
   "source": [
    "sgr"
   ]
  },
  {
   "cell_type": "code",
   "execution_count": null,
   "id": "thorough-worth",
   "metadata": {},
   "outputs": [],
   "source": []
  }
 ],
 "metadata": {
  "kernelspec": {
   "display_name": "Python 3 (ipykernel)",
   "language": "python",
   "name": "python3"
  },
  "language_info": {
   "codemirror_mode": {
    "name": "ipython",
    "version": 3
   },
   "file_extension": ".py",
   "mimetype": "text/x-python",
   "name": "python",
   "nbconvert_exporter": "python",
   "pygments_lexer": "ipython3",
   "version": "3.7.10"
  }
 },
 "nbformat": 4,
 "nbformat_minor": 5
}
