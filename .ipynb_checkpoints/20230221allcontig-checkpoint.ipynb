{
 "cells": [
  {
   "cell_type": "code",
   "execution_count": 3,
   "id": "unknown-dress",
   "metadata": {},
   "outputs": [],
   "source": [
    "import pandas as pd \n",
    "import os \n",
    "import json\n",
    "import glob\n",
    "from celescope.tools import utils"
   ]
  },
  {
   "cell_type": "code",
   "execution_count": 4,
   "id": "qualified-insulin",
   "metadata": {},
   "outputs": [
    {
     "name": "stderr",
     "output_type": "stream",
     "text": [
      "2023-02-21 18:31:59,690 - celescope.tools.utils.get_barcode_from_match_dir - INFO - start...\n",
      "2023-02-21 18:31:59,703 - celescope.tools.utils.get_barcode_from_match_dir - INFO - Barcode file:/SGRNJ06/randd/USER/cjj/celedev/vdj10x/20230220beida/match_dir/WLR-K-CK/05.count/WLR-K-CK_matrix_10X/barcodes.tsv\n",
      "2023-02-21 18:31:59,722 - celescope.tools.utils.get_barcode_from_match_dir - INFO - done. time used: 0:00:00.029874\n"
     ]
    }
   ],
   "source": [
    "match_cell_barcodes, _ = utils.get_barcode_from_match_dir(\"/SGRNJ06/randd/USER/cjj/celedev/vdj10x/20230220beida/match_dir/WLR-K-CK\")"
   ]
  },
  {
   "cell_type": "code",
   "execution_count": 5,
   "id": "democratic-teacher",
   "metadata": {},
   "outputs": [],
   "source": [
    "df = pd.read_csv(\"/SGRNJ06/randd/USER/cjj/celedev/vdj10x/20230220beida/cr4/WLR-K-T-CK-T/03.assemble/WLR-K-T-CK-T/outs/all_contig_annotations.csv\")"
   ]
  },
  {
   "cell_type": "code",
   "execution_count": 6,
   "id": "incoming-firmware",
   "metadata": {},
   "outputs": [],
   "source": [
    "df = df[df[\"productive\"]==True]"
   ]
  },
  {
   "cell_type": "code",
   "execution_count": 8,
   "id": "married-dating",
   "metadata": {},
   "outputs": [],
   "source": [
    "df = df[df[\"high_confidence\"]==True]"
   ]
  },
  {
   "cell_type": "code",
   "execution_count": 10,
   "id": "peripheral-crack",
   "metadata": {},
   "outputs": [
    {
     "name": "stderr",
     "output_type": "stream",
     "text": [
      "/Personal/chenjunjie/.local/lib/python3.7/site-packages/pandas/core/generic.py:5491: SettingWithCopyWarning: \n",
      "A value is trying to be set on a copy of a slice from a DataFrame.\n",
      "Try using .loc[row_indexer,col_indexer] = value instead\n",
      "\n",
      "See the caveats in the documentation: https://pandas.pydata.org/pandas-docs/stable/user_guide/indexing.html#returning-a-view-versus-a-copy\n",
      "  self[name] = value\n"
     ]
    }
   ],
   "source": [
    "df.barcode = df.barcode.apply(lambda x: x.split('-')[0])"
   ]
  },
  {
   "cell_type": "code",
   "execution_count": 11,
   "id": "different-volume",
   "metadata": {},
   "outputs": [],
   "source": [
    "with open(\"/SGRNJ06/randd/USER/cjj/celedev/vdj10x/20230220beida/cr4/WLR-K-T-CK-T/02.convert/barcode_convert.json\", 'r') as f:\n",
    "    load_dict = json.load(f)"
   ]
  },
  {
   "cell_type": "code",
   "execution_count": 12,
   "id": "perfect-zoning",
   "metadata": {},
   "outputs": [
    {
     "name": "stderr",
     "output_type": "stream",
     "text": [
      "/Personal/chenjunjie/.local/lib/python3.7/site-packages/pandas/core/generic.py:5491: SettingWithCopyWarning: \n",
      "A value is trying to be set on a copy of a slice from a DataFrame.\n",
      "Try using .loc[row_indexer,col_indexer] = value instead\n",
      "\n",
      "See the caveats in the documentation: https://pandas.pydata.org/pandas-docs/stable/user_guide/indexing.html#returning-a-view-versus-a-copy\n",
      "  self[name] = value\n"
     ]
    }
   ],
   "source": [
    "df.barcode = df.barcode.apply(lambda x: load_dict[x])"
   ]
  },
  {
   "cell_type": "code",
   "execution_count": 14,
   "id": "organic-train",
   "metadata": {},
   "outputs": [
    {
     "data": {
      "text/plain": [
       "10544"
      ]
     },
     "execution_count": 14,
     "metadata": {},
     "output_type": "execute_result"
    }
   ],
   "source": [
    "len(set(df.barcode))"
   ]
  },
  {
   "cell_type": "code",
   "execution_count": 15,
   "id": "strong-abortion",
   "metadata": {},
   "outputs": [
    {
     "data": {
      "text/plain": [
       "6130"
      ]
     },
     "execution_count": 15,
     "metadata": {},
     "output_type": "execute_result"
    }
   ],
   "source": [
    "len(set(match_cell_barcodes))"
   ]
  },
  {
   "cell_type": "code",
   "execution_count": 18,
   "id": "according-oliver",
   "metadata": {},
   "outputs": [
    {
     "data": {
      "text/plain": [
       "1590"
      ]
     },
     "execution_count": 18,
     "metadata": {},
     "output_type": "execute_result"
    }
   ],
   "source": [
    "len(set(df.barcode).intersection(match_cell_barcodes))"
   ]
  },
  {
   "cell_type": "code",
   "execution_count": null,
   "id": "union-handling",
   "metadata": {},
   "outputs": [],
   "source": []
  },
  {
   "cell_type": "code",
   "execution_count": null,
   "id": "italic-filter",
   "metadata": {},
   "outputs": [],
   "source": []
  },
  {
   "cell_type": "code",
   "execution_count": 100,
   "id": "organic-politics",
   "metadata": {},
   "outputs": [],
   "source": [
    "df = pd.read_csv(\"/SGRNJ06/randd/USER/cjj/celedev/vdj10x/20230220beida/cr4/YSR-K-T-T/04.summarize/clonotypes.csv\")"
   ]
  },
  {
   "cell_type": "code",
   "execution_count": 102,
   "id": "exact-shareware",
   "metadata": {},
   "outputs": [
    {
     "data": {
      "text/plain": [
       "1164"
      ]
     },
     "execution_count": 102,
     "metadata": {},
     "output_type": "execute_result"
    }
   ],
   "source": [
    "df.shape[0]"
   ]
  },
  {
   "cell_type": "code",
   "execution_count": 109,
   "id": "lucky-chess",
   "metadata": {},
   "outputs": [],
   "source": [
    "path = \"/SGRNJ06/randd/USER/cjj/celedev/vdj10x/20230220beida/cr7/\"\n",
    "#path = \"/SGRNJ06/randd/USER/cjj/celedev/vdj10x/20230220beida/cr7/\""
   ]
  },
  {
   "cell_type": "code",
   "execution_count": 110,
   "id": "shared-condition",
   "metadata": {},
   "outputs": [],
   "source": [
    "#clonotypes_list = glob.glob(f\"{path}/*/04.summarize/clonotypes.csv\")\n",
    "clonotypes_list = glob.glob(f\"{path}/*/05.match/matched_clonotypes.csv\")"
   ]
  },
  {
   "cell_type": "code",
   "execution_count": 111,
   "id": "atlantic-bristol",
   "metadata": {},
   "outputs": [],
   "source": [
    "sample_list = [i.split('/')[-3] for i in clonotypes_list]"
   ]
  },
  {
   "cell_type": "code",
   "execution_count": 112,
   "id": "marked-supplier",
   "metadata": {},
   "outputs": [
    {
     "name": "stdout",
     "output_type": "stream",
     "text": [
      "WLR-T-T-T\n",
      "clonotypes_num_greater_two :  614\n",
      "clonotypes_num_signle:  693\n",
      "clonotypes_num_TRA_TRB_pair :  1358\n",
      "\n",
      "\n",
      "WLR-NC-T-CK-T\n",
      "clonotypes_num_greater_two :  91\n",
      "clonotypes_num_signle:  2\n",
      "clonotypes_num_TRA_TRB_pair :  83\n",
      "\n",
      "\n",
      "YSR-K-T-T\n",
      "clonotypes_num_greater_two :  84\n",
      "clonotypes_num_signle:  80\n",
      "clonotypes_num_TRA_TRB_pair :  209\n",
      "\n",
      "\n",
      "WLR-K-T-CK-T\n",
      "clonotypes_num_greater_two :  98\n",
      "clonotypes_num_signle:  6\n",
      "clonotypes_num_TRA_TRB_pair :  173\n",
      "\n",
      "\n"
     ]
    },
    {
     "name": "stderr",
     "output_type": "stream",
     "text": [
      "/Personal/chenjunjie/.local/lib/python3.7/site-packages/pandas/core/generic.py:5491: SettingWithCopyWarning: \n",
      "A value is trying to be set on a copy of a slice from a DataFrame.\n",
      "Try using .loc[row_indexer,col_indexer] = value instead\n",
      "\n",
      "See the caveats in the documentation: https://pandas.pydata.org/pandas-docs/stable/user_guide/indexing.html#returning-a-view-versus-a-copy\n",
      "  self[name] = value\n",
      "/Personal/chenjunjie/.local/lib/python3.7/site-packages/pandas/core/generic.py:5491: SettingWithCopyWarning: \n",
      "A value is trying to be set on a copy of a slice from a DataFrame.\n",
      "Try using .loc[row_indexer,col_indexer] = value instead\n",
      "\n",
      "See the caveats in the documentation: https://pandas.pydata.org/pandas-docs/stable/user_guide/indexing.html#returning-a-view-versus-a-copy\n",
      "  self[name] = value\n",
      "/Personal/chenjunjie/.local/lib/python3.7/site-packages/pandas/core/generic.py:5491: SettingWithCopyWarning: \n",
      "A value is trying to be set on a copy of a slice from a DataFrame.\n",
      "Try using .loc[row_indexer,col_indexer] = value instead\n",
      "\n",
      "See the caveats in the documentation: https://pandas.pydata.org/pandas-docs/stable/user_guide/indexing.html#returning-a-view-versus-a-copy\n",
      "  self[name] = value\n",
      "/Personal/chenjunjie/.local/lib/python3.7/site-packages/pandas/core/generic.py:5491: SettingWithCopyWarning: \n",
      "A value is trying to be set on a copy of a slice from a DataFrame.\n",
      "Try using .loc[row_indexer,col_indexer] = value instead\n",
      "\n",
      "See the caveats in the documentation: https://pandas.pydata.org/pandas-docs/stable/user_guide/indexing.html#returning-a-view-versus-a-copy\n",
      "  self[name] = value\n"
     ]
    }
   ],
   "source": [
    "for i in range(len(clonotypes_list)):\n",
    "    df = pd.read_csv(clonotypes_list[i])\n",
    "    clonotypes_num = df.shape[0]\n",
    "    df.cdr3s_aa = df.cdr3s_aa.apply(lambda x: x.split(';'))\n",
    "    clonotypes_num_greater_two = df[df[\"cdr3s_aa\"].str.len()>2].shape[0]\n",
    "    clonotypes_num_greater_signle = df[df[\"cdr3s_aa\"].str.len()==1].shape[0]\n",
    "    df_pair = df[df[\"cdr3s_aa\"].str.len()==2]\n",
    "    df_pair.cdr3s_aa = df_pair.cdr3s_aa.apply(lambda x: ';'.join(x))\n",
    "    clonotypes_num_greater_pair = df_pair[(df_pair[\"cdr3s_aa\"].str.contains(\"TRA\")) & (df_pair[\"cdr3s_aa\"].str.contains(\"TRB\"))].shape[0]\n",
    "    \n",
    "    print(sample_list[i])\n",
    "    print(\"clonotypes_num_greater_two : \" , clonotypes_num_greater_two)\n",
    "    print(\"clonotypes_num_signle: \" , clonotypes_num_greater_signle)\n",
    "    print(\"clonotypes_num_TRA_TRB_pair : \" , clonotypes_num_greater_pair)\n",
    "    print('\\n')"
   ]
  },
  {
   "cell_type": "code",
   "execution_count": 52,
   "id": "indirect-order",
   "metadata": {},
   "outputs": [
    {
     "data": {
      "text/html": [
       "<div>\n",
       "<style scoped>\n",
       "    .dataframe tbody tr th:only-of-type {\n",
       "        vertical-align: middle;\n",
       "    }\n",
       "\n",
       "    .dataframe tbody tr th {\n",
       "        vertical-align: top;\n",
       "    }\n",
       "\n",
       "    .dataframe thead th {\n",
       "        text-align: right;\n",
       "    }\n",
       "</style>\n",
       "<table border=\"1\" class=\"dataframe\">\n",
       "  <thead>\n",
       "    <tr style=\"text-align: right;\">\n",
       "      <th></th>\n",
       "      <th>clonotype_id</th>\n",
       "      <th>frequency</th>\n",
       "      <th>proportion</th>\n",
       "      <th>cdr3s_aa</th>\n",
       "      <th>cdr3s_nt</th>\n",
       "    </tr>\n",
       "  </thead>\n",
       "  <tbody>\n",
       "    <tr>\n",
       "      <th>0</th>\n",
       "      <td>clonotype1</td>\n",
       "      <td>606</td>\n",
       "      <td>0.190926</td>\n",
       "      <td>TRA:CAVRDSYSGAGSYQLTF;TRB:CASSAGERHSYEQYF</td>\n",
       "      <td>TRA:TGCGCTGTGAGAGATTCCTACTCTGGGGCTGGGAGTTACCAA...</td>\n",
       "    </tr>\n",
       "    <tr>\n",
       "      <th>3</th>\n",
       "      <td>clonotype4</td>\n",
       "      <td>54</td>\n",
       "      <td>0.017013</td>\n",
       "      <td>TRA:CAALPSGGSYIPTF;TRB:CASSAGERHSYEQYF</td>\n",
       "      <td>TRA:TGTGCAGCGCTCCCATCAGGAGGAAGCTACATACCTACATTT...</td>\n",
       "    </tr>\n",
       "    <tr>\n",
       "      <th>8</th>\n",
       "      <td>clonotype9</td>\n",
       "      <td>32</td>\n",
       "      <td>0.010082</td>\n",
       "      <td>TRA:CAALPSGGSYIPTF;TRB:CASSLGVFTEAFF</td>\n",
       "      <td>TRA:TGTGCAGCGCTCCCATCAGGAGGAAGCTACATACCTACATTT...</td>\n",
       "    </tr>\n",
       "    <tr>\n",
       "      <th>10</th>\n",
       "      <td>clonotype10</td>\n",
       "      <td>32</td>\n",
       "      <td>0.010082</td>\n",
       "      <td>TRA:CILRYDGGGADGLTF;TRB:CASSAGERHSYEQYF</td>\n",
       "      <td>TRA:TGCATCCTGAGATACGACGGAGGAGGTGCTGACGGACTCACC...</td>\n",
       "    </tr>\n",
       "    <tr>\n",
       "      <th>16</th>\n",
       "      <td>clonotype17</td>\n",
       "      <td>21</td>\n",
       "      <td>0.006616</td>\n",
       "      <td>TRA:CILRYDGGGADGLTF;TRB:CASSLFGLNTEAFF</td>\n",
       "      <td>TRA:TGCATCCTGAGATACGACGGAGGAGGTGCTGACGGACTCACC...</td>\n",
       "    </tr>\n",
       "    <tr>\n",
       "      <th>...</th>\n",
       "      <td>...</td>\n",
       "      <td>...</td>\n",
       "      <td>...</td>\n",
       "      <td>...</td>\n",
       "      <td>...</td>\n",
       "    </tr>\n",
       "    <tr>\n",
       "      <th>1090</th>\n",
       "      <td>clonotype411</td>\n",
       "      <td>1</td>\n",
       "      <td>0.000315</td>\n",
       "      <td>TRB:CSARDKGAVQETQYF;TRB:CASSPGDSIYEQYF</td>\n",
       "      <td>TRB:TGCAGTGCTAGAGATAAGGGTGCAGTCCAAGAGACCCAGTAC...</td>\n",
       "    </tr>\n",
       "    <tr>\n",
       "      <th>1091</th>\n",
       "      <td>clonotype412</td>\n",
       "      <td>1</td>\n",
       "      <td>0.000315</td>\n",
       "      <td>TRB:CASSAGERHSYGQYF;TRB:CASSLGLEAYEQYF</td>\n",
       "      <td>TRB:TGTGCCAGCAGCGCAGGGGAGCGTCATTCCTACGGGCAGTAC...</td>\n",
       "    </tr>\n",
       "    <tr>\n",
       "      <th>1092</th>\n",
       "      <td>clonotype413</td>\n",
       "      <td>1</td>\n",
       "      <td>0.000315</td>\n",
       "      <td>TRA:CAMSALNRDDKIIF;TRB:CASSAGERHSYEQYF</td>\n",
       "      <td>TRA:TGTGCAATGAGCGCGCTGAACAGAGATGACAAGATCATCTTT...</td>\n",
       "    </tr>\n",
       "    <tr>\n",
       "      <th>1094</th>\n",
       "      <td>clonotype1038</td>\n",
       "      <td>1</td>\n",
       "      <td>0.000315</td>\n",
       "      <td>TRA:CAMSALNRDDKIIF;TRB:CASSQEQRSSRNENLFF</td>\n",
       "      <td>TRA:TGTGCAATGAGCGCGCTGAACAGAGATGACAAGATCATCTTT...</td>\n",
       "    </tr>\n",
       "    <tr>\n",
       "      <th>1095</th>\n",
       "      <td>clonotype259</td>\n",
       "      <td>1</td>\n",
       "      <td>0.000315</td>\n",
       "      <td>TRA:CALRPPGSARQLTF;TRB:CATSVSSAGYNEQFF</td>\n",
       "      <td>TRA:TGTGCTCTGAGGCCCCCGGGTTCTGCAAGGCAACTGACCTTT...</td>\n",
       "    </tr>\n",
       "  </tbody>\n",
       "</table>\n",
       "<p>686 rows × 5 columns</p>\n",
       "</div>"
      ],
      "text/plain": [
       "       clonotype_id  frequency  proportion  \\\n",
       "0        clonotype1        606    0.190926   \n",
       "3        clonotype4         54    0.017013   \n",
       "8        clonotype9         32    0.010082   \n",
       "10      clonotype10         32    0.010082   \n",
       "16      clonotype17         21    0.006616   \n",
       "...             ...        ...         ...   \n",
       "1090   clonotype411          1    0.000315   \n",
       "1091   clonotype412          1    0.000315   \n",
       "1092   clonotype413          1    0.000315   \n",
       "1094  clonotype1038          1    0.000315   \n",
       "1095   clonotype259          1    0.000315   \n",
       "\n",
       "                                       cdr3s_aa  \\\n",
       "0     TRA:CAVRDSYSGAGSYQLTF;TRB:CASSAGERHSYEQYF   \n",
       "3        TRA:CAALPSGGSYIPTF;TRB:CASSAGERHSYEQYF   \n",
       "8          TRA:CAALPSGGSYIPTF;TRB:CASSLGVFTEAFF   \n",
       "10      TRA:CILRYDGGGADGLTF;TRB:CASSAGERHSYEQYF   \n",
       "16       TRA:CILRYDGGGADGLTF;TRB:CASSLFGLNTEAFF   \n",
       "...                                         ...   \n",
       "1090     TRB:CSARDKGAVQETQYF;TRB:CASSPGDSIYEQYF   \n",
       "1091     TRB:CASSAGERHSYGQYF;TRB:CASSLGLEAYEQYF   \n",
       "1092     TRA:CAMSALNRDDKIIF;TRB:CASSAGERHSYEQYF   \n",
       "1094   TRA:CAMSALNRDDKIIF;TRB:CASSQEQRSSRNENLFF   \n",
       "1095     TRA:CALRPPGSARQLTF;TRB:CATSVSSAGYNEQFF   \n",
       "\n",
       "                                               cdr3s_nt  \n",
       "0     TRA:TGCGCTGTGAGAGATTCCTACTCTGGGGCTGGGAGTTACCAA...  \n",
       "3     TRA:TGTGCAGCGCTCCCATCAGGAGGAAGCTACATACCTACATTT...  \n",
       "8     TRA:TGTGCAGCGCTCCCATCAGGAGGAAGCTACATACCTACATTT...  \n",
       "10    TRA:TGCATCCTGAGATACGACGGAGGAGGTGCTGACGGACTCACC...  \n",
       "16    TRA:TGCATCCTGAGATACGACGGAGGAGGTGCTGACGGACTCACC...  \n",
       "...                                                 ...  \n",
       "1090  TRB:TGCAGTGCTAGAGATAAGGGTGCAGTCCAAGAGACCCAGTAC...  \n",
       "1091  TRB:TGTGCCAGCAGCGCAGGGGAGCGTCATTCCTACGGGCAGTAC...  \n",
       "1092  TRA:TGTGCAATGAGCGCGCTGAACAGAGATGACAAGATCATCTTT...  \n",
       "1094  TRA:TGTGCAATGAGCGCGCTGAACAGAGATGACAAGATCATCTTT...  \n",
       "1095  TRA:TGTGCTCTGAGGCCCCCGGGTTCTGCAAGGCAACTGACCTTT...  \n",
       "\n",
       "[686 rows x 5 columns]"
      ]
     },
     "execution_count": 52,
     "metadata": {},
     "output_type": "execute_result"
    }
   ],
   "source": [
    "df_pair"
   ]
  },
  {
   "cell_type": "code",
   "execution_count": 39,
   "id": "universal-favorite",
   "metadata": {},
   "outputs": [],
   "source": [
    "dff = pd.read_csv(\"/SGRNJ06/randd/USER/cjj/celedev/vdj10x/20230220beida/cr3/WLR-T-T-T/04.summarize/clonotypes.csv\")"
   ]
  },
  {
   "cell_type": "code",
   "execution_count": 21,
   "id": "furnished-steal",
   "metadata": {},
   "outputs": [
    {
     "data": {
      "text/html": [
       "<div>\n",
       "<style scoped>\n",
       "    .dataframe tbody tr th:only-of-type {\n",
       "        vertical-align: middle;\n",
       "    }\n",
       "\n",
       "    .dataframe tbody tr th {\n",
       "        vertical-align: top;\n",
       "    }\n",
       "\n",
       "    .dataframe thead th {\n",
       "        text-align: right;\n",
       "    }\n",
       "</style>\n",
       "<table border=\"1\" class=\"dataframe\">\n",
       "  <thead>\n",
       "    <tr style=\"text-align: right;\">\n",
       "      <th></th>\n",
       "      <th>clonotype_id</th>\n",
       "      <th>frequency</th>\n",
       "      <th>proportion</th>\n",
       "      <th>cdr3s_aa</th>\n",
       "      <th>cdr3s_nt</th>\n",
       "    </tr>\n",
       "  </thead>\n",
       "  <tbody>\n",
       "    <tr>\n",
       "      <th>0</th>\n",
       "      <td>clonotype1</td>\n",
       "      <td>792</td>\n",
       "      <td>0.092502</td>\n",
       "      <td>TRB:CASSLALGVEQFF</td>\n",
       "      <td>TRB:TGTGCCAGCAGCTTAGCGCTAGGGGTTGAGCAGTTCTTC</td>\n",
       "    </tr>\n",
       "    <tr>\n",
       "      <th>1</th>\n",
       "      <td>clonotype2</td>\n",
       "      <td>414</td>\n",
       "      <td>0.048353</td>\n",
       "      <td>TRB:CASSLSGSGQWKQFF</td>\n",
       "      <td>TRB:TGTGCCAGCAGTTTATCCGGGTCGGGACAATGGAAGCAGTTCTTC</td>\n",
       "    </tr>\n",
       "    <tr>\n",
       "      <th>2</th>\n",
       "      <td>clonotype3</td>\n",
       "      <td>366</td>\n",
       "      <td>0.042747</td>\n",
       "      <td>TRA:CAMRTGKLIF;TRB:CASSLALGVEQFF</td>\n",
       "      <td>TRA:TGTGCAATGAGGACAGGCAAACTAATCTTT;TRB:TGTGCCA...</td>\n",
       "    </tr>\n",
       "    <tr>\n",
       "      <th>3</th>\n",
       "      <td>clonotype4</td>\n",
       "      <td>106</td>\n",
       "      <td>0.012380</td>\n",
       "      <td>TRB:CASSPHDGAEPYNEQFF</td>\n",
       "      <td>TRB:TGTGCCAGCAGTCCCCACGACGGGGCCGAACCCTACAATGAG...</td>\n",
       "    </tr>\n",
       "    <tr>\n",
       "      <th>4</th>\n",
       "      <td>clonotype5</td>\n",
       "      <td>88</td>\n",
       "      <td>0.010278</td>\n",
       "      <td>TRB:CASSLVLTHEQYF</td>\n",
       "      <td>TRB:TGTGCCAGCAGTTTAGTGTTGACCCACGAGCAGTACTTC</td>\n",
       "    </tr>\n",
       "    <tr>\n",
       "      <th>...</th>\n",
       "      <td>...</td>\n",
       "      <td>...</td>\n",
       "      <td>...</td>\n",
       "      <td>...</td>\n",
       "      <td>...</td>\n",
       "    </tr>\n",
       "    <tr>\n",
       "      <th>4710</th>\n",
       "      <td>clonotype2968</td>\n",
       "      <td>1</td>\n",
       "      <td>0.000117</td>\n",
       "      <td>TRA:CILRDVLSGTYKYIF;TRB:CASSLNSGRVTDTQYF</td>\n",
       "      <td>TRA:TGCATCCTGAGAGACGTGCTCTCAGGAACCTACAAATACATC...</td>\n",
       "    </tr>\n",
       "    <tr>\n",
       "      <th>4711</th>\n",
       "      <td>clonotype3424</td>\n",
       "      <td>1</td>\n",
       "      <td>0.000117</td>\n",
       "      <td>TRB:CSATNLAGRYEQYF;TRB:CASSLALGVEQFF;TRB:CASSL...</td>\n",
       "      <td>TRB:TGCAGTGCGACGAATCTAGCGGGCCGCTACGAGCAGTACTTC...</td>\n",
       "    </tr>\n",
       "    <tr>\n",
       "      <th>4712</th>\n",
       "      <td>clonotype1470</td>\n",
       "      <td>1</td>\n",
       "      <td>0.000117</td>\n",
       "      <td>TRA:CALRGYGGSQGNLIF;TRB:CASSLSGSGQWKQFF</td>\n",
       "      <td>TRA:TGTGCTCTGAGGGGTTATGGAGGAAGCCAAGGAAATCTCATC...</td>\n",
       "    </tr>\n",
       "    <tr>\n",
       "      <th>4713</th>\n",
       "      <td>clonotype1476</td>\n",
       "      <td>1</td>\n",
       "      <td>0.000117</td>\n",
       "      <td>TRA:CAGPTTDSWGKLQF;TRB:CSARDQDKKYGYTF;TRB:CASS...</td>\n",
       "      <td>TRA:TGTGCAGGCCCGACAACTGACAGCTGGGGGAAATTGCAGTTT...</td>\n",
       "    </tr>\n",
       "    <tr>\n",
       "      <th>4714</th>\n",
       "      <td>clonotype932</td>\n",
       "      <td>1</td>\n",
       "      <td>0.000117</td>\n",
       "      <td>TRB:CASSLLGQGVYNEQFF</td>\n",
       "      <td>TRB:TGTGCCAGCAGCTTGTTGGGACAGGGGGTCTACAATGAGCAG...</td>\n",
       "    </tr>\n",
       "  </tbody>\n",
       "</table>\n",
       "<p>4715 rows × 5 columns</p>\n",
       "</div>"
      ],
      "text/plain": [
       "       clonotype_id  frequency  proportion  \\\n",
       "0        clonotype1        792    0.092502   \n",
       "1        clonotype2        414    0.048353   \n",
       "2        clonotype3        366    0.042747   \n",
       "3        clonotype4        106    0.012380   \n",
       "4        clonotype5         88    0.010278   \n",
       "...             ...        ...         ...   \n",
       "4710  clonotype2968          1    0.000117   \n",
       "4711  clonotype3424          1    0.000117   \n",
       "4712  clonotype1470          1    0.000117   \n",
       "4713  clonotype1476          1    0.000117   \n",
       "4714   clonotype932          1    0.000117   \n",
       "\n",
       "                                               cdr3s_aa  \\\n",
       "0                                     TRB:CASSLALGVEQFF   \n",
       "1                                   TRB:CASSLSGSGQWKQFF   \n",
       "2                      TRA:CAMRTGKLIF;TRB:CASSLALGVEQFF   \n",
       "3                                 TRB:CASSPHDGAEPYNEQFF   \n",
       "4                                     TRB:CASSLVLTHEQYF   \n",
       "...                                                 ...   \n",
       "4710           TRA:CILRDVLSGTYKYIF;TRB:CASSLNSGRVTDTQYF   \n",
       "4711  TRB:CSATNLAGRYEQYF;TRB:CASSLALGVEQFF;TRB:CASSL...   \n",
       "4712            TRA:CALRGYGGSQGNLIF;TRB:CASSLSGSGQWKQFF   \n",
       "4713  TRA:CAGPTTDSWGKLQF;TRB:CSARDQDKKYGYTF;TRB:CASS...   \n",
       "4714                               TRB:CASSLLGQGVYNEQFF   \n",
       "\n",
       "                                               cdr3s_nt  \n",
       "0           TRB:TGTGCCAGCAGCTTAGCGCTAGGGGTTGAGCAGTTCTTC  \n",
       "1     TRB:TGTGCCAGCAGTTTATCCGGGTCGGGACAATGGAAGCAGTTCTTC  \n",
       "2     TRA:TGTGCAATGAGGACAGGCAAACTAATCTTT;TRB:TGTGCCA...  \n",
       "3     TRB:TGTGCCAGCAGTCCCCACGACGGGGCCGAACCCTACAATGAG...  \n",
       "4           TRB:TGTGCCAGCAGTTTAGTGTTGACCCACGAGCAGTACTTC  \n",
       "...                                                 ...  \n",
       "4710  TRA:TGCATCCTGAGAGACGTGCTCTCAGGAACCTACAAATACATC...  \n",
       "4711  TRB:TGCAGTGCGACGAATCTAGCGGGCCGCTACGAGCAGTACTTC...  \n",
       "4712  TRA:TGTGCTCTGAGGGGTTATGGAGGAAGCCAAGGAAATCTCATC...  \n",
       "4713  TRA:TGTGCAGGCCCGACAACTGACAGCTGGGGGAAATTGCAGTTT...  \n",
       "4714  TRB:TGTGCCAGCAGCTTGTTGGGACAGGGGGTCTACAATGAGCAG...  \n",
       "\n",
       "[4715 rows x 5 columns]"
      ]
     },
     "execution_count": 21,
     "metadata": {},
     "output_type": "execute_result"
    }
   ],
   "source": [
    "dff"
   ]
  },
  {
   "cell_type": "code",
   "execution_count": 23,
   "id": "official-electric",
   "metadata": {},
   "outputs": [],
   "source": [
    "dff.cdr3s_aa = dff.cdr3s_aa.apply(lambda x: x.split(';'))"
   ]
  },
  {
   "cell_type": "code",
   "execution_count": 35,
   "id": "crude-tumor",
   "metadata": {},
   "outputs": [
    {
     "data": {
      "text/plain": [
       "0       1\n",
       "1       1\n",
       "2       2\n",
       "3       1\n",
       "4       1\n",
       "       ..\n",
       "4710    2\n",
       "4711    3\n",
       "4712    2\n",
       "4713    4\n",
       "4714    1\n",
       "Name: cdr3s_aa, Length: 4715, dtype: int64"
      ]
     },
     "execution_count": 35,
     "metadata": {},
     "output_type": "execute_result"
    }
   ],
   "source": [
    "dff.cdr3s_aa.str.len()"
   ]
  },
  {
   "cell_type": "code",
   "execution_count": 40,
   "id": "annual-shadow",
   "metadata": {},
   "outputs": [
    {
     "ename": "AttributeError",
     "evalue": "'Series' object has no attribute 'contains'",
     "output_type": "error",
     "traceback": [
      "\u001b[0;31m---------------------------------------------------------------------------\u001b[0m",
      "\u001b[0;31mAttributeError\u001b[0m                            Traceback (most recent call last)",
      "\u001b[0;32m<ipython-input-40-e6b17a7f5fb7>\u001b[0m in \u001b[0;36m<module>\u001b[0;34m\u001b[0m\n\u001b[0;32m----> 1\u001b[0;31m \u001b[0mdff\u001b[0m\u001b[0;34m[\u001b[0m\u001b[0mdff\u001b[0m\u001b[0;34m[\u001b[0m\u001b[0;34m\"cdr3s_aa\"\u001b[0m\u001b[0;34m]\u001b[0m\u001b[0;34m.\u001b[0m\u001b[0mcontains\u001b[0m\u001b[0;34m(\u001b[0m\u001b[0;34m\"TRA\"\u001b[0m\u001b[0;34m)\u001b[0m\u001b[0;34m]\u001b[0m\u001b[0;34m\u001b[0m\u001b[0;34m\u001b[0m\u001b[0m\n\u001b[0m",
      "\u001b[0;32m~/.local/lib/python3.7/site-packages/pandas/core/generic.py\u001b[0m in \u001b[0;36m__getattr__\u001b[0;34m(self, name)\u001b[0m\n\u001b[1;32m   5460\u001b[0m             \u001b[0;32mif\u001b[0m \u001b[0mself\u001b[0m\u001b[0;34m.\u001b[0m\u001b[0m_info_axis\u001b[0m\u001b[0;34m.\u001b[0m\u001b[0m_can_hold_identifiers_and_holds_name\u001b[0m\u001b[0;34m(\u001b[0m\u001b[0mname\u001b[0m\u001b[0;34m)\u001b[0m\u001b[0;34m:\u001b[0m\u001b[0;34m\u001b[0m\u001b[0;34m\u001b[0m\u001b[0m\n\u001b[1;32m   5461\u001b[0m                 \u001b[0;32mreturn\u001b[0m \u001b[0mself\u001b[0m\u001b[0;34m[\u001b[0m\u001b[0mname\u001b[0m\u001b[0;34m]\u001b[0m\u001b[0;34m\u001b[0m\u001b[0;34m\u001b[0m\u001b[0m\n\u001b[0;32m-> 5462\u001b[0;31m             \u001b[0;32mreturn\u001b[0m \u001b[0mobject\u001b[0m\u001b[0;34m.\u001b[0m\u001b[0m__getattribute__\u001b[0m\u001b[0;34m(\u001b[0m\u001b[0mself\u001b[0m\u001b[0;34m,\u001b[0m \u001b[0mname\u001b[0m\u001b[0;34m)\u001b[0m\u001b[0;34m\u001b[0m\u001b[0;34m\u001b[0m\u001b[0m\n\u001b[0m\u001b[1;32m   5463\u001b[0m \u001b[0;34m\u001b[0m\u001b[0m\n\u001b[1;32m   5464\u001b[0m     \u001b[0;32mdef\u001b[0m \u001b[0m__setattr__\u001b[0m\u001b[0;34m(\u001b[0m\u001b[0mself\u001b[0m\u001b[0;34m,\u001b[0m \u001b[0mname\u001b[0m\u001b[0;34m:\u001b[0m \u001b[0mstr\u001b[0m\u001b[0;34m,\u001b[0m \u001b[0mvalue\u001b[0m\u001b[0;34m)\u001b[0m \u001b[0;34m->\u001b[0m \u001b[0;32mNone\u001b[0m\u001b[0;34m:\u001b[0m\u001b[0;34m\u001b[0m\u001b[0;34m\u001b[0m\u001b[0m\n",
      "\u001b[0;31mAttributeError\u001b[0m: 'Series' object has no attribute 'contains'"
     ]
    }
   ],
   "source": [
    "dff[dff[\"cdr3s_aa\"].contains(\"TRA\")]"
   ]
  },
  {
   "cell_type": "code",
   "execution_count": 41,
   "id": "ranking-tournament",
   "metadata": {},
   "outputs": [],
   "source": [
    "dff.cdr3s_aa = dff.cdr3s_aa.apply(lambda x: ';'.join(x))"
   ]
  },
  {
   "cell_type": "code",
   "execution_count": 42,
   "id": "flying-rebate",
   "metadata": {},
   "outputs": [
    {
     "data": {
      "text/html": [
       "<div>\n",
       "<style scoped>\n",
       "    .dataframe tbody tr th:only-of-type {\n",
       "        vertical-align: middle;\n",
       "    }\n",
       "\n",
       "    .dataframe tbody tr th {\n",
       "        vertical-align: top;\n",
       "    }\n",
       "\n",
       "    .dataframe thead th {\n",
       "        text-align: right;\n",
       "    }\n",
       "</style>\n",
       "<table border=\"1\" class=\"dataframe\">\n",
       "  <thead>\n",
       "    <tr style=\"text-align: right;\">\n",
       "      <th></th>\n",
       "      <th>clonotype_id</th>\n",
       "      <th>frequency</th>\n",
       "      <th>proportion</th>\n",
       "      <th>cdr3s_aa</th>\n",
       "      <th>cdr3s_nt</th>\n",
       "    </tr>\n",
       "  </thead>\n",
       "  <tbody>\n",
       "    <tr>\n",
       "      <th>0</th>\n",
       "      <td>clonotype1</td>\n",
       "      <td>792</td>\n",
       "      <td>0.092502</td>\n",
       "      <td>TRB:CASSLALGVEQFF</td>\n",
       "      <td>TRB:TGTGCCAGCAGCTTAGCGCTAGGGGTTGAGCAGTTCTTC</td>\n",
       "    </tr>\n",
       "    <tr>\n",
       "      <th>1</th>\n",
       "      <td>clonotype2</td>\n",
       "      <td>414</td>\n",
       "      <td>0.048353</td>\n",
       "      <td>TRB:CASSLSGSGQWKQFF</td>\n",
       "      <td>TRB:TGTGCCAGCAGTTTATCCGGGTCGGGACAATGGAAGCAGTTCTTC</td>\n",
       "    </tr>\n",
       "    <tr>\n",
       "      <th>2</th>\n",
       "      <td>clonotype3</td>\n",
       "      <td>366</td>\n",
       "      <td>0.042747</td>\n",
       "      <td>TRA:CAMRTGKLIF;TRB:CASSLALGVEQFF</td>\n",
       "      <td>TRA:TGTGCAATGAGGACAGGCAAACTAATCTTT;TRB:TGTGCCA...</td>\n",
       "    </tr>\n",
       "    <tr>\n",
       "      <th>3</th>\n",
       "      <td>clonotype4</td>\n",
       "      <td>106</td>\n",
       "      <td>0.012380</td>\n",
       "      <td>TRB:CASSPHDGAEPYNEQFF</td>\n",
       "      <td>TRB:TGTGCCAGCAGTCCCCACGACGGGGCCGAACCCTACAATGAG...</td>\n",
       "    </tr>\n",
       "    <tr>\n",
       "      <th>4</th>\n",
       "      <td>clonotype5</td>\n",
       "      <td>88</td>\n",
       "      <td>0.010278</td>\n",
       "      <td>TRB:CASSLVLTHEQYF</td>\n",
       "      <td>TRB:TGTGCCAGCAGTTTAGTGTTGACCCACGAGCAGTACTTC</td>\n",
       "    </tr>\n",
       "    <tr>\n",
       "      <th>...</th>\n",
       "      <td>...</td>\n",
       "      <td>...</td>\n",
       "      <td>...</td>\n",
       "      <td>...</td>\n",
       "      <td>...</td>\n",
       "    </tr>\n",
       "    <tr>\n",
       "      <th>4710</th>\n",
       "      <td>clonotype2968</td>\n",
       "      <td>1</td>\n",
       "      <td>0.000117</td>\n",
       "      <td>TRA:CILRDVLSGTYKYIF;TRB:CASSLNSGRVTDTQYF</td>\n",
       "      <td>TRA:TGCATCCTGAGAGACGTGCTCTCAGGAACCTACAAATACATC...</td>\n",
       "    </tr>\n",
       "    <tr>\n",
       "      <th>4711</th>\n",
       "      <td>clonotype3424</td>\n",
       "      <td>1</td>\n",
       "      <td>0.000117</td>\n",
       "      <td>TRB:CSATNLAGRYEQYF;TRB:CASSLALGVEQFF;TRB:CASSL...</td>\n",
       "      <td>TRB:TGCAGTGCGACGAATCTAGCGGGCCGCTACGAGCAGTACTTC...</td>\n",
       "    </tr>\n",
       "    <tr>\n",
       "      <th>4712</th>\n",
       "      <td>clonotype1470</td>\n",
       "      <td>1</td>\n",
       "      <td>0.000117</td>\n",
       "      <td>TRA:CALRGYGGSQGNLIF;TRB:CASSLSGSGQWKQFF</td>\n",
       "      <td>TRA:TGTGCTCTGAGGGGTTATGGAGGAAGCCAAGGAAATCTCATC...</td>\n",
       "    </tr>\n",
       "    <tr>\n",
       "      <th>4713</th>\n",
       "      <td>clonotype1476</td>\n",
       "      <td>1</td>\n",
       "      <td>0.000117</td>\n",
       "      <td>TRA:CAGPTTDSWGKLQF;TRB:CSARDQDKKYGYTF;TRB:CASS...</td>\n",
       "      <td>TRA:TGTGCAGGCCCGACAACTGACAGCTGGGGGAAATTGCAGTTT...</td>\n",
       "    </tr>\n",
       "    <tr>\n",
       "      <th>4714</th>\n",
       "      <td>clonotype932</td>\n",
       "      <td>1</td>\n",
       "      <td>0.000117</td>\n",
       "      <td>TRB:CASSLLGQGVYNEQFF</td>\n",
       "      <td>TRB:TGTGCCAGCAGCTTGTTGGGACAGGGGGTCTACAATGAGCAG...</td>\n",
       "    </tr>\n",
       "  </tbody>\n",
       "</table>\n",
       "<p>4715 rows × 5 columns</p>\n",
       "</div>"
      ],
      "text/plain": [
       "       clonotype_id  frequency  proportion  \\\n",
       "0        clonotype1        792    0.092502   \n",
       "1        clonotype2        414    0.048353   \n",
       "2        clonotype3        366    0.042747   \n",
       "3        clonotype4        106    0.012380   \n",
       "4        clonotype5         88    0.010278   \n",
       "...             ...        ...         ...   \n",
       "4710  clonotype2968          1    0.000117   \n",
       "4711  clonotype3424          1    0.000117   \n",
       "4712  clonotype1470          1    0.000117   \n",
       "4713  clonotype1476          1    0.000117   \n",
       "4714   clonotype932          1    0.000117   \n",
       "\n",
       "                                               cdr3s_aa  \\\n",
       "0                                     TRB:CASSLALGVEQFF   \n",
       "1                                   TRB:CASSLSGSGQWKQFF   \n",
       "2                      TRA:CAMRTGKLIF;TRB:CASSLALGVEQFF   \n",
       "3                                 TRB:CASSPHDGAEPYNEQFF   \n",
       "4                                     TRB:CASSLVLTHEQYF   \n",
       "...                                                 ...   \n",
       "4710           TRA:CILRDVLSGTYKYIF;TRB:CASSLNSGRVTDTQYF   \n",
       "4711  TRB:CSATNLAGRYEQYF;TRB:CASSLALGVEQFF;TRB:CASSL...   \n",
       "4712            TRA:CALRGYGGSQGNLIF;TRB:CASSLSGSGQWKQFF   \n",
       "4713  TRA:CAGPTTDSWGKLQF;TRB:CSARDQDKKYGYTF;TRB:CASS...   \n",
       "4714                               TRB:CASSLLGQGVYNEQFF   \n",
       "\n",
       "                                               cdr3s_nt  \n",
       "0           TRB:TGTGCCAGCAGCTTAGCGCTAGGGGTTGAGCAGTTCTTC  \n",
       "1     TRB:TGTGCCAGCAGTTTATCCGGGTCGGGACAATGGAAGCAGTTCTTC  \n",
       "2     TRA:TGTGCAATGAGGACAGGCAAACTAATCTTT;TRB:TGTGCCA...  \n",
       "3     TRB:TGTGCCAGCAGTCCCCACGACGGGGCCGAACCCTACAATGAG...  \n",
       "4           TRB:TGTGCCAGCAGTTTAGTGTTGACCCACGAGCAGTACTTC  \n",
       "...                                                 ...  \n",
       "4710  TRA:TGCATCCTGAGAGACGTGCTCTCAGGAACCTACAAATACATC...  \n",
       "4711  TRB:TGCAGTGCGACGAATCTAGCGGGCCGCTACGAGCAGTACTTC...  \n",
       "4712  TRA:TGTGCTCTGAGGGGTTATGGAGGAAGCCAAGGAAATCTCATC...  \n",
       "4713  TRA:TGTGCAGGCCCGACAACTGACAGCTGGGGGAAATTGCAGTTT...  \n",
       "4714  TRB:TGTGCCAGCAGCTTGTTGGGACAGGGGGTCTACAATGAGCAG...  \n",
       "\n",
       "[4715 rows x 5 columns]"
      ]
     },
     "execution_count": 42,
     "metadata": {},
     "output_type": "execute_result"
    }
   ],
   "source": [
    "dff"
   ]
  },
  {
   "cell_type": "code",
   "execution_count": null,
   "id": "virtual-enzyme",
   "metadata": {},
   "outputs": [],
   "source": []
  }
 ],
 "metadata": {
  "kernelspec": {
   "display_name": "Python 3 (ipykernel)",
   "language": "python",
   "name": "python3"
  },
  "language_info": {
   "codemirror_mode": {
    "name": "ipython",
    "version": 3
   },
   "file_extension": ".py",
   "mimetype": "text/x-python",
   "name": "python",
   "nbconvert_exporter": "python",
   "pygments_lexer": "ipython3",
   "version": "3.7.10"
  }
 },
 "nbformat": 4,
 "nbformat_minor": 5
}
