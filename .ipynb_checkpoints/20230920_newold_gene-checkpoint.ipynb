{
 "cells": [
  {
   "cell_type": "code",
   "execution_count": 8,
   "id": "successful-battery",
   "metadata": {},
   "outputs": [],
   "source": [
    "import pandas as pd \n",
    "import os "
   ]
  },
  {
   "cell_type": "code",
   "execution_count": 10,
   "id": "embedded-edwards",
   "metadata": {},
   "outputs": [],
   "source": [
    "files = os.listdir(\"/SGRNJ06/randd/PROJECT/StandardAnalysis/20230904/new_old_count/result\")"
   ]
  },
  {
   "cell_type": "code",
   "execution_count": 11,
   "id": "vocational-oregon",
   "metadata": {},
   "outputs": [],
   "source": [
    "files.sort()"
   ]
  },
  {
   "cell_type": "code",
   "execution_count": 17,
   "id": "touched-board",
   "metadata": {},
   "outputs": [
    {
     "data": {
      "text/plain": [
       "['1_dyna.new.counts.txt',\n",
       " '1_dyna.old.counts.txt',\n",
       " '2_dyna.new.counts.txt',\n",
       " '2_dyna.old.counts.txt',\n",
       " '3_dyna.new.counts.txt',\n",
       " '3_dyna.old.counts.txt',\n",
       " '4_dyna.new.counts.txt',\n",
       " '4_dyna.old.counts.txt',\n",
       " '5_dyna.new.counts.txt',\n",
       " '5_dyna.old.counts.txt',\n",
       " '6_dyna.new.counts.txt',\n",
       " '6_dyna.old.counts.txt']"
      ]
     },
     "execution_count": 17,
     "metadata": {},
     "output_type": "execute_result"
    }
   ],
   "source": [
    "files"
   ]
  },
  {
   "cell_type": "code",
   "execution_count": 18,
   "id": "growing-brooks",
   "metadata": {},
   "outputs": [],
   "source": [
    "samples = [i.split('.')[0] for i in files]"
   ]
  },
  {
   "cell_type": "code",
   "execution_count": 19,
   "id": "dimensional-norfolk",
   "metadata": {},
   "outputs": [
    {
     "data": {
      "text/plain": [
       "['1_dyna',\n",
       " '1_dyna',\n",
       " '2_dyna',\n",
       " '2_dyna',\n",
       " '3_dyna',\n",
       " '3_dyna',\n",
       " '4_dyna',\n",
       " '4_dyna',\n",
       " '5_dyna',\n",
       " '5_dyna',\n",
       " '6_dyna',\n",
       " '6_dyna']"
      ]
     },
     "execution_count": 19,
     "metadata": {},
     "output_type": "execute_result"
    }
   ],
   "source": [
    "samples"
   ]
  },
  {
   "cell_type": "code",
   "execution_count": 20,
   "id": "sonic-pasta",
   "metadata": {},
   "outputs": [],
   "source": [
    "files = [f\"/SGRNJ06/randd/PROJECT/StandardAnalysis/20230904/new_old_count/result/{i}\" for i in files]"
   ]
  },
  {
   "cell_type": "code",
   "execution_count": 21,
   "id": "arranged-armor",
   "metadata": {},
   "outputs": [
    {
     "data": {
      "text/plain": [
       "['/SGRNJ06/randd/PROJECT/StandardAnalysis/20230904/new_old_count/result/1_dyna.new.counts.txt',\n",
       " '/SGRNJ06/randd/PROJECT/StandardAnalysis/20230904/new_old_count/result/1_dyna.old.counts.txt',\n",
       " '/SGRNJ06/randd/PROJECT/StandardAnalysis/20230904/new_old_count/result/2_dyna.new.counts.txt',\n",
       " '/SGRNJ06/randd/PROJECT/StandardAnalysis/20230904/new_old_count/result/2_dyna.old.counts.txt',\n",
       " '/SGRNJ06/randd/PROJECT/StandardAnalysis/20230904/new_old_count/result/3_dyna.new.counts.txt',\n",
       " '/SGRNJ06/randd/PROJECT/StandardAnalysis/20230904/new_old_count/result/3_dyna.old.counts.txt',\n",
       " '/SGRNJ06/randd/PROJECT/StandardAnalysis/20230904/new_old_count/result/4_dyna.new.counts.txt',\n",
       " '/SGRNJ06/randd/PROJECT/StandardAnalysis/20230904/new_old_count/result/4_dyna.old.counts.txt',\n",
       " '/SGRNJ06/randd/PROJECT/StandardAnalysis/20230904/new_old_count/result/5_dyna.new.counts.txt',\n",
       " '/SGRNJ06/randd/PROJECT/StandardAnalysis/20230904/new_old_count/result/5_dyna.old.counts.txt',\n",
       " '/SGRNJ06/randd/PROJECT/StandardAnalysis/20230904/new_old_count/result/6_dyna.new.counts.txt',\n",
       " '/SGRNJ06/randd/PROJECT/StandardAnalysis/20230904/new_old_count/result/6_dyna.old.counts.txt']"
      ]
     },
     "execution_count": 21,
     "metadata": {},
     "output_type": "execute_result"
    }
   ],
   "source": [
    "files"
   ]
  },
  {
   "cell_type": "code",
   "execution_count": 28,
   "id": "exciting-advance",
   "metadata": {},
   "outputs": [],
   "source": [
    "for i in files:\n",
    "    df = pd.read_csv(i, sep='\\t')\n",
    "    sample = '_'.join(i.split('/')[-1].split('.')[0:2])\n",
    "    df.sort_values(\"Counts\", ascending=False).head(2000).to_csv(f\"/SGRNJ06/randd/USER/cjj/celedev/rna/20230920gene_exp/{sample}.txt\", sep='\\t')"
   ]
  },
  {
   "cell_type": "code",
   "execution_count": null,
   "id": "alleged-berlin",
   "metadata": {},
   "outputs": [],
   "source": []
  },
  {
   "cell_type": "code",
   "execution_count": 59,
   "id": "aboriginal-israeli",
   "metadata": {},
   "outputs": [],
   "source": [
    "df_old = pd.read_csv(\"/SGRNJ06/randd/USER/cjj/celedev/rna/20230920gene_exp/6_dyna_old.txt\", sep='\\t')\n",
    "df_new = pd.read_csv(\"/SGRNJ06/randd/USER/cjj/celedev/rna/20230920gene_exp/6_dyna_new.txt\", sep='\\t')"
   ]
  },
  {
   "cell_type": "code",
   "execution_count": 60,
   "id": "coated-freight",
   "metadata": {},
   "outputs": [],
   "source": [
    "df_old = df_old.rename(columns={\"Unnamed: 0\": \"gene\"})\n",
    "df_new = df_new.rename(columns={\"Unnamed: 0\": \"gene\"})"
   ]
  },
  {
   "cell_type": "code",
   "execution_count": 61,
   "id": "coupled-minneapolis",
   "metadata": {},
   "outputs": [],
   "source": [
    "pd.merge(df_old, df_new, on = \"gene\", suffixes=['_old','_new']).to_csv(\"/SGRNJ06/randd/USER/cjj/celedev/rna/20230920gene_exp/6_dyna_merge.txt\", sep='\\t')"
   ]
  },
  {
   "cell_type": "code",
   "execution_count": null,
   "id": "grave-ecology",
   "metadata": {},
   "outputs": [],
   "source": []
  },
  {
   "cell_type": "code",
   "execution_count": null,
   "id": "manufactured-providence",
   "metadata": {},
   "outputs": [],
   "source": []
  }
 ],
 "metadata": {
  "kernelspec": {
   "display_name": "trust4_1.7",
   "language": "python",
   "name": "trust4_1.7"
  },
  "language_info": {
   "codemirror_mode": {
    "name": "ipython",
    "version": 3
   },
   "file_extension": ".py",
   "mimetype": "text/x-python",
   "name": "python",
   "nbconvert_exporter": "python",
   "pygments_lexer": "ipython3",
   "version": "3.7.10"
  }
 },
 "nbformat": 4,
 "nbformat_minor": 5
}
