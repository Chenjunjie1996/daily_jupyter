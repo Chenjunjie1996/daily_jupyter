{
 "cells": [
  {
   "cell_type": "code",
   "execution_count": null,
   "id": "continental-blink",
   "metadata": {},
   "outputs": [],
   "source": [
    "suppressWarnings(suppressMessages({\n",
    "    library(Signac)\n",
    "    library(Seurat)\n",
    "    library(EnsDb.Mmusculus.v79)\n",
    "    library(Signac)\n",
    "    library(Seurat)\n",
    "    library(GenomicRanges)\n",
    "    library(future)\n",
    "    library(ggplot2)\n",
    "}))"
   ]
  },
  {
   "cell_type": "code",
   "execution_count": null,
   "id": "imperial-facial",
   "metadata": {},
   "outputs": [],
   "source": [
    "counts <- Read10X_h5(\"/SGRNJ06/randd/PROJECT/scATAC/project/self_pipe/P23121502_zhongshan/20240102/C57_MK_X1/outs/C57_MK_X1_filtered_peak_count.h5\")\n",
    "metadata <- read.csv(\n",
    "  file = \"/SGRNJ06/randd/PROJECT/scATAC/project/self_pipe/P23121502_zhongshan/20240102/C57_MK_X1/outs/cell_qc_metrics.tsv\",\n",
    "  header = TRUE,\n",
    "  row.names = 1,\n",
    "  sep='\\t'\n",
    ")\n",
    "\n",
    "brain_assay <- CreateChromatinAssay(\n",
    "  counts = counts,\n",
    "  sep = c(\"_\", \"_\"),\n",
    "  # genome = \"mm10\",\n",
    "  fragments = '/SGRNJ06/randd/PROJECT/scATAC/project/self_pipe/P23121502_zhongshan/20240102/C57_MK_X1/02.atac/Result/Mapping/C57_MK_X1/fragments_corrected_dedup_count.tsv.gz',\n",
    ")"
   ]
  },
  {
   "cell_type": "code",
   "execution_count": null,
   "id": "configured-workplace",
   "metadata": {},
   "outputs": [],
   "source": [
    "brain <- CreateSeuratObject(\n",
    "  counts = brain_assay,\n",
    "  assay = 'peaks',\n",
    "  project = 'ATAC',\n",
    "  meta.data = metadata\n",
    ")"
   ]
  },
  {
   "cell_type": "code",
   "execution_count": null,
   "id": "instant-appliance",
   "metadata": {},
   "outputs": [],
   "source": [
    "# extract gene annotations from EnsDb\n",
    "annotations <- GetGRangesFromEnsDb(ensdb = EnsDb.Mmusculus.v79)\n",
    "\n",
    "# change to UCSC style since the data was mapped to hg19\n",
    "seqlevels(annotations) <- paste0('chr', seqlevels(annotations))\n",
    "genome(annotations) <- \"mm10\"\n",
    "\n",
    "# add the gene information to the object\n",
    "Annotation(brain) <- annotations"
   ]
  },
  {
   "cell_type": "code",
   "execution_count": null,
   "id": "subject-herald",
   "metadata": {},
   "outputs": [],
   "source": [
    "brain <- NucleosomeSignal(object = brain)"
   ]
  },
  {
   "cell_type": "code",
   "execution_count": null,
   "id": "descending-julian",
   "metadata": {},
   "outputs": [],
   "source": [
    "brain <- TSSEnrichment(brain, fast = FALSE)"
   ]
  },
  {
   "cell_type": "code",
   "execution_count": null,
   "id": "vocal-moore",
   "metadata": {},
   "outputs": [],
   "source": [
    "brain$high.tss <- ifelse(brain$TSS.enrichment > 2, 'High', 'Low')\n",
    "TSSPlot(brain, group.by = 'high.tss') + NoLegend() + ggtitle(\"Enrichment around TSS\")"
   ]
  },
  {
   "cell_type": "code",
   "execution_count": null,
   "id": "severe-coating",
   "metadata": {},
   "outputs": [],
   "source": [
    "TSSPlot(brain) + NoLegend() + ggtitle(\"Enrichment around TSS\")"
   ]
  },
  {
   "cell_type": "code",
   "execution_count": null,
   "id": "received-monthly",
   "metadata": {},
   "outputs": [],
   "source": [
    "p = TSSPlot(brain) + NoLegend() + ggtitle(\"Enrichment around TSS\")"
   ]
  },
  {
   "cell_type": "code",
   "execution_count": null,
   "id": "eleven-scientist",
   "metadata": {},
   "outputs": [],
   "source": [
    "ggsave(filename = \"/SGRNJ06/randd/USER/cjj/celedev/atac/MAESTRO/test/20240307tssplot/C57_MK_X1.png\", height = 7, width = 7, plot = p)"
   ]
  },
  {
   "cell_type": "code",
   "execution_count": null,
   "id": "split-graphic",
   "metadata": {},
   "outputs": [],
   "source": [
    "df = as.data.frame(brain@assays$peaks@positionEnrichment)"
   ]
  },
  {
   "cell_type": "code",
   "execution_count": null,
   "id": "sporting-james",
   "metadata": {},
   "outputs": [],
   "source": [
    "max(colMeans(df))"
   ]
  },
  {
   "cell_type": "code",
   "execution_count": null,
   "id": "placed-emission",
   "metadata": {},
   "outputs": [],
   "source": [
    "df"
   ]
  },
  {
   "cell_type": "code",
   "execution_count": null,
   "id": "continental-pixel",
   "metadata": {},
   "outputs": [],
   "source": [
    "write.csv(df, \"/SGRNJ06/randd/USER/cjj/celedev/atac/MAESTRO/test/20240326tss/tss.csv\", quote=FALSE, row.names=FALSE) "
   ]
  },
  {
   "cell_type": "code",
   "execution_count": null,
   "id": "medieval-sacramento",
   "metadata": {},
   "outputs": [],
   "source": []
  },
  {
   "cell_type": "code",
   "execution_count": 1,
   "id": "micro-creature",
   "metadata": {},
   "outputs": [],
   "source": [
    "# 人\n",
    "suppressWarnings(suppressMessages({\n",
    "    library(Signac)\n",
    "    library(Seurat)\n",
    "    library(EnsDb.Mmusculus.v79)\n",
    "    #library(EnsDb.Hsapiens.v86)\n",
    "    library(GenomicRanges)\n",
    "    library(future)\n",
    "    library(ggplot2)\n",
    "}))"
   ]
  },
  {
   "cell_type": "code",
   "execution_count": 7,
   "id": "comprehensive-collection",
   "metadata": {},
   "outputs": [
    {
     "data": {
      "text/html": [
       "<table class=\"dataframe\">\n",
       "<caption>A data.frame: 1 × 6</caption>\n",
       "<thead>\n",
       "\t<tr><th></th><th scope=col>fragments</th><th scope=col>overlap_promoter</th><th scope=col>frac_promoter</th><th scope=col>overlap_peaks</th><th scope=col>frac_peak</th><th scope=col>cell_called</th></tr>\n",
       "\t<tr><th></th><th scope=col>&lt;int&gt;</th><th scope=col>&lt;int&gt;</th><th scope=col>&lt;dbl&gt;</th><th scope=col>&lt;int&gt;</th><th scope=col>&lt;dbl&gt;</th><th scope=col>&lt;chr&gt;</th></tr>\n",
       "</thead>\n",
       "<tbody>\n",
       "\t<tr><th scope=row>AACAATAACGTCTCCAAGGA</th><td>40524464</td><td>18452810</td><td>0.4553</td><td>19959889</td><td>0.4925</td><td>True</td></tr>\n",
       "</tbody>\n",
       "</table>\n"
      ],
      "text/latex": [
       "A data.frame: 1 × 6\n",
       "\\begin{tabular}{r|llllll}\n",
       "  & fragments & overlap\\_promoter & frac\\_promoter & overlap\\_peaks & frac\\_peak & cell\\_called\\\\\n",
       "  & <int> & <int> & <dbl> & <int> & <dbl> & <chr>\\\\\n",
       "\\hline\n",
       "\tAACAATAACGTCTCCAAGGA & 40524464 & 18452810 & 0.4553 & 19959889 & 0.4925 & True\\\\\n",
       "\\end{tabular}\n"
      ],
      "text/markdown": [
       "\n",
       "A data.frame: 1 × 6\n",
       "\n",
       "| <!--/--> | fragments &lt;int&gt; | overlap_promoter &lt;int&gt; | frac_promoter &lt;dbl&gt; | overlap_peaks &lt;int&gt; | frac_peak &lt;dbl&gt; | cell_called &lt;chr&gt; |\n",
       "|---|---|---|---|---|---|---|\n",
       "| AACAATAACGTCTCCAAGGA | 40524464 | 18452810 | 0.4553 | 19959889 | 0.4925 | True |\n",
       "\n"
      ],
      "text/plain": [
       "                     fragments overlap_promoter frac_promoter overlap_peaks\n",
       "AACAATAACGTCTCCAAGGA 40524464  18452810         0.4553        19959889     \n",
       "                     frac_peak cell_called\n",
       "AACAATAACGTCTCCAAGGA 0.4925    True       "
      ]
     },
     "metadata": {},
     "output_type": "display_data"
    }
   ],
   "source": [
    "metadata"
   ]
  },
  {
   "cell_type": "code",
   "execution_count": 10,
   "id": "ambient-stream",
   "metadata": {},
   "outputs": [
    {
     "ename": "ERROR",
     "evalue": "Error in if (ncol(x = data.use) == 0) {: argument is of length zero\n",
     "output_type": "error",
     "traceback": [
      "Error in if (ncol(x = data.use) == 0) {: argument is of length zero\nTraceback:\n",
      "1. CreateChromatinAssay(counts = counts, sep = c(\"_\", \"_\"), fragments = \"/SGRNJ06/randd/USER/cjj/celedev/atac/MAESTRO/test/20240305bulk/CCRF/02.atac/fragments_corrected_dedup_count.tsv.gz\", \n .     )"
     ]
    }
   ],
   "source": [
    "counts <- Read10X_h5(\"/SGRNJ06/randd/USER/cjj/celedev/atac/MAESTRO/test/20240402bulk/te/MAESTRO/CCRF_filtered_peak_count.h5\")\n",
    "metadata <- read.csv(\n",
    "  file = \"/SGRNJ06/randd/USER/cjj/celedev/atac/MAESTRO/test/20240402bulk/CCRF/02.atac/cell_qc_metrics.tsv\",\n",
    "  header = TRUE,\n",
    "  row.names = 1,\n",
    "  sep='\\t'\n",
    ")\n",
    "brain_assay <- CreateChromatinAssay(\n",
    "  counts = counts,\n",
    "  sep = c(\"_\", \"_\"),\n",
    "  fragments = '/SGRNJ06/randd/USER/cjj/celedev/atac/MAESTRO/test/20240305bulk/CCRF/02.atac/fragments_corrected_dedup_count.tsv.gz',\n",
    ")"
   ]
  },
  {
   "cell_type": "code",
   "execution_count": null,
   "id": "rubber-shock",
   "metadata": {},
   "outputs": [],
   "source": [
    "brain <- CreateSeuratObject(\n",
    "  counts = brain_assay,\n",
    "  assay = 'peaks',\n",
    "  project = 'ATAC',\n",
    "  meta.data = metadata\n",
    ")"
   ]
  },
  {
   "cell_type": "code",
   "execution_count": null,
   "id": "planned-demographic",
   "metadata": {},
   "outputs": [],
   "source": [
    "# extract gene annotations from EnsDb\n",
    "annotations <- GetGRangesFromEnsDb(ensdb = EnsDb.Hsapiens.v86)\n",
    "\n",
    "# change to UCSC style since the data was mapped to hg19\n",
    "seqlevels(annotations) <- paste0('chr', seqlevels(annotations))\n",
    "genome(annotations) <- \"hg38\"\n",
    "\n",
    "# add the gene information to the object\n",
    "Annotation(brain) <- annotations"
   ]
  },
  {
   "cell_type": "code",
   "execution_count": null,
   "id": "excessive-dispute",
   "metadata": {},
   "outputs": [],
   "source": [
    "brain <- NucleosomeSignal(object = brain)"
   ]
  },
  {
   "cell_type": "code",
   "execution_count": null,
   "id": "injured-guest",
   "metadata": {},
   "outputs": [],
   "source": [
    "brain <- TSSEnrichment(brain, fast = FALSE)"
   ]
  },
  {
   "cell_type": "code",
   "execution_count": null,
   "id": "designed-scene",
   "metadata": {},
   "outputs": [],
   "source": [
    "brain$high.tss <- ifelse(brain$TSS.enrichment > 3, 'High', 'Low')\n",
    "TSSPlot(brain, group.by = 'high.tss') + NoLegend() + ggtitle(\"Enrichment around TSS\")"
   ]
  },
  {
   "cell_type": "code",
   "execution_count": null,
   "id": "harmful-florist",
   "metadata": {},
   "outputs": [],
   "source": [
    "TSSPlot(brain) + NoLegend() + ggtitle(\"Enrichment around TSS\")"
   ]
  },
  {
   "cell_type": "code",
   "execution_count": null,
   "id": "comic-junior",
   "metadata": {},
   "outputs": [],
   "source": [
    "p = TSSPlot(brain) + NoLegend() + ggtitle(\"Enrichment around TSS\")"
   ]
  },
  {
   "cell_type": "code",
   "execution_count": null,
   "id": "american-canyon",
   "metadata": {},
   "outputs": [],
   "source": [
    "ggsave(filename = \"/SGRNJ06/randd/USER/cjj/celedev/atac/MAESTRO/test/20240307tssplot/CCRF.png\", height = 7, width = 7, plot = p)"
   ]
  },
  {
   "cell_type": "code",
   "execution_count": null,
   "id": "earlier-trade",
   "metadata": {},
   "outputs": [],
   "source": [
    "df = as.data.frame(brain@assays$peaks@positionEnrichment)"
   ]
  },
  {
   "cell_type": "code",
   "execution_count": null,
   "id": "verified-sheet",
   "metadata": {},
   "outputs": [],
   "source": [
    "max(colMeans(df))"
   ]
  },
  {
   "cell_type": "code",
   "execution_count": null,
   "id": "sought-prototype",
   "metadata": {},
   "outputs": [],
   "source": []
  }
 ],
 "metadata": {
  "kernelspec": {
   "display_name": "MAESTRO1",
   "language": "R",
   "name": "maestro1"
  },
  "language_info": {
   "codemirror_mode": "r",
   "file_extension": ".r",
   "mimetype": "text/x-r-source",
   "name": "R",
   "pygments_lexer": "r",
   "version": "4.0.5"
  }
 },
 "nbformat": 4,
 "nbformat_minor": 5
}
