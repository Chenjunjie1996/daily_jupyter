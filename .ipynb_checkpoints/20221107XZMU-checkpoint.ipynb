{
 "cells": [
  {
   "cell_type": "code",
   "execution_count": 23,
   "id": "touched-signal",
   "metadata": {},
   "outputs": [],
   "source": [
    "suppressMessages({\n",
    "library(ggplot2)\n",
    "library(reshape2)\n",
    "library(argparser)\n",
    "library(Seurat)\n",
    "#library(corrplot)\n",
    "library(dplyr)\n",
    "library(grid)\n",
    "library(cowplot)\n",
    "library(dplyr)\n",
    "library(grid)\n",
    "library(tidyverse)\n",
    "})\n",
    "library(SeuratObject)"
   ]
  },
  {
   "cell_type": "code",
   "execution_count": null,
   "id": "simplified-library",
   "metadata": {},
   "outputs": [],
   "source": [
    "sessionInfo(\"Seurat\")"
   ]
  },
  {
   "cell_type": "code",
   "execution_count": 15,
   "id": "limiting-prize",
   "metadata": {},
   "outputs": [],
   "source": [
    "rds = readRDS(\"/SGRNJ06/randd/lims_result_rd/MultiResult/RD20102301_221018_homo_PBMC/2022-10-19/h79dis3ues/father_cluster/batch_1/call-integration/RD20102301_221018_homo_PBMC.diff_PRO.rds\")"
   ]
  },
  {
   "cell_type": "code",
   "execution_count": 16,
   "id": "functional-jurisdiction",
   "metadata": {},
   "outputs": [],
   "source": [
    "meta = rds@meta.data"
   ]
  },
  {
   "cell_type": "code",
   "execution_count": 17,
   "id": "intimate-intersection",
   "metadata": {},
   "outputs": [
    {
     "data": {
      "text/html": [
       "<table class=\"dataframe\">\n",
       "<caption>A data.frame: 6 × 12</caption>\n",
       "<thead>\n",
       "\t<tr><th></th><th scope=col>orig.ident</th><th scope=col>nCount_RNA</th><th scope=col>nFeature_RNA</th><th scope=col>sample</th><th scope=col>group</th><th scope=col>reportname</th><th scope=col>platform</th><th scope=col>percent.mt</th><th scope=col>cluster</th><th scope=col>raw_cluster</th><th scope=col>louvain</th><th scope=col>seurat_cluster</th></tr>\n",
       "\t<tr><th></th><th scope=col>&lt;fct&gt;</th><th scope=col>&lt;dbl&gt;</th><th scope=col>&lt;int&gt;</th><th scope=col>&lt;fct&gt;</th><th scope=col>&lt;fct&gt;</th><th scope=col>&lt;fct&gt;</th><th scope=col>&lt;chr&gt;</th><th scope=col>&lt;dbl&gt;</th><th scope=col>&lt;fct&gt;</th><th scope=col>&lt;fct&gt;</th><th scope=col>&lt;chr&gt;</th><th scope=col>&lt;chr&gt;</th></tr>\n",
       "</thead>\n",
       "<tbody>\n",
       "\t<tr><th scope=row>GC_0_AAACATCGAAACATCGCCTCCTGA</th><td>GC</td><td>12901</td><td>3741</td><td>GC_0</td><td>GC_0</td><td>GC_0</td><td>A</td><td> 6.898690</td><td>CD8Teff</td><td>4 </td><td>4 </td><td>4 </td></tr>\n",
       "\t<tr><th scope=row>GC_0_AAACATCGAAACATCGGCCAAGAC</th><td>GC</td><td>10189</td><td>3114</td><td>GC_0</td><td>GC_0</td><td>GC_0</td><td>A</td><td>10.481893</td><td>CD8Teff</td><td>7 </td><td>7 </td><td>7 </td></tr>\n",
       "\t<tr><th scope=row>GC_0_AAACATCGAAACATCGTGAAGAGA</th><td>GC</td><td>16602</td><td>3886</td><td>GC_0</td><td>GC_0</td><td>GC_0</td><td>A</td><td>12.823756</td><td>NaiveT </td><td>13</td><td>13</td><td>13</td></tr>\n",
       "\t<tr><th scope=row>GC_0_AAACATCGAACAACCAAGAGTCAA</th><td>GC</td><td>18642</td><td>4588</td><td>GC_0</td><td>GC_0</td><td>GC_0</td><td>A</td><td> 7.617208</td><td>CD8Teff</td><td>4 </td><td>4 </td><td>4 </td></tr>\n",
       "\t<tr><th scope=row>GC_0_AAACATCGAACCGAGAACCTCCAA</th><td>GC</td><td>10468</td><td>3304</td><td>GC_0</td><td>GC_0</td><td>GC_0</td><td>A</td><td> 8.760031</td><td>CD8Teff</td><td>11</td><td>11</td><td>11</td></tr>\n",
       "\t<tr><th scope=row>GC_0_AAACATCGAACGTGATATCCTGTA</th><td>GC</td><td>45668</td><td>6880</td><td>GC_0</td><td>GC_0</td><td>GC_0</td><td>A</td><td> 8.999738</td><td>NaiveT </td><td>12</td><td>12</td><td>12</td></tr>\n",
       "</tbody>\n",
       "</table>\n"
      ],
      "text/latex": [
       "A data.frame: 6 × 12\n",
       "\\begin{tabular}{r|llllllllllll}\n",
       "  & orig.ident & nCount\\_RNA & nFeature\\_RNA & sample & group & reportname & platform & percent.mt & cluster & raw\\_cluster & louvain & seurat\\_cluster\\\\\n",
       "  & <fct> & <dbl> & <int> & <fct> & <fct> & <fct> & <chr> & <dbl> & <fct> & <fct> & <chr> & <chr>\\\\\n",
       "\\hline\n",
       "\tGC\\_0\\_AAACATCGAAACATCGCCTCCTGA & GC & 12901 & 3741 & GC\\_0 & GC\\_0 & GC\\_0 & A &  6.898690 & CD8Teff & 4  & 4  & 4 \\\\\n",
       "\tGC\\_0\\_AAACATCGAAACATCGGCCAAGAC & GC & 10189 & 3114 & GC\\_0 & GC\\_0 & GC\\_0 & A & 10.481893 & CD8Teff & 7  & 7  & 7 \\\\\n",
       "\tGC\\_0\\_AAACATCGAAACATCGTGAAGAGA & GC & 16602 & 3886 & GC\\_0 & GC\\_0 & GC\\_0 & A & 12.823756 & NaiveT  & 13 & 13 & 13\\\\\n",
       "\tGC\\_0\\_AAACATCGAACAACCAAGAGTCAA & GC & 18642 & 4588 & GC\\_0 & GC\\_0 & GC\\_0 & A &  7.617208 & CD8Teff & 4  & 4  & 4 \\\\\n",
       "\tGC\\_0\\_AAACATCGAACCGAGAACCTCCAA & GC & 10468 & 3304 & GC\\_0 & GC\\_0 & GC\\_0 & A &  8.760031 & CD8Teff & 11 & 11 & 11\\\\\n",
       "\tGC\\_0\\_AAACATCGAACGTGATATCCTGTA & GC & 45668 & 6880 & GC\\_0 & GC\\_0 & GC\\_0 & A &  8.999738 & NaiveT  & 12 & 12 & 12\\\\\n",
       "\\end{tabular}\n"
      ],
      "text/markdown": [
       "\n",
       "A data.frame: 6 × 12\n",
       "\n",
       "| <!--/--> | orig.ident &lt;fct&gt; | nCount_RNA &lt;dbl&gt; | nFeature_RNA &lt;int&gt; | sample &lt;fct&gt; | group &lt;fct&gt; | reportname &lt;fct&gt; | platform &lt;chr&gt; | percent.mt &lt;dbl&gt; | cluster &lt;fct&gt; | raw_cluster &lt;fct&gt; | louvain &lt;chr&gt; | seurat_cluster &lt;chr&gt; |\n",
       "|---|---|---|---|---|---|---|---|---|---|---|---|---|\n",
       "| GC_0_AAACATCGAAACATCGCCTCCTGA | GC | 12901 | 3741 | GC_0 | GC_0 | GC_0 | A |  6.898690 | CD8Teff | 4  | 4  | 4  |\n",
       "| GC_0_AAACATCGAAACATCGGCCAAGAC | GC | 10189 | 3114 | GC_0 | GC_0 | GC_0 | A | 10.481893 | CD8Teff | 7  | 7  | 7  |\n",
       "| GC_0_AAACATCGAAACATCGTGAAGAGA | GC | 16602 | 3886 | GC_0 | GC_0 | GC_0 | A | 12.823756 | NaiveT  | 13 | 13 | 13 |\n",
       "| GC_0_AAACATCGAACAACCAAGAGTCAA | GC | 18642 | 4588 | GC_0 | GC_0 | GC_0 | A |  7.617208 | CD8Teff | 4  | 4  | 4  |\n",
       "| GC_0_AAACATCGAACCGAGAACCTCCAA | GC | 10468 | 3304 | GC_0 | GC_0 | GC_0 | A |  8.760031 | CD8Teff | 11 | 11 | 11 |\n",
       "| GC_0_AAACATCGAACGTGATATCCTGTA | GC | 45668 | 6880 | GC_0 | GC_0 | GC_0 | A |  8.999738 | NaiveT  | 12 | 12 | 12 |\n",
       "\n"
      ],
      "text/plain": [
       "                              orig.ident nCount_RNA nFeature_RNA sample group\n",
       "GC_0_AAACATCGAAACATCGCCTCCTGA GC         12901      3741         GC_0   GC_0 \n",
       "GC_0_AAACATCGAAACATCGGCCAAGAC GC         10189      3114         GC_0   GC_0 \n",
       "GC_0_AAACATCGAAACATCGTGAAGAGA GC         16602      3886         GC_0   GC_0 \n",
       "GC_0_AAACATCGAACAACCAAGAGTCAA GC         18642      4588         GC_0   GC_0 \n",
       "GC_0_AAACATCGAACCGAGAACCTCCAA GC         10468      3304         GC_0   GC_0 \n",
       "GC_0_AAACATCGAACGTGATATCCTGTA GC         45668      6880         GC_0   GC_0 \n",
       "                              reportname platform percent.mt cluster\n",
       "GC_0_AAACATCGAAACATCGCCTCCTGA GC_0       A         6.898690  CD8Teff\n",
       "GC_0_AAACATCGAAACATCGGCCAAGAC GC_0       A        10.481893  CD8Teff\n",
       "GC_0_AAACATCGAAACATCGTGAAGAGA GC_0       A        12.823756  NaiveT \n",
       "GC_0_AAACATCGAACAACCAAGAGTCAA GC_0       A         7.617208  CD8Teff\n",
       "GC_0_AAACATCGAACCGAGAACCTCCAA GC_0       A         8.760031  CD8Teff\n",
       "GC_0_AAACATCGAACGTGATATCCTGTA GC_0       A         8.999738  NaiveT \n",
       "                              raw_cluster louvain seurat_cluster\n",
       "GC_0_AAACATCGAAACATCGCCTCCTGA 4           4       4             \n",
       "GC_0_AAACATCGAAACATCGGCCAAGAC 7           7       7             \n",
       "GC_0_AAACATCGAAACATCGTGAAGAGA 13          13      13            \n",
       "GC_0_AAACATCGAACAACCAAGAGTCAA 4           4       4             \n",
       "GC_0_AAACATCGAACCGAGAACCTCCAA 11          11      11            \n",
       "GC_0_AAACATCGAACGTGATATCCTGTA 12          12      12            "
      ]
     },
     "metadata": {},
     "output_type": "display_data"
    }
   ],
   "source": [
    "head(meta)"
   ]
  },
  {
   "cell_type": "code",
   "execution_count": null,
   "id": "billion-reducing",
   "metadata": {},
   "outputs": [],
   "source": [
    "  Idents(rds) <- \"sample\"\n",
    "  rds <- subset(rds,idents = c(\"GC_0\"))\n",
    "  rds <-  NormalizeData(object = rds)\n",
    "  rds <-  ScaleData(object = rds)\n",
    "  rds <- FindVariableFeatures(object = rds)\n",
    "  genes.use<- head(HVFInfo(object = rds),2000)\n",
    "  rds <- RunPCA(object=rds,features = VariableFeatures(object = rds))\n",
    "  rds <- FindNeighbors(rds, reduction = \"pca\", dims = 1:20)\n",
    "  rds <- FindClusters(rds,resolution = 1.2, algorithm = 1)\n",
    "  rds <- RunTSNE(object=rds,dims.use=1:20,do.fast=TRUE,check_duplicates = FALSE)\n",
    "  rds <- RunUMAP(rds, reduction = \"pca\", dims = 1:20)\n",
    "  saveRDS(object = rds, file = \"/SGRNJ06/randd/USER/cjj/celedev/XZMU/20221107qupiciGC0/CJJcele/GC0qupici.rds\")"
   ]
  },
  {
   "cell_type": "code",
   "execution_count": 45,
   "id": "pleasant-stage",
   "metadata": {},
   "outputs": [
    {
     "data": {
      "text/html": [
       "<table class=\"dataframe\">\n",
       "<caption>A data.frame: 6 × 14</caption>\n",
       "<thead>\n",
       "\t<tr><th></th><th scope=col>orig.ident</th><th scope=col>nCount_RNA</th><th scope=col>nFeature_RNA</th><th scope=col>sample</th><th scope=col>group</th><th scope=col>reportname</th><th scope=col>platform</th><th scope=col>percent.mt</th><th scope=col>cluster</th><th scope=col>raw_cluster</th><th scope=col>louvain</th><th scope=col>seurat_cluster</th><th scope=col>RNA_snn_res.1.2</th><th scope=col>seurat_clusters</th></tr>\n",
       "\t<tr><th></th><th scope=col>&lt;fct&gt;</th><th scope=col>&lt;dbl&gt;</th><th scope=col>&lt;int&gt;</th><th scope=col>&lt;fct&gt;</th><th scope=col>&lt;fct&gt;</th><th scope=col>&lt;fct&gt;</th><th scope=col>&lt;chr&gt;</th><th scope=col>&lt;dbl&gt;</th><th scope=col>&lt;fct&gt;</th><th scope=col>&lt;fct&gt;</th><th scope=col>&lt;chr&gt;</th><th scope=col>&lt;chr&gt;</th><th scope=col>&lt;fct&gt;</th><th scope=col>&lt;fct&gt;</th></tr>\n",
       "</thead>\n",
       "<tbody>\n",
       "\t<tr><th scope=row>GC_0_AAACATCGAAACATCGCCTCCTGA</th><td>GC</td><td>12901</td><td>3741</td><td>GC_0</td><td>GC_0</td><td>GC_0</td><td>A</td><td> 6.898690</td><td>CD8Teff</td><td>4 </td><td>4 </td><td>4 </td><td>8</td><td>8</td></tr>\n",
       "\t<tr><th scope=row>GC_0_AAACATCGAAACATCGGCCAAGAC</th><td>GC</td><td>10189</td><td>3114</td><td>GC_0</td><td>GC_0</td><td>GC_0</td><td>A</td><td>10.481893</td><td>CD8Teff</td><td>7 </td><td>7 </td><td>7 </td><td>1</td><td>1</td></tr>\n",
       "\t<tr><th scope=row>GC_0_AAACATCGAAACATCGTGAAGAGA</th><td>GC</td><td>16602</td><td>3886</td><td>GC_0</td><td>GC_0</td><td>GC_0</td><td>A</td><td>12.823756</td><td>NaiveT </td><td>13</td><td>13</td><td>13</td><td>0</td><td>0</td></tr>\n",
       "\t<tr><th scope=row>GC_0_AAACATCGAACAACCAAGAGTCAA</th><td>GC</td><td>18642</td><td>4588</td><td>GC_0</td><td>GC_0</td><td>GC_0</td><td>A</td><td> 7.617208</td><td>CD8Teff</td><td>4 </td><td>4 </td><td>4 </td><td>8</td><td>8</td></tr>\n",
       "\t<tr><th scope=row>GC_0_AAACATCGAACCGAGAACCTCCAA</th><td>GC</td><td>10468</td><td>3304</td><td>GC_0</td><td>GC_0</td><td>GC_0</td><td>A</td><td> 8.760031</td><td>CD8Teff</td><td>11</td><td>11</td><td>11</td><td>8</td><td>8</td></tr>\n",
       "\t<tr><th scope=row>GC_0_AAACATCGAACGTGATATCCTGTA</th><td>GC</td><td>45668</td><td>6880</td><td>GC_0</td><td>GC_0</td><td>GC_0</td><td>A</td><td> 8.999738</td><td>NaiveT </td><td>12</td><td>12</td><td>12</td><td>7</td><td>7</td></tr>\n",
       "</tbody>\n",
       "</table>\n"
      ],
      "text/latex": [
       "A data.frame: 6 × 14\n",
       "\\begin{tabular}{r|llllllllllllll}\n",
       "  & orig.ident & nCount\\_RNA & nFeature\\_RNA & sample & group & reportname & platform & percent.mt & cluster & raw\\_cluster & louvain & seurat\\_cluster & RNA\\_snn\\_res.1.2 & seurat\\_clusters\\\\\n",
       "  & <fct> & <dbl> & <int> & <fct> & <fct> & <fct> & <chr> & <dbl> & <fct> & <fct> & <chr> & <chr> & <fct> & <fct>\\\\\n",
       "\\hline\n",
       "\tGC\\_0\\_AAACATCGAAACATCGCCTCCTGA & GC & 12901 & 3741 & GC\\_0 & GC\\_0 & GC\\_0 & A &  6.898690 & CD8Teff & 4  & 4  & 4  & 8 & 8\\\\\n",
       "\tGC\\_0\\_AAACATCGAAACATCGGCCAAGAC & GC & 10189 & 3114 & GC\\_0 & GC\\_0 & GC\\_0 & A & 10.481893 & CD8Teff & 7  & 7  & 7  & 1 & 1\\\\\n",
       "\tGC\\_0\\_AAACATCGAAACATCGTGAAGAGA & GC & 16602 & 3886 & GC\\_0 & GC\\_0 & GC\\_0 & A & 12.823756 & NaiveT  & 13 & 13 & 13 & 0 & 0\\\\\n",
       "\tGC\\_0\\_AAACATCGAACAACCAAGAGTCAA & GC & 18642 & 4588 & GC\\_0 & GC\\_0 & GC\\_0 & A &  7.617208 & CD8Teff & 4  & 4  & 4  & 8 & 8\\\\\n",
       "\tGC\\_0\\_AAACATCGAACCGAGAACCTCCAA & GC & 10468 & 3304 & GC\\_0 & GC\\_0 & GC\\_0 & A &  8.760031 & CD8Teff & 11 & 11 & 11 & 8 & 8\\\\\n",
       "\tGC\\_0\\_AAACATCGAACGTGATATCCTGTA & GC & 45668 & 6880 & GC\\_0 & GC\\_0 & GC\\_0 & A &  8.999738 & NaiveT  & 12 & 12 & 12 & 7 & 7\\\\\n",
       "\\end{tabular}\n"
      ],
      "text/markdown": [
       "\n",
       "A data.frame: 6 × 14\n",
       "\n",
       "| <!--/--> | orig.ident &lt;fct&gt; | nCount_RNA &lt;dbl&gt; | nFeature_RNA &lt;int&gt; | sample &lt;fct&gt; | group &lt;fct&gt; | reportname &lt;fct&gt; | platform &lt;chr&gt; | percent.mt &lt;dbl&gt; | cluster &lt;fct&gt; | raw_cluster &lt;fct&gt; | louvain &lt;chr&gt; | seurat_cluster &lt;chr&gt; | RNA_snn_res.1.2 &lt;fct&gt; | seurat_clusters &lt;fct&gt; |\n",
       "|---|---|---|---|---|---|---|---|---|---|---|---|---|---|---|\n",
       "| GC_0_AAACATCGAAACATCGCCTCCTGA | GC | 12901 | 3741 | GC_0 | GC_0 | GC_0 | A |  6.898690 | CD8Teff | 4  | 4  | 4  | 8 | 8 |\n",
       "| GC_0_AAACATCGAAACATCGGCCAAGAC | GC | 10189 | 3114 | GC_0 | GC_0 | GC_0 | A | 10.481893 | CD8Teff | 7  | 7  | 7  | 1 | 1 |\n",
       "| GC_0_AAACATCGAAACATCGTGAAGAGA | GC | 16602 | 3886 | GC_0 | GC_0 | GC_0 | A | 12.823756 | NaiveT  | 13 | 13 | 13 | 0 | 0 |\n",
       "| GC_0_AAACATCGAACAACCAAGAGTCAA | GC | 18642 | 4588 | GC_0 | GC_0 | GC_0 | A |  7.617208 | CD8Teff | 4  | 4  | 4  | 8 | 8 |\n",
       "| GC_0_AAACATCGAACCGAGAACCTCCAA | GC | 10468 | 3304 | GC_0 | GC_0 | GC_0 | A |  8.760031 | CD8Teff | 11 | 11 | 11 | 8 | 8 |\n",
       "| GC_0_AAACATCGAACGTGATATCCTGTA | GC | 45668 | 6880 | GC_0 | GC_0 | GC_0 | A |  8.999738 | NaiveT  | 12 | 12 | 12 | 7 | 7 |\n",
       "\n"
      ],
      "text/plain": [
       "                              orig.ident nCount_RNA nFeature_RNA sample group\n",
       "GC_0_AAACATCGAAACATCGCCTCCTGA GC         12901      3741         GC_0   GC_0 \n",
       "GC_0_AAACATCGAAACATCGGCCAAGAC GC         10189      3114         GC_0   GC_0 \n",
       "GC_0_AAACATCGAAACATCGTGAAGAGA GC         16602      3886         GC_0   GC_0 \n",
       "GC_0_AAACATCGAACAACCAAGAGTCAA GC         18642      4588         GC_0   GC_0 \n",
       "GC_0_AAACATCGAACCGAGAACCTCCAA GC         10468      3304         GC_0   GC_0 \n",
       "GC_0_AAACATCGAACGTGATATCCTGTA GC         45668      6880         GC_0   GC_0 \n",
       "                              reportname platform percent.mt cluster\n",
       "GC_0_AAACATCGAAACATCGCCTCCTGA GC_0       A         6.898690  CD8Teff\n",
       "GC_0_AAACATCGAAACATCGGCCAAGAC GC_0       A        10.481893  CD8Teff\n",
       "GC_0_AAACATCGAAACATCGTGAAGAGA GC_0       A        12.823756  NaiveT \n",
       "GC_0_AAACATCGAACAACCAAGAGTCAA GC_0       A         7.617208  CD8Teff\n",
       "GC_0_AAACATCGAACCGAGAACCTCCAA GC_0       A         8.760031  CD8Teff\n",
       "GC_0_AAACATCGAACGTGATATCCTGTA GC_0       A         8.999738  NaiveT \n",
       "                              raw_cluster louvain seurat_cluster\n",
       "GC_0_AAACATCGAAACATCGCCTCCTGA 4           4       4             \n",
       "GC_0_AAACATCGAAACATCGGCCAAGAC 7           7       7             \n",
       "GC_0_AAACATCGAAACATCGTGAAGAGA 13          13      13            \n",
       "GC_0_AAACATCGAACAACCAAGAGTCAA 4           4       4             \n",
       "GC_0_AAACATCGAACCGAGAACCTCCAA 11          11      11            \n",
       "GC_0_AAACATCGAACGTGATATCCTGTA 12          12      12            \n",
       "                              RNA_snn_res.1.2 seurat_clusters\n",
       "GC_0_AAACATCGAAACATCGCCTCCTGA 8               8              \n",
       "GC_0_AAACATCGAAACATCGGCCAAGAC 1               1              \n",
       "GC_0_AAACATCGAAACATCGTGAAGAGA 0               0              \n",
       "GC_0_AAACATCGAACAACCAAGAGTCAA 8               8              \n",
       "GC_0_AAACATCGAACCGAGAACCTCCAA 8               8              \n",
       "GC_0_AAACATCGAACGTGATATCCTGTA 7               7              "
      ]
     },
     "metadata": {},
     "output_type": "display_data"
    }
   ],
   "source": [
    "head(rds@meta.data)"
   ]
  },
  {
   "cell_type": "code",
   "execution_count": 20,
   "id": "celtic-month",
   "metadata": {},
   "outputs": [
    {
     "data": {
      "text/plain": [
       "\n",
       "  0   1   2   3   4   5   6   7   8   9  10  11  12 \n",
       "840 706 705 611 601 567 501 470 461 385 345 289 253 "
      ]
     },
     "metadata": {},
     "output_type": "display_data"
    }
   ],
   "source": [
    "table(rds@meta.data$seurat_clusters)"
   ]
  },
  {
   "cell_type": "code",
   "execution_count": 21,
   "id": "lesbian-behavior",
   "metadata": {},
   "outputs": [],
   "source": [
    "subc<-levels(x=rds@active.ident)"
   ]
  },
  {
   "cell_type": "code",
   "execution_count": 22,
   "id": "breathing-russell",
   "metadata": {},
   "outputs": [
    {
     "data": {
      "text/html": [
       "<strong>null device:</strong> 1"
      ],
      "text/latex": [
       "\\textbf{null device:} 1"
      ],
      "text/markdown": [
       "**null device:** 1"
      ],
      "text/plain": [
       "null device \n",
       "          1 "
      ]
     },
     "metadata": {},
     "output_type": "display_data"
    }
   ],
   "source": [
    "for (l in subc){\n",
    "   cluster.markers <- FindMarkers(object=rds,ident.1=l,min.pct=0.1,logfc.threshold = 0.25)\n",
    "   write.table(cluster.markers,file=paste('/SGRNJ06/randd/USER/cjj/celedev/XZMU/20221107qupiciGC0/CJJcele','/',l,'_diffgenes.xls',sep=''),sep='\\t',quote=F,row.names=T)}\n",
    "dev.off()\n"
   ]
  },
  {
   "cell_type": "code",
   "execution_count": 22,
   "id": "classical-wales",
   "metadata": {},
   "outputs": [],
   "source": []
  },
  {
   "cell_type": "code",
   "execution_count": 39,
   "id": "metropolitan-guinea",
   "metadata": {},
   "outputs": [],
   "source": [
    "rds = readRDS(\"/SGRNJ06/randd/lims_result_rd/MultiResult/RD20102301_221018_homo_PBMC/2022-10-19/h79dis3ues/father_cluster/batch_1/call-integration/RD20102301_221018_homo_PBMC.diff_PRO.rds\")\n",
    "Tcells = readRDS(\"/SGRNJ06/randd/USER/cjj/celedev/XZMU/20221107qupiciGC0/CJJcele/V4toV3/GC0_v4_to_v3.rds\")"
   ]
  },
  {
   "cell_type": "code",
   "execution_count": 40,
   "id": "complex-chambers",
   "metadata": {},
   "outputs": [
    {
     "data": {
      "text/plain": [
       "\n",
       "  0   1   2   3   4   5   6   7   8   9  10  11  12 \n",
       "840 706 705 611 601 567 501 470 461 385 345 289 253 "
      ]
     },
     "metadata": {},
     "output_type": "display_data"
    }
   ],
   "source": [
    "table(Tcells@meta.data$seurat_clusters)"
   ]
  },
  {
   "cell_type": "code",
   "execution_count": 41,
   "id": "reasonable-cream",
   "metadata": {},
   "outputs": [
    {
     "name": "stderr",
     "output_type": "stream",
     "text": [
      "With Seurat 3.X, stashing identity classes can be accomplished with the following:\n",
      "Tcells[[\"cluster\"]] <- Idents(object = Tcells)\n",
      "\n"
     ]
    }
   ],
   "source": [
    "new.cluster.ids <- c('NaiveT','CD8Teff','HelperT','HelperT','CD8Teff','NaiveT','CD8Teff','NaiveT','CD8Teff','LowQuality','NaiveT','HelperT','CD8Teff')\n",
    "names(new.cluster.ids) <- levels(Tcells)\n",
    "Tcells <- RenameIdents(Tcells, new.cluster.ids)\n",
    "Tcells <- StashIdent(object = Tcells, save.name = \"cluster\")"
   ]
  },
  {
   "cell_type": "code",
   "execution_count": 42,
   "id": "processed-brief",
   "metadata": {},
   "outputs": [],
   "source": [
    "Idents(Tcells) <- 'cluster'\n",
    "Tcells <- subset(Tcells,idents = c('HelperT','NaiveT','CD8Teff'))"
   ]
  },
  {
   "cell_type": "code",
   "execution_count": 43,
   "id": "dietary-mercury",
   "metadata": {},
   "outputs": [],
   "source": [
    "rds$cluster <- as.character(rds$cluster)\n",
    "Tcells$cluster <- as.character(Tcells$cluster)\n",
    "rds$cluster[ colnames(rds) %in% colnames(Tcells)[ Tcells$cluster == \"CD8Teff\"]] = \"CD8Teff\"\n",
    "rds$cluster[ colnames(rds) %in% colnames(Tcells)[ Tcells$cluster == \"NaiveT\"]] = \"NaiveT\"\n",
    "rds$cluster[ colnames(rds) %in% colnames(Tcells)[ Tcells$cluster == \"HelperT\"]] = \"HelperT\"\n",
    "rds$cluster[ colnames(rds) %in% colnames(Tcells)[ Tcells$cluster == \"LowQuality\"]] = \"LowQuality\""
   ]
  },
  {
   "cell_type": "code",
   "execution_count": 44,
   "id": "referenced-clause",
   "metadata": {},
   "outputs": [],
   "source": [
    "p = UMAPPlot(rds, group.by='cluster')"
   ]
  },
  {
   "cell_type": "code",
   "execution_count": 45,
   "id": "perfect-system",
   "metadata": {},
   "outputs": [],
   "source": [
    "ggsave(\"/SGRNJ06/randd/USER/cjj/celedev/XZMU/20221107qupiciGC0/yingshe.png\",p,width = 10, height=10)"
   ]
  },
  {
   "cell_type": "code",
   "execution_count": 33,
   "id": "fitted-school",
   "metadata": {},
   "outputs": [
    {
     "data": {
      "text/plain": [
       "\n",
       "    NaiveT    CD8Teff    HelperT LowQuality \n",
       "      2222       2522       1605        385 "
      ]
     },
     "metadata": {},
     "output_type": "display_data"
    }
   ],
   "source": []
  },
  {
   "cell_type": "code",
   "execution_count": null,
   "id": "conditional-vocabulary",
   "metadata": {},
   "outputs": [],
   "source": []
  },
  {
   "cell_type": "code",
   "execution_count": 18,
   "id": "perfect-hello",
   "metadata": {},
   "outputs": [],
   "source": []
  },
  {
   "cell_type": "code",
   "execution_count": null,
   "id": "statewide-assets",
   "metadata": {},
   "outputs": [],
   "source": []
  },
  {
   "cell_type": "code",
   "execution_count": null,
   "id": "reported-oregon",
   "metadata": {},
   "outputs": [],
   "source": []
  },
  {
   "cell_type": "code",
   "execution_count": null,
   "id": "southern-keyboard",
   "metadata": {},
   "outputs": [],
   "source": []
  },
  {
   "cell_type": "code",
   "execution_count": null,
   "id": "nasty-birthday",
   "metadata": {},
   "outputs": [],
   "source": []
  },
  {
   "cell_type": "code",
   "execution_count": null,
   "id": "headed-holocaust",
   "metadata": {},
   "outputs": [],
   "source": []
  },
  {
   "cell_type": "code",
   "execution_count": null,
   "id": "fixed-cholesterol",
   "metadata": {},
   "outputs": [],
   "source": []
  },
  {
   "cell_type": "code",
   "execution_count": null,
   "id": "funky-onion",
   "metadata": {},
   "outputs": [],
   "source": []
  },
  {
   "cell_type": "code",
   "execution_count": null,
   "id": "pharmaceutical-dream",
   "metadata": {},
   "outputs": [],
   "source": []
  }
 ],
 "metadata": {
  "kernelspec": {
   "display_name": "CJJcele",
   "language": "R",
   "name": "cjjcele"
  },
  "language_info": {
   "codemirror_mode": "r",
   "file_extension": ".r",
   "mimetype": "text/x-r-source",
   "name": "R",
   "pygments_lexer": "r",
   "version": "4.0.3"
  }
 },
 "nbformat": 4,
 "nbformat_minor": 5
}
