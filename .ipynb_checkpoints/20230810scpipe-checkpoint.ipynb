{
 "cells": [
  {
   "cell_type": "code",
   "execution_count": 20,
   "id": "verified-court",
   "metadata": {},
   "outputs": [],
   "source": [
    "library(\"scPipe\")"
   ]
  },
  {
   "cell_type": "code",
   "execution_count": 21,
   "id": "blank-tyler",
   "metadata": {},
   "outputs": [],
   "source": [
    "data.folder <- system.file(\"extdata\", package = \"scPipe\", mustWork = TRUE)"
   ]
  },
  {
   "cell_type": "code",
   "execution_count": 22,
   "id": "meaning-breakdown",
   "metadata": {},
   "outputs": [
    {
     "data": {
      "text/html": [
       "'/SGRNJ01/Public/Software/conda_env/scpipe/lib/R/library/scPipe/extdata'"
      ],
      "text/latex": [
       "'/SGRNJ01/Public/Software/conda\\_env/scpipe/lib/R/library/scPipe/extdata'"
      ],
      "text/markdown": [
       "'/SGRNJ01/Public/Software/conda_env/scpipe/lib/R/library/scPipe/extdata'"
      ],
      "text/plain": [
       "[1] \"/SGRNJ01/Public/Software/conda_env/scpipe/lib/R/library/scPipe/extdata\""
      ]
     },
     "metadata": {},
     "output_type": "display_data"
    }
   ],
   "source": [
    "data.folder"
   ]
  },
  {
   "cell_type": "code",
   "execution_count": 23,
   "id": "arbitrary-terrorism",
   "metadata": {},
   "outputs": [],
   "source": [
    "output_folder <- paste0(\"/SGRNJ06/randd/USER/cjj/celedev/atac/20230607hs_mu\", \"/scPipeATACVignette\")"
   ]
  },
  {
   "cell_type": "code",
   "execution_count": 24,
   "id": "fatty-giant",
   "metadata": {},
   "outputs": [
    {
     "data": {
      "text/html": [
       "'/SGRNJ06/randd/USER/cjj/celedev/atac/20230607hs_mu/scPipeATACVignette'"
      ],
      "text/latex": [
       "'/SGRNJ06/randd/USER/cjj/celedev/atac/20230607hs\\_mu/scPipeATACVignette'"
      ],
      "text/markdown": [
       "'/SGRNJ06/randd/USER/cjj/celedev/atac/20230607hs_mu/scPipeATACVignette'"
      ],
      "text/plain": [
       "[1] \"/SGRNJ06/randd/USER/cjj/celedev/atac/20230607hs_mu/scPipeATACVignette\""
      ]
     },
     "metadata": {},
     "output_type": "display_data"
    }
   ],
   "source": [
    "output_folder"
   ]
  },
  {
   "cell_type": "code",
   "execution_count": 25,
   "id": "prostate-feature",
   "metadata": {},
   "outputs": [],
   "source": [
    "# data fastq files\n",
    "r1      <- file.path(data.folder, \"small_chr21_R1.fastq.gz\") \n",
    "r2      <- file.path(data.folder, \"small_chr21_R3.fastq.gz\") \n",
    "\n",
    "# barcodes in fastq format\n",
    "barcode_fastq      <- file.path(data.folder, \"small_chr21_R2.fastq.gz\") \n",
    "\n",
    "# barcodes in .csv format\n",
    "barcode_1000       <- file.path(data.folder, \"chr21_modified_barcode_1000.csv\")"
   ]
  },
  {
   "cell_type": "code",
   "execution_count": 26,
   "id": "arabic-production",
   "metadata": {},
   "outputs": [
    {
     "name": "stderr",
     "output_type": "stream",
     "text": [
      "Saving the output at location: \n",
      "/SGRNJ06/randd/USER/cjj/celedev/atac/20230607hs_mu/scPipeATACVignette\n",
      "\n"
     ]
    },
    {
     "name": "stdout",
     "output_type": "stream",
     "text": [
      "No valid_barcode_file provided; no barcode error correction will occur.\n",
      "Total reads: 35000\n",
      "Total reads removed due to N's in barcodes: 0\n",
      "Total reads removed due to low quality barcodes: 0\n",
      "Total barcodes provided in FASTQ file: 16567\n",
      "time elapsed: 444 milliseconds\n",
      "\n"
     ]
    }
   ],
   "source": [
    "sc_atac_trim_barcode (r1            = r1, \n",
    "                      r2            = r2, \n",
    "                      bc_file       = barcode_fastq, \n",
    "                      rmN           = FALSE,\n",
    "                      rmlow         = FALSE,\n",
    "                      output_folder = output_folder)"
   ]
  },
  {
   "cell_type": "code",
   "execution_count": 27,
   "id": "extensive-anxiety",
   "metadata": {},
   "outputs": [
    {
     "name": "stderr",
     "output_type": "stream",
     "text": [
      "ATAC-Seq mode is selected...\n",
      "\n",
      "Genome index location not specified. Looking for the index in/SGRNJ06/randd/USER/cjj/celedev/atac/20230607hs_mu/scPipeATACVignette\n",
      "\n",
      "Genome index found in /SGRNJ06/randd/USER/cjj/celedev/atac/20230607hs_mu/scPipeATACVignette...\n",
      "\n",
      "No partial matches, checking for reads with non-matched barcodes.\n",
      "\n",
      "No reads found with non-matching barcodes.\n",
      "\n",
      "Outputted demultiplexing stats file to/SGRNJ06/randd/USER/cjj/celedev/atac/20230607hs_mu/scPipeATACVignette/scPipe_atac_stats//demultiplexing_stats.csv\n",
      "\n",
      "\n",
      "Output file name is not provided. Aligned reads are saved in /SGRNJ06/randd/USER/cjj/celedev/atac/20230607hs_mu/scPipeATACVignette/demux_completematch_small_chr21_R1_aligned.bam\n",
      "\n"
     ]
    },
    {
     "name": "stdout",
     "output_type": "stream",
     "text": [
      "\n",
      "        ==========     _____ _    _ ____  _____  ______          _____  \n",
      "        =====         / ____| |  | |  _ \\|  __ \\|  ____|   /\\   |  __ \\ \n",
      "          =====      | (___ | |  | | |_) | |__) | |__     /  \\  | |  | |\n",
      "            ====      \\___ \\| |  | |  _ <|  _  /|  __|   / /\\ \\ | |  | |\n",
      "              ====    ____) | |__| | |_) | | \\ \\| |____ / ____ \\| |__| |\n",
      "        ==========   |_____/ \\____/|____/|_|  \\_\\______/_/    \\_\\_____/\n",
      "       Rsubread 2.14.2\n",
      "\n",
      "//================================= setting ==================================\\\\\n",
      "||                                                                            ||\n",
      "|| Function      : Read alignment (DNA-Seq)                                   ||\n",
      "|| Input file 1  : demux_completematch_small_chr21_R1.fastq.gz                ||\n",
      "|| Input file 2  : demux_completematch_small_chr21_R3.fastq.gz                ||\n",
      "|| Output file   : demux_completematch_small_chr21_R1_aligned.bam (BAM),  ... ||\n",
      "|| Index name    : genome_index                                               ||\n",
      "||                                                                            ||\n",
      "||                    ------------------------------------                    ||\n",
      "||                                                                            ||\n",
      "||                               Threads : 12                                 ||\n",
      "||                          Phred offset : 33                                 ||\n",
      "||               # of extracted subreads : 10                                 ||\n",
      "||                        Min read1 vote : 3                                  ||\n",
      "||                        Min read2 vote : 1                                  ||\n",
      "||                     Max fragment size : 600                                ||\n",
      "||                     Min fragment size : 50                                 ||\n",
      "||                        Max mismatches : 3                                  ||\n",
      "||                      Max indel length : 5                                  ||\n",
      "||            Report multi-mapping reads : yes                                ||\n",
      "|| Max alignments per multi-mapping read : 1                                  ||\n",
      "||                                                                            ||\n",
      "\\\\============================================================================//\n",
      "\n",
      "//================ Running (19-Sep-2023 17:59:50, pid=29527) =================\\\\\n",
      "||                                                                            ||\n",
      "|| Check the input reads.                                                     ||\n",
      "|| The input file contains base space reads.                                  ||\n",
      "|| Initialise the memory objects.                                             ||\n",
      "|| Estimate the mean read length.                                             ||\n",
      "|| The range of Phred scores observed in the data is [2,37]                   ||\n",
      "|| Create the output BAM file.                                                ||\n",
      "|| Check the index.                                                           ||\n",
      "|| Init the voting space.                                                     ||\n",
      "|| Global environment is initialised.                                         ||\n",
      "|| Load the 1-th index block...                                               ||\n",
      "|| The index block has been loaded.                                           ||\n",
      "|| Start read mapping in chunk.                                               ||\n",
      "||   Estimated fragment length : 123 bp                                       ||\n",
      "||                                                                            ||\n",
      "||                           Completed successfully.                          ||\n",
      "||                                                                            ||\n",
      "\\\\====================================    ====================================//\n",
      "\n",
      "//================================   Summary =================================\\\\\n",
      "||                                                                            ||\n",
      "||             Total fragments : 35,000                                       ||\n",
      "||                      Mapped : 18,851 (53.9%)                               ||\n",
      "||             Uniquely mapped : 18,057                                       ||\n",
      "||               Multi-mapping : 794                                          ||\n",
      "||                                                                            ||\n",
      "||                    Unmapped : 16,149                                       ||\n",
      "||                                                                            ||\n",
      "||             Properly paired : 14,524                                       ||\n",
      "||         Not properly paired : 4,327                                        ||\n",
      "||                   Singleton : 1,458                                        ||\n",
      "||                    Chimeric : 0                                            ||\n",
      "||       Unexpected strandness : 114                                          ||\n",
      "||  Unexpected fragment length : 180                                          ||\n",
      "||       Unexpected read order : 2,575                                        ||\n",
      "||                                                                            ||\n",
      "||                      Indels : 197                                          ||\n",
      "||                                                                            ||\n",
      "||                Running time : 0.6 minutes                                  ||\n",
      "||                                                                            ||\n",
      "\\\\============================================================================//\n",
      "\n"
     ]
    }
   ],
   "source": [
    "demux_r1        <- file.path(output_folder, \"demux_completematch_small_chr21_R1.fastq.gz\")\n",
    "demux_r2        <- file.path(output_folder, \"demux_completematch_small_chr21_R3.fastq.gz\")\n",
    "reference = file.path(data.folder, \"small_chr21.fa\")\n",
    "\n",
    "\n",
    "aligned_bam <- sc_aligning(ref = reference, \n",
    "                R1 = demux_r1, \n",
    "                R2 = demux_r2, \n",
    "                nthreads  = 12,\n",
    "                output_folder = output_folder)"
   ]
  },
  {
   "cell_type": "code",
   "execution_count": 28,
   "id": "determined-edgar",
   "metadata": {},
   "outputs": [
    {
     "name": "stderr",
     "output_type": "stream",
     "text": [
      "Using default value for barcode length (bc_length = 16) \n",
      "\n",
      "Generating mapping statistics per barcode\n",
      "\n",
      "Iterating through 5,000,000 reads at a time\n",
      "\n",
      "chunk1\n",
      "\n",
      "Completed generating mapping statistics per barcode, saved to /SGRNJ06/randd/USER/cjj/celedev/atac/20230607hs_mu/scPipeATACVignette/scPipe_atac_stats/mapping_stats_per_barcode.csv\n",
      "\n",
      "\n",
      "The output tagged and sorted BAM file was sent to /SGRNJ06/randd/USER/cjj/celedev/atac/20230607hs_mu/scPipeATACVignette\n",
      "\n"
     ]
    }
   ],
   "source": [
    "sorted_tagged_bam <- sc_atac_bam_tagging (inbam = aligned_bam, \n",
    "                       output_folder =  output_folder, \n",
    "                       bam_tags      = list(bc=\"CB\", mb=\"OX\"), \n",
    "                       nthreads      =  12)"
   ]
  },
  {
   "cell_type": "code",
   "execution_count": 29,
   "id": "future-roads",
   "metadata": {},
   "outputs": [
    {
     "name": "stderr",
     "output_type": "stream",
     "text": [
      "samtools was located!\n",
      "\n",
      "Sorting the BAM file by name\n",
      "\n",
      "Running fixmate on the sorted BAM File\n",
      "\n",
      "Sorting the BAM file by coordinates\n",
      "\n",
      "Running samtools markdup now\n",
      "\n",
      "Detected samtools with version greater or equal to 1.10. Producing duplicate removal stats file.\n",
      "\n",
      "Indexing the BAM file\n",
      "\n",
      "Cleaning up intermediary files\n",
      "\n",
      "The output BAM file was sent to/SGRNJ06/randd/USER/cjj/celedev/atac/20230607hs_mu/scPipeATACVignette\n",
      "\n"
     ]
    }
   ],
   "source": [
    "removed <- sc_atac_remove_duplicates(sorted_tagged_bam,\n",
    "                          output_folder = output_folder)\n",
    "if (!isFALSE(removed))\n",
    "  sorted_tagged_bam <- removed"
   ]
  },
  {
   "cell_type": "code",
   "execution_count": 30,
   "id": "alpine-farmer",
   "metadata": {},
   "outputs": [
    {
     "name": "stdout",
     "output_type": "stream",
     "text": [
      "Output folder name is: /SGRNJ06/randd/USER/cjj/celedev/atac/20230607hs_mu/scPipeATACVignette\n",
      "Output BED file: /SGRNJ06/randd/USER/cjj/celedev/atac/20230607hs_mu/scPipeATACVignette/fragments.bed\n"
     ]
    }
   ],
   "source": [
    "sc_atac_create_fragments(inbam = sorted_tagged_bam,\n",
    "                         output_folder = output_folder)"
   ]
  },
  {
   "cell_type": "code",
   "execution_count": 31,
   "id": "boolean-bones",
   "metadata": {},
   "outputs": [
    {
     "name": "stderr",
     "output_type": "stream",
     "text": [
      "Using genome size of1e+06\n",
      "\n"
     ]
    }
   ],
   "source": [
    "# CHECK IF THE .narrowPeak file is small enough to include in the package,\n",
    "# otherwise, we need to make this basilisk call work??\n",
    "sc_atac_peak_calling(inbam = sorted_tagged_bam, \n",
    "                     ref = reference,\n",
    "                     genome_size = NULL,\n",
    "                     output_folder = output_folder)"
   ]
  },
  {
   "cell_type": "code",
   "execution_count": null,
   "id": "dated-insertion",
   "metadata": {},
   "outputs": [],
   "source": [
    "?sc_atac_feature_counting"
   ]
  },
  {
   "cell_type": "code",
   "execution_count": 33,
   "id": "ideal-albania",
   "metadata": {},
   "outputs": [
    {
     "name": "stderr",
     "output_type": "stream",
     "text": [
      "`peak`, `tss` or `gene` feature_type is selected for feature input\n",
      "\n",
      "Creating Galignment object for the feature input ...\n",
      "\n",
      "hg38is a recognized organism. Using annotation files in repository.\n",
      "\n",
      "Generating TSS plot data\n",
      "\n",
      "Generating feature-barcode fragment count matrix\n",
      "\n",
      "Average no. of fragments per barcode: 1.35188866799205\n",
      "\n",
      "\n",
      "Raw feature matrix generated: /SGRNJ06/randd/USER/cjj/celedev/atac/20230607hs_mu/scPipeATACVignette/unfiltered_feature_matrix.rds\n",
      "\n",
      "Calculating TSS enrichment scores\n",
      "\n",
      "Generating QC metrics for cells\n",
      "\n",
      "\n",
      "`none` function is used for cell calling ... \n",
      "\n",
      "nonewas not an implemented cell calling method\n",
      "\n",
      "cell called and stored in /SGRNJ06/randd/USER/cjj/celedev/atac/20230607hs_mu/scPipeATACVignette\n",
      "\n",
      "Cells with less than 200 counts are filtered out.\n",
      "\n",
      "Number of cells to remove:1509\n",
      "\n",
      "No cells were filtered out since otherwise there would be too few left.\n",
      "\n",
      "features with less than 10 counts are filtered out.\n",
      "\n",
      "Number of features to remove:4\n",
      "\n",
      "No features were filtered out since otherwise there would be too few left.\n",
      "\n",
      "making sparse\n",
      "\n",
      "Sparse matrix generated\n",
      "\n",
      "Sparse count matrix is saved in\n",
      "/SGRNJ06/randd/USER/cjj/celedev/atac/20230607hs_mu/scPipeATACVignette/sparse_matrix.mtx\n",
      "\n",
      "Binary matrix is saved in:\n",
      "/SGRNJ06/randd/USER/cjj/celedev/atac/20230607hs_mu/scPipeATACVignette/binary_matrix.rds\n",
      "\n",
      "Computing feature QC metrics\n",
      "\n",
      "writing to csv\n",
      "\n",
      "SCE object is saved in:\n",
      "\t/SGRNJ06/randd/USER/cjj/celedev/atac/20230607hs_mu/scPipeATACVignette/scPipe_atac_SCEobject.rds\n",
      "\n",
      "sc_atac_feature_counting completed in 8.45586204528809 seconds\n",
      "\n"
     ]
    }
   ],
   "source": [
    "features          <- file.path(output_folder, \"NA_peaks.narrowPeak\")\n",
    "\n",
    "sc_atac_feature_counting (fragment_file = file.path(output_folder, \"fragments.bed\"),\n",
    "                          feature_input = features, \n",
    "                          bam_tags      = list(bc=\"CB\", mb=\"OX\"), \n",
    "                          feature_type  = \"peak\",\n",
    "                          organism      = \"hg38\",\n",
    "                          cell_calling  = \"none\",\n",
    "                          min_uniq_frags = 0,\n",
    "                          min_frac_peak = 0,\n",
    "                          min_frac_promoter = 0,\n",
    "                          yieldsize     = 1000000,\n",
    "                          exclude_regions = TRUE,\n",
    "                          output_folder = output_folder,\n",
    "                          fix_chr       = \"none\",\n",
    "                          create_report = TRUE\n",
    "                          )"
   ]
  },
  {
   "cell_type": "code",
   "execution_count": 34,
   "id": "neither-spotlight",
   "metadata": {},
   "outputs": [
    {
     "name": "stdout",
     "output_type": "stream",
     "text": [
      "Formal class 'dgCMatrix' [package \"Matrix\"] with 6 slots\n",
      "  ..@ i       : int [1:1550] 4 6 4 4 4 4 4 4 1 4 ...\n",
      "  ..@ p       : int [1:1510] 0 1 2 3 4 5 6 7 8 9 ...\n",
      "  ..@ Dim     : int [1:2] 11 1509\n",
      "  ..@ Dimnames:List of 2\n",
      "  .. ..$ feature: chr [1:11] \"chr21:284484-285174\" \"chr21:287515-288092\" \"chr21:288148-288891\" \"chr21:289014-289231\" ...\n",
      "  .. ..$ barcode: chr [1:1509] \"AAACGAACAGTAAGCG\" \"AAACGAACATGGATGG\" \"AAACGAATCGGACGAA\" \"AAACGAATCTGTGTGA\" ...\n",
      "  ..@ x       : num [1:1550] 1 1 1 1 1 2 1 1 1 1 ...\n",
      "  ..@ factors : list()\n"
     ]
    }
   ],
   "source": [
    "feature_matrix <- readRDS(file.path(output_folder, \"unfiltered_feature_matrix.rds\"))\n",
    "dplyr::glimpse(feature_matrix)"
   ]
  },
  {
   "cell_type": "code",
   "execution_count": null,
   "id": "composed-allah",
   "metadata": {},
   "outputs": [],
   "source": [
    "?sc_atac_create_sce"
   ]
  },
  {
   "cell_type": "code",
   "execution_count": 36,
   "id": "interpreted-fossil",
   "metadata": {},
   "outputs": [
    {
     "name": "stderr",
     "output_type": "stream",
     "text": [
      "SCE object is saved in:\n",
      "\t/SGRNJ06/randd/USER/cjj/celedev/atac/20230607hs_mu/scPipeATACVignette/scPipe_atac_SCEobject.rds\n",
      "\n"
     ]
    }
   ],
   "source": [
    "sce <- sc_atac_create_sce(input_folder = output_folder,\n",
    "                   organism     = \"hg38\",\n",
    "                   feature_type = \"peak\",\n",
    "                   pheno_data   = NULL,\n",
    "                   report       = TRUE)"
   ]
  },
  {
   "cell_type": "code",
   "execution_count": 15,
   "id": "brazilian-union",
   "metadata": {},
   "outputs": [
    {
     "data": {
      "text/html": [
       "\n",
       "<table style=\"width: 100%;\"><tr><td>sc_atac_feature_counting {scPipe}</td><td style=\"text-align: right;\">R Documentation</td></tr></table>\n",
       "\n",
       "<h2 id='sc_atac_feature_counting'>generating the feature by cell matrix</h2>\n",
       "\n",
       "<h3>Description</h3>\n",
       "\n",
       "<p>feature matrix is created using a given demultiplexed BAM file and \n",
       "a selected feature type\n",
       "</p>\n",
       "\n",
       "\n",
       "<h3>Usage</h3>\n",
       "\n",
       "<pre><code class='language-R'>sc_atac_feature_counting(\n",
       "  fragment_file,\n",
       "  feature_input = NULL,\n",
       "  bam_tags = list(bc = \"CB\", mb = \"OX\"),\n",
       "  feature_type = \"peak\",\n",
       "  organism = \"hg38\",\n",
       "  cell_calling = \"filter\",\n",
       "  sample_name = \"\",\n",
       "  genome_size = NULL,\n",
       "  promoters_file = NULL,\n",
       "  tss_file = NULL,\n",
       "  enhs_file = NULL,\n",
       "  gene_anno_file = NULL,\n",
       "  pheno_data = NULL,\n",
       "  bin_size = NULL,\n",
       "  yieldsize = 1e+06,\n",
       "  n_filter_cell_counts = 200,\n",
       "  n_filter_feature_counts = 10,\n",
       "  exclude_regions = FALSE,\n",
       "  excluded_regions_filename = NULL,\n",
       "  output_folder = NULL,\n",
       "  fix_chr = \"none\",\n",
       "  lower = NULL,\n",
       "  min_uniq_frags = 3000,\n",
       "  max_uniq_frags = 50000,\n",
       "  min_frac_peak = 0.3,\n",
       "  min_frac_tss = 0,\n",
       "  min_frac_enhancer = 0,\n",
       "  min_frac_promoter = 0.1,\n",
       "  max_frac_mito = 0.15,\n",
       "  create_report = FALSE\n",
       ")\n",
       "</code></pre>\n",
       "\n",
       "\n",
       "<h3>Arguments</h3>\n",
       "\n",
       "<table>\n",
       "<tr><td><code id=\"sc_atac_feature_counting_:_fragment_file\">fragment_file</code></td>\n",
       "<td>\n",
       "<p>The fragment file</p>\n",
       "</td></tr>\n",
       "<tr><td><code id=\"sc_atac_feature_counting_:_feature_input\">feature_input</code></td>\n",
       "<td>\n",
       "<p>The feature input data e.g. the .narrowPeak file for peaks of a bed file format</p>\n",
       "</td></tr>\n",
       "<tr><td><code id=\"sc_atac_feature_counting_:_bam_tags\">bam_tags</code></td>\n",
       "<td>\n",
       "<p>The BAM tags</p>\n",
       "</td></tr>\n",
       "<tr><td><code id=\"sc_atac_feature_counting_:_feature_type\">feature_type</code></td>\n",
       "<td>\n",
       "<p>The type of feature</p>\n",
       "</td></tr>\n",
       "<tr><td><code id=\"sc_atac_feature_counting_:_organism\">organism</code></td>\n",
       "<td>\n",
       "<p>The organism type (contains hg19, hg38, mm10)</p>\n",
       "</td></tr>\n",
       "<tr><td><code id=\"sc_atac_feature_counting_:_cell_calling\">cell_calling</code></td>\n",
       "<td>\n",
       "<p>The desired cell calling method; either <code>cellranger</code>, <code>emptydrops</code> or  <code>filter</code>.</p>\n",
       "</td></tr>\n",
       "<tr><td><code id=\"sc_atac_feature_counting_:_sample_name\">sample_name</code></td>\n",
       "<td>\n",
       "<p>The sample name to identify which is the data is analysed for.</p>\n",
       "</td></tr>\n",
       "<tr><td><code id=\"sc_atac_feature_counting_:_genome_size\">genome_size</code></td>\n",
       "<td>\n",
       "<p>The size of the genome (used for the <code>cellranger</code> cell calling method)</p>\n",
       "</td></tr>\n",
       "<tr><td><code id=\"sc_atac_feature_counting_:_promoters_file\">promoters_file</code></td>\n",
       "<td>\n",
       "<p>The path of the promoter annotation file (if the specified organism isn't recognised).</p>\n",
       "</td></tr>\n",
       "<tr><td><code id=\"sc_atac_feature_counting_:_tss_file\">tss_file</code></td>\n",
       "<td>\n",
       "<p>The path of the tss annotation file (if the specified organism isn't recognised).</p>\n",
       "</td></tr>\n",
       "<tr><td><code id=\"sc_atac_feature_counting_:_enhs_file\">enhs_file</code></td>\n",
       "<td>\n",
       "<p>The path of the enhs annotation file (if the specified organism isn't recognised).</p>\n",
       "</td></tr>\n",
       "<tr><td><code id=\"sc_atac_feature_counting_:_gene_anno_file\">gene_anno_file</code></td>\n",
       "<td>\n",
       "<p>The path of the gene annotation file (gtf or gff3 format).</p>\n",
       "</td></tr>\n",
       "<tr><td><code id=\"sc_atac_feature_counting_:_pheno_data\">pheno_data</code></td>\n",
       "<td>\n",
       "<p>The phenotypic data as a data frame</p>\n",
       "</td></tr>\n",
       "<tr><td><code id=\"sc_atac_feature_counting_:_bin_size\">bin_size</code></td>\n",
       "<td>\n",
       "<p>The size of the bins</p>\n",
       "</td></tr>\n",
       "<tr><td><code id=\"sc_atac_feature_counting_:_yieldsize\">yieldsize</code></td>\n",
       "<td>\n",
       "<p>The yield size</p>\n",
       "</td></tr>\n",
       "<tr><td><code id=\"sc_atac_feature_counting_:_n_filter_cell_counts\">n_filter_cell_counts</code></td>\n",
       "<td>\n",
       "<p>An integer value to filter the feature matrix on the number of reads per cell (default = 200)</p>\n",
       "</td></tr>\n",
       "<tr><td><code id=\"sc_atac_feature_counting_:_n_filter_feature_counts\">n_filter_feature_counts</code></td>\n",
       "<td>\n",
       "<p>An integer value to filter the feature matrix on the number of reads per feature (default = 10).</p>\n",
       "</td></tr>\n",
       "<tr><td><code id=\"sc_atac_feature_counting_:_exclude_regions\">exclude_regions</code></td>\n",
       "<td>\n",
       "<p>Whether or not the regions (specified in the file) should be excluded</p>\n",
       "</td></tr>\n",
       "<tr><td><code id=\"sc_atac_feature_counting_:_excluded_regions_filename\">excluded_regions_filename</code></td>\n",
       "<td>\n",
       "<p>The filename of the file containing the regions to be excluded</p>\n",
       "</td></tr>\n",
       "<tr><td><code id=\"sc_atac_feature_counting_:_output_folder\">output_folder</code></td>\n",
       "<td>\n",
       "<p>The output folder</p>\n",
       "</td></tr>\n",
       "<tr><td><code id=\"sc_atac_feature_counting_:_fix_chr\">fix_chr</code></td>\n",
       "<td>\n",
       "<p>Whether chr should be fixed or not</p>\n",
       "</td></tr>\n",
       "<tr><td><code id=\"sc_atac_feature_counting_:_lower\">lower</code></td>\n",
       "<td>\n",
       "<p>the lower threshold for the data if using the <code>emptydrops</code> function for cell calling</p>\n",
       "</td></tr>\n",
       "<tr><td><code id=\"sc_atac_feature_counting_:_min_uniq_frags\">min_uniq_frags</code></td>\n",
       "<td>\n",
       "<p>The minimum number of required unique fragments required for a cell (used for <code>filter</code> cell calling)</p>\n",
       "</td></tr>\n",
       "<tr><td><code id=\"sc_atac_feature_counting_:_max_uniq_frags\">max_uniq_frags</code></td>\n",
       "<td>\n",
       "<p>The maximum number of required unique fragments required for a cell (used for <code>filter</code> cell calling)</p>\n",
       "</td></tr>\n",
       "<tr><td><code id=\"sc_atac_feature_counting_:_min_frac_peak\">min_frac_peak</code></td>\n",
       "<td>\n",
       "<p>The minimum proportion of fragments in a cell to overlap with a peak (used for <code>filter</code> cell calling)</p>\n",
       "</td></tr>\n",
       "<tr><td><code id=\"sc_atac_feature_counting_:_min_frac_tss\">min_frac_tss</code></td>\n",
       "<td>\n",
       "<p>The minimum proportion of fragments in a cell to overlap with a tss (used for <code>filter</code> cell calling)</p>\n",
       "</td></tr>\n",
       "<tr><td><code id=\"sc_atac_feature_counting_:_min_frac_enhancer\">min_frac_enhancer</code></td>\n",
       "<td>\n",
       "<p>The minimum proportion of fragments in a cell to overlap with a enhancer sequence (used for <code>filter</code> cell calling)</p>\n",
       "</td></tr>\n",
       "<tr><td><code id=\"sc_atac_feature_counting_:_min_frac_promoter\">min_frac_promoter</code></td>\n",
       "<td>\n",
       "<p>The minimum proportion of fragments in a cell to overlap with a promoter sequence (used for <code>filter</code> cell calling)</p>\n",
       "</td></tr>\n",
       "<tr><td><code id=\"sc_atac_feature_counting_:_max_frac_mito\">max_frac_mito</code></td>\n",
       "<td>\n",
       "<p>The maximum proportion of fragments in a cell that are mitochondrial (used for <code>filter</code> cell calling)</p>\n",
       "</td></tr>\n",
       "<tr><td><code id=\"sc_atac_feature_counting_:_create_report\">create_report</code></td>\n",
       "<td>\n",
       "<p>Logical value to say whether to create the report or not (default = TRUE).</p>\n",
       "</td></tr>\n",
       "</table>\n",
       "\n",
       "\n",
       "<h3>Value</h3>\n",
       "\n",
       "<p>None (invisible 'NULL')\n",
       "</p>\n",
       "\n",
       "\n",
       "<h3>Examples</h3>\n",
       "\n",
       "<pre><code class='language-R'>## Not run: \n",
       "sc_atac_feature_counting(\n",
       "   fragment_file = fragment_file,\n",
       "   cell_calling = \"filter\",\n",
       "   exclude_regions = TRUE,\n",
       "   feature_input = feature_file)\n",
       "\n",
       "## End(Not run)    \n",
       "</code></pre>\n",
       "\n",
       "<hr /><div style=\"text-align: center;\">[Package <em>scPipe</em> version 2.0.0 ]</div>\n",
       "</div>"
      ],
      "text/latex": [
       "\\inputencoding{utf8}\n",
       "\\HeaderA{sc\\_atac\\_feature\\_counting}{generating the feature by cell matrix}{sc.Rul.atac.Rul.feature.Rul.counting}\n",
       "%\n",
       "\\begin{Description}\n",
       "feature matrix is created using a given demultiplexed BAM file and \n",
       "a selected feature type\n",
       "\\end{Description}\n",
       "%\n",
       "\\begin{Usage}\n",
       "\\begin{verbatim}\n",
       "sc_atac_feature_counting(\n",
       "  fragment_file,\n",
       "  feature_input = NULL,\n",
       "  bam_tags = list(bc = \"CB\", mb = \"OX\"),\n",
       "  feature_type = \"peak\",\n",
       "  organism = \"hg38\",\n",
       "  cell_calling = \"filter\",\n",
       "  sample_name = \"\",\n",
       "  genome_size = NULL,\n",
       "  promoters_file = NULL,\n",
       "  tss_file = NULL,\n",
       "  enhs_file = NULL,\n",
       "  gene_anno_file = NULL,\n",
       "  pheno_data = NULL,\n",
       "  bin_size = NULL,\n",
       "  yieldsize = 1e+06,\n",
       "  n_filter_cell_counts = 200,\n",
       "  n_filter_feature_counts = 10,\n",
       "  exclude_regions = FALSE,\n",
       "  excluded_regions_filename = NULL,\n",
       "  output_folder = NULL,\n",
       "  fix_chr = \"none\",\n",
       "  lower = NULL,\n",
       "  min_uniq_frags = 3000,\n",
       "  max_uniq_frags = 50000,\n",
       "  min_frac_peak = 0.3,\n",
       "  min_frac_tss = 0,\n",
       "  min_frac_enhancer = 0,\n",
       "  min_frac_promoter = 0.1,\n",
       "  max_frac_mito = 0.15,\n",
       "  create_report = FALSE\n",
       ")\n",
       "\\end{verbatim}\n",
       "\\end{Usage}\n",
       "%\n",
       "\\begin{Arguments}\n",
       "\\begin{ldescription}\n",
       "\\item[\\code{fragment\\_file}] The fragment file\n",
       "\n",
       "\\item[\\code{feature\\_input}] The feature input data e.g. the .narrowPeak file for peaks of a bed file format\n",
       "\n",
       "\\item[\\code{bam\\_tags}] The BAM tags\n",
       "\n",
       "\\item[\\code{feature\\_type}] The type of feature\n",
       "\n",
       "\\item[\\code{organism}] The organism type (contains hg19, hg38, mm10)\n",
       "\n",
       "\\item[\\code{cell\\_calling}] The desired cell calling method; either \\code{cellranger}, \\code{emptydrops} or  \\code{filter}.\n",
       "\n",
       "\\item[\\code{sample\\_name}] The sample name to identify which is the data is analysed for.\n",
       "\n",
       "\\item[\\code{genome\\_size}] The size of the genome (used for the \\code{cellranger} cell calling method)\n",
       "\n",
       "\\item[\\code{promoters\\_file}] The path of the promoter annotation file (if the specified organism isn't recognised).\n",
       "\n",
       "\\item[\\code{tss\\_file}] The path of the tss annotation file (if the specified organism isn't recognised).\n",
       "\n",
       "\\item[\\code{enhs\\_file}] The path of the enhs annotation file (if the specified organism isn't recognised).\n",
       "\n",
       "\\item[\\code{gene\\_anno\\_file}] The path of the gene annotation file (gtf or gff3 format).\n",
       "\n",
       "\\item[\\code{pheno\\_data}] The phenotypic data as a data frame\n",
       "\n",
       "\\item[\\code{bin\\_size}] The size of the bins\n",
       "\n",
       "\\item[\\code{yieldsize}] The yield size\n",
       "\n",
       "\\item[\\code{n\\_filter\\_cell\\_counts}] An integer value to filter the feature matrix on the number of reads per cell (default = 200)\n",
       "\n",
       "\\item[\\code{n\\_filter\\_feature\\_counts}] An integer value to filter the feature matrix on the number of reads per feature (default = 10).\n",
       "\n",
       "\\item[\\code{exclude\\_regions}] Whether or not the regions (specified in the file) should be excluded\n",
       "\n",
       "\\item[\\code{excluded\\_regions\\_filename}] The filename of the file containing the regions to be excluded\n",
       "\n",
       "\\item[\\code{output\\_folder}] The output folder\n",
       "\n",
       "\\item[\\code{fix\\_chr}] Whether chr should be fixed or not\n",
       "\n",
       "\\item[\\code{lower}] the lower threshold for the data if using the \\code{emptydrops} function for cell calling\n",
       "\n",
       "\\item[\\code{min\\_uniq\\_frags}] The minimum number of required unique fragments required for a cell (used for \\code{filter} cell calling)\n",
       "\n",
       "\\item[\\code{max\\_uniq\\_frags}] The maximum number of required unique fragments required for a cell (used for \\code{filter} cell calling)\n",
       "\n",
       "\\item[\\code{min\\_frac\\_peak}] The minimum proportion of fragments in a cell to overlap with a peak (used for \\code{filter} cell calling)\n",
       "\n",
       "\\item[\\code{min\\_frac\\_tss}] The minimum proportion of fragments in a cell to overlap with a tss (used for \\code{filter} cell calling)\n",
       "\n",
       "\\item[\\code{min\\_frac\\_enhancer}] The minimum proportion of fragments in a cell to overlap with a enhancer sequence (used for \\code{filter} cell calling)\n",
       "\n",
       "\\item[\\code{min\\_frac\\_promoter}] The minimum proportion of fragments in a cell to overlap with a promoter sequence (used for \\code{filter} cell calling)\n",
       "\n",
       "\\item[\\code{max\\_frac\\_mito}] The maximum proportion of fragments in a cell that are mitochondrial (used for \\code{filter} cell calling)\n",
       "\n",
       "\\item[\\code{create\\_report}] Logical value to say whether to create the report or not (default = TRUE).\n",
       "\\end{ldescription}\n",
       "\\end{Arguments}\n",
       "%\n",
       "\\begin{Value}\n",
       "None (invisible `NULL`)\n",
       "\\end{Value}\n",
       "%\n",
       "\\begin{Examples}\n",
       "\\begin{ExampleCode}\n",
       "## Not run: \n",
       "sc_atac_feature_counting(\n",
       "   fragment_file = fragment_file,\n",
       "   cell_calling = \"filter\",\n",
       "   exclude_regions = TRUE,\n",
       "   feature_input = feature_file)\n",
       "\n",
       "## End(Not run)    \n",
       "\\end{ExampleCode}\n",
       "\\end{Examples}"
      ],
      "text/plain": [
       "sc_atac_feature_counting        package:scPipe         R Documentation\n",
       "\n",
       "_\bg_\be_\bn_\be_\br_\ba_\bt_\bi_\bn_\bg _\bt_\bh_\be _\bf_\be_\ba_\bt_\bu_\br_\be _\bb_\by _\bc_\be_\bl_\bl _\bm_\ba_\bt_\br_\bi_\bx\n",
       "\n",
       "_\bD_\be_\bs_\bc_\br_\bi_\bp_\bt_\bi_\bo_\bn:\n",
       "\n",
       "     feature matrix is created using a given demultiplexed BAM file and\n",
       "     a selected feature type\n",
       "\n",
       "_\bU_\bs_\ba_\bg_\be:\n",
       "\n",
       "     sc_atac_feature_counting(\n",
       "       fragment_file,\n",
       "       feature_input = NULL,\n",
       "       bam_tags = list(bc = \"CB\", mb = \"OX\"),\n",
       "       feature_type = \"peak\",\n",
       "       organism = \"hg38\",\n",
       "       cell_calling = \"filter\",\n",
       "       sample_name = \"\",\n",
       "       genome_size = NULL,\n",
       "       promoters_file = NULL,\n",
       "       tss_file = NULL,\n",
       "       enhs_file = NULL,\n",
       "       gene_anno_file = NULL,\n",
       "       pheno_data = NULL,\n",
       "       bin_size = NULL,\n",
       "       yieldsize = 1e+06,\n",
       "       n_filter_cell_counts = 200,\n",
       "       n_filter_feature_counts = 10,\n",
       "       exclude_regions = FALSE,\n",
       "       excluded_regions_filename = NULL,\n",
       "       output_folder = NULL,\n",
       "       fix_chr = \"none\",\n",
       "       lower = NULL,\n",
       "       min_uniq_frags = 3000,\n",
       "       max_uniq_frags = 50000,\n",
       "       min_frac_peak = 0.3,\n",
       "       min_frac_tss = 0,\n",
       "       min_frac_enhancer = 0,\n",
       "       min_frac_promoter = 0.1,\n",
       "       max_frac_mito = 0.15,\n",
       "       create_report = FALSE\n",
       "     )\n",
       "     \n",
       "_\bA_\br_\bg_\bu_\bm_\be_\bn_\bt_\bs:\n",
       "\n",
       "fragment_file: The fragment file\n",
       "\n",
       "feature_input: The feature input data e.g. the .narrowPeak file for\n",
       "          peaks of a bed file format\n",
       "\n",
       "bam_tags: The BAM tags\n",
       "\n",
       "feature_type: The type of feature\n",
       "\n",
       "organism: The organism type (contains hg19, hg38, mm10)\n",
       "\n",
       "cell_calling: The desired cell calling method; either ‘cellranger’,\n",
       "          ‘emptydrops’ or ‘filter’.\n",
       "\n",
       "sample_name: The sample name to identify which is the data is analysed\n",
       "          for.\n",
       "\n",
       "genome_size: The size of the genome (used for the ‘cellranger’ cell\n",
       "          calling method)\n",
       "\n",
       "promoters_file: The path of the promoter annotation file (if the\n",
       "          specified organism isn't recognised).\n",
       "\n",
       "tss_file: The path of the tss annotation file (if the specified\n",
       "          organism isn't recognised).\n",
       "\n",
       "enhs_file: The path of the enhs annotation file (if the specified\n",
       "          organism isn't recognised).\n",
       "\n",
       "gene_anno_file: The path of the gene annotation file (gtf or gff3\n",
       "          format).\n",
       "\n",
       "pheno_data: The phenotypic data as a data frame\n",
       "\n",
       "bin_size: The size of the bins\n",
       "\n",
       "yieldsize: The yield size\n",
       "\n",
       "n_filter_cell_counts: An integer value to filter the feature matrix on\n",
       "          the number of reads per cell (default = 200)\n",
       "\n",
       "n_filter_feature_counts: An integer value to filter the feature matrix\n",
       "          on the number of reads per feature (default = 10).\n",
       "\n",
       "exclude_regions: Whether or not the regions (specified in the file)\n",
       "          should be excluded\n",
       "\n",
       "excluded_regions_filename: The filename of the file containing the\n",
       "          regions to be excluded\n",
       "\n",
       "output_folder: The output folder\n",
       "\n",
       " fix_chr: Whether chr should be fixed or not\n",
       "\n",
       "   lower: the lower threshold for the data if using the ‘emptydrops’\n",
       "          function for cell calling\n",
       "\n",
       "min_uniq_frags: The minimum number of required unique fragments\n",
       "          required for a cell (used for ‘filter’ cell calling)\n",
       "\n",
       "max_uniq_frags: The maximum number of required unique fragments\n",
       "          required for a cell (used for ‘filter’ cell calling)\n",
       "\n",
       "min_frac_peak: The minimum proportion of fragments in a cell to overlap\n",
       "          with a peak (used for ‘filter’ cell calling)\n",
       "\n",
       "min_frac_tss: The minimum proportion of fragments in a cell to overlap\n",
       "          with a tss (used for ‘filter’ cell calling)\n",
       "\n",
       "min_frac_enhancer: The minimum proportion of fragments in a cell to\n",
       "          overlap with a enhancer sequence (used for ‘filter’ cell\n",
       "          calling)\n",
       "\n",
       "min_frac_promoter: The minimum proportion of fragments in a cell to\n",
       "          overlap with a promoter sequence (used for ‘filter’ cell\n",
       "          calling)\n",
       "\n",
       "max_frac_mito: The maximum proportion of fragments in a cell that are\n",
       "          mitochondrial (used for ‘filter’ cell calling)\n",
       "\n",
       "create_report: Logical value to say whether to create the report or not\n",
       "          (default = TRUE).\n",
       "\n",
       "_\bV_\ba_\bl_\bu_\be:\n",
       "\n",
       "     None (invisible `NULL`)\n",
       "\n",
       "_\bE_\bx_\ba_\bm_\bp_\bl_\be_\bs:\n",
       "\n",
       "     ## Not run:\n",
       "     \n",
       "     sc_atac_feature_counting(\n",
       "        fragment_file = fragment_file,\n",
       "        cell_calling = \"filter\",\n",
       "        exclude_regions = TRUE,\n",
       "        feature_input = feature_file)\n",
       "     ## End(Not run)\n",
       "     "
      ]
     },
     "metadata": {},
     "output_type": "display_data"
    }
   ],
   "source": [
    "?sc_atac_feature_counting"
   ]
  },
  {
   "cell_type": "code",
   "execution_count": null,
   "id": "equal-operation",
   "metadata": {},
   "outputs": [],
   "source": []
  },
  {
   "cell_type": "code",
   "execution_count": null,
   "id": "distributed-tanzania",
   "metadata": {},
   "outputs": [],
   "source": []
  },
  {
   "cell_type": "code",
   "execution_count": null,
   "id": "compact-twelve",
   "metadata": {},
   "outputs": [],
   "source": []
  },
  {
   "cell_type": "code",
   "execution_count": null,
   "id": "unexpected-projection",
   "metadata": {},
   "outputs": [],
   "source": []
  },
  {
   "cell_type": "code",
   "execution_count": null,
   "id": "literary-providence",
   "metadata": {},
   "outputs": [],
   "source": []
  },
  {
   "cell_type": "code",
   "execution_count": null,
   "id": "korean-receptor",
   "metadata": {},
   "outputs": [],
   "source": []
  },
  {
   "cell_type": "code",
   "execution_count": null,
   "id": "introductory-gossip",
   "metadata": {},
   "outputs": [],
   "source": []
  },
  {
   "cell_type": "code",
   "execution_count": null,
   "id": "vital-approval",
   "metadata": {},
   "outputs": [],
   "source": []
  },
  {
   "cell_type": "code",
   "execution_count": null,
   "id": "informational-weather",
   "metadata": {},
   "outputs": [],
   "source": []
  },
  {
   "cell_type": "code",
   "execution_count": null,
   "id": "prescription-distributor",
   "metadata": {},
   "outputs": [],
   "source": []
  },
  {
   "cell_type": "code",
   "execution_count": null,
   "id": "covered-complexity",
   "metadata": {},
   "outputs": [],
   "source": []
  },
  {
   "cell_type": "code",
   "execution_count": null,
   "id": "assisted-arctic",
   "metadata": {},
   "outputs": [],
   "source": []
  },
  {
   "cell_type": "code",
   "execution_count": null,
   "id": "ecological-cedar",
   "metadata": {},
   "outputs": [],
   "source": []
  },
  {
   "cell_type": "code",
   "execution_count": null,
   "id": "qualified-apple",
   "metadata": {},
   "outputs": [],
   "source": []
  },
  {
   "cell_type": "code",
   "execution_count": null,
   "id": "hourly-salon",
   "metadata": {},
   "outputs": [],
   "source": []
  },
  {
   "cell_type": "code",
   "execution_count": null,
   "id": "raising-confidentiality",
   "metadata": {},
   "outputs": [],
   "source": [
    "# data fastq files\n",
    "r1      <- file.path(data.folder, \"small_chr21_R1.fastq.gz\") \n",
    "r2      <- file.path(data.folder, \"small_chr21_R3.fastq.gz\") \n",
    "\n",
    "# barcodes in fastq format\n",
    "barcode_fastq      <- file.path(data.folder, \"small_chr21_R2.fastq.gz\") "
   ]
  },
  {
   "cell_type": "code",
   "execution_count": null,
   "id": "harmful-exhibition",
   "metadata": {},
   "outputs": [],
   "source": [
    "?sc_atac_pipeline"
   ]
  },
  {
   "cell_type": "code",
   "execution_count": null,
   "id": "flush-ethernet",
   "metadata": {},
   "outputs": [],
   "source": [
    "data.folder <- system.file(\"extdata\", package = \"scPipe\", mustWork = TRUE)\n",
    "output_folder <- paste0(\"/SGRNJ06/randd/USER/cjj/celedev/atac/20230607hs_mu\", \"/scPipeATACVignette\")\n",
    "sce <- sc_atac_pipeline(r1,\n",
    "                        r2,\n",
    "                        barcode_fastq,\n",
    "                        organism = \"hg38\",\n",
    "                        reference = file.path(data.folder, \"small_chr21.fa\"),\n",
    "                        feature_type = \"peak\",\n",
    "                        remove_duplicates = TRUE,\n",
    "                        min_uniq_frags = 0, # set to 0 as the sample dataset only has a small number of reads\n",
    "                        min_frac_peak = 0,\n",
    "                        min_frac_promoter = 0,\n",
    "                        report = TRUE,\n",
    "                        output_folder = output_folder)"
   ]
  },
  {
   "cell_type": "code",
   "execution_count": null,
   "id": "measured-present",
   "metadata": {},
   "outputs": [],
   "source": []
  },
  {
   "cell_type": "code",
   "execution_count": null,
   "id": "varied-footage",
   "metadata": {},
   "outputs": [],
   "source": []
  },
  {
   "cell_type": "code",
   "execution_count": null,
   "id": "fabulous-desert",
   "metadata": {},
   "outputs": [],
   "source": []
  },
  {
   "cell_type": "code",
   "execution_count": null,
   "id": "mediterranean-scratch",
   "metadata": {},
   "outputs": [],
   "source": [
    "# sample\n",
    "library(\"scPipe\")"
   ]
  },
  {
   "cell_type": "code",
   "execution_count": null,
   "id": "continental-karen",
   "metadata": {},
   "outputs": [],
   "source": [
    "data.folder <- \"/SGRNJ06/randd/USER/cjj/celedev/atac/20230811scpipe/test1/rawdata/\"\n",
    "output_folder <- \"/SGRNJ06/randd/USER/cjj/celedev/atac/20230811scpipe/test1\"\n",
    "#reference <- \"/SGRNJ06/randd/USER/cjj/cr-atac/refdata-cellranger-arc-GRCh38-2020-A-2.0.0/fasta/genome.fa\"\n",
    "reference <- \"/SGRNJ01/Public/Software/conda_env/scpipe/lib/R/library/scPipe/extdata/small_chr21.fa\""
   ]
  },
  {
   "cell_type": "code",
   "execution_count": null,
   "id": "retained-characterization",
   "metadata": {},
   "outputs": [],
   "source": [
    "r1 = \"/SGRNJ06/randd/USER/cjj/celedev/atac/20230811scpipe/test1/rawdata/A0727_1_3_MC_storage3_2W_T7_6515TESDSTween_TD612_C16_1.fq\"\n",
    "r2 = \"/SGRNJ06/randd/USER/cjj/celedev/atac/20230811scpipe/test1/rawdata/A0727_1_3_MC_storage3_2W_T7_6515TESDSTween_TD612_C16_3.fq\""
   ]
  },
  {
   "cell_type": "code",
   "execution_count": null,
   "id": "italic-decimal",
   "metadata": {},
   "outputs": [],
   "source": [
    "# Aligning reads to a reference genome\n",
    "aligned_bam <- sc_aligning(ref = reference, \n",
    "                R1 = r1, \n",
    "                R2 = r2, \n",
    "                nthreads  = 12,\n",
    "                output_folder = output_folder)"
   ]
  },
  {
   "cell_type": "code",
   "execution_count": null,
   "id": "certain-therapist",
   "metadata": {},
   "outputs": [],
   "source": [
    "sorted_tagged_bam <- sc_atac_bam_tagging (inbam = aligned_bam, \n",
    "                       output_folder =  output_folder, \n",
    "                       bam_tags      = list(bc=\"CB\", mb=\"OX\"), \n",
    "                       nthreads      =  12)"
   ]
  },
  {
   "cell_type": "code",
   "execution_count": null,
   "id": "another-earth",
   "metadata": {},
   "outputs": [],
   "source": [
    "removed <- sc_atac_remove_duplicates(sorted_tagged_bam,\n",
    "                          output_folder = output_folder)\n",
    "if (!isFALSE(removed))\n",
    "  sorted_tagged_bam <- removed"
   ]
  },
  {
   "cell_type": "code",
   "execution_count": null,
   "id": "comparative-paper",
   "metadata": {},
   "outputs": [],
   "source": [
    "sc_atac_create_fragments(inbam = sorted_tagged_bam,\n",
    "                         output_folder = output_folder)"
   ]
  },
  {
   "cell_type": "code",
   "execution_count": null,
   "id": "broad-preliminary",
   "metadata": {},
   "outputs": [],
   "source": [
    "# CHECK IF THE .narrowPeak file is small enough to include in the package,\n",
    "# otherwise, we need to make this basilisk call work??\n",
    "sc_atac_peak_calling(inbam = sorted_tagged_bam, \n",
    "                     ref = reference,\n",
    "                     genome_size = NULL,\n",
    "                     output_folder = output_folder)"
   ]
  },
  {
   "cell_type": "code",
   "execution_count": null,
   "id": "straight-coast",
   "metadata": {},
   "outputs": [],
   "source": [
    "features          <- file.path(output_folder, \"NA_peaks.narrowPeak\")\n",
    "\n",
    "sc_atac_feature_counting (fragment_file = file.path(output_folder, \"fragments.bed\"),\n",
    "                          feature_input = features, \n",
    "                          bam_tags      = list(bc=\"CB\", mb=\"OX\"), \n",
    "                          feature_type  = \"peak\",\n",
    "                          organism      = \"hg38\",\n",
    "                          cell_calling  = \"filter\",\n",
    "                          min_uniq_frags = 0,\n",
    "                          min_frac_peak = 0,\n",
    "                          min_frac_promoter = 0,\n",
    "                          yieldsize     = 1000000,\n",
    "                          exclude_regions = TRUE,\n",
    "                          output_folder = output_folder,\n",
    "                          fix_chr       = \"none\"\n",
    "                          )"
   ]
  },
  {
   "cell_type": "code",
   "execution_count": null,
   "id": "dominant-tract",
   "metadata": {},
   "outputs": [],
   "source": [
    "feature_matrix <- readRDS(file.path(output_folder, \"unfiltered_feature_matrix.rds\"))\n",
    "dplyr::glimpse(feature_matrix)"
   ]
  },
  {
   "cell_type": "code",
   "execution_count": null,
   "id": "christian-agreement",
   "metadata": {},
   "outputs": [],
   "source": [
    "sce <- sc_atac_create_sce(input_folder = output_folder,\n",
    "                   organism     = \"hg38\",\n",
    "                   feature_type = \"peak\",\n",
    "                   pheno_data   = NULL,\n",
    "                   report       = TRUE)"
   ]
  },
  {
   "cell_type": "code",
   "execution_count": null,
   "id": "fallen-court",
   "metadata": {},
   "outputs": [],
   "source": []
  },
  {
   "cell_type": "code",
   "execution_count": null,
   "id": "seventh-hamburg",
   "metadata": {},
   "outputs": [],
   "source": []
  },
  {
   "cell_type": "code",
   "execution_count": null,
   "id": "danish-projection",
   "metadata": {},
   "outputs": [],
   "source": []
  },
  {
   "cell_type": "code",
   "execution_count": null,
   "id": "viral-workplace",
   "metadata": {},
   "outputs": [],
   "source": []
  },
  {
   "cell_type": "code",
   "execution_count": null,
   "id": "apart-string",
   "metadata": {},
   "outputs": [],
   "source": [
    "# sample\n",
    "library(\"scPipe\")"
   ]
  },
  {
   "cell_type": "code",
   "execution_count": null,
   "id": "cutting-thailand",
   "metadata": {},
   "outputs": [],
   "source": [
    "output_folder <- \"/SGRNJ06/randd/USER/cjj/celedev/atac/20230811scpipe/test2\"\n",
    "reference <- \"/SGRNJ06/randd/USER/cjj/soft/scpipe/ref/hg38.fa\""
   ]
  },
  {
   "cell_type": "code",
   "execution_count": null,
   "id": "hungarian-excuse",
   "metadata": {},
   "outputs": [],
   "source": [
    "sorted_tagged_bam <- \"/SGRNJ06/randd/USER/cjj/celedev/atac/20230811scpipe/test2/A0727_1_3_MC_storage3_2W_T7_6515TESDSTween_TD612_C16_1_aligned_tagged_sorted.bam\""
   ]
  },
  {
   "cell_type": "code",
   "execution_count": null,
   "id": "digital-eagle",
   "metadata": {},
   "outputs": [],
   "source": [
    "sc_atac_create_fragments(inbam = sorted_tagged_bam,\n",
    "                         output_folder = output_folder)"
   ]
  },
  {
   "cell_type": "code",
   "execution_count": null,
   "id": "quiet-scratch",
   "metadata": {},
   "outputs": [],
   "source": [
    "# Peak calling\n",
    "# CHECK IF THE .narrowPeak file is small enough to include in the package,\n",
    "# otherwise, we need to make this basilisk call work??\n",
    "sc_atac_peak_calling(inbam = sorted_tagged_bam,\n",
    "                     ref = reference,\n",
    "                     genome_size = NULL,\n",
    "                     output_folder = output_folder)"
   ]
  },
  {
   "cell_type": "code",
   "execution_count": null,
   "id": "reverse-bailey",
   "metadata": {},
   "outputs": [],
   "source": [
    "# Assigning reads to features and feature counting\n",
    "features          <- file.path(output_folder, \"NA_peaks.narrowPeak\")\n",
    "sc_atac_feature_counting (fragment_file = file.path(output_folder, \"fragments.bed\"),\n",
    "                          feature_input = features,\n",
    "                          bam_tags      = list(bc=\"CB\", mb=\"OX\"),\n",
    "                          feature_type  = \"peak\",\n",
    "                          organism      = \"hg38\",\n",
    "                          cell_calling  = \"filter\",\n",
    "                          min_uniq_frags = 0,\n",
    "                          min_frac_peak = 0,\n",
    "                          min_frac_promoter = 0,\n",
    "                          yieldsize     = 1000000,\n",
    "                          exclude_regions = TRUE,\n",
    "                          output_folder = output_folder,\n",
    "                          fix_chr       = \"none\"\n",
    "                          )"
   ]
  },
  {
   "cell_type": "code",
   "execution_count": null,
   "id": "pregnant-error",
   "metadata": {},
   "outputs": [],
   "source": [
    "feature_matrix <- readRDS(file.path(output_folder, \"unfiltered_feature_matrix.rds\"))\n",
    "dplyr::glimpse(feature_matrix)\n",
    "sparseM <- readRDS(file.path(output_folder, \"sparse_matrix.rds\"))\n",
    "dplyr::glimpse(sparseM)"
   ]
  },
  {
   "cell_type": "code",
   "execution_count": null,
   "id": "complex-hampton",
   "metadata": {},
   "outputs": [],
   "source": [
    "# Generating the Single-cell Experiment (SCE) object\n",
    "sce <- sc_atac_create_sce(input_folder = output_folder,\n",
    "                   organism     = \"hg38\",\n",
    "                   feature_type = \"peak\",\n",
    "                   pheno_data   = NULL,\n",
    "                   report       = TRUE)"
   ]
  },
  {
   "cell_type": "code",
   "execution_count": null,
   "id": "entire-potato",
   "metadata": {},
   "outputs": [],
   "source": []
  },
  {
   "cell_type": "code",
   "execution_count": null,
   "id": "extensive-airline",
   "metadata": {},
   "outputs": [],
   "source": []
  },
  {
   "cell_type": "code",
   "execution_count": null,
   "id": "joined-revision",
   "metadata": {},
   "outputs": [],
   "source": [
    "data.folder <- system.file(\"extdata\", package = \"scPipe\", mustWork = TRUE)"
   ]
  },
  {
   "cell_type": "code",
   "execution_count": null,
   "id": "narrative-orchestra",
   "metadata": {},
   "outputs": [],
   "source": [
    "data.folder <- \"/SGRNJ06/randd/USER/cjj/celedev/atac/20230815ds/A0322_1_H_prostate_959595_T7/01.barcode/\"\n",
    "output_folder <- \"/SGRNJ06/randd/USER/cjj/celedev/atac/20230815ds/scpipe\"\n",
    "reference <- \"/SGRNJ06/randd/USER/cjj/soft/scpipe/ref/hg38.fa\"\n",
    "r1 = \"/SGRNJ06/randd/USER/cjj/celedev/atac/20230815ds/A0322_1_H_prostate_959595_T7/01.barcode/A0322_1_H_prostate_959595_T7_1.fq\"\n",
    "r2 = \"/SGRNJ06/randd/USER/cjj/celedev/atac/20230815ds/A0322_1_H_prostate_959595_T7/01.barcode/A0322_1_H_prostate_959595_T7_3.fq\""
   ]
  },
  {
   "cell_type": "code",
   "execution_count": null,
   "id": "general-finnish",
   "metadata": {},
   "outputs": [],
   "source": [
    "aligned_bam <- sc_aligning(ref = reference,\n",
    "                R1 = r1,\n",
    "                R2 = r2,\n",
    "                nthreads  = 12,\n",
    "                output_folder = output_folder)"
   ]
  },
  {
   "cell_type": "code",
   "execution_count": null,
   "id": "enormous-reservation",
   "metadata": {},
   "outputs": [],
   "source": [
    "?sorted_tagged_bam"
   ]
  },
  {
   "cell_type": "code",
   "execution_count": null,
   "id": "lucky-academy",
   "metadata": {},
   "outputs": [],
   "source": [
    "sorted_tagged_bam <- sc_atac_bam_tagging (inbam = aligned_bam, \n",
    "                       output_folder =  output_folder, \n",
    "                       bam_tags      = list(bc=\"CB\", mb=\"OX\"), \n",
    "                       nthreads      =  12)"
   ]
  },
  {
   "cell_type": "code",
   "execution_count": null,
   "id": "radio-button",
   "metadata": {},
   "outputs": [],
   "source": [
    "removed <- sc_atac_remove_duplicates(sorted_tagged_bam,\n",
    "                          output_folder = output_folder)\n",
    "if (!isFALSE(removed))\n",
    "  sorted_tagged_bam <- removed"
   ]
  },
  {
   "cell_type": "code",
   "execution_count": null,
   "id": "awful-drunk",
   "metadata": {},
   "outputs": [],
   "source": [
    "sc_atac_create_fragments(inbam = sorted_tagged_bam,\n",
    "                         output_folder = output_folder)"
   ]
  },
  {
   "cell_type": "code",
   "execution_count": null,
   "id": "formed-facility",
   "metadata": {},
   "outputs": [],
   "source": [
    "sc_atac_peak_calling(inbam = sorted_tagged_bam, \n",
    "                     ref = reference,\n",
    "                     genome_size = NULL,\n",
    "                     output_folder = output_folder)"
   ]
  },
  {
   "cell_type": "code",
   "execution_count": null,
   "id": "corporate-anniversary",
   "metadata": {},
   "outputs": [],
   "source": [
    "sc_atac_feature_counting (fragment_file = file.path(output_folder, \"fragments.bed\"),\n",
    "                          feature_input = reference,\n",
    "                          bam_tags      = list(bc=\"CB\", mb=\"OX\"),\n",
    "                          feature_type  = \"genome_bin\",\n",
    "                          organism      = \"hg38\",\n",
    "                          cell_calling  = FALSE,\n",
    "                          yieldsize     = 1000000,\n",
    "                          exclude_regions = TRUE,\n",
    "                          output_folder = output_folder,\n",
    "                          fix_chr       = \"none\"\n",
    "                          )"
   ]
  },
  {
   "cell_type": "code",
   "execution_count": null,
   "id": "rough-hours",
   "metadata": {},
   "outputs": [],
   "source": [
    "?sc_atac_feature_counting"
   ]
  },
  {
   "cell_type": "code",
   "execution_count": null,
   "id": "separated-textbook",
   "metadata": {},
   "outputs": [],
   "source": []
  },
  {
   "cell_type": "code",
   "execution_count": null,
   "id": "resistant-opening",
   "metadata": {},
   "outputs": [],
   "source": [
    "system.file(\"extdata\", package = \"scPipe\", mustWork = TRUE)"
   ]
  },
  {
   "cell_type": "code",
   "execution_count": null,
   "id": "touched-myrtle",
   "metadata": {},
   "outputs": [],
   "source": [
    "library(\"scPipe\")"
   ]
  },
  {
   "cell_type": "code",
   "execution_count": null,
   "id": "sweet-jersey",
   "metadata": {},
   "outputs": [],
   "source": [
    "output_folder <- \"/SGRNJ06/randd/USER/cjj/celedev/atac/20230815ds/scpipe\"\n",
    "reference <- \"/SGRNJ06/randd/USER/cjj/soft/scpipe/ref/hg38.fa\"\n",
    "r1 = \"/SGRNJ06/randd/USER/cjj/celedev/atac/20230815ds/A0322_1_H_prostate_959595_T7/01.barcode/A0322_1_H_prostate_959595_T7_1.fq\"\n",
    "r2 = \"/SGRNJ06/randd/USER/cjj/celedev/atac/20230815ds/A0322_1_H_prostate_959595_T7/01.barcode/A0322_1_H_prostate_959595_T7_3.fq\"\n",
    "bc_fastq = \"/SGRNJ06/randd/USER/cjj/celedev/atac/20230815ds/A0322_1_H_prostate_959595_T7/01.barcode/A0322_1_H_prostate_959595_T7_2.fq\""
   ]
  },
  {
   "cell_type": "code",
   "execution_count": null,
   "id": "measured-funeral",
   "metadata": {},
   "outputs": [],
   "source": [
    "output_folder <- \"/SGRNJ06/randd/USER/cjj/celedev/atac/20230815ds/scpipe\"\n",
    "sce <- sc_atac_pipeline(r1,\n",
    "                        r2,\n",
    "                        bc_fastq,\n",
    "                        organism = \"hg38\",\n",
    "                        reference = reference,\n",
    "                        feature_type = \"peak\",\n",
    "                        remove_duplicates = FALSE,\n",
    "                        min_uniq_frags = 0, # set to 0 as the sample dataset only has a small number of reads\n",
    "                        min_frac_peak = 0,\n",
    "                        min_frac_promoter = 0,\n",
    "                        output_folder = output_folder,\n",
    "                        report       = TRUE)"
   ]
  },
  {
   "cell_type": "code",
   "execution_count": null,
   "id": "worse-continent",
   "metadata": {},
   "outputs": [],
   "source": [
    "?sc_atac_pipeline"
   ]
  },
  {
   "cell_type": "code",
   "execution_count": null,
   "id": "fancy-conservation",
   "metadata": {},
   "outputs": [],
   "source": []
  },
  {
   "cell_type": "code",
   "execution_count": null,
   "id": "broken-sunglasses",
   "metadata": {},
   "outputs": [],
   "source": [
    "library(scPipe)"
   ]
  },
  {
   "cell_type": "code",
   "execution_count": null,
   "id": "involved-pillow",
   "metadata": {},
   "outputs": [],
   "source": [
    "data.folder"
   ]
  },
  {
   "cell_type": "code",
   "execution_count": null,
   "id": "friendly-polyester",
   "metadata": {},
   "outputs": [],
   "source": [
    "output_folder <- \"/SGRNJ06/randd/USER/cjj/celedev/atac/20230815ds/test1\"\n",
    "reference <- \"/SGRNJ06/randd/USER/cjj/soft/scpipe/ref/latest/hg38.fa\"\n",
    "#reference <- \"/SGRNJ01/Public/Software/conda_env/scpipe/lib/R/library/scPipe/extdata/small_chr21.fa\"\n",
    "#r1 = \"/SGRNJ06/randd/USER/cjj/celedev/atac/20230815ds/A0322_1_H_prostate_959595_T7/01.barcode/A0322_1_H_prostate_959595_T7_1.fq.gz\"\n",
    "#r2 = \"/SGRNJ06/randd/USER/cjj/celedev/atac/20230815ds/A0322_1_H_prostate_959595_T7/01.barcode/A0322_1_H_prostate_959595_T7_3.fq.gz\"\n",
    "#bc_fastq = \"/SGRNJ06/randd/USER/cjj/celedev/atac/20230815ds/A0322_1_H_prostate_959595_T7/01.barcode/A0322_1_H_prostate_959595_T7_2.fq.gz\"\n",
    "\n",
    "r1 = \"/SGRNJ01/Public/Software/conda_env/scpipe/lib/R/library/scPipe/extdata/small_chr21_R1.fastq.gz\"\n",
    "r2 = \"/SGRNJ01/Public/Software/conda_env/scpipe/lib/R/library/scPipe/extdata/small_chr21_R3.fastq.gz\"\n",
    "bc_fastq = \"/SGRNJ01/Public/Software/conda_env/scpipe/lib/R/library/scPipe/extdata/small_chr21_R2.fastq.gz\""
   ]
  },
  {
   "cell_type": "code",
   "execution_count": null,
   "id": "preliminary-carnival",
   "metadata": {},
   "outputs": [],
   "source": [
    "sc_atac_trim_barcode (r1            = r1, \n",
    "                      r2            = r2, \n",
    "                      bc_file       = bc_fastq, \n",
    "                      rmN           = FALSE,\n",
    "                      rmlow         = FALSE,\n",
    "                      output_folder = output_folder)"
   ]
  },
  {
   "cell_type": "code",
   "execution_count": null,
   "id": "straight-clause",
   "metadata": {},
   "outputs": [],
   "source": [
    "demux_r1        <- file.path(output_folder, \"demux_completematch_small_chr21_R1.fastq.gz\")\n",
    "demux_r2        <- file.path(output_folder, \"demux_completematch_small_chr21_R3.fastq.gz\")\n",
    "\n",
    "aligned_bam <- sc_aligning(ref = reference, \n",
    "                R1 = demux_r1, \n",
    "                R2 = demux_r2, \n",
    "                nthreads  = 12,\n",
    "                output_folder = output_folder)"
   ]
  },
  {
   "cell_type": "code",
   "execution_count": null,
   "id": "applied-heater",
   "metadata": {},
   "outputs": [],
   "source": [
    "sorted_tagged_bam <- sc_atac_bam_tagging (inbam = aligned_bam, \n",
    "                       output_folder =  output_folder, \n",
    "                       bam_tags      = list(bc=\"CB\", mb=\"OX\"), \n",
    "                       nthreads      =  12)"
   ]
  },
  {
   "cell_type": "code",
   "execution_count": null,
   "id": "northern-fluid",
   "metadata": {},
   "outputs": [],
   "source": [
    "removed <- sc_atac_remove_duplicates(sorted_tagged_bam,\n",
    "                          output_folder = output_folder,)\n",
    "if (!isFALSE(removed))\n",
    "  sorted_tagged_bam <- removed"
   ]
  },
  {
   "cell_type": "code",
   "execution_count": null,
   "id": "later-packet",
   "metadata": {},
   "outputs": [],
   "source": [
    "sc_atac_create_fragments(inbam = sorted_tagged_bam,\n",
    "                         output_folder = output_folder)"
   ]
  },
  {
   "cell_type": "code",
   "execution_count": null,
   "id": "married-knife",
   "metadata": {},
   "outputs": [],
   "source": [
    "sc_atac_peak_calling(inbam = sorted_tagged_bam, \n",
    "                     ref = reference,\n",
    "                     genome_size = NULL,\n",
    "                     output_folder = output_folder)"
   ]
  },
  {
   "cell_type": "code",
   "execution_count": null,
   "id": "effective-heritage",
   "metadata": {},
   "outputs": [],
   "source": [
    "features          <- file.path(output_folder, \"NA_peaks.narrowPeak\")\n",
    "sc_atac_feature_counting (fragment_file = file.path(output_folder, \"fragments.bed\"),\n",
    "                          feature_input = features, \n",
    "                          bam_tags      = list(bc=\"CB\", mb=\"OX\"), \n",
    "                          feature_type  = \"peak\",\n",
    "                          organism      = \"hg38\",\n",
    "                          cell_calling  = \"filter\",\n",
    "                          min_uniq_frags = 0,\n",
    "                          min_frac_peak = 0,\n",
    "                          min_frac_promoter = 0,\n",
    "                          yieldsize     = 1000000,\n",
    "                          exclude_regions = TRUE,\n",
    "                          output_folder = output_folder,\n",
    "                          fix_chr       = \"none\"\n",
    "                          )"
   ]
  },
  {
   "cell_type": "code",
   "execution_count": null,
   "id": "western-lingerie",
   "metadata": {},
   "outputs": [],
   "source": [
    "feature_matrix <- readRDS(file.path(output_folder, \"unfiltered_feature_matrix.rds\"))\n",
    "dplyr::glimpse(feature_matrix)"
   ]
  },
  {
   "cell_type": "code",
   "execution_count": null,
   "id": "pharmaceutical-envelope",
   "metadata": {},
   "outputs": [],
   "source": [
    "sparseM <- readRDS(file.path(output_folder, \"sparse_matrix.rds\"))\n",
    "dplyr::glimpse(sparseM)"
   ]
  },
  {
   "cell_type": "code",
   "execution_count": null,
   "id": "spread-armor",
   "metadata": {},
   "outputs": [],
   "source": [
    "sce <- sc_atac_create_sce(input_folder = output_folder,\n",
    "                   organism     = \"hg38\",\n",
    "                   feature_type = \"peak\",\n",
    "                   pheno_data   = NULL,\n",
    "                   report       = TRUE)"
   ]
  },
  {
   "cell_type": "code",
   "execution_count": null,
   "id": "typical-somewhere",
   "metadata": {},
   "outputs": [],
   "source": [
    "?sc_atac_trim_barcode"
   ]
  },
  {
   "cell_type": "code",
   "execution_count": null,
   "id": "judicial-wallet",
   "metadata": {},
   "outputs": [],
   "source": []
  }
 ],
 "metadata": {
  "kernelspec": {
   "display_name": "scpipe",
   "language": "R",
   "name": "scpipe"
  },
  "language_info": {
   "codemirror_mode": "r",
   "file_extension": ".r",
   "mimetype": "text/x-r-source",
   "name": "R",
   "pygments_lexer": "r",
   "version": "4.3.1"
  }
 },
 "nbformat": 4,
 "nbformat_minor": 5
}
