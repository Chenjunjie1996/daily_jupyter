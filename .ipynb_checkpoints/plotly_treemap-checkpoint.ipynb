{
 "cells": [
  {
   "cell_type": "code",
   "execution_count": null,
   "metadata": {},
   "outputs": [],
   "source": [
    "import pandas as pd\n",
    "import plotly.express as px\n",
    "import glob"
   ]
  },
  {
   "cell_type": "code",
   "execution_count": null,
   "metadata": {},
   "outputs": [],
   "source": [
    "csv_files = glob.glob(\"/SGRNJ06/randd/USER/cjj/celedev/vdj_bulk/20230220vx/*/05.count_vdj/*_clonetypes.csv\")\n",
    "samples = [i.split('/')[-3] for i in csv_files]"
   ]
  },
  {
   "cell_type": "code",
   "execution_count": null,
   "metadata": {},
   "outputs": [],
   "source": [
    "csv_files"
   ]
  },
  {
   "cell_type": "code",
   "execution_count": null,
   "metadata": {},
   "outputs": [],
   "source": [
    "for i in range(len(csv_files)):\n",
    "    df = pd.read_csv(csv_files[i])\n",
    "    c = 10\n",
    "    freq = df.loc[df['Frequency'] <= c]['Frequency'].sum()\n",
    "    df_new = df.loc[df['Frequency'] > c]\n",
    "    df_new = df_new.append(pd.DataFrame.from_dict({'ClonotypeID':[10000],'aaSeqCDR3':[f'Frequency<={c}'],'Frequency':[freq],'Proportion':['0%']}))\n",
    "    fig = px.treemap(df_new, path=['aaSeqCDR3'], values='Frequency', title=f\"{samples[i]}\",\n",
    "    color_continuous_scale='RdBu',hover_data=['Frequency'], color_discrete_sequence=[\n",
    "                     \"orange\", \"red\", \"green\", \"blue\", \"purple\"],)\n",
    "    fig.update_traces(marker=dict(cornerradius=3),textinfo = 'none')\n",
    "\n",
    "    #fig.update_layout(margin = dict(t=50, l=25, r=25, b=25))\n",
    "    fig.show()\n",
    "    fig.write_image(f\"/SGRNJ06/randd/USER/cjj/celedev/vdj_bulk/20230220vx/treemap/{samples[i]}.pdf\")\n",
    "    "
   ]
  },
  {
   "cell_type": "code",
   "execution_count": null,
   "metadata": {},
   "outputs": [],
   "source": []
  },
  {
   "cell_type": "code",
   "execution_count": null,
   "metadata": {},
   "outputs": [],
   "source": []
  },
  {
   "cell_type": "code",
   "execution_count": null,
   "metadata": {},
   "outputs": [],
   "source": []
  },
  {
   "cell_type": "code",
   "execution_count": null,
   "metadata": {},
   "outputs": [],
   "source": []
  },
  {
   "cell_type": "code",
   "execution_count": null,
   "metadata": {},
   "outputs": [],
   "source": []
  },
  {
   "cell_type": "code",
   "execution_count": null,
   "metadata": {},
   "outputs": [],
   "source": []
  },
  {
   "cell_type": "code",
   "execution_count": null,
   "metadata": {},
   "outputs": [],
   "source": []
  },
  {
   "cell_type": "code",
   "execution_count": null,
   "metadata": {},
   "outputs": [],
   "source": []
  },
  {
   "cell_type": "code",
   "execution_count": null,
   "metadata": {},
   "outputs": [],
   "source": []
  }
 ],
 "metadata": {
  "kernelspec": {
   "display_name": "Python 3 (ipykernel)",
   "language": "python",
   "name": "python3"
  },
  "language_info": {
   "codemirror_mode": {
    "name": "ipython",
    "version": 3
   },
   "file_extension": ".py",
   "mimetype": "text/x-python",
   "name": "python",
   "nbconvert_exporter": "python",
   "pygments_lexer": "ipython3",
   "version": "3.7.10"
  }
 },
 "nbformat": 4,
 "nbformat_minor": 4
}
