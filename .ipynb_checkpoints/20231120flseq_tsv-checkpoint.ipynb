{
 "cells": [
  {
   "cell_type": "code",
   "execution_count": 244,
   "id": "forbidden-praise",
   "metadata": {},
   "outputs": [],
   "source": [
    "import pysam\n",
    "import pandas as pd\n",
    "import glob"
   ]
  },
  {
   "cell_type": "code",
   "execution_count": null,
   "id": "right-independence",
   "metadata": {},
   "outputs": [],
   "source": [
    "files = glob.glob(\"/SGRNJ06/randd/USER/cjj/celedev/vdj10x/20231116pair_cl/*/*/matched_contig_annotations.csv\")"
   ]
  },
  {
   "cell_type": "code",
   "execution_count": null,
   "id": "female-asthma",
   "metadata": {},
   "outputs": [],
   "source": [
    "files"
   ]
  },
  {
   "cell_type": "code",
   "execution_count": null,
   "id": "common-panama",
   "metadata": {},
   "outputs": [],
   "source": [
    "df = pd.read_csv(\"/SGRNJ06/randd/USER/cjj/celedev/vdj10x/20231116pair_cl/BT12K/05.match/matched_contig_annotations.csv\")"
   ]
  },
  {
   "cell_type": "code",
   "execution_count": null,
   "id": "duplicate-treasure",
   "metadata": {},
   "outputs": [],
   "source": [
    "df"
   ]
  },
  {
   "cell_type": "code",
   "execution_count": null,
   "id": "upper-third",
   "metadata": {},
   "outputs": [],
   "source": [
    "df[[\"contig_id\", \"raw_clonotype_id\"]].set_index(\"contig_id\").to_dict(orient='dict')[\"raw_clonotype_id\"]"
   ]
  },
  {
   "cell_type": "code",
   "execution_count": null,
   "id": "military-proposition",
   "metadata": {},
   "outputs": [],
   "source": []
  },
  {
   "cell_type": "code",
   "execution_count": null,
   "id": "sunrise-selling",
   "metadata": {},
   "outputs": [],
   "source": [
    "files = glob.glob(\"/SGRNJ06/randd/USER/cjj/celedev/vdj10x/20231116pair_cl/*/*/matched_contig.fasta\")"
   ]
  },
  {
   "cell_type": "code",
   "execution_count": null,
   "id": "intended-providence",
   "metadata": {},
   "outputs": [],
   "source": [
    "files"
   ]
  },
  {
   "cell_type": "code",
   "execution_count": null,
   "id": "happy-newport",
   "metadata": {},
   "outputs": [],
   "source": [
    "with pysam.FastxFile(files[0]) as f:\n",
    "    for read in f:\n",
    "        print(read.name)\n",
    "        print(read.sequence)\n",
    "        break"
   ]
  },
  {
   "cell_type": "code",
   "execution_count": null,
   "id": "broad-divide",
   "metadata": {},
   "outputs": [],
   "source": [
    "for file in files:\n",
    "    sample = file.split('/')[-3]\n",
    "    out = f\"/SGRNJ06/randd/USER/cjj/celedev/vdj10x/20231120flseq_tsv/{sample}_flseq.tsv\"\n",
    "    \n",
    "    s1, s2 = [], []\n",
    "    with pysam.FastxFile(file) as f:\n",
    "        for read in f:\n",
    "            s1.append(read.name)\n",
    "            s2.append(read.sequence)\n",
    "    df = pd.DataFrame({'contig_id':s1, 'sequence':s2})\n",
    "    df.to_csv(out, sep='\\t', index=False)"
   ]
  },
  {
   "cell_type": "code",
   "execution_count": null,
   "id": "tropical-cleaners",
   "metadata": {},
   "outputs": [],
   "source": []
  },
  {
   "cell_type": "code",
   "execution_count": null,
   "id": "deadly-musical",
   "metadata": {},
   "outputs": [],
   "source": []
  },
  {
   "cell_type": "code",
   "execution_count": null,
   "id": "finnish-memory",
   "metadata": {},
   "outputs": [],
   "source": []
  },
  {
   "cell_type": "code",
   "execution_count": 247,
   "id": "intellectual-forward",
   "metadata": {},
   "outputs": [],
   "source": [
    "clonotypes = glob.glob(\"/SGRNJ06/randd/USER/cjj/celedev/vdj10x/20231120/*/04.summarize/clonotypes.csv\")\n",
    "annos = glob.glob(\"/SGRNJ06/randd/USER/cjj/celedev/vdj10x/20231120/*/04.summarize/filtered_contig_annotations.csv\")\n",
    "fastas = glob.glob(\"/SGRNJ06/randd/USER/cjj/celedev/vdj10x/20231120/*/04.summarize/filtered_contig.fasta\")"
   ]
  },
  {
   "cell_type": "code",
   "execution_count": 249,
   "id": "approved-cuisine",
   "metadata": {},
   "outputs": [
    {
     "data": {
      "text/plain": [
       "['/SGRNJ06/randd/USER/cjj/celedev/vdj10x/20231120/BT12K-B/04.summarize/clonotypes.csv',\n",
       " '/SGRNJ06/randd/USER/cjj/celedev/vdj10x/20231120/B6K-B/04.summarize/clonotypes.csv',\n",
       " '/SGRNJ06/randd/USER/cjj/celedev/vdj10x/20231120/B12K-B/04.summarize/clonotypes.csv',\n",
       " '/SGRNJ06/randd/USER/cjj/celedev/vdj10x/20231120/BT6K-B/04.summarize/clonotypes.csv',\n",
       " '/SGRNJ06/randd/USER/cjj/celedev/vdj10x/20231120/Group2-B/04.summarize/clonotypes.csv',\n",
       " '/SGRNJ06/randd/USER/cjj/celedev/vdj10x/20231120/Group1-B/04.summarize/clonotypes.csv']"
      ]
     },
     "execution_count": 249,
     "metadata": {},
     "output_type": "execute_result"
    }
   ],
   "source": [
    "clonotypes"
   ]
  },
  {
   "cell_type": "code",
   "execution_count": 250,
   "id": "cathedral-recommendation",
   "metadata": {},
   "outputs": [
    {
     "data": {
      "text/plain": [
       "['/SGRNJ06/randd/USER/cjj/celedev/vdj10x/20231120/BT12K-B/04.summarize/filtered_contig_annotations.csv',\n",
       " '/SGRNJ06/randd/USER/cjj/celedev/vdj10x/20231120/B6K-B/04.summarize/filtered_contig_annotations.csv',\n",
       " '/SGRNJ06/randd/USER/cjj/celedev/vdj10x/20231120/B12K-B/04.summarize/filtered_contig_annotations.csv',\n",
       " '/SGRNJ06/randd/USER/cjj/celedev/vdj10x/20231120/BT6K-B/04.summarize/filtered_contig_annotations.csv',\n",
       " '/SGRNJ06/randd/USER/cjj/celedev/vdj10x/20231120/Group2-B/04.summarize/filtered_contig_annotations.csv',\n",
       " '/SGRNJ06/randd/USER/cjj/celedev/vdj10x/20231120/Group1-B/04.summarize/filtered_contig_annotations.csv']"
      ]
     },
     "execution_count": 250,
     "metadata": {},
     "output_type": "execute_result"
    }
   ],
   "source": [
    "annos"
   ]
  },
  {
   "cell_type": "code",
   "execution_count": 251,
   "id": "loved-salvation",
   "metadata": {},
   "outputs": [
    {
     "data": {
      "text/plain": [
       "['/SGRNJ06/randd/USER/cjj/celedev/vdj10x/20231120/BT12K-B/04.summarize/filtered_contig.fasta',\n",
       " '/SGRNJ06/randd/USER/cjj/celedev/vdj10x/20231120/B6K-B/04.summarize/filtered_contig.fasta',\n",
       " '/SGRNJ06/randd/USER/cjj/celedev/vdj10x/20231120/B12K-B/04.summarize/filtered_contig.fasta',\n",
       " '/SGRNJ06/randd/USER/cjj/celedev/vdj10x/20231120/BT6K-B/04.summarize/filtered_contig.fasta',\n",
       " '/SGRNJ06/randd/USER/cjj/celedev/vdj10x/20231120/Group2-B/04.summarize/filtered_contig.fasta',\n",
       " '/SGRNJ06/randd/USER/cjj/celedev/vdj10x/20231120/Group1-B/04.summarize/filtered_contig.fasta']"
      ]
     },
     "execution_count": 251,
     "metadata": {},
     "output_type": "execute_result"
    }
   ],
   "source": [
    "fastas"
   ]
  },
  {
   "cell_type": "code",
   "execution_count": 255,
   "id": "norwegian-assets",
   "metadata": {},
   "outputs": [],
   "source": [
    "for i in range(len(clonotypes)):\n",
    "    sample = clonotypes[i].split('/')[-3]\n",
    "    \n",
    "    cl = pd.read_csv(clonotypes[i])\n",
    "    cl.cdr3s_aa = cl.cdr3s_aa.apply(lambda x: x.split(';'))\n",
    "    cl = cl[cl['cdr3s_aa'].apply(lambda x: len(x)) == 2]\n",
    "    cl = cl[cl['cdr3s_aa'].apply(lambda x: x[0]).str.contains('IGH')]\n",
    "    cl = cl[~cl['cdr3s_aa'].apply(lambda x: x[1]).str.contains('IGH')]\n",
    "    cl['cdr3s_aa'] = cl['cdr3s_aa'].apply(lambda x: ';'.join(x))\n",
    "    \n",
    "    anno = pd.read_csv(annos[i])\n",
    "    anno = anno[['barcode' ,'contig_id', \"raw_clonotype_id\", \"chain\"]]\n",
    "    \n",
    "    s1, s2 = [], []\n",
    "    with pysam.FastxFile(fastas[i]) as f:\n",
    "        for read in f:\n",
    "            s1.append(read.name)\n",
    "            s2.append(read.sequence)\n",
    "    fl_seq_dict = dict(zip(s1, s2))\n",
    "    \n",
    "    anno['fl_seq'] = anno['contig_id'].apply(lambda x: fl_seq_dict[x])\n",
    "    anno['t'] = anno['raw_clonotype_id'].apply(lambda x: x[9:])\n",
    "    anno['t'] = anno['t'].astype(int)\n",
    "    anno = anno.sort_values(['t','barcode'])\n",
    "    del anno['t']\n",
    "    \n",
    "    cl = cl[['clonotype_id', 'cdr3s_aa', 'cdr3s_nt']]\n",
    "    anno = anno.rename(columns = {'raw_clonotype_id': 'clonotype_id'})\n",
    "    df_merge = pd.merge(cl, anno, on='clonotype_id', how=\"inner\")\n",
    "    \n",
    "    df_merge.to_csv(f\"/SGRNJ06/randd/USER/cjj/celedev/vdj10x/20231120/{sample}.tsv\", sep='\\t', index=False)\n",
    "    "
   ]
  },
  {
   "cell_type": "code",
   "execution_count": null,
   "id": "italian-triangle",
   "metadata": {},
   "outputs": [],
   "source": [
    "cl = pd.read_csv(\"/SGRNJ06/randd/USER/cjj/celedev/vdj10x/20231120/B12K-B/04.summarize/clonotypes.csv\")"
   ]
  },
  {
   "cell_type": "code",
   "execution_count": null,
   "id": "biological-measure",
   "metadata": {},
   "outputs": [],
   "source": [
    "#cl"
   ]
  },
  {
   "cell_type": "code",
   "execution_count": null,
   "id": "potential-pacific",
   "metadata": {},
   "outputs": [],
   "source": [
    "cl.cdr3s_aa = cl.cdr3s_aa.apply(lambda x: x.split(';'))\n",
    "cl = cl[cl['cdr3s_aa'].apply(lambda x: len(x)) == 2]\n",
    "cl = cl[cl['cdr3s_aa'].apply(lambda x: x[0]).str.contains('IGH')]\n",
    "cl = cl[~cl['cdr3s_aa'].apply(lambda x: x[1]).str.contains('IGH')]\n",
    "cl['cdr3s_aa'] = cl['cdr3s_aa'].apply(lambda x: ';'.join(x))"
   ]
  },
  {
   "cell_type": "code",
   "execution_count": null,
   "id": "desperate-parallel",
   "metadata": {},
   "outputs": [],
   "source": [
    "cl"
   ]
  },
  {
   "cell_type": "code",
   "execution_count": null,
   "id": "particular-culture",
   "metadata": {},
   "outputs": [],
   "source": [
    "anno = pd.read_csv(\"/SGRNJ06/randd/USER/cjj/celedev/vdj10x/20231120/B12K-B/04.summarize/filtered_contig_annotations.csv\")"
   ]
  },
  {
   "cell_type": "code",
   "execution_count": null,
   "id": "dental-newport",
   "metadata": {},
   "outputs": [],
   "source": [
    "#anno"
   ]
  },
  {
   "cell_type": "code",
   "execution_count": null,
   "id": "greatest-promotion",
   "metadata": {},
   "outputs": [],
   "source": [
    "anno = anno[['barcode' ,'contig_id', \"raw_clonotype_id\", \"chain\"]]"
   ]
  },
  {
   "cell_type": "code",
   "execution_count": null,
   "id": "sitting-evolution",
   "metadata": {},
   "outputs": [],
   "source": [
    "anno"
   ]
  },
  {
   "cell_type": "code",
   "execution_count": null,
   "id": "endangered-angle",
   "metadata": {},
   "outputs": [],
   "source": [
    "s1, s2 = [], []\n",
    "with pysam.FastxFile(\"/SGRNJ06/randd/USER/cjj/celedev/vdj10x/20231120/B12K-B/04.summarize/filtered_contig.fasta\") as f:\n",
    "    for read in f:\n",
    "        s1.append(read.name)\n",
    "        s2.append(read.sequence)\n",
    "fl_seq_dict = dict(zip(s1, s2))"
   ]
  },
  {
   "cell_type": "code",
   "execution_count": null,
   "id": "damaged-cancer",
   "metadata": {},
   "outputs": [],
   "source": [
    "anno['fl_seq'] = anno['contig_id'].apply(lambda x: fl_seq_dict[x])"
   ]
  },
  {
   "cell_type": "code",
   "execution_count": null,
   "id": "frozen-salmon",
   "metadata": {},
   "outputs": [],
   "source": [
    "anno"
   ]
  },
  {
   "cell_type": "code",
   "execution_count": null,
   "id": "driven-second",
   "metadata": {},
   "outputs": [],
   "source": [
    "anno['t'] = anno['raw_clonotype_id'].apply(lambda x: x[9:])"
   ]
  },
  {
   "cell_type": "code",
   "execution_count": null,
   "id": "former-permit",
   "metadata": {},
   "outputs": [],
   "source": [
    "anno['t'] = anno['t'].astype(int)"
   ]
  },
  {
   "cell_type": "code",
   "execution_count": null,
   "id": "sharp-sierra",
   "metadata": {},
   "outputs": [],
   "source": [
    "anno = anno.sort_values(['t','barcode'])"
   ]
  },
  {
   "cell_type": "code",
   "execution_count": null,
   "id": "agricultural-tennessee",
   "metadata": {},
   "outputs": [],
   "source": [
    "del anno['t']"
   ]
  },
  {
   "cell_type": "code",
   "execution_count": null,
   "id": "engaged-turner",
   "metadata": {},
   "outputs": [],
   "source": [
    "anno"
   ]
  },
  {
   "cell_type": "code",
   "execution_count": null,
   "id": "worthy-royal",
   "metadata": {},
   "outputs": [],
   "source": [
    "cl = cl[['clonotype_id', 'cdr3s_aa', 'cdr3s_nt']]"
   ]
  },
  {
   "cell_type": "code",
   "execution_count": null,
   "id": "indirect-environment",
   "metadata": {},
   "outputs": [],
   "source": [
    "cl"
   ]
  },
  {
   "cell_type": "code",
   "execution_count": null,
   "id": "amber-italic",
   "metadata": {},
   "outputs": [],
   "source": [
    "anno = anno.rename(columns = {'raw_clonotype_id': 'clonotype_id'})"
   ]
  },
  {
   "cell_type": "code",
   "execution_count": null,
   "id": "military-imagination",
   "metadata": {},
   "outputs": [],
   "source": [
    "df_merge = pd.merge(cl, anno, on='clonotype_id', how=\"inner\")"
   ]
  },
  {
   "cell_type": "code",
   "execution_count": null,
   "id": "significant-helmet",
   "metadata": {},
   "outputs": [],
   "source": [
    "df_merge"
   ]
  },
  {
   "cell_type": "code",
   "execution_count": null,
   "id": "blond-knock",
   "metadata": {},
   "outputs": [],
   "source": []
  }
 ],
 "metadata": {
  "kernelspec": {
   "display_name": "trust4_1.7",
   "language": "python",
   "name": "trust4_1.7"
  },
  "language_info": {
   "codemirror_mode": {
    "name": "ipython",
    "version": 3
   },
   "file_extension": ".py",
   "mimetype": "text/x-python",
   "name": "python",
   "nbconvert_exporter": "python",
   "pygments_lexer": "ipython3",
   "version": "3.7.10"
  }
 },
 "nbformat": 4,
 "nbformat_minor": 5
}
