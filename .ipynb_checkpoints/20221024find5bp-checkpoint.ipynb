{
 "cells": [
  {
   "cell_type": "code",
   "execution_count": 53,
   "id": "swiss-charge",
   "metadata": {},
   "outputs": [],
   "source": [
    "import pysam\n",
    "from collections import defaultdict\n",
    "import os\n",
    "import glob\n",
    "import pandas as pd"
   ]
  },
  {
   "cell_type": "code",
   "execution_count": 54,
   "id": "earned-reconstruction",
   "metadata": {},
   "outputs": [],
   "source": [
    "file_path = '/SGRNJ06/randd/USER/cjj/celedev/wanyue/rna/20220825mu/'"
   ]
  },
  {
   "cell_type": "code",
   "execution_count": 55,
   "id": "advised-equipment",
   "metadata": {},
   "outputs": [],
   "source": [
    "fq_file = glob.glob(f'{file_path}/*/01.barcode/*.fq')"
   ]
  },
  {
   "cell_type": "code",
   "execution_count": 56,
   "id": "external-breast",
   "metadata": {},
   "outputs": [
    {
     "data": {
      "text/plain": [
       "['/SGRNJ06/randd/USER/cjj/celedev/wanyue/rna/20220825mu/Mbm0715_Mix1_NLib/01.barcode/Mbm0715_Mix1_NLib_2.fq',\n",
       " '/SGRNJ06/randd/USER/cjj/celedev/wanyue/rna/20220825mu/mspl-Mix2-0818/01.barcode/mspl-Mix2-0818_2.fq',\n",
       " '/SGRNJ06/randd/USER/cjj/celedev/wanyue/rna/20220825mu/mspl-Mix3-0818NEB/01.barcode/mspl-Mix3-0818NEB_2.fq',\n",
       " '/SGRNJ06/randd/USER/cjj/celedev/wanyue/rna/20220825mu/mspl-Mix3-0818/01.barcode/mspl-Mix3-0818_2.fq',\n",
       " '/SGRNJ06/randd/USER/cjj/celedev/wanyue/rna/20220825mu/mspl-Mix1-0818NEB/01.barcode/mspl-Mix1-0818NEB_2.fq',\n",
       " '/SGRNJ06/randd/USER/cjj/celedev/wanyue/rna/20220825mu/mspl-Mix1-0818/01.barcode/mspl-Mix1-0818_2.fq',\n",
       " '/SGRNJ06/randd/USER/cjj/celedev/wanyue/rna/20220825mu/Mbm0715_Mix5_NLib/01.barcode/Mbm0715_Mix5_NLib_2.fq',\n",
       " '/SGRNJ06/randd/USER/cjj/celedev/wanyue/rna/20220825mu/Mbm0715_Mix2_NLib/01.barcode/Mbm0715_Mix2_NLib_2.fq',\n",
       " '/SGRNJ06/randd/USER/cjj/celedev/wanyue/rna/20220825mu/mspl-Mix5-0818/01.barcode/mspl-Mix5-0818_2.fq',\n",
       " '/SGRNJ06/randd/USER/cjj/celedev/wanyue/rna/20220825mu/mspl-cklysis-0818NEB/01.barcode/mspl-cklysis-0818NEB_2.fq',\n",
       " '/SGRNJ06/randd/USER/cjj/celedev/wanyue/rna/20220825mu/mspl-Mix2-0818NEB/01.barcode/mspl-Mix2-0818NEB_2.fq',\n",
       " '/SGRNJ06/randd/USER/cjj/celedev/wanyue/rna/20220825mu/Mbm0706_Mix1_NLib/01.barcode/Mbm0706_Mix1_NLib_2.fq',\n",
       " '/SGRNJ06/randd/USER/cjj/celedev/wanyue/rna/20220825mu/Mbm0715_Mix4_NLib/01.barcode/Mbm0715_Mix4_NLib_2.fq',\n",
       " '/SGRNJ06/randd/USER/cjj/celedev/wanyue/rna/20220825mu/mspl-Mix4-0818/01.barcode/mspl-Mix4-0818_2.fq']"
      ]
     },
     "execution_count": 56,
     "metadata": {},
     "output_type": "execute_result"
    }
   ],
   "source": [
    "fq_file"
   ]
  },
  {
   "cell_type": "code",
   "execution_count": 57,
   "id": "incorrect-irrigation",
   "metadata": {},
   "outputs": [],
   "source": [
    "for fq in fq_file:\n",
    "    tmp_dict = defaultdict(int)\n",
    "    with pysam.FastxFile(fq) as f:\n",
    "        for read in f:\n",
    "            umi = read.name.split('_')[1]\n",
    "            tmp_dict[umi[3:]] += 1\n",
    "    sort_tmp_dict = sorted(tmp_dict.items(),key=lambda x:x[1],reverse=True)[:20]\n",
    "    df = pd.DataFrame.from_dict(dict(sorted(tmp_dict.items(),key=lambda x:x[1],reverse=True)[:20]), orient='index')\n",
    "    df = df.rename_axis('barcode').reset_index()\n",
    "    df.rename(columns={\"barcode\":\"seq\",0:'count'},inplace=True)\n",
    "    \n",
    "    out_file = f\"/SGRNJ06/randd/USER/cjj/celedev/wanyue/20221024/{fq.split('/')[-3]}.tsv\"\n",
    "    df.to_csv(out_file, sep='\\t', index=False)\n",
    "    "
   ]
  },
  {
   "cell_type": "code",
   "execution_count": null,
   "id": "primary-federal",
   "metadata": {},
   "outputs": [],
   "source": []
  },
  {
   "cell_type": "code",
   "execution_count": 58,
   "id": "bigger-wellington",
   "metadata": {},
   "outputs": [
    {
     "data": {
      "text/plain": [
       "['/SGRNJ06/randd/USER/cjj/celedev/rna/20221017/Mspl2_0923_NL/01.barcode/Mspl2_0923_NL_2.fq',\n",
       " '/SGRNJ06/randd/USER/cjj/celedev/rna/20221017/Mspl1_0923_NL/01.barcode/Mspl1_0923_NL_2.fq',\n",
       " '/SGRNJ06/randd/USER/cjj/celedev/rna/20221017/Mspl3_0923_NL/01.barcode/Mspl3_0923_NL_2.fq']"
      ]
     },
     "execution_count": 58,
     "metadata": {},
     "output_type": "execute_result"
    }
   ],
   "source": [
    "file_path = '/SGRNJ06/randd/USER/cjj/celedev/rna/20221017/'\n",
    "fq_file = glob.glob(f'{file_path}/*/01.barcode/*.fq')\n",
    "fq_file"
   ]
  },
  {
   "cell_type": "code",
   "execution_count": 59,
   "id": "freelance-inspiration",
   "metadata": {},
   "outputs": [],
   "source": [
    "for fq in fq_file:\n",
    "    tmp_dict = defaultdict(int)\n",
    "    with pysam.FastxFile(fq) as f:\n",
    "        for read in f:\n",
    "            umi = read.name.split('_')[1]\n",
    "            tmp_dict[umi[3:]] += 1\n",
    "    sort_tmp_dict = sorted(tmp_dict.items(),key=lambda x:x[1],reverse=True)[:20]\n",
    "    df = pd.DataFrame.from_dict(dict(sorted(tmp_dict.items(),key=lambda x:x[1],reverse=True)[:20]), orient='index')\n",
    "    df = df.rename_axis('barcode').reset_index()\n",
    "    df.rename(columns={\"barcode\":\"seq\",0:'count'},inplace=True)\n",
    "    \n",
    "    out_file = f\"/SGRNJ06/randd/USER/cjj/celedev/wanyue/20221024/{fq.split('/')[-3]}.tsv\"\n",
    "    df.to_csv(out_file, sep='\\t', index=False)\n",
    "    "
   ]
  },
  {
   "cell_type": "code",
   "execution_count": null,
   "id": "hairy-search",
   "metadata": {},
   "outputs": [],
   "source": []
  },
  {
   "cell_type": "code",
   "execution_count": 89,
   "id": "partial-helmet",
   "metadata": {},
   "outputs": [],
   "source": [
    "out_path = \"/SGRNJ06/randd/USER/cjj/celedev/wanyue/20221024\"\n",
    "out_file = glob.glob(f\"{out_path}/*\")"
   ]
  },
  {
   "cell_type": "code",
   "execution_count": 90,
   "id": "absolute-honey",
   "metadata": {},
   "outputs": [],
   "source": [
    "out_file = [i for i in out_file if \"0923\" in i.split('/')[-1]]"
   ]
  },
  {
   "cell_type": "code",
   "execution_count": 91,
   "id": "upset-damage",
   "metadata": {},
   "outputs": [
    {
     "data": {
      "text/plain": [
       "['/SGRNJ06/randd/USER/cjj/celedev/wanyue/20221024/Mspl2_0923_NL.tsv',\n",
       " '/SGRNJ06/randd/USER/cjj/celedev/wanyue/20221024/Mspl1_0923_NL.tsv',\n",
       " '/SGRNJ06/randd/USER/cjj/celedev/wanyue/20221024/Mspl3_0923_NL.tsv']"
      ]
     },
     "execution_count": 91,
     "metadata": {},
     "output_type": "execute_result"
    }
   ],
   "source": [
    "out_file"
   ]
  },
  {
   "cell_type": "code",
   "execution_count": 92,
   "id": "aggressive-privilege",
   "metadata": {},
   "outputs": [
    {
     "data": {
      "text/plain": [
       "{'ACCGG',\n",
       " 'ATGGG',\n",
       " 'CCGAC',\n",
       " 'GAACC',\n",
       " 'GACCC',\n",
       " 'GGAGG',\n",
       " 'GGCCC',\n",
       " 'GGGAG',\n",
       " 'GGGGG',\n",
       " 'GGGGT',\n",
       " 'GGGTG',\n",
       " 'GGTGG',\n",
       " 'GTGGG',\n",
       " 'TATGG',\n",
       " 'TCGAC',\n",
       " 'TGGCC',\n",
       " 'TGGGG',\n",
       " 'TTCGG',\n",
       " 'TTGGG',\n",
       " 'TTTGG'}"
      ]
     },
     "execution_count": 92,
     "metadata": {},
     "output_type": "execute_result"
    }
   ],
   "source": [
    "df = pd.read_csv(out_file[0],sep='\\t')\n",
    "result_set = set(df.seq)\n",
    "result_set"
   ]
  },
  {
   "cell_type": "code",
   "execution_count": 93,
   "id": "female-slovak",
   "metadata": {},
   "outputs": [],
   "source": [
    "for i in out_file[1:]:\n",
    "    df = pd.read_csv(i,sep='\\t')\n",
    "    result_set = result_set.intersection(df.seq)"
   ]
  },
  {
   "cell_type": "code",
   "execution_count": 94,
   "id": "impressed-vision",
   "metadata": {},
   "outputs": [
    {
     "data": {
      "text/plain": [
       "{'ACCGG',\n",
       " 'CCGAC',\n",
       " 'GACCC',\n",
       " 'GGAGG',\n",
       " 'GGCCC',\n",
       " 'GGGGG',\n",
       " 'GGGTG',\n",
       " 'GGTGG',\n",
       " 'GTGGG',\n",
       " 'TCGAC',\n",
       " 'TGGGG',\n",
       " 'TTGGG'}"
      ]
     },
     "execution_count": 94,
     "metadata": {},
     "output_type": "execute_result"
    }
   ],
   "source": [
    "result_set"
   ]
  },
  {
   "cell_type": "code",
   "execution_count": null,
   "id": "athletic-karma",
   "metadata": {},
   "outputs": [],
   "source": []
  }
 ],
 "metadata": {
  "kernelspec": {
   "display_name": "Python 3 (ipykernel)",
   "language": "python",
   "name": "python3"
  },
  "language_info": {
   "codemirror_mode": {
    "name": "ipython",
    "version": 3
   },
   "file_extension": ".py",
   "mimetype": "text/x-python",
   "name": "python",
   "nbconvert_exporter": "python",
   "pygments_lexer": "ipython3",
   "version": "3.7.10"
  }
 },
 "nbformat": 4,
 "nbformat_minor": 5
}
