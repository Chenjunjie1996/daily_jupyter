{
 "cells": [
  {
   "cell_type": "code",
   "execution_count": null,
   "id": "blond-harrison",
   "metadata": {},
   "outputs": [],
   "source": [
    "import pandas as pd \n",
    "import os \n",
    "import glob"
   ]
  },
  {
   "cell_type": "code",
   "execution_count": 132,
   "id": "metric-omega",
   "metadata": {},
   "outputs": [],
   "source": [
    "file = \"/SGRNJ06/randd/PROJECT/RD21010602_GEXSCOPE_V3/20230921\""
   ]
  },
  {
   "cell_type": "code",
   "execution_count": 133,
   "id": "intimate-pepper",
   "metadata": {},
   "outputs": [],
   "source": [
    "files1 = glob.glob(f\"{file}/*/05.count/*matrix.tsv.gz\")"
   ]
  },
  {
   "cell_type": "code",
   "execution_count": 134,
   "id": "criminal-original",
   "metadata": {},
   "outputs": [],
   "source": [
    "file = \"/SGRNJ06/randd/USER/cjj/celedev/rna/20230921tgx/\""
   ]
  },
  {
   "cell_type": "code",
   "execution_count": 135,
   "id": "supreme-airline",
   "metadata": {},
   "outputs": [],
   "source": [
    "files2 = glob.glob(f\"{file}/*/05.count/*matrix.tsv.gz\")"
   ]
  },
  {
   "cell_type": "code",
   "execution_count": 136,
   "id": "exempt-imperial",
   "metadata": {},
   "outputs": [],
   "source": [
    "files = files1 + files2"
   ]
  },
  {
   "cell_type": "code",
   "execution_count": 137,
   "id": "funded-armor",
   "metadata": {},
   "outputs": [
    {
     "data": {
      "text/plain": [
       "['/SGRNJ06/randd/PROJECT/RD21010602_GEXSCOPE_V3/20230921/CCRF_lysis_1/05.count/CCRF_lysis_1_matrix.tsv.gz',\n",
       " '/SGRNJ06/randd/PROJECT/RD21010602_GEXSCOPE_V3/20230921/CCRF_YNaCl_PK_8/05.count/CCRF_YNaCl_PK_8_matrix.tsv.gz',\n",
       " '/SGRNJ06/randd/USER/cjj/celedev/rna/20230921tgx/CCRF_NaCl_PK_5/05.count/CCRF_NaCl_PK_5_matrix.tsv.gz',\n",
       " '/SGRNJ06/randd/USER/cjj/celedev/rna/20230921tgx/1_Nacl/05.count/1_Nacl_matrix.tsv.gz',\n",
       " '/SGRNJ06/randd/USER/cjj/celedev/rna/20230921tgx/CCRF_YNaCl_6/05.count/CCRF_YNaCl_6_matrix.tsv.gz',\n",
       " '/SGRNJ06/randd/USER/cjj/celedev/rna/20230921tgx/4_W/05.count/4_W_matrix.tsv.gz',\n",
       " '/SGRNJ06/randd/USER/cjj/celedev/rna/20230921tgx/5_YS/05.count/5_YS_matrix.tsv.gz',\n",
       " '/SGRNJ06/randd/USER/cjj/celedev/rna/20230921tgx/CCRF_NaCl_3/05.count/CCRF_NaCl_3_matrix.tsv.gz',\n",
       " '/SGRNJ06/randd/USER/cjj/celedev/rna/20230921tgx/6_W_pk/05.count/6_W_pk_matrix.tsv.gz',\n",
       " '/SGRNJ06/randd/USER/cjj/celedev/rna/20230921tgx/3_Nacl_pk/05.count/3_Nacl_pk_matrix.tsv.gz']"
      ]
     },
     "execution_count": 137,
     "metadata": {},
     "output_type": "execute_result"
    }
   ],
   "source": [
    "files"
   ]
  },
  {
   "cell_type": "code",
   "execution_count": null,
   "id": "backed-lighter",
   "metadata": {},
   "outputs": [],
   "source": [
    "del files[0]"
   ]
  },
  {
   "cell_type": "code",
   "execution_count": null,
   "id": "intelligent-resource",
   "metadata": {},
   "outputs": [],
   "source": [
    "df1 = pd.read_csv(\"/SGRNJ06/randd/PROJECT/RD21010602_GEXSCOPE_V3/20230921/CCRF_lysis_1/05.count/CCRF_lysis_1_matrix.tsv.gz\", sep='\\t', index_col=0)\n",
    "sample = \"CCRF_lysis_1\"\n",
    "df1 = df1.rename(columns={\"TGGTGACC\": sample})\n",
    "for file in files:\n",
    "    sample = file.split('/')[-3]\n",
    "    df = pd.read_csv(file, sep='\\t', index_col=0)\n",
    "    df = df.rename(columns={\"TGGTGACC\": sample})\n",
    "    df1 = pd.merge(df, df1, left_index=True, right_index=True,)"
   ]
  },
  {
   "cell_type": "code",
   "execution_count": 194,
   "id": "severe-standard",
   "metadata": {},
   "outputs": [
    {
     "data": {
      "text/html": [
       "<div>\n",
       "<style scoped>\n",
       "    .dataframe tbody tr th:only-of-type {\n",
       "        vertical-align: middle;\n",
       "    }\n",
       "\n",
       "    .dataframe tbody tr th {\n",
       "        vertical-align: top;\n",
       "    }\n",
       "\n",
       "    .dataframe thead th {\n",
       "        text-align: right;\n",
       "    }\n",
       "</style>\n",
       "<table border=\"1\" class=\"dataframe\">\n",
       "  <thead>\n",
       "    <tr style=\"text-align: right;\">\n",
       "      <th></th>\n",
       "      <th>TGGTGACC</th>\n",
       "    </tr>\n",
       "  </thead>\n",
       "  <tbody>\n",
       "    <tr>\n",
       "      <th>DPM1</th>\n",
       "      <td>0.002763</td>\n",
       "    </tr>\n",
       "    <tr>\n",
       "      <th>SCYL3</th>\n",
       "      <td>0.000323</td>\n",
       "    </tr>\n",
       "    <tr>\n",
       "      <th>C1orf112</th>\n",
       "      <td>0.001366</td>\n",
       "    </tr>\n",
       "    <tr>\n",
       "      <th>FGR</th>\n",
       "      <td>0.000024</td>\n",
       "    </tr>\n",
       "    <tr>\n",
       "      <th>FUCA2</th>\n",
       "      <td>0.000073</td>\n",
       "    </tr>\n",
       "    <tr>\n",
       "      <th>...</th>\n",
       "      <td>...</td>\n",
       "    </tr>\n",
       "    <tr>\n",
       "      <th>AL357079.3</th>\n",
       "      <td>0.000018</td>\n",
       "    </tr>\n",
       "    <tr>\n",
       "      <th>AC023296.1</th>\n",
       "      <td>0.000000</td>\n",
       "    </tr>\n",
       "    <tr>\n",
       "      <th>AC114778.2</th>\n",
       "      <td>0.000018</td>\n",
       "    </tr>\n",
       "    <tr>\n",
       "      <th>AL357874.3</th>\n",
       "      <td>0.000030</td>\n",
       "    </tr>\n",
       "    <tr>\n",
       "      <th>AL645933.5</th>\n",
       "      <td>0.000043</td>\n",
       "    </tr>\n",
       "  </tbody>\n",
       "</table>\n",
       "<p>18770 rows × 1 columns</p>\n",
       "</div>"
      ],
      "text/plain": [
       "            TGGTGACC\n",
       "DPM1        0.002763\n",
       "SCYL3       0.000323\n",
       "C1orf112    0.001366\n",
       "FGR         0.000024\n",
       "FUCA2       0.000073\n",
       "...              ...\n",
       "AL357079.3  0.000018\n",
       "AC023296.1  0.000000\n",
       "AC114778.2  0.000018\n",
       "AL357874.3  0.000030\n",
       "AL645933.5  0.000043\n",
       "\n",
       "[18770 rows x 1 columns]"
      ]
     },
     "execution_count": 194,
     "metadata": {},
     "output_type": "execute_result"
    }
   ],
   "source": [
    "df1"
   ]
  },
  {
   "cell_type": "code",
   "execution_count": null,
   "id": "welcome-knowing",
   "metadata": {},
   "outputs": [],
   "source": [
    "df_norm = (df1 - df1.min()) / (df1.max() - df1.min())"
   ]
  },
  {
   "cell_type": "code",
   "execution_count": null,
   "id": "documented-resolution",
   "metadata": {},
   "outputs": [],
   "source": [
    "df_norm"
   ]
  },
  {
   "cell_type": "code",
   "execution_count": null,
   "id": "funded-harrison",
   "metadata": {},
   "outputs": [],
   "source": [
    "df_norm.to_csv(\"/SGRNJ06/randd/USER/cjj/celedev/rna/20230921tgx/normalize_df.tsv\", sep='\\t')"
   ]
  },
  {
   "cell_type": "code",
   "execution_count": null,
   "id": "placed-evanescence",
   "metadata": {},
   "outputs": [],
   "source": []
  },
  {
   "cell_type": "code",
   "execution_count": null,
   "id": "expressed-circus",
   "metadata": {},
   "outputs": [],
   "source": []
  },
  {
   "cell_type": "code",
   "execution_count": null,
   "id": "illegal-slovakia",
   "metadata": {},
   "outputs": [],
   "source": []
  },
  {
   "cell_type": "code",
   "execution_count": null,
   "id": "regular-monthly",
   "metadata": {},
   "outputs": [],
   "source": []
  },
  {
   "cell_type": "code",
   "execution_count": null,
   "id": "square-crazy",
   "metadata": {},
   "outputs": [],
   "source": []
  },
  {
   "cell_type": "code",
   "execution_count": null,
   "id": "chief-vancouver",
   "metadata": {},
   "outputs": [],
   "source": []
  },
  {
   "cell_type": "code",
   "execution_count": null,
   "id": "modified-assumption",
   "metadata": {},
   "outputs": [],
   "source": []
  },
  {
   "cell_type": "code",
   "execution_count": 157,
   "id": "incorrect-walnut",
   "metadata": {},
   "outputs": [
    {
     "data": {
      "text/plain": [
       "['/SGRNJ06/randd/PROJECT/RD21010602_GEXSCOPE_V3/20230921/CCRF_lysis_1/05.count/CCRF_lysis_1_matrix.tsv.gz',\n",
       " '/SGRNJ06/randd/PROJECT/RD21010602_GEXSCOPE_V3/20230921/CCRF_YNaCl_PK_8/05.count/CCRF_YNaCl_PK_8_matrix.tsv.gz',\n",
       " '/SGRNJ06/randd/USER/cjj/celedev/rna/20230921tgx/CCRF_NaCl_PK_5/05.count/CCRF_NaCl_PK_5_matrix.tsv.gz',\n",
       " '/SGRNJ06/randd/USER/cjj/celedev/rna/20230921tgx/1_Nacl/05.count/1_Nacl_matrix.tsv.gz',\n",
       " '/SGRNJ06/randd/USER/cjj/celedev/rna/20230921tgx/CCRF_YNaCl_6/05.count/CCRF_YNaCl_6_matrix.tsv.gz',\n",
       " '/SGRNJ06/randd/USER/cjj/celedev/rna/20230921tgx/4_W/05.count/4_W_matrix.tsv.gz',\n",
       " '/SGRNJ06/randd/USER/cjj/celedev/rna/20230921tgx/5_YS/05.count/5_YS_matrix.tsv.gz',\n",
       " '/SGRNJ06/randd/USER/cjj/celedev/rna/20230921tgx/CCRF_NaCl_3/05.count/CCRF_NaCl_3_matrix.tsv.gz',\n",
       " '/SGRNJ06/randd/USER/cjj/celedev/rna/20230921tgx/6_W_pk/05.count/6_W_pk_matrix.tsv.gz',\n",
       " '/SGRNJ06/randd/USER/cjj/celedev/rna/20230921tgx/3_Nacl_pk/05.count/3_Nacl_pk_matrix.tsv.gz']"
      ]
     },
     "execution_count": 157,
     "metadata": {},
     "output_type": "execute_result"
    }
   ],
   "source": [
    "files"
   ]
  },
  {
   "cell_type": "code",
   "execution_count": 188,
   "id": "occupational-chick",
   "metadata": {},
   "outputs": [],
   "source": [
    "df = pd.read_csv(files[9], sep='\\t', index_col=0)"
   ]
  },
  {
   "cell_type": "code",
   "execution_count": 195,
   "id": "strategic-canadian",
   "metadata": {},
   "outputs": [
    {
     "data": {
      "text/html": [
       "<div>\n",
       "<style scoped>\n",
       "    .dataframe tbody tr th:only-of-type {\n",
       "        vertical-align: middle;\n",
       "    }\n",
       "\n",
       "    .dataframe tbody tr th {\n",
       "        vertical-align: top;\n",
       "    }\n",
       "\n",
       "    .dataframe thead th {\n",
       "        text-align: right;\n",
       "    }\n",
       "</style>\n",
       "<table border=\"1\" class=\"dataframe\">\n",
       "  <thead>\n",
       "    <tr style=\"text-align: right;\">\n",
       "      <th></th>\n",
       "      <th>TGGTGACC</th>\n",
       "    </tr>\n",
       "  </thead>\n",
       "  <tbody>\n",
       "    <tr>\n",
       "      <th>DPM1</th>\n",
       "      <td>454</td>\n",
       "    </tr>\n",
       "    <tr>\n",
       "      <th>SCYL3</th>\n",
       "      <td>54</td>\n",
       "    </tr>\n",
       "    <tr>\n",
       "      <th>C1orf112</th>\n",
       "      <td>225</td>\n",
       "    </tr>\n",
       "    <tr>\n",
       "      <th>FGR</th>\n",
       "      <td>5</td>\n",
       "    </tr>\n",
       "    <tr>\n",
       "      <th>FUCA2</th>\n",
       "      <td>13</td>\n",
       "    </tr>\n",
       "    <tr>\n",
       "      <th>...</th>\n",
       "      <td>...</td>\n",
       "    </tr>\n",
       "    <tr>\n",
       "      <th>AL357079.3</th>\n",
       "      <td>4</td>\n",
       "    </tr>\n",
       "    <tr>\n",
       "      <th>AC023296.1</th>\n",
       "      <td>1</td>\n",
       "    </tr>\n",
       "    <tr>\n",
       "      <th>AC114778.2</th>\n",
       "      <td>4</td>\n",
       "    </tr>\n",
       "    <tr>\n",
       "      <th>AL357874.3</th>\n",
       "      <td>6</td>\n",
       "    </tr>\n",
       "    <tr>\n",
       "      <th>AL645933.5</th>\n",
       "      <td>8</td>\n",
       "    </tr>\n",
       "  </tbody>\n",
       "</table>\n",
       "<p>18770 rows × 1 columns</p>\n",
       "</div>"
      ],
      "text/plain": [
       "            TGGTGACC\n",
       "DPM1             454\n",
       "SCYL3             54\n",
       "C1orf112         225\n",
       "FGR                5\n",
       "FUCA2             13\n",
       "...              ...\n",
       "AL357079.3         4\n",
       "AC023296.1         1\n",
       "AC114778.2         4\n",
       "AL357874.3         6\n",
       "AL645933.5         8\n",
       "\n",
       "[18770 rows x 1 columns]"
      ]
     },
     "execution_count": 195,
     "metadata": {},
     "output_type": "execute_result"
    }
   ],
   "source": [
    "df"
   ]
  },
  {
   "cell_type": "code",
   "execution_count": 190,
   "id": "advanced-participant",
   "metadata": {},
   "outputs": [],
   "source": [
    "df1 = (df - df.min()) / (df.max() - df.min())"
   ]
  },
  {
   "cell_type": "code",
   "execution_count": 191,
   "id": "killing-minority",
   "metadata": {},
   "outputs": [
    {
     "data": {
      "text/html": [
       "<div>\n",
       "<style scoped>\n",
       "    .dataframe tbody tr th:only-of-type {\n",
       "        vertical-align: middle;\n",
       "    }\n",
       "\n",
       "    .dataframe tbody tr th {\n",
       "        vertical-align: top;\n",
       "    }\n",
       "\n",
       "    .dataframe thead th {\n",
       "        text-align: right;\n",
       "    }\n",
       "</style>\n",
       "<table border=\"1\" class=\"dataframe\">\n",
       "  <thead>\n",
       "    <tr style=\"text-align: right;\">\n",
       "      <th></th>\n",
       "      <th>TGGTGACC</th>\n",
       "    </tr>\n",
       "  </thead>\n",
       "  <tbody>\n",
       "    <tr>\n",
       "      <th>DPM1</th>\n",
       "      <td>0.002763</td>\n",
       "    </tr>\n",
       "    <tr>\n",
       "      <th>SCYL3</th>\n",
       "      <td>0.000323</td>\n",
       "    </tr>\n",
       "    <tr>\n",
       "      <th>C1orf112</th>\n",
       "      <td>0.001366</td>\n",
       "    </tr>\n",
       "    <tr>\n",
       "      <th>FGR</th>\n",
       "      <td>0.000024</td>\n",
       "    </tr>\n",
       "    <tr>\n",
       "      <th>FUCA2</th>\n",
       "      <td>0.000073</td>\n",
       "    </tr>\n",
       "    <tr>\n",
       "      <th>...</th>\n",
       "      <td>...</td>\n",
       "    </tr>\n",
       "    <tr>\n",
       "      <th>AL357079.3</th>\n",
       "      <td>0.000018</td>\n",
       "    </tr>\n",
       "    <tr>\n",
       "      <th>AC023296.1</th>\n",
       "      <td>0.000000</td>\n",
       "    </tr>\n",
       "    <tr>\n",
       "      <th>AC114778.2</th>\n",
       "      <td>0.000018</td>\n",
       "    </tr>\n",
       "    <tr>\n",
       "      <th>AL357874.3</th>\n",
       "      <td>0.000030</td>\n",
       "    </tr>\n",
       "    <tr>\n",
       "      <th>AL645933.5</th>\n",
       "      <td>0.000043</td>\n",
       "    </tr>\n",
       "  </tbody>\n",
       "</table>\n",
       "<p>18770 rows × 1 columns</p>\n",
       "</div>"
      ],
      "text/plain": [
       "            TGGTGACC\n",
       "DPM1        0.002763\n",
       "SCYL3       0.000323\n",
       "C1orf112    0.001366\n",
       "FGR         0.000024\n",
       "FUCA2       0.000073\n",
       "...              ...\n",
       "AL357079.3  0.000018\n",
       "AC023296.1  0.000000\n",
       "AC114778.2  0.000018\n",
       "AL357874.3  0.000030\n",
       "AL645933.5  0.000043\n",
       "\n",
       "[18770 rows x 1 columns]"
      ]
     },
     "execution_count": 191,
     "metadata": {},
     "output_type": "execute_result"
    }
   ],
   "source": [
    "df1"
   ]
  },
  {
   "cell_type": "code",
   "execution_count": 198,
   "id": "incoming-fifteen",
   "metadata": {},
   "outputs": [
    {
     "data": {
      "text/html": [
       "<div>\n",
       "<style scoped>\n",
       "    .dataframe tbody tr th:only-of-type {\n",
       "        vertical-align: middle;\n",
       "    }\n",
       "\n",
       "    .dataframe tbody tr th {\n",
       "        vertical-align: top;\n",
       "    }\n",
       "\n",
       "    .dataframe thead th {\n",
       "        text-align: right;\n",
       "    }\n",
       "</style>\n",
       "<table border=\"1\" class=\"dataframe\">\n",
       "  <thead>\n",
       "    <tr style=\"text-align: right;\">\n",
       "      <th></th>\n",
       "      <th>TGGTGACC</th>\n",
       "    </tr>\n",
       "  </thead>\n",
       "  <tbody>\n",
       "    <tr>\n",
       "      <th>DPM1</th>\n",
       "      <td>0.002763</td>\n",
       "    </tr>\n",
       "    <tr>\n",
       "      <th>SCYL3</th>\n",
       "      <td>0.000323</td>\n",
       "    </tr>\n",
       "    <tr>\n",
       "      <th>C1orf112</th>\n",
       "      <td>0.001366</td>\n",
       "    </tr>\n",
       "    <tr>\n",
       "      <th>FGR</th>\n",
       "      <td>0.000024</td>\n",
       "    </tr>\n",
       "    <tr>\n",
       "      <th>FUCA2</th>\n",
       "      <td>0.000073</td>\n",
       "    </tr>\n",
       "    <tr>\n",
       "      <th>...</th>\n",
       "      <td>...</td>\n",
       "    </tr>\n",
       "    <tr>\n",
       "      <th>AL357079.3</th>\n",
       "      <td>0.000018</td>\n",
       "    </tr>\n",
       "    <tr>\n",
       "      <th>AC023296.1</th>\n",
       "      <td>0.000000</td>\n",
       "    </tr>\n",
       "    <tr>\n",
       "      <th>AC114778.2</th>\n",
       "      <td>0.000018</td>\n",
       "    </tr>\n",
       "    <tr>\n",
       "      <th>AL357874.3</th>\n",
       "      <td>0.000030</td>\n",
       "    </tr>\n",
       "    <tr>\n",
       "      <th>AL645933.5</th>\n",
       "      <td>0.000043</td>\n",
       "    </tr>\n",
       "  </tbody>\n",
       "</table>\n",
       "<p>18757 rows × 1 columns</p>\n",
       "</div>"
      ],
      "text/plain": [
       "            TGGTGACC\n",
       "DPM1        0.002763\n",
       "SCYL3       0.000323\n",
       "C1orf112    0.001366\n",
       "FGR         0.000024\n",
       "FUCA2       0.000073\n",
       "...              ...\n",
       "AL357079.3  0.000018\n",
       "AC023296.1  0.000000\n",
       "AC114778.2  0.000018\n",
       "AL357874.3  0.000030\n",
       "AL645933.5  0.000043\n",
       "\n",
       "[18757 rows x 1 columns]"
      ]
     },
     "execution_count": 198,
     "metadata": {},
     "output_type": "execute_result"
    }
   ],
   "source": [
    "df1[df1[\"TGGTGACC\"]<0.1]"
   ]
  },
  {
   "cell_type": "code",
   "execution_count": null,
   "id": "violent-cancer",
   "metadata": {},
   "outputs": [],
   "source": []
  }
 ],
 "metadata": {
  "kernelspec": {
   "display_name": "trust4_1.7",
   "language": "python",
   "name": "trust4_1.7"
  },
  "language_info": {
   "codemirror_mode": {
    "name": "ipython",
    "version": 3
   },
   "file_extension": ".py",
   "mimetype": "text/x-python",
   "name": "python",
   "nbconvert_exporter": "python",
   "pygments_lexer": "ipython3",
   "version": "3.7.10"
  }
 },
 "nbformat": 4,
 "nbformat_minor": 5
}
