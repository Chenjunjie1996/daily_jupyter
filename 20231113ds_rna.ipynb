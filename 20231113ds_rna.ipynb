{
 "cells": [
  {
   "cell_type": "code",
   "execution_count": 4,
   "id": "fixed-yellow",
   "metadata": {},
   "outputs": [],
   "source": [
    "import pysam\n",
    "from xopen import xopen"
   ]
  },
  {
   "cell_type": "code",
   "execution_count": 3,
   "id": "computational-check",
   "metadata": {},
   "outputs": [],
   "source": [
    "count = 0\n",
    "with pysam.FastxFile(\"/SGRNJ07/Standard_Analysis/DATA05/limsdownload/23_11/2023_11_10/P22012106/ZJN-230412/2023-11-10-7/LC230413010_R1_001.fastq.gz\") as f:\n",
    "    for read in f:\n",
    "        count += 1"
   ]
  },
  {
   "cell_type": "code",
   "execution_count": 5,
   "id": "guilty-affiliation",
   "metadata": {},
   "outputs": [
    {
     "data": {
      "text/plain": [
       "102677132"
      ]
     },
     "execution_count": 5,
     "metadata": {},
     "output_type": "execute_result"
    }
   ],
   "source": [
    "count"
   ]
  },
  {
   "cell_type": "code",
   "execution_count": 7,
   "id": "fatal-techno",
   "metadata": {},
   "outputs": [],
   "source": [
    "fh_fq1 = xopen(\"/SGRNJ06/randd/USER/cjj/celedev/rna/20231113ds/rawdata_yz/LC230413010ds_R1.fastq.gz\", 'w')\n",
    "fh_fq2 = xopen(\"/SGRNJ06/randd/USER/cjj/celedev/rna/20231113ds/rawdata_yz/LC230413010ds_R2.fastq.gz\", 'w')"
   ]
  },
  {
   "cell_type": "code",
   "execution_count": 9,
   "id": "durable-cargo",
   "metadata": {},
   "outputs": [],
   "source": [
    "count = 0\n",
    "with pysam.FastxFile(\"/SGRNJ07/Standard_Analysis/DATA05/limsdownload/23_10/2023_10_13/P22012106/ZJN-230412/2023-10-13-10/LC230413010_R1.fastq.gz\", persist=False) as fq1, \\\n",
    "        pysam.FastxFile(\"/SGRNJ07/Standard_Analysis/DATA05/limsdownload/23_10/2023_10_13/P22012106/ZJN-230412/2023-10-13-10/LC230413010_R2.fastq.gz\", persist=False) as fq2:\n",
    "    for entry1, entry2 in zip(fq1, fq2):\n",
    "        count += 1\n",
    "        if count > 102677132:\n",
    "            break\n",
    "        fh_fq1.write(f\"@{entry1.name}\\n{entry1.sequence}\\n+\\n{entry1.quality}\\n\")\n",
    "        fh_fq2.write(f\"@{entry2.name}\\n{entry2.sequence}\\n+\\n{entry2.quality}\\n\")"
   ]
  },
  {
   "cell_type": "code",
   "execution_count": 10,
   "id": "placed-witch",
   "metadata": {},
   "outputs": [],
   "source": [
    "fh_fq1.close()\n",
    "fh_fq2.close()"
   ]
  },
  {
   "cell_type": "code",
   "execution_count": null,
   "id": "corresponding-college",
   "metadata": {},
   "outputs": [],
   "source": []
  },
  {
   "cell_type": "code",
   "execution_count": 11,
   "id": "dental-blink",
   "metadata": {},
   "outputs": [],
   "source": [
    "count = 0\n",
    "with pysam.FastxFile(\"/SGRNJ07/Standard_Analysis/DATA05/limsdownload/23_10/2023_10_16/P23051505/lyxh20231007-1/2023-10-16-10/LFTBC231008010_R1.fastq.gz\") as f:\n",
    "    for read in f:\n",
    "        count += 1"
   ]
  },
  {
   "cell_type": "code",
   "execution_count": 12,
   "id": "prescribed-afternoon",
   "metadata": {},
   "outputs": [
    {
     "data": {
      "text/plain": [
       "39177678"
      ]
     },
     "execution_count": 12,
     "metadata": {},
     "output_type": "execute_result"
    }
   ],
   "source": [
    "count"
   ]
  },
  {
   "cell_type": "code",
   "execution_count": 5,
   "id": "diverse-material",
   "metadata": {},
   "outputs": [],
   "source": [
    "fh_fq1 = xopen(\"/SGRNJ06/randd/USER/cjj/celedev/rna/20240104ds/rawdata/R231226029_R1.fastq.gz\", 'w')\n",
    "fh_fq2 = xopen(\"/SGRNJ06/randd/USER/cjj/celedev/rna/20240104ds/rawdata/R231226029_R2.fastq.gz\", 'w')"
   ]
  },
  {
   "cell_type": "code",
   "execution_count": 6,
   "id": "historic-pencil",
   "metadata": {},
   "outputs": [],
   "source": [
    "count = 0\n",
    "with pysam.FastxFile(\"/SGRNJ07/Standard_Analysis/DATA05/limsdownload/23_12/2023_12_30/RD23102601/H_1222Breast_tumor_SCSN_Nlib/2023-12-30-7/R231226029_R1.fastq.gz\", persist=False) as fq1, \\\n",
    "        pysam.FastxFile(\"/SGRNJ07/Standard_Analysis/DATA05/limsdownload/23_12/2023_12_30/RD23102601/H_1222Breast_tumor_SCSN_Nlib/2023-12-30-7/R231226029_R2.fastq.gz\", persist=False) as fq2:\n",
    "    for entry1, entry2 in zip(fq1, fq2):\n",
    "        count += 1\n",
    "        if count > 22680000:\n",
    "            break\n",
    "        fh_fq1.write(f\"@{entry1.name}\\n{entry1.sequence}\\n+\\n{entry1.quality}\\n\")\n",
    "        fh_fq2.write(f\"@{entry2.name}\\n{entry2.sequence}\\n+\\n{entry2.quality}\\n\")"
   ]
  },
  {
   "cell_type": "code",
   "execution_count": 7,
   "id": "heavy-queen",
   "metadata": {},
   "outputs": [],
   "source": [
    "fh_fq1.close()\n",
    "fh_fq2.close()"
   ]
  },
  {
   "cell_type": "code",
   "execution_count": null,
   "id": "optical-division",
   "metadata": {},
   "outputs": [],
   "source": []
  },
  {
   "cell_type": "code",
   "execution_count": 19,
   "id": "august-accounting",
   "metadata": {},
   "outputs": [],
   "source": [
    "count = 0\n",
    "with pysam.FastxFile(\"/SGRNJ07/Standard_Analysis/DATA05/limsdownload/23_11/2023_11_10/P22120903/ER-3/2023-11-10-6/LC230930034_R1_001.fastq.gz\") as f:\n",
    "    for read in f:\n",
    "        count += 1"
   ]
  },
  {
   "cell_type": "code",
   "execution_count": 20,
   "id": "common-classification",
   "metadata": {},
   "outputs": [
    {
     "data": {
      "text/plain": [
       "148787563"
      ]
     },
     "execution_count": 20,
     "metadata": {},
     "output_type": "execute_result"
    }
   ],
   "source": [
    "count"
   ]
  },
  {
   "cell_type": "code",
   "execution_count": 21,
   "id": "reasonable-recorder",
   "metadata": {},
   "outputs": [],
   "source": [
    "fh_fq1 = xopen(\"/SGRNJ06/randd/USER/cjj/celedev/rna/20231113ds/rawdata_yz/LC230930034ds_R1.fastq.gz\", 'w')\n",
    "fh_fq2 = xopen(\"/SGRNJ06/randd/USER/cjj/celedev/rna/20231113ds/rawdata_yz/LC230930034ds_R2.fastq.gz\", 'w')"
   ]
  },
  {
   "cell_type": "code",
   "execution_count": 22,
   "id": "compatible-cookie",
   "metadata": {},
   "outputs": [],
   "source": [
    "count = 0\n",
    "with pysam.FastxFile(\"/SGRNJ07/Standard_Analysis/DATA05/limsdownload/23_10/2023_10_10/P22120903/ER-3/2023-10-10-47/LC230930034_R1.fastq.gz\", persist=False) as fq1, \\\n",
    "        pysam.FastxFile(\"/SGRNJ07/Standard_Analysis/DATA05/limsdownload/23_10/2023_10_10/P22120903/ER-3/2023-10-10-47/LC230930034_R2.fastq.gz\", persist=False) as fq2:\n",
    "    for entry1, entry2 in zip(fq1, fq2):\n",
    "        count += 1\n",
    "        if count > 148787563:\n",
    "            break\n",
    "        fh_fq1.write(f\"@{entry1.name}\\n{entry1.sequence}\\n+\\n{entry1.quality}\\n\")\n",
    "        fh_fq2.write(f\"@{entry2.name}\\n{entry2.sequence}\\n+\\n{entry2.quality}\\n\")"
   ]
  },
  {
   "cell_type": "code",
   "execution_count": 25,
   "id": "intelligent-cincinnati",
   "metadata": {},
   "outputs": [],
   "source": [
    "fh_fq1.close()\n",
    "fh_fq2.close()"
   ]
  },
  {
   "cell_type": "code",
   "execution_count": null,
   "id": "greenhouse-couple",
   "metadata": {},
   "outputs": [],
   "source": [
    "141414141"
   ]
  }
 ],
 "metadata": {
  "kernelspec": {
   "display_name": "trust4_1.7",
   "language": "python",
   "name": "trust4_1.7"
  },
  "language_info": {
   "codemirror_mode": {
    "name": "ipython",
    "version": 3
   },
   "file_extension": ".py",
   "mimetype": "text/x-python",
   "name": "python",
   "nbconvert_exporter": "python",
   "pygments_lexer": "ipython3",
   "version": "3.7.10"
  }
 },
 "nbformat": 4,
 "nbformat_minor": 5
}
