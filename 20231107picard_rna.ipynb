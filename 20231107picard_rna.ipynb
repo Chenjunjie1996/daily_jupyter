{
 "cells": [
  {
   "cell_type": "code",
   "execution_count": 1,
   "id": "inner-degree",
   "metadata": {},
   "outputs": [],
   "source": [
    "# /SGRNJ06/randd/USER/cjj/celedev/rna/20230919picard/K562_18TL_bulk_NL_picard\n",
    "# /SGRNJ06/randd/USER/cjj/celedev/rna/20230919picard/K562_18T_bulk_NL_picard"
   ]
  },
  {
   "cell_type": "code",
   "execution_count": 2,
   "id": "favorite-thesaurus",
   "metadata": {},
   "outputs": [],
   "source": [
    "import pandas as pd \n",
    "import os"
   ]
  },
  {
   "cell_type": "code",
   "execution_count": 4,
   "id": "nominated-retrieval",
   "metadata": {},
   "outputs": [],
   "source": [
    "    with open(\"/SGRNJ06/randd/USER/cjj/celedev/rna/20231106/K562_18TL_bulk_NL_picard\") as fh:\n",
    "        for line in fh:\n",
    "            if not line:\n",
    "                break\n",
    "            if line.startswith('## METRICS CLASS'):\n",
    "                header = fh.readline().strip().split('\\t')\n",
    "                data = fh.readline().strip().split('\\t')\n",
    "                dict_log = dict(zip(header, data))"
   ]
  },
  {
   "cell_type": "code",
   "execution_count": 5,
   "id": "enormous-young",
   "metadata": {},
   "outputs": [
    {
     "data": {
      "text/plain": [
       "{'PF_BASES': '799890564',\n",
       " 'PF_ALIGNED_BASES': '785415638',\n",
       " 'RIBOSOMAL_BASES': '',\n",
       " 'CODING_BASES': '420068807',\n",
       " 'UTR_BASES': '237862137',\n",
       " 'INTRONIC_BASES': '111995596',\n",
       " 'INTERGENIC_BASES': '15489098',\n",
       " 'IGNORED_READS': '0',\n",
       " 'CORRECT_STRAND_READS': '0',\n",
       " 'INCORRECT_STRAND_READS': '0',\n",
       " 'NUM_R1_TRANSCRIPT_STRAND_READS': '3226816',\n",
       " 'NUM_R2_TRANSCRIPT_STRAND_READS': '211230',\n",
       " 'NUM_UNEXPLAINED_READS': '35079',\n",
       " 'PCT_R1_TRANSCRIPT_STRAND_READS': '0.938561',\n",
       " 'PCT_R2_TRANSCRIPT_STRAND_READS': '0.061439',\n",
       " 'PCT_RIBOSOMAL_BASES': '',\n",
       " 'PCT_CODING_BASES': '0.534836',\n",
       " 'PCT_UTR_BASES': '0.302849',\n",
       " 'PCT_INTRONIC_BASES': '0.142594',\n",
       " 'PCT_INTERGENIC_BASES': '0.019721',\n",
       " 'PCT_MRNA_BASES': '0.837685',\n",
       " 'PCT_USABLE_BASES': '0.822526',\n",
       " 'PCT_CORRECT_STRAND_READS': '0',\n",
       " 'MEDIAN_CV_COVERAGE': '0.641061',\n",
       " 'MEDIAN_5PRIME_BIAS': '0.534557',\n",
       " 'MEDIAN_3PRIME_BIAS': '0.315059',\n",
       " 'MEDIAN_5PRIME_TO_3PRIME_BIAS': '1.032431'}"
      ]
     },
     "execution_count": 5,
     "metadata": {},
     "output_type": "execute_result"
    }
   ],
   "source": [
    "dict_log"
   ]
  },
  {
   "cell_type": "code",
   "execution_count": null,
   "id": "overhead-jesus",
   "metadata": {},
   "outputs": [],
   "source": []
  }
 ],
 "metadata": {
  "kernelspec": {
   "display_name": "trust4_1.7",
   "language": "python",
   "name": "trust4_1.7"
  },
  "language_info": {
   "codemirror_mode": {
    "name": "ipython",
    "version": 3
   },
   "file_extension": ".py",
   "mimetype": "text/x-python",
   "name": "python",
   "nbconvert_exporter": "python",
   "pygments_lexer": "ipython3",
   "version": "3.7.10"
  }
 },
 "nbformat": 4,
 "nbformat_minor": 5
}
