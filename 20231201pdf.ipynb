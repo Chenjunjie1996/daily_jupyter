{
 "cells": [
  {
   "cell_type": "code",
   "execution_count": null,
   "id": "powerful-hughes",
   "metadata": {},
   "outputs": [],
   "source": [
    "suppressMessages({\n",
    "library(ggplot2)\n",
    "library(reshape2)\n",
    "library(argparser)\n",
    "library(Seurat)\n",
    "library(corrplot)\n",
    "library(dplyr)\n",
    "library(grid)\n",
    "library(cowplot)\n",
    "library(dplyr)\n",
    "library(grid)\n",
    "library(tidyverse)\n",
    "})"
   ]
  },
  {
   "cell_type": "code",
   "execution_count": null,
   "id": "scientific-royal",
   "metadata": {},
   "outputs": [],
   "source": [
    "rds = readRDS(\"/SGRNJ06/randd/PROJECT/RD20102301_DZH/P21090901_Drug_CART/20230714_zl/singleR_annotation/ZD025_S2_M3_ZL/ZD025_S2_M3_ZL.rds\")"
   ]
  },
  {
   "cell_type": "code",
   "execution_count": null,
   "id": "posted-teens",
   "metadata": {},
   "outputs": [],
   "source": [
    "clustcol<-c(\"OrangeRed\",\"SlateBlue3\",\"DarkOrange\",\"GreenYellow\",\"Purple\",\"DarkSlateGray\",\"Gold\",\"DeepPink2\",\"Red4\",\"#4682B4\",\"#FFDAB9\",\"#708090\",\"#836FFF\",\"#CDC673\",\"#CD9B1D\",\"#FF6EB4\",\"#CDB5CD\",\"DarkGreen\",\"#008B8B\",\"#43CD80\",\"#483D8B\",\"#66CD00\",\"#CDC673\",\"#CDAD00\",\"#CD9B9B\",\"#FF8247\",\"#8B7355\",\"#8B3A62\",\"#68228B\",\"#CDB7B5\",\"#CD853F\",\"#6B8E23\",\"#696969\",\"#7B68EE\",\"#9F79EE\",\"#B0C4DE\",\"#7A378B\",\"#66CDAA\",\"#EEE8AA\",\"#00FF00\",\"#EEA2AD\",\"#A0522D\",\"#000080\",\"#E9967A\",\"#00CDCD\",\"#8B4500\",\"#DDA0DD\",\"#EE9572\",\"#EEE9E9\",\"#8B1A1A\",\"#8B8378\",\"#EE9A49\",\"#EECFA1\",\"#8B4726\",\"#8B8878\",\"#EEB4B4\",\"#C1CDCD\",\"#8B7500\",\"#0000FF\",\"#EEEED1\",\"#4F94CD\",\"#6E8B3D\",\"#B0E2FF\",\"#76EE00\",\"#A2B5CD\",\"#548B54\",\"#BBFFFF\",\"#B4EEB4\",\"#00C5CD\",\"#008B8B\",\"#7FFFD4\",\"#8EE5EE\",\"#43CD80\",\"#68838B\",\"#00FF00\",\"#B9D3EE\",\"#9ACD32\",\"#00688B\",\"#FFEC8B\",\"#1C86EE\",\"#CDCD00\",\"#473C8B\",\"#FFB90F\",\"#EED5D2\",\"#CD5555\",\"#CDC9A5\",\"#FFE7BA\",\"#FFDAB9\",\"#CD661D\",\"#CDC5BF\",\"#FF8C69\",\"#8A2BE2\",\"#CD8500\",\"#B03060\",\"#FF6347\",\"#FF7F50\",\"#CD0000\",\"#F4A460\",\"#FFB5C5\",\"#DAA520\",\"#CD6889\",\"#32CD32\",\"#FF00FF\",\"#2E8B57\",\"#CD96CD\",\"#48D1CC\",\"#9B30FF\",\"#1E90FF\",\"#CDB5CD\",\"#191970\",\"#E8E8E8\",\"#FFDAB9\")"
   ]
  },
  {
   "cell_type": "code",
   "execution_count": 15,
   "id": "judicial-literacy",
   "metadata": {},
   "outputs": [
    {
     "data": {
      "text/html": [
       "<table class=\"dataframe\">\n",
       "<caption>A data.frame: 10 × 7</caption>\n",
       "<thead>\n",
       "\t<tr><th></th><th scope=col>orig.ident</th><th scope=col>nCount_RNA</th><th scope=col>nFeature_RNA</th><th scope=col>percent.mito</th><th scope=col>RNA_snn_res.0.6</th><th scope=col>seurat_clusters</th><th scope=col>celltype</th></tr>\n",
       "\t<tr><th></th><th scope=col>&lt;fct&gt;</th><th scope=col>&lt;dbl&gt;</th><th scope=col>&lt;int&gt;</th><th scope=col>&lt;dbl&gt;</th><th scope=col>&lt;fct&gt;</th><th scope=col>&lt;dbl&gt;</th><th scope=col>&lt;chr&gt;</th></tr>\n",
       "</thead>\n",
       "<tbody>\n",
       "\t<tr><th scope=row>AAACATCGAAGACGGACTAAGGTC</th><td>ZD025_S2_M3_ZL</td><td>1236</td><td> 690</td><td>0.09870550</td><td>3 </td><td> 4</td><td>T_cells          </td></tr>\n",
       "\t<tr><th scope=row>AAACATCGACAGCAGAGAACAGGC</th><td>ZD025_S2_M3_ZL</td><td>9664</td><td>2244</td><td>0.04045944</td><td>0 </td><td> 1</td><td>Macrophage       </td></tr>\n",
       "\t<tr><th scope=row>AAACATCGACATTGGCAACGCTTA</th><td>ZD025_S2_M3_ZL</td><td>1110</td><td> 651</td><td>0.05675676</td><td>1 </td><td> 2</td><td>T_cells          </td></tr>\n",
       "\t<tr><th scope=row>AAACATCGACATTGGCCTGAGCCA</th><td>ZD025_S2_M3_ZL</td><td> 771</td><td> 394</td><td>0.06225681</td><td>2 </td><td> 3</td><td>T_cells          </td></tr>\n",
       "\t<tr><th scope=row>AAACATCGACATTGGCGTCTGTCA</th><td>ZD025_S2_M3_ZL</td><td>2512</td><td>1118</td><td>0.10828025</td><td>8 </td><td> 9</td><td>Endothelial_cells</td></tr>\n",
       "\t<tr><th scope=row>AAACATCGACGCTCGACGACACAC</th><td>ZD025_S2_M3_ZL</td><td> 728</td><td> 467</td><td>0.06181319</td><td>1 </td><td> 2</td><td>T_cells          </td></tr>\n",
       "\t<tr><th scope=row>AAACATCGAGAGTCAACCGAAGTA</th><td>ZD025_S2_M3_ZL</td><td>9282</td><td>2225</td><td>0.07983193</td><td>0 </td><td> 1</td><td>Macrophage       </td></tr>\n",
       "\t<tr><th scope=row>AAACATCGAGGCTAACCTAAGGTC</th><td>ZD025_S2_M3_ZL</td><td>1389</td><td> 779</td><td>0.06407487</td><td>1 </td><td> 2</td><td>T_cells          </td></tr>\n",
       "\t<tr><th scope=row>AAACATCGATCCTGTAATGCCTAA</th><td>ZD025_S2_M3_ZL</td><td> 832</td><td> 532</td><td>0.11057692</td><td>1 </td><td> 2</td><td>T_cells          </td></tr>\n",
       "\t<tr><th scope=row>AAACATCGATGCCTAAGGTGCGAA</th><td>ZD025_S2_M3_ZL</td><td>4883</td><td>2151</td><td>0.06655744</td><td>10</td><td>11</td><td>Hepatocytes      </td></tr>\n",
       "</tbody>\n",
       "</table>\n"
      ],
      "text/latex": [
       "A data.frame: 10 × 7\n",
       "\\begin{tabular}{r|lllllll}\n",
       "  & orig.ident & nCount\\_RNA & nFeature\\_RNA & percent.mito & RNA\\_snn\\_res.0.6 & seurat\\_clusters & celltype\\\\\n",
       "  & <fct> & <dbl> & <int> & <dbl> & <fct> & <dbl> & <chr>\\\\\n",
       "\\hline\n",
       "\tAAACATCGAAGACGGACTAAGGTC & ZD025\\_S2\\_M3\\_ZL & 1236 &  690 & 0.09870550 & 3  &  4 & T\\_cells          \\\\\n",
       "\tAAACATCGACAGCAGAGAACAGGC & ZD025\\_S2\\_M3\\_ZL & 9664 & 2244 & 0.04045944 & 0  &  1 & Macrophage       \\\\\n",
       "\tAAACATCGACATTGGCAACGCTTA & ZD025\\_S2\\_M3\\_ZL & 1110 &  651 & 0.05675676 & 1  &  2 & T\\_cells          \\\\\n",
       "\tAAACATCGACATTGGCCTGAGCCA & ZD025\\_S2\\_M3\\_ZL &  771 &  394 & 0.06225681 & 2  &  3 & T\\_cells          \\\\\n",
       "\tAAACATCGACATTGGCGTCTGTCA & ZD025\\_S2\\_M3\\_ZL & 2512 & 1118 & 0.10828025 & 8  &  9 & Endothelial\\_cells\\\\\n",
       "\tAAACATCGACGCTCGACGACACAC & ZD025\\_S2\\_M3\\_ZL &  728 &  467 & 0.06181319 & 1  &  2 & T\\_cells          \\\\\n",
       "\tAAACATCGAGAGTCAACCGAAGTA & ZD025\\_S2\\_M3\\_ZL & 9282 & 2225 & 0.07983193 & 0  &  1 & Macrophage       \\\\\n",
       "\tAAACATCGAGGCTAACCTAAGGTC & ZD025\\_S2\\_M3\\_ZL & 1389 &  779 & 0.06407487 & 1  &  2 & T\\_cells          \\\\\n",
       "\tAAACATCGATCCTGTAATGCCTAA & ZD025\\_S2\\_M3\\_ZL &  832 &  532 & 0.11057692 & 1  &  2 & T\\_cells          \\\\\n",
       "\tAAACATCGATGCCTAAGGTGCGAA & ZD025\\_S2\\_M3\\_ZL & 4883 & 2151 & 0.06655744 & 10 & 11 & Hepatocytes      \\\\\n",
       "\\end{tabular}\n"
      ],
      "text/markdown": [
       "\n",
       "A data.frame: 10 × 7\n",
       "\n",
       "| <!--/--> | orig.ident &lt;fct&gt; | nCount_RNA &lt;dbl&gt; | nFeature_RNA &lt;int&gt; | percent.mito &lt;dbl&gt; | RNA_snn_res.0.6 &lt;fct&gt; | seurat_clusters &lt;dbl&gt; | celltype &lt;chr&gt; |\n",
       "|---|---|---|---|---|---|---|---|\n",
       "| AAACATCGAAGACGGACTAAGGTC | ZD025_S2_M3_ZL | 1236 |  690 | 0.09870550 | 3  |  4 | T_cells           |\n",
       "| AAACATCGACAGCAGAGAACAGGC | ZD025_S2_M3_ZL | 9664 | 2244 | 0.04045944 | 0  |  1 | Macrophage        |\n",
       "| AAACATCGACATTGGCAACGCTTA | ZD025_S2_M3_ZL | 1110 |  651 | 0.05675676 | 1  |  2 | T_cells           |\n",
       "| AAACATCGACATTGGCCTGAGCCA | ZD025_S2_M3_ZL |  771 |  394 | 0.06225681 | 2  |  3 | T_cells           |\n",
       "| AAACATCGACATTGGCGTCTGTCA | ZD025_S2_M3_ZL | 2512 | 1118 | 0.10828025 | 8  |  9 | Endothelial_cells |\n",
       "| AAACATCGACGCTCGACGACACAC | ZD025_S2_M3_ZL |  728 |  467 | 0.06181319 | 1  |  2 | T_cells           |\n",
       "| AAACATCGAGAGTCAACCGAAGTA | ZD025_S2_M3_ZL | 9282 | 2225 | 0.07983193 | 0  |  1 | Macrophage        |\n",
       "| AAACATCGAGGCTAACCTAAGGTC | ZD025_S2_M3_ZL | 1389 |  779 | 0.06407487 | 1  |  2 | T_cells           |\n",
       "| AAACATCGATCCTGTAATGCCTAA | ZD025_S2_M3_ZL |  832 |  532 | 0.11057692 | 1  |  2 | T_cells           |\n",
       "| AAACATCGATGCCTAAGGTGCGAA | ZD025_S2_M3_ZL | 4883 | 2151 | 0.06655744 | 10 | 11 | Hepatocytes       |\n",
       "\n"
      ],
      "text/plain": [
       "                         orig.ident     nCount_RNA nFeature_RNA percent.mito\n",
       "AAACATCGAAGACGGACTAAGGTC ZD025_S2_M3_ZL 1236        690         0.09870550  \n",
       "AAACATCGACAGCAGAGAACAGGC ZD025_S2_M3_ZL 9664       2244         0.04045944  \n",
       "AAACATCGACATTGGCAACGCTTA ZD025_S2_M3_ZL 1110        651         0.05675676  \n",
       "AAACATCGACATTGGCCTGAGCCA ZD025_S2_M3_ZL  771        394         0.06225681  \n",
       "AAACATCGACATTGGCGTCTGTCA ZD025_S2_M3_ZL 2512       1118         0.10828025  \n",
       "AAACATCGACGCTCGACGACACAC ZD025_S2_M3_ZL  728        467         0.06181319  \n",
       "AAACATCGAGAGTCAACCGAAGTA ZD025_S2_M3_ZL 9282       2225         0.07983193  \n",
       "AAACATCGAGGCTAACCTAAGGTC ZD025_S2_M3_ZL 1389        779         0.06407487  \n",
       "AAACATCGATCCTGTAATGCCTAA ZD025_S2_M3_ZL  832        532         0.11057692  \n",
       "AAACATCGATGCCTAAGGTGCGAA ZD025_S2_M3_ZL 4883       2151         0.06655744  \n",
       "                         RNA_snn_res.0.6 seurat_clusters celltype         \n",
       "AAACATCGAAGACGGACTAAGGTC 3                4              T_cells          \n",
       "AAACATCGACAGCAGAGAACAGGC 0                1              Macrophage       \n",
       "AAACATCGACATTGGCAACGCTTA 1                2              T_cells          \n",
       "AAACATCGACATTGGCCTGAGCCA 2                3              T_cells          \n",
       "AAACATCGACATTGGCGTCTGTCA 8                9              Endothelial_cells\n",
       "AAACATCGACGCTCGACGACACAC 1                2              T_cells          \n",
       "AAACATCGAGAGTCAACCGAAGTA 0                1              Macrophage       \n",
       "AAACATCGAGGCTAACCTAAGGTC 1                2              T_cells          \n",
       "AAACATCGATCCTGTAATGCCTAA 1                2              T_cells          \n",
       "AAACATCGATGCCTAAGGTGCGAA 10              11              Hepatocytes      "
      ]
     },
     "metadata": {},
     "output_type": "display_data"
    }
   ],
   "source": [
    "head(rds)"
   ]
  },
  {
   "cell_type": "code",
   "execution_count": null,
   "id": "electoral-potential",
   "metadata": {},
   "outputs": [],
   "source": [
    "head(rds)\n",
    "\n",
    "freq_table <- prop.table(x=table(rds@active.ident,rds@meta.data[,\"celltype\"]),margin=2)\n",
    "mix=1.5"
   ]
  },
  {
   "cell_type": "code",
   "execution_count": null,
   "id": "smart-patrick",
   "metadata": {},
   "outputs": [],
   "source": [
    "rds@active.ident"
   ]
  },
  {
   "cell_type": "code",
   "execution_count": null,
   "id": "fluid-cameroon",
   "metadata": {},
   "outputs": [],
   "source": [
    "freq_table"
   ]
  },
  {
   "cell_type": "code",
   "execution_count": null,
   "id": "endless-shuttle",
   "metadata": {},
   "outputs": [],
   "source": [
    "barplot(height=freq_table,width = mix,xlim=c(1,60),legend = rownames(freq_table),args.legend = list(x = \"right\"),las=2,xlab=\"\",col =clustcol)"
   ]
  },
  {
   "cell_type": "code",
   "execution_count": null,
   "id": "quiet-turkey",
   "metadata": {},
   "outputs": [],
   "source": [
    "pdf(file = '/SGRNJ06/randd/PROJECT/RD20102301_DZH/P21090901_Drug_CART/20230714_zl/singleR_annotation/ZD025_S2_M3_ZL/PercentPerCell.pdf')\n",
    "barplot(height=freq_table,width = mix,xlim=c(1,60),legend = rownames(freq_table),args.legend = list(x = \"right\"),las=2,xlab=\"\",col =clustcol)\n",
    "dev.off()"
   ]
  },
  {
   "cell_type": "code",
   "execution_count": 17,
   "id": "italian-policy",
   "metadata": {},
   "outputs": [],
   "source": [
    "colour=c(\"#DC143C\",\"#0000FF\",\"#20B2AA\",\"#FFA500\",\"#9370DB\",\"#98FB98\",\"#F08080\",\"#1E90FF\",\"#7CFC00\",\"#FFFF00\",  \n",
    "         \"#808000\",\"#FF00FF\",\"#FA8072\",\"#7B68EE\",\"#9400D3\",\"#800080\",\"#A0522D\",\"#D2B48C\",\"#D2691E\",\"#87CEEB\",\"#40E0D0\",\"#5F9EA0\",\n",
    "         \"#FF1493\",\"#0000CD\",\"#008B8B\",\"#FFE4B5\",\"#8A2BE2\",\"#228B22\",\"#E9967A\",\"#4682B4\",\"#32CD32\",\"#F0E68C\",\"#FFFFE0\",\"#EE82EE\",\n",
    "         \"#FF6347\",\"#6A5ACD\",\"#9932CC\",\"#8B008B\",\"#8B4513\",\"#DEB887\")"
   ]
  },
  {
   "cell_type": "code",
   "execution_count": 18,
   "id": "equal-whale",
   "metadata": {},
   "outputs": [
    {
     "data": {
      "image/png": "[encoded data removed]",
      "text/plain": [
       "plot without title"
      ]
     },
     "metadata": {
      "image/png": {
       "height": 420,
       "width": 420
      }
     },
     "output_type": "display_data"
    }
   ],
   "source": [
    "sample_table <- as.data.frame(table(rds@meta.data$orig.ident,rds@meta.data$celltype))\n",
    "names(sample_table) <- c(\"Samples\",\"celltype\",\"CellNumber\")\n",
    "\n",
    "plot_sample<-ggplot(sample_table,aes(x=Samples,weight=CellNumber,fill=celltype))+\n",
    "  geom_bar(position=\"fill\")+\n",
    "  scale_fill_manual(values=colour) + \n",
    "  theme(panel.grid = element_blank(),\n",
    "        panel.background = element_rect(fill = \"transparent\",colour = NA),\n",
    "        axis.line.x = element_line(colour = \"black\") ,\n",
    "        axis.line.y = element_line(colour = \"black\") ,\n",
    "        plot.title = element_text(lineheight=.8, face=\"bold\", hjust=0.5, size =16)\n",
    "  )+labs(y=\"Percentage\")+RotatedAxis()\n",
    "plot_sample"
   ]
  },
  {
   "cell_type": "code",
   "execution_count": 19,
   "id": "optical-thompson",
   "metadata": {},
   "outputs": [
    {
     "data": {
      "text/html": [
       "<strong>png:</strong> 2"
      ],
      "text/latex": [
       "\\textbf{png:} 2"
      ],
      "text/markdown": [
       "**png:** 2"
      ],
      "text/plain": [
       "png \n",
       "  2 "
      ]
     },
     "metadata": {},
     "output_type": "display_data"
    }
   ],
   "source": [
    "pdf(file = '/SGRNJ06/randd/PROJECT/RD20102301_DZH/P21090901_Drug_CART/20230714_zl/singleR_annotation/ZD025_S2_M3_ZL/PercentPerCell.pdf')\n",
    "plot_sample\n",
    "dev.off()"
   ]
  },
  {
   "cell_type": "code",
   "execution_count": 23,
   "id": "effective-fraction",
   "metadata": {},
   "outputs": [],
   "source": [
    "color1 <- c(\"OrangeRed\",\"SlateBlue3\",\"DarkOrange\",\"GreenYellow\",\"Purple\",\"DarkSlateGray\",\"Gold\",\n",
    "  \"DeepPink2\",\"Red4\",\"#4682B4\",\"#FFDAB9\",\"#708090\",\"#836FFF\",\"#CDC673\",\"#CD9B1D\",\"#FF6EB4\",\n",
    "  \"#CDB5CD\",\"DarkGreen\",\"#008B8B\",\"#43CD80\",\"#483D8B\",\"#66CD00\",\"#CDC673\",\"#CDAD00\",\"#CD9B9B\",\n",
    "  \"#FF8247\",\"#8B7355\",\"#8B3A62\",\"#68228B\",\"#CDB7B5\",\"#CD853F\",\"#6B8E23\",\"#696969\",\"#7B68EE\",\n",
    "  \"#9F79EE\",\"#B0C4DE\",\"#7A378B\",\"#66CDAA\",\"#EEE8AA\",\"#00FF00\",\"#EEA2AD\",\"#A0522D\",\"#000080\",\n",
    "  \"#E9967A\",\"#00CDCD\",\"#8B4500\",\"#DDA0DD\",\"#EE9572\",\"#EEE9E9\",\"#8B1A1A\",\"#8B8378\",\"#EE9A49\",\n",
    "  \"#EECFA1\",\"#8B4726\",\"#8B8878\",\"#EEB4B4\",\"#C1CDCD\",\"#8B7500\",\"#0000FF\",\"#EEEED1\",\"#4F94CD\",\n",
    "  \"#6E8B3D\",\"#B0E2FF\",\"#76EE00\",\"#A2B5CD\",\"#548B54\",\"#BBFFFF\",\"#B4EEB4\",\"#00C5CD\",\"#008B8B\",\n",
    "  \"#7FFFD4\",\"#8EE5EE\",\"#43CD80\",\"#68838B\",\"#00FF00\",\"#B9D3EE\",\"#9ACD32\",\"#00688B\",\"#FFEC8B\",\n",
    "  \"#1C86EE\",\"#CDCD00\",\"#473C8B\",\"#FFB90F\",\"#EED5D2\",\"#CD5555\",\"#CDC9A5\",\"#FFE7BA\",\"#FFDAB9\",\n",
    "  \"#CD661D\",\"#CDC5BF\",\"#FF8C69\",\"#8A2BE2\",\"#CD8500\",\"#B03060\",\"#FF6347\",\"#FF7F50\",\"#CD0000\",\n",
    "  \"#F4A460\",\"#FFB5C5\",\"#DAA520\",\"#CD6889\",\"#32CD32\",\"#FF00FF\",\"#2E8B57\",\"#CD96CD\",\"#48D1CC\",\n",
    "  \"#9B30FF\",\"#1E90FF\",\"#CDB5CD\",\"#191970\",\"#E8E8E8\",\"#FFDAB9\")"
   ]
  },
  {
   "cell_type": "code",
   "execution_count": 29,
   "id": "portuguese-airfare",
   "metadata": {},
   "outputs": [
    {
     "data": {
      "text/html": [
       "<strong>png:</strong> 2"
      ],
      "text/latex": [
       "\\textbf{png:} 2"
      ],
      "text/markdown": [
       "**png:** 2"
      ],
      "text/plain": [
       "png \n",
       "  2 "
      ]
     },
     "metadata": {},
     "output_type": "display_data"
    }
   ],
   "source": [
    "pdf(file = '/SGRNJ06/randd/PROJECT/RD20102301_DZH/P21090901_Drug_CART/20230714_zl/singleR_annotation/ZD025_S2_M3_ZL/celltype_tsne.pdf',height=10, width=12)\n",
    "DimPlot(rds,reduction=\"tsne\", group.by=\"celltype\", cols=color1, pt.size=1.4, label=TRUE, label.size = 4)\n",
    "dev.off()"
   ]
  },
  {
   "cell_type": "code",
   "execution_count": 30,
   "id": "multiple-herald",
   "metadata": {},
   "outputs": [
    {
     "data": {
      "text/html": [
       "<strong>png:</strong> 2"
      ],
      "text/latex": [
       "\\textbf{png:} 2"
      ],
      "text/markdown": [
       "**png:** 2"
      ],
      "text/plain": [
       "png \n",
       "  2 "
      ]
     },
     "metadata": {},
     "output_type": "display_data"
    }
   ],
   "source": [
    "pdf(file = '/SGRNJ06/randd/PROJECT/RD20102301_DZH/P21090901_Drug_CART/20230714_zl/singleR_annotation/ZD025_S2_M3_ZL/celltype_umap.pdf',height=10, width=12)\n",
    "DimPlot(rds,reduction=\"umap\", group.by=\"celltype\", cols=color1, pt.size=1.4, label=TRUE, label.size = 4)\n",
    "dev.off()"
   ]
  },
  {
   "cell_type": "code",
   "execution_count": null,
   "id": "legal-violence",
   "metadata": {},
   "outputs": [],
   "source": []
  }
 ],
 "metadata": {
  "kernelspec": {
   "display_name": "r4.1_env",
   "language": "R",
   "name": "r4.1_env"
  },
  "language_info": {
   "codemirror_mode": "r",
   "file_extension": ".r",
   "mimetype": "text/x-r-source",
   "name": "R",
   "pygments_lexer": "r",
   "version": "4.1.1"
  }
 },
 "nbformat": 4,
 "nbformat_minor": 5
}
