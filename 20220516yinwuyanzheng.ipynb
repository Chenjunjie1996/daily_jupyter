{
 "cells": [
  {
   "cell_type": "code",
   "execution_count": 2,
   "id": "essential-difficulty",
   "metadata": {},
   "outputs": [],
   "source": [
    "import pandas as pd\n",
    "import pysam"
   ]
  },
  {
   "cell_type": "code",
   "execution_count": 3,
   "id": "motivated-italy",
   "metadata": {},
   "outputs": [],
   "source": [
    "handle_file = open('/SGRNJ06/randd/USER/cjj/celedev/vdj10x/202250516_BCR_primer/R220429122/whitelist', 'w')\n",
    "with pysam.FastxFile('/SGRNJ06/DATA04/22_05/2022_05_05/gwo0vdqnkf/S_Mbm_A_2NL/R220429122_R1.fastq.gz') as f:\n",
    "    for read in f:\n",
    "        handle_file.write(str(read.sequence[27:35]) + '\\n')\n",
    "handle_file.close()"
   ]
  },
  {
   "cell_type": "code",
   "execution_count": 4,
   "id": "thick-butler",
   "metadata": {},
   "outputs": [],
   "source": [
    "handle_file = open('/SGRNJ06/randd/USER/cjj/celedev/vdj10x/202250516_BCR_primer/R220429123/whitelist', 'w')\n",
    "with pysam.FastxFile('/SGRNJ06/DATA04/22_05/2022_05_09/gwo0vdqnkf/S_Mbm_B_2NL/R220429123_R1.fastq.gz') as f:\n",
    "    for read in f:\n",
    "        handle_file.write(str(read.sequence[27:35]) + '\\n')\n",
    "handle_file.close()"
   ]
  },
  {
   "cell_type": "code",
   "execution_count": 5,
   "id": "cardiac-wyoming",
   "metadata": {},
   "outputs": [],
   "source": [
    "handle_file = open('/SGRNJ06/randd/USER/cjj/celedev/vdj10x/202250516_BCR_primer/R220429124/whitelist', 'w')\n",
    "with pysam.FastxFile('/SGRNJ06/DATA04/22_05/2022_05_09/gwo0vdqnkf/S_Mbm_A_3NL/R220429124_R1.fastq.gz') as f:\n",
    "    for read in f:\n",
    "        handle_file.write(str(read.sequence[27:35]) + '\\n')\n",
    "handle_file.close()"
   ]
  },
  {
   "cell_type": "code",
   "execution_count": 6,
   "id": "english-lawyer",
   "metadata": {},
   "outputs": [],
   "source": [
    "handle_file = open('/SGRNJ06/randd/USER/cjj/celedev/vdj10x/202250516_BCR_primer/R220429134/whitelist', 'w')\n",
    "with pysam.FastxFile('/SGRNJ06/DATA04/22_05/2022_05_05/gwo0vdqnkf/S_Mbm_Bfx_2NL/R220429134_R1.fastq.gz') as f:\n",
    "    for read in f:\n",
    "        handle_file.write(str(read.sequence[27:35]) + '\\n')\n",
    "handle_file.close()"
   ]
  },
  {
   "cell_type": "code",
   "execution_count": 7,
   "id": "split-federal",
   "metadata": {},
   "outputs": [],
   "source": [
    "handle_file = open('/SGRNJ06/randd/USER/cjj/celedev/vdj10x/202250516_BCR_primer/R220429135/whitelist', 'w')\n",
    "with pysam.FastxFile('/SGRNJ06/DATA04/22_05/2022_05_05/gwo0vdqnkf/S_Mbm_Bfx_3NL/R220429135_R1.fastq.gz') as f:\n",
    "    for read in f:\n",
    "        handle_file.write(str(read.sequence[27:35]) + '\\n')\n",
    "handle_file.close()"
   ]
  },
  {
   "cell_type": "code",
   "execution_count": null,
   "id": "weekly-costume",
   "metadata": {},
   "outputs": [],
   "source": []
  },
  {
   "cell_type": "code",
   "execution_count": 8,
   "id": "solved-breeding",
   "metadata": {},
   "outputs": [],
   "source": [
    "handle_file = open('/SGRNJ06/randd/USER/cjj/celedev/vdj10x/202250516_BCR_primer/R220429125/whitelist', 'w')\n",
    "with pysam.FastxFile('/SGRNJ06/DATA04/22_05/2022_05_11/RD21010602/S_Mbm_B_3NL/R220429125_R1.fastq.gz') as f:\n",
    "    for read in f:\n",
    "        handle_file.write(str(read.sequence[27:35]) + '\\n')\n",
    "handle_file.close()"
   ]
  },
  {
   "cell_type": "code",
   "execution_count": 9,
   "id": "facial-persian",
   "metadata": {},
   "outputs": [],
   "source": [
    "handle_file = open('/SGRNJ06/randd/USER/cjj/celedev/vdj10x/202250516_BCR_primer/R220429132/whitelist', 'w')\n",
    "with pysam.FastxFile('/SGRNJ06/DATA04/22_05/2022_05_11/RD21010602/Msplfx_TSR1_3NL/R220429132_R1.fastq.gz') as f:\n",
    "    for read in f:\n",
    "        handle_file.write(str(read.sequence[27:35]) + '\\n')\n",
    "handle_file.close()"
   ]
  },
  {
   "cell_type": "code",
   "execution_count": null,
   "id": "inside-marks",
   "metadata": {},
   "outputs": [],
   "source": []
  }
 ],
 "metadata": {
  "kernelspec": {
   "display_name": "Python 3",
   "language": "python",
   "name": "python3"
  },
  "language_info": {
   "codemirror_mode": {
    "name": "ipython",
    "version": 3
   },
   "file_extension": ".py",
   "mimetype": "text/x-python",
   "name": "python",
   "nbconvert_exporter": "python",
   "pygments_lexer": "ipython3",
   "version": "3.7.10"
  }
 },
 "nbformat": 4,
 "nbformat_minor": 5
}
