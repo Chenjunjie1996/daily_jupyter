{
 "cells": [
  {
   "cell_type": "code",
   "execution_count": null,
   "id": "varied-component",
   "metadata": {},
   "outputs": [],
   "source": [
    "import pandas as pd\n",
    "from pandas import Series\n",
    "import glob\n",
    "import plotly\n",
    "import plotly.express as px  # import plotly.express as px\n",
    "import plotly.graph_objects as go\n",
    "import seaborn as sns\n",
    "import matplotlib.pyplot as plt\n",
    "\n",
    "import plotly.io as pio\n",
    "#pio.templates.default = 'plotly_white'"
   ]
  },
  {
   "cell_type": "code",
   "execution_count": null,
   "id": "dietary-process",
   "metadata": {},
   "outputs": [],
   "source": [
    "def calc_corr(a,b):\n",
    "    s1 = Series(a)\n",
    "    s2 = Series(b)\n",
    "    return round(s1.corr(s2), 3)"
   ]
  },
  {
   "cell_type": "code",
   "execution_count": null,
   "id": "excess-provincial",
   "metadata": {},
   "outputs": [],
   "source": [
    "# human tcr\n",
    "df = pd.read_csv(\"/SGRNJ06/randd/USER/cjj/celedev/vdj_bulk/20230704plot/human_tcr/human_tcr.csv\")\n",
    "df"
   ]
  },
  {
   "cell_type": "code",
   "execution_count": null,
   "id": "effective-providence",
   "metadata": {},
   "outputs": [],
   "source": [
    "df[\"Raw_Reads\"] = df[\"Raw_Reads\"].str.replace(',','').astype(int)\n",
    "df[\"UMI_Counts\"] = df[\"UMI_Counts\"].str.replace(',','').astype(int)\n",
    "df[\"types\"] = df[\"types\"].astype(int)\n",
    "df[\"Clonotype_Diversity\"] = df[\"Clonotype_Diversity\"].astype(float)\n",
    "df[\"UMIs_Mapped_Confidently_To_VJ_Gene\"] = df[\"UMIs_Mapped_Confidently_To_VJ_Gene\"].apply(lambda x: x.split('(')[-1]).str.replace(')','').str.replace(\"%\",'').astype(float)\n",
    "df[\"UMIs_Mapped_To_TRA\"] = df[\"UMIs_Mapped_To_TRA\"].apply(lambda x: x.split('(')[-1]).str.replace(')','').str.replace(\"%\",'').astype(float)\n",
    "df[\"UMIs_Mapped_To_TRB\"] = df[\"UMIs_Mapped_To_TRB\"].apply(lambda x: x.split('(')[-1]).str.replace(')','').str.replace(\"%\",'').astype(float)\n",
    "df[\"species\"] = \"Human_TCR\"\n",
    "df[\"index\"] = df.index"
   ]
  },
  {
   "cell_type": "code",
   "execution_count": null,
   "id": "outdoor-command",
   "metadata": {},
   "outputs": [],
   "source": [
    "df"
   ]
  },
  {
   "cell_type": "code",
   "execution_count": null,
   "id": "major-affiliation",
   "metadata": {},
   "outputs": [],
   "source": [
    "fig = px.scatter(\n",
    "    df, # scatter绘制散点图\n",
    "    x='Raw_Reads',    #  x轴\n",
    "    y='UMI_Counts',  # y轴\n",
    "    labels = calc_corr(df[\"Raw_Reads\"], df[\"UMI_Counts\"]),\n",
    "    width=1680, height=1024,\n",
    ")\n",
    "fig.update_traces(marker_size=10)\n",
    "fig.update_layout(title={\"text\":f'Human-TCR-96well (Correlation={calc_corr(df[\"Raw_Reads\"], df[\"UMI_Counts\"])})',\n",
    "                         'y':0.98, 'x':0.5, 'xanchor': 'center', 'yanchor': 'top'},\n",
    "                  xaxis_title = \"Raw_Reads\", yaxis_title = \"UMI_Counts\", font=dict(size=18,color=\"Black\"))\n",
    "\n",
    "fig.write_image(f\"/SGRNJ06/randd/USER/cjj/celedev/vdj_bulk/20230704plot/human_tcr/scatter.png\", scale=4)\n",
    "#fig.show()"
   ]
  },
  {
   "cell_type": "code",
   "execution_count": null,
   "id": "encouraging-chester",
   "metadata": {},
   "outputs": [],
   "source": []
  },
  {
   "cell_type": "code",
   "execution_count": null,
   "id": "steady-frequency",
   "metadata": {},
   "outputs": [],
   "source": [
    "df"
   ]
  },
  {
   "cell_type": "code",
   "execution_count": null,
   "id": "consolidated-laugh",
   "metadata": {},
   "outputs": [],
   "source": [
    "fig = go.Figure()\n",
    "fig.add_trace(go.Box(y=list(df.UMIs_Mapped_To_TRA),name=\"UMIs_Mapped_To_TRA\"))\n",
    "fig.add_trace(go.Box(y=list(df.UMIs_Mapped_To_TRB),name=\"UMIs_Mapped_To_TRB\"))\n",
    "fig.add_trace(go.Box(y=list(df.UMIs_Mapped_Confidently_To_VJ_Gene),name=\"UMIs_Mapped_Confidently_To_VJ_Gene\"))\n",
    "fig.update_layout(title={\"text\":f'Human-TCR-96well',\n",
    "                         'y':0.98, 'x':0.40, 'xanchor': 'center', 'yanchor': 'top'},\n",
    "                          yaxis_title = \"Mapping Percent(%)\", font=dict(size=18,color=\"Black\"))\n",
    "\n",
    "fig.write_image(f\"/SGRNJ06/randd/USER/cjj/celedev/vdj_bulk/20230704plot/human_tcr/boxplot.png\", scale=4, width=1680, height=1024)\n",
    "#fig.show()"
   ]
  },
  {
   "cell_type": "code",
   "execution_count": null,
   "id": "neither-devon",
   "metadata": {},
   "outputs": [],
   "source": []
  },
  {
   "cell_type": "code",
   "execution_count": null,
   "id": "august-ceremony",
   "metadata": {},
   "outputs": [],
   "source": [
    "fig = px.scatter(\n",
    "    df, # scatter绘制散点图\n",
    "    x='Raw_Reads',    #  x轴\n",
    "    y='Clonotype_Diversity',  # y轴\n",
    "    color = 'Clonotype_Diversity',\n",
    "    labels = calc_corr(df[\"Raw_Reads\"], df[\"Clonotype_Diversity\"]),\n",
    "    width=1680, height=1024\n",
    ")\n",
    "fig.update_traces(marker_size=10)\n",
    "fig.update_layout(title={\"text\":f'Human-TCR-96well Diversity (Correlation={calc_corr(df[\"Raw_Reads\"], df[\"Clonotype_Diversity\"])})',\n",
    "                         'y':0.98, 'x':0.5, 'xanchor': 'center', 'yanchor': 'top'},\n",
    "                  xaxis_title = \"Raw_Reads\", yaxis_title = \"Clonotype_Diversity\", font=dict(size=18,color=\"Black\"))\n",
    "\n",
    "fig.write_image(f\"/SGRNJ06/randd/USER/cjj/celedev/vdj_bulk/20230704plot/human_tcr/diversity_read_scatter.png\", scale=4)\n",
    "#fig.show()"
   ]
  },
  {
   "cell_type": "code",
   "execution_count": null,
   "id": "virtual-planner",
   "metadata": {},
   "outputs": [],
   "source": [
    "fig = px.scatter(\n",
    "    df, # scatter绘制散点图\n",
    "    x='UMI_Counts',    #  x轴\n",
    "    y='Clonotype_Diversity',  # y轴\n",
    "    color = 'Clonotype_Diversity',\n",
    "    labels = calc_corr(df[\"UMI_Counts\"], df[\"Clonotype_Diversity\"]),\n",
    "    width=1680, height=1024\n",
    ")\n",
    "fig.update_traces(marker_size=10)\n",
    "fig.update_layout(title={\"text\":f'Human-TCR-96well Diversity (Correlation={calc_corr(df[\"UMI_Counts\"], df[\"Clonotype_Diversity\"])})',\n",
    "                         'y':0.98, 'x':0.5, 'xanchor': 'center', 'yanchor': 'top'},\n",
    "                  xaxis_title = \"UMI_Counts\", yaxis_title = \"Clonotype_Diversity\", font=dict(size=18,color=\"Black\"))\n",
    "\n",
    "fig.write_image(f\"/SGRNJ06/randd/USER/cjj/celedev/vdj_bulk/20230704plot/human_tcr/diversity_umi_scatter.png\", scale=4)\n",
    "#fig.show()"
   ]
  },
  {
   "cell_type": "code",
   "execution_count": null,
   "id": "ecological-celebrity",
   "metadata": {},
   "outputs": [],
   "source": []
  },
  {
   "cell_type": "code",
   "execution_count": null,
   "id": "underlying-collect",
   "metadata": {},
   "outputs": [],
   "source": []
  },
  {
   "cell_type": "code",
   "execution_count": null,
   "id": "tribal-definition",
   "metadata": {},
   "outputs": [],
   "source": []
  },
  {
   "cell_type": "code",
   "execution_count": null,
   "id": "sticky-scroll",
   "metadata": {},
   "outputs": [],
   "source": [
    "# human bcr\n",
    "df = pd.read_csv(\"/SGRNJ06/randd/USER/cjj/celedev/vdj_bulk/20230704plot/human_bcr/human_bcr.csv\")\n",
    "df"
   ]
  },
  {
   "cell_type": "code",
   "execution_count": null,
   "id": "limiting-renewal",
   "metadata": {},
   "outputs": [],
   "source": [
    "df[\"Raw_Reads\"] = df[\"Raw_Reads\"].str.replace(',','').astype(int)\n",
    "df[\"UMI_Counts\"] = df[\"UMI_Counts\"].str.replace(',','').astype(int)\n",
    "df[\"types\"] = df[\"types\"].astype(int)\n",
    "df[\"Clonotype_Diversity\"] = df[\"Clonotype_Diversity\"].astype(float)\n",
    "df[\"UMIs_Mapped_Confidently_To_VJ_Gene\"] = df[\"UMIs_Mapped_Confidently_To_VJ_Gene\"].apply(lambda x: x.split('(')[-1]).str.replace(')','').str.replace(\"%\",'').astype(float)\n",
    "df[\"UMIs_Mapped_To_IGH\"] = df[\"UMIs_Mapped_To_IGH\"].apply(lambda x: x.split('(')[-1]).str.replace(')','').str.replace(\"%\",'').astype(float)\n",
    "df[\"UMIs_Mapped_To_IGL\"] = df[\"UMIs_Mapped_To_IGL\"].apply(lambda x: x.split('(')[-1]).str.replace(')','').str.replace(\"%\",'').astype(float)\n",
    "df[\"UMIs_Mapped_To_IGK\"] = df[\"UMIs_Mapped_To_IGK\"].apply(lambda x: x.split('(')[-1]).str.replace(')','').str.replace(\"%\",'').astype(float)\n",
    "df[\"species\"] = \"Human_BCR\"\n",
    "df[\"index\"] = df.index"
   ]
  },
  {
   "cell_type": "code",
   "execution_count": null,
   "id": "forbidden-colorado",
   "metadata": {},
   "outputs": [],
   "source": [
    "df"
   ]
  },
  {
   "cell_type": "code",
   "execution_count": null,
   "id": "industrial-genetics",
   "metadata": {},
   "outputs": [],
   "source": [
    "fig = px.scatter(\n",
    "    df, # scatter绘制散点图\n",
    "    x='Raw_Reads',    #  x轴\n",
    "    y='UMI_Counts',  # y轴\n",
    "    color = 'UMI_Counts',\n",
    "    labels = calc_corr(df[\"Raw_Reads\"], df[\"UMI_Counts\"]),\n",
    "    width=1680, height=1024\n",
    ")\n",
    "fig.update_traces(marker_size=10)\n",
    "fig.update_layout(title={\"text\": f'Human-BCR-96well (Correlation={calc_corr(df[\"Raw_Reads\"], df[\"UMI_Counts\"])})',\n",
    "                         'y':0.98, 'x':0.5, 'xanchor': 'center', 'yanchor': 'top'},\n",
    "                  xaxis_title = \"Raw_Reads\", yaxis_title = \"UMI_Counts\", font=dict(size=18,color=\"Black\"))\n",
    "\n",
    "\n",
    "fig.write_image(f\"/SGRNJ06/randd/USER/cjj/celedev/vdj_bulk/20230704plot/human_bcr/scatter.png\", scale=4)\n",
    "#fig.show()"
   ]
  },
  {
   "cell_type": "code",
   "execution_count": null,
   "id": "certain-mineral",
   "metadata": {},
   "outputs": [],
   "source": [
    "fig = go.Figure()\n",
    "fig.add_trace(go.Box(y=list(df.UMIs_Mapped_To_IGH),name=\"UMIs_Mapped_To_IGH\"))\n",
    "fig.add_trace(go.Box(y=list(df.UMIs_Mapped_To_IGL),name=\"UMIs_Mapped_To_IGL\"))\n",
    "fig.add_trace(go.Box(y=list(df.UMIs_Mapped_To_IGK),name=\"UMIs_Mapped_To_IGK\"))\n",
    "fig.add_trace(go.Box(y=list(df.UMIs_Mapped_Confidently_To_VJ_Gene),name=\"UMIs_Mapped_Confidently_To_VJ_Gene\"))\n",
    "fig.update_layout(title={\"text\":f'Human-BCR-96well',\n",
    "                         'y':0.98, 'x':0.40, 'xanchor': 'center', 'yanchor': 'top'},\n",
    "                          yaxis_title = \"Mapping Percent(%)\", font=dict(size=18,color=\"Black\"))\n",
    "\n",
    "fig.write_image(f\"/SGRNJ06/randd/USER/cjj/celedev/vdj_bulk/20230704plot/human_bcr/boxplot.png\", scale=4, width=1680, height=1024)\n",
    "#fig.show()"
   ]
  },
  {
   "cell_type": "code",
   "execution_count": null,
   "id": "hairy-defensive",
   "metadata": {},
   "outputs": [],
   "source": []
  },
  {
   "cell_type": "code",
   "execution_count": null,
   "id": "sudden-walnut",
   "metadata": {},
   "outputs": [],
   "source": [
    "fig = px.scatter(\n",
    "    df, # scatter绘制散点图\n",
    "    x='Raw_Reads',    #  x轴\n",
    "    y='Clonotype_Diversity',  # y轴\n",
    "    color = 'Clonotype_Diversity',\n",
    "    labels = calc_corr(df[\"Raw_Reads\"], df[\"Clonotype_Diversity\"]),\n",
    "    width=1680, height=1024\n",
    ")\n",
    "fig.update_traces(marker_size=10)\n",
    "fig.update_layout(title={\"text\":f'Human-BCR-96well Diversity (Correlation={calc_corr(df[\"Raw_Reads\"], df[\"Clonotype_Diversity\"])})',\n",
    "                         'y':0.98, 'x':0.5, 'xanchor': 'center', 'yanchor': 'top'},\n",
    "                  xaxis_title = \"Raw_Reads\", yaxis_title = \"Clonotype_Diversity\", font=dict(size=18,color=\"Black\"))\n",
    "\n",
    "fig.write_image(f\"/SGRNJ06/randd/USER/cjj/celedev/vdj_bulk/20230704plot/human_bcr/diversity_read_scatter.png\", scale=4)\n",
    "#fig.show()"
   ]
  },
  {
   "cell_type": "code",
   "execution_count": null,
   "id": "latin-three",
   "metadata": {},
   "outputs": [],
   "source": [
    "fig = px.scatter(\n",
    "    df, # scatter绘制散点图\n",
    "    x='UMI_Counts',    #  x轴\n",
    "    y='Clonotype_Diversity',  # y轴\n",
    "    color = 'Clonotype_Diversity',\n",
    "    labels = calc_corr(df[\"UMI_Counts\"], df[\"Clonotype_Diversity\"]),\n",
    "    width=1680, height=1024\n",
    ")\n",
    "fig.update_traces(marker_size=10)\n",
    "fig.update_layout(title={\"text\":f'Human-BCR-96well Diversity (Correlation={calc_corr(df[\"UMI_Counts\"], df[\"Clonotype_Diversity\"])})',\n",
    "                         'y':0.98, 'x':0.5, 'xanchor': 'center', 'yanchor': 'top'},\n",
    "                  xaxis_title = \"UMI_Counts\", yaxis_title = \"Clonotype_Diversity\", font=dict(size=18,color=\"Black\"))\n",
    "\n",
    "fig.write_image(f\"/SGRNJ06/randd/USER/cjj/celedev/vdj_bulk/20230704plot/human_bcr/diversity_umi_scatter.png\", scale=4)\n",
    "#fig.show()"
   ]
  },
  {
   "cell_type": "code",
   "execution_count": null,
   "id": "bound-battle",
   "metadata": {},
   "outputs": [],
   "source": []
  },
  {
   "cell_type": "code",
   "execution_count": null,
   "id": "consistent-teddy",
   "metadata": {},
   "outputs": [],
   "source": []
  },
  {
   "cell_type": "code",
   "execution_count": null,
   "id": "eleven-scottish",
   "metadata": {},
   "outputs": [],
   "source": [
    "# mouse_tcr\n",
    "df = pd.read_csv(\"/SGRNJ06/randd/USER/cjj/celedev/vdj_bulk/20230704plot/mouse_tcr/mouse_tcr.csv\")\n",
    "df"
   ]
  },
  {
   "cell_type": "code",
   "execution_count": null,
   "id": "medical-oasis",
   "metadata": {},
   "outputs": [],
   "source": [
    "df[\"Raw_Reads\"] = df[\"Raw_Reads\"].str.replace(',','').astype(int)\n",
    "df[\"UMI_Counts\"] = df[\"UMI_Counts\"].str.replace(',','').astype(int)\n",
    "df[\"Clonotype_Diversity\"] = df[\"Clonotype_Diversity\"].astype(float)\n",
    "df[\"UMIs_Mapped_Confidently_To_VJ_Gene\"] = df[\"UMIs_Mapped_Confidently_To_VJ_Gene\"].apply(lambda x: x.split('(')[-1]).str.replace(')','').str.replace(\"%\",'').astype(float)\n",
    "df[\"UMIs_Mapped_To_TRA\"] = df[\"UMIs_Mapped_To_TRA\"].apply(lambda x: x.split('(')[-1]).str.replace(')','').str.replace(\"%\",'').astype(float)\n",
    "df[\"UMIs_Mapped_To_TRB\"] = df[\"UMIs_Mapped_To_TRB\"].apply(lambda x: x.split('(')[-1]).str.replace(')','').str.replace(\"%\",'').astype(float)\n",
    "df[\"species\"] = \"Mouse_TCR\"\n",
    "df[\"index\"] = df.index"
   ]
  },
  {
   "cell_type": "code",
   "execution_count": null,
   "id": "neither-medicare",
   "metadata": {},
   "outputs": [],
   "source": [
    "fig = px.scatter(\n",
    "    df, # scatter绘制散点图\n",
    "    x='Raw_Reads',    #  x轴\n",
    "    y='UMI_Counts',  # y轴\n",
    "    color = 'UMI_Counts',\n",
    "    labels = calc_corr(df[\"Raw_Reads\"], df[\"UMI_Counts\"]),\n",
    "    width=1680, height=1024\n",
    ")\n",
    "fig.update_traces(marker_size=10)\n",
    "fig.update_layout(title={\"text\":f'Mouse-TCR-96well (Correlation={calc_corr(df[\"Raw_Reads\"], df[\"UMI_Counts\"])})',\n",
    "                         'y':0.98, 'x':0.5, 'xanchor': 'center', 'yanchor': 'top'},\n",
    "                  xaxis_title = \"Raw_Reads\", yaxis_title = \"UMI_Counts\", font=dict(size=18,color=\"Black\"))\n",
    "\n",
    "fig.write_image(f\"/SGRNJ06/randd/USER/cjj/celedev/vdj_bulk/20230704plot/mouse_tcr/scatter.png\", scale=4)\n",
    "#fig.show()"
   ]
  },
  {
   "cell_type": "code",
   "execution_count": null,
   "id": "limiting-evolution",
   "metadata": {},
   "outputs": [],
   "source": [
    "fig = go.Figure()\n",
    "fig.add_trace(go.Box(y=list(df.UMIs_Mapped_To_TRA),name=\"UMIs_Mapped_To_TRA\"))\n",
    "fig.add_trace(go.Box(y=list(df.UMIs_Mapped_To_TRB),name=\"UMIs_Mapped_To_TRB\"))\n",
    "fig.add_trace(go.Box(y=list(df.UMIs_Mapped_Confidently_To_VJ_Gene),name=\"UMIs_Mapped_Confidently_To_VJ_Gene\"))\n",
    "fig.update_layout(title={\"text\":f'Mouse-TCR-96well',\n",
    "                         'y':0.98, 'x':0.40, 'xanchor': 'center', 'yanchor': 'top'},\n",
    "                          yaxis_title = \"Mapping Percent(%)\", font=dict(size=18,color=\"Black\"))\n",
    "\n",
    "fig.write_image(f\"/SGRNJ06/randd/USER/cjj/celedev/vdj_bulk/20230704plot/mouse_tcr/boxplot.png\", scale=4, width=1680, height=1024)\n",
    "#fig.show()"
   ]
  },
  {
   "cell_type": "code",
   "execution_count": null,
   "id": "cubic-parts",
   "metadata": {},
   "outputs": [],
   "source": [
    "fig = px.scatter(\n",
    "    df, # scatter绘制散点图\n",
    "    x='Raw_Reads',    #  x轴\n",
    "    y='Clonotype_Diversity',  # y轴\n",
    "    color = 'Clonotype_Diversity',\n",
    "    labels = calc_corr(df[\"Raw_Reads\"], df[\"Clonotype_Diversity\"]),\n",
    "    width=1680, height=1024\n",
    ")\n",
    "fig.update_traces(marker_size=10)\n",
    "fig.update_layout(title={\"text\":f'Mouse-TCR-96well Diversity (Correlation={calc_corr(df[\"Raw_Reads\"], df[\"Clonotype_Diversity\"])})',\n",
    "                         'y':0.98, 'x':0.5, 'xanchor': 'center', 'yanchor': 'top'},\n",
    "                  xaxis_title = \"Raw_Reads\", yaxis_title = \"Clonotype_Diversity\", font=dict(size=18,color=\"Black\"))\n",
    "\n",
    "fig.write_image(f\"/SGRNJ06/randd/USER/cjj/celedev/vdj_bulk/20230704plot/mouse_tcr/diversity_read_scatter.png\", scale=4)\n",
    "#fig.show()"
   ]
  },
  {
   "cell_type": "code",
   "execution_count": null,
   "id": "skilled-triangle",
   "metadata": {},
   "outputs": [],
   "source": [
    "fig = px.scatter(\n",
    "    df, # scatter绘制散点图\n",
    "    x='UMI_Counts',    #  x轴\n",
    "    y='Clonotype_Diversity',  # y轴\n",
    "    color = 'Clonotype_Diversity',\n",
    "    labels = calc_corr(df[\"UMI_Counts\"], df[\"Clonotype_Diversity\"]),\n",
    "    width=1680, height=1024\n",
    ")\n",
    "fig.update_traces(marker_size=10)\n",
    "fig.update_layout(title={\"text\":f'Mouse-TCR-96well Diversity (Correlation={calc_corr(df[\"UMI_Counts\"], df[\"Clonotype_Diversity\"])})',\n",
    "                         'y':0.98, 'x':0.5, 'xanchor': 'center', 'yanchor': 'top'},\n",
    "                  xaxis_title = \"UMI_Counts\", yaxis_title = \"Clonotype_Diversity\", font=dict(size=18,color=\"Black\"))\n",
    "\n",
    "fig.write_image(f\"/SGRNJ06/randd/USER/cjj/celedev/vdj_bulk/20230704plot/mouse_tcr/diversity_umi_scatter.png\", scale=4)\n",
    "#fig.show()"
   ]
  },
  {
   "cell_type": "code",
   "execution_count": null,
   "id": "minimal-oklahoma",
   "metadata": {},
   "outputs": [],
   "source": []
  },
  {
   "cell_type": "code",
   "execution_count": null,
   "id": "classified-record",
   "metadata": {},
   "outputs": [],
   "source": []
  },
  {
   "cell_type": "code",
   "execution_count": null,
   "id": "close-conversation",
   "metadata": {},
   "outputs": [],
   "source": [
    "# human bcr\n",
    "df = pd.read_csv(\"/SGRNJ06/randd/USER/cjj/celedev/vdj_bulk/20230704plot/mouse_bcr/mouse_bcr.csv\")\n",
    "df"
   ]
  },
  {
   "cell_type": "code",
   "execution_count": null,
   "id": "signal-death",
   "metadata": {},
   "outputs": [],
   "source": [
    "df[\"Raw_Reads\"] = df[\"Raw_Reads\"].str.replace(',','').astype(int)\n",
    "df[\"UMI_Counts\"] = df[\"UMI_Counts\"].str.replace(',','').astype(int)\n",
    "df[\"Clonotype_Diversity\"] = df[\"Clonotype_Diversity\"].astype(float)\n",
    "df[\"UMIs_Mapped_Confidently_To_VJ_Gene\"] = df[\"UMIs_Mapped_Confidently_To_VJ_Gene\"].apply(lambda x: x.split('(')[-1]).str.replace(')','').str.replace(\"%\",'').astype(float)\n",
    "df[\"UMIs_Mapped_To_IGH\"] = df[\"UMIs_Mapped_To_IGH\"].apply(lambda x: x.split('(')[-1]).str.replace(')','').str.replace(\"%\",'').astype(float)\n",
    "df[\"UMIs_Mapped_To_IGL\"] = df[\"UMIs_Mapped_To_IGL\"].apply(lambda x: x.split('(')[-1]).str.replace(')','').str.replace(\"%\",'').astype(float)\n",
    "df[\"UMIs_Mapped_To_IGK\"] = df[\"UMIs_Mapped_To_IGK\"].apply(lambda x: x.split('(')[-1]).str.replace(')','').str.replace(\"%\",'').astype(float)\n",
    "df[\"species\"] = \"Human_BCR\"\n",
    "df[\"index\"] = df.index"
   ]
  },
  {
   "cell_type": "code",
   "execution_count": null,
   "id": "elder-trading",
   "metadata": {},
   "outputs": [],
   "source": [
    "fig = px.scatter(\n",
    "    df, # scatter绘制散点图\n",
    "    x='Raw_Reads',    #  x轴\n",
    "    y='UMI_Counts',  # y轴\n",
    "    color = 'UMI_Counts',\n",
    "    labels = calc_corr(df[\"Raw_Reads\"], df[\"UMI_Counts\"]),\n",
    "    width=1680, height=1024\n",
    ")\n",
    "fig.update_traces(marker_size=10)\n",
    "fig.update_layout(title={\"text\":f'Mouse-BCR-96well (Correlation={calc_corr(df[\"Raw_Reads\"], df[\"UMI_Counts\"])})',\n",
    "                         'y':0.98, 'x':0.5, 'xanchor': 'center', 'yanchor': 'top'},\n",
    "                  xaxis_title = \"Raw_Reads\", yaxis_title = \"UMI_Counts\", font=dict(size=18,color=\"Black\"))\n",
    "\n",
    "fig.write_image(f\"/SGRNJ06/randd/USER/cjj/celedev/vdj_bulk/20230704plot/mouse_bcr/scatter.png\", scale=4)\n",
    "#fig.show()"
   ]
  },
  {
   "cell_type": "code",
   "execution_count": null,
   "id": "disturbed-cookie",
   "metadata": {},
   "outputs": [],
   "source": []
  },
  {
   "cell_type": "code",
   "execution_count": null,
   "id": "competent-capability",
   "metadata": {},
   "outputs": [],
   "source": [
    "fig = go.Figure()\n",
    "fig.add_trace(go.Box(y=list(df.UMIs_Mapped_To_IGH),name=\"UMIs_Mapped_To_IGH\"))\n",
    "fig.add_trace(go.Box(y=list(df.UMIs_Mapped_To_IGL),name=\"UMIs_Mapped_To_IGL\"))\n",
    "fig.add_trace(go.Box(y=list(df.UMIs_Mapped_To_IGK),name=\"UMIs_Mapped_To_IGK\"))\n",
    "fig.add_trace(go.Box(y=list(df.UMIs_Mapped_Confidently_To_VJ_Gene),name=\"UMIs_Mapped_Confidently_To_VJ_Gene\"))\n",
    "fig.update_layout(title={\"text\":f'Mouse-BCR-96well',\n",
    "                         'y':0.98, 'x':0.40, 'xanchor': 'center', 'yanchor': 'top'},\n",
    "                          yaxis_title = \"Mapping Percent(%)\", font=dict(size=18,color=\"Black\"))\n",
    "\n",
    "fig.write_image(f\"/SGRNJ06/randd/USER/cjj/celedev/vdj_bulk/20230704plot/mouse_bcr/boxplot.png\", scale=4, width=1680, height=1024)\n",
    "#fig.show()"
   ]
  },
  {
   "cell_type": "code",
   "execution_count": null,
   "id": "friendly-fountain",
   "metadata": {},
   "outputs": [],
   "source": [
    "fig = px.scatter(\n",
    "    df, # scatter绘制散点图\n",
    "    x='Raw_Reads',    #  x轴\n",
    "    y='Clonotype_Diversity',  # y轴\n",
    "    color = 'Clonotype_Diversity',\n",
    "    labels = calc_corr(df[\"Raw_Reads\"], df[\"Clonotype_Diversity\"]),\n",
    "    width=1680, height=1024\n",
    ")\n",
    "fig.update_traces(marker_size=10)\n",
    "fig.update_layout(title={\"text\":f'Mouse-BCR-96well Diversity (Correlation={calc_corr(df[\"Raw_Reads\"], df[\"Clonotype_Diversity\"])})',\n",
    "                         'y':0.98, 'x':0.5, 'xanchor': 'center', 'yanchor': 'top'},\n",
    "                  xaxis_title = \"Raw_Reads\", yaxis_title = \"Clonotype_Diversity\", font=dict(size=18,color=\"Black\"))\n",
    "\n",
    "fig.write_image(f\"/SGRNJ06/randd/USER/cjj/celedev/vdj_bulk/20230704plot/mouse_bcr/diversity_read_scatter.png\", scale=4)\n",
    "#fig.show()"
   ]
  },
  {
   "cell_type": "code",
   "execution_count": null,
   "id": "concrete-presence",
   "metadata": {},
   "outputs": [],
   "source": [
    "fig = px.scatter(\n",
    "    df, # scatter绘制散点图\n",
    "    x='UMI_Counts',    #  x轴\n",
    "    y='Clonotype_Diversity',  # y轴\n",
    "    color = 'Clonotype_Diversity',\n",
    "    labels = calc_corr(df[\"UMI_Counts\"], df[\"Clonotype_Diversity\"]),\n",
    "    width=1680, height=1024\n",
    ")\n",
    "fig.update_traces(marker_size=10)\n",
    "fig.update_layout(title={\"text\":f'Mouse-BCR-96well Diversity (Correlation={calc_corr(df[\"UMI_Counts\"], df[\"Clonotype_Diversity\"])})',\n",
    "                         'y':0.98, 'x':0.5, 'xanchor': 'center', 'yanchor': 'top'},\n",
    "                  xaxis_title = \"UMI_Counts\", yaxis_title = \"Clonotype_Diversity\", font=dict(size=18,color=\"Black\"))\n",
    "\n",
    "fig.write_image(f\"/SGRNJ06/randd/USER/cjj/celedev/vdj_bulk/20230704plot/mouse_bcr/diversity_umi_scatter.png\", scale=4)\n",
    "#fig.show()"
   ]
  },
  {
   "cell_type": "code",
   "execution_count": null,
   "id": "caroline-backing",
   "metadata": {},
   "outputs": [],
   "source": []
  },
  {
   "cell_type": "code",
   "execution_count": null,
   "id": "vulnerable-cosmetic",
   "metadata": {},
   "outputs": [],
   "source": []
  },
  {
   "cell_type": "code",
   "execution_count": null,
   "id": "brazilian-majority",
   "metadata": {},
   "outputs": [],
   "source": [
    "# 投入量测试 mouse-TCR"
   ]
  },
  {
   "cell_type": "code",
   "execution_count": null,
   "id": "soviet-collins",
   "metadata": {},
   "outputs": [],
   "source": [
    "# mouse_tcr\n",
    "df = pd.read_csv(\"/SGRNJ06/randd/USER/cjj/celedev/vdj_bulk/20230704plot/cell_mouse_tcr/mouse_tcr_cell.csv\")\n",
    "df = df.dropna(axis=0)"
   ]
  },
  {
   "cell_type": "code",
   "execution_count": null,
   "id": "august-wright",
   "metadata": {},
   "outputs": [],
   "source": [
    "df[\"Raw_Reads\"] = df[\"Raw_Reads\"].str.replace(',','').astype(int)\n",
    "df[\"UMI_Counts\"] = df[\"UMI_Counts\"].str.replace(',','').astype(int)\n",
    "df[\"Clonotype_Diversity\"] = df[\"Clonotype_Diversity\"].str.replace(',','').astype(float)\n",
    "df[\"UMIs_Mapped_Confidently_To_VJ_Gene\"] = df[\"UMIs_Mapped_Confidently_To_VJ_Gene\"].apply(lambda x: x.split('(')[-1]).str.replace(')','').str.replace(\"%\",'').astype(float)\n",
    "df[\"UMIs_Mapped_To_TRA\"] = df[\"UMIs_Mapped_To_TRA\"].apply(lambda x: x.split('(')[-1]).str.replace(')','').str.replace(\"%\",'').astype(float)\n",
    "df[\"UMIs_Mapped_To_TRB\"] = df[\"UMIs_Mapped_To_TRB\"].apply(lambda x: x.split('(')[-1]).str.replace(')','').str.replace(\"%\",'').astype(float)\n",
    "df[\"species\"] = \"Mouse_TCR\"\n",
    "df[\"index\"] = df.index"
   ]
  },
  {
   "cell_type": "code",
   "execution_count": null,
   "id": "expired-walter",
   "metadata": {},
   "outputs": [],
   "source": [
    "df"
   ]
  },
  {
   "cell_type": "code",
   "execution_count": null,
   "id": "understanding-pharmacology",
   "metadata": {},
   "outputs": [],
   "source": [
    "fig = px.scatter(\n",
    "    df, # scatter绘制散点图\n",
    "    x='Raw_Reads',    #  x轴\n",
    "    y='UMI_Counts',  # y轴\n",
    "    color = 'UMI_Counts',\n",
    "    labels = calc_corr(df[\"Raw_Reads\"], df[\"UMI_Counts\"]),\n",
    "    width=1680, height=1024\n",
    ")\n",
    "fig.update_traces(marker_size=10)\n",
    "fig.update_layout(title={\"text\":f'Mus-spleenT (Correlation={calc_corr(df[\"Raw_Reads\"], df[\"UMI_Counts\"])})',\n",
    "                         'y':0.98, 'x':0.5, 'xanchor': 'center', 'yanchor': 'top'},\n",
    "                  xaxis_title = \"Raw_Reads\", yaxis_title = \"UMI_Counts\", font=dict(size=18,color=\"Black\"))\n",
    "\n",
    "fig.write_image(f\"/SGRNJ06/randd/USER/cjj/celedev/vdj_bulk/20230704plot/cell_mouse_tcr/scatter.png\", scale=4)\n",
    "#fig.show()"
   ]
  },
  {
   "cell_type": "code",
   "execution_count": null,
   "id": "constant-reconstruction",
   "metadata": {},
   "outputs": [],
   "source": [
    "fig = go.Figure()\n",
    "fig.add_trace(go.Box(y=list(df.UMIs_Mapped_To_TRA),name=\"UMIs_Mapped_To_TRA\"))\n",
    "fig.add_trace(go.Box(y=list(df.UMIs_Mapped_To_TRB),name=\"UMIs_Mapped_To_TRB\"))\n",
    "fig.add_trace(go.Box(y=list(df.UMIs_Mapped_Confidently_To_VJ_Gene),name=\"UMIs_Mapped_Confidently_To_VJ_Gene\"))\n",
    "fig.update_layout(title={\"text\":f'Mus-spleenT',\n",
    "                         'y':0.98, 'x':0.40, 'xanchor': 'center', 'yanchor': 'top'},\n",
    "                          yaxis_title = \"Mapping Percent(%)\", font=dict(size=18,color=\"Black\"))\n",
    "\n",
    "fig.write_image(f\"/SGRNJ06/randd/USER/cjj/celedev/vdj_bulk/20230704plot/cell_mouse_tcr/boxplot.png\", scale=4, width=1680, height=1024)\n",
    "#fig.show()"
   ]
  },
  {
   "cell_type": "code",
   "execution_count": null,
   "id": "warming-gambling",
   "metadata": {},
   "outputs": [],
   "source": [
    "fig = px.scatter(\n",
    "    df, # scatter绘制散点图\n",
    "    x='Raw_Reads',    #  x轴\n",
    "    y='Clonotype_Diversity',  # y轴\n",
    "    color = 'Clonotype_Diversity',\n",
    "    labels = calc_corr(df[\"Raw_Reads\"], df[\"Clonotype_Diversity\"]),\n",
    "    width=1680, height=1024\n",
    ")\n",
    "fig.update_traces(marker_size=10)\n",
    "fig.update_layout(title={\"text\":f'Mus-spleenT Diversity (Correlation={calc_corr(df[\"Raw_Reads\"], df[\"Clonotype_Diversity\"])})',\n",
    "                         'y':0.98, 'x':0.5, 'xanchor': 'center', 'yanchor': 'top'},\n",
    "                  xaxis_title = \"Raw_Reads\", yaxis_title = \"Clonotype_Diversity\", font=dict(size=18,color=\"Black\"))\n",
    "\n",
    "fig.write_image(f\"/SGRNJ06/randd/USER/cjj/celedev/vdj_bulk/20230704plot/cell_mouse_tcr/diversity_read_scatter.png\", scale=4)\n",
    "#fig.show()"
   ]
  },
  {
   "cell_type": "code",
   "execution_count": null,
   "id": "official-uniform",
   "metadata": {},
   "outputs": [],
   "source": [
    "fig = px.scatter(\n",
    "    df, # scatter绘制散点图\n",
    "    x='UMI_Counts',    #  x轴\n",
    "    y='Clonotype_Diversity',  # y轴\n",
    "    color = 'Clonotype_Diversity',\n",
    "    labels = calc_corr(df[\"UMI_Counts\"], df[\"Clonotype_Diversity\"]),\n",
    "    width=1680, height=1024\n",
    ")\n",
    "fig.update_traces(marker_size=10)\n",
    "fig.update_layout(title={\"text\":f'Mus-spleenT Diversity (Correlation={calc_corr(df[\"UMI_Counts\"], df[\"Clonotype_Diversity\"])})',\n",
    "                         'y':0.98, 'x':0.5, 'xanchor': 'center', 'yanchor': 'top'},\n",
    "                  xaxis_title = \"UMI_Counts\", yaxis_title = \"Clonotype_Diversity\", font=dict(size=18,color=\"Black\"))\n",
    "\n",
    "fig.write_image(f\"/SGRNJ06/randd/USER/cjj/celedev/vdj_bulk/20230704plot/cell_mouse_tcr/diversity_umi_scatter.png\", scale=4)\n",
    "#fig.show()"
   ]
  },
  {
   "cell_type": "code",
   "execution_count": null,
   "id": "overall-laugh",
   "metadata": {},
   "outputs": [],
   "source": []
  },
  {
   "cell_type": "code",
   "execution_count": null,
   "id": "educational-landscape",
   "metadata": {},
   "outputs": [],
   "source": [
    "fig = px.box(df, y=\"Clonotype_Diversity\", color=\"Sample\")\n",
    "fig.update_layout(title={\"text\":f'Mus-spleenT',\n",
    "                         'y':0.98, 'x':0.45, 'xanchor': 'center', 'yanchor': 'top'},\n",
    "                          yaxis_title = \"Clonotype_Diversity\", font=dict(size=18,color=\"Black\"))\n",
    "fig.write_image(f\"/SGRNJ06/randd/USER/cjj/celedev/vdj_bulk/20230704plot/cell_mouse_tcr/Diversity_boxplot.png\", scale=4, width=1680, height=1024)\n",
    "#fig.show()"
   ]
  },
  {
   "cell_type": "code",
   "execution_count": null,
   "id": "familiar-height",
   "metadata": {},
   "outputs": [],
   "source": []
  },
  {
   "cell_type": "code",
   "execution_count": null,
   "id": "auburn-police",
   "metadata": {},
   "outputs": [],
   "source": []
  },
  {
   "cell_type": "code",
   "execution_count": null,
   "id": "signed-sacrifice",
   "metadata": {},
   "outputs": [],
   "source": [
    "# 投入量测试 rna mouse-TCR"
   ]
  },
  {
   "cell_type": "code",
   "execution_count": null,
   "id": "distributed-assist",
   "metadata": {},
   "outputs": [],
   "source": [
    "# mouse_tcr\n",
    "df = pd.read_csv(\"/SGRNJ06/randd/USER/cjj/celedev/vdj_bulk/20230704plot/cell_mouse_tcr_rna/mouse_tcr_rna.csv\")\n",
    "df = df.dropna(axis=0)"
   ]
  },
  {
   "cell_type": "code",
   "execution_count": null,
   "id": "least-milton",
   "metadata": {},
   "outputs": [],
   "source": [
    "df[\"Raw_Reads\"] = df[\"Raw_Reads\"].str.replace(',','').astype(int)\n",
    "df[\"UMI_Counts\"] = df[\"UMI_Counts\"].str.replace(',','').astype(int)\n",
    "df[\"Clonotype_Diversity\"] = df[\"Clonotype_Diversity\"].str.replace(',','').astype(float)\n",
    "df[\"UMIs_Mapped_Confidently_To_VJ_Gene\"] = df[\"UMIs_Mapped_Confidently_To_VJ_Gene\"].apply(lambda x: x.split('(')[-1]).str.replace(')','').str.replace(\"%\",'').astype(float)\n",
    "df[\"UMIs_Mapped_To_TRA\"] = df[\"UMIs_Mapped_To_TRA\"].apply(lambda x: x.split('(')[-1]).str.replace(')','').str.replace(\"%\",'').astype(float)\n",
    "df[\"UMIs_Mapped_To_TRB\"] = df[\"UMIs_Mapped_To_TRB\"].apply(lambda x: x.split('(')[-1]).str.replace(')','').str.replace(\"%\",'').astype(float)\n",
    "df[\"species\"] = \"Mouse_TCR\"\n",
    "df[\"index\"] = df.index"
   ]
  },
  {
   "cell_type": "code",
   "execution_count": null,
   "id": "exempt-swedish",
   "metadata": {},
   "outputs": [],
   "source": [
    "fig = px.scatter(\n",
    "    df, # scatter绘制散点图\n",
    "    x='Raw_Reads',    #  x轴\n",
    "    y='UMI_Counts',  # y轴\n",
    "    color = 'UMI_Counts',\n",
    "    labels = calc_corr(df[\"Raw_Reads\"], df[\"UMI_Counts\"]),\n",
    "    width=1680, height=1024\n",
    ")\n",
    "fig.update_traces(marker_size=10)\n",
    "fig.update_layout(title={\"text\":f'Mus-RNA (Correlation={calc_corr(df[\"Raw_Reads\"], df[\"UMI_Counts\"])})',\n",
    "                         'y':0.98, 'x':0.5, 'xanchor': 'center', 'yanchor': 'top'},\n",
    "                  xaxis_title = \"Raw_Reads\", yaxis_title = \"UMI_Counts\", font=dict(size=18,color=\"Black\"))\n",
    "\n",
    "fig.write_image(f\"/SGRNJ06/randd/USER/cjj/celedev/vdj_bulk/20230704plot/cell_mouse_tcr_rna/scatter.png\", scale=4)\n",
    "#fig.show()"
   ]
  },
  {
   "cell_type": "code",
   "execution_count": null,
   "id": "pursuant-palestine",
   "metadata": {},
   "outputs": [],
   "source": [
    "fig = go.Figure()\n",
    "fig.add_trace(go.Box(y=list(df.UMIs_Mapped_To_TRA),name=\"UMIs_Mapped_To_TRA\"))\n",
    "fig.add_trace(go.Box(y=list(df.UMIs_Mapped_To_TRB),name=\"UMIs_Mapped_To_TRB\"))\n",
    "fig.add_trace(go.Box(y=list(df.UMIs_Mapped_Confidently_To_VJ_Gene),name=\"UMIs_Mapped_Confidently_To_VJ_Gene\"))\n",
    "fig.update_layout(title={\"text\":f'Mus-RNA',\n",
    "                         'y':0.98, 'x':0.40, 'xanchor': 'center', 'yanchor': 'top'},\n",
    "                          yaxis_title = \"Mapping Percent(%)\", font=dict(size=18,color=\"Black\"))\n",
    "\n",
    "fig.write_image(f\"/SGRNJ06/randd/USER/cjj/celedev/vdj_bulk/20230704plot/cell_mouse_tcr_rna/boxplot.png\", scale=4, width=1680, height=1024)\n",
    "#fig.show()"
   ]
  },
  {
   "cell_type": "code",
   "execution_count": null,
   "id": "positive-miniature",
   "metadata": {},
   "outputs": [],
   "source": [
    "fig = px.scatter(\n",
    "    df, # scatter绘制散点图\n",
    "    x='Raw_Reads',    #  x轴\n",
    "    y='Clonotype_Diversity',  # y轴\n",
    "    color = 'Clonotype_Diversity',\n",
    "    labels = calc_corr(df[\"Raw_Reads\"], df[\"Clonotype_Diversity\"]),\n",
    "    width=1680, height=1024\n",
    ")\n",
    "fig.update_traces(marker_size=10)\n",
    "fig.update_layout(title={\"text\":f'Mus-RNA Diversity (Correlation={calc_corr(df[\"Raw_Reads\"], df[\"Clonotype_Diversity\"])})',\n",
    "                         'y':0.98, 'x':0.5, 'xanchor': 'center', 'yanchor': 'top'},\n",
    "                  xaxis_title = \"Raw_Reads\", yaxis_title = \"Clonotype_Diversity\", font=dict(size=18,color=\"Black\"))\n",
    "\n",
    "fig.write_image(f\"/SGRNJ06/randd/USER/cjj/celedev/vdj_bulk/20230704plot/cell_mouse_tcr_rna/diversity_read_scatter.png\", scale=4)\n",
    "#fig.show()"
   ]
  },
  {
   "cell_type": "code",
   "execution_count": null,
   "id": "seventh-penalty",
   "metadata": {},
   "outputs": [],
   "source": [
    "fig = px.scatter(\n",
    "    df, # scatter绘制散点图\n",
    "    x='UMI_Counts',    #  x轴\n",
    "    y='Clonotype_Diversity',  # y轴\n",
    "    color = 'Clonotype_Diversity',\n",
    "    labels = calc_corr(df[\"UMI_Counts\"], df[\"Clonotype_Diversity\"]),\n",
    "    width=1680, height=1024\n",
    ")\n",
    "fig.update_traces(marker_size=10)\n",
    "fig.update_layout(title={\"text\":f'Mus-RNA Diversity (Correlation={calc_corr(df[\"UMI_Counts\"], df[\"Clonotype_Diversity\"])})',\n",
    "                         'y':0.98, 'x':0.5, 'xanchor': 'center', 'yanchor': 'top'},\n",
    "                  xaxis_title = \"UMI_Counts\", yaxis_title = \"Clonotype_Diversity\", font=dict(size=18,color=\"Black\"))\n",
    "\n",
    "fig.write_image(f\"/SGRNJ06/randd/USER/cjj/celedev/vdj_bulk/20230704plot/cell_mouse_tcr_rna/diversity_umi_scatter.png\", scale=4)\n",
    "#fig.show()"
   ]
  },
  {
   "cell_type": "code",
   "execution_count": null,
   "id": "physical-diamond",
   "metadata": {},
   "outputs": [],
   "source": [
    "fig = px.box(df, y=\"Clonotype_Diversity\", color=\"Sample\")\n",
    "fig.update_layout(title={\"text\":f'Mus-RNA',\n",
    "                         'y':0.98, 'x':0.45, 'xanchor': 'center', 'yanchor': 'top'},\n",
    "                          yaxis_title = \"Clonotype_Diversity\", font=dict(size=18,color=\"Black\"))\n",
    "fig.write_image(f\"/SGRNJ06/randd/USER/cjj/celedev/vdj_bulk/20230704plot/cell_mouse_tcr_rna/Diversity_boxplot.png\", scale=4, width=1680, height=1024)\n",
    "#fig.show()"
   ]
  },
  {
   "cell_type": "code",
   "execution_count": null,
   "id": "inside-engagement",
   "metadata": {},
   "outputs": [],
   "source": []
  },
  {
   "cell_type": "code",
   "execution_count": null,
   "id": "seasonal-incentive",
   "metadata": {},
   "outputs": [],
   "source": []
  },
  {
   "cell_type": "code",
   "execution_count": null,
   "id": "valid-attitude",
   "metadata": {},
   "outputs": [],
   "source": []
  },
  {
   "cell_type": "code",
   "execution_count": null,
   "id": "pressing-morrison",
   "metadata": {},
   "outputs": [],
   "source": []
  }
 ],
 "metadata": {
  "kernelspec": {
   "display_name": "trust4_1.7",
   "language": "python",
   "name": "trust4_1.7"
  },
  "language_info": {
   "codemirror_mode": {
    "name": "ipython",
    "version": 3
   },
   "file_extension": ".py",
   "mimetype": "text/x-python",
   "name": "python",
   "nbconvert_exporter": "python",
   "pygments_lexer": "ipython3",
   "version": "3.7.10"
  }
 },
 "nbformat": 4,
 "nbformat_minor": 5
}
