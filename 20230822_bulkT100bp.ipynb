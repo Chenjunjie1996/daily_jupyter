{
 "cells": [
  {
   "cell_type": "code",
   "execution_count": 7,
   "id": "loving-governor",
   "metadata": {},
   "outputs": [],
   "source": [
    "import pysam\n",
    "from xopen import xopen"
   ]
  },
  {
   "cell_type": "code",
   "execution_count": 13,
   "id": "legitimate-battle",
   "metadata": {},
   "outputs": [],
   "source": [
    "in_fq = \"/SGRNJ03/DATA04/23_07/2023_07_02/RD23020901/Mus_0626Spleen_fresh_1w_T3lib/2023-07-02-12/R230628014_R2.fastq.gz\""
   ]
  },
  {
   "cell_type": "code",
   "execution_count": 14,
   "id": "criminal-gilbert",
   "metadata": {},
   "outputs": [],
   "source": [
    "out_fq = xopen(\"/SGRNJ06/randd/USER/cjj/celedev/vdj_bulk/20230822_r2_100bp/rawdata/R230628014_R2.fastq.gz\",'w')"
   ]
  },
  {
   "cell_type": "code",
   "execution_count": 15,
   "id": "pointed-porcelain",
   "metadata": {},
   "outputs": [],
   "source": [
    "with pysam.FastxFile(in_fq) as f:\n",
    "    for read in f:\n",
    "        name = read.name\n",
    "        comment = read.comment\n",
    "        seq = read.sequence[:100]\n",
    "        qual = read.quality[:100]\n",
    "        out_fq.write(f'@{name} {comment}\\n{seq}\\n+\\n{qual}\\n')"
   ]
  },
  {
   "cell_type": "code",
   "execution_count": 16,
   "id": "scientific-bradley",
   "metadata": {},
   "outputs": [],
   "source": [
    "out_fq.close()"
   ]
  },
  {
   "cell_type": "code",
   "execution_count": null,
   "id": "accepted-calcium",
   "metadata": {},
   "outputs": [],
   "source": []
  }
 ],
 "metadata": {
  "kernelspec": {
   "display_name": "trust4_1.7",
   "language": "python",
   "name": "trust4_1.7"
  },
  "language_info": {
   "codemirror_mode": {
    "name": "ipython",
    "version": 3
   },
   "file_extension": ".py",
   "mimetype": "text/x-python",
   "name": "python",
   "nbconvert_exporter": "python",
   "pygments_lexer": "ipython3",
   "version": "3.7.10"
  }
 },
 "nbformat": 4,
 "nbformat_minor": 5
}
