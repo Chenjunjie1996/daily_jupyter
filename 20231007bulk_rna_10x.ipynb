{
 "cells": [
  {
   "cell_type": "code",
   "execution_count": 3,
   "id": "starting-justice",
   "metadata": {},
   "outputs": [],
   "source": [
    "import pysam"
   ]
  },
  {
   "cell_type": "code",
   "execution_count": 4,
   "id": "international-reverse",
   "metadata": {},
   "outputs": [],
   "source": [
    "res = set()"
   ]
  },
  {
   "cell_type": "code",
   "execution_count": 5,
   "id": "nutritional-wells",
   "metadata": {},
   "outputs": [],
   "source": [
    "with pysam.FastxFile(\"/SGRNJ07/Standard_Analysis/DATA05/limsdownload/23_09/2023_09_28/RD21010602/Mbm_C_10X/2023-09-28-2/R230922055_R1.fastq.gz\") as f:\n",
    "    for read in f:\n",
    "        res.add(read.sequence[:9])"
   ]
  },
  {
   "cell_type": "code",
   "execution_count": 6,
   "id": "adverse-guyana",
   "metadata": {},
   "outputs": [
    {
     "data": {
      "text/plain": [
       "78928"
      ]
     },
     "execution_count": 6,
     "metadata": {},
     "output_type": "execute_result"
    }
   ],
   "source": [
    "len(res)"
   ]
  },
  {
   "cell_type": "code",
   "execution_count": null,
   "id": "referenced-phone",
   "metadata": {},
   "outputs": [],
   "source": [
    "with open(\"/SGRNJ06/randd/USER/cjj/celedev/rna/20231007wy/\")"
   ]
  }
 ],
 "metadata": {
  "kernelspec": {
   "display_name": "trust4_1.7",
   "language": "python",
   "name": "trust4_1.7"
  },
  "language_info": {
   "codemirror_mode": {
    "name": "ipython",
    "version": 3
   },
   "file_extension": ".py",
   "mimetype": "text/x-python",
   "name": "python",
   "nbconvert_exporter": "python",
   "pygments_lexer": "ipython3",
   "version": "3.7.10"
  }
 },
 "nbformat": 4,
 "nbformat_minor": 5
}
