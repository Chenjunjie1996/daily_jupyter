{
 "cells": [
  {
   "cell_type": "code",
   "execution_count": null,
   "id": "spiritual-buffer",
   "metadata": {},
   "outputs": [],
   "source": [
    "# /SGRNJ06/randd/PROJECT/scATAC/summary_10X_data_analysis/mouse/2023101\n",
    "# /SGRNJ06/randd/PROJECT/scATAC/20231026_M_959595_sc/A1017_3_ML_YSPB_WX_R_T7_EDTA5030\n",
    "# /SGRNJ06/randd/PROJECT/scATAC/20231026_M_959595_sc/A1017_2_ML_YSPB_WX_D_T7_EDTA5030"
   ]
  },
  {
   "cell_type": "code",
   "execution_count": null,
   "id": "appreciated-payment",
   "metadata": {},
   "outputs": [],
   "source": [
    "suppressWarnings(suppressMessages({\n",
    "    library(Signac)\n",
    "    library(Seurat)\n",
    "    library(EnsDb.Mmusculus.v79)\n",
    "    library(tidyverse)\n",
    "    library(SingleR)\n",
    "}))\n",
    "set.seed(1)\n",
    "color_protocol <- c(\"#0067AA\",\"#FF7F00\",\"#00A23F\",\"#FF1F1D\",\"#A763AC\",\"#B45B5D\",\"#FF8AB6\",\"#B6B800\",\"#01C1CC\",\"#85D5F8\",\"#FFC981\",\"#C8571B\",\"#727272\",\"#EFC800\",\"#8A5626\",\"#502E91\",\"#59A4CE\",\"#344B2B\",\"#FBE29D\",\"#FDD6E6\",\"#849C8C\",\"#F07C6F\",\"#000101\")"
   ]
  },
  {
   "cell_type": "code",
   "execution_count": null,
   "id": "experimental-level",
   "metadata": {},
   "outputs": [],
   "source": [
    "data_seurat <- readRDS(\"/SGRNJ06/randd/USER/cjj/celedev/atac/20231107dzh/A1008_3_MM_VY_WX_D_T7_EDTA5030_outdir/mouse.rds\")\n",
    "dim(data_seurat)\n",
    "\n",
    "options(repr.plot.height = 5, repr.plot.width = 7)\n",
    "DimPlot(data_seurat,label = T)\n",
    "\n",
    "options(repr.plot.height = 5, repr.plot.width = 7)\n",
    "DimPlot(data_seurat, group.by = \"cell_type_singleR\",label = T,repel = T)\n",
    "\n",
    "Idents(data_seurat) <- data_seurat$cell_type_singleR"
   ]
  },
  {
   "cell_type": "code",
   "execution_count": null,
   "id": "black-boulder",
   "metadata": {},
   "outputs": [],
   "source": [
    "options(repr.plot.height = 4, repr.plot.width = 13)\n",
    "DefaultAssay(data_seurat) <- \"RNA\"\n",
    "# Neurons\n",
    "FeaturePlot(object = data_seurat, features = c(\"Snap25\",\"Grin1\"), pt.size = 0.1, ncol=3, order = T,min.cutoff = \"q50\")\n",
    "# Fibroblasts\n",
    "FeaturePlot(object = data_seurat, features = c(\"Dcn\",\"Col1a2\",\"Col1a1\"), pt.size = 0.1, ncol=3, order = T,min.cutoff = \"q50\")\n",
    "# Erythrocytes\n",
    "FeaturePlot(object = data_seurat, features = c(\"Alas2\",\"Snca\"), pt.size = 0.1, ncol=3, order = T,min.cutoff = \"q50\")\n",
    "# B cells\n",
    "FeaturePlot(object = data_seurat, features = c(\"Cd79a\"), pt.size = 0.1, ncol=3, order = T,min.cutoff = \"q50\")\n",
    "# Microglial cells\n",
    "FeaturePlot(object = data_seurat, features = c(\"P2ry12\",\"Cx3cr1\",\"Tmem119\"), pt.size = 0.1, ncol=3, order = T,min.cutoff = \"q50\")\n",
    "# Hepatocytes\n",
    "FeaturePlot(object = data_seurat, features = c(\"Apob\",\"Apoc1\",\"Afp\"), pt.size = 0.1, ncol=3, order = T,min.cutoff = \"q50\")\n",
    "# Astrocytes 效果不好\n",
    "FeaturePlot(object = data_seurat, features = c(\"Gfap\",\"Aqp4\",\"Aldoc\"), pt.size = 0.1, ncol=3,order = T,min.cutoff = \"q50\")\n",
    "# endothelial cells 效果不好\n",
    "FeaturePlot(object = data_seurat, features = c(\"Cdh5\",\"Vwf\",\"Cldn5\"), pt.size = 0.1, ncol=3,order = T,min.cutoff = \"q50\")\n",
    "# Adipocyte\n",
    "FeaturePlot(object = data_seurat, features = c(\"Col5a3\",\"Ucp1\",\"Apol6\"), pt.size = 0.1, ncol=3, order = T,min.cutoff = \"q50\")"
   ]
  },
  {
   "cell_type": "code",
   "execution_count": null,
   "id": "announced-stewart",
   "metadata": {},
   "outputs": [],
   "source": []
  },
  {
   "cell_type": "code",
   "execution_count": null,
   "id": "educational-facing",
   "metadata": {},
   "outputs": [],
   "source": [
    "# 整合分析"
   ]
  },
  {
   "cell_type": "code",
   "execution_count": null,
   "id": "agricultural-tooth",
   "metadata": {},
   "outputs": [],
   "source": [
    "library(harmony)"
   ]
  },
  {
   "cell_type": "code",
   "execution_count": null,
   "id": "adjustable-steering",
   "metadata": {},
   "outputs": [],
   "source": [
    "# 10X "
   ]
  },
  {
   "cell_type": "code",
   "execution_count": null,
   "id": "starting-appeal",
   "metadata": {},
   "outputs": [],
   "source": [
    "rds1 = readRDS(\"/SGRNJ06/randd/USER/cjj/celedev/atac/20231109dzh/A1017_2_ML_YSPB_WX_D_T7_EDTA5030_outdir/mouse.rds\")\n",
    "rds2 = readRDS(\"/SGRNJ06/randd/USER/cjj/celedev/atac/20231109dzh/A1017_3_ML_YSPB_WX_R_T7_EDTA5030_outdir/mouse.rds\")\n",
    "rds3 = readRDS(\"/SGRNJ06/randd/USER/cjj/celedev/atac/20231109dzh/L220728027XA_outdir/mouse.rds\")"
   ]
  },
  {
   "cell_type": "code",
   "execution_count": null,
   "id": "honest-medication",
   "metadata": {},
   "outputs": [],
   "source": [
    "combined <- merge(rds1, y = c(rds2, rds3), add.cell.ids = c(\"A10172\", \"A10173\", \"L220728027XA\"), project = \"mouse\")"
   ]
  },
  {
   "cell_type": "code",
   "execution_count": null,
   "id": "unexpected-employee",
   "metadata": {},
   "outputs": [],
   "source": [
    "head(combined)"
   ]
  },
  {
   "cell_type": "code",
   "execution_count": null,
   "id": "center-referral",
   "metadata": {},
   "outputs": [],
   "source": [
    "unique(sapply(X = strsplit(colnames(combined), split = \"_\"), FUN = \"[\", 1))"
   ]
  },
  {
   "cell_type": "code",
   "execution_count": null,
   "id": "noticed-screen",
   "metadata": {},
   "outputs": [],
   "source": [
    "combined@meta.data$sample = (sapply(X = strsplit(colnames(combined), split = \"_\"), FUN = \"[\", 1))"
   ]
  },
  {
   "cell_type": "code",
   "execution_count": null,
   "id": "hybrid-external",
   "metadata": {},
   "outputs": [],
   "source": [
    "PRO <-  NormalizeData(object = combined)\n",
    "PRO <-  ScaleData(object = PRO)\n",
    "PRO <- FindVariableFeatures(object = PRO)\n",
    "genes.use<- head(HVFInfo(object = PRO),2000)\n",
    "PRO <- RunPCA(object=PRO,features = VariableFeatures(object = PRO))\n",
    "PRO <- RunHarmony(PRO,group.by=\"sample\" , plot_convergence = TRUE)\n",
    "PRO <- FindNeighbors(PRO, reduction = \"harmony\", dims = 1:20)\n",
    "PRO <- FindClusters(PRO,resolution = 0.8, algorithm = 1)\n",
    "PRO <- RunUMAP(PRO, reduction = \"harmony\", dims = 1:20)\n",
    "PRO <- RunTSNE(object=PRO,reduction = \"harmony\",dims.use=1:20,do.fast=TRUE,check_duplicates = FALSE)"
   ]
  },
  {
   "cell_type": "code",
   "execution_count": null,
   "id": "perceived-sharing",
   "metadata": {},
   "outputs": [],
   "source": [
    "# colnames(combined@meta.data)"
   ]
  },
  {
   "cell_type": "code",
   "execution_count": null,
   "id": "legislative-concert",
   "metadata": {},
   "outputs": [],
   "source": [
    "library(stringr)"
   ]
  },
  {
   "cell_type": "code",
   "execution_count": null,
   "id": "satellite-preservation",
   "metadata": {},
   "outputs": [],
   "source": [
    "DimPlot(object = PRO, reduction = \"umap\",label = TRUE, group.by = \"seurat_clusters\")"
   ]
  },
  {
   "cell_type": "code",
   "execution_count": null,
   "id": "expensive-carol",
   "metadata": {},
   "outputs": [],
   "source": [
    "DimPlot(object = PRO, reduction = \"umap\",label = TRUE, group.by = \"cell_type_singleR\")"
   ]
  },
  {
   "cell_type": "code",
   "execution_count": null,
   "id": "bound-endorsement",
   "metadata": {},
   "outputs": [],
   "source": [
    "DimPlot(object = PRO, reduction = \"umap\",label = TRUE, group.by = \"sample\")"
   ]
  },
  {
   "cell_type": "code",
   "execution_count": null,
   "id": "electric-movie",
   "metadata": {},
   "outputs": [],
   "source": [
    "outP1 = stringr::str_glue(\"/SGRNJ06/randd/USER/cjj/celedev/atac/20231109dzh/harmony/cluster.png\")\n",
    "png(outP1, height=1000, width=1000)\n",
    "UMAPPlot(PRO,group.by='seurat_clusters',label=TRUE)\n",
    "dev.off()"
   ]
  },
  {
   "cell_type": "code",
   "execution_count": null,
   "id": "internal-malpractice",
   "metadata": {},
   "outputs": [],
   "source": [
    "outP1 = stringr::str_glue(\"/SGRNJ06/randd/USER/cjj/celedev/atac/20231109dzh/harmony/celltype.png\")\n",
    "png(outP1, height=1000, width=1000)\n",
    "UMAPPlot(PRO,group.by='cell_type_singleR',label=TRUE)\n",
    "dev.off()"
   ]
  },
  {
   "cell_type": "code",
   "execution_count": null,
   "id": "bound-lover",
   "metadata": {},
   "outputs": [],
   "source": [
    "outP1 = stringr::str_glue(\"/SGRNJ06/randd/USER/cjj/celedev/atac/20231109dzh/harmony/sample.png\")\n",
    "png(outP1, height=1000, width=1000)\n",
    "UMAPPlot(PRO,group.by='sample',label=TRUE)\n",
    "dev.off()"
   ]
  },
  {
   "cell_type": "code",
   "execution_count": null,
   "id": "stone-collectible",
   "metadata": {},
   "outputs": [],
   "source": [
    "library(Seurat)"
   ]
  },
  {
   "cell_type": "code",
   "execution_count": null,
   "id": "voluntary-polls",
   "metadata": {},
   "outputs": [],
   "source": [
    "df <- Read10X_h5(\"/SGRNJ06/randd/USER/cjj/celedev/atac/MAESTRO/test/20231109sgr_mouse_cutoff/A0920_3_ME_YSPB_WX_D_T7_EDTA5030/02.atac/Result/Analysis/A0920_3_ME_YSPB_WX_D_T7_EDTA5030/A0920_3_ME_YSPB_WX_D_T7_EDTA5030_peak_count.h5\")"
   ]
  },
  {
   "cell_type": "code",
   "execution_count": null,
   "id": "vulnerable-observation",
   "metadata": {},
   "outputs": [],
   "source": [
    "df"
   ]
  },
  {
   "cell_type": "code",
   "execution_count": null,
   "id": "complicated-deadline",
   "metadata": {},
   "outputs": [],
   "source": []
  }
 ],
 "metadata": {
  "kernelspec": {
   "display_name": "r4.1_env",
   "language": "R",
   "name": "r4.1_env"
  },
  "language_info": {
   "codemirror_mode": "r",
   "file_extension": ".r",
   "mimetype": "text/x-r-source",
   "name": "R",
   "pygments_lexer": "r",
   "version": "4.1.1"
  }
 },
 "nbformat": 4,
 "nbformat_minor": 5
}
