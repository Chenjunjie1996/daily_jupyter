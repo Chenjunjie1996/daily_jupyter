{
 "cells": [
  {
   "cell_type": "code",
   "execution_count": null,
   "id": "celtic-allergy",
   "metadata": {},
   "outputs": [],
   "source": [
    "suppressWarnings(suppressMessages({\n",
    "    library(Signac)\n",
    "    library(Seurat)\n",
    "    library(EnsDb.Mmusculus.v79)\n",
    "    library(tidyverse)\n",
    "    library(SingleR)\n",
    "}))\n",
    "set.seed(1)\n",
    "color_protocol <- c(\"#0067AA\",\"#FF7F00\",\"#00A23F\",\"#FF1F1D\",\"#A763AC\",\"#B45B5D\",\"#FF8AB6\",\"#B6B800\",\"#01C1CC\",\"#85D5F8\",\"#FFC981\",\"#C8571B\",\"#727272\",\"#EFC800\",\"#8A5626\",\"#502E91\",\"#59A4CE\",\"#344B2B\",\"#FBE29D\",\"#FDD6E6\",\"#849C8C\",\"#F07C6F\",\"#000101\")"
   ]
  },
  {
   "cell_type": "code",
   "execution_count": null,
   "id": "irish-export",
   "metadata": {},
   "outputs": [],
   "source": [
    "rds = readRDS(\"/SGRNJ06/randd/USER/cjj/celedev/atac/MAESTRO/test/20231109sgr_mouse_cutoff/A0920_3_ME_YSPB_WX_D_T7_EDTA5030//02.atac//Result/Analysis/A0920_3_ME_YSPB_WX_D_T7_EDTA5030//A0920_3_ME_YSPB_WX_D_T7_EDTA5030_scATAC_Object.rds\")"
   ]
  },
  {
   "cell_type": "code",
   "execution_count": null,
   "id": "expanded-bicycle",
   "metadata": {},
   "outputs": [],
   "source": [
    "head(rds$ATAC)"
   ]
  },
  {
   "cell_type": "code",
   "execution_count": null,
   "id": "casual-rapid",
   "metadata": {},
   "outputs": [],
   "source": [
    "rds1 = readRDS(\"/SGRNJ06/randd/USER/cjj/celedev/atac/20231109dzh/A1017_3_ML_YSPB_WX_R_T7_EDTA5030_outdir/mouse.rds\")"
   ]
  },
  {
   "cell_type": "code",
   "execution_count": null,
   "id": "blocked-costume",
   "metadata": {},
   "outputs": [],
   "source": [
    "pbmc.ATAC.res_10x$ATAC"
   ]
  },
  {
   "cell_type": "code",
   "execution_count": null,
   "id": "supported-caribbean",
   "metadata": {},
   "outputs": [],
   "source": [
    "rds$ATAC"
   ]
  },
  {
   "cell_type": "code",
   "execution_count": null,
   "id": "norwegian-acquisition",
   "metadata": {},
   "outputs": [],
   "source": [
    "combined <- merge(rds$ATAC, y = pbmc.ATAC.res_10x$ATAC, add.cell.ids = c(\"sgr\", \"tenx\"), project = \"mouse\")"
   ]
  },
  {
   "cell_type": "code",
   "execution_count": null,
   "id": "worldwide-military",
   "metadata": {},
   "outputs": [],
   "source": [
    "head(combined)"
   ]
  },
  {
   "cell_type": "code",
   "execution_count": null,
   "id": "split-slovenia",
   "metadata": {},
   "outputs": [],
   "source": [
    "combined@meta.data"
   ]
  },
  {
   "cell_type": "code",
   "execution_count": null,
   "id": "boring-architecture",
   "metadata": {},
   "outputs": [],
   "source": [
    "combined@meta.data$sample = (sapply(X = strsplit(colnames(combined), split = \"_\"), FUN = \"[\", 1))"
   ]
  },
  {
   "cell_type": "code",
   "execution_count": null,
   "id": "failing-edition",
   "metadata": {},
   "outputs": [],
   "source": [
    "PRO <-  NormalizeData(object = combined)\n",
    "PRO <-  ScaleData(object = PRO)\n",
    "PRO <- FindVariableFeatures(object = PRO)\n",
    "genes.use<- head(HVFInfo(object = PRO),2000)\n",
    "PRO <- RunPCA(object=PRO,features = VariableFeatures(object = PRO))\n",
    "PRO <- RunHarmony(PRO,group.by=\"sample\" , plot_convergence = TRUE)\n",
    "PRO <- FindNeighbors(PRO, reduction = \"harmony\", dims = 1:20)\n",
    "PRO <- FindClusters(PRO,resolution = 0.8, algorithm = 1)\n",
    "PRO <- RunUMAP(PRO, reduction = \"harmony\", dims = 1:20)\n",
    "PRO <- RunTSNE(object=PRO,reduction = \"harmony\",dims.use=1:20,do.fast=TRUE,check_duplicates = FALSE)"
   ]
  },
  {
   "cell_type": "code",
   "execution_count": null,
   "id": "entire-huntington",
   "metadata": {},
   "outputs": [],
   "source": []
  },
  {
   "cell_type": "code",
   "execution_count": null,
   "id": "knowing-latex",
   "metadata": {},
   "outputs": [],
   "source": []
  },
  {
   "cell_type": "code",
   "execution_count": null,
   "id": "japanese-worse",
   "metadata": {},
   "outputs": [],
   "source": []
  },
  {
   "cell_type": "code",
   "execution_count": null,
   "id": "associate-investigation",
   "metadata": {},
   "outputs": [],
   "source": [
    "# merge 10x and sgr"
   ]
  },
  {
   "cell_type": "code",
   "execution_count": 2,
   "id": "israeli-monkey",
   "metadata": {},
   "outputs": [],
   "source": [
    "library(MAESTRO)\n",
    "library(Seurat)\n",
    "library(Signac)"
   ]
  },
  {
   "cell_type": "code",
   "execution_count": 3,
   "id": "tender-intranet",
   "metadata": {},
   "outputs": [],
   "source": [
    "rds_10x = \"/SGRNJ06/randd/PROJECT/scATAC/20231006_ME_sc/A0920_3_ME_YSPB_WX_D_T7_EDTA5030/03.atac/A0920_3_ME_YSPB_WX_D_T7_EDTA5030/outs/filtered_peak_bc_matrix.h5\""
   ]
  },
  {
   "cell_type": "code",
   "execution_count": 4,
   "id": "handmade-layout",
   "metadata": {},
   "outputs": [],
   "source": [
    "rds_sgr = \"/SGRNJ06/randd/USER/cjj/celedev/atac/MAESTRO/test/20231109sgr_mouse_cutoff/A0920_3_ME_YSPB_WX_D_T7_EDTA5030/outs/A0920_3_ME_YSPB_WX_D_T7_EDTA5030_filtered_peak_count.h5\""
   ]
  },
  {
   "cell_type": "code",
   "execution_count": 5,
   "id": "addressed-trouble",
   "metadata": {},
   "outputs": [
    {
     "name": "stderr",
     "output_type": "stream",
     "text": [
      "Warning message in sparseMatrix(i = indices[] + 1, p = indptr[], x = as.numeric(x = counts[]), :\n",
      "\"'giveCsparse' has been deprecated; setting 'repr = \"T\"' for you\"\n"
     ]
    }
   ],
   "source": [
    "rds_10x = Read10X_h5(rds_10x)"
   ]
  },
  {
   "cell_type": "code",
   "execution_count": 6,
   "id": "rough-individual",
   "metadata": {},
   "outputs": [],
   "source": [
    "rds_sgr = Read10X_h5(rds_sgr)"
   ]
  },
  {
   "cell_type": "code",
   "execution_count": 8,
   "id": "abroad-hierarchy",
   "metadata": {},
   "outputs": [
    {
     "data": {
      "text/html": [
       "\n",
       "<table width=\"100%\" summary=\"page for ATACRunSeurat {MAESTRO}\"><tr><td>ATACRunSeurat {MAESTRO}</td><td style=\"text-align: right;\">R Documentation</td></tr></table>\n",
       "\n",
       "<h2>Clustering analysis for scATAC-seq data using Seurat</h2>\n",
       "\n",
       "<h3>Description</h3>\n",
       "\n",
       "<p>Clustering analysis for scATAC-seq dataset using Seurat (version &gt;=4.0.0) and Signac (version &gt;= 1.1.1). Including normalization, LSI/PCA dimension reduction, clustering and UMAP visualization. To run UMAP analysis, you must first install the umap-learn python package (e.g. via <code>pip install umap-learn</code>).\n",
       "</p>\n",
       "\n",
       "\n",
       "<h3>Usage</h3>\n",
       "\n",
       "<pre>\n",
       "ATACRunSeurat(\n",
       "  inputMat,\n",
       "  type = \"matrix\",\n",
       "  project = \"MAESTRO.scATAC.Seurat\",\n",
       "  orign.ident = NULL,\n",
       "  min.c = 10,\n",
       "  min.p = 100,\n",
       "  method = \"LSI\",\n",
       "  dims.use = 1:30,\n",
       "  cluster.res = 0.6,\n",
       "  only.pos = FALSE,\n",
       "  peaks.test.use = \"presto\",\n",
       "  peaks.cutoff = 1e-05,\n",
       "  peaks.pct = 0.1,\n",
       "  peaks.logfc = 0.2,\n",
       "  runtfidf.args = list(),\n",
       "  runsvd.args = list(),\n",
       "  runpca.args = list(),\n",
       "  findneighbors.args = list(),\n",
       "  findclusters.args = list(),\n",
       "  ...\n",
       ")\n",
       "</pre>\n",
       "\n",
       "\n",
       "<h3>Arguments</h3>\n",
       "\n",
       "<table summary=\"R argblock\">\n",
       "<tr valign=\"top\"><td><code>inputMat</code></td>\n",
       "<td>\n",
       "<p>Input unnormalized count matrix, with peaks as rows and cells as columns. Rownames should be like &quot;chromosome_peakstart_peakend&quot;,\n",
       "for example &quot;chr10_100020591_100020841&quot;.</p>\n",
       "</td></tr>\n",
       "<tr valign=\"top\"><td><code>type</code></td>\n",
       "<td>\n",
       "<p>Type of the input matrix. Default is &quot;matrix&quot;. Set to &quot;object&quot; if the input is Seurat object.</p>\n",
       "</td></tr>\n",
       "<tr valign=\"top\"><td><code>project</code></td>\n",
       "<td>\n",
       "<p>Output project name. Default is &quot;MAESTRO.scATAC.Seurat&quot;.</p>\n",
       "</td></tr>\n",
       "<tr valign=\"top\"><td><code>orign.ident</code></td>\n",
       "<td>\n",
       "<p>Orginal identity for the input cells. If supplied, should keep the same order with the column name of the peak x cell matrix.</p>\n",
       "</td></tr>\n",
       "<tr valign=\"top\"><td><code>min.c</code></td>\n",
       "<td>\n",
       "<p>Minimum number of cells required for a peak. Will exclude the peaks from input matrix if they only identified in \n",
       "less than <code>min.c</code> cells. Default is 10. See <code>CreateSeuratObject</code> for details.</p>\n",
       "</td></tr>\n",
       "<tr valign=\"top\"><td><code>min.p</code></td>\n",
       "<td>\n",
       "<p>Minimum number of peaks required for a cell. Will exclude the cells from input matrix if less than <code>min.p</code>\n",
       "peaks are deteced in one cell. Default is 100. See <code>CreateSeuratObject</code> for details.</p>\n",
       "</td></tr>\n",
       "<tr valign=\"top\"><td><code>method</code></td>\n",
       "<td>\n",
       "<p>Methods for dimension reduction, available options are LSI and PCA. Default is &quot;LSI&quot;.</p>\n",
       "</td></tr>\n",
       "<tr valign=\"top\"><td><code>dims.use</code></td>\n",
       "<td>\n",
       "<p>Number of dimensions used for UMAP analysis. Default is 1:30, use the first 30 PCs.</p>\n",
       "</td></tr>\n",
       "<tr valign=\"top\"><td><code>cluster.res</code></td>\n",
       "<td>\n",
       "<p>Value of the clustering resolution parameter. Please use a value above (below) 1.0 \n",
       "if users want to obtain a larger (smaller) number of communities. Default is 0.6.</p>\n",
       "</td></tr>\n",
       "<tr valign=\"top\"><td><code>only.pos</code></td>\n",
       "<td>\n",
       "<p>If seting true, only positive peaks will be output. Default is False.</p>\n",
       "</td></tr>\n",
       "<tr valign=\"top\"><td><code>peaks.test.use</code></td>\n",
       "<td>\n",
       "<p>Denotes which test to use to identify differnetial peaks. Default is &quot;presto&quot;, a fast version of Wilcoxon Rank Sum test. \n",
       "Available options are &quot;wilcox&quot; and &quot;t&quot;. See <code>FindAllMarkersMAESTRO</code> for details.</p>\n",
       "</td></tr>\n",
       "<tr valign=\"top\"><td><code>peaks.cutoff</code></td>\n",
       "<td>\n",
       "<p>Identify differential peaks with adjusted p.value less than <code>peaks.cutoff</code> as cluster specific peaks</p>\n",
       "</td></tr>\n",
       "<tr valign=\"top\"><td><code>peaks.pct</code></td>\n",
       "<td>\n",
       "<p>Only test peaks that are detected in a minimum fraction of min.pct cells in either of the two populations. Meant to speed up the function by not testing peaks that are very infrequently detected Default is 0.1</p>\n",
       "</td></tr>\n",
       "<tr valign=\"top\"><td><code>peaks.logfc</code></td>\n",
       "<td>\n",
       "<p>Limit testing to peaks which show, on average, at least X-fold difference (log-scale) between the two groups of cells. Default is 0.2 Increasing logfc.threshold speeds up the function, but can miss weaker signals.\n",
       "for each cluster. Default cutoff is 1E-5.</p>\n",
       "</td></tr>\n",
       "<tr valign=\"top\"><td><code>runpca.args</code></td>\n",
       "<td>\n",
       "<p>Extra arguments passed to <code>RunPCA</code>.</p>\n",
       "</td></tr>\n",
       "<tr valign=\"top\"><td><code>findneighbors.args</code></td>\n",
       "<td>\n",
       "<p>Extra arguments passed to <code>FindNeighbors</code>.</p>\n",
       "</td></tr>\n",
       "<tr valign=\"top\"><td><code>findclusters.args</code></td>\n",
       "<td>\n",
       "<p>Extra arguments passed to <code>FindClusters</code>.</p>\n",
       "</td></tr>\n",
       "<tr valign=\"top\"><td><code>...</code></td>\n",
       "<td>\n",
       "<p>Extra arguments passed to <code>RunUMAP</code>.</p>\n",
       "</td></tr>\n",
       "<tr valign=\"top\"><td><code>runlsi.args</code></td>\n",
       "<td>\n",
       "<p>Extra arguments passed to <code>RunLSI</code>.</p>\n",
       "</td></tr>\n",
       "</table>\n",
       "\n",
       "\n",
       "<h3>Value</h3>\n",
       "\n",
       "<p>A list contains a Seurat object for ATAC clusters and a data frame of cluster specific peaks.\n",
       "</p>\n",
       "\n",
       "\n",
       "<h3>Author(s)</h3>\n",
       "\n",
       "<p>Chenfei Wang\n",
       "</p>\n",
       "\n",
       "\n",
       "<h3>Examples</h3>\n",
       "\n",
       "<pre>\n",
       "data(pbmc.ATAC)\n",
       "pbmc.ATAC.res &lt;- ATACRunSeurat(inputMat = pbmc.ATAC, project = \"PBMC.scATAC.Seurat\", method = \"LSI\")\n",
       "str(pbmc.ATAC.res$ATAC)\n",
       "head(pbmc.ATAC.res$peaks)\n",
       "\n",
       "</pre>\n",
       "\n",
       "<hr /><div style=\"text-align: center;\">[Package <em>MAESTRO</em> version 1.5.1 ]</div>"
      ],
      "text/latex": [
       "\\inputencoding{utf8}\n",
       "\\HeaderA{ATACRunSeurat}{Clustering analysis for scATAC-seq data using Seurat}{ATACRunSeurat}\n",
       "%\n",
       "\\begin{Description}\\relax\n",
       "Clustering analysis for scATAC-seq dataset using Seurat (version >=4.0.0) and Signac (version >= 1.1.1). Including normalization, LSI/PCA dimension reduction, clustering and UMAP visualization. To run UMAP analysis, you must first install the umap-learn python package (e.g. via \\code{pip install umap-learn}).\n",
       "\\end{Description}\n",
       "%\n",
       "\\begin{Usage}\n",
       "\\begin{verbatim}\n",
       "ATACRunSeurat(\n",
       "  inputMat,\n",
       "  type = \"matrix\",\n",
       "  project = \"MAESTRO.scATAC.Seurat\",\n",
       "  orign.ident = NULL,\n",
       "  min.c = 10,\n",
       "  min.p = 100,\n",
       "  method = \"LSI\",\n",
       "  dims.use = 1:30,\n",
       "  cluster.res = 0.6,\n",
       "  only.pos = FALSE,\n",
       "  peaks.test.use = \"presto\",\n",
       "  peaks.cutoff = 1e-05,\n",
       "  peaks.pct = 0.1,\n",
       "  peaks.logfc = 0.2,\n",
       "  runtfidf.args = list(),\n",
       "  runsvd.args = list(),\n",
       "  runpca.args = list(),\n",
       "  findneighbors.args = list(),\n",
       "  findclusters.args = list(),\n",
       "  ...\n",
       ")\n",
       "\\end{verbatim}\n",
       "\\end{Usage}\n",
       "%\n",
       "\\begin{Arguments}\n",
       "\\begin{ldescription}\n",
       "\\item[\\code{inputMat}] Input unnormalized count matrix, with peaks as rows and cells as columns. Rownames should be like \"chromosome\\_peakstart\\_peakend\",\n",
       "for example \"chr10\\_100020591\\_100020841\".\n",
       "\n",
       "\\item[\\code{type}] Type of the input matrix. Default is \"matrix\". Set to \"object\" if the input is Seurat object.\n",
       "\n",
       "\\item[\\code{project}] Output project name. Default is \"MAESTRO.scATAC.Seurat\".\n",
       "\n",
       "\\item[\\code{orign.ident}] Orginal identity for the input cells. If supplied, should keep the same order with the column name of the peak x cell matrix.\n",
       "\n",
       "\\item[\\code{min.c}] Minimum number of cells required for a peak. Will exclude the peaks from input matrix if they only identified in \n",
       "less than \\code{min.c} cells. Default is 10. See \\code{\\LinkA{CreateSeuratObject}{CreateSeuratObject}} for details.\n",
       "\n",
       "\\item[\\code{min.p}] Minimum number of peaks required for a cell. Will exclude the cells from input matrix if less than \\code{min.p}\n",
       "peaks are deteced in one cell. Default is 100. See \\code{\\LinkA{CreateSeuratObject}{CreateSeuratObject}} for details.\n",
       "\n",
       "\\item[\\code{method}] Methods for dimension reduction, available options are LSI and PCA. Default is \"LSI\".\n",
       "\n",
       "\\item[\\code{dims.use}] Number of dimensions used for UMAP analysis. Default is 1:30, use the first 30 PCs.\n",
       "\n",
       "\\item[\\code{cluster.res}] Value of the clustering resolution parameter. Please use a value above (below) 1.0 \n",
       "if users want to obtain a larger (smaller) number of communities. Default is 0.6.\n",
       "\n",
       "\\item[\\code{only.pos}] If seting true, only positive peaks will be output. Default is False.\n",
       "\n",
       "\\item[\\code{peaks.test.use}] Denotes which test to use to identify differnetial peaks. Default is \"presto\", a fast version of Wilcoxon Rank Sum test. \n",
       "Available options are \"wilcox\" and \"t\". See \\code{\\LinkA{FindAllMarkersMAESTRO}{FindAllMarkersMAESTRO}} for details.\n",
       "\n",
       "\\item[\\code{peaks.cutoff}] Identify differential peaks with adjusted p.value less than \\code{peaks.cutoff} as cluster specific peaks\n",
       "\n",
       "\\item[\\code{peaks.pct}] Only test peaks that are detected in a minimum fraction of min.pct cells in either of the two populations. Meant to speed up the function by not testing peaks that are very infrequently detected Default is 0.1\n",
       "\n",
       "\\item[\\code{peaks.logfc}] Limit testing to peaks which show, on average, at least X-fold difference (log-scale) between the two groups of cells. Default is 0.2 Increasing logfc.threshold speeds up the function, but can miss weaker signals.\n",
       "for each cluster. Default cutoff is 1E-5.\n",
       "\n",
       "\\item[\\code{runpca.args}] Extra arguments passed to \\code{\\LinkA{RunPCA}{RunPCA}}.\n",
       "\n",
       "\\item[\\code{findneighbors.args}] Extra arguments passed to \\code{\\LinkA{FindNeighbors}{FindNeighbors}}.\n",
       "\n",
       "\\item[\\code{findclusters.args}] Extra arguments passed to \\code{\\LinkA{FindClusters}{FindClusters}}.\n",
       "\n",
       "\\item[\\code{...}] Extra arguments passed to \\code{\\LinkA{RunUMAP}{RunUMAP}}.\n",
       "\n",
       "\\item[\\code{runlsi.args}] Extra arguments passed to \\code{\\LinkA{RunLSI}{RunLSI}}.\n",
       "\\end{ldescription}\n",
       "\\end{Arguments}\n",
       "%\n",
       "\\begin{Value}\n",
       "A list contains a Seurat object for ATAC clusters and a data frame of cluster specific peaks.\n",
       "\\end{Value}\n",
       "%\n",
       "\\begin{Author}\\relax\n",
       "Chenfei Wang\n",
       "\\end{Author}\n",
       "%\n",
       "\\begin{Examples}\n",
       "\\begin{ExampleCode}\n",
       "data(pbmc.ATAC)\n",
       "pbmc.ATAC.res <- ATACRunSeurat(inputMat = pbmc.ATAC, project = \"PBMC.scATAC.Seurat\", method = \"LSI\")\n",
       "str(pbmc.ATAC.res$ATAC)\n",
       "head(pbmc.ATAC.res$peaks)\n",
       "\n",
       "\\end{ExampleCode}\n",
       "\\end{Examples}"
      ],
      "text/plain": [
       "ATACRunSeurat             package:MAESTRO              R Documentation\n",
       "\n",
       "_\bC_\bl_\bu_\bs_\bt_\be_\br_\bi_\bn_\bg _\ba_\bn_\ba_\bl_\by_\bs_\bi_\bs _\bf_\bo_\br _\bs_\bc_\bA_\bT_\bA_\bC-_\bs_\be_\bq _\bd_\ba_\bt_\ba _\bu_\bs_\bi_\bn_\bg _\bS_\be_\bu_\br_\ba_\bt\n",
       "\n",
       "_\bD_\be_\bs_\bc_\br_\bi_\bp_\bt_\bi_\bo_\bn:\n",
       "\n",
       "     Clustering analysis for scATAC-seq dataset using Seurat (version\n",
       "     >=4.0.0) and Signac (version >= 1.1.1). Including normalization,\n",
       "     LSI/PCA dimension reduction, clustering and UMAP visualization. To\n",
       "     run UMAP analysis, you must first install the umap-learn python\n",
       "     package (e.g. via 'pip install umap-learn').\n",
       "\n",
       "_\bU_\bs_\ba_\bg_\be:\n",
       "\n",
       "     ATACRunSeurat(\n",
       "       inputMat,\n",
       "       type = \"matrix\",\n",
       "       project = \"MAESTRO.scATAC.Seurat\",\n",
       "       orign.ident = NULL,\n",
       "       min.c = 10,\n",
       "       min.p = 100,\n",
       "       method = \"LSI\",\n",
       "       dims.use = 1:30,\n",
       "       cluster.res = 0.6,\n",
       "       only.pos = FALSE,\n",
       "       peaks.test.use = \"presto\",\n",
       "       peaks.cutoff = 1e-05,\n",
       "       peaks.pct = 0.1,\n",
       "       peaks.logfc = 0.2,\n",
       "       runtfidf.args = list(),\n",
       "       runsvd.args = list(),\n",
       "       runpca.args = list(),\n",
       "       findneighbors.args = list(),\n",
       "       findclusters.args = list(),\n",
       "       ...\n",
       "     )\n",
       "     \n",
       "_\bA_\br_\bg_\bu_\bm_\be_\bn_\bt_\bs:\n",
       "\n",
       "inputMat: Input unnormalized count matrix, with peaks as rows and cells\n",
       "          as columns. Rownames should be like\n",
       "          \"chromosome_peakstart_peakend\", for example\n",
       "          \"chr10_100020591_100020841\".\n",
       "\n",
       "    type: Type of the input matrix. Default is \"matrix\". Set to\n",
       "          \"object\" if the input is Seurat object.\n",
       "\n",
       " project: Output project name. Default is \"MAESTRO.scATAC.Seurat\".\n",
       "\n",
       "orign.ident: Orginal identity for the input cells. If supplied, should\n",
       "          keep the same order with the column name of the peak x cell\n",
       "          matrix.\n",
       "\n",
       "   min.c: Minimum number of cells required for a peak. Will exclude the\n",
       "          peaks from input matrix if they only identified in less than\n",
       "          'min.c' cells. Default is 10. See 'CreateSeuratObject' for\n",
       "          details.\n",
       "\n",
       "   min.p: Minimum number of peaks required for a cell. Will exclude the\n",
       "          cells from input matrix if less than 'min.p' peaks are\n",
       "          deteced in one cell. Default is 100. See 'CreateSeuratObject'\n",
       "          for details.\n",
       "\n",
       "  method: Methods for dimension reduction, available options are LSI\n",
       "          and PCA. Default is \"LSI\".\n",
       "\n",
       "dims.use: Number of dimensions used for UMAP analysis. Default is 1:30,\n",
       "          use the first 30 PCs.\n",
       "\n",
       "cluster.res: Value of the clustering resolution parameter. Please use a\n",
       "          value above (below) 1.0 if users want to obtain a larger\n",
       "          (smaller) number of communities. Default is 0.6.\n",
       "\n",
       "only.pos: If seting true, only positive peaks will be output. Default\n",
       "          is False.\n",
       "\n",
       "peaks.test.use: Denotes which test to use to identify differnetial\n",
       "          peaks. Default is \"presto\", a fast version of Wilcoxon Rank\n",
       "          Sum test.  Available options are \"wilcox\" and \"t\". See\n",
       "          'FindAllMarkersMAESTRO' for details.\n",
       "\n",
       "peaks.cutoff: Identify differential peaks with adjusted p.value less\n",
       "          than 'peaks.cutoff' as cluster specific peaks\n",
       "\n",
       "peaks.pct: Only test peaks that are detected in a minimum fraction of\n",
       "          min.pct cells in either of the two populations. Meant to\n",
       "          speed up the function by not testing peaks that are very\n",
       "          infrequently detected Default is 0.1\n",
       "\n",
       "peaks.logfc: Limit testing to peaks which show, on average, at least\n",
       "          X-fold difference (log-scale) between the two groups of\n",
       "          cells. Default is 0.2 Increasing logfc.threshold speeds up\n",
       "          the function, but can miss weaker signals. for each cluster.\n",
       "          Default cutoff is 1E-5.\n",
       "\n",
       "runpca.args: Extra arguments passed to 'RunPCA'.\n",
       "\n",
       "findneighbors.args: Extra arguments passed to 'FindNeighbors'.\n",
       "\n",
       "findclusters.args: Extra arguments passed to 'FindClusters'.\n",
       "\n",
       "     ...: Extra arguments passed to 'RunUMAP'.\n",
       "\n",
       "runlsi.args: Extra arguments passed to 'RunLSI'.\n",
       "\n",
       "_\bV_\ba_\bl_\bu_\be:\n",
       "\n",
       "     A list contains a Seurat object for ATAC clusters and a data frame\n",
       "     of cluster specific peaks.\n",
       "\n",
       "_\bA_\bu_\bt_\bh_\bo_\br(_\bs):\n",
       "\n",
       "     Chenfei Wang\n",
       "\n",
       "_\bE_\bx_\ba_\bm_\bp_\bl_\be_\bs:\n",
       "\n",
       "     data(pbmc.ATAC)\n",
       "     pbmc.ATAC.res <- ATACRunSeurat(inputMat = pbmc.ATAC, project = \"PBMC.scATAC.Seurat\", method = \"LSI\")\n",
       "     str(pbmc.ATAC.res$ATAC)\n",
       "     head(pbmc.ATAC.res$peaks)\n",
       "     "
      ]
     },
     "metadata": {},
     "output_type": "display_data"
    }
   ],
   "source": [
    "?ATACRunSeurat"
   ]
  },
  {
   "cell_type": "code",
   "execution_count": 10,
   "id": "bored-bennett",
   "metadata": {},
   "outputs": [
    {
     "name": "stderr",
     "output_type": "stream",
     "text": [
      "LSI analysis ...\n",
      "\n",
      "Performing TF-IDF normalization\n",
      "\n",
      "Running SVD\n",
      "\n",
      "Scaling cell embeddings\n",
      "\n",
      "UMAP analysis ...\n",
      "\n",
      "Warning message:\n",
      "\"The default method for RunUMAP has changed from calling Python UMAP via reticulate to the R-native UWOT using the cosine metric\n",
      "To use Python UMAP via reticulate, set umap.method to 'umap-learn' and metric to 'correlation'\n",
      "This message will be shown once per session\"\n",
      "10:39:49 UMAP embedding parameters a = 0.9922 b = 1.112\n",
      "\n",
      "10:39:50 Read 7371 rows and found 20 numeric columns\n",
      "\n",
      "10:39:50 Using Annoy for neighbor search, n_neighbors = 30\n",
      "\n",
      "10:39:50 Building Annoy index with metric = cosine, n_trees = 50\n",
      "\n",
      "0%   10   20   30   40   50   60   70   80   90   100%\n",
      "\n",
      "[----|----|----|----|----|----|----|----|----|----|\n",
      "\n",
      "*\n",
      "*\n",
      "*\n",
      "*\n",
      "*\n",
      "*\n",
      "*\n",
      "*\n",
      "*\n",
      "*\n",
      "*\n",
      "*\n",
      "*\n",
      "*\n",
      "*\n",
      "*\n",
      "*\n",
      "*\n",
      "*\n",
      "*\n",
      "*\n",
      "*\n",
      "*\n",
      "*\n",
      "*\n",
      "*\n",
      "*\n",
      "*\n",
      "*\n",
      "*\n",
      "*\n",
      "*\n",
      "*\n",
      "*\n",
      "*\n",
      "*\n",
      "*\n",
      "*\n",
      "*\n",
      "*\n",
      "*\n",
      "*\n",
      "*\n",
      "*\n",
      "*\n",
      "*\n",
      "*\n",
      "*\n",
      "*\n",
      "*\n",
      "|\n",
      "\n",
      "10:39:51 Writing NN index file to temp file /tmp/RtmpHxzdbB/fileccb8508b39db\n",
      "\n",
      "10:39:51 Searching Annoy index using 1 thread, search_k = 3000\n",
      "\n",
      "10:39:53 Annoy recall = 100%\n",
      "\n",
      "10:39:55 Commencing smooth kNN distance calibration using 1 thread\n",
      "\n",
      "10:39:58 Initializing from normalized Laplacian + noise\n",
      "\n",
      "10:39:59 Commencing optimization for 500 epochs, with 296084 positive edges\n",
      "\n",
      "10:40:27 Optimization finished\n",
      "\n",
      "Warning message:\n",
      "\"The following arguments are not used: dims1, dims2, dims3, dims4, dims5, dims6, dims7, dims8, dims9, dims10, dims11, dims12, dims13, dims14, dims15, dims16, dims17, dims18, dims19, dims20\"\n",
      "Warning message:\n",
      "\"The following arguments are not used: dims1, dims2, dims3, dims4, dims5, dims6, dims7, dims8, dims9, dims10, dims11, dims12, dims13, dims14, dims15, dims16, dims17, dims18, dims19, dims20\"\n",
      "Computing nearest neighbor graph\n",
      "\n",
      "Computing SNN\n",
      "\n"
     ]
    },
    {
     "name": "stdout",
     "output_type": "stream",
     "text": [
      "Modularity Optimizer version 1.3.0 by Ludo Waltman and Nees Jan van Eck\n",
      "\n",
      "Number of nodes: 7371\n",
      "Number of edges: 208837\n",
      "\n",
      "Running Louvain algorithm...\n",
      "Maximum modularity in 10 random starts: 0.9084\n",
      "Number of communities: 20\n",
      "Elapsed time: 0 seconds\n"
     ]
    },
    {
     "name": "stderr",
     "output_type": "stream",
     "text": [
      "Identify cluster specific peaks ...\n",
      "\n"
     ]
    }
   ],
   "source": [
    "pbmc.ATAC.res_10x <- ATACRunSeurat(inputMat = rds_10x,\n",
    "                                 project = \"rds_10x\",\n",
    "                                 min.c = 10,\n",
    "                                 min.p = 100,\n",
    "                                 method = \"LSI\",\n",
    "                                 dims.use = 1:20,\n",
    "                                 cluster.res = 0.8,\n",
    "                                 only.pos = TRUE,\n",
    "                                 peaks.test.use = \"presto\",\n",
    "                                 peaks.cutoff = 1e-05,\n",
    "                                 peaks.pct = 0.1,\n",
    "                                 peaks.logfc = 0.2,\n",
    "                                 outdir = './')"
   ]
  },
  {
   "cell_type": "code",
   "execution_count": 11,
   "id": "approved-following",
   "metadata": {},
   "outputs": [
    {
     "name": "stderr",
     "output_type": "stream",
     "text": [
      "Warning message:\n",
      "\"Feature names cannot have underscores ('_'), replacing with dashes ('-')\"\n",
      "LSI analysis ...\n",
      "\n",
      "Performing TF-IDF normalization\n",
      "\n",
      "Running SVD\n",
      "\n",
      "Scaling cell embeddings\n",
      "\n",
      "UMAP analysis ...\n",
      "\n",
      "10:42:05 UMAP embedding parameters a = 0.9922 b = 1.112\n",
      "\n",
      "10:42:05 Read 7609 rows and found 20 numeric columns\n",
      "\n",
      "10:42:05 Using Annoy for neighbor search, n_neighbors = 30\n",
      "\n",
      "10:42:05 Building Annoy index with metric = cosine, n_trees = 50\n",
      "\n",
      "0%   10   20   30   40   50   60   70   80   90   100%\n",
      "\n",
      "[----|----|----|----|----|----|----|----|----|----|\n",
      "\n",
      "*\n",
      "*\n",
      "*\n",
      "*\n",
      "*\n",
      "*\n",
      "*\n",
      "*\n",
      "*\n",
      "*\n",
      "*\n",
      "*\n",
      "*\n",
      "*\n",
      "*\n",
      "*\n",
      "*\n",
      "*\n",
      "*\n",
      "*\n",
      "*\n",
      "*\n",
      "*\n",
      "*\n",
      "*\n",
      "*\n",
      "*\n",
      "*\n",
      "*\n",
      "*\n",
      "*\n",
      "*\n",
      "*\n",
      "*\n",
      "*\n",
      "*\n",
      "*\n",
      "*\n",
      "*\n",
      "*\n",
      "*\n",
      "*\n",
      "*\n",
      "*\n",
      "*\n",
      "*\n",
      "*\n",
      "*\n",
      "*\n",
      "*\n",
      "|\n",
      "\n",
      "10:42:06 Writing NN index file to temp file /tmp/RtmpHxzdbB/fileccb86b2eed71\n",
      "\n",
      "10:42:06 Searching Annoy index using 1 thread, search_k = 3000\n",
      "\n",
      "10:42:09 Annoy recall = 100%\n",
      "\n",
      "10:42:10 Commencing smooth kNN distance calibration using 1 thread\n",
      "\n",
      "10:42:13 Initializing from normalized Laplacian + noise\n",
      "\n",
      "10:42:14 Commencing optimization for 500 epochs, with 309116 positive edges\n",
      "\n",
      "10:42:43 Optimization finished\n",
      "\n",
      "Warning message:\n",
      "\"The following arguments are not used: dims1, dims2, dims3, dims4, dims5, dims6, dims7, dims8, dims9, dims10, dims11, dims12, dims13, dims14, dims15, dims16, dims17, dims18, dims19, dims20\"\n",
      "Warning message:\n",
      "\"The following arguments are not used: dims1, dims2, dims3, dims4, dims5, dims6, dims7, dims8, dims9, dims10, dims11, dims12, dims13, dims14, dims15, dims16, dims17, dims18, dims19, dims20\"\n",
      "Computing nearest neighbor graph\n",
      "\n",
      "Computing SNN\n",
      "\n"
     ]
    },
    {
     "name": "stdout",
     "output_type": "stream",
     "text": [
      "Modularity Optimizer version 1.3.0 by Ludo Waltman and Nees Jan van Eck\n",
      "\n",
      "Number of nodes: 7609\n",
      "Number of edges: 220151\n",
      "\n",
      "Running Louvain algorithm...\n",
      "Maximum modularity in 10 random starts: 0.9060\n",
      "Number of communities: 19\n",
      "Elapsed time: 0 seconds\n"
     ]
    },
    {
     "name": "stderr",
     "output_type": "stream",
     "text": [
      "Identify cluster specific peaks ...\n",
      "\n"
     ]
    }
   ],
   "source": [
    "pbmc.ATAC.res_sgr <- ATACRunSeurat(inputMat = rds_sgr,\n",
    "                                 project = \"rds_sgr\",\n",
    "                                 min.c = 10,\n",
    "                                 min.p = 100,\n",
    "                                 method = \"LSI\",\n",
    "                                 dims.use = 1:20,\n",
    "                                 cluster.res = 0.8,\n",
    "                                 only.pos = TRUE,\n",
    "                                 peaks.test.use = \"presto\",\n",
    "                                 peaks.cutoff = 1e-05,\n",
    "                                 peaks.pct = 0.1,\n",
    "                                 peaks.logfc = 0.2,\n",
    "                                 outdir = './')"
   ]
  },
  {
   "cell_type": "code",
   "execution_count": 14,
   "id": "ignored-mirror",
   "metadata": {},
   "outputs": [],
   "source": [
    "saveRDS(pbmc.ATAC.res_10x, \"./temp.rds\")"
   ]
  },
  {
   "cell_type": "code",
   "execution_count": 15,
   "id": "shaped-socket",
   "metadata": {},
   "outputs": [],
   "source": [
    "saveRDS(pbmc.ATAC.res_sgr, \"./temp1.rds\")"
   ]
  },
  {
   "cell_type": "code",
   "execution_count": null,
   "id": "editorial-validity",
   "metadata": {},
   "outputs": [],
   "source": [
    "# merge 10x and sgr\n",
    "library(harmony)\n",
    "library(Seurat)\n",
    "library(Signac)"
   ]
  },
  {
   "cell_type": "code",
   "execution_count": null,
   "id": "another-statement",
   "metadata": {},
   "outputs": [],
   "source": [
    "#rds = readRDS(\"/SGRNJ06/randd/USER/cjj/celedev/atac/MAESTRO/test/20231109sgr_mouse_cutoff/A0920_3_ME_YSPB_WX_D_T7_EDTA5030//02.atac//Result/Analysis/A0920_3_ME_YSPB_WX_D_T7_EDTA5030//A0920_3_ME_YSPB_WX_D_T7_EDTA5030_scATAC_Object.rds\")\n",
    "rds = readRDS(\"temp1.rds\")"
   ]
  },
  {
   "cell_type": "code",
   "execution_count": null,
   "id": "surrounded-airport",
   "metadata": {},
   "outputs": [],
   "source": [
    "rds1 = readRDS(\"temp.rds\")\n",
    "#rds1 = readRDS(\"/SGRNJ06/randd/USER/cjj/celedev/atac/20231115merge_10x10x/A0920_3_ME_YSPB_WX_D_T7_EDTA5030_outdir/mouse.rds\")"
   ]
  },
  {
   "cell_type": "code",
   "execution_count": null,
   "id": "qualified-scenario",
   "metadata": {},
   "outputs": [],
   "source": [
    "rds$ATAC"
   ]
  },
  {
   "cell_type": "code",
   "execution_count": null,
   "id": "wrapped-clone",
   "metadata": {},
   "outputs": [],
   "source": [
    "rds1"
   ]
  },
  {
   "cell_type": "code",
   "execution_count": null,
   "id": "classical-gilbert",
   "metadata": {},
   "outputs": [],
   "source": [
    "combined <- merge(rds$ATAC, y = rds1, add.cell.ids = c(\"sgr\", \"tenx\"), project = \"mouse\")"
   ]
  },
  {
   "cell_type": "code",
   "execution_count": null,
   "id": "waiting-terrace",
   "metadata": {},
   "outputs": [],
   "source": [
    "head(combined)"
   ]
  },
  {
   "cell_type": "code",
   "execution_count": null,
   "id": "rocky-easter",
   "metadata": {},
   "outputs": [],
   "source": [
    "combined@meta.data"
   ]
  },
  {
   "cell_type": "code",
   "execution_count": null,
   "id": "middle-sending",
   "metadata": {},
   "outputs": [],
   "source": [
    "combined@meta.data$sample = (sapply(X = strsplit(colnames(combined), split = \"_\"), FUN = \"[\", 1))"
   ]
  },
  {
   "cell_type": "code",
   "execution_count": null,
   "id": "talented-interference",
   "metadata": {},
   "outputs": [],
   "source": [
    "PRO <-  NormalizeData(object = combined)\n",
    "PRO <-  ScaleData(object = PRO)\n",
    "PRO <- FindVariableFeatures(object = PRO)\n",
    "genes.use<- head(HVFInfo(object = PRO),2000)\n",
    "PRO <- RunPCA(object=PRO,features = VariableFeatures(object = PRO))\n",
    "PRO <- RunHarmony(PRO,group.by=\"sample\" , plot_convergence = TRUE)\n",
    "PRO <- FindNeighbors(PRO, reduction = \"harmony\", dims = 1:20)\n",
    "PRO <- FindClusters(PRO,resolution = 0.8, algorithm = 1)\n",
    "PRO <- RunUMAP(PRO, reduction = \"harmony\", dims = 1:20)\n",
    "PRO <- RunTSNE(object=PRO,reduction = \"harmony\",dims.use=1:20,do.fast=TRUE,check_duplicates = FALSE)"
   ]
  },
  {
   "cell_type": "code",
   "execution_count": null,
   "id": "going-jamaica",
   "metadata": {},
   "outputs": [],
   "source": [
    "DimPlot(object = PRO, reduction = \"umap\",label = TRUE, group.by = \"sample\")"
   ]
  },
  {
   "cell_type": "code",
   "execution_count": null,
   "id": "large-auction",
   "metadata": {},
   "outputs": [],
   "source": [
    "DimPlot(object = PRO, reduction = \"umap\",label = TRUE, group.by = \"seurat_clusters\")"
   ]
  },
  {
   "cell_type": "code",
   "execution_count": null,
   "id": "measured-sixth",
   "metadata": {},
   "outputs": [],
   "source": [
    "library(stringr)"
   ]
  },
  {
   "cell_type": "code",
   "execution_count": null,
   "id": "obvious-cyprus",
   "metadata": {},
   "outputs": [],
   "source": [
    "outP1 = stringr::str_glue(\"/SGRNJ06/randd/USER/cjj/celedev/atac/20231115merge_10xsgr/sample.png\")\n",
    "png(outP1, height=1000, width=1000)\n",
    "TSNEPlot(PRO,group.by='sample',label=TRUE)\n",
    "dev.off()"
   ]
  },
  {
   "cell_type": "code",
   "execution_count": null,
   "id": "horizontal-carpet",
   "metadata": {},
   "outputs": [],
   "source": [
    "outP1 = stringr::str_glue(\"/SGRNJ06/randd/USER/cjj/celedev/atac/20231115merge_10xsgr/cluster.png\")\n",
    "png(outP1, height=1000, width=1000)\n",
    "TSNEPlot(PRO,group.by='seurat_clusters',label=TRUE)\n",
    "dev.off()"
   ]
  },
  {
   "cell_type": "code",
   "execution_count": null,
   "id": "comfortable-handbook",
   "metadata": {},
   "outputs": [],
   "source": []
  },
  {
   "cell_type": "code",
   "execution_count": null,
   "id": "affecting-outdoors",
   "metadata": {},
   "outputs": [],
   "source": [
    "# merge 10x and 10x"
   ]
  },
  {
   "cell_type": "code",
   "execution_count": null,
   "id": "loved-carry",
   "metadata": {},
   "outputs": [],
   "source": [
    "library(MAESTRO)\n",
    "library(Seurat)\n",
    "library(Signac)"
   ]
  },
  {
   "cell_type": "code",
   "execution_count": null,
   "id": "fiscal-underground",
   "metadata": {},
   "outputs": [],
   "source": [
    "rds = \"/SGRNJ06/randd/PROJECT/scATAC/20230925_959595_H_EM_sc/A0920_4_ME_YSPB_WX_R_T7_EDTA5030/03.atac/A0920_4_ME_YSPB_WX_R_T7_EDTA5030/outs/filtered_peak_bc_matrix.h5\""
   ]
  },
  {
   "cell_type": "code",
   "execution_count": null,
   "id": "sustainable-rates",
   "metadata": {},
   "outputs": [],
   "source": [
    "rds1 = \"/SGRNJ06/randd/PROJECT/scATAC/20230925_959595_H_EM_sc/A0920_3_ME_YSPB_WX_D_T7_EDTA5030/03.atac/A0920_3_ME_YSPB_WX_D_T7_EDTA5030/outs/filtered_peak_bc_matrix.h5\""
   ]
  },
  {
   "cell_type": "code",
   "execution_count": null,
   "id": "engaged-desperate",
   "metadata": {},
   "outputs": [],
   "source": [
    "rds = Read10X_h5(rds)"
   ]
  },
  {
   "cell_type": "code",
   "execution_count": null,
   "id": "matched-lesbian",
   "metadata": {},
   "outputs": [],
   "source": [
    "rds1 = Read10X_h5(rds1)"
   ]
  },
  {
   "cell_type": "code",
   "execution_count": null,
   "id": "established-graphics",
   "metadata": {},
   "outputs": [],
   "source": [
    "rds <- ATACRunSeurat(inputMat = rds,\n",
    "                                 project = \"rds_10x\",\n",
    "                                 min.c = 50,\n",
    "                                 min.p = 500,\n",
    "                                 method = \"LSI\",\n",
    "                                 dims.use = 1:30,\n",
    "                                 cluster.res = 0.6,\n",
    "                                 only.pos = TRUE,\n",
    "                                 peaks.test.use = \"presto\",\n",
    "                                 peaks.cutoff = 1e-05,\n",
    "                                 peaks.pct = 0.1,\n",
    "                                 peaks.logfc = 0.2,\n",
    "                                 outdir = './')"
   ]
  },
  {
   "cell_type": "code",
   "execution_count": null,
   "id": "informed-sydney",
   "metadata": {},
   "outputs": [],
   "source": [
    "saveRDS(rds, \"./temp.rds\")"
   ]
  },
  {
   "cell_type": "code",
   "execution_count": null,
   "id": "handy-maria",
   "metadata": {},
   "outputs": [],
   "source": [
    "rds1 <- ATACRunSeurat(inputMat = rds1,\n",
    "                                 project = \"rds_10x\",\n",
    "                                 min.c = 50,\n",
    "                                 min.p = 500,\n",
    "                                 method = \"LSI\",\n",
    "                                 dims.use = 1:30,\n",
    "                                 cluster.res = 0.6,\n",
    "                                 only.pos = TRUE,\n",
    "                                 peaks.test.use = \"presto\",\n",
    "                                 peaks.cutoff = 1e-05,\n",
    "                                 peaks.pct = 0.1,\n",
    "                                 peaks.logfc = 0.2,\n",
    "                                 outdir = './')"
   ]
  },
  {
   "cell_type": "code",
   "execution_count": null,
   "id": "worthy-employment",
   "metadata": {},
   "outputs": [],
   "source": [
    "saveRDS(rds1, \"./temp1.rds\")"
   ]
  },
  {
   "cell_type": "code",
   "execution_count": null,
   "id": "delayed-newspaper",
   "metadata": {},
   "outputs": [],
   "source": [
    "library(harmony)\n",
    "library(Seurat)\n",
    "library(Signac)\n",
    "library(stringr)"
   ]
  },
  {
   "cell_type": "code",
   "execution_count": null,
   "id": "found-yeast",
   "metadata": {},
   "outputs": [],
   "source": [
    "rds = readRDS(\"temp.rds\")"
   ]
  },
  {
   "cell_type": "code",
   "execution_count": null,
   "id": "straight-julian",
   "metadata": {},
   "outputs": [],
   "source": [
    "rds1 = readRDS(\"temp1.rds\")"
   ]
  },
  {
   "cell_type": "code",
   "execution_count": null,
   "id": "closed-inquiry",
   "metadata": {},
   "outputs": [],
   "source": [
    "combined <- merge(rds$ATAC, y = rds1$ATAC, add.cell.ids = c(\"A09204\", \"A09203\"), project = \"mouse\")"
   ]
  },
  {
   "cell_type": "code",
   "execution_count": null,
   "id": "about-current",
   "metadata": {},
   "outputs": [],
   "source": [
    "head(combined)"
   ]
  },
  {
   "cell_type": "code",
   "execution_count": null,
   "id": "complex-wiring",
   "metadata": {},
   "outputs": [],
   "source": [
    "combined@meta.data"
   ]
  },
  {
   "cell_type": "code",
   "execution_count": null,
   "id": "sealed-greece",
   "metadata": {},
   "outputs": [],
   "source": [
    "combined@meta.data$sample = (sapply(X = strsplit(colnames(combined), split = \"_\"), FUN = \"[\", 1))"
   ]
  },
  {
   "cell_type": "code",
   "execution_count": null,
   "id": "nervous-aside",
   "metadata": {},
   "outputs": [],
   "source": [
    "combined@meta.data"
   ]
  },
  {
   "cell_type": "code",
   "execution_count": null,
   "id": "departmental-handle",
   "metadata": {},
   "outputs": [],
   "source": [
    "PRO <-  NormalizeData(object = combined)\n",
    "PRO <-  ScaleData(object = PRO)\n",
    "PRO <- FindVariableFeatures(object = PRO)\n",
    "genes.use<- head(HVFInfo(object = PRO),2000)\n",
    "PRO <- RunPCA(object=PRO,features = VariableFeatures(object = PRO))\n",
    "PRO <- RunHarmony(PRO,group.by=\"sample\" , plot_convergence = TRUE)\n",
    "PRO <- FindNeighbors(PRO, reduction = \"harmony\", dims = 1:20)\n",
    "PRO <- FindClusters(PRO,resolution = 0.8, algorithm = 1)\n",
    "PRO <- RunUMAP(PRO, reduction = \"harmony\", dims = 1:20)\n",
    "PRO <- RunTSNE(object=PRO,reduction = \"harmony\",dims.use=1:20,do.fast=TRUE,check_duplicates = FALSE)"
   ]
  },
  {
   "cell_type": "code",
   "execution_count": null,
   "id": "together-genealogy",
   "metadata": {},
   "outputs": [],
   "source": [
    "DimPlot(object = PRO, reduction = \"umap\",label = TRUE, group.by = \"sample\")"
   ]
  },
  {
   "cell_type": "code",
   "execution_count": null,
   "id": "objective-dollar",
   "metadata": {},
   "outputs": [],
   "source": [
    "DimPlot(object = PRO, reduction = \"umap\",label = TRUE, group.by = \"seurat_clusters\")"
   ]
  },
  {
   "cell_type": "code",
   "execution_count": null,
   "id": "taken-bailey",
   "metadata": {},
   "outputs": [],
   "source": [
    "outP1 = stringr::str_glue(\"/SGRNJ06/randd/USER/cjj/celedev/atac/20231115merge_10xsgr/sample.png\")\n",
    "png(outP1, height=1000, width=1000)\n",
    "TSNEPlot(PRO,group.by='sample',label=TRUE)\n",
    "dev.off()"
   ]
  },
  {
   "cell_type": "code",
   "execution_count": null,
   "id": "pending-priority",
   "metadata": {},
   "outputs": [],
   "source": [
    "outP1 = stringr::str_glue(\"/SGRNJ06/randd/USER/cjj/celedev/atac/20231115merge_10xsgr/sample.png\")\n",
    "png(outP1, height=1000, width=1000)\n",
    "TSNEPlot(PRO,group.by='sample',label=TRUE)\n",
    "dev.off()"
   ]
  },
  {
   "cell_type": "code",
   "execution_count": null,
   "id": "buried-softball",
   "metadata": {},
   "outputs": [],
   "source": []
  },
  {
   "cell_type": "code",
   "execution_count": null,
   "id": "consolidated-cause",
   "metadata": {},
   "outputs": [],
   "source": [
    "# merge 10x and 10x\n",
    "library(harmony)\n",
    "library(Seurat)\n",
    "library(Signac)"
   ]
  },
  {
   "cell_type": "code",
   "execution_count": null,
   "id": "electric-standard",
   "metadata": {},
   "outputs": [],
   "source": [
    "rds = readRDS(\"/SGRNJ06/randd/USER/cjj/celedev/atac/20231115merge_10x10x//A0920_4_ME_YSPB_WX_R_T7_EDTA5030_outdir/mouse.rds\")\n",
    "rds1 = readRDS(\"/SGRNJ06/randd/USER/cjj/celedev/atac/20231115merge_10x10x/A0920_3_ME_YSPB_WX_D_T7_EDTA5030_outdir/mouse.rds\")\n",
    "combined <- merge(rds, y = c(rds1), add.cell.ids = c(\"A09204\", \"A09203\"), project = \"mouse\")\n",
    "unique(sapply(X = strsplit(colnames(combined), split = \"_\"), FUN = \"[\", 1))\n",
    "combined@meta.data$sample = (sapply(X = strsplit(colnames(combined), split = \"_\"), FUN = \"[\", 1))"
   ]
  },
  {
   "cell_type": "code",
   "execution_count": null,
   "id": "improved-african",
   "metadata": {},
   "outputs": [],
   "source": [
    "PRO <-  NormalizeData(object = combined)\n",
    "PRO <-  ScaleData(object = PRO)\n",
    "PRO <- FindVariableFeatures(object = PRO)\n",
    "genes.use<- head(HVFInfo(object = PRO),2000)\n",
    "PRO <- RunPCA(object=PRO,features = VariableFeatures(object = PRO))\n",
    "PRO <- RunHarmony(PRO,group.by=\"sample\" , plot_convergence = TRUE)\n",
    "PRO <- FindNeighbors(PRO, reduction = \"harmony\", dims = 1:20)\n",
    "PRO <- FindClusters(PRO,resolution = 0.8, algorithm = 1)\n",
    "PRO <- RunUMAP(PRO, reduction = \"harmony\", dims = 1:20)\n",
    "PRO <- RunTSNE(object=PRO,reduction = \"harmony\",dims.use=1:20,do.fast=TRUE,check_duplicates = FALSE)"
   ]
  },
  {
   "cell_type": "code",
   "execution_count": null,
   "id": "confidential-secondary",
   "metadata": {},
   "outputs": [],
   "source": [
    "DimPlot(object = PRO, reduction = \"umap\", label = TRUE, group.by = \"sample\")"
   ]
  },
  {
   "cell_type": "code",
   "execution_count": null,
   "id": "imported-matrix",
   "metadata": {},
   "outputs": [],
   "source": [
    "head(PRO@meta.data)"
   ]
  },
  {
   "cell_type": "code",
   "execution_count": null,
   "id": "martial-titanium",
   "metadata": {},
   "outputs": [],
   "source": [
    "outP1 = stringr::str_glue(\"/SGRNJ06/randd/USER/cjj/celedev/atac/20231115merge_10x10x/sample.png\")\n",
    "png(outP1, height=1000, width=1000)\n",
    "UMAPPlot(PRO,group.by='sample',label=TRUE)\n",
    "dev.off()"
   ]
  },
  {
   "cell_type": "code",
   "execution_count": null,
   "id": "entitled-treatment",
   "metadata": {},
   "outputs": [],
   "source": [
    "outP1 = stringr::str_glue(\"/SGRNJ06/randd/USER/cjj/celedev/atac/20231115merge_10x10x/cluster.png\")\n",
    "png(outP1, height=1000, width=1000)\n",
    "UMAPPlot(PRO,group.by='seurat_clusters',label=TRUE)\n",
    "dev.off()"
   ]
  },
  {
   "cell_type": "code",
   "execution_count": null,
   "id": "terminal-swimming",
   "metadata": {},
   "outputs": [],
   "source": []
  },
  {
   "cell_type": "code",
   "execution_count": null,
   "id": "naked-terrain",
   "metadata": {},
   "outputs": [],
   "source": [
    "df <- Read10X_h5(\"/SGRNJ06/randd/USER/cjj/celedev/atac/MAESTRO/test/20231109sgr_mouse_cutoff/A0920_3_ME_YSPB_WX_D_T7_EDTA5030/02.atac/Result/QC/A0920_3_ME_YSPB_WX_D_T7_EDTA5030/A0920_3_ME_YSPB_WX_D_T7_EDTA5030_filtered_peak_count.h5\")"
   ]
  },
  {
   "cell_type": "code",
   "execution_count": null,
   "id": "virtual-equipment",
   "metadata": {},
   "outputs": [],
   "source": [
    "df <- as.data.frame(colSums(df))"
   ]
  },
  {
   "cell_type": "code",
   "execution_count": null,
   "id": "specific-controversy",
   "metadata": {},
   "outputs": [],
   "source": [
    "df"
   ]
  },
  {
   "cell_type": "code",
   "execution_count": null,
   "id": "known-thinking",
   "metadata": {},
   "outputs": [],
   "source": [
    "df$barcode <- rownames(df)"
   ]
  },
  {
   "cell_type": "code",
   "execution_count": null,
   "id": "prerequisite-burlington",
   "metadata": {},
   "outputs": [],
   "source": [
    "df"
   ]
  },
  {
   "cell_type": "code",
   "execution_count": null,
   "id": "declared-tension",
   "metadata": {},
   "outputs": [],
   "source": [
    "df = df[,c(2,1)]\n",
    "colnames(df) <- c(\"barcode\", \"peak_count\")"
   ]
  },
  {
   "cell_type": "code",
   "execution_count": null,
   "id": "existing-steel",
   "metadata": {},
   "outputs": [],
   "source": [
    "df"
   ]
  },
  {
   "cell_type": "code",
   "execution_count": null,
   "id": "enormous-independence",
   "metadata": {},
   "outputs": [],
   "source": [
    "median(df$peak_count)"
   ]
  },
  {
   "cell_type": "code",
   "execution_count": null,
   "id": "presidential-discount",
   "metadata": {},
   "outputs": [],
   "source": [
    "sort(df$peak_count)"
   ]
  },
  {
   "cell_type": "code",
   "execution_count": null,
   "id": "actual-perth",
   "metadata": {},
   "outputs": [],
   "source": []
  },
  {
   "cell_type": "code",
   "execution_count": null,
   "id": "disturbed-chess",
   "metadata": {},
   "outputs": [],
   "source": []
  },
  {
   "cell_type": "code",
   "execution_count": null,
   "id": "younger-flesh",
   "metadata": {},
   "outputs": [],
   "source": []
  },
  {
   "cell_type": "code",
   "execution_count": null,
   "id": "qualified-mitchell",
   "metadata": {},
   "outputs": [],
   "source": [
    "    library(Signac)\n",
    "    library(Seurat)\n",
    "    library(EnsDb.Hsapiens.v75)\n",
    "    library(EnsDb.Mmusculus.v79)\n",
    "    library(tidyverse)\n",
    "    library(SingleR)\n",
    "    library(argparser)"
   ]
  },
  {
   "cell_type": "code",
   "execution_count": null,
   "id": "promising-eight",
   "metadata": {},
   "outputs": [],
   "source": [
    "peak_mtx <- Read10X_h5(\"/SGRNJ06/randd/USER/cjj/celedev/atac/MAESTRO/test/20231109sgr_mouse_cutoff/A0920_3_ME_YSPB_WX_D_T7_EDTA5030/02.atac/Result/QC/A0920_3_ME_YSPB_WX_D_T7_EDTA5030/A0920_3_ME_YSPB_WX_D_T7_EDTA5030_filtered_peak_count.h5\")\n",
    "fragments <- \"/SGRNJ06/randd/USER/cjj/celedev/atac/MAESTRO/test/20231109sgr_mouse_cutoff/A0920_3_ME_YSPB_WX_D_T7_EDTA5030/02.atac/Result/Mapping/A0920_3_ME_YSPB_WX_D_T7_EDTA5030/fragments_corrected_dedup_count.tsv.gz\"\n",
    "metadata <-  \"/SGRNJ06/randd/USER/cjj/celedev/atac/MAESTRO/test/20231109sgr_mouse_cutoff/A0920_3_ME_YSPB_WX_D_T7_EDTA5030/02.atac/Result/Analysis/A0920_3_ME_YSPB_WX_D_T7_EDTA5030//cell_qc_metrics.tsv\""
   ]
  },
  {
   "cell_type": "code",
   "execution_count": null,
   "id": "subsequent-general",
   "metadata": {},
   "outputs": [],
   "source": [
    "peak_mtx"
   ]
  },
  {
   "cell_type": "code",
   "execution_count": null,
   "id": "dated-spanish",
   "metadata": {},
   "outputs": [],
   "source": [
    "        data <- peak_mtx\n",
    "        genome <- \"hg19\"\n",
    "        # extract gene annotations from EnsDb\n",
    "        annotations <- GetGRangesFromEnsDb(ensdb = EnsDb.Hsapiens.v75, verbose = F)\n",
    "        # change to UCSC style since the data was mapped to hg19\n",
    "        seqlevels(annotations) <- paste0(chr_anno, seqlevels(annotations))\n",
    "        genome(annotations) <- \"hg19\"\n",
    "\n",
    "        # threshold\n",
    "        NS_threshold <- 4  # nucleosome_signal\n",
    "        high_TSS_threshold <- 3\n",
    "        # filter threshold\n",
    "        nCount_peaks_min_threshold <- 3000 \n",
    "        nCount_peaks_max_threshold <- 30000\n",
    "        pct_reads_in_peaks_threshold <- 15\n",
    "        blacklist_ratio_threshold <- 0.05\n",
    "        nucleosome_signal_threshold <- 4\n",
    "        TSS_enrichment_threshold <- 3"
   ]
  },
  {
   "cell_type": "code",
   "execution_count": null,
   "id": "manufactured-temperature",
   "metadata": {},
   "outputs": [],
   "source": [
    "        data <- peak_mtx\n",
    "        genome <- \"mm10\"\n",
    "        annotations <- GetGRangesFromEnsDb(ensdb = EnsDb.Mmusculus.v79, verbose = F)\n",
    "        seqlevels(annotations) <- paste0('chr', seqlevels(annotations))  ## for doublets\n",
    "        genome(annotations) <- \"mm10\"\n",
    "\n",
    "        # threshold\n",
    "        NS_threshold <- 4\n",
    "        high_TSS_threshold <- 2\n",
    "        # filter threshold\n",
    "        peak_region_fragments_min_threshold <- 3000\n",
    "        peak_region_fragments_max_threshold <- 100000\n",
    "        pct_reads_in_peaks_threshold <- 40\n",
    "        blacklist_ratio_threshold <- 0.025\n",
    "        nucleosome_signal_threshold <- 4\n",
    "        TSS_enrichment_threshold <- 2"
   ]
  },
  {
   "cell_type": "code",
   "execution_count": null,
   "id": "atmospheric-messaging",
   "metadata": {},
   "outputs": [],
   "source": [
    "data"
   ]
  },
  {
   "cell_type": "code",
   "execution_count": null,
   "id": "joined-lindsay",
   "metadata": {},
   "outputs": [],
   "source": [
    "assay <- CreateChromatinAssay(counts = data, sep = c(\":\", \"-\"), genome = genome, fragments = fragments, min.cells = 1, verbose = F)"
   ]
  },
  {
   "cell_type": "code",
   "execution_count": null,
   "id": "computational-commonwealth",
   "metadata": {},
   "outputs": [],
   "source": [
    "metadata <- read.csv(file = metadata, header = TRUE, row.names = 1)"
   ]
  },
  {
   "cell_type": "code",
   "execution_count": null,
   "id": "skilled-wesley",
   "metadata": {},
   "outputs": [],
   "source": []
  },
  {
   "cell_type": "code",
   "execution_count": null,
   "id": "fifteen-coupon",
   "metadata": {},
   "outputs": [],
   "source": []
  },
  {
   "cell_type": "code",
   "execution_count": null,
   "id": "younger-charles",
   "metadata": {},
   "outputs": [],
   "source": []
  },
  {
   "cell_type": "code",
   "execution_count": null,
   "id": "opposed-inspiration",
   "metadata": {},
   "outputs": [],
   "source": [
    "    seurat <- CreateSeuratObject(counts = assay, assay = 'peaks', project = 'ATAC', meta.data = metadata)\n",
    "    Annotation(seurat) <- annotations     # add the gene information to the object\n",
    "    seurat <- NucleosomeSignal(object = seurat, verbose = F)\n",
    "    seurat$nucleosome_signal[ is.na(seurat$nucleosome_signal) ] <- 0    # NA to 0\n",
    "    seurat$nucleosome_signal[ !is.finite(seurat$nucleosome_signal) ] <- 0   # inf to 0\n",
    "    seurat <- TSSEnrichment(seurat, fast = FALSE, verbose = F)\n",
    "    seurat$pct_reads_in_peaks <- seurat$peak_region_fragments / seurat$passed_filters * 100\n",
    "    seurat$blacklist_ratio <- seurat$blacklist_region_fragments / seurat$peak_region_fragments"
   ]
  }
 ],
 "metadata": {
  "kernelspec": {
   "display_name": "MAESTRO1",
   "language": "R",
   "name": "maestro1"
  },
  "language_info": {
   "codemirror_mode": "r",
   "file_extension": ".r",
   "mimetype": "text/x-r-source",
   "name": "R",
   "pygments_lexer": "r",
   "version": "4.0.5"
  }
 },
 "nbformat": 4,
 "nbformat_minor": 5
}
