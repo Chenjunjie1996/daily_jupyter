{
 "cells": [
  {
   "cell_type": "code",
   "execution_count": null,
   "id": "brazilian-growth",
   "metadata": {},
   "outputs": [],
   "source": [
    "pbmc.rna <- LoadData(\"pbmcMultiome\", \"pbmc.rna\")\n",
    "pbmc.atac <- LoadData(\"pbmcMultiome\", \"pbmc.atac\")"
   ]
  },
  {
   "cell_type": "code",
   "execution_count": null,
   "id": "authentic-willow",
   "metadata": {},
   "outputs": [],
   "source": [
    "library(Seurat)\n",
    "library(Signac)"
   ]
  },
  {
   "cell_type": "code",
   "execution_count": 28,
   "id": "small-savings",
   "metadata": {},
   "outputs": [],
   "source": [
    "library(SeuratData)"
   ]
  },
  {
   "cell_type": "code",
   "execution_count": 29,
   "id": "clear-metabolism",
   "metadata": {},
   "outputs": [
    {
     "name": "stderr",
     "output_type": "stream",
     "text": [
      "Using cached data manifest, last updated at 2023-11-08 14:18:24.360565\n",
      "\n"
     ]
    },
    {
     "ename": "ERROR",
     "evalue": "Error: No access to remote SeuratData repository, unable to install new datasets\n",
     "output_type": "error",
     "traceback": [
      "Error: No access to remote SeuratData repository, unable to install new datasets\nTraceback:\n",
      "1. InstallData(\"pbmcMultiome\")",
      "2. stop(\"No access to remote SeuratData repository, unable to install new datasets\", \n .     call. = FALSE)"
     ]
    }
   ],
   "source": [
    "InstallData(\"pbmcMultiome\")"
   ]
  },
  {
   "cell_type": "code",
   "execution_count": 5,
   "id": "protected-clause",
   "metadata": {},
   "outputs": [
    {
     "data": {
      "text/html": [
       "<table class=\"dataframe\">\n",
       "<caption>A data.frame: 24 × 14</caption>\n",
       "<thead>\n",
       "\t<tr><th></th><th scope=col>Dataset</th><th scope=col>Version</th><th scope=col>Summary</th><th scope=col>species</th><th scope=col>system</th><th scope=col>ncells</th><th scope=col>tech</th><th scope=col>seurat</th><th scope=col>default.dataset</th><th scope=col>disk.datasets</th><th scope=col>other.datasets</th><th scope=col>notes</th><th scope=col>Installed</th><th scope=col>InstalledVersion</th></tr>\n",
       "\t<tr><th></th><th scope=col>&lt;chr&gt;</th><th scope=col>&lt;pckg_vrs&gt;</th><th scope=col>&lt;chr&gt;</th><th scope=col>&lt;chr&gt;</th><th scope=col>&lt;chr&gt;</th><th scope=col>&lt;dbl&gt;</th><th scope=col>&lt;chr&gt;</th><th scope=col>&lt;chr&gt;</th><th scope=col>&lt;chr&gt;</th><th scope=col>&lt;chr&gt;</th><th scope=col>&lt;chr&gt;</th><th scope=col>&lt;chr&gt;</th><th scope=col>&lt;lgl&gt;</th><th scope=col>&lt;pckg_vrs&gt;</th></tr>\n",
       "</thead>\n",
       "<tbody>\n",
       "\t<tr><th scope=row>adiposeref.SeuratData</th><td>adiposeref     </td><td>1.0.0</td><td>Azimuth Reference: adipose                                    </td><td>human     </td><td>adipose          </td><td>160075</td><td>scRNA-seq and sNuc-seq                                         </td><td>NA   </td><td>NA </td><td>NA       </td><td>NA                                          </td><td>NA                                                                       </td><td>FALSE</td><td>NA</td></tr>\n",
       "\t<tr><th scope=row>bmcite.SeuratData</th><td>bmcite         </td><td>0.3.0</td><td>30k Bone Marrow Cells                                         </td><td>human     </td><td>bone marrow      </td><td> 30672</td><td>NA                                                             </td><td>3.2.2</td><td>NA </td><td>NA       </td><td>NA                                          </td><td>NA                                                                       </td><td>FALSE</td><td>NA</td></tr>\n",
       "\t<tr><th scope=row>bonemarrowref.SeuratData</th><td>bonemarrowref  </td><td>1.0.0</td><td>Azimuth Reference: bonemarrow                                 </td><td>human     </td><td>bonemarrow       </td><td>297627</td><td>10x v2                                                         </td><td>NA   </td><td>NA </td><td>NA       </td><td>NA                                          </td><td>NA                                                                       </td><td>FALSE</td><td>NA</td></tr>\n",
       "\t<tr><th scope=row>cbmc.SeuratData</th><td>cbmc           </td><td>3.1.4</td><td>scRNAseq and 13-antibody sequencing of CBMCs                  </td><td>human     </td><td>CBMC (cord blood)</td><td>  8617</td><td>CITE-seq                                                       </td><td>3.1.4</td><td>raw</td><td>processed</td><td>NA                                          </td><td>NA                                                                       </td><td>FALSE</td><td>NA</td></tr>\n",
       "\t<tr><th scope=row>celegans.embryo.SeuratData</th><td>celegans.embryo</td><td>0.1.0</td><td>6k C. elegans embryos from Packer and Zhu et al (2019)        </td><td>C. elegans</td><td>embryo           </td><td>  6188</td><td>NA                                                             </td><td>NA   </td><td>raw</td><td>NA       </td><td>NA                                          </td><td>NA                                                                       </td><td>FALSE</td><td>NA</td></tr>\n",
       "\t<tr><th scope=row>fetusref.SeuratData</th><td>fetusref       </td><td>1.0.0</td><td>Azimuth Reference: fetus                                      </td><td>human     </td><td>fetus            </td><td>377456</td><td>NA                                                             </td><td>NA   </td><td>NA </td><td>NA       </td><td>NA                                          </td><td>NA                                                                       </td><td>FALSE</td><td>NA</td></tr>\n",
       "\t<tr><th scope=row>hcabm40k.SeuratData</th><td>hcabm40k       </td><td>3.0.0</td><td>40,000 Cells From the Human Cell Atlas ICA Bone Marrow Dataset</td><td>human     </td><td>bone marrow      </td><td> 40000</td><td>10x v2                                                         </td><td>NA   </td><td>raw</td><td>NA       </td><td>NA                                          </td><td>NA                                                                       </td><td>FALSE</td><td>NA</td></tr>\n",
       "\t<tr><th scope=row>heartref.SeuratData</th><td>heartref       </td><td>1.0.0</td><td>Azimuth Reference: heart                                      </td><td>human     </td><td>heart            </td><td>656509</td><td>scRNA-seq and sNuc-seq                                         </td><td>NA   </td><td>NA </td><td>NA       </td><td>NA                                          </td><td>NA                                                                       </td><td>FALSE</td><td>NA</td></tr>\n",
       "\t<tr><th scope=row>humancortexref.SeuratData</th><td>humancortexref </td><td>1.0.0</td><td>Azimuth Reference: humancortex                                </td><td>human     </td><td>motor cortex     </td><td> 76533</td><td>NA                                                             </td><td>NA   </td><td>NA </td><td>NA       </td><td>NA                                          </td><td>NA                                                                       </td><td>FALSE</td><td>NA</td></tr>\n",
       "\t<tr><th scope=row>ifnb.SeuratData</th><td>ifnb           </td><td>3.1.0</td><td>IFNB-Stimulated and Control PBMCs                             </td><td>human     </td><td>PBMC             </td><td> 13999</td><td>10x v1                                                         </td><td>NA   </td><td>raw</td><td>NA       </td><td>processed                                   </td><td>NA                                                                       </td><td>FALSE</td><td>NA</td></tr>\n",
       "\t<tr><th scope=row>kidneyref.SeuratData</th><td>kidneyref      </td><td>1.0.1</td><td>Azimuth Reference: kidney                                     </td><td>human     </td><td>kidney           </td><td> 64693</td><td>NA                                                             </td><td>NA   </td><td>NA </td><td>NA       </td><td>NA                                          </td><td>NA                                                                       </td><td>FALSE</td><td>NA</td></tr>\n",
       "\t<tr><th scope=row>lungref.SeuratData</th><td>lungref        </td><td>2.0.0</td><td>Azimuth Reference: lung                                       </td><td>human     </td><td>lung             </td><td>584884</td><td>NA                                                             </td><td>NA   </td><td>NA </td><td>NA       </td><td>NA                                          </td><td>NA                                                                       </td><td>FALSE</td><td>NA</td></tr>\n",
       "\t<tr><th scope=row>mousecortexref.SeuratData</th><td>mousecortexref </td><td>1.0.0</td><td>Azimuth Reference: mousecortex                                </td><td>mouse     </td><td>motor cortex     </td><td>159738</td><td>10x v3                                                         </td><td>NA   </td><td>NA </td><td>NA       </td><td>NA                                          </td><td>NA                                                                       </td><td>FALSE</td><td>NA</td></tr>\n",
       "\t<tr><th scope=row>panc8.SeuratData</th><td>panc8          </td><td>3.0.2</td><td>Eight Pancreas Datasets Across Five Technologies              </td><td>human     </td><td>Pancreatic Islets</td><td> 14892</td><td>SMARTSeq2, Fluidigm C1, CelSeq, CelSeq2, inDrops               </td><td>NA   </td><td>raw</td><td>NA       </td><td>NA                                          </td><td>NA                                                                       </td><td>FALSE</td><td>NA</td></tr>\n",
       "\t<tr><th scope=row>pancreasref.SeuratData</th><td>pancreasref    </td><td>1.0.0</td><td>Azimuth Reference: pancreas                                   </td><td>human     </td><td>pancreas         </td><td> 35289</td><td>NA                                                             </td><td>NA   </td><td>NA </td><td>NA       </td><td>NA                                          </td><td>NA                                                                       </td><td>FALSE</td><td>NA</td></tr>\n",
       "\t<tr><th scope=row>pbmc3k.SeuratData</th><td>pbmc3k         </td><td>3.1.4</td><td>3k PBMCs from 10X Genomics                                    </td><td>human     </td><td>PBMC             </td><td>  2700</td><td>10x v1                                                         </td><td>3.1.4</td><td>raw</td><td>NA       </td><td>pbmc3k.final                                </td><td>NA                                                                       </td><td>FALSE</td><td>NA</td></tr>\n",
       "\t<tr><th scope=row>pbmcMultiome.SeuratData</th><td>pbmcMultiome   </td><td>0.1.4</td><td>10X Genomics PBMC Multiome Dataset                            </td><td>human     </td><td>pbmc             </td><td> 11909</td><td>NA                                                             </td><td>4.1.1</td><td>NA </td><td>NA       </td><td>pbmc.rna, pbmc.atac                         </td><td>One sample with two modalities, RNA and ATAC                             </td><td>FALSE</td><td>NA</td></tr>\n",
       "\t<tr><th scope=row>pbmcref.SeuratData</th><td>pbmcref        </td><td>1.0.0</td><td>Azimuth Reference: pbmc                                       </td><td>human     </td><td>PBMC             </td><td>  2700</td><td>10x v1                                                         </td><td>NA   </td><td>NA </td><td>NA       </td><td>NA                                          </td><td>NA                                                                       </td><td>FALSE</td><td>NA</td></tr>\n",
       "\t<tr><th scope=row>pbmcsca.SeuratData</th><td>pbmcsca        </td><td>3.0.0</td><td>Broad Institute PBMC Systematic Comparative Analysis          </td><td>human     </td><td>PBMC             </td><td> 31021</td><td>10x v2, 10x v3, SMARTSeq2, Seq-Well, inDrops, Drop-seq, CelSeq2</td><td>NA   </td><td>raw</td><td>NA       </td><td>NA                                          </td><td>HCA benchmark                                                            </td><td>FALSE</td><td>NA</td></tr>\n",
       "\t<tr><th scope=row>ssHippo.SeuratData</th><td>ssHippo        </td><td>3.1.4</td><td>Slide-seq v2 dataset of mouse hippocampus                     </td><td>mouse     </td><td>hippocampus      </td><td>    NA</td><td>slideseq v2                                                    </td><td>NA   </td><td>raw</td><td>NA       </td><td>NA                                          </td><td>NA                                                                       </td><td>FALSE</td><td>NA</td></tr>\n",
       "\t<tr><th scope=row>stxBrain.SeuratData</th><td>stxBrain       </td><td>0.1.1</td><td>10X Genomics Visium Mouse Brain Dataset                       </td><td>mouse     </td><td>brain            </td><td> 12167</td><td>visium                                                         </td><td>NA   </td><td>NA </td><td>NA       </td><td>posterior1, posterior2, anterior1, anterior2</td><td>One sample split across four datasets as paired anterior/posterior slices</td><td>FALSE</td><td>NA</td></tr>\n",
       "\t<tr><th scope=row>stxKidney.SeuratData</th><td>stxKidney      </td><td>0.1.0</td><td>10X Genomics Visium Mouse Kidney Dataset                      </td><td>mouse     </td><td>kidney           </td><td>  1438</td><td>visium                                                         </td><td>NA   </td><td>raw</td><td>NA       </td><td>NA                                          </td><td>NA                                                                       </td><td>FALSE</td><td>NA</td></tr>\n",
       "\t<tr><th scope=row>thp1.eccite.SeuratData</th><td>thp1.eccite    </td><td>3.1.5</td><td>ECCITE-seq THP-1                                              </td><td>human     </td><td>NA               </td><td>    NA</td><td>NA                                                             </td><td>NA   </td><td>NA </td><td>NA       </td><td>NA                                          </td><td>NA                                                                       </td><td>FALSE</td><td>NA</td></tr>\n",
       "\t<tr><th scope=row>tonsilref.SeuratData</th><td>tonsilref      </td><td>1.0.0</td><td>Azimuth Reference: tonsil                                     </td><td>human     </td><td>tonsil           </td><td>263299</td><td>10x v3                                                         </td><td>NA   </td><td>NA </td><td>NA       </td><td>NA                                          </td><td>NA                                                                       </td><td>FALSE</td><td>NA</td></tr>\n",
       "</tbody>\n",
       "</table>\n"
      ],
      "text/latex": [
       "A data.frame: 24 × 14\n",
       "\\begin{tabular}{r|llllllllllllll}\n",
       "  & Dataset & Version & Summary & species & system & ncells & tech & seurat & default.dataset & disk.datasets & other.datasets & notes & Installed & InstalledVersion\\\\\n",
       "  & <chr> & <pckg\\_vrs> & <chr> & <chr> & <chr> & <dbl> & <chr> & <chr> & <chr> & <chr> & <chr> & <chr> & <lgl> & <pckg\\_vrs>\\\\\n",
       "\\hline\n",
       "\tadiposeref.SeuratData & adiposeref      & 1.0.0 & Azimuth Reference: adipose                                     & human      & adipose           & 160075 & scRNA-seq and sNuc-seq                                          & NA    & NA  & NA        & NA                                           & NA                                                                        & FALSE & NA\\\\\n",
       "\tbmcite.SeuratData & bmcite          & 0.3.0 & 30k Bone Marrow Cells                                          & human      & bone marrow       &  30672 & NA                                                              & 3.2.2 & NA  & NA        & NA                                           & NA                                                                        & FALSE & NA\\\\\n",
       "\tbonemarrowref.SeuratData & bonemarrowref   & 1.0.0 & Azimuth Reference: bonemarrow                                  & human      & bonemarrow        & 297627 & 10x v2                                                          & NA    & NA  & NA        & NA                                           & NA                                                                        & FALSE & NA\\\\\n",
       "\tcbmc.SeuratData & cbmc            & 3.1.4 & scRNAseq and 13-antibody sequencing of CBMCs                   & human      & CBMC (cord blood) &   8617 & CITE-seq                                                        & 3.1.4 & raw & processed & NA                                           & NA                                                                        & FALSE & NA\\\\\n",
       "\tcelegans.embryo.SeuratData & celegans.embryo & 0.1.0 & 6k C. elegans embryos from Packer and Zhu et al (2019)         & C. elegans & embryo            &   6188 & NA                                                              & NA    & raw & NA        & NA                                           & NA                                                                        & FALSE & NA\\\\\n",
       "\tfetusref.SeuratData & fetusref        & 1.0.0 & Azimuth Reference: fetus                                       & human      & fetus             & 377456 & NA                                                              & NA    & NA  & NA        & NA                                           & NA                                                                        & FALSE & NA\\\\\n",
       "\thcabm40k.SeuratData & hcabm40k        & 3.0.0 & 40,000 Cells From the Human Cell Atlas ICA Bone Marrow Dataset & human      & bone marrow       &  40000 & 10x v2                                                          & NA    & raw & NA        & NA                                           & NA                                                                        & FALSE & NA\\\\\n",
       "\theartref.SeuratData & heartref        & 1.0.0 & Azimuth Reference: heart                                       & human      & heart             & 656509 & scRNA-seq and sNuc-seq                                          & NA    & NA  & NA        & NA                                           & NA                                                                        & FALSE & NA\\\\\n",
       "\thumancortexref.SeuratData & humancortexref  & 1.0.0 & Azimuth Reference: humancortex                                 & human      & motor cortex      &  76533 & NA                                                              & NA    & NA  & NA        & NA                                           & NA                                                                        & FALSE & NA\\\\\n",
       "\tifnb.SeuratData & ifnb            & 3.1.0 & IFNB-Stimulated and Control PBMCs                              & human      & PBMC              &  13999 & 10x v1                                                          & NA    & raw & NA        & processed                                    & NA                                                                        & FALSE & NA\\\\\n",
       "\tkidneyref.SeuratData & kidneyref       & 1.0.1 & Azimuth Reference: kidney                                      & human      & kidney            &  64693 & NA                                                              & NA    & NA  & NA        & NA                                           & NA                                                                        & FALSE & NA\\\\\n",
       "\tlungref.SeuratData & lungref         & 2.0.0 & Azimuth Reference: lung                                        & human      & lung              & 584884 & NA                                                              & NA    & NA  & NA        & NA                                           & NA                                                                        & FALSE & NA\\\\\n",
       "\tmousecortexref.SeuratData & mousecortexref  & 1.0.0 & Azimuth Reference: mousecortex                                 & mouse      & motor cortex      & 159738 & 10x v3                                                          & NA    & NA  & NA        & NA                                           & NA                                                                        & FALSE & NA\\\\\n",
       "\tpanc8.SeuratData & panc8           & 3.0.2 & Eight Pancreas Datasets Across Five Technologies               & human      & Pancreatic Islets &  14892 & SMARTSeq2, Fluidigm C1, CelSeq, CelSeq2, inDrops                & NA    & raw & NA        & NA                                           & NA                                                                        & FALSE & NA\\\\\n",
       "\tpancreasref.SeuratData & pancreasref     & 1.0.0 & Azimuth Reference: pancreas                                    & human      & pancreas          &  35289 & NA                                                              & NA    & NA  & NA        & NA                                           & NA                                                                        & FALSE & NA\\\\\n",
       "\tpbmc3k.SeuratData & pbmc3k          & 3.1.4 & 3k PBMCs from 10X Genomics                                     & human      & PBMC              &   2700 & 10x v1                                                          & 3.1.4 & raw & NA        & pbmc3k.final                                 & NA                                                                        & FALSE & NA\\\\\n",
       "\tpbmcMultiome.SeuratData & pbmcMultiome    & 0.1.4 & 10X Genomics PBMC Multiome Dataset                             & human      & pbmc              &  11909 & NA                                                              & 4.1.1 & NA  & NA        & pbmc.rna, pbmc.atac                          & One sample with two modalities, RNA and ATAC                              & FALSE & NA\\\\\n",
       "\tpbmcref.SeuratData & pbmcref         & 1.0.0 & Azimuth Reference: pbmc                                        & human      & PBMC              &   2700 & 10x v1                                                          & NA    & NA  & NA        & NA                                           & NA                                                                        & FALSE & NA\\\\\n",
       "\tpbmcsca.SeuratData & pbmcsca         & 3.0.0 & Broad Institute PBMC Systematic Comparative Analysis           & human      & PBMC              &  31021 & 10x v2, 10x v3, SMARTSeq2, Seq-Well, inDrops, Drop-seq, CelSeq2 & NA    & raw & NA        & NA                                           & HCA benchmark                                                             & FALSE & NA\\\\\n",
       "\tssHippo.SeuratData & ssHippo         & 3.1.4 & Slide-seq v2 dataset of mouse hippocampus                      & mouse      & hippocampus       &     NA & slideseq v2                                                     & NA    & raw & NA        & NA                                           & NA                                                                        & FALSE & NA\\\\\n",
       "\tstxBrain.SeuratData & stxBrain        & 0.1.1 & 10X Genomics Visium Mouse Brain Dataset                        & mouse      & brain             &  12167 & visium                                                          & NA    & NA  & NA        & posterior1, posterior2, anterior1, anterior2 & One sample split across four datasets as paired anterior/posterior slices & FALSE & NA\\\\\n",
       "\tstxKidney.SeuratData & stxKidney       & 0.1.0 & 10X Genomics Visium Mouse Kidney Dataset                       & mouse      & kidney            &   1438 & visium                                                          & NA    & raw & NA        & NA                                           & NA                                                                        & FALSE & NA\\\\\n",
       "\tthp1.eccite.SeuratData & thp1.eccite     & 3.1.5 & ECCITE-seq THP-1                                               & human      & NA                &     NA & NA                                                              & NA    & NA  & NA        & NA                                           & NA                                                                        & FALSE & NA\\\\\n",
       "\ttonsilref.SeuratData & tonsilref       & 1.0.0 & Azimuth Reference: tonsil                                      & human      & tonsil            & 263299 & 10x v3                                                          & NA    & NA  & NA        & NA                                           & NA                                                                        & FALSE & NA\\\\\n",
       "\\end{tabular}\n"
      ],
      "text/markdown": [
       "\n",
       "A data.frame: 24 × 14\n",
       "\n",
       "| <!--/--> | Dataset &lt;chr&gt; | Version &lt;pckg_vrs&gt; | Summary &lt;chr&gt; | species &lt;chr&gt; | system &lt;chr&gt; | ncells &lt;dbl&gt; | tech &lt;chr&gt; | seurat &lt;chr&gt; | default.dataset &lt;chr&gt; | disk.datasets &lt;chr&gt; | other.datasets &lt;chr&gt; | notes &lt;chr&gt; | Installed &lt;lgl&gt; | InstalledVersion &lt;pckg_vrs&gt; |\n",
       "|---|---|---|---|---|---|---|---|---|---|---|---|---|---|---|\n",
       "| adiposeref.SeuratData | adiposeref      | 1.0.0 | Azimuth Reference: adipose                                     | human      | adipose           | 160075 | scRNA-seq and sNuc-seq                                          | NA    | NA  | NA        | NA                                           | NA                                                                        | FALSE | NA |\n",
       "| bmcite.SeuratData | bmcite          | 0.3.0 | 30k Bone Marrow Cells                                          | human      | bone marrow       |  30672 | NA                                                              | 3.2.2 | NA  | NA        | NA                                           | NA                                                                        | FALSE | NA |\n",
       "| bonemarrowref.SeuratData | bonemarrowref   | 1.0.0 | Azimuth Reference: bonemarrow                                  | human      | bonemarrow        | 297627 | 10x v2                                                          | NA    | NA  | NA        | NA                                           | NA                                                                        | FALSE | NA |\n",
       "| cbmc.SeuratData | cbmc            | 3.1.4 | scRNAseq and 13-antibody sequencing of CBMCs                   | human      | CBMC (cord blood) |   8617 | CITE-seq                                                        | 3.1.4 | raw | processed | NA                                           | NA                                                                        | FALSE | NA |\n",
       "| celegans.embryo.SeuratData | celegans.embryo | 0.1.0 | 6k C. elegans embryos from Packer and Zhu et al (2019)         | C. elegans | embryo            |   6188 | NA                                                              | NA    | raw | NA        | NA                                           | NA                                                                        | FALSE | NA |\n",
       "| fetusref.SeuratData | fetusref        | 1.0.0 | Azimuth Reference: fetus                                       | human      | fetus             | 377456 | NA                                                              | NA    | NA  | NA        | NA                                           | NA                                                                        | FALSE | NA |\n",
       "| hcabm40k.SeuratData | hcabm40k        | 3.0.0 | 40,000 Cells From the Human Cell Atlas ICA Bone Marrow Dataset | human      | bone marrow       |  40000 | 10x v2                                                          | NA    | raw | NA        | NA                                           | NA                                                                        | FALSE | NA |\n",
       "| heartref.SeuratData | heartref        | 1.0.0 | Azimuth Reference: heart                                       | human      | heart             | 656509 | scRNA-seq and sNuc-seq                                          | NA    | NA  | NA        | NA                                           | NA                                                                        | FALSE | NA |\n",
       "| humancortexref.SeuratData | humancortexref  | 1.0.0 | Azimuth Reference: humancortex                                 | human      | motor cortex      |  76533 | NA                                                              | NA    | NA  | NA        | NA                                           | NA                                                                        | FALSE | NA |\n",
       "| ifnb.SeuratData | ifnb            | 3.1.0 | IFNB-Stimulated and Control PBMCs                              | human      | PBMC              |  13999 | 10x v1                                                          | NA    | raw | NA        | processed                                    | NA                                                                        | FALSE | NA |\n",
       "| kidneyref.SeuratData | kidneyref       | 1.0.1 | Azimuth Reference: kidney                                      | human      | kidney            |  64693 | NA                                                              | NA    | NA  | NA        | NA                                           | NA                                                                        | FALSE | NA |\n",
       "| lungref.SeuratData | lungref         | 2.0.0 | Azimuth Reference: lung                                        | human      | lung              | 584884 | NA                                                              | NA    | NA  | NA        | NA                                           | NA                                                                        | FALSE | NA |\n",
       "| mousecortexref.SeuratData | mousecortexref  | 1.0.0 | Azimuth Reference: mousecortex                                 | mouse      | motor cortex      | 159738 | 10x v3                                                          | NA    | NA  | NA        | NA                                           | NA                                                                        | FALSE | NA |\n",
       "| panc8.SeuratData | panc8           | 3.0.2 | Eight Pancreas Datasets Across Five Technologies               | human      | Pancreatic Islets |  14892 | SMARTSeq2, Fluidigm C1, CelSeq, CelSeq2, inDrops                | NA    | raw | NA        | NA                                           | NA                                                                        | FALSE | NA |\n",
       "| pancreasref.SeuratData | pancreasref     | 1.0.0 | Azimuth Reference: pancreas                                    | human      | pancreas          |  35289 | NA                                                              | NA    | NA  | NA        | NA                                           | NA                                                                        | FALSE | NA |\n",
       "| pbmc3k.SeuratData | pbmc3k          | 3.1.4 | 3k PBMCs from 10X Genomics                                     | human      | PBMC              |   2700 | 10x v1                                                          | 3.1.4 | raw | NA        | pbmc3k.final                                 | NA                                                                        | FALSE | NA |\n",
       "| pbmcMultiome.SeuratData | pbmcMultiome    | 0.1.4 | 10X Genomics PBMC Multiome Dataset                             | human      | pbmc              |  11909 | NA                                                              | 4.1.1 | NA  | NA        | pbmc.rna, pbmc.atac                          | One sample with two modalities, RNA and ATAC                              | FALSE | NA |\n",
       "| pbmcref.SeuratData | pbmcref         | 1.0.0 | Azimuth Reference: pbmc                                        | human      | PBMC              |   2700 | 10x v1                                                          | NA    | NA  | NA        | NA                                           | NA                                                                        | FALSE | NA |\n",
       "| pbmcsca.SeuratData | pbmcsca         | 3.0.0 | Broad Institute PBMC Systematic Comparative Analysis           | human      | PBMC              |  31021 | 10x v2, 10x v3, SMARTSeq2, Seq-Well, inDrops, Drop-seq, CelSeq2 | NA    | raw | NA        | NA                                           | HCA benchmark                                                             | FALSE | NA |\n",
       "| ssHippo.SeuratData | ssHippo         | 3.1.4 | Slide-seq v2 dataset of mouse hippocampus                      | mouse      | hippocampus       |     NA | slideseq v2                                                     | NA    | raw | NA        | NA                                           | NA                                                                        | FALSE | NA |\n",
       "| stxBrain.SeuratData | stxBrain        | 0.1.1 | 10X Genomics Visium Mouse Brain Dataset                        | mouse      | brain             |  12167 | visium                                                          | NA    | NA  | NA        | posterior1, posterior2, anterior1, anterior2 | One sample split across four datasets as paired anterior/posterior slices | FALSE | NA |\n",
       "| stxKidney.SeuratData | stxKidney       | 0.1.0 | 10X Genomics Visium Mouse Kidney Dataset                       | mouse      | kidney            |   1438 | visium                                                          | NA    | raw | NA        | NA                                           | NA                                                                        | FALSE | NA |\n",
       "| thp1.eccite.SeuratData | thp1.eccite     | 3.1.5 | ECCITE-seq THP-1                                               | human      | NA                |     NA | NA                                                              | NA    | NA  | NA        | NA                                           | NA                                                                        | FALSE | NA |\n",
       "| tonsilref.SeuratData | tonsilref       | 1.0.0 | Azimuth Reference: tonsil                                      | human      | tonsil            | 263299 | 10x v3                                                          | NA    | NA  | NA        | NA                                           | NA                                                                        | FALSE | NA |\n",
       "\n"
      ],
      "text/plain": [
       "                           Dataset         Version\n",
       "adiposeref.SeuratData      adiposeref      1.0.0  \n",
       "bmcite.SeuratData          bmcite          0.3.0  \n",
       "bonemarrowref.SeuratData   bonemarrowref   1.0.0  \n",
       "cbmc.SeuratData            cbmc            3.1.4  \n",
       "celegans.embryo.SeuratData celegans.embryo 0.1.0  \n",
       "fetusref.SeuratData        fetusref        1.0.0  \n",
       "hcabm40k.SeuratData        hcabm40k        3.0.0  \n",
       "heartref.SeuratData        heartref        1.0.0  \n",
       "humancortexref.SeuratData  humancortexref  1.0.0  \n",
       "ifnb.SeuratData            ifnb            3.1.0  \n",
       "kidneyref.SeuratData       kidneyref       1.0.1  \n",
       "lungref.SeuratData         lungref         2.0.0  \n",
       "mousecortexref.SeuratData  mousecortexref  1.0.0  \n",
       "panc8.SeuratData           panc8           3.0.2  \n",
       "pancreasref.SeuratData     pancreasref     1.0.0  \n",
       "pbmc3k.SeuratData          pbmc3k          3.1.4  \n",
       "pbmcMultiome.SeuratData    pbmcMultiome    0.1.4  \n",
       "pbmcref.SeuratData         pbmcref         1.0.0  \n",
       "pbmcsca.SeuratData         pbmcsca         3.0.0  \n",
       "ssHippo.SeuratData         ssHippo         3.1.4  \n",
       "stxBrain.SeuratData        stxBrain        0.1.1  \n",
       "stxKidney.SeuratData       stxKidney       0.1.0  \n",
       "thp1.eccite.SeuratData     thp1.eccite     3.1.5  \n",
       "tonsilref.SeuratData       tonsilref       1.0.0  \n",
       "                           Summary                                                       \n",
       "adiposeref.SeuratData      Azimuth Reference: adipose                                    \n",
       "bmcite.SeuratData          30k Bone Marrow Cells                                         \n",
       "bonemarrowref.SeuratData   Azimuth Reference: bonemarrow                                 \n",
       "cbmc.SeuratData            scRNAseq and 13-antibody sequencing of CBMCs                  \n",
       "celegans.embryo.SeuratData 6k C. elegans embryos from Packer and Zhu et al (2019)        \n",
       "fetusref.SeuratData        Azimuth Reference: fetus                                      \n",
       "hcabm40k.SeuratData        40,000 Cells From the Human Cell Atlas ICA Bone Marrow Dataset\n",
       "heartref.SeuratData        Azimuth Reference: heart                                      \n",
       "humancortexref.SeuratData  Azimuth Reference: humancortex                                \n",
       "ifnb.SeuratData            IFNB-Stimulated and Control PBMCs                             \n",
       "kidneyref.SeuratData       Azimuth Reference: kidney                                     \n",
       "lungref.SeuratData         Azimuth Reference: lung                                       \n",
       "mousecortexref.SeuratData  Azimuth Reference: mousecortex                                \n",
       "panc8.SeuratData           Eight Pancreas Datasets Across Five Technologies              \n",
       "pancreasref.SeuratData     Azimuth Reference: pancreas                                   \n",
       "pbmc3k.SeuratData          3k PBMCs from 10X Genomics                                    \n",
       "pbmcMultiome.SeuratData    10X Genomics PBMC Multiome Dataset                            \n",
       "pbmcref.SeuratData         Azimuth Reference: pbmc                                       \n",
       "pbmcsca.SeuratData         Broad Institute PBMC Systematic Comparative Analysis          \n",
       "ssHippo.SeuratData         Slide-seq v2 dataset of mouse hippocampus                     \n",
       "stxBrain.SeuratData        10X Genomics Visium Mouse Brain Dataset                       \n",
       "stxKidney.SeuratData       10X Genomics Visium Mouse Kidney Dataset                      \n",
       "thp1.eccite.SeuratData     ECCITE-seq THP-1                                              \n",
       "tonsilref.SeuratData       Azimuth Reference: tonsil                                     \n",
       "                           species    system            ncells\n",
       "adiposeref.SeuratData      human      adipose           160075\n",
       "bmcite.SeuratData          human      bone marrow        30672\n",
       "bonemarrowref.SeuratData   human      bonemarrow        297627\n",
       "cbmc.SeuratData            human      CBMC (cord blood)   8617\n",
       "celegans.embryo.SeuratData C. elegans embryo              6188\n",
       "fetusref.SeuratData        human      fetus             377456\n",
       "hcabm40k.SeuratData        human      bone marrow        40000\n",
       "heartref.SeuratData        human      heart             656509\n",
       "humancortexref.SeuratData  human      motor cortex       76533\n",
       "ifnb.SeuratData            human      PBMC               13999\n",
       "kidneyref.SeuratData       human      kidney             64693\n",
       "lungref.SeuratData         human      lung              584884\n",
       "mousecortexref.SeuratData  mouse      motor cortex      159738\n",
       "panc8.SeuratData           human      Pancreatic Islets  14892\n",
       "pancreasref.SeuratData     human      pancreas           35289\n",
       "pbmc3k.SeuratData          human      PBMC                2700\n",
       "pbmcMultiome.SeuratData    human      pbmc               11909\n",
       "pbmcref.SeuratData         human      PBMC                2700\n",
       "pbmcsca.SeuratData         human      PBMC               31021\n",
       "ssHippo.SeuratData         mouse      hippocampus           NA\n",
       "stxBrain.SeuratData        mouse      brain              12167\n",
       "stxKidney.SeuratData       mouse      kidney              1438\n",
       "thp1.eccite.SeuratData     human      NA                    NA\n",
       "tonsilref.SeuratData       human      tonsil            263299\n",
       "                           tech                                                           \n",
       "adiposeref.SeuratData      scRNA-seq and sNuc-seq                                         \n",
       "bmcite.SeuratData          NA                                                             \n",
       "bonemarrowref.SeuratData   10x v2                                                         \n",
       "cbmc.SeuratData            CITE-seq                                                       \n",
       "celegans.embryo.SeuratData NA                                                             \n",
       "fetusref.SeuratData        NA                                                             \n",
       "hcabm40k.SeuratData        10x v2                                                         \n",
       "heartref.SeuratData        scRNA-seq and sNuc-seq                                         \n",
       "humancortexref.SeuratData  NA                                                             \n",
       "ifnb.SeuratData            10x v1                                                         \n",
       "kidneyref.SeuratData       NA                                                             \n",
       "lungref.SeuratData         NA                                                             \n",
       "mousecortexref.SeuratData  10x v3                                                         \n",
       "panc8.SeuratData           SMARTSeq2, Fluidigm C1, CelSeq, CelSeq2, inDrops               \n",
       "pancreasref.SeuratData     NA                                                             \n",
       "pbmc3k.SeuratData          10x v1                                                         \n",
       "pbmcMultiome.SeuratData    NA                                                             \n",
       "pbmcref.SeuratData         10x v1                                                         \n",
       "pbmcsca.SeuratData         10x v2, 10x v3, SMARTSeq2, Seq-Well, inDrops, Drop-seq, CelSeq2\n",
       "ssHippo.SeuratData         slideseq v2                                                    \n",
       "stxBrain.SeuratData        visium                                                         \n",
       "stxKidney.SeuratData       visium                                                         \n",
       "thp1.eccite.SeuratData     NA                                                             \n",
       "tonsilref.SeuratData       10x v3                                                         \n",
       "                           seurat default.dataset disk.datasets\n",
       "adiposeref.SeuratData      NA     NA              NA           \n",
       "bmcite.SeuratData          3.2.2  NA              NA           \n",
       "bonemarrowref.SeuratData   NA     NA              NA           \n",
       "cbmc.SeuratData            3.1.4  raw             processed    \n",
       "celegans.embryo.SeuratData NA     raw             NA           \n",
       "fetusref.SeuratData        NA     NA              NA           \n",
       "hcabm40k.SeuratData        NA     raw             NA           \n",
       "heartref.SeuratData        NA     NA              NA           \n",
       "humancortexref.SeuratData  NA     NA              NA           \n",
       "ifnb.SeuratData            NA     raw             NA           \n",
       "kidneyref.SeuratData       NA     NA              NA           \n",
       "lungref.SeuratData         NA     NA              NA           \n",
       "mousecortexref.SeuratData  NA     NA              NA           \n",
       "panc8.SeuratData           NA     raw             NA           \n",
       "pancreasref.SeuratData     NA     NA              NA           \n",
       "pbmc3k.SeuratData          3.1.4  raw             NA           \n",
       "pbmcMultiome.SeuratData    4.1.1  NA              NA           \n",
       "pbmcref.SeuratData         NA     NA              NA           \n",
       "pbmcsca.SeuratData         NA     raw             NA           \n",
       "ssHippo.SeuratData         NA     raw             NA           \n",
       "stxBrain.SeuratData        NA     NA              NA           \n",
       "stxKidney.SeuratData       NA     raw             NA           \n",
       "thp1.eccite.SeuratData     NA     NA              NA           \n",
       "tonsilref.SeuratData       NA     NA              NA           \n",
       "                           other.datasets                              \n",
       "adiposeref.SeuratData      NA                                          \n",
       "bmcite.SeuratData          NA                                          \n",
       "bonemarrowref.SeuratData   NA                                          \n",
       "cbmc.SeuratData            NA                                          \n",
       "celegans.embryo.SeuratData NA                                          \n",
       "fetusref.SeuratData        NA                                          \n",
       "hcabm40k.SeuratData        NA                                          \n",
       "heartref.SeuratData        NA                                          \n",
       "humancortexref.SeuratData  NA                                          \n",
       "ifnb.SeuratData            processed                                   \n",
       "kidneyref.SeuratData       NA                                          \n",
       "lungref.SeuratData         NA                                          \n",
       "mousecortexref.SeuratData  NA                                          \n",
       "panc8.SeuratData           NA                                          \n",
       "pancreasref.SeuratData     NA                                          \n",
       "pbmc3k.SeuratData          pbmc3k.final                                \n",
       "pbmcMultiome.SeuratData    pbmc.rna, pbmc.atac                         \n",
       "pbmcref.SeuratData         NA                                          \n",
       "pbmcsca.SeuratData         NA                                          \n",
       "ssHippo.SeuratData         NA                                          \n",
       "stxBrain.SeuratData        posterior1, posterior2, anterior1, anterior2\n",
       "stxKidney.SeuratData       NA                                          \n",
       "thp1.eccite.SeuratData     NA                                          \n",
       "tonsilref.SeuratData       NA                                          \n",
       "                           notes                                                                    \n",
       "adiposeref.SeuratData      NA                                                                       \n",
       "bmcite.SeuratData          NA                                                                       \n",
       "bonemarrowref.SeuratData   NA                                                                       \n",
       "cbmc.SeuratData            NA                                                                       \n",
       "celegans.embryo.SeuratData NA                                                                       \n",
       "fetusref.SeuratData        NA                                                                       \n",
       "hcabm40k.SeuratData        NA                                                                       \n",
       "heartref.SeuratData        NA                                                                       \n",
       "humancortexref.SeuratData  NA                                                                       \n",
       "ifnb.SeuratData            NA                                                                       \n",
       "kidneyref.SeuratData       NA                                                                       \n",
       "lungref.SeuratData         NA                                                                       \n",
       "mousecortexref.SeuratData  NA                                                                       \n",
       "panc8.SeuratData           NA                                                                       \n",
       "pancreasref.SeuratData     NA                                                                       \n",
       "pbmc3k.SeuratData          NA                                                                       \n",
       "pbmcMultiome.SeuratData    One sample with two modalities, RNA and ATAC                             \n",
       "pbmcref.SeuratData         NA                                                                       \n",
       "pbmcsca.SeuratData         HCA benchmark                                                            \n",
       "ssHippo.SeuratData         NA                                                                       \n",
       "stxBrain.SeuratData        One sample split across four datasets as paired anterior/posterior slices\n",
       "stxKidney.SeuratData       NA                                                                       \n",
       "thp1.eccite.SeuratData     NA                                                                       \n",
       "tonsilref.SeuratData       NA                                                                       \n",
       "                           Installed InstalledVersion\n",
       "adiposeref.SeuratData      FALSE     <NA>            \n",
       "bmcite.SeuratData          FALSE     <NA>            \n",
       "bonemarrowref.SeuratData   FALSE     <NA>            \n",
       "cbmc.SeuratData            FALSE     <NA>            \n",
       "celegans.embryo.SeuratData FALSE     <NA>            \n",
       "fetusref.SeuratData        FALSE     <NA>            \n",
       "hcabm40k.SeuratData        FALSE     <NA>            \n",
       "heartref.SeuratData        FALSE     <NA>            \n",
       "humancortexref.SeuratData  FALSE     <NA>            \n",
       "ifnb.SeuratData            FALSE     <NA>            \n",
       "kidneyref.SeuratData       FALSE     <NA>            \n",
       "lungref.SeuratData         FALSE     <NA>            \n",
       "mousecortexref.SeuratData  FALSE     <NA>            \n",
       "panc8.SeuratData           FALSE     <NA>            \n",
       "pancreasref.SeuratData     FALSE     <NA>            \n",
       "pbmc3k.SeuratData          FALSE     <NA>            \n",
       "pbmcMultiome.SeuratData    FALSE     <NA>            \n",
       "pbmcref.SeuratData         FALSE     <NA>            \n",
       "pbmcsca.SeuratData         FALSE     <NA>            \n",
       "ssHippo.SeuratData         FALSE     <NA>            \n",
       "stxBrain.SeuratData        FALSE     <NA>            \n",
       "stxKidney.SeuratData       FALSE     <NA>            \n",
       "thp1.eccite.SeuratData     FALSE     <NA>            \n",
       "tonsilref.SeuratData       FALSE     <NA>            "
      ]
     },
     "metadata": {},
     "output_type": "display_data"
    }
   ],
   "source": [
    "AvailableData()"
   ]
  },
  {
   "cell_type": "code",
   "execution_count": 21,
   "id": "developmental-relevance",
   "metadata": {},
   "outputs": [],
   "source": [
    "install.packages(\"pbmcMultiome\", repos=\"http://seurat.nygenome.org/\", type = \"source\")"
   ]
  },
  {
   "cell_type": "code",
   "execution_count": 27,
   "id": "decimal-train",
   "metadata": {},
   "outputs": [
    {
     "ename": "ERROR",
     "evalue": "Error in library(pbmcMultiome.SeuratData): there is no package called ‘pbmcMultiome.SeuratData’\n",
     "output_type": "error",
     "traceback": [
      "Error in library(pbmcMultiome.SeuratData): there is no package called ‘pbmcMultiome.SeuratData’\nTraceback:\n",
      "1. library(pbmcMultiome.SeuratData)"
     ]
    }
   ],
   "source": [
    "library(pbmcMultiome.SeuratData)"
   ]
  },
  {
   "cell_type": "code",
   "execution_count": 12,
   "id": "vanilla-panel",
   "metadata": {},
   "outputs": [
    {
     "ename": "ERROR",
     "evalue": "Error: Cannot find dataset pbmcMultiome\n",
     "output_type": "error",
     "traceback": [
      "Error: Cannot find dataset pbmcMultiome\nTraceback:\n",
      "1. LoadData(\"pbmcMultiome\", \"pbmc.rna\")",
      "2. stop(\"Cannot find dataset \", ds, call. = FALSE)"
     ]
    }
   ],
   "source": [
    "pbmc.rna <- LoadData(\"pbmcMultiome\", \"pbmc.rna\")\n",
    "pbmc.atac <- LoadData(\"pbmcMultiome\", \"pbmc.atac\")"
   ]
  },
  {
   "cell_type": "code",
   "execution_count": 15,
   "id": "working-yahoo",
   "metadata": {},
   "outputs": [
    {
     "data": {
      "text/plain": [
       "R Information\n",
       "\n",
       "Help files with alias or concept or title matching ‘LoadData’ using\n",
       "fuzzy matching:\n",
       "\n",
       "\n",
       "pkgload::load_data      Load data.\n",
       "  Aliases: load_data\n",
       "SeuratData::LoadData    Modularly load a dataset\n",
       "  Aliases: LoadData\n",
       "\n",
       "\n",
       "Type '?PKG::FOO' to inspect entries 'PKG::FOO', or 'TYPE?PKG::FOO' for\n",
       "entries like 'PKG::FOO-TYPE'.\n",
       "\n",
       "\n"
      ]
     },
     "metadata": {},
     "output_type": "display_data"
    }
   ],
   "source": [
    "??LoadData"
   ]
  },
  {
   "cell_type": "code",
   "execution_count": 32,
   "id": "normal-fountain",
   "metadata": {},
   "outputs": [
    {
     "ename": "ERROR",
     "evalue": "Error in eval(expr, envir, enclos): object 'pbmcMultiome' not found\n",
     "output_type": "error",
     "traceback": [
      "Error in eval(expr, envir, enclos): object 'pbmcMultiome' not found\nTraceback:\n",
      "1. citation(pbmcMultiome)",
      "2. system.file(package = package, lib.loc = lib.loc)"
     ]
    }
   ],
   "source": [
    "citation(pbmcMultiome)"
   ]
  },
  {
   "cell_type": "code",
   "execution_count": null,
   "id": "higher-robinson",
   "metadata": {},
   "outputs": [],
   "source": []
  }
 ],
 "metadata": {
  "kernelspec": {
   "display_name": "CJJR5",
   "language": "R",
   "name": "cjjr5"
  },
  "language_info": {
   "codemirror_mode": "r",
   "file_extension": ".r",
   "mimetype": "text/x-r-source",
   "name": "R",
   "pygments_lexer": "r",
   "version": "4.3.2"
  }
 },
 "nbformat": 4,
 "nbformat_minor": 5
}
