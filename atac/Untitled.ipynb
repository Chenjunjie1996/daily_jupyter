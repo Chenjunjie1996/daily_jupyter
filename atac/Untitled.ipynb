{
 "cells": [
  {
   "cell_type": "code",
   "execution_count": null,
   "id": "official-struggle",
   "metadata": {},
   "outputs": [],
   "source": [
    "library(Signac)\n",
    "library(Seurat)\n",
    "library(EnsDb.Mmusculus.v79)\n",
    "library(ggplot2)\n",
    "library(patchwork)"
   ]
  },
  {
   "cell_type": "code",
   "execution_count": null,
   "id": "paperback-channels",
   "metadata": {},
   "outputs": [],
   "source": [
    "counts <- Read10X_h5(\"/SGRNJ06/randd/PROJECT/scATAC/self_pipe/mouse/A1008_2_MM_YSPB_WX_D_T7_EDTA5030/outs/A1008_2_MM_YSPB_WX_D_T7_EDTA5030_filtered_peak_count.h5\")\n",
    "metadata <- read.csv(\n",
    "  file = \"/SGRNJ06/randd/PROJECT/scATAC/self_pipe/mouse/A1008_2_MM_YSPB_WX_D_T7_EDTA5030/outs/cell_qc_metrics.tsv\",\n",
    "  header = TRUE,\n",
    "  row.names = 1,\n",
    "  sep='\\t'\n",
    ")\n",
    "brain_assay <- CreateChromatinAssay(\n",
    "  counts = counts,\n",
    "  sep = c(\"_\", \"_\"),\n",
    "  genome = \"mm10\",\n",
    "  fragments = '/SGRNJ06/randd/PROJECT/scATAC/self_pipe/mouse/A1008_2_MM_YSPB_WX_D_T7_EDTA5030/02.atac/Result/Mapping/A1008_2_MM_YSPB_WX_D_T7_EDTA5030//fragments_corrected_dedup_count.tsv.gz',\n",
    "  min.cells = 1\n",
    ")"
   ]
  },
  {
   "cell_type": "code",
   "execution_count": null,
   "id": "maritime-fleece",
   "metadata": {},
   "outputs": [],
   "source": [
    "brain <- CreateSeuratObject(\n",
    "  counts = brain_assay,\n",
    "  assay = 'peaks',\n",
    "  project = 'ATAC',\n",
    "  meta.data = metadata\n",
    ")"
   ]
  },
  {
   "cell_type": "code",
   "execution_count": null,
   "id": "criminal-symbol",
   "metadata": {},
   "outputs": [],
   "source": [
    "annotations <- GetGRangesFromEnsDb(ensdb = EnsDb.Mmusculus.v79)\n",
    "\n",
    "# change to UCSC style since the data was mapped to hg19\n",
    "seqlevels(annotations) <- paste0('chr', seqlevels(annotations))\n",
    "genome(annotations) <- \"mm10\"\n",
    "\n",
    "# add the gene information to the object\n",
    "Annotation(brain) <- annotations"
   ]
  },
  {
   "cell_type": "code",
   "execution_count": null,
   "id": "central-happening",
   "metadata": {},
   "outputs": [],
   "source": [
    "brain = TSSEnrichment(brain, fast = FALSE)"
   ]
  },
  {
   "cell_type": "code",
   "execution_count": null,
   "id": "curious-helen",
   "metadata": {},
   "outputs": [],
   "source": [
    "brain$TSS.enrichment"
   ]
  },
  {
   "cell_type": "code",
   "execution_count": null,
   "id": "headed-spotlight",
   "metadata": {},
   "outputs": [],
   "source": [
    "brain <- RunTFIDF(brain)\n",
    "brain <- FindTopFeatures(brain, min.cutoff = 'q0')\n",
    "brain <- RunSVD(object = brain)"
   ]
  },
  {
   "cell_type": "code",
   "execution_count": null,
   "id": "naval-aviation",
   "metadata": {},
   "outputs": [],
   "source": [
    "brain <- RunUMAP(\n",
    "  object = brain,\n",
    "  reduction = 'lsi',\n",
    "  dims = 2:30\n",
    ")\n",
    "brain <- FindNeighbors(\n",
    "  object = brain,\n",
    "  reduction = 'lsi',\n",
    "  dims = 2:30\n",
    ")\n",
    "brain <- FindClusters(\n",
    "  object = brain,\n",
    "  algorithm = 3,\n",
    "  resolution = 1.2,\n",
    "  verbose = FALSE\n",
    ")\n",
    "\n",
    "DimPlot(object = brain, label = TRUE) + NoLegend()"
   ]
  },
  {
   "cell_type": "code",
   "execution_count": null,
   "id": "determined-thesaurus",
   "metadata": {},
   "outputs": [],
   "source": [
    "# compute gene activities\n",
    "gene.activities <- GeneActivity(brain)\n",
    "\n",
    "# add the gene activity matrix to the Seurat object as a new assay\n",
    "brain[['RNA']] <- CreateAssayObject(counts = gene.activities)\n",
    "brain <- NormalizeData(\n",
    "  object = brain,\n",
    "  assay = 'RNA',\n",
    "  normalization.method = 'LogNormalize',\n",
    "  scale.factor = median(brain$nCount_RNA)\n",
    ")"
   ]
  },
  {
   "cell_type": "code",
   "execution_count": null,
   "id": "surprising-forest",
   "metadata": {},
   "outputs": [],
   "source": [
    "DefaultAssay(brain) <- 'RNA'"
   ]
  },
  {
   "cell_type": "code",
   "execution_count": null,
   "id": "civilian-girlfriend",
   "metadata": {},
   "outputs": [],
   "source": [
    "saveRDS(brain, \"/SGRNJ06/randd/USER/cjj/celedev/atac/20231204scrna_atac/atac.rds\")"
   ]
  },
  {
   "cell_type": "code",
   "execution_count": null,
   "id": "promotional-jerusalem",
   "metadata": {},
   "outputs": [],
   "source": [
    "brain@assays$peaks@positionEnrichment"
   ]
  },
  {
   "cell_type": "code",
   "execution_count": null,
   "id": "adjacent-conspiracy",
   "metadata": {},
   "outputs": [],
   "source": [
    "positionEnrichment = GetAssayData(object = brain, assay = \"peaks\", \n",
    "    slot = \"positionEnrichment\")"
   ]
  },
  {
   "cell_type": "code",
   "execution_count": null,
   "id": "inclusive-region",
   "metadata": {},
   "outputs": [],
   "source": [
    "enrichment.matrix <- positionEnrichment[[\"TSS\"]]"
   ]
  },
  {
   "cell_type": "code",
   "execution_count": null,
   "id": "optimum-carroll",
   "metadata": {},
   "outputs": [],
   "source": [
    "enrichment.matrix"
   ]
  },
  {
   "cell_type": "code",
   "execution_count": null,
   "id": "blind-subcommittee",
   "metadata": {},
   "outputs": [],
   "source": []
  }
 ],
 "metadata": {
  "kernelspec": {
   "display_name": "r4.1_env",
   "language": "R",
   "name": "r4.1_env"
  },
  "language_info": {
   "codemirror_mode": "r",
   "file_extension": ".r",
   "mimetype": "text/x-r-source",
   "name": "R",
   "pygments_lexer": "r",
   "version": "4.1.1"
  }
 },
 "nbformat": 4,
 "nbformat_minor": 5
}
