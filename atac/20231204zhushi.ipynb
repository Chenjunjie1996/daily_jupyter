{
 "cells": [
  {
   "cell_type": "code",
   "execution_count": null,
   "id": "focused-spirit",
   "metadata": {},
   "outputs": [],
   "source": [
    "suppressWarnings(suppressMessages({\n",
    "    library(Signac)\n",
    "    library(Seurat)\n",
    "    library(EnsDb.Mmusculus.v79)\n",
    "    library(tidyverse)\n",
    "    library(SingleR)\n",
    "    library(EnsDb.Hsapiens.v75)\n",
    "}))"
   ]
  },
  {
   "cell_type": "code",
   "execution_count": null,
   "id": "suburban-cassette",
   "metadata": {},
   "outputs": [],
   "source": [
    "sessionInfo()"
   ]
  },
  {
   "cell_type": "code",
   "execution_count": null,
   "id": "pointed-patient",
   "metadata": {},
   "outputs": [],
   "source": [
    "rds = readRDS(\"/SGRNJ06/randd/PROJECT/scATAC/20231226_sc_snRNA_mouse_lung/A1213_2_ML_SingleCell_5ZL/zhushi/lung.diff_PRO.rds\")"
   ]
  },
  {
   "cell_type": "code",
   "execution_count": null,
   "id": "underlying-liberty",
   "metadata": {},
   "outputs": [],
   "source": [
    "head(rds)"
   ]
  },
  {
   "cell_type": "code",
   "execution_count": null,
   "id": "wanted-projector",
   "metadata": {},
   "outputs": [],
   "source": [
    "meta = rds@meta.data"
   ]
  },
  {
   "cell_type": "code",
   "execution_count": null,
   "id": "national-constitution",
   "metadata": {},
   "outputs": [],
   "source": [
    "meta$orig.ident = 'mouse_lung'"
   ]
  },
  {
   "cell_type": "code",
   "execution_count": null,
   "id": "convertible-facial",
   "metadata": {},
   "outputs": [],
   "source": [
    "head(meta)"
   ]
  },
  {
   "cell_type": "code",
   "execution_count": null,
   "id": "sensitive-victim",
   "metadata": {},
   "outputs": [],
   "source": [
    "rownames(meta) = gsub('outs_', '', rownames(meta))"
   ]
  },
  {
   "cell_type": "code",
   "execution_count": null,
   "id": "global-definition",
   "metadata": {},
   "outputs": [],
   "source": [
    "rownames(meta) = gsub('_', '', rownames(meta))"
   ]
  },
  {
   "cell_type": "code",
   "execution_count": null,
   "id": "practical-diagnosis",
   "metadata": {},
   "outputs": [],
   "source": [
    "rds@meta.data = meta"
   ]
  },
  {
   "cell_type": "code",
   "execution_count": null,
   "id": "olive-bacon",
   "metadata": {},
   "outputs": [],
   "source": [
    "head(rds)"
   ]
  },
  {
   "cell_type": "code",
   "execution_count": null,
   "id": "under-pendant",
   "metadata": {},
   "outputs": [],
   "source": [
    "UMAPPlot(rds)"
   ]
  },
  {
   "cell_type": "code",
   "execution_count": null,
   "id": "strong-brighton",
   "metadata": {},
   "outputs": [],
   "source": [
    "Idents(rds) <- \"sample\"\n",
    "rds <- subset(rds,idents = c(\"A2023-11\"))"
   ]
  },
  {
   "cell_type": "code",
   "execution_count": null,
   "id": "ultimate-slovakia",
   "metadata": {},
   "outputs": [],
   "source": [
    "# Perform standard analysis of each modality independently RNA analysis\n",
    "# Idents(rds) <- \"cluster\"\n",
    "pbmc.rna <- NormalizeData(rds)\n",
    "pbmc.rna <- FindVariableFeatures(pbmc.rna)\n",
    "pbmc.rna <- ScaleData(pbmc.rna)\n",
    "pbmc.rna <- RunPCA(pbmc.rna)\n",
    "pbmc.rna <- RunUMAP(pbmc.rna, dims = 1:30)"
   ]
  },
  {
   "cell_type": "code",
   "execution_count": null,
   "id": "concrete-arbor",
   "metadata": {},
   "outputs": [],
   "source": [
    "pbmc.rna = rds"
   ]
  },
  {
   "cell_type": "code",
   "execution_count": null,
   "id": "dominican-military",
   "metadata": {},
   "outputs": [],
   "source": [
    "UMAPPlot(pbmc.rna)"
   ]
  },
  {
   "cell_type": "code",
   "execution_count": null,
   "id": "static-blind",
   "metadata": {},
   "outputs": [],
   "source": [
    "counts <- Read10X_h5(filename = \"/SGRNJ06/randd/PROJECT/RD20102301_DZH/data_for_display/atac_dada/mouse_lung/20240109_mouse_lung_merge/A1031_mouse_lung/outs/A1031_mouse_lung_filtered_peak_count.h5\")"
   ]
  },
  {
   "cell_type": "code",
   "execution_count": null,
   "id": "registered-penetration",
   "metadata": {},
   "outputs": [],
   "source": [
    "metadata <- read.csv(\n",
    "  file = \"/SGRNJ06/randd/PROJECT/RD20102301_DZH/data_for_display/atac_dada/mouse_lung/20240109_mouse_lung_merge/A1031_mouse_lung/outs/cell_qc_metrics.tsv\",\n",
    "  header = TRUE,\n",
    "  row.names = 1,\n",
    "  sep='\\t'\n",
    ")"
   ]
  },
  {
   "cell_type": "code",
   "execution_count": null,
   "id": "creative-supplier",
   "metadata": {},
   "outputs": [],
   "source": [
    "chrom_assay <- CreateChromatinAssay(\n",
    "  counts = counts,\n",
    "  sep = c(\"_\", \"_\"),\n",
    "  fragments = '/SGRNJ06/randd/PROJECT/RD20102301_DZH/data_for_display/atac_dada/mouse_lung/20240109_mouse_lung_merge/A1031_mouse_lung//02.atac/Result/Mapping/A1031_mouse_lung//fragments_corrected_dedup_count.tsv.gz',\n",
    "  min.cells = 10,\n",
    "  min.features = 200\n",
    ")"
   ]
  },
  {
   "cell_type": "code",
   "execution_count": null,
   "id": "catholic-vinyl",
   "metadata": {},
   "outputs": [],
   "source": [
    "pbmc.atac <- CreateSeuratObject(\n",
    "  counts = chrom_assay,\n",
    "  assay = \"peaks\",\n",
    "  meta.data = metadata\n",
    ")"
   ]
  },
  {
   "cell_type": "code",
   "execution_count": null,
   "id": "horizontal-symphony",
   "metadata": {},
   "outputs": [],
   "source": [
    "# ATAC analysis add gene annotation information\n",
    "annotations <- GetGRangesFromEnsDb(ensdb = EnsDb.Hsapiens.v75)\n",
    "seqlevelsStyle(annotations) <- \"UCSC\"\n",
    "genome(annotations) <- \"hg38\"\n",
    "Annotation(pbmc.atac) <- annotations"
   ]
  },
  {
   "cell_type": "code",
   "execution_count": null,
   "id": "growing-summary",
   "metadata": {},
   "outputs": [],
   "source": [
    "# ATAC analysis add gene annotation information\n",
    "annotations <- GetGRangesFromEnsDb(ensdb = EnsDb.Mmusculus.v79)\n",
    "seqlevelsStyle(annotations) <- \"UCSC\"\n",
    "genome(annotations) <- \"mouse\"\n",
    "Annotation(pbmc.atac) <- annotations"
   ]
  },
  {
   "cell_type": "code",
   "execution_count": null,
   "id": "found-crystal",
   "metadata": {},
   "outputs": [],
   "source": [
    "# We exclude the first dimension as this is typically correlated with sequencing depth\n",
    "pbmc.atac <- RunTFIDF(pbmc.atac)\n",
    "pbmc.atac <- FindTopFeatures(pbmc.atac, min.cutoff = \"q0\")"
   ]
  },
  {
   "cell_type": "code",
   "execution_count": null,
   "id": "distinct-cornell",
   "metadata": {},
   "outputs": [],
   "source": [
    "pbmc.atac <- RunSVD(pbmc.atac) \n",
    "# pbmc.atac <- RunUMAP(pbmc.atac, reduction = \"lsi\", dims = 2:30, reduction.name = \"umap.atac\", reduction.key = \"atacUMAP_\")\n",
    "pbmc.atac <- RunUMAP(pbmc.atac, reduction = \"lsi\", dims = 1:30, reduction.name = \"umap.atac\", reduction.key = \"atacUMAP_\")"
   ]
  },
  {
   "cell_type": "code",
   "execution_count": null,
   "id": "breathing-hungarian",
   "metadata": {},
   "outputs": [],
   "source": [
    "head(pbmc.atac)"
   ]
  },
  {
   "cell_type": "code",
   "execution_count": null,
   "id": "quality-bunny",
   "metadata": {},
   "outputs": [],
   "source": [
    "head(pbmc.rna@meta.data)"
   ]
  },
  {
   "cell_type": "code",
   "execution_count": null,
   "id": "aggressive-observer",
   "metadata": {},
   "outputs": [],
   "source": [
    "p1 <- DimPlot(pbmc.rna, group.by = \"new_ident\", label = TRUE) + NoLegend() + ggtitle(\"RNA\")\n",
    "p2 <- DimPlot(pbmc.atac, group.by = \"orig.ident\", label = FALSE) + NoLegend() + ggtitle(\"ATAC\")"
   ]
  },
  {
   "cell_type": "code",
   "execution_count": null,
   "id": "continued-glenn",
   "metadata": {},
   "outputs": [],
   "source": [
    "p1 + p2"
   ]
  },
  {
   "cell_type": "code",
   "execution_count": null,
   "id": "optimum-stroke",
   "metadata": {},
   "outputs": [],
   "source": [
    "plot <- (p1 + p2) & xlab(\"UMAP 1\") & ylab(\"UMAP 2\") & theme(axis.title = element_text(size = 18))"
   ]
  },
  {
   "cell_type": "code",
   "execution_count": null,
   "id": "informed-eligibility",
   "metadata": {},
   "outputs": [],
   "source": [
    "ggsave(filename = \"/SGRNJ06/randd/USER/cjj/celedev/atac/20240119scrna_atac/atacseq_integration_vignette.jpg\", height = 7, width = 12, plot = plot,\n",
    "    quality = 50)"
   ]
  },
  {
   "cell_type": "code",
   "execution_count": null,
   "id": "adaptive-blackberry",
   "metadata": {},
   "outputs": [],
   "source": [
    "# Identifying anchors between scRNA-seq and scATAC-seq datasets"
   ]
  },
  {
   "cell_type": "code",
   "execution_count": null,
   "id": "excellent-sentence",
   "metadata": {},
   "outputs": [],
   "source": [
    "# quantify gene activity\n",
    "gene.activities <- GeneActivity(pbmc.atac, features = VariableFeatures(pbmc.rna))\n",
    "\n",
    "# add gene activities as a new assay\n",
    "pbmc.atac[[\"ACTIVITY\"]] <- CreateAssayObject(counts = gene.activities)\n",
    "\n",
    "# normalize gene activities\n",
    "DefaultAssay(pbmc.atac) <- \"ACTIVITY\"\n",
    "pbmc.atac <- NormalizeData(pbmc.atac)\n",
    "pbmc.atac <- ScaleData(pbmc.atac, features = rownames(pbmc.atac))"
   ]
  },
  {
   "cell_type": "code",
   "execution_count": null,
   "id": "southeast-walnut",
   "metadata": {},
   "outputs": [],
   "source": [
    "# Identify anchors\n",
    "transfer.anchors <- FindTransferAnchors(reference = pbmc.rna, query = pbmc.atac, features = VariableFeatures(object = pbmc.rna),\n",
    "    reference.assay = \"RNA\", query.assay = \"ACTIVITY\", reduction = \"cca\")"
   ]
  },
  {
   "cell_type": "code",
   "execution_count": null,
   "id": "controlling-corpus",
   "metadata": {},
   "outputs": [],
   "source": [
    "#head(pbmc.rna)"
   ]
  },
  {
   "cell_type": "code",
   "execution_count": null,
   "id": "blocked-tribune",
   "metadata": {},
   "outputs": [],
   "source": [
    "# Annotate scATAC-seq cells via label transfer\n",
    "celltype.predictions <- TransferData(anchorset = transfer.anchors, refdata = pbmc.rna$new_ident,\n",
    "    weight.reduction = pbmc.atac[[\"lsi\"]], dims = 2:30)"
   ]
  },
  {
   "cell_type": "code",
   "execution_count": null,
   "id": "fourth-blackjack",
   "metadata": {},
   "outputs": [],
   "source": [
    "pbmc.atac <- AddMetaData(pbmc.atac, metadata = celltype.predictions)"
   ]
  },
  {
   "cell_type": "code",
   "execution_count": null,
   "id": "mexican-leeds",
   "metadata": {},
   "outputs": [],
   "source": [
    "#head(pbmc.atac)"
   ]
  },
  {
   "cell_type": "code",
   "execution_count": null,
   "id": "featured-alexandria",
   "metadata": {},
   "outputs": [],
   "source": [
    "#celltype.predictions"
   ]
  },
  {
   "cell_type": "code",
   "execution_count": null,
   "id": "difficult-holmes",
   "metadata": {},
   "outputs": [],
   "source": [
    "# pbmc.atac$annotation_correct <- pbmc.atac$predicted.id == pbmc.atac$celltype.predictions"
   ]
  },
  {
   "cell_type": "code",
   "execution_count": null,
   "id": "patient-appeal",
   "metadata": {},
   "outputs": [],
   "source": [
    "p1 <- DimPlot(pbmc.atac, label.size=5 ,group.by = \"predicted.id\", label = TRUE)  + ggtitle(\"Predicted annotation\")"
   ]
  },
  {
   "cell_type": "code",
   "execution_count": null,
   "id": "handed-baker",
   "metadata": {},
   "outputs": [],
   "source": [
    "#p1"
   ]
  },
  {
   "cell_type": "code",
   "execution_count": null,
   "id": "laden-import",
   "metadata": {},
   "outputs": [],
   "source": [
    "head(pbmc.atac)"
   ]
  },
  {
   "cell_type": "code",
   "execution_count": null,
   "id": "vocal-publicity",
   "metadata": {},
   "outputs": [],
   "source": [
    "p2 <- DimPlot(pbmc.atac, group.by = \"orig.ident\", label = FALSE) + NoLegend() + ggtitle(\"ATAC\")"
   ]
  },
  {
   "cell_type": "code",
   "execution_count": null,
   "id": "muslim-meeting",
   "metadata": {},
   "outputs": [],
   "source": [
    "#p2"
   ]
  },
  {
   "cell_type": "code",
   "execution_count": null,
   "id": "ordinary-scottish",
   "metadata": {},
   "outputs": [],
   "source": [
    "ggsave(filename = \"/SGRNJ06/randd/USER/cjj/celedev/atac/20240119scrna_atac/predicted_celltype.pdf\", height = 7, width = 7, plot = p1)"
   ]
  },
  {
   "cell_type": "code",
   "execution_count": null,
   "id": "consecutive-hundred",
   "metadata": {},
   "outputs": [],
   "source": [
    "ggsave(filename = \"/SGRNJ06/randd/USER/cjj/celedev/atac/20240119scrna_atac/atac.pdf\", height = 7, width = 7, plot = p2)"
   ]
  },
  {
   "cell_type": "code",
   "execution_count": null,
   "id": "prime-great",
   "metadata": {},
   "outputs": [],
   "source": [
    "p1"
   ]
  },
  {
   "cell_type": "code",
   "execution_count": null,
   "id": "tested-cradle",
   "metadata": {},
   "outputs": [],
   "source": [
    "p2"
   ]
  },
  {
   "cell_type": "code",
   "execution_count": null,
   "id": "prospective-camping",
   "metadata": {},
   "outputs": [],
   "source": [
    "FeaturePlot(pbmc.rna, features = c(\"CD3D\", \"CD2\", \"TRBC2\", \"NKG7\"))"
   ]
  },
  {
   "cell_type": "code",
   "execution_count": null,
   "id": "indirect-signature",
   "metadata": {},
   "outputs": [],
   "source": [
    "FeaturePlot(pbmc.atac, features = c(\"DCN\", \"COL1A2\", \"COL1A1\", \"COL3A1\", \"PDGFRA\")) "
   ]
  },
  {
   "cell_type": "code",
   "execution_count": null,
   "id": "enormous-mustang",
   "metadata": {},
   "outputs": [],
   "source": [
    "p = FeaturePlot(pbmc.atac, features = c(\"TTN\", \"MYH7\", \"TNNT2\", \"FGF12\", \"MYOM1\"))"
   ]
  },
  {
   "cell_type": "code",
   "execution_count": null,
   "id": "through-shirt",
   "metadata": {},
   "outputs": [],
   "source": [
    "ggsave(filename = \"/SGRNJ06/randd/USER/cjj/celedev/atac/20240119scrna_atac/Cardiomyocytes.pdf\", height = 7, width = 7, plot = p)"
   ]
  },
  {
   "cell_type": "code",
   "execution_count": null,
   "id": "severe-practitioner",
   "metadata": {},
   "outputs": [],
   "source": [
    "pbmc.atac@assays$ACTIVITY"
   ]
  },
  {
   "cell_type": "code",
   "execution_count": null,
   "id": "straight-negative",
   "metadata": {},
   "outputs": [],
   "source": [
    "# note that we restrict the imputation to variable genes from scRNA-seq, but could impute the\n",
    "# full transcriptome if we wanted to\n",
    "genes.use <- VariableFeatures(pbmc.rna)\n",
    "refdata <- GetAssayData(pbmc.rna, assay = \"RNA\", slot = \"data\")[genes.use, ]\n",
    "\n",
    "# refdata (input) contains a scRNA-seq expression matrix for the scRNA-seq cells.  imputation\n",
    "# (output) will contain an imputed scRNA-seq matrix for each of the ATAC cells\n",
    "imputation <- TransferData(anchorset = transfer.anchors, refdata = refdata, weight.reduction = pbmc.atac[[\"lsi\"]],\n",
    "    dims = 2:30)"
   ]
  },
  {
   "cell_type": "code",
   "execution_count": null,
   "id": "brazilian-currency",
   "metadata": {},
   "outputs": [],
   "source": [
    "pbmc.atac[[\"RNA\"]] <- imputation"
   ]
  },
  {
   "cell_type": "code",
   "execution_count": null,
   "id": "wireless-charity",
   "metadata": {},
   "outputs": [],
   "source": [
    "coembed <- merge(x = pbmc.rna, y = pbmc.atac)\n",
    "\n",
    "# Finally, we run PCA and UMAP on this combined object, to visualize the co-embedding of both\n",
    "# datasets\n",
    "coembed <- ScaleData(coembed, features = genes.use, do.scale = FALSE)\n",
    "coembed <- RunPCA(coembed, features = genes.use, verbose = FALSE)\n",
    "coembed <- RunUMAP(coembed, dims = 1:30)"
   ]
  },
  {
   "cell_type": "code",
   "execution_count": 152,
   "id": "essential-calculation",
   "metadata": {},
   "outputs": [
    {
     "data": {
      "text/html": [
       "<table class=\"dataframe\">\n",
       "<caption>A data.frame: 6 × 27</caption>\n",
       "<thead>\n",
       "\t<tr><th></th><th scope=col>orig.ident</th><th scope=col>nCount_RNA</th><th scope=col>nFeature_RNA</th><th scope=col>sample</th><th scope=col>percent.mt</th><th scope=col>RNA_snn_res.0.8</th><th scope=col>seurat_clusters</th><th scope=col>new_ident</th><th scope=col>nCount_peaks</th><th scope=col>nFeature_peaks</th><th scope=col>⋯</th><th scope=col>predicted.id</th><th scope=col>prediction.score.BCells</th><th scope=col>prediction.score.MPs</th><th scope=col>prediction.score.Neutrophils</th><th scope=col>prediction.score.TCells</th><th scope=col>prediction.score.NK</th><th scope=col>prediction.score.Fibroblasts</th><th scope=col>prediction.score.ClubCells</th><th scope=col>prediction.score.pDCs</th><th scope=col>prediction.score.max</th></tr>\n",
       "\t<tr><th></th><th scope=col>&lt;chr&gt;</th><th scope=col>&lt;dbl&gt;</th><th scope=col>&lt;int&gt;</th><th scope=col>&lt;chr&gt;</th><th scope=col>&lt;dbl&gt;</th><th scope=col>&lt;chr&gt;</th><th scope=col>&lt;chr&gt;</th><th scope=col>&lt;chr&gt;</th><th scope=col>&lt;dbl&gt;</th><th scope=col>&lt;int&gt;</th><th scope=col>⋯</th><th scope=col>&lt;chr&gt;</th><th scope=col>&lt;dbl&gt;</th><th scope=col>&lt;dbl&gt;</th><th scope=col>&lt;dbl&gt;</th><th scope=col>&lt;dbl&gt;</th><th scope=col>&lt;dbl&gt;</th><th scope=col>&lt;dbl&gt;</th><th scope=col>&lt;dbl&gt;</th><th scope=col>&lt;dbl&gt;</th><th scope=col>&lt;dbl&gt;</th></tr>\n",
       "</thead>\n",
       "<tbody>\n",
       "\t<tr><th scope=row>outs_AACGGACCT_AACGCTAGT_AACAAGTGG</th><td>mouse_lung</td><td> 338</td><td> 247</td><td>ML</td><td>7.988166</td><td>4 </td><td>4 </td><td>BCells     </td><td>NA</td><td>NA</td><td>⋯</td><td>NA</td><td>NA</td><td>NA</td><td>NA</td><td>NA</td><td>NA</td><td>NA</td><td>NA</td><td>NA</td><td>NA</td></tr>\n",
       "\t<tr><th scope=row>outs_TACCTCTCC_AATCCGGTG_AACAAGTGG</th><td>mouse_lung</td><td>1349</td><td> 831</td><td>ML</td><td>3.335804</td><td>6 </td><td>6 </td><td>MPs        </td><td>NA</td><td>NA</td><td>⋯</td><td>NA</td><td>NA</td><td>NA</td><td>NA</td><td>NA</td><td>NA</td><td>NA</td><td>NA</td><td>NA</td><td>NA</td></tr>\n",
       "\t<tr><th scope=row>outs_AGCTGAGTC_ACACCAACG_AACAAGTGG</th><td>mouse_lung</td><td>2518</td><td>1447</td><td>ML</td><td>4.090548</td><td>10</td><td>10</td><td>Neutrophils</td><td>NA</td><td>NA</td><td>⋯</td><td>NA</td><td>NA</td><td>NA</td><td>NA</td><td>NA</td><td>NA</td><td>NA</td><td>NA</td><td>NA</td><td>NA</td></tr>\n",
       "\t<tr><th scope=row>outs_AAGCTTGCG_AGACGAAGT_AACAAGTGG</th><td>mouse_lung</td><td>1128</td><td> 856</td><td>ML</td><td>1.684397</td><td>8 </td><td>8 </td><td>MPs        </td><td>NA</td><td>NA</td><td>⋯</td><td>NA</td><td>NA</td><td>NA</td><td>NA</td><td>NA</td><td>NA</td><td>NA</td><td>NA</td><td>NA</td><td>NA</td></tr>\n",
       "\t<tr><th scope=row>outs_CCAATGTCT_AGACGAAGT_AACAAGTGG</th><td>mouse_lung</td><td> 711</td><td> 531</td><td>ML</td><td>2.531646</td><td>1 </td><td>1 </td><td>MPs        </td><td>NA</td><td>NA</td><td>⋯</td><td>NA</td><td>NA</td><td>NA</td><td>NA</td><td>NA</td><td>NA</td><td>NA</td><td>NA</td><td>NA</td><td>NA</td></tr>\n",
       "\t<tr><th scope=row>outs_GGATAGATG_AGACGAAGT_AACAAGTGG</th><td>mouse_lung</td><td>1171</td><td> 802</td><td>ML</td><td>3.330487</td><td>0 </td><td>0 </td><td>MPs        </td><td>NA</td><td>NA</td><td>⋯</td><td>NA</td><td>NA</td><td>NA</td><td>NA</td><td>NA</td><td>NA</td><td>NA</td><td>NA</td><td>NA</td><td>NA</td></tr>\n",
       "</tbody>\n",
       "</table>\n"
      ],
      "text/latex": [
       "A data.frame: 6 × 27\n",
       "\\begin{tabular}{r|lllllllllllllllllllll}\n",
       "  & orig.ident & nCount\\_RNA & nFeature\\_RNA & sample & percent.mt & RNA\\_snn\\_res.0.8 & seurat\\_clusters & new\\_ident & nCount\\_peaks & nFeature\\_peaks & ⋯ & predicted.id & prediction.score.BCells & prediction.score.MPs & prediction.score.Neutrophils & prediction.score.TCells & prediction.score.NK & prediction.score.Fibroblasts & prediction.score.ClubCells & prediction.score.pDCs & prediction.score.max\\\\\n",
       "  & <chr> & <dbl> & <int> & <chr> & <dbl> & <chr> & <chr> & <chr> & <dbl> & <int> & ⋯ & <chr> & <dbl> & <dbl> & <dbl> & <dbl> & <dbl> & <dbl> & <dbl> & <dbl> & <dbl>\\\\\n",
       "\\hline\n",
       "\touts\\_AACGGACCT\\_AACGCTAGT\\_AACAAGTGG & mouse\\_lung &  338 &  247 & ML & 7.988166 & 4  & 4  & BCells      & NA & NA & ⋯ & NA & NA & NA & NA & NA & NA & NA & NA & NA & NA\\\\\n",
       "\touts\\_TACCTCTCC\\_AATCCGGTG\\_AACAAGTGG & mouse\\_lung & 1349 &  831 & ML & 3.335804 & 6  & 6  & MPs         & NA & NA & ⋯ & NA & NA & NA & NA & NA & NA & NA & NA & NA & NA\\\\\n",
       "\touts\\_AGCTGAGTC\\_ACACCAACG\\_AACAAGTGG & mouse\\_lung & 2518 & 1447 & ML & 4.090548 & 10 & 10 & Neutrophils & NA & NA & ⋯ & NA & NA & NA & NA & NA & NA & NA & NA & NA & NA\\\\\n",
       "\touts\\_AAGCTTGCG\\_AGACGAAGT\\_AACAAGTGG & mouse\\_lung & 1128 &  856 & ML & 1.684397 & 8  & 8  & MPs         & NA & NA & ⋯ & NA & NA & NA & NA & NA & NA & NA & NA & NA & NA\\\\\n",
       "\touts\\_CCAATGTCT\\_AGACGAAGT\\_AACAAGTGG & mouse\\_lung &  711 &  531 & ML & 2.531646 & 1  & 1  & MPs         & NA & NA & ⋯ & NA & NA & NA & NA & NA & NA & NA & NA & NA & NA\\\\\n",
       "\touts\\_GGATAGATG\\_AGACGAAGT\\_AACAAGTGG & mouse\\_lung & 1171 &  802 & ML & 3.330487 & 0  & 0  & MPs         & NA & NA & ⋯ & NA & NA & NA & NA & NA & NA & NA & NA & NA & NA\\\\\n",
       "\\end{tabular}\n"
      ],
      "text/markdown": [
       "\n",
       "A data.frame: 6 × 27\n",
       "\n",
       "| <!--/--> | orig.ident &lt;chr&gt; | nCount_RNA &lt;dbl&gt; | nFeature_RNA &lt;int&gt; | sample &lt;chr&gt; | percent.mt &lt;dbl&gt; | RNA_snn_res.0.8 &lt;chr&gt; | seurat_clusters &lt;chr&gt; | new_ident &lt;chr&gt; | nCount_peaks &lt;dbl&gt; | nFeature_peaks &lt;int&gt; | ⋯ ⋯ | predicted.id &lt;chr&gt; | prediction.score.BCells &lt;dbl&gt; | prediction.score.MPs &lt;dbl&gt; | prediction.score.Neutrophils &lt;dbl&gt; | prediction.score.TCells &lt;dbl&gt; | prediction.score.NK &lt;dbl&gt; | prediction.score.Fibroblasts &lt;dbl&gt; | prediction.score.ClubCells &lt;dbl&gt; | prediction.score.pDCs &lt;dbl&gt; | prediction.score.max &lt;dbl&gt; |\n",
       "|---|---|---|---|---|---|---|---|---|---|---|---|---|---|---|---|---|---|---|---|---|---|\n",
       "| outs_AACGGACCT_AACGCTAGT_AACAAGTGG | mouse_lung |  338 |  247 | ML | 7.988166 | 4  | 4  | BCells      | NA | NA | ⋯ | NA | NA | NA | NA | NA | NA | NA | NA | NA | NA |\n",
       "| outs_TACCTCTCC_AATCCGGTG_AACAAGTGG | mouse_lung | 1349 |  831 | ML | 3.335804 | 6  | 6  | MPs         | NA | NA | ⋯ | NA | NA | NA | NA | NA | NA | NA | NA | NA | NA |\n",
       "| outs_AGCTGAGTC_ACACCAACG_AACAAGTGG | mouse_lung | 2518 | 1447 | ML | 4.090548 | 10 | 10 | Neutrophils | NA | NA | ⋯ | NA | NA | NA | NA | NA | NA | NA | NA | NA | NA |\n",
       "| outs_AAGCTTGCG_AGACGAAGT_AACAAGTGG | mouse_lung | 1128 |  856 | ML | 1.684397 | 8  | 8  | MPs         | NA | NA | ⋯ | NA | NA | NA | NA | NA | NA | NA | NA | NA | NA |\n",
       "| outs_CCAATGTCT_AGACGAAGT_AACAAGTGG | mouse_lung |  711 |  531 | ML | 2.531646 | 1  | 1  | MPs         | NA | NA | ⋯ | NA | NA | NA | NA | NA | NA | NA | NA | NA | NA |\n",
       "| outs_GGATAGATG_AGACGAAGT_AACAAGTGG | mouse_lung | 1171 |  802 | ML | 3.330487 | 0  | 0  | MPs         | NA | NA | ⋯ | NA | NA | NA | NA | NA | NA | NA | NA | NA | NA |\n",
       "\n"
      ],
      "text/plain": [
       "                                   orig.ident nCount_RNA nFeature_RNA sample\n",
       "outs_AACGGACCT_AACGCTAGT_AACAAGTGG mouse_lung  338        247         ML    \n",
       "outs_TACCTCTCC_AATCCGGTG_AACAAGTGG mouse_lung 1349        831         ML    \n",
       "outs_AGCTGAGTC_ACACCAACG_AACAAGTGG mouse_lung 2518       1447         ML    \n",
       "outs_AAGCTTGCG_AGACGAAGT_AACAAGTGG mouse_lung 1128        856         ML    \n",
       "outs_CCAATGTCT_AGACGAAGT_AACAAGTGG mouse_lung  711        531         ML    \n",
       "outs_GGATAGATG_AGACGAAGT_AACAAGTGG mouse_lung 1171        802         ML    \n",
       "                                   percent.mt RNA_snn_res.0.8 seurat_clusters\n",
       "outs_AACGGACCT_AACGCTAGT_AACAAGTGG 7.988166   4               4              \n",
       "outs_TACCTCTCC_AATCCGGTG_AACAAGTGG 3.335804   6               6              \n",
       "outs_AGCTGAGTC_ACACCAACG_AACAAGTGG 4.090548   10              10             \n",
       "outs_AAGCTTGCG_AGACGAAGT_AACAAGTGG 1.684397   8               8              \n",
       "outs_CCAATGTCT_AGACGAAGT_AACAAGTGG 2.531646   1               1              \n",
       "outs_GGATAGATG_AGACGAAGT_AACAAGTGG 3.330487   0               0              \n",
       "                                   new_ident   nCount_peaks nFeature_peaks ⋯\n",
       "outs_AACGGACCT_AACGCTAGT_AACAAGTGG BCells      NA           NA             ⋯\n",
       "outs_TACCTCTCC_AATCCGGTG_AACAAGTGG MPs         NA           NA             ⋯\n",
       "outs_AGCTGAGTC_ACACCAACG_AACAAGTGG Neutrophils NA           NA             ⋯\n",
       "outs_AAGCTTGCG_AGACGAAGT_AACAAGTGG MPs         NA           NA             ⋯\n",
       "outs_CCAATGTCT_AGACGAAGT_AACAAGTGG MPs         NA           NA             ⋯\n",
       "outs_GGATAGATG_AGACGAAGT_AACAAGTGG MPs         NA           NA             ⋯\n",
       "                                   predicted.id prediction.score.BCells\n",
       "outs_AACGGACCT_AACGCTAGT_AACAAGTGG NA           NA                     \n",
       "outs_TACCTCTCC_AATCCGGTG_AACAAGTGG NA           NA                     \n",
       "outs_AGCTGAGTC_ACACCAACG_AACAAGTGG NA           NA                     \n",
       "outs_AAGCTTGCG_AGACGAAGT_AACAAGTGG NA           NA                     \n",
       "outs_CCAATGTCT_AGACGAAGT_AACAAGTGG NA           NA                     \n",
       "outs_GGATAGATG_AGACGAAGT_AACAAGTGG NA           NA                     \n",
       "                                   prediction.score.MPs\n",
       "outs_AACGGACCT_AACGCTAGT_AACAAGTGG NA                  \n",
       "outs_TACCTCTCC_AATCCGGTG_AACAAGTGG NA                  \n",
       "outs_AGCTGAGTC_ACACCAACG_AACAAGTGG NA                  \n",
       "outs_AAGCTTGCG_AGACGAAGT_AACAAGTGG NA                  \n",
       "outs_CCAATGTCT_AGACGAAGT_AACAAGTGG NA                  \n",
       "outs_GGATAGATG_AGACGAAGT_AACAAGTGG NA                  \n",
       "                                   prediction.score.Neutrophils\n",
       "outs_AACGGACCT_AACGCTAGT_AACAAGTGG NA                          \n",
       "outs_TACCTCTCC_AATCCGGTG_AACAAGTGG NA                          \n",
       "outs_AGCTGAGTC_ACACCAACG_AACAAGTGG NA                          \n",
       "outs_AAGCTTGCG_AGACGAAGT_AACAAGTGG NA                          \n",
       "outs_CCAATGTCT_AGACGAAGT_AACAAGTGG NA                          \n",
       "outs_GGATAGATG_AGACGAAGT_AACAAGTGG NA                          \n",
       "                                   prediction.score.TCells prediction.score.NK\n",
       "outs_AACGGACCT_AACGCTAGT_AACAAGTGG NA                      NA                 \n",
       "outs_TACCTCTCC_AATCCGGTG_AACAAGTGG NA                      NA                 \n",
       "outs_AGCTGAGTC_ACACCAACG_AACAAGTGG NA                      NA                 \n",
       "outs_AAGCTTGCG_AGACGAAGT_AACAAGTGG NA                      NA                 \n",
       "outs_CCAATGTCT_AGACGAAGT_AACAAGTGG NA                      NA                 \n",
       "outs_GGATAGATG_AGACGAAGT_AACAAGTGG NA                      NA                 \n",
       "                                   prediction.score.Fibroblasts\n",
       "outs_AACGGACCT_AACGCTAGT_AACAAGTGG NA                          \n",
       "outs_TACCTCTCC_AATCCGGTG_AACAAGTGG NA                          \n",
       "outs_AGCTGAGTC_ACACCAACG_AACAAGTGG NA                          \n",
       "outs_AAGCTTGCG_AGACGAAGT_AACAAGTGG NA                          \n",
       "outs_CCAATGTCT_AGACGAAGT_AACAAGTGG NA                          \n",
       "outs_GGATAGATG_AGACGAAGT_AACAAGTGG NA                          \n",
       "                                   prediction.score.ClubCells\n",
       "outs_AACGGACCT_AACGCTAGT_AACAAGTGG NA                        \n",
       "outs_TACCTCTCC_AATCCGGTG_AACAAGTGG NA                        \n",
       "outs_AGCTGAGTC_ACACCAACG_AACAAGTGG NA                        \n",
       "outs_AAGCTTGCG_AGACGAAGT_AACAAGTGG NA                        \n",
       "outs_CCAATGTCT_AGACGAAGT_AACAAGTGG NA                        \n",
       "outs_GGATAGATG_AGACGAAGT_AACAAGTGG NA                        \n",
       "                                   prediction.score.pDCs prediction.score.max\n",
       "outs_AACGGACCT_AACGCTAGT_AACAAGTGG NA                    NA                  \n",
       "outs_TACCTCTCC_AATCCGGTG_AACAAGTGG NA                    NA                  \n",
       "outs_AGCTGAGTC_ACACCAACG_AACAAGTGG NA                    NA                  \n",
       "outs_AAGCTTGCG_AGACGAAGT_AACAAGTGG NA                    NA                  \n",
       "outs_CCAATGTCT_AGACGAAGT_AACAAGTGG NA                    NA                  \n",
       "outs_GGATAGATG_AGACGAAGT_AACAAGTGG NA                    NA                  "
      ]
     },
     "metadata": {},
     "output_type": "display_data"
    }
   ],
   "source": [
    "head(coembed@meta.data)"
   ]
  },
  {
   "cell_type": "code",
   "execution_count": 154,
   "id": "gothic-sweet",
   "metadata": {},
   "outputs": [
    {
     "data": {
      "image/png": "[encoded data removed]",
      "text/plain": [
       "plot without title"
      ]
     },
     "metadata": {
      "image/png": {
       "height": 420,
       "width": 420
      }
     },
     "output_type": "display_data"
    }
   ],
   "source": [
    "DimPlot(coembed, group.by = c(\"orig.ident\", \"new_ident\"))"
   ]
  },
  {
   "cell_type": "code",
   "execution_count": 155,
   "id": "incomplete-salem",
   "metadata": {},
   "outputs": [],
   "source": [
    "plot = DimPlot(coembed, group.by = c(\"orig.ident\", \"new_ident\"))"
   ]
  },
  {
   "cell_type": "code",
   "execution_count": 156,
   "id": "changing-brisbane",
   "metadata": {},
   "outputs": [],
   "source": [
    "ggsave(filename = \"/SGRNJ06/randd/USER/cjj/celedev/atac/20240119scrna_atac/combined.jpg\", height = 7, width = 12, plot = plot,\n",
    "    quality = 50)"
   ]
  },
  {
   "cell_type": "code",
   "execution_count": null,
   "id": "technological-commerce",
   "metadata": {},
   "outputs": [],
   "source": [
    "table(coembed@meta.data$orig.ident)"
   ]
  },
  {
   "cell_type": "code",
   "execution_count": null,
   "id": "combined-diagnosis",
   "metadata": {},
   "outputs": [],
   "source": []
  },
  {
   "cell_type": "code",
   "execution_count": null,
   "id": "bottom-great",
   "metadata": {},
   "outputs": [],
   "source": []
  },
  {
   "cell_type": "code",
   "execution_count": null,
   "id": "accomplished-girlfriend",
   "metadata": {},
   "outputs": [],
   "source": [
    "colnames(pbmc.atac@meta.data)"
   ]
  },
  {
   "cell_type": "code",
   "execution_count": null,
   "id": "favorite-allah",
   "metadata": {},
   "outputs": [],
   "source": [
    "UMAPPlot(pbmc.rna, group.by='celltype')"
   ]
  },
  {
   "cell_type": "code",
   "execution_count": null,
   "id": "sized-saudi",
   "metadata": {},
   "outputs": [],
   "source": [
    "FeaturePlot(pbmc.rna, features = \"Cxcr2\")"
   ]
  },
  {
   "cell_type": "code",
   "execution_count": null,
   "id": "adaptive-conservative",
   "metadata": {},
   "outputs": [],
   "source": [
    "DimPlot(pbmc.atac, label.size=5 ,group.by = \"predicted.id\", label = TRUE)"
   ]
  },
  {
   "cell_type": "code",
   "execution_count": null,
   "id": "democratic-perry",
   "metadata": {},
   "outputs": [],
   "source": [
    "FeaturePlot(pbmc.atac, features = \"Mmp9\")"
   ]
  },
  {
   "cell_type": "code",
   "execution_count": null,
   "id": "liberal-contemporary",
   "metadata": {},
   "outputs": [],
   "source": [
    "# Featureplot\n",
    "# Csf3r,Mpo, Elane, Azu1\n",
    "# Lyz2,Csf3r,Cxcr2或Lyz2,Camp,Lcn2\n",
    "FeaturePlot(pbmc.atac, features = \"Mpo\")"
   ]
  },
  {
   "cell_type": "code",
   "execution_count": null,
   "id": "killing-robinson",
   "metadata": {},
   "outputs": [],
   "source": [
    "pbmc.atac@assays$ACTIVITY@counts"
   ]
  },
  {
   "cell_type": "code",
   "execution_count": null,
   "id": "fifteen-raleigh",
   "metadata": {},
   "outputs": [],
   "source": [
    "pbmc.atac[['ACTIVITY']]@counts"
   ]
  },
  {
   "cell_type": "code",
   "execution_count": null,
   "id": "strange-eight",
   "metadata": {},
   "outputs": [],
   "source": [
    "saveRDS(pbmc.atac, \"/SGRNJ06/randd/USER/cjj/celedev/atac/20231204scrna_atac/atac.rds\")"
   ]
  },
  {
   "cell_type": "code",
   "execution_count": null,
   "id": "worth-father",
   "metadata": {},
   "outputs": [],
   "source": []
  }
 ],
 "metadata": {
  "kernelspec": {
   "display_name": "r4.1_env",
   "language": "R",
   "name": "r4.1_env"
  },
  "language_info": {
   "codemirror_mode": "r",
   "file_extension": ".r",
   "mimetype": "text/x-r-source",
   "name": "R",
   "pygments_lexer": "r",
   "version": "4.1.1"
  }
 },
 "nbformat": 4,
 "nbformat_minor": 5
}
