{
 "cells": [
  {
   "cell_type": "code",
   "execution_count": null,
   "id": "arctic-increase",
   "metadata": {},
   "outputs": [],
   "source": [
    "suppressWarnings(suppressMessages({\n",
    "    library(Signac)\n",
    "    library(Seurat)\n",
    "    library(EnsDb.Mmusculus.v79)\n",
    "    library(tidyverse)\n",
    "    library(SingleR)\n",
    "    library(Signac)\n",
    "    library(Seurat)\n",
    "    library(GenomicRanges)\n",
    "    library(future)\n",
    "}))\n",
    "plan(\"multicore\", workers = 4)\n",
    "options(future.globals.maxSize = 50000 * 1024^2) # for 50 Gb RAM\n",
    "set.seed(1)\n",
    "color_protocol <- c(\"#0067AA\",\"#FF7F00\",\"#00A23F\",\"#FF1F1D\",\"#A763AC\",\"#B45B5D\",\"#FF8AB6\",\"#B6B800\",\"#01C1CC\",\"#85D5F8\",\"#FFC981\",\"#C8571B\",\"#727272\",\"#EFC800\",\"#8A5626\",\"#502E91\",\"#59A4CE\",\"#344B2B\",\"#FBE29D\",\"#FDD6E6\",\"#849C8C\",\"#F07C6F\",\"#000101\")"
   ]
  },
  {
   "cell_type": "code",
   "execution_count": null,
   "id": "charitable-lindsay",
   "metadata": {},
   "outputs": [],
   "source": [
    "# read in peak sets\n",
    "peaks.sgr <- read.table(\n",
    "  file = \"/SGRNJ06/randd/USER/cjj/celedev/atac/MAESTRO/test/20231109sgr_mouse_cutoff/A0920_3_ME_YSPB_WX_D_T7_EDTA5030/outs/A0920_3_ME_YSPB_WX_D_T7_EDTA5030_final_peaks.bed\",\n",
    "  col.names = c(\"chr\", \"start\", \"end\")\n",
    ")\n",
    "peaks.10x <- read.table(\n",
    "  file = \"/SGRNJ06/randd/PROJECT/scATAC/20230925_959595_H_EM_sc/A0920_3_ME_YSPB_WX_D_T7_EDTA5030/03.atac/A0920_3_ME_YSPB_WX_D_T7_EDTA5030/outs/filtered_peak_bc_matrix/peaks.bed\",\n",
    "  col.names = c(\"chr\", \"start\", \"end\")\n",
    ")"
   ]
  },
  {
   "cell_type": "code",
   "execution_count": null,
   "id": "fatal-yacht",
   "metadata": {},
   "outputs": [],
   "source": [
    "# convert to genomic ranges\n",
    "gr.sgr <- makeGRangesFromDataFrame(peaks.sgr)\n",
    "gr.10x <- makeGRangesFromDataFrame(peaks.10x)"
   ]
  },
  {
   "cell_type": "code",
   "execution_count": null,
   "id": "adult-weekly",
   "metadata": {},
   "outputs": [],
   "source": [
    "# Create a unified set of peaks to quantify in each dataset\n",
    "combined.peaks <- Signac::reduce(x = c(gr.sgr, gr.10x))"
   ]
  },
  {
   "cell_type": "code",
   "execution_count": null,
   "id": "neural-finish",
   "metadata": {},
   "outputs": [],
   "source": [
    "peakwidths <- width(combined.peaks)\n",
    "combined.peaks <- combined.peaks[peakwidths  < 10000 & peakwidths > 20]\n",
    "combined.peaks"
   ]
  },
  {
   "cell_type": "code",
   "execution_count": null,
   "id": "hungarian-upper",
   "metadata": {},
   "outputs": [],
   "source": [
    "# load metadata\n",
    "md.sgr <- read.table(\n",
    "  file = \"/SGRNJ06/randd/USER/cjj/celedev/atac/MAESTRO/test/20231109sgr_mouse_cutoff/A0920_3_ME_YSPB_WX_D_T7_EDTA5030/outs/cell_qc_metrics.tsv\",\n",
    "  stringsAsFactors = FALSE,\n",
    "  sep = \"\\t\",\n",
    "  header = TRUE,\n",
    "  row.names = 1\n",
    ")[-1, ] # remove the first row\n",
    "\n",
    "md.10x <- read.table(\n",
    "  file = \"/SGRNJ06/randd/PROJECT/scATAC/20230925_959595_H_EM_sc/A0920_3_ME_YSPB_WX_D_T7_EDTA5030/03.atac/A0920_3_ME_YSPB_WX_D_T7_EDTA5030/outs//singlecell.csv\",\n",
    "  stringsAsFactors = FALSE,\n",
    "  sep = \",\",\n",
    "  header = TRUE,\n",
    "  row.names = 1\n",
    ")[-1, ]"
   ]
  },
  {
   "cell_type": "code",
   "execution_count": null,
   "id": "employed-teaching",
   "metadata": {},
   "outputs": [],
   "source": [
    "#md.sgr"
   ]
  },
  {
   "cell_type": "code",
   "execution_count": null,
   "id": "enclosed-anger",
   "metadata": {},
   "outputs": [],
   "source": [
    "md.sgr <- md.sgr[md.sgr$cell_called == \"True\", ]\n",
    "md.10x <- md.10x[md.10x$is__cell_barcode == 1, ]"
   ]
  },
  {
   "cell_type": "code",
   "execution_count": null,
   "id": "former-candidate",
   "metadata": {},
   "outputs": [],
   "source": [
    "# create fragment objects\n",
    "frags.sgr <- CreateFragmentObject(\n",
    "  path = \"/SGRNJ06/randd/USER/cjj/celedev/atac/MAESTRO/test/20231109sgr_mouse_cutoff/A0920_3_ME_YSPB_WX_D_T7_EDTA5030/02.atac/Result/Mapping/A0920_3_ME_YSPB_WX_D_T7_EDTA5030//fragments_corrected_dedup_count.tsv.gz\",\n",
    "  cells = rownames(md.sgr)\n",
    ")\n",
    "frags.10x <- CreateFragmentObject(\n",
    "  path = \"/SGRNJ06/randd/PROJECT/scATAC/20230925_959595_H_EM_sc/A0920_3_ME_YSPB_WX_D_T7_EDTA5030/03.atac/A0920_3_ME_YSPB_WX_D_T7_EDTA5030/outs/fragments.tsv.gz\",\n",
    "  cells = rownames(md.10x)\n",
    ")"
   ]
  },
  {
   "cell_type": "code",
   "execution_count": null,
   "id": "tribal-suggestion",
   "metadata": {},
   "outputs": [],
   "source": [
    "counts.sgr <- FeatureMatrix(\n",
    "  fragments = frags.sgr,\n",
    "  features = combined.peaks,\n",
    "  cells = rownames(md.sgr)\n",
    ")\n",
    "\n",
    "counts.10x <- FeatureMatrix(\n",
    "  fragments = frags.10x,\n",
    "  features = combined.peaks,\n",
    "  cells = rownames(md.10x)\n",
    ")"
   ]
  },
  {
   "cell_type": "code",
   "execution_count": null,
   "id": "corresponding-audio",
   "metadata": {},
   "outputs": [],
   "source": [
    "sgr_assay <- CreateChromatinAssay(counts.sgr, fragments = frags.sgr)\n",
    "sgr <- CreateSeuratObject(sgr_assay, assay = \"ATAC\", meta.data=md.sgr)\n",
    "\n",
    "tenx_assay <- CreateChromatinAssay(counts.10x, fragments = frags.10x)\n",
    "tenx <- CreateSeuratObject(tenx_assay, assay = \"ATAC\", meta.data=md.10x)"
   ]
  },
  {
   "cell_type": "code",
   "execution_count": null,
   "id": "palestinian-brake",
   "metadata": {},
   "outputs": [],
   "source": [
    "# add information to identify dataset of origin\n",
    "sgr$dataset <- 'sgr'\n",
    "tenx$dataset <- 'tenx'\n",
    "\n",
    "# merge all datasets, adding a cell ID to make sure cell names are unique\n",
    "combined <- merge(\n",
    "  x = sgr,\n",
    "  y = tenx,\n",
    "  add.cell.ids = c(\"sgr\", \"tenx\")\n",
    ")\n",
    "combined[[\"ATAC\"]]"
   ]
  },
  {
   "cell_type": "code",
   "execution_count": null,
   "id": "sitting-graduate",
   "metadata": {},
   "outputs": [],
   "source": [
    "combined <- RunTFIDF(combined)\n",
    "combined <- FindTopFeatures(combined, min.cutoff = 20)\n",
    "combined <- RunSVD(combined)\n",
    "combined <- RunUMAP(combined, dims = 2:50, reduction = 'lsi')"
   ]
  },
  {
   "cell_type": "code",
   "execution_count": null,
   "id": "minus-welding",
   "metadata": {},
   "outputs": [],
   "source": [
    "DimPlot(combined, group.by = 'dataset', pt.size = 0.1)"
   ]
  },
  {
   "cell_type": "code",
   "execution_count": null,
   "id": "earned-milton",
   "metadata": {},
   "outputs": [],
   "source": [
    "pdf(file = '/SGRNJ06/randd/USER/cjj/celedev/rna/20231128nanda/SeuratTSNE1.pdf', height=10, width=10)\n",
    "DimPlot(rds, reduction = \"tsne\",group.by=\"sample\") + scale_color_npg()\n",
    "dev.off()"
   ]
  },
  {
   "cell_type": "code",
   "execution_count": null,
   "id": "olive-wound",
   "metadata": {},
   "outputs": [],
   "source": []
  },
  {
   "cell_type": "code",
   "execution_count": null,
   "id": "shaped-logic",
   "metadata": {},
   "outputs": [],
   "source": [
    "# cr and cr\n",
    "library(harmony)"
   ]
  },
  {
   "cell_type": "code",
   "execution_count": null,
   "id": "earlier-procedure",
   "metadata": {},
   "outputs": [],
   "source": [
    "# read in peak sets\n",
    "peaks.sgr <- read.table(\n",
    "  file = \"/SGRNJ06/randd/PROJECT/scATAC/20231026_M_959595_sc/A1017_2_ML_YSPB_WX_D_T7_EDTA5030/03.atac/A1017_2_ML_YSPB_WX_D_T7_EDTA5030/outs/filtered_peak_bc_matrix/peaks.bed\",\n",
    "  col.names = c(\"chr\", \"start\", \"end\")\n",
    ")\n",
    "peaks.10x <- read.table(\n",
    "  file = \"/SGRNJ06/randd/PROJECT/scATAC/summary_10X_data_analysis/mouse/20231013_mouse/L220728027XA_hepar_outdir/outs/filtered_peak_bc_matrix/peaks.bed\",\n",
    "  col.names = c(\"chr\", \"start\", \"end\")\n",
    ")"
   ]
  },
  {
   "cell_type": "code",
   "execution_count": null,
   "id": "brazilian-sport",
   "metadata": {},
   "outputs": [],
   "source": [
    "# convert to genomic ranges\n",
    "gr.sgr <- makeGRangesFromDataFrame(peaks.sgr)\n",
    "gr.10x <- makeGRangesFromDataFrame(peaks.10x)"
   ]
  },
  {
   "cell_type": "code",
   "execution_count": null,
   "id": "delayed-solomon",
   "metadata": {},
   "outputs": [],
   "source": [
    "# Create a unified set of peaks to quantify in each dataset\n",
    "combined.peaks <- Signac::reduce(x = c(gr.sgr, gr.10x))"
   ]
  },
  {
   "cell_type": "code",
   "execution_count": null,
   "id": "union-front",
   "metadata": {},
   "outputs": [],
   "source": [
    "peakwidths <- width(combined.peaks)\n",
    "combined.peaks <- combined.peaks[peakwidths  < 10000 & peakwidths > 20]\n",
    "combined.peaks"
   ]
  },
  {
   "cell_type": "code",
   "execution_count": null,
   "id": "pressing-gathering",
   "metadata": {},
   "outputs": [],
   "source": [
    "# load metadata\n",
    "md.sgr <- read.table(\n",
    "  file = \"/SGRNJ06/randd/PROJECT/scATAC/20231026_M_959595_sc/A1017_2_ML_YSPB_WX_D_T7_EDTA5030/03.atac/A1017_2_ML_YSPB_WX_D_T7_EDTA5030/outs/singlecell.csv\",\n",
    "  stringsAsFactors = FALSE,\n",
    "  sep = \",\",\n",
    "  header = TRUE,\n",
    "  row.names = 1\n",
    ")[-1, ] # remove the first row\n",
    "\n",
    "md.10x <- read.table(\n",
    "  file = \"/SGRNJ06/randd/PROJECT/scATAC/summary_10X_data_analysis/mouse/20231013_mouse/L220728027XA_hepar_outdir/outs/singlecell.csv\",\n",
    "  stringsAsFactors = FALSE,\n",
    "  sep = \",\",\n",
    "  header = TRUE,\n",
    "  row.names = 1\n",
    ")[-1, ]"
   ]
  },
  {
   "cell_type": "code",
   "execution_count": null,
   "id": "fatal-skiing",
   "metadata": {},
   "outputs": [],
   "source": [
    "md.sgr <- md.sgr[md.sgr$is__cell_barcode == 1, ]\n",
    "md.10x <- md.10x[md.10x$is__cell_barcode == 1, ]"
   ]
  },
  {
   "cell_type": "code",
   "execution_count": null,
   "id": "closed-evanescence",
   "metadata": {},
   "outputs": [],
   "source": [
    "# md.10x"
   ]
  },
  {
   "cell_type": "code",
   "execution_count": null,
   "id": "attractive-connecticut",
   "metadata": {},
   "outputs": [],
   "source": [
    "# create fragment objects\n",
    "frags.sgr <- CreateFragmentObject(\n",
    "  path = \"/SGRNJ06/randd/PROJECT/scATAC/20231026_M_959595_sc/A1017_2_ML_YSPB_WX_D_T7_EDTA5030/03.atac/A1017_2_ML_YSPB_WX_D_T7_EDTA5030/outs/fragments.tsv.gz\",\n",
    "  cells = rownames(md.sgr)\n",
    ")\n",
    "frags.10x <- CreateFragmentObject(\n",
    "  path = \"/SGRNJ06/randd/PROJECT/scATAC/summary_10X_data_analysis/mouse/20231013_mouse/L220728027XA_hepar_outdir/outs/fragments.tsv.gz\",\n",
    "  cells = rownames(md.10x)\n",
    ")"
   ]
  },
  {
   "cell_type": "code",
   "execution_count": null,
   "id": "constitutional-links",
   "metadata": {},
   "outputs": [],
   "source": [
    "counts.sgr <- FeatureMatrix(\n",
    "  fragments = frags.sgr,\n",
    "  features = combined.peaks,\n",
    "  cells = rownames(md.sgr)\n",
    ")\n",
    "\n",
    "counts.10x <- FeatureMatrix(\n",
    "  fragments = frags.10x,\n",
    "  features = combined.peaks,\n",
    "  cells = rownames(md.10x)\n",
    ")"
   ]
  },
  {
   "cell_type": "code",
   "execution_count": null,
   "id": "strong-midwest",
   "metadata": {},
   "outputs": [],
   "source": [
    "sgr_assay <- CreateChromatinAssay(counts.sgr, fragments = frags.sgr)\n",
    "sgr <- CreateSeuratObject(sgr_assay, assay = \"ATAC\", meta.data=md.sgr)\n",
    "\n",
    "tenx_assay <- CreateChromatinAssay(counts.10x, fragments = frags.10x)\n",
    "tenx <- CreateSeuratObject(tenx_assay, assay = \"ATAC\", meta.data=md.10x)"
   ]
  },
  {
   "cell_type": "code",
   "execution_count": null,
   "id": "revolutionary-northern",
   "metadata": {},
   "outputs": [],
   "source": [
    "# add information to identify dataset of origin\n",
    "sgr$dataset <- 'sgr'\n",
    "tenx$dataset <- 'tenx'\n",
    "\n",
    "# merge all datasets, adding a cell ID to make sure cell names are unique\n",
    "combined <- merge(\n",
    "  x = sgr,\n",
    "  y = tenx,\n",
    "  add.cell.ids = c(\"sgr\", \"tenx\")\n",
    ")\n",
    "combined[[\"ATAC\"]]"
   ]
  },
  {
   "cell_type": "code",
   "execution_count": null,
   "id": "civil-dancing",
   "metadata": {},
   "outputs": [],
   "source": [
    "combined <- RunTFIDF(combined)\n",
    "combined <- FindTopFeatures(combined, min.cutoff = 20)\n",
    "combined <- RunSVD(combined)\n",
    "combined <- RunUMAP(combined, dims = 2:50, reduction = 'lsi')"
   ]
  },
  {
   "cell_type": "code",
   "execution_count": null,
   "id": "going-slide",
   "metadata": {},
   "outputs": [],
   "source": [
    "combined <- RunTFIDF(combined)\n",
    "combined <- FindTopFeatures(combined, min.cutoff = 20)\n",
    "combined <- RunSVD(combined)\n",
    "PRO <-  NormalizeData(object = combined)\n",
    "PRO <-  ScaleData(object = PRO)\n",
    "PRO <- FindVariableFeatures(object = PRO)\n",
    "genes.use<- head(HVFInfo(object = PRO),2000)\n",
    "PRO <- RunPCA(object=PRO,features = VariableFeatures(object = PRO))\n",
    "PRO <- RunHarmony(PRO,group.by=\"dataset\" , plot_convergence = TRUE)\n",
    "PRO <- FindNeighbors(PRO, reduction = \"harmony\", dims = 1:20)\n",
    "PRO <- FindClusters(PRO,resolution = 0.8, algorithm = 1)\n",
    "PRO <- RunUMAP(PRO, reduction = \"harmony\", dims = 1:20)\n",
    "PRO <- RunTSNE(object=PRO,reduction = \"harmony\",dims.use=1:20,do.fast=TRUE,check_duplicates = FALSE)"
   ]
  },
  {
   "cell_type": "code",
   "execution_count": null,
   "id": "aggregate-plain",
   "metadata": {},
   "outputs": [],
   "source": [
    "DimPlot(PRO, group.by = 'dataset', reduction = \"umap\", pt.size = 0.1)"
   ]
  },
  {
   "cell_type": "code",
   "execution_count": null,
   "id": "ongoing-beads",
   "metadata": {},
   "outputs": [],
   "source": [
    "pdf(file = '/SGRNJ06/randd/USER/cjj/celedev/atac/20231204merge/A1017_2_ML_YSPB_WX_D_T7_EDTA5030.pdf', height=10, width=10)\n",
    "#DimPlot(combined, group.by = 'dataset', pt.size = 0.1, reduction = \"umap\")\n",
    "DimPlot(PRO, group.by = 'dataset', reduction = \"umap\", pt.size = 0.1)\n",
    "dev.off()"
   ]
  },
  {
   "cell_type": "code",
   "execution_count": null,
   "id": "sunset-while",
   "metadata": {},
   "outputs": [],
   "source": []
  },
  {
   "cell_type": "code",
   "execution_count": null,
   "id": "varied-finance",
   "metadata": {},
   "outputs": [],
   "source": [
    "CoveragePlot(\n",
    "  object = combined,\n",
    "  group.by = 'dataset',\n",
    "  region = \"chr14-99700000-99760000\"\n",
    ")"
   ]
  },
  {
   "cell_type": "code",
   "execution_count": null,
   "id": "flying-scenario",
   "metadata": {},
   "outputs": [],
   "source": []
  },
  {
   "cell_type": "code",
   "execution_count": null,
   "id": "streaming-consideration",
   "metadata": {},
   "outputs": [],
   "source": [
    "# load the count matrix for each object that was generated by cellranger\n",
    "counts.sgr <- Read10X_h5(\"/SGRNJ06/randd/USER/cjj/celedev/atac/MAESTRO/test/20231109sgr_mouse_cutoff/A0920_3_ME_YSPB_WX_D_T7_EDTA5030/02.atac/Result/QC/A0920_3_ME_YSPB_WX_D_T7_EDTA5030/A0920_3_ME_YSPB_WX_D_T7_EDTA5030_filtered_peak_count.h5\")\n",
    "counts.tenx <- Read10X_h5(\"/SGRNJ06/randd/PROJECT/scATAC/20230925_959595_H_EM_sc/A0920_3_ME_YSPB_WX_D_T7_EDTA5030/03.atac/A0920_3_ME_YSPB_WX_D_T7_EDTA5030/outs/filtered_peak_bc_matrix.h5\")"
   ]
  },
  {
   "cell_type": "code",
   "execution_count": null,
   "id": "included-homeless",
   "metadata": {},
   "outputs": [],
   "source": [
    "#counts.sgr\n",
    "head(sgr@meta.data)"
   ]
  },
  {
   "cell_type": "code",
   "execution_count": null,
   "id": "touched-outdoors",
   "metadata": {},
   "outputs": [],
   "source": [
    "# create objects\n",
    "sgr_assay <- CreateChromatinAssay(counts = counts.sgr, sep = c(\"_\", \"_\"), min.features = 500)\n",
    "sgr <- CreateSeuratObject(sgr_assay, assay = \"peaks\")\n",
    "tenx_assay <- CreateChromatinAssay(counts = counts.tenx, sep = c(\":\", \"-\"), min.features = 500)\n",
    "tenx <- CreateSeuratObject(tenx_assay, assay = \"peaks\")"
   ]
  },
  {
   "cell_type": "code",
   "execution_count": null,
   "id": "minor-scanner",
   "metadata": {},
   "outputs": [],
   "source": [
    "# add information to identify dataset of origin\n",
    "sgr$dataset <- 'sgr'\n",
    "tenx$dataset <- 'tenx'\n",
    "\n",
    "# merge\n",
    "combined <- merge(\n",
    "  x = sgr,\n",
    "  y = tenx,\n",
    "  add.cell.ids = c(\"sgr\", \"tenx\")\n",
    ")\n",
    "\n",
    "# process \n",
    "combined <- RunTFIDF(combined)\n",
    "combined <- FindTopFeatures(combined, min.cutoff = 20)\n",
    "combined <- RunSVD(combined)\n",
    "combined <- RunUMAP(combined, dims = 2:50, reduction = 'lsi')\n",
    "DimPlot(combined, group.by = 'dataset', pt.size = 0.1)"
   ]
  },
  {
   "cell_type": "code",
   "execution_count": null,
   "id": "alone-kinase",
   "metadata": {},
   "outputs": [],
   "source": []
  }
 ],
 "metadata": {
  "kernelspec": {
   "display_name": "r4.1_env",
   "language": "R",
   "name": "r4.1_env"
  },
  "language_info": {
   "codemirror_mode": "r",
   "file_extension": ".r",
   "mimetype": "text/x-r-source",
   "name": "R",
   "pygments_lexer": "r",
   "version": "4.1.1"
  }
 },
 "nbformat": 4,
 "nbformat_minor": 5
}
