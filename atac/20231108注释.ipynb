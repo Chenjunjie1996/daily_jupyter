{
 "cells": [
  {
   "cell_type": "code",
   "execution_count": null,
   "id": "entertaining-festival",
   "metadata": {},
   "outputs": [],
   "source": [
    "\"\"\"\n",
    "加测：/SGRNJ06/randd/PROJECT/scATAC/20231006_ME_sc/A0920_3_ME_YSPB_WX_D_T7_EDTA5030/\n",
    "\n",
    "小测：\n",
    "/SGRNJ06/randd/PROJECT/scATAC/20230925_959595_H_EM_sc/A0920_4_ME_YSPB_WX_R_T7_EDTA5030\n",
    "/SGRNJ06/randd/PROJECT/scATAC/20230925_959595_H_EM_sc/A0920_3_ME_YSPB_WX_D_T7_EDTA5030\n",
    "\"\"\""
   ]
  },
  {
   "cell_type": "code",
   "execution_count": null,
   "id": "earlier-broadcast",
   "metadata": {},
   "outputs": [],
   "source": [
    "library(SeuratData)\n",
    "InstallData(\"pbmcMultiome\")"
   ]
  },
  {
   "cell_type": "code",
   "execution_count": null,
   "id": "chicken-things",
   "metadata": {},
   "outputs": [],
   "source": [
    "suppressWarnings(suppressMessages({\n",
    "    library(Signac)\n",
    "    library(Seurat)\n",
    "    library(EnsDb.Mmusculus.v79)\n",
    "    library(tidyverse)\n",
    "    library(SingleR)\n",
    "}))"
   ]
  },
  {
   "cell_type": "code",
   "execution_count": null,
   "id": "cross-suggestion",
   "metadata": {},
   "outputs": [],
   "source": [
    "counts <- Read10X_h5(filename = \"/SGRNJ06/randd/PROJECT/scATAC/20231006_ME_sc/A0920_3_ME_YSPB_WX_D_T7_EDTA5030/03.atac/A0920_3_ME_YSPB_WX_D_T7_EDTA5030/outs//filtered_peak_bc_matrix.h5\")\n",
    "metadata <- read.csv(\n",
    "  file = \"/SGRNJ06/randd/PROJECT/scATAC/20231006_ME_sc/A0920_3_ME_YSPB_WX_D_T7_EDTA5030/03.atac/A0920_3_ME_YSPB_WX_D_T7_EDTA5030/outs//singlecell.csv\",\n",
    "  header = TRUE,\n",
    "  row.names = 1\n",
    ")\n",
    "\n",
    "chrom_assay <- CreateChromatinAssay(\n",
    "  counts = counts,\n",
    "  sep = c(\":\", \"-\"),\n",
    "  fragments = '/SGRNJ06/randd/PROJECT/scATAC/20231006_ME_sc/A0920_3_ME_YSPB_WX_D_T7_EDTA5030/03.atac/A0920_3_ME_YSPB_WX_D_T7_EDTA5030/outs//fragments.tsv.gz',\n",
    "  min.cells = 10,\n",
    "  min.features = 200\n",
    ")\n",
    "\n",
    "pbmc.atac <- CreateSeuratObject(\n",
    "  counts = chrom_assay,\n",
    "  assay = \"peaks\",\n",
    "  meta.data = metadata\n",
    ")"
   ]
  },
  {
   "cell_type": "code",
   "execution_count": null,
   "id": "previous-double",
   "metadata": {},
   "outputs": [],
   "source": [
    "head(pbmc.atac)"
   ]
  },
  {
   "cell_type": "code",
   "execution_count": null,
   "id": "judicial-shark",
   "metadata": {},
   "outputs": [],
   "source": [
    "pbmc.atac[['peaks']]"
   ]
  },
  {
   "cell_type": "code",
   "execution_count": null,
   "id": "proved-intention",
   "metadata": {},
   "outputs": [],
   "source": [
    "rds = readRDS(\"/SGRNJ03/randd/lims_result_rd/MultiResult/RD20081701_231103_mus_Embryo/project_batch/2023-11-07/hji1y7h7ve/father_cluster/batch_1/call-integration/RD20081701_231103_mus_Embryo.diff_PRO.rds\")"
   ]
  },
  {
   "cell_type": "code",
   "execution_count": null,
   "id": "extensive-shower",
   "metadata": {},
   "outputs": [],
   "source": [
    "# Perform standard analysis of each modality independently RNA analysis\n",
    "pbmc.rna <- NormalizeData(rds)\n",
    "pbmc.rna <- FindVariableFeatures(pbmc.rna)\n",
    "pbmc.rna <- ScaleData(pbmc.rna)\n",
    "pbmc.rna <- RunPCA(pbmc.rna)\n",
    "pbmc.rna <- RunUMAP(pbmc.rna, dims = 1:30)"
   ]
  },
  {
   "cell_type": "code",
   "execution_count": null,
   "id": "hydraulic-addition",
   "metadata": {},
   "outputs": [],
   "source": [
    "UMAPPlot(pbmc.rna)"
   ]
  },
  {
   "cell_type": "code",
   "execution_count": null,
   "id": "maritime-seller",
   "metadata": {},
   "outputs": [],
   "source": [
    "# ATAC analysis add gene annotation information\n",
    "annotations <- GetGRangesFromEnsDb(ensdb = EnsDb.Mmusculus.v79)\n",
    "seqlevelsStyle(annotations) <- \"UCSC\"\n",
    "genome(annotations) <- \"mouse\"\n",
    "Annotation(pbmc.atac) <- annotations"
   ]
  },
  {
   "cell_type": "code",
   "execution_count": null,
   "id": "secret-compensation",
   "metadata": {},
   "outputs": [],
   "source": [
    "# We exclude the first dimension as this is typically correlated with sequencing depth\n",
    "pbmc.atac <- RunTFIDF(pbmc.atac)\n",
    "pbmc.atac <- FindTopFeatures(pbmc.atac, min.cutoff = \"q0\")"
   ]
  },
  {
   "cell_type": "code",
   "execution_count": null,
   "id": "placed-telling",
   "metadata": {},
   "outputs": [],
   "source": [
    "pbmc.atac <- RunSVD(pbmc.atac)\n",
    "pbmc.atac <- RunUMAP(pbmc.atac, reduction = \"lsi\", dims = 2:30, reduction.name = \"umap.atac\", reduction.key = \"atacUMAP_\")"
   ]
  },
  {
   "cell_type": "code",
   "execution_count": null,
   "id": "coastal-softball",
   "metadata": {},
   "outputs": [],
   "source": [
    "head(pbmc.rna)"
   ]
  },
  {
   "cell_type": "code",
   "execution_count": null,
   "id": "valuable-perception",
   "metadata": {},
   "outputs": [],
   "source": [
    "p1 <- DimPlot(pbmc.rna, group.by = \"cluster\", label = TRUE) + NoLegend() + ggtitle(\"RNA\")\n",
    "p2 <- DimPlot(pbmc.atac, group.by = \"orig.ident\", label = FALSE) + NoLegend() + ggtitle(\"ATAC\")"
   ]
  },
  {
   "cell_type": "code",
   "execution_count": null,
   "id": "shaped-major",
   "metadata": {},
   "outputs": [],
   "source": [
    "p1 + p2"
   ]
  },
  {
   "cell_type": "code",
   "execution_count": null,
   "id": "extra-capitol",
   "metadata": {},
   "outputs": [],
   "source": [
    "plot <- (p1 + p2) & xlab(\"UMAP 1\") & ylab(\"UMAP 2\") & theme(axis.title = element_text(size = 18))"
   ]
  },
  {
   "cell_type": "code",
   "execution_count": null,
   "id": "civic-dutch",
   "metadata": {},
   "outputs": [],
   "source": [
    "ggsave(filename = \"/SGRNJ06/randd/USER/cjj/celedev/atac/20231108scrna_atac/atacseq_integration_vignette.jpg\", height = 7, width = 12, plot = plot,\n",
    "    quality = 50)"
   ]
  },
  {
   "cell_type": "code",
   "execution_count": null,
   "id": "varied-irrigation",
   "metadata": {},
   "outputs": [],
   "source": []
  },
  {
   "cell_type": "code",
   "execution_count": null,
   "id": "assisted-matthew",
   "metadata": {},
   "outputs": [],
   "source": [
    "# Identifying anchors between scRNA-seq and scATAC-seq datasets"
   ]
  },
  {
   "cell_type": "code",
   "execution_count": null,
   "id": "figured-declaration",
   "metadata": {},
   "outputs": [],
   "source": [
    "# quantify gene activity\n",
    "gene.activities <- GeneActivity(pbmc.atac, features = VariableFeatures(pbmc.rna))\n",
    "\n",
    "# add gene activities as a new assay\n",
    "pbmc.atac[[\"ACTIVITY\"]] <- CreateAssayObject(counts = gene.activities)\n",
    "\n",
    "# normalize gene activities\n",
    "DefaultAssay(pbmc.atac) <- \"ACTIVITY\"\n",
    "pbmc.atac <- NormalizeData(pbmc.atac)\n",
    "pbmc.atac <- ScaleData(pbmc.atac, features = rownames(pbmc.atac))"
   ]
  },
  {
   "cell_type": "code",
   "execution_count": null,
   "id": "protected-pharmacology",
   "metadata": {},
   "outputs": [],
   "source": [
    "# Identify anchors\n",
    "transfer.anchors <- FindTransferAnchors(reference = pbmc.rna, query = pbmc.atac, features = VariableFeatures(object = pbmc.rna),\n",
    "    reference.assay = \"RNA\", query.assay = \"ACTIVITY\", reduction = \"cca\")"
   ]
  },
  {
   "cell_type": "code",
   "execution_count": null,
   "id": "transsexual-sucking",
   "metadata": {},
   "outputs": [],
   "source": []
  },
  {
   "cell_type": "code",
   "execution_count": null,
   "id": "generic-caution",
   "metadata": {},
   "outputs": [],
   "source": [
    "# Annotate scATAC-seq cells via label transfer\n",
    "celltype.predictions <- TransferData(anchorset = transfer.anchors, refdata = pbmc.rna$cluster,\n",
    "    weight.reduction = pbmc.atac[[\"lsi\"]], dims = 2:30)"
   ]
  },
  {
   "cell_type": "code",
   "execution_count": null,
   "id": "civilian-substance",
   "metadata": {},
   "outputs": [],
   "source": [
    "pbmc.atac <- AddMetaData(pbmc.atac, metadata = celltype.predictions)"
   ]
  },
  {
   "cell_type": "code",
   "execution_count": null,
   "id": "organic-pottery",
   "metadata": {},
   "outputs": [],
   "source": [
    "head(pbmc.atac)"
   ]
  },
  {
   "cell_type": "code",
   "execution_count": null,
   "id": "sexual-surgery",
   "metadata": {},
   "outputs": [],
   "source": [
    "celltype.predictions"
   ]
  },
  {
   "cell_type": "code",
   "execution_count": null,
   "id": "mobile-wedding",
   "metadata": {},
   "outputs": [],
   "source": [
    "# pbmc.atac$annotation_correct <- pbmc.atac$predicted.id == pbmc.atac$celltype.predictions"
   ]
  },
  {
   "cell_type": "code",
   "execution_count": null,
   "id": "micro-methodology",
   "metadata": {},
   "outputs": [],
   "source": [
    "p1 <- DimPlot(pbmc.atac, label.size=5 ,group.by = \"predicted.id\", label = TRUE)  + ggtitle(\"Predicted annotation\")"
   ]
  },
  {
   "cell_type": "code",
   "execution_count": null,
   "id": "norwegian-scientist",
   "metadata": {},
   "outputs": [],
   "source": [
    "p1"
   ]
  },
  {
   "cell_type": "code",
   "execution_count": null,
   "id": "attractive-demonstration",
   "metadata": {},
   "outputs": [],
   "source": [
    "p2 <- DimPlot(pbmc.atac, group.by = \"orig.ident\", label = FALSE) + NoLegend() + ggtitle(\"ATAC\")"
   ]
  },
  {
   "cell_type": "code",
   "execution_count": null,
   "id": "fiscal-glossary",
   "metadata": {},
   "outputs": [],
   "source": [
    "p2"
   ]
  },
  {
   "cell_type": "code",
   "execution_count": null,
   "id": "activated-portrait",
   "metadata": {},
   "outputs": [],
   "source": [
    "ggsave(filename = \"/SGRNJ06/randd/USER/cjj/celedev/atac/20231108scrna_atac/predicted_celltype.pdf\", height = 14, width = 24, plot = p1)"
   ]
  },
  {
   "cell_type": "code",
   "execution_count": null,
   "id": "english-concentrate",
   "metadata": {},
   "outputs": [],
   "source": [
    "ggsave(filename = \"/SGRNJ06/randd/USER/cjj/celedev/atac/20231108scrna_atac/atac.pdf\", height = 14, width = 24, plot = p2)"
   ]
  },
  {
   "cell_type": "code",
   "execution_count": null,
   "id": "tender-parallel",
   "metadata": {},
   "outputs": [],
   "source": []
  },
  {
   "cell_type": "code",
   "execution_count": null,
   "id": "unique-aluminum",
   "metadata": {},
   "outputs": [],
   "source": []
  },
  {
   "cell_type": "code",
   "execution_count": null,
   "id": "regional-chicago",
   "metadata": {},
   "outputs": [],
   "source": [
    "ggsave(filename = \"/SGRNJ06/randd/USER/cjj/celedev/atac/20231108scrna_atac/atac.pdf\", height = 14, width = 24, plot = p2)"
   ]
  },
  {
   "cell_type": "code",
   "execution_count": null,
   "id": "basic-sympathy",
   "metadata": {},
   "outputs": [],
   "source": []
  },
  {
   "cell_type": "code",
   "execution_count": null,
   "id": "derived-finland",
   "metadata": {},
   "outputs": [],
   "source": []
  },
  {
   "cell_type": "code",
   "execution_count": null,
   "id": "shaped-politics",
   "metadata": {},
   "outputs": [],
   "source": []
  },
  {
   "cell_type": "code",
   "execution_count": null,
   "id": "through-ethernet",
   "metadata": {},
   "outputs": [],
   "source": []
  },
  {
   "cell_type": "code",
   "execution_count": null,
   "id": "vanilla-compact",
   "metadata": {},
   "outputs": [],
   "source": [
    "p2 <- DimPlot(pbmc.atac, group.by = \"seurat_annotations\", label = TRUE) + NoLegend() + ggtitle(\"Ground-truth annotation\")"
   ]
  },
  {
   "cell_type": "code",
   "execution_count": null,
   "id": "welcome-consolidation",
   "metadata": {},
   "outputs": [],
   "source": [
    "p1 | p2"
   ]
  },
  {
   "cell_type": "code",
   "execution_count": null,
   "id": "advance-pharmaceutical",
   "metadata": {},
   "outputs": [],
   "source": [
    "predictions <- table(pbmc.atac$seurat_annotations, pbmc.atac$predicted.id)"
   ]
  },
  {
   "cell_type": "code",
   "execution_count": null,
   "id": "historic-intention",
   "metadata": {},
   "outputs": [],
   "source": [
    "predictions <- predictions/rowSums(predictions)  # normalize for number of cells in each cell type"
   ]
  },
  {
   "cell_type": "code",
   "execution_count": null,
   "id": "choice-fence",
   "metadata": {},
   "outputs": [],
   "source": [
    "predictions <- as.data.frame(predictions)"
   ]
  },
  {
   "cell_type": "code",
   "execution_count": null,
   "id": "animated-designer",
   "metadata": {},
   "outputs": [],
   "source": [
    "p1 <- ggplot(predictions, aes(Var1, Var2, fill = Freq)) + geom_tile() + scale_fill_gradient(name = \"Fraction of cells\",\n",
    "    low = \"#ffffc8\", high = \"#7d0025\") + xlab(\"Cell type annotation (RNA)\") + ylab(\"Predicted cell type label (ATAC)\") +\n",
    "    theme_cowplot() + theme(axis.text.x = element_text(angle = 90, vjust = 0.5, hjust = 1))"
   ]
  },
  {
   "cell_type": "code",
   "execution_count": null,
   "id": "answering-sending",
   "metadata": {},
   "outputs": [],
   "source": [
    "correct <- length(which(pbmc.atac$seurat_annotations == pbmc.atac$predicted.id))"
   ]
  },
  {
   "cell_type": "code",
   "execution_count": null,
   "id": "expired-springer",
   "metadata": {},
   "outputs": [],
   "source": [
    "incorrect <- length(which(pbmc.atac$seurat_annotations != pbmc.atac$predicted.id))"
   ]
  },
  {
   "cell_type": "code",
   "execution_count": null,
   "id": "killing-situation",
   "metadata": {},
   "outputs": [],
   "source": [
    "data <- FetchData(pbmc.atac, vars = c(\"prediction.score.max\", \"annotation_correct\"))"
   ]
  },
  {
   "cell_type": "code",
   "execution_count": null,
   "id": "tribal-trustee",
   "metadata": {},
   "outputs": [],
   "source": [
    "p2 <- ggplot(data, aes(prediction.score.max, fill = annotation_correct, colour = annotation_correct)) +\n",
    "    geom_density(alpha = 0.5) + theme_cowplot() + scale_fill_discrete(name = \"Annotation Correct\",\n",
    "    labels = c(paste0(\"FALSE (n = \", incorrect, \")\"), paste0(\"TRUE (n = \", correct, \")\"))) + scale_color_discrete(name = \"Annotation Correct\",\n",
    "    labels = c(paste0(\"FALSE (n = \", incorrect, \")\"), paste0(\"TRUE (n = \", correct, \")\"))) + xlab(\"Prediction Score\")"
   ]
  },
  {
   "cell_type": "code",
   "execution_count": null,
   "id": "moved-endorsement",
   "metadata": {},
   "outputs": [],
   "source": [
    "p1 + p2"
   ]
  },
  {
   "cell_type": "code",
   "execution_count": null,
   "id": "given-survival",
   "metadata": {},
   "outputs": [],
   "source": []
  },
  {
   "cell_type": "code",
   "execution_count": null,
   "id": "stone-albert",
   "metadata": {},
   "outputs": [],
   "source": [
    "# Co-embedding scRNA-seq and scATAC-seq datasets"
   ]
  },
  {
   "cell_type": "code",
   "execution_count": null,
   "id": "rising-taxation",
   "metadata": {},
   "outputs": [],
   "source": [
    "# note that we restrict the imputation to variable genes from scRNA-seq, but could impute the\n",
    "# full transcriptome if we wanted to\n",
    "genes.use <- VariableFeatures(pbmc.rna)\n",
    "refdata <- GetAssayData(pbmc.rna, assay = \"RNA\", slot = \"data\")[genes.use, ]\n",
    "\n",
    "# refdata (input) contains a scRNA-seq expression matrix for the scRNA-seq cells.  imputation\n",
    "# (output) will contain an imputed scRNA-seq matrix for each of the ATAC cells\n",
    "imputation <- TransferData(anchorset = transfer.anchors, refdata = refdata, weight.reduction = pbmc.atac[[\"lsi\"]],\n",
    "    dims = 2:30)"
   ]
  },
  {
   "cell_type": "code",
   "execution_count": null,
   "id": "scenic-tract",
   "metadata": {},
   "outputs": [],
   "source": [
    "pbmc.atac[[\"RNA\"]] <- imputation"
   ]
  },
  {
   "cell_type": "code",
   "execution_count": null,
   "id": "lonely-antarctica",
   "metadata": {},
   "outputs": [],
   "source": [
    "coembed <- merge(x = pbmc.rna, y = pbmc.atac)\n",
    "\n",
    "# Finally, we run PCA and UMAP on this combined object, to visualize the co-embedding of both\n",
    "# datasets\n",
    "coembed <- ScaleData(coembed, features = genes.use, do.scale = FALSE)\n",
    "coembed <- RunPCA(coembed, features = genes.use, verbose = FALSE)\n",
    "coembed <- RunUMAP(coembed, dims = 1:30)\n",
    "\n",
    "DimPlot(coembed, group.by = c(\"orig.ident\", \"seurat_annotations\"))"
   ]
  },
  {
   "cell_type": "code",
   "execution_count": null,
   "id": "remarkable-translator",
   "metadata": {},
   "outputs": [],
   "source": []
  },
  {
   "cell_type": "code",
   "execution_count": null,
   "id": "desperate-twist",
   "metadata": {},
   "outputs": [],
   "source": []
  }
 ],
 "metadata": {
  "kernelspec": {
   "display_name": "r4.1_env",
   "language": "R",
   "name": "r4.1_env"
  },
  "language_info": {
   "codemirror_mode": "r",
   "file_extension": ".r",
   "mimetype": "text/x-r-source",
   "name": "R",
   "pygments_lexer": "r",
   "version": "4.1.1"
  }
 },
 "nbformat": 4,
 "nbformat_minor": 5
}
